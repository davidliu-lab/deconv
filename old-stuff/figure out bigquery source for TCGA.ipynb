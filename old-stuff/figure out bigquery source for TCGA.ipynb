{
 "cells": [
  {
   "cell_type": "code",
   "execution_count": null,
   "id": "d5914b81-9761-44f5-935b-9b70e31187bc",
   "metadata": {},
   "outputs": [],
   "source": [
    "import logging\n",
    "\n",
    "handler = logging.StreamHandler() \n",
    "formatter = logging.Formatter(\"%(asctime)s - %(name)s - %(levelname)s - %(message)s\")\n",
    "handler.setFormatter(formatter)\n",
    "logging.getLogger().addHandler(handler)\n",
    "\n",
    "logging.getLogger(\"helpers\").setLevel(\"DEBUG\")\n",
    "logger = logging.getLogger(__name__)\n",
    "logger.setLevel(\"DEBUG\")"
   ]
  },
  {
   "cell_type": "code",
   "execution_count": null,
   "id": "fd8a4947-ebd3-458a-9c01-f49897733198",
   "metadata": {
    "tags": []
   },
   "outputs": [],
   "source": [
    "import pandas as pd"
   ]
  },
  {
   "cell_type": "code",
   "execution_count": null,
   "id": "97f43467-970b-49b5-aba0-c56abb3adb5e",
   "metadata": {},
   "outputs": [],
   "source": [
    "import pyarrow as pa\n",
    "import pyarrow.dataset as ds"
   ]
  },
  {
   "cell_type": "code",
   "execution_count": null,
   "id": "a52a2582-ad11-4423-9de0-377bc23ac766",
   "metadata": {},
   "outputs": [],
   "source": [
    "from google.cloud import bigquery"
   ]
  },
  {
   "cell_type": "code",
   "execution_count": null,
   "id": "840b901d-165c-423a-9690-52edead684a9",
   "metadata": {},
   "outputs": [],
   "source": [
    "client = bigquery.Client()"
   ]
  },
  {
   "cell_type": "code",
   "execution_count": null,
   "id": "92db2da7-e9c5-4bd8-b741-1ce1b3f75d09",
   "metadata": {
    "tags": []
   },
   "outputs": [],
   "source": [
    "query_string = \"\"\"\n",
    "SELECT\n",
    "    aliquot_barcode,\n",
    "    gene_name,\n",
    "    sum(HTSeq__FPKM) as HTSeq__FPKM_sum\n",
    "FROM `isb-cgc-bq.TCGA.RNAseq_hg38_gdc_current`\n",
    "WHERE\n",
    "    project_short_name = \"TCGA-SKCM\"\n",
    "    and gene_type = 'protein_coding'\n",
    "GROUP BY 1, 2\n",
    "\"\"\""
   ]
  },
  {
   "cell_type": "code",
   "execution_count": null,
   "id": "6e8e8c87-32e3-43a1-a7b1-1a34f1356ead",
   "metadata": {
    "tags": []
   },
   "outputs": [],
   "source": [
    "query_job = client.query(query_string)"
   ]
  },
  {
   "cell_type": "code",
   "execution_count": null,
   "id": "61a20614-73e1-47d6-a93d-cc95a8be8cd3",
   "metadata": {
    "tags": []
   },
   "outputs": [],
   "source": [
    "df = query_job.to_dataframe(progress_bar_type=\"tqdm\")\n",
    "# .to_arrow(progress_bar_type=\"tqdm\")\\\n",
    "# .to_pandas(\n",
    "#     strings_to_categorical=True,\n",
    "#     self_destruct=True\n",
    "# )"
   ]
  },
  {
   "cell_type": "code",
   "execution_count": null,
   "id": "5e627313-e897-4ac3-bf75-7fb46c2e7701",
   "metadata": {
    "tags": []
   },
   "outputs": [],
   "source": [
    "df.info()"
   ]
  },
  {
   "cell_type": "code",
   "execution_count": null,
   "id": "06db0ee4-310f-4aec-97d7-aeeb8cd8e152",
   "metadata": {
    "tags": []
   },
   "outputs": [],
   "source": [
    "df.head()"
   ]
  },
  {
   "cell_type": "code",
   "execution_count": null,
   "id": "9509a49a-3b61-4e7f-bc78-9c7a7a022980",
   "metadata": {
    "tags": []
   },
   "outputs": [],
   "source": [
    "df_1 = df.pivot(index=\"gene_name\", columns=\"aliquot_barcode\", values=\"HTSeq__FPKM_sum\")"
   ]
  },
  {
   "cell_type": "code",
   "execution_count": null,
   "id": "6e8848d7-6d4a-42f6-8b32-48ffd95aae0a",
   "metadata": {
    "tags": []
   },
   "outputs": [],
   "source": [
    "df_1.head()"
   ]
  },
  {
   "cell_type": "code",
   "execution_count": null,
   "id": "6271baf8-b07e-41ce-8df0-392a89bb9e2a",
   "metadata": {
    "tags": []
   },
   "outputs": [],
   "source": [
    "df[df[\"gene_name\"] == \"SMIM11\"].set_index([\"aliquot_barcode\", \"gene_name\", \"Ensembl_gene_id\"])[[\"HTSeq__FPKM\"]].sort_index().head(30)"
   ]
  },
  {
   "cell_type": "code",
   "execution_count": null,
   "id": "5f6669d2-3a17-4a19-807c-db2bf2589822",
   "metadata": {
    "tags": []
   },
   "outputs": [],
   "source": [
    "df_piv = df.(\n",
    "    index=[\"gene_name\", \"Ensembl_gene_id_v\"],\n",
    "    columns=\"aliquot_barcode\",\n",
    "    values=\"HTSeq__FPKM\",\n",
    ")"
   ]
  },
  {
   "cell_type": "code",
   "execution_count": null,
   "id": "04a2a69e-5a94-47cc-ba30-79be35723ea8",
   "metadata": {
    "tags": []
   },
   "outputs": [],
   "source": [
    "df_piv[\"TCGA-3N-A9WB-06A-11R-A38C-07\"]."
   ]
  },
  {
   "cell_type": "code",
   "execution_count": null,
   "id": "d98b5e55-e841-4672-8851-b7ba1cf1343b",
   "metadata": {
    "tags": []
   },
   "outputs": [],
   "source": [
    "(df[df[\"gene_name\"] == \"SMIM11\"]).groupby(\"Ensembl_gene_id_v\")[\"HTSeq__FPKM\"]\\\n",
    ".aggregate(count=len, zero_frac=lambda x: (x == 0).mean()).sort_values(by=\"count\")"
   ]
  },
  {
   "cell_type": "code",
   "execution_count": null,
   "id": "7291fc2e-7d5d-4bd3-ae28-e6b53dc7066b",
   "metadata": {
    "tags": []
   },
   "outputs": [],
   "source": [
    "_ = df.groupby([\"gene_name\"])[\"Ensembl_gene_id_v\"].agg(\"count\")\n",
    "_[_ > 472].sort_values()"
   ]
  },
  {
   "cell_type": "code",
   "execution_count": null,
   "id": "33b40ee5-aed6-4671-bc05-614d8bc4982b",
   "metadata": {
    "tags": []
   },
   "outputs": [],
   "source": [
    "# df[df[\"gene\"name\" ]\\\n",
    "# .groupby([\"aliquot_barcode\", \"gene_name\"])\\\n",
    "# [\"HTSeq__FPKM\"]\\\n",
    "# .agg(\"count\")\\\n",
    "# .sort_values(ascending=False)\\\n",
    "# .head(50)"
   ]
  },
  {
   "cell_type": "code",
   "execution_count": null,
   "id": "033f93a1-4455-45d2-99b5-2bad11e97789",
   "metadata": {
    "tags": []
   },
   "outputs": [],
   "source": [
    "df.head(30000).set_index([\"aliquot_barcode\", \"gene_name\"])"
   ]
  },
  {
   "cell_type": "code",
   "execution_count": null,
   "id": "df527d8e-efde-4af4-ab76-4665a4bf08bd",
   "metadata": {
    "tags": []
   },
   "outputs": [],
   "source": [
    "df_2 = query_job.to_dataframe(progress_bar_type=\"tqdm\")"
   ]
  },
  {
   "cell_type": "code",
   "execution_count": null,
   "id": "6659a40a-70c1-4bd8-9b6e-e00767bcc4f7",
   "metadata": {
    "tags": []
   },
   "outputs": [],
   "source": [
    "df_2.info()"
   ]
  },
  {
   "cell_type": "code",
   "execution_count": null,
   "id": "a2854460-7652-4d26-ae7b-c1954523c474",
   "metadata": {},
   "outputs": [],
   "source": [
    "df.info()"
   ]
  },
  {
   "cell_type": "code",
   "execution_count": 1,
   "id": "8a9cdaef-6944-4d6d-8f2e-6a86bbead4b1",
   "metadata": {
    "execution": {
     "iopub.execute_input": "2022-03-25T20:05:31.603200Z",
     "iopub.status.busy": "2022-03-25T20:05:31.602918Z",
     "iopub.status.idle": "2022-03-25T20:05:31.636419Z",
     "shell.execute_reply": "2022-03-25T20:05:31.635789Z",
     "shell.execute_reply.started": "2022-03-25T20:05:31.603111Z"
    },
    "tags": []
   },
   "outputs": [],
   "source": [
    "import importlib\n",
    "\n",
    "import helpers"
   ]
  },
  {
   "cell_type": "code",
   "execution_count": 2,
   "id": "b5adf89d-1b4c-44d3-81c1-08b891801e82",
   "metadata": {
    "execution": {
     "iopub.execute_input": "2022-03-25T20:05:35.385058Z",
     "iopub.status.busy": "2022-03-25T20:05:35.384767Z",
     "iopub.status.idle": "2022-03-25T20:05:35.392386Z",
     "shell.execute_reply": "2022-03-25T20:05:35.391645Z",
     "shell.execute_reply.started": "2022-03-25T20:05:35.385032Z"
    }
   },
   "outputs": [
    {
     "data": {
      "text/plain": [
       "<module 'helpers' from '/home/jupyter/deconv/helpers/__init__.py'>"
      ]
     },
     "execution_count": 2,
     "metadata": {},
     "output_type": "execute_result"
    }
   ],
   "source": [
    "importlib.reload(helpers)"
   ]
  },
  {
   "cell_type": "code",
   "execution_count": 3,
   "id": "fc18cead-3d34-48d6-bf56-5f38d6496aee",
   "metadata": {
    "execution": {
     "iopub.execute_input": "2022-03-25T20:05:37.071794Z",
     "iopub.status.busy": "2022-03-25T20:05:37.071435Z",
     "iopub.status.idle": "2022-03-25T20:06:01.086844Z",
     "shell.execute_reply": "2022-03-25T20:06:01.086240Z",
     "shell.execute_reply.started": "2022-03-25T20:05:37.071755Z"
    }
   },
   "outputs": [
    {
     "name": "stderr",
     "output_type": "stream",
     "text": [
      "Query complete after 11.64s: 100%|██████████| 1/1 [00:11<00:00, 11.55s/query]                                  \n",
      "Downloading: 100%|██████████| 9304064/9304064 [00:04<00:00, 2300628.10rows/s]\n"
     ]
    }
   ],
   "source": [
    "df_3 = helpers.datasets.load_tcga_skcm_bigquery()"
   ]
  },
  {
   "cell_type": "code",
   "execution_count": 5,
   "id": "75a72f27-cd7f-46f9-a9db-9979605c075d",
   "metadata": {
    "execution": {
     "iopub.execute_input": "2022-03-25T20:06:15.667723Z",
     "iopub.status.busy": "2022-03-25T20:06:15.667304Z",
     "iopub.status.idle": "2022-03-25T20:06:15.673020Z",
     "shell.execute_reply": "2022-03-25T20:06:15.672445Z",
     "shell.execute_reply.started": "2022-03-25T20:06:15.667684Z"
    },
    "tags": []
   },
   "outputs": [
    {
     "data": {
      "text/plain": [
       "(19712, 472)"
      ]
     },
     "execution_count": 5,
     "metadata": {},
     "output_type": "execute_result"
    }
   ],
   "source": [
    "df_3.shape"
   ]
  },
  {
   "cell_type": "code",
   "execution_count": null,
   "id": "b762465e-e7b3-4bbe-8e49-7de2fdb3f5ba",
   "metadata": {},
   "outputs": [],
   "source": []
  }
 ],
 "metadata": {
  "environment": {
   "kernel": "conda-env-deconv-py",
   "name": "common-cpu.m84",
   "type": "gcloud",
   "uri": "gcr.io/deeplearning-platform-release/base-cpu:m84"
  },
  "kernelspec": {
   "display_name": "Python [conda env:deconv]",
   "language": "python",
   "name": "conda-env-deconv-py"
  },
  "language_info": {
   "codemirror_mode": {
    "name": "ipython",
    "version": 3
   },
   "file_extension": ".py",
   "mimetype": "text/x-python",
   "name": "python",
   "nbconvert_exporter": "python",
   "pygments_lexer": "ipython3",
   "version": "3.10.2"
  }
 },
 "nbformat": 4,
 "nbformat_minor": 5
}
