{
 "cells": [
  {
   "cell_type": "markdown",
   "id": "21396ab7-854a-4052-bc93-522f19c357fe",
   "metadata": {
    "execution": {
     "iopub.execute_input": "2022-03-01T20:37:47.775988Z",
     "iopub.status.busy": "2022-03-01T20:37:47.775621Z",
     "iopub.status.idle": "2022-03-01T20:37:47.779148Z",
     "shell.execute_reply": "2022-03-01T20:37:47.778664Z",
     "shell.execute_reply.started": "2022-03-01T20:37:47.775922Z"
    }
   },
   "source": [
    "# check genes for low expression"
   ]
  },
  {
   "cell_type": "code",
   "execution_count": 1,
   "id": "0560c014-4f74-471f-a65c-e8982ecc31e2",
   "metadata": {
    "execution": {
     "iopub.execute_input": "2022-03-01T22:27:17.806653Z",
     "iopub.status.busy": "2022-03-01T22:27:17.806322Z",
     "iopub.status.idle": "2022-03-01T22:27:17.815524Z",
     "shell.execute_reply": "2022-03-01T22:27:17.814955Z",
     "shell.execute_reply.started": "2022-03-01T22:27:17.806585Z"
    },
    "tags": []
   },
   "outputs": [],
   "source": [
    "import numpy as np\n",
    "import pandas as pd\n",
    "\n",
    "import helpers"
   ]
  },
  {
   "cell_type": "code",
   "execution_count": 15,
   "id": "e63d1111-4227-4fc9-a7e1-0bf0329deb5f",
   "metadata": {
    "execution": {
     "iopub.execute_input": "2022-03-01T22:36:17.878601Z",
     "iopub.status.busy": "2022-03-01T22:36:17.878306Z",
     "iopub.status.idle": "2022-03-01T22:36:18.420937Z",
     "shell.execute_reply": "2022-03-01T22:36:18.420286Z",
     "shell.execute_reply.started": "2022-03-01T22:36:17.878577Z"
    },
    "tags": []
   },
   "outputs": [],
   "source": [
    "import plotly.express as px\n",
    "import plotly.figure_factory as ff\n",
    "import plotly.graph_objects as go\n",
    "import plotly.io\n",
    "\n",
    "plotly.io.renderers.default = \"jupyterlab+png\""
   ]
  },
  {
   "cell_type": "code",
   "execution_count": 2,
   "id": "104b0774-2a5a-45dc-b1d5-07ad612c0ebf",
   "metadata": {
    "execution": {
     "iopub.execute_input": "2022-03-01T22:27:17.816970Z",
     "iopub.status.busy": "2022-03-01T22:27:17.816615Z",
     "iopub.status.idle": "2022-03-01T22:27:17.819988Z",
     "shell.execute_reply": "2022-03-01T22:27:17.819536Z",
     "shell.execute_reply.started": "2022-03-01T22:27:17.816941Z"
    }
   },
   "outputs": [],
   "source": [
    "rng = np.random.default_rng(seed=0)"
   ]
  },
  {
   "cell_type": "code",
   "execution_count": 3,
   "id": "4ef8b3a1-7850-4b9a-8a67-f50b891a1091",
   "metadata": {
    "execution": {
     "iopub.execute_input": "2022-03-01T22:27:17.821198Z",
     "iopub.status.busy": "2022-03-01T22:27:17.820932Z",
     "iopub.status.idle": "2022-03-01T22:27:20.549884Z",
     "shell.execute_reply": "2022-03-01T22:27:20.549321Z",
     "shell.execute_reply.started": "2022-03-01T22:27:17.821169Z"
    }
   },
   "outputs": [],
   "source": [
    "mixtures_tcga_skcm = helpers.datasets.load_tcga_skcm()"
   ]
  },
  {
   "cell_type": "code",
   "execution_count": 43,
   "id": "409f605a-0d9c-40d7-bd87-27952c53ea49",
   "metadata": {
    "execution": {
     "iopub.execute_input": "2022-03-01T22:51:02.814293Z",
     "iopub.status.busy": "2022-03-01T22:51:02.813642Z",
     "iopub.status.idle": "2022-03-01T22:51:02.837492Z",
     "shell.execute_reply": "2022-03-01T22:51:02.836973Z",
     "shell.execute_reply.started": "2022-03-01T22:51:02.814254Z"
    },
    "tags": []
   },
   "outputs": [
    {
     "data": {
      "text/plain": [
       "count    20531.000000\n",
       "mean         0.162147\n",
       "std          0.309027\n",
       "min          0.000000\n",
       "0%           0.000000\n",
       "10%          0.000000\n",
       "20%          0.000000\n",
       "30%          0.000000\n",
       "40%          0.000000\n",
       "50%          0.000000\n",
       "60%          0.002114\n",
       "70%          0.031712\n",
       "80%          0.298097\n",
       "90%          0.790698\n",
       "max          1.000000\n",
       "dtype: float64"
      ]
     },
     "execution_count": 43,
     "metadata": {},
     "output_type": "execute_result"
    }
   ],
   "source": [
    "(mixtures_tcga_skcm == 0).mean(axis=1).describe(percentiles=np.arange(0, 1, 0.1))"
   ]
  },
  {
   "cell_type": "code",
   "execution_count": null,
   "id": "63cc7e7f-46f1-4372-a287-e442066e5720",
   "metadata": {
    "execution": {
     "iopub.execute_input": "2022-03-01T22:53:34.816560Z",
     "iopub.status.busy": "2022-03-01T22:53:34.816213Z"
    },
    "tags": []
   },
   "outputs": [],
   "source": [
    "px.ecdf(\n",
    "    (mixtures_tcga_skcm == 0)\n",
    "    .mean(axis=1)\n",
    "    .rename(\"fraction of samples with zero expression for a gene\")\n",
    ")"
   ]
  },
  {
   "cell_type": "code",
   "execution_count": 29,
   "id": "7b442378-2b13-4d18-be2a-e292ccda6137",
   "metadata": {
    "execution": {
     "iopub.execute_input": "2022-03-01T22:44:39.011775Z",
     "iopub.status.busy": "2022-03-01T22:44:39.011435Z",
     "iopub.status.idle": "2022-03-01T22:44:39.032105Z",
     "shell.execute_reply": "2022-03-01T22:44:39.031402Z",
     "shell.execute_reply.started": "2022-03-01T22:44:39.011749Z"
    },
    "tags": []
   },
   "outputs": [
    {
     "data": {
      "text/plain": [
       "gene_symbol\n",
       "A1BG         0.000000\n",
       "A1CF         0.877378\n",
       "A2BP1        0.663848\n",
       "A2LD1        0.000000\n",
       "A2M          0.000000\n",
       "               ...   \n",
       "ZYX          0.000000\n",
       "ZZEF1        0.000000\n",
       "ZZZ3         0.000000\n",
       "psiTPTE22    0.008457\n",
       "tAKR         0.915433\n",
       "Length: 20531, dtype: float64"
      ]
     },
     "execution_count": 29,
     "metadata": {},
     "output_type": "execute_result"
    }
   ],
   "source": [
    "(mixtures_tcga_skcm < 0.001).mean(axis=1)"
   ]
  },
  {
   "cell_type": "code",
   "execution_count": 30,
   "id": "b03b4443-03ea-4c50-96eb-f35fad4b3b15",
   "metadata": {
    "execution": {
     "iopub.execute_input": "2022-03-01T22:44:40.415525Z",
     "iopub.status.busy": "2022-03-01T22:44:40.415240Z",
     "iopub.status.idle": "2022-03-01T22:44:40.437561Z",
     "shell.execute_reply": "2022-03-01T22:44:40.436863Z",
     "shell.execute_reply.started": "2022-03-01T22:44:40.415501Z"
    },
    "tags": []
   },
   "outputs": [
    {
     "data": {
      "text/plain": [
       "count    20531.000000\n",
       "mean         0.162147\n",
       "std          0.309027\n",
       "min          0.000000\n",
       "0%           0.000000\n",
       "10%          0.000000\n",
       "20%          0.000000\n",
       "30%          0.000000\n",
       "40%          0.000000\n",
       "50%          0.000000\n",
       "60%          0.002114\n",
       "70%          0.031712\n",
       "80%          0.298097\n",
       "90%          0.790698\n",
       "max          1.000000\n",
       "dtype: float64"
      ]
     },
     "execution_count": 30,
     "metadata": {},
     "output_type": "execute_result"
    }
   ],
   "source": [
    "(mixtures_tcga_skcm < 0.001).mean(axis=1).describe(percentiles=np.arange(0, 1, .1))"
   ]
  },
  {
   "cell_type": "code",
   "execution_count": 4,
   "id": "29512a52-4ad6-4c5f-bb38-44596a7f7c99",
   "metadata": {
    "execution": {
     "iopub.execute_input": "2022-03-01T22:27:20.551280Z",
     "iopub.status.busy": "2022-03-01T22:27:20.550820Z",
     "iopub.status.idle": "2022-03-01T22:27:59.678763Z",
     "shell.execute_reply": "2022-03-01T22:27:59.678234Z",
     "shell.execute_reply.started": "2022-03-01T22:27:20.551246Z"
    },
    "tags": []
   },
   "outputs": [],
   "source": [
    "sc_data, sc_metadata = helpers.datasets.load_jerby_arnon()"
   ]
  },
  {
   "cell_type": "code",
   "execution_count": 6,
   "id": "91ca588a-20f0-4760-8140-69fe899f7374",
   "metadata": {
    "execution": {
     "iopub.execute_input": "2022-03-01T22:27:59.695255Z",
     "iopub.status.busy": "2022-03-01T22:27:59.695115Z",
     "iopub.status.idle": "2022-03-01T22:27:59.973213Z",
     "shell.execute_reply": "2022-03-01T22:27:59.972750Z",
     "shell.execute_reply.started": "2022-03-01T22:27:59.695239Z"
    },
    "tags": []
   },
   "outputs": [],
   "source": [
    "fractions = helpers.datasets.load_tcga_skcm_fractions_from_csx()"
   ]
  },
  {
   "cell_type": "code",
   "execution_count": 10,
   "id": "4eb0cdfe-1d4c-4bf2-9557-77468bc909c5",
   "metadata": {
    "execution": {
     "iopub.execute_input": "2022-03-01T22:35:50.215303Z",
     "iopub.status.busy": "2022-03-01T22:35:50.214931Z",
     "iopub.status.idle": "2022-03-01T22:36:06.398021Z",
     "shell.execute_reply": "2022-03-01T22:36:06.397558Z",
     "shell.execute_reply.started": "2022-03-01T22:35:50.215271Z"
    },
    "tags": []
   },
   "outputs": [],
   "source": [
    "mixtures_in_silico, cell_type_geps = helpers.creating_mixtures.make_mixtures(\n",
    "    sc_data, sc_metadata, fractions, n_cells_per_gep=5, normalization_factor=1_000_000, rng=rng\n",
    ")"
   ]
  },
  {
   "cell_type": "code",
   "execution_count": 11,
   "id": "d717e23f-e3a2-4225-a2b7-819f3d76234f",
   "metadata": {
    "execution": {
     "iopub.execute_input": "2022-03-01T22:36:06.399584Z",
     "iopub.status.busy": "2022-03-01T22:36:06.399233Z",
     "iopub.status.idle": "2022-03-01T22:36:06.443257Z",
     "shell.execute_reply": "2022-03-01T22:36:06.442670Z",
     "shell.execute_reply.started": "2022-03-01T22:36:06.399552Z"
    },
    "tags": []
   },
   "outputs": [
    {
     "data": {
      "text/html": [
       "<div>\n",
       "<style scoped>\n",
       "    .dataframe tbody tr th:only-of-type {\n",
       "        vertical-align: middle;\n",
       "    }\n",
       "\n",
       "    .dataframe tbody tr th {\n",
       "        vertical-align: top;\n",
       "    }\n",
       "\n",
       "    .dataframe thead th {\n",
       "        text-align: right;\n",
       "    }\n",
       "</style>\n",
       "<table border=\"1\" class=\"dataframe\">\n",
       "  <thead>\n",
       "    <tr style=\"text-align: right;\">\n",
       "      <th></th>\n",
       "      <th>B</th>\n",
       "      <th>CAF</th>\n",
       "      <th>Endothelial</th>\n",
       "      <th>Macrophage</th>\n",
       "      <th>Malignant</th>\n",
       "      <th>NK</th>\n",
       "      <th>T</th>\n",
       "      <th>T CD4</th>\n",
       "      <th>T CD8</th>\n",
       "    </tr>\n",
       "    <tr>\n",
       "      <th>gene_symbol</th>\n",
       "      <th></th>\n",
       "      <th></th>\n",
       "      <th></th>\n",
       "      <th></th>\n",
       "      <th></th>\n",
       "      <th></th>\n",
       "      <th></th>\n",
       "      <th></th>\n",
       "      <th></th>\n",
       "    </tr>\n",
       "  </thead>\n",
       "  <tbody>\n",
       "    <tr>\n",
       "      <th>A1BG</th>\n",
       "      <td>15.625885</td>\n",
       "      <td>0.000000</td>\n",
       "      <td>43.995926</td>\n",
       "      <td>31.118817</td>\n",
       "      <td>0.000000</td>\n",
       "      <td>0.000000</td>\n",
       "      <td>0.000000</td>\n",
       "      <td>29.925746</td>\n",
       "      <td>0.000000</td>\n",
       "    </tr>\n",
       "    <tr>\n",
       "      <th>A1BG-AS1</th>\n",
       "      <td>0.000000</td>\n",
       "      <td>54.391390</td>\n",
       "      <td>0.000000</td>\n",
       "      <td>0.000000</td>\n",
       "      <td>0.000000</td>\n",
       "      <td>0.000000</td>\n",
       "      <td>96.002511</td>\n",
       "      <td>14.645853</td>\n",
       "      <td>0.000000</td>\n",
       "    </tr>\n",
       "    <tr>\n",
       "      <th>A1CF</th>\n",
       "      <td>0.000000</td>\n",
       "      <td>3.312319</td>\n",
       "      <td>0.957040</td>\n",
       "      <td>0.538598</td>\n",
       "      <td>0.124960</td>\n",
       "      <td>0.842519</td>\n",
       "      <td>2.042522</td>\n",
       "      <td>8.863666</td>\n",
       "      <td>6.111179</td>\n",
       "    </tr>\n",
       "    <tr>\n",
       "      <th>A2M</th>\n",
       "      <td>0.000000</td>\n",
       "      <td>286.221243</td>\n",
       "      <td>490.464748</td>\n",
       "      <td>200.024899</td>\n",
       "      <td>0.000000</td>\n",
       "      <td>11.626452</td>\n",
       "      <td>24.857150</td>\n",
       "      <td>27.978926</td>\n",
       "      <td>23.711317</td>\n",
       "    </tr>\n",
       "    <tr>\n",
       "      <th>A2M-AS1</th>\n",
       "      <td>0.000000</td>\n",
       "      <td>98.449251</td>\n",
       "      <td>13.190181</td>\n",
       "      <td>0.000000</td>\n",
       "      <td>0.000000</td>\n",
       "      <td>0.000000</td>\n",
       "      <td>0.000000</td>\n",
       "      <td>9.731150</td>\n",
       "      <td>148.170215</td>\n",
       "    </tr>\n",
       "    <tr>\n",
       "      <th>...</th>\n",
       "      <td>...</td>\n",
       "      <td>...</td>\n",
       "      <td>...</td>\n",
       "      <td>...</td>\n",
       "      <td>...</td>\n",
       "      <td>...</td>\n",
       "      <td>...</td>\n",
       "      <td>...</td>\n",
       "      <td>...</td>\n",
       "    </tr>\n",
       "    <tr>\n",
       "      <th>ZYG11A</th>\n",
       "      <td>92.605287</td>\n",
       "      <td>65.486560</td>\n",
       "      <td>67.722318</td>\n",
       "      <td>58.179899</td>\n",
       "      <td>1.912425</td>\n",
       "      <td>108.462343</td>\n",
       "      <td>178.013357</td>\n",
       "      <td>65.282202</td>\n",
       "      <td>140.111440</td>\n",
       "    </tr>\n",
       "    <tr>\n",
       "      <th>ZYG11B</th>\n",
       "      <td>149.201356</td>\n",
       "      <td>42.661922</td>\n",
       "      <td>104.303165</td>\n",
       "      <td>23.279210</td>\n",
       "      <td>49.201710</td>\n",
       "      <td>73.502338</td>\n",
       "      <td>87.912185</td>\n",
       "      <td>132.987633</td>\n",
       "      <td>143.319499</td>\n",
       "    </tr>\n",
       "    <tr>\n",
       "      <th>ZYX</th>\n",
       "      <td>46.003461</td>\n",
       "      <td>189.698043</td>\n",
       "      <td>106.309485</td>\n",
       "      <td>285.888222</td>\n",
       "      <td>249.993650</td>\n",
       "      <td>218.910734</td>\n",
       "      <td>114.909084</td>\n",
       "      <td>120.965320</td>\n",
       "      <td>192.637144</td>\n",
       "    </tr>\n",
       "    <tr>\n",
       "      <th>ZZEF1</th>\n",
       "      <td>68.799376</td>\n",
       "      <td>45.320764</td>\n",
       "      <td>48.276717</td>\n",
       "      <td>60.630792</td>\n",
       "      <td>0.000000</td>\n",
       "      <td>89.579202</td>\n",
       "      <td>104.747735</td>\n",
       "      <td>5.505475</td>\n",
       "      <td>207.983629</td>\n",
       "    </tr>\n",
       "    <tr>\n",
       "      <th>ZZZ3</th>\n",
       "      <td>0.000000</td>\n",
       "      <td>0.000000</td>\n",
       "      <td>0.000000</td>\n",
       "      <td>25.055470</td>\n",
       "      <td>0.000000</td>\n",
       "      <td>0.000000</td>\n",
       "      <td>0.000000</td>\n",
       "      <td>0.000000</td>\n",
       "      <td>222.490662</td>\n",
       "    </tr>\n",
       "  </tbody>\n",
       "</table>\n",
       "<p>23686 rows × 9 columns</p>\n",
       "</div>"
      ],
      "text/plain": [
       "                      B         CAF  Endothelial  Macrophage   Malignant  \\\n",
       "gene_symbol                                                                \n",
       "A1BG          15.625885    0.000000    43.995926   31.118817    0.000000   \n",
       "A1BG-AS1       0.000000   54.391390     0.000000    0.000000    0.000000   \n",
       "A1CF           0.000000    3.312319     0.957040    0.538598    0.124960   \n",
       "A2M            0.000000  286.221243   490.464748  200.024899    0.000000   \n",
       "A2M-AS1        0.000000   98.449251    13.190181    0.000000    0.000000   \n",
       "...                 ...         ...          ...         ...         ...   \n",
       "ZYG11A        92.605287   65.486560    67.722318   58.179899    1.912425   \n",
       "ZYG11B       149.201356   42.661922   104.303165   23.279210   49.201710   \n",
       "ZYX           46.003461  189.698043   106.309485  285.888222  249.993650   \n",
       "ZZEF1         68.799376   45.320764    48.276717   60.630792    0.000000   \n",
       "ZZZ3           0.000000    0.000000     0.000000   25.055470    0.000000   \n",
       "\n",
       "                     NK           T       T CD4       T CD8  \n",
       "gene_symbol                                                  \n",
       "A1BG           0.000000    0.000000   29.925746    0.000000  \n",
       "A1BG-AS1       0.000000   96.002511   14.645853    0.000000  \n",
       "A1CF           0.842519    2.042522    8.863666    6.111179  \n",
       "A2M           11.626452   24.857150   27.978926   23.711317  \n",
       "A2M-AS1        0.000000    0.000000    9.731150  148.170215  \n",
       "...                 ...         ...         ...         ...  \n",
       "ZYG11A       108.462343  178.013357   65.282202  140.111440  \n",
       "ZYG11B        73.502338   87.912185  132.987633  143.319499  \n",
       "ZYX          218.910734  114.909084  120.965320  192.637144  \n",
       "ZZEF1         89.579202  104.747735    5.505475  207.983629  \n",
       "ZZZ3           0.000000    0.000000    0.000000  222.490662  \n",
       "\n",
       "[23686 rows x 9 columns]"
      ]
     },
     "execution_count": 11,
     "metadata": {},
     "output_type": "execute_result"
    }
   ],
   "source": [
    "helpers.creating_mixtures.make_cell_type_geps(sc_data,\n",
    "    sc_metadata,\n",
    "    rng=rng)"
   ]
  },
  {
   "cell_type": "code",
   "execution_count": 12,
   "id": "07c19025-16b6-453f-9ba1-1243dba163ca",
   "metadata": {
    "execution": {
     "iopub.execute_input": "2022-03-01T22:36:06.444313Z",
     "iopub.status.busy": "2022-03-01T22:36:06.444096Z",
     "iopub.status.idle": "2022-03-01T22:36:06.448195Z",
     "shell.execute_reply": "2022-03-01T22:36:06.447766Z",
     "shell.execute_reply.started": "2022-03-01T22:36:06.444294Z"
    },
    "tags": []
   },
   "outputs": [],
   "source": [
    "from helpers import columns"
   ]
  },
  {
   "cell_type": "code",
   "execution_count": 13,
   "id": "7f020db8-08e9-4789-b35b-dde5a7f65647",
   "metadata": {
    "execution": {
     "iopub.execute_input": "2022-03-01T22:36:06.449545Z",
     "iopub.status.busy": "2022-03-01T22:36:06.449080Z",
     "iopub.status.idle": "2022-03-01T22:36:06.469094Z",
     "shell.execute_reply": "2022-03-01T22:36:06.468584Z",
     "shell.execute_reply.started": "2022-03-01T22:36:06.449524Z"
    },
    "tags": []
   },
   "outputs": [
    {
     "data": {
      "text/plain": [
       "single_cell_id\n",
       "CY106_CD45neg_CD90neg_10cells_S289          NaN\n",
       "CY106_CD45neg_CD90neg_S291            Malignant\n",
       "CY106_CD45neg_CD90neg_S292            Malignant\n",
       "CY106_CD45neg_CD90neg_S294            Malignant\n",
       "CY106_CD45neg_CD90neg_S297            Malignant\n",
       "                                        ...    \n",
       "monika_F5_S148_comb_BCD8_3                T CD8\n",
       "monika_F6_S149_comb_BCD8_3                T CD8\n",
       "monika_F7_S150_comb_BCD8_3                T CD8\n",
       "monika_F8_S151_comb_BCD8_3                T CD8\n",
       "monika_F9_S152_comb_BCD8_3                T CD8\n",
       "Name: cell_type, Length: 7186, dtype: object"
      ]
     },
     "execution_count": 13,
     "metadata": {},
     "output_type": "execute_result"
    }
   ],
   "source": [
    "sc_metadata[columns.CELL_TYPE]"
   ]
  },
  {
   "cell_type": "code",
   "execution_count": null,
   "id": "9d2f2d73-9abf-468e-9041-95fe8bb4a12a",
   "metadata": {},
   "outputs": [],
   "source": []
  }
 ],
 "metadata": {
  "environment": {
   "kernel": "conda-env-py39-py",
   "name": "common-cpu.m84",
   "type": "gcloud",
   "uri": "gcr.io/deeplearning-platform-release/base-cpu:m84"
  },
  "kernelspec": {
   "display_name": "Python [conda env:py39]",
   "language": "python",
   "name": "conda-env-py39-py"
  },
  "language_info": {
   "codemirror_mode": {
    "name": "ipython",
    "version": 3
   },
   "file_extension": ".py",
   "mimetype": "text/x-python",
   "name": "python",
   "nbconvert_exporter": "python",
   "pygments_lexer": "ipython3",
   "version": "3.9.0"
  }
 },
 "nbformat": 4,
 "nbformat_minor": 5
}
