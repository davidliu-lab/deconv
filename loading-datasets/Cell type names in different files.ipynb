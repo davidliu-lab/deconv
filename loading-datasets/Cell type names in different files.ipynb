{
 "cells": [
  {
   "cell_type": "code",
   "execution_count": 1,
   "id": "eec61f80-6002-40bb-b4bb-ab7ca5a1164e",
   "metadata": {},
   "outputs": [],
   "source": [
    "import pandas as pd"
   ]
  },
  {
   "cell_type": "markdown",
   "id": "c62b5aef-e069-4269-bf8a-3359c3d6d6ce",
   "metadata": {},
   "source": [
    "### from `GSE115978_cell.annotations.csv`"
   ]
  },
  {
   "cell_type": "code",
   "execution_count": 15,
   "id": "d67868b4-6c68-4a48-bf39-36b031210fcc",
   "metadata": {},
   "outputs": [
    {
     "data": {
      "text/plain": [
       "['Mal',\n",
       " 'Macrophage',\n",
       " '?',\n",
       " 'Endo.',\n",
       " 'T.CD4',\n",
       " 'CAF',\n",
       " 'T.CD8',\n",
       " 'T.cell',\n",
       " 'NK',\n",
       " 'B.cell']"
      ]
     },
     "execution_count": 15,
     "metadata": {},
     "output_type": "execute_result"
    }
   ],
   "source": [
    "sc_annotations = pd.read_csv(\"gs://liulab/ftp/GSE115978/GSE115978_cell.annotations.csv\")\n",
    "cell_type_names_annotations = list(dict.fromkeys(sc_annotations[\"cell.types\"]))\n",
    "# cell_type_names_annotations.remove(\"?\")\n",
    "cell_type_names_annotations"
   ]
  },
  {
   "cell_type": "markdown",
   "id": "5c12b833-127e-49bc-a6a5-f4a197cb8d44",
   "metadata": {},
   "source": [
    "### from `scRNA-Seq_reference_melanoma_Tirosh_SuppFig_3b-d.txt`"
   ]
  },
  {
   "cell_type": "code",
   "execution_count": 13,
   "id": "13414d48-417e-4d75-be3d-58cbab0ecd04",
   "metadata": {},
   "outputs": [
    {
     "data": {
      "text/plain": [
       "['Malignant',\n",
       " 'Endothelial cells',\n",
       " 'CAF',\n",
       " 'T cells CD8',\n",
       " 'NK cells',\n",
       " 'Macrophages',\n",
       " 'T cells CD4',\n",
       " 'B cells']"
      ]
     },
     "execution_count": 13,
     "metadata": {},
     "output_type": "execute_result"
    }
   ],
   "source": [
    "from google.cloud import storage\n",
    "bucket = storage.Client().bucket(\"liulab\")\n",
    "blob = bucket.get_blob(\"csx_example_files/Single_Cell_RNA-Seq_Melanoma_SuppFig_3b-d/scRNA-Seq_reference_melanoma_Tirosh_SuppFig_3b-d.txt\")\n",
    "with blob.open(\"rt\") as f:\n",
    "    cell_type_names_sc_example = f.readline().strip().split(\"\\t\")\n",
    "cell_type_names_sc_example = list(dict.fromkeys(cell_type_names_sc_example[1:]))\n",
    "cell_type_names_sc_example"
   ]
  },
  {
   "cell_type": "markdown",
   "id": "1ba4101e-7c2b-4788-8b8a-a2240cad360a",
   "metadata": {},
   "source": [
    "### from Derek's in silico mixtures (eg `ctp_sim_0.5sd.txt`)"
   ]
  },
  {
   "cell_type": "code",
   "execution_count": 14,
   "id": "0f367f45-cdb8-4b02-916d-c3cf0dbcc504",
   "metadata": {},
   "outputs": [
    {
     "data": {
      "text/plain": [
       "['Malignant.cell',\n",
       " 'Endothelial.cell',\n",
       " 'CAF',\n",
       " 'T.CD8',\n",
       " 'NK',\n",
       " 'Macrophage',\n",
       " 'T.CD4',\n",
       " 'B.cell']"
      ]
     },
     "execution_count": 14,
     "metadata": {},
     "output_type": "execute_result"
    }
   ],
   "source": [
    "df = pd.read_csv(\n",
    "    \"gs://liulab/derek/simulations/experiments/generate_cohorts_for_emma/ctp_sim_0.5sd.txt\",\n",
    "    sep=\"\\t\",\n",
    "    index_col=0\n",
    ")\n",
    "cell_type_names_dereks_in_silico_mixtures = list(dict.fromkeys(df.columns))\n",
    "cell_type_names_dereks_in_silico_mixtures"
   ]
  },
  {
   "cell_type": "markdown",
   "id": "2e9e9d96-2a4a-4a35-b43d-38993214c50d",
   "metadata": {},
   "source": [
    "### from Jerby cohort?"
   ]
  },
  {
   "cell_type": "code",
   "execution_count": 16,
   "id": "cda94088-0e6d-4162-9c30-32f507e9d4e1",
   "metadata": {},
   "outputs": [],
   "source": [
    "series_column_names = pd.Series(\n",
    "    data=[\"A_ugly_column_name\", \"B_ugly_column_name\"],\n",
    "    index=[\"A\", \"B\"],\n",
    ")"
   ]
  },
  {
   "cell_type": "code",
   "execution_count": 18,
   "id": "ff111317-ebe6-4ae9-9ce1-383bd10c47a5",
   "metadata": {},
   "outputs": [
    {
     "name": "stdout",
     "output_type": "stream",
     "text": [
      "A    A_ugly_column_name\n",
      "B    B_ugly_column_name\n",
      "dtype: object\n"
     ]
    }
   ],
   "source": [
    "print(series_column_names)\n"
   ]
  },
  {
   "cell_type": "code",
   "execution_count": null,
   "id": "5550a0c0-7021-46f1-a404-6f8406ecb007",
   "metadata": {},
   "outputs": [],
   "source": []
  }
 ],
 "metadata": {
  "environment": {
   "name": "tf2-gpu.2-5.m74",
   "type": "gcloud",
   "uri": "gcr.io/deeplearning-platform-release/tf2-gpu.2-5:m74"
  },
  "kernelspec": {
   "display_name": "Python 3",
   "language": "python",
   "name": "python3"
  },
  "language_info": {
   "codemirror_mode": {
    "name": "ipython",
    "version": 3
   },
   "file_extension": ".py",
   "mimetype": "text/x-python",
   "name": "python",
   "nbconvert_exporter": "python",
   "pygments_lexer": "ipython3",
   "version": "3.7.10"
  }
 },
 "nbformat": 4,
 "nbformat_minor": 5
}
