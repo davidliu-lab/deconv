{
 "cells": [
  {
   "cell_type": "markdown",
   "id": "7a1a1dc9",
   "metadata": {},
   "source": [
    "# load counts and transcripts per million from GEO"
   ]
  },
  {
   "cell_type": "markdown",
   "id": "0705713f",
   "metadata": {},
   "source": [
    "viewing https://www.ncbi.nlm.nih.gov/geo/query/acc.cgi?acc=GSE115978"
   ]
  },
  {
   "cell_type": "code",
   "execution_count": 21,
   "id": "1e7d7c6a",
   "metadata": {},
   "outputs": [],
   "source": [
    "import os\n",
    "\n",
    "import numpy as np\n",
    "\n",
    "import GEOparse"
   ]
  },
  {
   "cell_type": "code",
   "execution_count": 13,
   "id": "141ec25a",
   "metadata": {},
   "outputs": [],
   "source": [
    "target_dir = \"./data/geoparse\"\n",
    "os.makedirs(target_dir, exist_ok=True)"
   ]
  },
  {
   "cell_type": "code",
   "execution_count": null,
   "id": "1a03a25f",
   "metadata": {},
   "outputs": [],
   "source": [
    "%%capture\n",
    "\n",
    "gse_115978 = GEOparse.get_GEO(geo=\"GSE115978\", destdir=target_dir)"
   ]
  },
  {
   "cell_type": "code",
   "execution_count": 5,
   "id": "96a3e1b9",
   "metadata": {},
   "outputs": [
    {
     "data": {
      "text/plain": [
       "['ftp://ftp.ncbi.nlm.nih.gov/geo/series/GSE115nnn/GSE115978/suppl/GSE115978_cell.annotations.csv.gz',\n",
       " 'ftp://ftp.ncbi.nlm.nih.gov/geo/series/GSE115nnn/GSE115978/suppl/GSE115978_counts.csv.gz',\n",
       " 'ftp://ftp.ncbi.nlm.nih.gov/geo/series/GSE115nnn/GSE115978/suppl/GSE115978_tpm.csv.gz']"
      ]
     },
     "execution_count": 5,
     "metadata": {},
     "output_type": "execute_result"
    }
   ],
   "source": [
    "gse_115978.metadata[\"supplementary_file\"]"
   ]
  },
  {
   "cell_type": "code",
   "execution_count": 8,
   "id": "b35d9795",
   "metadata": {},
   "outputs": [],
   "source": [
    "target_dir = \"./data/ftp/GSE115978\"\n",
    "os.makedirs(target_dir, exist_ok=True)"
   ]
  },
  {
   "cell_type": "code",
   "execution_count": 9,
   "id": "67c83399",
   "metadata": {},
   "outputs": [],
   "source": [
    "import helpers"
   ]
  },
  {
   "cell_type": "code",
   "execution_count": 10,
   "id": "d3795e94",
   "metadata": {},
   "outputs": [],
   "source": [
    "for ftp_url in gse_115978.metadata[\"supplementary_file\"]:\n",
    "    helpers.download_gz_from_ftp(ftp_url, target_dir)"
   ]
  },
  {
   "cell_type": "code",
   "execution_count": 12,
   "id": "976b59f8",
   "metadata": {},
   "outputs": [
    {
     "name": "stdout",
     "output_type": "stream",
     "text": [
      "\u001b[01;34mdata/ftp\u001b[00m\n",
      "└── [4.0K]  \u001b[01;34mGSE115978\u001b[00m\n",
      "    ├── [589K]  GSE115978_cell.annotations.csv\n",
      "    ├── [ 99K]  \u001b[01;31mGSE115978_cell.annotations.csv.gz\u001b[00m\n",
      "    ├── [346M]  GSE115978_counts.csv\n",
      "    ├── [ 49M]  \u001b[01;31mGSE115978_counts.csv.gz\u001b[00m\n",
      "    ├── [805M]  GSE115978_tpm.csv\n",
      "    └── [227M]  \u001b[01;31mGSE115978_tpm.csv.gz\u001b[00m\n",
      "\n",
      "1 directory, 6 files\n"
     ]
    }
   ],
   "source": [
    "!tree -h data/ftp"
   ]
  },
  {
   "cell_type": "code",
   "execution_count": null,
   "id": "79315e1a",
   "metadata": {},
   "outputs": [],
   "source": [
    "!head -2 data/ftp/GSE115978/GSE115978_tpm.csv"
   ]
  },
  {
   "cell_type": "code",
   "execution_count": 14,
   "id": "3239a582",
   "metadata": {},
   "outputs": [],
   "source": [
    "import pandas as pd"
   ]
  },
  {
   "cell_type": "code",
   "execution_count": 31,
   "id": "b46c4cbc",
   "metadata": {},
   "outputs": [],
   "source": [
    "columns = pd.read_csv(\n",
    "    filepath_or_buffer='./data/ftp/GSE115978/GSE115978_tpm.csv',\n",
    "    nrows=1,\n",
    "    index_col=0\n",
    ").columns\n",
    "\n",
    "dtypes = {col: np.float16 for col in columns}\n",
    "dtypes['GENE'] = str"
   ]
  },
  {
   "cell_type": "code",
   "execution_count": 43,
   "id": "9480edcc",
   "metadata": {},
   "outputs": [],
   "source": [
    "df_tpm = pd.read_csv(\n",
    "    filepath_or_buffer='./data/ftp/GSE115978/GSE115978_tpm.csv',\n",
    "#     nrows=10000,\n",
    "    dtype=dtypes,\n",
    "    index_col=0\n",
    ")"
   ]
  },
  {
   "cell_type": "code",
   "execution_count": 44,
   "id": "619ab89a",
   "metadata": {},
   "outputs": [
    {
     "name": "stdout",
     "output_type": "stream",
     "text": [
      "<class 'pandas.core.frame.DataFrame'>\n",
      "Index: 23686 entries, C9orf152 to AQP7\n",
      "Columns: 7186 entries, cy78_CD45_neg_1_B04_S496_comb to CY75_1_CD45_CD8_8__S351_comb_BCD8\n",
      "dtypes: float16(7186)\n",
      "memory usage: 324.8+ MB\n"
     ]
    }
   ],
   "source": [
    "df_tpm.info()"
   ]
  },
  {
   "cell_type": "code",
   "execution_count": 45,
   "id": "1c0adaed",
   "metadata": {},
   "outputs": [],
   "source": [
    "import plotly.express as px"
   ]
  },
  {
   "cell_type": "code",
   "execution_count": 47,
   "id": "f1bf01b9",
   "metadata": {},
   "outputs": [
    {
     "data": {
      "text/plain": [
       "cy78_CD45_neg_1_B04_S496_comb                      0.348645\n",
       "cy79_p4_CD45_neg_PDL1_neg_E11_S1115_comb           0.086422\n",
       "CY88_5_B10_S694_comb                               0.226927\n",
       "cy79_p1_CD45_neg_PDL1_pos_AS_C1_R1_F07_S67_comb    0.238453\n",
       "cy78_CD45_neg_3_H06_S762_comb                      0.312801\n",
       "                                                     ...   \n",
       "CY75_1_CD45_CD8_3__S168_comb_BCD8                  0.149033\n",
       "CY75_1_CD45_CD8_8__S338_comb_BCD8                  0.163472\n",
       "monika_D7_S132_comb_BCD8_3                         0.193743\n",
       "CY75_1_CD45_CD8_8__S289_comb_BCD8                  0.194799\n",
       "CY75_1_CD45_CD8_8__S351_comb_BCD8                  0.162923\n",
       "Length: 7186, dtype: float64"
      ]
     },
     "execution_count": 47,
     "metadata": {},
     "output_type": "execute_result"
    }
   ],
   "source": [
    "cells_percent_nonzero = df_tpm.astype(bool).mean(axis=0)\n",
    "cells_percent_nonzero"
   ]
  },
  {
   "cell_type": "code",
   "execution_count": 48,
   "id": "d246f59c",
   "metadata": {},
   "outputs": [
    {
     "data": {
      "text/plain": [
       "cy78_CD45_neg_1_B04_S496_comb                      0.348645\n",
       "cy79_p4_CD45_neg_PDL1_neg_E11_S1115_comb           0.086422\n",
       "CY88_5_B10_S694_comb                               0.226927\n",
       "cy79_p1_CD45_neg_PDL1_pos_AS_C1_R1_F07_S67_comb    0.238453\n",
       "cy78_CD45_neg_3_H06_S762_comb                      0.312801\n",
       "                                                     ...   \n",
       "CY75_1_CD45_CD8_3__S168_comb_BCD8                  0.149033\n",
       "CY75_1_CD45_CD8_8__S338_comb_BCD8                  0.163472\n",
       "monika_D7_S132_comb_BCD8_3                         0.193743\n",
       "CY75_1_CD45_CD8_8__S289_comb_BCD8                  0.194799\n",
       "CY75_1_CD45_CD8_8__S351_comb_BCD8                  0.162923\n",
       "Length: 7186, dtype: float64"
      ]
     },
     "execution_count": 48,
     "metadata": {},
     "output_type": "execute_result"
    }
   ],
   "source": [
    "genes_percent_nonzero = df_tpm.astype(bool).mean(axis=0)\n",
    "genes_percent_nonzero"
   ]
  },
  {
   "cell_type": "code",
   "execution_count": 50,
   "id": "1bb534c3",
   "metadata": {},
   "outputs": [
    {
     "data": {
      "application/vnd.plotly.v1+json": {
       "config": {
        "plotlyServerURL": "https://plot.ly"
       },
       "data": [
        {
         "alignmentgroup": "True",
         "hovertemplate": "variable=0<br>index=%{x}<br>value=%{y}<extra></extra>",
         "legendgroup": "0",
         "marker": {
          "color": "#636efa"
         },
         "name": "0",
         "offsetgroup": "0",
         "orientation": "v",
         "showlegend": true,
         "textposition": "auto",
         "type": "bar",
         "x": [
          "cy103_CD45neg_CD90neg_S66",
          "merck_cd45negcd90neg_PL3_S242",
          "cy79_p1_CD45_pos_PD1_pos_AS_C5_R1_A10_S202_comb",
          "cy60_1_cd_45_pos_4_C10_S34_comb",
          "cy88_cd_45_pos_C09_S417_comb",
          "cy106_CD45neg_S343",
          "cy94_cd45pos_A05_S101_comb",
          "cy94_cd45pos_G01_S169_comb",
          "cy116_CD45pos_S383",
          "cy98_CD45pos_CD8pos_S26",
          "cy102_CD45pos_S254",
          "cy129_CD45negCD90neg_S68",
          "cy103_CD45neg_CD90neg_S35",
          "cy129PA_CD45pos_S87",
          "Merck_CD45pos_pl4_S80",
          "Merck_CD45pos_pl4_S89",
          "cy98_CD45pos_CD8pos_S5",
          "CY89A_Core_15_G05_S77_comb",
          "cy98_CD45pos_2_S321",
          "cy110_CD45neg_CD90neg_S266",
          "cy79_p4_CD45_neg_PDL1_neg_A02_S1058_comb",
          "cy79_p3_CD45_neg_PDL1_neg_E09_S249_comb",
          "cy103_CD45pos_S233",
          "cy79_p4_CD45_neg_PDL1_pos_A05_S389_comb",
          "cy103_CD45neg_CD90neg_S120",
          "cy94_cd45pos_4_G02_S74_comb",
          "cy102_CD45neg_CD90neg_S353",
          "cy75_1B_CORE_CD45neg_S167",
          "cy80_CD45_neg_D02_S902_comb",
          "CY88_3_D06_S618_comb"
         ],
         "xaxis": "x",
         "y": [
          0.08059613273663768,
          0.08680233049058515,
          0.09929916406315967,
          0.1169467195811872,
          0.1205353373300684,
          0.13041459089757662,
          0.14232035801739423,
          0.1424047960820738,
          0.15557713417208477,
          0.16055897998817867,
          0.16642742548340791,
          0.16748290129190238,
          0.17575783163049902,
          0.1802330490585156,
          0.18690365616820062,
          0.19969602296715358,
          0.20370683103943257,
          0.20889977201722537,
          0.2165836359030651,
          0.22658954656759267,
          0.2296715359283965,
          0.23157139238368657,
          0.2382419994933716,
          0.2444481972473191,
          0.2533986321033522,
          0.2615891243772693,
          0.29008697120661997,
          0.3110276112471502,
          0.3219201215908131,
          0.34239635227560583
         ],
         "yaxis": "y"
        }
       ],
       "layout": {
        "autosize": true,
        "barmode": "relative",
        "legend": {
         "title": {
          "text": "variable"
         },
         "tracegroupgap": 0
        },
        "margin": {
         "t": 60
        },
        "template": {
         "data": {
          "bar": [
           {
            "error_x": {
             "color": "#2a3f5f"
            },
            "error_y": {
             "color": "#2a3f5f"
            },
            "marker": {
             "line": {
              "color": "#E5ECF6",
              "width": 0.5
             }
            },
            "type": "bar"
           }
          ],
          "barpolar": [
           {
            "marker": {
             "line": {
              "color": "#E5ECF6",
              "width": 0.5
             }
            },
            "type": "barpolar"
           }
          ],
          "carpet": [
           {
            "aaxis": {
             "endlinecolor": "#2a3f5f",
             "gridcolor": "white",
             "linecolor": "white",
             "minorgridcolor": "white",
             "startlinecolor": "#2a3f5f"
            },
            "baxis": {
             "endlinecolor": "#2a3f5f",
             "gridcolor": "white",
             "linecolor": "white",
             "minorgridcolor": "white",
             "startlinecolor": "#2a3f5f"
            },
            "type": "carpet"
           }
          ],
          "choropleth": [
           {
            "colorbar": {
             "outlinewidth": 0,
             "ticks": ""
            },
            "type": "choropleth"
           }
          ],
          "contour": [
           {
            "colorbar": {
             "outlinewidth": 0,
             "ticks": ""
            },
            "colorscale": [
             [
              0,
              "#0d0887"
             ],
             [
              0.1111111111111111,
              "#46039f"
             ],
             [
              0.2222222222222222,
              "#7201a8"
             ],
             [
              0.3333333333333333,
              "#9c179e"
             ],
             [
              0.4444444444444444,
              "#bd3786"
             ],
             [
              0.5555555555555556,
              "#d8576b"
             ],
             [
              0.6666666666666666,
              "#ed7953"
             ],
             [
              0.7777777777777778,
              "#fb9f3a"
             ],
             [
              0.8888888888888888,
              "#fdca26"
             ],
             [
              1,
              "#f0f921"
             ]
            ],
            "type": "contour"
           }
          ],
          "contourcarpet": [
           {
            "colorbar": {
             "outlinewidth": 0,
             "ticks": ""
            },
            "type": "contourcarpet"
           }
          ],
          "heatmap": [
           {
            "colorbar": {
             "outlinewidth": 0,
             "ticks": ""
            },
            "colorscale": [
             [
              0,
              "#0d0887"
             ],
             [
              0.1111111111111111,
              "#46039f"
             ],
             [
              0.2222222222222222,
              "#7201a8"
             ],
             [
              0.3333333333333333,
              "#9c179e"
             ],
             [
              0.4444444444444444,
              "#bd3786"
             ],
             [
              0.5555555555555556,
              "#d8576b"
             ],
             [
              0.6666666666666666,
              "#ed7953"
             ],
             [
              0.7777777777777778,
              "#fb9f3a"
             ],
             [
              0.8888888888888888,
              "#fdca26"
             ],
             [
              1,
              "#f0f921"
             ]
            ],
            "type": "heatmap"
           }
          ],
          "heatmapgl": [
           {
            "colorbar": {
             "outlinewidth": 0,
             "ticks": ""
            },
            "colorscale": [
             [
              0,
              "#0d0887"
             ],
             [
              0.1111111111111111,
              "#46039f"
             ],
             [
              0.2222222222222222,
              "#7201a8"
             ],
             [
              0.3333333333333333,
              "#9c179e"
             ],
             [
              0.4444444444444444,
              "#bd3786"
             ],
             [
              0.5555555555555556,
              "#d8576b"
             ],
             [
              0.6666666666666666,
              "#ed7953"
             ],
             [
              0.7777777777777778,
              "#fb9f3a"
             ],
             [
              0.8888888888888888,
              "#fdca26"
             ],
             [
              1,
              "#f0f921"
             ]
            ],
            "type": "heatmapgl"
           }
          ],
          "histogram": [
           {
            "marker": {
             "colorbar": {
              "outlinewidth": 0,
              "ticks": ""
             }
            },
            "type": "histogram"
           }
          ],
          "histogram2d": [
           {
            "colorbar": {
             "outlinewidth": 0,
             "ticks": ""
            },
            "colorscale": [
             [
              0,
              "#0d0887"
             ],
             [
              0.1111111111111111,
              "#46039f"
             ],
             [
              0.2222222222222222,
              "#7201a8"
             ],
             [
              0.3333333333333333,
              "#9c179e"
             ],
             [
              0.4444444444444444,
              "#bd3786"
             ],
             [
              0.5555555555555556,
              "#d8576b"
             ],
             [
              0.6666666666666666,
              "#ed7953"
             ],
             [
              0.7777777777777778,
              "#fb9f3a"
             ],
             [
              0.8888888888888888,
              "#fdca26"
             ],
             [
              1,
              "#f0f921"
             ]
            ],
            "type": "histogram2d"
           }
          ],
          "histogram2dcontour": [
           {
            "colorbar": {
             "outlinewidth": 0,
             "ticks": ""
            },
            "colorscale": [
             [
              0,
              "#0d0887"
             ],
             [
              0.1111111111111111,
              "#46039f"
             ],
             [
              0.2222222222222222,
              "#7201a8"
             ],
             [
              0.3333333333333333,
              "#9c179e"
             ],
             [
              0.4444444444444444,
              "#bd3786"
             ],
             [
              0.5555555555555556,
              "#d8576b"
             ],
             [
              0.6666666666666666,
              "#ed7953"
             ],
             [
              0.7777777777777778,
              "#fb9f3a"
             ],
             [
              0.8888888888888888,
              "#fdca26"
             ],
             [
              1,
              "#f0f921"
             ]
            ],
            "type": "histogram2dcontour"
           }
          ],
          "mesh3d": [
           {
            "colorbar": {
             "outlinewidth": 0,
             "ticks": ""
            },
            "type": "mesh3d"
           }
          ],
          "parcoords": [
           {
            "line": {
             "colorbar": {
              "outlinewidth": 0,
              "ticks": ""
             }
            },
            "type": "parcoords"
           }
          ],
          "pie": [
           {
            "automargin": true,
            "type": "pie"
           }
          ],
          "scatter": [
           {
            "marker": {
             "colorbar": {
              "outlinewidth": 0,
              "ticks": ""
             }
            },
            "type": "scatter"
           }
          ],
          "scatter3d": [
           {
            "line": {
             "colorbar": {
              "outlinewidth": 0,
              "ticks": ""
             }
            },
            "marker": {
             "colorbar": {
              "outlinewidth": 0,
              "ticks": ""
             }
            },
            "type": "scatter3d"
           }
          ],
          "scattercarpet": [
           {
            "marker": {
             "colorbar": {
              "outlinewidth": 0,
              "ticks": ""
             }
            },
            "type": "scattercarpet"
           }
          ],
          "scattergeo": [
           {
            "marker": {
             "colorbar": {
              "outlinewidth": 0,
              "ticks": ""
             }
            },
            "type": "scattergeo"
           }
          ],
          "scattergl": [
           {
            "marker": {
             "colorbar": {
              "outlinewidth": 0,
              "ticks": ""
             }
            },
            "type": "scattergl"
           }
          ],
          "scattermapbox": [
           {
            "marker": {
             "colorbar": {
              "outlinewidth": 0,
              "ticks": ""
             }
            },
            "type": "scattermapbox"
           }
          ],
          "scatterpolar": [
           {
            "marker": {
             "colorbar": {
              "outlinewidth": 0,
              "ticks": ""
             }
            },
            "type": "scatterpolar"
           }
          ],
          "scatterpolargl": [
           {
            "marker": {
             "colorbar": {
              "outlinewidth": 0,
              "ticks": ""
             }
            },
            "type": "scatterpolargl"
           }
          ],
          "scatterternary": [
           {
            "marker": {
             "colorbar": {
              "outlinewidth": 0,
              "ticks": ""
             }
            },
            "type": "scatterternary"
           }
          ],
          "surface": [
           {
            "colorbar": {
             "outlinewidth": 0,
             "ticks": ""
            },
            "colorscale": [
             [
              0,
              "#0d0887"
             ],
             [
              0.1111111111111111,
              "#46039f"
             ],
             [
              0.2222222222222222,
              "#7201a8"
             ],
             [
              0.3333333333333333,
              "#9c179e"
             ],
             [
              0.4444444444444444,
              "#bd3786"
             ],
             [
              0.5555555555555556,
              "#d8576b"
             ],
             [
              0.6666666666666666,
              "#ed7953"
             ],
             [
              0.7777777777777778,
              "#fb9f3a"
             ],
             [
              0.8888888888888888,
              "#fdca26"
             ],
             [
              1,
              "#f0f921"
             ]
            ],
            "type": "surface"
           }
          ],
          "table": [
           {
            "cells": {
             "fill": {
              "color": "#EBF0F8"
             },
             "line": {
              "color": "white"
             }
            },
            "header": {
             "fill": {
              "color": "#C8D4E3"
             },
             "line": {
              "color": "white"
             }
            },
            "type": "table"
           }
          ]
         },
         "layout": {
          "annotationdefaults": {
           "arrowcolor": "#2a3f5f",
           "arrowhead": 0,
           "arrowwidth": 1
          },
          "autotypenumbers": "strict",
          "coloraxis": {
           "colorbar": {
            "outlinewidth": 0,
            "ticks": ""
           }
          },
          "colorscale": {
           "diverging": [
            [
             0,
             "#8e0152"
            ],
            [
             0.1,
             "#c51b7d"
            ],
            [
             0.2,
             "#de77ae"
            ],
            [
             0.3,
             "#f1b6da"
            ],
            [
             0.4,
             "#fde0ef"
            ],
            [
             0.5,
             "#f7f7f7"
            ],
            [
             0.6,
             "#e6f5d0"
            ],
            [
             0.7,
             "#b8e186"
            ],
            [
             0.8,
             "#7fbc41"
            ],
            [
             0.9,
             "#4d9221"
            ],
            [
             1,
             "#276419"
            ]
           ],
           "sequential": [
            [
             0,
             "#0d0887"
            ],
            [
             0.1111111111111111,
             "#46039f"
            ],
            [
             0.2222222222222222,
             "#7201a8"
            ],
            [
             0.3333333333333333,
             "#9c179e"
            ],
            [
             0.4444444444444444,
             "#bd3786"
            ],
            [
             0.5555555555555556,
             "#d8576b"
            ],
            [
             0.6666666666666666,
             "#ed7953"
            ],
            [
             0.7777777777777778,
             "#fb9f3a"
            ],
            [
             0.8888888888888888,
             "#fdca26"
            ],
            [
             1,
             "#f0f921"
            ]
           ],
           "sequentialminus": [
            [
             0,
             "#0d0887"
            ],
            [
             0.1111111111111111,
             "#46039f"
            ],
            [
             0.2222222222222222,
             "#7201a8"
            ],
            [
             0.3333333333333333,
             "#9c179e"
            ],
            [
             0.4444444444444444,
             "#bd3786"
            ],
            [
             0.5555555555555556,
             "#d8576b"
            ],
            [
             0.6666666666666666,
             "#ed7953"
            ],
            [
             0.7777777777777778,
             "#fb9f3a"
            ],
            [
             0.8888888888888888,
             "#fdca26"
            ],
            [
             1,
             "#f0f921"
            ]
           ]
          },
          "colorway": [
           "#636efa",
           "#EF553B",
           "#00cc96",
           "#ab63fa",
           "#FFA15A",
           "#19d3f3",
           "#FF6692",
           "#B6E880",
           "#FF97FF",
           "#FECB52"
          ],
          "font": {
           "color": "#2a3f5f"
          },
          "geo": {
           "bgcolor": "white",
           "lakecolor": "white",
           "landcolor": "#E5ECF6",
           "showlakes": true,
           "showland": true,
           "subunitcolor": "white"
          },
          "hoverlabel": {
           "align": "left"
          },
          "hovermode": "closest",
          "mapbox": {
           "style": "light"
          },
          "paper_bgcolor": "white",
          "plot_bgcolor": "#E5ECF6",
          "polar": {
           "angularaxis": {
            "gridcolor": "white",
            "linecolor": "white",
            "ticks": ""
           },
           "bgcolor": "#E5ECF6",
           "radialaxis": {
            "gridcolor": "white",
            "linecolor": "white",
            "ticks": ""
           }
          },
          "scene": {
           "xaxis": {
            "backgroundcolor": "#E5ECF6",
            "gridcolor": "white",
            "gridwidth": 2,
            "linecolor": "white",
            "showbackground": true,
            "ticks": "",
            "zerolinecolor": "white"
           },
           "yaxis": {
            "backgroundcolor": "#E5ECF6",
            "gridcolor": "white",
            "gridwidth": 2,
            "linecolor": "white",
            "showbackground": true,
            "ticks": "",
            "zerolinecolor": "white"
           },
           "zaxis": {
            "backgroundcolor": "#E5ECF6",
            "gridcolor": "white",
            "gridwidth": 2,
            "linecolor": "white",
            "showbackground": true,
            "ticks": "",
            "zerolinecolor": "white"
           }
          },
          "shapedefaults": {
           "line": {
            "color": "#2a3f5f"
           }
          },
          "ternary": {
           "aaxis": {
            "gridcolor": "white",
            "linecolor": "white",
            "ticks": ""
           },
           "baxis": {
            "gridcolor": "white",
            "linecolor": "white",
            "ticks": ""
           },
           "bgcolor": "#E5ECF6",
           "caxis": {
            "gridcolor": "white",
            "linecolor": "white",
            "ticks": ""
           }
          },
          "title": {
           "x": 0.05
          },
          "xaxis": {
           "automargin": true,
           "gridcolor": "white",
           "linecolor": "white",
           "ticks": "",
           "title": {
            "standoff": 15
           },
           "zerolinecolor": "white",
           "zerolinewidth": 2
          },
          "yaxis": {
           "automargin": true,
           "gridcolor": "white",
           "linecolor": "white",
           "ticks": "",
           "title": {
            "standoff": 15
           },
           "zerolinecolor": "white",
           "zerolinewidth": 2
          }
         }
        },
        "title": {
         "text": "Fraction of genes that are non-zero, per sc sample"
        },
        "xaxis": {
         "anchor": "y",
         "autorange": true,
         "domain": [
          0,
          1
         ],
         "range": [
          -0.5,
          29.5
         ],
         "title": {
          "text": "index"
         },
         "type": "category"
        },
        "yaxis": {
         "anchor": "x",
         "domain": [
          0,
          1
         ],
         "range": [
          0,
          1
         ],
         "title": {
          "text": "value"
         },
         "type": "linear"
        }
       }
      },
      "image/png": "[encoded data removed]"
     },
     "metadata": {},
     "output_type": "display_data"
    }
   ],
   "source": [
    "fig = px.bar(cells_percent_nonzero.sample(n=30).sort_values())\n",
    "\n",
    "fig.update_layout(\n",
    "    title='Fraction of genes that are non-zero, per sc sample',\n",
    ")\n",
    "\n",
    "fig.update_yaxes(range=[0, 1])\n",
    "\n",
    "fig.show(renderer='jupyterlab+png')"
   ]
  },
  {
   "cell_type": "code",
   "execution_count": 51,
   "id": "d2481ed9",
   "metadata": {},
   "outputs": [],
   "source": [
    "df_cell_annotations = pd.read_csv(\"./data/ftp/GSE115978/GSE115978_cell.annotations.csv\")"
   ]
  },
  {
   "cell_type": "code",
   "execution_count": 52,
   "id": "84dcf053",
   "metadata": {},
   "outputs": [
    {
     "data": {
      "text/html": [
       "<div>\n",
       "<style scoped>\n",
       "    .dataframe tbody tr th:only-of-type {\n",
       "        vertical-align: middle;\n",
       "    }\n",
       "\n",
       "    .dataframe tbody tr th {\n",
       "        vertical-align: top;\n",
       "    }\n",
       "\n",
       "    .dataframe thead th {\n",
       "        text-align: right;\n",
       "    }\n",
       "</style>\n",
       "<table border=\"1\" class=\"dataframe\">\n",
       "  <thead>\n",
       "    <tr style=\"text-align: right;\">\n",
       "      <th></th>\n",
       "      <th>cells</th>\n",
       "      <th>samples</th>\n",
       "      <th>cell.types</th>\n",
       "      <th>treatment.group</th>\n",
       "      <th>Cohort</th>\n",
       "      <th>no.of.genes</th>\n",
       "      <th>no.of.reads</th>\n",
       "    </tr>\n",
       "  </thead>\n",
       "  <tbody>\n",
       "    <tr>\n",
       "      <th>0</th>\n",
       "      <td>cy78_CD45_neg_1_B04_S496_comb</td>\n",
       "      <td>Mel78</td>\n",
       "      <td>Mal</td>\n",
       "      <td>post.treatment</td>\n",
       "      <td>Tirosh</td>\n",
       "      <td>8258</td>\n",
       "      <td>357919</td>\n",
       "    </tr>\n",
       "    <tr>\n",
       "      <th>1</th>\n",
       "      <td>cy79_p4_CD45_neg_PDL1_neg_E11_S1115_comb</td>\n",
       "      <td>Mel79</td>\n",
       "      <td>Mal</td>\n",
       "      <td>treatment.naive</td>\n",
       "      <td>Tirosh</td>\n",
       "      <td>2047</td>\n",
       "      <td>5727</td>\n",
       "    </tr>\n",
       "    <tr>\n",
       "      <th>2</th>\n",
       "      <td>CY88_5_B10_S694_comb</td>\n",
       "      <td>Mel88</td>\n",
       "      <td>Mal</td>\n",
       "      <td>post.treatment</td>\n",
       "      <td>Tirosh</td>\n",
       "      <td>5375</td>\n",
       "      <td>139218</td>\n",
       "    </tr>\n",
       "    <tr>\n",
       "      <th>3</th>\n",
       "      <td>cy79_p1_CD45_neg_PDL1_pos_AS_C1_R1_F07_S67_comb</td>\n",
       "      <td>Mel79</td>\n",
       "      <td>Mal</td>\n",
       "      <td>treatment.naive</td>\n",
       "      <td>Tirosh</td>\n",
       "      <td>5648</td>\n",
       "      <td>73996</td>\n",
       "    </tr>\n",
       "    <tr>\n",
       "      <th>4</th>\n",
       "      <td>cy78_CD45_neg_3_H06_S762_comb</td>\n",
       "      <td>Mel78</td>\n",
       "      <td>Mal</td>\n",
       "      <td>post.treatment</td>\n",
       "      <td>Tirosh</td>\n",
       "      <td>7409</td>\n",
       "      <td>380341</td>\n",
       "    </tr>\n",
       "    <tr>\n",
       "      <th>...</th>\n",
       "      <td>...</td>\n",
       "      <td>...</td>\n",
       "      <td>...</td>\n",
       "      <td>...</td>\n",
       "      <td>...</td>\n",
       "      <td>...</td>\n",
       "      <td>...</td>\n",
       "    </tr>\n",
       "    <tr>\n",
       "      <th>7181</th>\n",
       "      <td>CY75_1_CD45_CD8_3__S168_comb_BCD8</td>\n",
       "      <td>Mel75</td>\n",
       "      <td>T.CD8</td>\n",
       "      <td>post.treatment</td>\n",
       "      <td>Tirosh</td>\n",
       "      <td>3530</td>\n",
       "      <td>137245</td>\n",
       "    </tr>\n",
       "    <tr>\n",
       "      <th>7182</th>\n",
       "      <td>CY75_1_CD45_CD8_8__S338_comb_BCD8</td>\n",
       "      <td>Mel75</td>\n",
       "      <td>T.CD8</td>\n",
       "      <td>post.treatment</td>\n",
       "      <td>Tirosh</td>\n",
       "      <td>3872</td>\n",
       "      <td>106432</td>\n",
       "    </tr>\n",
       "    <tr>\n",
       "      <th>7183</th>\n",
       "      <td>monika_D7_S132_comb_BCD8_3</td>\n",
       "      <td>Mel75</td>\n",
       "      <td>T.CD8</td>\n",
       "      <td>post.treatment</td>\n",
       "      <td>Tirosh</td>\n",
       "      <td>4589</td>\n",
       "      <td>908173</td>\n",
       "    </tr>\n",
       "    <tr>\n",
       "      <th>7184</th>\n",
       "      <td>CY75_1_CD45_CD8_8__S289_comb_BCD8</td>\n",
       "      <td>Mel75</td>\n",
       "      <td>T.CD8</td>\n",
       "      <td>post.treatment</td>\n",
       "      <td>Tirosh</td>\n",
       "      <td>4614</td>\n",
       "      <td>140903</td>\n",
       "    </tr>\n",
       "    <tr>\n",
       "      <th>7185</th>\n",
       "      <td>CY75_1_CD45_CD8_8__S351_comb_BCD8</td>\n",
       "      <td>Mel75</td>\n",
       "      <td>T.CD8</td>\n",
       "      <td>post.treatment</td>\n",
       "      <td>Tirosh</td>\n",
       "      <td>3859</td>\n",
       "      <td>222239</td>\n",
       "    </tr>\n",
       "  </tbody>\n",
       "</table>\n",
       "<p>7186 rows × 7 columns</p>\n",
       "</div>"
      ],
      "text/plain": [
       "                                                cells samples cell.types  \\\n",
       "0                       cy78_CD45_neg_1_B04_S496_comb   Mel78        Mal   \n",
       "1            cy79_p4_CD45_neg_PDL1_neg_E11_S1115_comb   Mel79        Mal   \n",
       "2                                CY88_5_B10_S694_comb   Mel88        Mal   \n",
       "3     cy79_p1_CD45_neg_PDL1_pos_AS_C1_R1_F07_S67_comb   Mel79        Mal   \n",
       "4                       cy78_CD45_neg_3_H06_S762_comb   Mel78        Mal   \n",
       "...                                               ...     ...        ...   \n",
       "7181                CY75_1_CD45_CD8_3__S168_comb_BCD8   Mel75      T.CD8   \n",
       "7182                CY75_1_CD45_CD8_8__S338_comb_BCD8   Mel75      T.CD8   \n",
       "7183                       monika_D7_S132_comb_BCD8_3   Mel75      T.CD8   \n",
       "7184                CY75_1_CD45_CD8_8__S289_comb_BCD8   Mel75      T.CD8   \n",
       "7185                CY75_1_CD45_CD8_8__S351_comb_BCD8   Mel75      T.CD8   \n",
       "\n",
       "      treatment.group  Cohort  no.of.genes  no.of.reads  \n",
       "0      post.treatment  Tirosh         8258       357919  \n",
       "1     treatment.naive  Tirosh         2047         5727  \n",
       "2      post.treatment  Tirosh         5375       139218  \n",
       "3     treatment.naive  Tirosh         5648        73996  \n",
       "4      post.treatment  Tirosh         7409       380341  \n",
       "...               ...     ...          ...          ...  \n",
       "7181   post.treatment  Tirosh         3530       137245  \n",
       "7182   post.treatment  Tirosh         3872       106432  \n",
       "7183   post.treatment  Tirosh         4589       908173  \n",
       "7184   post.treatment  Tirosh         4614       140903  \n",
       "7185   post.treatment  Tirosh         3859       222239  \n",
       "\n",
       "[7186 rows x 7 columns]"
      ]
     },
     "execution_count": 52,
     "metadata": {},
     "output_type": "execute_result"
    }
   ],
   "source": [
    "df_cell_annotations"
   ]
  },
  {
   "cell_type": "code",
   "execution_count": 73,
   "id": "1af9ab7f",
   "metadata": {},
   "outputs": [
    {
     "data": {
      "application/vnd.plotly.v1+json": {
       "config": {
        "plotlyServerURL": "https://plot.ly"
       },
       "data": [
        {
         "alignmentgroup": "True",
         "hovertemplate": "treatment.group=post.treatment<br>samples=%{x}<br>value=%{y}<extra></extra>",
         "legendgroup": "post.treatment",
         "marker": {
          "color": "#636efa"
         },
         "name": "post.treatment",
         "offsetgroup": "post.treatment",
         "orientation": "v",
         "showlegend": true,
         "textposition": "auto",
         "type": "bar",
         "x": [
          "Mel04.3",
          "Mel102",
          "Mel103",
          "Mel105",
          "Mel106",
          "Mel110",
          "Mel112",
          "Mel116",
          "Mel121.1",
          "Mel126",
          "Mel128",
          "Mel129pa",
          "Mel129pb",
          "Mel194",
          "Mel478",
          "Mel53",
          "Mel58",
          "Mel60",
          "Mel71",
          "Mel72",
          "Mel74",
          "Mel75",
          "Mel78",
          "Mel79",
          "Mel80",
          "Mel81",
          "Mel82",
          "Mel84",
          "Mel88",
          "Mel89",
          "Mel94",
          "Mel98"
         ],
         "xaxis": "x",
         "y": [
          78,
          322,
          0,
          0,
          190,
          258,
          0,
          0,
          105,
          95,
          0,
          0,
          0,
          249,
          0,
          0,
          142,
          226,
          0,
          181,
          147,
          506,
          124,
          0,
          0,
          0,
          0,
          0,
          352,
          0,
          311,
          270
         ],
         "yaxis": "y"
        },
        {
         "alignmentgroup": "True",
         "hovertemplate": "treatment.group=treatment.naive<br>samples=%{x}<br>value=%{y}<extra></extra>",
         "legendgroup": "treatment.naive",
         "marker": {
          "color": "#EF553B"
         },
         "name": "treatment.naive",
         "offsetgroup": "treatment.naive",
         "orientation": "v",
         "showlegend": true,
         "textposition": "auto",
         "type": "bar",
         "x": [
          "Mel04.3",
          "Mel102",
          "Mel103",
          "Mel105",
          "Mel106",
          "Mel110",
          "Mel112",
          "Mel116",
          "Mel121.1",
          "Mel126",
          "Mel128",
          "Mel129pa",
          "Mel129pb",
          "Mel194",
          "Mel478",
          "Mel53",
          "Mel58",
          "Mel60",
          "Mel71",
          "Mel72",
          "Mel74",
          "Mel75",
          "Mel78",
          "Mel79",
          "Mel80",
          "Mel81",
          "Mel82",
          "Mel84",
          "Mel88",
          "Mel89",
          "Mel94",
          "Mel98"
         ],
         "xaxis": "x",
         "y": [
          0,
          0,
          317,
          234,
          0,
          0,
          113,
          84,
          0,
          0,
          89,
          179,
          64,
          0,
          154,
          143,
          0,
          0,
          89,
          0,
          0,
          0,
          0,
          894,
          431,
          205,
          84,
          159,
          0,
          391,
          0,
          0
         ],
         "yaxis": "y"
        }
       ],
       "layout": {
        "autosize": true,
        "barmode": "relative",
        "legend": {
         "title": {
          "text": "treatment.group"
         },
         "tracegroupgap": 0
        },
        "margin": {
         "t": 60
        },
        "template": {
         "data": {
          "bar": [
           {
            "error_x": {
             "color": "#2a3f5f"
            },
            "error_y": {
             "color": "#2a3f5f"
            },
            "marker": {
             "line": {
              "color": "#E5ECF6",
              "width": 0.5
             }
            },
            "type": "bar"
           }
          ],
          "barpolar": [
           {
            "marker": {
             "line": {
              "color": "#E5ECF6",
              "width": 0.5
             }
            },
            "type": "barpolar"
           }
          ],
          "carpet": [
           {
            "aaxis": {
             "endlinecolor": "#2a3f5f",
             "gridcolor": "white",
             "linecolor": "white",
             "minorgridcolor": "white",
             "startlinecolor": "#2a3f5f"
            },
            "baxis": {
             "endlinecolor": "#2a3f5f",
             "gridcolor": "white",
             "linecolor": "white",
             "minorgridcolor": "white",
             "startlinecolor": "#2a3f5f"
            },
            "type": "carpet"
           }
          ],
          "choropleth": [
           {
            "colorbar": {
             "outlinewidth": 0,
             "ticks": ""
            },
            "type": "choropleth"
           }
          ],
          "contour": [
           {
            "colorbar": {
             "outlinewidth": 0,
             "ticks": ""
            },
            "colorscale": [
             [
              0,
              "#0d0887"
             ],
             [
              0.1111111111111111,
              "#46039f"
             ],
             [
              0.2222222222222222,
              "#7201a8"
             ],
             [
              0.3333333333333333,
              "#9c179e"
             ],
             [
              0.4444444444444444,
              "#bd3786"
             ],
             [
              0.5555555555555556,
              "#d8576b"
             ],
             [
              0.6666666666666666,
              "#ed7953"
             ],
             [
              0.7777777777777778,
              "#fb9f3a"
             ],
             [
              0.8888888888888888,
              "#fdca26"
             ],
             [
              1,
              "#f0f921"
             ]
            ],
            "type": "contour"
           }
          ],
          "contourcarpet": [
           {
            "colorbar": {
             "outlinewidth": 0,
             "ticks": ""
            },
            "type": "contourcarpet"
           }
          ],
          "heatmap": [
           {
            "colorbar": {
             "outlinewidth": 0,
             "ticks": ""
            },
            "colorscale": [
             [
              0,
              "#0d0887"
             ],
             [
              0.1111111111111111,
              "#46039f"
             ],
             [
              0.2222222222222222,
              "#7201a8"
             ],
             [
              0.3333333333333333,
              "#9c179e"
             ],
             [
              0.4444444444444444,
              "#bd3786"
             ],
             [
              0.5555555555555556,
              "#d8576b"
             ],
             [
              0.6666666666666666,
              "#ed7953"
             ],
             [
              0.7777777777777778,
              "#fb9f3a"
             ],
             [
              0.8888888888888888,
              "#fdca26"
             ],
             [
              1,
              "#f0f921"
             ]
            ],
            "type": "heatmap"
           }
          ],
          "heatmapgl": [
           {
            "colorbar": {
             "outlinewidth": 0,
             "ticks": ""
            },
            "colorscale": [
             [
              0,
              "#0d0887"
             ],
             [
              0.1111111111111111,
              "#46039f"
             ],
             [
              0.2222222222222222,
              "#7201a8"
             ],
             [
              0.3333333333333333,
              "#9c179e"
             ],
             [
              0.4444444444444444,
              "#bd3786"
             ],
             [
              0.5555555555555556,
              "#d8576b"
             ],
             [
              0.6666666666666666,
              "#ed7953"
             ],
             [
              0.7777777777777778,
              "#fb9f3a"
             ],
             [
              0.8888888888888888,
              "#fdca26"
             ],
             [
              1,
              "#f0f921"
             ]
            ],
            "type": "heatmapgl"
           }
          ],
          "histogram": [
           {
            "marker": {
             "colorbar": {
              "outlinewidth": 0,
              "ticks": ""
             }
            },
            "type": "histogram"
           }
          ],
          "histogram2d": [
           {
            "colorbar": {
             "outlinewidth": 0,
             "ticks": ""
            },
            "colorscale": [
             [
              0,
              "#0d0887"
             ],
             [
              0.1111111111111111,
              "#46039f"
             ],
             [
              0.2222222222222222,
              "#7201a8"
             ],
             [
              0.3333333333333333,
              "#9c179e"
             ],
             [
              0.4444444444444444,
              "#bd3786"
             ],
             [
              0.5555555555555556,
              "#d8576b"
             ],
             [
              0.6666666666666666,
              "#ed7953"
             ],
             [
              0.7777777777777778,
              "#fb9f3a"
             ],
             [
              0.8888888888888888,
              "#fdca26"
             ],
             [
              1,
              "#f0f921"
             ]
            ],
            "type": "histogram2d"
           }
          ],
          "histogram2dcontour": [
           {
            "colorbar": {
             "outlinewidth": 0,
             "ticks": ""
            },
            "colorscale": [
             [
              0,
              "#0d0887"
             ],
             [
              0.1111111111111111,
              "#46039f"
             ],
             [
              0.2222222222222222,
              "#7201a8"
             ],
             [
              0.3333333333333333,
              "#9c179e"
             ],
             [
              0.4444444444444444,
              "#bd3786"
             ],
             [
              0.5555555555555556,
              "#d8576b"
             ],
             [
              0.6666666666666666,
              "#ed7953"
             ],
             [
              0.7777777777777778,
              "#fb9f3a"
             ],
             [
              0.8888888888888888,
              "#fdca26"
             ],
             [
              1,
              "#f0f921"
             ]
            ],
            "type": "histogram2dcontour"
           }
          ],
          "mesh3d": [
           {
            "colorbar": {
             "outlinewidth": 0,
             "ticks": ""
            },
            "type": "mesh3d"
           }
          ],
          "parcoords": [
           {
            "line": {
             "colorbar": {
              "outlinewidth": 0,
              "ticks": ""
             }
            },
            "type": "parcoords"
           }
          ],
          "pie": [
           {
            "automargin": true,
            "type": "pie"
           }
          ],
          "scatter": [
           {
            "marker": {
             "colorbar": {
              "outlinewidth": 0,
              "ticks": ""
             }
            },
            "type": "scatter"
           }
          ],
          "scatter3d": [
           {
            "line": {
             "colorbar": {
              "outlinewidth": 0,
              "ticks": ""
             }
            },
            "marker": {
             "colorbar": {
              "outlinewidth": 0,
              "ticks": ""
             }
            },
            "type": "scatter3d"
           }
          ],
          "scattercarpet": [
           {
            "marker": {
             "colorbar": {
              "outlinewidth": 0,
              "ticks": ""
             }
            },
            "type": "scattercarpet"
           }
          ],
          "scattergeo": [
           {
            "marker": {
             "colorbar": {
              "outlinewidth": 0,
              "ticks": ""
             }
            },
            "type": "scattergeo"
           }
          ],
          "scattergl": [
           {
            "marker": {
             "colorbar": {
              "outlinewidth": 0,
              "ticks": ""
             }
            },
            "type": "scattergl"
           }
          ],
          "scattermapbox": [
           {
            "marker": {
             "colorbar": {
              "outlinewidth": 0,
              "ticks": ""
             }
            },
            "type": "scattermapbox"
           }
          ],
          "scatterpolar": [
           {
            "marker": {
             "colorbar": {
              "outlinewidth": 0,
              "ticks": ""
             }
            },
            "type": "scatterpolar"
           }
          ],
          "scatterpolargl": [
           {
            "marker": {
             "colorbar": {
              "outlinewidth": 0,
              "ticks": ""
             }
            },
            "type": "scatterpolargl"
           }
          ],
          "scatterternary": [
           {
            "marker": {
             "colorbar": {
              "outlinewidth": 0,
              "ticks": ""
             }
            },
            "type": "scatterternary"
           }
          ],
          "surface": [
           {
            "colorbar": {
             "outlinewidth": 0,
             "ticks": ""
            },
            "colorscale": [
             [
              0,
              "#0d0887"
             ],
             [
              0.1111111111111111,
              "#46039f"
             ],
             [
              0.2222222222222222,
              "#7201a8"
             ],
             [
              0.3333333333333333,
              "#9c179e"
             ],
             [
              0.4444444444444444,
              "#bd3786"
             ],
             [
              0.5555555555555556,
              "#d8576b"
             ],
             [
              0.6666666666666666,
              "#ed7953"
             ],
             [
              0.7777777777777778,
              "#fb9f3a"
             ],
             [
              0.8888888888888888,
              "#fdca26"
             ],
             [
              1,
              "#f0f921"
             ]
            ],
            "type": "surface"
           }
          ],
          "table": [
           {
            "cells": {
             "fill": {
              "color": "#EBF0F8"
             },
             "line": {
              "color": "white"
             }
            },
            "header": {
             "fill": {
              "color": "#C8D4E3"
             },
             "line": {
              "color": "white"
             }
            },
            "type": "table"
           }
          ]
         },
         "layout": {
          "annotationdefaults": {
           "arrowcolor": "#2a3f5f",
           "arrowhead": 0,
           "arrowwidth": 1
          },
          "autotypenumbers": "strict",
          "coloraxis": {
           "colorbar": {
            "outlinewidth": 0,
            "ticks": ""
           }
          },
          "colorscale": {
           "diverging": [
            [
             0,
             "#8e0152"
            ],
            [
             0.1,
             "#c51b7d"
            ],
            [
             0.2,
             "#de77ae"
            ],
            [
             0.3,
             "#f1b6da"
            ],
            [
             0.4,
             "#fde0ef"
            ],
            [
             0.5,
             "#f7f7f7"
            ],
            [
             0.6,
             "#e6f5d0"
            ],
            [
             0.7,
             "#b8e186"
            ],
            [
             0.8,
             "#7fbc41"
            ],
            [
             0.9,
             "#4d9221"
            ],
            [
             1,
             "#276419"
            ]
           ],
           "sequential": [
            [
             0,
             "#0d0887"
            ],
            [
             0.1111111111111111,
             "#46039f"
            ],
            [
             0.2222222222222222,
             "#7201a8"
            ],
            [
             0.3333333333333333,
             "#9c179e"
            ],
            [
             0.4444444444444444,
             "#bd3786"
            ],
            [
             0.5555555555555556,
             "#d8576b"
            ],
            [
             0.6666666666666666,
             "#ed7953"
            ],
            [
             0.7777777777777778,
             "#fb9f3a"
            ],
            [
             0.8888888888888888,
             "#fdca26"
            ],
            [
             1,
             "#f0f921"
            ]
           ],
           "sequentialminus": [
            [
             0,
             "#0d0887"
            ],
            [
             0.1111111111111111,
             "#46039f"
            ],
            [
             0.2222222222222222,
             "#7201a8"
            ],
            [
             0.3333333333333333,
             "#9c179e"
            ],
            [
             0.4444444444444444,
             "#bd3786"
            ],
            [
             0.5555555555555556,
             "#d8576b"
            ],
            [
             0.6666666666666666,
             "#ed7953"
            ],
            [
             0.7777777777777778,
             "#fb9f3a"
            ],
            [
             0.8888888888888888,
             "#fdca26"
            ],
            [
             1,
             "#f0f921"
            ]
           ]
          },
          "colorway": [
           "#636efa",
           "#EF553B",
           "#00cc96",
           "#ab63fa",
           "#FFA15A",
           "#19d3f3",
           "#FF6692",
           "#B6E880",
           "#FF97FF",
           "#FECB52"
          ],
          "font": {
           "color": "#2a3f5f"
          },
          "geo": {
           "bgcolor": "white",
           "lakecolor": "white",
           "landcolor": "#E5ECF6",
           "showlakes": true,
           "showland": true,
           "subunitcolor": "white"
          },
          "hoverlabel": {
           "align": "left"
          },
          "hovermode": "closest",
          "mapbox": {
           "style": "light"
          },
          "paper_bgcolor": "white",
          "plot_bgcolor": "#E5ECF6",
          "polar": {
           "angularaxis": {
            "gridcolor": "white",
            "linecolor": "white",
            "ticks": ""
           },
           "bgcolor": "#E5ECF6",
           "radialaxis": {
            "gridcolor": "white",
            "linecolor": "white",
            "ticks": ""
           }
          },
          "scene": {
           "xaxis": {
            "backgroundcolor": "#E5ECF6",
            "gridcolor": "white",
            "gridwidth": 2,
            "linecolor": "white",
            "showbackground": true,
            "ticks": "",
            "zerolinecolor": "white"
           },
           "yaxis": {
            "backgroundcolor": "#E5ECF6",
            "gridcolor": "white",
            "gridwidth": 2,
            "linecolor": "white",
            "showbackground": true,
            "ticks": "",
            "zerolinecolor": "white"
           },
           "zaxis": {
            "backgroundcolor": "#E5ECF6",
            "gridcolor": "white",
            "gridwidth": 2,
            "linecolor": "white",
            "showbackground": true,
            "ticks": "",
            "zerolinecolor": "white"
           }
          },
          "shapedefaults": {
           "line": {
            "color": "#2a3f5f"
           }
          },
          "ternary": {
           "aaxis": {
            "gridcolor": "white",
            "linecolor": "white",
            "ticks": ""
           },
           "baxis": {
            "gridcolor": "white",
            "linecolor": "white",
            "ticks": ""
           },
           "bgcolor": "#E5ECF6",
           "caxis": {
            "gridcolor": "white",
            "linecolor": "white",
            "ticks": ""
           }
          },
          "title": {
           "x": 0.05
          },
          "xaxis": {
           "automargin": true,
           "gridcolor": "white",
           "linecolor": "white",
           "ticks": "",
           "title": {
            "standoff": 15
           },
           "zerolinecolor": "white",
           "zerolinewidth": 2
          },
          "yaxis": {
           "automargin": true,
           "gridcolor": "white",
           "linecolor": "white",
           "ticks": "",
           "title": {
            "standoff": 15
           },
           "zerolinecolor": "white",
           "zerolinewidth": 2
          }
         }
        },
        "xaxis": {
         "anchor": "y",
         "autorange": true,
         "domain": [
          0,
          1
         ],
         "range": [
          -0.5,
          31.5
         ],
         "title": {
          "text": "samples"
         },
         "type": "category"
        },
        "yaxis": {
         "anchor": "x",
         "autorange": true,
         "domain": [
          0,
          1
         ],
         "range": [
          0,
          941.0526315789474
         ],
         "title": {
          "text": "value"
         },
         "type": "linear"
        }
       }
      },
      "image/png": "[encoded data removed]"
     },
     "metadata": {},
     "output_type": "display_data"
    }
   ],
   "source": [
    "fig = px.bar(\n",
    "    df_cell_annotations.pivot_table(index=\"samples\", columns=\"treatment.group\", aggfunc='size', fill_value=0)\n",
    ")\n",
    "\n",
    "fig.show(renderer='jupyterlab+png')"
   ]
  },
  {
   "cell_type": "code",
   "execution_count": 74,
   "id": "afccbe11",
   "metadata": {},
   "outputs": [
    {
     "data": {
      "application/vnd.plotly.v1+json": {
       "config": {
        "plotlyServerURL": "https://plot.ly"
       },
       "data": [
        {
         "alignmentgroup": "True",
         "hovertemplate": "cell.types=?<br>samples=%{x}<br>value=%{y}<extra></extra>",
         "legendgroup": "?",
         "marker": {
          "color": "#636efa"
         },
         "name": "?",
         "offsetgroup": "?",
         "orientation": "v",
         "showlegend": true,
         "textposition": "auto",
         "type": "bar",
         "x": [
          "Mel04.3",
          "Mel102",
          "Mel103",
          "Mel105",
          "Mel106",
          "Mel110",
          "Mel112",
          "Mel116",
          "Mel121.1",
          "Mel126",
          "Mel128",
          "Mel129pa",
          "Mel129pb",
          "Mel194",
          "Mel478",
          "Mel53",
          "Mel58",
          "Mel60",
          "Mel71",
          "Mel72",
          "Mel74",
          "Mel75",
          "Mel78",
          "Mel79",
          "Mel80",
          "Mel81",
          "Mel82",
          "Mel84",
          "Mel88",
          "Mel89",
          "Mel94",
          "Mel98"
         ],
         "xaxis": "x",
         "y": [
          1,
          0,
          12,
          28,
          13,
          10,
          2,
          3,
          2,
          1,
          4,
          14,
          2,
          3,
          1,
          4,
          8,
          1,
          2,
          21,
          6,
          14,
          1,
          4,
          23,
          26,
          31,
          12,
          16,
          15,
          21,
          6
         ],
         "yaxis": "y"
        },
        {
         "alignmentgroup": "True",
         "hovertemplate": "cell.types=B.cell<br>samples=%{x}<br>value=%{y}<extra></extra>",
         "legendgroup": "B.cell",
         "marker": {
          "color": "#EF553B"
         },
         "name": "B.cell",
         "offsetgroup": "B.cell",
         "orientation": "v",
         "showlegend": true,
         "textposition": "auto",
         "type": "bar",
         "x": [
          "Mel04.3",
          "Mel102",
          "Mel103",
          "Mel105",
          "Mel106",
          "Mel110",
          "Mel112",
          "Mel116",
          "Mel121.1",
          "Mel126",
          "Mel128",
          "Mel129pa",
          "Mel129pb",
          "Mel194",
          "Mel478",
          "Mel53",
          "Mel58",
          "Mel60",
          "Mel71",
          "Mel72",
          "Mel74",
          "Mel75",
          "Mel78",
          "Mel79",
          "Mel80",
          "Mel81",
          "Mel82",
          "Mel84",
          "Mel88",
          "Mel89",
          "Mel94",
          "Mel98"
         ],
         "xaxis": "x",
         "y": [
          2,
          13,
          64,
          30,
          34,
          1,
          32,
          17,
          7,
          3,
          22,
          4,
          1,
          0,
          27,
          0,
          2,
          106,
          0,
          37,
          13,
          0,
          1,
          87,
          56,
          3,
          3,
          30,
          20,
          87,
          116,
          0
         ],
         "yaxis": "y"
        },
        {
         "alignmentgroup": "True",
         "hovertemplate": "cell.types=CAF<br>samples=%{x}<br>value=%{y}<extra></extra>",
         "legendgroup": "CAF",
         "marker": {
          "color": "#00cc96"
         },
         "name": "CAF",
         "offsetgroup": "CAF",
         "orientation": "v",
         "showlegend": true,
         "textposition": "auto",
         "type": "bar",
         "x": [
          "Mel04.3",
          "Mel102",
          "Mel103",
          "Mel105",
          "Mel106",
          "Mel110",
          "Mel112",
          "Mel116",
          "Mel121.1",
          "Mel126",
          "Mel128",
          "Mel129pa",
          "Mel129pb",
          "Mel194",
          "Mel478",
          "Mel53",
          "Mel58",
          "Mel60",
          "Mel71",
          "Mel72",
          "Mel74",
          "Mel75",
          "Mel78",
          "Mel79",
          "Mel80",
          "Mel81",
          "Mel82",
          "Mel84",
          "Mel88",
          "Mel89",
          "Mel94",
          "Mel98"
         ],
         "xaxis": "x",
         "y": [
          0,
          0,
          0,
          3,
          5,
          0,
          9,
          0,
          0,
          0,
          0,
          3,
          0,
          0,
          0,
          6,
          0,
          0,
          0,
          0,
          0,
          27,
          1,
          3,
          22,
          9,
          4,
          1,
          3,
          1,
          9,
          0
         ],
         "yaxis": "y"
        },
        {
         "alignmentgroup": "True",
         "hovertemplate": "cell.types=Endo.<br>samples=%{x}<br>value=%{y}<extra></extra>",
         "legendgroup": "Endo.",
         "marker": {
          "color": "#ab63fa"
         },
         "name": "Endo.",
         "offsetgroup": "Endo.",
         "orientation": "v",
         "showlegend": true,
         "textposition": "auto",
         "type": "bar",
         "x": [
          "Mel04.3",
          "Mel102",
          "Mel103",
          "Mel105",
          "Mel106",
          "Mel110",
          "Mel112",
          "Mel116",
          "Mel121.1",
          "Mel126",
          "Mel128",
          "Mel129pa",
          "Mel129pb",
          "Mel194",
          "Mel478",
          "Mel53",
          "Mel58",
          "Mel60",
          "Mel71",
          "Mel72",
          "Mel74",
          "Mel75",
          "Mel78",
          "Mel79",
          "Mel80",
          "Mel81",
          "Mel82",
          "Mel84",
          "Mel88",
          "Mel89",
          "Mel94",
          "Mel98"
         ],
         "xaxis": "x",
         "y": [
          0,
          0,
          2,
          40,
          0,
          0,
          0,
          0,
          1,
          0,
          0,
          0,
          0,
          0,
          0,
          11,
          0,
          0,
          0,
          0,
          0,
          2,
          0,
          9,
          17,
          4,
          0,
          2,
          0,
          2,
          14,
          0
         ],
         "yaxis": "y"
        },
        {
         "alignmentgroup": "True",
         "hovertemplate": "cell.types=Macrophage<br>samples=%{x}<br>value=%{y}<extra></extra>",
         "legendgroup": "Macrophage",
         "marker": {
          "color": "#FFA15A"
         },
         "name": "Macrophage",
         "offsetgroup": "Macrophage",
         "orientation": "v",
         "showlegend": true,
         "textposition": "auto",
         "type": "bar",
         "x": [
          "Mel04.3",
          "Mel102",
          "Mel103",
          "Mel105",
          "Mel106",
          "Mel110",
          "Mel112",
          "Mel116",
          "Mel121.1",
          "Mel126",
          "Mel128",
          "Mel129pa",
          "Mel129pb",
          "Mel194",
          "Mel478",
          "Mel53",
          "Mel58",
          "Mel60",
          "Mel71",
          "Mel72",
          "Mel74",
          "Mel75",
          "Mel78",
          "Mel79",
          "Mel80",
          "Mel81",
          "Mel82",
          "Mel84",
          "Mel88",
          "Mel89",
          "Mel94",
          "Mel98"
         ],
         "xaxis": "x",
         "y": [
          2,
          28,
          14,
          7,
          0,
          89,
          4,
          4,
          11,
          14,
          2,
          28,
          21,
          6,
          0,
          20,
          5,
          7,
          2,
          1,
          7,
          9,
          0,
          1,
          3,
          1,
          8,
          24,
          47,
          22,
          7,
          26
         ],
         "yaxis": "y"
        },
        {
         "alignmentgroup": "True",
         "hovertemplate": "cell.types=Mal<br>samples=%{x}<br>value=%{y}<extra></extra>",
         "legendgroup": "Mal",
         "marker": {
          "color": "#19d3f3"
         },
         "name": "Mal",
         "offsetgroup": "Mal",
         "orientation": "v",
         "showlegend": true,
         "textposition": "auto",
         "type": "bar",
         "x": [
          "Mel04.3",
          "Mel102",
          "Mel103",
          "Mel105",
          "Mel106",
          "Mel110",
          "Mel112",
          "Mel116",
          "Mel121.1",
          "Mel126",
          "Mel128",
          "Mel129pa",
          "Mel129pb",
          "Mel194",
          "Mel478",
          "Mel53",
          "Mel58",
          "Mel60",
          "Mel71",
          "Mel72",
          "Mel74",
          "Mel75",
          "Mel78",
          "Mel79",
          "Mel80",
          "Mel81",
          "Mel82",
          "Mel84",
          "Mel88",
          "Mel89",
          "Mel94",
          "Mel98"
         ],
         "xaxis": "x",
         "y": [
          0,
          169,
          137,
          14,
          94,
          123,
          28,
          0,
          5,
          0,
          26,
          92,
          0,
          96,
          0,
          14,
          0,
          12,
          62,
          0,
          0,
          0,
          120,
          486,
          92,
          120,
          6,
          16,
          124,
          100,
          6,
          76
         ],
         "yaxis": "y"
        },
        {
         "alignmentgroup": "True",
         "hovertemplate": "cell.types=NK<br>samples=%{x}<br>value=%{y}<extra></extra>",
         "legendgroup": "NK",
         "marker": {
          "color": "#FF6692"
         },
         "name": "NK",
         "offsetgroup": "NK",
         "orientation": "v",
         "showlegend": true,
         "textposition": "auto",
         "type": "bar",
         "x": [
          "Mel04.3",
          "Mel102",
          "Mel103",
          "Mel105",
          "Mel106",
          "Mel110",
          "Mel112",
          "Mel116",
          "Mel121.1",
          "Mel126",
          "Mel128",
          "Mel129pa",
          "Mel129pb",
          "Mel194",
          "Mel478",
          "Mel53",
          "Mel58",
          "Mel60",
          "Mel71",
          "Mel72",
          "Mel74",
          "Mel75",
          "Mel78",
          "Mel79",
          "Mel80",
          "Mel81",
          "Mel82",
          "Mel84",
          "Mel88",
          "Mel89",
          "Mel94",
          "Mel98"
         ],
         "xaxis": "x",
         "y": [
          7,
          0,
          0,
          4,
          0,
          0,
          2,
          0,
          7,
          1,
          0,
          0,
          3,
          0,
          1,
          12,
          3,
          9,
          0,
          2,
          2,
          6,
          0,
          1,
          8,
          2,
          3,
          7,
          8,
          1,
          1,
          2
         ],
         "yaxis": "y"
        },
        {
         "alignmentgroup": "True",
         "hovertemplate": "cell.types=T.CD4<br>samples=%{x}<br>value=%{y}<extra></extra>",
         "legendgroup": "T.CD4",
         "marker": {
          "color": "#B6E880"
         },
         "name": "T.CD4",
         "offsetgroup": "T.CD4",
         "orientation": "v",
         "showlegend": true,
         "textposition": "auto",
         "type": "bar",
         "x": [
          "Mel04.3",
          "Mel102",
          "Mel103",
          "Mel105",
          "Mel106",
          "Mel110",
          "Mel112",
          "Mel116",
          "Mel121.1",
          "Mel126",
          "Mel128",
          "Mel129pa",
          "Mel129pb",
          "Mel194",
          "Mel478",
          "Mel53",
          "Mel58",
          "Mel60",
          "Mel71",
          "Mel72",
          "Mel74",
          "Mel75",
          "Mel78",
          "Mel79",
          "Mel80",
          "Mel81",
          "Mel82",
          "Mel84",
          "Mel88",
          "Mel89",
          "Mel94",
          "Mel98"
         ],
         "xaxis": "x",
         "y": [
          21,
          47,
          15,
          38,
          16,
          11,
          12,
          15,
          17,
          13,
          14,
          8,
          9,
          23,
          47,
          41,
          23,
          34,
          6,
          50,
          14,
          50,
          0,
          48,
          94,
          7,
          11,
          25,
          44,
          30,
          60,
          13
         ],
         "yaxis": "y"
        },
        {
         "alignmentgroup": "True",
         "hovertemplate": "cell.types=T.CD8<br>samples=%{x}<br>value=%{y}<extra></extra>",
         "legendgroup": "T.CD8",
         "marker": {
          "color": "#FF97FF"
         },
         "name": "T.CD8",
         "offsetgroup": "T.CD8",
         "orientation": "v",
         "showlegend": true,
         "textposition": "auto",
         "type": "bar",
         "x": [
          "Mel04.3",
          "Mel102",
          "Mel103",
          "Mel105",
          "Mel106",
          "Mel110",
          "Mel112",
          "Mel116",
          "Mel121.1",
          "Mel126",
          "Mel128",
          "Mel129pa",
          "Mel129pb",
          "Mel194",
          "Mel478",
          "Mel53",
          "Mel58",
          "Mel60",
          "Mel71",
          "Mel72",
          "Mel74",
          "Mel75",
          "Mel78",
          "Mel79",
          "Mel80",
          "Mel81",
          "Mel82",
          "Mel84",
          "Mel88",
          "Mel89",
          "Mel94",
          "Mel98"
         ],
         "xaxis": "x",
         "y": [
          31,
          32,
          57,
          33,
          8,
          16,
          11,
          29,
          26,
          54,
          9,
          29,
          25,
          109,
          51,
          26,
          76,
          35,
          15,
          21,
          88,
          347,
          0,
          224,
          58,
          18,
          6,
          26,
          45,
          103,
          26,
          125
         ],
         "yaxis": "y"
        },
        {
         "alignmentgroup": "True",
         "hovertemplate": "cell.types=T.cell<br>samples=%{x}<br>value=%{y}<extra></extra>",
         "legendgroup": "T.cell",
         "marker": {
          "color": "#FECB52"
         },
         "name": "T.cell",
         "offsetgroup": "T.cell",
         "orientation": "v",
         "showlegend": true,
         "textposition": "auto",
         "type": "bar",
         "x": [
          "Mel04.3",
          "Mel102",
          "Mel103",
          "Mel105",
          "Mel106",
          "Mel110",
          "Mel112",
          "Mel116",
          "Mel121.1",
          "Mel126",
          "Mel128",
          "Mel129pa",
          "Mel129pb",
          "Mel194",
          "Mel478",
          "Mel53",
          "Mel58",
          "Mel60",
          "Mel71",
          "Mel72",
          "Mel74",
          "Mel75",
          "Mel78",
          "Mel79",
          "Mel80",
          "Mel81",
          "Mel82",
          "Mel84",
          "Mel88",
          "Mel89",
          "Mel94",
          "Mel98"
         ],
         "xaxis": "x",
         "y": [
          14,
          33,
          16,
          37,
          20,
          8,
          13,
          16,
          29,
          9,
          12,
          1,
          3,
          12,
          27,
          9,
          25,
          22,
          2,
          49,
          17,
          51,
          1,
          31,
          58,
          15,
          12,
          16,
          45,
          30,
          51,
          22
         ],
         "yaxis": "y"
        }
       ],
       "layout": {
        "autosize": true,
        "barmode": "relative",
        "legend": {
         "title": {
          "text": "cell.types"
         },
         "tracegroupgap": 0
        },
        "margin": {
         "t": 60
        },
        "template": {
         "data": {
          "bar": [
           {
            "error_x": {
             "color": "#2a3f5f"
            },
            "error_y": {
             "color": "#2a3f5f"
            },
            "marker": {
             "line": {
              "color": "#E5ECF6",
              "width": 0.5
             }
            },
            "type": "bar"
           }
          ],
          "barpolar": [
           {
            "marker": {
             "line": {
              "color": "#E5ECF6",
              "width": 0.5
             }
            },
            "type": "barpolar"
           }
          ],
          "carpet": [
           {
            "aaxis": {
             "endlinecolor": "#2a3f5f",
             "gridcolor": "white",
             "linecolor": "white",
             "minorgridcolor": "white",
             "startlinecolor": "#2a3f5f"
            },
            "baxis": {
             "endlinecolor": "#2a3f5f",
             "gridcolor": "white",
             "linecolor": "white",
             "minorgridcolor": "white",
             "startlinecolor": "#2a3f5f"
            },
            "type": "carpet"
           }
          ],
          "choropleth": [
           {
            "colorbar": {
             "outlinewidth": 0,
             "ticks": ""
            },
            "type": "choropleth"
           }
          ],
          "contour": [
           {
            "colorbar": {
             "outlinewidth": 0,
             "ticks": ""
            },
            "colorscale": [
             [
              0,
              "#0d0887"
             ],
             [
              0.1111111111111111,
              "#46039f"
             ],
             [
              0.2222222222222222,
              "#7201a8"
             ],
             [
              0.3333333333333333,
              "#9c179e"
             ],
             [
              0.4444444444444444,
              "#bd3786"
             ],
             [
              0.5555555555555556,
              "#d8576b"
             ],
             [
              0.6666666666666666,
              "#ed7953"
             ],
             [
              0.7777777777777778,
              "#fb9f3a"
             ],
             [
              0.8888888888888888,
              "#fdca26"
             ],
             [
              1,
              "#f0f921"
             ]
            ],
            "type": "contour"
           }
          ],
          "contourcarpet": [
           {
            "colorbar": {
             "outlinewidth": 0,
             "ticks": ""
            },
            "type": "contourcarpet"
           }
          ],
          "heatmap": [
           {
            "colorbar": {
             "outlinewidth": 0,
             "ticks": ""
            },
            "colorscale": [
             [
              0,
              "#0d0887"
             ],
             [
              0.1111111111111111,
              "#46039f"
             ],
             [
              0.2222222222222222,
              "#7201a8"
             ],
             [
              0.3333333333333333,
              "#9c179e"
             ],
             [
              0.4444444444444444,
              "#bd3786"
             ],
             [
              0.5555555555555556,
              "#d8576b"
             ],
             [
              0.6666666666666666,
              "#ed7953"
             ],
             [
              0.7777777777777778,
              "#fb9f3a"
             ],
             [
              0.8888888888888888,
              "#fdca26"
             ],
             [
              1,
              "#f0f921"
             ]
            ],
            "type": "heatmap"
           }
          ],
          "heatmapgl": [
           {
            "colorbar": {
             "outlinewidth": 0,
             "ticks": ""
            },
            "colorscale": [
             [
              0,
              "#0d0887"
             ],
             [
              0.1111111111111111,
              "#46039f"
             ],
             [
              0.2222222222222222,
              "#7201a8"
             ],
             [
              0.3333333333333333,
              "#9c179e"
             ],
             [
              0.4444444444444444,
              "#bd3786"
             ],
             [
              0.5555555555555556,
              "#d8576b"
             ],
             [
              0.6666666666666666,
              "#ed7953"
             ],
             [
              0.7777777777777778,
              "#fb9f3a"
             ],
             [
              0.8888888888888888,
              "#fdca26"
             ],
             [
              1,
              "#f0f921"
             ]
            ],
            "type": "heatmapgl"
           }
          ],
          "histogram": [
           {
            "marker": {
             "colorbar": {
              "outlinewidth": 0,
              "ticks": ""
             }
            },
            "type": "histogram"
           }
          ],
          "histogram2d": [
           {
            "colorbar": {
             "outlinewidth": 0,
             "ticks": ""
            },
            "colorscale": [
             [
              0,
              "#0d0887"
             ],
             [
              0.1111111111111111,
              "#46039f"
             ],
             [
              0.2222222222222222,
              "#7201a8"
             ],
             [
              0.3333333333333333,
              "#9c179e"
             ],
             [
              0.4444444444444444,
              "#bd3786"
             ],
             [
              0.5555555555555556,
              "#d8576b"
             ],
             [
              0.6666666666666666,
              "#ed7953"
             ],
             [
              0.7777777777777778,
              "#fb9f3a"
             ],
             [
              0.8888888888888888,
              "#fdca26"
             ],
             [
              1,
              "#f0f921"
             ]
            ],
            "type": "histogram2d"
           }
          ],
          "histogram2dcontour": [
           {
            "colorbar": {
             "outlinewidth": 0,
             "ticks": ""
            },
            "colorscale": [
             [
              0,
              "#0d0887"
             ],
             [
              0.1111111111111111,
              "#46039f"
             ],
             [
              0.2222222222222222,
              "#7201a8"
             ],
             [
              0.3333333333333333,
              "#9c179e"
             ],
             [
              0.4444444444444444,
              "#bd3786"
             ],
             [
              0.5555555555555556,
              "#d8576b"
             ],
             [
              0.6666666666666666,
              "#ed7953"
             ],
             [
              0.7777777777777778,
              "#fb9f3a"
             ],
             [
              0.8888888888888888,
              "#fdca26"
             ],
             [
              1,
              "#f0f921"
             ]
            ],
            "type": "histogram2dcontour"
           }
          ],
          "mesh3d": [
           {
            "colorbar": {
             "outlinewidth": 0,
             "ticks": ""
            },
            "type": "mesh3d"
           }
          ],
          "parcoords": [
           {
            "line": {
             "colorbar": {
              "outlinewidth": 0,
              "ticks": ""
             }
            },
            "type": "parcoords"
           }
          ],
          "pie": [
           {
            "automargin": true,
            "type": "pie"
           }
          ],
          "scatter": [
           {
            "marker": {
             "colorbar": {
              "outlinewidth": 0,
              "ticks": ""
             }
            },
            "type": "scatter"
           }
          ],
          "scatter3d": [
           {
            "line": {
             "colorbar": {
              "outlinewidth": 0,
              "ticks": ""
             }
            },
            "marker": {
             "colorbar": {
              "outlinewidth": 0,
              "ticks": ""
             }
            },
            "type": "scatter3d"
           }
          ],
          "scattercarpet": [
           {
            "marker": {
             "colorbar": {
              "outlinewidth": 0,
              "ticks": ""
             }
            },
            "type": "scattercarpet"
           }
          ],
          "scattergeo": [
           {
            "marker": {
             "colorbar": {
              "outlinewidth": 0,
              "ticks": ""
             }
            },
            "type": "scattergeo"
           }
          ],
          "scattergl": [
           {
            "marker": {
             "colorbar": {
              "outlinewidth": 0,
              "ticks": ""
             }
            },
            "type": "scattergl"
           }
          ],
          "scattermapbox": [
           {
            "marker": {
             "colorbar": {
              "outlinewidth": 0,
              "ticks": ""
             }
            },
            "type": "scattermapbox"
           }
          ],
          "scatterpolar": [
           {
            "marker": {
             "colorbar": {
              "outlinewidth": 0,
              "ticks": ""
             }
            },
            "type": "scatterpolar"
           }
          ],
          "scatterpolargl": [
           {
            "marker": {
             "colorbar": {
              "outlinewidth": 0,
              "ticks": ""
             }
            },
            "type": "scatterpolargl"
           }
          ],
          "scatterternary": [
           {
            "marker": {
             "colorbar": {
              "outlinewidth": 0,
              "ticks": ""
             }
            },
            "type": "scatterternary"
           }
          ],
          "surface": [
           {
            "colorbar": {
             "outlinewidth": 0,
             "ticks": ""
            },
            "colorscale": [
             [
              0,
              "#0d0887"
             ],
             [
              0.1111111111111111,
              "#46039f"
             ],
             [
              0.2222222222222222,
              "#7201a8"
             ],
             [
              0.3333333333333333,
              "#9c179e"
             ],
             [
              0.4444444444444444,
              "#bd3786"
             ],
             [
              0.5555555555555556,
              "#d8576b"
             ],
             [
              0.6666666666666666,
              "#ed7953"
             ],
             [
              0.7777777777777778,
              "#fb9f3a"
             ],
             [
              0.8888888888888888,
              "#fdca26"
             ],
             [
              1,
              "#f0f921"
             ]
            ],
            "type": "surface"
           }
          ],
          "table": [
           {
            "cells": {
             "fill": {
              "color": "#EBF0F8"
             },
             "line": {
              "color": "white"
             }
            },
            "header": {
             "fill": {
              "color": "#C8D4E3"
             },
             "line": {
              "color": "white"
             }
            },
            "type": "table"
           }
          ]
         },
         "layout": {
          "annotationdefaults": {
           "arrowcolor": "#2a3f5f",
           "arrowhead": 0,
           "arrowwidth": 1
          },
          "autotypenumbers": "strict",
          "coloraxis": {
           "colorbar": {
            "outlinewidth": 0,
            "ticks": ""
           }
          },
          "colorscale": {
           "diverging": [
            [
             0,
             "#8e0152"
            ],
            [
             0.1,
             "#c51b7d"
            ],
            [
             0.2,
             "#de77ae"
            ],
            [
             0.3,
             "#f1b6da"
            ],
            [
             0.4,
             "#fde0ef"
            ],
            [
             0.5,
             "#f7f7f7"
            ],
            [
             0.6,
             "#e6f5d0"
            ],
            [
             0.7,
             "#b8e186"
            ],
            [
             0.8,
             "#7fbc41"
            ],
            [
             0.9,
             "#4d9221"
            ],
            [
             1,
             "#276419"
            ]
           ],
           "sequential": [
            [
             0,
             "#0d0887"
            ],
            [
             0.1111111111111111,
             "#46039f"
            ],
            [
             0.2222222222222222,
             "#7201a8"
            ],
            [
             0.3333333333333333,
             "#9c179e"
            ],
            [
             0.4444444444444444,
             "#bd3786"
            ],
            [
             0.5555555555555556,
             "#d8576b"
            ],
            [
             0.6666666666666666,
             "#ed7953"
            ],
            [
             0.7777777777777778,
             "#fb9f3a"
            ],
            [
             0.8888888888888888,
             "#fdca26"
            ],
            [
             1,
             "#f0f921"
            ]
           ],
           "sequentialminus": [
            [
             0,
             "#0d0887"
            ],
            [
             0.1111111111111111,
             "#46039f"
            ],
            [
             0.2222222222222222,
             "#7201a8"
            ],
            [
             0.3333333333333333,
             "#9c179e"
            ],
            [
             0.4444444444444444,
             "#bd3786"
            ],
            [
             0.5555555555555556,
             "#d8576b"
            ],
            [
             0.6666666666666666,
             "#ed7953"
            ],
            [
             0.7777777777777778,
             "#fb9f3a"
            ],
            [
             0.8888888888888888,
             "#fdca26"
            ],
            [
             1,
             "#f0f921"
            ]
           ]
          },
          "colorway": [
           "#636efa",
           "#EF553B",
           "#00cc96",
           "#ab63fa",
           "#FFA15A",
           "#19d3f3",
           "#FF6692",
           "#B6E880",
           "#FF97FF",
           "#FECB52"
          ],
          "font": {
           "color": "#2a3f5f"
          },
          "geo": {
           "bgcolor": "white",
           "lakecolor": "white",
           "landcolor": "#E5ECF6",
           "showlakes": true,
           "showland": true,
           "subunitcolor": "white"
          },
          "hoverlabel": {
           "align": "left"
          },
          "hovermode": "closest",
          "mapbox": {
           "style": "light"
          },
          "paper_bgcolor": "white",
          "plot_bgcolor": "#E5ECF6",
          "polar": {
           "angularaxis": {
            "gridcolor": "white",
            "linecolor": "white",
            "ticks": ""
           },
           "bgcolor": "#E5ECF6",
           "radialaxis": {
            "gridcolor": "white",
            "linecolor": "white",
            "ticks": ""
           }
          },
          "scene": {
           "xaxis": {
            "backgroundcolor": "#E5ECF6",
            "gridcolor": "white",
            "gridwidth": 2,
            "linecolor": "white",
            "showbackground": true,
            "ticks": "",
            "zerolinecolor": "white"
           },
           "yaxis": {
            "backgroundcolor": "#E5ECF6",
            "gridcolor": "white",
            "gridwidth": 2,
            "linecolor": "white",
            "showbackground": true,
            "ticks": "",
            "zerolinecolor": "white"
           },
           "zaxis": {
            "backgroundcolor": "#E5ECF6",
            "gridcolor": "white",
            "gridwidth": 2,
            "linecolor": "white",
            "showbackground": true,
            "ticks": "",
            "zerolinecolor": "white"
           }
          },
          "shapedefaults": {
           "line": {
            "color": "#2a3f5f"
           }
          },
          "ternary": {
           "aaxis": {
            "gridcolor": "white",
            "linecolor": "white",
            "ticks": ""
           },
           "baxis": {
            "gridcolor": "white",
            "linecolor": "white",
            "ticks": ""
           },
           "bgcolor": "#E5ECF6",
           "caxis": {
            "gridcolor": "white",
            "linecolor": "white",
            "ticks": ""
           }
          },
          "title": {
           "x": 0.05
          },
          "xaxis": {
           "automargin": true,
           "gridcolor": "white",
           "linecolor": "white",
           "ticks": "",
           "title": {
            "standoff": 15
           },
           "zerolinecolor": "white",
           "zerolinewidth": 2
          },
          "yaxis": {
           "automargin": true,
           "gridcolor": "white",
           "linecolor": "white",
           "ticks": "",
           "title": {
            "standoff": 15
           },
           "zerolinecolor": "white",
           "zerolinewidth": 2
          }
         }
        },
        "xaxis": {
         "anchor": "y",
         "autorange": true,
         "domain": [
          0,
          1
         ],
         "range": [
          -0.5,
          31.5
         ],
         "title": {
          "text": "samples"
         },
         "type": "category"
        },
        "yaxis": {
         "anchor": "x",
         "autorange": true,
         "domain": [
          0,
          1
         ],
         "range": [
          0,
          941.0526315789474
         ],
         "title": {
          "text": "value"
         },
         "type": "linear"
        }
       }
      },
      "image/png": "[encoded data removed]"
     },
     "metadata": {},
     "output_type": "display_data"
    }
   ],
   "source": [
    "fig = px.bar(\n",
    "    df_cell_annotations.pivot_table(index=\"samples\", columns=\"cell.types\", aggfunc='size', fill_value=0)\n",
    ")\n",
    "\n",
    "fig.show(renderer='jupyterlab+png')"
   ]
  },
  {
   "cell_type": "code",
   "execution_count": 76,
   "id": "84a56ede",
   "metadata": {},
   "outputs": [
    {
     "data": {
      "application/vnd.plotly.v1+json": {
       "config": {
        "plotlyServerURL": "https://plot.ly"
       },
       "data": [
        {
         "alignmentgroup": "True",
         "hovertemplate": "variable=cell.types<br>index=%{x}<br>value=%{y}<extra></extra>",
         "legendgroup": "cell.types",
         "marker": {
          "color": "#636efa"
         },
         "name": "cell.types",
         "offsetgroup": "cell.types",
         "orientation": "v",
         "showlegend": true,
         "textposition": "auto",
         "type": "bar",
         "x": [
          "Mal",
          "T.CD8",
          "T.CD4",
          "B.cell",
          "T.cell",
          "Macrophage",
          "?",
          "CAF",
          "Endo.",
          "NK"
         ],
         "xaxis": "x",
         "y": [
          2018,
          1759,
          856,
          818,
          706,
          420,
          307,
          106,
          104,
          92
         ],
         "yaxis": "y"
        }
       ],
       "layout": {
        "autosize": true,
        "barmode": "relative",
        "legend": {
         "title": {
          "text": "variable"
         },
         "tracegroupgap": 0
        },
        "margin": {
         "t": 60
        },
        "template": {
         "data": {
          "bar": [
           {
            "error_x": {
             "color": "#2a3f5f"
            },
            "error_y": {
             "color": "#2a3f5f"
            },
            "marker": {
             "line": {
              "color": "#E5ECF6",
              "width": 0.5
             }
            },
            "type": "bar"
           }
          ],
          "barpolar": [
           {
            "marker": {
             "line": {
              "color": "#E5ECF6",
              "width": 0.5
             }
            },
            "type": "barpolar"
           }
          ],
          "carpet": [
           {
            "aaxis": {
             "endlinecolor": "#2a3f5f",
             "gridcolor": "white",
             "linecolor": "white",
             "minorgridcolor": "white",
             "startlinecolor": "#2a3f5f"
            },
            "baxis": {
             "endlinecolor": "#2a3f5f",
             "gridcolor": "white",
             "linecolor": "white",
             "minorgridcolor": "white",
             "startlinecolor": "#2a3f5f"
            },
            "type": "carpet"
           }
          ],
          "choropleth": [
           {
            "colorbar": {
             "outlinewidth": 0,
             "ticks": ""
            },
            "type": "choropleth"
           }
          ],
          "contour": [
           {
            "colorbar": {
             "outlinewidth": 0,
             "ticks": ""
            },
            "colorscale": [
             [
              0,
              "#0d0887"
             ],
             [
              0.1111111111111111,
              "#46039f"
             ],
             [
              0.2222222222222222,
              "#7201a8"
             ],
             [
              0.3333333333333333,
              "#9c179e"
             ],
             [
              0.4444444444444444,
              "#bd3786"
             ],
             [
              0.5555555555555556,
              "#d8576b"
             ],
             [
              0.6666666666666666,
              "#ed7953"
             ],
             [
              0.7777777777777778,
              "#fb9f3a"
             ],
             [
              0.8888888888888888,
              "#fdca26"
             ],
             [
              1,
              "#f0f921"
             ]
            ],
            "type": "contour"
           }
          ],
          "contourcarpet": [
           {
            "colorbar": {
             "outlinewidth": 0,
             "ticks": ""
            },
            "type": "contourcarpet"
           }
          ],
          "heatmap": [
           {
            "colorbar": {
             "outlinewidth": 0,
             "ticks": ""
            },
            "colorscale": [
             [
              0,
              "#0d0887"
             ],
             [
              0.1111111111111111,
              "#46039f"
             ],
             [
              0.2222222222222222,
              "#7201a8"
             ],
             [
              0.3333333333333333,
              "#9c179e"
             ],
             [
              0.4444444444444444,
              "#bd3786"
             ],
             [
              0.5555555555555556,
              "#d8576b"
             ],
             [
              0.6666666666666666,
              "#ed7953"
             ],
             [
              0.7777777777777778,
              "#fb9f3a"
             ],
             [
              0.8888888888888888,
              "#fdca26"
             ],
             [
              1,
              "#f0f921"
             ]
            ],
            "type": "heatmap"
           }
          ],
          "heatmapgl": [
           {
            "colorbar": {
             "outlinewidth": 0,
             "ticks": ""
            },
            "colorscale": [
             [
              0,
              "#0d0887"
             ],
             [
              0.1111111111111111,
              "#46039f"
             ],
             [
              0.2222222222222222,
              "#7201a8"
             ],
             [
              0.3333333333333333,
              "#9c179e"
             ],
             [
              0.4444444444444444,
              "#bd3786"
             ],
             [
              0.5555555555555556,
              "#d8576b"
             ],
             [
              0.6666666666666666,
              "#ed7953"
             ],
             [
              0.7777777777777778,
              "#fb9f3a"
             ],
             [
              0.8888888888888888,
              "#fdca26"
             ],
             [
              1,
              "#f0f921"
             ]
            ],
            "type": "heatmapgl"
           }
          ],
          "histogram": [
           {
            "marker": {
             "colorbar": {
              "outlinewidth": 0,
              "ticks": ""
             }
            },
            "type": "histogram"
           }
          ],
          "histogram2d": [
           {
            "colorbar": {
             "outlinewidth": 0,
             "ticks": ""
            },
            "colorscale": [
             [
              0,
              "#0d0887"
             ],
             [
              0.1111111111111111,
              "#46039f"
             ],
             [
              0.2222222222222222,
              "#7201a8"
             ],
             [
              0.3333333333333333,
              "#9c179e"
             ],
             [
              0.4444444444444444,
              "#bd3786"
             ],
             [
              0.5555555555555556,
              "#d8576b"
             ],
             [
              0.6666666666666666,
              "#ed7953"
             ],
             [
              0.7777777777777778,
              "#fb9f3a"
             ],
             [
              0.8888888888888888,
              "#fdca26"
             ],
             [
              1,
              "#f0f921"
             ]
            ],
            "type": "histogram2d"
           }
          ],
          "histogram2dcontour": [
           {
            "colorbar": {
             "outlinewidth": 0,
             "ticks": ""
            },
            "colorscale": [
             [
              0,
              "#0d0887"
             ],
             [
              0.1111111111111111,
              "#46039f"
             ],
             [
              0.2222222222222222,
              "#7201a8"
             ],
             [
              0.3333333333333333,
              "#9c179e"
             ],
             [
              0.4444444444444444,
              "#bd3786"
             ],
             [
              0.5555555555555556,
              "#d8576b"
             ],
             [
              0.6666666666666666,
              "#ed7953"
             ],
             [
              0.7777777777777778,
              "#fb9f3a"
             ],
             [
              0.8888888888888888,
              "#fdca26"
             ],
             [
              1,
              "#f0f921"
             ]
            ],
            "type": "histogram2dcontour"
           }
          ],
          "mesh3d": [
           {
            "colorbar": {
             "outlinewidth": 0,
             "ticks": ""
            },
            "type": "mesh3d"
           }
          ],
          "parcoords": [
           {
            "line": {
             "colorbar": {
              "outlinewidth": 0,
              "ticks": ""
             }
            },
            "type": "parcoords"
           }
          ],
          "pie": [
           {
            "automargin": true,
            "type": "pie"
           }
          ],
          "scatter": [
           {
            "marker": {
             "colorbar": {
              "outlinewidth": 0,
              "ticks": ""
             }
            },
            "type": "scatter"
           }
          ],
          "scatter3d": [
           {
            "line": {
             "colorbar": {
              "outlinewidth": 0,
              "ticks": ""
             }
            },
            "marker": {
             "colorbar": {
              "outlinewidth": 0,
              "ticks": ""
             }
            },
            "type": "scatter3d"
           }
          ],
          "scattercarpet": [
           {
            "marker": {
             "colorbar": {
              "outlinewidth": 0,
              "ticks": ""
             }
            },
            "type": "scattercarpet"
           }
          ],
          "scattergeo": [
           {
            "marker": {
             "colorbar": {
              "outlinewidth": 0,
              "ticks": ""
             }
            },
            "type": "scattergeo"
           }
          ],
          "scattergl": [
           {
            "marker": {
             "colorbar": {
              "outlinewidth": 0,
              "ticks": ""
             }
            },
            "type": "scattergl"
           }
          ],
          "scattermapbox": [
           {
            "marker": {
             "colorbar": {
              "outlinewidth": 0,
              "ticks": ""
             }
            },
            "type": "scattermapbox"
           }
          ],
          "scatterpolar": [
           {
            "marker": {
             "colorbar": {
              "outlinewidth": 0,
              "ticks": ""
             }
            },
            "type": "scatterpolar"
           }
          ],
          "scatterpolargl": [
           {
            "marker": {
             "colorbar": {
              "outlinewidth": 0,
              "ticks": ""
             }
            },
            "type": "scatterpolargl"
           }
          ],
          "scatterternary": [
           {
            "marker": {
             "colorbar": {
              "outlinewidth": 0,
              "ticks": ""
             }
            },
            "type": "scatterternary"
           }
          ],
          "surface": [
           {
            "colorbar": {
             "outlinewidth": 0,
             "ticks": ""
            },
            "colorscale": [
             [
              0,
              "#0d0887"
             ],
             [
              0.1111111111111111,
              "#46039f"
             ],
             [
              0.2222222222222222,
              "#7201a8"
             ],
             [
              0.3333333333333333,
              "#9c179e"
             ],
             [
              0.4444444444444444,
              "#bd3786"
             ],
             [
              0.5555555555555556,
              "#d8576b"
             ],
             [
              0.6666666666666666,
              "#ed7953"
             ],
             [
              0.7777777777777778,
              "#fb9f3a"
             ],
             [
              0.8888888888888888,
              "#fdca26"
             ],
             [
              1,
              "#f0f921"
             ]
            ],
            "type": "surface"
           }
          ],
          "table": [
           {
            "cells": {
             "fill": {
              "color": "#EBF0F8"
             },
             "line": {
              "color": "white"
             }
            },
            "header": {
             "fill": {
              "color": "#C8D4E3"
             },
             "line": {
              "color": "white"
             }
            },
            "type": "table"
           }
          ]
         },
         "layout": {
          "annotationdefaults": {
           "arrowcolor": "#2a3f5f",
           "arrowhead": 0,
           "arrowwidth": 1
          },
          "autotypenumbers": "strict",
          "coloraxis": {
           "colorbar": {
            "outlinewidth": 0,
            "ticks": ""
           }
          },
          "colorscale": {
           "diverging": [
            [
             0,
             "#8e0152"
            ],
            [
             0.1,
             "#c51b7d"
            ],
            [
             0.2,
             "#de77ae"
            ],
            [
             0.3,
             "#f1b6da"
            ],
            [
             0.4,
             "#fde0ef"
            ],
            [
             0.5,
             "#f7f7f7"
            ],
            [
             0.6,
             "#e6f5d0"
            ],
            [
             0.7,
             "#b8e186"
            ],
            [
             0.8,
             "#7fbc41"
            ],
            [
             0.9,
             "#4d9221"
            ],
            [
             1,
             "#276419"
            ]
           ],
           "sequential": [
            [
             0,
             "#0d0887"
            ],
            [
             0.1111111111111111,
             "#46039f"
            ],
            [
             0.2222222222222222,
             "#7201a8"
            ],
            [
             0.3333333333333333,
             "#9c179e"
            ],
            [
             0.4444444444444444,
             "#bd3786"
            ],
            [
             0.5555555555555556,
             "#d8576b"
            ],
            [
             0.6666666666666666,
             "#ed7953"
            ],
            [
             0.7777777777777778,
             "#fb9f3a"
            ],
            [
             0.8888888888888888,
             "#fdca26"
            ],
            [
             1,
             "#f0f921"
            ]
           ],
           "sequentialminus": [
            [
             0,
             "#0d0887"
            ],
            [
             0.1111111111111111,
             "#46039f"
            ],
            [
             0.2222222222222222,
             "#7201a8"
            ],
            [
             0.3333333333333333,
             "#9c179e"
            ],
            [
             0.4444444444444444,
             "#bd3786"
            ],
            [
             0.5555555555555556,
             "#d8576b"
            ],
            [
             0.6666666666666666,
             "#ed7953"
            ],
            [
             0.7777777777777778,
             "#fb9f3a"
            ],
            [
             0.8888888888888888,
             "#fdca26"
            ],
            [
             1,
             "#f0f921"
            ]
           ]
          },
          "colorway": [
           "#636efa",
           "#EF553B",
           "#00cc96",
           "#ab63fa",
           "#FFA15A",
           "#19d3f3",
           "#FF6692",
           "#B6E880",
           "#FF97FF",
           "#FECB52"
          ],
          "font": {
           "color": "#2a3f5f"
          },
          "geo": {
           "bgcolor": "white",
           "lakecolor": "white",
           "landcolor": "#E5ECF6",
           "showlakes": true,
           "showland": true,
           "subunitcolor": "white"
          },
          "hoverlabel": {
           "align": "left"
          },
          "hovermode": "closest",
          "mapbox": {
           "style": "light"
          },
          "paper_bgcolor": "white",
          "plot_bgcolor": "#E5ECF6",
          "polar": {
           "angularaxis": {
            "gridcolor": "white",
            "linecolor": "white",
            "ticks": ""
           },
           "bgcolor": "#E5ECF6",
           "radialaxis": {
            "gridcolor": "white",
            "linecolor": "white",
            "ticks": ""
           }
          },
          "scene": {
           "xaxis": {
            "backgroundcolor": "#E5ECF6",
            "gridcolor": "white",
            "gridwidth": 2,
            "linecolor": "white",
            "showbackground": true,
            "ticks": "",
            "zerolinecolor": "white"
           },
           "yaxis": {
            "backgroundcolor": "#E5ECF6",
            "gridcolor": "white",
            "gridwidth": 2,
            "linecolor": "white",
            "showbackground": true,
            "ticks": "",
            "zerolinecolor": "white"
           },
           "zaxis": {
            "backgroundcolor": "#E5ECF6",
            "gridcolor": "white",
            "gridwidth": 2,
            "linecolor": "white",
            "showbackground": true,
            "ticks": "",
            "zerolinecolor": "white"
           }
          },
          "shapedefaults": {
           "line": {
            "color": "#2a3f5f"
           }
          },
          "ternary": {
           "aaxis": {
            "gridcolor": "white",
            "linecolor": "white",
            "ticks": ""
           },
           "baxis": {
            "gridcolor": "white",
            "linecolor": "white",
            "ticks": ""
           },
           "bgcolor": "#E5ECF6",
           "caxis": {
            "gridcolor": "white",
            "linecolor": "white",
            "ticks": ""
           }
          },
          "title": {
           "x": 0.05
          },
          "xaxis": {
           "automargin": true,
           "gridcolor": "white",
           "linecolor": "white",
           "ticks": "",
           "title": {
            "standoff": 15
           },
           "zerolinecolor": "white",
           "zerolinewidth": 2
          },
          "yaxis": {
           "automargin": true,
           "gridcolor": "white",
           "linecolor": "white",
           "ticks": "",
           "title": {
            "standoff": 15
           },
           "zerolinecolor": "white",
           "zerolinewidth": 2
          }
         }
        },
        "xaxis": {
         "anchor": "y",
         "autorange": true,
         "domain": [
          0,
          1
         ],
         "range": [
          -0.5,
          9.5
         ],
         "title": {
          "text": "index"
         },
         "type": "category"
        },
        "yaxis": {
         "anchor": "x",
         "autorange": true,
         "domain": [
          0,
          1
         ],
         "range": [
          0,
          2124.2105263157896
         ],
         "title": {
          "text": "value"
         },
         "type": "linear"
        }
       }
      },
      "image/png": "[encoded data removed]"
     },
     "metadata": {},
     "output_type": "display_data"
    }
   ],
   "source": [
    "fig = px.bar(\n",
    "    df_cell_annotations[\"cell.types\"].value_counts()\n",
    ")\n",
    "\n",
    "fig.show(renderer='jupyterlab+png')"
   ]
  },
  {
   "cell_type": "code",
   "execution_count": 72,
   "id": "702e07cd",
   "metadata": {},
   "outputs": [
    {
     "data": {
      "text/plain": [
       "0.19325059382191145"
      ]
     },
     "execution_count": 72,
     "metadata": {},
     "output_type": "execute_result"
    }
   ],
   "source": [
    "# average nonzero rate\n",
    "\n",
    "df_tpm.astype(bool).values.mean()"
   ]
  },
  {
   "cell_type": "code",
   "execution_count": null,
   "id": "c7c20557",
   "metadata": {},
   "outputs": [],
   "source": []
  }
 ],
 "metadata": {
  "environment": {
   "name": "tf2-gpu.2-5.m71",
   "type": "gcloud",
   "uri": "gcr.io/deeplearning-platform-release/tf2-gpu.2-5:m71"
  },
  "kernelspec": {
   "display_name": "Python 3",
   "language": "python",
   "name": "python3"
  },
  "language_info": {
   "codemirror_mode": {
    "name": "ipython",
    "version": 3
   },
   "file_extension": ".py",
   "mimetype": "text/x-python",
   "name": "python",
   "nbconvert_exporter": "python",
   "pygments_lexer": "ipython3",
   "version": "3.7.10"
  }
 },
 "nbformat": 4,
 "nbformat_minor": 5
}
