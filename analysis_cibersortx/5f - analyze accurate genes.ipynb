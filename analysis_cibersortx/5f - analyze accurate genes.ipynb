{
 "cells": [
  {
   "cell_type": "markdown",
   "id": "e09686fc-fbe2-44da-801b-a0139f6517d5",
   "metadata": {},
   "source": [
    "what makes gene imputation more accurate?\n",
    "- expressed in fewer cell types\n",
    "- ?\n",
    "\n",
    "rank all genes by accuracy\n",
    "- what are any patterns of best genes?\n",
    "  - be careful with selecting on dependent variable here\n",
    "\n"
   ]
  },
  {
   "cell_type": "code",
   "execution_count": 1,
   "id": "116a2b7b-a0f9-4268-84ae-d7bd2cb5ee60",
   "metadata": {
    "execution": {
     "iopub.execute_input": "2021-12-06T22:52:25.425025Z",
     "iopub.status.busy": "2021-12-06T22:52:25.424621Z",
     "iopub.status.idle": "2021-12-06T22:52:25.856597Z",
     "shell.execute_reply": "2021-12-06T22:52:25.855918Z",
     "shell.execute_reply.started": "2021-12-06T22:52:25.424913Z"
    },
    "tags": []
   },
   "outputs": [
    {
     "name": "stdout",
     "output_type": "stream",
     "text": [
      "On branch main\n",
      "Your branch is ahead of 'origin/main' by 2 commits.\n",
      "  (use \"git push\" to publish your local commits)\n",
      "\n",
      "Changes not staged for commit:\n",
      "  (use \"git add <file>...\" to update what will be committed)\n",
      "  (use \"git checkout -- <file>...\" to discard changes in working directory)\n",
      "\n",
      "\t\u001b[31mmodified:   1b - analyze csx results for different parameters.ipynb\u001b[m\n",
      "\t\u001b[31mmodified:   2 - run csx excluding cell types.ipynb\u001b[m\n",
      "\t\u001b[31mmodified:   2b - analyze and plot.ipynb\u001b[m\n",
      "\t\u001b[31mmodified:   5b - try scipy nnls.ipynb\u001b[m\n",
      "\t\u001b[31mmodified:   5e - analyze individual genes.ipynb\u001b[m\n",
      "\n",
      "Untracked files:\n",
      "  (use \"git add <file>...\" to include in what will be committed)\n",
      "\n",
      "\t\u001b[31m5_results/\u001b[m\n",
      "\t\u001b[31m5d_results_noise_0.01/\u001b[m\n",
      "\t\u001b[31m5d_results_noise_0.01_b/\u001b[m\n",
      "\t\u001b[31m5d_results_noise_0.1/\u001b[m\n",
      "\t\u001b[31m5d_results_noise_0.1_a/\u001b[m\n",
      "\t\u001b[31m5f - analyze accurate genes.ipynb\u001b[m\n",
      "\t\u001b[31mUntitled.ipynb\u001b[m\n",
      "\t\u001b[31mUntitled1.ipynb\u001b[m\n",
      "\t\u001b[31mold-stuff/data/\u001b[m\n",
      "\t\u001b[31mold-stuff/demo - nnls with scipy.optimize.nnls.ipynb\u001b[m\n",
      "\n",
      "no changes added to commit (use \"git add\" and/or \"git commit -a\")\n"
     ]
    }
   ],
   "source": [
    "!git a"
   ]
  }
 ],
 "metadata": {
  "environment": {
   "kernel": "python3",
   "name": "common-cpu.m84",
   "type": "gcloud",
   "uri": "gcr.io/deeplearning-platform-release/base-cpu:m84"
  },
  "kernelspec": {
   "display_name": "Python 3",
   "language": "python",
   "name": "python3"
  },
  "language_info": {
   "codemirror_mode": {
    "name": "ipython",
    "version": 3
   },
   "file_extension": ".py",
   "mimetype": "text/x-python",
   "name": "python",
   "nbconvert_exporter": "python",
   "pygments_lexer": "ipython3",
   "version": "3.7.12"
  }
 },
 "nbformat": 4,
 "nbformat_minor": 5
}
