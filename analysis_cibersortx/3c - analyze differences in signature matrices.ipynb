{
 "cells": [
  {
   "cell_type": "code",
   "execution_count": 1,
   "id": "7502a909-15b2-4067-866c-699d7d73c2ec",
   "metadata": {},
   "outputs": [],
   "source": [
    "import os\n",
    "\n",
    "import pandas as pd\n",
    "\n",
    "from helpers.cell_type_naming import weird_to_nice"
   ]
  },
  {
   "cell_type": "code",
   "execution_count": 2,
   "id": "95a1528d-85ed-462c-a924-d2e819d05455",
   "metadata": {},
   "outputs": [],
   "source": [
    "import logging\n",
    "\n",
    "handler = logging.StreamHandler()\n",
    "handler.setFormatter(logging.Formatter('%(asctime)s - %(name)s - %(levelname)s - %(message)s'))\n",
    "logging.getLogger().addHandler(handler)\n",
    "\n",
    "logger = logging.getLogger(__name__)\n",
    "logger.setLevel('DEBUG')"
   ]
  },
  {
   "cell_type": "code",
   "execution_count": 3,
   "id": "d3056b72-d8f9-4b59-88b4-e2fb6dbbdfd7",
   "metadata": {},
   "outputs": [
    {
     "name": "stdout",
     "output_type": "stream",
     "text": [
      "total 24522\n",
      "-rw-r--r-- 1 jupyter jupyter     4412 Aug 27 00:50 CIBERSORTx_Adjusted.txt\n",
      "-rw-r--r-- 1 jupyter jupyter  1011450 Aug 27 00:49 CIBERSORTx_Mixtures_Adjusted.txt\n",
      "-rw-r--r-- 1 jupyter jupyter  4010602 Aug 27 00:48 CIBERSORTx_cell_type_sourceGEP.txt\n",
      "-rw-r--r-- 1 jupyter jupyter   176002 Aug 27 00:49 CIBERSORTx_screfsampletirosh_inferred_phenoclasses.CIBERSORTx_screfsampletirosh_inferred_refsample.bm.K999.pdf\n",
      "-rw-r--r-- 1 jupyter jupyter   522710 Aug 27 00:48 CIBERSORTx_screfsampletirosh_inferred_phenoclasses.CIBERSORTx_screfsampletirosh_inferred_refsample.bm.K999.txt\n",
      "-rw-r--r-- 1 jupyter jupyter      725 Aug 27 00:48 CIBERSORTx_screfsampletirosh_inferred_phenoclasses.txt\n",
      "-rw-r--r-- 1 jupyter jupyter 19382578 Aug 27 00:48 CIBERSORTx_screfsampletirosh_inferred_refsample.txt\n",
      "drwxr-xr-x 1 jupyter jupyter        0 Sep 15 18:41 in\n"
     ]
    }
   ],
   "source": [
    "!ls -l /mnt/buckets/liulab/csx_experiments/cell_type_grouping/normal"
   ]
  },
  {
   "cell_type": "code",
   "execution_count": 4,
   "id": "002ee89b-1308-43ee-8600-b1c35a59056d",
   "metadata": {},
   "outputs": [
    {
     "name": "stdout",
     "output_type": "stream",
     "text": [
      "/mnt/buckets/liulab/csx_experiments/cell_type_grouping/combine_lymphocytes/CIBERSORTx_Adjusted.txt\n",
      "/mnt/buckets/liulab/csx_experiments/cell_type_grouping/combine_t_cells/CIBERSORTx_Adjusted.txt\n",
      "/mnt/buckets/liulab/csx_experiments/cell_type_grouping/normal/CIBERSORTx_Adjusted.txt\n"
     ]
    }
   ],
   "source": [
    "!find /mnt/buckets/liulab/csx_experiments/cell_type_grouping/ -name \"CIBERSORTx_Adjusted*\""
   ]
  },
  {
   "cell_type": "code",
   "execution_count": 5,
   "id": "f2ca0e81-27a2-465b-94d3-036dccf640de",
   "metadata": {},
   "outputs": [],
   "source": [
    "root = \"gs://liulab/csx_experiments/cell_type_grouping\""
   ]
  },
  {
   "cell_type": "code",
   "execution_count": 6,
   "id": "29048740-b285-43c5-b2ba-a448bae9613f",
   "metadata": {},
   "outputs": [],
   "source": [
    "def read_sigmat(experiment):\n",
    "    filename = \"*bm.K999.txt\"\n",
    "#     filename = \"CIBERSORTx_Adjusted.txt\"\n",
    "    path = os.path.join(root, experiment, filename)\n",
    "    logger.debug(f\"reading {path}\")\n",
    "    df = pd.read_csv(\n",
    "        path,\n",
    "        sep=\"\\t\",\n",
    "        index_col=0\n",
    "    )\n",
    "    df.index = df.index.astype(str)\n",
    "#     df = df[df.columns[:-3]]  # last 3 are stats\n",
    "    df = df.rename(columns=weird_to_nice)\n",
    "    return df"
   ]
  },
  {
   "cell_type": "code",
   "execution_count": 7,
   "id": "4d6222ef-c0d6-4892-a716-c42f91a23b3d",
   "metadata": {},
   "outputs": [
    {
     "name": "stderr",
     "output_type": "stream",
     "text": [
      "2021-09-15 18:41:11,400 - __main__ - DEBUG - reading gs://liulab/csx_experiments/cell_type_grouping/normal/*bm.K999.txt\n"
     ]
    }
   ],
   "source": [
    "sigmat_normal = read_sigmat(\"normal\")"
   ]
  },
  {
   "cell_type": "code",
   "execution_count": 8,
   "id": "9a7cae34-8cda-4ee8-b18a-64ab975069c3",
   "metadata": {},
   "outputs": [
    {
     "data": {
      "text/html": [
       "<div>\n",
       "<style scoped>\n",
       "    .dataframe tbody tr th:only-of-type {\n",
       "        vertical-align: middle;\n",
       "    }\n",
       "\n",
       "    .dataframe tbody tr th {\n",
       "        vertical-align: top;\n",
       "    }\n",
       "\n",
       "    .dataframe thead th {\n",
       "        text-align: right;\n",
       "    }\n",
       "</style>\n",
       "<table border=\"1\" class=\"dataframe\">\n",
       "  <thead>\n",
       "    <tr style=\"text-align: right;\">\n",
       "      <th></th>\n",
       "      <th>Malignant</th>\n",
       "      <th>Endothelial</th>\n",
       "      <th>CAF</th>\n",
       "      <th>T CD8</th>\n",
       "      <th>NK</th>\n",
       "      <th>Macrophage</th>\n",
       "      <th>T CD4</th>\n",
       "      <th>B</th>\n",
       "    </tr>\n",
       "    <tr>\n",
       "      <th>NAME</th>\n",
       "      <th></th>\n",
       "      <th></th>\n",
       "      <th></th>\n",
       "      <th></th>\n",
       "      <th></th>\n",
       "      <th></th>\n",
       "      <th></th>\n",
       "      <th></th>\n",
       "    </tr>\n",
       "  </thead>\n",
       "  <tbody>\n",
       "    <tr>\n",
       "      <th>A2M</th>\n",
       "      <td>281.650610</td>\n",
       "      <td>293.077009</td>\n",
       "      <td>1.000000</td>\n",
       "      <td>1.000000</td>\n",
       "      <td>1.000000</td>\n",
       "      <td>874.318085</td>\n",
       "      <td>1.000000</td>\n",
       "      <td>1.000000</td>\n",
       "    </tr>\n",
       "    <tr>\n",
       "      <th>A4GALT</th>\n",
       "      <td>1.000000</td>\n",
       "      <td>56.578233</td>\n",
       "      <td>1.000000</td>\n",
       "      <td>1.000000</td>\n",
       "      <td>1.000000</td>\n",
       "      <td>1.000000</td>\n",
       "      <td>1.000000</td>\n",
       "      <td>1.000000</td>\n",
       "    </tr>\n",
       "    <tr>\n",
       "      <th>AARSD1</th>\n",
       "      <td>47.530952</td>\n",
       "      <td>1.000000</td>\n",
       "      <td>29.752152</td>\n",
       "      <td>1.000000</td>\n",
       "      <td>1.000000</td>\n",
       "      <td>1.000000</td>\n",
       "      <td>1.000000</td>\n",
       "      <td>1.000000</td>\n",
       "    </tr>\n",
       "    <tr>\n",
       "      <th>ABCA1</th>\n",
       "      <td>1.000000</td>\n",
       "      <td>83.750607</td>\n",
       "      <td>1.000000</td>\n",
       "      <td>1.000000</td>\n",
       "      <td>1.000000</td>\n",
       "      <td>125.979638</td>\n",
       "      <td>1.000000</td>\n",
       "      <td>1.000000</td>\n",
       "    </tr>\n",
       "    <tr>\n",
       "      <th>ABCB5</th>\n",
       "      <td>117.846844</td>\n",
       "      <td>1.000000</td>\n",
       "      <td>1.000000</td>\n",
       "      <td>21.130258</td>\n",
       "      <td>1.000000</td>\n",
       "      <td>1.000000</td>\n",
       "      <td>1.000000</td>\n",
       "      <td>1.000000</td>\n",
       "    </tr>\n",
       "    <tr>\n",
       "      <th>...</th>\n",
       "      <td>...</td>\n",
       "      <td>...</td>\n",
       "      <td>...</td>\n",
       "      <td>...</td>\n",
       "      <td>...</td>\n",
       "      <td>...</td>\n",
       "      <td>...</td>\n",
       "      <td>...</td>\n",
       "    </tr>\n",
       "    <tr>\n",
       "      <th>ZRSR2</th>\n",
       "      <td>1.000000</td>\n",
       "      <td>1.000000</td>\n",
       "      <td>1.000000</td>\n",
       "      <td>34.301794</td>\n",
       "      <td>69.883443</td>\n",
       "      <td>1.000000</td>\n",
       "      <td>1.000000</td>\n",
       "      <td>1.000000</td>\n",
       "    </tr>\n",
       "    <tr>\n",
       "      <th>ZSCAN12</th>\n",
       "      <td>1.000000</td>\n",
       "      <td>1.000000</td>\n",
       "      <td>1.000000</td>\n",
       "      <td>25.889644</td>\n",
       "      <td>1.000000</td>\n",
       "      <td>1.000000</td>\n",
       "      <td>1.000000</td>\n",
       "      <td>19.428974</td>\n",
       "    </tr>\n",
       "    <tr>\n",
       "      <th>ZSCAN16</th>\n",
       "      <td>1.000000</td>\n",
       "      <td>1.000000</td>\n",
       "      <td>1.000000</td>\n",
       "      <td>1.000000</td>\n",
       "      <td>212.109844</td>\n",
       "      <td>1.000000</td>\n",
       "      <td>1.000000</td>\n",
       "      <td>1.000000</td>\n",
       "    </tr>\n",
       "    <tr>\n",
       "      <th>ZWINT</th>\n",
       "      <td>1.000000</td>\n",
       "      <td>1.000000</td>\n",
       "      <td>62.792428</td>\n",
       "      <td>1.000000</td>\n",
       "      <td>1.000000</td>\n",
       "      <td>1.000000</td>\n",
       "      <td>1.000000</td>\n",
       "      <td>1.000000</td>\n",
       "    </tr>\n",
       "    <tr>\n",
       "      <th>ZXDC</th>\n",
       "      <td>1.000000</td>\n",
       "      <td>1.000000</td>\n",
       "      <td>1.000000</td>\n",
       "      <td>21.815527</td>\n",
       "      <td>1.000000</td>\n",
       "      <td>1.000000</td>\n",
       "      <td>20.622229</td>\n",
       "      <td>1.000000</td>\n",
       "    </tr>\n",
       "  </tbody>\n",
       "</table>\n",
       "<p>3082 rows × 8 columns</p>\n",
       "</div>"
      ],
      "text/plain": [
       "          Malignant  Endothelial        CAF      T CD8          NK  \\\n",
       "NAME                                                                 \n",
       "A2M      281.650610   293.077009   1.000000   1.000000    1.000000   \n",
       "A4GALT     1.000000    56.578233   1.000000   1.000000    1.000000   \n",
       "AARSD1    47.530952     1.000000  29.752152   1.000000    1.000000   \n",
       "ABCA1      1.000000    83.750607   1.000000   1.000000    1.000000   \n",
       "ABCB5    117.846844     1.000000   1.000000  21.130258    1.000000   \n",
       "...             ...          ...        ...        ...         ...   \n",
       "ZRSR2      1.000000     1.000000   1.000000  34.301794   69.883443   \n",
       "ZSCAN12    1.000000     1.000000   1.000000  25.889644    1.000000   \n",
       "ZSCAN16    1.000000     1.000000   1.000000   1.000000  212.109844   \n",
       "ZWINT      1.000000     1.000000  62.792428   1.000000    1.000000   \n",
       "ZXDC       1.000000     1.000000   1.000000  21.815527    1.000000   \n",
       "\n",
       "         Macrophage      T CD4          B  \n",
       "NAME                                       \n",
       "A2M      874.318085   1.000000   1.000000  \n",
       "A4GALT     1.000000   1.000000   1.000000  \n",
       "AARSD1     1.000000   1.000000   1.000000  \n",
       "ABCA1    125.979638   1.000000   1.000000  \n",
       "ABCB5      1.000000   1.000000   1.000000  \n",
       "...             ...        ...        ...  \n",
       "ZRSR2      1.000000   1.000000   1.000000  \n",
       "ZSCAN12    1.000000   1.000000  19.428974  \n",
       "ZSCAN16    1.000000   1.000000   1.000000  \n",
       "ZWINT      1.000000   1.000000   1.000000  \n",
       "ZXDC       1.000000  20.622229   1.000000  \n",
       "\n",
       "[3082 rows x 8 columns]"
      ]
     },
     "execution_count": 8,
     "metadata": {},
     "output_type": "execute_result"
    }
   ],
   "source": [
    "sigmat_normal"
   ]
  },
  {
   "cell_type": "code",
   "execution_count": 9,
   "id": "b6873b23-7569-47e4-828d-7c524b82c8b9",
   "metadata": {},
   "outputs": [
    {
     "data": {
      "text/html": [
       "<div>\n",
       "<style scoped>\n",
       "    .dataframe tbody tr th:only-of-type {\n",
       "        vertical-align: middle;\n",
       "    }\n",
       "\n",
       "    .dataframe tbody tr th {\n",
       "        vertical-align: top;\n",
       "    }\n",
       "\n",
       "    .dataframe thead th {\n",
       "        text-align: right;\n",
       "    }\n",
       "</style>\n",
       "<table border=\"1\" class=\"dataframe\">\n",
       "  <thead>\n",
       "    <tr style=\"text-align: right;\">\n",
       "      <th></th>\n",
       "      <th>Malignant</th>\n",
       "      <th>Endothelial</th>\n",
       "      <th>CAF</th>\n",
       "      <th>T CD8</th>\n",
       "      <th>NK</th>\n",
       "      <th>Macrophage</th>\n",
       "      <th>T CD4</th>\n",
       "      <th>B</th>\n",
       "    </tr>\n",
       "    <tr>\n",
       "      <th>NAME</th>\n",
       "      <th></th>\n",
       "      <th></th>\n",
       "      <th></th>\n",
       "      <th></th>\n",
       "      <th></th>\n",
       "      <th></th>\n",
       "      <th></th>\n",
       "      <th></th>\n",
       "    </tr>\n",
       "  </thead>\n",
       "  <tbody>\n",
       "    <tr>\n",
       "      <th>A2M</th>\n",
       "      <td>281.650610</td>\n",
       "      <td>293.077009</td>\n",
       "      <td>1.000000</td>\n",
       "      <td>1.000000</td>\n",
       "      <td>1.000000</td>\n",
       "      <td>874.318085</td>\n",
       "      <td>1.000000</td>\n",
       "      <td>1.000000</td>\n",
       "    </tr>\n",
       "    <tr>\n",
       "      <th>A4GALT</th>\n",
       "      <td>1.000000</td>\n",
       "      <td>56.578233</td>\n",
       "      <td>1.000000</td>\n",
       "      <td>1.000000</td>\n",
       "      <td>1.000000</td>\n",
       "      <td>1.000000</td>\n",
       "      <td>1.000000</td>\n",
       "      <td>1.000000</td>\n",
       "    </tr>\n",
       "    <tr>\n",
       "      <th>AARSD1</th>\n",
       "      <td>47.530952</td>\n",
       "      <td>1.000000</td>\n",
       "      <td>29.752152</td>\n",
       "      <td>1.000000</td>\n",
       "      <td>1.000000</td>\n",
       "      <td>1.000000</td>\n",
       "      <td>1.000000</td>\n",
       "      <td>1.000000</td>\n",
       "    </tr>\n",
       "    <tr>\n",
       "      <th>ABCA1</th>\n",
       "      <td>1.000000</td>\n",
       "      <td>83.750607</td>\n",
       "      <td>1.000000</td>\n",
       "      <td>1.000000</td>\n",
       "      <td>1.000000</td>\n",
       "      <td>125.979638</td>\n",
       "      <td>1.000000</td>\n",
       "      <td>1.000000</td>\n",
       "    </tr>\n",
       "    <tr>\n",
       "      <th>ABCB5</th>\n",
       "      <td>117.846844</td>\n",
       "      <td>1.000000</td>\n",
       "      <td>1.000000</td>\n",
       "      <td>21.130258</td>\n",
       "      <td>1.000000</td>\n",
       "      <td>1.000000</td>\n",
       "      <td>1.000000</td>\n",
       "      <td>1.000000</td>\n",
       "    </tr>\n",
       "    <tr>\n",
       "      <th>...</th>\n",
       "      <td>...</td>\n",
       "      <td>...</td>\n",
       "      <td>...</td>\n",
       "      <td>...</td>\n",
       "      <td>...</td>\n",
       "      <td>...</td>\n",
       "      <td>...</td>\n",
       "      <td>...</td>\n",
       "    </tr>\n",
       "    <tr>\n",
       "      <th>ZRSR2</th>\n",
       "      <td>1.000000</td>\n",
       "      <td>1.000000</td>\n",
       "      <td>1.000000</td>\n",
       "      <td>34.301794</td>\n",
       "      <td>69.883443</td>\n",
       "      <td>1.000000</td>\n",
       "      <td>1.000000</td>\n",
       "      <td>1.000000</td>\n",
       "    </tr>\n",
       "    <tr>\n",
       "      <th>ZSCAN12</th>\n",
       "      <td>1.000000</td>\n",
       "      <td>1.000000</td>\n",
       "      <td>1.000000</td>\n",
       "      <td>25.889644</td>\n",
       "      <td>1.000000</td>\n",
       "      <td>1.000000</td>\n",
       "      <td>1.000000</td>\n",
       "      <td>19.428974</td>\n",
       "    </tr>\n",
       "    <tr>\n",
       "      <th>ZSCAN16</th>\n",
       "      <td>1.000000</td>\n",
       "      <td>1.000000</td>\n",
       "      <td>1.000000</td>\n",
       "      <td>1.000000</td>\n",
       "      <td>212.109844</td>\n",
       "      <td>1.000000</td>\n",
       "      <td>1.000000</td>\n",
       "      <td>1.000000</td>\n",
       "    </tr>\n",
       "    <tr>\n",
       "      <th>ZWINT</th>\n",
       "      <td>1.000000</td>\n",
       "      <td>1.000000</td>\n",
       "      <td>62.792428</td>\n",
       "      <td>1.000000</td>\n",
       "      <td>1.000000</td>\n",
       "      <td>1.000000</td>\n",
       "      <td>1.000000</td>\n",
       "      <td>1.000000</td>\n",
       "    </tr>\n",
       "    <tr>\n",
       "      <th>ZXDC</th>\n",
       "      <td>1.000000</td>\n",
       "      <td>1.000000</td>\n",
       "      <td>1.000000</td>\n",
       "      <td>21.815527</td>\n",
       "      <td>1.000000</td>\n",
       "      <td>1.000000</td>\n",
       "      <td>20.622229</td>\n",
       "      <td>1.000000</td>\n",
       "    </tr>\n",
       "  </tbody>\n",
       "</table>\n",
       "<p>3082 rows × 8 columns</p>\n",
       "</div>"
      ],
      "text/plain": [
       "          Malignant  Endothelial        CAF      T CD8          NK  \\\n",
       "NAME                                                                 \n",
       "A2M      281.650610   293.077009   1.000000   1.000000    1.000000   \n",
       "A4GALT     1.000000    56.578233   1.000000   1.000000    1.000000   \n",
       "AARSD1    47.530952     1.000000  29.752152   1.000000    1.000000   \n",
       "ABCA1      1.000000    83.750607   1.000000   1.000000    1.000000   \n",
       "ABCB5    117.846844     1.000000   1.000000  21.130258    1.000000   \n",
       "...             ...          ...        ...        ...         ...   \n",
       "ZRSR2      1.000000     1.000000   1.000000  34.301794   69.883443   \n",
       "ZSCAN12    1.000000     1.000000   1.000000  25.889644    1.000000   \n",
       "ZSCAN16    1.000000     1.000000   1.000000   1.000000  212.109844   \n",
       "ZWINT      1.000000     1.000000  62.792428   1.000000    1.000000   \n",
       "ZXDC       1.000000     1.000000   1.000000  21.815527    1.000000   \n",
       "\n",
       "         Macrophage      T CD4          B  \n",
       "NAME                                       \n",
       "A2M      874.318085   1.000000   1.000000  \n",
       "A4GALT     1.000000   1.000000   1.000000  \n",
       "AARSD1     1.000000   1.000000   1.000000  \n",
       "ABCA1    125.979638   1.000000   1.000000  \n",
       "ABCB5      1.000000   1.000000   1.000000  \n",
       "...             ...        ...        ...  \n",
       "ZRSR2      1.000000   1.000000   1.000000  \n",
       "ZSCAN12    1.000000   1.000000  19.428974  \n",
       "ZSCAN16    1.000000   1.000000   1.000000  \n",
       "ZWINT      1.000000   1.000000   1.000000  \n",
       "ZXDC       1.000000  20.622229   1.000000  \n",
       "\n",
       "[3082 rows x 8 columns]"
      ]
     },
     "execution_count": 9,
     "metadata": {},
     "output_type": "execute_result"
    }
   ],
   "source": [
    "sigmat_normal"
   ]
  },
  {
   "cell_type": "code",
   "execution_count": 10,
   "id": "d233baa9-d8b8-4810-82a0-38b1afe5d54b",
   "metadata": {},
   "outputs": [
    {
     "name": "stderr",
     "output_type": "stream",
     "text": [
      "2021-09-15 18:41:11,834 - __main__ - DEBUG - reading gs://liulab/csx_experiments/cell_type_grouping/combine_t_cells/*bm.K999.txt\n"
     ]
    }
   ],
   "source": [
    "sigmat_t = read_sigmat(\"combine_t_cells\")"
   ]
  },
  {
   "cell_type": "code",
   "execution_count": 11,
   "id": "080ced1e-62ce-4edd-8514-ce08c4140b32",
   "metadata": {},
   "outputs": [
    {
     "name": "stderr",
     "output_type": "stream",
     "text": [
      "2021-09-15 18:41:11,961 - __main__ - DEBUG - reading gs://liulab/csx_experiments/cell_type_grouping/combine_lymphocytes/*bm.K999.txt\n"
     ]
    }
   ],
   "source": [
    "sigmat_lympho = read_sigmat(\"combine_lymphocytes\")"
   ]
  },
  {
   "cell_type": "markdown",
   "id": "62e55288-10b0-47b1-88f2-d91c917bdfd4",
   "metadata": {},
   "source": [
    "# visualize"
   ]
  },
  {
   "cell_type": "code",
   "execution_count": 12,
   "id": "926770aa-f65c-48fc-948c-3db8781658b0",
   "metadata": {},
   "outputs": [],
   "source": [
    "import plotly.io\n",
    "plotly.io.renderers.default = \"jupyterlab+png\"\n",
    "\n",
    "import plotly.express as px\n",
    "import plotly.graph_objects as go"
   ]
  },
  {
   "cell_type": "code",
   "execution_count": 13,
   "id": "0a68617f-7249-4cd1-8599-51d0895ed599",
   "metadata": {},
   "outputs": [],
   "source": [
    "import numpy as np"
   ]
  },
  {
   "cell_type": "code",
   "execution_count": 14,
   "id": "6ceb7651-2c2e-47ca-a7e7-bcc113bd307c",
   "metadata": {},
   "outputs": [
    {
     "data": {
      "application/vnd.plotly.v1+json": {
       "config": {
        "plotlyServerURL": "https://plot.ly"
       },
       "data": [
        {
         "coloraxis": "coloraxis",
         "hovertemplate": "NAME: %{x}<br>y: %{y}<br>color: %{z}<extra></extra>",
         "name": "0",
         "type": "heatmap",
         "x": [
          "A2M",
          "ANGPTL7",
          "ATXN1",
          "C1orf162",
          "CCT6P3",
          "CFI",
          "CRTAM",
          "DHRS12",
          "EPB41L4A",
          "FBXL15",
          "GBA2",
          "GSE1",
          "HSPA6",
          "ISLR",
          "L3HYPDH",
          "LOC285972",
          "MARCKSL1",
          "MRPL24",
          "NFKBID",
          "PAM16",
          "PIM2",
          "PRKAB1",
          "RALGPS2",
          "ROPN1B",
          "SFRP2",
          "SLPI",
          "STAT5A",
          "TGM2",
          "TNFRSF6B",
          "TUBG1",
          "ZAK"
         ],
         "xaxis": "x",
         "y": [
          "Malignant",
          "Endothelial",
          "CAF",
          "T CD8",
          "NK",
          "Macrophage",
          "T CD4",
          "B"
         ],
         "yaxis": "y",
         "z": [
          [
           5.640667332520077,
           4.289315503719889,
           0,
           0,
           0,
           0,
           0,
           0,
           0,
           0,
           0,
           0,
           0,
           0,
           0,
           0,
           4.556562334678689,
           5.473267161527678,
           0,
           4.304946116031012,
           0,
           3.312451366263112,
           0,
           4.645675870590515,
           0,
           0,
           0,
           0,
           0,
           4.212617815378725,
           0
          ],
          [
           5.680435404775664,
           0,
           0,
           0,
           0,
           5.889066580714173,
           0,
           0,
           3.669555503213071,
           3.4851413126811126,
           4.236229807286098,
           0,
           0,
           0,
           0,
           0,
           5.557799264380514,
           3.932604898628474,
           0,
           3.8276871985218954,
           0,
           4.543226375979808,
           0,
           0,
           0,
           4.532450199384623,
           0,
           6.576325922850779,
           5.089019793190681,
           4.893880967712937,
           0
          ],
          [
           0,
           0,
           0,
           0,
           0,
           0,
           0,
           0,
           0,
           2.6676253645818697,
           0,
           0,
           0,
           6.104384025575846,
           4.125617929970396,
           0,
           0,
           4.874342194831737,
           0,
           3.769028852861534,
           0,
           3.201161413351839,
           2.456334035464027,
           0,
           5.119541879383854,
           0,
           0,
           4.110560547494376,
           0,
           4.933858966670662,
           4.285747170020827
          ],
          [
           0,
           0,
           3.2756337247833085,
           0,
           0,
           0,
           5.062839150324092,
           0,
           0,
           0,
           0,
           3.5150527588994667,
           0,
           0,
           0,
           0,
           0,
           0,
           0,
           0,
           5.537541617855263,
           0,
           0,
           0,
           0,
           0,
           3.70596919676513,
           0,
           0,
           0,
           0
          ],
          [
           0,
           0,
           0,
           4.681020379168481,
           4.242575113402889,
           0,
           0,
           4.819708002113608,
           0,
           4.656177723246202,
           4.218747240189188,
           4.125306013543827,
           0,
           0,
           0,
           3.0061164703980556,
           0,
           0,
           4.982128892678777,
           0,
           6.055557323420488,
           3.96430364140521,
           0,
           0,
           0,
           0,
           4.082179723544984,
           0,
           0,
           0,
           0
          ],
          [
           6.77344425141754,
           0,
           0,
           5.789168881495475,
           0,
           0,
           0,
           0,
           0,
           0,
           0,
           0,
           3.735057702040956,
           0,
           0,
           0,
           0,
           4.240904719744033,
           0,
           0,
           0,
           0,
           0,
           0,
           0,
           0,
           3.5114844274533827,
           4.048249048794148,
           0,
           0,
           0
          ],
          [
           0,
           0,
           0,
           0,
           0,
           0,
           3.8612145193209333,
           0,
           0,
           0,
           0,
           0,
           0,
           0,
           0,
           0,
           0,
           0,
           0,
           0,
           6.324463862831713,
           0,
           0,
           0,
           0,
           0,
           0,
           0,
           0,
           0,
           0
          ],
          [
           0,
           0,
           0,
           3.8614128745509686,
           0,
           0,
           0,
           0,
           0,
           3.252988251993269,
           0,
           0,
           0,
           0,
           0,
           2.8195181302759784,
           4.370892269524359,
           0,
           4.54880276396118,
           0,
           5.760165906343225,
           0,
           4.173646931883645,
           0,
           0,
           0,
           0,
           0,
           0,
           0,
           0
          ]
         ]
        }
       ],
       "layout": {
        "coloraxis": {
         "colorscale": [
          [
           0,
           "#0d0887"
          ],
          [
           0.1111111111111111,
           "#46039f"
          ],
          [
           0.2222222222222222,
           "#7201a8"
          ],
          [
           0.3333333333333333,
           "#9c179e"
          ],
          [
           0.4444444444444444,
           "#bd3786"
          ],
          [
           0.5555555555555556,
           "#d8576b"
          ],
          [
           0.6666666666666666,
           "#ed7953"
          ],
          [
           0.7777777777777778,
           "#fb9f3a"
          ],
          [
           0.8888888888888888,
           "#fdca26"
          ],
          [
           1,
           "#f0f921"
          ]
         ]
        },
        "margin": {
         "t": 60
        },
        "template": {
         "data": {
          "bar": [
           {
            "error_x": {
             "color": "#2a3f5f"
            },
            "error_y": {
             "color": "#2a3f5f"
            },
            "marker": {
             "line": {
              "color": "#E5ECF6",
              "width": 0.5
             },
             "pattern": {
              "fillmode": "overlay",
              "size": 10,
              "solidity": 0.2
             }
            },
            "type": "bar"
           }
          ],
          "barpolar": [
           {
            "marker": {
             "line": {
              "color": "#E5ECF6",
              "width": 0.5
             },
             "pattern": {
              "fillmode": "overlay",
              "size": 10,
              "solidity": 0.2
             }
            },
            "type": "barpolar"
           }
          ],
          "carpet": [
           {
            "aaxis": {
             "endlinecolor": "#2a3f5f",
             "gridcolor": "white",
             "linecolor": "white",
             "minorgridcolor": "white",
             "startlinecolor": "#2a3f5f"
            },
            "baxis": {
             "endlinecolor": "#2a3f5f",
             "gridcolor": "white",
             "linecolor": "white",
             "minorgridcolor": "white",
             "startlinecolor": "#2a3f5f"
            },
            "type": "carpet"
           }
          ],
          "choropleth": [
           {
            "colorbar": {
             "outlinewidth": 0,
             "ticks": ""
            },
            "type": "choropleth"
           }
          ],
          "contour": [
           {
            "colorbar": {
             "outlinewidth": 0,
             "ticks": ""
            },
            "colorscale": [
             [
              0,
              "#0d0887"
             ],
             [
              0.1111111111111111,
              "#46039f"
             ],
             [
              0.2222222222222222,
              "#7201a8"
             ],
             [
              0.3333333333333333,
              "#9c179e"
             ],
             [
              0.4444444444444444,
              "#bd3786"
             ],
             [
              0.5555555555555556,
              "#d8576b"
             ],
             [
              0.6666666666666666,
              "#ed7953"
             ],
             [
              0.7777777777777778,
              "#fb9f3a"
             ],
             [
              0.8888888888888888,
              "#fdca26"
             ],
             [
              1,
              "#f0f921"
             ]
            ],
            "type": "contour"
           }
          ],
          "contourcarpet": [
           {
            "colorbar": {
             "outlinewidth": 0,
             "ticks": ""
            },
            "type": "contourcarpet"
           }
          ],
          "heatmap": [
           {
            "colorbar": {
             "outlinewidth": 0,
             "ticks": ""
            },
            "colorscale": [
             [
              0,
              "#0d0887"
             ],
             [
              0.1111111111111111,
              "#46039f"
             ],
             [
              0.2222222222222222,
              "#7201a8"
             ],
             [
              0.3333333333333333,
              "#9c179e"
             ],
             [
              0.4444444444444444,
              "#bd3786"
             ],
             [
              0.5555555555555556,
              "#d8576b"
             ],
             [
              0.6666666666666666,
              "#ed7953"
             ],
             [
              0.7777777777777778,
              "#fb9f3a"
             ],
             [
              0.8888888888888888,
              "#fdca26"
             ],
             [
              1,
              "#f0f921"
             ]
            ],
            "type": "heatmap"
           }
          ],
          "heatmapgl": [
           {
            "colorbar": {
             "outlinewidth": 0,
             "ticks": ""
            },
            "colorscale": [
             [
              0,
              "#0d0887"
             ],
             [
              0.1111111111111111,
              "#46039f"
             ],
             [
              0.2222222222222222,
              "#7201a8"
             ],
             [
              0.3333333333333333,
              "#9c179e"
             ],
             [
              0.4444444444444444,
              "#bd3786"
             ],
             [
              0.5555555555555556,
              "#d8576b"
             ],
             [
              0.6666666666666666,
              "#ed7953"
             ],
             [
              0.7777777777777778,
              "#fb9f3a"
             ],
             [
              0.8888888888888888,
              "#fdca26"
             ],
             [
              1,
              "#f0f921"
             ]
            ],
            "type": "heatmapgl"
           }
          ],
          "histogram": [
           {
            "marker": {
             "pattern": {
              "fillmode": "overlay",
              "size": 10,
              "solidity": 0.2
             }
            },
            "type": "histogram"
           }
          ],
          "histogram2d": [
           {
            "colorbar": {
             "outlinewidth": 0,
             "ticks": ""
            },
            "colorscale": [
             [
              0,
              "#0d0887"
             ],
             [
              0.1111111111111111,
              "#46039f"
             ],
             [
              0.2222222222222222,
              "#7201a8"
             ],
             [
              0.3333333333333333,
              "#9c179e"
             ],
             [
              0.4444444444444444,
              "#bd3786"
             ],
             [
              0.5555555555555556,
              "#d8576b"
             ],
             [
              0.6666666666666666,
              "#ed7953"
             ],
             [
              0.7777777777777778,
              "#fb9f3a"
             ],
             [
              0.8888888888888888,
              "#fdca26"
             ],
             [
              1,
              "#f0f921"
             ]
            ],
            "type": "histogram2d"
           }
          ],
          "histogram2dcontour": [
           {
            "colorbar": {
             "outlinewidth": 0,
             "ticks": ""
            },
            "colorscale": [
             [
              0,
              "#0d0887"
             ],
             [
              0.1111111111111111,
              "#46039f"
             ],
             [
              0.2222222222222222,
              "#7201a8"
             ],
             [
              0.3333333333333333,
              "#9c179e"
             ],
             [
              0.4444444444444444,
              "#bd3786"
             ],
             [
              0.5555555555555556,
              "#d8576b"
             ],
             [
              0.6666666666666666,
              "#ed7953"
             ],
             [
              0.7777777777777778,
              "#fb9f3a"
             ],
             [
              0.8888888888888888,
              "#fdca26"
             ],
             [
              1,
              "#f0f921"
             ]
            ],
            "type": "histogram2dcontour"
           }
          ],
          "mesh3d": [
           {
            "colorbar": {
             "outlinewidth": 0,
             "ticks": ""
            },
            "type": "mesh3d"
           }
          ],
          "parcoords": [
           {
            "line": {
             "colorbar": {
              "outlinewidth": 0,
              "ticks": ""
             }
            },
            "type": "parcoords"
           }
          ],
          "pie": [
           {
            "automargin": true,
            "type": "pie"
           }
          ],
          "scatter": [
           {
            "marker": {
             "colorbar": {
              "outlinewidth": 0,
              "ticks": ""
             }
            },
            "type": "scatter"
           }
          ],
          "scatter3d": [
           {
            "line": {
             "colorbar": {
              "outlinewidth": 0,
              "ticks": ""
             }
            },
            "marker": {
             "colorbar": {
              "outlinewidth": 0,
              "ticks": ""
             }
            },
            "type": "scatter3d"
           }
          ],
          "scattercarpet": [
           {
            "marker": {
             "colorbar": {
              "outlinewidth": 0,
              "ticks": ""
             }
            },
            "type": "scattercarpet"
           }
          ],
          "scattergeo": [
           {
            "marker": {
             "colorbar": {
              "outlinewidth": 0,
              "ticks": ""
             }
            },
            "type": "scattergeo"
           }
          ],
          "scattergl": [
           {
            "marker": {
             "colorbar": {
              "outlinewidth": 0,
              "ticks": ""
             }
            },
            "type": "scattergl"
           }
          ],
          "scattermapbox": [
           {
            "marker": {
             "colorbar": {
              "outlinewidth": 0,
              "ticks": ""
             }
            },
            "type": "scattermapbox"
           }
          ],
          "scatterpolar": [
           {
            "marker": {
             "colorbar": {
              "outlinewidth": 0,
              "ticks": ""
             }
            },
            "type": "scatterpolar"
           }
          ],
          "scatterpolargl": [
           {
            "marker": {
             "colorbar": {
              "outlinewidth": 0,
              "ticks": ""
             }
            },
            "type": "scatterpolargl"
           }
          ],
          "scatterternary": [
           {
            "marker": {
             "colorbar": {
              "outlinewidth": 0,
              "ticks": ""
             }
            },
            "type": "scatterternary"
           }
          ],
          "surface": [
           {
            "colorbar": {
             "outlinewidth": 0,
             "ticks": ""
            },
            "colorscale": [
             [
              0,
              "#0d0887"
             ],
             [
              0.1111111111111111,
              "#46039f"
             ],
             [
              0.2222222222222222,
              "#7201a8"
             ],
             [
              0.3333333333333333,
              "#9c179e"
             ],
             [
              0.4444444444444444,
              "#bd3786"
             ],
             [
              0.5555555555555556,
              "#d8576b"
             ],
             [
              0.6666666666666666,
              "#ed7953"
             ],
             [
              0.7777777777777778,
              "#fb9f3a"
             ],
             [
              0.8888888888888888,
              "#fdca26"
             ],
             [
              1,
              "#f0f921"
             ]
            ],
            "type": "surface"
           }
          ],
          "table": [
           {
            "cells": {
             "fill": {
              "color": "#EBF0F8"
             },
             "line": {
              "color": "white"
             }
            },
            "header": {
             "fill": {
              "color": "#C8D4E3"
             },
             "line": {
              "color": "white"
             }
            },
            "type": "table"
           }
          ]
         },
         "layout": {
          "annotationdefaults": {
           "arrowcolor": "#2a3f5f",
           "arrowhead": 0,
           "arrowwidth": 1
          },
          "autotypenumbers": "strict",
          "coloraxis": {
           "colorbar": {
            "outlinewidth": 0,
            "ticks": ""
           }
          },
          "colorscale": {
           "diverging": [
            [
             0,
             "#8e0152"
            ],
            [
             0.1,
             "#c51b7d"
            ],
            [
             0.2,
             "#de77ae"
            ],
            [
             0.3,
             "#f1b6da"
            ],
            [
             0.4,
             "#fde0ef"
            ],
            [
             0.5,
             "#f7f7f7"
            ],
            [
             0.6,
             "#e6f5d0"
            ],
            [
             0.7,
             "#b8e186"
            ],
            [
             0.8,
             "#7fbc41"
            ],
            [
             0.9,
             "#4d9221"
            ],
            [
             1,
             "#276419"
            ]
           ],
           "sequential": [
            [
             0,
             "#0d0887"
            ],
            [
             0.1111111111111111,
             "#46039f"
            ],
            [
             0.2222222222222222,
             "#7201a8"
            ],
            [
             0.3333333333333333,
             "#9c179e"
            ],
            [
             0.4444444444444444,
             "#bd3786"
            ],
            [
             0.5555555555555556,
             "#d8576b"
            ],
            [
             0.6666666666666666,
             "#ed7953"
            ],
            [
             0.7777777777777778,
             "#fb9f3a"
            ],
            [
             0.8888888888888888,
             "#fdca26"
            ],
            [
             1,
             "#f0f921"
            ]
           ],
           "sequentialminus": [
            [
             0,
             "#0d0887"
            ],
            [
             0.1111111111111111,
             "#46039f"
            ],
            [
             0.2222222222222222,
             "#7201a8"
            ],
            [
             0.3333333333333333,
             "#9c179e"
            ],
            [
             0.4444444444444444,
             "#bd3786"
            ],
            [
             0.5555555555555556,
             "#d8576b"
            ],
            [
             0.6666666666666666,
             "#ed7953"
            ],
            [
             0.7777777777777778,
             "#fb9f3a"
            ],
            [
             0.8888888888888888,
             "#fdca26"
            ],
            [
             1,
             "#f0f921"
            ]
           ]
          },
          "colorway": [
           "#636efa",
           "#EF553B",
           "#00cc96",
           "#ab63fa",
           "#FFA15A",
           "#19d3f3",
           "#FF6692",
           "#B6E880",
           "#FF97FF",
           "#FECB52"
          ],
          "font": {
           "color": "#2a3f5f"
          },
          "geo": {
           "bgcolor": "white",
           "lakecolor": "white",
           "landcolor": "#E5ECF6",
           "showlakes": true,
           "showland": true,
           "subunitcolor": "white"
          },
          "hoverlabel": {
           "align": "left"
          },
          "hovermode": "closest",
          "mapbox": {
           "style": "light"
          },
          "paper_bgcolor": "white",
          "plot_bgcolor": "#E5ECF6",
          "polar": {
           "angularaxis": {
            "gridcolor": "white",
            "linecolor": "white",
            "ticks": ""
           },
           "bgcolor": "#E5ECF6",
           "radialaxis": {
            "gridcolor": "white",
            "linecolor": "white",
            "ticks": ""
           }
          },
          "scene": {
           "xaxis": {
            "backgroundcolor": "#E5ECF6",
            "gridcolor": "white",
            "gridwidth": 2,
            "linecolor": "white",
            "showbackground": true,
            "ticks": "",
            "zerolinecolor": "white"
           },
           "yaxis": {
            "backgroundcolor": "#E5ECF6",
            "gridcolor": "white",
            "gridwidth": 2,
            "linecolor": "white",
            "showbackground": true,
            "ticks": "",
            "zerolinecolor": "white"
           },
           "zaxis": {
            "backgroundcolor": "#E5ECF6",
            "gridcolor": "white",
            "gridwidth": 2,
            "linecolor": "white",
            "showbackground": true,
            "ticks": "",
            "zerolinecolor": "white"
           }
          },
          "shapedefaults": {
           "line": {
            "color": "#2a3f5f"
           }
          },
          "ternary": {
           "aaxis": {
            "gridcolor": "white",
            "linecolor": "white",
            "ticks": ""
           },
           "baxis": {
            "gridcolor": "white",
            "linecolor": "white",
            "ticks": ""
           },
           "bgcolor": "#E5ECF6",
           "caxis": {
            "gridcolor": "white",
            "linecolor": "white",
            "ticks": ""
           }
          },
          "title": {
           "x": 0.05
          },
          "xaxis": {
           "automargin": true,
           "gridcolor": "white",
           "linecolor": "white",
           "ticks": "",
           "title": {
            "standoff": 15
           },
           "zerolinecolor": "white",
           "zerolinewidth": 2
          },
          "yaxis": {
           "automargin": true,
           "gridcolor": "white",
           "linecolor": "white",
           "ticks": "",
           "title": {
            "standoff": 15
           },
           "zerolinecolor": "white",
           "zerolinewidth": 2
          }
         }
        },
        "xaxis": {
         "anchor": "y",
         "constrain": "domain",
         "domain": [
          0,
          1
         ],
         "scaleanchor": "y",
         "title": {
          "text": "NAME"
         }
        },
        "yaxis": {
         "anchor": "x",
         "autorange": "reversed",
         "constrain": "domain",
         "domain": [
          0,
          1
         ]
        }
       }
      },
      "image/png": "[encoded data removed]"
     },
     "metadata": {},
     "output_type": "display_data"
    }
   ],
   "source": [
    "fig = px.imshow(np.log(sigmat_normal.iloc[::100].T))\n",
    "\n",
    "fig.show()"
   ]
  },
  {
   "cell_type": "code",
   "execution_count": 15,
   "id": "adf28d39-a3ac-4d28-96d2-c2af69ebd2ce",
   "metadata": {},
   "outputs": [],
   "source": [
    "import seaborn as sns"
   ]
  },
  {
   "cell_type": "code",
   "execution_count": 16,
   "id": "ef3a74c5-d815-47f7-8387-d8ec925dc754",
   "metadata": {},
   "outputs": [
    {
     "name": "stderr",
     "output_type": "stream",
     "text": [
      "/opt/conda/lib/python3.7/site-packages/seaborn/matrix.py:649: UserWarning:\n",
      "\n",
      "Clustering large matrix with scipy. Installing `fastcluster` may give better performance.\n",
      "\n"
     ]
    },
    {
     "data": {
      "text/plain": [
       "<seaborn.matrix.ClusterGrid at 0x7fd2a65def10>"
      ]
     },
     "execution_count": 16,
     "metadata": {},
     "output_type": "execute_result"
    },
    {
     "data": {
      "image/png": "[encoded data removed]",
      "text/plain": [
       "<Figure size 720x720 with 4 Axes>"
      ]
     },
     "metadata": {
      "needs_background": "light"
     },
     "output_type": "display_data"
    }
   ],
   "source": [
    "sns.clustermap(np.log(sigmat_normal))"
   ]
  },
  {
   "cell_type": "code",
   "execution_count": 17,
   "id": "13dd83ab-9f10-4928-bde4-cd89acf3463d",
   "metadata": {},
   "outputs": [
    {
     "data": {
      "text/plain": [
       "<seaborn.matrix.ClusterGrid at 0x7fd29ae8ff10>"
      ]
     },
     "execution_count": 17,
     "metadata": {},
     "output_type": "execute_result"
    },
    {
     "data": {
      "image/png": "[encoded data removed]",
      "text/plain": [
       "<Figure size 720x720 with 4 Axes>"
      ]
     },
     "metadata": {
      "needs_background": "light"
     },
     "output_type": "display_data"
    }
   ],
   "source": [
    "sns.clustermap(np.log(sigmat_t))"
   ]
  },
  {
   "cell_type": "code",
   "execution_count": 18,
   "id": "5ff11e19-46da-4304-b068-881b109e849b",
   "metadata": {},
   "outputs": [
    {
     "data": {
      "text/plain": [
       "<seaborn.matrix.ClusterGrid at 0x7fd29ab53550>"
      ]
     },
     "execution_count": 18,
     "metadata": {},
     "output_type": "execute_result"
    },
    {
     "data": {
      "image/png": "[encoded data removed]",
      "text/plain": [
       "<Figure size 720x720 with 4 Axes>"
      ]
     },
     "metadata": {
      "needs_background": "light"
     },
     "output_type": "display_data"
    }
   ],
   "source": [
    "sns.clustermap(np.log(sigmat_lympho))"
   ]
  },
  {
   "cell_type": "markdown",
   "id": "3a2a0e2d-7f92-4108-8423-e9ded079e6bb",
   "metadata": {},
   "source": [
    "## fiddling with settings"
   ]
  },
  {
   "cell_type": "code",
   "execution_count": 19,
   "id": "48f9f4b9-c7f8-4587-8e02-3ac4bfbcce8a",
   "metadata": {},
   "outputs": [
    {
     "data": {
      "text/plain": [
       "<seaborn.matrix.ClusterGrid at 0x7fd29a78fd50>"
      ]
     },
     "execution_count": 19,
     "metadata": {},
     "output_type": "execute_result"
    },
    {
     "data": {
      "image/png": "[encoded data removed]",
      "text/plain": [
       "<Figure size 720x720 with 4 Axes>"
      ]
     },
     "metadata": {
      "needs_background": "light"
     },
     "output_type": "display_data"
    }
   ],
   "source": [
    "sns.clustermap(np.log(sigmat_normal), col_cluster=False)"
   ]
  },
  {
   "cell_type": "markdown",
   "id": "639d1ee9-cfbd-4da2-99bd-0c721ddbb4dc",
   "metadata": {},
   "source": [
    "## using plotly FigureFactory dendrogram gen"
   ]
  },
  {
   "cell_type": "code",
   "execution_count": 20,
   "id": "4a2ed94d-7efe-44ad-a609-2e315b2be0be",
   "metadata": {},
   "outputs": [
    {
     "data": {
      "application/vnd.plotly.v1+json": {
       "config": {
        "plotlyServerURL": "https://plot.ly"
       },
       "data": [
        {
         "hoverinfo": "text",
         "marker": {
          "color": "rgb(61,153,112)"
         },
         "mode": "lines",
         "type": "scatter",
         "x": [
          45,
          45,
          55,
          55
         ],
         "xaxis": "x",
         "y": [
          0,
          7067.2193904352125,
          7067.2193904352125,
          0
         ],
         "yaxis": "y"
        },
        {
         "hoverinfo": "text",
         "marker": {
          "color": "rgb(61,153,112)"
         },
         "mode": "lines",
         "type": "scatter",
         "x": [
          35,
          35,
          50,
          50
         ],
         "xaxis": "x",
         "y": [
          0,
          12872.423629988036,
          12872.423629988036,
          7067.2193904352125
         ],
         "yaxis": "y"
        },
        {
         "hoverinfo": "text",
         "marker": {
          "color": "rgb(61,153,112)"
         },
         "mode": "lines",
         "type": "scatter",
         "x": [
          65,
          65,
          75,
          75
         ],
         "xaxis": "x",
         "y": [
          0,
          17367.00935020228,
          17367.00935020228,
          0
         ],
         "yaxis": "y"
        },
        {
         "hoverinfo": "text",
         "marker": {
          "color": "rgb(61,153,112)"
         },
         "mode": "lines",
         "type": "scatter",
         "x": [
          42.5,
          42.5,
          70,
          70
         ],
         "xaxis": "x",
         "y": [
          12872.423629988036,
          21084.654975240654,
          21084.654975240654,
          17367.00935020228
         ],
         "yaxis": "y"
        },
        {
         "hoverinfo": "text",
         "marker": {
          "color": "rgb(61,153,112)"
         },
         "mode": "lines",
         "type": "scatter",
         "x": [
          25,
          25,
          56.25,
          56.25
         ],
         "xaxis": "x",
         "y": [
          0,
          24515.96832298975,
          24515.96832298975,
          21084.654975240654
         ],
         "yaxis": "y"
        },
        {
         "hoverinfo": "text",
         "marker": {
          "color": "rgb(61,153,112)"
         },
         "mode": "lines",
         "type": "scatter",
         "x": [
          15,
          15,
          40.625,
          40.625
         ],
         "xaxis": "x",
         "y": [
          0,
          33750.23567786361,
          33750.23567786361,
          24515.96832298975
         ],
         "yaxis": "y"
        },
        {
         "hoverinfo": "text",
         "marker": {
          "color": "rgb(0,116,217)"
         },
         "mode": "lines",
         "type": "scatter",
         "x": [
          5,
          5,
          27.8125,
          27.8125
         ],
         "xaxis": "x",
         "y": [
          0,
          52540.65687376781,
          52540.65687376781,
          33750.23567786361
         ],
         "yaxis": "y"
        }
       ],
       "layout": {
        "autosize": false,
        "height": 500,
        "hovermode": "closest",
        "showlegend": false,
        "template": {
         "data": {
          "bar": [
           {
            "error_x": {
             "color": "#2a3f5f"
            },
            "error_y": {
             "color": "#2a3f5f"
            },
            "marker": {
             "line": {
              "color": "#E5ECF6",
              "width": 0.5
             },
             "pattern": {
              "fillmode": "overlay",
              "size": 10,
              "solidity": 0.2
             }
            },
            "type": "bar"
           }
          ],
          "barpolar": [
           {
            "marker": {
             "line": {
              "color": "#E5ECF6",
              "width": 0.5
             },
             "pattern": {
              "fillmode": "overlay",
              "size": 10,
              "solidity": 0.2
             }
            },
            "type": "barpolar"
           }
          ],
          "carpet": [
           {
            "aaxis": {
             "endlinecolor": "#2a3f5f",
             "gridcolor": "white",
             "linecolor": "white",
             "minorgridcolor": "white",
             "startlinecolor": "#2a3f5f"
            },
            "baxis": {
             "endlinecolor": "#2a3f5f",
             "gridcolor": "white",
             "linecolor": "white",
             "minorgridcolor": "white",
             "startlinecolor": "#2a3f5f"
            },
            "type": "carpet"
           }
          ],
          "choropleth": [
           {
            "colorbar": {
             "outlinewidth": 0,
             "ticks": ""
            },
            "type": "choropleth"
           }
          ],
          "contour": [
           {
            "colorbar": {
             "outlinewidth": 0,
             "ticks": ""
            },
            "colorscale": [
             [
              0,
              "#0d0887"
             ],
             [
              0.1111111111111111,
              "#46039f"
             ],
             [
              0.2222222222222222,
              "#7201a8"
             ],
             [
              0.3333333333333333,
              "#9c179e"
             ],
             [
              0.4444444444444444,
              "#bd3786"
             ],
             [
              0.5555555555555556,
              "#d8576b"
             ],
             [
              0.6666666666666666,
              "#ed7953"
             ],
             [
              0.7777777777777778,
              "#fb9f3a"
             ],
             [
              0.8888888888888888,
              "#fdca26"
             ],
             [
              1,
              "#f0f921"
             ]
            ],
            "type": "contour"
           }
          ],
          "contourcarpet": [
           {
            "colorbar": {
             "outlinewidth": 0,
             "ticks": ""
            },
            "type": "contourcarpet"
           }
          ],
          "heatmap": [
           {
            "colorbar": {
             "outlinewidth": 0,
             "ticks": ""
            },
            "colorscale": [
             [
              0,
              "#0d0887"
             ],
             [
              0.1111111111111111,
              "#46039f"
             ],
             [
              0.2222222222222222,
              "#7201a8"
             ],
             [
              0.3333333333333333,
              "#9c179e"
             ],
             [
              0.4444444444444444,
              "#bd3786"
             ],
             [
              0.5555555555555556,
              "#d8576b"
             ],
             [
              0.6666666666666666,
              "#ed7953"
             ],
             [
              0.7777777777777778,
              "#fb9f3a"
             ],
             [
              0.8888888888888888,
              "#fdca26"
             ],
             [
              1,
              "#f0f921"
             ]
            ],
            "type": "heatmap"
           }
          ],
          "heatmapgl": [
           {
            "colorbar": {
             "outlinewidth": 0,
             "ticks": ""
            },
            "colorscale": [
             [
              0,
              "#0d0887"
             ],
             [
              0.1111111111111111,
              "#46039f"
             ],
             [
              0.2222222222222222,
              "#7201a8"
             ],
             [
              0.3333333333333333,
              "#9c179e"
             ],
             [
              0.4444444444444444,
              "#bd3786"
             ],
             [
              0.5555555555555556,
              "#d8576b"
             ],
             [
              0.6666666666666666,
              "#ed7953"
             ],
             [
              0.7777777777777778,
              "#fb9f3a"
             ],
             [
              0.8888888888888888,
              "#fdca26"
             ],
             [
              1,
              "#f0f921"
             ]
            ],
            "type": "heatmapgl"
           }
          ],
          "histogram": [
           {
            "marker": {
             "pattern": {
              "fillmode": "overlay",
              "size": 10,
              "solidity": 0.2
             }
            },
            "type": "histogram"
           }
          ],
          "histogram2d": [
           {
            "colorbar": {
             "outlinewidth": 0,
             "ticks": ""
            },
            "colorscale": [
             [
              0,
              "#0d0887"
             ],
             [
              0.1111111111111111,
              "#46039f"
             ],
             [
              0.2222222222222222,
              "#7201a8"
             ],
             [
              0.3333333333333333,
              "#9c179e"
             ],
             [
              0.4444444444444444,
              "#bd3786"
             ],
             [
              0.5555555555555556,
              "#d8576b"
             ],
             [
              0.6666666666666666,
              "#ed7953"
             ],
             [
              0.7777777777777778,
              "#fb9f3a"
             ],
             [
              0.8888888888888888,
              "#fdca26"
             ],
             [
              1,
              "#f0f921"
             ]
            ],
            "type": "histogram2d"
           }
          ],
          "histogram2dcontour": [
           {
            "colorbar": {
             "outlinewidth": 0,
             "ticks": ""
            },
            "colorscale": [
             [
              0,
              "#0d0887"
             ],
             [
              0.1111111111111111,
              "#46039f"
             ],
             [
              0.2222222222222222,
              "#7201a8"
             ],
             [
              0.3333333333333333,
              "#9c179e"
             ],
             [
              0.4444444444444444,
              "#bd3786"
             ],
             [
              0.5555555555555556,
              "#d8576b"
             ],
             [
              0.6666666666666666,
              "#ed7953"
             ],
             [
              0.7777777777777778,
              "#fb9f3a"
             ],
             [
              0.8888888888888888,
              "#fdca26"
             ],
             [
              1,
              "#f0f921"
             ]
            ],
            "type": "histogram2dcontour"
           }
          ],
          "mesh3d": [
           {
            "colorbar": {
             "outlinewidth": 0,
             "ticks": ""
            },
            "type": "mesh3d"
           }
          ],
          "parcoords": [
           {
            "line": {
             "colorbar": {
              "outlinewidth": 0,
              "ticks": ""
             }
            },
            "type": "parcoords"
           }
          ],
          "pie": [
           {
            "automargin": true,
            "type": "pie"
           }
          ],
          "scatter": [
           {
            "marker": {
             "colorbar": {
              "outlinewidth": 0,
              "ticks": ""
             }
            },
            "type": "scatter"
           }
          ],
          "scatter3d": [
           {
            "line": {
             "colorbar": {
              "outlinewidth": 0,
              "ticks": ""
             }
            },
            "marker": {
             "colorbar": {
              "outlinewidth": 0,
              "ticks": ""
             }
            },
            "type": "scatter3d"
           }
          ],
          "scattercarpet": [
           {
            "marker": {
             "colorbar": {
              "outlinewidth": 0,
              "ticks": ""
             }
            },
            "type": "scattercarpet"
           }
          ],
          "scattergeo": [
           {
            "marker": {
             "colorbar": {
              "outlinewidth": 0,
              "ticks": ""
             }
            },
            "type": "scattergeo"
           }
          ],
          "scattergl": [
           {
            "marker": {
             "colorbar": {
              "outlinewidth": 0,
              "ticks": ""
             }
            },
            "type": "scattergl"
           }
          ],
          "scattermapbox": [
           {
            "marker": {
             "colorbar": {
              "outlinewidth": 0,
              "ticks": ""
             }
            },
            "type": "scattermapbox"
           }
          ],
          "scatterpolar": [
           {
            "marker": {
             "colorbar": {
              "outlinewidth": 0,
              "ticks": ""
             }
            },
            "type": "scatterpolar"
           }
          ],
          "scatterpolargl": [
           {
            "marker": {
             "colorbar": {
              "outlinewidth": 0,
              "ticks": ""
             }
            },
            "type": "scatterpolargl"
           }
          ],
          "scatterternary": [
           {
            "marker": {
             "colorbar": {
              "outlinewidth": 0,
              "ticks": ""
             }
            },
            "type": "scatterternary"
           }
          ],
          "surface": [
           {
            "colorbar": {
             "outlinewidth": 0,
             "ticks": ""
            },
            "colorscale": [
             [
              0,
              "#0d0887"
             ],
             [
              0.1111111111111111,
              "#46039f"
             ],
             [
              0.2222222222222222,
              "#7201a8"
             ],
             [
              0.3333333333333333,
              "#9c179e"
             ],
             [
              0.4444444444444444,
              "#bd3786"
             ],
             [
              0.5555555555555556,
              "#d8576b"
             ],
             [
              0.6666666666666666,
              "#ed7953"
             ],
             [
              0.7777777777777778,
              "#fb9f3a"
             ],
             [
              0.8888888888888888,
              "#fdca26"
             ],
             [
              1,
              "#f0f921"
             ]
            ],
            "type": "surface"
           }
          ],
          "table": [
           {
            "cells": {
             "fill": {
              "color": "#EBF0F8"
             },
             "line": {
              "color": "white"
             }
            },
            "header": {
             "fill": {
              "color": "#C8D4E3"
             },
             "line": {
              "color": "white"
             }
            },
            "type": "table"
           }
          ]
         },
         "layout": {
          "annotationdefaults": {
           "arrowcolor": "#2a3f5f",
           "arrowhead": 0,
           "arrowwidth": 1
          },
          "autotypenumbers": "strict",
          "coloraxis": {
           "colorbar": {
            "outlinewidth": 0,
            "ticks": ""
           }
          },
          "colorscale": {
           "diverging": [
            [
             0,
             "#8e0152"
            ],
            [
             0.1,
             "#c51b7d"
            ],
            [
             0.2,
             "#de77ae"
            ],
            [
             0.3,
             "#f1b6da"
            ],
            [
             0.4,
             "#fde0ef"
            ],
            [
             0.5,
             "#f7f7f7"
            ],
            [
             0.6,
             "#e6f5d0"
            ],
            [
             0.7,
             "#b8e186"
            ],
            [
             0.8,
             "#7fbc41"
            ],
            [
             0.9,
             "#4d9221"
            ],
            [
             1,
             "#276419"
            ]
           ],
           "sequential": [
            [
             0,
             "#0d0887"
            ],
            [
             0.1111111111111111,
             "#46039f"
            ],
            [
             0.2222222222222222,
             "#7201a8"
            ],
            [
             0.3333333333333333,
             "#9c179e"
            ],
            [
             0.4444444444444444,
             "#bd3786"
            ],
            [
             0.5555555555555556,
             "#d8576b"
            ],
            [
             0.6666666666666666,
             "#ed7953"
            ],
            [
             0.7777777777777778,
             "#fb9f3a"
            ],
            [
             0.8888888888888888,
             "#fdca26"
            ],
            [
             1,
             "#f0f921"
            ]
           ],
           "sequentialminus": [
            [
             0,
             "#0d0887"
            ],
            [
             0.1111111111111111,
             "#46039f"
            ],
            [
             0.2222222222222222,
             "#7201a8"
            ],
            [
             0.3333333333333333,
             "#9c179e"
            ],
            [
             0.4444444444444444,
             "#bd3786"
            ],
            [
             0.5555555555555556,
             "#d8576b"
            ],
            [
             0.6666666666666666,
             "#ed7953"
            ],
            [
             0.7777777777777778,
             "#fb9f3a"
            ],
            [
             0.8888888888888888,
             "#fdca26"
            ],
            [
             1,
             "#f0f921"
            ]
           ]
          },
          "colorway": [
           "#636efa",
           "#EF553B",
           "#00cc96",
           "#ab63fa",
           "#FFA15A",
           "#19d3f3",
           "#FF6692",
           "#B6E880",
           "#FF97FF",
           "#FECB52"
          ],
          "font": {
           "color": "#2a3f5f"
          },
          "geo": {
           "bgcolor": "white",
           "lakecolor": "white",
           "landcolor": "#E5ECF6",
           "showlakes": true,
           "showland": true,
           "subunitcolor": "white"
          },
          "hoverlabel": {
           "align": "left"
          },
          "hovermode": "closest",
          "mapbox": {
           "style": "light"
          },
          "paper_bgcolor": "white",
          "plot_bgcolor": "#E5ECF6",
          "polar": {
           "angularaxis": {
            "gridcolor": "white",
            "linecolor": "white",
            "ticks": ""
           },
           "bgcolor": "#E5ECF6",
           "radialaxis": {
            "gridcolor": "white",
            "linecolor": "white",
            "ticks": ""
           }
          },
          "scene": {
           "xaxis": {
            "backgroundcolor": "#E5ECF6",
            "gridcolor": "white",
            "gridwidth": 2,
            "linecolor": "white",
            "showbackground": true,
            "ticks": "",
            "zerolinecolor": "white"
           },
           "yaxis": {
            "backgroundcolor": "#E5ECF6",
            "gridcolor": "white",
            "gridwidth": 2,
            "linecolor": "white",
            "showbackground": true,
            "ticks": "",
            "zerolinecolor": "white"
           },
           "zaxis": {
            "backgroundcolor": "#E5ECF6",
            "gridcolor": "white",
            "gridwidth": 2,
            "linecolor": "white",
            "showbackground": true,
            "ticks": "",
            "zerolinecolor": "white"
           }
          },
          "shapedefaults": {
           "line": {
            "color": "#2a3f5f"
           }
          },
          "ternary": {
           "aaxis": {
            "gridcolor": "white",
            "linecolor": "white",
            "ticks": ""
           },
           "baxis": {
            "gridcolor": "white",
            "linecolor": "white",
            "ticks": ""
           },
           "bgcolor": "#E5ECF6",
           "caxis": {
            "gridcolor": "white",
            "linecolor": "white",
            "ticks": ""
           }
          },
          "title": {
           "x": 0.05
          },
          "xaxis": {
           "automargin": true,
           "gridcolor": "white",
           "linecolor": "white",
           "ticks": "",
           "title": {
            "standoff": 15
           },
           "zerolinecolor": "white",
           "zerolinewidth": 2
          },
          "yaxis": {
           "automargin": true,
           "gridcolor": "white",
           "linecolor": "white",
           "ticks": "",
           "title": {
            "standoff": 15
           },
           "zerolinecolor": "white",
           "zerolinewidth": 2
          }
         }
        },
        "width": 800,
        "xaxis": {
         "mirror": "allticks",
         "rangemode": "tozero",
         "showgrid": false,
         "showline": true,
         "showticklabels": true,
         "tickmode": "array",
         "ticks": "outside",
         "ticktext": [
          "Macrophage",
          "B",
          "Endothelial",
          "NK",
          "T CD8",
          "T CD4",
          "Malignant",
          "CAF"
         ],
         "tickvals": [
          5,
          15,
          25,
          35,
          45,
          55,
          65,
          75
         ],
         "type": "linear",
         "zeroline": false
        },
        "yaxis": {
         "mirror": "allticks",
         "rangemode": "tozero",
         "showgrid": false,
         "showline": true,
         "showticklabels": true,
         "ticks": "outside",
         "type": "linear",
         "zeroline": false
        }
       }
      },
      "image/png": "[encoded data removed]"
     },
     "metadata": {},
     "output_type": "display_data"
    }
   ],
   "source": [
    "import plotly.figure_factory as ff\n",
    "import numpy as np\n",
    "np.random.seed(1)\n",
    "\n",
    "X = sigmat_normal.T\n",
    "fig = ff.create_dendrogram(X, labels=X.index)\n",
    "fig.update_layout(width=800, height=500)\n",
    "fig.show()"
   ]
  },
  {
   "cell_type": "code",
   "execution_count": 21,
   "id": "a2cd05df-97bf-4fc4-819d-96fd4cd069e6",
   "metadata": {},
   "outputs": [
    {
     "data": {
      "application/vnd.plotly.v1+json": {
       "config": {
        "plotlyServerURL": "https://plot.ly"
       },
       "data": [
        {
         "hoverinfo": "text",
         "marker": {
          "color": "rgb(61,153,112)"
         },
         "mode": "lines",
         "type": "scatter",
         "x": [
          0,
          -71.06613453055218,
          -71.06613453055218,
          0
         ],
         "xaxis": "x",
         "y": [
          35,
          35,
          45,
          45
         ],
         "yaxis": "y"
        },
        {
         "hoverinfo": "text",
         "marker": {
          "color": "rgb(61,153,112)"
         },
         "mode": "lines",
         "type": "scatter",
         "x": [
          0,
          -75.84411419907003,
          -75.84411419907003,
          0
         ],
         "xaxis": "x",
         "y": [
          55,
          55,
          65,
          65
         ],
         "yaxis": "y"
        },
        {
         "hoverinfo": "text",
         "marker": {
          "color": "rgb(61,153,112)"
         },
         "mode": "lines",
         "type": "scatter",
         "x": [
          -71.06613453055218,
          -119.4183512371478,
          -119.4183512371478,
          -75.84411419907003
         ],
         "xaxis": "x",
         "y": [
          40,
          40,
          60,
          60
         ],
         "yaxis": "y"
        },
        {
         "hoverinfo": "text",
         "marker": {
          "color": "rgb(61,153,112)"
         },
         "mode": "lines",
         "type": "scatter",
         "x": [
          0,
          -367.12904393797356,
          -367.12904393797356,
          -119.4183512371478
         ],
         "xaxis": "x",
         "y": [
          25,
          25,
          50,
          50
         ],
         "yaxis": "y"
        },
        {
         "hoverinfo": "text",
         "marker": {
          "color": "rgb(0,116,217)"
         },
         "mode": "lines",
         "type": "scatter",
         "x": [
          0,
          -886.0805609970294,
          -886.0805609970294,
          -367.12904393797356
         ],
         "xaxis": "x",
         "y": [
          15,
          15,
          37.5,
          37.5
         ],
         "yaxis": "y"
        },
        {
         "hoverinfo": "text",
         "marker": {
          "color": "rgb(0,116,217)"
         },
         "mode": "lines",
         "type": "scatter",
         "x": [
          0,
          -1257.8743765290415,
          -1257.8743765290415,
          -886.0805609970294
         ],
         "xaxis": "x",
         "y": [
          5,
          5,
          26.25,
          26.25
         ],
         "yaxis": "y"
        }
       ],
       "layout": {
        "autosize": false,
        "height": null,
        "hovermode": "closest",
        "showlegend": false,
        "template": {
         "data": {
          "bar": [
           {
            "error_x": {
             "color": "#2a3f5f"
            },
            "error_y": {
             "color": "#2a3f5f"
            },
            "marker": {
             "line": {
              "color": "#E5ECF6",
              "width": 0.5
             },
             "pattern": {
              "fillmode": "overlay",
              "size": 10,
              "solidity": 0.2
             }
            },
            "type": "bar"
           }
          ],
          "barpolar": [
           {
            "marker": {
             "line": {
              "color": "#E5ECF6",
              "width": 0.5
             },
             "pattern": {
              "fillmode": "overlay",
              "size": 10,
              "solidity": 0.2
             }
            },
            "type": "barpolar"
           }
          ],
          "carpet": [
           {
            "aaxis": {
             "endlinecolor": "#2a3f5f",
             "gridcolor": "white",
             "linecolor": "white",
             "minorgridcolor": "white",
             "startlinecolor": "#2a3f5f"
            },
            "baxis": {
             "endlinecolor": "#2a3f5f",
             "gridcolor": "white",
             "linecolor": "white",
             "minorgridcolor": "white",
             "startlinecolor": "#2a3f5f"
            },
            "type": "carpet"
           }
          ],
          "choropleth": [
           {
            "colorbar": {
             "outlinewidth": 0,
             "ticks": ""
            },
            "type": "choropleth"
           }
          ],
          "contour": [
           {
            "colorbar": {
             "outlinewidth": 0,
             "ticks": ""
            },
            "colorscale": [
             [
              0,
              "#0d0887"
             ],
             [
              0.1111111111111111,
              "#46039f"
             ],
             [
              0.2222222222222222,
              "#7201a8"
             ],
             [
              0.3333333333333333,
              "#9c179e"
             ],
             [
              0.4444444444444444,
              "#bd3786"
             ],
             [
              0.5555555555555556,
              "#d8576b"
             ],
             [
              0.6666666666666666,
              "#ed7953"
             ],
             [
              0.7777777777777778,
              "#fb9f3a"
             ],
             [
              0.8888888888888888,
              "#fdca26"
             ],
             [
              1,
              "#f0f921"
             ]
            ],
            "type": "contour"
           }
          ],
          "contourcarpet": [
           {
            "colorbar": {
             "outlinewidth": 0,
             "ticks": ""
            },
            "type": "contourcarpet"
           }
          ],
          "heatmap": [
           {
            "colorbar": {
             "outlinewidth": 0,
             "ticks": ""
            },
            "colorscale": [
             [
              0,
              "#0d0887"
             ],
             [
              0.1111111111111111,
              "#46039f"
             ],
             [
              0.2222222222222222,
              "#7201a8"
             ],
             [
              0.3333333333333333,
              "#9c179e"
             ],
             [
              0.4444444444444444,
              "#bd3786"
             ],
             [
              0.5555555555555556,
              "#d8576b"
             ],
             [
              0.6666666666666666,
              "#ed7953"
             ],
             [
              0.7777777777777778,
              "#fb9f3a"
             ],
             [
              0.8888888888888888,
              "#fdca26"
             ],
             [
              1,
              "#f0f921"
             ]
            ],
            "type": "heatmap"
           }
          ],
          "heatmapgl": [
           {
            "colorbar": {
             "outlinewidth": 0,
             "ticks": ""
            },
            "colorscale": [
             [
              0,
              "#0d0887"
             ],
             [
              0.1111111111111111,
              "#46039f"
             ],
             [
              0.2222222222222222,
              "#7201a8"
             ],
             [
              0.3333333333333333,
              "#9c179e"
             ],
             [
              0.4444444444444444,
              "#bd3786"
             ],
             [
              0.5555555555555556,
              "#d8576b"
             ],
             [
              0.6666666666666666,
              "#ed7953"
             ],
             [
              0.7777777777777778,
              "#fb9f3a"
             ],
             [
              0.8888888888888888,
              "#fdca26"
             ],
             [
              1,
              "#f0f921"
             ]
            ],
            "type": "heatmapgl"
           }
          ],
          "histogram": [
           {
            "marker": {
             "pattern": {
              "fillmode": "overlay",
              "size": 10,
              "solidity": 0.2
             }
            },
            "type": "histogram"
           }
          ],
          "histogram2d": [
           {
            "colorbar": {
             "outlinewidth": 0,
             "ticks": ""
            },
            "colorscale": [
             [
              0,
              "#0d0887"
             ],
             [
              0.1111111111111111,
              "#46039f"
             ],
             [
              0.2222222222222222,
              "#7201a8"
             ],
             [
              0.3333333333333333,
              "#9c179e"
             ],
             [
              0.4444444444444444,
              "#bd3786"
             ],
             [
              0.5555555555555556,
              "#d8576b"
             ],
             [
              0.6666666666666666,
              "#ed7953"
             ],
             [
              0.7777777777777778,
              "#fb9f3a"
             ],
             [
              0.8888888888888888,
              "#fdca26"
             ],
             [
              1,
              "#f0f921"
             ]
            ],
            "type": "histogram2d"
           }
          ],
          "histogram2dcontour": [
           {
            "colorbar": {
             "outlinewidth": 0,
             "ticks": ""
            },
            "colorscale": [
             [
              0,
              "#0d0887"
             ],
             [
              0.1111111111111111,
              "#46039f"
             ],
             [
              0.2222222222222222,
              "#7201a8"
             ],
             [
              0.3333333333333333,
              "#9c179e"
             ],
             [
              0.4444444444444444,
              "#bd3786"
             ],
             [
              0.5555555555555556,
              "#d8576b"
             ],
             [
              0.6666666666666666,
              "#ed7953"
             ],
             [
              0.7777777777777778,
              "#fb9f3a"
             ],
             [
              0.8888888888888888,
              "#fdca26"
             ],
             [
              1,
              "#f0f921"
             ]
            ],
            "type": "histogram2dcontour"
           }
          ],
          "mesh3d": [
           {
            "colorbar": {
             "outlinewidth": 0,
             "ticks": ""
            },
            "type": "mesh3d"
           }
          ],
          "parcoords": [
           {
            "line": {
             "colorbar": {
              "outlinewidth": 0,
              "ticks": ""
             }
            },
            "type": "parcoords"
           }
          ],
          "pie": [
           {
            "automargin": true,
            "type": "pie"
           }
          ],
          "scatter": [
           {
            "marker": {
             "colorbar": {
              "outlinewidth": 0,
              "ticks": ""
             }
            },
            "type": "scatter"
           }
          ],
          "scatter3d": [
           {
            "line": {
             "colorbar": {
              "outlinewidth": 0,
              "ticks": ""
             }
            },
            "marker": {
             "colorbar": {
              "outlinewidth": 0,
              "ticks": ""
             }
            },
            "type": "scatter3d"
           }
          ],
          "scattercarpet": [
           {
            "marker": {
             "colorbar": {
              "outlinewidth": 0,
              "ticks": ""
             }
            },
            "type": "scattercarpet"
           }
          ],
          "scattergeo": [
           {
            "marker": {
             "colorbar": {
              "outlinewidth": 0,
              "ticks": ""
             }
            },
            "type": "scattergeo"
           }
          ],
          "scattergl": [
           {
            "marker": {
             "colorbar": {
              "outlinewidth": 0,
              "ticks": ""
             }
            },
            "type": "scattergl"
           }
          ],
          "scattermapbox": [
           {
            "marker": {
             "colorbar": {
              "outlinewidth": 0,
              "ticks": ""
             }
            },
            "type": "scattermapbox"
           }
          ],
          "scatterpolar": [
           {
            "marker": {
             "colorbar": {
              "outlinewidth": 0,
              "ticks": ""
             }
            },
            "type": "scatterpolar"
           }
          ],
          "scatterpolargl": [
           {
            "marker": {
             "colorbar": {
              "outlinewidth": 0,
              "ticks": ""
             }
            },
            "type": "scatterpolargl"
           }
          ],
          "scatterternary": [
           {
            "marker": {
             "colorbar": {
              "outlinewidth": 0,
              "ticks": ""
             }
            },
            "type": "scatterternary"
           }
          ],
          "surface": [
           {
            "colorbar": {
             "outlinewidth": 0,
             "ticks": ""
            },
            "colorscale": [
             [
              0,
              "#0d0887"
             ],
             [
              0.1111111111111111,
              "#46039f"
             ],
             [
              0.2222222222222222,
              "#7201a8"
             ],
             [
              0.3333333333333333,
              "#9c179e"
             ],
             [
              0.4444444444444444,
              "#bd3786"
             ],
             [
              0.5555555555555556,
              "#d8576b"
             ],
             [
              0.6666666666666666,
              "#ed7953"
             ],
             [
              0.7777777777777778,
              "#fb9f3a"
             ],
             [
              0.8888888888888888,
              "#fdca26"
             ],
             [
              1,
              "#f0f921"
             ]
            ],
            "type": "surface"
           }
          ],
          "table": [
           {
            "cells": {
             "fill": {
              "color": "#EBF0F8"
             },
             "line": {
              "color": "white"
             }
            },
            "header": {
             "fill": {
              "color": "#C8D4E3"
             },
             "line": {
              "color": "white"
             }
            },
            "type": "table"
           }
          ]
         },
         "layout": {
          "annotationdefaults": {
           "arrowcolor": "#2a3f5f",
           "arrowhead": 0,
           "arrowwidth": 1
          },
          "autotypenumbers": "strict",
          "coloraxis": {
           "colorbar": {
            "outlinewidth": 0,
            "ticks": ""
           }
          },
          "colorscale": {
           "diverging": [
            [
             0,
             "#8e0152"
            ],
            [
             0.1,
             "#c51b7d"
            ],
            [
             0.2,
             "#de77ae"
            ],
            [
             0.3,
             "#f1b6da"
            ],
            [
             0.4,
             "#fde0ef"
            ],
            [
             0.5,
             "#f7f7f7"
            ],
            [
             0.6,
             "#e6f5d0"
            ],
            [
             0.7,
             "#b8e186"
            ],
            [
             0.8,
             "#7fbc41"
            ],
            [
             0.9,
             "#4d9221"
            ],
            [
             1,
             "#276419"
            ]
           ],
           "sequential": [
            [
             0,
             "#0d0887"
            ],
            [
             0.1111111111111111,
             "#46039f"
            ],
            [
             0.2222222222222222,
             "#7201a8"
            ],
            [
             0.3333333333333333,
             "#9c179e"
            ],
            [
             0.4444444444444444,
             "#bd3786"
            ],
            [
             0.5555555555555556,
             "#d8576b"
            ],
            [
             0.6666666666666666,
             "#ed7953"
            ],
            [
             0.7777777777777778,
             "#fb9f3a"
            ],
            [
             0.8888888888888888,
             "#fdca26"
            ],
            [
             1,
             "#f0f921"
            ]
           ],
           "sequentialminus": [
            [
             0,
             "#0d0887"
            ],
            [
             0.1111111111111111,
             "#46039f"
            ],
            [
             0.2222222222222222,
             "#7201a8"
            ],
            [
             0.3333333333333333,
             "#9c179e"
            ],
            [
             0.4444444444444444,
             "#bd3786"
            ],
            [
             0.5555555555555556,
             "#d8576b"
            ],
            [
             0.6666666666666666,
             "#ed7953"
            ],
            [
             0.7777777777777778,
             "#fb9f3a"
            ],
            [
             0.8888888888888888,
             "#fdca26"
            ],
            [
             1,
             "#f0f921"
            ]
           ]
          },
          "colorway": [
           "#636efa",
           "#EF553B",
           "#00cc96",
           "#ab63fa",
           "#FFA15A",
           "#19d3f3",
           "#FF6692",
           "#B6E880",
           "#FF97FF",
           "#FECB52"
          ],
          "font": {
           "color": "#2a3f5f"
          },
          "geo": {
           "bgcolor": "white",
           "lakecolor": "white",
           "landcolor": "#E5ECF6",
           "showlakes": true,
           "showland": true,
           "subunitcolor": "white"
          },
          "hoverlabel": {
           "align": "left"
          },
          "hovermode": "closest",
          "mapbox": {
           "style": "light"
          },
          "paper_bgcolor": "white",
          "plot_bgcolor": "#E5ECF6",
          "polar": {
           "angularaxis": {
            "gridcolor": "white",
            "linecolor": "white",
            "ticks": ""
           },
           "bgcolor": "#E5ECF6",
           "radialaxis": {
            "gridcolor": "white",
            "linecolor": "white",
            "ticks": ""
           }
          },
          "scene": {
           "xaxis": {
            "backgroundcolor": "#E5ECF6",
            "gridcolor": "white",
            "gridwidth": 2,
            "linecolor": "white",
            "showbackground": true,
            "ticks": "",
            "zerolinecolor": "white"
           },
           "yaxis": {
            "backgroundcolor": "#E5ECF6",
            "gridcolor": "white",
            "gridwidth": 2,
            "linecolor": "white",
            "showbackground": true,
            "ticks": "",
            "zerolinecolor": "white"
           },
           "zaxis": {
            "backgroundcolor": "#E5ECF6",
            "gridcolor": "white",
            "gridwidth": 2,
            "linecolor": "white",
            "showbackground": true,
            "ticks": "",
            "zerolinecolor": "white"
           }
          },
          "shapedefaults": {
           "line": {
            "color": "#2a3f5f"
           }
          },
          "ternary": {
           "aaxis": {
            "gridcolor": "white",
            "linecolor": "white",
            "ticks": ""
           },
           "baxis": {
            "gridcolor": "white",
            "linecolor": "white",
            "ticks": ""
           },
           "bgcolor": "#E5ECF6",
           "caxis": {
            "gridcolor": "white",
            "linecolor": "white",
            "ticks": ""
           }
          },
          "title": {
           "x": 0.05
          },
          "xaxis": {
           "automargin": true,
           "gridcolor": "white",
           "linecolor": "white",
           "ticks": "",
           "title": {
            "standoff": 15
           },
           "zerolinecolor": "white",
           "zerolinewidth": 2
          },
          "yaxis": {
           "automargin": true,
           "gridcolor": "white",
           "linecolor": "white",
           "ticks": "",
           "title": {
            "standoff": 15
           },
           "zerolinecolor": "white",
           "zerolinewidth": 2
          }
         }
        },
        "width": null,
        "xaxis": {
         "mirror": "allticks",
         "rangemode": "tozero",
         "showgrid": false,
         "showline": true,
         "showticklabels": true,
         "ticks": "outside",
         "type": "linear",
         "zeroline": false
        },
        "yaxis": {
         "mirror": "allticks",
         "rangemode": "tozero",
         "showgrid": false,
         "showline": true,
         "showticklabels": true,
         "tickmode": "array",
         "ticks": "outside",
         "ticktext": [
          "A2M",
          "PIM2",
          "CFI",
          "GBA2",
          "SLPI",
          "LOC285972",
          "ZAK"
         ],
         "tickvals": [
          5,
          15,
          25,
          35,
          45,
          55,
          65
         ],
         "type": "linear",
         "zeroline": false
        }
       }
      },
      "image/png": "[encoded data removed]"
     },
     "metadata": {},
     "output_type": "display_data"
    }
   ],
   "source": [
    "data_array = sigmat_normal.iloc[::500]\n",
    "labels = data_array.index\n",
    "\n",
    "dendro_side = ff.create_dendrogram(data_array, orientation='right', labels=labels)\n",
    "\n",
    "fig = dendro_side\n",
    "\n",
    "fig.show()"
   ]
  },
  {
   "cell_type": "code",
   "execution_count": 22,
   "id": "75a216b3-2e7e-4a70-a95d-0e454d4a85fd",
   "metadata": {},
   "outputs": [
    {
     "data": {
      "application/vnd.plotly.v1+json": {
       "config": {
        "plotlyServerURL": "https://plot.ly"
       },
       "data": [
        {
         "hoverinfo": "text",
         "marker": {
          "color": "rgb(61,153,112)"
         },
         "mode": "lines",
         "type": "scatter",
         "x": [
          5,
          5,
          15,
          15
         ],
         "xaxis": "x",
         "y": [
          0,
          232.23119524719428,
          232.23119524719428,
          0
         ],
         "yaxis": "y2"
        },
        {
         "hoverinfo": "text",
         "marker": {
          "color": "rgb(61,153,112)"
         },
         "mode": "lines",
         "type": "scatter",
         "x": [
          25,
          25,
          35,
          35
         ],
         "xaxis": "x",
         "y": [
          0,
          311.7204848375667,
          311.7204848375667,
          0
         ],
         "yaxis": "y2"
        },
        {
         "hoverinfo": "text",
         "marker": {
          "color": "rgb(61,153,112)"
         },
         "mode": "lines",
         "type": "scatter",
         "x": [
          10,
          10,
          30,
          30
         ],
         "xaxis": "x",
         "y": [
          232.23119524719428,
          356.0508089840855,
          356.0508089840855,
          311.7204848375667
         ],
         "yaxis": "y2"
        },
        {
         "hoverinfo": "text",
         "marker": {
          "color": "rgb(255,65,54)"
         },
         "mode": "lines",
         "type": "scatter",
         "x": [
          45,
          45,
          55,
          55
         ],
         "xaxis": "x",
         "y": [
          0,
          600.8756881783542,
          600.8756881783542,
          0
         ],
         "yaxis": "y2"
        },
        {
         "hoverinfo": "text",
         "marker": {
          "color": "rgb(0,116,217)"
         },
         "mode": "lines",
         "type": "scatter",
         "x": [
          20,
          20,
          50,
          50
         ],
         "xaxis": "x",
         "y": [
          356.0508089840855,
          768.5961469174563,
          768.5961469174563,
          600.8756881783542
         ],
         "yaxis": "y2"
        },
        {
         "hoverinfo": "text",
         "marker": {
          "color": "rgb(0,116,217)"
         },
         "mode": "lines",
         "type": "scatter",
         "x": [
          65,
          65,
          75,
          75
         ],
         "xaxis": "x",
         "y": [
          0,
          1072.1621942365841,
          1072.1621942365841,
          0
         ],
         "yaxis": "y2"
        },
        {
         "hoverinfo": "text",
         "marker": {
          "color": "rgb(0,116,217)"
         },
         "mode": "lines",
         "type": "scatter",
         "x": [
          35,
          35,
          70,
          70
         ],
         "xaxis": "x",
         "y": [
          768.5961469174563,
          1091.7216900842002,
          1091.7216900842002,
          1072.1621942365841
         ],
         "yaxis": "y2"
        },
        {
         "hoverinfo": "text",
         "marker": {
          "color": "rgb(61,153,112)"
         },
         "mode": "lines",
         "type": "scatter",
         "x": [
          0,
          -159.22470018702825,
          -159.22470018702825,
          0
         ],
         "xaxis": "x2",
         "y": [
          35,
          35,
          45,
          45
         ],
         "yaxis": "y"
        },
        {
         "hoverinfo": "text",
         "marker": {
          "color": "rgb(61,153,112)"
         },
         "mode": "lines",
         "type": "scatter",
         "x": [
          0,
          -481.7763048275219,
          -481.7763048275219,
          -159.22470018702825
         ],
         "xaxis": "x2",
         "y": [
          25,
          25,
          40,
          40
         ],
         "yaxis": "y"
        },
        {
         "hoverinfo": "text",
         "marker": {
          "color": "rgb(61,153,112)"
         },
         "mode": "lines",
         "type": "scatter",
         "x": [
          0,
          -46.345550775874635,
          -46.345550775874635,
          0
         ],
         "xaxis": "x2",
         "y": [
          85,
          85,
          95,
          95
         ],
         "yaxis": "y"
        },
        {
         "hoverinfo": "text",
         "marker": {
          "color": "rgb(61,153,112)"
         },
         "mode": "lines",
         "type": "scatter",
         "x": [
          0,
          -33.360914906409505,
          -33.360914906409505,
          0
         ],
         "xaxis": "x2",
         "y": [
          115,
          115,
          125,
          125
         ],
         "yaxis": "y"
        },
        {
         "hoverinfo": "text",
         "marker": {
          "color": "rgb(61,153,112)"
         },
         "mode": "lines",
         "type": "scatter",
         "x": [
          0,
          -52.32316824242004,
          -52.32316824242004,
          -33.360914906409505
         ],
         "xaxis": "x2",
         "y": [
          105,
          105,
          120,
          120
         ],
         "yaxis": "y"
        },
        {
         "hoverinfo": "text",
         "marker": {
          "color": "rgb(61,153,112)"
         },
         "mode": "lines",
         "type": "scatter",
         "x": [
          -46.345550775874635,
          -82.53216307973113,
          -82.53216307973113,
          -52.32316824242004
         ],
         "xaxis": "x2",
         "y": [
          90,
          90,
          112.5,
          112.5
         ],
         "yaxis": "y"
        },
        {
         "hoverinfo": "text",
         "marker": {
          "color": "rgb(61,153,112)"
         },
         "mode": "lines",
         "type": "scatter",
         "x": [
          0,
          -137.33596328632933,
          -137.33596328632933,
          -82.53216307973113
         ],
         "xaxis": "x2",
         "y": [
          75,
          75,
          101.25,
          101.25
         ],
         "yaxis": "y"
        },
        {
         "hoverinfo": "text",
         "marker": {
          "color": "rgb(61,153,112)"
         },
         "mode": "lines",
         "type": "scatter",
         "x": [
          0,
          -45.88278309747904,
          -45.88278309747904,
          0
         ],
         "xaxis": "x2",
         "y": [
          145,
          145,
          155,
          155
         ],
         "yaxis": "y"
        },
        {
         "hoverinfo": "text",
         "marker": {
          "color": "rgb(61,153,112)"
         },
         "mode": "lines",
         "type": "scatter",
         "x": [
          0,
          -69.24464767609714,
          -69.24464767609714,
          0
         ],
         "xaxis": "x2",
         "y": [
          165,
          165,
          175,
          175
         ],
         "yaxis": "y"
        },
        {
         "hoverinfo": "text",
         "marker": {
          "color": "rgb(61,153,112)"
         },
         "mode": "lines",
         "type": "scatter",
         "x": [
          -45.88278309747904,
          -114.65917225137247,
          -114.65917225137247,
          -69.24464767609714
         ],
         "xaxis": "x2",
         "y": [
          150,
          150,
          170,
          170
         ],
         "yaxis": "y"
        },
        {
         "hoverinfo": "text",
         "marker": {
          "color": "rgb(61,153,112)"
         },
         "mode": "lines",
         "type": "scatter",
         "x": [
          0,
          -31.2171826142326,
          -31.2171826142326,
          0
         ],
         "xaxis": "x2",
         "y": [
          195,
          195,
          205,
          205
         ],
         "yaxis": "y"
        },
        {
         "hoverinfo": "text",
         "marker": {
          "color": "rgb(61,153,112)"
         },
         "mode": "lines",
         "type": "scatter",
         "x": [
          0,
          -68.68530136089767,
          -68.68530136089767,
          -31.2171826142326
         ],
         "xaxis": "x2",
         "y": [
          185,
          185,
          200,
          200
         ],
         "yaxis": "y"
        },
        {
         "hoverinfo": "text",
         "marker": {
          "color": "rgb(61,153,112)"
         },
         "mode": "lines",
         "type": "scatter",
         "x": [
          0,
          -10.75076239874366,
          -10.75076239874366,
          0
         ],
         "xaxis": "x2",
         "y": [
          215,
          215,
          225,
          225
         ],
         "yaxis": "y"
        },
        {
         "hoverinfo": "text",
         "marker": {
          "color": "rgb(61,153,112)"
         },
         "mode": "lines",
         "type": "scatter",
         "x": [
          0,
          -35.57867004410927,
          -35.57867004410927,
          0
         ],
         "xaxis": "x2",
         "y": [
          265,
          265,
          275,
          275
         ],
         "yaxis": "y"
        },
        {
         "hoverinfo": "text",
         "marker": {
          "color": "rgb(61,153,112)"
         },
         "mode": "lines",
         "type": "scatter",
         "x": [
          0,
          -45.93566294000814,
          -45.93566294000814,
          -35.57867004410927
         ],
         "xaxis": "x2",
         "y": [
          255,
          255,
          270,
          270
         ],
         "yaxis": "y"
        },
        {
         "hoverinfo": "text",
         "marker": {
          "color": "rgb(61,153,112)"
         },
         "mode": "lines",
         "type": "scatter",
         "x": [
          0,
          -55.981268430370335,
          -55.981268430370335,
          -45.93566294000814
         ],
         "xaxis": "x2",
         "y": [
          245,
          245,
          262.5,
          262.5
         ],
         "yaxis": "y"
        },
        {
         "hoverinfo": "text",
         "marker": {
          "color": "rgb(61,153,112)"
         },
         "mode": "lines",
         "type": "scatter",
         "x": [
          0,
          -76.65214356988105,
          -76.65214356988105,
          -55.981268430370335
         ],
         "xaxis": "x2",
         "y": [
          235,
          235,
          253.75,
          253.75
         ],
         "yaxis": "y"
        },
        {
         "hoverinfo": "text",
         "marker": {
          "color": "rgb(61,153,112)"
         },
         "mode": "lines",
         "type": "scatter",
         "x": [
          -10.75076239874366,
          -88.3754185578335,
          -88.3754185578335,
          -76.65214356988105
         ],
         "xaxis": "x2",
         "y": [
          220,
          220,
          244.375,
          244.375
         ],
         "yaxis": "y"
        },
        {
         "hoverinfo": "text",
         "marker": {
          "color": "rgb(61,153,112)"
         },
         "mode": "lines",
         "type": "scatter",
         "x": [
          -68.68530136089767,
          -125.58369208133476,
          -125.58369208133476,
          -88.3754185578335
         ],
         "xaxis": "x2",
         "y": [
          192.5,
          192.5,
          232.1875,
          232.1875
         ],
         "yaxis": "y"
        },
        {
         "hoverinfo": "text",
         "marker": {
          "color": "rgb(61,153,112)"
         },
         "mode": "lines",
         "type": "scatter",
         "x": [
          -114.65917225137247,
          -191.39468172152974,
          -191.39468172152974,
          -125.58369208133476
         ],
         "xaxis": "x2",
         "y": [
          160,
          160,
          212.34375,
          212.34375
         ],
         "yaxis": "y"
        },
        {
         "hoverinfo": "text",
         "marker": {
          "color": "rgb(61,153,112)"
         },
         "mode": "lines",
         "type": "scatter",
         "x": [
          0,
          -229.82790559585482,
          -229.82790559585482,
          -191.39468172152974
         ],
         "xaxis": "x2",
         "y": [
          135,
          135,
          186.171875,
          186.171875
         ],
         "yaxis": "y"
        },
        {
         "hoverinfo": "text",
         "marker": {
          "color": "rgb(61,153,112)"
         },
         "mode": "lines",
         "type": "scatter",
         "x": [
          -137.33596328632933,
          -237.76852029064324,
          -237.76852029064324,
          -229.82790559585482
         ],
         "xaxis": "x2",
         "y": [
          88.125,
          88.125,
          160.5859375,
          160.5859375
         ],
         "yaxis": "y"
        },
        {
         "hoverinfo": "text",
         "marker": {
          "color": "rgb(61,153,112)"
         },
         "mode": "lines",
         "type": "scatter",
         "x": [
          0,
          -150.92546622004886,
          -150.92546622004886,
          0
         ],
         "xaxis": "x2",
         "y": [
          295,
          295,
          305,
          305
         ],
         "yaxis": "y"
        },
        {
         "hoverinfo": "text",
         "marker": {
          "color": "rgb(61,153,112)"
         },
         "mode": "lines",
         "type": "scatter",
         "x": [
          0,
          -254.5516975844671,
          -254.5516975844671,
          -150.92546622004886
         ],
         "xaxis": "x2",
         "y": [
          285,
          285,
          300,
          300
         ],
         "yaxis": "y"
        },
        {
         "hoverinfo": "text",
         "marker": {
          "color": "rgb(61,153,112)"
         },
         "mode": "lines",
         "type": "scatter",
         "x": [
          -237.76852029064324,
          -331.7423707946602,
          -331.7423707946602,
          -254.5516975844671
         ],
         "xaxis": "x2",
         "y": [
          124.35546875,
          124.35546875,
          292.5,
          292.5
         ],
         "yaxis": "y"
        },
        {
         "hoverinfo": "text",
         "marker": {
          "color": "rgb(61,153,112)"
         },
         "mode": "lines",
         "type": "scatter",
         "x": [
          0,
          -400.8635403110975,
          -400.8635403110975,
          -331.7423707946602
         ],
         "xaxis": "x2",
         "y": [
          65,
          65,
          208.427734375,
          208.427734375
         ],
         "yaxis": "y"
        },
        {
         "hoverinfo": "text",
         "marker": {
          "color": "rgb(61,153,112)"
         },
         "mode": "lines",
         "type": "scatter",
         "x": [
          0,
          -565.1028464893578,
          -565.1028464893578,
          -400.8635403110975
         ],
         "xaxis": "x2",
         "y": [
          55,
          55,
          136.7138671875,
          136.7138671875
         ],
         "yaxis": "y"
        },
        {
         "hoverinfo": "text",
         "marker": {
          "color": "rgb(61,153,112)"
         },
         "mode": "lines",
         "type": "scatter",
         "x": [
          -481.7763048275219,
          -816.5490995495365,
          -816.5490995495365,
          -565.1028464893578
         ],
         "xaxis": "x2",
         "y": [
          32.5,
          32.5,
          95.85693359375,
          95.85693359375
         ],
         "yaxis": "y"
        },
        {
         "hoverinfo": "text",
         "marker": {
          "color": "rgb(0,116,217)"
         },
         "mode": "lines",
         "type": "scatter",
         "x": [
          0,
          -1061.3215334738923,
          -1061.3215334738923,
          -816.5490995495365
         ],
         "xaxis": "x2",
         "y": [
          15,
          15,
          64.178466796875,
          64.178466796875
         ],
         "yaxis": "y"
        },
        {
         "hoverinfo": "text",
         "marker": {
          "color": "rgb(0,116,217)"
         },
         "mode": "lines",
         "type": "scatter",
         "x": [
          0,
          -1257.8743765290415,
          -1257.8743765290415,
          -1061.3215334738923
         ],
         "xaxis": "x2",
         "y": [
          5,
          5,
          39.5892333984375,
          39.5892333984375
         ],
         "yaxis": "y"
        },
        {
         "colorscale": [
          [
           0,
           "rgb(247,251,255)"
          ],
          [
           0.125,
           "rgb(222,235,247)"
          ],
          [
           0.25,
           "rgb(198,219,239)"
          ],
          [
           0.375,
           "rgb(158,202,225)"
          ],
          [
           0.5,
           "rgb(107,174,214)"
          ],
          [
           0.625,
           "rgb(66,146,198)"
          ],
          [
           0.75,
           "rgb(33,113,181)"
          ],
          [
           0.875,
           "rgb(8,81,156)"
          ],
          [
           1,
           "rgb(8,48,107)"
          ]
         ],
         "type": "heatmap",
         "x": [
          5,
          15,
          25,
          35,
          45,
          55,
          65,
          75
         ],
         "y": [
          5,
          15,
          25,
          35,
          45,
          55,
          65,
          75,
          85,
          95,
          105,
          115,
          125,
          135,
          145,
          155,
          165,
          175,
          185,
          195,
          205,
          215,
          225,
          235,
          245,
          255,
          265,
          275,
          285,
          295,
          305
         ],
         "z": [
          [
           0,
           1257.8743765290415,
           1084.5265835831563,
           886.0805609970294,
           829.300157397631,
           924.7350428413989,
           809.1909545940287,
           709.093950642718,
           752.3260713612904,
           750.8121999798524,
           775.7768469335717,
           769.3770731576446,
           769.3120798711982,
           742.2971524466556,
           779.5164535939717,
           789.9894160069953,
           814.8319889734238,
           825.5210984416694,
           815.2556700970598,
           812.8109948546033,
           816.1656016953785,
           811.9108766600975,
           812.7880557056891,
           786.908102597673,
           810.6551380745301,
           810.5255077419042,
           802.0302359166465,
           793.5887409136194,
           857.80788217953,
           826.5178092582694,
           834.5569185497512
          ],
          [
           1257.8743765290415,
           0,
           964.5505515445576,
           919.8217389748654,
           897.0360143789549,
           1061.3215334738923,
           691.0156650726641,
           977.9910965747367,
           970.4997355144691,
           959.6593528838592,
           965.1229837534815,
           965.15767243196,
           935.9612217021134,
           976.5161183239944,
           946.6129720679331,
           932.8246186276015,
           938.8746500360719,
           926.5905152736811,
           932.0071905254567,
           944.2263338000303,
           937.8196536462748,
           964.60757284787,
           965.3460112593438,
           964.8635889883849,
           925.7480892052369,
           951.7800595745379,
           963.0194357113417,
           963.003558295156,
           851.5380210779923,
           976.9340750416989,
           923.5937560823397
          ],
          [
           1084.5265835831563,
           964.5505515445576,
           0,
           366.1882519176145,
           481.7763048275219,
           816.5490995495365,
           776.9991552762912,
           741.9006323960672,
           731.9970628382895,
           697.435499283737,
           724.8533211205225,
           724.8995075350147,
           723.2402089511817,
           739.9551964252901,
           657.3628907306947,
           630.1761717853092,
           630.3019223915064,
           561.722248802538,
           678.4714567498246,
           725.1759611868342,
           728.9339824137013,
           719.1045366203716,
           719.1987248588613,
           723.6246807092705,
           719.566669632711,
           683.6298174019563,
           722.0501346361062,
           722.0289583246368,
           711.3474115898866,
           726.9150275266029,
           596.0065185319397
          ],
          [
           886.0805609970294,
           919.8217389748654,
           366.1882519176145,
           0,
           159.22470018702825,
           573.8416252450323,
           499.3446587561551,
           399.19593989410964,
           380.4741122364831,
           345.7400375203722,
           366.5422038697709,
           366.63353106714635,
           368.3426770199569,
           395.5686322182877,
           299.4999173490734,
           274.32616404012407,
           268.0819823860653,
           198.83733470996813,
           326.2308753784795,
           367.1798261908002,
           374.54719435039885,
           365.1829446235741,
           367.12904393797356,
           365.85865959962246,
           362.3824834227114,
           321.83363671061323,
           360.96709961750884,
           360.92473832866807,
           417.0830049438976,
           396.59929453551126,
           274.3131651013126
          ],
          [
           829.300157397631,
           897.0360143789549,
           481.7763048275219,
           159.22470018702825,
           0,
           530.4008062739886,
           440.57485343101933,
           311.0913897860679,
           311.11308959022745,
           272.2540531602366,
           293.9115371160949,
           294.02542498056374,
           296.1538994280934,
           329.40149852009455,
           235.81328558462985,
           203.06560916168849,
           206.47070188382781,
           156.20170782482037,
           232.0309056704405,
           270.7300796424676,
           269.9529074600622,
           292.2146257054586,
           294.64307107931023,
           275.48550229147804,
           288.70723704792823,
           251.78063367209646,
           286.9286521742182,
           282.5490081203555,
           302.4185158173044,
           330.63848060729737,
           204.23433353140933
          ],
          [
           924.7350428413989,
           1061.3215334738923,
           816.5490995495365,
           573.8416252450323,
           530.4008062739886,
           0,
           565.1028464893578,
           478.9086941265686,
           463.4184814659571,
           447.5804812803945,
           452.0501367102795,
           452.12419199246335,
           453.5112640236204,
           475.8893586508534,
           456.9148920458255,
           437.2231546957545,
           456.18704556512307,
           475.0163515705437,
           413.47629253382013,
           452.5673028882885,
           458.5648696507715,
           385.91066180174,
           375.1598994029963,
           440.8183246798052,
           448.68385660026297,
           448.4496058503359,
           447.5414906892435,
           447.50732465479393,
           404.86730088738415,
           280.55798544430047,
           342.6304896627035
          ],
          [
           809.1909545940287,
           691.0156650726641,
           776.9991552762912,
           499.3446587561551,
           440.57485343101933,
           565.1028464893578,
           0,
           331.28826773563367,
           329.43931401236574,
           328.273950554629,
           331.26888293280973,
           333.8442754716558,
           303.47110703539227,
           382.7813462560075,
           338.3950544660133,
           348.16950866544715,
           357.9909187477757,
           381.6954435460702,
           358.9542244867676,
           353.36672311922746,
           361.01608972768787,
           351.29133107786606,
           353.3139554975505,
           343.43543324384194,
           307.7802210884092,
           348.07747176708017,
           346.906706843196,
           338.7330723525072,
           394.2502125858692,
           383.84634513380456,
           400.8635403110975
          ],
          [
           709.093950642718,
           977.9910965747367,
           741.9006323960672,
           399.19593989410964,
           311.0913897860679,
           478.9086941265686,
           331.28826773563367,
           0,
           96.03905570521843,
           86.81844778314489,
           120.63129934045169,
           129.8020403215899,
           137.33596328632933,
           237.76852029064324,
           139.45703086695394,
           165.27630272695296,
           195.37095000413214,
           236.01635922849036,
           197.13052903225633,
           186.76282073170054,
           200.86046709571932,
           182.80566044326818,
           186.66296190987015,
           148.15676727636054,
           177.14511209109554,
           176.55094605071662,
           174.23137906941926,
           147.69688186084693,
           331.7423707946602,
           239.47928276203837,
           265.9020273529094
          ],
          [
           752.3260713612904,
           970.4997355144691,
           731.9970628382895,
           380.4741122364831,
           311.11308959022745,
           463.4184814659571,
           329.43931401236574,
           96.03905570521843,
           0,
           46.345550775874635,
           54.3420832646773,
           70.09381800737242,
           82.53216307973113,
           204.785304393163,
           88.19180382391924,
           122.38688533726874,
           153.53488124760278,
           202.7483008009443,
           155.76776666157747,
           142.42016311554943,
           160.46207930881653,
           137.18987260107014,
           142.28918793486747,
           138.9785483604787,
           129.55131181105497,
           128.73767205290548,
           125.53774375314403,
           104.91196283893484,
           308.9597906437992,
           206.76914307124918,
           236.8692462194824
          ],
          [
           750.8121999798524,
           959.6593528838592,
           697.435499283737,
           345.7400375203722,
           272.2540531602366,
           447.5804812803945,
           328.273950554629,
           86.81844778314489,
           46.345550775874635,
           0,
           55.39885294804752,
           68.85634325274728,
           80.88223356961409,
           198.71693141317388,
           59.345973281605936,
           89.15465796284477,
           123.71685813824728,
           168.70023290498014,
           133.55221894621536,
           133.54737285595456,
           152.64166151800288,
           121.40626063105074,
           126.00154187046682,
           115.75802896887679,
           119.72861114551037,
           108.1956588619171,
           115.37384036902685,
           92.15153045436912,
           293.87045870349795,
           189.33367502130164,
           203.91529386418847
          ],
          [
           775.7768469335717,
           965.1229837534815,
           724.8533211205225,
           366.5422038697709,
           293.9115371160949,
           452.0501367102795,
           331.26888293280973,
           120.63129934045169,
           54.3420832646773,
           55.39885294804752,
           0,
           33.51425876984422,
           52.32316824242004,
           177.56592587253095,
           68.16635868948352,
           100.93746857386446,
           114.74143495391817,
           175.2127581348999,
           117.71250683892681,
           99.378770355788,
           123.85764421979641,
           91.72621370070061,
           99.19097811158419,
           94.38047488731267,
           79.85098325965647,
           78.52404307707404,
           73.15984036477114,
           51.834793377207,
           291.6312558184204,
           179.8502589989446,
           213.77482765787585
          ],
          [
           769.3770731576446,
           965.15767243196,
           724.8995075350147,
           366.63353106714635,
           294.02542498056374,
           452.12419199246335,
           333.8442754716558,
           129.8020403215899,
           70.09381800737242,
           68.85634325274728,
           33.51425876984422,
           0,
           33.360914906409505,
           146.12372213455455,
           75.79330283731902,
           105.12500052129178,
           115.03284652802304,
           175.403732851654,
           117.99658110030079,
           99.71508853971861,
           124.12765572882273,
           92.09048357415692,
           99.52793087263618,
           94.73453923997376,
           80.2691622766141,
           78.9492509541772,
           61.306023483297565,
           55.22338637492399,
           291.7460338295697,
           180.03631452305095,
           213.93138111368793
          ],
          [
           769.3120798711982,
           935.9612217021134,
           723.2402089511817,
           368.3426770199569,
           296.1538994280934,
           453.5112640236204,
           303.47110703539227,
           137.33596328632933,
           82.53216307973113,
           80.88223356961409,
           52.32316824242004,
           33.360914906409505,
           0,
           142.78390901277234,
           85.73548208485477,
           112.14929497833116,
           120.36917126824392,
           178.94873877666345,
           123.2046052825299,
           105.8266530414151,
           129.0885607952822,
           98.67542133878221,
           105.65032245692568,
           101.14748902703546,
           71.00428435406783,
           86.53996670723754,
           68.22401430164787,
           66.37890329272352,
           286.2195239341571,
           183.4918422124184,
           216.84745199488538
          ],
          [
           742.2971524466556,
           976.5161183239944,
           739.9551964252901,
           395.5686322182877,
           329.40149852009455,
           475.8893586508534,
           382.7813462560075,
           237.76852029064324,
           204.785304393163,
           198.71693141317388,
           177.56592587253095,
           146.12372213455455,
           142.78390901277234,
           0,
           189.6089409928635,
           198.4926977701436,
           187.84821658089396,
           229.82790559585482,
           189.67759446925356,
           178.87843798168262,
           193.55121185106512,
           174.74282204773053,
           178.77417519337348,
           176.15058789936774,
           168.81212961417245,
           168.1885279039816,
           139.56115926073957,
           165.6597040649233,
           327.36851551052854,
           233.38267124901472,
           260.42471564253026
          ],
          [
           779.5164535939717,
           946.6129720679331,
           657.3628907306947,
           299.4999173490734,
           235.81328558462985,
           456.9148920458255,
           338.3950544660133,
           139.45703086695394,
           88.19180382391924,
           59.345973281605936,
           68.16635868948352,
           75.79330283731902,
           85.73548208485477,
           189.6089409928635,
           0,
           45.88278309747904,
           71.06613453055218,
           114.65917225137247,
           110.23115034232798,
           119.57438049554962,
           140.5795451164347,
           113.29426619795294,
           119.4183512371478,
           115.4537418770855,
           103.91377195059356,
           73.32677359950993,
           98.86483052969254,
           84.68580566618968,
           287.4901680634763,
           191.74985824102578,
           179.07181618311398
          ],
          [
           789.9894160069953,
           932.8246186276015,
           630.1761717853092,
           274.32616404012407,
           203.06560916168849,
           437.2231546957545,
           348.16950866544715,
           165.27630272695296,
           122.38688533726874,
           89.15465796284477,
           100.93746857386446,
           105.12500052129178,
           112.14929497833116,
           198.4926977701436,
           45.88278309747904,
           0,
           62.66622024200883,
           92.6410000584087,
           86.62632972250029,
           118.07248475464684,
           133.24470987257064,
           115.81611118540201,
           119.71601898358774,
           127.57332161871074,
           119.35607468677216,
           83.21418188312079,
           114.98719615374225,
           105.8580172142527,
           254.83362268283213,
           179.94819233948078,
           137.5238753901773
          ],
          [
           814.8319889734238,
           938.8746500360719,
           630.3019223915064,
           268.0819823860653,
           206.47070188382781,
           456.18704556512307,
           357.9909187477757,
           195.37095000413214,
           153.53488124760278,
           123.71685813824728,
           114.74143495391817,
           115.03284652802304,
           120.36917126824392,
           187.84821658089396,
           71.06613453055218,
           62.66622024200883,
           0,
           69.24464767609714,
           96.6584164207043,
           116.76229887717072,
           138.19555156853264,
           110.32222224701553,
           116.60250675000974,
           112.5387421362437,
           100.66515767229112,
           53.75165432454796,
           95.44452149731849,
           95.28418764513361,
           282.134999181263,
           190.00897374503327,
           158.38581264872374
          ],
          [
           825.5210984416694,
           926.5905152736811,
           561.722248802538,
           198.83733470996813,
           156.20170782482037,
           475.0163515705437,
           381.6954435460702,
           236.01635922849036,
           202.7483008009443,
           168.70023290498014,
           175.2127581348999,
           175.403732851654,
           178.94873877666345,
           229.82790559585482,
           114.65917225137247,
           92.6410000584087,
           69.24464767609714,
           0,
           143.70393424754081,
           176.5427658020471,
           191.39468172152974,
           172.3511138329967,
           176.4371227897938,
           173.778255830707,
           166.33516671811145,
           122.9963020006451,
           163.2285832867724,
           163.13488325048,
           300.3399751098861,
           231.59733120568433,
           155.80187465087482
          ],
          [
           815.2556700970598,
           932.0071905254567,
           678.4714567498246,
           326.2308753784795,
           232.0309056704405,
           413.47629253382013,
           358.9542244867676,
           197.13052903225633,
           155.76776666157747,
           133.55221894621536,
           117.71250683892681,
           117.99658110030079,
           123.2046052825299,
           189.67759446925356,
           110.23115034232798,
           86.62632972250029,
           96.6584164207043,
           143.70393424754081,
           0,
           61.76467838128098,
           68.68530136089767,
           87.77445283129627,
           90.65967019244351,
           111.59208259169118,
           104.03898951934985,
           84.7125161733972,
           98.99643455636293,
           98.8418625189408,
           198.32184910105346,
           150.71807396119553,
           129.75488351933316
          ],
          [
           812.8109948546033,
           944.2263338000303,
           725.1759611868342,
           367.1798261908002,
           270.7300796424676,
           452.5673028882885,
           353.36672311922746,
           186.76282073170054,
           142.42016311554943,
           133.54737285595456,
           99.378770355788,
           99.71508853971861,
           105.8266530414151,
           178.87843798168262,
           119.57438049554962,
           118.07248475464684,
           116.76229887717072,
           176.5427658020471,
           61.76467838128098,
           0,
           31.2171826142326,
           94.2419005732806,
           101.52185815148522,
           96.82722542628271,
           82.72857469660316,
           81.4485290534316,
           76.29023388348149,
           76.08954933062262,
           226.7025755462521,
           181.14622051200783,
           191.3056561232589
          ],
          [
           816.1656016953785,
           937.8196536462748,
           728.9339824137013,
           374.54719435039885,
           269.9529074600622,
           458.5648696507715,
           361.01608972768787,
           200.86046709571932,
           160.46207930881653,
           152.64166151800288,
           123.85764421979641,
           124.12765572882273,
           129.0885607952822,
           193.55121185106512,
           140.5795451164347,
           133.24470987257064,
           138.19555156853264,
           191.39468172152974,
           68.68530136089767,
           31.2171826142326,
           0,
           119.77525561614688,
           125.58369208133476,
           121.81989828431719,
           110.94409901198291,
           109.99290394937715,
           106.22982547404249,
           106.08579335418325,
           205.05334589738894,
           195.64899498856155,
           194.70099735646022
          ],
          [
           811.9108766600975,
           964.60757284787,
           719.1045366203716,
           365.1829446235741,
           292.2146257054586,
           385.91066180174,
           351.29133107786606,
           182.80566044326818,
           137.18987260107014,
           121.40626063105074,
           91.72621370070061,
           92.09048357415692,
           98.67542133878221,
           174.74282204773053,
           113.29426619795294,
           115.81611118540201,
           110.32222224701553,
           172.3511138329967,
           87.77445283129627,
           94.2419005732806,
           119.77525561614688,
           0,
           10.75076239874366,
           81.32841808506393,
           73.35922132744864,
           71.91259394157491,
           66.01331735668533,
           65.78128761110867,
           261.21303892950834,
           105.35267635743948,
           167.04913055299286
          ],
          [
           812.7880557056891,
           965.3460112593438,
           719.1987248588613,
           367.12904393797356,
           294.64307107931023,
           375.1598994029963,
           353.3139554975505,
           186.66296190987015,
           142.28918793486747,
           126.00154187046682,
           99.19097811158419,
           99.52793087263618,
           105.65032245692568,
           178.77417519337348,
           119.4183512371478,
           119.71601898358774,
           116.60250675000974,
           176.4371227897938,
           90.65967019244351,
           101.52185815148522,
           125.58369208133476,
           10.75076239874366,
           0,
           88.3754185578335,
           82.50289214709854,
           81.21928974247444,
           76.04544645999938,
           75.84411419907003,
           258.58192696375755,
           94.60191395869582,
           162.37361499918785
          ],
          [
           786.908102597673,
           964.8635889883849,
           723.6246807092705,
           365.85865959962246,
           275.48550229147804,
           440.8183246798052,
           343.43543324384194,
           148.15676727636054,
           138.9785483604787,
           115.75802896887679,
           94.38047488731267,
           94.73453923997376,
           101.14748902703546,
           176.15058789936774,
           115.4537418770855,
           127.57332161871074,
           112.5387421362437,
           173.778255830707,
           111.59208259169118,
           96.82722542628271,
           121.81989828431719,
           81.32841808506393,
           88.3754185578335,
           0,
           76.65214356988105,
           75.26883104907303,
           69.65438843692849,
           52.95534247029754,
           285.9692880531405,
           168.22661077300526,
           205.5679062500362
          ],
          [
           810.6551380745301,
           925.7480892052369,
           719.566669632711,
           362.3824834227114,
           288.70723704792823,
           448.68385660026297,
           307.7802210884092,
           177.14511209109554,
           129.55131181105497,
           119.72861114551037,
           79.85098325965647,
           80.2691622766141,
           71.00428435406783,
           168.81212961417245,
           103.91377195059356,
           119.35607468677216,
           100.66515767229112,
           166.33516671811145,
           104.03898951934985,
           82.72857469660316,
           110.94409901198291,
           73.35922132744864,
           82.50289214709854,
           76.65214356988105,
           0,
           55.981268430370335,
           48.168862516171124,
           47.850381894429425,
           276.4363833364389,
           171.21329602542687,
           206.56125971260323
          ],
          [
           810.5255077419042,
           951.7800595745379,
           683.6298174019563,
           321.83363671061323,
           251.78063367209646,
           448.4496058503359,
           348.07747176708017,
           176.55094605071662,
           128.73767205290548,
           108.1956588619171,
           78.52404307707404,
           78.9492509541772,
           86.53996670723754,
           168.1885279039816,
           73.32677359950993,
           83.21418188312079,
           53.75165432454796,
           122.9963020006451,
           84.7125161733972,
           81.4485290534316,
           109.99290394937715,
           71.91259394157491,
           81.21928974247444,
           75.26883104907303,
           55.981268430370335,
           0,
           45.93566294000814,
           45.60158836136063,
           279.24903896573784,
           170.5984717092351,
           179.79854878674595
          ],
          [
           802.0302359166465,
           963.0194357113417,
           722.0501346361062,
           360.96709961750884,
           286.9286521742182,
           447.5414906892435,
           346.906706843196,
           174.23137906941926,
           125.53774375314403,
           115.37384036902685,
           73.15984036477114,
           61.306023483297565,
           68.22401430164787,
           139.56115926073957,
           98.86483052969254,
           114.98719615374225,
           95.44452149731849,
           163.2285832867724,
           98.99643455636293,
           76.29023388348149,
           106.22982547404249,
           66.01331735668533,
           76.04544645999938,
           69.65438843692849,
           48.168862516171124,
           45.93566294000814,
           0,
           35.57867004410927,
           284.5924263904379,
           168.19683543561487,
           204.06797085462082
          ],
          [
           793.5887409136194,
           963.003558295156,
           722.0289583246368,
           360.92473832866807,
           282.5490081203555,
           447.50732465479393,
           338.7330723525072,
           147.69688186084693,
           104.91196283893484,
           92.15153045436912,
           51.834793377207,
           55.22338637492399,
           66.37890329272352,
           165.6597040649233,
           84.68580566618968,
           105.8580172142527,
           95.28418764513361,
           163.13488325048,
           98.8418625189408,
           76.08954933062262,
           106.08579335418325,
           65.78128761110867,
           75.84411419907003,
           52.95534247029754,
           47.850381894429425,
           45.60158836136063,
           35.57867004410927,
           0,
           284.5386948907613,
           168.10590466100902,
           203.99303042031443
          ],
          [
           857.80788217953,
           851.5380210779923,
           711.3474115898866,
           417.0830049438976,
           302.4185158173044,
           404.86730088738415,
           394.2502125858692,
           331.7423707946602,
           308.9597906437992,
           293.87045870349795,
           291.6312558184204,
           291.7460338295697,
           286.2195239341571,
           327.36851551052854,
           287.4901680634763,
           254.83362268283213,
           282.134999181263,
           300.3399751098861,
           198.32184910105346,
           226.7025755462521,
           205.05334589738894,
           261.21303892950834,
           258.58192696375755,
           285.9692880531405,
           276.4363833364389,
           279.24903896573784,
           284.5924263904379,
           284.5386948907613,
           0,
           254.5516975844671,
           201.711216630864
          ],
          [
           826.5178092582694,
           976.9340750416989,
           726.9150275266029,
           396.59929453551126,
           330.63848060729737,
           280.55798544430047,
           383.84634513380456,
           239.47928276203837,
           206.76914307124918,
           189.33367502130164,
           179.8502589989446,
           180.03631452305095,
           183.4918422124184,
           233.38267124901472,
           191.74985824102578,
           179.94819233948078,
           190.00897374503327,
           231.59733120568433,
           150.71807396119553,
           181.14622051200783,
           195.64899498856155,
           105.35267635743948,
           94.60191395869582,
           168.22661077300526,
           171.21329602542687,
           170.5984717092351,
           168.19683543561487,
           168.10590466100902,
           254.5516975844671,
           0,
           150.92546622004886
          ],
          [
           834.5569185497512,
           923.5937560823397,
           596.0065185319397,
           274.3131651013126,
           204.23433353140933,
           342.6304896627035,
           400.8635403110975,
           265.9020273529094,
           236.8692462194824,
           203.91529386418847,
           213.77482765787585,
           213.93138111368793,
           216.84745199488538,
           260.42471564253026,
           179.07181618311398,
           137.5238753901773,
           158.38581264872374,
           155.80187465087482,
           129.75488351933316,
           191.3056561232589,
           194.70099735646022,
           167.04913055299286,
           162.37361499918785,
           205.5679062500362,
           206.56125971260323,
           179.79854878674595,
           204.06797085462082,
           203.99303042031443,
           201.711216630864,
           150.92546622004886,
           0
          ]
         ]
        }
       ],
       "layout": {
        "autosize": false,
        "height": 800,
        "hovermode": "closest",
        "showlegend": false,
        "template": {
         "data": {
          "bar": [
           {
            "error_x": {
             "color": "#2a3f5f"
            },
            "error_y": {
             "color": "#2a3f5f"
            },
            "marker": {
             "line": {
              "color": "#E5ECF6",
              "width": 0.5
             },
             "pattern": {
              "fillmode": "overlay",
              "size": 10,
              "solidity": 0.2
             }
            },
            "type": "bar"
           }
          ],
          "barpolar": [
           {
            "marker": {
             "line": {
              "color": "#E5ECF6",
              "width": 0.5
             },
             "pattern": {
              "fillmode": "overlay",
              "size": 10,
              "solidity": 0.2
             }
            },
            "type": "barpolar"
           }
          ],
          "carpet": [
           {
            "aaxis": {
             "endlinecolor": "#2a3f5f",
             "gridcolor": "white",
             "linecolor": "white",
             "minorgridcolor": "white",
             "startlinecolor": "#2a3f5f"
            },
            "baxis": {
             "endlinecolor": "#2a3f5f",
             "gridcolor": "white",
             "linecolor": "white",
             "minorgridcolor": "white",
             "startlinecolor": "#2a3f5f"
            },
            "type": "carpet"
           }
          ],
          "choropleth": [
           {
            "colorbar": {
             "outlinewidth": 0,
             "ticks": ""
            },
            "type": "choropleth"
           }
          ],
          "contour": [
           {
            "colorbar": {
             "outlinewidth": 0,
             "ticks": ""
            },
            "colorscale": [
             [
              0,
              "#0d0887"
             ],
             [
              0.1111111111111111,
              "#46039f"
             ],
             [
              0.2222222222222222,
              "#7201a8"
             ],
             [
              0.3333333333333333,
              "#9c179e"
             ],
             [
              0.4444444444444444,
              "#bd3786"
             ],
             [
              0.5555555555555556,
              "#d8576b"
             ],
             [
              0.6666666666666666,
              "#ed7953"
             ],
             [
              0.7777777777777778,
              "#fb9f3a"
             ],
             [
              0.8888888888888888,
              "#fdca26"
             ],
             [
              1,
              "#f0f921"
             ]
            ],
            "type": "contour"
           }
          ],
          "contourcarpet": [
           {
            "colorbar": {
             "outlinewidth": 0,
             "ticks": ""
            },
            "type": "contourcarpet"
           }
          ],
          "heatmap": [
           {
            "colorbar": {
             "outlinewidth": 0,
             "ticks": ""
            },
            "colorscale": [
             [
              0,
              "#0d0887"
             ],
             [
              0.1111111111111111,
              "#46039f"
             ],
             [
              0.2222222222222222,
              "#7201a8"
             ],
             [
              0.3333333333333333,
              "#9c179e"
             ],
             [
              0.4444444444444444,
              "#bd3786"
             ],
             [
              0.5555555555555556,
              "#d8576b"
             ],
             [
              0.6666666666666666,
              "#ed7953"
             ],
             [
              0.7777777777777778,
              "#fb9f3a"
             ],
             [
              0.8888888888888888,
              "#fdca26"
             ],
             [
              1,
              "#f0f921"
             ]
            ],
            "type": "heatmap"
           }
          ],
          "heatmapgl": [
           {
            "colorbar": {
             "outlinewidth": 0,
             "ticks": ""
            },
            "colorscale": [
             [
              0,
              "#0d0887"
             ],
             [
              0.1111111111111111,
              "#46039f"
             ],
             [
              0.2222222222222222,
              "#7201a8"
             ],
             [
              0.3333333333333333,
              "#9c179e"
             ],
             [
              0.4444444444444444,
              "#bd3786"
             ],
             [
              0.5555555555555556,
              "#d8576b"
             ],
             [
              0.6666666666666666,
              "#ed7953"
             ],
             [
              0.7777777777777778,
              "#fb9f3a"
             ],
             [
              0.8888888888888888,
              "#fdca26"
             ],
             [
              1,
              "#f0f921"
             ]
            ],
            "type": "heatmapgl"
           }
          ],
          "histogram": [
           {
            "marker": {
             "pattern": {
              "fillmode": "overlay",
              "size": 10,
              "solidity": 0.2
             }
            },
            "type": "histogram"
           }
          ],
          "histogram2d": [
           {
            "colorbar": {
             "outlinewidth": 0,
             "ticks": ""
            },
            "colorscale": [
             [
              0,
              "#0d0887"
             ],
             [
              0.1111111111111111,
              "#46039f"
             ],
             [
              0.2222222222222222,
              "#7201a8"
             ],
             [
              0.3333333333333333,
              "#9c179e"
             ],
             [
              0.4444444444444444,
              "#bd3786"
             ],
             [
              0.5555555555555556,
              "#d8576b"
             ],
             [
              0.6666666666666666,
              "#ed7953"
             ],
             [
              0.7777777777777778,
              "#fb9f3a"
             ],
             [
              0.8888888888888888,
              "#fdca26"
             ],
             [
              1,
              "#f0f921"
             ]
            ],
            "type": "histogram2d"
           }
          ],
          "histogram2dcontour": [
           {
            "colorbar": {
             "outlinewidth": 0,
             "ticks": ""
            },
            "colorscale": [
             [
              0,
              "#0d0887"
             ],
             [
              0.1111111111111111,
              "#46039f"
             ],
             [
              0.2222222222222222,
              "#7201a8"
             ],
             [
              0.3333333333333333,
              "#9c179e"
             ],
             [
              0.4444444444444444,
              "#bd3786"
             ],
             [
              0.5555555555555556,
              "#d8576b"
             ],
             [
              0.6666666666666666,
              "#ed7953"
             ],
             [
              0.7777777777777778,
              "#fb9f3a"
             ],
             [
              0.8888888888888888,
              "#fdca26"
             ],
             [
              1,
              "#f0f921"
             ]
            ],
            "type": "histogram2dcontour"
           }
          ],
          "mesh3d": [
           {
            "colorbar": {
             "outlinewidth": 0,
             "ticks": ""
            },
            "type": "mesh3d"
           }
          ],
          "parcoords": [
           {
            "line": {
             "colorbar": {
              "outlinewidth": 0,
              "ticks": ""
             }
            },
            "type": "parcoords"
           }
          ],
          "pie": [
           {
            "automargin": true,
            "type": "pie"
           }
          ],
          "scatter": [
           {
            "marker": {
             "colorbar": {
              "outlinewidth": 0,
              "ticks": ""
             }
            },
            "type": "scatter"
           }
          ],
          "scatter3d": [
           {
            "line": {
             "colorbar": {
              "outlinewidth": 0,
              "ticks": ""
             }
            },
            "marker": {
             "colorbar": {
              "outlinewidth": 0,
              "ticks": ""
             }
            },
            "type": "scatter3d"
           }
          ],
          "scattercarpet": [
           {
            "marker": {
             "colorbar": {
              "outlinewidth": 0,
              "ticks": ""
             }
            },
            "type": "scattercarpet"
           }
          ],
          "scattergeo": [
           {
            "marker": {
             "colorbar": {
              "outlinewidth": 0,
              "ticks": ""
             }
            },
            "type": "scattergeo"
           }
          ],
          "scattergl": [
           {
            "marker": {
             "colorbar": {
              "outlinewidth": 0,
              "ticks": ""
             }
            },
            "type": "scattergl"
           }
          ],
          "scattermapbox": [
           {
            "marker": {
             "colorbar": {
              "outlinewidth": 0,
              "ticks": ""
             }
            },
            "type": "scattermapbox"
           }
          ],
          "scatterpolar": [
           {
            "marker": {
             "colorbar": {
              "outlinewidth": 0,
              "ticks": ""
             }
            },
            "type": "scatterpolar"
           }
          ],
          "scatterpolargl": [
           {
            "marker": {
             "colorbar": {
              "outlinewidth": 0,
              "ticks": ""
             }
            },
            "type": "scatterpolargl"
           }
          ],
          "scatterternary": [
           {
            "marker": {
             "colorbar": {
              "outlinewidth": 0,
              "ticks": ""
             }
            },
            "type": "scatterternary"
           }
          ],
          "surface": [
           {
            "colorbar": {
             "outlinewidth": 0,
             "ticks": ""
            },
            "colorscale": [
             [
              0,
              "#0d0887"
             ],
             [
              0.1111111111111111,
              "#46039f"
             ],
             [
              0.2222222222222222,
              "#7201a8"
             ],
             [
              0.3333333333333333,
              "#9c179e"
             ],
             [
              0.4444444444444444,
              "#bd3786"
             ],
             [
              0.5555555555555556,
              "#d8576b"
             ],
             [
              0.6666666666666666,
              "#ed7953"
             ],
             [
              0.7777777777777778,
              "#fb9f3a"
             ],
             [
              0.8888888888888888,
              "#fdca26"
             ],
             [
              1,
              "#f0f921"
             ]
            ],
            "type": "surface"
           }
          ],
          "table": [
           {
            "cells": {
             "fill": {
              "color": "#EBF0F8"
             },
             "line": {
              "color": "white"
             }
            },
            "header": {
             "fill": {
              "color": "#C8D4E3"
             },
             "line": {
              "color": "white"
             }
            },
            "type": "table"
           }
          ]
         },
         "layout": {
          "annotationdefaults": {
           "arrowcolor": "#2a3f5f",
           "arrowhead": 0,
           "arrowwidth": 1
          },
          "autotypenumbers": "strict",
          "coloraxis": {
           "colorbar": {
            "outlinewidth": 0,
            "ticks": ""
           }
          },
          "colorscale": {
           "diverging": [
            [
             0,
             "#8e0152"
            ],
            [
             0.1,
             "#c51b7d"
            ],
            [
             0.2,
             "#de77ae"
            ],
            [
             0.3,
             "#f1b6da"
            ],
            [
             0.4,
             "#fde0ef"
            ],
            [
             0.5,
             "#f7f7f7"
            ],
            [
             0.6,
             "#e6f5d0"
            ],
            [
             0.7,
             "#b8e186"
            ],
            [
             0.8,
             "#7fbc41"
            ],
            [
             0.9,
             "#4d9221"
            ],
            [
             1,
             "#276419"
            ]
           ],
           "sequential": [
            [
             0,
             "#0d0887"
            ],
            [
             0.1111111111111111,
             "#46039f"
            ],
            [
             0.2222222222222222,
             "#7201a8"
            ],
            [
             0.3333333333333333,
             "#9c179e"
            ],
            [
             0.4444444444444444,
             "#bd3786"
            ],
            [
             0.5555555555555556,
             "#d8576b"
            ],
            [
             0.6666666666666666,
             "#ed7953"
            ],
            [
             0.7777777777777778,
             "#fb9f3a"
            ],
            [
             0.8888888888888888,
             "#fdca26"
            ],
            [
             1,
             "#f0f921"
            ]
           ],
           "sequentialminus": [
            [
             0,
             "#0d0887"
            ],
            [
             0.1111111111111111,
             "#46039f"
            ],
            [
             0.2222222222222222,
             "#7201a8"
            ],
            [
             0.3333333333333333,
             "#9c179e"
            ],
            [
             0.4444444444444444,
             "#bd3786"
            ],
            [
             0.5555555555555556,
             "#d8576b"
            ],
            [
             0.6666666666666666,
             "#ed7953"
            ],
            [
             0.7777777777777778,
             "#fb9f3a"
            ],
            [
             0.8888888888888888,
             "#fdca26"
            ],
            [
             1,
             "#f0f921"
            ]
           ]
          },
          "colorway": [
           "#636efa",
           "#EF553B",
           "#00cc96",
           "#ab63fa",
           "#FFA15A",
           "#19d3f3",
           "#FF6692",
           "#B6E880",
           "#FF97FF",
           "#FECB52"
          ],
          "font": {
           "color": "#2a3f5f"
          },
          "geo": {
           "bgcolor": "white",
           "lakecolor": "white",
           "landcolor": "#E5ECF6",
           "showlakes": true,
           "showland": true,
           "subunitcolor": "white"
          },
          "hoverlabel": {
           "align": "left"
          },
          "hovermode": "closest",
          "mapbox": {
           "style": "light"
          },
          "paper_bgcolor": "white",
          "plot_bgcolor": "#E5ECF6",
          "polar": {
           "angularaxis": {
            "gridcolor": "white",
            "linecolor": "white",
            "ticks": ""
           },
           "bgcolor": "#E5ECF6",
           "radialaxis": {
            "gridcolor": "white",
            "linecolor": "white",
            "ticks": ""
           }
          },
          "scene": {
           "xaxis": {
            "backgroundcolor": "#E5ECF6",
            "gridcolor": "white",
            "gridwidth": 2,
            "linecolor": "white",
            "showbackground": true,
            "ticks": "",
            "zerolinecolor": "white"
           },
           "yaxis": {
            "backgroundcolor": "#E5ECF6",
            "gridcolor": "white",
            "gridwidth": 2,
            "linecolor": "white",
            "showbackground": true,
            "ticks": "",
            "zerolinecolor": "white"
           },
           "zaxis": {
            "backgroundcolor": "#E5ECF6",
            "gridcolor": "white",
            "gridwidth": 2,
            "linecolor": "white",
            "showbackground": true,
            "ticks": "",
            "zerolinecolor": "white"
           }
          },
          "shapedefaults": {
           "line": {
            "color": "#2a3f5f"
           }
          },
          "ternary": {
           "aaxis": {
            "gridcolor": "white",
            "linecolor": "white",
            "ticks": ""
           },
           "baxis": {
            "gridcolor": "white",
            "linecolor": "white",
            "ticks": ""
           },
           "bgcolor": "#E5ECF6",
           "caxis": {
            "gridcolor": "white",
            "linecolor": "white",
            "ticks": ""
           }
          },
          "title": {
           "x": 0.05
          },
          "xaxis": {
           "automargin": true,
           "gridcolor": "white",
           "linecolor": "white",
           "ticks": "",
           "title": {
            "standoff": 15
           },
           "zerolinecolor": "white",
           "zerolinewidth": 2
          },
          "yaxis": {
           "automargin": true,
           "gridcolor": "white",
           "linecolor": "white",
           "ticks": "",
           "title": {
            "standoff": 15
           },
           "zerolinecolor": "white",
           "zerolinewidth": 2
          }
         }
        },
        "width": 800,
        "xaxis": {
         "domain": [
          0.15,
          1
         ],
         "mirror": false,
         "rangemode": "tozero",
         "showgrid": false,
         "showline": false,
         "showticklabels": true,
         "tickmode": "array",
         "ticks": "",
         "ticktext": [
          "T CD8",
          "B",
          "NK",
          "T CD4",
          "Malignant",
          "CAF",
          "Endothelial",
          "Macrophage"
         ],
         "tickvals": [
          5,
          15,
          25,
          35,
          45,
          55,
          65,
          75
         ],
         "type": "linear",
         "zeroline": false
        },
        "xaxis2": {
         "domain": [
          0,
          0.15
         ],
         "mirror": false,
         "showgrid": false,
         "showline": false,
         "showticklabels": false,
         "ticks": "",
         "zeroline": false
        },
        "yaxis": {
         "domain": [
          0,
          0.85
         ],
         "mirror": false,
         "rangemode": "tozero",
         "showgrid": false,
         "showline": false,
         "showticklabels": false,
         "ticks": "",
         "type": "linear",
         "zeroline": false
        },
        "yaxis2": {
         "domain": [
          0.825,
          0.975
         ],
         "mirror": false,
         "showgrid": false,
         "showline": false,
         "showticklabels": false,
         "ticks": "",
         "zeroline": false
        }
       }
      },
      "image/png": "[encoded data removed]"
     },
     "metadata": {},
     "output_type": "display_data"
    }
   ],
   "source": [
    "import plotly.graph_objects as go\n",
    "import plotly.figure_factory as ff\n",
    "\n",
    "import numpy as np\n",
    "from scipy.spatial.distance import pdist, squareform\n",
    "\n",
    "\n",
    "# get data\n",
    "# data = np.genfromtxt(\"http://files.figshare.com/2133304/ExpRawData_E_TABM_84_A_AFFY_44.tab\",\n",
    "#                      names=True,usecols=tuple(range(1,30)),dtype=float, delimiter=\"\\t\")\n",
    "# data_array = data.view((np.float, len(data.dtype.names)))\n",
    "# data_array = data_array.transpose()\n",
    "data_array = sigmat_normal.iloc[::100]\n",
    "\n",
    "labels = data_array.index\n",
    "\n",
    "fig = ff.create_dendrogram(data_array.T, orientation='bottom', labels=data_array.columns)\n",
    "for i in range(len(fig['data'])):\n",
    "    fig['data'][i]['yaxis'] = 'y2'\n",
    "\n",
    "# Create Side Dendrogram\n",
    "dendro_side = ff.create_dendrogram(data_array, orientation='right')\n",
    "for i in range(len(dendro_side['data'])):\n",
    "    dendro_side['data'][i]['xaxis'] = 'x2'\n",
    "\n",
    "# Add Side Dendrogram Data to Figure\n",
    "for data in dendro_side['data']:\n",
    "    fig.add_trace(data)\n",
    "\n",
    "# Create Heatmap\n",
    "dendro_leaves = dendro_side['layout']['yaxis']['ticktext']\n",
    "dendro_leaves = list(map(int, dendro_leaves))\n",
    "data_dist = pdist(data_array)\n",
    "heat_data = squareform(data_dist)\n",
    "heat_data = heat_data[dendro_leaves,:]\n",
    "heat_data = heat_data[:,dendro_leaves]\n",
    "\n",
    "heatmap = go.Heatmap(\n",
    "    y = dendro_leaves,\n",
    "    z = heat_data,\n",
    "    colorscale = 'Blues'\n",
    ")\n",
    "\n",
    "heatmap['x'] = fig['layout']['xaxis']['tickvals']\n",
    "heatmap['y'] = dendro_side['layout']['yaxis']['tickvals']\n",
    "\n",
    "# Add Heatmap Data to Figure\n",
    "fig.add_trace(heatmap)\n",
    "\n",
    "# Edit Layout\n",
    "fig.update_layout({'width':800, 'height':800,\n",
    "                         'showlegend':False, 'hovermode': 'closest',\n",
    "                         })\n",
    "# Edit xaxis\n",
    "fig.update_layout(xaxis={'domain': [.15, 1],\n",
    "                                  'mirror': False,\n",
    "                                  'showgrid': False,\n",
    "                                  'showline': False,\n",
    "                                  'zeroline': False,\n",
    "                                  'ticks':\"\"})\n",
    "\n",
    "# Edit xaxis2\n",
    "fig.update_layout(xaxis2={'domain': [0, .15],\n",
    "                                   'mirror': False,\n",
    "                                   'showgrid': False,\n",
    "                                   'showline': False,\n",
    "                                   'zeroline': False,\n",
    "                                   'showticklabels': False,\n",
    "                                   'ticks':\"\"})\n",
    "\n",
    "# Edit yaxis\n",
    "fig.update_layout(yaxis={'domain': [0, .85],\n",
    "                                  'mirror': False,\n",
    "                                  'showgrid': False,\n",
    "                                  'showline': False,\n",
    "                                  'zeroline': False,\n",
    "                                  'showticklabels': False,\n",
    "                                  'ticks': \"\"\n",
    "                        })\n",
    "# Edit yaxis2\n",
    "fig.update_layout(yaxis2={'domain':[.825, .975],\n",
    "                                   'mirror': False,\n",
    "                                   'showgrid': False,\n",
    "                                   'showline': False,\n",
    "                                   'zeroline': False,\n",
    "                                   'showticklabels': False,\n",
    "                                   'ticks':\"\"})\n",
    "\n",
    "fig"
   ]
  },
  {
   "cell_type": "code",
   "execution_count": null,
   "id": "e099376a-de0e-4ae1-9541-ba7929fa882d",
   "metadata": {},
   "outputs": [],
   "source": []
  }
 ],
 "metadata": {
  "environment": {
   "name": "tf2-gpu.2-5.m74",
   "type": "gcloud",
   "uri": "gcr.io/deeplearning-platform-release/tf2-gpu.2-5:m74"
  },
  "kernelspec": {
   "display_name": "Python 3",
   "language": "python",
   "name": "python3"
  },
  "language_info": {
   "codemirror_mode": {
    "name": "ipython",
    "version": 3
   },
   "file_extension": ".py",
   "mimetype": "text/x-python",
   "name": "python",
   "nbconvert_exporter": "python",
   "pygments_lexer": "ipython3",
   "version": "3.7.10"
  }
 },
 "nbformat": 4,
 "nbformat_minor": 5
}
