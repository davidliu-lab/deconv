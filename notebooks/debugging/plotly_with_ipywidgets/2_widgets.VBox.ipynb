{
 "cells": [
  {
   "cell_type": "markdown",
   "id": "f3bb51ea-18b2-4cf7-8712-5b07a66564c0",
   "metadata": {},
   "source": [
    "# widgets.VBox with go.FigureWidget"
   ]
  },
  {
   "cell_type": "code",
   "execution_count": 1,
   "id": "2205dc0e-a6f8-4857-9755-d4bcd2e5a9f9",
   "metadata": {},
   "outputs": [
    {
     "data": {
      "text/plain": [
       "'7.7.2'"
      ]
     },
     "execution_count": 1,
     "metadata": {},
     "output_type": "execute_result"
    }
   ],
   "source": [
    "import ipywidgets\n",
    "\n",
    "ipywidgets.__version__"
   ]
  },
  {
   "cell_type": "code",
   "execution_count": 2,
   "id": "5ffbed59-6a11-4ba0-b04d-6d2ee0abff10",
   "metadata": {},
   "outputs": [
    {
     "data": {
      "application/vnd.jupyter.widget-view+json": {
       "model_id": "085007eef031475e86a23b6da423bab5",
       "version_major": 2,
       "version_minor": 0
      },
      "text/plain": [
       "VBox(children=(HTML(value='<p>Start</p>'), FigureWidget({\n",
       "    'data': [{'type': 'scatter', 'uid': 'f1567ff0-db…"
      ]
     },
     "metadata": {},
     "output_type": "display_data"
    }
   ],
   "source": [
    "import plotly.graph_objects as go\n",
    "from ipywidgets import widgets\n",
    "\n",
    "widgets.VBox(\n",
    "    [\n",
    "        widgets.HTML(\"<p>Start</p>\"),\n",
    "        go.FigureWidget(go.Scatter(x=[1, 2, 3], y=[1, 4, 9])),\n",
    "        widgets.HTML(\"<p>End</p>\"),\n",
    "    ]\n",
    ")"
   ]
  },
  {
   "cell_type": "code",
   "execution_count": null,
   "id": "11011a39-f28e-4874-a03d-68204010ad22",
   "metadata": {},
   "outputs": [],
   "source": []
  }
 ],
 "metadata": {
  "environment": {
   "kernel": "deconv",
   "name": "common-cpu.m91",
   "type": "gcloud",
   "uri": "gcr.io/deeplearning-platform-release/base-cpu:m91"
  },
  "kernelspec": {
   "display_name": "deconv",
   "language": "python",
   "name": "deconv"
  },
  "language_info": {
   "codemirror_mode": {
    "name": "ipython",
    "version": 3
   },
   "file_extension": ".py",
   "mimetype": "text/x-python",
   "name": "python",
   "nbconvert_exporter": "python",
   "pygments_lexer": "ipython3",
   "version": "3.10.6"
  }
 },
 "nbformat": 4,
 "nbformat_minor": 5
}
