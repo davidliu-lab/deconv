{
 "cells": [
  {
   "cell_type": "markdown",
   "id": "ebe80907-fffc-4edc-8bbc-ab510e82dfb5",
   "metadata": {
    "tags": []
   },
   "source": [
    "# bigger example"
   ]
  },
  {
   "cell_type": "code",
   "execution_count": 1,
   "id": "35fbe2ce-2b21-4c74-b2ab-74530274ebe0",
   "metadata": {},
   "outputs": [],
   "source": [
    "import pandas as pd\n",
    "import plotly.graph_objects as go\n",
    "from ipywidgets import widgets"
   ]
  },
  {
   "cell_type": "code",
   "execution_count": 2,
   "id": "f15617de-bd95-4171-b3ea-b566f684aa72",
   "metadata": {},
   "outputs": [],
   "source": [
    "df = pd.read_csv(\"https://raw.githubusercontent.com/yankev/testing/master/datasets/nycflights.csv\")\n",
    "df = df.drop(df.columns[[0]], axis=1)"
   ]
  },
  {
   "cell_type": "code",
   "execution_count": 3,
   "id": "4cf931d2-c01f-465e-b6cc-5ec9d436f9de",
   "metadata": {},
   "outputs": [],
   "source": [
    "month = widgets.IntSlider(\n",
    "    value=1.0,\n",
    "    min=1.0,\n",
    "    max=12.0,\n",
    "    step=1.0,\n",
    "    description=\"Month:\",\n",
    "    continuous_update=False,\n",
    ")\n",
    "\n",
    "use_date = widgets.Checkbox(\n",
    "    description=\"Date: \",\n",
    "    value=True,\n",
    ")\n",
    "\n",
    "container = widgets.HBox(children=[use_date, month])\n",
    "\n",
    "textbox = widgets.Dropdown(\n",
    "    description=\"Airline:   \", value=\"DL\", options=df[\"carrier\"].unique().tolist()\n",
    ")\n",
    "\n",
    "origin = widgets.Dropdown(\n",
    "    options=list(df[\"origin\"].unique()),\n",
    "    value=\"LGA\",\n",
    "    description=\"Origin Airport:\",\n",
    ")\n",
    "\n",
    "\n",
    "# Assign an empty figure widget with two traces\n",
    "trace1 = go.Histogram(x=df[\"arr_delay\"], opacity=0.75, name=\"Arrival Delays\")\n",
    "trace2 = go.Histogram(x=df[\"dep_delay\"], opacity=0.75, name=\"Departure Delays\")\n",
    "g = go.FigureWidget(\n",
    "    data=[trace1, trace2],\n",
    "    layout=go.Layout(title=dict(text=\"NYC FlightDatabase\"), barmode=\"overlay\"),\n",
    ")"
   ]
  },
  {
   "cell_type": "code",
   "execution_count": 4,
   "id": "16bfdf27-3453-44ef-88d4-8504dfa84d0d",
   "metadata": {},
   "outputs": [],
   "source": [
    "def validate():\n",
    "    if origin.value in df[\"origin\"].unique() and textbox.value in df[\"carrier\"].unique():\n",
    "        return True\n",
    "    else:\n",
    "        return False\n",
    "\n",
    "\n",
    "def response(change):\n",
    "    if validate():\n",
    "        if use_date.value:\n",
    "            filter_list = [\n",
    "                i and j and k\n",
    "                for i, j, k in zip(\n",
    "                    df[\"month\"] == month.value,\n",
    "                    df[\"carrier\"] == textbox.value,\n",
    "                    df[\"origin\"] == origin.value,\n",
    "                )\n",
    "            ]\n",
    "            temp_df = df[filter_list]\n",
    "\n",
    "        else:\n",
    "            filter_list = [\n",
    "                i and j for i, j in zip(df[\"carrier\"] == \"DL\", df[\"origin\"] == origin.value)\n",
    "            ]\n",
    "            temp_df = df[filter_list]\n",
    "        x1 = temp_df[\"arr_delay\"]\n",
    "        x2 = temp_df[\"dep_delay\"]\n",
    "        with g.batch_update():\n",
    "            g.data[0].x = x1\n",
    "            g.data[1].x = x2\n",
    "            g.layout.barmode = \"overlay\"\n",
    "            g.layout.xaxis.title = \"Delay in Minutes\"\n",
    "            g.layout.yaxis.title = \"Number of Delays\"\n",
    "\n",
    "\n",
    "origin.observe(response, names=\"value\")\n",
    "textbox.observe(response, names=\"value\")\n",
    "month.observe(response, names=\"value\")\n",
    "use_date.observe(response, names=\"value\")"
   ]
  },
  {
   "cell_type": "code",
   "execution_count": 5,
   "id": "91a262f1-c5d3-44c1-ae29-f2d397e0fcc1",
   "metadata": {},
   "outputs": [
    {
     "data": {
      "application/vnd.jupyter.widget-view+json": {
       "model_id": "e8970fd266e446788cc21b848572ffe1",
       "version_major": 2,
       "version_minor": 0
      },
      "text/plain": [
       "VBox(children=(HBox(children=(Checkbox(value=True, description='Date: '), IntSlider(value=1, continuous_update…"
      ]
     },
     "metadata": {},
     "output_type": "display_data"
    }
   ],
   "source": [
    "container2 = widgets.HBox([origin, textbox])\n",
    "widgets.VBox([container, container2, g])"
   ]
  }
 ],
 "metadata": {
  "environment": {
   "kernel": "deconv",
   "name": "common-cpu.m91",
   "type": "gcloud",
   "uri": "gcr.io/deeplearning-platform-release/base-cpu:m91"
  },
  "kernelspec": {
   "display_name": "deconv",
   "language": "python",
   "name": "deconv"
  },
  "language_info": {
   "codemirror_mode": {
    "name": "ipython",
    "version": 3
   },
   "file_extension": ".py",
   "mimetype": "text/x-python",
   "name": "python",
   "nbconvert_exporter": "python",
   "pygments_lexer": "ipython3",
   "version": "3.10.6"
  }
 },
 "nbformat": 4,
 "nbformat_minor": 5
}
