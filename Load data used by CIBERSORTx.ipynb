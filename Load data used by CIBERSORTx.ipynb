{
 "cells": [
  {
   "cell_type": "markdown",
   "id": "1731c14f",
   "metadata": {},
   "source": [
    "# Load data used by CIBERSORTx"
   ]
  },
  {
   "cell_type": "markdown",
   "id": "bbc6731c",
   "metadata": {},
   "source": [
    "* found the source data for the paper\n",
    "* got genomic, sc, and bulk data\n",
    "* gave up trying to use it"
   ]
  },
  {
   "cell_type": "code",
   "execution_count": 1,
   "id": "f6416aaf",
   "metadata": {},
   "outputs": [],
   "source": [
    "import GEOparse\n",
    "import pandas as pd"
   ]
  },
  {
   "cell_type": "code",
   "execution_count": 2,
   "id": "1b64fff4",
   "metadata": {},
   "outputs": [],
   "source": [
    "import logging\n",
    "\n",
    "logging.getLogger(\"GEOparse\").setLevel(\"INFO\")"
   ]
  },
  {
   "cell_type": "code",
   "execution_count": 3,
   "id": "286292f7",
   "metadata": {},
   "outputs": [
    {
     "name": "stdout",
     "output_type": "stream",
     "text": [
      "liulab on /home/jupyter/mnt/liulab type fuse (rw,nosuid,nodev,relatime,user_id=1001,group_id=1002,default_permissions)\n",
      "dbxfs on /home/jupyter/mnt/dropbox-liulab type fuse (rw,nosuid,nodev,relatime,user_id=1001,group_id=1002,default_permissions)\n"
     ]
    }
   ],
   "source": [
    "%%bash\n",
    "\n",
    "mount | grep liu"
   ]
  },
  {
   "cell_type": "code",
   "execution_count": null,
   "id": "6c43d51e",
   "metadata": {},
   "outputs": [],
   "source": [
    "%%bash\n",
    "\n",
    "gcsfuse --implicit-dirs liulab ~/mnt/liulab\n",
    "dbxfs ~/mnt/dropbox-liulab/"
   ]
  },
  {
   "cell_type": "code",
   "execution_count": 4,
   "id": "29bbadac",
   "metadata": {},
   "outputs": [
    {
     "name": "stderr",
     "output_type": "stream",
     "text": [
      "12-Jul-2021 16:11:37 INFO GEOparse - File already exist: using local version.\n",
      "12-Jul-2021 16:11:37 INFO GEOparse - Parsing /home/jupyter/mnt/liulab/geoparse/GSE127472_family.soft.gz: \n",
      "/opt/conda/lib/python3.7/site-packages/GEOparse/GEOparse.py:113: DtypeWarning: Columns (2) have mixed types.Specify dtype option on import or set low_memory=False.\n",
      "  return parse_GSE(filepath, open_kwargs=open_kwargs)\n"
     ]
    }
   ],
   "source": [
    "gse_127472 = GEOparse.get_GEO(geo=\"GSE127472\", destdir=\"/home/jupyter/mnt/liulab/geoparse/\")"
   ]
  },
  {
   "cell_type": "code",
   "execution_count": 5,
   "id": "3909616b",
   "metadata": {},
   "outputs": [
    {
     "data": {
      "text/plain": [
       "['ftp://ftp.ncbi.nlm.nih.gov/geo/series/GSE127nnn/GSE127472/suppl/GSE127472_RAW.tar']"
      ]
     },
     "execution_count": 5,
     "metadata": {},
     "output_type": "execute_result"
    }
   ],
   "source": [
    "gse_127472.metadata[\"supplementary_file\"]"
   ]
  },
  {
   "cell_type": "markdown",
   "id": "25758470",
   "metadata": {},
   "source": [
    "```\n",
    "import plotly.express as px\n",
    "import plotly.graph_objects as go\n",
    "import plotly.io\n",
    "\n",
    "plotly.io.renderers.default = \"jupyterlab+png\"\n",
    "```"
   ]
  },
  {
   "cell_type": "code",
   "execution_count": 6,
   "id": "a416ab2d",
   "metadata": {},
   "outputs": [
    {
     "name": "stdout",
     "output_type": "stream",
     "text": [
      "1519912960  2021-07-11T17:03:42Z  gs://liulab/ftp/GSE127472_RAW.tar#1626023022585454  metageneration=1\n",
      "                                 gs://liulab/ftp/GSE115978/\n",
      "                                 gs://liulab/ftp/GSE127472_RAW/\n",
      "TOTAL: 1 objects, 1519912960 bytes (1.42 GiB)\n"
     ]
    }
   ],
   "source": [
    "!gsutil ls -la gs://liulab/ftp/ | head"
   ]
  },
  {
   "cell_type": "code",
   "execution_count": 7,
   "id": "fcfd97ce",
   "metadata": {},
   "outputs": [
    {
     "name": "stdout",
     "output_type": "stream",
     "text": [
      "         0  2021-07-12T13:12:52Z  gs://liulab/ftp/GSE127472_RAW/#1626095572794019  metageneration=1\n",
      "  13566382  2021-07-12T15:51:56Z  gs://liulab/ftp/GSE127472_RAW/GSM3634931_FL_1004.CEL#1626105116495659  metageneration=1\n",
      "  13552097  2021-07-12T15:51:57Z  gs://liulab/ftp/GSE127472_RAW/GSM3634932_FL_1005.CEL#1626105117609613  metageneration=1\n",
      "  13550578  2021-07-12T15:51:58Z  gs://liulab/ftp/GSE127472_RAW/GSM3634934_FL_1008.CEL#1626105118747482  metageneration=1\n",
      "  13566050  2021-07-12T15:51:59Z  gs://liulab/ftp/GSE127472_RAW/GSM3634935_FL_1009.CEL#1626105119855053  metageneration=1\n",
      "  13550860  2021-07-12T15:52:01Z  gs://liulab/ftp/GSE127472_RAW/GSM3634936_FL_1010.CEL#1626105121144227  metageneration=1\n",
      "  13566238  2021-07-12T15:52:02Z  gs://liulab/ftp/GSE127472_RAW/GSM3634937_FL_1012.CEL#1626105122279117  metageneration=1\n",
      "  13566246  2021-07-12T15:52:03Z  gs://liulab/ftp/GSE127472_RAW/GSM3634938_FL_1014.CEL#1626105123301915  metageneration=1\n",
      "  13566082  2021-07-12T15:52:04Z  gs://liulab/ftp/GSE127472_RAW/GSM3634939_FL_1016.CEL#1626105124335666  metageneration=1\n",
      "  13551457  2021-07-12T15:52:05Z  gs://liulab/ftp/GSE127472_RAW/GSM3634940_FL_1017.CEL#1626105125366949  metageneration=1\n",
      "Exception ignored in: <_io.TextIOWrapper name='<stdout>' mode='w' encoding='UTF-8'>\n",
      "BrokenPipeError: [Errno 32] Broken pipe\n"
     ]
    }
   ],
   "source": [
    "!gsutil ls -la gs://liulab/ftp/GSE127472_RAW/ | head"
   ]
  },
  {
   "cell_type": "code",
   "execution_count": null,
   "id": "b3c38353",
   "metadata": {},
   "outputs": [],
   "source": [
    "%%bash\n",
    "\n",
    "curl \\\n",
    "    ftp://ftp.ncbi.nlm.nih.gov/geo/series/GSE127nnn/GSE127472/suppl/GSE127472_RAW.tar \\\n",
    "    -o /home/jupyter/mnt/liulab/ftp/GSE127472_RAW.tar"
   ]
  },
  {
   "cell_type": "code",
   "execution_count": 13,
   "id": "d618f329",
   "metadata": {},
   "outputs": [
    {
     "data": {
      "text/html": [
       "<div>\n",
       "<style scoped>\n",
       "    .dataframe tbody tr th:only-of-type {\n",
       "        vertical-align: middle;\n",
       "    }\n",
       "\n",
       "    .dataframe tbody tr th {\n",
       "        vertical-align: top;\n",
       "    }\n",
       "\n",
       "    .dataframe thead th {\n",
       "        text-align: right;\n",
       "    }\n",
       "</style>\n",
       "<table border=\"1\" class=\"dataframe\">\n",
       "  <thead>\n",
       "    <tr style=\"text-align: right;\">\n",
       "      <th></th>\n",
       "      <th>0</th>\n",
       "    </tr>\n",
       "  </thead>\n",
       "  <tbody>\n",
       "    <tr>\n",
       "      <th>0</th>\n",
       "      <td>AAACCTGAGAGTACCG-1</td>\n",
       "    </tr>\n",
       "    <tr>\n",
       "      <th>1</th>\n",
       "      <td>AAACCTGAGCGATGAC-1</td>\n",
       "    </tr>\n",
       "    <tr>\n",
       "      <th>2</th>\n",
       "      <td>AAACCTGAGCGCTTAT-1</td>\n",
       "    </tr>\n",
       "    <tr>\n",
       "      <th>3</th>\n",
       "      <td>AAACGGGAGATATACG-1</td>\n",
       "    </tr>\n",
       "    <tr>\n",
       "      <th>4</th>\n",
       "      <td>AAACGGGCACAAGCCC-1</td>\n",
       "    </tr>\n",
       "    <tr>\n",
       "      <th>...</th>\n",
       "      <td>...</td>\n",
       "    </tr>\n",
       "    <tr>\n",
       "      <th>2411</th>\n",
       "      <td>TTTGTCAAGACAATAC-1</td>\n",
       "    </tr>\n",
       "    <tr>\n",
       "      <th>2412</th>\n",
       "      <td>TTTGTCACAATGGAAT-1</td>\n",
       "    </tr>\n",
       "    <tr>\n",
       "      <th>2413</th>\n",
       "      <td>TTTGTCACATCCGGGT-1</td>\n",
       "    </tr>\n",
       "    <tr>\n",
       "      <th>2414</th>\n",
       "      <td>TTTGTCACATGTCTCC-1</td>\n",
       "    </tr>\n",
       "    <tr>\n",
       "      <th>2415</th>\n",
       "      <td>TTTGTCATCGTACCGG-1</td>\n",
       "    </tr>\n",
       "  </tbody>\n",
       "</table>\n",
       "<p>2416 rows × 1 columns</p>\n",
       "</div>"
      ],
      "text/plain": [
       "                       0\n",
       "0     AAACCTGAGAGTACCG-1\n",
       "1     AAACCTGAGCGATGAC-1\n",
       "2     AAACCTGAGCGCTTAT-1\n",
       "3     AAACGGGAGATATACG-1\n",
       "4     AAACGGGCACAAGCCC-1\n",
       "...                  ...\n",
       "2411  TTTGTCAAGACAATAC-1\n",
       "2412  TTTGTCACAATGGAAT-1\n",
       "2413  TTTGTCACATCCGGGT-1\n",
       "2414  TTTGTCACATGTCTCC-1\n",
       "2415  TTTGTCATCGTACCGG-1\n",
       "\n",
       "[2416 rows x 1 columns]"
      ]
     },
     "execution_count": 13,
     "metadata": {},
     "output_type": "execute_result"
    }
   ],
   "source": [
    "pd.read_csv(\n",
    "    'gs://liulab/ftp/GSE127472_RAW/GSM3635372_barcodes.tsv',\n",
    "    sep='\\t',\n",
    "    header=None,\n",
    ")"
   ]
  },
  {
   "cell_type": "code",
   "execution_count": 15,
   "id": "fcc0a601",
   "metadata": {},
   "outputs": [
    {
     "data": {
      "text/html": [
       "<div>\n",
       "<style scoped>\n",
       "    .dataframe tbody tr th:only-of-type {\n",
       "        vertical-align: middle;\n",
       "    }\n",
       "\n",
       "    .dataframe tbody tr th {\n",
       "        vertical-align: top;\n",
       "    }\n",
       "\n",
       "    .dataframe thead th {\n",
       "        text-align: right;\n",
       "    }\n",
       "</style>\n",
       "<table border=\"1\" class=\"dataframe\">\n",
       "  <thead>\n",
       "    <tr style=\"text-align: right;\">\n",
       "      <th></th>\n",
       "      <th>0</th>\n",
       "      <th>1</th>\n",
       "    </tr>\n",
       "  </thead>\n",
       "  <tbody>\n",
       "    <tr>\n",
       "      <th>0</th>\n",
       "      <td>ENSG00000243485</td>\n",
       "      <td>MIR1302-10</td>\n",
       "    </tr>\n",
       "    <tr>\n",
       "      <th>1</th>\n",
       "      <td>ENSG00000237613</td>\n",
       "      <td>FAM138A</td>\n",
       "    </tr>\n",
       "    <tr>\n",
       "      <th>2</th>\n",
       "      <td>ENSG00000186092</td>\n",
       "      <td>OR4F5</td>\n",
       "    </tr>\n",
       "    <tr>\n",
       "      <th>3</th>\n",
       "      <td>ENSG00000238009</td>\n",
       "      <td>RP11-34P13.7</td>\n",
       "    </tr>\n",
       "    <tr>\n",
       "      <th>4</th>\n",
       "      <td>ENSG00000239945</td>\n",
       "      <td>RP11-34P13.8</td>\n",
       "    </tr>\n",
       "    <tr>\n",
       "      <th>...</th>\n",
       "      <td>...</td>\n",
       "      <td>...</td>\n",
       "    </tr>\n",
       "    <tr>\n",
       "      <th>32733</th>\n",
       "      <td>ENSG00000215635</td>\n",
       "      <td>AC145205.1</td>\n",
       "    </tr>\n",
       "    <tr>\n",
       "      <th>32734</th>\n",
       "      <td>ENSG00000268590</td>\n",
       "      <td>BAGE5</td>\n",
       "    </tr>\n",
       "    <tr>\n",
       "      <th>32735</th>\n",
       "      <td>ENSG00000251180</td>\n",
       "      <td>CU459201.1</td>\n",
       "    </tr>\n",
       "    <tr>\n",
       "      <th>32736</th>\n",
       "      <td>ENSG00000215616</td>\n",
       "      <td>AC002321.2</td>\n",
       "    </tr>\n",
       "    <tr>\n",
       "      <th>32737</th>\n",
       "      <td>ENSG00000215611</td>\n",
       "      <td>AC002321.1</td>\n",
       "    </tr>\n",
       "  </tbody>\n",
       "</table>\n",
       "<p>32738 rows × 2 columns</p>\n",
       "</div>"
      ],
      "text/plain": [
       "                     0             1\n",
       "0      ENSG00000243485    MIR1302-10\n",
       "1      ENSG00000237613       FAM138A\n",
       "2      ENSG00000186092         OR4F5\n",
       "3      ENSG00000238009  RP11-34P13.7\n",
       "4      ENSG00000239945  RP11-34P13.8\n",
       "...                ...           ...\n",
       "32733  ENSG00000215635    AC145205.1\n",
       "32734  ENSG00000268590         BAGE5\n",
       "32735  ENSG00000251180    CU459201.1\n",
       "32736  ENSG00000215616    AC002321.2\n",
       "32737  ENSG00000215611    AC002321.1\n",
       "\n",
       "[32738 rows x 2 columns]"
      ]
     },
     "execution_count": 15,
     "metadata": {},
     "output_type": "execute_result"
    }
   ],
   "source": [
    "pd.read_csv(\n",
    "    'gs://liulab/ftp/GSE127472_RAW/GSM3635372_genes.tsv',\n",
    "    sep='\\t',\n",
    "    header=None,\n",
    ")"
   ]
  },
  {
   "cell_type": "markdown",
   "id": "c174233f",
   "metadata": {},
   "source": [
    "# check series, not supplementary files"
   ]
  },
  {
   "cell_type": "code",
   "execution_count": 31,
   "id": "c55fb6a2",
   "metadata": {},
   "outputs": [
    {
     "data": {
      "text/plain": [
       "315"
      ]
     },
     "execution_count": 31,
     "metadata": {},
     "output_type": "execute_result"
    }
   ],
   "source": [
    "len(gse_127472.gsms)"
   ]
  },
  {
   "cell_type": "code",
   "execution_count": 38,
   "id": "b8472c88",
   "metadata": {},
   "outputs": [
    {
     "data": {
      "text/html": [
       "<div>\n",
       "<style scoped>\n",
       "    .dataframe tbody tr th:only-of-type {\n",
       "        vertical-align: middle;\n",
       "    }\n",
       "\n",
       "    .dataframe tbody tr th {\n",
       "        vertical-align: top;\n",
       "    }\n",
       "\n",
       "    .dataframe thead th {\n",
       "        text-align: right;\n",
       "    }\n",
       "</style>\n",
       "<table border=\"1\" class=\"dataframe\">\n",
       "  <thead>\n",
       "    <tr style=\"text-align: right;\">\n",
       "      <th></th>\n",
       "      <th>ID_REF</th>\n",
       "      <th>VALUE</th>\n",
       "    </tr>\n",
       "  </thead>\n",
       "  <tbody>\n",
       "    <tr>\n",
       "      <th>26478</th>\n",
       "      <td>217191_x_at</td>\n",
       "      <td>166.769903</td>\n",
       "    </tr>\n",
       "    <tr>\n",
       "      <th>1488</th>\n",
       "      <td>1554327_a_at</td>\n",
       "      <td>7.189374</td>\n",
       "    </tr>\n",
       "    <tr>\n",
       "      <th>7366</th>\n",
       "      <td>1563821_at</td>\n",
       "      <td>3.650403</td>\n",
       "    </tr>\n",
       "    <tr>\n",
       "      <th>36768</th>\n",
       "      <td>227514_at</td>\n",
       "      <td>573.994751</td>\n",
       "    </tr>\n",
       "    <tr>\n",
       "      <th>8574</th>\n",
       "      <td>1567054_at</td>\n",
       "      <td>6.493870</td>\n",
       "    </tr>\n",
       "    <tr>\n",
       "      <th>35872</th>\n",
       "      <td>226617_at</td>\n",
       "      <td>2059.747491</td>\n",
       "    </tr>\n",
       "    <tr>\n",
       "      <th>47050</th>\n",
       "      <td>237801_at</td>\n",
       "      <td>3.393274</td>\n",
       "    </tr>\n",
       "    <tr>\n",
       "      <th>9997</th>\n",
       "      <td>200056_s_at</td>\n",
       "      <td>2774.094826</td>\n",
       "    </tr>\n",
       "    <tr>\n",
       "      <th>51349</th>\n",
       "      <td>242100_at</td>\n",
       "      <td>54.124017</td>\n",
       "    </tr>\n",
       "    <tr>\n",
       "      <th>6572</th>\n",
       "      <td>1562403_a_at</td>\n",
       "      <td>9.911717</td>\n",
       "    </tr>\n",
       "  </tbody>\n",
       "</table>\n",
       "</div>"
      ],
      "text/plain": [
       "             ID_REF        VALUE\n",
       "26478   217191_x_at   166.769903\n",
       "1488   1554327_a_at     7.189374\n",
       "7366     1563821_at     3.650403\n",
       "36768     227514_at   573.994751\n",
       "8574     1567054_at     6.493870\n",
       "35872     226617_at  2059.747491\n",
       "47050     237801_at     3.393274\n",
       "9997    200056_s_at  2774.094826\n",
       "51349     242100_at    54.124017\n",
       "6572   1562403_a_at     9.911717"
      ]
     },
     "execution_count": 38,
     "metadata": {},
     "output_type": "execute_result"
    }
   ],
   "source": [
    "for name, gsm in gse_127472.gsms.items():\n",
    "    break\n",
    "\n",
    "gsm.table.sample(10)"
   ]
  },
  {
   "cell_type": "code",
   "execution_count": 39,
   "id": "72df9b18",
   "metadata": {},
   "outputs": [
    {
     "data": {
      "text/plain": [
       "['GPL570']"
      ]
     },
     "execution_count": 39,
     "metadata": {},
     "output_type": "execute_result"
    }
   ],
   "source": [
    "gsm.metadata['platform_id']"
   ]
  },
  {
   "cell_type": "code",
   "execution_count": null,
   "id": "a112f5d9",
   "metadata": {},
   "outputs": [],
   "source": []
  }
 ],
 "metadata": {
  "environment": {
   "name": "tf2-gpu.2-5.m74",
   "type": "gcloud",
   "uri": "gcr.io/deeplearning-platform-release/tf2-gpu.2-5:m74"
  },
  "kernelspec": {
   "display_name": "Python 3",
   "language": "python",
   "name": "python3"
  },
  "language_info": {
   "codemirror_mode": {
    "name": "ipython",
    "version": 3
   },
   "file_extension": ".py",
   "mimetype": "text/x-python",
   "name": "python",
   "nbconvert_exporter": "python",
   "pygments_lexer": "ipython3",
   "version": "3.7.10"
  }
 },
 "nbformat": 4,
 "nbformat_minor": 5
}
