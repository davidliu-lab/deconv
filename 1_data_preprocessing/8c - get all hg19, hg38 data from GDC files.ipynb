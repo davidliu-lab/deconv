{
 "cells": [
  {
   "cell_type": "code",
   "execution_count": 1,
   "id": "01d33d63-685a-462d-b6c9-5f49da7dac9d",
   "metadata": {
    "tags": []
   },
   "outputs": [],
   "source": [
    "import logging\n",
    "\n",
    "import gcsfs\n",
    "import pyarrow as pa\n",
    "import pyarrow.csv\n",
    "import pyarrow.dataset as ds\n",
    "from google.cloud import bigquery  # , storage\n",
    "from pyarrow.fs import FSSpecHandler, PyFileSystem"
   ]
  },
  {
   "cell_type": "code",
   "execution_count": 2,
   "id": "8a8e1543-73af-4a25-a615-b90696086ac7",
   "metadata": {
    "tags": []
   },
   "outputs": [],
   "source": [
    "logging.getLogger(\"gcsfs\").setLevel(\"DEBUG\")\n",
    "logging.getLogger(\"google.cloud.bigquery\").setLevel(\"DEBUG\")\n",
    "logging.getLogger(__name__).setLevel(\"DEBUG\")\n",
    "\n",
    "handler = logging.StreamHandler()\n",
    "formatter = logging.Formatter(\"%(asctime)s - %(name)s - %(levelname)s - %(message)s\")\n",
    "handler.setFormatter(formatter)\n",
    "logging.getLogger().addHandler(handler)"
   ]
  },
  {
   "cell_type": "code",
   "execution_count": 3,
   "id": "f37e429f-3368-4830-a105-b00c6f3f4cd7",
   "metadata": {
    "tags": []
   },
   "outputs": [],
   "source": [
    "# bq_client = bigquery.Client()\n",
    "bq_client = bigquery.Client.from_service_account_json(\n",
    "    \"credentials-william-bigquery-sa.json\"\n",
    ")"
   ]
  },
  {
   "cell_type": "code",
   "execution_count": 4,
   "id": "d66aa233-be7d-41e6-b0e8-61a2cde6cfc3",
   "metadata": {
    "tags": []
   },
   "outputs": [
    {
     "name": "stderr",
     "output_type": "stream",
     "text": [
      "Query complete after 0.41s: 100%|██████████████| 1/1 [00:00<00:00,  2.64query/s]\n",
      "Downloading:   0%|                                    | 0/368 [00:00<?, ?rows/s]2022-04-13 22:22:28,272 - google.cloud.bigquery._pandas_helpers - DEBUG - Started reading table 'keen-dispatch-316219._3390f5fead31fe4257c155ce95c2f1f18d7e0416.anonfffb76591271d437f6c19699caa9bc79a0337745' with BQ Storage API session 'projects/keen-dispatch-316219/locations/us/sessions/CAISDG9YbmM5UzNpQ3BoVhoCamQaAmly'.\n",
      "Downloading: 100%|█████████████████████████| 368/368 [00:01<00:00, 259.07rows/s]\n"
     ]
    }
   ],
   "source": [
    "query_hg19 = \"\"\"\n",
    "SELECT sample_barcode, data_category, file_type, data_format, file_name_key, file_gdc_id\n",
    "FROM `isb-cgc-bq.TCGA.per_sample_file_metadata_hg19_gdc_current`\n",
    "where project_short_name = \"TCGA-SKCM\"\n",
    "    and experimental_strategy = \"RNA-Seq\"\n",
    "    and sample_type_name = \"Metastatic\"\n",
    "    and data_format = \"TXT\"\n",
    "    and file_name_key like \"%rsem.genes.results\"\n",
    "order by sample_barcode\n",
    ";\n",
    "\"\"\"\n",
    "\n",
    "file_metadata_hg19 = bq_client.query(query_hg19).to_dataframe(progress_bar_type=\"tqdm\")"
   ]
  },
  {
   "cell_type": "code",
   "execution_count": 5,
   "id": "b2014ef9-854b-443f-b77d-b1194c7f66e3",
   "metadata": {},
   "outputs": [
    {
     "data": {
      "text/html": [
       "<div>\n",
       "<style scoped>\n",
       "    .dataframe tbody tr th:only-of-type {\n",
       "        vertical-align: middle;\n",
       "    }\n",
       "\n",
       "    .dataframe tbody tr th {\n",
       "        vertical-align: top;\n",
       "    }\n",
       "\n",
       "    .dataframe thead th {\n",
       "        text-align: right;\n",
       "    }\n",
       "</style>\n",
       "<table border=\"1\" class=\"dataframe\">\n",
       "  <thead>\n",
       "    <tr style=\"text-align: right;\">\n",
       "      <th></th>\n",
       "      <th>sample_barcode</th>\n",
       "      <th>data_category</th>\n",
       "      <th>file_type</th>\n",
       "      <th>data_format</th>\n",
       "      <th>file_name_key</th>\n",
       "      <th>file_gdc_id</th>\n",
       "    </tr>\n",
       "  </thead>\n",
       "  <tbody>\n",
       "    <tr>\n",
       "      <th>0</th>\n",
       "      <td>TCGA-3N-A9WB-06A</td>\n",
       "      <td>Gene expression</td>\n",
       "      <td>file</td>\n",
       "      <td>TXT</td>\n",
       "      <td>gs://gdc-tcga-phs000178-open/0b8b258e-1671-4f8...</td>\n",
       "      <td>0b8b258e-1671-4f86-82e7-59b12ad40d9c</td>\n",
       "    </tr>\n",
       "    <tr>\n",
       "      <th>1</th>\n",
       "      <td>TCGA-3N-A9WC-06A</td>\n",
       "      <td>Gene expression</td>\n",
       "      <td>file</td>\n",
       "      <td>TXT</td>\n",
       "      <td>gs://gdc-tcga-phs000178-open/c8ee8367-c529-4dd...</td>\n",
       "      <td>c8ee8367-c529-4dd6-98b4-fde57991134b</td>\n",
       "    </tr>\n",
       "    <tr>\n",
       "      <th>2</th>\n",
       "      <td>TCGA-3N-A9WD-06A</td>\n",
       "      <td>Gene expression</td>\n",
       "      <td>file</td>\n",
       "      <td>TXT</td>\n",
       "      <td>gs://gdc-tcga-phs000178-open/78354f8d-5ce8-461...</td>\n",
       "      <td>78354f8d-5ce8-4617-bba4-79614f232e97</td>\n",
       "    </tr>\n",
       "    <tr>\n",
       "      <th>3</th>\n",
       "      <td>TCGA-BF-AAP0-06A</td>\n",
       "      <td>Gene expression</td>\n",
       "      <td>file</td>\n",
       "      <td>TXT</td>\n",
       "      <td>gs://gdc-tcga-phs000178-open/55b07297-ac13-428...</td>\n",
       "      <td>55b07297-ac13-428d-9aa9-5349f6d3b444</td>\n",
       "    </tr>\n",
       "    <tr>\n",
       "      <th>4</th>\n",
       "      <td>TCGA-D3-A1Q1-06A</td>\n",
       "      <td>Gene expression</td>\n",
       "      <td>file</td>\n",
       "      <td>TXT</td>\n",
       "      <td>gs://gdc-tcga-phs000178-open/bc296bbf-3bd5-4cc...</td>\n",
       "      <td>bc296bbf-3bd5-4ccf-a277-aea5a6454fbd</td>\n",
       "    </tr>\n",
       "    <tr>\n",
       "      <th>...</th>\n",
       "      <td>...</td>\n",
       "      <td>...</td>\n",
       "      <td>...</td>\n",
       "      <td>...</td>\n",
       "      <td>...</td>\n",
       "      <td>...</td>\n",
       "    </tr>\n",
       "    <tr>\n",
       "      <th>363</th>\n",
       "      <td>TCGA-YG-AA3O-06A</td>\n",
       "      <td>Gene expression</td>\n",
       "      <td>file</td>\n",
       "      <td>TXT</td>\n",
       "      <td>gs://gdc-tcga-phs000178-open/87babc42-ce66-4a3...</td>\n",
       "      <td>87babc42-ce66-4a31-9195-ca824bc6f715</td>\n",
       "    </tr>\n",
       "    <tr>\n",
       "      <th>364</th>\n",
       "      <td>TCGA-YG-AA3P-06A</td>\n",
       "      <td>Gene expression</td>\n",
       "      <td>file</td>\n",
       "      <td>TXT</td>\n",
       "      <td>gs://gdc-tcga-phs000178-open/ac890ffb-a4ca-460...</td>\n",
       "      <td>ac890ffb-a4ca-4606-a1d3-eb2c2531317f</td>\n",
       "    </tr>\n",
       "    <tr>\n",
       "      <th>365</th>\n",
       "      <td>TCGA-Z2-A8RT-06A</td>\n",
       "      <td>Gene expression</td>\n",
       "      <td>file</td>\n",
       "      <td>TXT</td>\n",
       "      <td>gs://gdc-tcga-phs000178-open/12c644b3-6040-490...</td>\n",
       "      <td>12c644b3-6040-490d-9129-e927fca317b5</td>\n",
       "    </tr>\n",
       "    <tr>\n",
       "      <th>366</th>\n",
       "      <td>TCGA-Z2-AA3S-06A</td>\n",
       "      <td>Gene expression</td>\n",
       "      <td>file</td>\n",
       "      <td>TXT</td>\n",
       "      <td>gs://gdc-tcga-phs000178-open/25469262-4e2b-439...</td>\n",
       "      <td>25469262-4e2b-4399-bde8-d9d17f3f6a02</td>\n",
       "    </tr>\n",
       "    <tr>\n",
       "      <th>367</th>\n",
       "      <td>TCGA-Z2-AA3V-06A</td>\n",
       "      <td>Gene expression</td>\n",
       "      <td>file</td>\n",
       "      <td>TXT</td>\n",
       "      <td>gs://gdc-tcga-phs000178-open/79f657fa-7266-4b4...</td>\n",
       "      <td>79f657fa-7266-4b4e-bb76-44e8c5c48995</td>\n",
       "    </tr>\n",
       "  </tbody>\n",
       "</table>\n",
       "<p>368 rows × 6 columns</p>\n",
       "</div>"
      ],
      "text/plain": [
       "       sample_barcode    data_category file_type data_format  \\\n",
       "0    TCGA-3N-A9WB-06A  Gene expression      file         TXT   \n",
       "1    TCGA-3N-A9WC-06A  Gene expression      file         TXT   \n",
       "2    TCGA-3N-A9WD-06A  Gene expression      file         TXT   \n",
       "3    TCGA-BF-AAP0-06A  Gene expression      file         TXT   \n",
       "4    TCGA-D3-A1Q1-06A  Gene expression      file         TXT   \n",
       "..                ...              ...       ...         ...   \n",
       "363  TCGA-YG-AA3O-06A  Gene expression      file         TXT   \n",
       "364  TCGA-YG-AA3P-06A  Gene expression      file         TXT   \n",
       "365  TCGA-Z2-A8RT-06A  Gene expression      file         TXT   \n",
       "366  TCGA-Z2-AA3S-06A  Gene expression      file         TXT   \n",
       "367  TCGA-Z2-AA3V-06A  Gene expression      file         TXT   \n",
       "\n",
       "                                         file_name_key  \\\n",
       "0    gs://gdc-tcga-phs000178-open/0b8b258e-1671-4f8...   \n",
       "1    gs://gdc-tcga-phs000178-open/c8ee8367-c529-4dd...   \n",
       "2    gs://gdc-tcga-phs000178-open/78354f8d-5ce8-461...   \n",
       "3    gs://gdc-tcga-phs000178-open/55b07297-ac13-428...   \n",
       "4    gs://gdc-tcga-phs000178-open/bc296bbf-3bd5-4cc...   \n",
       "..                                                 ...   \n",
       "363  gs://gdc-tcga-phs000178-open/87babc42-ce66-4a3...   \n",
       "364  gs://gdc-tcga-phs000178-open/ac890ffb-a4ca-460...   \n",
       "365  gs://gdc-tcga-phs000178-open/12c644b3-6040-490...   \n",
       "366  gs://gdc-tcga-phs000178-open/25469262-4e2b-439...   \n",
       "367  gs://gdc-tcga-phs000178-open/79f657fa-7266-4b4...   \n",
       "\n",
       "                              file_gdc_id  \n",
       "0    0b8b258e-1671-4f86-82e7-59b12ad40d9c  \n",
       "1    c8ee8367-c529-4dd6-98b4-fde57991134b  \n",
       "2    78354f8d-5ce8-4617-bba4-79614f232e97  \n",
       "3    55b07297-ac13-428d-9aa9-5349f6d3b444  \n",
       "4    bc296bbf-3bd5-4ccf-a277-aea5a6454fbd  \n",
       "..                                    ...  \n",
       "363  87babc42-ce66-4a31-9195-ca824bc6f715  \n",
       "364  ac890ffb-a4ca-4606-a1d3-eb2c2531317f  \n",
       "365  12c644b3-6040-490d-9129-e927fca317b5  \n",
       "366  25469262-4e2b-4399-bde8-d9d17f3f6a02  \n",
       "367  79f657fa-7266-4b4e-bb76-44e8c5c48995  \n",
       "\n",
       "[368 rows x 6 columns]"
      ]
     },
     "execution_count": 5,
     "metadata": {},
     "output_type": "execute_result"
    }
   ],
   "source": [
    "file_metadata_hg19"
   ]
  },
  {
   "cell_type": "code",
   "execution_count": 28,
   "id": "abfd70f4-d9a4-4666-ab55-b6ef3b244fc6",
   "metadata": {},
   "outputs": [],
   "source": [
    "# fs = gcsfs.GCSFileSystem()\n",
    "fs = gcsfs.GCSFileSystem(\n",
    "    #\n",
    "    project=\"keen-dispatch-316219\",\n",
    "    access=\"read_only\",\n",
    "    token=\"credentials-william-bigquery-sa.json\",\n",
    ")"
   ]
  },
  {
   "cell_type": "code",
   "execution_count": 32,
   "id": "25fdf93e-8465-4875-b1f0-1073c4c0ecc3",
   "metadata": {
    "tags": []
   },
   "outputs": [],
   "source": [
    "df = file_metadata_hg19.iloc[0:3]\n",
    "paths = df[\"file_name_key\"].tolist()\n",
    "schema = pa.schema(\n",
    "    [\n",
    "        #\n",
    "        (\"file_gdc_id\", pa.string()),\n",
    "        (\"gene_id\", pa.string()),\n",
    "        (\"raw_count\", pa.float32()),\n",
    "        (\"scaled_estimate\", pa.float32()),\n",
    "    ]\n",
    ")\n",
    "partition_expressions = (\n",
    "    df[\"file_gdc_id\"].apply(lambda value: ds.field(\"file_gdc_id\") == value).tolist()\n",
    ")"
   ]
  },
  {
   "cell_type": "code",
   "execution_count": 33,
   "id": "18e2f559-5ff4-476e-9d9d-cfaabbf5cd25",
   "metadata": {
    "tags": []
   },
   "outputs": [],
   "source": [
    "dataset_from_paths = ds.FileSystemDataset.from_paths(\n",
    "    paths,\n",
    "    schema,\n",
    "    partitions=partition_expressions,\n",
    "    format=ds.CsvFileFormat(parse_options=pa.csv.ParseOptions(delimiter=\"\\t\")),\n",
    "    filesystem=PyFileSystem(FSSpecHandler(fs)),\n",
    ")"
   ]
  },
  {
   "cell_type": "code",
   "execution_count": 34,
   "id": "f3b5be35-4398-463f-8123-4be3fdc38fa4",
   "metadata": {},
   "outputs": [
    {
     "name": "stderr",
     "output_type": "stream",
     "text": [
      "2022-04-13 22:43:29,962 - gcsfs - DEBUG - GET: b/{}/o/{}, ('gdc-tcga-phs000178-open', '0b8b258e-1671-4f86-82e7-59b12ad40d9c/unc.edu.4c243ea9-dfe1-42f0-a887-3c901fb38542.2477720.rsem.genes.results'), None\n",
      "2022-04-13 22:43:29,963 - gcsfs.credentials - DEBUG - GCS refresh\n",
      "2022-04-13 22:43:30,278 - gcsfs - DEBUG - GET: b/{}/o/{}, ('gdc-tcga-phs000178-open', '0b8b258e-1671-4f86-82e7-59b12ad40d9c/unc.edu.4c243ea9-dfe1-42f0-a887-3c901fb38542.2477720.rsem.genes.results'), None\n",
      "2022-04-13 22:43:30,335 - gcsfs - DEBUG - GET: https://storage.googleapis.com/download/storage/v1/b/gdc-tcga-phs000178-open/o/0b8b258e-1671-4f86-82e7-59b12ad40d9c%2Func.edu.4c243ea9-dfe1-42f0-a887-3c901fb38542.2477720.rsem.genes.results?alt=media, (), {'Range': 'bytes=0-1500491'}\n",
      "2022-04-13 22:43:30,340 - gcsfs - DEBUG - GET: b/{}/o/{}, ('gdc-tcga-phs000178-open', 'c8ee8367-c529-4dd6-98b4-fde57991134b/unc.edu.a64ae1f5-a189-4173-be13-903bd7637869.2476757.rsem.genes.results'), None\n",
      "2022-04-13 22:43:30,461 - gcsfs - DEBUG - GET: b/{}/o/{}, ('gdc-tcga-phs000178-open', 'c8ee8367-c529-4dd6-98b4-fde57991134b/unc.edu.a64ae1f5-a189-4173-be13-903bd7637869.2476757.rsem.genes.results'), None\n",
      "2022-04-13 22:43:30,513 - gcsfs - DEBUG - GET: https://storage.googleapis.com/download/storage/v1/b/gdc-tcga-phs000178-open/o/c8ee8367-c529-4dd6-98b4-fde57991134b%2Func.edu.a64ae1f5-a189-4173-be13-903bd7637869.2476757.rsem.genes.results?alt=media, (), {'Range': 'bytes=0-1508779'}\n",
      "2022-04-13 22:43:30,517 - gcsfs - DEBUG - GET: b/{}/o/{}, ('gdc-tcga-phs000178-open', '78354f8d-5ce8-4617-bba4-79614f232e97/unc.edu.ac19f7cf-670b-4dcc-a26b-db0f56377231.2509607.rsem.genes.results'), None\n",
      "2022-04-13 22:43:30,647 - gcsfs - DEBUG - GET: b/{}/o/{}, ('gdc-tcga-phs000178-open', '78354f8d-5ce8-4617-bba4-79614f232e97/unc.edu.ac19f7cf-670b-4dcc-a26b-db0f56377231.2509607.rsem.genes.results'), None\n",
      "2022-04-13 22:43:30,710 - gcsfs - DEBUG - GET: https://storage.googleapis.com/download/storage/v1/b/gdc-tcga-phs000178-open/o/78354f8d-5ce8-4617-bba4-79614f232e97%2Func.edu.ac19f7cf-670b-4dcc-a26b-db0f56377231.2509607.rsem.genes.results?alt=media, (), {'Range': 'bytes=0-1512011'}\n"
     ]
    },
    {
     "data": {
      "text/html": [
       "<div>\n",
       "<style scoped>\n",
       "    .dataframe tbody tr th:only-of-type {\n",
       "        vertical-align: middle;\n",
       "    }\n",
       "\n",
       "    .dataframe tbody tr th {\n",
       "        vertical-align: top;\n",
       "    }\n",
       "\n",
       "    .dataframe thead th {\n",
       "        text-align: right;\n",
       "    }\n",
       "</style>\n",
       "<table border=\"1\" class=\"dataframe\">\n",
       "  <thead>\n",
       "    <tr style=\"text-align: right;\">\n",
       "      <th></th>\n",
       "      <th>file_gdc_id</th>\n",
       "      <th>gene_id</th>\n",
       "      <th>raw_count</th>\n",
       "      <th>scaled_estimate</th>\n",
       "    </tr>\n",
       "  </thead>\n",
       "  <tbody>\n",
       "    <tr>\n",
       "      <th>0</th>\n",
       "      <td>0b8b258e-1671-4f86-82e7-59b12ad40d9c</td>\n",
       "      <td>?|100130426</td>\n",
       "      <td>0.000000</td>\n",
       "      <td>0.000000e+00</td>\n",
       "    </tr>\n",
       "    <tr>\n",
       "      <th>1</th>\n",
       "      <td>0b8b258e-1671-4f86-82e7-59b12ad40d9c</td>\n",
       "      <td>?|100133144</td>\n",
       "      <td>11.070000</td>\n",
       "      <td>2.887527e-07</td>\n",
       "    </tr>\n",
       "    <tr>\n",
       "      <th>2</th>\n",
       "      <td>0b8b258e-1671-4f86-82e7-59b12ad40d9c</td>\n",
       "      <td>?|100134869</td>\n",
       "      <td>15.930000</td>\n",
       "      <td>3.024025e-07</td>\n",
       "    </tr>\n",
       "    <tr>\n",
       "      <th>3</th>\n",
       "      <td>0b8b258e-1671-4f86-82e7-59b12ad40d9c</td>\n",
       "      <td>?|10357</td>\n",
       "      <td>355.480011</td>\n",
       "      <td>2.085068e-05</td>\n",
       "    </tr>\n",
       "    <tr>\n",
       "      <th>4</th>\n",
       "      <td>0b8b258e-1671-4f86-82e7-59b12ad40d9c</td>\n",
       "      <td>?|10431</td>\n",
       "      <td>3032.000000</td>\n",
       "      <td>8.241797e-05</td>\n",
       "    </tr>\n",
       "    <tr>\n",
       "      <th>...</th>\n",
       "      <td>...</td>\n",
       "      <td>...</td>\n",
       "      <td>...</td>\n",
       "      <td>...</td>\n",
       "    </tr>\n",
       "    <tr>\n",
       "      <th>61588</th>\n",
       "      <td>78354f8d-5ce8-4617-bba4-79614f232e97</td>\n",
       "      <td>ZYX|7791</td>\n",
       "      <td>4611.000000</td>\n",
       "      <td>7.764625e-05</td>\n",
       "    </tr>\n",
       "    <tr>\n",
       "      <th>61589</th>\n",
       "      <td>78354f8d-5ce8-4617-bba4-79614f232e97</td>\n",
       "      <td>ZZEF1|23140</td>\n",
       "      <td>1559.000000</td>\n",
       "      <td>4.961625e-06</td>\n",
       "    </tr>\n",
       "    <tr>\n",
       "      <th>61590</th>\n",
       "      <td>78354f8d-5ce8-4617-bba4-79614f232e97</td>\n",
       "      <td>ZZZ3|26009</td>\n",
       "      <td>1085.000000</td>\n",
       "      <td>1.091091e-05</td>\n",
       "    </tr>\n",
       "    <tr>\n",
       "      <th>61591</th>\n",
       "      <td>78354f8d-5ce8-4617-bba4-79614f232e97</td>\n",
       "      <td>psiTPTE22|387590</td>\n",
       "      <td>278.000000</td>\n",
       "      <td>7.126971e-06</td>\n",
       "    </tr>\n",
       "    <tr>\n",
       "      <th>61592</th>\n",
       "      <td>78354f8d-5ce8-4617-bba4-79614f232e97</td>\n",
       "      <td>tAKR|389932</td>\n",
       "      <td>0.000000</td>\n",
       "      <td>0.000000e+00</td>\n",
       "    </tr>\n",
       "  </tbody>\n",
       "</table>\n",
       "<p>61593 rows × 4 columns</p>\n",
       "</div>"
      ],
      "text/plain": [
       "                                file_gdc_id           gene_id    raw_count  \\\n",
       "0      0b8b258e-1671-4f86-82e7-59b12ad40d9c       ?|100130426     0.000000   \n",
       "1      0b8b258e-1671-4f86-82e7-59b12ad40d9c       ?|100133144    11.070000   \n",
       "2      0b8b258e-1671-4f86-82e7-59b12ad40d9c       ?|100134869    15.930000   \n",
       "3      0b8b258e-1671-4f86-82e7-59b12ad40d9c           ?|10357   355.480011   \n",
       "4      0b8b258e-1671-4f86-82e7-59b12ad40d9c           ?|10431  3032.000000   \n",
       "...                                     ...               ...          ...   \n",
       "61588  78354f8d-5ce8-4617-bba4-79614f232e97          ZYX|7791  4611.000000   \n",
       "61589  78354f8d-5ce8-4617-bba4-79614f232e97       ZZEF1|23140  1559.000000   \n",
       "61590  78354f8d-5ce8-4617-bba4-79614f232e97        ZZZ3|26009  1085.000000   \n",
       "61591  78354f8d-5ce8-4617-bba4-79614f232e97  psiTPTE22|387590   278.000000   \n",
       "61592  78354f8d-5ce8-4617-bba4-79614f232e97       tAKR|389932     0.000000   \n",
       "\n",
       "       scaled_estimate  \n",
       "0         0.000000e+00  \n",
       "1         2.887527e-07  \n",
       "2         3.024025e-07  \n",
       "3         2.085068e-05  \n",
       "4         8.241797e-05  \n",
       "...                ...  \n",
       "61588     7.764625e-05  \n",
       "61589     4.961625e-06  \n",
       "61590     1.091091e-05  \n",
       "61591     7.126971e-06  \n",
       "61592     0.000000e+00  \n",
       "\n",
       "[61593 rows x 4 columns]"
      ]
     },
     "execution_count": 34,
     "metadata": {},
     "output_type": "execute_result"
    }
   ],
   "source": [
    "dataset_from_paths.to_table().to_pandas()"
   ]
  },
  {
   "cell_type": "code",
   "execution_count": null,
   "id": "6ebff6d5-1218-4201-aed0-6ff56904f120",
   "metadata": {
    "tags": []
   },
   "outputs": [],
   "source": [
    "# doesn't work\n",
    "\n",
    "# df = file_metadata_hg19.iloc[0:3]\n",
    "# paths = df[\"file_name_key\"].tolist()\n",
    "# part = ds.partitioning(field_names=[\"file_gdc_id\"])\n",
    "\n",
    "# dataset = ds.dataset(\n",
    "#     # \"gdc-tcga-phs000178-open/\",\n",
    "#     paths,\n",
    "#     filesystem=fs,\n",
    "#     partitioning=part,\n",
    "#     format=ds.CsvFileFormat(parse_options=pa.csv.ParseOptions(delimiter=\"\\t\")),\n",
    "# )"
   ]
  },
  {
   "cell_type": "code",
   "execution_count": null,
   "id": "53360a5e-100a-4a41-ae58-97e4058dbea1",
   "metadata": {},
   "outputs": [],
   "source": []
  },
  {
   "cell_type": "code",
   "execution_count": null,
   "id": "478a27f1-0559-4f35-bbef-8392b13cc568",
   "metadata": {},
   "outputs": [],
   "source": []
  },
  {
   "cell_type": "code",
   "execution_count": null,
   "id": "1148e1d2-f746-4a52-ab4e-0e14bc15e87a",
   "metadata": {
    "tags": []
   },
   "outputs": [],
   "source": [
    "%%time\n",
    "table = dataset_from_paths.to_table()"
   ]
  },
  {
   "cell_type": "code",
   "execution_count": null,
   "id": "cdde449b-4269-4723-892f-1dbd2b7ff02c",
   "metadata": {
    "tags": []
   },
   "outputs": [],
   "source": [
    "table.take(list(range(10))).to_pandas()"
   ]
  },
  {
   "cell_type": "code",
   "execution_count": 49,
   "id": "15196dde-df38-40f2-93e2-144c3dac2506",
   "metadata": {
    "tags": []
   },
   "outputs": [
    {
     "name": "stderr",
     "output_type": "stream",
     "text": [
      "Query complete after 0.24s: 100%|██████████████| 2/2 [00:00<00:00,  8.30query/s]\n",
      "Downloading:   0%|                                    | 0/367 [00:00<?, ?rows/s]2022-04-14 08:25:00,217 - google.cloud.bigquery._pandas_helpers - DEBUG - Started reading table 'keen-dispatch-316219._3390f5fead31fe4257c155ce95c2f1f18d7e0416.anon44539dff6ba8401a62c755bfc2a6678dbe8e4990' with BQ Storage API session 'projects/keen-dispatch-316219/locations/us/sessions/CAISDHZyRXBSOXZOa0JpbxoCamQaAmly'.\n",
      "Downloading: 100%|█████████████████████████| 367/367 [00:01<00:00, 299.05rows/s]\n"
     ]
    }
   ],
   "source": [
    "query_hg38 = \"\"\"\n",
    "SELECT sample_barcode, data_category, file_type, data_format, file_name_key, file_gdc_id\n",
    "FROM `isb-cgc-bq.TCGA.per_sample_file_metadata_hg38_gdc_current`\n",
    "where project_short_name = \"TCGA-SKCM\"\n",
    "    and experimental_strategy = \"RNA-Seq\"\n",
    "    and sample_type_name = \"Metastatic\"\n",
    "    and data_format = \"TXT\"\n",
    "    and file_name_key like \"%FPKM.txt.gz\"\n",
    "order by sample_barcode\n",
    ";\n",
    "\"\"\"\n",
    "\n",
    "query_job = bq_client.query(query_hg38)\n",
    "file_metadata_hg38 = query_job.to_dataframe(progress_bar_type=\"tqdm\")"
   ]
  },
  {
   "cell_type": "code",
   "execution_count": 50,
   "id": "264cf14f-53a3-419c-87ef-32db390c6ef3",
   "metadata": {
    "tags": []
   },
   "outputs": [
    {
     "data": {
      "text/html": [
       "<div>\n",
       "<style scoped>\n",
       "    .dataframe tbody tr th:only-of-type {\n",
       "        vertical-align: middle;\n",
       "    }\n",
       "\n",
       "    .dataframe tbody tr th {\n",
       "        vertical-align: top;\n",
       "    }\n",
       "\n",
       "    .dataframe thead th {\n",
       "        text-align: right;\n",
       "    }\n",
       "</style>\n",
       "<table border=\"1\" class=\"dataframe\">\n",
       "  <thead>\n",
       "    <tr style=\"text-align: right;\">\n",
       "      <th></th>\n",
       "      <th>sample_barcode</th>\n",
       "      <th>data_category</th>\n",
       "      <th>file_type</th>\n",
       "      <th>data_format</th>\n",
       "      <th>file_name_key</th>\n",
       "      <th>file_gdc_id</th>\n",
       "    </tr>\n",
       "  </thead>\n",
       "  <tbody>\n",
       "    <tr>\n",
       "      <th>0</th>\n",
       "      <td>TCGA-3N-A9WB-06A</td>\n",
       "      <td>Transcriptome Profiling</td>\n",
       "      <td>gene_expression</td>\n",
       "      <td>TXT</td>\n",
       "      <td>gs://gdc-tcga-phs000178-open/6f0f09df-cb9e-4ee...</td>\n",
       "      <td>6f0f09df-cb9e-4ee6-9f0d-e0c7bb2aa001</td>\n",
       "    </tr>\n",
       "    <tr>\n",
       "      <th>1</th>\n",
       "      <td>TCGA-3N-A9WC-06A</td>\n",
       "      <td>Transcriptome Profiling</td>\n",
       "      <td>gene_expression</td>\n",
       "      <td>TXT</td>\n",
       "      <td>gs://gdc-tcga-phs000178-open/571093c2-7bb3-4fb...</td>\n",
       "      <td>571093c2-7bb3-4fb9-8b91-84a9a438bdda</td>\n",
       "    </tr>\n",
       "    <tr>\n",
       "      <th>2</th>\n",
       "      <td>TCGA-3N-A9WD-06A</td>\n",
       "      <td>Transcriptome Profiling</td>\n",
       "      <td>gene_expression</td>\n",
       "      <td>TXT</td>\n",
       "      <td>gs://gdc-tcga-phs000178-open/0610b28d-8712-4ad...</td>\n",
       "      <td>0610b28d-8712-4ad0-a7f8-b9d9e4590cb8</td>\n",
       "    </tr>\n",
       "    <tr>\n",
       "      <th>3</th>\n",
       "      <td>TCGA-BF-AAP0-06A</td>\n",
       "      <td>Transcriptome Profiling</td>\n",
       "      <td>gene_expression</td>\n",
       "      <td>TXT</td>\n",
       "      <td>gs://gdc-tcga-phs000178-open/accf05f6-f841-43a...</td>\n",
       "      <td>accf05f6-f841-43ad-8d11-0568c0a77a2b</td>\n",
       "    </tr>\n",
       "    <tr>\n",
       "      <th>4</th>\n",
       "      <td>TCGA-D3-A1Q1-06A</td>\n",
       "      <td>Transcriptome Profiling</td>\n",
       "      <td>gene_expression</td>\n",
       "      <td>TXT</td>\n",
       "      <td>gs://gdc-tcga-phs000178-open/2507b44b-1dab-436...</td>\n",
       "      <td>2507b44b-1dab-436c-a7dc-be74b93ed978</td>\n",
       "    </tr>\n",
       "    <tr>\n",
       "      <th>...</th>\n",
       "      <td>...</td>\n",
       "      <td>...</td>\n",
       "      <td>...</td>\n",
       "      <td>...</td>\n",
       "      <td>...</td>\n",
       "      <td>...</td>\n",
       "    </tr>\n",
       "    <tr>\n",
       "      <th>362</th>\n",
       "      <td>TCGA-YG-AA3O-06A</td>\n",
       "      <td>Transcriptome Profiling</td>\n",
       "      <td>gene_expression</td>\n",
       "      <td>TXT</td>\n",
       "      <td>gs://gdc-tcga-phs000178-open/58fd2219-6153-48d...</td>\n",
       "      <td>58fd2219-6153-48dd-82e3-9fdfcc2f930d</td>\n",
       "    </tr>\n",
       "    <tr>\n",
       "      <th>363</th>\n",
       "      <td>TCGA-YG-AA3P-06A</td>\n",
       "      <td>Transcriptome Profiling</td>\n",
       "      <td>gene_expression</td>\n",
       "      <td>TXT</td>\n",
       "      <td>gs://gdc-tcga-phs000178-open/9533e842-d47f-476...</td>\n",
       "      <td>9533e842-d47f-4766-8fbc-29a1e8d3f364</td>\n",
       "    </tr>\n",
       "    <tr>\n",
       "      <th>364</th>\n",
       "      <td>TCGA-Z2-A8RT-06A</td>\n",
       "      <td>Transcriptome Profiling</td>\n",
       "      <td>gene_expression</td>\n",
       "      <td>TXT</td>\n",
       "      <td>gs://gdc-tcga-phs000178-open/f4824934-5951-493...</td>\n",
       "      <td>f4824934-5951-4938-851d-7223c0f54890</td>\n",
       "    </tr>\n",
       "    <tr>\n",
       "      <th>365</th>\n",
       "      <td>TCGA-Z2-AA3S-06A</td>\n",
       "      <td>Transcriptome Profiling</td>\n",
       "      <td>gene_expression</td>\n",
       "      <td>TXT</td>\n",
       "      <td>gs://gdc-tcga-phs000178-open/a50ae196-9baa-4eb...</td>\n",
       "      <td>a50ae196-9baa-4ebd-ab38-dc4388f7e221</td>\n",
       "    </tr>\n",
       "    <tr>\n",
       "      <th>366</th>\n",
       "      <td>TCGA-Z2-AA3V-06A</td>\n",
       "      <td>Transcriptome Profiling</td>\n",
       "      <td>gene_expression</td>\n",
       "      <td>TXT</td>\n",
       "      <td>gs://gdc-tcga-phs000178-open/7fd46e1f-e9ea-49e...</td>\n",
       "      <td>7fd46e1f-e9ea-49e7-a896-1785f9f9cbba</td>\n",
       "    </tr>\n",
       "  </tbody>\n",
       "</table>\n",
       "<p>367 rows × 6 columns</p>\n",
       "</div>"
      ],
      "text/plain": [
       "       sample_barcode            data_category        file_type data_format  \\\n",
       "0    TCGA-3N-A9WB-06A  Transcriptome Profiling  gene_expression         TXT   \n",
       "1    TCGA-3N-A9WC-06A  Transcriptome Profiling  gene_expression         TXT   \n",
       "2    TCGA-3N-A9WD-06A  Transcriptome Profiling  gene_expression         TXT   \n",
       "3    TCGA-BF-AAP0-06A  Transcriptome Profiling  gene_expression         TXT   \n",
       "4    TCGA-D3-A1Q1-06A  Transcriptome Profiling  gene_expression         TXT   \n",
       "..                ...                      ...              ...         ...   \n",
       "362  TCGA-YG-AA3O-06A  Transcriptome Profiling  gene_expression         TXT   \n",
       "363  TCGA-YG-AA3P-06A  Transcriptome Profiling  gene_expression         TXT   \n",
       "364  TCGA-Z2-A8RT-06A  Transcriptome Profiling  gene_expression         TXT   \n",
       "365  TCGA-Z2-AA3S-06A  Transcriptome Profiling  gene_expression         TXT   \n",
       "366  TCGA-Z2-AA3V-06A  Transcriptome Profiling  gene_expression         TXT   \n",
       "\n",
       "                                         file_name_key  \\\n",
       "0    gs://gdc-tcga-phs000178-open/6f0f09df-cb9e-4ee...   \n",
       "1    gs://gdc-tcga-phs000178-open/571093c2-7bb3-4fb...   \n",
       "2    gs://gdc-tcga-phs000178-open/0610b28d-8712-4ad...   \n",
       "3    gs://gdc-tcga-phs000178-open/accf05f6-f841-43a...   \n",
       "4    gs://gdc-tcga-phs000178-open/2507b44b-1dab-436...   \n",
       "..                                                 ...   \n",
       "362  gs://gdc-tcga-phs000178-open/58fd2219-6153-48d...   \n",
       "363  gs://gdc-tcga-phs000178-open/9533e842-d47f-476...   \n",
       "364  gs://gdc-tcga-phs000178-open/f4824934-5951-493...   \n",
       "365  gs://gdc-tcga-phs000178-open/a50ae196-9baa-4eb...   \n",
       "366  gs://gdc-tcga-phs000178-open/7fd46e1f-e9ea-49e...   \n",
       "\n",
       "                              file_gdc_id  \n",
       "0    6f0f09df-cb9e-4ee6-9f0d-e0c7bb2aa001  \n",
       "1    571093c2-7bb3-4fb9-8b91-84a9a438bdda  \n",
       "2    0610b28d-8712-4ad0-a7f8-b9d9e4590cb8  \n",
       "3    accf05f6-f841-43ad-8d11-0568c0a77a2b  \n",
       "4    2507b44b-1dab-436c-a7dc-be74b93ed978  \n",
       "..                                    ...  \n",
       "362  58fd2219-6153-48dd-82e3-9fdfcc2f930d  \n",
       "363  9533e842-d47f-4766-8fbc-29a1e8d3f364  \n",
       "364  f4824934-5951-4938-851d-7223c0f54890  \n",
       "365  a50ae196-9baa-4ebd-ab38-dc4388f7e221  \n",
       "366  7fd46e1f-e9ea-49e7-a896-1785f9f9cbba  \n",
       "\n",
       "[367 rows x 6 columns]"
      ]
     },
     "execution_count": 50,
     "metadata": {},
     "output_type": "execute_result"
    }
   ],
   "source": [
    "file_metadata_hg38"
   ]
  },
  {
   "cell_type": "code",
   "execution_count": 51,
   "id": "9f8624f0-1c02-4a6d-b557-5df2efbdcc0b",
   "metadata": {
    "tags": []
   },
   "outputs": [
    {
     "data": {
      "text/plain": [
       "'gs://gdc-tcga-phs000178-open/6f0f09df-cb9e-4ee6-9f0d-e0c7bb2aa001/9cc93369-3cc7-4293-9f42-a997c26243c9.FPKM.txt.gz'"
      ]
     },
     "execution_count": 51,
     "metadata": {},
     "output_type": "execute_result"
    }
   ],
   "source": [
    "file_metadata_hg38.iloc[0][\"file_name_key\"]"
   ]
  },
  {
   "cell_type": "code",
   "execution_count": 53,
   "id": "7bc00e9f-3757-41c7-a57d-6f5b0572b9ef",
   "metadata": {},
   "outputs": [],
   "source": [
    "import pandas as pd"
   ]
  },
  {
   "cell_type": "code",
   "execution_count": 58,
   "id": "aa8d275c-d79c-4eed-be9d-b0d10beb1848",
   "metadata": {},
   "outputs": [
    {
     "data": {
      "text/html": [
       "<div>\n",
       "<style scoped>\n",
       "    .dataframe tbody tr th:only-of-type {\n",
       "        vertical-align: middle;\n",
       "    }\n",
       "\n",
       "    .dataframe tbody tr th {\n",
       "        vertical-align: top;\n",
       "    }\n",
       "\n",
       "    .dataframe thead th {\n",
       "        text-align: right;\n",
       "    }\n",
       "</style>\n",
       "<table border=\"1\" class=\"dataframe\">\n",
       "  <thead>\n",
       "    <tr style=\"text-align: right;\">\n",
       "      <th></th>\n",
       "      <th>ENSG00000242268.2</th>\n",
       "      <th>0.0</th>\n",
       "    </tr>\n",
       "  </thead>\n",
       "  <tbody>\n",
       "    <tr>\n",
       "      <th>39141</th>\n",
       "      <td>ENSG00000174498.12</td>\n",
       "      <td>0.020178</td>\n",
       "    </tr>\n",
       "    <tr>\n",
       "      <th>928</th>\n",
       "      <td>ENSG00000181371.3</td>\n",
       "      <td>0.000000</td>\n",
       "    </tr>\n",
       "    <tr>\n",
       "      <th>9337</th>\n",
       "      <td>ENSG00000254937.1</td>\n",
       "      <td>0.000000</td>\n",
       "    </tr>\n",
       "    <tr>\n",
       "      <th>48345</th>\n",
       "      <td>ENSG00000182612.9</td>\n",
       "      <td>45.587540</td>\n",
       "    </tr>\n",
       "    <tr>\n",
       "      <th>14023</th>\n",
       "      <td>ENSG00000254667.2</td>\n",
       "      <td>0.422559</td>\n",
       "    </tr>\n",
       "    <tr>\n",
       "      <th>10175</th>\n",
       "      <td>ENSG00000153044.8</td>\n",
       "      <td>10.126376</td>\n",
       "    </tr>\n",
       "    <tr>\n",
       "      <th>52258</th>\n",
       "      <td>ENSG00000197728.8</td>\n",
       "      <td>94.781280</td>\n",
       "    </tr>\n",
       "    <tr>\n",
       "      <th>37572</th>\n",
       "      <td>ENSG00000273145.1</td>\n",
       "      <td>2.506075</td>\n",
       "    </tr>\n",
       "    <tr>\n",
       "      <th>44160</th>\n",
       "      <td>ENSG00000265794.4</td>\n",
       "      <td>0.033283</td>\n",
       "    </tr>\n",
       "    <tr>\n",
       "      <th>59471</th>\n",
       "      <td>ENSG00000187583.9</td>\n",
       "      <td>1.087486</td>\n",
       "    </tr>\n",
       "  </tbody>\n",
       "</table>\n",
       "</div>"
      ],
      "text/plain": [
       "        ENSG00000242268.2        0.0\n",
       "39141  ENSG00000174498.12   0.020178\n",
       "928     ENSG00000181371.3   0.000000\n",
       "9337    ENSG00000254937.1   0.000000\n",
       "48345   ENSG00000182612.9  45.587540\n",
       "14023   ENSG00000254667.2   0.422559\n",
       "10175   ENSG00000153044.8  10.126376\n",
       "52258   ENSG00000197728.8  94.781280\n",
       "37572   ENSG00000273145.1   2.506075\n",
       "44160   ENSG00000265794.4   0.033283\n",
       "59471   ENSG00000187583.9   1.087486"
      ]
     },
     "execution_count": 58,
     "metadata": {},
     "output_type": "execute_result"
    }
   ],
   "source": [
    "pd.read_csv(\n",
    "    #\n",
    "    # file_metadata_hg38.iloc[0][\"file_name_key\"],\n",
    "    \"9cc93369-3cc7-4293-9f42-a997c26243c9.FPKM.txt.gz\",\n",
    "    sep=\"\\t\",\n",
    "    # header,\n",
    ").sample(10)"
   ]
  },
  {
   "cell_type": "code",
   "execution_count": 32,
   "id": "84f2a5f4-d295-43c2-86e6-9900408dd161",
   "metadata": {
    "tags": []
   },
   "outputs": [],
   "source": [
    "df = file_metadata_hg38.iloc[0:3]\n",
    "paths = df[\"file_name_key\"].tolist()\n",
    "schema = pa.schema(\n",
    "    [\n",
    "        #\n",
    "        (\"file_gdc_id\", pa.string()),\n",
    "        (\"gene_id\", pa.string()),\n",
    "        (\"raw_count\", pa.float32()),\n",
    "        (\"scaled_estimate\", pa.float32()),\n",
    "    ]\n",
    ")\n",
    "partition_expressions = (\n",
    "    df[\"file_gdc_id\"].apply(lambda value: ds.field(\"file_gdc_id\") == value).tolist()\n",
    ")"
   ]
  },
  {
   "cell_type": "code",
   "execution_count": null,
   "id": "c79d2ac2-6690-4d9c-9d34-52ae15e58385",
   "metadata": {
    "tags": []
   },
   "outputs": [],
   "source": [
    "pd.merge(\n",
    "    left=file_metadata_hg19,\n",
    "    right=file_metadata_hg38,\n",
    "    how=\"inner\",\n",
    "    on=[\"sample_barcode\"],\n",
    "    suffixes=[\"_hg19\", \"_hg38\"],\n",
    ")"
   ]
  },
  {
   "cell_type": "code",
   "execution_count": null,
   "id": "bb3f7b22-d402-495b-99b2-5b4eaa269d9e",
   "metadata": {},
   "outputs": [],
   "source": [
    "import gcsfs"
   ]
  },
  {
   "cell_type": "code",
   "execution_count": null,
   "id": "200f320f-c87e-4c5c-9a2e-20d6ce8101d9",
   "metadata": {
    "tags": []
   },
   "outputs": [],
   "source": [
    "fs = gcsfs.GCSFileSystem()"
   ]
  },
  {
   "cell_type": "code",
   "execution_count": null,
   "id": "e6a6bae9-2022-432e-877a-d2b77953a38a",
   "metadata": {
    "tags": []
   },
   "outputs": [],
   "source": [
    "# fs.ls(\"gs://liulab/\")\n",
    "fs.ls(\"gs://gdc-tcga-phs000178-open/c8ee8367-c529-4dd6-98b4-fde57991134b\")"
   ]
  },
  {
   "cell_type": "markdown",
   "id": "bc759c80-f7e4-448c-b992-1904c41468d5",
   "metadata": {},
   "source": [
    "## pyarrow"
   ]
  },
  {
   "cell_type": "code",
   "execution_count": null,
   "id": "d8909e51-2c0d-41c8-ad4d-6a030277deb8",
   "metadata": {},
   "outputs": [],
   "source": []
  },
  {
   "cell_type": "code",
   "execution_count": null,
   "id": "60e5c77b-4411-4f74-8a73-03602ba8ebcb",
   "metadata": {
    "tags": []
   },
   "outputs": [],
   "source": [
    "y = x.to_table()"
   ]
  },
  {
   "cell_type": "code",
   "execution_count": null,
   "id": "538aa71c-ef57-418f-937e-b41ffcd3ce46",
   "metadata": {},
   "outputs": [],
   "source": [
    "y"
   ]
  },
  {
   "cell_type": "code",
   "execution_count": null,
   "id": "b5c7963f-a8f3-42a7-8b95-453dcc638892",
   "metadata": {
    "tags": []
   },
   "outputs": [],
   "source": [
    "z = y.group_by(\"gene_id\")"
   ]
  },
  {
   "cell_type": "code",
   "execution_count": null,
   "id": "97d788f7-eefe-47c6-b8f4-6a06e190bf09",
   "metadata": {
    "tags": []
   },
   "outputs": [],
   "source": [
    "z.aggregate(\n",
    "    [(\"scaled_estimate\", \"mean\"), (\"scaled_estimate\", \"stddev\")]\n",
    ").to_pandas().set_index(\"gene_id\")"
   ]
  },
  {
   "cell_type": "raw",
   "id": "f56f69b9-a696-435e-8095-68faa00aa2e9",
   "metadata": {},
   "source": [
    "## pandas"
   ]
  },
  {
   "cell_type": "code",
   "execution_count": null,
   "id": "f680d5b3-2427-402f-aec0-fd792c2a11d2",
   "metadata": {},
   "outputs": [],
   "source": [
    "import pandas as pd"
   ]
  },
  {
   "cell_type": "code",
   "execution_count": null,
   "id": "ed2e4405-2dbb-4995-98d0-91af0d5703a8",
   "metadata": {
    "tags": []
   },
   "outputs": [],
   "source": [
    "# uri = \"gs://gdc-tcga-phs000178-open/0b8b258e-1671-4f86-82e7-59b12ad40d9c/unc.edu.4c243ea9-dfe1-42f0-a887-3c901fb38542.2477720.rsem.genes.results\"\n",
    "# uri = \"gs://gdc-tcga-phs000178-open/*/*.rsem.genes.results\"\n",
    "\n",
    "uri = [\n",
    "    \"gs://gdc-tcga-phs000178-open/0b8b258e-1671-4f86-82e7-59b12ad40d9c/unc.edu.4c243ea9-dfe1-42f0-a887-3c901fb38542.2477720.rsem.genes.results\",\n",
    "    \"gs://gdc-tcga-phs000178-open/0b8b258e-1671-4f86-82e7-59b12ad40d9c/unc.edu.4c243ea9-dfe1-42f0-a887-3c901fb38542.2477720.rsem.genes.results\",\n",
    "]\n",
    "\n",
    "pd.read_csv(\n",
    "    uri[0],\n",
    "    nrows=10,\n",
    "    sep=\"\\t\",\n",
    ")"
   ]
  },
  {
   "cell_type": "code",
   "execution_count": null,
   "id": "60024eb3-07e5-4d87-8023-8d90be54bea8",
   "metadata": {},
   "outputs": [],
   "source": []
  },
  {
   "cell_type": "code",
   "execution_count": null,
   "id": "85c891f5-20b4-4376-9830-21ddc77c928e",
   "metadata": {
    "tags": []
   },
   "outputs": [],
   "source": [
    "import pyarrow as pa\n",
    "import pyarrow.dataset as ds"
   ]
  },
  {
   "cell_type": "code",
   "execution_count": null,
   "id": "6bf05069-4bac-41f4-b453-9aa5c18bc1c1",
   "metadata": {},
   "outputs": [],
   "source": [
    "gdc_tcga_bucket = \"\"\n",
    "\n",
    "# dataset = ds.dataset(\""
   ]
  }
 ],
 "metadata": {
  "environment": {
   "kernel": "conda-env-deconv-py",
   "name": "common-cpu.m84",
   "type": "gcloud",
   "uri": "gcr.io/deeplearning-platform-release/base-cpu:m84"
  },
  "kernelspec": {
   "display_name": "Python 3 (ipykernel)",
   "language": "python",
   "name": "python3"
  },
  "language_info": {
   "codemirror_mode": {
    "name": "ipython",
    "version": 3
   },
   "file_extension": ".py",
   "mimetype": "text/x-python",
   "name": "python",
   "nbconvert_exporter": "python",
   "pygments_lexer": "ipython3",
   "version": "3.10.4"
  }
 },
 "nbformat": 4,
 "nbformat_minor": 5
}
