{
 "cells": [
  {
   "cell_type": "markdown",
   "id": "7b2cdfb4-217f-4942-a223-43cc91cb18ac",
   "metadata": {},
   "source": [
    "filter...\n",
    "- samples\n",
    "- cells\n",
    "- genes\n",
    "\n",
    "tutorial: https://satijalab.org/seurat/articles/pbmc3k_tutorial.html\n",
    "\n",
    "to look for:\n",
    "- The number of unique genes detected in each cell.\n",
    "  - Low-quality cells or empty droplets will often have very few genes\n",
    "  - Cell doublets or multiplets may exhibit an aberrantly high gene count\n",
    "- The percentage of reads that map to the mitochondrial genome\n",
    "  - Low-quality / dying cells often exhibit extensive mitochondrial contamination\n",
    "  - We use the set of all genes starting with MT- as a set of mitochondrial genes\n"
   ]
  },
  {
   "cell_type": "code",
   "execution_count": null,
   "id": "e1a539c4-2c5f-4d43-972d-18bb5526c23c",
   "metadata": {},
   "outputs": [],
   "source": []
  },
  {
   "cell_type": "code",
   "execution_count": 1,
   "id": "8e64d1b4-6d25-4fd2-8d5e-ac8332137bd6",
   "metadata": {},
   "outputs": [],
   "source": [
    "import logging\n",
    "\n",
    "import helpers\n",
    "import numpy as np\n",
    "import pandas as pd\n",
    "import plotly.express as px\n",
    "import plotly.figure_factory as ff\n",
    "import plotly.graph_objects as go\n",
    "import plotly.io"
   ]
  },
  {
   "cell_type": "code",
   "execution_count": 3,
   "id": "7549b8a1-ad3c-49a3-a132-bea8854bc99a",
   "metadata": {},
   "outputs": [],
   "source": [
    "uri = \"https://www.ncbi.nlm.nih.gov/geo/download/?acc=GSE115978&format=file&file=GSE115978%5Fcell%2Eannotations%2Ecsv%2Egz\"\n",
    "\n",
    "metadata = pd.read_csv(\n",
    "    # \"gs://liulab/ftp/GSE115978/GSE115978_cell.annotations.csv\",\n",
    "    uri,\n",
    "    compression=\"gzip\",\n",
    "    na_values={\"cell.types\": \"?\"},\n",
    ")"
   ]
  },
  {
   "cell_type": "code",
   "execution_count": 4,
   "id": "7351ecdb-58ff-410b-a600-101100edc530",
   "metadata": {},
   "outputs": [
    {
     "data": {
      "text/html": [
       "<div>\n",
       "<style scoped>\n",
       "    .dataframe tbody tr th:only-of-type {\n",
       "        vertical-align: middle;\n",
       "    }\n",
       "\n",
       "    .dataframe tbody tr th {\n",
       "        vertical-align: top;\n",
       "    }\n",
       "\n",
       "    .dataframe thead th {\n",
       "        text-align: right;\n",
       "    }\n",
       "</style>\n",
       "<table border=\"1\" class=\"dataframe\">\n",
       "  <thead>\n",
       "    <tr style=\"text-align: right;\">\n",
       "      <th></th>\n",
       "      <th>cells</th>\n",
       "      <th>samples</th>\n",
       "      <th>cell.types</th>\n",
       "      <th>treatment.group</th>\n",
       "      <th>Cohort</th>\n",
       "      <th>no.of.genes</th>\n",
       "      <th>no.of.reads</th>\n",
       "    </tr>\n",
       "  </thead>\n",
       "  <tbody>\n",
       "    <tr>\n",
       "      <th>0</th>\n",
       "      <td>cy78_CD45_neg_1_B04_S496_comb</td>\n",
       "      <td>Mel78</td>\n",
       "      <td>Mal</td>\n",
       "      <td>post.treatment</td>\n",
       "      <td>Tirosh</td>\n",
       "      <td>8258</td>\n",
       "      <td>357919</td>\n",
       "    </tr>\n",
       "    <tr>\n",
       "      <th>1</th>\n",
       "      <td>cy79_p4_CD45_neg_PDL1_neg_E11_S1115_comb</td>\n",
       "      <td>Mel79</td>\n",
       "      <td>Mal</td>\n",
       "      <td>treatment.naive</td>\n",
       "      <td>Tirosh</td>\n",
       "      <td>2047</td>\n",
       "      <td>5727</td>\n",
       "    </tr>\n",
       "    <tr>\n",
       "      <th>2</th>\n",
       "      <td>CY88_5_B10_S694_comb</td>\n",
       "      <td>Mel88</td>\n",
       "      <td>Mal</td>\n",
       "      <td>post.treatment</td>\n",
       "      <td>Tirosh</td>\n",
       "      <td>5375</td>\n",
       "      <td>139218</td>\n",
       "    </tr>\n",
       "    <tr>\n",
       "      <th>3</th>\n",
       "      <td>cy79_p1_CD45_neg_PDL1_pos_AS_C1_R1_F07_S67_comb</td>\n",
       "      <td>Mel79</td>\n",
       "      <td>Mal</td>\n",
       "      <td>treatment.naive</td>\n",
       "      <td>Tirosh</td>\n",
       "      <td>5648</td>\n",
       "      <td>73996</td>\n",
       "    </tr>\n",
       "    <tr>\n",
       "      <th>4</th>\n",
       "      <td>cy78_CD45_neg_3_H06_S762_comb</td>\n",
       "      <td>Mel78</td>\n",
       "      <td>Mal</td>\n",
       "      <td>post.treatment</td>\n",
       "      <td>Tirosh</td>\n",
       "      <td>7409</td>\n",
       "      <td>380341</td>\n",
       "    </tr>\n",
       "    <tr>\n",
       "      <th>...</th>\n",
       "      <td>...</td>\n",
       "      <td>...</td>\n",
       "      <td>...</td>\n",
       "      <td>...</td>\n",
       "      <td>...</td>\n",
       "      <td>...</td>\n",
       "      <td>...</td>\n",
       "    </tr>\n",
       "    <tr>\n",
       "      <th>7181</th>\n",
       "      <td>CY75_1_CD45_CD8_3__S168_comb_BCD8</td>\n",
       "      <td>Mel75</td>\n",
       "      <td>T.CD8</td>\n",
       "      <td>post.treatment</td>\n",
       "      <td>Tirosh</td>\n",
       "      <td>3530</td>\n",
       "      <td>137245</td>\n",
       "    </tr>\n",
       "    <tr>\n",
       "      <th>7182</th>\n",
       "      <td>CY75_1_CD45_CD8_8__S338_comb_BCD8</td>\n",
       "      <td>Mel75</td>\n",
       "      <td>T.CD8</td>\n",
       "      <td>post.treatment</td>\n",
       "      <td>Tirosh</td>\n",
       "      <td>3872</td>\n",
       "      <td>106432</td>\n",
       "    </tr>\n",
       "    <tr>\n",
       "      <th>7183</th>\n",
       "      <td>monika_D7_S132_comb_BCD8_3</td>\n",
       "      <td>Mel75</td>\n",
       "      <td>T.CD8</td>\n",
       "      <td>post.treatment</td>\n",
       "      <td>Tirosh</td>\n",
       "      <td>4589</td>\n",
       "      <td>908173</td>\n",
       "    </tr>\n",
       "    <tr>\n",
       "      <th>7184</th>\n",
       "      <td>CY75_1_CD45_CD8_8__S289_comb_BCD8</td>\n",
       "      <td>Mel75</td>\n",
       "      <td>T.CD8</td>\n",
       "      <td>post.treatment</td>\n",
       "      <td>Tirosh</td>\n",
       "      <td>4614</td>\n",
       "      <td>140903</td>\n",
       "    </tr>\n",
       "    <tr>\n",
       "      <th>7185</th>\n",
       "      <td>CY75_1_CD45_CD8_8__S351_comb_BCD8</td>\n",
       "      <td>Mel75</td>\n",
       "      <td>T.CD8</td>\n",
       "      <td>post.treatment</td>\n",
       "      <td>Tirosh</td>\n",
       "      <td>3859</td>\n",
       "      <td>222239</td>\n",
       "    </tr>\n",
       "  </tbody>\n",
       "</table>\n",
       "<p>7186 rows × 7 columns</p>\n",
       "</div>"
      ],
      "text/plain": [
       "                                                cells samples cell.types  \\\n",
       "0                       cy78_CD45_neg_1_B04_S496_comb   Mel78        Mal   \n",
       "1            cy79_p4_CD45_neg_PDL1_neg_E11_S1115_comb   Mel79        Mal   \n",
       "2                                CY88_5_B10_S694_comb   Mel88        Mal   \n",
       "3     cy79_p1_CD45_neg_PDL1_pos_AS_C1_R1_F07_S67_comb   Mel79        Mal   \n",
       "4                       cy78_CD45_neg_3_H06_S762_comb   Mel78        Mal   \n",
       "...                                               ...     ...        ...   \n",
       "7181                CY75_1_CD45_CD8_3__S168_comb_BCD8   Mel75      T.CD8   \n",
       "7182                CY75_1_CD45_CD8_8__S338_comb_BCD8   Mel75      T.CD8   \n",
       "7183                       monika_D7_S132_comb_BCD8_3   Mel75      T.CD8   \n",
       "7184                CY75_1_CD45_CD8_8__S289_comb_BCD8   Mel75      T.CD8   \n",
       "7185                CY75_1_CD45_CD8_8__S351_comb_BCD8   Mel75      T.CD8   \n",
       "\n",
       "      treatment.group  Cohort  no.of.genes  no.of.reads  \n",
       "0      post.treatment  Tirosh         8258       357919  \n",
       "1     treatment.naive  Tirosh         2047         5727  \n",
       "2      post.treatment  Tirosh         5375       139218  \n",
       "3     treatment.naive  Tirosh         5648        73996  \n",
       "4      post.treatment  Tirosh         7409       380341  \n",
       "...               ...     ...          ...          ...  \n",
       "7181   post.treatment  Tirosh         3530       137245  \n",
       "7182   post.treatment  Tirosh         3872       106432  \n",
       "7183   post.treatment  Tirosh         4589       908173  \n",
       "7184   post.treatment  Tirosh         4614       140903  \n",
       "7185   post.treatment  Tirosh         3859       222239  \n",
       "\n",
       "[7186 rows x 7 columns]"
      ]
     },
     "execution_count": 4,
     "metadata": {},
     "output_type": "execute_result"
    }
   ],
   "source": [
    "metadata"
   ]
  },
  {
   "cell_type": "code",
   "execution_count": 5,
   "id": "c6a0a97c-4061-4d10-b300-69f1b7aa0f93",
   "metadata": {},
   "outputs": [
    {
     "ename": "MaxRowsError",
     "evalue": "The number of rows in your dataset is greater than the maximum allowed (5000). For information on how to plot larger datasets in Altair, see the documentation",
     "output_type": "error",
     "traceback": [
      "\u001b[0;31m---------------------------------------------------------------------------\u001b[0m",
      "\u001b[0;31mMaxRowsError\u001b[0m                              Traceback (most recent call last)",
      "File \u001b[0;32m/opt/conda/envs/deconv/lib/python3.10/site-packages/altair/vegalite/v4/api.py:2020\u001b[0m, in \u001b[0;36mChart.to_dict\u001b[0;34m(self, *args, **kwargs)\u001b[0m\n\u001b[1;32m   2018\u001b[0m     copy\u001b[38;5;241m.\u001b[39mdata \u001b[38;5;241m=\u001b[39m core\u001b[38;5;241m.\u001b[39mInlineData(values\u001b[38;5;241m=\u001b[39m[{}])\n\u001b[1;32m   2019\u001b[0m     \u001b[38;5;28;01mreturn\u001b[39;00m \u001b[38;5;28msuper\u001b[39m(Chart, copy)\u001b[38;5;241m.\u001b[39mto_dict(\u001b[38;5;241m*\u001b[39margs, \u001b[38;5;241m*\u001b[39m\u001b[38;5;241m*\u001b[39mkwargs)\n\u001b[0;32m-> 2020\u001b[0m \u001b[38;5;28;01mreturn\u001b[39;00m \u001b[38;5;28;43msuper\u001b[39;49m\u001b[43m(\u001b[49m\u001b[43m)\u001b[49m\u001b[38;5;241;43m.\u001b[39;49m\u001b[43mto_dict\u001b[49m\u001b[43m(\u001b[49m\u001b[38;5;241;43m*\u001b[39;49m\u001b[43margs\u001b[49m\u001b[43m,\u001b[49m\u001b[43m \u001b[49m\u001b[38;5;241;43m*\u001b[39;49m\u001b[38;5;241;43m*\u001b[39;49m\u001b[43mkwargs\u001b[49m\u001b[43m)\u001b[49m\n",
      "File \u001b[0;32m/opt/conda/envs/deconv/lib/python3.10/site-packages/altair/vegalite/v4/api.py:374\u001b[0m, in \u001b[0;36mTopLevelMixin.to_dict\u001b[0;34m(self, *args, **kwargs)\u001b[0m\n\u001b[1;32m    372\u001b[0m copy \u001b[38;5;241m=\u001b[39m \u001b[38;5;28mself\u001b[39m\u001b[38;5;241m.\u001b[39mcopy(deep\u001b[38;5;241m=\u001b[39m\u001b[38;5;28;01mFalse\u001b[39;00m)\n\u001b[1;32m    373\u001b[0m original_data \u001b[38;5;241m=\u001b[39m \u001b[38;5;28mgetattr\u001b[39m(copy, \u001b[38;5;124m\"\u001b[39m\u001b[38;5;124mdata\u001b[39m\u001b[38;5;124m\"\u001b[39m, Undefined)\n\u001b[0;32m--> 374\u001b[0m copy\u001b[38;5;241m.\u001b[39mdata \u001b[38;5;241m=\u001b[39m \u001b[43m_prepare_data\u001b[49m\u001b[43m(\u001b[49m\u001b[43moriginal_data\u001b[49m\u001b[43m,\u001b[49m\u001b[43m \u001b[49m\u001b[43mcontext\u001b[49m\u001b[43m)\u001b[49m\n\u001b[1;32m    376\u001b[0m \u001b[38;5;28;01mif\u001b[39;00m original_data \u001b[38;5;129;01mis\u001b[39;00m \u001b[38;5;129;01mnot\u001b[39;00m Undefined:\n\u001b[1;32m    377\u001b[0m     context[\u001b[38;5;124m\"\u001b[39m\u001b[38;5;124mdata\u001b[39m\u001b[38;5;124m\"\u001b[39m] \u001b[38;5;241m=\u001b[39m original_data\n",
      "File \u001b[0;32m/opt/conda/envs/deconv/lib/python3.10/site-packages/altair/vegalite/v4/api.py:89\u001b[0m, in \u001b[0;36m_prepare_data\u001b[0;34m(data, context)\u001b[0m\n\u001b[1;32m     87\u001b[0m \u001b[38;5;66;03m# convert dataframes  or objects with __geo_interface__ to dict\u001b[39;00m\n\u001b[1;32m     88\u001b[0m \u001b[38;5;28;01mif\u001b[39;00m \u001b[38;5;28misinstance\u001b[39m(data, pd\u001b[38;5;241m.\u001b[39mDataFrame) \u001b[38;5;129;01mor\u001b[39;00m \u001b[38;5;28mhasattr\u001b[39m(data, \u001b[38;5;124m\"\u001b[39m\u001b[38;5;124m__geo_interface__\u001b[39m\u001b[38;5;124m\"\u001b[39m):\n\u001b[0;32m---> 89\u001b[0m     data \u001b[38;5;241m=\u001b[39m \u001b[43m_pipe\u001b[49m\u001b[43m(\u001b[49m\u001b[43mdata\u001b[49m\u001b[43m,\u001b[49m\u001b[43m \u001b[49m\u001b[43mdata_transformers\u001b[49m\u001b[38;5;241;43m.\u001b[39;49m\u001b[43mget\u001b[49m\u001b[43m(\u001b[49m\u001b[43m)\u001b[49m\u001b[43m)\u001b[49m\n\u001b[1;32m     91\u001b[0m \u001b[38;5;66;03m# convert string input to a URLData\u001b[39;00m\n\u001b[1;32m     92\u001b[0m \u001b[38;5;28;01mif\u001b[39;00m \u001b[38;5;28misinstance\u001b[39m(data, \u001b[38;5;28mstr\u001b[39m):\n",
      "File \u001b[0;32m/opt/conda/envs/deconv/lib/python3.10/site-packages/toolz/functoolz.py:630\u001b[0m, in \u001b[0;36mpipe\u001b[0;34m(data, *funcs)\u001b[0m\n\u001b[1;32m    610\u001b[0m \u001b[38;5;124;03m\"\"\" Pipe a value through a sequence of functions\u001b[39;00m\n\u001b[1;32m    611\u001b[0m \n\u001b[1;32m    612\u001b[0m \u001b[38;5;124;03mI.e. ``pipe(data, f, g, h)`` is equivalent to ``h(g(f(data)))``\u001b[39;00m\n\u001b[0;32m   (...)\u001b[0m\n\u001b[1;32m    627\u001b[0m \u001b[38;5;124;03m    thread_last\u001b[39;00m\n\u001b[1;32m    628\u001b[0m \u001b[38;5;124;03m\"\"\"\u001b[39;00m\n\u001b[1;32m    629\u001b[0m \u001b[38;5;28;01mfor\u001b[39;00m func \u001b[38;5;129;01min\u001b[39;00m funcs:\n\u001b[0;32m--> 630\u001b[0m     data \u001b[38;5;241m=\u001b[39m \u001b[43mfunc\u001b[49m\u001b[43m(\u001b[49m\u001b[43mdata\u001b[49m\u001b[43m)\u001b[49m\n\u001b[1;32m    631\u001b[0m \u001b[38;5;28;01mreturn\u001b[39;00m data\n",
      "File \u001b[0;32m/opt/conda/envs/deconv/lib/python3.10/site-packages/toolz/functoolz.py:306\u001b[0m, in \u001b[0;36mcurry.__call__\u001b[0;34m(self, *args, **kwargs)\u001b[0m\n\u001b[1;32m    304\u001b[0m \u001b[38;5;28;01mdef\u001b[39;00m \u001b[38;5;21m__call__\u001b[39m(\u001b[38;5;28mself\u001b[39m, \u001b[38;5;241m*\u001b[39margs, \u001b[38;5;241m*\u001b[39m\u001b[38;5;241m*\u001b[39mkwargs):\n\u001b[1;32m    305\u001b[0m     \u001b[38;5;28;01mtry\u001b[39;00m:\n\u001b[0;32m--> 306\u001b[0m         \u001b[38;5;28;01mreturn\u001b[39;00m \u001b[38;5;28;43mself\u001b[39;49m\u001b[38;5;241;43m.\u001b[39;49m\u001b[43m_partial\u001b[49m\u001b[43m(\u001b[49m\u001b[38;5;241;43m*\u001b[39;49m\u001b[43margs\u001b[49m\u001b[43m,\u001b[49m\u001b[43m \u001b[49m\u001b[38;5;241;43m*\u001b[39;49m\u001b[38;5;241;43m*\u001b[39;49m\u001b[43mkwargs\u001b[49m\u001b[43m)\u001b[49m\n\u001b[1;32m    307\u001b[0m     \u001b[38;5;28;01mexcept\u001b[39;00m \u001b[38;5;167;01mTypeError\u001b[39;00m \u001b[38;5;28;01mas\u001b[39;00m exc:\n\u001b[1;32m    308\u001b[0m         \u001b[38;5;28;01mif\u001b[39;00m \u001b[38;5;28mself\u001b[39m\u001b[38;5;241m.\u001b[39m_should_curry(args, kwargs, exc):\n",
      "File \u001b[0;32m/opt/conda/envs/deconv/lib/python3.10/site-packages/altair/vegalite/data.py:19\u001b[0m, in \u001b[0;36mdefault_data_transformer\u001b[0;34m(data, max_rows)\u001b[0m\n\u001b[1;32m     17\u001b[0m \u001b[38;5;129m@curried\u001b[39m\u001b[38;5;241m.\u001b[39mcurry\n\u001b[1;32m     18\u001b[0m \u001b[38;5;28;01mdef\u001b[39;00m \u001b[38;5;21mdefault_data_transformer\u001b[39m(data, max_rows\u001b[38;5;241m=\u001b[39m\u001b[38;5;241m5000\u001b[39m):\n\u001b[0;32m---> 19\u001b[0m     \u001b[38;5;28;01mreturn\u001b[39;00m \u001b[43mcurried\u001b[49m\u001b[38;5;241;43m.\u001b[39;49m\u001b[43mpipe\u001b[49m\u001b[43m(\u001b[49m\u001b[43mdata\u001b[49m\u001b[43m,\u001b[49m\u001b[43m \u001b[49m\u001b[43mlimit_rows\u001b[49m\u001b[43m(\u001b[49m\u001b[43mmax_rows\u001b[49m\u001b[38;5;241;43m=\u001b[39;49m\u001b[43mmax_rows\u001b[49m\u001b[43m)\u001b[49m\u001b[43m,\u001b[49m\u001b[43m \u001b[49m\u001b[43mto_values\u001b[49m\u001b[43m)\u001b[49m\n",
      "File \u001b[0;32m/opt/conda/envs/deconv/lib/python3.10/site-packages/toolz/functoolz.py:630\u001b[0m, in \u001b[0;36mpipe\u001b[0;34m(data, *funcs)\u001b[0m\n\u001b[1;32m    610\u001b[0m \u001b[38;5;124;03m\"\"\" Pipe a value through a sequence of functions\u001b[39;00m\n\u001b[1;32m    611\u001b[0m \n\u001b[1;32m    612\u001b[0m \u001b[38;5;124;03mI.e. ``pipe(data, f, g, h)`` is equivalent to ``h(g(f(data)))``\u001b[39;00m\n\u001b[0;32m   (...)\u001b[0m\n\u001b[1;32m    627\u001b[0m \u001b[38;5;124;03m    thread_last\u001b[39;00m\n\u001b[1;32m    628\u001b[0m \u001b[38;5;124;03m\"\"\"\u001b[39;00m\n\u001b[1;32m    629\u001b[0m \u001b[38;5;28;01mfor\u001b[39;00m func \u001b[38;5;129;01min\u001b[39;00m funcs:\n\u001b[0;32m--> 630\u001b[0m     data \u001b[38;5;241m=\u001b[39m \u001b[43mfunc\u001b[49m\u001b[43m(\u001b[49m\u001b[43mdata\u001b[49m\u001b[43m)\u001b[49m\n\u001b[1;32m    631\u001b[0m \u001b[38;5;28;01mreturn\u001b[39;00m data\n",
      "File \u001b[0;32m/opt/conda/envs/deconv/lib/python3.10/site-packages/toolz/functoolz.py:306\u001b[0m, in \u001b[0;36mcurry.__call__\u001b[0;34m(self, *args, **kwargs)\u001b[0m\n\u001b[1;32m    304\u001b[0m \u001b[38;5;28;01mdef\u001b[39;00m \u001b[38;5;21m__call__\u001b[39m(\u001b[38;5;28mself\u001b[39m, \u001b[38;5;241m*\u001b[39margs, \u001b[38;5;241m*\u001b[39m\u001b[38;5;241m*\u001b[39mkwargs):\n\u001b[1;32m    305\u001b[0m     \u001b[38;5;28;01mtry\u001b[39;00m:\n\u001b[0;32m--> 306\u001b[0m         \u001b[38;5;28;01mreturn\u001b[39;00m \u001b[38;5;28;43mself\u001b[39;49m\u001b[38;5;241;43m.\u001b[39;49m\u001b[43m_partial\u001b[49m\u001b[43m(\u001b[49m\u001b[38;5;241;43m*\u001b[39;49m\u001b[43margs\u001b[49m\u001b[43m,\u001b[49m\u001b[43m \u001b[49m\u001b[38;5;241;43m*\u001b[39;49m\u001b[38;5;241;43m*\u001b[39;49m\u001b[43mkwargs\u001b[49m\u001b[43m)\u001b[49m\n\u001b[1;32m    307\u001b[0m     \u001b[38;5;28;01mexcept\u001b[39;00m \u001b[38;5;167;01mTypeError\u001b[39;00m \u001b[38;5;28;01mas\u001b[39;00m exc:\n\u001b[1;32m    308\u001b[0m         \u001b[38;5;28;01mif\u001b[39;00m \u001b[38;5;28mself\u001b[39m\u001b[38;5;241m.\u001b[39m_should_curry(args, kwargs, exc):\n",
      "File \u001b[0;32m/opt/conda/envs/deconv/lib/python3.10/site-packages/altair/utils/data.py:80\u001b[0m, in \u001b[0;36mlimit_rows\u001b[0;34m(data, max_rows)\u001b[0m\n\u001b[1;32m     78\u001b[0m         \u001b[38;5;28;01mreturn\u001b[39;00m data\n\u001b[1;32m     79\u001b[0m \u001b[38;5;28;01mif\u001b[39;00m max_rows \u001b[38;5;129;01mis\u001b[39;00m \u001b[38;5;129;01mnot\u001b[39;00m \u001b[38;5;28;01mNone\u001b[39;00m \u001b[38;5;129;01mand\u001b[39;00m \u001b[38;5;28mlen\u001b[39m(values) \u001b[38;5;241m>\u001b[39m max_rows:\n\u001b[0;32m---> 80\u001b[0m     \u001b[38;5;28;01mraise\u001b[39;00m MaxRowsError(\n\u001b[1;32m     81\u001b[0m         \u001b[38;5;124m\"\u001b[39m\u001b[38;5;124mThe number of rows in your dataset is greater \u001b[39m\u001b[38;5;124m\"\u001b[39m\n\u001b[1;32m     82\u001b[0m         \u001b[38;5;124m\"\u001b[39m\u001b[38;5;124mthan the maximum allowed (\u001b[39m\u001b[38;5;132;01m{}\u001b[39;00m\u001b[38;5;124m). \u001b[39m\u001b[38;5;124m\"\u001b[39m\n\u001b[1;32m     83\u001b[0m         \u001b[38;5;124m\"\u001b[39m\u001b[38;5;124mFor information on how to plot larger datasets \u001b[39m\u001b[38;5;124m\"\u001b[39m\n\u001b[1;32m     84\u001b[0m         \u001b[38;5;124m\"\u001b[39m\u001b[38;5;124min Altair, see the documentation\u001b[39m\u001b[38;5;124m\"\u001b[39m\u001b[38;5;241m.\u001b[39mformat(max_rows)\n\u001b[1;32m     85\u001b[0m     )\n\u001b[1;32m     86\u001b[0m \u001b[38;5;28;01mreturn\u001b[39;00m data\n",
      "\u001b[0;31mMaxRowsError\u001b[0m: The number of rows in your dataset is greater than the maximum allowed (5000). For information on how to plot larger datasets in Altair, see the documentation"
     ]
    },
    {
     "data": {
      "text/plain": [
       "alt.Chart(...)"
      ]
     },
     "execution_count": 5,
     "metadata": {},
     "output_type": "execute_result"
    }
   ],
   "source": [
    "import altair as alt\n",
    "\n",
    "alt.Chart(metadata).mark_bar().encode(\n",
    "    alt.X(\"no.of.genes:Q\", bin=True),\n",
    "    y=\"count()\",\n",
    ")"
   ]
  },
  {
   "cell_type": "code",
   "execution_count": null,
   "id": "38e36335-5cdb-426d-b46e-4733eecdd723",
   "metadata": {},
   "outputs": [],
   "source": [
    "sc_rnaseq.groupby(\"cell_id\").sum(\"gene_is_nonzero\")"
   ]
  },
  {
   "cell_type": "code",
   "execution_count": null,
   "id": "89f83a48-4c2b-446d-8d04-b1fecf491a9c",
   "metadata": {},
   "outputs": [],
   "source": [
    "import pathlib\n",
    "\n",
    "figure_path = pathlib.Path(\"figures-9a\")\n",
    "figure_path.mkdir(parents=True, exist_ok=True)\n",
    "figure_path"
   ]
  },
  {
   "cell_type": "code",
   "execution_count": null,
   "id": "66efaa6f-0212-4ce5-97dc-a08147f55179",
   "metadata": {},
   "outputs": [],
   "source": [
    "handler = logging.StreamHandler()\n",
    "formatter = logging.Formatter(\"%(asctime)s - %(name)s - %(levelname)s - %(message)s\")\n",
    "handler.setFormatter(formatter)\n",
    "logging.getLogger().addHandler(handler)"
   ]
  },
  {
   "cell_type": "code",
   "execution_count": null,
   "id": "c0247de3-4c0c-4517-b3bd-0e9e91e5436f",
   "metadata": {},
   "outputs": [],
   "source": [
    "logger = logging.getLogger(__name__)\n",
    "logger.setLevel(\"DEBUG\")"
   ]
  },
  {
   "cell_type": "code",
   "execution_count": null,
   "id": "be76e1a2-7060-49ef-921a-c9ea8fee5092",
   "metadata": {},
   "outputs": [],
   "source": [
    "rng = np.random.default_rng(seed=0)"
   ]
  },
  {
   "cell_type": "code",
   "execution_count": null,
   "id": "11bb6929-bf16-481c-a5a0-9a09030e4c00",
   "metadata": {},
   "outputs": [],
   "source": [
    "%%time\n",
    "sc_jerby_arnon, sc_metadata_jerby_arnon = helpers.datasets.load_jerby_arnon(\n",
    "    ref_genome=\"hg19\", units=\"tpm\"\n",
    ")\n",
    "sc_jerby_arnon *= 1_000_000 / sc_jerby_arnon.sum()"
   ]
  },
  {
   "cell_type": "code",
   "execution_count": null,
   "id": "ef08f051-d6cd-4d44-ad36-017586488a26",
   "metadata": {},
   "outputs": [],
   "source": []
  }
 ],
 "metadata": {
  "environment": {
   "kernel": "conda-env-deconv-py",
   "name": "common-cpu.m91",
   "type": "gcloud",
   "uri": "gcr.io/deeplearning-platform-release/base-cpu:m91"
  },
  "kernelspec": {
   "display_name": "Python [conda env:deconv]",
   "language": "python",
   "name": "conda-env-deconv-py"
  },
  "language_info": {
   "codemirror_mode": {
    "name": "ipython",
    "version": 3
   },
   "file_extension": ".py",
   "mimetype": "text/x-python",
   "name": "python",
   "nbconvert_exporter": "python",
   "pygments_lexer": "ipython3",
   "version": "3.10.4"
  }
 },
 "nbformat": 4,
 "nbformat_minor": 5
}
