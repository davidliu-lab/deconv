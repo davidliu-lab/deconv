{
 "cells": [
  {
   "cell_type": "code",
   "execution_count": 1,
   "id": "621a2b66",
   "metadata": {},
   "outputs": [],
   "source": [
    "import os\n",
    "\n",
    "import pandas as pd"
   ]
  },
  {
   "cell_type": "code",
   "execution_count": 2,
   "id": "0710e97f",
   "metadata": {},
   "outputs": [
    {
     "name": "stdout",
     "output_type": "stream",
     "text": [
      "\u001b[01;34m./data/dropbox/Dave Liu Lab\u001b[00m\n",
      "└── [4.0K]  \u001b[01;34mDerek\u001b[00m\n",
      "    ├── [4.0K]  \u001b[01;34mscRNAseq\u001b[00m\n",
      "    │   └── [4.0K]  \u001b[01;34mmelanoma\u001b[00m\n",
      "    │       ├── [2.5M]  metadata_all.txt\n",
      "    │       ├── [805M]  tumors_norm_counts.txt\n",
      "    │       └── [805M]  tumors_tpm.txt\n",
      "    └── [4.0K]  \u001b[01;34msimulations\u001b[00m\n",
      "        └── [4.0K]  \u001b[01;34mexperiments\u001b[00m\n",
      "            └── [4.0K]  \u001b[01;34mgenerate_cohorts_for_emma\u001b[00m\n",
      "                ├── [ 48M]  sim2_sd.RData\n",
      "                └── [ 27M]  sim_2sd.txt\n",
      "\n",
      "6 directories, 5 files\n"
     ]
    }
   ],
   "source": [
    "!tree -h ./data/dropbox/Dave\\ Liu\\ Lab"
   ]
  },
  {
   "cell_type": "code",
   "execution_count": 3,
   "id": "daafe522",
   "metadata": {},
   "outputs": [],
   "source": [
    "df_norm_counts = pd.read_csv(\n",
    "    filepath_or_buffer='./data/dropbox/Dave Liu Lab/Derek/scRNAseq/melanoma/tumors_norm_counts.txt',\n",
    "    nrows=1000,\n",
    "    sep='\\t',\n",
    "    index_col=0\n",
    ")"
   ]
  },
  {
   "cell_type": "code",
   "execution_count": 4,
   "id": "44a1b176",
   "metadata": {},
   "outputs": [
    {
     "data": {
      "text/plain": [
       "cy78_CD45_neg_1_B04_S496_comb                      float64\n",
       "cy79_p4_CD45_neg_PDL1_neg_E11_S1115_comb           float64\n",
       "CY88_5_B10_S694_comb                               float64\n",
       "cy79_p1_CD45_neg_PDL1_pos_AS_C1_R1_F07_S67_comb    float64\n",
       "cy78_CD45_neg_3_H06_S762_comb                      float64\n",
       "                                                    ...   \n",
       "CY75_1_CD45_CD8_3__S168_comb_BCD8                  float64\n",
       "CY75_1_CD45_CD8_8__S338_comb_BCD8                  float64\n",
       "monika_D7_S132_comb_BCD8_3                         float64\n",
       "CY75_1_CD45_CD8_8__S289_comb_BCD8                  float64\n",
       "CY75_1_CD45_CD8_8__S351_comb_BCD8                  float64\n",
       "Length: 7186, dtype: object"
      ]
     },
     "execution_count": 4,
     "metadata": {},
     "output_type": "execute_result"
    }
   ],
   "source": [
    "df_norm_counts.dtypes"
   ]
  },
  {
   "cell_type": "code",
   "execution_count": 5,
   "id": "079b868a",
   "metadata": {},
   "outputs": [
    {
     "data": {
      "text/html": [
       "<div>\n",
       "<style scoped>\n",
       "    .dataframe tbody tr th:only-of-type {\n",
       "        vertical-align: middle;\n",
       "    }\n",
       "\n",
       "    .dataframe tbody tr th {\n",
       "        vertical-align: top;\n",
       "    }\n",
       "\n",
       "    .dataframe thead th {\n",
       "        text-align: right;\n",
       "    }\n",
       "</style>\n",
       "<table border=\"1\" class=\"dataframe\">\n",
       "  <thead>\n",
       "    <tr style=\"text-align: right;\">\n",
       "      <th></th>\n",
       "      <th>cy78_CD45_neg_1_B04_S496_comb</th>\n",
       "      <th>cy79_p4_CD45_neg_PDL1_neg_E11_S1115_comb</th>\n",
       "      <th>CY88_5_B10_S694_comb</th>\n",
       "      <th>cy79_p1_CD45_neg_PDL1_pos_AS_C1_R1_F07_S67_comb</th>\n",
       "      <th>cy78_CD45_neg_3_H06_S762_comb</th>\n",
       "      <th>cy79_p1_CD45_neg_PDL1_pos_AS_C1_R1_G01_S73_comb</th>\n",
       "      <th>cy79_p1_CD45_neg_PDL1_neg_AS_C4_R1_D09_S141_comb</th>\n",
       "      <th>CY88_3_D02_S614_comb</th>\n",
       "      <th>cy79_p1_CD45_neg_PDL1_neg_AS_C4_R1_D06_S138_comb</th>\n",
       "      <th>cy53_1_CD45_neg_C06_S318_comb</th>\n",
       "      <th>...</th>\n",
       "      <th>monika_C11_S119_comb_BCD8_3</th>\n",
       "      <th>CY75_1_CD45_CD8_8__S331_comb_BCD8</th>\n",
       "      <th>CY75_1_CD45_CD8_7__S210_comb_BCD8</th>\n",
       "      <th>CY75_1_CD45_CD8_3__S142_comb_BCD8</th>\n",
       "      <th>CY75_1_CD45_CD8_7__S280_comb_BCD8</th>\n",
       "      <th>CY75_1_CD45_CD8_3__S168_comb_BCD8</th>\n",
       "      <th>CY75_1_CD45_CD8_8__S338_comb_BCD8</th>\n",
       "      <th>monika_D7_S132_comb_BCD8_3</th>\n",
       "      <th>CY75_1_CD45_CD8_8__S289_comb_BCD8</th>\n",
       "      <th>CY75_1_CD45_CD8_8__S351_comb_BCD8</th>\n",
       "    </tr>\n",
       "    <tr>\n",
       "      <th>GENE</th>\n",
       "      <th></th>\n",
       "      <th></th>\n",
       "      <th></th>\n",
       "      <th></th>\n",
       "      <th></th>\n",
       "      <th></th>\n",
       "      <th></th>\n",
       "      <th></th>\n",
       "      <th></th>\n",
       "      <th></th>\n",
       "      <th></th>\n",
       "      <th></th>\n",
       "      <th></th>\n",
       "      <th></th>\n",
       "      <th></th>\n",
       "      <th></th>\n",
       "      <th></th>\n",
       "      <th></th>\n",
       "      <th></th>\n",
       "      <th></th>\n",
       "      <th></th>\n",
       "    </tr>\n",
       "  </thead>\n",
       "  <tbody>\n",
       "    <tr>\n",
       "      <th>C9orf152</th>\n",
       "      <td>0.000000</td>\n",
       "      <td>0.000000</td>\n",
       "      <td>0.000000</td>\n",
       "      <td>0.000000</td>\n",
       "      <td>0.000000</td>\n",
       "      <td>0.000000</td>\n",
       "      <td>0.000000</td>\n",
       "      <td>0.000000</td>\n",
       "      <td>0.000000</td>\n",
       "      <td>0.000000</td>\n",
       "      <td>...</td>\n",
       "      <td>0.000000</td>\n",
       "      <td>0.000000</td>\n",
       "      <td>0.000000</td>\n",
       "      <td>0.000000</td>\n",
       "      <td>0.000000</td>\n",
       "      <td>0.000000</td>\n",
       "      <td>0.000000</td>\n",
       "      <td>0.000000</td>\n",
       "      <td>0.000000</td>\n",
       "      <td>0.000000</td>\n",
       "    </tr>\n",
       "    <tr>\n",
       "      <th>RPS11</th>\n",
       "      <td>8.144184</td>\n",
       "      <td>5.915091</td>\n",
       "      <td>7.243164</td>\n",
       "      <td>6.019502</td>\n",
       "      <td>7.974753</td>\n",
       "      <td>5.557257</td>\n",
       "      <td>4.639058</td>\n",
       "      <td>7.655502</td>\n",
       "      <td>3.554834</td>\n",
       "      <td>8.791371</td>\n",
       "      <td>...</td>\n",
       "      <td>8.116349</td>\n",
       "      <td>5.756490</td>\n",
       "      <td>0.000000</td>\n",
       "      <td>5.258820</td>\n",
       "      <td>3.930454</td>\n",
       "      <td>5.945186</td>\n",
       "      <td>6.661408</td>\n",
       "      <td>6.792322</td>\n",
       "      <td>0.000000</td>\n",
       "      <td>4.820741</td>\n",
       "    </tr>\n",
       "    <tr>\n",
       "      <th>ELMO2</th>\n",
       "      <td>2.639232</td>\n",
       "      <td>0.000000</td>\n",
       "      <td>0.732052</td>\n",
       "      <td>3.687956</td>\n",
       "      <td>2.599318</td>\n",
       "      <td>1.691087</td>\n",
       "      <td>2.019346</td>\n",
       "      <td>0.136191</td>\n",
       "      <td>0.000000</td>\n",
       "      <td>1.724650</td>\n",
       "      <td>...</td>\n",
       "      <td>1.580145</td>\n",
       "      <td>0.000000</td>\n",
       "      <td>1.075875</td>\n",
       "      <td>0.000000</td>\n",
       "      <td>5.616211</td>\n",
       "      <td>0.000000</td>\n",
       "      <td>0.000000</td>\n",
       "      <td>0.000000</td>\n",
       "      <td>0.000000</td>\n",
       "      <td>6.166655</td>\n",
       "    </tr>\n",
       "    <tr>\n",
       "      <th>CREB3L1</th>\n",
       "      <td>0.000000</td>\n",
       "      <td>0.000000</td>\n",
       "      <td>0.000000</td>\n",
       "      <td>0.000000</td>\n",
       "      <td>0.000000</td>\n",
       "      <td>0.000000</td>\n",
       "      <td>0.000000</td>\n",
       "      <td>0.000000</td>\n",
       "      <td>0.000000</td>\n",
       "      <td>0.000000</td>\n",
       "      <td>...</td>\n",
       "      <td>0.000000</td>\n",
       "      <td>0.000000</td>\n",
       "      <td>0.000000</td>\n",
       "      <td>0.000000</td>\n",
       "      <td>0.000000</td>\n",
       "      <td>0.000000</td>\n",
       "      <td>0.000000</td>\n",
       "      <td>0.000000</td>\n",
       "      <td>0.000000</td>\n",
       "      <td>0.000000</td>\n",
       "    </tr>\n",
       "    <tr>\n",
       "      <th>PNMA1</th>\n",
       "      <td>3.656496</td>\n",
       "      <td>0.000000</td>\n",
       "      <td>0.536053</td>\n",
       "      <td>3.041418</td>\n",
       "      <td>4.132741</td>\n",
       "      <td>2.827006</td>\n",
       "      <td>0.000000</td>\n",
       "      <td>2.873420</td>\n",
       "      <td>0.000000</td>\n",
       "      <td>4.787694</td>\n",
       "      <td>...</td>\n",
       "      <td>0.000000</td>\n",
       "      <td>1.407081</td>\n",
       "      <td>0.000000</td>\n",
       "      <td>0.000000</td>\n",
       "      <td>0.000000</td>\n",
       "      <td>0.000000</td>\n",
       "      <td>0.000000</td>\n",
       "      <td>0.000000</td>\n",
       "      <td>0.000000</td>\n",
       "      <td>0.000000</td>\n",
       "    </tr>\n",
       "    <tr>\n",
       "      <th>...</th>\n",
       "      <td>...</td>\n",
       "      <td>...</td>\n",
       "      <td>...</td>\n",
       "      <td>...</td>\n",
       "      <td>...</td>\n",
       "      <td>...</td>\n",
       "      <td>...</td>\n",
       "      <td>...</td>\n",
       "      <td>...</td>\n",
       "      <td>...</td>\n",
       "      <td>...</td>\n",
       "      <td>...</td>\n",
       "      <td>...</td>\n",
       "      <td>...</td>\n",
       "      <td>...</td>\n",
       "      <td>...</td>\n",
       "      <td>...</td>\n",
       "      <td>...</td>\n",
       "      <td>...</td>\n",
       "      <td>...</td>\n",
       "      <td>...</td>\n",
       "    </tr>\n",
       "    <tr>\n",
       "      <th>ABL1</th>\n",
       "      <td>0.000000</td>\n",
       "      <td>0.000000</td>\n",
       "      <td>0.000000</td>\n",
       "      <td>2.634129</td>\n",
       "      <td>0.000000</td>\n",
       "      <td>0.449957</td>\n",
       "      <td>0.000000</td>\n",
       "      <td>0.090853</td>\n",
       "      <td>1.712816</td>\n",
       "      <td>0.380729</td>\n",
       "      <td>...</td>\n",
       "      <td>0.000000</td>\n",
       "      <td>0.000000</td>\n",
       "      <td>0.000000</td>\n",
       "      <td>1.316146</td>\n",
       "      <td>0.000000</td>\n",
       "      <td>0.000000</td>\n",
       "      <td>0.000000</td>\n",
       "      <td>0.000000</td>\n",
       "      <td>1.776946</td>\n",
       "      <td>0.000000</td>\n",
       "    </tr>\n",
       "    <tr>\n",
       "      <th>PTPRG</th>\n",
       "      <td>0.093560</td>\n",
       "      <td>0.000000</td>\n",
       "      <td>0.000000</td>\n",
       "      <td>0.000000</td>\n",
       "      <td>0.000000</td>\n",
       "      <td>0.374066</td>\n",
       "      <td>2.087123</td>\n",
       "      <td>2.690194</td>\n",
       "      <td>0.000000</td>\n",
       "      <td>0.000000</td>\n",
       "      <td>...</td>\n",
       "      <td>0.000000</td>\n",
       "      <td>0.000000</td>\n",
       "      <td>0.000000</td>\n",
       "      <td>0.000000</td>\n",
       "      <td>0.000000</td>\n",
       "      <td>0.000000</td>\n",
       "      <td>0.000000</td>\n",
       "      <td>0.000000</td>\n",
       "      <td>0.000000</td>\n",
       "      <td>0.000000</td>\n",
       "    </tr>\n",
       "    <tr>\n",
       "      <th>NCOR1</th>\n",
       "      <td>1.204141</td>\n",
       "      <td>0.000000</td>\n",
       "      <td>2.467019</td>\n",
       "      <td>2.484911</td>\n",
       "      <td>0.551885</td>\n",
       "      <td>0.276199</td>\n",
       "      <td>2.635522</td>\n",
       "      <td>2.501057</td>\n",
       "      <td>1.519542</td>\n",
       "      <td>3.089837</td>\n",
       "      <td>...</td>\n",
       "      <td>4.490570</td>\n",
       "      <td>5.263973</td>\n",
       "      <td>4.975034</td>\n",
       "      <td>2.012569</td>\n",
       "      <td>0.000000</td>\n",
       "      <td>4.793011</td>\n",
       "      <td>1.626205</td>\n",
       "      <td>2.290129</td>\n",
       "      <td>0.848798</td>\n",
       "      <td>4.945608</td>\n",
       "    </tr>\n",
       "    <tr>\n",
       "      <th>TXNRD1</th>\n",
       "      <td>2.402995</td>\n",
       "      <td>0.000000</td>\n",
       "      <td>0.000000</td>\n",
       "      <td>4.810083</td>\n",
       "      <td>2.835116</td>\n",
       "      <td>3.287768</td>\n",
       "      <td>2.183328</td>\n",
       "      <td>0.000000</td>\n",
       "      <td>4.450155</td>\n",
       "      <td>0.000000</td>\n",
       "      <td>...</td>\n",
       "      <td>0.000000</td>\n",
       "      <td>0.000000</td>\n",
       "      <td>5.024984</td>\n",
       "      <td>4.457200</td>\n",
       "      <td>4.873173</td>\n",
       "      <td>0.000000</td>\n",
       "      <td>0.000000</td>\n",
       "      <td>0.000000</td>\n",
       "      <td>0.000000</td>\n",
       "      <td>0.000000</td>\n",
       "    </tr>\n",
       "    <tr>\n",
       "      <th>SPINK4</th>\n",
       "      <td>0.000000</td>\n",
       "      <td>0.000000</td>\n",
       "      <td>0.000000</td>\n",
       "      <td>0.000000</td>\n",
       "      <td>0.000000</td>\n",
       "      <td>0.000000</td>\n",
       "      <td>0.000000</td>\n",
       "      <td>0.000000</td>\n",
       "      <td>0.000000</td>\n",
       "      <td>0.000000</td>\n",
       "      <td>...</td>\n",
       "      <td>0.000000</td>\n",
       "      <td>0.000000</td>\n",
       "      <td>0.000000</td>\n",
       "      <td>0.000000</td>\n",
       "      <td>0.000000</td>\n",
       "      <td>0.000000</td>\n",
       "      <td>0.000000</td>\n",
       "      <td>0.000000</td>\n",
       "      <td>0.000000</td>\n",
       "      <td>0.000000</td>\n",
       "    </tr>\n",
       "  </tbody>\n",
       "</table>\n",
       "<p>1000 rows × 7186 columns</p>\n",
       "</div>"
      ],
      "text/plain": [
       "          cy78_CD45_neg_1_B04_S496_comb  \\\n",
       "GENE                                      \n",
       "C9orf152                       0.000000   \n",
       "RPS11                          8.144184   \n",
       "ELMO2                          2.639232   \n",
       "CREB3L1                        0.000000   \n",
       "PNMA1                          3.656496   \n",
       "...                                 ...   \n",
       "ABL1                           0.000000   \n",
       "PTPRG                          0.093560   \n",
       "NCOR1                          1.204141   \n",
       "TXNRD1                         2.402995   \n",
       "SPINK4                         0.000000   \n",
       "\n",
       "          cy79_p4_CD45_neg_PDL1_neg_E11_S1115_comb  CY88_5_B10_S694_comb  \\\n",
       "GENE                                                                       \n",
       "C9orf152                                  0.000000              0.000000   \n",
       "RPS11                                     5.915091              7.243164   \n",
       "ELMO2                                     0.000000              0.732052   \n",
       "CREB3L1                                   0.000000              0.000000   \n",
       "PNMA1                                     0.000000              0.536053   \n",
       "...                                            ...                   ...   \n",
       "ABL1                                      0.000000              0.000000   \n",
       "PTPRG                                     0.000000              0.000000   \n",
       "NCOR1                                     0.000000              2.467019   \n",
       "TXNRD1                                    0.000000              0.000000   \n",
       "SPINK4                                    0.000000              0.000000   \n",
       "\n",
       "          cy79_p1_CD45_neg_PDL1_pos_AS_C1_R1_F07_S67_comb  \\\n",
       "GENE                                                        \n",
       "C9orf152                                         0.000000   \n",
       "RPS11                                            6.019502   \n",
       "ELMO2                                            3.687956   \n",
       "CREB3L1                                          0.000000   \n",
       "PNMA1                                            3.041418   \n",
       "...                                                   ...   \n",
       "ABL1                                             2.634129   \n",
       "PTPRG                                            0.000000   \n",
       "NCOR1                                            2.484911   \n",
       "TXNRD1                                           4.810083   \n",
       "SPINK4                                           0.000000   \n",
       "\n",
       "          cy78_CD45_neg_3_H06_S762_comb  \\\n",
       "GENE                                      \n",
       "C9orf152                       0.000000   \n",
       "RPS11                          7.974753   \n",
       "ELMO2                          2.599318   \n",
       "CREB3L1                        0.000000   \n",
       "PNMA1                          4.132741   \n",
       "...                                 ...   \n",
       "ABL1                           0.000000   \n",
       "PTPRG                          0.000000   \n",
       "NCOR1                          0.551885   \n",
       "TXNRD1                         2.835116   \n",
       "SPINK4                         0.000000   \n",
       "\n",
       "          cy79_p1_CD45_neg_PDL1_pos_AS_C1_R1_G01_S73_comb  \\\n",
       "GENE                                                        \n",
       "C9orf152                                         0.000000   \n",
       "RPS11                                            5.557257   \n",
       "ELMO2                                            1.691087   \n",
       "CREB3L1                                          0.000000   \n",
       "PNMA1                                            2.827006   \n",
       "...                                                   ...   \n",
       "ABL1                                             0.449957   \n",
       "PTPRG                                            0.374066   \n",
       "NCOR1                                            0.276199   \n",
       "TXNRD1                                           3.287768   \n",
       "SPINK4                                           0.000000   \n",
       "\n",
       "          cy79_p1_CD45_neg_PDL1_neg_AS_C4_R1_D09_S141_comb  \\\n",
       "GENE                                                         \n",
       "C9orf152                                          0.000000   \n",
       "RPS11                                             4.639058   \n",
       "ELMO2                                             2.019346   \n",
       "CREB3L1                                           0.000000   \n",
       "PNMA1                                             0.000000   \n",
       "...                                                    ...   \n",
       "ABL1                                              0.000000   \n",
       "PTPRG                                             2.087123   \n",
       "NCOR1                                             2.635522   \n",
       "TXNRD1                                            2.183328   \n",
       "SPINK4                                            0.000000   \n",
       "\n",
       "          CY88_3_D02_S614_comb  \\\n",
       "GENE                             \n",
       "C9orf152              0.000000   \n",
       "RPS11                 7.655502   \n",
       "ELMO2                 0.136191   \n",
       "CREB3L1               0.000000   \n",
       "PNMA1                 2.873420   \n",
       "...                        ...   \n",
       "ABL1                  0.090853   \n",
       "PTPRG                 2.690194   \n",
       "NCOR1                 2.501057   \n",
       "TXNRD1                0.000000   \n",
       "SPINK4                0.000000   \n",
       "\n",
       "          cy79_p1_CD45_neg_PDL1_neg_AS_C4_R1_D06_S138_comb  \\\n",
       "GENE                                                         \n",
       "C9orf152                                          0.000000   \n",
       "RPS11                                             3.554834   \n",
       "ELMO2                                             0.000000   \n",
       "CREB3L1                                           0.000000   \n",
       "PNMA1                                             0.000000   \n",
       "...                                                    ...   \n",
       "ABL1                                              1.712816   \n",
       "PTPRG                                             0.000000   \n",
       "NCOR1                                             1.519542   \n",
       "TXNRD1                                            4.450155   \n",
       "SPINK4                                            0.000000   \n",
       "\n",
       "          cy53_1_CD45_neg_C06_S318_comb  ...  monika_C11_S119_comb_BCD8_3  \\\n",
       "GENE                                     ...                                \n",
       "C9orf152                       0.000000  ...                     0.000000   \n",
       "RPS11                          8.791371  ...                     8.116349   \n",
       "ELMO2                          1.724650  ...                     1.580145   \n",
       "CREB3L1                        0.000000  ...                     0.000000   \n",
       "PNMA1                          4.787694  ...                     0.000000   \n",
       "...                                 ...  ...                          ...   \n",
       "ABL1                           0.380729  ...                     0.000000   \n",
       "PTPRG                          0.000000  ...                     0.000000   \n",
       "NCOR1                          3.089837  ...                     4.490570   \n",
       "TXNRD1                         0.000000  ...                     0.000000   \n",
       "SPINK4                         0.000000  ...                     0.000000   \n",
       "\n",
       "          CY75_1_CD45_CD8_8__S331_comb_BCD8  \\\n",
       "GENE                                          \n",
       "C9orf152                           0.000000   \n",
       "RPS11                              5.756490   \n",
       "ELMO2                              0.000000   \n",
       "CREB3L1                            0.000000   \n",
       "PNMA1                              1.407081   \n",
       "...                                     ...   \n",
       "ABL1                               0.000000   \n",
       "PTPRG                              0.000000   \n",
       "NCOR1                              5.263973   \n",
       "TXNRD1                             0.000000   \n",
       "SPINK4                             0.000000   \n",
       "\n",
       "          CY75_1_CD45_CD8_7__S210_comb_BCD8  \\\n",
       "GENE                                          \n",
       "C9orf152                           0.000000   \n",
       "RPS11                              0.000000   \n",
       "ELMO2                              1.075875   \n",
       "CREB3L1                            0.000000   \n",
       "PNMA1                              0.000000   \n",
       "...                                     ...   \n",
       "ABL1                               0.000000   \n",
       "PTPRG                              0.000000   \n",
       "NCOR1                              4.975034   \n",
       "TXNRD1                             5.024984   \n",
       "SPINK4                             0.000000   \n",
       "\n",
       "          CY75_1_CD45_CD8_3__S142_comb_BCD8  \\\n",
       "GENE                                          \n",
       "C9orf152                           0.000000   \n",
       "RPS11                              5.258820   \n",
       "ELMO2                              0.000000   \n",
       "CREB3L1                            0.000000   \n",
       "PNMA1                              0.000000   \n",
       "...                                     ...   \n",
       "ABL1                               1.316146   \n",
       "PTPRG                              0.000000   \n",
       "NCOR1                              2.012569   \n",
       "TXNRD1                             4.457200   \n",
       "SPINK4                             0.000000   \n",
       "\n",
       "          CY75_1_CD45_CD8_7__S280_comb_BCD8  \\\n",
       "GENE                                          \n",
       "C9orf152                           0.000000   \n",
       "RPS11                              3.930454   \n",
       "ELMO2                              5.616211   \n",
       "CREB3L1                            0.000000   \n",
       "PNMA1                              0.000000   \n",
       "...                                     ...   \n",
       "ABL1                               0.000000   \n",
       "PTPRG                              0.000000   \n",
       "NCOR1                              0.000000   \n",
       "TXNRD1                             4.873173   \n",
       "SPINK4                             0.000000   \n",
       "\n",
       "          CY75_1_CD45_CD8_3__S168_comb_BCD8  \\\n",
       "GENE                                          \n",
       "C9orf152                           0.000000   \n",
       "RPS11                              5.945186   \n",
       "ELMO2                              0.000000   \n",
       "CREB3L1                            0.000000   \n",
       "PNMA1                              0.000000   \n",
       "...                                     ...   \n",
       "ABL1                               0.000000   \n",
       "PTPRG                              0.000000   \n",
       "NCOR1                              4.793011   \n",
       "TXNRD1                             0.000000   \n",
       "SPINK4                             0.000000   \n",
       "\n",
       "          CY75_1_CD45_CD8_8__S338_comb_BCD8  monika_D7_S132_comb_BCD8_3  \\\n",
       "GENE                                                                      \n",
       "C9orf152                           0.000000                    0.000000   \n",
       "RPS11                              6.661408                    6.792322   \n",
       "ELMO2                              0.000000                    0.000000   \n",
       "CREB3L1                            0.000000                    0.000000   \n",
       "PNMA1                              0.000000                    0.000000   \n",
       "...                                     ...                         ...   \n",
       "ABL1                               0.000000                    0.000000   \n",
       "PTPRG                              0.000000                    0.000000   \n",
       "NCOR1                              1.626205                    2.290129   \n",
       "TXNRD1                             0.000000                    0.000000   \n",
       "SPINK4                             0.000000                    0.000000   \n",
       "\n",
       "          CY75_1_CD45_CD8_8__S289_comb_BCD8  CY75_1_CD45_CD8_8__S351_comb_BCD8  \n",
       "GENE                                                                            \n",
       "C9orf152                           0.000000                           0.000000  \n",
       "RPS11                              0.000000                           4.820741  \n",
       "ELMO2                              0.000000                           6.166655  \n",
       "CREB3L1                            0.000000                           0.000000  \n",
       "PNMA1                              0.000000                           0.000000  \n",
       "...                                     ...                                ...  \n",
       "ABL1                               1.776946                           0.000000  \n",
       "PTPRG                              0.000000                           0.000000  \n",
       "NCOR1                              0.848798                           4.945608  \n",
       "TXNRD1                             0.000000                           0.000000  \n",
       "SPINK4                             0.000000                           0.000000  \n",
       "\n",
       "[1000 rows x 7186 columns]"
      ]
     },
     "execution_count": 5,
     "metadata": {},
     "output_type": "execute_result"
    }
   ],
   "source": [
    "df_norm_counts"
   ]
  },
  {
   "cell_type": "code",
   "execution_count": 8,
   "id": "b39962e6",
   "metadata": {},
   "outputs": [
    {
     "data": {
      "text/plain": [
       "cy129PA_CD45neg_CD90neg_S141           57.257051\n",
       "Cy72_CD45_H12_S864_comb                98.108289\n",
       "cy129PA_CD45neg_CD90neg_S174          116.703050\n",
       "cy129PA_CD45neg_CD90neg_S183          121.046204\n",
       "cy105_CD45neg_S268                    125.490928\n",
       "                                        ...     \n",
       "cy103_CD45neg_CD90neg_S150            935.554408\n",
       "cy88_cd_45_pos_H12_S480_comb          967.984099\n",
       "cy88_cd_45_pos_3_H12_S672_comb        981.659958\n",
       "CY88CD45POS_7_G05_S269_comb           994.409848\n",
       "CY75_1_CD45_CD8_8__S335_comb_BCD8    1037.724920\n",
       "Length: 7186, dtype: float64"
      ]
     },
     "execution_count": 8,
     "metadata": {},
     "output_type": "execute_result"
    }
   ],
   "source": [
    "df_norm_counts.sum(axis=0).sort_values()"
   ]
  },
  {
   "cell_type": "code",
   "execution_count": 7,
   "id": "dc30f95a",
   "metadata": {},
   "outputs": [
    {
     "data": {
      "text/plain": [
       "GENE\n",
       "MIR122           0.000000\n",
       "MIR548AU         0.000000\n",
       "RBMY1A1          0.000000\n",
       "MIR1976          0.000000\n",
       "MIR3180-3        0.000000\n",
       "                 ...     \n",
       "RPL27        46834.003584\n",
       "RPS11        51621.279726\n",
       "RPL4         54468.831850\n",
       "RPS18        61625.193538\n",
       "B2M          70456.239075\n",
       "Length: 1000, dtype: float64"
      ]
     },
     "execution_count": 7,
     "metadata": {},
     "output_type": "execute_result"
    }
   ],
   "source": [
    "df_norm_counts.sum(axis=1).sort_values()"
   ]
  },
  {
   "cell_type": "code",
   "execution_count": 9,
   "id": "2adc5cef",
   "metadata": {},
   "outputs": [],
   "source": [
    "import numpy as np"
   ]
  },
  {
   "cell_type": "code",
   "execution_count": 10,
   "id": "378d0980",
   "metadata": {},
   "outputs": [],
   "source": [
    "import plotly.express as px"
   ]
  },
  {
   "cell_type": "code",
   "execution_count": 11,
   "id": "4d7de755",
   "metadata": {},
   "outputs": [
    {
     "data": {
      "text/plain": [
       "cy78_CD45_neg_1_B04_S496_comb                      0.328\n",
       "cy79_p4_CD45_neg_PDL1_neg_E11_S1115_comb           0.088\n",
       "CY88_5_B10_S694_comb                               0.230\n",
       "cy79_p1_CD45_neg_PDL1_pos_AS_C1_R1_F07_S67_comb    0.232\n",
       "cy78_CD45_neg_3_H06_S762_comb                      0.304\n",
       "                                                   ...  \n",
       "CY75_1_CD45_CD8_3__S168_comb_BCD8                  0.153\n",
       "CY75_1_CD45_CD8_8__S338_comb_BCD8                  0.161\n",
       "monika_D7_S132_comb_BCD8_3                         0.191\n",
       "CY75_1_CD45_CD8_8__S289_comb_BCD8                  0.199\n",
       "CY75_1_CD45_CD8_8__S351_comb_BCD8                  0.175\n",
       "Length: 7186, dtype: float64"
      ]
     },
     "execution_count": 11,
     "metadata": {},
     "output_type": "execute_result"
    }
   ],
   "source": [
    "percent_nonzero = df_norm_counts.astype(bool).mean(axis=0)\n",
    "percent_nonzero"
   ]
  },
  {
   "cell_type": "code",
   "execution_count": null,
   "id": "bb1d49ff",
   "metadata": {},
   "outputs": [],
   "source": []
  },
  {
   "cell_type": "code",
   "execution_count": 13,
   "id": "b825070b",
   "metadata": {},
   "outputs": [
    {
     "data": {
      "application/vnd.plotly.v1+json": {
       "config": {
        "plotlyServerURL": "https://plot.ly"
       },
       "data": [
        {
         "alignmentgroup": "True",
         "hovertemplate": "variable=0<br>index=%{x}<br>value=%{y}<extra></extra>",
         "legendgroup": "0",
         "marker": {
          "color": "#636efa"
         },
         "name": "0",
         "offsetgroup": "0",
         "orientation": "v",
         "showlegend": true,
         "textposition": "auto",
         "type": "bar",
         "x": [
          "cy82_CD45_neg_3_D03_S807_comb",
          "cy58_1_CD45_pos_A09_S585_comb",
          "cy79_p3_CD45_pos_PD1_pos_AS_C2_R1_F03_S447_comb",
          "cy79_p3_CD45_pos_PD1_neg_B10_S118_comb",
          "CY89A_Core_15_E05_S53_comb",
          "cy79_p1_CD45_pos_PD1_neg_AS_C1_R2_C04_S508_comb",
          "cy105_CD45pos_calceinpos_S11",
          "cy80_CD45_pos_PD1_pos_F10_S166_comb",
          "CY89COREQ1_B07_S307_comb",
          "cy79_p3_CD45_pos_PD1_neg_C07_S127_comb",
          "cy79_p1_CD45_pos_PD1_pos_AS_C5_R1_C08_S224_comb",
          "cy88_cd_45_pos_F05_S449_comb",
          "cy74_CD45_pos_B10_S694_comb",
          "cy79_p3_CD45_neg_PDL1_neg_B08_S212_comb",
          "cy79_p3_CD45_pos_PD1_neg_G12_S180_comb",
          "merck_cd45pos_PL3_S329",
          "cy80_CD45_pos_PD1_pos_D07_S139_comb",
          "cy80_CD45_pos_PD1_pos_C06_S126_comb",
          "cy60_1_cd_45_pos_4_E10_S58_comb",
          "cy116_CD45pos_S311",
          "cy79_p3_CD45_pos_PD1_pos_AS_C2_R1_F02_S446_comb",
          "cy79_p5_CD45_pos_PD1_pos_C06_S606_comb",
          "cy102_CD45pos_S233",
          "MGH00478_CD45pos_2_S375",
          "cy112_CD45pos_S66",
          "cy80_CD45_pos_PD1_pos_E02_S146_comb",
          "Merck_CD45pos_pl4_S28",
          "merck_cd45pos_PL3_S293",
          "cy79_p5_CD45_neg_PDL1_pos_E02_S722_comb",
          "cy79_p5_CD45_pos_PD1_pos_H01_S661_comb",
          "CY89COREQ1_B04_S304_comb",
          "CY88CD45POS_7_G03_S267_comb",
          "cy79_p4_CD45_neg_PDL1_neg_F06_S1122_comb",
          "Merck_CD45pos_pl4_S94",
          "CY88CD45POS_2_B01_S397_comb",
          "CY75_1_CD45_CD8_8__S319_comb_BCD8",
          "merck_cd45pos_PL3_S350",
          "cy112_CD45pos_S335",
          "CY84_PRIM_POS_ALL_8_E07_S151_comb",
          "cy81_Bulk_CD45_neg_E02_S146_comb",
          "cy102_CD45pos_S155",
          "cy79_p5_CD45_neg_PDL1_neg_H07_S859_comb",
          "cy129PA_CD45neg_CD90neg_S182",
          "CY89CORE11_B08_S116_comb",
          "merck_cd45negcd90neg_PL3_S232",
          "cy102_CD45neg_CD90neg_S368",
          "cy78_CD45_neg_1_G05_S557_comb",
          "cy129PA_CD45neg_CD90neg_S97",
          "CY84_PRIM_POS_ALL_7_A01_S193_comb",
          "cy79_p1_CD45_pos_PD1_neg_AS_C1_R2_H12_S576_comb"
         ],
         "xaxis": "x",
         "y": [
          0.076,
          0.089,
          0.098,
          0.104,
          0.112,
          0.123,
          0.127,
          0.128,
          0.128,
          0.139,
          0.139,
          0.145,
          0.151,
          0.151,
          0.153,
          0.154,
          0.163,
          0.167,
          0.17,
          0.172,
          0.174,
          0.176,
          0.183,
          0.184,
          0.186,
          0.187,
          0.191,
          0.192,
          0.192,
          0.198,
          0.199,
          0.199,
          0.206,
          0.209,
          0.211,
          0.218,
          0.223,
          0.241,
          0.245,
          0.245,
          0.248,
          0.272,
          0.277,
          0.286,
          0.292,
          0.356,
          0.366,
          0.423,
          0.432,
          0.464
         ],
         "yaxis": "y"
        }
       ],
       "layout": {
        "barmode": "relative",
        "legend": {
         "title": {
          "text": "variable"
         },
         "tracegroupgap": 0
        },
        "margin": {
         "t": 60
        },
        "template": {
         "data": {
          "bar": [
           {
            "error_x": {
             "color": "#2a3f5f"
            },
            "error_y": {
             "color": "#2a3f5f"
            },
            "marker": {
             "line": {
              "color": "#E5ECF6",
              "width": 0.5
             }
            },
            "type": "bar"
           }
          ],
          "barpolar": [
           {
            "marker": {
             "line": {
              "color": "#E5ECF6",
              "width": 0.5
             }
            },
            "type": "barpolar"
           }
          ],
          "carpet": [
           {
            "aaxis": {
             "endlinecolor": "#2a3f5f",
             "gridcolor": "white",
             "linecolor": "white",
             "minorgridcolor": "white",
             "startlinecolor": "#2a3f5f"
            },
            "baxis": {
             "endlinecolor": "#2a3f5f",
             "gridcolor": "white",
             "linecolor": "white",
             "minorgridcolor": "white",
             "startlinecolor": "#2a3f5f"
            },
            "type": "carpet"
           }
          ],
          "choropleth": [
           {
            "colorbar": {
             "outlinewidth": 0,
             "ticks": ""
            },
            "type": "choropleth"
           }
          ],
          "contour": [
           {
            "colorbar": {
             "outlinewidth": 0,
             "ticks": ""
            },
            "colorscale": [
             [
              0,
              "#0d0887"
             ],
             [
              0.1111111111111111,
              "#46039f"
             ],
             [
              0.2222222222222222,
              "#7201a8"
             ],
             [
              0.3333333333333333,
              "#9c179e"
             ],
             [
              0.4444444444444444,
              "#bd3786"
             ],
             [
              0.5555555555555556,
              "#d8576b"
             ],
             [
              0.6666666666666666,
              "#ed7953"
             ],
             [
              0.7777777777777778,
              "#fb9f3a"
             ],
             [
              0.8888888888888888,
              "#fdca26"
             ],
             [
              1,
              "#f0f921"
             ]
            ],
            "type": "contour"
           }
          ],
          "contourcarpet": [
           {
            "colorbar": {
             "outlinewidth": 0,
             "ticks": ""
            },
            "type": "contourcarpet"
           }
          ],
          "heatmap": [
           {
            "colorbar": {
             "outlinewidth": 0,
             "ticks": ""
            },
            "colorscale": [
             [
              0,
              "#0d0887"
             ],
             [
              0.1111111111111111,
              "#46039f"
             ],
             [
              0.2222222222222222,
              "#7201a8"
             ],
             [
              0.3333333333333333,
              "#9c179e"
             ],
             [
              0.4444444444444444,
              "#bd3786"
             ],
             [
              0.5555555555555556,
              "#d8576b"
             ],
             [
              0.6666666666666666,
              "#ed7953"
             ],
             [
              0.7777777777777778,
              "#fb9f3a"
             ],
             [
              0.8888888888888888,
              "#fdca26"
             ],
             [
              1,
              "#f0f921"
             ]
            ],
            "type": "heatmap"
           }
          ],
          "heatmapgl": [
           {
            "colorbar": {
             "outlinewidth": 0,
             "ticks": ""
            },
            "colorscale": [
             [
              0,
              "#0d0887"
             ],
             [
              0.1111111111111111,
              "#46039f"
             ],
             [
              0.2222222222222222,
              "#7201a8"
             ],
             [
              0.3333333333333333,
              "#9c179e"
             ],
             [
              0.4444444444444444,
              "#bd3786"
             ],
             [
              0.5555555555555556,
              "#d8576b"
             ],
             [
              0.6666666666666666,
              "#ed7953"
             ],
             [
              0.7777777777777778,
              "#fb9f3a"
             ],
             [
              0.8888888888888888,
              "#fdca26"
             ],
             [
              1,
              "#f0f921"
             ]
            ],
            "type": "heatmapgl"
           }
          ],
          "histogram": [
           {
            "marker": {
             "colorbar": {
              "outlinewidth": 0,
              "ticks": ""
             }
            },
            "type": "histogram"
           }
          ],
          "histogram2d": [
           {
            "colorbar": {
             "outlinewidth": 0,
             "ticks": ""
            },
            "colorscale": [
             [
              0,
              "#0d0887"
             ],
             [
              0.1111111111111111,
              "#46039f"
             ],
             [
              0.2222222222222222,
              "#7201a8"
             ],
             [
              0.3333333333333333,
              "#9c179e"
             ],
             [
              0.4444444444444444,
              "#bd3786"
             ],
             [
              0.5555555555555556,
              "#d8576b"
             ],
             [
              0.6666666666666666,
              "#ed7953"
             ],
             [
              0.7777777777777778,
              "#fb9f3a"
             ],
             [
              0.8888888888888888,
              "#fdca26"
             ],
             [
              1,
              "#f0f921"
             ]
            ],
            "type": "histogram2d"
           }
          ],
          "histogram2dcontour": [
           {
            "colorbar": {
             "outlinewidth": 0,
             "ticks": ""
            },
            "colorscale": [
             [
              0,
              "#0d0887"
             ],
             [
              0.1111111111111111,
              "#46039f"
             ],
             [
              0.2222222222222222,
              "#7201a8"
             ],
             [
              0.3333333333333333,
              "#9c179e"
             ],
             [
              0.4444444444444444,
              "#bd3786"
             ],
             [
              0.5555555555555556,
              "#d8576b"
             ],
             [
              0.6666666666666666,
              "#ed7953"
             ],
             [
              0.7777777777777778,
              "#fb9f3a"
             ],
             [
              0.8888888888888888,
              "#fdca26"
             ],
             [
              1,
              "#f0f921"
             ]
            ],
            "type": "histogram2dcontour"
           }
          ],
          "mesh3d": [
           {
            "colorbar": {
             "outlinewidth": 0,
             "ticks": ""
            },
            "type": "mesh3d"
           }
          ],
          "parcoords": [
           {
            "line": {
             "colorbar": {
              "outlinewidth": 0,
              "ticks": ""
             }
            },
            "type": "parcoords"
           }
          ],
          "pie": [
           {
            "automargin": true,
            "type": "pie"
           }
          ],
          "scatter": [
           {
            "marker": {
             "colorbar": {
              "outlinewidth": 0,
              "ticks": ""
             }
            },
            "type": "scatter"
           }
          ],
          "scatter3d": [
           {
            "line": {
             "colorbar": {
              "outlinewidth": 0,
              "ticks": ""
             }
            },
            "marker": {
             "colorbar": {
              "outlinewidth": 0,
              "ticks": ""
             }
            },
            "type": "scatter3d"
           }
          ],
          "scattercarpet": [
           {
            "marker": {
             "colorbar": {
              "outlinewidth": 0,
              "ticks": ""
             }
            },
            "type": "scattercarpet"
           }
          ],
          "scattergeo": [
           {
            "marker": {
             "colorbar": {
              "outlinewidth": 0,
              "ticks": ""
             }
            },
            "type": "scattergeo"
           }
          ],
          "scattergl": [
           {
            "marker": {
             "colorbar": {
              "outlinewidth": 0,
              "ticks": ""
             }
            },
            "type": "scattergl"
           }
          ],
          "scattermapbox": [
           {
            "marker": {
             "colorbar": {
              "outlinewidth": 0,
              "ticks": ""
             }
            },
            "type": "scattermapbox"
           }
          ],
          "scatterpolar": [
           {
            "marker": {
             "colorbar": {
              "outlinewidth": 0,
              "ticks": ""
             }
            },
            "type": "scatterpolar"
           }
          ],
          "scatterpolargl": [
           {
            "marker": {
             "colorbar": {
              "outlinewidth": 0,
              "ticks": ""
             }
            },
            "type": "scatterpolargl"
           }
          ],
          "scatterternary": [
           {
            "marker": {
             "colorbar": {
              "outlinewidth": 0,
              "ticks": ""
             }
            },
            "type": "scatterternary"
           }
          ],
          "surface": [
           {
            "colorbar": {
             "outlinewidth": 0,
             "ticks": ""
            },
            "colorscale": [
             [
              0,
              "#0d0887"
             ],
             [
              0.1111111111111111,
              "#46039f"
             ],
             [
              0.2222222222222222,
              "#7201a8"
             ],
             [
              0.3333333333333333,
              "#9c179e"
             ],
             [
              0.4444444444444444,
              "#bd3786"
             ],
             [
              0.5555555555555556,
              "#d8576b"
             ],
             [
              0.6666666666666666,
              "#ed7953"
             ],
             [
              0.7777777777777778,
              "#fb9f3a"
             ],
             [
              0.8888888888888888,
              "#fdca26"
             ],
             [
              1,
              "#f0f921"
             ]
            ],
            "type": "surface"
           }
          ],
          "table": [
           {
            "cells": {
             "fill": {
              "color": "#EBF0F8"
             },
             "line": {
              "color": "white"
             }
            },
            "header": {
             "fill": {
              "color": "#C8D4E3"
             },
             "line": {
              "color": "white"
             }
            },
            "type": "table"
           }
          ]
         },
         "layout": {
          "annotationdefaults": {
           "arrowcolor": "#2a3f5f",
           "arrowhead": 0,
           "arrowwidth": 1
          },
          "autotypenumbers": "strict",
          "coloraxis": {
           "colorbar": {
            "outlinewidth": 0,
            "ticks": ""
           }
          },
          "colorscale": {
           "diverging": [
            [
             0,
             "#8e0152"
            ],
            [
             0.1,
             "#c51b7d"
            ],
            [
             0.2,
             "#de77ae"
            ],
            [
             0.3,
             "#f1b6da"
            ],
            [
             0.4,
             "#fde0ef"
            ],
            [
             0.5,
             "#f7f7f7"
            ],
            [
             0.6,
             "#e6f5d0"
            ],
            [
             0.7,
             "#b8e186"
            ],
            [
             0.8,
             "#7fbc41"
            ],
            [
             0.9,
             "#4d9221"
            ],
            [
             1,
             "#276419"
            ]
           ],
           "sequential": [
            [
             0,
             "#0d0887"
            ],
            [
             0.1111111111111111,
             "#46039f"
            ],
            [
             0.2222222222222222,
             "#7201a8"
            ],
            [
             0.3333333333333333,
             "#9c179e"
            ],
            [
             0.4444444444444444,
             "#bd3786"
            ],
            [
             0.5555555555555556,
             "#d8576b"
            ],
            [
             0.6666666666666666,
             "#ed7953"
            ],
            [
             0.7777777777777778,
             "#fb9f3a"
            ],
            [
             0.8888888888888888,
             "#fdca26"
            ],
            [
             1,
             "#f0f921"
            ]
           ],
           "sequentialminus": [
            [
             0,
             "#0d0887"
            ],
            [
             0.1111111111111111,
             "#46039f"
            ],
            [
             0.2222222222222222,
             "#7201a8"
            ],
            [
             0.3333333333333333,
             "#9c179e"
            ],
            [
             0.4444444444444444,
             "#bd3786"
            ],
            [
             0.5555555555555556,
             "#d8576b"
            ],
            [
             0.6666666666666666,
             "#ed7953"
            ],
            [
             0.7777777777777778,
             "#fb9f3a"
            ],
            [
             0.8888888888888888,
             "#fdca26"
            ],
            [
             1,
             "#f0f921"
            ]
           ]
          },
          "colorway": [
           "#636efa",
           "#EF553B",
           "#00cc96",
           "#ab63fa",
           "#FFA15A",
           "#19d3f3",
           "#FF6692",
           "#B6E880",
           "#FF97FF",
           "#FECB52"
          ],
          "font": {
           "color": "#2a3f5f"
          },
          "geo": {
           "bgcolor": "white",
           "lakecolor": "white",
           "landcolor": "#E5ECF6",
           "showlakes": true,
           "showland": true,
           "subunitcolor": "white"
          },
          "hoverlabel": {
           "align": "left"
          },
          "hovermode": "closest",
          "mapbox": {
           "style": "light"
          },
          "paper_bgcolor": "white",
          "plot_bgcolor": "#E5ECF6",
          "polar": {
           "angularaxis": {
            "gridcolor": "white",
            "linecolor": "white",
            "ticks": ""
           },
           "bgcolor": "#E5ECF6",
           "radialaxis": {
            "gridcolor": "white",
            "linecolor": "white",
            "ticks": ""
           }
          },
          "scene": {
           "xaxis": {
            "backgroundcolor": "#E5ECF6",
            "gridcolor": "white",
            "gridwidth": 2,
            "linecolor": "white",
            "showbackground": true,
            "ticks": "",
            "zerolinecolor": "white"
           },
           "yaxis": {
            "backgroundcolor": "#E5ECF6",
            "gridcolor": "white",
            "gridwidth": 2,
            "linecolor": "white",
            "showbackground": true,
            "ticks": "",
            "zerolinecolor": "white"
           },
           "zaxis": {
            "backgroundcolor": "#E5ECF6",
            "gridcolor": "white",
            "gridwidth": 2,
            "linecolor": "white",
            "showbackground": true,
            "ticks": "",
            "zerolinecolor": "white"
           }
          },
          "shapedefaults": {
           "line": {
            "color": "#2a3f5f"
           }
          },
          "ternary": {
           "aaxis": {
            "gridcolor": "white",
            "linecolor": "white",
            "ticks": ""
           },
           "baxis": {
            "gridcolor": "white",
            "linecolor": "white",
            "ticks": ""
           },
           "bgcolor": "#E5ECF6",
           "caxis": {
            "gridcolor": "white",
            "linecolor": "white",
            "ticks": ""
           }
          },
          "title": {
           "x": 0.05
          },
          "xaxis": {
           "automargin": true,
           "gridcolor": "white",
           "linecolor": "white",
           "ticks": "",
           "title": {
            "standoff": 15
           },
           "zerolinecolor": "white",
           "zerolinewidth": 2
          },
          "yaxis": {
           "automargin": true,
           "gridcolor": "white",
           "linecolor": "white",
           "ticks": "",
           "title": {
            "standoff": 15
           },
           "zerolinecolor": "white",
           "zerolinewidth": 2
          }
         }
        },
        "title": {
         "text": "Fraction of genes that are non-zero, per sc sample"
        },
        "xaxis": {
         "anchor": "y",
         "domain": [
          0,
          1
         ],
         "title": {
          "text": "index"
         }
        },
        "yaxis": {
         "anchor": "x",
         "domain": [
          0,
          1
         ],
         "range": [
          0,
          1
         ],
         "title": {
          "text": "value"
         }
        }
       }
      },
      "image/png": "[encoded data removed]"
     },
     "metadata": {},
     "output_type": "display_data"
    }
   ],
   "source": [
    "fig = px.bar(percent_nonzero.sample(n=50).sort_values())\n",
    "\n",
    "fig.update_layout(\n",
    "    title='Fraction of genes that are non-zero, per sc sample',\n",
    ")\n",
    "\n",
    "fig.update_yaxes(range=[0, 1])\n",
    "\n",
    "fig.show(renderer='jupyterlab+png')"
   ]
  },
  {
   "cell_type": "code",
   "execution_count": null,
   "id": "f6d433e7",
   "metadata": {},
   "outputs": [],
   "source": [
    "df_norm_counts.astype(bool).mean(axis=0).sort_values()"
   ]
  },
  {
   "cell_type": "code",
   "execution_count": null,
   "id": "750d6c60",
   "metadata": {},
   "outputs": [],
   "source": [
    "px.bar(df_norm_counts['cy81_FNA_CD45_neg_H02_S1046_comb'])"
   ]
  },
  {
   "cell_type": "code",
   "execution_count": null,
   "id": "60493e91",
   "metadata": {},
   "outputs": [],
   "source": []
  }
 ],
 "metadata": {
  "environment": {
   "name": "tf2-gpu.2-5.m71",
   "type": "gcloud",
   "uri": "gcr.io/deeplearning-platform-release/tf2-gpu.2-5:m71"
  },
  "kernelspec": {
   "display_name": "Python 3",
   "language": "python",
   "name": "python3"
  },
  "language_info": {
   "codemirror_mode": {
    "name": "ipython",
    "version": 3
   },
   "file_extension": ".py",
   "mimetype": "text/x-python",
   "name": "python",
   "nbconvert_exporter": "python",
   "pygments_lexer": "ipython3",
   "version": "3.7.10"
  }
 },
 "nbformat": 4,
 "nbformat_minor": 5
}
