{
 "cells": [
  {
   "cell_type": "code",
   "execution_count": 1,
   "id": "735684ee",
   "metadata": {},
   "outputs": [],
   "source": [
    "import os\n",
    "\n",
    "import pandas as pd"
   ]
  },
  {
   "cell_type": "code",
   "execution_count": 2,
   "id": "24c09530",
   "metadata": {},
   "outputs": [
    {
     "name": "stdout",
     "output_type": "stream",
     "text": [
      "2021/07/07 16:06:46.428528 Using mount point: /home/jupyter/mnt/liulab\n",
      "2021/07/07 16:06:46.434810 Opening GCS connection...\n",
      "2021/07/07 16:06:46.684073 Mounting file system \"liulab\"...\n",
      "2021/07/07 16:06:46.685599 File system has been successfully mounted.\n"
     ]
    }
   ],
   "source": [
    "# mount google bucket\n",
    "!mkdir -p ~/mnt/liulab\n",
    "!fusermount -u ~/mnt/liulab\n",
    "!gcsfuse --implicit-dirs liulab ~/mnt/liulab"
   ]
  },
  {
   "cell_type": "code",
   "execution_count": 3,
   "id": "fb50e910",
   "metadata": {},
   "outputs": [
    {
     "name": "stdout",
     "output_type": "stream",
     "text": [
      "\u001b[01;34m/home/jupyter/mnt/liulab/derek/simulations/experiments/cibersortx_all_genes\u001b[00m\n",
      "├── [ 20K]  CIBERSORTxGEP_Job3_Fractions-Adjusted.txt\n",
      "├── [1.6M]  CIBERSORTxGEP_Job3_GEPs.txt\n",
      "├── [2.5M]  CIBERSORTxGEP_Job3_GEPs_CVs.txt\n",
      "├── [977K]  CIBERSORTxGEP_Job3_GEPs_Filtered.txt\n",
      "├── [1.7M]  CIBERSORTxGEP_Job3_GEPs_Pvals.txt\n",
      "├── [831K]  CIBERSORTxGEP_Job3_GEPs_Qvals.txt\n",
      "├── [2.4M]  CIBERSORTxGEP_Job3_GEPs_StdErrs.txt\n",
      "├── [ 46K]  \u001b[01;35mCIBERSORTxGEP_Job3_GEPs_ThresholdPlots.jpg\u001b[00m\n",
      "├── [507K]  CIBERSORTxGEP_Job3_GEPs_ThresholdPlots.pdf\n",
      "├── [5.0M]  CIBERSORTxGEP_Job3_Mixture-Adjusted.txt\n",
      "├── [977K]  CIBERSORTxGEP_Job3_SM_GEPs_Filtered.txt\n",
      "├── [ 18K]  CIBERSORTxGEP_Job3_Weights.txt\n",
      "├── [5.4M]  CIBERSORTxHiRes_Job3_Bcells_Window32.txt\n",
      "├── [6.9M]  CIBERSORTxHiRes_Job3_CAF_Window32.txt\n",
      "├── [6.4M]  CIBERSORTxHiRes_Job3_Endothelialcells_Window32.txt\n",
      "├── [ 20K]  CIBERSORTxHiRes_Job3_Heatmap_Bcells_Window32.png\n",
      "├── [ 24K]  CIBERSORTxHiRes_Job3_Heatmap_CAF_Window32.png\n",
      "├── [ 20K]  CIBERSORTxHiRes_Job3_Heatmap_Endothelialcells_Window32.png\n",
      "├── [200K]  CIBERSORTxHiRes_Job3_Heatmap_Malignant_Window32.png\n",
      "├── [ 22K]  CIBERSORTxHiRes_Job3_Heatmap_TcellsCD4_Window32.png\n",
      "├── [ 31K]  CIBERSORTxHiRes_Job3_Heatmap_TcellsCD8_Window32.png\n",
      "├── [5.0M]  CIBERSORTxHiRes_Job3_Macrophages_Window32.txt\n",
      "├── [ 17M]  CIBERSORTxHiRes_Job3_Malignant_Window32.txt\n",
      "├── [3.7M]  CIBERSORTxHiRes_Job3_NKcells_Window32.txt\n",
      "├── [5.0M]  CIBERSORTxHiRes_Job3_TcellsCD4_Window32.txt\n",
      "├── [7.2M]  CIBERSORTxHiRes_Job3_TcellsCD8_Window32.txt\n",
      "├── [ 449]  CIBERSORTx_Job3_error_log.txt\n",
      "├── [3.0K]  CIBERSORTx_Job3_runtime_log.txt\n",
      "└── [4.3K]  README_HiRes.txt\n",
      "\n",
      "0 directories, 29 files\n"
     ]
    }
   ],
   "source": [
    "# see what's there\n",
    "!tree -h -L 2 /home/jupyter/mnt/liulab/derek/simulations/experiments/cibersortx_all_genes"
   ]
  },
  {
   "cell_type": "code",
   "execution_count": 4,
   "id": "7303247d",
   "metadata": {},
   "outputs": [],
   "source": [
    "df_cell_type_proportions = pd.read_csv(\n",
    "    filepath_or_buffer='./data/downloaded_manually/derek_ctp.csv',\n",
    "    index_col=0,\n",
    ").rename(columns={\n",
    "    'Malignant.cell': 'malignant',\n",
    "    'Endothelial.cell': 'endothelial',\n",
    "    'CAF': 'CAF',\n",
    "    'T.CD8': 'T CD8+',\n",
    "    'NK': 'NK',\n",
    "    'Macrophage': 'macrophage',\n",
    "    'T.CD4': 'T CD4+',\n",
    "    'B.cell': 'B'\n",
    "})"
   ]
  },
  {
   "cell_type": "code",
   "execution_count": 5,
   "id": "45627cd8",
   "metadata": {},
   "outputs": [
    {
     "data": {
      "text/html": [
       "<div>\n",
       "<style scoped>\n",
       "    .dataframe tbody tr th:only-of-type {\n",
       "        vertical-align: middle;\n",
       "    }\n",
       "\n",
       "    .dataframe tbody tr th {\n",
       "        vertical-align: top;\n",
       "    }\n",
       "\n",
       "    .dataframe thead th {\n",
       "        text-align: right;\n",
       "    }\n",
       "</style>\n",
       "<table border=\"1\" class=\"dataframe\">\n",
       "  <thead>\n",
       "    <tr style=\"text-align: right;\">\n",
       "      <th></th>\n",
       "      <th>malignant</th>\n",
       "      <th>endothelial</th>\n",
       "      <th>CAF</th>\n",
       "      <th>T CD8+</th>\n",
       "      <th>NK</th>\n",
       "      <th>macrophage</th>\n",
       "      <th>T CD4+</th>\n",
       "      <th>B</th>\n",
       "    </tr>\n",
       "  </thead>\n",
       "  <tbody>\n",
       "    <tr>\n",
       "      <th>1</th>\n",
       "      <td>0.274</td>\n",
       "      <td>0.080697</td>\n",
       "      <td>0.140275</td>\n",
       "      <td>0.037578</td>\n",
       "      <td>0.051757</td>\n",
       "      <td>0.066721</td>\n",
       "      <td>0.226917</td>\n",
       "      <td>0.122056</td>\n",
       "    </tr>\n",
       "    <tr>\n",
       "      <th>2</th>\n",
       "      <td>0.761</td>\n",
       "      <td>0.026566</td>\n",
       "      <td>0.046179</td>\n",
       "      <td>0.012371</td>\n",
       "      <td>0.017038</td>\n",
       "      <td>0.021965</td>\n",
       "      <td>0.074701</td>\n",
       "      <td>0.040181</td>\n",
       "    </tr>\n",
       "    <tr>\n",
       "      <th>3</th>\n",
       "      <td>0.843</td>\n",
       "      <td>0.017451</td>\n",
       "      <td>0.030335</td>\n",
       "      <td>0.008126</td>\n",
       "      <td>0.011193</td>\n",
       "      <td>0.014429</td>\n",
       "      <td>0.049072</td>\n",
       "      <td>0.026395</td>\n",
       "    </tr>\n",
       "    <tr>\n",
       "      <th>4</th>\n",
       "      <td>0.739</td>\n",
       "      <td>0.029011</td>\n",
       "      <td>0.050429</td>\n",
       "      <td>0.013509</td>\n",
       "      <td>0.018607</td>\n",
       "      <td>0.023986</td>\n",
       "      <td>0.081578</td>\n",
       "      <td>0.043880</td>\n",
       "    </tr>\n",
       "    <tr>\n",
       "      <th>5</th>\n",
       "      <td>0.710</td>\n",
       "      <td>0.032234</td>\n",
       "      <td>0.056033</td>\n",
       "      <td>0.015010</td>\n",
       "      <td>0.020674</td>\n",
       "      <td>0.026651</td>\n",
       "      <td>0.090642</td>\n",
       "      <td>0.048755</td>\n",
       "    </tr>\n",
       "    <tr>\n",
       "      <th>...</th>\n",
       "      <td>...</td>\n",
       "      <td>...</td>\n",
       "      <td>...</td>\n",
       "      <td>...</td>\n",
       "      <td>...</td>\n",
       "      <td>...</td>\n",
       "      <td>...</td>\n",
       "      <td>...</td>\n",
       "    </tr>\n",
       "    <tr>\n",
       "      <th>96</th>\n",
       "      <td>0.741</td>\n",
       "      <td>0.028789</td>\n",
       "      <td>0.050043</td>\n",
       "      <td>0.013406</td>\n",
       "      <td>0.018464</td>\n",
       "      <td>0.023803</td>\n",
       "      <td>0.080953</td>\n",
       "      <td>0.043543</td>\n",
       "    </tr>\n",
       "    <tr>\n",
       "      <th>97</th>\n",
       "      <td>0.717</td>\n",
       "      <td>0.031456</td>\n",
       "      <td>0.054680</td>\n",
       "      <td>0.014648</td>\n",
       "      <td>0.020175</td>\n",
       "      <td>0.026008</td>\n",
       "      <td>0.088454</td>\n",
       "      <td>0.047578</td>\n",
       "    </tr>\n",
       "    <tr>\n",
       "      <th>98</th>\n",
       "      <td>0.877</td>\n",
       "      <td>0.013672</td>\n",
       "      <td>0.023766</td>\n",
       "      <td>0.006366</td>\n",
       "      <td>0.008769</td>\n",
       "      <td>0.011304</td>\n",
       "      <td>0.038445</td>\n",
       "      <td>0.020679</td>\n",
       "    </tr>\n",
       "    <tr>\n",
       "      <th>99</th>\n",
       "      <td>0.838</td>\n",
       "      <td>0.018007</td>\n",
       "      <td>0.031301</td>\n",
       "      <td>0.008385</td>\n",
       "      <td>0.011549</td>\n",
       "      <td>0.014888</td>\n",
       "      <td>0.050634</td>\n",
       "      <td>0.027236</td>\n",
       "    </tr>\n",
       "    <tr>\n",
       "      <th>100</th>\n",
       "      <td>0.660</td>\n",
       "      <td>0.037792</td>\n",
       "      <td>0.065694</td>\n",
       "      <td>0.017598</td>\n",
       "      <td>0.024239</td>\n",
       "      <td>0.031247</td>\n",
       "      <td>0.106270</td>\n",
       "      <td>0.057161</td>\n",
       "    </tr>\n",
       "  </tbody>\n",
       "</table>\n",
       "<p>100 rows × 8 columns</p>\n",
       "</div>"
      ],
      "text/plain": [
       "     malignant  endothelial       CAF    T CD8+        NK  macrophage  \\\n",
       "1        0.274     0.080697  0.140275  0.037578  0.051757    0.066721   \n",
       "2        0.761     0.026566  0.046179  0.012371  0.017038    0.021965   \n",
       "3        0.843     0.017451  0.030335  0.008126  0.011193    0.014429   \n",
       "4        0.739     0.029011  0.050429  0.013509  0.018607    0.023986   \n",
       "5        0.710     0.032234  0.056033  0.015010  0.020674    0.026651   \n",
       "..         ...          ...       ...       ...       ...         ...   \n",
       "96       0.741     0.028789  0.050043  0.013406  0.018464    0.023803   \n",
       "97       0.717     0.031456  0.054680  0.014648  0.020175    0.026008   \n",
       "98       0.877     0.013672  0.023766  0.006366  0.008769    0.011304   \n",
       "99       0.838     0.018007  0.031301  0.008385  0.011549    0.014888   \n",
       "100      0.660     0.037792  0.065694  0.017598  0.024239    0.031247   \n",
       "\n",
       "       T CD4+         B  \n",
       "1    0.226917  0.122056  \n",
       "2    0.074701  0.040181  \n",
       "3    0.049072  0.026395  \n",
       "4    0.081578  0.043880  \n",
       "5    0.090642  0.048755  \n",
       "..        ...       ...  \n",
       "96   0.080953  0.043543  \n",
       "97   0.088454  0.047578  \n",
       "98   0.038445  0.020679  \n",
       "99   0.050634  0.027236  \n",
       "100  0.106270  0.057161  \n",
       "\n",
       "[100 rows x 8 columns]"
      ]
     },
     "execution_count": 5,
     "metadata": {},
     "output_type": "execute_result"
    }
   ],
   "source": [
    "df_cell_type_proportions"
   ]
  },
  {
   "cell_type": "code",
   "execution_count": 6,
   "id": "31aa72cf",
   "metadata": {},
   "outputs": [
    {
     "name": "stdout",
     "output_type": "stream",
     "text": [
      "/home/jupyter/mnt/liulab/derek/simulations/experiments/generate_cohorts_for_emma/ctp_sim_0.5sd.txt\n",
      "/home/jupyter/mnt/liulab/derek/simulations/experiments/generate_cohorts_for_emma/ctp_sim_1sd.txt\n",
      "/home/jupyter/mnt/liulab/derek/simulations/experiments/generate_cohorts_for_emma/ctp_sim_2sd.txt\n"
     ]
    }
   ],
   "source": [
    "!find /home/jupyter/mnt/liulab/derek -name \"*ctp*\""
   ]
  },
  {
   "cell_type": "code",
   "execution_count": 7,
   "id": "1219632a",
   "metadata": {},
   "outputs": [
    {
     "data": {
      "text/html": [
       "<div>\n",
       "<style scoped>\n",
       "    .dataframe tbody tr th:only-of-type {\n",
       "        vertical-align: middle;\n",
       "    }\n",
       "\n",
       "    .dataframe tbody tr th {\n",
       "        vertical-align: top;\n",
       "    }\n",
       "\n",
       "    .dataframe thead th {\n",
       "        text-align: right;\n",
       "    }\n",
       "</style>\n",
       "<table border=\"1\" class=\"dataframe\">\n",
       "  <thead>\n",
       "    <tr style=\"text-align: right;\">\n",
       "      <th></th>\n",
       "      <th>Malignant.cell</th>\n",
       "      <th>Endothelial.cell</th>\n",
       "      <th>CAF</th>\n",
       "      <th>T.CD8</th>\n",
       "      <th>NK</th>\n",
       "      <th>Macrophage</th>\n",
       "      <th>T.CD4</th>\n",
       "      <th>B.cell</th>\n",
       "    </tr>\n",
       "  </thead>\n",
       "  <tbody>\n",
       "    <tr>\n",
       "      <th>1</th>\n",
       "      <td>0.274</td>\n",
       "      <td>0.080697</td>\n",
       "      <td>0.140275</td>\n",
       "      <td>0.037578</td>\n",
       "      <td>0.051757</td>\n",
       "      <td>0.066721</td>\n",
       "      <td>0.226917</td>\n",
       "      <td>0.122056</td>\n",
       "    </tr>\n",
       "    <tr>\n",
       "      <th>2</th>\n",
       "      <td>0.761</td>\n",
       "      <td>0.026566</td>\n",
       "      <td>0.046179</td>\n",
       "      <td>0.012371</td>\n",
       "      <td>0.017038</td>\n",
       "      <td>0.021965</td>\n",
       "      <td>0.074701</td>\n",
       "      <td>0.040181</td>\n",
       "    </tr>\n",
       "    <tr>\n",
       "      <th>3</th>\n",
       "      <td>0.843</td>\n",
       "      <td>0.017451</td>\n",
       "      <td>0.030335</td>\n",
       "      <td>0.008126</td>\n",
       "      <td>0.011193</td>\n",
       "      <td>0.014429</td>\n",
       "      <td>0.049072</td>\n",
       "      <td>0.026395</td>\n",
       "    </tr>\n",
       "    <tr>\n",
       "      <th>4</th>\n",
       "      <td>0.739</td>\n",
       "      <td>0.029011</td>\n",
       "      <td>0.050429</td>\n",
       "      <td>0.013509</td>\n",
       "      <td>0.018607</td>\n",
       "      <td>0.023986</td>\n",
       "      <td>0.081578</td>\n",
       "      <td>0.043880</td>\n",
       "    </tr>\n",
       "    <tr>\n",
       "      <th>5</th>\n",
       "      <td>0.710</td>\n",
       "      <td>0.032234</td>\n",
       "      <td>0.056033</td>\n",
       "      <td>0.015010</td>\n",
       "      <td>0.020674</td>\n",
       "      <td>0.026651</td>\n",
       "      <td>0.090642</td>\n",
       "      <td>0.048755</td>\n",
       "    </tr>\n",
       "    <tr>\n",
       "      <th>...</th>\n",
       "      <td>...</td>\n",
       "      <td>...</td>\n",
       "      <td>...</td>\n",
       "      <td>...</td>\n",
       "      <td>...</td>\n",
       "      <td>...</td>\n",
       "      <td>...</td>\n",
       "      <td>...</td>\n",
       "    </tr>\n",
       "    <tr>\n",
       "      <th>96</th>\n",
       "      <td>0.741</td>\n",
       "      <td>0.028789</td>\n",
       "      <td>0.050043</td>\n",
       "      <td>0.013406</td>\n",
       "      <td>0.018464</td>\n",
       "      <td>0.023803</td>\n",
       "      <td>0.080953</td>\n",
       "      <td>0.043543</td>\n",
       "    </tr>\n",
       "    <tr>\n",
       "      <th>97</th>\n",
       "      <td>0.717</td>\n",
       "      <td>0.031456</td>\n",
       "      <td>0.054680</td>\n",
       "      <td>0.014648</td>\n",
       "      <td>0.020175</td>\n",
       "      <td>0.026008</td>\n",
       "      <td>0.088454</td>\n",
       "      <td>0.047578</td>\n",
       "    </tr>\n",
       "    <tr>\n",
       "      <th>98</th>\n",
       "      <td>0.877</td>\n",
       "      <td>0.013672</td>\n",
       "      <td>0.023766</td>\n",
       "      <td>0.006366</td>\n",
       "      <td>0.008769</td>\n",
       "      <td>0.011304</td>\n",
       "      <td>0.038445</td>\n",
       "      <td>0.020679</td>\n",
       "    </tr>\n",
       "    <tr>\n",
       "      <th>99</th>\n",
       "      <td>0.838</td>\n",
       "      <td>0.018007</td>\n",
       "      <td>0.031301</td>\n",
       "      <td>0.008385</td>\n",
       "      <td>0.011549</td>\n",
       "      <td>0.014888</td>\n",
       "      <td>0.050634</td>\n",
       "      <td>0.027236</td>\n",
       "    </tr>\n",
       "    <tr>\n",
       "      <th>100</th>\n",
       "      <td>0.660</td>\n",
       "      <td>0.037792</td>\n",
       "      <td>0.065694</td>\n",
       "      <td>0.017598</td>\n",
       "      <td>0.024239</td>\n",
       "      <td>0.031247</td>\n",
       "      <td>0.106270</td>\n",
       "      <td>0.057161</td>\n",
       "    </tr>\n",
       "  </tbody>\n",
       "</table>\n",
       "<p>100 rows × 8 columns</p>\n",
       "</div>"
      ],
      "text/plain": [
       "     Malignant.cell  Endothelial.cell       CAF     T.CD8        NK  \\\n",
       "1             0.274          0.080697  0.140275  0.037578  0.051757   \n",
       "2             0.761          0.026566  0.046179  0.012371  0.017038   \n",
       "3             0.843          0.017451  0.030335  0.008126  0.011193   \n",
       "4             0.739          0.029011  0.050429  0.013509  0.018607   \n",
       "5             0.710          0.032234  0.056033  0.015010  0.020674   \n",
       "..              ...               ...       ...       ...       ...   \n",
       "96            0.741          0.028789  0.050043  0.013406  0.018464   \n",
       "97            0.717          0.031456  0.054680  0.014648  0.020175   \n",
       "98            0.877          0.013672  0.023766  0.006366  0.008769   \n",
       "99            0.838          0.018007  0.031301  0.008385  0.011549   \n",
       "100           0.660          0.037792  0.065694  0.017598  0.024239   \n",
       "\n",
       "     Macrophage     T.CD4    B.cell  \n",
       "1      0.066721  0.226917  0.122056  \n",
       "2      0.021965  0.074701  0.040181  \n",
       "3      0.014429  0.049072  0.026395  \n",
       "4      0.023986  0.081578  0.043880  \n",
       "5      0.026651  0.090642  0.048755  \n",
       "..          ...       ...       ...  \n",
       "96     0.023803  0.080953  0.043543  \n",
       "97     0.026008  0.088454  0.047578  \n",
       "98     0.011304  0.038445  0.020679  \n",
       "99     0.014888  0.050634  0.027236  \n",
       "100    0.031247  0.106270  0.057161  \n",
       "\n",
       "[100 rows x 8 columns]"
      ]
     },
     "execution_count": 7,
     "metadata": {},
     "output_type": "execute_result"
    }
   ],
   "source": [
    "pd.read_csv(\n",
    "    filepath_or_buffer='./data/downloaded_manually/derek_ctp.csv',\n",
    "    index_col=0,\n",
    ")"
   ]
  },
  {
   "cell_type": "code",
   "execution_count": null,
   "id": "81291514",
   "metadata": {},
   "outputs": [],
   "source": [
    "import glob"
   ]
  },
  {
   "cell_type": "code",
   "execution_count": null,
   "id": "7a4cf59c",
   "metadata": {},
   "outputs": [],
   "source": [
    "for filepath in glob.iglob('/home/jupyter/mnt/liulab/derek/**/*ctp*', recursive = True):\n",
    "    print(filepath)\n",
    "    print(\".\" * 100)\n",
    "    print(pd.read_csv(filepath, sep=\"\\t\").head(3))\n",
    "    print(\"=\" * 100)"
   ]
  },
  {
   "cell_type": "code",
   "execution_count": null,
   "id": "d256afd2",
   "metadata": {},
   "outputs": [],
   "source": [
    "# !find /home/jupyter/mnt/liulab/derek -name \"CIBERSORTxGEP*\"\n",
    "\n",
    "# pattern = '/home/jupyter/mnt/liulab/derek/**/*sd*/CIBERSORTxGEP*txt'\n",
    "# pattern = \"/home/jupyter/mnt/liulab/derek/simulations/experiments/cibersortx/cibersortx_sim_2sd/CIBERSORTxGEP_*txt\"\n",
    "pattern = \"/home/jupyter/mnt/liulab/derek/simulations/experiments/cibersortx/cibersortx_sim_0.5sd/*txt\"\n",
    "\n",
    "for filepath in glob.iglob(pattern, recursive = True):\n",
    "    print(filepath)\n",
    "    print(\".\" * 100)\n",
    "    try:\n",
    "        print(pd.read_csv(filepath, sep=\"\\t\").head(3))\n",
    "        print(\"=\" * 100)\n",
    "    except:\n",
    "        continue"
   ]
  },
  {
   "cell_type": "code",
   "execution_count": null,
   "id": "ae710eba",
   "metadata": {},
   "outputs": [],
   "source": []
  },
  {
   "cell_type": "code",
   "execution_count": null,
   "id": "5c4ed4aa",
   "metadata": {},
   "outputs": [],
   "source": [
    "!tree -h '/home/jupyter/mnt/liulab/derek/simulations/experiments/cibersortx/cibersortx_sim_0.5sd'"
   ]
  },
  {
   "cell_type": "markdown",
   "id": "29b69126",
   "metadata": {},
   "source": [
    "# look at similation setup files"
   ]
  },
  {
   "cell_type": "code",
   "execution_count": null,
   "id": "0e650625",
   "metadata": {},
   "outputs": [],
   "source": [
    "pd.read_csv(\n",
    "    '/home/jupyter/mnt/liulab/derek/simulations/experiments/cibersortx_sim_0.5sd.txt',\n",
    "    sep='\\t',\n",
    "    index_col='Gene',\n",
    ").sort_index()"
   ]
  },
  {
   "cell_type": "code",
   "execution_count": null,
   "id": "63338f00",
   "metadata": {},
   "outputs": [],
   "source": [
    "pd.read_csv(\n",
    "    '/home/jupyter/mnt/liulab/derek/simulations/experiments/generate_cohorts_for_emma/sim_0.5sd.txt',\n",
    "    sep='\\t'\n",
    ").sort_index()"
   ]
  },
  {
   "cell_type": "code",
   "execution_count": null,
   "id": "d7cdb676",
   "metadata": {},
   "outputs": [],
   "source": [
    "pd.read_csv(\n",
    "    '/home/jupyter/mnt/liulab/derek/simulations/experiments/generate_cohorts_for_emma/ctp_sim_0.5sd.txt',\n",
    "    sep='\\t'\n",
    ")"
   ]
  },
  {
   "cell_type": "markdown",
   "id": "3d861cf7",
   "metadata": {},
   "source": [
    "### compare with predictions from CIBERSORTx"
   ]
  },
  {
   "cell_type": "code",
   "execution_count": null,
   "id": "c1cbdae7",
   "metadata": {},
   "outputs": [],
   "source": [
    "# fp = \"/home/jupyter/mnt/liulab/derek/simulations/experiments/cibersortx/cibersortx_sim_0.5sd/CIBERSORTxGEP_Job3_Weights.txt\"\n",
    "fp = \"/home/jupyter/mnt/liulab/derek/simulations/experiments/cibersortx/cibersortx_sim_0.5sd/CIBERSORTxGEP_Job3_Fractions-Adjusted.txt\"\n",
    "\n",
    "pd.read_csv(fp, sep=\"\\t\", index_col=\"Mixture\")"
   ]
  },
  {
   "cell_type": "code",
   "execution_count": null,
   "id": "2b805b4b",
   "metadata": {},
   "outputs": [],
   "source": [
    "pd.read_csv(\n",
    "    '/home/jupyter/mnt/liulab/derek/simulations/experiments/cibersortx/cibersortx_sim_0.5sd/CIBERSORTxGEP_Job3_GEPs.txt',\n",
    "    sep='\\t',\n",
    "    index_col='GeneSymbol'\n",
    ").sort_index()"
   ]
  },
  {
   "cell_type": "code",
   "execution_count": null,
   "id": "3bad3fc5",
   "metadata": {},
   "outputs": [],
   "source": [
    "import glob"
   ]
  },
  {
   "cell_type": "code",
   "execution_count": null,
   "id": "9bb6fbd0",
   "metadata": {},
   "outputs": [],
   "source": [
    "for filename in glob.iglob('/home/jupyter/mnt/liulab/derek/**/*ctp*', recursive = True):\n",
    "    print(filename)\n",
    "    print(pd.read_csv(filename, sep=\"\\t\").loc[0:4])"
   ]
  },
  {
   "cell_type": "markdown",
   "id": "2dea0c42",
   "metadata": {},
   "source": [
    "# inspect experiments/cibersortx_all_genes"
   ]
  },
  {
   "cell_type": "code",
   "execution_count": null,
   "id": "7eb22a2a",
   "metadata": {},
   "outputs": [],
   "source": [
    "!ls -l \"/home/jupyter/mnt/liulab/derek/simulations/experiments/cibersortx_all_genes\""
   ]
  },
  {
   "cell_type": "code",
   "execution_count": null,
   "id": "ec78a9c0",
   "metadata": {},
   "outputs": [],
   "source": [
    "!find /home/jupyter/mnt/liulab/derek -name \"ctp*txt\""
   ]
  },
  {
   "cell_type": "code",
   "execution_count": null,
   "id": "3a951113",
   "metadata": {},
   "outputs": [],
   "source": [
    "df_norm_counts.dtypes"
   ]
  },
  {
   "cell_type": "code",
   "execution_count": null,
   "id": "955e6146",
   "metadata": {},
   "outputs": [],
   "source": [
    "df_norm_counts"
   ]
  },
  {
   "cell_type": "code",
   "execution_count": null,
   "id": "e46527f7",
   "metadata": {},
   "outputs": [],
   "source": [
    "df_norm_counts.sum(axis=0).sort_values()"
   ]
  },
  {
   "cell_type": "code",
   "execution_count": null,
   "id": "13a952e5",
   "metadata": {},
   "outputs": [],
   "source": [
    "df_norm_counts.sum(axis=1).sort_values()"
   ]
  },
  {
   "cell_type": "code",
   "execution_count": null,
   "id": "574b90e8",
   "metadata": {},
   "outputs": [],
   "source": [
    "import numpy as np"
   ]
  },
  {
   "cell_type": "code",
   "execution_count": null,
   "id": "4a09d7b2",
   "metadata": {},
   "outputs": [],
   "source": [
    "import plotly.express as px"
   ]
  },
  {
   "cell_type": "code",
   "execution_count": null,
   "id": "dcdc2105",
   "metadata": {},
   "outputs": [],
   "source": [
    "percent_nonzero = df_norm_counts.astype(bool).mean(axis=0)\n",
    "percent_nonzero"
   ]
  },
  {
   "cell_type": "code",
   "execution_count": null,
   "id": "5ae162e5",
   "metadata": {},
   "outputs": [],
   "source": []
  },
  {
   "cell_type": "code",
   "execution_count": null,
   "id": "82d37815",
   "metadata": {},
   "outputs": [],
   "source": [
    "fig = px.bar(percent_nonzero.sample(n=50).sort_values())\n",
    "\n",
    "fig.update_layout(\n",
    "    title='Fraction of genes that are non-zero, per sc sample',\n",
    ")\n",
    "\n",
    "fig.update_yaxes(range=[0, 1])\n",
    "\n",
    "fig.show(renderer='jupyterlab+png')"
   ]
  },
  {
   "cell_type": "code",
   "execution_count": null,
   "id": "4869bbeb",
   "metadata": {},
   "outputs": [],
   "source": [
    "df_norm_counts.astype(bool).mean(axis=0).sort_values()"
   ]
  },
  {
   "cell_type": "code",
   "execution_count": null,
   "id": "45ccaa69",
   "metadata": {},
   "outputs": [],
   "source": [
    "px.bar(df_norm_counts['cy81_FNA_CD45_neg_H02_S1046_comb'])"
   ]
  },
  {
   "cell_type": "code",
   "execution_count": null,
   "id": "b3b53c0b",
   "metadata": {},
   "outputs": [],
   "source": []
  }
 ],
 "metadata": {
  "environment": {
   "name": "tf2-gpu.2-5.m71",
   "type": "gcloud",
   "uri": "gcr.io/deeplearning-platform-release/tf2-gpu.2-5:m71"
  },
  "kernelspec": {
   "display_name": "Python 3",
   "language": "python",
   "name": "python3"
  },
  "language_info": {
   "codemirror_mode": {
    "name": "ipython",
    "version": 3
   },
   "file_extension": ".py",
   "mimetype": "text/x-python",
   "name": "python",
   "nbconvert_exporter": "python",
   "pygments_lexer": "ipython3",
   "version": "3.7.10"
  }
 },
 "nbformat": 4,
 "nbformat_minor": 5
}
