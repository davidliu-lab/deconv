{
 "cells": [
  {
   "cell_type": "markdown",
   "id": "520328a1-d658-49ee-8f5f-0beb3e84326d",
   "metadata": {},
   "source": [
    "# logging"
   ]
  },
  {
   "cell_type": "code",
   "execution_count": 1,
   "id": "a2a39613-5887-4d8c-83bc-09fffc0a0c2f",
   "metadata": {},
   "outputs": [],
   "source": [
    "import logging\n",
    "\n",
    "# work-around: prevent jupyter from adding an extra handler for everything\n",
    "logging.getLogger('root').addHandler(logging.NullHandler())\n",
    "\n",
    "# configure a handler\n",
    "format_str = '%(asctime)s - %(name)s - %(levelname)s - %(message)s'\n",
    "handler = logging.StreamHandler()\n",
    "handler.setFormatter(logging.Formatter(format_str))\n",
    "\n",
    "# make a logger for this notebook\n",
    "logger = logging.getLogger(__name__)\n",
    "logger.setLevel(\"DEBUG\")\n",
    "logger.addHandler(handler)"
   ]
  },
  {
   "cell_type": "code",
   "execution_count": 2,
   "id": "d2ee2046-03b7-45e2-b0da-b90178f8fff7",
   "metadata": {},
   "outputs": [
    {
     "data": {
      "text/plain": [
       "<StreamHandler stderr (NOTSET)>"
      ]
     },
     "execution_count": 2,
     "metadata": {},
     "output_type": "execute_result"
    }
   ],
   "source": [
    "handler"
   ]
  },
  {
   "cell_type": "code",
   "execution_count": 3,
   "id": "06729191-2353-4392-bf7b-cc439727c537",
   "metadata": {},
   "outputs": [
    {
     "data": {
      "text/plain": [
       "<Logger __main__ (DEBUG)>"
      ]
     },
     "execution_count": 3,
     "metadata": {},
     "output_type": "execute_result"
    }
   ],
   "source": [
    "logger"
   ]
  },
  {
   "cell_type": "code",
   "execution_count": 4,
   "id": "ab706194-92f4-4c9b-a344-755f34528acf",
   "metadata": {},
   "outputs": [
    {
     "name": "stderr",
     "output_type": "stream",
     "text": [
      "2021-08-16 18:30:47,448 - __main__ - DEBUG - debug message\n",
      "2021-08-16 18:30:47,449 - __main__ - INFO - so much info\n",
      "2021-08-16 18:30:47,449 - __main__ - WARNING - you've veen warned!\n",
      "2021-08-16 18:30:47,449 - __main__ - ERROR - bad news\n",
      "2021-08-16 18:30:47,450 - __main__ - CRITICAL - really bad news\n"
     ]
    }
   ],
   "source": [
    "logger.debug(\"debug message\")\n",
    "logger.info(\"so much info\")\n",
    "logger.warning(\"you've veen warned!\")\n",
    "logger.error(\"bad news\")\n",
    "logger.critical(\"really bad news\")"
   ]
  },
  {
   "cell_type": "code",
   "execution_count": 5,
   "id": "1debdb1f-ef6e-49e8-ab2f-0ada79b3c0ff",
   "metadata": {},
   "outputs": [
    {
     "name": "stderr",
     "output_type": "stream",
     "text": [
      "2021-08-16 18:30:47,454 - __main__ - INFO - this will\n",
      "2021-08-16 18:30:47,454 - __main__ - DEBUG - now this will\n"
     ]
    }
   ],
   "source": [
    "logger.setLevel(\"INFO\")\n",
    "logger.debug(\"this won't show up\")\n",
    "logger.info(\"this will\")\n",
    "logger.setLevel(\"DEBUG\")\n",
    "logger.debug(\"now this will\")"
   ]
  },
  {
   "cell_type": "code",
   "execution_count": 6,
   "id": "82ea6ef1-6b48-4875-a8ba-785ba94dee8c",
   "metadata": {},
   "outputs": [
    {
     "name": "stderr",
     "output_type": "stream",
     "text": [
      "2021-08-16 18:30:47,458 - __main__ - INFO - why why some log stuff\n",
      "2021-08-16 18:30:47,459 - __main__ - INFO - some why some stuff because\n",
      "2021-08-16 18:30:47,459 - __main__ - INFO - not stuff log why because\n",
      "2021-08-16 18:30:47,459 - __main__ - INFO - log not not why not\n",
      "2021-08-16 18:30:47,460 - __main__ - INFO - some why not because stuff\n",
      "2021-08-16 18:30:47,460 - __main__ - INFO - let's stuff because not not\n",
      "2021-08-16 18:30:47,460 - __main__ - INFO - stuff not log why stuff\n",
      "2021-08-16 18:30:47,461 - __main__ - INFO - let's why some why because\n",
      "2021-08-16 18:30:47,461 - __main__ - INFO - let's stuff not log some\n",
      "2021-08-16 18:30:47,462 - __main__ - INFO - not log stuff log not\n"
     ]
    }
   ],
   "source": [
    "import random\n",
    "\n",
    "random.seed(0)\n",
    "\n",
    "for _ in range(10):\n",
    "    random_message = \" \".join(random.choices(\"let's log some stuff because why not\".split(), k=5))\n",
    "    logger.info(random_message)"
   ]
  }
 ],
 "metadata": {
  "environment": {
   "name": "tf2-gpu.2-5.m74",
   "type": "gcloud",
   "uri": "gcr.io/deeplearning-platform-release/tf2-gpu.2-5:m74"
  },
  "kernelspec": {
   "display_name": "Python 3",
   "language": "python",
   "name": "python3"
  },
  "language_info": {
   "codemirror_mode": {
    "name": "ipython",
    "version": 3
   },
   "file_extension": ".py",
   "mimetype": "text/x-python",
   "name": "python",
   "nbconvert_exporter": "python",
   "pygments_lexer": "ipython3",
   "version": "3.7.10"
  }
 },
 "nbformat": 4,
 "nbformat_minor": 5
}
