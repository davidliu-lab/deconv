{
 "cells": [
  {
   "cell_type": "markdown",
   "id": "520328a1-d658-49ee-8f5f-0beb3e84326d",
   "metadata": {},
   "source": [
    "# logging"
   ]
  },
  {
   "cell_type": "code",
   "execution_count": 1,
   "id": "a2a39613-5887-4d8c-83bc-09fffc0a0c2f",
   "metadata": {},
   "outputs": [],
   "source": [
    "import logging"
   ]
  },
  {
   "cell_type": "markdown",
   "id": "6e6c539d-b5a3-4b00-ba6b-c39fd03b7d20",
   "metadata": {},
   "source": [
    "#### setup"
   ]
  },
  {
   "cell_type": "markdown",
   "id": "38b1a720-db55-4646-bd82-1b19e061b053",
   "metadata": {},
   "source": [
    "* make a handler\n",
    "* add it to the root logger"
   ]
  },
  {
   "cell_type": "code",
   "execution_count": 2,
   "id": "4af5fd6e-4d2f-44cd-b9ef-ea6627b8bd37",
   "metadata": {},
   "outputs": [],
   "source": [
    "handler = logging.StreamHandler()\n",
    "handler.setFormatter(logging.Formatter('%(asctime)s - %(name)s - %(levelname)s - %(message)s'))\n",
    "logging.getLogger().addHandler(handler)"
   ]
  },
  {
   "cell_type": "markdown",
   "id": "a7955f00-0661-47c2-94a3-328727e39e94",
   "metadata": {
    "tags": []
   },
   "source": [
    "* make a logger for this notebook\n",
    "* make it verbose"
   ]
  },
  {
   "cell_type": "code",
   "execution_count": 3,
   "id": "cdc007d5-b7be-4b1c-b7cb-2d9f738b22d9",
   "metadata": {},
   "outputs": [],
   "source": [
    "logger = logging.getLogger(__name__)\n",
    "logger.setLevel('DEBUG')"
   ]
  },
  {
   "cell_type": "markdown",
   "id": "0125012b-b939-4294-acb0-52301b55ed48",
   "metadata": {},
   "source": [
    "#### message examples"
   ]
  },
  {
   "cell_type": "code",
   "execution_count": 4,
   "id": "ab706194-92f4-4c9b-a344-755f34528acf",
   "metadata": {},
   "outputs": [
    {
     "name": "stderr",
     "output_type": "stream",
     "text": [
      "2021-09-02 18:39:30,947 - __main__ - DEBUG - debug message\n",
      "2021-09-02 18:39:30,948 - __main__ - INFO - so much info\n",
      "2021-09-02 18:39:30,948 - __main__ - WARNING - you've veen warned!\n",
      "2021-09-02 18:39:30,949 - __main__ - ERROR - bad news\n",
      "2021-09-02 18:39:30,949 - __main__ - CRITICAL - really bad news\n"
     ]
    }
   ],
   "source": [
    "logger.debug(\"debug message\")\n",
    "logger.info(\"so much info\")\n",
    "logger.warning(\"you've veen warned!\")\n",
    "logger.error(\"bad news\")\n",
    "logger.critical(\"really bad news\")"
   ]
  },
  {
   "cell_type": "code",
   "execution_count": 5,
   "id": "1debdb1f-ef6e-49e8-ab2f-0ada79b3c0ff",
   "metadata": {},
   "outputs": [
    {
     "name": "stderr",
     "output_type": "stream",
     "text": [
      "2021-09-02 18:39:30,953 - __main__ - INFO - info 1\n"
     ]
    }
   ],
   "source": [
    "logger.setLevel(\"INFO\")\n",
    "\n",
    "logger.debug(\"debug 1\")\n",
    "logger.info(\"info 1\")"
   ]
  },
  {
   "cell_type": "code",
   "execution_count": 6,
   "id": "8970d957-f5bc-4d81-99d3-f0cf169b871d",
   "metadata": {},
   "outputs": [
    {
     "name": "stderr",
     "output_type": "stream",
     "text": [
      "2021-09-02 18:39:30,957 - __main__ - DEBUG - debug 2\n",
      "2021-09-02 18:39:30,958 - __main__ - INFO - info 2\n"
     ]
    }
   ],
   "source": [
    "logger.setLevel(\"DEBUG\")\n",
    "\n",
    "logger.debug(\"debug 2\")\n",
    "logger.info(\"info 2\")"
   ]
  },
  {
   "cell_type": "markdown",
   "id": "20004f2b-92d2-44f5-96f2-d9fe0cca1407",
   "metadata": {},
   "source": [
    "#### capture logging from other libraries\n"
   ]
  },
  {
   "cell_type": "code",
   "execution_count": 7,
   "id": "ccf59c8b-426d-42d3-98bb-d741200f92fd",
   "metadata": {},
   "outputs": [],
   "source": [
    "logging.getLogger('google').setLevel('DEBUG')"
   ]
  },
  {
   "cell_type": "code",
   "execution_count": 8,
   "id": "3bca6898-0985-4e9a-a3af-c31b3b6419e8",
   "metadata": {},
   "outputs": [
    {
     "name": "stderr",
     "output_type": "stream",
     "text": [
      "2021-09-02 18:39:30,966 - google.auth._default - DEBUG - Checking None for explicit credentials as part of auth process...\n",
      "2021-09-02 18:39:30,966 - google.auth._default - DEBUG - Checking Cloud SDK credentials as part of auth process...\n",
      "2021-09-02 18:39:30,967 - google.auth._default - DEBUG - Cloud SDK credentials not found on disk; not using them\n",
      "2021-09-02 18:39:30,967 - google.auth._default - DEBUG - Checking for App Engine runtime as part of auth process...\n",
      "2021-09-02 18:39:30,968 - google.auth._default - DEBUG - No App Engine library was found so cannot authentication via App Engine Identity Credentials.\n",
      "2021-09-02 18:39:30,969 - google.auth.transport._http_client - DEBUG - Making request: GET http://169.254.169.254\n",
      "2021-09-02 18:39:30,971 - google.auth.transport._http_client - DEBUG - Making request: GET http://metadata.google.internal/computeMetadata/v1/project/project-id\n",
      "2021-09-02 18:39:30,973 - google.auth._default - DEBUG - Checking None for explicit credentials as part of auth process...\n",
      "2021-09-02 18:39:30,973 - google.auth._default - DEBUG - Checking Cloud SDK credentials as part of auth process...\n",
      "2021-09-02 18:39:30,973 - google.auth._default - DEBUG - Cloud SDK credentials not found on disk; not using them\n",
      "2021-09-02 18:39:30,974 - google.auth._default - DEBUG - Checking for App Engine runtime as part of auth process...\n",
      "2021-09-02 18:39:30,974 - google.auth._default - DEBUG - No App Engine library was found so cannot authentication via App Engine Identity Credentials.\n",
      "2021-09-02 18:39:30,974 - google.auth.transport._http_client - DEBUG - Making request: GET http://169.254.169.254\n",
      "2021-09-02 18:39:30,976 - google.auth.transport._http_client - DEBUG - Making request: GET http://metadata.google.internal/computeMetadata/v1/project/project-id\n"
     ]
    }
   ],
   "source": [
    "from google.cloud import storage\n",
    "\n",
    "client = storage.Client()"
   ]
  }
 ],
 "metadata": {
  "environment": {
   "name": "tf2-gpu.2-5.m74",
   "type": "gcloud",
   "uri": "gcr.io/deeplearning-platform-release/tf2-gpu.2-5:m74"
  },
  "kernelspec": {
   "display_name": "Python 3",
   "language": "python",
   "name": "python3"
  },
  "language_info": {
   "codemirror_mode": {
    "name": "ipython",
    "version": 3
   },
   "file_extension": ".py",
   "mimetype": "text/x-python",
   "name": "python",
   "nbconvert_exporter": "python",
   "pygments_lexer": "ipython3",
   "version": "3.7.10"
  }
 },
 "nbformat": 4,
 "nbformat_minor": 5
}
