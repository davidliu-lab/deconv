{
 "cells": [
  {
   "cell_type": "code",
   "execution_count": 1,
   "id": "690b37a1-176b-4ed4-9c73-f4eb0eef422e",
   "metadata": {},
   "outputs": [],
   "source": [
    "import logging\n",
    "import os\n",
    "from pprint import pprint\n",
    "\n",
    "import dask.dataframe as dd\n",
    "import helpers\n",
    "import helpers.creating_mixtures\n",
    "import numpy as np\n",
    "import pandas as pd\n",
    "from cloudpathlib import AnyPath as Path"
   ]
  },
  {
   "cell_type": "code",
   "execution_count": 2,
   "id": "49f966f2-9073-4890-99ef-05db00ab5c95",
   "metadata": {},
   "outputs": [],
   "source": [
    "handler = logging.StreamHandler()\n",
    "formatter = logging.Formatter(\"%(asctime)s - %(name)s - %(levelname)s - %(message)s\")\n",
    "handler.setFormatter(formatter)\n",
    "logging.getLogger().addHandler(handler)"
   ]
  },
  {
   "cell_type": "code",
   "execution_count": 3,
   "id": "80395866-0fdf-47c6-bb03-2dbe2f241631",
   "metadata": {},
   "outputs": [],
   "source": [
    "logger = logging.getLogger(__name__)\n",
    "logger.setLevel(\"DEBUG\")"
   ]
  },
  {
   "cell_type": "code",
   "execution_count": 4,
   "id": "17f5b17d-d920-45c9-90ac-d683d7b68e99",
   "metadata": {},
   "outputs": [
    {
     "name": "stdout",
     "output_type": "stream",
     "text": [
      " 31.03 MiB  2022-05-26T05:32:30Z  gs://liulab/data/pseudobulk_optimization/3_with_tcga_qc/mixtures/n_cells=1/malignant_from_one_sample=False/data.parquet\n",
      " 30.76 MiB  2022-05-26T05:32:14Z  gs://liulab/data/pseudobulk_optimization/3_with_tcga_qc/mixtures/n_cells=1/malignant_from_one_sample=True/data.parquet\n",
      "  42.6 MiB  2022-05-26T05:36:22Z  gs://liulab/data/pseudobulk_optimization/3_with_tcga_qc/mixtures/n_cells=10/malignant_from_one_sample=False/data.parquet\n",
      " 42.33 MiB  2022-05-26T05:36:04Z  gs://liulab/data/pseudobulk_optimization/3_with_tcga_qc/mixtures/n_cells=10/malignant_from_one_sample=True/data.parquet\n",
      " 42.82 MiB  2022-05-26T05:36:51Z  gs://liulab/data/pseudobulk_optimization/3_with_tcga_qc/mixtures/n_cells=11/malignant_from_one_sample=False/data.parquet\n",
      " 42.59 MiB  2022-05-26T05:36:40Z  gs://liulab/data/pseudobulk_optimization/3_with_tcga_qc/mixtures/n_cells=11/malignant_from_one_sample=True/data.parquet\n",
      " 43.14 MiB  2022-05-26T05:37:26Z  gs://liulab/data/pseudobulk_optimization/3_with_tcga_qc/mixtures/n_cells=12/malignant_from_one_sample=False/data.parquet\n",
      " 42.86 MiB  2022-05-26T05:37:09Z  gs://liulab/data/pseudobulk_optimization/3_with_tcga_qc/mixtures/n_cells=12/malignant_from_one_sample=True/data.parquet\n",
      " 43.33 MiB  2022-05-26T05:37:54Z  gs://liulab/data/pseudobulk_optimization/3_with_tcga_qc/mixtures/n_cells=13/malignant_from_one_sample=False/data.parquet\n",
      "    43 MiB  2022-05-26T05:37:44Z  gs://liulab/data/pseudobulk_optimization/3_with_tcga_qc/mixtures/n_cells=13/malignant_from_one_sample=True/data.parquet\n",
      "  43.5 MiB  2022-05-26T05:38:15Z  gs://liulab/data/pseudobulk_optimization/3_with_tcga_qc/mixtures/n_cells=14/malignant_from_one_sample=False/data.parquet\n",
      " 43.21 MiB  2022-05-26T05:38:04Z  gs://liulab/data/pseudobulk_optimization/3_with_tcga_qc/mixtures/n_cells=14/malignant_from_one_sample=True/data.parquet\n",
      " 43.66 MiB  2022-05-26T05:38:50Z  gs://liulab/data/pseudobulk_optimization/3_with_tcga_qc/mixtures/n_cells=15/malignant_from_one_sample=False/data.parquet\n",
      "  43.4 MiB  2022-05-26T05:38:33Z  gs://liulab/data/pseudobulk_optimization/3_with_tcga_qc/mixtures/n_cells=15/malignant_from_one_sample=True/data.parquet\n",
      " 43.81 MiB  2022-05-26T05:39:20Z  gs://liulab/data/pseudobulk_optimization/3_with_tcga_qc/mixtures/n_cells=16/malignant_from_one_sample=False/data.parquet\n",
      " 43.49 MiB  2022-05-26T05:39:09Z  gs://liulab/data/pseudobulk_optimization/3_with_tcga_qc/mixtures/n_cells=16/malignant_from_one_sample=True/data.parquet\n",
      " 43.97 MiB  2022-05-26T05:39:49Z  gs://liulab/data/pseudobulk_optimization/3_with_tcga_qc/mixtures/n_cells=17/malignant_from_one_sample=False/data.parquet\n",
      " 43.65 MiB  2022-05-26T05:39:39Z  gs://liulab/data/pseudobulk_optimization/3_with_tcga_qc/mixtures/n_cells=17/malignant_from_one_sample=True/data.parquet\n",
      " 44.08 MiB  2022-05-26T05:40:17Z  gs://liulab/data/pseudobulk_optimization/3_with_tcga_qc/mixtures/n_cells=18/malignant_from_one_sample=False/data.parquet\n",
      " 43.76 MiB  2022-05-26T05:40:07Z  gs://liulab/data/pseudobulk_optimization/3_with_tcga_qc/mixtures/n_cells=18/malignant_from_one_sample=True/data.parquet\n",
      " 44.18 MiB  2022-05-26T05:40:46Z  gs://liulab/data/pseudobulk_optimization/3_with_tcga_qc/mixtures/n_cells=19/malignant_from_one_sample=False/data.parquet\n",
      " 43.81 MiB  2022-05-26T05:40:36Z  gs://liulab/data/pseudobulk_optimization/3_with_tcga_qc/mixtures/n_cells=19/malignant_from_one_sample=True/data.parquet\n",
      " 35.68 MiB  2022-05-26T05:32:48Z  gs://liulab/data/pseudobulk_optimization/3_with_tcga_qc/mixtures/n_cells=2/malignant_from_one_sample=False/data.parquet\n",
      " 35.54 MiB  2022-05-26T05:32:39Z  gs://liulab/data/pseudobulk_optimization/3_with_tcga_qc/mixtures/n_cells=2/malignant_from_one_sample=True/data.parquet\n",
      " 44.25 MiB  2022-05-26T05:41:23Z  gs://liulab/data/pseudobulk_optimization/3_with_tcga_qc/mixtures/n_cells=20/malignant_from_one_sample=False/data.parquet\n",
      " 43.96 MiB  2022-05-26T05:41:06Z  gs://liulab/data/pseudobulk_optimization/3_with_tcga_qc/mixtures/n_cells=20/malignant_from_one_sample=True/data.parquet\n",
      "    38 MiB  2022-05-26T05:33:12Z  gs://liulab/data/pseudobulk_optimization/3_with_tcga_qc/mixtures/n_cells=3/malignant_from_one_sample=False/data.parquet\n",
      " 37.62 MiB  2022-05-26T05:33:03Z  gs://liulab/data/pseudobulk_optimization/3_with_tcga_qc/mixtures/n_cells=3/malignant_from_one_sample=True/data.parquet\n",
      " 39.27 MiB  2022-05-26T05:33:36Z  gs://liulab/data/pseudobulk_optimization/3_with_tcga_qc/mixtures/n_cells=4/malignant_from_one_sample=False/data.parquet\n",
      " 38.91 MiB  2022-05-26T05:33:27Z  gs://liulab/data/pseudobulk_optimization/3_with_tcga_qc/mixtures/n_cells=4/malignant_from_one_sample=True/data.parquet\n",
      " 40.16 MiB  2022-05-26T05:33:58Z  gs://liulab/data/pseudobulk_optimization/3_with_tcga_qc/mixtures/n_cells=5/malignant_from_one_sample=False/data.parquet\n",
      " 39.95 MiB  2022-05-26T05:33:49Z  gs://liulab/data/pseudobulk_optimization/3_with_tcga_qc/mixtures/n_cells=5/malignant_from_one_sample=True/data.parquet\n",
      " 40.93 MiB  2022-05-26T05:34:25Z  gs://liulab/data/pseudobulk_optimization/3_with_tcga_qc/mixtures/n_cells=6/malignant_from_one_sample=False/data.parquet\n",
      " 40.65 MiB  2022-05-26T05:34:15Z  gs://liulab/data/pseudobulk_optimization/3_with_tcga_qc/mixtures/n_cells=6/malignant_from_one_sample=True/data.parquet\n",
      " 41.45 MiB  2022-05-26T05:34:44Z  gs://liulab/data/pseudobulk_optimization/3_with_tcga_qc/mixtures/n_cells=7/malignant_from_one_sample=False/data.parquet\n",
      " 41.22 MiB  2022-05-26T05:34:35Z  gs://liulab/data/pseudobulk_optimization/3_with_tcga_qc/mixtures/n_cells=7/malignant_from_one_sample=True/data.parquet\n",
      "  41.9 MiB  2022-05-26T05:35:19Z  gs://liulab/data/pseudobulk_optimization/3_with_tcga_qc/mixtures/n_cells=8/malignant_from_one_sample=False/data.parquet\n",
      " 41.62 MiB  2022-05-26T05:35:02Z  gs://liulab/data/pseudobulk_optimization/3_with_tcga_qc/mixtures/n_cells=8/malignant_from_one_sample=True/data.parquet\n",
      " 42.28 MiB  2022-05-26T05:35:47Z  gs://liulab/data/pseudobulk_optimization/3_with_tcga_qc/mixtures/n_cells=9/malignant_from_one_sample=False/data.parquet\n",
      " 41.97 MiB  2022-05-26T05:35:36Z  gs://liulab/data/pseudobulk_optimization/3_with_tcga_qc/mixtures/n_cells=9/malignant_from_one_sample=True/data.parquet\n"
     ]
    }
   ],
   "source": [
    "uri = \"gs://liulab/data/pseudobulk_optimization/3_with_tcga_qc/mixtures\"\n",
    "\n",
    "!gsutil ls -lhR {uri} | grep 2022"
   ]
  },
  {
   "cell_type": "code",
   "execution_count": 5,
   "id": "364667bc-2fb3-48c6-85a6-a9d08b08f1cb",
   "metadata": {},
   "outputs": [],
   "source": [
    "# df = pd.read_parquet(uri)\n",
    "\n",
    "df = dd.read_parquet(\n",
    "    uri,\n",
    "    engine=\"pyarrow\",  # explicitly specify the pyarrow engine\n",
    ")"
   ]
  },
  {
   "cell_type": "code",
   "execution_count": 6,
   "id": "1605ec85-36c6-410f-abdd-7f1ac1728e44",
   "metadata": {},
   "outputs": [
    {
     "data": {
      "text/html": [
       "<div><strong>Dask DataFrame Structure:</strong></div>\n",
       "<div>\n",
       "<style scoped>\n",
       "    .dataframe tbody tr th:only-of-type {\n",
       "        vertical-align: middle;\n",
       "    }\n",
       "\n",
       "    .dataframe tbody tr th {\n",
       "        vertical-align: top;\n",
       "    }\n",
       "\n",
       "    .dataframe thead th {\n",
       "        text-align: right;\n",
       "    }\n",
       "</style>\n",
       "<table border=\"1\" class=\"dataframe\">\n",
       "  <thead>\n",
       "    <tr style=\"text-align: right;\">\n",
       "      <th></th>\n",
       "      <th>gene_symbol</th>\n",
       "      <th>tcga_aliquot_barcode_for_fractions</th>\n",
       "      <th>tpm</th>\n",
       "      <th>n_cells</th>\n",
       "      <th>malignant_from_one_sample</th>\n",
       "    </tr>\n",
       "    <tr>\n",
       "      <th>npartitions=40</th>\n",
       "      <th></th>\n",
       "      <th></th>\n",
       "      <th></th>\n",
       "      <th></th>\n",
       "      <th></th>\n",
       "    </tr>\n",
       "  </thead>\n",
       "  <tbody>\n",
       "    <tr>\n",
       "      <th></th>\n",
       "      <td>category[unknown]</td>\n",
       "      <td>category[unknown]</td>\n",
       "      <td>float64</td>\n",
       "      <td>category[known]</td>\n",
       "      <td>category[known]</td>\n",
       "    </tr>\n",
       "    <tr>\n",
       "      <th></th>\n",
       "      <td>...</td>\n",
       "      <td>...</td>\n",
       "      <td>...</td>\n",
       "      <td>...</td>\n",
       "      <td>...</td>\n",
       "    </tr>\n",
       "    <tr>\n",
       "      <th>...</th>\n",
       "      <td>...</td>\n",
       "      <td>...</td>\n",
       "      <td>...</td>\n",
       "      <td>...</td>\n",
       "      <td>...</td>\n",
       "    </tr>\n",
       "    <tr>\n",
       "      <th></th>\n",
       "      <td>...</td>\n",
       "      <td>...</td>\n",
       "      <td>...</td>\n",
       "      <td>...</td>\n",
       "      <td>...</td>\n",
       "    </tr>\n",
       "    <tr>\n",
       "      <th></th>\n",
       "      <td>...</td>\n",
       "      <td>...</td>\n",
       "      <td>...</td>\n",
       "      <td>...</td>\n",
       "      <td>...</td>\n",
       "    </tr>\n",
       "  </tbody>\n",
       "</table>\n",
       "</div>\n",
       "<div>Dask Name: read-parquet, 40 tasks</div>"
      ],
      "text/plain": [
       "Dask DataFrame Structure:\n",
       "                      gene_symbol tcga_aliquot_barcode_for_fractions      tpm          n_cells malignant_from_one_sample\n",
       "npartitions=40                                                                                                          \n",
       "                category[unknown]                  category[unknown]  float64  category[known]           category[known]\n",
       "                              ...                                ...      ...              ...                       ...\n",
       "...                           ...                                ...      ...              ...                       ...\n",
       "                              ...                                ...      ...              ...                       ...\n",
       "                              ...                                ...      ...              ...                       ...\n",
       "Dask Name: read-parquet, 40 tasks"
      ]
     },
     "execution_count": 6,
     "metadata": {},
     "output_type": "execute_result"
    }
   ],
   "source": [
    "df"
   ]
  },
  {
   "cell_type": "code",
   "execution_count": 7,
   "id": "ee8787e0-761b-4e31-9f52-98522d4bcaf7",
   "metadata": {},
   "outputs": [],
   "source": [
    "real = dd.read_parquet(\n",
    "    \"gs://liulab/data/pseudobulk_optimization/3_with_tcga_qc/mixtures_real_tcga_skcm/tpm.parquet\",\n",
    "    engine=\"pyarrow\",  # explicitly specify the pyarrow engine\n",
    ")"
   ]
  },
  {
   "cell_type": "code",
   "execution_count": 8,
   "id": "b24681a8-5ad2-4f7d-93d6-f5f7ff0fbaa3",
   "metadata": {},
   "outputs": [
    {
     "data": {
      "text/html": [
       "<div><strong>Dask DataFrame Structure:</strong></div>\n",
       "<div>\n",
       "<style scoped>\n",
       "    .dataframe tbody tr th:only-of-type {\n",
       "        vertical-align: middle;\n",
       "    }\n",
       "\n",
       "    .dataframe tbody tr th {\n",
       "        vertical-align: top;\n",
       "    }\n",
       "\n",
       "    .dataframe thead th {\n",
       "        text-align: right;\n",
       "    }\n",
       "</style>\n",
       "<table border=\"1\" class=\"dataframe\">\n",
       "  <thead>\n",
       "    <tr style=\"text-align: right;\">\n",
       "      <th></th>\n",
       "      <th>gene_symbol</th>\n",
       "      <th>aliquot_barcode</th>\n",
       "      <th>tpm</th>\n",
       "    </tr>\n",
       "    <tr>\n",
       "      <th>npartitions=1</th>\n",
       "      <th></th>\n",
       "      <th></th>\n",
       "      <th></th>\n",
       "    </tr>\n",
       "  </thead>\n",
       "  <tbody>\n",
       "    <tr>\n",
       "      <th></th>\n",
       "      <td>category[unknown]</td>\n",
       "      <td>category[unknown]</td>\n",
       "      <td>float64</td>\n",
       "    </tr>\n",
       "    <tr>\n",
       "      <th></th>\n",
       "      <td>...</td>\n",
       "      <td>...</td>\n",
       "      <td>...</td>\n",
       "    </tr>\n",
       "  </tbody>\n",
       "</table>\n",
       "</div>\n",
       "<div>Dask Name: read-parquet, 1 tasks</div>"
      ],
      "text/plain": [
       "Dask DataFrame Structure:\n",
       "                     gene_symbol    aliquot_barcode      tpm\n",
       "npartitions=1                                               \n",
       "               category[unknown]  category[unknown]  float64\n",
       "                             ...                ...      ...\n",
       "Dask Name: read-parquet, 1 tasks"
      ]
     },
     "execution_count": 8,
     "metadata": {},
     "output_type": "execute_result"
    }
   ],
   "source": [
    "real"
   ]
  },
  {
   "cell_type": "code",
   "execution_count": 9,
   "id": "a33993af-7a23-483e-9e6d-95ff944ef744",
   "metadata": {},
   "outputs": [],
   "source": [
    "merged_ = dd.merge(\n",
    "    df,\n",
    "    real,\n",
    "    left_on=[\"gene_symbol\", \"tcga_aliquot_barcode_for_fractions\"],\n",
    "    right_on=[\"gene_symbol\", \"aliquot_barcode\"],\n",
    "    suffixes=[\"_pseudo\", \"_real\"],\n",
    ")"
   ]
  },
  {
   "cell_type": "code",
   "execution_count": 10,
   "id": "70ec009e-8f45-432c-8e50-9f58cb2db203",
   "metadata": {},
   "outputs": [
    {
     "data": {
      "text/html": [
       "<div><strong>Dask DataFrame Structure:</strong></div>\n",
       "<div>\n",
       "<style scoped>\n",
       "    .dataframe tbody tr th:only-of-type {\n",
       "        vertical-align: middle;\n",
       "    }\n",
       "\n",
       "    .dataframe tbody tr th {\n",
       "        vertical-align: top;\n",
       "    }\n",
       "\n",
       "    .dataframe thead th {\n",
       "        text-align: right;\n",
       "    }\n",
       "</style>\n",
       "<table border=\"1\" class=\"dataframe\">\n",
       "  <thead>\n",
       "    <tr style=\"text-align: right;\">\n",
       "      <th></th>\n",
       "      <th>gene_symbol</th>\n",
       "      <th>tcga_aliquot_barcode_for_fractions</th>\n",
       "      <th>tpm_pseudo</th>\n",
       "      <th>n_cells</th>\n",
       "      <th>malignant_from_one_sample</th>\n",
       "      <th>aliquot_barcode</th>\n",
       "      <th>tpm_real</th>\n",
       "    </tr>\n",
       "    <tr>\n",
       "      <th>npartitions=40</th>\n",
       "      <th></th>\n",
       "      <th></th>\n",
       "      <th></th>\n",
       "      <th></th>\n",
       "      <th></th>\n",
       "      <th></th>\n",
       "      <th></th>\n",
       "    </tr>\n",
       "  </thead>\n",
       "  <tbody>\n",
       "    <tr>\n",
       "      <th></th>\n",
       "      <td>category[unknown]</td>\n",
       "      <td>category[unknown]</td>\n",
       "      <td>float64</td>\n",
       "      <td>category[known]</td>\n",
       "      <td>category[known]</td>\n",
       "      <td>category[unknown]</td>\n",
       "      <td>float64</td>\n",
       "    </tr>\n",
       "    <tr>\n",
       "      <th></th>\n",
       "      <td>...</td>\n",
       "      <td>...</td>\n",
       "      <td>...</td>\n",
       "      <td>...</td>\n",
       "      <td>...</td>\n",
       "      <td>...</td>\n",
       "      <td>...</td>\n",
       "    </tr>\n",
       "    <tr>\n",
       "      <th>...</th>\n",
       "      <td>...</td>\n",
       "      <td>...</td>\n",
       "      <td>...</td>\n",
       "      <td>...</td>\n",
       "      <td>...</td>\n",
       "      <td>...</td>\n",
       "      <td>...</td>\n",
       "    </tr>\n",
       "    <tr>\n",
       "      <th></th>\n",
       "      <td>...</td>\n",
       "      <td>...</td>\n",
       "      <td>...</td>\n",
       "      <td>...</td>\n",
       "      <td>...</td>\n",
       "      <td>...</td>\n",
       "      <td>...</td>\n",
       "    </tr>\n",
       "    <tr>\n",
       "      <th></th>\n",
       "      <td>...</td>\n",
       "      <td>...</td>\n",
       "      <td>...</td>\n",
       "      <td>...</td>\n",
       "      <td>...</td>\n",
       "      <td>...</td>\n",
       "      <td>...</td>\n",
       "    </tr>\n",
       "  </tbody>\n",
       "</table>\n",
       "</div>\n",
       "<div>Dask Name: merge_chunk, 81 tasks</div>"
      ],
      "text/plain": [
       "Dask DataFrame Structure:\n",
       "                      gene_symbol tcga_aliquot_barcode_for_fractions tpm_pseudo          n_cells malignant_from_one_sample    aliquot_barcode tpm_real\n",
       "npartitions=40                                                                                                                                        \n",
       "                category[unknown]                  category[unknown]    float64  category[known]           category[known]  category[unknown]  float64\n",
       "                              ...                                ...        ...              ...                       ...                ...      ...\n",
       "...                           ...                                ...        ...              ...                       ...                ...      ...\n",
       "                              ...                                ...        ...              ...                       ...                ...      ...\n",
       "                              ...                                ...        ...              ...                       ...                ...      ...\n",
       "Dask Name: merge_chunk, 81 tasks"
      ]
     },
     "execution_count": 10,
     "metadata": {},
     "output_type": "execute_result"
    }
   ],
   "source": [
    "merged_"
   ]
  },
  {
   "cell_type": "code",
   "execution_count": 11,
   "id": "6f29fca4-13a8-4f8e-bce1-27a90197246c",
   "metadata": {},
   "outputs": [
    {
     "ename": "MemoryError",
     "evalue": "Unable to allocate 3.52 GiB for an array with shape (2, 236447360) and data type float64",
     "output_type": "error",
     "traceback": [
      "\u001b[0;31m---------------------------------------------------------------------------\u001b[0m",
      "\u001b[0;31mMemoryError\u001b[0m                               Traceback (most recent call last)",
      "Input \u001b[0;32mIn [11]\u001b[0m, in \u001b[0;36m<cell line: 9>\u001b[0;34m()\u001b[0m\n\u001b[1;32m      1\u001b[0m columns \u001b[38;5;241m=\u001b[39m [\n\u001b[1;32m      2\u001b[0m     \u001b[38;5;124m\"\u001b[39m\u001b[38;5;124mn_cells\u001b[39m\u001b[38;5;124m\"\u001b[39m,\n\u001b[1;32m      3\u001b[0m     \u001b[38;5;124m\"\u001b[39m\u001b[38;5;124mmalignant_from_one_sample\u001b[39m\u001b[38;5;124m\"\u001b[39m,\n\u001b[0;32m   (...)\u001b[0m\n\u001b[1;32m      7\u001b[0m     \u001b[38;5;124m\"\u001b[39m\u001b[38;5;124mtpm_real\u001b[39m\u001b[38;5;124m\"\u001b[39m,\n\u001b[1;32m      8\u001b[0m ]\n\u001b[0;32m----> 9\u001b[0m merged \u001b[38;5;241m=\u001b[39m \u001b[43mmerged_\u001b[49m\u001b[43m[\u001b[49m\u001b[43mcolumns\u001b[49m\u001b[43m]\u001b[49m\u001b[38;5;241;43m.\u001b[39;49m\u001b[43mcompute\u001b[49m\u001b[43m(\u001b[49m\u001b[43m)\u001b[49m\n",
      "File \u001b[0;32m/opt/conda/envs/deconv/lib/python3.10/site-packages/dask/base.py:311\u001b[0m, in \u001b[0;36mDaskMethodsMixin.compute\u001b[0;34m(self, **kwargs)\u001b[0m\n\u001b[1;32m    287\u001b[0m \u001b[38;5;28;01mdef\u001b[39;00m \u001b[38;5;21mcompute\u001b[39m(\u001b[38;5;28mself\u001b[39m, \u001b[38;5;241m*\u001b[39m\u001b[38;5;241m*\u001b[39mkwargs):\n\u001b[1;32m    288\u001b[0m     \u001b[38;5;124;03m\"\"\"Compute this dask collection\u001b[39;00m\n\u001b[1;32m    289\u001b[0m \n\u001b[1;32m    290\u001b[0m \u001b[38;5;124;03m    This turns a lazy Dask collection into its in-memory equivalent.\u001b[39;00m\n\u001b[0;32m   (...)\u001b[0m\n\u001b[1;32m    309\u001b[0m \u001b[38;5;124;03m    dask.base.compute\u001b[39;00m\n\u001b[1;32m    310\u001b[0m \u001b[38;5;124;03m    \"\"\"\u001b[39;00m\n\u001b[0;32m--> 311\u001b[0m     (result,) \u001b[38;5;241m=\u001b[39m \u001b[43mcompute\u001b[49m\u001b[43m(\u001b[49m\u001b[38;5;28;43mself\u001b[39;49m\u001b[43m,\u001b[49m\u001b[43m \u001b[49m\u001b[43mtraverse\u001b[49m\u001b[38;5;241;43m=\u001b[39;49m\u001b[38;5;28;43;01mFalse\u001b[39;49;00m\u001b[43m,\u001b[49m\u001b[43m \u001b[49m\u001b[38;5;241;43m*\u001b[39;49m\u001b[38;5;241;43m*\u001b[39;49m\u001b[43mkwargs\u001b[49m\u001b[43m)\u001b[49m\n\u001b[1;32m    312\u001b[0m     \u001b[38;5;28;01mreturn\u001b[39;00m result\n",
      "File \u001b[0;32m/opt/conda/envs/deconv/lib/python3.10/site-packages/dask/base.py:600\u001b[0m, in \u001b[0;36mcompute\u001b[0;34m(traverse, optimize_graph, scheduler, get, *args, **kwargs)\u001b[0m\n\u001b[1;32m    597\u001b[0m     postcomputes\u001b[38;5;241m.\u001b[39mappend(x\u001b[38;5;241m.\u001b[39m__dask_postcompute__())\n\u001b[1;32m    599\u001b[0m results \u001b[38;5;241m=\u001b[39m schedule(dsk, keys, \u001b[38;5;241m*\u001b[39m\u001b[38;5;241m*\u001b[39mkwargs)\n\u001b[0;32m--> 600\u001b[0m \u001b[38;5;28;01mreturn\u001b[39;00m repack([f(r, \u001b[38;5;241m*\u001b[39ma) \u001b[38;5;28;01mfor\u001b[39;00m r, (f, a) \u001b[38;5;129;01min\u001b[39;00m \u001b[38;5;28mzip\u001b[39m(results, postcomputes)])\n",
      "File \u001b[0;32m/opt/conda/envs/deconv/lib/python3.10/site-packages/dask/base.py:600\u001b[0m, in \u001b[0;36m<listcomp>\u001b[0;34m(.0)\u001b[0m\n\u001b[1;32m    597\u001b[0m     postcomputes\u001b[38;5;241m.\u001b[39mappend(x\u001b[38;5;241m.\u001b[39m__dask_postcompute__())\n\u001b[1;32m    599\u001b[0m results \u001b[38;5;241m=\u001b[39m schedule(dsk, keys, \u001b[38;5;241m*\u001b[39m\u001b[38;5;241m*\u001b[39mkwargs)\n\u001b[0;32m--> 600\u001b[0m \u001b[38;5;28;01mreturn\u001b[39;00m repack([\u001b[43mf\u001b[49m\u001b[43m(\u001b[49m\u001b[43mr\u001b[49m\u001b[43m,\u001b[49m\u001b[43m \u001b[49m\u001b[38;5;241;43m*\u001b[39;49m\u001b[43ma\u001b[49m\u001b[43m)\u001b[49m \u001b[38;5;28;01mfor\u001b[39;00m r, (f, a) \u001b[38;5;129;01min\u001b[39;00m \u001b[38;5;28mzip\u001b[39m(results, postcomputes)])\n",
      "File \u001b[0;32m/opt/conda/envs/deconv/lib/python3.10/site-packages/dask/dataframe/core.py:129\u001b[0m, in \u001b[0;36mfinalize\u001b[0;34m(results)\u001b[0m\n\u001b[1;32m    128\u001b[0m \u001b[38;5;28;01mdef\u001b[39;00m \u001b[38;5;21mfinalize\u001b[39m(results):\n\u001b[0;32m--> 129\u001b[0m     \u001b[38;5;28;01mreturn\u001b[39;00m \u001b[43m_concat\u001b[49m\u001b[43m(\u001b[49m\u001b[43mresults\u001b[49m\u001b[43m)\u001b[49m\n",
      "File \u001b[0;32m/opt/conda/envs/deconv/lib/python3.10/site-packages/dask/dataframe/core.py:124\u001b[0m, in \u001b[0;36m_concat\u001b[0;34m(args, ignore_index)\u001b[0m\n\u001b[1;32m    116\u001b[0m \u001b[38;5;66;03m# We filter out empty partitions here because pandas frequently has\u001b[39;00m\n\u001b[1;32m    117\u001b[0m \u001b[38;5;66;03m# inconsistent dtypes in results between empty and non-empty frames.\u001b[39;00m\n\u001b[1;32m    118\u001b[0m \u001b[38;5;66;03m# Ideally this would be handled locally for each operation, but in practice\u001b[39;00m\n\u001b[1;32m    119\u001b[0m \u001b[38;5;66;03m# this seems easier. TODO: don't do this.\u001b[39;00m\n\u001b[1;32m    120\u001b[0m args2 \u001b[38;5;241m=\u001b[39m [i \u001b[38;5;28;01mfor\u001b[39;00m i \u001b[38;5;129;01min\u001b[39;00m args \u001b[38;5;28;01mif\u001b[39;00m \u001b[38;5;28mlen\u001b[39m(i)]\n\u001b[1;32m    121\u001b[0m \u001b[38;5;28;01mreturn\u001b[39;00m (\n\u001b[1;32m    122\u001b[0m     args[\u001b[38;5;241m0\u001b[39m]\n\u001b[1;32m    123\u001b[0m     \u001b[38;5;28;01mif\u001b[39;00m \u001b[38;5;129;01mnot\u001b[39;00m args2\n\u001b[0;32m--> 124\u001b[0m     \u001b[38;5;28;01melse\u001b[39;00m \u001b[43mmethods\u001b[49m\u001b[38;5;241;43m.\u001b[39;49m\u001b[43mconcat\u001b[49m\u001b[43m(\u001b[49m\u001b[43margs2\u001b[49m\u001b[43m,\u001b[49m\u001b[43m \u001b[49m\u001b[43muniform\u001b[49m\u001b[38;5;241;43m=\u001b[39;49m\u001b[38;5;28;43;01mTrue\u001b[39;49;00m\u001b[43m,\u001b[49m\u001b[43m \u001b[49m\u001b[43mignore_index\u001b[49m\u001b[38;5;241;43m=\u001b[39;49m\u001b[43mignore_index\u001b[49m\u001b[43m)\u001b[49m\n\u001b[1;32m    125\u001b[0m )\n",
      "File \u001b[0;32m/opt/conda/envs/deconv/lib/python3.10/site-packages/dask/dataframe/dispatch.py:60\u001b[0m, in \u001b[0;36mconcat\u001b[0;34m(dfs, axis, join, uniform, filter_warning, ignore_index, **kwargs)\u001b[0m\n\u001b[1;32m     58\u001b[0m \u001b[38;5;28;01melse\u001b[39;00m:\n\u001b[1;32m     59\u001b[0m     func \u001b[38;5;241m=\u001b[39m concat_dispatch\u001b[38;5;241m.\u001b[39mdispatch(\u001b[38;5;28mtype\u001b[39m(dfs[\u001b[38;5;241m0\u001b[39m]))\n\u001b[0;32m---> 60\u001b[0m     \u001b[38;5;28;01mreturn\u001b[39;00m \u001b[43mfunc\u001b[49m\u001b[43m(\u001b[49m\n\u001b[1;32m     61\u001b[0m \u001b[43m        \u001b[49m\u001b[43mdfs\u001b[49m\u001b[43m,\u001b[49m\n\u001b[1;32m     62\u001b[0m \u001b[43m        \u001b[49m\u001b[43maxis\u001b[49m\u001b[38;5;241;43m=\u001b[39;49m\u001b[43maxis\u001b[49m\u001b[43m,\u001b[49m\n\u001b[1;32m     63\u001b[0m \u001b[43m        \u001b[49m\u001b[43mjoin\u001b[49m\u001b[38;5;241;43m=\u001b[39;49m\u001b[43mjoin\u001b[49m\u001b[43m,\u001b[49m\n\u001b[1;32m     64\u001b[0m \u001b[43m        \u001b[49m\u001b[43muniform\u001b[49m\u001b[38;5;241;43m=\u001b[39;49m\u001b[43muniform\u001b[49m\u001b[43m,\u001b[49m\n\u001b[1;32m     65\u001b[0m \u001b[43m        \u001b[49m\u001b[43mfilter_warning\u001b[49m\u001b[38;5;241;43m=\u001b[39;49m\u001b[43mfilter_warning\u001b[49m\u001b[43m,\u001b[49m\n\u001b[1;32m     66\u001b[0m \u001b[43m        \u001b[49m\u001b[43mignore_index\u001b[49m\u001b[38;5;241;43m=\u001b[39;49m\u001b[43mignore_index\u001b[49m\u001b[43m,\u001b[49m\n\u001b[1;32m     67\u001b[0m \u001b[43m        \u001b[49m\u001b[38;5;241;43m*\u001b[39;49m\u001b[38;5;241;43m*\u001b[39;49m\u001b[43mkwargs\u001b[49m\u001b[43m,\u001b[49m\n\u001b[1;32m     68\u001b[0m \u001b[43m    \u001b[49m\u001b[43m)\u001b[49m\n",
      "File \u001b[0;32m/opt/conda/envs/deconv/lib/python3.10/site-packages/dask/dataframe/backends.py:465\u001b[0m, in \u001b[0;36mconcat_pandas\u001b[0;34m(dfs, axis, join, uniform, filter_warning, ignore_index, **kwargs)\u001b[0m\n\u001b[1;32m    463\u001b[0m not_cat \u001b[38;5;241m=\u001b[39m cat_mask[\u001b[38;5;241m~\u001b[39mcat_mask]\u001b[38;5;241m.\u001b[39mindex\n\u001b[1;32m    464\u001b[0m \u001b[38;5;66;03m# this should be aligned, so no need to filter warning\u001b[39;00m\n\u001b[0;32m--> 465\u001b[0m out \u001b[38;5;241m=\u001b[39m \u001b[43mpd\u001b[49m\u001b[38;5;241;43m.\u001b[39;49m\u001b[43mconcat\u001b[49m\u001b[43m(\u001b[49m\n\u001b[1;32m    466\u001b[0m \u001b[43m    \u001b[49m\u001b[43m[\u001b[49m\u001b[43mdf\u001b[49m\u001b[43m[\u001b[49m\u001b[43mdf\u001b[49m\u001b[38;5;241;43m.\u001b[39;49m\u001b[43mcolumns\u001b[49m\u001b[38;5;241;43m.\u001b[39;49m\u001b[43mintersection\u001b[49m\u001b[43m(\u001b[49m\u001b[43mnot_cat\u001b[49m\u001b[43m)\u001b[49m\u001b[43m]\u001b[49m\u001b[43m \u001b[49m\u001b[38;5;28;43;01mfor\u001b[39;49;00m\u001b[43m \u001b[49m\u001b[43mdf\u001b[49m\u001b[43m \u001b[49m\u001b[38;5;129;43;01min\u001b[39;49;00m\u001b[43m \u001b[49m\u001b[43mdfs3\u001b[49m\u001b[43m]\u001b[49m\u001b[43m,\u001b[49m\n\u001b[1;32m    467\u001b[0m \u001b[43m    \u001b[49m\u001b[43mjoin\u001b[49m\u001b[38;5;241;43m=\u001b[39;49m\u001b[43mjoin\u001b[49m\u001b[43m,\u001b[49m\n\u001b[1;32m    468\u001b[0m \u001b[43m    \u001b[49m\u001b[38;5;241;43m*\u001b[39;49m\u001b[38;5;241;43m*\u001b[39;49m\u001b[43mkwargs\u001b[49m\u001b[43m,\u001b[49m\n\u001b[1;32m    469\u001b[0m \u001b[43m\u001b[49m\u001b[43m)\u001b[49m\n\u001b[1;32m    470\u001b[0m temp_ind \u001b[38;5;241m=\u001b[39m out\u001b[38;5;241m.\u001b[39mindex\n\u001b[1;32m    471\u001b[0m \u001b[38;5;28;01mfor\u001b[39;00m col \u001b[38;5;129;01min\u001b[39;00m cat_mask\u001b[38;5;241m.\u001b[39mindex\u001b[38;5;241m.\u001b[39mdifference(not_cat):\n\u001b[1;32m    472\u001b[0m     \u001b[38;5;66;03m# Find an example of categoricals in this column\u001b[39;00m\n",
      "File \u001b[0;32m/opt/conda/envs/deconv/lib/python3.10/site-packages/pandas/util/_decorators.py:311\u001b[0m, in \u001b[0;36mdeprecate_nonkeyword_arguments.<locals>.decorate.<locals>.wrapper\u001b[0;34m(*args, **kwargs)\u001b[0m\n\u001b[1;32m    305\u001b[0m \u001b[38;5;28;01mif\u001b[39;00m \u001b[38;5;28mlen\u001b[39m(args) \u001b[38;5;241m>\u001b[39m num_allow_args:\n\u001b[1;32m    306\u001b[0m     warnings\u001b[38;5;241m.\u001b[39mwarn(\n\u001b[1;32m    307\u001b[0m         msg\u001b[38;5;241m.\u001b[39mformat(arguments\u001b[38;5;241m=\u001b[39marguments),\n\u001b[1;32m    308\u001b[0m         \u001b[38;5;167;01mFutureWarning\u001b[39;00m,\n\u001b[1;32m    309\u001b[0m         stacklevel\u001b[38;5;241m=\u001b[39mstacklevel,\n\u001b[1;32m    310\u001b[0m     )\n\u001b[0;32m--> 311\u001b[0m \u001b[38;5;28;01mreturn\u001b[39;00m \u001b[43mfunc\u001b[49m\u001b[43m(\u001b[49m\u001b[38;5;241;43m*\u001b[39;49m\u001b[43margs\u001b[49m\u001b[43m,\u001b[49m\u001b[43m \u001b[49m\u001b[38;5;241;43m*\u001b[39;49m\u001b[38;5;241;43m*\u001b[39;49m\u001b[43mkwargs\u001b[49m\u001b[43m)\u001b[49m\n",
      "File \u001b[0;32m/opt/conda/envs/deconv/lib/python3.10/site-packages/pandas/core/reshape/concat.py:360\u001b[0m, in \u001b[0;36mconcat\u001b[0;34m(objs, axis, join, ignore_index, keys, levels, names, verify_integrity, sort, copy)\u001b[0m\n\u001b[1;32m    156\u001b[0m \u001b[38;5;124;03m\"\"\"\u001b[39;00m\n\u001b[1;32m    157\u001b[0m \u001b[38;5;124;03mConcatenate pandas objects along a particular axis with optional set logic\u001b[39;00m\n\u001b[1;32m    158\u001b[0m \u001b[38;5;124;03malong the other axes.\u001b[39;00m\n\u001b[0;32m   (...)\u001b[0m\n\u001b[1;32m    345\u001b[0m \u001b[38;5;124;03mValueError: Indexes have overlapping values: ['a']\u001b[39;00m\n\u001b[1;32m    346\u001b[0m \u001b[38;5;124;03m\"\"\"\u001b[39;00m\n\u001b[1;32m    347\u001b[0m op \u001b[38;5;241m=\u001b[39m _Concatenator(\n\u001b[1;32m    348\u001b[0m     objs,\n\u001b[1;32m    349\u001b[0m     axis\u001b[38;5;241m=\u001b[39maxis,\n\u001b[0;32m   (...)\u001b[0m\n\u001b[1;32m    357\u001b[0m     sort\u001b[38;5;241m=\u001b[39msort,\n\u001b[1;32m    358\u001b[0m )\n\u001b[0;32m--> 360\u001b[0m \u001b[38;5;28;01mreturn\u001b[39;00m \u001b[43mop\u001b[49m\u001b[38;5;241;43m.\u001b[39;49m\u001b[43mget_result\u001b[49m\u001b[43m(\u001b[49m\u001b[43m)\u001b[49m\n",
      "File \u001b[0;32m/opt/conda/envs/deconv/lib/python3.10/site-packages/pandas/core/reshape/concat.py:595\u001b[0m, in \u001b[0;36m_Concatenator.get_result\u001b[0;34m(self)\u001b[0m\n\u001b[1;32m    591\u001b[0m             indexers[ax] \u001b[38;5;241m=\u001b[39m obj_labels\u001b[38;5;241m.\u001b[39mget_indexer(new_labels)\n\u001b[1;32m    593\u001b[0m     mgrs_indexers\u001b[38;5;241m.\u001b[39mappend((obj\u001b[38;5;241m.\u001b[39m_mgr, indexers))\n\u001b[0;32m--> 595\u001b[0m new_data \u001b[38;5;241m=\u001b[39m \u001b[43mconcatenate_managers\u001b[49m\u001b[43m(\u001b[49m\n\u001b[1;32m    596\u001b[0m \u001b[43m    \u001b[49m\u001b[43mmgrs_indexers\u001b[49m\u001b[43m,\u001b[49m\u001b[43m \u001b[49m\u001b[38;5;28;43mself\u001b[39;49m\u001b[38;5;241;43m.\u001b[39;49m\u001b[43mnew_axes\u001b[49m\u001b[43m,\u001b[49m\u001b[43m \u001b[49m\u001b[43mconcat_axis\u001b[49m\u001b[38;5;241;43m=\u001b[39;49m\u001b[38;5;28;43mself\u001b[39;49m\u001b[38;5;241;43m.\u001b[39;49m\u001b[43mbm_axis\u001b[49m\u001b[43m,\u001b[49m\u001b[43m \u001b[49m\u001b[43mcopy\u001b[49m\u001b[38;5;241;43m=\u001b[39;49m\u001b[38;5;28;43mself\u001b[39;49m\u001b[38;5;241;43m.\u001b[39;49m\u001b[43mcopy\u001b[49m\n\u001b[1;32m    597\u001b[0m \u001b[43m\u001b[49m\u001b[43m)\u001b[49m\n\u001b[1;32m    598\u001b[0m \u001b[38;5;28;01mif\u001b[39;00m \u001b[38;5;129;01mnot\u001b[39;00m \u001b[38;5;28mself\u001b[39m\u001b[38;5;241m.\u001b[39mcopy:\n\u001b[1;32m    599\u001b[0m     new_data\u001b[38;5;241m.\u001b[39m_consolidate_inplace()\n",
      "File \u001b[0;32m/opt/conda/envs/deconv/lib/python3.10/site-packages/pandas/core/internals/concat.py:231\u001b[0m, in \u001b[0;36mconcatenate_managers\u001b[0;34m(mgrs_indexers, axes, concat_axis, copy)\u001b[0m\n\u001b[1;32m    225\u001b[0m vals \u001b[38;5;241m=\u001b[39m [ju\u001b[38;5;241m.\u001b[39mblock\u001b[38;5;241m.\u001b[39mvalues \u001b[38;5;28;01mfor\u001b[39;00m ju \u001b[38;5;129;01min\u001b[39;00m join_units]\n\u001b[1;32m    227\u001b[0m \u001b[38;5;28;01mif\u001b[39;00m \u001b[38;5;129;01mnot\u001b[39;00m blk\u001b[38;5;241m.\u001b[39mis_extension:\n\u001b[1;32m    228\u001b[0m     \u001b[38;5;66;03m# _is_uniform_join_units ensures a single dtype, so\u001b[39;00m\n\u001b[1;32m    229\u001b[0m     \u001b[38;5;66;03m#  we can use np.concatenate, which is more performant\u001b[39;00m\n\u001b[1;32m    230\u001b[0m     \u001b[38;5;66;03m#  than concat_compat\u001b[39;00m\n\u001b[0;32m--> 231\u001b[0m     values \u001b[38;5;241m=\u001b[39m \u001b[43mnp\u001b[49m\u001b[38;5;241;43m.\u001b[39;49m\u001b[43mconcatenate\u001b[49m\u001b[43m(\u001b[49m\u001b[43mvals\u001b[49m\u001b[43m,\u001b[49m\u001b[43m \u001b[49m\u001b[43maxis\u001b[49m\u001b[38;5;241;43m=\u001b[39;49m\u001b[38;5;241;43m1\u001b[39;49m\u001b[43m)\u001b[49m\n\u001b[1;32m    232\u001b[0m \u001b[38;5;28;01melse\u001b[39;00m:\n\u001b[1;32m    233\u001b[0m     \u001b[38;5;66;03m# TODO(EA2D): special-casing not needed with 2D EAs\u001b[39;00m\n\u001b[1;32m    234\u001b[0m     values \u001b[38;5;241m=\u001b[39m concat_compat(vals, axis\u001b[38;5;241m=\u001b[39m\u001b[38;5;241m1\u001b[39m)\n",
      "File \u001b[0;32m<__array_function__ internals>:180\u001b[0m, in \u001b[0;36mconcatenate\u001b[0;34m(*args, **kwargs)\u001b[0m\n",
      "\u001b[0;31mMemoryError\u001b[0m: Unable to allocate 3.52 GiB for an array with shape (2, 236447360) and data type float64"
     ]
    }
   ],
   "source": [
    "columns = [\n",
    "    \"n_cells\",\n",
    "    \"malignant_from_one_sample\",\n",
    "    \"aliquot_barcode\",\n",
    "    \"gene_symbol\",\n",
    "    \"tpm_pseudo\",\n",
    "    \"tpm_real\",\n",
    "]\n",
    "merged = merged_[columns].compute()"
   ]
  },
  {
   "cell_type": "code",
   "execution_count": null,
   "id": "58036b56-1cdb-49e2-99b1-a100e8beab6c",
   "metadata": {},
   "outputs": [],
   "source": [
    "merged"
   ]
  },
  {
   "cell_type": "code",
   "execution_count": null,
   "id": "d0a049bd-a2e7-4750-8011-e7f24f925d7d",
   "metadata": {},
   "outputs": [],
   "source": [
    "merged.info()"
   ]
  },
  {
   "cell_type": "code",
   "execution_count": null,
   "id": "22b53476-c4c7-45f1-8fa3-4b6e2050de1b",
   "metadata": {},
   "outputs": [],
   "source": [
    "merged"
   ]
  },
  {
   "cell_type": "code",
   "execution_count": null,
   "id": "4897f3e7-5854-4b7a-96fd-52b809bb9b0c",
   "metadata": {},
   "outputs": [],
   "source": [
    "merged_groupby = merged.groupby([\"n_cells\", \"malignant_from_one_sample\"])"
   ]
  },
  {
   "cell_type": "code",
   "execution_count": null,
   "id": "593dd8d2-3d1c-4b20-8e0f-3014e8ad5ce4",
   "metadata": {},
   "outputs": [],
   "source": [
    "merged_groupby.groups.keys()  # [[\"tpm_pseudo\", \"tpm_real\"]]"
   ]
  },
  {
   "cell_type": "code",
   "execution_count": null,
   "id": "232d5aef-b833-46d2-8a20-9b778a253c96",
   "metadata": {},
   "outputs": [],
   "source": [
    "merged_groupby[[\"tpm_pseudo\", \"tpm_real\"]].corr(\"pearson\")"
   ]
  },
  {
   "cell_type": "code",
   "execution_count": null,
   "id": "22873662-89e8-4841-b0fb-90a8edf8d5a8",
   "metadata": {},
   "outputs": [],
   "source": [
    "merged_groupby[[\"tpm_pseudo\", \"tpm_real\"]].corr(\"spearman\")"
   ]
  },
  {
   "cell_type": "code",
   "execution_count": null,
   "id": "87adbc64-2f7a-452f-8b33-73e9e51954c9",
   "metadata": {},
   "outputs": [],
   "source": [
    "corr_pearson = (\n",
    "    merged_groupby[[\"tpm_pseudo\", \"tpm_real\"]]\n",
    "    .corr(\"pearson\")\n",
    "    .loc[:, :, \"tpm_real\"][\"tpm_pseudo\"]\n",
    ")\n",
    "corr_pearson"
   ]
  },
  {
   "cell_type": "code",
   "execution_count": null,
   "id": "0bbc2143-a338-4246-aae9-b3ec417c1ae2",
   "metadata": {},
   "outputs": [],
   "source": [
    "corr_spearman = (\n",
    "    merged_groupby[[\"tpm_pseudo\", \"tpm_real\"]]\n",
    "    .corr(\"spearman\")\n",
    "    .loc[:, :, \"tpm_real\"][\"tpm_pseudo\"]\n",
    ")\n",
    "corr_spearman"
   ]
  },
  {
   "cell_type": "code",
   "execution_count": null,
   "id": "5f48388a-8401-450e-a4d0-247d7849fb21",
   "metadata": {},
   "outputs": [],
   "source": [
    "import scipy.stats"
   ]
  },
  {
   "cell_type": "code",
   "execution_count": null,
   "id": "1c3ddf2d-8088-4792-9f18-74fef460d008",
   "metadata": {},
   "outputs": [],
   "source": [
    "merged_groupby.agg(func=scipy.stats.ks_2samp)"
   ]
  },
  {
   "cell_type": "code",
   "execution_count": null,
   "id": "07c77059-1914-4dea-8d87-951af9df3e9e",
   "metadata": {},
   "outputs": [],
   "source": [
    "merged_groupby.agg(func=lambda x: x.shape)"
   ]
  },
  {
   "cell_type": "code",
   "execution_count": null,
   "id": "a295751f-0a51-48dd-8c8c-23f00049af28",
   "metadata": {},
   "outputs": [],
   "source": [
    "agg_metrics = merged_groupby.apply(\n",
    "    lambda df: np.corrcoef(df[\"tpm_pseudo\"], df[\"tpm_real\"])[0, 1]\n",
    ").to_frame(name=\"corr_pearson\")\n",
    "agg_metrics[\"corr_spearman\"] = merged_groupby.apply(\n",
    "    lambda df: scipy.stats.spearmanr(df[\"tpm_pseudo\"], df[\"tpm_real\"])[0]\n",
    ")"
   ]
  },
  {
   "cell_type": "code",
   "execution_count": null,
   "id": "fcade821-701f-4309-a077-4db05aa4d85b",
   "metadata": {},
   "outputs": [],
   "source": [
    "agg_metrics"
   ]
  },
  {
   "cell_type": "code",
   "execution_count": null,
   "id": "754c3836-a581-4d4f-834b-1e60b5ce9e85",
   "metadata": {},
   "outputs": [],
   "source": []
  }
 ],
 "metadata": {
  "environment": {
   "kernel": "conda-env-deconv-py",
   "name": "common-cpu.m91",
   "type": "gcloud",
   "uri": "gcr.io/deeplearning-platform-release/base-cpu:m91"
  },
  "kernelspec": {
   "display_name": "Python [conda env:deconv]",
   "language": "python",
   "name": "conda-env-deconv-py"
  },
  "language_info": {
   "codemirror_mode": {
    "name": "ipython",
    "version": 3
   },
   "file_extension": ".py",
   "mimetype": "text/x-python",
   "name": "python",
   "nbconvert_exporter": "python",
   "pygments_lexer": "ipython3",
   "version": "3.10.4"
  }
 },
 "nbformat": 4,
 "nbformat_minor": 5
}
