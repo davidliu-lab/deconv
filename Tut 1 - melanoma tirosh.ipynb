{
 "cells": [
  {
   "cell_type": "markdown",
   "id": "be7c0281",
   "metadata": {},
   "source": [
    "# tut 1\n",
    "\n",
    "Single Cell RNA-Seq Melanoma (Fig. 3c-e) (Tutorial 1):\n",
    "\n",
    "This example builds a signature matrix from single cell RNA sequencing data from melanoma (Tirosh et al., Science, 2016) and enumerates the proportions of the different cell types in bulk melanoma tumors reconstituted from single cell RNA-Seq data.\n",
    "\n",
    "```\n",
    "docker run \\\n",
    "    -v absolute/path/to/input/dir:/src/data \\\n",
    "    -v absolute/path/to/output/dir:/src/outdir \\\n",
    "    cibersortx/fractions \\\n",
    "    --username email_address_registered_on_CIBERSORTx_website \\\n",
    "    --token token_obtained_from_CIBERSORTx_website \\\n",
    "    --single_cell TRUE \\\n",
    "    --refsample scRNA-Seq_reference_melanoma_Tirosh_SuppFig_3b-d.txt \\\n",
    "    --mixture mixture_melanoma_Tirosh_SuppFig_3b-d.txt\n",
    "\n",
    "```"
   ]
  },
  {
   "cell_type": "markdown",
   "id": "efe3704b",
   "metadata": {},
   "source": [
    "## import stuff"
   ]
  },
  {
   "cell_type": "code",
   "execution_count": 1,
   "id": "c1975fde",
   "metadata": {},
   "outputs": [],
   "source": [
    "import os"
   ]
  },
  {
   "cell_type": "code",
   "execution_count": 2,
   "id": "c81311d6",
   "metadata": {},
   "outputs": [],
   "source": [
    "import pandas as pd"
   ]
  },
  {
   "cell_type": "code",
   "execution_count": 3,
   "id": "fa83465e",
   "metadata": {},
   "outputs": [],
   "source": [
    "import numpy as np\n",
    "\n",
    "np.set_printoptions(precision=6, suppress=True)  # don't use scientific notation"
   ]
  },
  {
   "cell_type": "code",
   "execution_count": 4,
   "id": "1605b0ec",
   "metadata": {},
   "outputs": [],
   "source": [
    "import plotly.express as px\n",
    "import plotly.graph_objects as go\n",
    "import plotly.io\n",
    "\n",
    "plotly.io.renderers.default = 'jupyterlab+png'  # makes plots visible on github"
   ]
  },
  {
   "cell_type": "markdown",
   "id": "a703bd05",
   "metadata": {},
   "source": [
    "### find input files"
   ]
  },
  {
   "cell_type": "code",
   "execution_count": 5,
   "id": "aec06565",
   "metadata": {},
   "outputs": [
    {
     "name": "stdout",
     "output_type": "stream",
     "text": [
      "/mnt/buckets/liulab/csx_example_files/RNA-Seq_mixture_melanoma_Tirosh_Fig2b-d.txt\n",
      "/mnt/buckets/liulab/csx_example_files/Single_Cell_RNA-Seq_Melanoma_SuppFig_3b-d/mixture_melanoma_Tirosh_SuppFig_3b-d.txt\n",
      "/mnt/buckets/liulab/csx_example_files/Single_Cell_RNA-Seq_Melanoma_SuppFig_3b-d/scRNA-Seq_reference_melanoma_Tirosh_SuppFig_3b-d.txt\n",
      "/mnt/buckets/liulab/csx_example_files/groundtruth_Melanoma_Tirosh_et_al_SuppFig3b-d.txt\n"
     ]
    }
   ],
   "source": [
    "!find /mnt/buckets/liulab/ -type f -iname '*tirosh*' -o -type f -iname '*melanoma*'"
   ]
  },
  {
   "cell_type": "markdown",
   "id": "15053ee1",
   "metadata": {},
   "source": [
    "### read data into dataframes"
   ]
  },
  {
   "cell_type": "code",
   "execution_count": null,
   "id": "ffe8f9ca",
   "metadata": {},
   "outputs": [],
   "source": [
    "path = (\n",
    "    \"/mnt/buckets/liulab/csx_example_files/Single_Cell_RNA-Seq_Melanoma_SuppFig_3b-d/\"\n",
    "    \"scRNA-Seq_reference_melanoma_Tirosh_SuppFig_3b-d.txt\"\n",
    ")\n",
    "\n",
    "tirosh_sc = pd.read_csv(\n",
    "    path,\n",
    "    sep='\\t',\n",
    "    index_col=0\n",
    ")\n",
    "\n",
    "tirosh_sc"
   ]
  },
  {
   "cell_type": "code",
   "execution_count": null,
   "id": "6bba9589",
   "metadata": {},
   "outputs": [],
   "source": [
    "tirosh_sc.sum(axis=0).sort_values()"
   ]
  },
  {
   "cell_type": "code",
   "execution_count": null,
   "id": "8703c18a",
   "metadata": {},
   "outputs": [],
   "source": [
    "path = (\n",
    "    \"/mnt/buckets/liulab/csx_example_files/Single_Cell_RNA-Seq_Melanoma_SuppFig_3b-d/\"\n",
    "    \"mixture_melanoma_Tirosh_SuppFig_3b-d.txt\"\n",
    ")\n",
    "\n",
    "tirosh_mixtures = pd.read_csv(\n",
    "    path,\n",
    "    sep='\\t',\n",
    "    index_col=0\n",
    ")\n",
    "\n",
    "tirosh_mixtures"
   ]
  },
  {
   "cell_type": "markdown",
   "id": "17753520",
   "metadata": {},
   "source": [
    "## run csx with docker"
   ]
  },
  {
   "cell_type": "code",
   "execution_count": null,
   "id": "c9e39718",
   "metadata": {},
   "outputs": [],
   "source": [
    "!./scripts/tut1-csx_fractions_melanoma.sh"
   ]
  },
  {
   "cell_type": "markdown",
   "id": "0203edc9",
   "metadata": {},
   "source": [
    "## inspect csx results"
   ]
  },
  {
   "cell_type": "markdown",
   "id": "10df2b7c",
   "metadata": {},
   "source": [
    "### find output files"
   ]
  },
  {
   "cell_type": "code",
   "execution_count": 6,
   "id": "a4e38335",
   "metadata": {},
   "outputs": [
    {
     "name": "stdout",
     "output_type": "stream",
     "text": [
      "/mnt/buckets/liulab/csx-runs/20210714_154924/out/CIBERSORTx_Adjusted.txt\n",
      "/mnt/buckets/liulab/csx-runs/20210714_165603/out/CIBERSORTx_Adjusted.txt\n",
      "/mnt/buckets/liulab/csx-runs/20210715_160345/out/CIBERSORTx_Adjusted.txt\n"
     ]
    }
   ],
   "source": [
    "!find /mnt/buckets/liulab/csx-runs/ -name CIBERSORTx_Adjusted.txt | sort"
   ]
  },
  {
   "cell_type": "code",
   "execution_count": 7,
   "id": "957c22a5",
   "metadata": {},
   "outputs": [],
   "source": [
    "csx_run_dir = \"/mnt/buckets/liulab/csx-runs/20210715_160345/\""
   ]
  },
  {
   "cell_type": "markdown",
   "id": "6bbc4f1c",
   "metadata": {},
   "source": [
    "### look at sig matrix, mixtures"
   ]
  },
  {
   "cell_type": "code",
   "execution_count": null,
   "id": "a2440ea9",
   "metadata": {},
   "outputs": [],
   "source": [
    "path = os.path.join(csx_run_dir, \"out\", \"CIBERSORTx_sigmatrix_Adjusted.txt\")\n",
    "print(path)\n",
    "\n",
    "learned_sigmatrix = pd.read_csv(\n",
    "    path,\n",
    "    sep='\\t',\n",
    "    index_col=0\n",
    ")"
   ]
  },
  {
   "cell_type": "code",
   "execution_count": null,
   "id": "5ee7bcca",
   "metadata": {},
   "outputs": [],
   "source": [
    "learned_sigmatrix.sample(10)"
   ]
  },
  {
   "cell_type": "code",
   "execution_count": null,
   "id": "f231a3bd",
   "metadata": {},
   "outputs": [],
   "source": [
    "path = os.path.join(csx_run_dir, \"in\", \"mymixture.txt\")\n",
    "print(path)\n",
    "\n",
    "mixtures = pd.read_csv(\n",
    "    path,\n",
    "    sep='\\t',\n",
    "    index_col=0\n",
    ")"
   ]
  },
  {
   "cell_type": "code",
   "execution_count": null,
   "id": "cd430d54",
   "metadata": {},
   "outputs": [],
   "source": [
    "pd.merge(learned_sigmatrix, mixtures['53'], left_index=True, right_index=True)"
   ]
  },
  {
   "cell_type": "markdown",
   "id": "6e899f97",
   "metadata": {},
   "source": [
    "### attempt inferring fractions myself with sigmatrix, mixture"
   ]
  },
  {
   "cell_type": "code",
   "execution_count": null,
   "id": "8aafcaa9",
   "metadata": {},
   "outputs": [],
   "source": [
    "import numpy as np\n",
    "\n",
    "from sklearn.svm import NuSVR\n",
    "from sklearn.pipeline import make_pipeline\n",
    "from sklearn.preprocessing import StandardScaler"
   ]
  },
  {
   "cell_type": "code",
   "execution_count": null,
   "id": "b805780c",
   "metadata": {},
   "outputs": [],
   "source": [
    "np.set_printoptions(precision=6, suppress=True)"
   ]
  },
  {
   "cell_type": "code",
   "execution_count": null,
   "id": "4ed0a7be",
   "metadata": {},
   "outputs": [],
   "source": [
    "_combined_data = pd.merge(learned_sigmatrix, mixtures['53'], left_index=True, right_index=True)\n",
    "y = _combined_data.values[:, -1]\n",
    "X = _combined_data.values[:, :-1]\n",
    "y.shape, X.shape"
   ]
  },
  {
   "cell_type": "code",
   "execution_count": null,
   "id": "fd62c33d",
   "metadata": {},
   "outputs": [],
   "source": [
    "regr = make_pipeline(StandardScaler(), NuSVR(nu=0.5, kernel='linear'))\n",
    "regr.fit(X, y)\n",
    "_ = regr.named_steps['nusvr'].coef_\n",
    "_ / np.sum(_)"
   ]
  },
  {
   "cell_type": "markdown",
   "id": "bb796e03",
   "metadata": {},
   "source": [
    "## check fractions inferred by csx"
   ]
  },
  {
   "cell_type": "code",
   "execution_count": 8,
   "id": "febb2e02",
   "metadata": {},
   "outputs": [
    {
     "name": "stdout",
     "output_type": "stream",
     "text": [
      "/mnt/buckets/liulab/csx-runs/20210715_160345/out/CIBERSORTx_Adjusted.txt\n"
     ]
    },
    {
     "data": {
      "text/html": [
       "<div>\n",
       "<style scoped>\n",
       "    .dataframe tbody tr th:only-of-type {\n",
       "        vertical-align: middle;\n",
       "    }\n",
       "\n",
       "    .dataframe tbody tr th {\n",
       "        vertical-align: top;\n",
       "    }\n",
       "\n",
       "    .dataframe thead th {\n",
       "        text-align: right;\n",
       "    }\n",
       "</style>\n",
       "<table border=\"1\" class=\"dataframe\">\n",
       "  <thead>\n",
       "    <tr style=\"text-align: right;\">\n",
       "      <th></th>\n",
       "      <th>Malignant</th>\n",
       "      <th>Endothelial cells</th>\n",
       "      <th>CAF</th>\n",
       "      <th>T cells CD8</th>\n",
       "      <th>NK cells</th>\n",
       "      <th>Macrophages</th>\n",
       "      <th>T cells CD4</th>\n",
       "      <th>B cells</th>\n",
       "      <th>P-value</th>\n",
       "      <th>Correlation</th>\n",
       "      <th>RMSE</th>\n",
       "    </tr>\n",
       "    <tr>\n",
       "      <th>Mixture</th>\n",
       "      <th></th>\n",
       "      <th></th>\n",
       "      <th></th>\n",
       "      <th></th>\n",
       "      <th></th>\n",
       "      <th></th>\n",
       "      <th></th>\n",
       "      <th></th>\n",
       "      <th></th>\n",
       "      <th></th>\n",
       "      <th></th>\n",
       "    </tr>\n",
       "  </thead>\n",
       "  <tbody>\n",
       "    <tr>\n",
       "      <th>53</th>\n",
       "      <td>0.046912</td>\n",
       "      <td>0.048921</td>\n",
       "      <td>0.056016</td>\n",
       "      <td>0.288460</td>\n",
       "      <td>0.046088</td>\n",
       "      <td>0.107681</td>\n",
       "      <td>0.404889</td>\n",
       "      <td>0.001032</td>\n",
       "      <td>9999.0</td>\n",
       "      <td>0.871528</td>\n",
       "      <td>0.649739</td>\n",
       "    </tr>\n",
       "    <tr>\n",
       "      <th>58</th>\n",
       "      <td>0.000719</td>\n",
       "      <td>0.000682</td>\n",
       "      <td>0.000201</td>\n",
       "      <td>0.469386</td>\n",
       "      <td>0.010466</td>\n",
       "      <td>0.045708</td>\n",
       "      <td>0.412112</td>\n",
       "      <td>0.060726</td>\n",
       "      <td>9999.0</td>\n",
       "      <td>0.964670</td>\n",
       "      <td>0.531574</td>\n",
       "    </tr>\n",
       "    <tr>\n",
       "      <th>59</th>\n",
       "      <td>0.655298</td>\n",
       "      <td>0.009818</td>\n",
       "      <td>0.301073</td>\n",
       "      <td>0.000000</td>\n",
       "      <td>0.000472</td>\n",
       "      <td>0.026106</td>\n",
       "      <td>0.007233</td>\n",
       "      <td>0.000000</td>\n",
       "      <td>9999.0</td>\n",
       "      <td>0.652095</td>\n",
       "      <td>0.780055</td>\n",
       "    </tr>\n",
       "    <tr>\n",
       "      <th>60</th>\n",
       "      <td>0.034117</td>\n",
       "      <td>0.004892</td>\n",
       "      <td>0.000000</td>\n",
       "      <td>0.178893</td>\n",
       "      <td>0.060326</td>\n",
       "      <td>0.081418</td>\n",
       "      <td>0.250973</td>\n",
       "      <td>0.389381</td>\n",
       "      <td>9999.0</td>\n",
       "      <td>0.946328</td>\n",
       "      <td>0.455591</td>\n",
       "    </tr>\n",
       "    <tr>\n",
       "      <th>65</th>\n",
       "      <td>0.068950</td>\n",
       "      <td>0.002214</td>\n",
       "      <td>0.000675</td>\n",
       "      <td>0.199426</td>\n",
       "      <td>0.024680</td>\n",
       "      <td>0.055358</td>\n",
       "      <td>0.556732</td>\n",
       "      <td>0.091964</td>\n",
       "      <td>9999.0</td>\n",
       "      <td>0.901685</td>\n",
       "      <td>0.646823</td>\n",
       "    </tr>\n",
       "    <tr>\n",
       "      <th>67</th>\n",
       "      <td>0.000816</td>\n",
       "      <td>0.000000</td>\n",
       "      <td>0.000000</td>\n",
       "      <td>0.137107</td>\n",
       "      <td>0.031391</td>\n",
       "      <td>0.014096</td>\n",
       "      <td>0.582954</td>\n",
       "      <td>0.233635</td>\n",
       "      <td>9999.0</td>\n",
       "      <td>0.901385</td>\n",
       "      <td>0.624561</td>\n",
       "    </tr>\n",
       "    <tr>\n",
       "      <th>71</th>\n",
       "      <td>0.402557</td>\n",
       "      <td>0.009144</td>\n",
       "      <td>0.002694</td>\n",
       "      <td>0.229847</td>\n",
       "      <td>0.032193</td>\n",
       "      <td>0.062506</td>\n",
       "      <td>0.258383</td>\n",
       "      <td>0.002676</td>\n",
       "      <td>9999.0</td>\n",
       "      <td>0.731109</td>\n",
       "      <td>0.767737</td>\n",
       "    </tr>\n",
       "    <tr>\n",
       "      <th>72</th>\n",
       "      <td>0.001155</td>\n",
       "      <td>0.001563</td>\n",
       "      <td>0.000994</td>\n",
       "      <td>0.000000</td>\n",
       "      <td>0.009979</td>\n",
       "      <td>0.032146</td>\n",
       "      <td>0.708719</td>\n",
       "      <td>0.245443</td>\n",
       "      <td>9999.0</td>\n",
       "      <td>0.880880</td>\n",
       "      <td>0.638130</td>\n",
       "    </tr>\n",
       "    <tr>\n",
       "      <th>74</th>\n",
       "      <td>0.003817</td>\n",
       "      <td>0.001437</td>\n",
       "      <td>0.001734</td>\n",
       "      <td>0.454665</td>\n",
       "      <td>0.012862</td>\n",
       "      <td>0.090057</td>\n",
       "      <td>0.348990</td>\n",
       "      <td>0.086437</td>\n",
       "      <td>9999.0</td>\n",
       "      <td>0.942353</td>\n",
       "      <td>0.536504</td>\n",
       "    </tr>\n",
       "    <tr>\n",
       "      <th>75</th>\n",
       "      <td>0.024983</td>\n",
       "      <td>0.002253</td>\n",
       "      <td>0.000000</td>\n",
       "      <td>0.499056</td>\n",
       "      <td>0.016627</td>\n",
       "      <td>0.044156</td>\n",
       "      <td>0.395921</td>\n",
       "      <td>0.017004</td>\n",
       "      <td>9999.0</td>\n",
       "      <td>0.811784</td>\n",
       "      <td>0.659260</td>\n",
       "    </tr>\n",
       "    <tr>\n",
       "      <th>78</th>\n",
       "      <td>0.977178</td>\n",
       "      <td>0.002520</td>\n",
       "      <td>0.009568</td>\n",
       "      <td>0.000000</td>\n",
       "      <td>0.001774</td>\n",
       "      <td>0.001735</td>\n",
       "      <td>0.004453</td>\n",
       "      <td>0.002771</td>\n",
       "      <td>9999.0</td>\n",
       "      <td>0.870770</td>\n",
       "      <td>0.577450</td>\n",
       "    </tr>\n",
       "    <tr>\n",
       "      <th>79</th>\n",
       "      <td>0.489691</td>\n",
       "      <td>0.030939</td>\n",
       "      <td>0.007869</td>\n",
       "      <td>0.164362</td>\n",
       "      <td>0.000000</td>\n",
       "      <td>0.039309</td>\n",
       "      <td>0.190876</td>\n",
       "      <td>0.076955</td>\n",
       "      <td>9999.0</td>\n",
       "      <td>0.805630</td>\n",
       "      <td>0.735325</td>\n",
       "    </tr>\n",
       "    <tr>\n",
       "      <th>80</th>\n",
       "      <td>0.291200</td>\n",
       "      <td>0.079302</td>\n",
       "      <td>0.039898</td>\n",
       "      <td>0.123068</td>\n",
       "      <td>0.005743</td>\n",
       "      <td>0.017454</td>\n",
       "      <td>0.350496</td>\n",
       "      <td>0.092840</td>\n",
       "      <td>9999.0</td>\n",
       "      <td>0.961416</td>\n",
       "      <td>0.703155</td>\n",
       "    </tr>\n",
       "    <tr>\n",
       "      <th>81</th>\n",
       "      <td>0.342988</td>\n",
       "      <td>0.016658</td>\n",
       "      <td>0.126475</td>\n",
       "      <td>0.149601</td>\n",
       "      <td>0.021133</td>\n",
       "      <td>0.023623</td>\n",
       "      <td>0.305342</td>\n",
       "      <td>0.014180</td>\n",
       "      <td>9999.0</td>\n",
       "      <td>0.580737</td>\n",
       "      <td>0.853456</td>\n",
       "    </tr>\n",
       "    <tr>\n",
       "      <th>82</th>\n",
       "      <td>0.309887</td>\n",
       "      <td>0.032301</td>\n",
       "      <td>0.131832</td>\n",
       "      <td>0.111048</td>\n",
       "      <td>0.037128</td>\n",
       "      <td>0.069662</td>\n",
       "      <td>0.279443</td>\n",
       "      <td>0.028698</td>\n",
       "      <td>9999.0</td>\n",
       "      <td>0.605795</td>\n",
       "      <td>0.836815</td>\n",
       "    </tr>\n",
       "    <tr>\n",
       "      <th>84</th>\n",
       "      <td>0.067622</td>\n",
       "      <td>0.007231</td>\n",
       "      <td>0.021931</td>\n",
       "      <td>0.134040</td>\n",
       "      <td>0.085050</td>\n",
       "      <td>0.160665</td>\n",
       "      <td>0.377997</td>\n",
       "      <td>0.145464</td>\n",
       "      <td>9999.0</td>\n",
       "      <td>0.945796</td>\n",
       "      <td>0.497385</td>\n",
       "    </tr>\n",
       "    <tr>\n",
       "      <th>88</th>\n",
       "      <td>0.400383</td>\n",
       "      <td>0.000775</td>\n",
       "      <td>0.013500</td>\n",
       "      <td>0.101394</td>\n",
       "      <td>0.029061</td>\n",
       "      <td>0.155583</td>\n",
       "      <td>0.242642</td>\n",
       "      <td>0.056662</td>\n",
       "      <td>9999.0</td>\n",
       "      <td>0.961858</td>\n",
       "      <td>0.557140</td>\n",
       "    </tr>\n",
       "    <tr>\n",
       "      <th>89</th>\n",
       "      <td>0.185567</td>\n",
       "      <td>0.003400</td>\n",
       "      <td>0.000474</td>\n",
       "      <td>0.184564</td>\n",
       "      <td>0.033374</td>\n",
       "      <td>0.098165</td>\n",
       "      <td>0.269774</td>\n",
       "      <td>0.224682</td>\n",
       "      <td>9999.0</td>\n",
       "      <td>0.941801</td>\n",
       "      <td>0.553151</td>\n",
       "    </tr>\n",
       "    <tr>\n",
       "      <th>94</th>\n",
       "      <td>0.036052</td>\n",
       "      <td>0.093080</td>\n",
       "      <td>0.044242</td>\n",
       "      <td>0.000000</td>\n",
       "      <td>0.017325</td>\n",
       "      <td>0.055388</td>\n",
       "      <td>0.472209</td>\n",
       "      <td>0.281705</td>\n",
       "      <td>9999.0</td>\n",
       "      <td>0.850664</td>\n",
       "      <td>0.652719</td>\n",
       "    </tr>\n",
       "  </tbody>\n",
       "</table>\n",
       "</div>"
      ],
      "text/plain": [
       "         Malignant  Endothelial cells       CAF  T cells CD8  NK cells  \\\n",
       "Mixture                                                                  \n",
       "53        0.046912           0.048921  0.056016     0.288460  0.046088   \n",
       "58        0.000719           0.000682  0.000201     0.469386  0.010466   \n",
       "59        0.655298           0.009818  0.301073     0.000000  0.000472   \n",
       "60        0.034117           0.004892  0.000000     0.178893  0.060326   \n",
       "65        0.068950           0.002214  0.000675     0.199426  0.024680   \n",
       "67        0.000816           0.000000  0.000000     0.137107  0.031391   \n",
       "71        0.402557           0.009144  0.002694     0.229847  0.032193   \n",
       "72        0.001155           0.001563  0.000994     0.000000  0.009979   \n",
       "74        0.003817           0.001437  0.001734     0.454665  0.012862   \n",
       "75        0.024983           0.002253  0.000000     0.499056  0.016627   \n",
       "78        0.977178           0.002520  0.009568     0.000000  0.001774   \n",
       "79        0.489691           0.030939  0.007869     0.164362  0.000000   \n",
       "80        0.291200           0.079302  0.039898     0.123068  0.005743   \n",
       "81        0.342988           0.016658  0.126475     0.149601  0.021133   \n",
       "82        0.309887           0.032301  0.131832     0.111048  0.037128   \n",
       "84        0.067622           0.007231  0.021931     0.134040  0.085050   \n",
       "88        0.400383           0.000775  0.013500     0.101394  0.029061   \n",
       "89        0.185567           0.003400  0.000474     0.184564  0.033374   \n",
       "94        0.036052           0.093080  0.044242     0.000000  0.017325   \n",
       "\n",
       "         Macrophages  T cells CD4   B cells  P-value  Correlation      RMSE  \n",
       "Mixture                                                                      \n",
       "53          0.107681     0.404889  0.001032   9999.0     0.871528  0.649739  \n",
       "58          0.045708     0.412112  0.060726   9999.0     0.964670  0.531574  \n",
       "59          0.026106     0.007233  0.000000   9999.0     0.652095  0.780055  \n",
       "60          0.081418     0.250973  0.389381   9999.0     0.946328  0.455591  \n",
       "65          0.055358     0.556732  0.091964   9999.0     0.901685  0.646823  \n",
       "67          0.014096     0.582954  0.233635   9999.0     0.901385  0.624561  \n",
       "71          0.062506     0.258383  0.002676   9999.0     0.731109  0.767737  \n",
       "72          0.032146     0.708719  0.245443   9999.0     0.880880  0.638130  \n",
       "74          0.090057     0.348990  0.086437   9999.0     0.942353  0.536504  \n",
       "75          0.044156     0.395921  0.017004   9999.0     0.811784  0.659260  \n",
       "78          0.001735     0.004453  0.002771   9999.0     0.870770  0.577450  \n",
       "79          0.039309     0.190876  0.076955   9999.0     0.805630  0.735325  \n",
       "80          0.017454     0.350496  0.092840   9999.0     0.961416  0.703155  \n",
       "81          0.023623     0.305342  0.014180   9999.0     0.580737  0.853456  \n",
       "82          0.069662     0.279443  0.028698   9999.0     0.605795  0.836815  \n",
       "84          0.160665     0.377997  0.145464   9999.0     0.945796  0.497385  \n",
       "88          0.155583     0.242642  0.056662   9999.0     0.961858  0.557140  \n",
       "89          0.098165     0.269774  0.224682   9999.0     0.941801  0.553151  \n",
       "94          0.055388     0.472209  0.281705   9999.0     0.850664  0.652719  "
      ]
     },
     "execution_count": 8,
     "metadata": {},
     "output_type": "execute_result"
    }
   ],
   "source": [
    "path = os.path.join(csx_run_dir, \"out\", \"CIBERSORTx_Adjusted.txt\")\n",
    "print(path)\n",
    "\n",
    "inferred_fractions = pd.read_csv(\n",
    "    path,\n",
    "    sep='\\t',\n",
    "    index_col=0\n",
    ")\n",
    "\n",
    "inferred_fractions"
   ]
  },
  {
   "cell_type": "markdown",
   "id": "1382a805",
   "metadata": {},
   "source": [
    "# check groundtruth fractions\n",
    "\n",
    "did they have data for this?"
   ]
  },
  {
   "cell_type": "code",
   "execution_count": 12,
   "id": "0afd9946",
   "metadata": {},
   "outputs": [
    {
     "name": "stdout",
     "output_type": "stream",
     "text": [
      "/mnt/buckets/liulab/csx_example_files/groundtruth_Melanoma_Tirosh_et_al_SuppFig3b-d.txt\n"
     ]
    },
    {
     "data": {
      "text/html": [
       "<div>\n",
       "<style scoped>\n",
       "    .dataframe tbody tr th:only-of-type {\n",
       "        vertical-align: middle;\n",
       "    }\n",
       "\n",
       "    .dataframe tbody tr th {\n",
       "        vertical-align: top;\n",
       "    }\n",
       "\n",
       "    .dataframe thead th {\n",
       "        text-align: right;\n",
       "    }\n",
       "</style>\n",
       "<table border=\"1\" class=\"dataframe\">\n",
       "  <thead>\n",
       "    <tr style=\"text-align: right;\">\n",
       "      <th></th>\n",
       "      <th>Malignant</th>\n",
       "      <th>Endothelial cells</th>\n",
       "      <th>CAF</th>\n",
       "      <th>T cells CD8</th>\n",
       "      <th>NK cells</th>\n",
       "      <th>Macrophages</th>\n",
       "      <th>T cells CD4</th>\n",
       "      <th>B cells</th>\n",
       "    </tr>\n",
       "    <tr>\n",
       "      <th>GeneSymbol</th>\n",
       "      <th></th>\n",
       "      <th></th>\n",
       "      <th></th>\n",
       "      <th></th>\n",
       "      <th></th>\n",
       "      <th></th>\n",
       "      <th></th>\n",
       "      <th></th>\n",
       "    </tr>\n",
       "  </thead>\n",
       "  <tbody>\n",
       "    <tr>\n",
       "      <th>53</th>\n",
       "      <td>0.1280</td>\n",
       "      <td>0.0880</td>\n",
       "      <td>0.0320</td>\n",
       "      <td>0.2000</td>\n",
       "      <td>0.0800</td>\n",
       "      <td>0.0960</td>\n",
       "      <td>0.3760</td>\n",
       "      <td>0.0000</td>\n",
       "    </tr>\n",
       "    <tr>\n",
       "      <th>58</th>\n",
       "      <td>0.0000</td>\n",
       "      <td>0.0000</td>\n",
       "      <td>0.0000</td>\n",
       "      <td>0.6508</td>\n",
       "      <td>0.0317</td>\n",
       "      <td>0.0159</td>\n",
       "      <td>0.2857</td>\n",
       "      <td>0.0159</td>\n",
       "    </tr>\n",
       "    <tr>\n",
       "      <th>59</th>\n",
       "      <td>0.8710</td>\n",
       "      <td>0.0000</td>\n",
       "      <td>0.1129</td>\n",
       "      <td>0.0000</td>\n",
       "      <td>0.0000</td>\n",
       "      <td>0.0161</td>\n",
       "      <td>0.0000</td>\n",
       "      <td>0.0000</td>\n",
       "    </tr>\n",
       "    <tr>\n",
       "      <th>60</th>\n",
       "      <td>0.0448</td>\n",
       "      <td>0.0000</td>\n",
       "      <td>0.0000</td>\n",
       "      <td>0.1940</td>\n",
       "      <td>0.0498</td>\n",
       "      <td>0.0199</td>\n",
       "      <td>0.2139</td>\n",
       "      <td>0.4776</td>\n",
       "    </tr>\n",
       "    <tr>\n",
       "      <th>65</th>\n",
       "      <td>0.0755</td>\n",
       "      <td>0.0000</td>\n",
       "      <td>0.0000</td>\n",
       "      <td>0.4717</td>\n",
       "      <td>0.0000</td>\n",
       "      <td>0.0189</td>\n",
       "      <td>0.3396</td>\n",
       "      <td>0.0943</td>\n",
       "    </tr>\n",
       "    <tr>\n",
       "      <th>67</th>\n",
       "      <td>0.0000</td>\n",
       "      <td>0.0000</td>\n",
       "      <td>0.0000</td>\n",
       "      <td>0.3059</td>\n",
       "      <td>0.0118</td>\n",
       "      <td>0.0000</td>\n",
       "      <td>0.4588</td>\n",
       "      <td>0.2235</td>\n",
       "    </tr>\n",
       "    <tr>\n",
       "      <th>71</th>\n",
       "      <td>0.6835</td>\n",
       "      <td>0.0000</td>\n",
       "      <td>0.0000</td>\n",
       "      <td>0.1899</td>\n",
       "      <td>0.0000</td>\n",
       "      <td>0.0253</td>\n",
       "      <td>0.1013</td>\n",
       "      <td>0.0000</td>\n",
       "    </tr>\n",
       "    <tr>\n",
       "      <th>72</th>\n",
       "      <td>0.0000</td>\n",
       "      <td>0.0000</td>\n",
       "      <td>0.0000</td>\n",
       "      <td>0.1634</td>\n",
       "      <td>0.0065</td>\n",
       "      <td>0.0000</td>\n",
       "      <td>0.6013</td>\n",
       "      <td>0.2288</td>\n",
       "    </tr>\n",
       "    <tr>\n",
       "      <th>74</th>\n",
       "      <td>0.0000</td>\n",
       "      <td>0.0000</td>\n",
       "      <td>0.0000</td>\n",
       "      <td>0.6496</td>\n",
       "      <td>0.0073</td>\n",
       "      <td>0.0365</td>\n",
       "      <td>0.2117</td>\n",
       "      <td>0.0949</td>\n",
       "    </tr>\n",
       "    <tr>\n",
       "      <th>75</th>\n",
       "      <td>0.0087</td>\n",
       "      <td>0.0000</td>\n",
       "      <td>0.0000</td>\n",
       "      <td>0.9417</td>\n",
       "      <td>0.0000</td>\n",
       "      <td>0.0029</td>\n",
       "      <td>0.0466</td>\n",
       "      <td>0.0000</td>\n",
       "    </tr>\n",
       "    <tr>\n",
       "      <th>78</th>\n",
       "      <td>0.9756</td>\n",
       "      <td>0.0000</td>\n",
       "      <td>0.0081</td>\n",
       "      <td>0.0000</td>\n",
       "      <td>0.0000</td>\n",
       "      <td>0.0000</td>\n",
       "      <td>0.0081</td>\n",
       "      <td>0.0081</td>\n",
       "    </tr>\n",
       "    <tr>\n",
       "      <th>79</th>\n",
       "      <td>0.5474</td>\n",
       "      <td>0.0023</td>\n",
       "      <td>0.0012</td>\n",
       "      <td>0.2795</td>\n",
       "      <td>0.0012</td>\n",
       "      <td>0.0000</td>\n",
       "      <td>0.0760</td>\n",
       "      <td>0.0924</td>\n",
       "    </tr>\n",
       "    <tr>\n",
       "      <th>80</th>\n",
       "      <td>0.2828</td>\n",
       "      <td>0.0656</td>\n",
       "      <td>0.0520</td>\n",
       "      <td>0.1538</td>\n",
       "      <td>0.0090</td>\n",
       "      <td>0.0000</td>\n",
       "      <td>0.3258</td>\n",
       "      <td>0.1109</td>\n",
       "    </tr>\n",
       "    <tr>\n",
       "      <th>81</th>\n",
       "      <td>0.7308</td>\n",
       "      <td>0.0110</td>\n",
       "      <td>0.0000</td>\n",
       "      <td>0.1044</td>\n",
       "      <td>0.0000</td>\n",
       "      <td>0.0000</td>\n",
       "      <td>0.1374</td>\n",
       "      <td>0.0165</td>\n",
       "    </tr>\n",
       "    <tr>\n",
       "      <th>82</th>\n",
       "      <td>0.4638</td>\n",
       "      <td>0.0000</td>\n",
       "      <td>0.0870</td>\n",
       "      <td>0.1304</td>\n",
       "      <td>0.0290</td>\n",
       "      <td>0.0580</td>\n",
       "      <td>0.2174</td>\n",
       "      <td>0.0145</td>\n",
       "    </tr>\n",
       "    <tr>\n",
       "      <th>84</th>\n",
       "      <td>0.1045</td>\n",
       "      <td>0.0075</td>\n",
       "      <td>0.0075</td>\n",
       "      <td>0.1716</td>\n",
       "      <td>0.0522</td>\n",
       "      <td>0.1866</td>\n",
       "      <td>0.2836</td>\n",
       "      <td>0.1866</td>\n",
       "    </tr>\n",
       "    <tr>\n",
       "      <th>88</th>\n",
       "      <td>0.3966</td>\n",
       "      <td>0.0000</td>\n",
       "      <td>0.0068</td>\n",
       "      <td>0.1559</td>\n",
       "      <td>0.0305</td>\n",
       "      <td>0.1356</td>\n",
       "      <td>0.2203</td>\n",
       "      <td>0.0542</td>\n",
       "    </tr>\n",
       "    <tr>\n",
       "      <th>89</th>\n",
       "      <td>0.2263</td>\n",
       "      <td>0.0023</td>\n",
       "      <td>0.0000</td>\n",
       "      <td>0.3141</td>\n",
       "      <td>0.0023</td>\n",
       "      <td>0.0600</td>\n",
       "      <td>0.1501</td>\n",
       "      <td>0.2448</td>\n",
       "    </tr>\n",
       "    <tr>\n",
       "      <th>94</th>\n",
       "      <td>0.0413</td>\n",
       "      <td>0.0785</td>\n",
       "      <td>0.0661</td>\n",
       "      <td>0.2025</td>\n",
       "      <td>0.0041</td>\n",
       "      <td>0.0083</td>\n",
       "      <td>0.3306</td>\n",
       "      <td>0.2686</td>\n",
       "    </tr>\n",
       "  </tbody>\n",
       "</table>\n",
       "</div>"
      ],
      "text/plain": [
       "            Malignant  Endothelial cells     CAF  T cells CD8  NK cells  \\\n",
       "GeneSymbol                                                                \n",
       "53             0.1280             0.0880  0.0320       0.2000    0.0800   \n",
       "58             0.0000             0.0000  0.0000       0.6508    0.0317   \n",
       "59             0.8710             0.0000  0.1129       0.0000    0.0000   \n",
       "60             0.0448             0.0000  0.0000       0.1940    0.0498   \n",
       "65             0.0755             0.0000  0.0000       0.4717    0.0000   \n",
       "67             0.0000             0.0000  0.0000       0.3059    0.0118   \n",
       "71             0.6835             0.0000  0.0000       0.1899    0.0000   \n",
       "72             0.0000             0.0000  0.0000       0.1634    0.0065   \n",
       "74             0.0000             0.0000  0.0000       0.6496    0.0073   \n",
       "75             0.0087             0.0000  0.0000       0.9417    0.0000   \n",
       "78             0.9756             0.0000  0.0081       0.0000    0.0000   \n",
       "79             0.5474             0.0023  0.0012       0.2795    0.0012   \n",
       "80             0.2828             0.0656  0.0520       0.1538    0.0090   \n",
       "81             0.7308             0.0110  0.0000       0.1044    0.0000   \n",
       "82             0.4638             0.0000  0.0870       0.1304    0.0290   \n",
       "84             0.1045             0.0075  0.0075       0.1716    0.0522   \n",
       "88             0.3966             0.0000  0.0068       0.1559    0.0305   \n",
       "89             0.2263             0.0023  0.0000       0.3141    0.0023   \n",
       "94             0.0413             0.0785  0.0661       0.2025    0.0041   \n",
       "\n",
       "            Macrophages  T cells CD4  B cells  \n",
       "GeneSymbol                                     \n",
       "53               0.0960       0.3760   0.0000  \n",
       "58               0.0159       0.2857   0.0159  \n",
       "59               0.0161       0.0000   0.0000  \n",
       "60               0.0199       0.2139   0.4776  \n",
       "65               0.0189       0.3396   0.0943  \n",
       "67               0.0000       0.4588   0.2235  \n",
       "71               0.0253       0.1013   0.0000  \n",
       "72               0.0000       0.6013   0.2288  \n",
       "74               0.0365       0.2117   0.0949  \n",
       "75               0.0029       0.0466   0.0000  \n",
       "78               0.0000       0.0081   0.0081  \n",
       "79               0.0000       0.0760   0.0924  \n",
       "80               0.0000       0.3258   0.1109  \n",
       "81               0.0000       0.1374   0.0165  \n",
       "82               0.0580       0.2174   0.0145  \n",
       "84               0.1866       0.2836   0.1866  \n",
       "88               0.1356       0.2203   0.0542  \n",
       "89               0.0600       0.1501   0.2448  \n",
       "94               0.0083       0.3306   0.2686  "
      ]
     },
     "execution_count": 12,
     "metadata": {},
     "output_type": "execute_result"
    }
   ],
   "source": [
    "path = \"/mnt/buckets/liulab/csx_example_files/groundtruth_Melanoma_Tirosh_et_al_SuppFig3b-d.txt\"\n",
    "print(path)\n",
    "\n",
    "gt_fractions = pd.read_csv(\n",
    "    path,\n",
    "    sep='\\t',\n",
    "    index_col=0\n",
    ")\n",
    "\n",
    "gt_fractions"
   ]
  },
  {
   "cell_type": "code",
   "execution_count": 13,
   "id": "96d315a4",
   "metadata": {},
   "outputs": [
    {
     "data": {
      "text/html": [
       "<div>\n",
       "<style scoped>\n",
       "    .dataframe tbody tr th:only-of-type {\n",
       "        vertical-align: middle;\n",
       "    }\n",
       "\n",
       "    .dataframe tbody tr th {\n",
       "        vertical-align: top;\n",
       "    }\n",
       "\n",
       "    .dataframe thead th {\n",
       "        text-align: right;\n",
       "    }\n",
       "</style>\n",
       "<table border=\"1\" class=\"dataframe\">\n",
       "  <thead>\n",
       "    <tr style=\"text-align: right;\">\n",
       "      <th></th>\n",
       "      <th>Malignant</th>\n",
       "      <th>Endothelial cells</th>\n",
       "      <th>CAF</th>\n",
       "      <th>T cells CD8</th>\n",
       "      <th>NK cells</th>\n",
       "      <th>Macrophages</th>\n",
       "      <th>T cells CD4</th>\n",
       "      <th>B cells</th>\n",
       "    </tr>\n",
       "    <tr>\n",
       "      <th>Mixture</th>\n",
       "      <th></th>\n",
       "      <th></th>\n",
       "      <th></th>\n",
       "      <th></th>\n",
       "      <th></th>\n",
       "      <th></th>\n",
       "      <th></th>\n",
       "      <th></th>\n",
       "    </tr>\n",
       "  </thead>\n",
       "  <tbody>\n",
       "    <tr>\n",
       "      <th>53</th>\n",
       "      <td>0.046912</td>\n",
       "      <td>0.048921</td>\n",
       "      <td>0.056016</td>\n",
       "      <td>0.288460</td>\n",
       "      <td>0.046088</td>\n",
       "      <td>0.107681</td>\n",
       "      <td>0.404889</td>\n",
       "      <td>0.001032</td>\n",
       "    </tr>\n",
       "    <tr>\n",
       "      <th>58</th>\n",
       "      <td>0.000719</td>\n",
       "      <td>0.000682</td>\n",
       "      <td>0.000201</td>\n",
       "      <td>0.469386</td>\n",
       "      <td>0.010466</td>\n",
       "      <td>0.045708</td>\n",
       "      <td>0.412112</td>\n",
       "      <td>0.060726</td>\n",
       "    </tr>\n",
       "    <tr>\n",
       "      <th>59</th>\n",
       "      <td>0.655298</td>\n",
       "      <td>0.009818</td>\n",
       "      <td>0.301073</td>\n",
       "      <td>0.000000</td>\n",
       "      <td>0.000472</td>\n",
       "      <td>0.026106</td>\n",
       "      <td>0.007233</td>\n",
       "      <td>0.000000</td>\n",
       "    </tr>\n",
       "    <tr>\n",
       "      <th>60</th>\n",
       "      <td>0.034117</td>\n",
       "      <td>0.004892</td>\n",
       "      <td>0.000000</td>\n",
       "      <td>0.178893</td>\n",
       "      <td>0.060326</td>\n",
       "      <td>0.081418</td>\n",
       "      <td>0.250973</td>\n",
       "      <td>0.389381</td>\n",
       "    </tr>\n",
       "    <tr>\n",
       "      <th>65</th>\n",
       "      <td>0.068950</td>\n",
       "      <td>0.002214</td>\n",
       "      <td>0.000675</td>\n",
       "      <td>0.199426</td>\n",
       "      <td>0.024680</td>\n",
       "      <td>0.055358</td>\n",
       "      <td>0.556732</td>\n",
       "      <td>0.091964</td>\n",
       "    </tr>\n",
       "    <tr>\n",
       "      <th>67</th>\n",
       "      <td>0.000816</td>\n",
       "      <td>0.000000</td>\n",
       "      <td>0.000000</td>\n",
       "      <td>0.137107</td>\n",
       "      <td>0.031391</td>\n",
       "      <td>0.014096</td>\n",
       "      <td>0.582954</td>\n",
       "      <td>0.233635</td>\n",
       "    </tr>\n",
       "    <tr>\n",
       "      <th>71</th>\n",
       "      <td>0.402557</td>\n",
       "      <td>0.009144</td>\n",
       "      <td>0.002694</td>\n",
       "      <td>0.229847</td>\n",
       "      <td>0.032193</td>\n",
       "      <td>0.062506</td>\n",
       "      <td>0.258383</td>\n",
       "      <td>0.002676</td>\n",
       "    </tr>\n",
       "    <tr>\n",
       "      <th>72</th>\n",
       "      <td>0.001155</td>\n",
       "      <td>0.001563</td>\n",
       "      <td>0.000994</td>\n",
       "      <td>0.000000</td>\n",
       "      <td>0.009979</td>\n",
       "      <td>0.032146</td>\n",
       "      <td>0.708719</td>\n",
       "      <td>0.245443</td>\n",
       "    </tr>\n",
       "    <tr>\n",
       "      <th>74</th>\n",
       "      <td>0.003817</td>\n",
       "      <td>0.001437</td>\n",
       "      <td>0.001734</td>\n",
       "      <td>0.454665</td>\n",
       "      <td>0.012862</td>\n",
       "      <td>0.090057</td>\n",
       "      <td>0.348990</td>\n",
       "      <td>0.086437</td>\n",
       "    </tr>\n",
       "    <tr>\n",
       "      <th>75</th>\n",
       "      <td>0.024983</td>\n",
       "      <td>0.002253</td>\n",
       "      <td>0.000000</td>\n",
       "      <td>0.499056</td>\n",
       "      <td>0.016627</td>\n",
       "      <td>0.044156</td>\n",
       "      <td>0.395921</td>\n",
       "      <td>0.017004</td>\n",
       "    </tr>\n",
       "    <tr>\n",
       "      <th>78</th>\n",
       "      <td>0.977178</td>\n",
       "      <td>0.002520</td>\n",
       "      <td>0.009568</td>\n",
       "      <td>0.000000</td>\n",
       "      <td>0.001774</td>\n",
       "      <td>0.001735</td>\n",
       "      <td>0.004453</td>\n",
       "      <td>0.002771</td>\n",
       "    </tr>\n",
       "    <tr>\n",
       "      <th>79</th>\n",
       "      <td>0.489691</td>\n",
       "      <td>0.030939</td>\n",
       "      <td>0.007869</td>\n",
       "      <td>0.164362</td>\n",
       "      <td>0.000000</td>\n",
       "      <td>0.039309</td>\n",
       "      <td>0.190876</td>\n",
       "      <td>0.076955</td>\n",
       "    </tr>\n",
       "    <tr>\n",
       "      <th>80</th>\n",
       "      <td>0.291200</td>\n",
       "      <td>0.079302</td>\n",
       "      <td>0.039898</td>\n",
       "      <td>0.123068</td>\n",
       "      <td>0.005743</td>\n",
       "      <td>0.017454</td>\n",
       "      <td>0.350496</td>\n",
       "      <td>0.092840</td>\n",
       "    </tr>\n",
       "    <tr>\n",
       "      <th>81</th>\n",
       "      <td>0.342988</td>\n",
       "      <td>0.016658</td>\n",
       "      <td>0.126475</td>\n",
       "      <td>0.149601</td>\n",
       "      <td>0.021133</td>\n",
       "      <td>0.023623</td>\n",
       "      <td>0.305342</td>\n",
       "      <td>0.014180</td>\n",
       "    </tr>\n",
       "    <tr>\n",
       "      <th>82</th>\n",
       "      <td>0.309887</td>\n",
       "      <td>0.032301</td>\n",
       "      <td>0.131832</td>\n",
       "      <td>0.111048</td>\n",
       "      <td>0.037128</td>\n",
       "      <td>0.069662</td>\n",
       "      <td>0.279443</td>\n",
       "      <td>0.028698</td>\n",
       "    </tr>\n",
       "    <tr>\n",
       "      <th>84</th>\n",
       "      <td>0.067622</td>\n",
       "      <td>0.007231</td>\n",
       "      <td>0.021931</td>\n",
       "      <td>0.134040</td>\n",
       "      <td>0.085050</td>\n",
       "      <td>0.160665</td>\n",
       "      <td>0.377997</td>\n",
       "      <td>0.145464</td>\n",
       "    </tr>\n",
       "    <tr>\n",
       "      <th>88</th>\n",
       "      <td>0.400383</td>\n",
       "      <td>0.000775</td>\n",
       "      <td>0.013500</td>\n",
       "      <td>0.101394</td>\n",
       "      <td>0.029061</td>\n",
       "      <td>0.155583</td>\n",
       "      <td>0.242642</td>\n",
       "      <td>0.056662</td>\n",
       "    </tr>\n",
       "    <tr>\n",
       "      <th>89</th>\n",
       "      <td>0.185567</td>\n",
       "      <td>0.003400</td>\n",
       "      <td>0.000474</td>\n",
       "      <td>0.184564</td>\n",
       "      <td>0.033374</td>\n",
       "      <td>0.098165</td>\n",
       "      <td>0.269774</td>\n",
       "      <td>0.224682</td>\n",
       "    </tr>\n",
       "    <tr>\n",
       "      <th>94</th>\n",
       "      <td>0.036052</td>\n",
       "      <td>0.093080</td>\n",
       "      <td>0.044242</td>\n",
       "      <td>0.000000</td>\n",
       "      <td>0.017325</td>\n",
       "      <td>0.055388</td>\n",
       "      <td>0.472209</td>\n",
       "      <td>0.281705</td>\n",
       "    </tr>\n",
       "  </tbody>\n",
       "</table>\n",
       "</div>"
      ],
      "text/plain": [
       "         Malignant  Endothelial cells       CAF  T cells CD8  NK cells  \\\n",
       "Mixture                                                                  \n",
       "53        0.046912           0.048921  0.056016     0.288460  0.046088   \n",
       "58        0.000719           0.000682  0.000201     0.469386  0.010466   \n",
       "59        0.655298           0.009818  0.301073     0.000000  0.000472   \n",
       "60        0.034117           0.004892  0.000000     0.178893  0.060326   \n",
       "65        0.068950           0.002214  0.000675     0.199426  0.024680   \n",
       "67        0.000816           0.000000  0.000000     0.137107  0.031391   \n",
       "71        0.402557           0.009144  0.002694     0.229847  0.032193   \n",
       "72        0.001155           0.001563  0.000994     0.000000  0.009979   \n",
       "74        0.003817           0.001437  0.001734     0.454665  0.012862   \n",
       "75        0.024983           0.002253  0.000000     0.499056  0.016627   \n",
       "78        0.977178           0.002520  0.009568     0.000000  0.001774   \n",
       "79        0.489691           0.030939  0.007869     0.164362  0.000000   \n",
       "80        0.291200           0.079302  0.039898     0.123068  0.005743   \n",
       "81        0.342988           0.016658  0.126475     0.149601  0.021133   \n",
       "82        0.309887           0.032301  0.131832     0.111048  0.037128   \n",
       "84        0.067622           0.007231  0.021931     0.134040  0.085050   \n",
       "88        0.400383           0.000775  0.013500     0.101394  0.029061   \n",
       "89        0.185567           0.003400  0.000474     0.184564  0.033374   \n",
       "94        0.036052           0.093080  0.044242     0.000000  0.017325   \n",
       "\n",
       "         Macrophages  T cells CD4   B cells  \n",
       "Mixture                                      \n",
       "53          0.107681     0.404889  0.001032  \n",
       "58          0.045708     0.412112  0.060726  \n",
       "59          0.026106     0.007233  0.000000  \n",
       "60          0.081418     0.250973  0.389381  \n",
       "65          0.055358     0.556732  0.091964  \n",
       "67          0.014096     0.582954  0.233635  \n",
       "71          0.062506     0.258383  0.002676  \n",
       "72          0.032146     0.708719  0.245443  \n",
       "74          0.090057     0.348990  0.086437  \n",
       "75          0.044156     0.395921  0.017004  \n",
       "78          0.001735     0.004453  0.002771  \n",
       "79          0.039309     0.190876  0.076955  \n",
       "80          0.017454     0.350496  0.092840  \n",
       "81          0.023623     0.305342  0.014180  \n",
       "82          0.069662     0.279443  0.028698  \n",
       "84          0.160665     0.377997  0.145464  \n",
       "88          0.155583     0.242642  0.056662  \n",
       "89          0.098165     0.269774  0.224682  \n",
       "94          0.055388     0.472209  0.281705  "
      ]
     },
     "execution_count": 13,
     "metadata": {},
     "output_type": "execute_result"
    }
   ],
   "source": [
    "inferred_fractions[gt_fractions.columns]"
   ]
  },
  {
   "cell_type": "code",
   "execution_count": 24,
   "id": "9c1279ba",
   "metadata": {},
   "outputs": [
    {
     "data": {
      "text/plain": [
       "Mixture  cell_type        \n",
       "53       Malignant            0.1280\n",
       "         Endothelial cells    0.0880\n",
       "         CAF                  0.0320\n",
       "         T cells CD8          0.2000\n",
       "         NK cells             0.0800\n",
       "                               ...  \n",
       "94       T cells CD8          0.2025\n",
       "         NK cells             0.0041\n",
       "         Macrophages          0.0083\n",
       "         T cells CD4          0.3306\n",
       "         B cells              0.2686\n",
       "Name: proportion, Length: 152, dtype: float64"
      ]
     },
     "execution_count": 24,
     "metadata": {},
     "output_type": "execute_result"
    }
   ],
   "source": [
    "gt_fractions_stacked = gt_fractions.stack()\n",
    "gt_fractions_stacked.rename('proportion', inplace=True)\n",
    "gt_fractions_stacked.index.set_names('Mixture', level=0, inplace=True)\n",
    "gt_fractions_stacked.index.set_names('cell_type', level=1, inplace=True)\n",
    "gt_fractions_stacked"
   ]
  },
  {
   "cell_type": "code",
   "execution_count": 25,
   "id": "0ea12af2",
   "metadata": {},
   "outputs": [
    {
     "data": {
      "text/plain": [
       "Mixture  cell_type        \n",
       "53       Malignant            0.046912\n",
       "         Endothelial cells    0.048921\n",
       "         CAF                  0.056016\n",
       "         T cells CD8          0.288460\n",
       "         NK cells             0.046088\n",
       "                                ...   \n",
       "94       T cells CD8          0.000000\n",
       "         NK cells             0.017325\n",
       "         Macrophages          0.055388\n",
       "         T cells CD4          0.472209\n",
       "         B cells              0.281705\n",
       "Name: proportion, Length: 152, dtype: float64"
      ]
     },
     "execution_count": 25,
     "metadata": {},
     "output_type": "execute_result"
    }
   ],
   "source": [
    "inferred_fractions_stacked = inferred_fractions[gt_fractions.columns].stack()\n",
    "inferred_fractions_stacked.rename('proportion', inplace=True)\n",
    "inferred_fractions_stacked.index.set_names('cell_type', level=1, inplace=True)\n",
    "inferred_fractions_stacked"
   ]
  },
  {
   "cell_type": "code",
   "execution_count": 27,
   "id": "aa378d06",
   "metadata": {},
   "outputs": [],
   "source": [
    "inferred_and_truth = pd.merge(gt_fractions_stacked, inferred_fractions_stacked, left_index=True, right_index=True)"
   ]
  },
  {
   "cell_type": "code",
   "execution_count": 30,
   "id": "510de030",
   "metadata": {},
   "outputs": [
    {
     "data": {
      "application/vnd.plotly.v1+json": {
       "config": {
        "plotlyServerURL": "https://plot.ly"
       },
       "data": [
        {
         "hovertemplate": "variable=0<br>index=%{x}<br>value=%{y}<extra></extra>",
         "legendgroup": "0",
         "marker": {
          "color": "#636efa",
          "symbol": "circle"
         },
         "mode": "markers",
         "name": "0",
         "orientation": "v",
         "showlegend": true,
         "type": "scatter",
         "x": [
          0,
          1,
          2,
          3,
          4,
          5,
          6,
          7,
          8,
          9,
          10,
          11,
          12,
          13,
          14,
          15,
          16,
          17,
          18,
          19,
          20,
          21,
          22,
          23,
          24,
          25,
          26,
          27,
          28,
          29,
          30,
          31,
          32,
          33,
          34,
          35,
          36,
          37,
          38,
          39,
          40,
          41,
          42,
          43,
          44,
          45,
          46,
          47,
          48,
          49,
          50,
          51,
          52,
          53,
          54,
          55,
          56,
          57,
          58,
          59,
          60,
          61,
          62,
          63,
          64,
          65,
          66,
          67,
          68,
          69,
          70,
          71,
          72,
          73,
          74,
          75,
          76,
          77,
          78,
          79,
          80,
          81,
          82,
          83,
          84,
          85,
          86,
          87,
          88,
          89,
          90,
          91,
          92,
          93,
          94,
          95,
          96,
          97,
          98,
          99,
          100,
          101,
          102,
          103,
          104,
          105,
          106,
          107,
          108,
          109,
          110,
          111,
          112,
          113,
          114,
          115,
          116,
          117,
          118,
          119,
          120,
          121,
          122,
          123,
          124,
          125,
          126,
          127,
          128,
          129,
          130,
          131,
          132,
          133,
          134,
          135,
          136,
          137,
          138,
          139,
          140,
          141,
          142,
          143,
          144,
          145,
          146,
          147,
          148,
          149,
          150,
          151
         ],
         "xaxis": "x",
         "y": [
          0.128,
          0.088,
          0.032,
          0.2,
          0.08,
          0.096,
          0.376,
          0,
          0,
          0,
          0,
          0.6508,
          0.0317,
          0.0159,
          0.2857,
          0.0159,
          0.871,
          0,
          0.1129,
          0,
          0,
          0.0161,
          0,
          0,
          0.0448,
          0,
          0,
          0.194,
          0.0498,
          0.0199,
          0.2139,
          0.4776,
          0.0755,
          0,
          0,
          0.4717,
          0,
          0.0189,
          0.3396,
          0.0943,
          0,
          0,
          0,
          0.3059,
          0.0118,
          0,
          0.4588,
          0.2235,
          0.6835,
          0,
          0,
          0.1899,
          0,
          0.0253,
          0.1013,
          0,
          0,
          0,
          0,
          0.1634,
          0.0065,
          0,
          0.6013,
          0.2288,
          0,
          0,
          0,
          0.6496,
          0.0073,
          0.0365,
          0.2117,
          0.0949,
          0.0087,
          0,
          0,
          0.9417,
          0,
          0.0029,
          0.0466,
          0,
          0.9756,
          0,
          0.0081,
          0,
          0,
          0,
          0.0081,
          0.0081,
          0.5474,
          0.0023,
          0.0012,
          0.2795,
          0.0012,
          0,
          0.076,
          0.0924,
          0.2828,
          0.0656,
          0.052,
          0.1538,
          0.009,
          0,
          0.3258,
          0.1109,
          0.7308,
          0.011,
          0,
          0.1044,
          0,
          0,
          0.1374,
          0.0165,
          0.4638,
          0,
          0.087,
          0.1304,
          0.029,
          0.058,
          0.2174,
          0.0145,
          0.1045,
          0.0075,
          0.0075,
          0.1716,
          0.0522,
          0.1866,
          0.2836,
          0.1866,
          0.3966,
          0,
          0.0068,
          0.1559,
          0.0305,
          0.1356,
          0.2203,
          0.0542,
          0.2263,
          0.0023,
          0,
          0.3141,
          0.0023,
          0.06,
          0.1501,
          0.2448,
          0.0413,
          0.0785,
          0.0661,
          0.2025,
          0.0041,
          0.0083,
          0.3306,
          0.2686
         ],
         "yaxis": "y"
        },
        {
         "hovertemplate": "variable=1<br>index=%{x}<br>value=%{y}<extra></extra>",
         "legendgroup": "1",
         "marker": {
          "color": "#EF553B",
          "symbol": "circle"
         },
         "mode": "markers",
         "name": "1",
         "orientation": "v",
         "showlegend": true,
         "type": "scatter",
         "x": [
          0,
          1,
          2,
          3,
          4,
          5,
          6,
          7,
          8,
          9,
          10,
          11,
          12,
          13,
          14,
          15,
          16,
          17,
          18,
          19,
          20,
          21,
          22,
          23,
          24,
          25,
          26,
          27,
          28,
          29,
          30,
          31,
          32,
          33,
          34,
          35,
          36,
          37,
          38,
          39,
          40,
          41,
          42,
          43,
          44,
          45,
          46,
          47,
          48,
          49,
          50,
          51,
          52,
          53,
          54,
          55,
          56,
          57,
          58,
          59,
          60,
          61,
          62,
          63,
          64,
          65,
          66,
          67,
          68,
          69,
          70,
          71,
          72,
          73,
          74,
          75,
          76,
          77,
          78,
          79,
          80,
          81,
          82,
          83,
          84,
          85,
          86,
          87,
          88,
          89,
          90,
          91,
          92,
          93,
          94,
          95,
          96,
          97,
          98,
          99,
          100,
          101,
          102,
          103,
          104,
          105,
          106,
          107,
          108,
          109,
          110,
          111,
          112,
          113,
          114,
          115,
          116,
          117,
          118,
          119,
          120,
          121,
          122,
          123,
          124,
          125,
          126,
          127,
          128,
          129,
          130,
          131,
          132,
          133,
          134,
          135,
          136,
          137,
          138,
          139,
          140,
          141,
          142,
          143,
          144,
          145,
          146,
          147,
          148,
          149,
          150,
          151
         ],
         "xaxis": "x",
         "y": [
          0.0469121204252961,
          0.0489212173290616,
          0.0560160617318922,
          0.2884602175470318,
          0.0460884611974941,
          0.1076810715960907,
          0.4048890521445576,
          0.0010317980285755,
          0.0007187906144226,
          0.0006824404309393,
          0.0002012449795239,
          0.4693855239346869,
          0.010466130224179,
          0.0457078555128146,
          0.4121120474763694,
          0.0607259668270639,
          0.6552979775160381,
          0.0098183689972904,
          0.3010730749211535,
          0,
          0.0004721050957254,
          0.0261058512074588,
          0.0072326222623335,
          0,
          0.0341171564918796,
          0.0048923789389249,
          0,
          0.1788927869335783,
          0.0603260440962204,
          0.0814180997453162,
          0.2509728183796309,
          0.3893807154144493,
          0.0689502065494902,
          0.0022144696911858,
          0.0006753487667379,
          0.1994256314260777,
          0.0246802340578727,
          0.0553578494517748,
          0.5567320750573319,
          0.0919641849995285,
          0.0008159669789846,
          0,
          0,
          0.1371070258676542,
          0.0313910938790244,
          0.0140964499304203,
          0.5829542639314172,
          0.233635199412499,
          0.4025568657311233,
          0.0091440319690243,
          0.0026944057320136,
          0.2298473049491976,
          0.0321926100777941,
          0.0625063257129853,
          0.2583829533517348,
          0.0026755024761266,
          0.0011549679492888,
          0.001563263804957,
          0.0009942361736979,
          0,
          0.009978743920248,
          0.0321460054377561,
          0.7087194231755891,
          0.2454433595384628,
          0.0038174337024705,
          0.0014374339922584,
          0.0017339793222253,
          0.4546649753674804,
          0.0128620356194197,
          0.0900574678300726,
          0.348989679782698,
          0.0864369943833748,
          0.0249825485235284,
          0.0022527970687678,
          0,
          0.4990558767762205,
          0.0166271247484743,
          0.0441564758349173,
          0.3959208395292284,
          0.0170043375188629,
          0.9771781027339652,
          0.0025203034120458,
          0.0095682986060742,
          0,
          0.0017738961885955,
          0.0017349679599164,
          0.0044534183429947,
          0.002771012756408,
          0.4896911494636775,
          0.0309385270247076,
          0.0078688121310217,
          0.1643621878499529,
          0,
          0.0393088664578395,
          0.1908758887348323,
          0.0769545683379683,
          0.2911995544233731,
          0.0793020993014532,
          0.0398978890842276,
          0.123067675035982,
          0.0057430587470134,
          0.0174538912728506,
          0.3504962251934745,
          0.0928396069416253,
          0.3429876746389379,
          0.0166580326304684,
          0.1264750105099681,
          0.1496011511269698,
          0.0211326633493771,
          0.0236232170117748,
          0.3053424656340746,
          0.0141797850984289,
          0.3098874967972353,
          0.032300795680392,
          0.1318324284248732,
          0.1110484463842399,
          0.0371279461689377,
          0.0696622628543641,
          0.2794430921983466,
          0.0286975314916108,
          0.0676216465503623,
          0.0072311677807109,
          0.0219307937671545,
          0.1340402982996247,
          0.085050237879181,
          0.16066458652948,
          0.3779973722384148,
          0.1454638969550715,
          0.4003826863557329,
          0.0007752124674636,
          0.0134996254939838,
          0.1013941340607133,
          0.0290610144010264,
          0.1555832970389429,
          0.2426418387024799,
          0.0566621914796567,
          0.1855668088825222,
          0.0034004724634482,
          0.0004739632865439,
          0.1845638636516811,
          0.0333741025752777,
          0.0981646374518345,
          0.2697739193688664,
          0.2246822323198257,
          0.0360516471989103,
          0.0930803093325643,
          0.0442415890331577,
          0,
          0.0173248034376833,
          0.055387599402114,
          0.4722091118728001,
          0.2817049397227699
         ],
         "yaxis": "y"
        }
       ],
       "layout": {
        "autosize": true,
        "legend": {
         "title": {
          "text": "variable"
         },
         "tracegroupgap": 0
        },
        "margin": {
         "t": 60
        },
        "template": {
         "data": {
          "bar": [
           {
            "error_x": {
             "color": "#2a3f5f"
            },
            "error_y": {
             "color": "#2a3f5f"
            },
            "marker": {
             "line": {
              "color": "#E5ECF6",
              "width": 0.5
             },
             "pattern": {
              "fillmode": "overlay",
              "size": 10,
              "solidity": 0.2
             }
            },
            "type": "bar"
           }
          ],
          "barpolar": [
           {
            "marker": {
             "line": {
              "color": "#E5ECF6",
              "width": 0.5
             },
             "pattern": {
              "fillmode": "overlay",
              "size": 10,
              "solidity": 0.2
             }
            },
            "type": "barpolar"
           }
          ],
          "carpet": [
           {
            "aaxis": {
             "endlinecolor": "#2a3f5f",
             "gridcolor": "white",
             "linecolor": "white",
             "minorgridcolor": "white",
             "startlinecolor": "#2a3f5f"
            },
            "baxis": {
             "endlinecolor": "#2a3f5f",
             "gridcolor": "white",
             "linecolor": "white",
             "minorgridcolor": "white",
             "startlinecolor": "#2a3f5f"
            },
            "type": "carpet"
           }
          ],
          "choropleth": [
           {
            "colorbar": {
             "outlinewidth": 0,
             "ticks": ""
            },
            "type": "choropleth"
           }
          ],
          "contour": [
           {
            "colorbar": {
             "outlinewidth": 0,
             "ticks": ""
            },
            "colorscale": [
             [
              0,
              "#0d0887"
             ],
             [
              0.1111111111111111,
              "#46039f"
             ],
             [
              0.2222222222222222,
              "#7201a8"
             ],
             [
              0.3333333333333333,
              "#9c179e"
             ],
             [
              0.4444444444444444,
              "#bd3786"
             ],
             [
              0.5555555555555556,
              "#d8576b"
             ],
             [
              0.6666666666666666,
              "#ed7953"
             ],
             [
              0.7777777777777778,
              "#fb9f3a"
             ],
             [
              0.8888888888888888,
              "#fdca26"
             ],
             [
              1,
              "#f0f921"
             ]
            ],
            "type": "contour"
           }
          ],
          "contourcarpet": [
           {
            "colorbar": {
             "outlinewidth": 0,
             "ticks": ""
            },
            "type": "contourcarpet"
           }
          ],
          "heatmap": [
           {
            "colorbar": {
             "outlinewidth": 0,
             "ticks": ""
            },
            "colorscale": [
             [
              0,
              "#0d0887"
             ],
             [
              0.1111111111111111,
              "#46039f"
             ],
             [
              0.2222222222222222,
              "#7201a8"
             ],
             [
              0.3333333333333333,
              "#9c179e"
             ],
             [
              0.4444444444444444,
              "#bd3786"
             ],
             [
              0.5555555555555556,
              "#d8576b"
             ],
             [
              0.6666666666666666,
              "#ed7953"
             ],
             [
              0.7777777777777778,
              "#fb9f3a"
             ],
             [
              0.8888888888888888,
              "#fdca26"
             ],
             [
              1,
              "#f0f921"
             ]
            ],
            "type": "heatmap"
           }
          ],
          "heatmapgl": [
           {
            "colorbar": {
             "outlinewidth": 0,
             "ticks": ""
            },
            "colorscale": [
             [
              0,
              "#0d0887"
             ],
             [
              0.1111111111111111,
              "#46039f"
             ],
             [
              0.2222222222222222,
              "#7201a8"
             ],
             [
              0.3333333333333333,
              "#9c179e"
             ],
             [
              0.4444444444444444,
              "#bd3786"
             ],
             [
              0.5555555555555556,
              "#d8576b"
             ],
             [
              0.6666666666666666,
              "#ed7953"
             ],
             [
              0.7777777777777778,
              "#fb9f3a"
             ],
             [
              0.8888888888888888,
              "#fdca26"
             ],
             [
              1,
              "#f0f921"
             ]
            ],
            "type": "heatmapgl"
           }
          ],
          "histogram": [
           {
            "marker": {
             "pattern": {
              "fillmode": "overlay",
              "size": 10,
              "solidity": 0.2
             }
            },
            "type": "histogram"
           }
          ],
          "histogram2d": [
           {
            "colorbar": {
             "outlinewidth": 0,
             "ticks": ""
            },
            "colorscale": [
             [
              0,
              "#0d0887"
             ],
             [
              0.1111111111111111,
              "#46039f"
             ],
             [
              0.2222222222222222,
              "#7201a8"
             ],
             [
              0.3333333333333333,
              "#9c179e"
             ],
             [
              0.4444444444444444,
              "#bd3786"
             ],
             [
              0.5555555555555556,
              "#d8576b"
             ],
             [
              0.6666666666666666,
              "#ed7953"
             ],
             [
              0.7777777777777778,
              "#fb9f3a"
             ],
             [
              0.8888888888888888,
              "#fdca26"
             ],
             [
              1,
              "#f0f921"
             ]
            ],
            "type": "histogram2d"
           }
          ],
          "histogram2dcontour": [
           {
            "colorbar": {
             "outlinewidth": 0,
             "ticks": ""
            },
            "colorscale": [
             [
              0,
              "#0d0887"
             ],
             [
              0.1111111111111111,
              "#46039f"
             ],
             [
              0.2222222222222222,
              "#7201a8"
             ],
             [
              0.3333333333333333,
              "#9c179e"
             ],
             [
              0.4444444444444444,
              "#bd3786"
             ],
             [
              0.5555555555555556,
              "#d8576b"
             ],
             [
              0.6666666666666666,
              "#ed7953"
             ],
             [
              0.7777777777777778,
              "#fb9f3a"
             ],
             [
              0.8888888888888888,
              "#fdca26"
             ],
             [
              1,
              "#f0f921"
             ]
            ],
            "type": "histogram2dcontour"
           }
          ],
          "mesh3d": [
           {
            "colorbar": {
             "outlinewidth": 0,
             "ticks": ""
            },
            "type": "mesh3d"
           }
          ],
          "parcoords": [
           {
            "line": {
             "colorbar": {
              "outlinewidth": 0,
              "ticks": ""
             }
            },
            "type": "parcoords"
           }
          ],
          "pie": [
           {
            "automargin": true,
            "type": "pie"
           }
          ],
          "scatter": [
           {
            "marker": {
             "colorbar": {
              "outlinewidth": 0,
              "ticks": ""
             }
            },
            "type": "scatter"
           }
          ],
          "scatter3d": [
           {
            "line": {
             "colorbar": {
              "outlinewidth": 0,
              "ticks": ""
             }
            },
            "marker": {
             "colorbar": {
              "outlinewidth": 0,
              "ticks": ""
             }
            },
            "type": "scatter3d"
           }
          ],
          "scattercarpet": [
           {
            "marker": {
             "colorbar": {
              "outlinewidth": 0,
              "ticks": ""
             }
            },
            "type": "scattercarpet"
           }
          ],
          "scattergeo": [
           {
            "marker": {
             "colorbar": {
              "outlinewidth": 0,
              "ticks": ""
             }
            },
            "type": "scattergeo"
           }
          ],
          "scattergl": [
           {
            "marker": {
             "colorbar": {
              "outlinewidth": 0,
              "ticks": ""
             }
            },
            "type": "scattergl"
           }
          ],
          "scattermapbox": [
           {
            "marker": {
             "colorbar": {
              "outlinewidth": 0,
              "ticks": ""
             }
            },
            "type": "scattermapbox"
           }
          ],
          "scatterpolar": [
           {
            "marker": {
             "colorbar": {
              "outlinewidth": 0,
              "ticks": ""
             }
            },
            "type": "scatterpolar"
           }
          ],
          "scatterpolargl": [
           {
            "marker": {
             "colorbar": {
              "outlinewidth": 0,
              "ticks": ""
             }
            },
            "type": "scatterpolargl"
           }
          ],
          "scatterternary": [
           {
            "marker": {
             "colorbar": {
              "outlinewidth": 0,
              "ticks": ""
             }
            },
            "type": "scatterternary"
           }
          ],
          "surface": [
           {
            "colorbar": {
             "outlinewidth": 0,
             "ticks": ""
            },
            "colorscale": [
             [
              0,
              "#0d0887"
             ],
             [
              0.1111111111111111,
              "#46039f"
             ],
             [
              0.2222222222222222,
              "#7201a8"
             ],
             [
              0.3333333333333333,
              "#9c179e"
             ],
             [
              0.4444444444444444,
              "#bd3786"
             ],
             [
              0.5555555555555556,
              "#d8576b"
             ],
             [
              0.6666666666666666,
              "#ed7953"
             ],
             [
              0.7777777777777778,
              "#fb9f3a"
             ],
             [
              0.8888888888888888,
              "#fdca26"
             ],
             [
              1,
              "#f0f921"
             ]
            ],
            "type": "surface"
           }
          ],
          "table": [
           {
            "cells": {
             "fill": {
              "color": "#EBF0F8"
             },
             "line": {
              "color": "white"
             }
            },
            "header": {
             "fill": {
              "color": "#C8D4E3"
             },
             "line": {
              "color": "white"
             }
            },
            "type": "table"
           }
          ]
         },
         "layout": {
          "annotationdefaults": {
           "arrowcolor": "#2a3f5f",
           "arrowhead": 0,
           "arrowwidth": 1
          },
          "autotypenumbers": "strict",
          "coloraxis": {
           "colorbar": {
            "outlinewidth": 0,
            "ticks": ""
           }
          },
          "colorscale": {
           "diverging": [
            [
             0,
             "#8e0152"
            ],
            [
             0.1,
             "#c51b7d"
            ],
            [
             0.2,
             "#de77ae"
            ],
            [
             0.3,
             "#f1b6da"
            ],
            [
             0.4,
             "#fde0ef"
            ],
            [
             0.5,
             "#f7f7f7"
            ],
            [
             0.6,
             "#e6f5d0"
            ],
            [
             0.7,
             "#b8e186"
            ],
            [
             0.8,
             "#7fbc41"
            ],
            [
             0.9,
             "#4d9221"
            ],
            [
             1,
             "#276419"
            ]
           ],
           "sequential": [
            [
             0,
             "#0d0887"
            ],
            [
             0.1111111111111111,
             "#46039f"
            ],
            [
             0.2222222222222222,
             "#7201a8"
            ],
            [
             0.3333333333333333,
             "#9c179e"
            ],
            [
             0.4444444444444444,
             "#bd3786"
            ],
            [
             0.5555555555555556,
             "#d8576b"
            ],
            [
             0.6666666666666666,
             "#ed7953"
            ],
            [
             0.7777777777777778,
             "#fb9f3a"
            ],
            [
             0.8888888888888888,
             "#fdca26"
            ],
            [
             1,
             "#f0f921"
            ]
           ],
           "sequentialminus": [
            [
             0,
             "#0d0887"
            ],
            [
             0.1111111111111111,
             "#46039f"
            ],
            [
             0.2222222222222222,
             "#7201a8"
            ],
            [
             0.3333333333333333,
             "#9c179e"
            ],
            [
             0.4444444444444444,
             "#bd3786"
            ],
            [
             0.5555555555555556,
             "#d8576b"
            ],
            [
             0.6666666666666666,
             "#ed7953"
            ],
            [
             0.7777777777777778,
             "#fb9f3a"
            ],
            [
             0.8888888888888888,
             "#fdca26"
            ],
            [
             1,
             "#f0f921"
            ]
           ]
          },
          "colorway": [
           "#636efa",
           "#EF553B",
           "#00cc96",
           "#ab63fa",
           "#FFA15A",
           "#19d3f3",
           "#FF6692",
           "#B6E880",
           "#FF97FF",
           "#FECB52"
          ],
          "font": {
           "color": "#2a3f5f"
          },
          "geo": {
           "bgcolor": "white",
           "lakecolor": "white",
           "landcolor": "#E5ECF6",
           "showlakes": true,
           "showland": true,
           "subunitcolor": "white"
          },
          "hoverlabel": {
           "align": "left"
          },
          "hovermode": "closest",
          "mapbox": {
           "style": "light"
          },
          "paper_bgcolor": "white",
          "plot_bgcolor": "#E5ECF6",
          "polar": {
           "angularaxis": {
            "gridcolor": "white",
            "linecolor": "white",
            "ticks": ""
           },
           "bgcolor": "#E5ECF6",
           "radialaxis": {
            "gridcolor": "white",
            "linecolor": "white",
            "ticks": ""
           }
          },
          "scene": {
           "xaxis": {
            "backgroundcolor": "#E5ECF6",
            "gridcolor": "white",
            "gridwidth": 2,
            "linecolor": "white",
            "showbackground": true,
            "ticks": "",
            "zerolinecolor": "white"
           },
           "yaxis": {
            "backgroundcolor": "#E5ECF6",
            "gridcolor": "white",
            "gridwidth": 2,
            "linecolor": "white",
            "showbackground": true,
            "ticks": "",
            "zerolinecolor": "white"
           },
           "zaxis": {
            "backgroundcolor": "#E5ECF6",
            "gridcolor": "white",
            "gridwidth": 2,
            "linecolor": "white",
            "showbackground": true,
            "ticks": "",
            "zerolinecolor": "white"
           }
          },
          "shapedefaults": {
           "line": {
            "color": "#2a3f5f"
           }
          },
          "ternary": {
           "aaxis": {
            "gridcolor": "white",
            "linecolor": "white",
            "ticks": ""
           },
           "baxis": {
            "gridcolor": "white",
            "linecolor": "white",
            "ticks": ""
           },
           "bgcolor": "#E5ECF6",
           "caxis": {
            "gridcolor": "white",
            "linecolor": "white",
            "ticks": ""
           }
          },
          "title": {
           "x": 0.05
          },
          "xaxis": {
           "automargin": true,
           "gridcolor": "white",
           "linecolor": "white",
           "ticks": "",
           "title": {
            "standoff": 15
           },
           "zerolinecolor": "white",
           "zerolinewidth": 2
          },
          "yaxis": {
           "automargin": true,
           "gridcolor": "white",
           "linecolor": "white",
           "ticks": "",
           "title": {
            "standoff": 15
           },
           "zerolinecolor": "white",
           "zerolinewidth": 2
          }
         }
        },
        "xaxis": {
         "anchor": "y",
         "autorange": true,
         "domain": [
          0,
          1
         ],
         "range": [
          -9.25123355263158,
          160.2512335526316
         ],
         "title": {
          "text": "index"
         },
         "type": "linear"
        },
        "yaxis": {
         "anchor": "x",
         "autorange": true,
         "domain": [
          0,
          1
         ],
         "range": [
          -0.06715204971394548,
          1.0443301524479107
         ],
         "title": {
          "text": "value"
         },
         "type": "linear"
        }
       }
      },
      "image/png": "[encoded data removed]"
     },
     "metadata": {},
     "output_type": "display_data"
    }
   ],
   "source": [
    "px.scatter(inferred_and_truth.values)"
   ]
  }
 ],
 "metadata": {
  "environment": {
   "name": "tf2-gpu.2-5.m74",
   "type": "gcloud",
   "uri": "gcr.io/deeplearning-platform-release/tf2-gpu.2-5:m74"
  },
  "kernelspec": {
   "display_name": "Python 3",
   "language": "python",
   "name": "python3"
  },
  "language_info": {
   "codemirror_mode": {
    "name": "ipython",
    "version": 3
   },
   "file_extension": ".py",
   "mimetype": "text/x-python",
   "name": "python",
   "nbconvert_exporter": "python",
   "pygments_lexer": "ipython3",
   "version": "3.7.10"
  }
 },
 "nbformat": 4,
 "nbformat_minor": 5
}
