{
 "cells": [
  {
   "cell_type": "markdown",
   "id": "ac4a9f64",
   "metadata": {},
   "source": [
    "# tut 1\n",
    "\n",
    "Single Cell RNA-Seq Melanoma (Fig. 3c-e) (Tutorial 1):\n",
    "\n",
    "This example builds a signature matrix from single cell RNA sequencing data from melanoma (Tirosh et al., Science, 2016) and enumerates the proportions of the different cell types in bulk melanoma tumors reconstituted from single cell RNA-Seq data.\n",
    "\n",
    "```\n",
    "docker run \\\n",
    "    -v absolute/path/to/input/dir:/src/data \\\n",
    "    -v absolute/path/to/output/dir:/src/outdir \\\n",
    "    cibersortx/fractions \\\n",
    "    --username email_address_registered_on_CIBERSORTx_website \\\n",
    "    --token token_obtained_from_CIBERSORTx_website \\\n",
    "    --single_cell TRUE \\\n",
    "    --refsample scRNA-Seq_reference_melanoma_Tirosh_SuppFig_3b-d.txt \\\n",
    "    --mixture mixture_melanoma_Tirosh_SuppFig_3b-d.txt\n",
    "\n",
    "```"
   ]
  },
  {
   "cell_type": "markdown",
   "id": "ea58d615",
   "metadata": {},
   "source": [
    "## import stuff"
   ]
  },
  {
   "cell_type": "code",
   "execution_count": null,
   "id": "c03239f0",
   "metadata": {},
   "outputs": [],
   "source": [
    "import os"
   ]
  },
  {
   "cell_type": "code",
   "execution_count": null,
   "id": "d7e44551",
   "metadata": {},
   "outputs": [],
   "source": [
    "import pandas as pd"
   ]
  },
  {
   "cell_type": "code",
   "execution_count": null,
   "id": "580fd6b2",
   "metadata": {},
   "outputs": [],
   "source": [
    "import numpy as np\n",
    "\n",
    "np.set_printoptions(precision=6, suppress=True)  # don't use scientific notation"
   ]
  },
  {
   "cell_type": "code",
   "execution_count": null,
   "id": "d02c159d",
   "metadata": {},
   "outputs": [],
   "source": [
    "import plotly.express as px\n",
    "import plotly.graph_objects as go\n",
    "import plotly.io\n",
    "\n",
    "plotly.io.renderers.default = 'jupyterlab+png'  # makes plots visible on github"
   ]
  },
  {
   "cell_type": "markdown",
   "id": "58a3a128",
   "metadata": {},
   "source": [
    "### find input files"
   ]
  },
  {
   "cell_type": "code",
   "execution_count": null,
   "id": "a2b092c2",
   "metadata": {},
   "outputs": [],
   "source": [
    "!find /mnt/buckets/liulab/ -type f -iname '*tirosh*' -o -type f -iname '*melanoma*'"
   ]
  },
  {
   "cell_type": "markdown",
   "id": "ab557a53",
   "metadata": {},
   "source": [
    "### read data into dataframes"
   ]
  },
  {
   "cell_type": "markdown",
   "id": "aa1804e9",
   "metadata": {},
   "source": [
    "#### single cell"
   ]
  },
  {
   "cell_type": "code",
   "execution_count": null,
   "id": "60125329",
   "metadata": {},
   "outputs": [],
   "source": [
    "path = (\n",
    "    \"/mnt/buckets/liulab/csx_example_files/Single_Cell_RNA-Seq_Melanoma_SuppFig_3b-d/\"\n",
    "    \"scRNA-Seq_reference_melanoma_Tirosh_SuppFig_3b-d.txt\"\n",
    ")\n",
    "\n",
    "tirosh_sc = pd.read_csv(\n",
    "    path,\n",
    "    sep='\\t',\n",
    "    index_col=0\n",
    ")\n",
    "\n",
    "tirosh_sc"
   ]
  },
  {
   "cell_type": "markdown",
   "id": "d1eb1381",
   "metadata": {},
   "source": [
    "figure out where derek's single cell data was..."
   ]
  },
  {
   "cell_type": "code",
   "execution_count": null,
   "id": "6214b981",
   "metadata": {},
   "outputs": [],
   "source": [
    "!grep -Ril \"CY116CD45neg\" /mnt/buckets/liulab/"
   ]
  },
  {
   "cell_type": "code",
   "execution_count": null,
   "id": "5e2d66ba",
   "metadata": {},
   "outputs": [],
   "source": [
    "path = \"/mnt/buckets/liulab/derek/scRNAseq/melanoma/metadata_all.txt\"\n",
    "\n",
    "tirosh_sc_derek_metadata = pd.read_csv(\n",
    "    path,\n",
    "    sep='\\t',\n",
    "#     index_col=0,\n",
    "    skiprows=[1]\n",
    ")"
   ]
  },
  {
   "cell_type": "markdown",
   "id": "5a85d359",
   "metadata": {},
   "source": [
    "#### figuring out this data...\n",
    "looks like 'CLINIC' == TRUE means it's a cell (FALSE means it's a fragment?)"
   ]
  },
  {
   "cell_type": "code",
   "execution_count": null,
   "id": "263091bc",
   "metadata": {},
   "outputs": [],
   "source": [
    "tirosh_sc_derek_metadata['CLINIC'].value_counts()"
   ]
  },
  {
   "cell_type": "code",
   "execution_count": null,
   "id": "fad300b0",
   "metadata": {},
   "outputs": [],
   "source": [
    "tirosh_sc_derek_metadata['LABEL'].str.contains(\"Mel\").value_counts()"
   ]
  },
  {
   "cell_type": "code",
   "execution_count": null,
   "id": "05c7e625",
   "metadata": {},
   "outputs": [],
   "source": [
    "tirosh_sc_derek_metadata.sample(10, random_state=0)"
   ]
  },
  {
   "cell_type": "code",
   "execution_count": null,
   "id": "c7d3129b",
   "metadata": {},
   "outputs": [],
   "source": [
    "tirosh_sc_derek_metadata.query('CLINIC == \"TRUE\"')"
   ]
  },
  {
   "cell_type": "code",
   "execution_count": null,
   "id": "63515a58",
   "metadata": {},
   "outputs": [],
   "source": [
    "path = (\n",
    "    \"/mnt/buckets/liulab/csx_example_files/Single_Cell_RNA-Seq_Melanoma_SuppFig_3b-d/\"\n",
    "    \"mixture_melanoma_Tirosh_SuppFig_3b-d.txt\"\n",
    ")\n",
    "\n",
    "tirosh_mixtures = pd.read_csv(\n",
    "    path,\n",
    "    sep='\\t',\n",
    "    index_col=0\n",
    ")\n",
    "\n",
    "tirosh_mixtures"
   ]
  },
  {
   "cell_type": "markdown",
   "id": "9d6c8980",
   "metadata": {},
   "source": [
    "## run csx with docker"
   ]
  },
  {
   "cell_type": "code",
   "execution_count": null,
   "id": "5fc9e17e",
   "metadata": {},
   "outputs": [],
   "source": [
    "!./scripts/tut1-csx_fractions_melanoma.sh"
   ]
  },
  {
   "cell_type": "markdown",
   "id": "b91ee51c",
   "metadata": {},
   "source": [
    "## inspect csx results"
   ]
  },
  {
   "cell_type": "markdown",
   "id": "6bb807b5",
   "metadata": {},
   "source": [
    "### find output files"
   ]
  },
  {
   "cell_type": "code",
   "execution_count": null,
   "id": "9000855a",
   "metadata": {},
   "outputs": [],
   "source": [
    "!find /mnt/buckets/liulab/csx-runs/ -name CIBERSORTx_Adjusted.txt | sort"
   ]
  },
  {
   "cell_type": "code",
   "execution_count": null,
   "id": "c6373447",
   "metadata": {},
   "outputs": [],
   "source": [
    "csx_run_dir = \"/mnt/buckets/liulab/csx-runs/20210715_160345/\""
   ]
  },
  {
   "cell_type": "markdown",
   "id": "a58f47e1",
   "metadata": {},
   "source": [
    "### look at sig matrix, mixtures"
   ]
  },
  {
   "cell_type": "code",
   "execution_count": null,
   "id": "6bbdac88",
   "metadata": {},
   "outputs": [],
   "source": [
    "path = os.path.join(csx_run_dir, \"out\", \"CIBERSORTx_sigmatrix_Adjusted.txt\")\n",
    "print(path)\n",
    "\n",
    "learned_sigmatrix = pd.read_csv(\n",
    "    path,\n",
    "    sep='\\t',\n",
    "    index_col=0\n",
    ")"
   ]
  },
  {
   "cell_type": "code",
   "execution_count": null,
   "id": "68e8c5bc",
   "metadata": {},
   "outputs": [],
   "source": [
    "learned_sigmatrix.sample(10)"
   ]
  },
  {
   "cell_type": "code",
   "execution_count": null,
   "id": "671a3746",
   "metadata": {},
   "outputs": [],
   "source": [
    "path = os.path.join(csx_run_dir, \"in\", \"mymixture.txt\")\n",
    "print(path)\n",
    "\n",
    "mixtures = pd.read_csv(\n",
    "    path,\n",
    "    sep='\\t',\n",
    "    index_col=0\n",
    ")"
   ]
  },
  {
   "cell_type": "code",
   "execution_count": null,
   "id": "2642d1cb",
   "metadata": {},
   "outputs": [],
   "source": [
    "pd.merge(learned_sigmatrix, mixtures['53'], left_index=True, right_index=True)"
   ]
  },
  {
   "cell_type": "markdown",
   "id": "2ca63885",
   "metadata": {},
   "source": [
    "### attempt inferring fractions myself with sigmatrix, mixture"
   ]
  },
  {
   "cell_type": "code",
   "execution_count": null,
   "id": "d0cd6987",
   "metadata": {},
   "outputs": [],
   "source": [
    "import numpy as np\n",
    "\n",
    "from sklearn.svm import NuSVR\n",
    "from sklearn.pipeline import make_pipeline\n",
    "from sklearn.preprocessing import StandardScaler"
   ]
  },
  {
   "cell_type": "code",
   "execution_count": null,
   "id": "ddd55c4f",
   "metadata": {},
   "outputs": [],
   "source": [
    "np.set_printoptions(precision=6, suppress=True)"
   ]
  },
  {
   "cell_type": "code",
   "execution_count": null,
   "id": "fbf313c6",
   "metadata": {},
   "outputs": [],
   "source": [
    "_combined_data = pd.merge(learned_sigmatrix, mixtures['53'], left_index=True, right_index=True)\n",
    "y = _combined_data.values[:, -1]\n",
    "X = _combined_data.values[:, :-1]\n",
    "y.shape, X.shape"
   ]
  },
  {
   "cell_type": "code",
   "execution_count": null,
   "id": "0d051f41",
   "metadata": {},
   "outputs": [],
   "source": [
    "regr = make_pipeline(StandardScaler(), NuSVR(nu=0.5, kernel='linear'))\n",
    "regr.fit(X, y)\n",
    "_ = regr.named_steps['nusvr'].coef_\n",
    "_ / np.sum(_)"
   ]
  },
  {
   "cell_type": "markdown",
   "id": "7ed87cf0",
   "metadata": {},
   "source": [
    "## check fractions inferred by csx"
   ]
  },
  {
   "cell_type": "code",
   "execution_count": null,
   "id": "2b4f0560",
   "metadata": {},
   "outputs": [],
   "source": [
    "path = os.path.join(csx_run_dir, \"out\", \"CIBERSORTx_Adjusted.txt\")\n",
    "print(path)\n",
    "\n",
    "inferred_fractions = pd.read_csv(\n",
    "    path,\n",
    "    sep='\\t',\n",
    "    index_col=0\n",
    ")\n",
    "\n",
    "inferred_fractions"
   ]
  },
  {
   "cell_type": "markdown",
   "id": "1fb0c878",
   "metadata": {},
   "source": [
    "# check groundtruth fractions\n",
    "\n",
    "did they have data for this?"
   ]
  },
  {
   "cell_type": "code",
   "execution_count": null,
   "id": "005238fd",
   "metadata": {},
   "outputs": [],
   "source": [
    "path = \"/mnt/buckets/liulab/csx_example_files/groundtruth_Melanoma_Tirosh_et_al_SuppFig3b-d.txt\"\n",
    "print(path)\n",
    "\n",
    "gt_fractions = pd.read_csv(\n",
    "    path,\n",
    "    sep='\\t',\n",
    "    index_col=0\n",
    ")\n",
    "\n",
    "gt_fractions"
   ]
  },
  {
   "cell_type": "code",
   "execution_count": null,
   "id": "0de9a4aa",
   "metadata": {},
   "outputs": [],
   "source": [
    "inferred_fractions[gt_fractions.columns]"
   ]
  },
  {
   "cell_type": "code",
   "execution_count": null,
   "id": "f4145953",
   "metadata": {},
   "outputs": [],
   "source": [
    "gt_fractions_stacked = gt_fractions.stack()\n",
    "gt_fractions_stacked.rename('proportion', inplace=True)\n",
    "gt_fractions_stacked.index.set_names('Mixture', level=0, inplace=True)\n",
    "gt_fractions_stacked.index.set_names('cell_type', level=1, inplace=True)\n",
    "gt_fractions_stacked"
   ]
  },
  {
   "cell_type": "code",
   "execution_count": null,
   "id": "6c7f11a6",
   "metadata": {},
   "outputs": [],
   "source": [
    "inferred_fractions_stacked = inferred_fractions[gt_fractions.columns].stack()\n",
    "inferred_fractions_stacked.rename('proportion', inplace=True)\n",
    "inferred_fractions_stacked.index.set_names('cell_type', level=1, inplace=True)\n",
    "inferred_fractions_stacked"
   ]
  },
  {
   "cell_type": "code",
   "execution_count": null,
   "id": "48f782f0",
   "metadata": {},
   "outputs": [],
   "source": [
    "inferred_and_truth = pd.merge(gt_fractions_stacked, inferred_fractions_stacked, left_index=True, right_index=True)"
   ]
  },
  {
   "cell_type": "code",
   "execution_count": null,
   "id": "f9750f76",
   "metadata": {},
   "outputs": [],
   "source": [
    "px.scatter(inferred_and_truth.values)"
   ]
  }
 ],
 "metadata": {
  "environment": {
   "name": "tf2-gpu.2-5.m74",
   "type": "gcloud",
   "uri": "gcr.io/deeplearning-platform-release/tf2-gpu.2-5:m74"
  },
  "kernelspec": {
   "display_name": "Python 3",
   "language": "python",
   "name": "python3"
  },
  "language_info": {
   "codemirror_mode": {
    "name": "ipython",
    "version": 3
   },
   "file_extension": ".py",
   "mimetype": "text/x-python",
   "name": "python",
   "nbconvert_exporter": "python",
   "pygments_lexer": "ipython3",
   "version": "3.7.10"
  }
 },
 "nbformat": 4,
 "nbformat_minor": 5
}
