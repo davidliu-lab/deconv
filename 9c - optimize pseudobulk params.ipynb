{
 "cells": [
  {
   "cell_type": "code",
   "execution_count": 1,
   "id": "59cb5677-c8f7-4671-82fe-1827bb75c762",
   "metadata": {},
   "outputs": [],
   "source": [
    "import logging\n",
    "\n",
    "import helpers\n",
    "import numpy as np\n",
    "import pandas as pd"
   ]
  },
  {
   "cell_type": "code",
   "execution_count": 8,
   "id": "883d8cfb-bc07-4b32-9893-d8f29d60de75",
   "metadata": {},
   "outputs": [],
   "source": [
    "# data quality\n",
    "mets_only_tcga = True\n",
    "gene_sparsity_ceiling_tcga = 0.5\n",
    "# pseudobulk generation parameters\n",
    "n_cells_per_cell_type = 10\n",
    "malignant_from_one_sample = True"
   ]
  },
  {
   "cell_type": "code",
   "execution_count": null,
   "id": "7d783608-28e5-4b86-b94e-cd5156e05b01",
   "metadata": {},
   "outputs": [],
   "source": [
    "import pathlib\n",
    "\n",
    "figure_path = pathlib.Path(\"figures-9c\")\n",
    "figure_path.mkdir(parents=True, exist_ok=True)\n",
    "figure_path\n",
    "\n",
    "data_path = \"gs://liulab/data/9c\"\n",
    "figure_path.mkdir(parents=True, exist_ok=True)\n",
    "figure_path\n"
   ]
  },
  {
   "cell_type": "code",
   "execution_count": 2,
   "id": "03448716-6e7a-4959-b29e-bee0a2770851",
   "metadata": {},
   "outputs": [],
   "source": [
    "handler = logging.StreamHandler()\n",
    "formatter = logging.Formatter(\"%(asctime)s - %(name)s - %(levelname)s - %(message)s\")\n",
    "handler.setFormatter(formatter)\n",
    "logging.getLogger().addHandler(handler)"
   ]
  },
  {
   "cell_type": "code",
   "execution_count": 3,
   "id": "40c27411-0f1b-4022-8fed-3d6ef6735ff7",
   "metadata": {},
   "outputs": [],
   "source": [
    "rng = np.random.default_rng(seed=0)"
   ]
  },
  {
   "cell_type": "code",
   "execution_count": 4,
   "id": "a7e97b26-476a-4326-a46f-09f0a86a95c8",
   "metadata": {
    "tags": []
   },
   "outputs": [
    {
     "name": "stdout",
     "output_type": "stream",
     "text": [
      "CPU times: user 13.6 s, sys: 1.69 s, total: 15.3 s\n",
      "Wall time: 38.9 s\n"
     ]
    }
   ],
   "source": [
    "%%time\n",
    "bulk_tcga_skcm = helpers.datasets.load_tcga_skcm_hg19_scaled_estimate_firebrowse()\n",
    "bulk_tcga_skcm *= 1_000_000 / bulk_tcga_skcm.sum()"
   ]
  },
  {
   "cell_type": "code",
   "execution_count": 5,
   "id": "67902950-0d1f-4c3c-9e44-f3676af324fc",
   "metadata": {},
   "outputs": [
    {
     "name": "stdout",
     "output_type": "stream",
     "text": [
      "CPU times: user 10.4 ms, sys: 3.8 ms, total: 14.2 ms\n",
      "Wall time: 121 ms\n"
     ]
    }
   ],
   "source": [
    "%%time\n",
    "fractions_tcga_skcm = helpers.datasets.load_tcga_skcm_fractions_from_csx()"
   ]
  },
  {
   "cell_type": "code",
   "execution_count": 6,
   "id": "5df3dbf9-fd0c-4509-9919-335bd5c2f123",
   "metadata": {},
   "outputs": [
    {
     "name": "stdout",
     "output_type": "stream",
     "text": [
      "CPU times: user 1min 14s, sys: 27.7 s, total: 1min 42s\n",
      "Wall time: 45.6 s\n"
     ]
    }
   ],
   "source": [
    "%%time\n",
    "sc_jerby_arnon, sc_metadata_jerby_arnon = helpers.datasets.load_jerby_arnon(\n",
    "    ref_genome=\"hg19\", units=\"tpm\"\n",
    ")\n",
    "sc_jerby_arnon *= 1_000_000 / sc_jerby_arnon.sum()"
   ]
  },
  {
   "cell_type": "markdown",
   "id": "bbeb00f6-f226-44d3-9455-d306a2fa42f7",
   "metadata": {},
   "source": [
    "# calculate exclusions"
   ]
  },
  {
   "cell_type": "code",
   "execution_count": 7,
   "id": "4883a844-3e25-4363-b65e-2103317b76e9",
   "metadata": {},
   "outputs": [
    {
     "ename": "NameError",
     "evalue": "name 'gene_sparsity_ceiling_tcga' is not defined",
     "output_type": "error",
     "traceback": [
      "\u001b[0;31m---------------------------------------------------------------------------\u001b[0m",
      "\u001b[0;31mNameError\u001b[0m                                 Traceback (most recent call last)",
      "Input \u001b[0;32mIn [7]\u001b[0m, in \u001b[0;36m<cell line: 6>\u001b[0;34m()\u001b[0m\n\u001b[1;32m      3\u001b[0m exclusions_genes \u001b[38;5;241m=\u001b[39m pd\u001b[38;5;241m.\u001b[39mDataFrame(index\u001b[38;5;241m=\u001b[39mbulk_tcga_skcm\u001b[38;5;241m.\u001b[39mindex\u001b[38;5;241m.\u001b[39munion(sc_jerby_arnon\u001b[38;5;241m.\u001b[39mindex))\n\u001b[1;32m      5\u001b[0m \u001b[38;5;66;03m## sparsity in tcga\u001b[39;00m\n\u001b[1;32m      6\u001b[0m genes_sparse_tcga_skcm \u001b[38;5;241m=\u001b[39m bulk_tcga_skcm[\n\u001b[0;32m----> 7\u001b[0m     (bulk_tcga_skcm \u001b[38;5;241m==\u001b[39m \u001b[38;5;241m0\u001b[39m)\u001b[38;5;241m.\u001b[39mmean(axis\u001b[38;5;241m=\u001b[39m\u001b[38;5;241m1\u001b[39m) \u001b[38;5;241m>\u001b[39m \u001b[43mgene_sparsity_ceiling_tcga\u001b[49m\n\u001b[1;32m      8\u001b[0m ]\u001b[38;5;241m.\u001b[39mindex\n\u001b[1;32m      9\u001b[0m exclusions_genes[\u001b[38;5;124m\"\u001b[39m\u001b[38;5;124msparse_in_tcga_skcm\u001b[39m\u001b[38;5;124m\"\u001b[39m] \u001b[38;5;241m=\u001b[39m exclusions_genes\u001b[38;5;241m.\u001b[39mindex\u001b[38;5;241m.\u001b[39mmap(\n\u001b[1;32m     10\u001b[0m     \u001b[38;5;28;01mlambda\u001b[39;00m g: g \u001b[38;5;129;01min\u001b[39;00m genes_sparse_tcga_skcm\n\u001b[1;32m     11\u001b[0m )\n\u001b[1;32m     13\u001b[0m \u001b[38;5;66;03m## genes not in both cohorts\u001b[39;00m\n",
      "\u001b[0;31mNameError\u001b[0m: name 'gene_sparsity_ceiling_tcga' is not defined"
     ]
    }
   ],
   "source": [
    "# determine gene exclusions\n",
    "\n",
    "exclusions_genes = pd.DataFrame(index=bulk_tcga_skcm.index.union(sc_jerby_arnon.index))\n",
    "\n",
    "## sparsity in tcga\n",
    "genes_sparse_tcga_skcm = bulk_tcga_skcm[\n",
    "    (bulk_tcga_skcm == 0).mean(axis=1) > gene_sparsity_ceiling_tcga\n",
    "].index\n",
    "exclusions_genes[\"sparse_in_tcga_skcm\"] = exclusions_genes.index.map(\n",
    "    lambda g: g in genes_sparse_tcga_skcm\n",
    ")\n",
    "\n",
    "## genes not in both cohorts\n",
    "genes_in_both = bulk_tcga_skcm.index.intersection(sc_jerby_arnon.index)\n",
    "exclusions_genes[\"not_in_both_cohorts\"] = exclusions_genes.index.map(\n",
    "    lambda gene_name: gene_name not in genes_in_both\n",
    ")\n",
    "\n",
    "good_genes = exclusions_genes.loc[~exclusions_genes.any(axis=1)].index"
   ]
  },
  {
   "cell_type": "markdown",
   "id": "54d7ff27-d963-4249-bb6c-5977c3ac358c",
   "metadata": {},
   "source": [
    "# compute pseudobulks"
   ]
  },
  {
   "cell_type": "code",
   "execution_count": null,
   "id": "11db8527-4fc2-41d6-ae32-d038c76e5acd",
   "metadata": {},
   "outputs": [],
   "source": [
    "for n_cells_per_cell_type in range(1, 21):\n",
    "    for kth_trial in range(10):\n",
    "        logger.info(\n",
    "            f\"creating pseudobulk, cell type GEPs for {n_cells_per_cell_type}, trial {kth_trial}\"\n",
    "        )\n",
    "        (\n",
    "            bulk_pseudo,\n",
    "            bulk_pseudo_cell_type_geps,\n",
    "        ) = helpers.creating_mixtures.make_mixtures(\n",
    "            sc_jerby_arnon_cleaned,\n",
    "            sc_metadata_jerby_arnon,\n",
    "            fractions_tcga_skcm_cleaned.rename(\n",
    "                index=lambda sample: f\"pseudo_like_{sample}\"\n",
    "            ),\n",
    "            n_cells_per_gep=n_cells_per_cell_type,\n",
    "            normalization_factor=1_000_000,\n",
    "            malignant_from_one_sample=True,\n",
    "            rng=rng,\n",
    "        )\n",
    "        break"
   ]
  },
  {
   "cell_type": "markdown",
   "id": "c614abb3-fdd2-4aed-bddb-2e71782be4b6",
   "metadata": {},
   "source": [
    "# evaluate pseudobulks "
   ]
  },
  {
   "cell_type": "code",
   "execution_count": null,
   "id": "c3ee64c7-1eb9-47af-9bc8-c059b23e68b4",
   "metadata": {},
   "outputs": [],
   "source": [
    "results = pd.DataFrame(index=range(1, 21))"
   ]
  },
  {
   "cell_type": "code",
   "execution_count": null,
   "id": "f183617a-0472-4c8e-9956-a3f174070316",
   "metadata": {},
   "outputs": [],
   "source": []
  },
  {
   "cell_type": "code",
   "execution_count": null,
   "id": "36a92582-83ee-4cb6-918a-e0dc243ed82b",
   "metadata": {},
   "outputs": [],
   "source": [
    "results.groupby(\"n_cells_per_cell_type\").agg([\"mean\", \"std\"])"
   ]
  }
 ],
 "metadata": {
  "environment": {
   "kernel": "conda-env-deconv-py",
   "name": "common-cpu.m91",
   "type": "gcloud",
   "uri": "gcr.io/deeplearning-platform-release/base-cpu:m91"
  },
  "kernelspec": {
   "display_name": "Python [conda env:deconv]",
   "language": "python",
   "name": "conda-env-deconv-py"
  },
  "language_info": {
   "codemirror_mode": {
    "name": "ipython",
    "version": 3
   },
   "file_extension": ".py",
   "mimetype": "text/x-python",
   "name": "python",
   "nbconvert_exporter": "python",
   "pygments_lexer": "ipython3",
   "version": "3.10.4"
  }
 },
 "nbformat": 4,
 "nbformat_minor": 5
}
