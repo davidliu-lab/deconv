{
 "cells": [
  {
   "cell_type": "code",
   "execution_count": 1,
   "id": "f4adf4b8-68d7-43e6-9835-3994f0fe33a7",
   "metadata": {
    "execution": {
     "iopub.execute_input": "2022-04-11T19:57:08.787638Z",
     "iopub.status.busy": "2022-04-11T19:57:08.787341Z",
     "iopub.status.idle": "2022-04-11T19:57:08.794346Z",
     "shell.execute_reply": "2022-04-11T19:57:08.793102Z",
     "shell.execute_reply.started": "2022-04-11T19:57:08.787561Z"
    }
   },
   "outputs": [],
   "source": [
    "import numpy as np\n",
    "import pandas as pd\n",
    "from google.cloud import bigquery"
   ]
  },
  {
   "cell_type": "code",
   "execution_count": 2,
   "id": "2d1a6d57-f0e8-4ad6-ba63-a2df7e685793",
   "metadata": {
    "execution": {
     "iopub.execute_input": "2022-04-11T19:59:12.378613Z",
     "iopub.status.busy": "2022-04-11T19:59:12.378388Z",
     "iopub.status.idle": "2022-04-11T19:59:12.389564Z",
     "shell.execute_reply": "2022-04-11T19:59:12.388979Z",
     "shell.execute_reply.started": "2022-04-11T19:59:12.378589Z"
    }
   },
   "outputs": [],
   "source": [
    "client = bigquery.Client()"
   ]
  },
  {
   "cell_type": "code",
   "execution_count": 3,
   "id": "e23ff1eb-d2af-4b29-8f6b-fd2ff710439e",
   "metadata": {
    "execution": {
     "iopub.execute_input": "2022-04-11T20:02:21.736870Z",
     "iopub.status.busy": "2022-04-11T20:02:21.736633Z",
     "iopub.status.idle": "2022-04-11T20:02:56.995365Z",
     "shell.execute_reply": "2022-04-11T20:02:56.994777Z",
     "shell.execute_reply.started": "2022-04-11T20:02:21.736849Z"
    },
    "tags": []
   },
   "outputs": [
    {
     "name": "stderr",
     "output_type": "stream",
     "text": [
      "Query complete after 29.06s: : 3query [00:28,  9.64s/query]                                                    \n",
      "Downloading: 100%|██████████| 7407161/7407161 [00:04<00:00, 1801568.72rows/s]\n"
     ]
    }
   ],
   "source": [
    "query_string = \"\"\"\n",
    "select\n",
    "    aliquot_barcode,\n",
    "    HGNC_gene_symbol as gene_name,\n",
    "    sum(normalized_count) as counts_hg19\n",
    "from `gdc_tcga_skcm_subset.RNAseq_hg19_gdc_current`\n",
    "where aliquot_barcode in (\n",
    "    select aliquot_barcode \n",
    "    from `gdc_tcga_skcm_subset.aliquot2caseIDmap_current`\n",
    "    where sample_type_name = \"Metastatic\"\n",
    ")\n",
    "group by 1, 2\n",
    "order by 1, 2\n",
    "\"\"\"\n",
    "\n",
    "query_job = client.query(query_string)\n",
    "tcga_skcm_hg19 = query_job.to_dataframe(progress_bar_type=\"tqdm\")"
   ]
  },
  {
   "cell_type": "code",
   "execution_count": 4,
   "id": "f3ec6f78-eb78-4a5e-ac85-30f8b6b5267d",
   "metadata": {
    "execution": {
     "iopub.execute_input": "2022-04-11T20:09:08.541094Z",
     "iopub.status.busy": "2022-04-11T20:09:08.540867Z",
     "iopub.status.idle": "2022-04-11T20:09:37.195876Z",
     "shell.execute_reply": "2022-04-11T20:09:37.195266Z",
     "shell.execute_reply.started": "2022-04-11T20:09:08.541074Z"
    },
    "tags": []
   },
   "outputs": [
    {
     "name": "stderr",
     "output_type": "stream",
     "text": [
      "Query complete after 22.50s: : 3query [00:22,  7.50s/query]                                                    \n",
      "Downloading: 100%|██████████| 7234304/7234304 [00:04<00:00, 1702711.96rows/s]\n"
     ]
    }
   ],
   "source": [
    "query_string = \"\"\"\n",
    "select\n",
    "    aliquot_barcode,\n",
    "    gene_name,\n",
    "    sum(HTSeq__Counts) as counts_hg38,\n",
    "    sum(HTSeq__FPKM) as fpkm_hg38,\n",
    "    sum(HTSeq__FPKM_UQ) as fpkm_uq_hg38\n",
    "from `gdc_tcga_skcm_subset.RNAseq_hg38_gdc_current`\n",
    "where aliquot_barcode in (\n",
    "    select aliquot_barcode \n",
    "    from `gdc_tcga_skcm_subset.aliquot2caseIDmap_current`\n",
    "    where sample_type_name = \"Metastatic\"\n",
    ")\n",
    "group by 1, 2\n",
    "order by 1, 2\n",
    "\"\"\"\n",
    "\n",
    "query_job = client.query(query_string)\n",
    "tcga_skcm_hg38 = query_job.to_dataframe(progress_bar_type=\"tqdm\")"
   ]
  },
  {
   "cell_type": "code",
   "execution_count": null,
   "id": "08c21d01-9f9f-4eab-95b1-43de98c37021",
   "metadata": {
    "tags": []
   },
   "outputs": [],
   "source": [
    "# both = pd.concat([tcga_skcm_hg19.set_index(\"HGNC_gene_symbol\"), tcga_skcm_hg38.set_index(\"gene_name\")], axis=1, join=\"inner\")\n",
    "tcga_skcm_hg19.set_index([\"aliquot_barcode\", \"gene_name\"])\n",
    "tcga_skcm_hg38.set_index([\"aliquot_barcode\", \"gene_name\"])"
   ]
  },
  {
   "cell_type": "code",
   "execution_count": null,
   "id": "92785b33-9c2d-4a0f-96b4-1d88adad6ac8",
   "metadata": {
    "tags": []
   },
   "outputs": [],
   "source": [
    "# both.isna().sum()"
   ]
  },
  {
   "cell_type": "code",
   "execution_count": 7,
   "id": "a0002fdb-487a-424c-bd98-93e744e6005d",
   "metadata": {
    "execution": {
     "iopub.execute_input": "2022-04-11T20:17:36.974616Z",
     "iopub.status.busy": "2022-04-11T20:17:36.973798Z",
     "iopub.status.idle": "2022-04-11T20:17:40.452037Z",
     "shell.execute_reply": "2022-04-11T20:17:40.451112Z",
     "shell.execute_reply.started": "2022-04-11T20:17:36.974579Z"
    },
    "tags": []
   },
   "outputs": [
    {
     "data": {
      "text/html": [
       "<div>\n",
       "<style scoped>\n",
       "    .dataframe tbody tr th:only-of-type {\n",
       "        vertical-align: middle;\n",
       "    }\n",
       "\n",
       "    .dataframe tbody tr th {\n",
       "        vertical-align: top;\n",
       "    }\n",
       "\n",
       "    .dataframe thead th {\n",
       "        text-align: right;\n",
       "    }\n",
       "</style>\n",
       "<table border=\"1\" class=\"dataframe\">\n",
       "  <thead>\n",
       "    <tr style=\"text-align: right;\">\n",
       "      <th></th>\n",
       "      <th>aliquot_barcode</th>\n",
       "      <th>gene_name</th>\n",
       "      <th>counts_hg19</th>\n",
       "      <th>counts_hg38</th>\n",
       "      <th>fpkm_hg38</th>\n",
       "      <th>fpkm_uq_hg38</th>\n",
       "    </tr>\n",
       "  </thead>\n",
       "  <tbody>\n",
       "    <tr>\n",
       "      <th>0</th>\n",
       "      <td>TCGA-3N-A9WB-06A-11R-A38C-07</td>\n",
       "      <td>A1BG</td>\n",
       "      <td>381.0662</td>\n",
       "      <td>68</td>\n",
       "      <td>0.316945</td>\n",
       "      <td>7.772224e+03</td>\n",
       "    </tr>\n",
       "    <tr>\n",
       "      <th>1</th>\n",
       "      <td>TCGA-3N-A9WB-06A-11R-A38C-07</td>\n",
       "      <td>A1CF</td>\n",
       "      <td>0.0000</td>\n",
       "      <td>0</td>\n",
       "      <td>0.000000</td>\n",
       "      <td>0.000000e+00</td>\n",
       "    </tr>\n",
       "    <tr>\n",
       "      <th>2</th>\n",
       "      <td>TCGA-3N-A9WB-06A-11R-A38C-07</td>\n",
       "      <td>A2M</td>\n",
       "      <td>2209.5194</td>\n",
       "      <td>5928</td>\n",
       "      <td>17.338106</td>\n",
       "      <td>4.251701e+05</td>\n",
       "    </tr>\n",
       "    <tr>\n",
       "      <th>3</th>\n",
       "      <td>TCGA-3N-A9WB-06A-11R-A38C-07</td>\n",
       "      <td>A2ML1</td>\n",
       "      <td>7.2698</td>\n",
       "      <td>34</td>\n",
       "      <td>0.086929</td>\n",
       "      <td>2.131695e+03</td>\n",
       "    </tr>\n",
       "    <tr>\n",
       "      <th>4</th>\n",
       "      <td>TCGA-3N-A9WB-06A-11R-A38C-07</td>\n",
       "      <td>A4GALT</td>\n",
       "      <td>33.5218</td>\n",
       "      <td>91</td>\n",
       "      <td>0.577348</td>\n",
       "      <td>1.415789e+04</td>\n",
       "    </tr>\n",
       "    <tr>\n",
       "      <th>...</th>\n",
       "      <td>...</td>\n",
       "      <td>...</td>\n",
       "      <td>...</td>\n",
       "      <td>...</td>\n",
       "      <td>...</td>\n",
       "      <td>...</td>\n",
       "    </tr>\n",
       "    <tr>\n",
       "      <th>6743179</th>\n",
       "      <td>TCGA-Z2-AA3V-06A-11R-A39D-07</td>\n",
       "      <td>ZYG11A</td>\n",
       "      <td>0.0000</td>\n",
       "      <td>0</td>\n",
       "      <td>0.000000</td>\n",
       "      <td>0.000000e+00</td>\n",
       "    </tr>\n",
       "    <tr>\n",
       "      <th>6743180</th>\n",
       "      <td>TCGA-Z2-AA3V-06A-11R-A39D-07</td>\n",
       "      <td>ZYG11B</td>\n",
       "      <td>75.8542</td>\n",
       "      <td>130</td>\n",
       "      <td>0.344766</td>\n",
       "      <td>1.453485e+04</td>\n",
       "    </tr>\n",
       "    <tr>\n",
       "      <th>6743181</th>\n",
       "      <td>TCGA-Z2-AA3V-06A-11R-A39D-07</td>\n",
       "      <td>ZYX</td>\n",
       "      <td>11832.5977</td>\n",
       "      <td>18916</td>\n",
       "      <td>118.110885</td>\n",
       "      <td>4.979386e+06</td>\n",
       "    </tr>\n",
       "    <tr>\n",
       "      <th>6743182</th>\n",
       "      <td>TCGA-Z2-AA3V-06A-11R-A39D-07</td>\n",
       "      <td>ZZEF1</td>\n",
       "      <td>1413.1110</td>\n",
       "      <td>2265</td>\n",
       "      <td>3.101429</td>\n",
       "      <td>1.307518e+05</td>\n",
       "    </tr>\n",
       "    <tr>\n",
       "      <th>6743183</th>\n",
       "      <td>TCGA-Z2-AA3V-06A-11R-A39D-07</td>\n",
       "      <td>ZZZ3</td>\n",
       "      <td>102.0108</td>\n",
       "      <td>224</td>\n",
       "      <td>0.540641</td>\n",
       "      <td>2.279265e+04</td>\n",
       "    </tr>\n",
       "  </tbody>\n",
       "</table>\n",
       "<p>6743184 rows × 6 columns</p>\n",
       "</div>"
      ],
      "text/plain": [
       "                      aliquot_barcode gene_name  counts_hg19  counts_hg38  \\\n",
       "0        TCGA-3N-A9WB-06A-11R-A38C-07      A1BG     381.0662           68   \n",
       "1        TCGA-3N-A9WB-06A-11R-A38C-07      A1CF       0.0000            0   \n",
       "2        TCGA-3N-A9WB-06A-11R-A38C-07       A2M    2209.5194         5928   \n",
       "3        TCGA-3N-A9WB-06A-11R-A38C-07     A2ML1       7.2698           34   \n",
       "4        TCGA-3N-A9WB-06A-11R-A38C-07    A4GALT      33.5218           91   \n",
       "...                               ...       ...          ...          ...   \n",
       "6743179  TCGA-Z2-AA3V-06A-11R-A39D-07    ZYG11A       0.0000            0   \n",
       "6743180  TCGA-Z2-AA3V-06A-11R-A39D-07    ZYG11B      75.8542          130   \n",
       "6743181  TCGA-Z2-AA3V-06A-11R-A39D-07       ZYX   11832.5977        18916   \n",
       "6743182  TCGA-Z2-AA3V-06A-11R-A39D-07     ZZEF1    1413.1110         2265   \n",
       "6743183  TCGA-Z2-AA3V-06A-11R-A39D-07      ZZZ3     102.0108          224   \n",
       "\n",
       "          fpkm_hg38  fpkm_uq_hg38  \n",
       "0          0.316945  7.772224e+03  \n",
       "1          0.000000  0.000000e+00  \n",
       "2         17.338106  4.251701e+05  \n",
       "3          0.086929  2.131695e+03  \n",
       "4          0.577348  1.415789e+04  \n",
       "...             ...           ...  \n",
       "6743179    0.000000  0.000000e+00  \n",
       "6743180    0.344766  1.453485e+04  \n",
       "6743181  118.110885  4.979386e+06  \n",
       "6743182    3.101429  1.307518e+05  \n",
       "6743183    0.540641  2.279265e+04  \n",
       "\n",
       "[6743184 rows x 6 columns]"
      ]
     },
     "execution_count": 7,
     "metadata": {},
     "output_type": "execute_result"
    }
   ],
   "source": [
    "pd.merge(tcga_skcm_hg19, tcga_skcm_hg38)  # , on=[\"aliquot_barcode\", \"gene_name\"])"
   ]
  },
  {
   "cell_type": "code",
   "execution_count": null,
   "id": "a6839dff-1fef-455a-9799-1a62900a8581",
   "metadata": {
    "tags": []
   },
   "outputs": [],
   "source": [
    "import plotly.express as px\n",
    "import plotly.figure_factory as ff\n",
    "import plotly.graph_objects as go\n",
    "import plotly.io\n",
    "\n",
    "# plotly.io.renderers.default = \"jupyterlab+png\""
   ]
  },
  {
   "cell_type": "code",
   "execution_count": null,
   "id": "6fecd5db-4955-4998-84ab-9488d43b5855",
   "metadata": {
    "tags": []
   },
   "outputs": [],
   "source": [
    "fig = px.scatter(both, x=\"HTSeq__Counts_mean\", y=\"normalized_count_mean\", trendline=\"ols\")"
   ]
  },
  {
   "cell_type": "code",
   "execution_count": null,
   "id": "20d623de-a1cd-4798-8afb-c769d7c59a20",
   "metadata": {
    "tags": []
   },
   "outputs": [],
   "source": [
    "fig"
   ]
  },
  {
   "cell_type": "code",
   "execution_count": null,
   "id": "6897706e-55ef-4a48-ab11-6a0a2d043838",
   "metadata": {
    "tags": []
   },
   "outputs": [],
   "source": [
    "fig.show(height=500, scale=2, renderer=\"png\")"
   ]
  },
  {
   "cell_type": "code",
   "execution_count": null,
   "id": "06fa799a-c378-41f4-bf14-c849e40bcc1f",
   "metadata": {
    "tags": []
   },
   "outputs": [],
   "source": [
    "fig = px.scatter(both, x=\"HTSeq__Counts_mean\", y=\"normalized_count_mean\", log_x=True, log_y=True)\n",
    "fig.update_traces(marker_size=1)"
   ]
  },
  {
   "cell_type": "code",
   "execution_count": null,
   "id": "eb09c69c-716b-4f7d-8267-15bb28051426",
   "metadata": {
    "tags": []
   },
   "outputs": [],
   "source": [
    "fig.show(height=600, scale=2, renderer=\"png\")"
   ]
  }
 ],
 "metadata": {
  "environment": {
   "kernel": "conda-env-deconv-py",
   "name": "common-cpu.m84",
   "type": "gcloud",
   "uri": "gcr.io/deeplearning-platform-release/base-cpu:m84"
  },
  "kernelspec": {
   "display_name": "Python [conda env:deconv]",
   "language": "python",
   "name": "conda-env-deconv-py"
  },
  "language_info": {
   "codemirror_mode": {
    "name": "ipython",
    "version": 3
   },
   "file_extension": ".py",
   "mimetype": "text/x-python",
   "name": "python",
   "nbconvert_exporter": "python",
   "pygments_lexer": "ipython3",
   "version": "3.10.4"
  }
 },
 "nbformat": 4,
 "nbformat_minor": 5
}
