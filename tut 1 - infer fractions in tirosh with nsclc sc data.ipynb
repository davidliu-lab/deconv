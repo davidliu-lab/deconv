{
 "cells": [
  {
   "cell_type": "markdown",
   "id": "91c1198e",
   "metadata": {},
   "source": [
    "# tut 1\n",
    "\n",
    "NSCLC PBMCs Single Cell RNA-Seq (Fig. 2a,b):\n",
    "* This example builds a signature matrix from single cell RNA sequencing data from NSCLC PBMCs and enumerates the proportions of the different cell types in a RNA-seq dataset profiled from whole blood using S-mode batch correction.\n"
   ]
  },
  {
   "cell_type": "markdown",
   "id": "443a3e7a",
   "metadata": {},
   "source": [
    "# example 1: generate signature matrix"
   ]
  },
  {
   "cell_type": "markdown",
   "id": "6fe367ba",
   "metadata": {},
   "source": [
    "### NSCLC PBMCs Single Cell RNA-Seq (Fig. 2a,b):\n",
    "\n",
    "This example builds a signature matrix from single cell RNA sequencing data from NSCLC PBMCs and enumerates the proportions of the different cell types in a RNA-seq dataset profiled from whole blood using S-mode batch correction.\n",
    "\n",
    "```\n",
    "docker run \\\n",
    "    -v absolute/path/to/input/dir:/src/data \\\n",
    "    -v absolute/path/to/output/dir:/src/outdir \\\n",
    "    cibersortx/fractions \\\n",
    "    --username email_address_registered_on_CIBERSORTx_website \\\n",
    "    --token token_obtained_from_CIBERSORTx_website \\\n",
    "    --single_cell TRUE \\\n",
    "    --refsample Fig2ab-NSCLC_PBMCs_scRNAseq_refsample.txt \\\n",
    "    --mixture Fig2b-WholeBlood_RNAseq.txt \\\n",
    "    --fraction 0 \\\n",
    "    --rmbatchSmode TRUE \n",
    "```"
   ]
  },
  {
   "cell_type": "markdown",
   "id": "d05e78f6",
   "metadata": {},
   "source": [
    "## set up some stuff"
   ]
  },
  {
   "cell_type": "code",
   "execution_count": null,
   "id": "44a04837",
   "metadata": {},
   "outputs": [],
   "source": [
    "import logging"
   ]
  },
  {
   "cell_type": "code",
   "execution_count": null,
   "id": "3b923039",
   "metadata": {},
   "outputs": [],
   "source": [
    "logging.basicConfig()"
   ]
  },
  {
   "cell_type": "markdown",
   "id": "9ca2390f",
   "metadata": {},
   "source": [
    "## download data"
   ]
  },
  {
   "cell_type": "code",
   "execution_count": null,
   "id": "daf27fff",
   "metadata": {},
   "outputs": [],
   "source": [
    "%%bash\n",
    "\n",
    "pushd /mnt/liulab/csx_example_files/\n",
    "\n",
    "export BASE_URL=\"https://cibersortx.stanford.edu/inc/inc.download.page.handler.php\"\n",
    "# curl -O -J -L {$BASE_URL}?file=NSCLC_PBMCs_Single_Cell_RNA-Seq_Fig2ab.zip\n",
    "# unzip NSCLC_PBMCs_Single_Cell_RNA-Seq_Fig2ab.zip\n",
    "# curl -O -J -L {$BASE_URL}?file=RNA-Seq_mixture_melanoma_Tirosh_Fig2b-d.txt\n",
    "\n",
    "tree -h\n",
    "\n",
    "popd"
   ]
  },
  {
   "cell_type": "markdown",
   "id": "5a9e09a9",
   "metadata": {},
   "source": [
    "### read data into dataframes"
   ]
  },
  {
   "cell_type": "code",
   "execution_count": null,
   "id": "42182829",
   "metadata": {},
   "outputs": [],
   "source": [
    "import pandas as pd\n",
    "\n",
    "logging.getLogger('pandas').setLevel('DEBUG')"
   ]
  },
  {
   "cell_type": "code",
   "execution_count": null,
   "id": "4faeba26",
   "metadata": {},
   "outputs": [],
   "source": [
    "path = (\n",
    "    \"/mnt/liulab/csx_example_files/Fig2ab-NSCLC_PBMCs/\"\n",
    "    \"Fig2ab-NSCLC_PBMCs_scRNAseq_refsample.txt\"\n",
    ")\n",
    "\n",
    "nsclc_pbmc_sc = pd.read_csv(\n",
    "    path,\n",
    "    sep='\\t',\n",
    "    index_col=0\n",
    ")\n",
    "\n",
    "nsclc_pbmc_sc"
   ]
  },
  {
   "cell_type": "code",
   "execution_count": null,
   "id": "fce0c589",
   "metadata": {},
   "outputs": [],
   "source": [
    "nsclc_pbmc_sc.sum(axis=0).sort_values()"
   ]
  },
  {
   "cell_type": "code",
   "execution_count": null,
   "id": "e5200710",
   "metadata": {},
   "outputs": [],
   "source": [
    "path = (\n",
    "    \"/mnt/liulab/csx_example_files/Fig2ab-NSCLC_PBMCs/\"\n",
    "    \"Fig2b-WholeBlood_RNAseq.txt\"\n",
    ")\n",
    "\n",
    "nsclc_wholeblood_mixtures = pd.read_csv(\n",
    "    path,\n",
    "    sep='\\t',\n",
    "    index_col=0\n",
    ")\n",
    "\n",
    "nsclc_wholeblood_mixtures"
   ]
  },
  {
   "cell_type": "markdown",
   "id": "9d970c3f",
   "metadata": {},
   "source": [
    "## run csx with docker"
   ]
  },
  {
   "cell_type": "markdown",
   "id": "9bd52e32",
   "metadata": {},
   "source": [
    "```\n",
    "docker run \\\n",
    "    -v absolute/path/to/input/dir:/src/data \\\n",
    "    -v absolute/path/to/output/dir:/src/outdir \\\n",
    "    cibersortx/fractions \\\n",
    "    --username email_address_registered_on_CIBERSORTx_website \\\n",
    "    --token token_obtained_from_CIBERSORTx_website \\\n",
    "    --single_cell TRUE \\\n",
    "    --refsample Fig2ab-NSCLC_PBMCs_scRNAseq_refsample.txt \\\n",
    "    --mixture Fig2b-WholeBlood_RNAseq.txt \\\n",
    "    --fraction 0 \\\n",
    "    --rmbatchSmode TRUE \n",
    "\n",
    "```"
   ]
  },
  {
   "cell_type": "code",
   "execution_count": 1,
   "id": "ca463dc7",
   "metadata": {},
   "outputs": [
    {
     "name": "stdout",
     "output_type": "stream",
     "text": [
      "total 18239\n",
      "drwxr-xr-x 1 jupyter jupyter        0 Jul 14 11:48 Expression_datasets\n",
      "drwxr-xr-x 1 jupyter jupyter        0 Jul 14 11:48 Fig2ab-NSCLC_PBMCs\n",
      "-rw-r--r-- 1 jupyter jupyter      835 Jul  2 21:48 Fig2b_ground_truth_whole_blood.txt\n",
      "-rw-r--r-- 1 jupyter jupyter   146759 Jul  3 04:39 LM22.txt\n",
      "-rw-r--r-- 1 jupyter jupyter 12259563 Jul 13 08:06 NSCLC_PBMCs_Single_Cell_RNA-Seq_Fig2ab.zip\n",
      "-rw-r--r-- 1 jupyter jupyter  6264562 Jul 13 08:39 RNA-Seq_mixture_melanoma_Tirosh_Fig2b-d.txt\n",
      "drwxr-xr-x 1 jupyter jupyter        0 Jul 14 11:48 Single_Cell_RNA-Seq_Melanoma_SuppFig_3b-d\n",
      "-rw-r--r-- 1 jupyter jupyter     1974 Jul  2 21:48 groundtruth_HNSCC_Puram_et_al_Fig2cd.txt\n",
      "-rw-r--r-- 1 jupyter jupyter     1216 Jul  2 21:48 groundtruth_Melanoma_Tirosh_et_al_SuppFig3b-d.txt\n"
     ]
    }
   ],
   "source": [
    "!ls -l /mnt/liulab/csx_example_files"
   ]
  },
  {
   "cell_type": "code",
   "execution_count": 4,
   "id": "0a7dd6d6",
   "metadata": {},
   "outputs": [
    {
     "name": "stdout",
     "output_type": "stream",
     "text": [
      "\u001b[01;34m/home/jupyter/csx\u001b[00m\n",
      "├── [4.0K]  \u001b[01;34minput\u001b[00m\n",
      "│   ├── [4.0K]  \u001b[01;34mmixture.txt\u001b[00m\n",
      "│   │   └── [4.1M]  Fig2b-WholeBlood_RNAseq.txt\n",
      "│   └── [ 52M]  refsample.txt\n",
      "└── [4.0K]  \u001b[01;34moutput\u001b[00m\n",
      "    ├── [2.0M]  CIBERSORTx_cell_type_sourceGEP.txt\n",
      "    ├── [ 84K]  CIBERSORTx_refsample_inferred_phenoclasses.CIBERSORTx_refsample_inferred_refsample.bm.K999.pdf\n",
      "    ├── [228K]  CIBERSORTx_refsample_inferred_phenoclasses.CIBERSORTx_refsample_inferred_refsample.bm.K999.txt\n",
      "    ├── [ 421]  CIBERSORTx_refsample_inferred_phenoclasses.txt\n",
      "    └── [9.6M]  CIBERSORTx_refsample_inferred_refsample.txt\n",
      "\n",
      "3 directories, 7 files\n"
     ]
    }
   ],
   "source": [
    "!tree -h /home/jupyter/csx"
   ]
  },
  {
   "cell_type": "code",
   "execution_count": 11,
   "id": "d4df3a7d",
   "metadata": {},
   "outputs": [],
   "source": [
    "!rsync -r ~/csx/ ~/csx.1"
   ]
  },
  {
   "cell_type": "code",
   "execution_count": 7,
   "id": "8fb7a899",
   "metadata": {},
   "outputs": [
    {
     "name": "stdout",
     "output_type": "stream",
     "text": [
      "Fig2b-WholeBlood_RNAseq.txt\n",
      "\n",
      "sent 4,351,876 bytes  received 35 bytes  8,703,822.00 bytes/sec\n",
      "total size is 4,350,725  speedup is 1.00\n",
      "Fig2ab-NSCLC_PBMCs_scRNAseq_refsample.txt\n",
      "\n",
      "sent 54,724,713 bytes  received 35 bytes  109,449,496.00 bytes/sec\n",
      "total size is 54,711,251  speedup is 1.00\n",
      "\u001b[01;34m/home/jupyter/csx\u001b[00m\n",
      "├── [4.0K]  \u001b[01;34min\u001b[00m\n",
      "│   ├── [4.1M]  mixture.txt\n",
      "│   └── [ 52M]  refsample.txt\n",
      "└── [4.0K]  \u001b[01;34mout\u001b[00m\n",
      "\n",
      "2 directories, 2 files\n",
      ">Running CIBERSORTxFractions...\n",
      ">[Options] username: lyronctk@stanford.edu\n",
      ">[Options] token: dfeba2c8b9d61daebee5fa87026b8e56\n",
      ">[Options] single_cell: TRUE\n",
      ">[Options] refsample: refsample.txt\n",
      ">[Options] mixture: mixture.txt\n",
      ">[Options] rmbatchSmode: TRUE\n",
      ">[Options] verbose: TRUE\n",
      ">Making reference sample file.\n",
      ">Making phenotype class file.\n",
      ">single_cell is set to TRUE, so quantile normalization is set to FALSE, and the default parameters for building the signature matrix have been set to the following values:\n",
      "\t- G.min <- 300\n",
      "\t- G.max <- 500\n",
      "\t- q.value <- 0.01\n",
      ">==========Signature Matrix Settings============\n",
      ">Pure samples file: /src/outdir//CIBERSORTx_refsample_inferred_refsample.txt\n",
      ">Phenotype classes file: /src/outdir//CIBERSORTx_refsample_inferred_phenoclasses.txt\n",
      ">Minimum number of DEGs to consider from each phenotype for signature matrix set to: 300\n",
      ">Maximum number of DEGs to consider from each phenotype for signature matrix set to: 500\n",
      ">Q-value for signature matrix construction set to: 0.01\n",
      ">Quantile normalization of input samples is disabled\n",
      ">===============================================\n",
      ">C++14\n",
      ">Loaded 30 columns and 16476 rows\n",
      ">=============Make Signature Matrix=============\n",
      ">Maximum condition number (kappa):999\n",
      ">19433 DEG expressed across 6 samples were identified\n",
      ">Group size: 375, Kappa: 7.28267299347319\n",
      ">Best kappa: 7.28267299347319 \n",
      ">SVD UpperRightDiag: 16634\n",
      ">SVD LowerRightDiag: 2284.05\n",
      ">=============CIBERSORTx Settings===============\n",
      ">Mixture file: /src/data/mixture.txt\n",
      ">Signature matrix file: /src/outdir//CIBERSORTx_refsample_inferred_phenoclasses.CIBERSORTx_refsample_inferred_refsample.bm.K999.txt\n",
      ">Enable verbose output\n",
      ">Do S-mode batch correction\n",
      ">==================CIBERSORTx===================\n",
      ">Adjusting mixtures with S-mode batch correction.\n",
      ">Running CIBERSORTx on unadjusted mixtures with S-mode adjusted signature matrix.\n",
      ">=============CIBERSORTx Settings===============\n",
      ">Mixture file: /src/data/mixture.txt\n",
      ">Signature matrix file: /src/outdir//CIBERSORTx_sigmatrix_Adjusted.txt\n",
      ">Enable verbose output\n",
      ">==================CIBERSORTx===================\n",
      "column T cells CD8 Monocytes T cells CD4 NKT cells B cells NK cells P-value Correlation RMSE %Completed\n",
      "1 0.131738 0.549439 0.179788 0.00966146 0.0906035 0.0387695 9999 8.33333\n",
      "2 0.119294 0.37519 0.330122 0.0493449 0.084047 0.0420026 9999 16.6667\n",
      "3 0.158007 0.500826 0.150915 0.0239061 0.1066 0.0597473 9999 25\n",
      "4 0.110199 0.418301 0.323309 0.0141733 0.077929 0.0560881 9999 33.3333\n",
      "5 0.261422 0.42206 0.142562 0.030552 0.0794438 0.0639601 9999 41.6667\n",
      "6 0.186941 0.289434 0.302025 0.0374662 0.099633 0.0845007 9999 50\n",
      "7 0.14799 0.282104 0.414396 0 0.109783 0.045727 9999 58.3333\n",
      "8 0.143681 0.475186 0.232682 0.00196077 0.0914388 0.0550508 9999 66.6667\n",
      "9 0.24087 0.374814 0.224117 0.00353872 0.105089 0.05157 9999 75\n",
      "10 0.250058 0.222237 0.295157 0.0189672 0.158394 0.0551865 9999 83.3333\n",
      "11 0.196184 0.35576 0.264637 0.00825106 0.119804 0.0553635 9999 91.6667\n",
      "12 0.186759 0.466902 0.17281 0 0.0938207 0.0797075 9999 100\n",
      "\u001b[01;34m/home/jupyter/csx\u001b[00m\n",
      "├── [4.0K]  \u001b[01;34min\u001b[00m\n",
      "│   ├── [4.1M]  mixture.txt\n",
      "│   └── [ 52M]  refsample.txt\n",
      "└── [4.0K]  \u001b[01;34mout\u001b[00m\n",
      "    ├── [2.4K]  CIBERSORTx_Adjusted.txt\n",
      "    ├── [3.2M]  CIBERSORTx_Mixtures_Adjusted.txt\n",
      "    ├── [2.0M]  CIBERSORTx_cell_type_sourceGEP.txt\n",
      "    ├── [ 84K]  CIBERSORTx_refsample_inferred_phenoclasses.CIBERSORTx_refsample_inferred_refsample.bm.K999.pdf\n",
      "    ├── [228K]  CIBERSORTx_refsample_inferred_phenoclasses.CIBERSORTx_refsample_inferred_refsample.bm.K999.txt\n",
      "    ├── [ 421]  CIBERSORTx_refsample_inferred_phenoclasses.txt\n",
      "    ├── [9.6M]  CIBERSORTx_refsample_inferred_refsample.txt\n",
      "    └── [233K]  CIBERSORTx_sigmatrix_Adjusted.txt\n",
      "\n",
      "2 directories, 10 files\n"
     ]
    }
   ],
   "source": [
    "!./run_csx_fractions.sh"
   ]
  },
  {
   "cell_type": "code",
   "execution_count": null,
   "id": "08458377",
   "metadata": {},
   "outputs": [],
   "source": [
    "!ls -hlt /home/jupyter/csx/output"
   ]
  },
  {
   "cell_type": "code",
   "execution_count": null,
   "id": "27d5df4e",
   "metadata": {},
   "outputs": [],
   "source": [
    "path = \"/home/jupyter/csx/output/CIBERSORTx_sigmatrix_Adjusted.txt\"\n",
    "\n",
    "learned_sigmatrix = pd.read_csv(\n",
    "    path,\n",
    "    sep='\\t',\n",
    "    index_col=0\n",
    ")"
   ]
  },
  {
   "cell_type": "code",
   "execution_count": null,
   "id": "5f156790",
   "metadata": {},
   "outputs": [],
   "source": [
    "learned_sigmatrix"
   ]
  },
  {
   "cell_type": "code",
   "execution_count": null,
   "id": "336b9373",
   "metadata": {},
   "outputs": [],
   "source": [
    "tirosh_tumor_mixtures['53']"
   ]
  },
  {
   "cell_type": "code",
   "execution_count": null,
   "id": "8e60b64c",
   "metadata": {},
   "outputs": [],
   "source": [
    "pd.merge(learned_sigmatrix, tirosh_tumor_mixtures['53'], left_index=True, right_index=True)"
   ]
  },
  {
   "cell_type": "code",
   "execution_count": null,
   "id": "b6a41bc5",
   "metadata": {},
   "outputs": [],
   "source": [
    "pd.merge(learned_sigmatrix, tirosh_tumor_mixtures['53'], left_index=True, right_index=True)"
   ]
  },
  {
   "cell_type": "markdown",
   "id": "729271bf",
   "metadata": {},
   "source": [
    "# attempt inferring fractions myself with sigmatrix, mixture"
   ]
  },
  {
   "cell_type": "code",
   "execution_count": null,
   "id": "a7baa1a2",
   "metadata": {},
   "outputs": [],
   "source": [
    "from sklearn.svm import NuSVR\n",
    "from sklearn.pipeline import make_pipeline\n",
    "from sklearn.preprocessing import StandardScaler"
   ]
  },
  {
   "cell_type": "code",
   "execution_count": null,
   "id": "a9904329",
   "metadata": {},
   "outputs": [],
   "source": [
    "_combined_data = pd.merge(learned_sigmatrix, tirosh_tumor_mixtures['53'], left_index=True, right_index=True)\n",
    "y = _combined_data.values[:, -1]\n",
    "X = _combined_data.values[:, :-1]\n",
    "y.shape, X.shape"
   ]
  },
  {
   "cell_type": "code",
   "execution_count": null,
   "id": "276e52be",
   "metadata": {},
   "outputs": [],
   "source": [
    "regr = make_pipeline(StandardScaler(), NuSVR(kernel='linear'))\n",
    "regr.fit(X, y)"
   ]
  },
  {
   "cell_type": "code",
   "execution_count": null,
   "id": "96c15d23",
   "metadata": {},
   "outputs": [],
   "source": [
    "_ = regr.named_steps['nusvr'].coef_\n",
    "import numpy as np\n",
    "_ / np.sum(_)"
   ]
  },
  {
   "cell_type": "markdown",
   "id": "bf53063e",
   "metadata": {},
   "source": [
    "# check fractions inferred by csx"
   ]
  },
  {
   "cell_type": "code",
   "execution_count": null,
   "id": "21d6ed07",
   "metadata": {},
   "outputs": [],
   "source": [
    "!find /home/jupyter/csx/output -name '*txt'"
   ]
  },
  {
   "cell_type": "code",
   "execution_count": null,
   "id": "f30f0136",
   "metadata": {},
   "outputs": [],
   "source": [
    "path = \"/home/jupyter/csx/output/CIBERSORTx_Adjusted.txt\"\n",
    "\n",
    "pd.read_csv(\n",
    "    path,\n",
    "    sep='\\t',\n",
    "    index_col=0\n",
    ").loc[53]"
   ]
  },
  {
   "cell_type": "markdown",
   "id": "607d5d58",
   "metadata": {},
   "source": [
    "# extra"
   ]
  },
  {
   "cell_type": "code",
   "execution_count": null,
   "id": "cadeb0fd",
   "metadata": {},
   "outputs": [],
   "source": [
    "pd.read_csv(\n",
    "    \"/mnt/liulab/csx_example_files/Fig2ab-NSCLC_PBMCs/Fig2ab-NSCLC_PBMCs_scRNAseq_sigmatrix.txt\",\n",
    "    sep='\\t',\n",
    "    index_col=0\n",
    ")"
   ]
  },
  {
   "cell_type": "code",
   "execution_count": null,
   "id": "1002635b",
   "metadata": {},
   "outputs": [],
   "source": [
    "pd.read_csv(\n",
    "    \"/mnt/liulab/csx_example_files/Fig2ab-NSCLC_PBMCs/Fig2b-WholeBlood_RNAseq.txt\",\n",
    "    sep='\\t',\n",
    "    index_col=0\n",
    ")"
   ]
  },
  {
   "cell_type": "code",
   "execution_count": null,
   "id": "4c6b550a",
   "metadata": {},
   "outputs": [],
   "source": []
  }
 ],
 "metadata": {
  "environment": {
   "name": "tf2-gpu.2-5.m74",
   "type": "gcloud",
   "uri": "gcr.io/deeplearning-platform-release/tf2-gpu.2-5:m74"
  },
  "kernelspec": {
   "display_name": "Python 3",
   "language": "python",
   "name": "python3"
  },
  "language_info": {
   "codemirror_mode": {
    "name": "ipython",
    "version": 3
   },
   "file_extension": ".py",
   "mimetype": "text/x-python",
   "name": "python",
   "nbconvert_exporter": "python",
   "pygments_lexer": "ipython3",
   "version": "3.7.10"
  }
 },
 "nbformat": 4,
 "nbformat_minor": 5
}
