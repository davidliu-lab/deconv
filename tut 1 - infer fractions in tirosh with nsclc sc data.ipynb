{
 "cells": [
  {
   "cell_type": "markdown",
   "id": "5bbc3aa5",
   "metadata": {},
   "source": [
    "# tut 1\n",
    "\n",
    "NSCLC PBMCs Single Cell RNA-Seq (Fig. 2a,b):\n",
    "* This example builds a signature matrix from single cell RNA sequencing data from NSCLC PBMCs and enumerates the proportions of the different cell types in a RNA-seq dataset profiled from whole blood using S-mode batch correction.\n"
   ]
  },
  {
   "cell_type": "markdown",
   "id": "789a71ca",
   "metadata": {},
   "source": [
    "## set up some stuff"
   ]
  },
  {
   "cell_type": "code",
   "execution_count": null,
   "id": "a0adc8ee",
   "metadata": {},
   "outputs": [],
   "source": [
    "import logging"
   ]
  },
  {
   "cell_type": "code",
   "execution_count": null,
   "id": "305b6232",
   "metadata": {},
   "outputs": [],
   "source": [
    "logging.basicConfig()"
   ]
  },
  {
   "cell_type": "markdown",
   "id": "fc35b0bc",
   "metadata": {},
   "source": [
    "## download data"
   ]
  },
  {
   "cell_type": "code",
   "execution_count": null,
   "id": "8ffc2c87",
   "metadata": {},
   "outputs": [],
   "source": [
    "%%bash\n",
    "\n",
    "export BASE_URL=\"https://cibersortx.stanford.edu/inc/inc.download.page.handler.php\"\n",
    "pushd /mnt/liulab/csx_example_files/\n",
    "# curl -O -J -L {$BASE_URL}?file=NSCLC_PBMCs_Single_Cell_RNA-Seq_Fig2ab.zip\n",
    "# unzip NSCLC_PBMCs_Single_Cell_RNA-Seq_Fig2ab.zip\n",
    "curl -O -J -L {$BASE_URL}?file=RNA-Seq_mixture_melanoma_Tirosh_Fig2b-d.txt\n",
    "tree -h\n",
    "popd"
   ]
  },
  {
   "cell_type": "markdown",
   "id": "a6782562",
   "metadata": {},
   "source": [
    "### read data into dataframes"
   ]
  },
  {
   "cell_type": "code",
   "execution_count": null,
   "id": "43f9d749",
   "metadata": {},
   "outputs": [],
   "source": [
    "import pandas as pd\n",
    "logging.getLogger('pandas').setLevel('DEBUG')"
   ]
  },
  {
   "cell_type": "code",
   "execution_count": null,
   "id": "2f8b79ff",
   "metadata": {},
   "outputs": [],
   "source": [
    "path = (\n",
    "    \"/mnt/liulab/csx_example_files/\"\n",
    "    \"Fig2ab-NSCLC_PBMCs/Fig2ab-NSCLC_PBMCs_scRNAseq_refsample.txt\"\n",
    ")\n",
    "\n",
    "nsclc_pbmc_sc = pd.read_csv(\n",
    "    path,\n",
    "    sep='\\t',\n",
    "    index_col=0\n",
    ")"
   ]
  },
  {
   "cell_type": "code",
   "execution_count": null,
   "id": "ba15aba2",
   "metadata": {},
   "outputs": [],
   "source": [
    "nsclc_pbmc_sc.sum(axis=0)"
   ]
  },
  {
   "cell_type": "code",
   "execution_count": null,
   "id": "11aa6d4a",
   "metadata": {},
   "outputs": [],
   "source": [
    "!ls -l /mnt/liulab/csx_example_files/RNA-Seq_mixture_melanoma_Tirosh_Fig2b-d.txt"
   ]
  },
  {
   "cell_type": "code",
   "execution_count": null,
   "id": "32f431a6",
   "metadata": {},
   "outputs": [],
   "source": [
    "path = (\n",
    "    \"/mnt/liulab/csx_example_files/\"\n",
    "    \"RNA-Seq_mixture_melanoma_Tirosh_Fig2b-d.txt\"\n",
    ")\n",
    "\n",
    "tirosh_tumor_mixtures = pd.read_csv(\n",
    "    path,\n",
    "    sep='\\t',\n",
    "    index_col=0\n",
    ")\n",
    "\n",
    "tirosh_tumor_mixtures"
   ]
  },
  {
   "cell_type": "markdown",
   "id": "fb3bb7b6",
   "metadata": {},
   "source": [
    "## run csx with docker"
   ]
  },
  {
   "cell_type": "markdown",
   "id": "6d90980b",
   "metadata": {},
   "source": [
    "```\n",
    "docker run \\\n",
    "    -v absolute/path/to/input/dir:/src/data \\\n",
    "    -v absolute/path/to/output/dir:/src/outdir \\\n",
    "    cibersortx/fractions \\\n",
    "    --username email_address_registered_on_CIBERSORTx_website \\\n",
    "    --token token_obtained_from_CIBERSORTx_website \\\n",
    "    --single_cell TRUE \\\n",
    "    --refsample Fig2ab-NSCLC_PBMCs_scRNAseq_refsample.txt \\\n",
    "    --mixture Fig2b-WholeBlood_RNAseq.txt \\\n",
    "    --fraction 0 \\\n",
    "    --rmbatchSmode TRUE \n",
    "\n",
    "```"
   ]
  },
  {
   "cell_type": "code",
   "execution_count": null,
   "id": "db44d148",
   "metadata": {},
   "outputs": [],
   "source": [
    "!ls -l /mnt/liulab/csx_example_files"
   ]
  },
  {
   "cell_type": "code",
   "execution_count": null,
   "id": "0fefbf62",
   "metadata": {},
   "outputs": [],
   "source": [
    "%%bash\n",
    "\n",
    "export CSX_INPUT_DIR=\"/home/jupyter/csx/input\"\n",
    "export CSX_OUTPUT_DIR=\"/home/jupyter/csx/output\"\n",
    "\n",
    "export MIXTURE_FILE=\"RNA-Seq_mixture_melanoma_Tirosh_Fig2b-d.txt\"\n",
    "export REFSAMPLE_FILE=\"Fig2ab-NSCLC_PBMCs_scRNAseq_refsample.txt\"\n",
    "\n",
    "rsync -v $(find /mnt/liulab/ -name \"$MIXTURE_FILE\") $CSX_INPUT_DIR/mixture.txt\n",
    "rsync -v $(find /mnt/liulab/ -name \"$REFSAMPLE_FILE\") $CSX_INPUT_DIR/refsample.txt\n",
    "\n",
    "ls -hl $CSX_INPUT_DIR\n",
    "\n",
    "docker run \\\n",
    "    --rm \\\n",
    "    -v $CSX_INPUT_DIR:/src/data \\\n",
    "    -v $CSX_OUTPUT_DIR:/src/outdir \\\n",
    "    --user \"$(id -u):$(id -g)\" \\\n",
    "    cibersortx/fractions:latest \\\n",
    "    --username lyronctk@stanford.edu \\\n",
    "    --token dfeba2c8b9d61daebee5fa87026b8e56 \\\n",
    "    --single_cell TRUE \\\n",
    "    --refsample refsample.txt \\\n",
    "    --mixture mixture.txt \\\n",
    "    --rmbatchSmode TRUE \\\n",
    "    --verbose TRUE\n",
    "\n",
    "#     --perm 10 \\\n",
    "#     --fraction 0 \\\n",
    "#     --sourceGEPs signature_matrix.txt"
   ]
  },
  {
   "cell_type": "code",
   "execution_count": null,
   "id": "d3b01643",
   "metadata": {},
   "outputs": [],
   "source": [
    "!tree -h /home/jupyter/csx/"
   ]
  },
  {
   "cell_type": "code",
   "execution_count": null,
   "id": "e8f745c5",
   "metadata": {},
   "outputs": [],
   "source": [
    "path = \"/home/jupyter/csx/output/CIBERSORTx_sigmatrix_Adjusted.txt\"\n",
    "\n",
    "learned_sigmatrix = pd.read_csv(\n",
    "    path,\n",
    "    sep='\\t',\n",
    "    index_col=0\n",
    ")"
   ]
  },
  {
   "cell_type": "code",
   "execution_count": null,
   "id": "66292278",
   "metadata": {},
   "outputs": [],
   "source": [
    "learned_sigmatrix"
   ]
  },
  {
   "cell_type": "code",
   "execution_count": null,
   "id": "68fe8f6a",
   "metadata": {},
   "outputs": [],
   "source": [
    "tirosh_tumor_mixtures['53']"
   ]
  },
  {
   "cell_type": "code",
   "execution_count": null,
   "id": "272bc42b",
   "metadata": {},
   "outputs": [],
   "source": [
    "pd.merge(learned_sigmatrix, tirosh_tumor_mixtures['53'], left_index=True, right_index=True)"
   ]
  },
  {
   "cell_type": "code",
   "execution_count": null,
   "id": "9384823b",
   "metadata": {},
   "outputs": [],
   "source": [
    "pd.merge(learned_sigmatrix, tirosh_tumor_mixtures['53'], left_index=True, right_index=True)"
   ]
  },
  {
   "cell_type": "markdown",
   "id": "026d2fd8",
   "metadata": {},
   "source": [
    "# attempt inferring fractions myself with sigmatrix, mixture"
   ]
  },
  {
   "cell_type": "code",
   "execution_count": null,
   "id": "0efa5ad8",
   "metadata": {},
   "outputs": [],
   "source": [
    "from sklearn.svm import NuSVR\n",
    "from sklearn.pipeline import make_pipeline\n",
    "from sklearn.preprocessing import StandardScaler"
   ]
  },
  {
   "cell_type": "code",
   "execution_count": null,
   "id": "9b8c9b0f",
   "metadata": {},
   "outputs": [],
   "source": [
    "_combined_data = pd.merge(learned_sigmatrix, tirosh_tumor_mixtures['53'], left_index=True, right_index=True)\n",
    "y = _combined_data.values[:, -1]\n",
    "X = _combined_data.values[:, :-1]\n",
    "y.shape, X.shape"
   ]
  },
  {
   "cell_type": "code",
   "execution_count": null,
   "id": "dfc79b73",
   "metadata": {},
   "outputs": [],
   "source": [
    "regr = make_pipeline(StandardScaler(), NuSVR(kernel='linear'))\n",
    "regr.fit(X, y)"
   ]
  },
  {
   "cell_type": "code",
   "execution_count": null,
   "id": "8105fe00",
   "metadata": {},
   "outputs": [],
   "source": [
    "_ = regr.named_steps['nusvr'].coef_\n",
    "import numpy as np\n",
    "_ / np.sum(_)"
   ]
  },
  {
   "cell_type": "markdown",
   "id": "57a0623b",
   "metadata": {},
   "source": [
    "# check fractions inferred by csx"
   ]
  },
  {
   "cell_type": "code",
   "execution_count": null,
   "id": "6116ae4b",
   "metadata": {},
   "outputs": [],
   "source": [
    "!find /home/jupyter/csx/output -name '*txt'"
   ]
  },
  {
   "cell_type": "code",
   "execution_count": null,
   "id": "a2a599c3",
   "metadata": {},
   "outputs": [],
   "source": [
    "path = \"/home/jupyter/csx/output/CIBERSORTx_Adjusted.txt\"\n",
    "\n",
    "pd.read_csv(\n",
    "    path,\n",
    "    sep='\\t',\n",
    "    index_col=0\n",
    ").loc[53]"
   ]
  },
  {
   "cell_type": "markdown",
   "id": "83f33513",
   "metadata": {},
   "source": [
    "# extra"
   ]
  },
  {
   "cell_type": "code",
   "execution_count": null,
   "id": "d58a08de",
   "metadata": {},
   "outputs": [],
   "source": [
    "pd.read_csv(\n",
    "    \"/mnt/liulab/csx_example_files/Fig2ab-NSCLC_PBMCs/Fig2ab-NSCLC_PBMCs_scRNAseq_sigmatrix.txt\",\n",
    "    sep='\\t',\n",
    "    index_col=0\n",
    ")"
   ]
  },
  {
   "cell_type": "code",
   "execution_count": null,
   "id": "a4073e20",
   "metadata": {},
   "outputs": [],
   "source": [
    "pd.read_csv(\n",
    "    \"/mnt/liulab/csx_example_files/Fig2ab-NSCLC_PBMCs/Fig2b-WholeBlood_RNAseq.txt\",\n",
    "    sep='\\t',\n",
    "    index_col=0\n",
    ")"
   ]
  },
  {
   "cell_type": "code",
   "execution_count": null,
   "id": "76616f47",
   "metadata": {},
   "outputs": [],
   "source": []
  }
 ],
 "metadata": {
  "environment": {
   "name": "tf2-gpu.2-5.m74",
   "type": "gcloud",
   "uri": "gcr.io/deeplearning-platform-release/tf2-gpu.2-5:m74"
  },
  "kernelspec": {
   "display_name": "Python 3",
   "language": "python",
   "name": "python3"
  },
  "language_info": {
   "codemirror_mode": {
    "name": "ipython",
    "version": 3
   },
   "file_extension": ".py",
   "mimetype": "text/x-python",
   "name": "python",
   "nbconvert_exporter": "python",
   "pygments_lexer": "ipython3",
   "version": "3.7.10"
  }
 },
 "nbformat": 4,
 "nbformat_minor": 5
}
