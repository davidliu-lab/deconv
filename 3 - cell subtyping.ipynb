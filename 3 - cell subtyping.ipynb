{
 "cells": [
  {
   "cell_type": "code",
   "execution_count": 1,
   "id": "2a8f01e9-e5a6-450d-a5d3-9c5ba0d4fde5",
   "metadata": {},
   "outputs": [],
   "source": [
    "import os\n",
    "import shutil\n",
    "import tempfile\n",
    "\n",
    "import pandas as pd\n",
    "\n",
    "from helpers.cell_type_naming import nice_to_weirds, weird_to_nice\n",
    "from helpers.running_csx import DockerJob, Experiment, InputFile"
   ]
  },
  {
   "cell_type": "code",
   "execution_count": 2,
   "id": "8b48f4d6-f6b2-4249-bb2c-ba261f285021",
   "metadata": {},
   "outputs": [],
   "source": [
    "experiments_root = \"gs://liulab/csx_experiments/cell_type_grouping\"\n",
    "experiment = Experiment(experiments_root, \"normal\")"
   ]
  },
  {
   "cell_type": "code",
   "execution_count": 3,
   "id": "c3788697-6230-4167-bb2c-eb7241ceadc4",
   "metadata": {},
   "outputs": [
    {
     "name": "stdout",
     "output_type": "stream",
     "text": [
      "/mnt/buckets/liulab/csx_experiments/cell_type_grouping/normal/.. [error opening dir]\n",
      "\n",
      "0 directories, 0 files\n"
     ]
    }
   ],
   "source": [
    "!tree -h {experiment.local_path}/.."
   ]
  },
  {
   "cell_type": "markdown",
   "id": "c92e77cc-5c02-428b-b224-bbe2d2774d56",
   "metadata": {},
   "source": [
    "## set up input files"
   ]
  },
  {
   "cell_type": "markdown",
   "id": "b65435f6-49d6-48dd-a24b-14c56ba52198",
   "metadata": {},
   "source": [
    "### make version of sc refsample with t cells combined"
   ]
  },
  {
   "cell_type": "code",
   "execution_count": 4,
   "id": "cbf3069c-0a8c-47b6-acc6-6afe9b70e938",
   "metadata": {},
   "outputs": [],
   "source": [
    "original_sc_refsample = InputFile(\n",
    "    \"screfsampletirosh.txt\", \n",
    "    \"gs://liulab/csx_example_files/Single_Cell_RNA-Seq_Melanoma_SuppFig_3b-d/scRNA-Seq_reference_melanoma_Tirosh_SuppFig_3b-d.txt\")\n",
    "\n",
    "modified_sc_refsample = InputFile(\n",
    "    \"screfsamplemodified.txt\",\n",
    "    os.path.join(experiments_root, \"screfsamplemodified.txt\"))\n"
   ]
  },
  {
   "cell_type": "code",
   "execution_count": 5,
   "id": "6ae57c36-c74b-4bf3-8ae5-c3d43598d16e",
   "metadata": {},
   "outputs": [
    {
     "name": "stdout",
     "output_type": "stream",
     "text": [
      "Copying gs://liulab/csx_example_files/Single_Cell_RNA-Seq_Melanoma_SuppFig_3b-d/scRNA-Seq_reference_melanoma_Tirosh_SuppFig_3b-d.txt [Content-Type=text/plain]...\n",
      "/ [1 files][ 87.8 MiB/ 87.8 MiB]                                                \n",
      "Operation completed over 1 objects/87.8 MiB.                                     \n"
     ]
    }
   ],
   "source": [
    "!gsutil cp {original_sc_refsample.source_uri} {modified_sc_refsample.source_uri}"
   ]
  },
  {
   "cell_type": "code",
   "execution_count": 6,
   "id": "e9654f76-749c-4786-b494-7c6350081de2",
   "metadata": {},
   "outputs": [],
   "source": [
    "combined_type = \"T\"\n",
    "cell_types_to_combine = [\"T CD8\", \"T CD4\"]\n",
    "\n",
    "# combined_type = \"Lymphocytes\"\n",
    "# cell_types_to_combine = [\"T CD8\", \"T CD4\", \"B\", \"NK\"]\n"
   ]
  },
  {
   "cell_type": "code",
   "execution_count": 7,
   "id": "e886b086-0d82-4cdb-a470-ba0caba2269b",
   "metadata": {},
   "outputs": [
    {
     "name": "stdout",
     "output_type": "stream",
     "text": [
      "\u001b[01;34m/mnt/buckets/liulab/csx_experiments/cell_type_grouping\u001b[00m\n",
      "└── [ 88M]  screfsamplemodified.txt\n",
      "\n",
      "0 directories, 1 file\n"
     ]
    }
   ],
   "source": [
    "thing = os.path.dirname(modified_sc_refsample.source_local_path)\n",
    "os.makedirs(thing, exist_ok=True)\n",
    "!tree -h {thing}"
   ]
  },
  {
   "cell_type": "code",
   "execution_count": 8,
   "id": "281c95c2-2e76-4110-833b-c49a15e63c47",
   "metadata": {},
   "outputs": [],
   "source": [
    "with open(original_sc_refsample.source_local_path, \"r\") as original:\n",
    "    header = original.readline()\n",
    "    for cell_type in cell_types_to_combine:\n",
    "        for weird_name in nice_to_weirds[cell_type]:\n",
    "            modified_header = header.replace(weird_name, combined_type)\n",
    "    with open(modified_sc_refsample.source_local_path, \"w\") as modified:\n",
    "        modified.write(modified_header)\n",
    "        shutil.copyfileobj(original, modified)"
   ]
  },
  {
   "cell_type": "markdown",
   "id": "87c7dad2-68d2-4471-8229-1c848db225da",
   "metadata": {},
   "source": [
    "## configure args"
   ]
  },
  {
   "cell_type": "code",
   "execution_count": 9,
   "id": "4f54ffc5-b40d-4669-b56a-937d4809b85f",
   "metadata": {},
   "outputs": [],
   "source": [
    "input_file_args = {\n",
    "    \"mixture\": InputFile(\"mixturestirosh.txt\", \"gs://liulab/csx_example_files/Single_Cell_RNA-Seq_Melanoma_SuppFig_3b-d/mixture_melanoma_Tirosh_SuppFig_3b-d.txt\"),\n",
    "    \"refsample\": original_sc_refsample,\n",
    "#     \"refsample\": modified_sc_refsample,\n",
    "}"
   ]
  },
  {
   "cell_type": "code",
   "execution_count": 10,
   "id": "5b4c405f-1555-4138-bd1c-292c28c9bbde",
   "metadata": {},
   "outputs": [],
   "source": [
    "other_args = {\n",
    "    \"rmbatchBmode\" : \"TRUE\",\n",
    "    \"single_cell\": \"TRUE\",\n",
    "}"
   ]
  },
  {
   "cell_type": "markdown",
   "id": "dfb91434-9d38-4942-a007-d3fd7228bef1",
   "metadata": {},
   "source": [
    "## configure and run cibersortx"
   ]
  },
  {
   "cell_type": "code",
   "execution_count": 11,
   "id": "540e0354-85e3-434a-8258-81660a2c9fd9",
   "metadata": {},
   "outputs": [
    {
     "name": "stdout",
     "output_type": "stream",
     "text": [
      "Copying gs://liulab/csx_example_files/Single_Cell_RNA-Seq_Melanoma_SuppFig_3b-d/mixture_melanoma_Tirosh_SuppFig_3b-d.txt...\n",
      "/ [1 files][  6.0 MiB/  6.0 MiB]                                                \n",
      "Operation completed over 1 objects/6.0 MiB.                                      \n",
      "Copying gs://liulab/csx_example_files/Single_Cell_RNA-Seq_Melanoma_SuppFig_3b-d/scRNA-Seq_reference_melanoma_Tirosh_SuppFig_3b-d.txt...\n",
      "\\ [1 files][ 87.8 MiB/ 87.8 MiB]                                                \n",
      "Operation completed over 1 objects/87.8 MiB.                                     \n",
      "\u001b[01;34m/tmp/tmpyd62tthl\u001b[00m\n",
      "└── [4.0K]  \u001b[01;34min\u001b[00m\n",
      "    ├── [6.0M]  mixturestirosh.txt\n",
      "    └── [ 88M]  screfsampletirosh.txt\n",
      "\n",
      "1 directory, 2 files\n",
      "docker run \\\n",
      "    --rm \\\n",
      "    -v /tmp/tmpyd62tthl/in:/src/data \\\n",
      "    -v /tmp/tmpyd62tthl:/src/outdir \\\n",
      "    --user \"$(id -u):$(id -g)\" \\\n",
      "    cibersortx/fractions:latest \\\n",
      "    --username lyronctk@stanford.edu \\\n",
      "    --token dfeba2c8b9d61daebee5fa87026b8e56 \\\n",
      "    --mixture mixturestirosh.txt \\\n",
      "    --refsample screfsampletirosh.txt \\\n",
      "    --rmbatchBmode TRUE \\\n",
      "    --single_cell TRUE \\\n",
      "    --verbose TRUE\n",
      ">Running CIBERSORTxFractions...\n",
      ">[Options] username: lyronctk@stanford.edu\n",
      ">[Options] token: dfeba2c8b9d61daebee5fa87026b8e56\n",
      ">[Options] mixture: mixturestirosh.txt\n",
      ">[Options] refsample: screfsampletirosh.txt\n",
      ">[Options] rmbatchBmode: TRUE\n",
      ">[Options] single_cell: TRUE\n",
      ">[Options] verbose: TRUE\n",
      ">Making reference sample file.\n",
      ">Making phenotype class file.\n",
      ">single_cell is set to TRUE, so quantile normalization is set to FALSE, and the default parameters for building the signature matrix have been set to the following values:\n",
      "\t- G.min <- 300\n",
      "\t- G.max <- 500\n",
      "\t- q.value <- 0.01\n",
      ">==========Signature Matrix Settings============\n",
      ">Pure samples file: /src/outdir//CIBERSORTx_screfsampletirosh_inferred_refsample.txt\n",
      ">Phenotype classes file: /src/outdir//CIBERSORTx_screfsampletirosh_inferred_phenoclasses.txt\n",
      ">Minimum number of DEGs to consider from each phenotype for signature matrix set to: 300\n",
      ">Maximum number of DEGs to consider from each phenotype for signature matrix set to: 500\n",
      ">Q-value for signature matrix construction set to: 0.01\n",
      ">Quantile normalization of input samples is disabled\n",
      ">===============================================\n",
      ">C++14\n",
      ">Loaded 40 columns and 23684 rows\n",
      ">=============Make Signature Matrix=============\n",
      ">Maximum condition number (kappa):999\n",
      ">71262 DEG expressed across 8 samples were identified\n",
      ">Group size: 495, Kappa: 14.9934287263485\n",
      ">Best kappa: 14.9934287263485 \n",
      ">SVD UpperRightDiag: 54923.8\n",
      ">SVD LowerRightDiag: 3663.19\n",
      ">=============CIBERSORTx Settings===============\n",
      ">Mixture file: /src/data/mixturestirosh.txt\n",
      ">Signature matrix file: /src/outdir//CIBERSORTx_screfsampletirosh_inferred_phenoclasses.CIBERSORTx_screfsampletirosh_inferred_refsample.bm.K999.txt\n",
      ">Enable verbose output\n",
      ">Do B-mode batch correction\n",
      ">==================CIBERSORTx===================\n",
      ">Batch correction:.\n",
      "Read 3082 items\n",
      ">Run CIBERSORTx on B-mode batch corrected mixtures.\n",
      ">=============CIBERSORTx Settings===============\n",
      ">Mixture file: /src/outdir//CIBERSORTx_Mixtures_Adjusted.txt\n",
      ">Signature matrix file: /src/outdir//CIBERSORTx_screfsampletirosh_inferred_phenoclasses.CIBERSORTx_screfsampletirosh_inferred_refsample.bm.K999.txt\n",
      ">Enable verbose output\n",
      ">==================CIBERSORTx===================\n",
      "column Malignant Endothelial cells CAF T cells CD8 NK cells Macrophages T cells CD4 B cells P-value Correlation RMSE %Completed\n",
      "1 0.0476283 0.0308757 0.0564028 0.299805 0.138433 0.0828862 0.343968 5.26316\n",
      "2 0 0 0.00301089 0.640688 0.0707225 0.0216557 0.247513 10.5263\n",
      "3 0.65362 0 0.305489 0 0.00124451 0.0375469 0.00209972 15.7895\n",
      "4 0.0341586 0.000378982 0 0.232051 0.0817231 0.0510402 0.20393 21.0526\n",
      "5 0.0850705 0.000728476 0 0.317211 0.0211962 0.0331654 0.45945 26.3158\n",
      "6 0 0 0 0.273097 0.038581 0.00589333 0.49727 31.5789\n",
      "7 0.443202 0.000643434 0.00228051 0.3124 0.0338528 0.0390538 0.166721 36.8421\n",
      "8 0 0 0.00102359 0 0.0160045 0.01266 0.727604 42.1053\n",
      "9 0 0.000571933 0.00245916 0.663043 0.0394479 0.0490276 0.179806 47.3684\n",
      "10 0.0121741 5.20322e-05 0 0.685369 0.0692682 0.0214736 0.208972 52.6316\n",
      "11 0.988156 0 0.00308913 0 2.21869e-05 0.000558616 0.0059388 57.8947\n",
      "12 0.551551 0.0147143 0 0.233028 0.00289587 0.0254837 0.125903 63.1579\n",
      "13 0.316557 0.0548708 0.0454003 0.186001 0.0211988 0.00229222 0.28432 68.4211\n",
      "14 0.38123 0.00512194 0.0410573 0.266803 0.0182291 0.0111484 0.256652 73.6842\n",
      "15 0.322642 0.00945935 0.0782138 0.173296 0.0430139 0.0571511 0.271576 78.9474\n",
      "16 0.0838037 0.00235123 0.013043 0.208151 0.0763864 0.129138 0.359484 84.2105\n",
      "17 0.372916 0 0.00917903 0.148055 0.0397887 0.132483 0.215085 89.4737\n",
      "18 0.191563 0.000461701 0.00179467 0.331568 0.0153227 0.071638 0.174191 94.7368\n",
      "19 0.0526424 0.0746616 0.0546305 0.003151 0.0177299 0.0375556 0.468256 100\n",
      "\u001b[01;34m/tmp/tmpyd62tthl\u001b[00m\n",
      "├── [4.3K]  CIBERSORTx_Adjusted.txt\n",
      "├── [988K]  CIBERSORTx_Mixtures_Adjusted.txt\n",
      "├── [3.8M]  CIBERSORTx_cell_type_sourceGEP.txt\n",
      "├── [172K]  CIBERSORTx_screfsampletirosh_inferred_phenoclasses.CIBERSORTx_screfsampletirosh_inferred_refsample.bm.K999.pdf\n",
      "├── [510K]  CIBERSORTx_screfsampletirosh_inferred_phenoclasses.CIBERSORTx_screfsampletirosh_inferred_refsample.bm.K999.txt\n",
      "├── [ 725]  CIBERSORTx_screfsampletirosh_inferred_phenoclasses.txt\n",
      "├── [ 18M]  CIBERSORTx_screfsampletirosh_inferred_refsample.txt\n",
      "└── [4.0K]  \u001b[01;34min\u001b[00m\n",
      "    ├── [6.0M]  mixturestirosh.txt\n",
      "    └── [ 88M]  screfsampletirosh.txt\n",
      "\n",
      "1 directory, 9 files\n",
      "Building synchronization state...\n",
      "Starting synchronization...\n",
      "Copying file:///tmp/tmpyd62tthl/CIBERSORTx_Adjusted.txt [Content-Type=text/plain]...\n",
      "Copying file:///tmp/tmpyd62tthl/CIBERSORTx_cell_type_sourceGEP.txt [Content-Type=text/plain]...\n",
      "Copying file:///tmp/tmpyd62tthl/CIBERSORTx_screfsampletirosh_inferred_phenoclasses.CIBERSORTx_screfsampletirosh_inferred_refsample.bm.K999.txt [Content-Type=text/plain]...\n",
      "Copying file:///tmp/tmpyd62tthl/in/mixturestirosh.txt [Content-Type=text/plain]...\n",
      "Copying file:///tmp/tmpyd62tthl/CIBERSORTx_Mixtures_Adjusted.txt [Content-Type=text/plain]...\n",
      "Copying file:///tmp/tmpyd62tthl/CIBERSORTx_screfsampletirosh_inferred_refsample.txt [Content-Type=text/plain]...\n",
      "Copying file:///tmp/tmpyd62tthl/CIBERSORTx_screfsampletirosh_inferred_phenoclasses.txt [Content-Type=text/plain]...\n",
      "Copying file:///tmp/tmpyd62tthl/CIBERSORTx_screfsampletirosh_inferred_phenoclasses.CIBERSORTx_screfsampletirosh_inferred_refsample.bm.K999.pdf [Content-Type=application/pdf]...\n",
      "Copying file:///tmp/tmpyd62tthl/in/screfsampletirosh.txt [Content-Type=text/plain]...\n",
      "- [9/9 files][117.7 MiB/117.7 MiB] 100% Done                                    \n",
      "Operation completed over 9 objects/117.7 MiB.                                    \n",
      "\u001b[01;34m/mnt/buckets/liulab/csx_experiments/cell_type_grouping/normal\u001b[00m\n",
      "├── [4.3K]  CIBERSORTx_Adjusted.txt\n",
      "├── [988K]  CIBERSORTx_Mixtures_Adjusted.txt\n",
      "├── [3.8M]  CIBERSORTx_cell_type_sourceGEP.txt\n",
      "├── [172K]  CIBERSORTx_screfsampletirosh_inferred_phenoclasses.CIBERSORTx_screfsampletirosh_inferred_refsample.bm.K999.pdf\n",
      "├── [510K]  CIBERSORTx_screfsampletirosh_inferred_phenoclasses.CIBERSORTx_screfsampletirosh_inferred_refsample.bm.K999.txt\n",
      "├── [ 725]  CIBERSORTx_screfsampletirosh_inferred_phenoclasses.txt\n",
      "├── [ 18M]  CIBERSORTx_screfsampletirosh_inferred_refsample.txt\n",
      "└── [   0]  \u001b[01;34min\u001b[00m\n",
      "    ├── [6.0M]  mixturestirosh.txt\n",
      "    └── [ 88M]  screfsampletirosh.txt\n",
      "\n",
      "1 directory, 9 files\n"
     ]
    }
   ],
   "source": [
    "with tempfile.TemporaryDirectory() as temp_dir:\n",
    "    job = DockerJob(temp_dir, input_file_args, other_args)\n",
    "    for copy_command in job.make_copy_commands():\n",
    "        !{copy_command}\n",
    "    !tree -h {job.path}\n",
    "    docker_command = job.make_docker_command()\n",
    "    print(docker_command)\n",
    "    !{docker_command}\n",
    "    !tree -h {job.path}\n",
    "    !gsutil -m rsync -r -d {job.path} {experiment.gcs_uri}\n",
    "    !tree -h {experiment.local_path}"
   ]
  }
 ],
 "metadata": {
  "environment": {
   "name": "tf2-gpu.2-5.m74",
   "type": "gcloud",
   "uri": "gcr.io/deeplearning-platform-release/tf2-gpu.2-5:m74"
  },
  "kernelspec": {
   "display_name": "Python 3",
   "language": "python",
   "name": "python3"
  },
  "language_info": {
   "codemirror_mode": {
    "name": "ipython",
    "version": 3
   },
   "file_extension": ".py",
   "mimetype": "text/x-python",
   "name": "python",
   "nbconvert_exporter": "python",
   "pygments_lexer": "ipython3",
   "version": "3.7.10"
  }
 },
 "nbformat": 4,
 "nbformat_minor": 5
}
