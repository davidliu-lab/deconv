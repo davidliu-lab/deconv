{
 "cells": [
  {
   "cell_type": "code",
   "execution_count": null,
   "id": "5e693245",
   "metadata": {},
   "outputs": [],
   "source": [
    "import tempfile\n",
    "\n",
    "from helpers.running_csx import DockerJob, Experiment, InputFile"
   ]
  },
  {
   "cell_type": "code",
   "execution_count": null,
   "id": "892fce00",
   "metadata": {},
   "outputs": [],
   "source": [
    "original_sc_refsample = InputFile(\n",
    "    \"screfsampletirosh.txt\", \n",
    "    \"gs://liulab/csx_example_files/Single_Cell_RNA-Seq_Melanoma_SuppFig_3b-d/scRNA-Seq_reference_melanoma_Tirosh_SuppFig_3b-d.txt\")\n"
   ]
  },
  {
   "cell_type": "code",
   "execution_count": null,
   "id": "2b39c431",
   "metadata": {},
   "outputs": [],
   "source": [
    "input_file_args = {\n",
    "    \"mixture\": InputFile(\"mixturestirosh.txt\", \"gs://liulab/csx_example_files/Single_Cell_RNA-Seq_Melanoma_SuppFig_3b-d/mixture_melanoma_Tirosh_SuppFig_3b-d.txt\"),\n",
    "#     \"refsample\": original_sc_refsample,\n",
    "    \"refsample\": original_sc_refsample,\n",
    "}"
   ]
  },
  {
   "cell_type": "code",
   "execution_count": null,
   "id": "75a2dd1e",
   "metadata": {},
   "outputs": [],
   "source": [
    "other_args = {\n",
    "    \"rmbatchBmode\" : \"TRUE\",\n",
    "    \"single_cell\": \"TRUE\",\n",
    "}"
   ]
  },
  {
   "cell_type": "code",
   "execution_count": null,
   "id": "15dc06fb",
   "metadata": {},
   "outputs": [],
   "source": [
    "with tempfile.TemporaryDirectory() as temp_dir:\n",
    "    job = DockerJob(temp_dir, input_file_args, other_args)\n",
    "    docker_command = job.make_docker_command()"
   ]
  },
  {
   "cell_type": "code",
   "execution_count": null,
   "id": "d4e7bf4d",
   "metadata": {},
   "outputs": [],
   "source": [
    "print(docker_command)"
   ]
  },
  {
   "cell_type": "code",
   "execution_count": null,
   "id": "da6d3e50",
   "metadata": {},
   "outputs": [],
   "source": []
  }
 ],
 "metadata": {
  "environment": {
   "name": "tf2-gpu.2-5.m76",
   "type": "gcloud",
   "uri": "gcr.io/deeplearning-platform-release/tf2-gpu.2-5:m76"
  },
  "kernelspec": {
   "display_name": "Python 3",
   "language": "python",
   "name": "python3"
  },
  "language_info": {
   "codemirror_mode": {
    "name": "ipython",
    "version": 3
   },
   "file_extension": ".py",
   "mimetype": "text/x-python",
   "name": "python",
   "nbconvert_exporter": "python",
   "pygments_lexer": "ipython3",
   "version": "3.7.10"
  }
 },
 "nbformat": 4,
 "nbformat_minor": 5
}
