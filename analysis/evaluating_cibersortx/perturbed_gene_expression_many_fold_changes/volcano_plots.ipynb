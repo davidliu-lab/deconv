{
 "cells": [
  {
   "cell_type": "markdown",
   "metadata": {},
   "source": [
    "# Negative control: comparing identically generated, unperturbed cohorts"
   ]
  },
  {
   "cell_type": "markdown",
   "metadata": {},
   "source": [
    "I generated two sets of 50 simulated bulk RNA-seq samples\n",
    "- I used the same set of fraction vectors for each set of samples\n",
    "- I sampled different cell type GEPs for each set of samples\n",
    "\n",
    "Here I compare their gene expression. I expect no significant differences."
   ]
  },
  {
   "cell_type": "markdown",
   "metadata": {},
   "source": [
    "## imports + setup"
   ]
  },
  {
   "cell_type": "code",
   "execution_count": null,
   "metadata": {},
   "outputs": [],
   "source": [
    "import logging\n",
    "import warnings\n",
    "\n",
    "import helpers\n",
    "import numpy as np\n",
    "import pandas as pd\n",
    "import plotly.express as px\n",
    "import plotly.graph_objects as go\n",
    "import upath"
   ]
  },
  {
   "cell_type": "code",
   "execution_count": null,
   "metadata": {},
   "outputs": [],
   "source": [
    "import importlib\n",
    "\n",
    "importlib.reload(helpers)\n",
    "importlib.reload(helpers.running_cibersortx)\n",
    "importlib.reload(helpers.running_cibersortx.reading_output_files)"
   ]
  },
  {
   "cell_type": "code",
   "execution_count": null,
   "metadata": {},
   "outputs": [],
   "source": [
    "warnings.filterwarnings(\"ignore\", message=\"divide by zero\")\n",
    "warnings.filterwarnings(\"ignore\", message=\"invalid value encountered in double_scalars\")"
   ]
  },
  {
   "cell_type": "code",
   "execution_count": null,
   "metadata": {},
   "outputs": [],
   "source": [
    "logger = logging.getLogger(__name__)\n",
    "logger.setLevel(\"DEBUG\")\n",
    "\n",
    "# helpers.logging.configure_logging()\n",
    "# udp_handler = logging.handlers.DatagramHandler(\"localhost\", 12000)\n",
    "# udp_handler.setLevel(\"DEBUG\")\n",
    "# logging.getLogger().addHandler(udp_handler)\n",
    "\n",
    "stream_handler = logging.StreamHandler()\n",
    "stream_handler.setFormatter(helpers.logging.formatter)\n",
    "stream_handler.setLevel(\"INFO\")\n",
    "logging.getLogger().addHandler(stream_handler)"
   ]
  },
  {
   "cell_type": "code",
   "execution_count": null,
   "metadata": {},
   "outputs": [],
   "source": [
    "logging.getLogger(\"helpers\").setLevel(\"DEBUG\")"
   ]
  },
  {
   "cell_type": "code",
   "execution_count": null,
   "metadata": {},
   "outputs": [],
   "source": [
    "path_root = (\n",
    "    upath.UPath(\"gs://liulab/evaluating_cibersortx/\")\n",
    "    / \"perturbing_100_genes_in_malignant_cells_by_many_factors_of_2\"\n",
    "    / \"20220920_08h43m05s\"\n",
    ")"
   ]
  },
  {
   "cell_type": "code",
   "execution_count": null,
   "metadata": {},
   "outputs": [],
   "source": [
    "!gsutil ls -hlR $path_root | head"
   ]
  },
  {
   "cell_type": "code",
   "execution_count": null,
   "metadata": {},
   "outputs": [],
   "source": [
    "# janky plotly hack\n",
    "px.line(x=[1, 2], y=[1, 2])"
   ]
  },
  {
   "cell_type": "markdown",
   "metadata": {},
   "source": [
    "## Comparing 2x perturbation only"
   ]
  },
  {
   "cell_type": "markdown",
   "metadata": {},
   "source": [
    "### Comparing gene expression in simulated bulk RNA-seq"
   ]
  },
  {
   "cell_type": "code",
   "execution_count": null,
   "metadata": {},
   "outputs": [],
   "source": [
    "df_bulk_rnaseq = helpers.data_io_and_formatting.load_concatenated_bulk_rnaseq(\n",
    "    path_root / \"data\" / \"bulkrnaseq.txt\"\n",
    ")"
   ]
  },
  {
   "cell_type": "code",
   "execution_count": null,
   "metadata": {},
   "outputs": [],
   "source": [
    "groups = df_bulk_rnaseq.groupby(\"GeneSymbol\")\n",
    "df_bulk_rnaseq_stats = helpers.deg_analysis.compute_stats(groups)\n",
    "df_bulk_rnaseq_stats"
   ]
  },
  {
   "cell_type": "code",
   "execution_count": null,
   "metadata": {},
   "outputs": [],
   "source": [
    "fig = make_volcano_figure(df_bulk_rnaseq_stats)\n",
    "fig.update_layout(\n",
    "    title=\"Differential expression in independent, identically-generated in silico cohorts\"\n",
    ")\n",
    "fig"
   ]
  },
  {
   "cell_type": "markdown",
   "metadata": {},
   "source": [
    "### Comparing gene expression in malignant cells, inferred by CIBERSORTx"
   ]
  },
  {
   "cell_type": "code",
   "execution_count": null,
   "metadata": {},
   "outputs": [],
   "source": [
    "path_pattern = path_root / \"outdir\" / \"CIBERSORTxHiRes_NA_Malignant_Window*txt\"\n",
    "df_rnaseq_inferred_malignant_ = helpers.running_cibersortx.read_hires_cell_type_geps(\n",
    "    path_pattern\n",
    ")"
   ]
  },
  {
   "cell_type": "code",
   "execution_count": null,
   "metadata": {},
   "outputs": [],
   "source": [
    "def _(df):\n",
    "    df = df.copy()\n",
    "    df.index = pd.MultiIndex.from_tuples(\n",
    "        df.index.map(lambda x: (x[1],) + tuple(x[2].split(\"/\"))),\n",
    "        names=[\"GeneSymbol\", \"cohort_id\", \"sample_id\"],\n",
    "    )\n",
    "    df = df.unstack(\"cohort_id\")\n",
    "    return df\n",
    "\n",
    "\n",
    "df_rnaseq_inferred_malignant = _(df_rnaseq_inferred_malignant_)"
   ]
  },
  {
   "cell_type": "code",
   "execution_count": null,
   "metadata": {},
   "outputs": [],
   "source": [
    "df_rnaseq_inferred_malignant"
   ]
  },
  {
   "cell_type": "code",
   "execution_count": null,
   "metadata": {},
   "outputs": [],
   "source": [
    "df_rnaseq_inferred_malignant_stats = helpers.deg_analysis.compute_stats(\n",
    "    df_rnaseq_inferred_malignant.groupby(\"GeneSymbol\")\n",
    ")\n",
    "df_rnaseq_inferred_malignant_stats"
   ]
  },
  {
   "cell_type": "code",
   "execution_count": null,
   "metadata": {},
   "outputs": [],
   "source": [
    "fig = helpers.deg_analysis.make_volcano_figure(df_rnaseq_inferred_malignant_stats)\n",
    "fig.update_layout(\n",
    "    title=\"Differential expression analysis of inferred gene expression<br>in malignant cells, by CIBERSORTx\"\n",
    ")\n",
    "fig"
   ]
  },
  {
   "cell_type": "code",
   "execution_count": null,
   "metadata": {},
   "outputs": [],
   "source": []
  }
 ],
 "metadata": {
  "environment": {
   "kernel": "deconv",
   "name": "common-cpu.m91",
   "type": "gcloud",
   "uri": "gcr.io/deeplearning-platform-release/base-cpu:m91"
  },
  "kernelspec": {
   "display_name": "deconv",
   "language": "python",
   "name": "deconv"
  },
  "language_info": {
   "codemirror_mode": {
    "name": "ipython",
    "version": 3
   },
   "file_extension": ".py",
   "mimetype": "text/x-python",
   "name": "python",
   "nbconvert_exporter": "python",
   "pygments_lexer": "ipython3",
   "version": "3.10.6"
  },
  "vscode": {
   "interpreter": {
    "hash": "1a6cdd7b31d7d7571dae616f9bd8baacffeff07e03f8c5af29d1d744001d362d"
   }
  }
 },
 "nbformat": 4,
 "nbformat_minor": 4
}
