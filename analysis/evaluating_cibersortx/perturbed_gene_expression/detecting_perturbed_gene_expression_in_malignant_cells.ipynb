{
 "cells": [
  {
   "cell_type": "markdown",
   "id": "0c1cf950-de76-474a-8f95-b7cff70ab462",
   "metadata": {},
   "source": []
  },
  {
   "cell_type": "markdown",
   "id": "5d866f1b",
   "metadata": {},
   "source": [
    "# Inferring gene expression in perturbed simulated data"
   ]
  },
  {
   "cell_type": "markdown",
   "id": "f0fa7874",
   "metadata": {},
   "source": [
    "Notebook content to go here...\n",
    "- "
   ]
  }
 ],
 "metadata": {
  "environment": {
   "kernel": "deconv",
   "name": "common-cpu.m91",
   "type": "gcloud",
   "uri": "gcr.io/deeplearning-platform-release/base-cpu:m91"
  },
  "kernelspec": {
   "display_name": "deconv",
   "language": "python",
   "name": "deconv"
  },
  "language_info": {
   "codemirror_mode": {
    "name": "ipython",
    "version": 3
   },
   "file_extension": ".py",
   "mimetype": "text/x-python",
   "name": "python",
   "nbconvert_exporter": "python",
   "pygments_lexer": "ipython3",
   "version": "3.10.5"
  }
 },
 "nbformat": 4,
 "nbformat_minor": 5
}
