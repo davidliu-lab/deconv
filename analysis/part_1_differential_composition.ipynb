{
 "cells": [
  {
   "cell_type": "code",
   "execution_count": null,
   "metadata": {},
   "outputs": [],
   "source": [
    "%load_ext autoreload\n",
    "%autoreload 2\n",
    "%sql duckdb:///:default:"
   ]
  },
  {
   "cell_type": "code",
   "execution_count": null,
   "metadata": {},
   "outputs": [],
   "source": [
    "# imports\n",
    "import logging\n",
    "\n",
    "import duckdb\n",
    "import plotly.express as px\n",
    "\n",
    "import helpers\n",
    "from helpers.deg_analysis import (\n",
    "    classifier_metrics,\n",
    "    displaying_tables,\n",
    "    plotting_curves,\n",
    "    plotting_volcanos,\n",
    ")\n",
    "from helpers.deg_analysis.postprocessing_gene_stats_fields import add_more_pval_fields\n",
    "from helpers.running_cibersortx.loading_results import (\n",
    "    get_arrow_dataset_for_deg_analysis_results,\n",
    ")"
   ]
  },
  {
   "cell_type": "code",
   "execution_count": null,
   "metadata": {},
   "outputs": [],
   "source": [
    "# logging\n",
    "logging.basicConfig(level=\"INFO\", format=helpers.logging.FORMAT)\n",
    "logging.getLogger(\"duckdb\").setLevel(\"INFO\")\n",
    "logging.getLogger(\"helpers\").setLevel(\"DEBUG\")\n",
    "\n",
    "logger = logging.getLogger(__name__)\n",
    "logger.setLevel(\"DEBUG\")"
   ]
  },
  {
   "cell_type": "code",
   "execution_count": null,
   "metadata": {},
   "outputs": [],
   "source": [
    "# make arrow dataset\n",
    "deg_analysis_results = get_arrow_dataset_for_deg_analysis_results(\n",
    "    \"gs://liulab/differential_composition_and_expression/copied/20230505_21h41m44s/deg_analysis/\"\n",
    ")"
   ]
  },
  {
   "cell_type": "code",
   "execution_count": null,
   "metadata": {},
   "outputs": [],
   "source": [
    "# query arrow dataset\n",
    "query_text = \"\"\"\n",
    "SELECT\n",
    "    origin,\n",
    "    malignant_means,\n",
    "    log2_fc,\n",
    "    run_id,\n",
    "    gene_symbol,\n",
    "    perturbed AND log2_fc != 0 AS perturbed,\n",
    "    log2_fold_change,\n",
    "    \"pval\",\n",
    "    \"-log10_pval\",\n",
    "    \"pval_adjusted_bh\",\n",
    "    -1.0 * log10(\"pval_adjusted_bh\") as \"-log10_pval_adjusted_bh\",\n",
    "    \"significant_bh_fdr=0.10\",\n",
    "FROM deg_analysis_results\n",
    "WHERE\n",
    "    malignant_means in ('None,None', '0.65,0.75', '0.6,0.8', '0.57,0.83', '0.55,0.85')\n",
    "    AND origin = 'malignant_cibersortx'\n",
    "    AND log2_fc in (0.0,)\n",
    "    --AND run_id in (0, 1)\n",
    ";\n",
    "\"\"\"\n",
    "df_gene_stats = duckdb.sql(query_text).df()  # query with \"duckdb:///:default:\"\n",
    "df_gene_stats = add_more_pval_fields(df_gene_stats)\n",
    "df_curves_signed_directional = classifier_metrics.calculate_all_curves(\n",
    "    df_gene_stats,\n",
    "    score_col=\"-log10_pval_adjusted_bh_signed_directional\",\n",
    "    perturbed_col=\"perturbed\",\n",
    ")\n",
    "df_curves = classifier_metrics.calculate_all_curves(\n",
    "    df_gene_stats,\n",
    "    score_col=\"-log10_pval_adjusted_bh\",\n",
    "    perturbed_col=\"perturbed\",\n",
    ")\n",
    "df_scores = classifier_metrics.compute_scores(df_gene_stats, perturbed_col=\"perturbed\")"
   ]
  },
  {
   "cell_type": "code",
   "execution_count": null,
   "metadata": {},
   "outputs": [],
   "source": [
    "# volcano plots\n",
    "df_to_plot = (\n",
    "    df_gene_stats\n",
    "    # .query(\"malignant_means in ('0.55,0.85', '0.6,0.8', '0.65,0.75', 'None,None')\")\n",
    "    .groupby([\"origin\", \"malignant_means\", \"log2_fc\", \"gene_symbol\"])\n",
    "    .median()\n",
    "    .reset_index()\n",
    ")\n",
    "print(df_to_plot.groupby(\"malignant_means\").size())\n",
    "fig = px.scatter(\n",
    "    df_to_plot,\n",
    "    x=\"log2_fold_change\",\n",
    "    y=\"-log10_pval_adjusted_bh\",\n",
    "    hover_name=\"gene_symbol\",\n",
    "    hover_data=[\"-log10_pval\"],\n",
    "    facet_col=\"malignant_means\",\n",
    "    facet_col_wrap=4,\n",
    ")\n",
    "fig = plotting_volcanos.format_volcano_figure(fig, marker_size=2)\n",
    "fig.update_layout(width=800, height=400)\n",
    "# fig.show(renderer=\"png\", scale=2)\n",
    "fig"
   ]
  },
  {
   "cell_type": "code",
   "execution_count": null,
   "metadata": {},
   "outputs": [],
   "source": [
    "# FPR curves\n",
    "fig = px.line(\n",
    "    df_curves_signed_directional.reset_index(),\n",
    "    x=\"-log10_pval_adjusted_bh_signed_directional\",\n",
    "    y=\"fpr\",\n",
    "    color=\"run_id\",\n",
    "    markers=True,\n",
    "    facet_col=\"malignant_means\",\n",
    ")\n",
    "fig = plotting_curves.format_metric_by_threshold_figure(fig)\n",
    "fig.show(renderer=\"png\", scale=2)"
   ]
  },
  {
   "cell_type": "code",
   "execution_count": null,
   "metadata": {},
   "outputs": [],
   "source": [
    "# FP at FDR alpha=0.1\n",
    "# FP at FDR alpha=0.1\n",
    "helpers.deg_analysis.displaying_tables.make_score_table_with_stddev(\n",
    "    df_scores[\"fp\"],\n",
    "    cmap=\"Blues\",\n",
    ")"
   ]
  },
  {
   "cell_type": "code",
   "execution_count": null,
   "metadata": {},
   "outputs": [],
   "source": [
    "# FP count at FDR alpha=0.1, using -log10_pval_adjusted_bh_signed_directional\n",
    "classifier_metrics.get_metrics_at_threshold(\n",
    "    df_curves_signed_directional,\n",
    "    groupby=df_curves_signed_directional.index.names[:-1],\n",
    "    score=\"-log10_pval_adjusted_bh_signed_directional\",\n",
    "    threshold=1.0,\n",
    "    metrics=[\"fp\", \"tn\", \"fpr\"],\n",
    ")"
   ]
  },
  {
   "cell_type": "code",
   "execution_count": null,
   "metadata": {},
   "outputs": [],
   "source": [
    "# FP count at FDR alpha=0.1, using -log10_pval_adjusted_bh\n",
    "classifier_metrics.get_metrics_at_threshold(\n",
    "    df_scores,\n",
    "    groupby=df_scores.index.names[:-1],\n",
    "    score=\"-log10_pval_adjusted_bh\",\n",
    "    threshold=1.0,\n",
    "    metrics=[\"fp\", \"tn\", \"fpr\"],\n",
    ")"
   ]
  },
  {
   "cell_type": "code",
   "execution_count": null,
   "metadata": {},
   "outputs": [],
   "source": [
    "# PPV curves for different levels of differential composition\n",
    "fig = plotting_curves.plot_metric_by_threshold(\n",
    "    df_curves,\n",
    "    score_column=\"-log10_pval_adjusted_bh_signed_directional\",\n",
    "    metric_column=\"precision\",\n",
    "    facet_col=\"malignant_means\",\n",
    "    facet_row=None,\n",
    ")\n",
    "# 1000 x 500\n",
    "fig.update_layout(width=1000, height=500)\n",
    "# png\n",
    "fig.show(renderer=\"png\", scale=2)"
   ]
  },
  {
   "cell_type": "code",
   "execution_count": null,
   "metadata": {},
   "outputs": [],
   "source": [
    "# volcano plots for different levels of differential composition\n",
    "from helpers.deg_analysis import plotting_volcanos\n",
    "\n",
    "fig = plotting_volcanos.make_volcano_grid_scatter(\n",
    "    df_gene_stats,\n",
    "    aggregate_by=[\"origin\", \"malignant_means\", \"log2_fc\", \"gene_symbol\", \"perturbed\"],\n",
    "    pval_col=\"-log10_pval_adjusted_bh\",\n",
    "    perturbed_col=\"perturbed\",\n",
    "    facet_col=\"malignant_means\",\n",
    "    facet_row=None,\n",
    "    marker_color=\"perturbed\",\n",
    ")\n",
    "# 1000 x 500\n",
    "fig.update_layout(width=1000, height=500)\n",
    "# png\n",
    "fig.show(renderer=\"png\", scale=2)"
   ]
  }
 ],
 "nbformat": 4,
 "nbformat_minor": 2,
 "metadata": {
  "language_info": {
   "codemirror_mode": {
    "name": "ipython",
    "version": 3
   },
   "file_extension": ".py",
   "mimetype": "text/x-python",
   "name": "python",
   "nbconvert_exporter": "python",
   "pygments_lexer": "ipython3",
   "version": 3
  },
  "orig_nbformat": 4
 }
}