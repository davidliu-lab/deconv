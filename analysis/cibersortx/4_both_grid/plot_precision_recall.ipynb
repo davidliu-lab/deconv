{
 "cells": [
  {
   "cell_type": "code",
   "execution_count": null,
   "id": "36b8c4f6",
   "metadata": {},
   "outputs": [],
   "source": [
    "import pandas as pd\n",
    "import upath\n",
    "import extras"
   ]
  },
  {
   "cell_type": "code",
   "execution_count": null,
   "id": "d400fc0d",
   "metadata": {},
   "outputs": [],
   "source": [
    "# configure logger\n",
    "import logging\n",
    "logger = logging.getLogger(__name__)\n",
    "handler = logging.StreamHandler()\n",
    "formatter = logging.Formatter('%(asctime)s %(levelname)s %(message)s')\n",
    "handler.setFormatter(formatter)\n",
    "logger.handlers = [handler]\n",
    "logger.setLevel(\"DEBUG\")"
   ]
  },
  {
   "cell_type": "code",
   "execution_count": null,
   "id": "ee2525b6",
   "metadata": {},
   "outputs": [],
   "source": [
    "# path_root = upath.UPath(\"gs://liulab/differential_composition_and_expression/20230224_07h54m40s\")\n",
    "path_root = upath.UPath('gs://liulab/differential_composition_and_expression/20230224_07h54m40s')\n",
    "print(extras.get_parquet_paths(path_root))"
   ]
  },
  {
   "cell_type": "code",
   "execution_count": null,
   "id": "e023cf5e",
   "metadata": {},
   "outputs": [],
   "source": [
    "df_gene_stats = extras.load_gene_stats_malignant_cibersortx(path_root)\n",
    "df = df_gene_stats\n"
   ]
  },
  {
   "cell_type": "code",
   "execution_count": null,
   "id": "6a4b2703",
   "metadata": {},
   "outputs": [],
   "source": [
    "# reload extras\n",
    "import importlib\n",
    "importlib.reload(extras)\n",
    "\n",
    "df_roc = extras.calculate_roc(df)\n",
    "df_roc\n"
   ]
  },
  {
   "cell_type": "code",
   "execution_count": null,
   "id": "dc974ea9",
   "metadata": {},
   "outputs": [],
   "source": [
    "import plotly.express as px\n",
    "\n",
    "fig = px.line(\n",
    "    df_roc.reset_index(),\n",
    "    x=\"fpr\",\n",
    "    y=\"tpr\",\n",
    "    # title=f\"ROC Curve (AUC={auc(fpr, tpr):.4f})\",\n",
    "    labels=dict(x=\"False Positive Rate\", y=\"True Positive Rate\"),\n",
    "    color=\"run_id\",\n",
    "    facet_col=\"malignant_means\",\n",
    ")\n"
   ]
  },
  {
   "cell_type": "code",
   "execution_count": null,
   "id": "d1138654",
   "metadata": {},
   "outputs": [],
   "source": [
    "importlib.reload(extras)\n",
    "\n",
    "fig = extras.plot_roc(df_roc)"
   ]
  },
  {
   "cell_type": "code",
   "execution_count": null,
   "id": "c42330a0",
   "metadata": {},
   "outputs": [],
   "source": [
    "fig.update_layout(width=1200, height=2000)\n",
    "fig.show(renderer=\"png\", scale=2)"
   ]
  },
  {
   "cell_type": "code",
   "execution_count": null,
   "id": "e13c7f80",
   "metadata": {},
   "outputs": [],
   "source": [
    "df_prc = extras.calculate_precision_and_recall(df)\n",
    "df_prc"
   ]
  },
  {
   "cell_type": "code",
   "execution_count": null,
   "id": "92638eb3",
   "metadata": {},
   "outputs": [],
   "source": [
    "fig = extras.plot_precision_recall_curve(df_prc)\n",
    "fig.update_layout(width=1200, height=2000)\n",
    "fig.show(renderer=\"png\", scale=2)\n"
   ]
  }
 ],
 "metadata": {
  "environment": {
   "kernel": "deconv",
   "name": "jax-gpu.0-3-14.m96",
   "type": "gcloud",
   "uri": "gcr.io/deeplearning-platform-release/jax-gpu.0-3-14:m96"
  },
  "kernelspec": {
   "display_name": "deconv",
   "language": "python",
   "name": "deconv"
  },
  "language_info": {
   "codemirror_mode": {
    "name": "ipython",
    "version": 3
   },
   "file_extension": ".py",
   "mimetype": "text/x-python",
   "name": "python",
   "nbconvert_exporter": "python",
   "pygments_lexer": "ipython3",
   "version": "3.11.0"
  }
 },
 "nbformat": 4,
 "nbformat_minor": 5
}
