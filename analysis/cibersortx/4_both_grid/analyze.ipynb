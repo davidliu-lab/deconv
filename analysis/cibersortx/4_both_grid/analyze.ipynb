{
 "cells": [
  {
   "cell_type": "markdown",
   "id": "4eb3a3cd-613d-4df1-8386-a70661cdd1c0",
   "metadata": {},
   "source": [
    "# analyze grid experiments"
   ]
  },
  {
   "cell_type": "code",
   "execution_count": null,
   "id": "6cbd7277-3f20-4f57-9fa5-c8bf01d50f74",
   "metadata": {},
   "outputs": [],
   "source": [
    "from extras import *\n",
    "\n",
    "%load_ext autoreload\n",
    "%autoreload complete"
   ]
  },
  {
   "cell_type": "code",
   "execution_count": null,
   "id": "27403d7d",
   "metadata": {},
   "outputs": [],
   "source": [
    "import logging\n",
    "\n",
    "logger = logging.getLogger(__name__)\n",
    "handler = logging.StreamHandler()\n",
    "formatter = logging.Formatter(\"%(module)s:%(lineno)d:%(levelname)s: %(message)s\")\n",
    "handler.setFormatter(formatter)\n",
    "logger.handlers = [handler]\n",
    "logger.setLevel(\"DEBUG\")\n",
    "\n",
    "logger.debug(\"lol\")"
   ]
  },
  {
   "cell_type": "code",
   "execution_count": null,
   "id": "bfdce283",
   "metadata": {},
   "outputs": [],
   "source": [
    "import numpy as np\n",
    "rng = np.random.default_rng(seed=0)"
   ]
  },
  {
   "cell_type": "code",
   "execution_count": null,
   "id": "a7cc5a9f",
   "metadata": {},
   "outputs": [],
   "source": [
    "path_root = upath.UPath(\"gs://liulab/differential_composition_and_expression/20230224_07h54m40s\")\n",
    "df_gene_stats = load_gene_stats(path_root)\n",
    "df_gene_stats.groupby([\"malignant_means\", \"log2_fc\", \"run_id\"]).size()"
   ]
  },
  {
   "cell_type": "code",
   "execution_count": null,
   "id": "ab24ec8e",
   "metadata": {},
   "outputs": [],
   "source": [
    "(\n",
    "    df_gene_stats\n",
    "    .groupby([\"malignant_means\", \"log2_fc\", \"gene_perturbed\"])\n",
    "    .size()\n",
    "    .unstack(\"log2_fc\")\n",
    ")"
   ]
  },
  {
   "cell_type": "code",
   "execution_count": null,
   "id": "2c162134",
   "metadata": {},
   "outputs": [],
   "source": [
    "fig = make_volcano_grid_scatter(df_gene_stats)\n",
    "fig.update_layout(width=1200, height=2000)\n",
    "fig.show(renderer=\"png\", scale=2)"
   ]
  },
  {
   "cell_type": "code",
   "execution_count": null,
   "id": "0a978b19",
   "metadata": {},
   "outputs": [],
   "source": [
    "fig = make_volcano_grid_density_contour(df_gene_stats)\n",
    "fig.update_layout(width=1200, height=2000)\n",
    "fig.show(renderer=\"png\", scale=1)"
   ]
  },
  {
   "cell_type": "code",
   "execution_count": null,
   "id": "85ccf92f",
   "metadata": {},
   "outputs": [],
   "source": []
  }
 ],
 "metadata": {
  "environment": {
   "kernel": "deconv",
   "name": "jax-gpu.0-3-14.m96",
   "type": "gcloud",
   "uri": "gcr.io/deeplearning-platform-release/jax-gpu.0-3-14:m96"
  },
  "kernelspec": {
   "display_name": "deconv",
   "language": "python",
   "name": "deconv"
  },
  "language_info": {
   "codemirror_mode": {
    "name": "ipython",
    "version": 3
   },
   "file_extension": ".py",
   "mimetype": "text/x-python",
   "name": "python",
   "nbconvert_exporter": "python",
   "pygments_lexer": "ipython3",
   "version": "3.11.0"
  }
 },
 "nbformat": 4,
 "nbformat_minor": 5
}
