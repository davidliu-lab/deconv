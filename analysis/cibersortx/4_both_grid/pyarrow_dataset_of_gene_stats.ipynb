{
 "cells": [
  {
   "cell_type": "markdown",
   "id": "805d75d8-38dd-49ce-baa6-edb9c3919443",
   "metadata": {},
   "source": [
    "# using pyarrow to create a pa.Table of results"
   ]
  },
  {
   "cell_type": "code",
   "execution_count": null,
   "id": "d8418073-bb2d-4924-888d-b79f463654d3",
   "metadata": {},
   "outputs": [],
   "source": [
    "import upath"
   ]
  },
  {
   "cell_type": "code",
   "execution_count": null,
   "id": "d0478f4d-51e7-4e43-9e7b-9db1f4d36358",
   "metadata": {},
   "outputs": [],
   "source": [
    "path_root = upath.UPath(\"gs://liulab/differential_composition_and_expression/20230310_21h01m15s\")\n",
    "# print(extras.get_parquet_paths(path_root))\n",
    "# !gsutil ls \"{path_root}/*\""
   ]
  },
  {
   "attachments": {},
   "cell_type": "markdown",
   "id": "8474efce",
   "metadata": {},
   "source": [
    "## make pyarrow table"
   ]
  },
  {
   "cell_type": "code",
   "execution_count": null,
   "id": "ed9cb0f8",
   "metadata": {},
   "outputs": [],
   "source": [
    "import pyarrow as pa\n",
    "import pyarrow.dataset as ds\n",
    "import pyarrow.fs  # must be imported explicitly\n",
    "import gcsfs"
   ]
  },
  {
   "cell_type": "code",
   "execution_count": null,
   "id": "e86bf09e",
   "metadata": {},
   "outputs": [],
   "source": [
    "# works\n",
    "# - use fs from first UPath\n",
    "\n",
    "paths = list(path_root.glob(\"**/gene_stats_*.parquet\"))[:4]\n",
    "dataset = ds.dataset(\n",
    "    paths,\n",
    "    format=\"parquet\",\n",
    "    filesystem=paths[0].fs,\n",
    ")\n",
    "print(dataset.filesystem)\n",
    "dataset.head(5).to_pandas()"
   ]
  },
  {
   "cell_type": "code",
   "execution_count": null,
   "id": "6c1742c9",
   "metadata": {},
   "outputs": [],
   "source": [
    "# works\n",
    "# - use fs from gcsfs.GCSFileSystem\n",
    "\n",
    "paths = list(path_root.glob(\"**/gene_stats_*.parquet\"))[:4]\n",
    "print(paths)\n",
    "dataset = ds.dataset(\n",
    "    paths,\n",
    "    format=\"parquet\",\n",
    "    filesystem=gcsfs.GCSFileSystem(),\n",
    ")\n",
    "print(dataset.filesystem)\n",
    "dataset.head(5).to_pandas()"
   ]
  },
  {
   "cell_type": "code",
   "execution_count": null,
   "id": "84e531d6",
   "metadata": {},
   "outputs": [],
   "source": [
    "# works\n",
    "# - use str() to remove \"gs://\" (required for some reason)\n",
    "# - use fs from pyarrow.fs.GcsFileSystem\n",
    "\n",
    "paths = list(str(_)[5:] for _ in path_root.glob(\"**/gene_stats_*.parquet\"))[:4]\n",
    "print(paths)\n",
    "dataset = ds.dataset(\n",
    "    paths,\n",
    "    format=\"parquet\",\n",
    "    filesystem=pyarrow.fs.GcsFileSystem(),  # required\n",
    ")\n",
    "print(dataset.filesystem)\n",
    "dataset.head(5).to_pandas()"
   ]
  },
  {
   "cell_type": "markdown",
   "id": "dcbcab6d",
   "metadata": {},
   "source": [
    "### include path"
   ]
  },
  {
   "cell_type": "code",
   "execution_count": null,
   "id": "6ab0cbce",
   "metadata": {},
   "outputs": [],
   "source": [
    "print(next(path_root.glob(\"**/gene_stats_*.parquet\")))"
   ]
  },
  {
   "cell_type": "code",
   "execution_count": null,
   "id": "a24ea0ac",
   "metadata": {},
   "outputs": [],
   "source": [
    "paths = list(path_root.glob(\"**/gene_stats_*.parquet\"))\n",
    "dataset = ds.dataset(\n",
    "    paths,\n",
    "    format=\"parquet\",\n",
    "    filesystem=gcsfs.GCSFileSystem(),  # required\n",
    "    partitioning=\"hive\",\n",
    ")\n",
    "\n",
    "# table_gene_stats = dataset.to_table()\n",
    "\n",
    "# projection = dataset.schema.names + [\"__filename\"]\n",
    "# table_gene_stats = dataset.to_table(columns=projection)\n",
    "\n",
    "columns = dataset.schema.names + [\"__filename\"]\n",
    "scanner = dataset.scanner(columns=columns)\n",
    "table_gene_stats = scanner.head(100)\n",
    "\n",
    "# rename column\n",
    "# table_gene_stats = table_gene_stats.rename_columns(\n",
    "#     table_gene_stats.column_names[:-1] + [\"path\"]\n",
    "# )\n",
    "# table_gene_stats.to_pandas()"
   ]
  },
  {
   "cell_type": "code",
   "execution_count": null,
   "id": "1ed84ce3",
   "metadata": {},
   "outputs": [],
   "source": [
    "table_gene_stats.to_pandas()"
   ]
  },
  {
   "cell_type": "code",
   "execution_count": null,
   "id": "7ea4c188",
   "metadata": {},
   "outputs": [],
   "source": [
    "# table_gene_stats = dataset.to_table()"
   ]
  }
 ],
 "metadata": {
  "environment": {
   "kernel": "deconv",
   "name": "jax-gpu.0-3-14.m96",
   "type": "gcloud",
   "uri": "gcr.io/deeplearning-platform-release/jax-gpu.0-3-14:m96"
  },
  "kernelspec": {
   "display_name": "deconv",
   "language": "python",
   "name": "python3"
  },
  "language_info": {
   "codemirror_mode": {
    "name": "ipython",
    "version": 3
   },
   "file_extension": ".py",
   "mimetype": "text/x-python",
   "name": "python",
   "nbconvert_exporter": "python",
   "pygments_lexer": "ipython3",
   "version": "3.11.0"
  }
 },
 "nbformat": 4,
 "nbformat_minor": 5
}
