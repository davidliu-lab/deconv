{
 "cells": [
  {
   "cell_type": "markdown",
   "id": "3fc0096f",
   "metadata": {},
   "source": [
    "# ROC curves"
   ]
  },
  {
   "cell_type": "code",
   "execution_count": null,
   "id": "996a1df9-8f5d-4d63-baba-d161be672f3a",
   "metadata": {},
   "outputs": [],
   "source": [
    "%load_ext autoreload"
   ]
  },
  {
   "cell_type": "code",
   "execution_count": null,
   "id": "3d736b27-0c9e-4ed3-87c2-4b4d4b7512e8",
   "metadata": {},
   "outputs": [],
   "source": [
    "%autoreload 2\n",
    "\n",
    "import pandas as pd\n",
    "import upath\n",
    "import extras"
   ]
  },
  {
   "cell_type": "code",
   "execution_count": null,
   "id": "2f0d297f-5f71-49f3-9470-f895c1965fb8",
   "metadata": {},
   "outputs": [],
   "source": [
    "import logging\n",
    "\n",
    "# set up handler\n",
    "handler = logging.StreamHandler()\n",
    "formatter = logging.Formatter(\"%(asctime)s %(levelname)s %(message)s\")\n",
    "handler.setFormatter(formatter)\n",
    "logging.getLogger().handlers = [handler]\n",
    "\n",
    "# set up logger\n",
    "logger = logging.getLogger(__name__)\n",
    "\n",
    "# set levels\n",
    "logging.getLogger().setLevel(\"INFO\")\n",
    "logger.setLevel(\"DEBUG\")\n",
    "logging.getLogger(\"extras\").setLevel(\"INFO\")"
   ]
  },
  {
   "cell_type": "code",
   "execution_count": null,
   "id": "415fffac-0561-4717-84d2-e32c459bbf8e",
   "metadata": {},
   "outputs": [],
   "source": [
    "path_root = upath.UPath(\"gs://liulab/differential_composition_and_expression/20230317_06h00m45s\")\n",
    "# print(extras.get_parquet_paths(path_root))\n",
    "# !gsutil ls \"{path_root}/*\""
   ]
  },
  {
   "cell_type": "code",
   "execution_count": null,
   "id": "364b8efc-4ef0-4847-a6d0-a5b7d13b10a6",
   "metadata": {},
   "outputs": [],
   "source": [
    "df_gene_stats = extras.load_gene_stats(path_root)"
   ]
  },
  {
   "cell_type": "code",
   "execution_count": null,
   "id": "0724e0a2-127d-45df-80f1-cce9af65e821",
   "metadata": {},
   "outputs": [],
   "source": [
    "df_gene_stats"
   ]
  },
  {
   "cell_type": "markdown",
   "id": "7e68a7b2-0d99-46b2-806c-4b672b16ffc6",
   "metadata": {},
   "source": [
    "## ROC (TPR, FPR)"
   ]
  },
  {
   "cell_type": "code",
   "execution_count": null,
   "id": "f7f8c595-e622-49a9-ac1e-33bbf3230dd8",
   "metadata": {},
   "outputs": [],
   "source": [
    "import seaborn as sns\n",
    "\n",
    "\n",
    "cm = sns.light_palette(\"green\", as_cmap=True)\n",
    "\n",
    "\n",
    "def mean_and_stddev(series: pd.Series):\n",
    "    mean = series.mean()\n",
    "    stddev = series.std()\n",
    "    return f\"{mean:4.2f}±{stddev:4.2f}\""
   ]
  },
  {
   "cell_type": "code",
   "execution_count": null,
   "id": "ef807749-8742-4304-8b58-50d1d3f5b0a3",
   "metadata": {},
   "outputs": [],
   "source": [
    "df = df_gene_stats.xs(\"malignant_cibersortx\", level=\"origin\", drop_level=False)\n",
    "print(df.groupby([\"origin\", \"run_id\"]).size())"
   ]
  },
  {
   "cell_type": "code",
   "execution_count": null,
   "id": "390f1df7-f554-46e6-a42a-02e0f576eb45",
   "metadata": {},
   "outputs": [],
   "source": [
    "df_roc_curves, df_roc_auc_scores = extras.calculate_roc(df)"
   ]
  },
  {
   "cell_type": "code",
   "execution_count": null,
   "id": "05b18fef",
   "metadata": {},
   "outputs": [],
   "source": [
    "(\n",
    "    df_roc_auc_scores.groupby([\"malignant_means\", \"log2_fc\"])\n",
    "    # .agg(func=mean_and_stddev)\n",
    "    .mean().unstack(\"log2_fc\")\n",
    ").style.background_gradient(cmap=cm)"
   ]
  },
  {
   "cell_type": "code",
   "execution_count": null,
   "id": "edd244fd",
   "metadata": {},
   "outputs": [],
   "source": [
    "(\n",
    "    df_roc_auc_scores.groupby([\"malignant_means\", \"log2_fc\"])\n",
    "    .agg(func=mean_and_stddev)\n",
    "    .unstack(\"log2_fc\")\n",
    ").style.background_gradient(cmap=cm)"
   ]
  },
  {
   "cell_type": "code",
   "execution_count": null,
   "id": "08cd4864-ecf0-44ca-b7e5-7db7a53301f7",
   "metadata": {},
   "outputs": [],
   "source": [
    "fig = extras.plot_roc(df_roc_curves)"
   ]
  },
  {
   "cell_type": "code",
   "execution_count": null,
   "id": "375ee91d-d1ea-4479-bb4f-9144c2dd22d7",
   "metadata": {},
   "outputs": [],
   "source": [
    "fig.update_layout(width=1200, height=1200)\n",
    "fig.show(renderer=\"png\", scale=2)"
   ]
  },
  {
   "cell_type": "code",
   "execution_count": null,
   "id": "931b8ac1-2652-4b91-b785-c001001de4f8",
   "metadata": {},
   "outputs": [],
   "source": []
  }
 ],
 "metadata": {
  "environment": {
   "kernel": "deconv",
   "name": "jax-gpu.0-3-14.m96",
   "type": "gcloud",
   "uri": "gcr.io/deeplearning-platform-release/jax-gpu.0-3-14:m96"
  },
  "kernelspec": {
   "display_name": "deconv",
   "language": "python",
   "name": "deconv"
  },
  "language_info": {
   "codemirror_mode": {
    "name": "ipython",
    "version": 3
   },
   "file_extension": ".py",
   "mimetype": "text/x-python",
   "name": "python",
   "nbconvert_exporter": "python",
   "pygments_lexer": "ipython3",
   "version": "3.11.0"
  }
 },
 "nbformat": 4,
 "nbformat_minor": 5
}
