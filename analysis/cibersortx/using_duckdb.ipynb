{
 "cells": [
  {
   "cell_type": "markdown",
   "id": "805d75d8-38dd-49ce-baa6-edb9c3919443",
   "metadata": {},
   "source": [
    "# using duckdb"
   ]
  },
  {
   "cell_type": "code",
   "execution_count": 1,
   "id": "502cb215",
   "metadata": {},
   "outputs": [],
   "source": [
    "import upath\n",
    "\n",
    "import duckdb\n",
    "import gcsfs\n",
    "import pyarrow as pa\n",
    "import pyarrow.dataset as ds"
   ]
  },
  {
   "cell_type": "code",
   "execution_count": 2,
   "id": "d0478f4d-51e7-4e43-9e7b-9db1f4d36358",
   "metadata": {},
   "outputs": [],
   "source": [
    "path_root = upath.UPath(\"gs://liulab/differential_composition_and_expression/20230310_21h01m15s\")"
   ]
  },
  {
   "cell_type": "markdown",
   "id": "8474efce",
   "metadata": {},
   "source": [
    "## make pyarrow table"
   ]
  },
  {
   "cell_type": "code",
   "execution_count": 13,
   "id": "a24ea0ac",
   "metadata": {},
   "outputs": [],
   "source": [
    "paths = list(path_root.glob(\"**/gene_stats_*.parquet\"))\n",
    "dataset = ds.dataset(\n",
    "    paths,\n",
    "    format=\"parquet\",\n",
    "    filesystem=gcsfs.GCSFileSystem(),\n",
    "    partitioning=\"hive\",\n",
    ")"
   ]
  },
  {
   "cell_type": "code",
   "execution_count": 11,
   "id": "174d74c5",
   "metadata": {},
   "outputs": [],
   "source": [
    "# works, no filename\n",
    "table_gene_stats = dataset.head(100)"
   ]
  },
  {
   "cell_type": "code",
   "execution_count": 34,
   "id": "2e606c20",
   "metadata": {},
   "outputs": [],
   "source": [
    "# doesn't work\n",
    "columns = dataset.schema.names + [\"__filename\"]  # [\"__last_in_fragment\"]\n",
    "scanner = dataset.scanner(columns=columns)\n",
    "table_gene_stats = scanner.head(100)"
   ]
  },
  {
   "cell_type": "code",
   "execution_count": 33,
   "id": "244f9023",
   "metadata": {},
   "outputs": [
    {
     "ename": "ArrowInvalid",
     "evalue": "No match for FieldRef.Name(__filename) in gene_symbol: string\npval: double\nfold_change: double\nsparsity_overall: double\n-log10_pval: double\nlog2_fold_change: double\n-log10_pval_signed: double\nsignificant_bh_fdr=0.10: bool\nsignificant_bh_fdr=0.25: bool\nperturbed: bool\nexperiment_id: int32\nmalignant_means: string\nlog2_fc: string\nrun_id: int32",
     "output_type": "error",
     "traceback": [
      "\u001b[0;31m---------------------------------------------------------------------------\u001b[0m",
      "\u001b[0;31mArrowInvalid\u001b[0m                              Traceback (most recent call last)",
      "Cell \u001b[0;32mIn[33], line 3\u001b[0m\n\u001b[1;32m      1\u001b[0m columns \u001b[39m=\u001b[39m \u001b[39mdict\u001b[39m(\u001b[39mmap\u001b[39m(\u001b[39mlambda\u001b[39;00m x: (x, ds\u001b[39m.\u001b[39mfield(x)), dataset\u001b[39m.\u001b[39mschema\u001b[39m.\u001b[39mnames))\n\u001b[1;32m      2\u001b[0m columns[\u001b[39m\"\u001b[39m\u001b[39mfilename\u001b[39m\u001b[39m\"\u001b[39m] \u001b[39m=\u001b[39m ds\u001b[39m.\u001b[39mfield(\u001b[39m\"\u001b[39m\u001b[39m__filename\u001b[39m\u001b[39m\"\u001b[39m)\n\u001b[0;32m----> 3\u001b[0m scanner \u001b[39m=\u001b[39m dataset\u001b[39m.\u001b[39;49mscanner(columns\u001b[39m=\u001b[39;49mcolumns)\n\u001b[1;32m      4\u001b[0m \u001b[39m# table_gene_stats = scanner.head(100)\u001b[39;00m\n",
      "File \u001b[0;32m/opt/conda/envs/deconv/lib/python3.11/site-packages/pyarrow/_dataset.pyx:336\u001b[0m, in \u001b[0;36mpyarrow._dataset.Dataset.scanner\u001b[0;34m()\u001b[0m\n",
      "File \u001b[0;32m/opt/conda/envs/deconv/lib/python3.11/site-packages/pyarrow/_dataset.pyx:2576\u001b[0m, in \u001b[0;36mpyarrow._dataset.Scanner.from_dataset\u001b[0;34m()\u001b[0m\n",
      "File \u001b[0;32m/opt/conda/envs/deconv/lib/python3.11/site-packages/pyarrow/_dataset.pyx:2484\u001b[0m, in \u001b[0;36mpyarrow._dataset.Scanner._make_scan_options\u001b[0;34m()\u001b[0m\n",
      "File \u001b[0;32m/opt/conda/envs/deconv/lib/python3.11/site-packages/pyarrow/_dataset.pyx:2381\u001b[0m, in \u001b[0;36mpyarrow._dataset._populate_builder\u001b[0;34m()\u001b[0m\n",
      "File \u001b[0;32m/opt/conda/envs/deconv/lib/python3.11/site-packages/pyarrow/error.pxi:100\u001b[0m, in \u001b[0;36mpyarrow.lib.check_status\u001b[0;34m()\u001b[0m\n",
      "\u001b[0;31mArrowInvalid\u001b[0m: No match for FieldRef.Name(__filename) in gene_symbol: string\npval: double\nfold_change: double\nsparsity_overall: double\n-log10_pval: double\nlog2_fold_change: double\n-log10_pval_signed: double\nsignificant_bh_fdr=0.10: bool\nsignificant_bh_fdr=0.25: bool\nperturbed: bool\nexperiment_id: int32\nmalignant_means: string\nlog2_fc: string\nrun_id: int32"
     ]
    }
   ],
   "source": [
    "columns = dict(map(lambda x: (x, ds.field(x)), dataset.schema.names))\n",
    "columns[\"filename\"] = ds.field(\"__filename\")\n",
    "scanner = dataset.scanner(columns=columns)\n",
    "# table_gene_stats = scanner.head(100)"
   ]
  },
  {
   "cell_type": "code",
   "execution_count": 29,
   "id": "484666fb",
   "metadata": {},
   "outputs": [],
   "source": [
    "new_columns = table_gene_stats.column_names\n",
    "new_columns[-1] = \"filename\"\n",
    "table_gene_stats = table_gene_stats.rename_columns(new_columns)"
   ]
  },
  {
   "cell_type": "code",
   "execution_count": 5,
   "id": "1d05ec9c",
   "metadata": {},
   "outputs": [
    {
     "data": {
      "text/plain": [
       "pyarrow.Table\n",
       "gene_symbol: string\n",
       "__filename: string\n",
       "----\n",
       "gene_symbol: [[\"A1BG\",\"A2M\",\"A2ML1\",\"A4GALT\",\"A4GNT\",...,\"ABTB2\",\"ACAA1\",\"ACAA2\",\"ACACA\",\"ACACB\"]]\n",
       "__filename: [[\"gs://liulab/differential_composition_and_expression/20230310_21h01m15s/experiment_id=000/malignant_means=0.55,0.85/log2_fc=-1.50/run_id=00/deg_analysis/gene_stats_bulk.parquet\",\"gs://liulab/differential_composition_and_expression/20230310_21h01m15s/experiment_id=000/malignant_means=0.55,0.85/log2_fc=-1.50/run_id=00/deg_analysis/gene_stats_bulk.parquet\",\"gs://liulab/differential_composition_and_expression/20230310_21h01m15s/experiment_id=000/malignant_means=0.55,0.85/log2_fc=-1.50/run_id=00/deg_analysis/gene_stats_bulk.parquet\",\"gs://liulab/differential_composition_and_expression/20230310_21h01m15s/experiment_id=000/malignant_means=0.55,0.85/log2_fc=-1.50/run_id=00/deg_analysis/gene_stats_bulk.parquet\",\"gs://liulab/differential_composition_and_expression/20230310_21h01m15s/experiment_id=000/malignant_means=0.55,0.85/log2_fc=-1.50/run_id=00/deg_analysis/gene_stats_bulk.parquet\",...,\"gs://liulab/differential_composition_and_expression/20230310_21h01m15s/experiment_id=000/malignant_means=0.55,0.85/log2_fc=-1.50/run_id=00/deg_analysis/gene_stats_bulk.parquet\",\"gs://liulab/differential_composition_and_expression/20230310_21h01m15s/experiment_id=000/malignant_means=0.55,0.85/log2_fc=-1.50/run_id=00/deg_analysis/gene_stats_bulk.parquet\",\"gs://liulab/differential_composition_and_expression/20230310_21h01m15s/experiment_id=000/malignant_means=0.55,0.85/log2_fc=-1.50/run_id=00/deg_analysis/gene_stats_bulk.parquet\",\"gs://liulab/differential_composition_and_expression/20230310_21h01m15s/experiment_id=000/malignant_means=0.55,0.85/log2_fc=-1.50/run_id=00/deg_analysis/gene_stats_bulk.parquet\",\"gs://liulab/differential_composition_and_expression/20230310_21h01m15s/experiment_id=000/malignant_means=0.55,0.85/log2_fc=-1.50/run_id=00/deg_analysis/gene_stats_bulk.parquet\"]]"
      ]
     },
     "execution_count": 5,
     "metadata": {},
     "output_type": "execute_result"
    }
   ],
   "source": [
    "table_gene_stats2 = table_gene_stats.select([\"gene_symbol\", \"__filename\"])\n",
    "table_gene_stats2"
   ]
  },
  {
   "cell_type": "markdown",
   "id": "e1758b49",
   "metadata": {},
   "source": [
    "## use duckdb"
   ]
  },
  {
   "cell_type": "markdown",
   "id": "1114c525",
   "metadata": {},
   "source": [
    "### using \"db\" api"
   ]
  },
  {
   "cell_type": "code",
   "execution_count": 5,
   "id": "7af29672",
   "metadata": {},
   "outputs": [
    {
     "name": "stdout",
     "output_type": "stream",
     "text": [
      "Linux-4.19.0-23-cloud-amd64-x86_64-with-glibc2.28\n",
      "Python 3.11.0 | packaged by conda-forge | (main, Jan 14 2023, 12:27:40) [GCC 11.3.0]\n",
      "pyarrow 11.0.0\n"
     ]
    }
   ],
   "source": [
    "import pyarrow as pa\n",
    "\n",
    "pa.__version__\n",
    "\n",
    "# print OS and Python version and pyarrow version\n",
    "import platform\n",
    "import sys\n",
    "\n",
    "print(platform.platform())\n",
    "print(\"Python\", sys.version)\n",
    "print(\"pyarrow\", pa.__version__)"
   ]
  },
  {
   "cell_type": "code",
   "execution_count": 30,
   "id": "4eb2a75f",
   "metadata": {},
   "outputs": [],
   "source": [
    "# connect to an in-memory database\n",
    "con = duckdb.connect()"
   ]
  },
  {
   "cell_type": "code",
   "execution_count": 35,
   "id": "7946e49f",
   "metadata": {},
   "outputs": [
    {
     "data": {
      "text/plain": [
       "[(1,)]"
      ]
     },
     "execution_count": 35,
     "metadata": {},
     "output_type": "execute_result"
    }
   ],
   "source": [
    "con.query(\"select 1\").fetchall()"
   ]
  },
  {
   "cell_type": "code",
   "execution_count": null,
   "id": "df27ef5b",
   "metadata": {},
   "outputs": [
    {
     "ename": "",
     "evalue": "",
     "output_type": "error",
     "traceback": [
      "\u001b[1;31mCanceled future for execute_request message before replies were done"
     ]
    },
    {
     "ename": "",
     "evalue": "",
     "output_type": "error",
     "traceback": [
      "\u001b[1;31mThe Kernel crashed while executing code in the the current cell or a previous cell. Please review the code in the cell(s) to identify a possible cause of the failure. Click <a href='https://aka.ms/vscodeJupyterKernelCrash'>here</a> for more info. View Jupyter <a href='command:jupyter.viewOutput'>log</a> for further details."
     ]
    }
   ],
   "source": [
    "con.execute(\"SELECT * FROM table_gene_stats limit 5\").fetch_df()"
   ]
  },
  {
   "cell_type": "code",
   "execution_count": null,
   "id": "0315cf0f",
   "metadata": {},
   "outputs": [],
   "source": [
    "con.execute(\"SELECT __filename FROM table_gene_stats limit 1000\").fetch_df()"
   ]
  },
  {
   "cell_type": "code",
   "execution_count": null,
   "id": "c537b4b7",
   "metadata": {},
   "outputs": [],
   "source": [
    "con.execute(\n",
    "    \"\"\"\n",
    "select\n",
    "    malignant_means,\n",
    "    log2_fc,\n",
    "    run_id,\n",
    "    --origin,\n",
    "    count(*)\n",
    "from table_gene_stats\n",
    "group by 1, 2, 3\n",
    "\"\"\"\n",
    ").fetch_df()"
   ]
  },
  {
   "cell_type": "code",
   "execution_count": null,
   "id": "fad6a222",
   "metadata": {},
   "outputs": [],
   "source": [
    "con.execute(\"SELECT * FROM table_gene_stats limit 1000\").fetch_df()"
   ]
  },
  {
   "cell_type": "markdown",
   "id": "bbf3cb68",
   "metadata": {},
   "source": [
    "### using \"relational\" API"
   ]
  },
  {
   "cell_type": "code",
   "execution_count": null,
   "id": "1628a8e5",
   "metadata": {},
   "outputs": [],
   "source": [
    "rel_from_arrow = duckdb.arrow(table_gene_stats)"
   ]
  },
  {
   "cell_type": "code",
   "execution_count": null,
   "id": "b501f569",
   "metadata": {},
   "outputs": [],
   "source": [
    "rel_from_arrow.query(\"table_gene_stats\", \"SELECT * FROM table_gene_stats LIMIT 100\").df()"
   ]
  }
 ],
 "metadata": {
  "environment": {
   "kernel": "python3",
   "name": "jax-gpu.0-3-14.m96",
   "type": "gcloud",
   "uri": "gcr.io/deeplearning-platform-release/jax-gpu.0-3-14:m96"
  },
  "kernelspec": {
   "display_name": "Python 3",
   "language": "python",
   "name": "python3"
  },
  "language_info": {
   "codemirror_mode": {
    "name": "ipython",
    "version": 3
   },
   "file_extension": ".py",
   "mimetype": "text/x-python",
   "name": "python",
   "nbconvert_exporter": "python",
   "pygments_lexer": "ipython3",
   "version": "3.7.12"
  }
 },
 "nbformat": 4,
 "nbformat_minor": 5
}
