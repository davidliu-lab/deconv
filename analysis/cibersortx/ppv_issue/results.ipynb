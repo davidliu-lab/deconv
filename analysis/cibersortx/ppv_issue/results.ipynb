{
 "cells": [
  {
   "attachments": {},
   "cell_type": "markdown",
   "metadata": {},
   "source": [
    "# results"
   ]
  },
  {
   "cell_type": "code",
   "execution_count": null,
   "metadata": {},
   "outputs": [],
   "source": [
    "import logging\n",
    "import helpers\n",
    "\n",
    "logging.basicConfig(format=helpers.logging.format_string)\n",
    "logger = logging.getLogger(__name__)\n",
    "logger.setLevel(\"DEBUG\")\n",
    "logging.getLogger(\"helpers.deg_analysis\").setLevel(\"DEBUG\")\n",
    "\n",
    "%load_ext autoreload\n",
    "%autoreload 2\n",
    "\n",
    "# %load_ext sql  # is always already loaded somehow\n",
    "%sql duckdb:///:default:\n",
    "%config SqlMagic.autopandas = True"
   ]
  },
  {
   "cell_type": "code",
   "execution_count": null,
   "metadata": {},
   "outputs": [],
   "source": [
    "from helpers.running_cibersortx.loading_results import get_arrow_dataset_for_deg_analysis_results\n",
    "\n",
    "gene_stats = get_arrow_dataset_for_deg_analysis_results(\n",
    "    \"gs://liulab/differential_composition_and_expression/copied/20230505_21h41m44s/deg_analysis/\"\n",
    ")"
   ]
  },
  {
   "cell_type": "code",
   "execution_count": null,
   "metadata": {},
   "outputs": [],
   "source": [
    "%%sql df <<\n",
    "SELECT\n",
    "    origin,\n",
    "    malignant_means,\n",
    "    log2_fc,\n",
    "    run_id,\n",
    "    gene_symbol,\n",
    "    perturbed AND log2_fc != 0 AS perturbed,\n",
    "    log2_fold_change,\n",
    "    \"pval\",\n",
    "    \"-log10_pval\",\n",
    "    \"pval_adjusted_bh\",\n",
    "    -1.0 * log10(\"pval_adjusted_bh\") as \"-log10_pval_adjusted_bh\",\n",
    "    \"significant_bh_fdr=0.10\",\n",
    "FROM gene_stats\n",
    "WHERE \n",
    "    origin = 'malignant_cibersortx'\n",
    "    --AND malignant_means = 'None,None'\n",
    "    --AND log2_fc in (-1.50, -1.00)\n",
    "    --AND run_id = 0\n",
    ";"
   ]
  },
  {
   "cell_type": "code",
   "execution_count": null,
   "metadata": {},
   "outputs": [],
   "source": [
    "from helpers.deg_analysis.postprocessing_gene_stats_fields import add_more_pval_fields\n",
    "\n",
    "\n",
    "df = add_more_pval_fields(df)"
   ]
  },
  {
   "cell_type": "code",
   "execution_count": null,
   "metadata": {},
   "outputs": [],
   "source": [
    "from helpers.deg_analysis.computing_classifier_roc_precion_recall import (\n",
    "    compute_all_curves_and_metrics,\n",
    ")\n",
    "from helpers.deg_analysis.plotting_classifier_roc_precion_recall import make_score_table, make_score_table_with_stddev\n",
    "from helpers.deg_analysis.plotting_classifier_roc_precion_recall import plot_metric_by_threshold"
   ]
  },
  {
   "cell_type": "code",
   "execution_count": null,
   "metadata": {},
   "outputs": [],
   "source": [
    "(\n",
    "    df_roc_curves,\n",
    "    df_precision_recall_curves,\n",
    "    df_scores,\n",
    ") = compute_all_curves_and_metrics(df, signed_directional=True)"
   ]
  },
  {
   "cell_type": "code",
   "execution_count": null,
   "metadata": {},
   "outputs": [],
   "source": [
    "make_score_table(df_scores[\"true_pos_count\"])"
   ]
  },
  {
   "cell_type": "code",
   "execution_count": null,
   "metadata": {},
   "outputs": [],
   "source": [
    "make_score_table(df_scores[\"false_pos_count\"])"
   ]
  },
  {
   "cell_type": "code",
   "execution_count": null,
   "metadata": {},
   "outputs": [],
   "source": [
    "make_score_table(df_scores[\"roc_auc\"])"
   ]
  },
  {
   "cell_type": "code",
   "execution_count": null,
   "metadata": {},
   "outputs": [],
   "source": [
    "make_score_table_with_stddev(df_scores[\"roc_auc\"])"
   ]
  },
  {
   "cell_type": "code",
   "execution_count": null,
   "metadata": {},
   "outputs": [],
   "source": [
    "make_score_table(df_scores[\"precision\"])"
   ]
  },
  {
   "cell_type": "code",
   "execution_count": null,
   "metadata": {},
   "outputs": [],
   "source": [
    "make_score_table_with_stddev(df_scores[\"precision\"])"
   ]
  },
  {
   "cell_type": "code",
   "execution_count": null,
   "metadata": {},
   "outputs": [],
   "source": [
    "make_score_table(df_scores[\"recall\"])"
   ]
  },
  {
   "cell_type": "code",
   "execution_count": null,
   "metadata": {},
   "outputs": [],
   "source": []
  },
  {
   "cell_type": "code",
   "execution_count": null,
   "metadata": {},
   "outputs": [],
   "source": [
    "# what's going on at malignant_means = '0.71,0.71'?\n",
    "# why is the precision so low?\n"
   ]
  },
  {
   "cell_type": "code",
   "execution_count": null,
   "metadata": {},
   "outputs": [],
   "source": [
    "fig = plot_metric_by_threshold(\n",
    "    df_precision_recall_curves,\n",
    "    score_column=\"-log10_pval_adjusted_bh_signed_directional\",\n",
    "    metric_column=\"precision\",\n",
    ")\n",
    "fig.update_layout(width=1200, height=1600)\n",
    "fig.show(renderer=\"png\", scale=2)"
   ]
  },
  {
   "cell_type": "code",
   "execution_count": null,
   "metadata": {},
   "outputs": [],
   "source": [
    "from helpers.deg_analysis.plotting_volcanos_v1 import make_volcano_grid_scatter\n",
    "\n",
    "\n",
    "fig = make_volcano_grid_scatter(\n",
    "    df,\n",
    "    groupby_cols=[\"origin\", \"malignant_means\", \"log2_fc\", \"gene_symbol\", \"perturbed\"],\n",
    "    pval_col=\"-log10_pval_adjusted_bh_signed_directional\",\n",
    "    perturbed_col=\"perturbed\",\n",
    ")\n",
    "fig.update_layout(width=1200, height=800)\n",
    "fig.update_yaxes(range=[-50, 50])\n",
    "fig.update_traces(marker_size=5)\n",
    "\n",
    "fig.show(renderer=\"png\", scale=2)"
   ]
  },
  {
   "cell_type": "code",
   "execution_count": null,
   "metadata": {},
   "outputs": [],
   "source": [
    "deg_analysis.plotting_classifier_roc_precion_recall.make_score_table(df_roc_auc_scores)"
   ]
  },
  {
   "cell_type": "code",
   "execution_count": null,
   "metadata": {},
   "outputs": [],
   "source": [
    "import upath\n",
    "from helpers.deg_analysis.computing_classifier_roc_precion_recall import (\n",
    "    calculate_precision_and_recall,\n",
    "    calculate_roc,\n",
    ")\n",
    "from helpers.deg_analysis.plotting_classifier_roc_precion_recall import make_score_table\n",
    "from helpers.deg_analysis.postprocessing_gene_stats_fields import load_gene_stats\n",
    "\n",
    "\n",
    "def compute_from_other():\n",
    "    logger.debug(\"loading gene stats\")\n",
    "    path_root = upath.UPath(\n",
    "        \"gs://liulab/differential_composition_and_expression/20230505_21h41m44s\"\n",
    "    )\n",
    "    df_gene_stats = load_gene_stats(path_root)\n",
    "    logger.debug(\"subsetting to malignant_cibersortx, excluding log2_fc=0.00\")\n",
    "    df = (\n",
    "        df_gene_stats.loc[df_gene_stats.index.get_level_values(\"log2_fc\") != \"0.00\"].xs(\n",
    "            \"malignant_cibersortx\", level=\"origin\", drop_level=False\n",
    "        )\n",
    "        #\n",
    "    )\n",
    "    return df\n",
    "\n",
    "\n",
    "def compute_tables(df):\n",
    "    df_roc_curves, df_roc_auc_scores = calculate_roc(df, score_column)\n",
    "    df_precision_recall_curves, df_precision = calculate_precision_and_recall(df, score_column)\n",
    "    df_table_roc = make_score_table(df_roc_auc_scores)\n",
    "    df_table_precision = make_score_table(df_precision)\n",
    "    return df_table_roc, df_table_precision\n",
    "\n",
    "\n",
    "logging.getLogger(\"helpers.deg_analysis\").setLevel(\"DEBUG\")\n",
    "\n",
    "df_table_roc, df_table_precision = compute_from_other()"
   ]
  },
  {
   "cell_type": "code",
   "execution_count": null,
   "metadata": {},
   "outputs": [],
   "source": [
    "df_table_roc"
   ]
  }
 ],
 "metadata": {
  "kernelspec": {
   "display_name": "deconv",
   "language": "python",
   "name": "deconv"
  },
  "language_info": {
   "codemirror_mode": {
    "name": "ipython",
    "version": 3
   },
   "file_extension": ".py",
   "mimetype": "text/x-python",
   "name": "python",
   "nbconvert_exporter": "python",
   "pygments_lexer": "ipython3",
   "version": "3.11.3"
  },
  "orig_nbformat": 4
 },
 "nbformat": 4,
 "nbformat_minor": 2
}
