{
 "cells": [
  {
   "cell_type": "markdown",
   "id": "22ed2626-78f0-46bc-85e1-3536426400fb",
   "metadata": {},
   "source": [
    "# Perturbing cell type composition"
   ]
  },
  {
   "cell_type": "code",
   "execution_count": null,
   "id": "88e7f7d1-2b09-41d4-b9cb-0743cb60f568",
   "metadata": {},
   "outputs": [],
   "source": [
    "import importlib\n",
    "import logging\n",
    "\n",
    "import dask.dataframe as dd\n",
    "import helpers\n",
    "import numpy as np\n",
    "import pandas as pd\n",
    "import plotly.express as px\n",
    "import plotly.graph_objects as go\n",
    "from plotly.subplots import make_subplots\n",
    "from upath import UPath"
   ]
  },
  {
   "cell_type": "code",
   "execution_count": null,
   "id": "8d23a291-0460-401b-b513-5c3748c127c9",
   "metadata": {},
   "outputs": [],
   "source": [
    "import plotly.io as pio\n",
    "\n",
    "pio.renderers[\"png\"].scale = 5\n",
    "\n",
    "pio.renderers.default += \"+png\""
   ]
  },
  {
   "cell_type": "code",
   "execution_count": null,
   "id": "fe21f0fd-a94b-4a2b-8484-b49a59afa3b3",
   "metadata": {},
   "outputs": [],
   "source": [
    "helpers.logging.configure_logging()\n",
    "logging.getLogger(\"helpers\").setLevel(\"DEBUG\")\n",
    "logger = logging.getLogger(__name__)\n",
    "logger.setLevel(\"DEBUG\")\n",
    "logger.debug(\"test\")"
   ]
  },
  {
   "cell_type": "code",
   "execution_count": null,
   "id": "373dc5b4-dcc3-4e0d-8746-a5dd1f0a5fb1",
   "metadata": {},
   "outputs": [],
   "source": [
    "path_root = UPath(\"gs://liulab/differential_composition\") / \"20230120_04h22m54s\"\n",
    "# 20221208_14h18m38s last week\n",
    "# 20221215_05h09m48s like last week but with more 0 perturbation experiments\n",
    "# 20221215_05h06m59s recreation of last week, showed a significantly different perturbation=0\n",
    "# 20221215_04h42m35s with N = 1000\n",
    "# 20221215_06h29m44s a few experiments per perturbation\n",
    "# 20230120_04h22m54s better fraction perturbation and sampling"
   ]
  },
  {
   "cell_type": "code",
   "execution_count": null,
   "id": "1cbb6438-71ae-423f-b857-6a8bc5580230",
   "metadata": {},
   "outputs": [],
   "source": [
    "!gsutil ls {path_root}"
   ]
  },
  {
   "cell_type": "markdown",
   "id": "ddff9b29-fc03-4e3e-89b5-951df2e571ee",
   "metadata": {},
   "source": [
    "## check fractions"
   ]
  },
  {
   "cell_type": "code",
   "execution_count": null,
   "id": "eca04eb8-ff97-4528-a3e2-a6921d438cd8",
   "metadata": {},
   "outputs": [],
   "source": [
    "df_fractions = dd.read_parquet(path_root / \"**\" / \"fractions.parquet\").compute()\n",
    "df_fractions[[\"group_id\", \"sample_id\"]] = (\n",
    "    df_fractions.index.get_level_values(\"sample_id\").str.split(\"/\", expand=True).tolist()\n",
    ")\n",
    "process_row = lambda row: row[\"malignant_means\"].split(\",\")[0 if row[\"group_id\"] == \"low\" else 1]\n",
    "df_fractions[\"malignant_mean_value\"] = df_fractions.apply(process_row, axis=1)\n",
    "df_fractions = df_fractions.set_index([\"malignant_means\", \"group_id\", \"malignant_mean_value\", \"sample_id\", \"run_id\"])"
   ]
  },
  {
   "cell_type": "markdown",
   "id": "21063ef3-a1f1-49ba-8997-7d361d890eb2",
   "metadata": {},
   "source": [
    "### dist plot of fractions per experiment"
   ]
  },
  {
   "cell_type": "code",
   "execution_count": null,
   "id": "604eedbd-2079-4cba-989f-70cdc2da6cc0",
   "metadata": {
    "tags": []
   },
   "outputs": [],
   "source": [
    "df = df_fractions.reset_index()\n",
    "# df[\"color\"] = df.apply(lambda row: \"{} - {}\".format(row[\"malignant_means\"], row[\"group_id\"]), axis=1)\n",
    "fig = px.ecdf(\n",
    "    df,\n",
    "    x=\"Malignant\",\n",
    "    color=\"malignant_mean_value\",\n",
    "    title=\"eCDFs of fraction values sampled for different values of mean malignant fraction\",\n",
    ")\n",
    "fig.update_layout(\n",
    "    showlegend=False,\n",
    "    width=900,\n",
    "    height=600,\n",
    ")\n",
    "# fig.show(renderer=\"png\", width=1000)\n",
    "fig.show(renderer=\"jpg\")"
   ]
  },
  {
   "cell_type": "code",
   "execution_count": null,
   "id": "7bc57519-0be8-401f-829e-b2d45e6c5b2c",
   "metadata": {},
   "outputs": [],
   "source": [
    "df = df_fractions.reset_index()\n",
    "df = df.astype({\"run_id\": int})\n",
    "df = df.query(\"run_id < 5\")\n",
    "df.sort_values([\"malignant_means\"], ascending=False, inplace=True)\n",
    "fig = px.box(\n",
    "    df,\n",
    "    x=\"Malignant\",\n",
    "    facet_col=\"malignant_means\",\n",
    "    facet_row=\"run_id\",\n",
    "    color=\"group_id\",\n",
    "    labels={\"Malignant\": \"Malignant fraction\"},\n",
    ")\n",
    "fig.for_each_annotation(\n",
    "    lambda a: a.update(text=a.text.split(\"=\")[-1])\n",
    ")  # https://github.com/plotly/plotly_express/issues/36#issuecomment-589718357\n",
    "fig.update_layout(showlegend=False)\n",
    "fig.update_layout(width=1000, height=500, title=\"Columns are different experiments, rows are independent runs\")\n",
    "fig.show(config=plotly_config)"
   ]
  },
  {
   "cell_type": "markdown",
   "id": "0efad492-755f-4f72-8e6c-bf2be057bd77",
   "metadata": {},
   "source": [
    "### what are fraction means for each group and experiment?"
   ]
  },
  {
   "cell_type": "code",
   "execution_count": null,
   "id": "3e93ac80-0453-4886-9f30-fd5be067ddd2",
   "metadata": {},
   "outputs": [],
   "source": [
    "fig = px.box(\n",
    "    df.reset_index(),\n",
    "    x=\"Malignant\",\n",
    "    facet_col=\"perturbation\",\n",
    "    facet_row=\"simulation\",\n",
    "    color=\"treatment\",\n",
    "    labels={\"Malignant\": \"Malignant fraction\"},\n",
    ")\n",
    "fig.update_layout(\n",
    "    width=1500,\n",
    "    height=600,\n",
    "    title=\"Columns are different perturbations, rows are independent runs\",\n",
    ")"
   ]
  },
  {
   "cell_type": "markdown",
   "id": "b557eddc-899d-4bfb-9f23-572bdb7fd164",
   "metadata": {},
   "source": [
    "## volcano plots from run_id=00\n",
    "\n",
    "- for bulk RNA-seq\n",
    "- for inferred malignant-specific RNA-seq"
   ]
  },
  {
   "cell_type": "code",
   "execution_count": null,
   "id": "0f6948e7-2e11-445f-8708-09824e9fc9f7",
   "metadata": {},
   "outputs": [],
   "source": [
    "importlib.reload(helpers.deg_analysis)\n",
    "\n",
    "from helpers.deg_analysis import add_fdr_lines, make_volcano_facets\n",
    "\n",
    "fig = make_volcano_facets(all_dge_results, horizontal=True)\n",
    "fig = add_fdr_lines(fig, all_dge_results, horizontal=True)\n",
    "# fig.update_layout(title=title, height=1200)\n",
    "fig.update_layout(height=700, width=1000)"
   ]
  },
  {
   "cell_type": "code",
   "execution_count": null,
   "id": "374b172b-1f06-497d-8940-922e87b1e08a",
   "metadata": {},
   "outputs": [],
   "source": [
    "importlib.reload(helpers.running_cibersortx.reading_output_files)\n",
    "\n",
    "from helpers.running_cibersortx.reading_output_files import read_hires_cell_type_gep\n",
    "\n",
    "experiment_paths = list(path_root.glob(\"run_id=00/malignant_means=*\"))\n",
    "experiment_paths"
   ]
  },
  {
   "cell_type": "code",
   "execution_count": null,
   "id": "f904fc8c-5e3b-49f3-8785-ab3218fa9dc1",
   "metadata": {},
   "outputs": [],
   "source": [
    "key_names = [\"experiment_name\", \"data_origin\"]\n",
    "\n",
    "experiments_data = dict()\n",
    "\n",
    "for path in experiment_paths:\n",
    "    experiments_data[(path.name, \"bulk RNA-seq\")] = pd.read_parquet(path / \"deg_analysis/gene_stats_bulk.parquet\")\n",
    "    experiments_data[(path.name, \"malignant cells (cibersortx)\")] = pd.read_parquet(\n",
    "        path / \"deg_analysis/gene_stats_malignant_cibersortx.parquet\"\n",
    "    )\n",
    "\n",
    "all_dge_results = pd.concat(experiments_data, names=key_names).reset_index(key_names).reset_index(drop=True)\n",
    "\n",
    "all_dge_results"
   ]
  },
  {
   "cell_type": "markdown",
   "id": "ae02d653-12fc-4020-8a6f-de33714355c2",
   "metadata": {},
   "source": [
    "## plot of false positives"
   ]
  },
  {
   "cell_type": "markdown",
   "id": "3ddc3eea-af6e-4791-b5e1-fb6bdc01b635",
   "metadata": {},
   "source": [
    "## plot of p-values"
   ]
  },
  {
   "cell_type": "code",
   "execution_count": null,
   "id": "588035a5-fdc6-438a-9b01-854e617c0c93",
   "metadata": {},
   "outputs": [],
   "source": []
  }
 ],
 "metadata": {
  "environment": {
   "kernel": "deconv",
   "name": "common-cpu.m91",
   "type": "gcloud",
   "uri": "gcr.io/deeplearning-platform-release/base-cpu:m91"
  },
  "kernelspec": {
   "display_name": "deconv",
   "language": "python",
   "name": "deconv"
  },
  "language_info": {
   "codemirror_mode": {
    "name": "ipython",
    "version": 3
   },
   "file_extension": ".py",
   "mimetype": "text/x-python",
   "name": "python",
   "nbconvert_exporter": "python",
   "pygments_lexer": "ipython3",
   "version": "3.10.6"
  },
  "toc-autonumbering": false,
  "toc-showmarkdowntxt": false
 },
 "nbformat": 4,
 "nbformat_minor": 5
}
