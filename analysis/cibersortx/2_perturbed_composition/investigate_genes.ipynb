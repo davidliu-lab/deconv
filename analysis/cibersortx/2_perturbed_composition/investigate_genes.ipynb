{
 "cells": [
  {
   "cell_type": "markdown",
   "metadata": {},
   "source": [
    "# checking individual genes"
   ]
  },
  {
   "cell_type": "code",
   "execution_count": 1,
   "metadata": {},
   "outputs": [],
   "source": [
    "import helpers\n",
    "import numpy as np\n",
    "import pandas as pd"
   ]
  },
  {
   "cell_type": "code",
   "execution_count": 2,
   "metadata": {},
   "outputs": [],
   "source": [
    "df_sc_rnaseq, df_sc_metadata = helpers.datasets.load_jerby_arnon_hg19_tpm()"
   ]
  },
  {
   "cell_type": "code",
   "execution_count": 3,
   "metadata": {},
   "outputs": [],
   "source": [
    "import upath"
   ]
  },
  {
   "cell_type": "code",
   "execution_count": 5,
   "metadata": {},
   "outputs": [
    {
     "data": {
      "text/html": [
       "<div>\n",
       "<style scoped>\n",
       "    .dataframe tbody tr th:only-of-type {\n",
       "        vertical-align: middle;\n",
       "    }\n",
       "\n",
       "    .dataframe tbody tr th {\n",
       "        vertical-align: top;\n",
       "    }\n",
       "\n",
       "    .dataframe thead th {\n",
       "        text-align: right;\n",
       "    }\n",
       "</style>\n",
       "<table border=\"1\" class=\"dataframe\">\n",
       "  <thead>\n",
       "    <tr style=\"text-align: right;\">\n",
       "      <th>cell_group</th>\n",
       "      <th>malignant</th>\n",
       "      <th>other</th>\n",
       "      <th>malignant_ratio</th>\n",
       "    </tr>\n",
       "  </thead>\n",
       "  <tbody>\n",
       "    <tr>\n",
       "      <th>MIR3186</th>\n",
       "      <td>0.001562</td>\n",
       "      <td>0.0</td>\n",
       "      <td>inf</td>\n",
       "    </tr>\n",
       "    <tr>\n",
       "      <th>MIR4789</th>\n",
       "      <td>0.001308</td>\n",
       "      <td>0.0</td>\n",
       "      <td>inf</td>\n",
       "    </tr>\n",
       "    <tr>\n",
       "      <th>C5orf46</th>\n",
       "      <td>0.002975</td>\n",
       "      <td>0.0</td>\n",
       "      <td>inf</td>\n",
       "    </tr>\n",
       "    <tr>\n",
       "      <th>TMEM114</th>\n",
       "      <td>0.001075</td>\n",
       "      <td>0.0</td>\n",
       "      <td>inf</td>\n",
       "    </tr>\n",
       "    <tr>\n",
       "      <th>MAGEA9B</th>\n",
       "      <td>0.002778</td>\n",
       "      <td>0.0</td>\n",
       "      <td>inf</td>\n",
       "    </tr>\n",
       "    <tr>\n",
       "      <th>...</th>\n",
       "      <td>...</td>\n",
       "      <td>...</td>\n",
       "      <td>...</td>\n",
       "    </tr>\n",
       "    <tr>\n",
       "      <th>SPANXN1</th>\n",
       "      <td>0.000000</td>\n",
       "      <td>0.0</td>\n",
       "      <td>NaN</td>\n",
       "    </tr>\n",
       "    <tr>\n",
       "      <th>SPANXN5</th>\n",
       "      <td>0.000000</td>\n",
       "      <td>0.0</td>\n",
       "      <td>NaN</td>\n",
       "    </tr>\n",
       "    <tr>\n",
       "      <th>SPINK14</th>\n",
       "      <td>0.000000</td>\n",
       "      <td>0.0</td>\n",
       "      <td>NaN</td>\n",
       "    </tr>\n",
       "    <tr>\n",
       "      <th>TMEM88B</th>\n",
       "      <td>0.000000</td>\n",
       "      <td>0.0</td>\n",
       "      <td>NaN</td>\n",
       "    </tr>\n",
       "    <tr>\n",
       "      <th>TTTY1B</th>\n",
       "      <td>0.000000</td>\n",
       "      <td>0.0</td>\n",
       "      <td>NaN</td>\n",
       "    </tr>\n",
       "  </tbody>\n",
       "</table>\n",
       "<p>23686 rows × 3 columns</p>\n",
       "</div>"
      ],
      "text/plain": [
       "cell_group  malignant  other  malignant_ratio\n",
       "MIR3186      0.001562    0.0              inf\n",
       "MIR4789      0.001308    0.0              inf\n",
       "C5orf46      0.002975    0.0              inf\n",
       "TMEM114      0.001075    0.0              inf\n",
       "MAGEA9B      0.002778    0.0              inf\n",
       "...               ...    ...              ...\n",
       "SPANXN1      0.000000    0.0              NaN\n",
       "SPANXN5      0.000000    0.0              NaN\n",
       "SPINK14      0.000000    0.0              NaN\n",
       "TMEM88B      0.000000    0.0              NaN\n",
       "TTTY1B       0.000000    0.0              NaN\n",
       "\n",
       "[23686 rows x 3 columns]"
      ]
     },
     "execution_count": 5,
     "metadata": {},
     "output_type": "execute_result"
    }
   ],
   "source": [
    "def compute_gene_ratios(df_sc_rnaseq: pd.DataFrame, df_sc_metadata: pd.DataFrame):\n",
    "    df = df_sc_metadata\n",
    "    # drop cells with missing cell_type\n",
    "    df = df.dropna(subset=[\"cell_type\"])\n",
    "    # drop cells with cell_type \"CAF\" or \"Endothelial\"\n",
    "    df = df[~df[\"cell_type\"].isin([\"CAF\", \"Endothelial\"])]\n",
    "    # add a string column with value \"malignant\" if cell type is \"Malignant\" or \"other\" otherwise\n",
    "    df = df.assign(cell_group=df[\"cell_type\"].map(lambda x: \"malignant\" if x == \"Malignant\" else \"other\"))\n",
    "\n",
    "    # add gene expression for each single_cell_id\n",
    "    df = df[[\"cell_group\"]].merge(df_sc_rnaseq.T, left_index=True, right_index=True)\n",
    "    df = df.groupby(\"cell_group\").mean().T\n",
    "    df = df.assign(malignant_ratio=df[\"malignant\"] / df[\"other\"])\n",
    "    df = df.sort_values(\"malignant_ratio\", ascending=False)\n",
    "    # .join(df_sc_rnaseq.stack(), on=\"single_cell_id\", how=\"left\", validate=\"many_to_one\")\n",
    "\n",
    "    return df\n",
    "\n",
    "\n",
    "compute_gene_ratios(\n",
    "    df_sc_rnaseq=df_sc_rnaseq,\n",
    "    df_sc_metadata=df_sc_metadata,\n",
    ")"
   ]
  },
  {
   "cell_type": "code",
   "execution_count": null,
   "metadata": {},
   "outputs": [],
   "source": [
    "def make_scatter_plot_of_gene_false_positive_count_and_malignant_ratio(\n",
    "    df_gene_stats: pd.DataFrame, df_gene_malignant_ratio: pd.Series\n",
    "):\n",
    "    pass"
   ]
  },
  {
   "cell_type": "code",
   "execution_count": null,
   "metadata": {},
   "outputs": [],
   "source": [
    "!gsutil ls gs://liulab/"
   ]
  },
  {
   "cell_type": "code",
   "execution_count": null,
   "metadata": {},
   "outputs": [],
   "source": [
    "# compute ratio of mean expression of each gene in malignant cells vs other cells\n",
    "df_jerby_arnon[\"ratio\"] = df_jerby_arnon[\"malignant\"] / df_jerby_arnon[\"other\"]"
   ]
  },
  {
   "cell_type": "code",
   "execution_count": null,
   "metadata": {},
   "outputs": [],
   "source": [
    "# load jerby-arnon scrna-seq"
   ]
  }
 ],
 "metadata": {
  "environment": {
   "kernel": "deconv",
   "name": "common-cpu.m91",
   "type": "gcloud",
   "uri": "gcr.io/deeplearning-platform-release/base-cpu:m91"
  },
  "kernelspec": {
   "display_name": "deconv",
   "language": "python",
   "name": "deconv"
  },
  "language_info": {
   "codemirror_mode": {
    "name": "ipython",
    "version": 3
   },
   "file_extension": ".py",
   "mimetype": "text/x-python",
   "name": "python",
   "nbconvert_exporter": "python",
   "pygments_lexer": "ipython3",
   "version": "3.10.8"
  }
 },
 "nbformat": 4,
 "nbformat_minor": 4
}
