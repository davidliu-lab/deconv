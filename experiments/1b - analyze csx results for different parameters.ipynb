{
 "cells": [
  {
   "cell_type": "code",
   "execution_count": 1,
   "id": "f9296fbd-b8f6-440b-9c3a-48adac395ab7",
   "metadata": {},
   "outputs": [],
   "source": [
    "import os\n",
    "import tempfile\n",
    "import urllib\n",
    "\n",
    "import pandas as pd\n",
    "\n",
    "from cell_type_naming import nice_to_weirds, weird_to_nice"
   ]
  },
  {
   "cell_type": "code",
   "execution_count": 2,
   "id": "007d580c-a0ab-4dcc-9b5a-82d02e62289a",
   "metadata": {},
   "outputs": [
    {
     "data": {
      "text/html": [
       "<div>\n",
       "<style scoped>\n",
       "    .dataframe tbody tr th:only-of-type {\n",
       "        vertical-align: middle;\n",
       "    }\n",
       "\n",
       "    .dataframe tbody tr th {\n",
       "        vertical-align: top;\n",
       "    }\n",
       "\n",
       "    .dataframe thead th {\n",
       "        text-align: right;\n",
       "    }\n",
       "</style>\n",
       "<table border=\"1\" class=\"dataframe\">\n",
       "  <thead>\n",
       "    <tr style=\"text-align: right;\">\n",
       "      <th></th>\n",
       "      <th>Malignant</th>\n",
       "      <th>Endothelial</th>\n",
       "      <th>CAF</th>\n",
       "      <th>T CD8</th>\n",
       "      <th>NK</th>\n",
       "      <th>Macrophage</th>\n",
       "      <th>T CD4</th>\n",
       "      <th>B</th>\n",
       "    </tr>\n",
       "    <tr>\n",
       "      <th>mixture_id</th>\n",
       "      <th></th>\n",
       "      <th></th>\n",
       "      <th></th>\n",
       "      <th></th>\n",
       "      <th></th>\n",
       "      <th></th>\n",
       "      <th></th>\n",
       "      <th></th>\n",
       "    </tr>\n",
       "  </thead>\n",
       "  <tbody>\n",
       "    <tr>\n",
       "      <th>53</th>\n",
       "      <td>0.1280</td>\n",
       "      <td>0.0880</td>\n",
       "      <td>0.0320</td>\n",
       "      <td>0.2000</td>\n",
       "      <td>0.0800</td>\n",
       "      <td>0.0960</td>\n",
       "      <td>0.3760</td>\n",
       "      <td>0.0000</td>\n",
       "    </tr>\n",
       "    <tr>\n",
       "      <th>58</th>\n",
       "      <td>0.0000</td>\n",
       "      <td>0.0000</td>\n",
       "      <td>0.0000</td>\n",
       "      <td>0.6508</td>\n",
       "      <td>0.0317</td>\n",
       "      <td>0.0159</td>\n",
       "      <td>0.2857</td>\n",
       "      <td>0.0159</td>\n",
       "    </tr>\n",
       "    <tr>\n",
       "      <th>59</th>\n",
       "      <td>0.8710</td>\n",
       "      <td>0.0000</td>\n",
       "      <td>0.1129</td>\n",
       "      <td>0.0000</td>\n",
       "      <td>0.0000</td>\n",
       "      <td>0.0161</td>\n",
       "      <td>0.0000</td>\n",
       "      <td>0.0000</td>\n",
       "    </tr>\n",
       "    <tr>\n",
       "      <th>60</th>\n",
       "      <td>0.0448</td>\n",
       "      <td>0.0000</td>\n",
       "      <td>0.0000</td>\n",
       "      <td>0.1940</td>\n",
       "      <td>0.0498</td>\n",
       "      <td>0.0199</td>\n",
       "      <td>0.2139</td>\n",
       "      <td>0.4776</td>\n",
       "    </tr>\n",
       "    <tr>\n",
       "      <th>65</th>\n",
       "      <td>0.0755</td>\n",
       "      <td>0.0000</td>\n",
       "      <td>0.0000</td>\n",
       "      <td>0.4717</td>\n",
       "      <td>0.0000</td>\n",
       "      <td>0.0189</td>\n",
       "      <td>0.3396</td>\n",
       "      <td>0.0943</td>\n",
       "    </tr>\n",
       "    <tr>\n",
       "      <th>67</th>\n",
       "      <td>0.0000</td>\n",
       "      <td>0.0000</td>\n",
       "      <td>0.0000</td>\n",
       "      <td>0.3059</td>\n",
       "      <td>0.0118</td>\n",
       "      <td>0.0000</td>\n",
       "      <td>0.4588</td>\n",
       "      <td>0.2235</td>\n",
       "    </tr>\n",
       "    <tr>\n",
       "      <th>71</th>\n",
       "      <td>0.6835</td>\n",
       "      <td>0.0000</td>\n",
       "      <td>0.0000</td>\n",
       "      <td>0.1899</td>\n",
       "      <td>0.0000</td>\n",
       "      <td>0.0253</td>\n",
       "      <td>0.1013</td>\n",
       "      <td>0.0000</td>\n",
       "    </tr>\n",
       "    <tr>\n",
       "      <th>72</th>\n",
       "      <td>0.0000</td>\n",
       "      <td>0.0000</td>\n",
       "      <td>0.0000</td>\n",
       "      <td>0.1634</td>\n",
       "      <td>0.0065</td>\n",
       "      <td>0.0000</td>\n",
       "      <td>0.6013</td>\n",
       "      <td>0.2288</td>\n",
       "    </tr>\n",
       "    <tr>\n",
       "      <th>74</th>\n",
       "      <td>0.0000</td>\n",
       "      <td>0.0000</td>\n",
       "      <td>0.0000</td>\n",
       "      <td>0.6496</td>\n",
       "      <td>0.0073</td>\n",
       "      <td>0.0365</td>\n",
       "      <td>0.2117</td>\n",
       "      <td>0.0949</td>\n",
       "    </tr>\n",
       "    <tr>\n",
       "      <th>75</th>\n",
       "      <td>0.0087</td>\n",
       "      <td>0.0000</td>\n",
       "      <td>0.0000</td>\n",
       "      <td>0.9417</td>\n",
       "      <td>0.0000</td>\n",
       "      <td>0.0029</td>\n",
       "      <td>0.0466</td>\n",
       "      <td>0.0000</td>\n",
       "    </tr>\n",
       "    <tr>\n",
       "      <th>78</th>\n",
       "      <td>0.9756</td>\n",
       "      <td>0.0000</td>\n",
       "      <td>0.0081</td>\n",
       "      <td>0.0000</td>\n",
       "      <td>0.0000</td>\n",
       "      <td>0.0000</td>\n",
       "      <td>0.0081</td>\n",
       "      <td>0.0081</td>\n",
       "    </tr>\n",
       "    <tr>\n",
       "      <th>79</th>\n",
       "      <td>0.5474</td>\n",
       "      <td>0.0023</td>\n",
       "      <td>0.0012</td>\n",
       "      <td>0.2795</td>\n",
       "      <td>0.0012</td>\n",
       "      <td>0.0000</td>\n",
       "      <td>0.0760</td>\n",
       "      <td>0.0924</td>\n",
       "    </tr>\n",
       "    <tr>\n",
       "      <th>80</th>\n",
       "      <td>0.2828</td>\n",
       "      <td>0.0656</td>\n",
       "      <td>0.0520</td>\n",
       "      <td>0.1538</td>\n",
       "      <td>0.0090</td>\n",
       "      <td>0.0000</td>\n",
       "      <td>0.3258</td>\n",
       "      <td>0.1109</td>\n",
       "    </tr>\n",
       "    <tr>\n",
       "      <th>81</th>\n",
       "      <td>0.7308</td>\n",
       "      <td>0.0110</td>\n",
       "      <td>0.0000</td>\n",
       "      <td>0.1044</td>\n",
       "      <td>0.0000</td>\n",
       "      <td>0.0000</td>\n",
       "      <td>0.1374</td>\n",
       "      <td>0.0165</td>\n",
       "    </tr>\n",
       "    <tr>\n",
       "      <th>82</th>\n",
       "      <td>0.4638</td>\n",
       "      <td>0.0000</td>\n",
       "      <td>0.0870</td>\n",
       "      <td>0.1304</td>\n",
       "      <td>0.0290</td>\n",
       "      <td>0.0580</td>\n",
       "      <td>0.2174</td>\n",
       "      <td>0.0145</td>\n",
       "    </tr>\n",
       "    <tr>\n",
       "      <th>84</th>\n",
       "      <td>0.1045</td>\n",
       "      <td>0.0075</td>\n",
       "      <td>0.0075</td>\n",
       "      <td>0.1716</td>\n",
       "      <td>0.0522</td>\n",
       "      <td>0.1866</td>\n",
       "      <td>0.2836</td>\n",
       "      <td>0.1866</td>\n",
       "    </tr>\n",
       "    <tr>\n",
       "      <th>88</th>\n",
       "      <td>0.3966</td>\n",
       "      <td>0.0000</td>\n",
       "      <td>0.0068</td>\n",
       "      <td>0.1559</td>\n",
       "      <td>0.0305</td>\n",
       "      <td>0.1356</td>\n",
       "      <td>0.2203</td>\n",
       "      <td>0.0542</td>\n",
       "    </tr>\n",
       "    <tr>\n",
       "      <th>89</th>\n",
       "      <td>0.2263</td>\n",
       "      <td>0.0023</td>\n",
       "      <td>0.0000</td>\n",
       "      <td>0.3141</td>\n",
       "      <td>0.0023</td>\n",
       "      <td>0.0600</td>\n",
       "      <td>0.1501</td>\n",
       "      <td>0.2448</td>\n",
       "    </tr>\n",
       "    <tr>\n",
       "      <th>94</th>\n",
       "      <td>0.0413</td>\n",
       "      <td>0.0785</td>\n",
       "      <td>0.0661</td>\n",
       "      <td>0.2025</td>\n",
       "      <td>0.0041</td>\n",
       "      <td>0.0083</td>\n",
       "      <td>0.3306</td>\n",
       "      <td>0.2686</td>\n",
       "    </tr>\n",
       "  </tbody>\n",
       "</table>\n",
       "</div>"
      ],
      "text/plain": [
       "            Malignant  Endothelial     CAF   T CD8      NK  Macrophage  \\\n",
       "mixture_id                                                               \n",
       "53             0.1280       0.0880  0.0320  0.2000  0.0800      0.0960   \n",
       "58             0.0000       0.0000  0.0000  0.6508  0.0317      0.0159   \n",
       "59             0.8710       0.0000  0.1129  0.0000  0.0000      0.0161   \n",
       "60             0.0448       0.0000  0.0000  0.1940  0.0498      0.0199   \n",
       "65             0.0755       0.0000  0.0000  0.4717  0.0000      0.0189   \n",
       "67             0.0000       0.0000  0.0000  0.3059  0.0118      0.0000   \n",
       "71             0.6835       0.0000  0.0000  0.1899  0.0000      0.0253   \n",
       "72             0.0000       0.0000  0.0000  0.1634  0.0065      0.0000   \n",
       "74             0.0000       0.0000  0.0000  0.6496  0.0073      0.0365   \n",
       "75             0.0087       0.0000  0.0000  0.9417  0.0000      0.0029   \n",
       "78             0.9756       0.0000  0.0081  0.0000  0.0000      0.0000   \n",
       "79             0.5474       0.0023  0.0012  0.2795  0.0012      0.0000   \n",
       "80             0.2828       0.0656  0.0520  0.1538  0.0090      0.0000   \n",
       "81             0.7308       0.0110  0.0000  0.1044  0.0000      0.0000   \n",
       "82             0.4638       0.0000  0.0870  0.1304  0.0290      0.0580   \n",
       "84             0.1045       0.0075  0.0075  0.1716  0.0522      0.1866   \n",
       "88             0.3966       0.0000  0.0068  0.1559  0.0305      0.1356   \n",
       "89             0.2263       0.0023  0.0000  0.3141  0.0023      0.0600   \n",
       "94             0.0413       0.0785  0.0661  0.2025  0.0041      0.0083   \n",
       "\n",
       "             T CD4       B  \n",
       "mixture_id                  \n",
       "53          0.3760  0.0000  \n",
       "58          0.2857  0.0159  \n",
       "59          0.0000  0.0000  \n",
       "60          0.2139  0.4776  \n",
       "65          0.3396  0.0943  \n",
       "67          0.4588  0.2235  \n",
       "71          0.1013  0.0000  \n",
       "72          0.6013  0.2288  \n",
       "74          0.2117  0.0949  \n",
       "75          0.0466  0.0000  \n",
       "78          0.0081  0.0081  \n",
       "79          0.0760  0.0924  \n",
       "80          0.3258  0.1109  \n",
       "81          0.1374  0.0165  \n",
       "82          0.2174  0.0145  \n",
       "84          0.2836  0.1866  \n",
       "88          0.2203  0.0542  \n",
       "89          0.1501  0.2448  \n",
       "94          0.3306  0.2686  "
      ]
     },
     "execution_count": 2,
     "metadata": {},
     "output_type": "execute_result"
    }
   ],
   "source": [
    "truth = pd.read_csv(\n",
    "    \"gs://liulab/csx_example_files/groundtruth_Melanoma_Tirosh_et_al_SuppFig3b-d.txt\",\n",
    "    sep=\"\\t\",\n",
    "    index_col=0,\n",
    ").rename_axis(index=\"mixture_id\").rename(columns=weird_to_nice)\n",
    "\n",
    "truth"
   ]
  },
  {
   "cell_type": "code",
   "execution_count": 15,
   "id": "e88b4775-b3e8-41bd-b9d9-1f7254c81c8e",
   "metadata": {},
   "outputs": [
    {
     "name": "stdout",
     "output_type": "stream",
     "text": [
      "\u001b[01;34m/mnt/buckets/liulab/csx_experiments/varying_parameters\u001b[00m\n",
      "├── [   0]  \u001b[01;34mdefaults\u001b[00m\n",
      "├── [   0]  \u001b[01;34mrefsample_from_defaults\u001b[00m\n",
      "├── [   0]  \u001b[01;34mrefsample_from_defaults,single_cell_true\u001b[00m\n",
      "├── [   0]  \u001b[01;34mrefsample_from_defaults,with_bmode\u001b[00m\n",
      "├── [   0]  \u001b[01;34mrefsample_from_webjob4\u001b[00m\n",
      "├── [   0]  \u001b[01;34mrefsample_from_webjob4,with_bmode\u001b[00m\n",
      "├── [   0]  \u001b[01;34msigmat_from_defaults\u001b[00m\n",
      "├── [   0]  \u001b[01;34msigmat_from_defaults,with_bmode\u001b[00m\n",
      "├── [   0]  \u001b[01;34msigmat_from_webjob4\u001b[00m\n",
      "├── [   0]  \u001b[01;34msigmat_from_webjob4,with_bmode\u001b[00m\n",
      "└── [   0]  \u001b[01;34mwith_bmode\u001b[00m\n",
      "\n",
      "11 directories, 0 files\n",
      "/mnt/buckets/liulab/csx_experiments/varying_parameters/defaults,single_cell_true [error opening dir]\n",
      "\n",
      "0 directories, 0 files\n"
     ]
    }
   ],
   "source": [
    "experiments_root = \"liulab/csx_experiments/varying_parameters\"\n",
    "\n",
    "!tree -h -L 1 {os.path.join(\"/mnt/buckets\", experiments_root)}\n",
    "!tree -h -L 1 {os.path.join(\"/mnt/buckets\", experiments_root, \"defaults,single_cell_true\")}"
   ]
  },
  {
   "cell_type": "code",
   "execution_count": 4,
   "id": "8116fea8-b051-4e4f-9c1d-bec4d1ee064a",
   "metadata": {},
   "outputs": [
    {
     "data": {
      "text/plain": [
       "['defaults',\n",
       " 'refsample_from_defaults',\n",
       " 'refsample_from_defaults,single_cell_true',\n",
       " 'refsample_from_defaults,with_bmode',\n",
       " 'refsample_from_webjob4',\n",
       " 'refsample_from_webjob4,with_bmode',\n",
       " 'sigmat_from_defaults',\n",
       " 'sigmat_from_defaults,with_bmode',\n",
       " 'sigmat_from_webjob4',\n",
       " 'sigmat_from_webjob4,with_bmode',\n",
       " 'with_bmode']"
      ]
     },
     "execution_count": 4,
     "metadata": {},
     "output_type": "execute_result"
    }
   ],
   "source": [
    "experiments = os.listdir(os.path.join(\"/mnt/buckets\", experiments_root))\n",
    "experiments"
   ]
  },
  {
   "cell_type": "code",
   "execution_count": 5,
   "id": "6aedfca0-9791-40a5-8402-a7b260f0c77f",
   "metadata": {},
   "outputs": [],
   "source": [
    "def load_csx_results(experiment_uri):\n",
    "    try:\n",
    "        uri = os.path.join(experiment_uri, \"CIBERSORTx_Results.txt\")\n",
    "        df = pd.read_csv(uri, sep=\"\\t\", index_col=0)\n",
    "    except:\n",
    "        uri = os.path.join(experiment_uri, \"CIBERSORTx_Adjusted.txt\")\n",
    "        df = pd.read_csv(uri, sep=\"\\t\", index_col=0)\n",
    "    df = df.iloc[:, :-3]  # ignore last three columns, which are test statistics\n",
    "    df.rename(\n",
    "        columns=weird_to_nice,\n",
    "#         index=lambda old: int(old.split(\".\")[-1]),\n",
    "        inplace=True)\n",
    "    df.rename_axis(\n",
    "        columns=\"cell_type\",\n",
    "        index=\"mixture_id\",\n",
    "        inplace=True)\n",
    "    return df"
   ]
  },
  {
   "cell_type": "code",
   "execution_count": 6,
   "id": "1889b679-c86e-4e7f-a2d1-0e0ccf77084e",
   "metadata": {},
   "outputs": [
    {
     "data": {
      "text/html": [
       "<div>\n",
       "<style scoped>\n",
       "    .dataframe tbody tr th:only-of-type {\n",
       "        vertical-align: middle;\n",
       "    }\n",
       "\n",
       "    .dataframe tbody tr th {\n",
       "        vertical-align: top;\n",
       "    }\n",
       "\n",
       "    .dataframe thead th {\n",
       "        text-align: right;\n",
       "    }\n",
       "</style>\n",
       "<table border=\"1\" class=\"dataframe\">\n",
       "  <thead>\n",
       "    <tr style=\"text-align: right;\">\n",
       "      <th></th>\n",
       "      <th>cell_type</th>\n",
       "      <th>Malignant</th>\n",
       "      <th>Endothelial</th>\n",
       "      <th>CAF</th>\n",
       "      <th>T CD8</th>\n",
       "      <th>NK</th>\n",
       "      <th>Macrophage</th>\n",
       "      <th>T CD4</th>\n",
       "      <th>B</th>\n",
       "    </tr>\n",
       "    <tr>\n",
       "      <th>experiment</th>\n",
       "      <th>mixture_id</th>\n",
       "      <th></th>\n",
       "      <th></th>\n",
       "      <th></th>\n",
       "      <th></th>\n",
       "      <th></th>\n",
       "      <th></th>\n",
       "      <th></th>\n",
       "      <th></th>\n",
       "    </tr>\n",
       "  </thead>\n",
       "  <tbody>\n",
       "    <tr>\n",
       "      <th rowspan=\"5\" valign=\"top\">defaults</th>\n",
       "      <th>53</th>\n",
       "      <td>0.046178</td>\n",
       "      <td>2.726053e-02</td>\n",
       "      <td>0.058420</td>\n",
       "      <td>0.286861</td>\n",
       "      <td>0.164019</td>\n",
       "      <td>0.084984</td>\n",
       "      <td>0.332278</td>\n",
       "      <td>0.000000</td>\n",
       "    </tr>\n",
       "    <tr>\n",
       "      <th>58</th>\n",
       "      <td>0.000000</td>\n",
       "      <td>0.000000e+00</td>\n",
       "      <td>0.002111</td>\n",
       "      <td>0.697889</td>\n",
       "      <td>0.061412</td>\n",
       "      <td>0.014088</td>\n",
       "      <td>0.214017</td>\n",
       "      <td>0.010482</td>\n",
       "    </tr>\n",
       "    <tr>\n",
       "      <th>59</th>\n",
       "      <td>0.617075</td>\n",
       "      <td>9.779191e-07</td>\n",
       "      <td>0.358669</td>\n",
       "      <td>0.000000</td>\n",
       "      <td>0.000240</td>\n",
       "      <td>0.023462</td>\n",
       "      <td>0.000553</td>\n",
       "      <td>0.000000</td>\n",
       "    </tr>\n",
       "    <tr>\n",
       "      <th>60</th>\n",
       "      <td>0.021843</td>\n",
       "      <td>1.732089e-04</td>\n",
       "      <td>0.000000</td>\n",
       "      <td>0.228676</td>\n",
       "      <td>0.084564</td>\n",
       "      <td>0.049654</td>\n",
       "      <td>0.179896</td>\n",
       "      <td>0.435194</td>\n",
       "    </tr>\n",
       "    <tr>\n",
       "      <th>65</th>\n",
       "      <td>0.059540</td>\n",
       "      <td>0.000000e+00</td>\n",
       "      <td>0.000411</td>\n",
       "      <td>0.309446</td>\n",
       "      <td>0.028671</td>\n",
       "      <td>0.027971</td>\n",
       "      <td>0.485839</td>\n",
       "      <td>0.088122</td>\n",
       "    </tr>\n",
       "    <tr>\n",
       "      <th>...</th>\n",
       "      <th>...</th>\n",
       "      <td>...</td>\n",
       "      <td>...</td>\n",
       "      <td>...</td>\n",
       "      <td>...</td>\n",
       "      <td>...</td>\n",
       "      <td>...</td>\n",
       "      <td>...</td>\n",
       "      <td>...</td>\n",
       "    </tr>\n",
       "    <tr>\n",
       "      <th rowspan=\"5\" valign=\"top\">with_bmode</th>\n",
       "      <th>82</th>\n",
       "      <td>0.322642</td>\n",
       "      <td>9.459352e-03</td>\n",
       "      <td>0.078214</td>\n",
       "      <td>0.173296</td>\n",
       "      <td>0.043014</td>\n",
       "      <td>0.057151</td>\n",
       "      <td>0.271576</td>\n",
       "      <td>0.044647</td>\n",
       "    </tr>\n",
       "    <tr>\n",
       "      <th>84</th>\n",
       "      <td>0.083804</td>\n",
       "      <td>2.351226e-03</td>\n",
       "      <td>0.013043</td>\n",
       "      <td>0.208151</td>\n",
       "      <td>0.076386</td>\n",
       "      <td>0.129138</td>\n",
       "      <td>0.359484</td>\n",
       "      <td>0.127643</td>\n",
       "    </tr>\n",
       "    <tr>\n",
       "      <th>88</th>\n",
       "      <td>0.372916</td>\n",
       "      <td>0.000000e+00</td>\n",
       "      <td>0.009179</td>\n",
       "      <td>0.148055</td>\n",
       "      <td>0.039789</td>\n",
       "      <td>0.132483</td>\n",
       "      <td>0.215085</td>\n",
       "      <td>0.082493</td>\n",
       "    </tr>\n",
       "    <tr>\n",
       "      <th>89</th>\n",
       "      <td>0.191563</td>\n",
       "      <td>4.617006e-04</td>\n",
       "      <td>0.001795</td>\n",
       "      <td>0.331568</td>\n",
       "      <td>0.015323</td>\n",
       "      <td>0.071638</td>\n",
       "      <td>0.174191</td>\n",
       "      <td>0.213461</td>\n",
       "    </tr>\n",
       "    <tr>\n",
       "      <th>94</th>\n",
       "      <td>0.052642</td>\n",
       "      <td>7.466159e-02</td>\n",
       "      <td>0.054631</td>\n",
       "      <td>0.003151</td>\n",
       "      <td>0.017730</td>\n",
       "      <td>0.037556</td>\n",
       "      <td>0.468256</td>\n",
       "      <td>0.291373</td>\n",
       "    </tr>\n",
       "  </tbody>\n",
       "</table>\n",
       "<p>209 rows × 8 columns</p>\n",
       "</div>"
      ],
      "text/plain": [
       "cell_type              Malignant   Endothelial       CAF     T CD8        NK  \\\n",
       "experiment mixture_id                                                          \n",
       "defaults   53           0.046178  2.726053e-02  0.058420  0.286861  0.164019   \n",
       "           58           0.000000  0.000000e+00  0.002111  0.697889  0.061412   \n",
       "           59           0.617075  9.779191e-07  0.358669  0.000000  0.000240   \n",
       "           60           0.021843  1.732089e-04  0.000000  0.228676  0.084564   \n",
       "           65           0.059540  0.000000e+00  0.000411  0.309446  0.028671   \n",
       "...                          ...           ...       ...       ...       ...   \n",
       "with_bmode 82           0.322642  9.459352e-03  0.078214  0.173296  0.043014   \n",
       "           84           0.083804  2.351226e-03  0.013043  0.208151  0.076386   \n",
       "           88           0.372916  0.000000e+00  0.009179  0.148055  0.039789   \n",
       "           89           0.191563  4.617006e-04  0.001795  0.331568  0.015323   \n",
       "           94           0.052642  7.466159e-02  0.054631  0.003151  0.017730   \n",
       "\n",
       "cell_type              Macrophage     T CD4         B  \n",
       "experiment mixture_id                                  \n",
       "defaults   53            0.084984  0.332278  0.000000  \n",
       "           58            0.014088  0.214017  0.010482  \n",
       "           59            0.023462  0.000553  0.000000  \n",
       "           60            0.049654  0.179896  0.435194  \n",
       "           65            0.027971  0.485839  0.088122  \n",
       "...                           ...       ...       ...  \n",
       "with_bmode 82            0.057151  0.271576  0.044647  \n",
       "           84            0.129138  0.359484  0.127643  \n",
       "           88            0.132483  0.215085  0.082493  \n",
       "           89            0.071638  0.174191  0.213461  \n",
       "           94            0.037556  0.468256  0.291373  \n",
       "\n",
       "[209 rows x 8 columns]"
      ]
     },
     "execution_count": 6,
     "metadata": {},
     "output_type": "execute_result"
    }
   ],
   "source": [
    "preds = dict()\n",
    "# preds[\"derek\"] = results_derek\n",
    "# preds[\"me\"] = results_docker\n",
    "for experiment in experiments:\n",
    "    try:\n",
    "        experiment_uri = os.path.join(\"gs://\", experiments_root, experiment)\n",
    "        preds[experiment] = load_csx_results(experiment_uri)\n",
    "    except FileNotFoundError:\n",
    "        print(\"no results for\", experiment, experiment_uri)\n",
    "\n",
    "df_preds = pd.concat(\n",
    "    preds,\n",
    "    names=[\"experiment\"]\n",
    ")\n",
    "\n",
    "df_preds"
   ]
  },
  {
   "cell_type": "code",
   "execution_count": 7,
   "id": "7f8f8e07-c635-488d-8a7d-86ea2a64d34d",
   "metadata": {},
   "outputs": [
    {
     "data": {
      "text/html": [
       "<div>\n",
       "<style scoped>\n",
       "    .dataframe tbody tr th:only-of-type {\n",
       "        vertical-align: middle;\n",
       "    }\n",
       "\n",
       "    .dataframe tbody tr th {\n",
       "        vertical-align: top;\n",
       "    }\n",
       "\n",
       "    .dataframe thead th {\n",
       "        text-align: right;\n",
       "    }\n",
       "</style>\n",
       "<table border=\"1\" class=\"dataframe\">\n",
       "  <thead>\n",
       "    <tr style=\"text-align: right;\">\n",
       "      <th>cell_type</th>\n",
       "      <th>Malignant</th>\n",
       "      <th>Endothelial</th>\n",
       "      <th>CAF</th>\n",
       "      <th>T CD8</th>\n",
       "      <th>NK</th>\n",
       "      <th>Macrophage</th>\n",
       "      <th>T CD4</th>\n",
       "      <th>B</th>\n",
       "    </tr>\n",
       "    <tr>\n",
       "      <th>mixture_id</th>\n",
       "      <th></th>\n",
       "      <th></th>\n",
       "      <th></th>\n",
       "      <th></th>\n",
       "      <th></th>\n",
       "      <th></th>\n",
       "      <th></th>\n",
       "      <th></th>\n",
       "    </tr>\n",
       "  </thead>\n",
       "  <tbody>\n",
       "    <tr>\n",
       "      <th>53</th>\n",
       "      <td>0.1280</td>\n",
       "      <td>0.0880</td>\n",
       "      <td>0.0320</td>\n",
       "      <td>0.2000</td>\n",
       "      <td>0.0800</td>\n",
       "      <td>0.0960</td>\n",
       "      <td>0.3760</td>\n",
       "      <td>0.0000</td>\n",
       "    </tr>\n",
       "    <tr>\n",
       "      <th>58</th>\n",
       "      <td>0.0000</td>\n",
       "      <td>0.0000</td>\n",
       "      <td>0.0000</td>\n",
       "      <td>0.6508</td>\n",
       "      <td>0.0317</td>\n",
       "      <td>0.0159</td>\n",
       "      <td>0.2857</td>\n",
       "      <td>0.0159</td>\n",
       "    </tr>\n",
       "    <tr>\n",
       "      <th>59</th>\n",
       "      <td>0.8710</td>\n",
       "      <td>0.0000</td>\n",
       "      <td>0.1129</td>\n",
       "      <td>0.0000</td>\n",
       "      <td>0.0000</td>\n",
       "      <td>0.0161</td>\n",
       "      <td>0.0000</td>\n",
       "      <td>0.0000</td>\n",
       "    </tr>\n",
       "    <tr>\n",
       "      <th>60</th>\n",
       "      <td>0.0448</td>\n",
       "      <td>0.0000</td>\n",
       "      <td>0.0000</td>\n",
       "      <td>0.1940</td>\n",
       "      <td>0.0498</td>\n",
       "      <td>0.0199</td>\n",
       "      <td>0.2139</td>\n",
       "      <td>0.4776</td>\n",
       "    </tr>\n",
       "    <tr>\n",
       "      <th>65</th>\n",
       "      <td>0.0755</td>\n",
       "      <td>0.0000</td>\n",
       "      <td>0.0000</td>\n",
       "      <td>0.4717</td>\n",
       "      <td>0.0000</td>\n",
       "      <td>0.0189</td>\n",
       "      <td>0.3396</td>\n",
       "      <td>0.0943</td>\n",
       "    </tr>\n",
       "    <tr>\n",
       "      <th>67</th>\n",
       "      <td>0.0000</td>\n",
       "      <td>0.0000</td>\n",
       "      <td>0.0000</td>\n",
       "      <td>0.3059</td>\n",
       "      <td>0.0118</td>\n",
       "      <td>0.0000</td>\n",
       "      <td>0.4588</td>\n",
       "      <td>0.2235</td>\n",
       "    </tr>\n",
       "    <tr>\n",
       "      <th>71</th>\n",
       "      <td>0.6835</td>\n",
       "      <td>0.0000</td>\n",
       "      <td>0.0000</td>\n",
       "      <td>0.1899</td>\n",
       "      <td>0.0000</td>\n",
       "      <td>0.0253</td>\n",
       "      <td>0.1013</td>\n",
       "      <td>0.0000</td>\n",
       "    </tr>\n",
       "    <tr>\n",
       "      <th>72</th>\n",
       "      <td>0.0000</td>\n",
       "      <td>0.0000</td>\n",
       "      <td>0.0000</td>\n",
       "      <td>0.1634</td>\n",
       "      <td>0.0065</td>\n",
       "      <td>0.0000</td>\n",
       "      <td>0.6013</td>\n",
       "      <td>0.2288</td>\n",
       "    </tr>\n",
       "    <tr>\n",
       "      <th>74</th>\n",
       "      <td>0.0000</td>\n",
       "      <td>0.0000</td>\n",
       "      <td>0.0000</td>\n",
       "      <td>0.6496</td>\n",
       "      <td>0.0073</td>\n",
       "      <td>0.0365</td>\n",
       "      <td>0.2117</td>\n",
       "      <td>0.0949</td>\n",
       "    </tr>\n",
       "    <tr>\n",
       "      <th>75</th>\n",
       "      <td>0.0087</td>\n",
       "      <td>0.0000</td>\n",
       "      <td>0.0000</td>\n",
       "      <td>0.9417</td>\n",
       "      <td>0.0000</td>\n",
       "      <td>0.0029</td>\n",
       "      <td>0.0466</td>\n",
       "      <td>0.0000</td>\n",
       "    </tr>\n",
       "    <tr>\n",
       "      <th>78</th>\n",
       "      <td>0.9756</td>\n",
       "      <td>0.0000</td>\n",
       "      <td>0.0081</td>\n",
       "      <td>0.0000</td>\n",
       "      <td>0.0000</td>\n",
       "      <td>0.0000</td>\n",
       "      <td>0.0081</td>\n",
       "      <td>0.0081</td>\n",
       "    </tr>\n",
       "    <tr>\n",
       "      <th>79</th>\n",
       "      <td>0.5474</td>\n",
       "      <td>0.0023</td>\n",
       "      <td>0.0012</td>\n",
       "      <td>0.2795</td>\n",
       "      <td>0.0012</td>\n",
       "      <td>0.0000</td>\n",
       "      <td>0.0760</td>\n",
       "      <td>0.0924</td>\n",
       "    </tr>\n",
       "    <tr>\n",
       "      <th>80</th>\n",
       "      <td>0.2828</td>\n",
       "      <td>0.0656</td>\n",
       "      <td>0.0520</td>\n",
       "      <td>0.1538</td>\n",
       "      <td>0.0090</td>\n",
       "      <td>0.0000</td>\n",
       "      <td>0.3258</td>\n",
       "      <td>0.1109</td>\n",
       "    </tr>\n",
       "    <tr>\n",
       "      <th>81</th>\n",
       "      <td>0.7308</td>\n",
       "      <td>0.0110</td>\n",
       "      <td>0.0000</td>\n",
       "      <td>0.1044</td>\n",
       "      <td>0.0000</td>\n",
       "      <td>0.0000</td>\n",
       "      <td>0.1374</td>\n",
       "      <td>0.0165</td>\n",
       "    </tr>\n",
       "    <tr>\n",
       "      <th>82</th>\n",
       "      <td>0.4638</td>\n",
       "      <td>0.0000</td>\n",
       "      <td>0.0870</td>\n",
       "      <td>0.1304</td>\n",
       "      <td>0.0290</td>\n",
       "      <td>0.0580</td>\n",
       "      <td>0.2174</td>\n",
       "      <td>0.0145</td>\n",
       "    </tr>\n",
       "    <tr>\n",
       "      <th>84</th>\n",
       "      <td>0.1045</td>\n",
       "      <td>0.0075</td>\n",
       "      <td>0.0075</td>\n",
       "      <td>0.1716</td>\n",
       "      <td>0.0522</td>\n",
       "      <td>0.1866</td>\n",
       "      <td>0.2836</td>\n",
       "      <td>0.1866</td>\n",
       "    </tr>\n",
       "    <tr>\n",
       "      <th>88</th>\n",
       "      <td>0.3966</td>\n",
       "      <td>0.0000</td>\n",
       "      <td>0.0068</td>\n",
       "      <td>0.1559</td>\n",
       "      <td>0.0305</td>\n",
       "      <td>0.1356</td>\n",
       "      <td>0.2203</td>\n",
       "      <td>0.0542</td>\n",
       "    </tr>\n",
       "    <tr>\n",
       "      <th>89</th>\n",
       "      <td>0.2263</td>\n",
       "      <td>0.0023</td>\n",
       "      <td>0.0000</td>\n",
       "      <td>0.3141</td>\n",
       "      <td>0.0023</td>\n",
       "      <td>0.0600</td>\n",
       "      <td>0.1501</td>\n",
       "      <td>0.2448</td>\n",
       "    </tr>\n",
       "    <tr>\n",
       "      <th>94</th>\n",
       "      <td>0.0413</td>\n",
       "      <td>0.0785</td>\n",
       "      <td>0.0661</td>\n",
       "      <td>0.2025</td>\n",
       "      <td>0.0041</td>\n",
       "      <td>0.0083</td>\n",
       "      <td>0.3306</td>\n",
       "      <td>0.2686</td>\n",
       "    </tr>\n",
       "  </tbody>\n",
       "</table>\n",
       "</div>"
      ],
      "text/plain": [
       "cell_type   Malignant  Endothelial     CAF   T CD8      NK  Macrophage  \\\n",
       "mixture_id                                                               \n",
       "53             0.1280       0.0880  0.0320  0.2000  0.0800      0.0960   \n",
       "58             0.0000       0.0000  0.0000  0.6508  0.0317      0.0159   \n",
       "59             0.8710       0.0000  0.1129  0.0000  0.0000      0.0161   \n",
       "60             0.0448       0.0000  0.0000  0.1940  0.0498      0.0199   \n",
       "65             0.0755       0.0000  0.0000  0.4717  0.0000      0.0189   \n",
       "67             0.0000       0.0000  0.0000  0.3059  0.0118      0.0000   \n",
       "71             0.6835       0.0000  0.0000  0.1899  0.0000      0.0253   \n",
       "72             0.0000       0.0000  0.0000  0.1634  0.0065      0.0000   \n",
       "74             0.0000       0.0000  0.0000  0.6496  0.0073      0.0365   \n",
       "75             0.0087       0.0000  0.0000  0.9417  0.0000      0.0029   \n",
       "78             0.9756       0.0000  0.0081  0.0000  0.0000      0.0000   \n",
       "79             0.5474       0.0023  0.0012  0.2795  0.0012      0.0000   \n",
       "80             0.2828       0.0656  0.0520  0.1538  0.0090      0.0000   \n",
       "81             0.7308       0.0110  0.0000  0.1044  0.0000      0.0000   \n",
       "82             0.4638       0.0000  0.0870  0.1304  0.0290      0.0580   \n",
       "84             0.1045       0.0075  0.0075  0.1716  0.0522      0.1866   \n",
       "88             0.3966       0.0000  0.0068  0.1559  0.0305      0.1356   \n",
       "89             0.2263       0.0023  0.0000  0.3141  0.0023      0.0600   \n",
       "94             0.0413       0.0785  0.0661  0.2025  0.0041      0.0083   \n",
       "\n",
       "cell_type    T CD4       B  \n",
       "mixture_id                  \n",
       "53          0.3760  0.0000  \n",
       "58          0.2857  0.0159  \n",
       "59          0.0000  0.0000  \n",
       "60          0.2139  0.4776  \n",
       "65          0.3396  0.0943  \n",
       "67          0.4588  0.2235  \n",
       "71          0.1013  0.0000  \n",
       "72          0.6013  0.2288  \n",
       "74          0.2117  0.0949  \n",
       "75          0.0466  0.0000  \n",
       "78          0.0081  0.0081  \n",
       "79          0.0760  0.0924  \n",
       "80          0.3258  0.1109  \n",
       "81          0.1374  0.0165  \n",
       "82          0.2174  0.0145  \n",
       "84          0.2836  0.1866  \n",
       "88          0.2203  0.0542  \n",
       "89          0.1501  0.2448  \n",
       "94          0.3306  0.2686  "
      ]
     },
     "execution_count": 7,
     "metadata": {},
     "output_type": "execute_result"
    }
   ],
   "source": [
    "truth = pd.read_csv(\n",
    "    \"gs://liulab/csx_example_files/groundtruth_Melanoma_Tirosh_et_al_SuppFig3b-d.txt\",\n",
    "    sep=\"\\t\",\n",
    "    index_col=0\n",
    ")\n",
    "truth.rename_axis(columns=\"cell_type\", index=\"mixture_id\", inplace=True)\n",
    "truth.rename(columns=weird_to_nice, inplace=True)\n",
    "truth"
   ]
  },
  {
   "cell_type": "code",
   "execution_count": 11,
   "id": "e05890c7-c738-404d-b617-fd5f5d147d89",
   "metadata": {
    "tags": []
   },
   "outputs": [
    {
     "data": {
      "text/html": [
       "<div>\n",
       "<style scoped>\n",
       "    .dataframe tbody tr th:only-of-type {\n",
       "        vertical-align: middle;\n",
       "    }\n",
       "\n",
       "    .dataframe tbody tr th {\n",
       "        vertical-align: top;\n",
       "    }\n",
       "\n",
       "    .dataframe thead th {\n",
       "        text-align: right;\n",
       "    }\n",
       "</style>\n",
       "<table border=\"1\" class=\"dataframe\">\n",
       "  <thead>\n",
       "    <tr style=\"text-align: right;\">\n",
       "      <th></th>\n",
       "      <th>truth</th>\n",
       "      <th>defaults</th>\n",
       "      <th>refsample_from_defaults</th>\n",
       "      <th>refsample_from_defaults,single_cell_true</th>\n",
       "      <th>refsample_from_defaults,with_bmode</th>\n",
       "      <th>refsample_from_webjob4</th>\n",
       "      <th>refsample_from_webjob4,with_bmode</th>\n",
       "      <th>sigmat_from_defaults</th>\n",
       "      <th>sigmat_from_defaults,with_bmode</th>\n",
       "      <th>sigmat_from_webjob4</th>\n",
       "      <th>sigmat_from_webjob4,with_bmode</th>\n",
       "      <th>with_bmode</th>\n",
       "    </tr>\n",
       "  </thead>\n",
       "  <tbody>\n",
       "    <tr>\n",
       "      <th>truth</th>\n",
       "      <td>1.000000</td>\n",
       "      <td>0.940378</td>\n",
       "      <td>0.940378</td>\n",
       "      <td>0.940378</td>\n",
       "      <td>0.940901</td>\n",
       "      <td>0.941592</td>\n",
       "      <td>0.938370</td>\n",
       "      <td>0.940378</td>\n",
       "      <td>0.940901</td>\n",
       "      <td>0.941592</td>\n",
       "      <td>0.938370</td>\n",
       "      <td>0.940901</td>\n",
       "    </tr>\n",
       "    <tr>\n",
       "      <th>refsample_from_webjob4</th>\n",
       "      <td>0.941592</td>\n",
       "      <td>0.990750</td>\n",
       "      <td>0.990750</td>\n",
       "      <td>0.990750</td>\n",
       "      <td>0.991459</td>\n",
       "      <td>1.000000</td>\n",
       "      <td>0.995349</td>\n",
       "      <td>0.990750</td>\n",
       "      <td>0.991459</td>\n",
       "      <td>1.000000</td>\n",
       "      <td>0.995349</td>\n",
       "      <td>0.991459</td>\n",
       "    </tr>\n",
       "    <tr>\n",
       "      <th>sigmat_from_webjob4</th>\n",
       "      <td>0.941592</td>\n",
       "      <td>0.990750</td>\n",
       "      <td>0.990750</td>\n",
       "      <td>0.990750</td>\n",
       "      <td>0.991459</td>\n",
       "      <td>1.000000</td>\n",
       "      <td>0.995349</td>\n",
       "      <td>0.990750</td>\n",
       "      <td>0.991459</td>\n",
       "      <td>1.000000</td>\n",
       "      <td>0.995349</td>\n",
       "      <td>0.991459</td>\n",
       "    </tr>\n",
       "    <tr>\n",
       "      <th>refsample_from_defaults,with_bmode</th>\n",
       "      <td>0.940901</td>\n",
       "      <td>0.995794</td>\n",
       "      <td>0.995794</td>\n",
       "      <td>0.995794</td>\n",
       "      <td>1.000000</td>\n",
       "      <td>0.991459</td>\n",
       "      <td>0.993899</td>\n",
       "      <td>0.995794</td>\n",
       "      <td>1.000000</td>\n",
       "      <td>0.991459</td>\n",
       "      <td>0.993899</td>\n",
       "      <td>1.000000</td>\n",
       "    </tr>\n",
       "    <tr>\n",
       "      <th>sigmat_from_defaults,with_bmode</th>\n",
       "      <td>0.940901</td>\n",
       "      <td>0.995794</td>\n",
       "      <td>0.995794</td>\n",
       "      <td>0.995794</td>\n",
       "      <td>1.000000</td>\n",
       "      <td>0.991459</td>\n",
       "      <td>0.993899</td>\n",
       "      <td>0.995794</td>\n",
       "      <td>1.000000</td>\n",
       "      <td>0.991459</td>\n",
       "      <td>0.993899</td>\n",
       "      <td>1.000000</td>\n",
       "    </tr>\n",
       "    <tr>\n",
       "      <th>with_bmode</th>\n",
       "      <td>0.940901</td>\n",
       "      <td>0.995794</td>\n",
       "      <td>0.995794</td>\n",
       "      <td>0.995794</td>\n",
       "      <td>1.000000</td>\n",
       "      <td>0.991459</td>\n",
       "      <td>0.993899</td>\n",
       "      <td>0.995794</td>\n",
       "      <td>1.000000</td>\n",
       "      <td>0.991459</td>\n",
       "      <td>0.993899</td>\n",
       "      <td>1.000000</td>\n",
       "    </tr>\n",
       "    <tr>\n",
       "      <th>defaults</th>\n",
       "      <td>0.940378</td>\n",
       "      <td>1.000000</td>\n",
       "      <td>1.000000</td>\n",
       "      <td>1.000000</td>\n",
       "      <td>0.995794</td>\n",
       "      <td>0.990750</td>\n",
       "      <td>0.986880</td>\n",
       "      <td>1.000000</td>\n",
       "      <td>0.995794</td>\n",
       "      <td>0.990750</td>\n",
       "      <td>0.986880</td>\n",
       "      <td>0.995794</td>\n",
       "    </tr>\n",
       "    <tr>\n",
       "      <th>refsample_from_defaults</th>\n",
       "      <td>0.940378</td>\n",
       "      <td>1.000000</td>\n",
       "      <td>1.000000</td>\n",
       "      <td>1.000000</td>\n",
       "      <td>0.995794</td>\n",
       "      <td>0.990750</td>\n",
       "      <td>0.986880</td>\n",
       "      <td>1.000000</td>\n",
       "      <td>0.995794</td>\n",
       "      <td>0.990750</td>\n",
       "      <td>0.986880</td>\n",
       "      <td>0.995794</td>\n",
       "    </tr>\n",
       "    <tr>\n",
       "      <th>refsample_from_defaults,single_cell_true</th>\n",
       "      <td>0.940378</td>\n",
       "      <td>1.000000</td>\n",
       "      <td>1.000000</td>\n",
       "      <td>1.000000</td>\n",
       "      <td>0.995794</td>\n",
       "      <td>0.990750</td>\n",
       "      <td>0.986880</td>\n",
       "      <td>1.000000</td>\n",
       "      <td>0.995794</td>\n",
       "      <td>0.990750</td>\n",
       "      <td>0.986880</td>\n",
       "      <td>0.995794</td>\n",
       "    </tr>\n",
       "    <tr>\n",
       "      <th>sigmat_from_defaults</th>\n",
       "      <td>0.940378</td>\n",
       "      <td>1.000000</td>\n",
       "      <td>1.000000</td>\n",
       "      <td>1.000000</td>\n",
       "      <td>0.995794</td>\n",
       "      <td>0.990750</td>\n",
       "      <td>0.986880</td>\n",
       "      <td>1.000000</td>\n",
       "      <td>0.995794</td>\n",
       "      <td>0.990750</td>\n",
       "      <td>0.986880</td>\n",
       "      <td>0.995794</td>\n",
       "    </tr>\n",
       "    <tr>\n",
       "      <th>refsample_from_webjob4,with_bmode</th>\n",
       "      <td>0.938370</td>\n",
       "      <td>0.986880</td>\n",
       "      <td>0.986880</td>\n",
       "      <td>0.986880</td>\n",
       "      <td>0.993899</td>\n",
       "      <td>0.995349</td>\n",
       "      <td>1.000000</td>\n",
       "      <td>0.986880</td>\n",
       "      <td>0.993899</td>\n",
       "      <td>0.995349</td>\n",
       "      <td>1.000000</td>\n",
       "      <td>0.993899</td>\n",
       "    </tr>\n",
       "    <tr>\n",
       "      <th>sigmat_from_webjob4,with_bmode</th>\n",
       "      <td>0.938370</td>\n",
       "      <td>0.986880</td>\n",
       "      <td>0.986880</td>\n",
       "      <td>0.986880</td>\n",
       "      <td>0.993899</td>\n",
       "      <td>0.995349</td>\n",
       "      <td>1.000000</td>\n",
       "      <td>0.986880</td>\n",
       "      <td>0.993899</td>\n",
       "      <td>0.995349</td>\n",
       "      <td>1.000000</td>\n",
       "      <td>0.993899</td>\n",
       "    </tr>\n",
       "  </tbody>\n",
       "</table>\n",
       "</div>"
      ],
      "text/plain": [
       "                                             truth  defaults  \\\n",
       "truth                                     1.000000  0.940378   \n",
       "refsample_from_webjob4                    0.941592  0.990750   \n",
       "sigmat_from_webjob4                       0.941592  0.990750   \n",
       "refsample_from_defaults,with_bmode        0.940901  0.995794   \n",
       "sigmat_from_defaults,with_bmode           0.940901  0.995794   \n",
       "with_bmode                                0.940901  0.995794   \n",
       "defaults                                  0.940378  1.000000   \n",
       "refsample_from_defaults                   0.940378  1.000000   \n",
       "refsample_from_defaults,single_cell_true  0.940378  1.000000   \n",
       "sigmat_from_defaults                      0.940378  1.000000   \n",
       "refsample_from_webjob4,with_bmode         0.938370  0.986880   \n",
       "sigmat_from_webjob4,with_bmode            0.938370  0.986880   \n",
       "\n",
       "                                          refsample_from_defaults  \\\n",
       "truth                                                    0.940378   \n",
       "refsample_from_webjob4                                   0.990750   \n",
       "sigmat_from_webjob4                                      0.990750   \n",
       "refsample_from_defaults,with_bmode                       0.995794   \n",
       "sigmat_from_defaults,with_bmode                          0.995794   \n",
       "with_bmode                                               0.995794   \n",
       "defaults                                                 1.000000   \n",
       "refsample_from_defaults                                  1.000000   \n",
       "refsample_from_defaults,single_cell_true                 1.000000   \n",
       "sigmat_from_defaults                                     1.000000   \n",
       "refsample_from_webjob4,with_bmode                        0.986880   \n",
       "sigmat_from_webjob4,with_bmode                           0.986880   \n",
       "\n",
       "                                          refsample_from_defaults,single_cell_true  \\\n",
       "truth                                                                     0.940378   \n",
       "refsample_from_webjob4                                                    0.990750   \n",
       "sigmat_from_webjob4                                                       0.990750   \n",
       "refsample_from_defaults,with_bmode                                        0.995794   \n",
       "sigmat_from_defaults,with_bmode                                           0.995794   \n",
       "with_bmode                                                                0.995794   \n",
       "defaults                                                                  1.000000   \n",
       "refsample_from_defaults                                                   1.000000   \n",
       "refsample_from_defaults,single_cell_true                                  1.000000   \n",
       "sigmat_from_defaults                                                      1.000000   \n",
       "refsample_from_webjob4,with_bmode                                         0.986880   \n",
       "sigmat_from_webjob4,with_bmode                                            0.986880   \n",
       "\n",
       "                                          refsample_from_defaults,with_bmode  \\\n",
       "truth                                                               0.940901   \n",
       "refsample_from_webjob4                                              0.991459   \n",
       "sigmat_from_webjob4                                                 0.991459   \n",
       "refsample_from_defaults,with_bmode                                  1.000000   \n",
       "sigmat_from_defaults,with_bmode                                     1.000000   \n",
       "with_bmode                                                          1.000000   \n",
       "defaults                                                            0.995794   \n",
       "refsample_from_defaults                                             0.995794   \n",
       "refsample_from_defaults,single_cell_true                            0.995794   \n",
       "sigmat_from_defaults                                                0.995794   \n",
       "refsample_from_webjob4,with_bmode                                   0.993899   \n",
       "sigmat_from_webjob4,with_bmode                                      0.993899   \n",
       "\n",
       "                                          refsample_from_webjob4  \\\n",
       "truth                                                   0.941592   \n",
       "refsample_from_webjob4                                  1.000000   \n",
       "sigmat_from_webjob4                                     1.000000   \n",
       "refsample_from_defaults,with_bmode                      0.991459   \n",
       "sigmat_from_defaults,with_bmode                         0.991459   \n",
       "with_bmode                                              0.991459   \n",
       "defaults                                                0.990750   \n",
       "refsample_from_defaults                                 0.990750   \n",
       "refsample_from_defaults,single_cell_true                0.990750   \n",
       "sigmat_from_defaults                                    0.990750   \n",
       "refsample_from_webjob4,with_bmode                       0.995349   \n",
       "sigmat_from_webjob4,with_bmode                          0.995349   \n",
       "\n",
       "                                          refsample_from_webjob4,with_bmode  \\\n",
       "truth                                                              0.938370   \n",
       "refsample_from_webjob4                                             0.995349   \n",
       "sigmat_from_webjob4                                                0.995349   \n",
       "refsample_from_defaults,with_bmode                                 0.993899   \n",
       "sigmat_from_defaults,with_bmode                                    0.993899   \n",
       "with_bmode                                                         0.993899   \n",
       "defaults                                                           0.986880   \n",
       "refsample_from_defaults                                            0.986880   \n",
       "refsample_from_defaults,single_cell_true                           0.986880   \n",
       "sigmat_from_defaults                                               0.986880   \n",
       "refsample_from_webjob4,with_bmode                                  1.000000   \n",
       "sigmat_from_webjob4,with_bmode                                     1.000000   \n",
       "\n",
       "                                          sigmat_from_defaults  \\\n",
       "truth                                                 0.940378   \n",
       "refsample_from_webjob4                                0.990750   \n",
       "sigmat_from_webjob4                                   0.990750   \n",
       "refsample_from_defaults,with_bmode                    0.995794   \n",
       "sigmat_from_defaults,with_bmode                       0.995794   \n",
       "with_bmode                                            0.995794   \n",
       "defaults                                              1.000000   \n",
       "refsample_from_defaults                               1.000000   \n",
       "refsample_from_defaults,single_cell_true              1.000000   \n",
       "sigmat_from_defaults                                  1.000000   \n",
       "refsample_from_webjob4,with_bmode                     0.986880   \n",
       "sigmat_from_webjob4,with_bmode                        0.986880   \n",
       "\n",
       "                                          sigmat_from_defaults,with_bmode  \\\n",
       "truth                                                            0.940901   \n",
       "refsample_from_webjob4                                           0.991459   \n",
       "sigmat_from_webjob4                                              0.991459   \n",
       "refsample_from_defaults,with_bmode                               1.000000   \n",
       "sigmat_from_defaults,with_bmode                                  1.000000   \n",
       "with_bmode                                                       1.000000   \n",
       "defaults                                                         0.995794   \n",
       "refsample_from_defaults                                          0.995794   \n",
       "refsample_from_defaults,single_cell_true                         0.995794   \n",
       "sigmat_from_defaults                                             0.995794   \n",
       "refsample_from_webjob4,with_bmode                                0.993899   \n",
       "sigmat_from_webjob4,with_bmode                                   0.993899   \n",
       "\n",
       "                                          sigmat_from_webjob4  \\\n",
       "truth                                                0.941592   \n",
       "refsample_from_webjob4                               1.000000   \n",
       "sigmat_from_webjob4                                  1.000000   \n",
       "refsample_from_defaults,with_bmode                   0.991459   \n",
       "sigmat_from_defaults,with_bmode                      0.991459   \n",
       "with_bmode                                           0.991459   \n",
       "defaults                                             0.990750   \n",
       "refsample_from_defaults                              0.990750   \n",
       "refsample_from_defaults,single_cell_true             0.990750   \n",
       "sigmat_from_defaults                                 0.990750   \n",
       "refsample_from_webjob4,with_bmode                    0.995349   \n",
       "sigmat_from_webjob4,with_bmode                       0.995349   \n",
       "\n",
       "                                          sigmat_from_webjob4,with_bmode  \\\n",
       "truth                                                           0.938370   \n",
       "refsample_from_webjob4                                          0.995349   \n",
       "sigmat_from_webjob4                                             0.995349   \n",
       "refsample_from_defaults,with_bmode                              0.993899   \n",
       "sigmat_from_defaults,with_bmode                                 0.993899   \n",
       "with_bmode                                                      0.993899   \n",
       "defaults                                                        0.986880   \n",
       "refsample_from_defaults                                         0.986880   \n",
       "refsample_from_defaults,single_cell_true                        0.986880   \n",
       "sigmat_from_defaults                                            0.986880   \n",
       "refsample_from_webjob4,with_bmode                               1.000000   \n",
       "sigmat_from_webjob4,with_bmode                                  1.000000   \n",
       "\n",
       "                                          with_bmode  \n",
       "truth                                       0.940901  \n",
       "refsample_from_webjob4                      0.991459  \n",
       "sigmat_from_webjob4                         0.991459  \n",
       "refsample_from_defaults,with_bmode          1.000000  \n",
       "sigmat_from_defaults,with_bmode             1.000000  \n",
       "with_bmode                                  1.000000  \n",
       "defaults                                    0.995794  \n",
       "refsample_from_defaults                     0.995794  \n",
       "refsample_from_defaults,single_cell_true    0.995794  \n",
       "sigmat_from_defaults                        0.995794  \n",
       "refsample_from_webjob4,with_bmode           0.993899  \n",
       "sigmat_from_webjob4,with_bmode              0.993899  "
      ]
     },
     "execution_count": 11,
     "metadata": {},
     "output_type": "execute_result"
    }
   ],
   "source": [
    "truth.stack().to_frame(name=\"truth\").join(df_preds.stack().unstack(\"experiment\"), how='left').corr().sort_values(by=\"truth\", ascending=False)"
   ]
  },
  {
   "cell_type": "code",
   "execution_count": 12,
   "id": "30300071-47eb-41ea-a4f2-e8b41a943399",
   "metadata": {},
   "outputs": [],
   "source": [
    "import plotly.io\n",
    "plotly.io.renderers.default = \"jupyterlab+png\"\n",
    "\n",
    "import plotly.express as px\n",
    "import plotly.graph_objects as go"
   ]
  },
  {
   "cell_type": "code",
   "execution_count": 13,
   "id": "37cb39b3-dbcd-4a4d-83c6-6ae6f19dc524",
   "metadata": {},
   "outputs": [
    {
     "data": {
      "application/vnd.plotly.v1+json": {
       "config": {
        "plotlyServerURL": "https://plot.ly"
       },
       "data": [
        {
         "alignmentgroup": "True",
         "hovertemplate": "cell_type=Malignant<br>x=%{x}<br>value=%{y}<extra></extra>",
         "legendgroup": "Malignant",
         "marker": {
          "color": "#636efa",
          "pattern": {
           "shape": ""
          }
         },
         "name": "Malignant",
         "offsetgroup": "Malignant",
         "orientation": "v",
         "showlegend": true,
         "textposition": "auto",
         "type": "bar",
         "x": [
          "53",
          "58",
          "59",
          "60",
          "65",
          "67",
          "71",
          "72",
          "74",
          "75",
          "78",
          "79",
          "80",
          "81",
          "82",
          "84",
          "88",
          "89",
          "94"
         ],
         "xaxis": "x",
         "y": [
          0.128,
          0,
          0.871,
          0.0448,
          0.0755,
          0,
          0.6835,
          0,
          0,
          0.0087,
          0.9756,
          0.5474,
          0.2828,
          0.7308,
          0.4638,
          0.1045,
          0.3966,
          0.2263,
          0.0413
         ],
         "yaxis": "y"
        },
        {
         "alignmentgroup": "True",
         "hovertemplate": "cell_type=Endothelial<br>x=%{x}<br>value=%{y}<extra></extra>",
         "legendgroup": "Endothelial",
         "marker": {
          "color": "#EF553B",
          "pattern": {
           "shape": ""
          }
         },
         "name": "Endothelial",
         "offsetgroup": "Endothelial",
         "orientation": "v",
         "showlegend": true,
         "textposition": "auto",
         "type": "bar",
         "x": [
          "53",
          "58",
          "59",
          "60",
          "65",
          "67",
          "71",
          "72",
          "74",
          "75",
          "78",
          "79",
          "80",
          "81",
          "82",
          "84",
          "88",
          "89",
          "94"
         ],
         "xaxis": "x",
         "y": [
          0.088,
          0,
          0,
          0,
          0,
          0,
          0,
          0,
          0,
          0,
          0,
          0.0023,
          0.0656,
          0.011,
          0,
          0.0075,
          0,
          0.0023,
          0.0785
         ],
         "yaxis": "y"
        },
        {
         "alignmentgroup": "True",
         "hovertemplate": "cell_type=CAF<br>x=%{x}<br>value=%{y}<extra></extra>",
         "legendgroup": "CAF",
         "marker": {
          "color": "#00cc96",
          "pattern": {
           "shape": ""
          }
         },
         "name": "CAF",
         "offsetgroup": "CAF",
         "orientation": "v",
         "showlegend": true,
         "textposition": "auto",
         "type": "bar",
         "x": [
          "53",
          "58",
          "59",
          "60",
          "65",
          "67",
          "71",
          "72",
          "74",
          "75",
          "78",
          "79",
          "80",
          "81",
          "82",
          "84",
          "88",
          "89",
          "94"
         ],
         "xaxis": "x",
         "y": [
          0.032,
          0,
          0.1129,
          0,
          0,
          0,
          0,
          0,
          0,
          0,
          0.0081,
          0.0012,
          0.052,
          0,
          0.087,
          0.0075,
          0.0068,
          0,
          0.0661
         ],
         "yaxis": "y"
        },
        {
         "alignmentgroup": "True",
         "hovertemplate": "cell_type=T CD8<br>x=%{x}<br>value=%{y}<extra></extra>",
         "legendgroup": "T CD8",
         "marker": {
          "color": "#ab63fa",
          "pattern": {
           "shape": ""
          }
         },
         "name": "T CD8",
         "offsetgroup": "T CD8",
         "orientation": "v",
         "showlegend": true,
         "textposition": "auto",
         "type": "bar",
         "x": [
          "53",
          "58",
          "59",
          "60",
          "65",
          "67",
          "71",
          "72",
          "74",
          "75",
          "78",
          "79",
          "80",
          "81",
          "82",
          "84",
          "88",
          "89",
          "94"
         ],
         "xaxis": "x",
         "y": [
          0.2,
          0.6508,
          0,
          0.194,
          0.4717,
          0.3059,
          0.1899,
          0.1634,
          0.6496,
          0.9417,
          0,
          0.2795,
          0.1538,
          0.1044,
          0.1304,
          0.1716,
          0.1559,
          0.3141,
          0.2025
         ],
         "yaxis": "y"
        },
        {
         "alignmentgroup": "True",
         "hovertemplate": "cell_type=NK<br>x=%{x}<br>value=%{y}<extra></extra>",
         "legendgroup": "NK",
         "marker": {
          "color": "#FFA15A",
          "pattern": {
           "shape": ""
          }
         },
         "name": "NK",
         "offsetgroup": "NK",
         "orientation": "v",
         "showlegend": true,
         "textposition": "auto",
         "type": "bar",
         "x": [
          "53",
          "58",
          "59",
          "60",
          "65",
          "67",
          "71",
          "72",
          "74",
          "75",
          "78",
          "79",
          "80",
          "81",
          "82",
          "84",
          "88",
          "89",
          "94"
         ],
         "xaxis": "x",
         "y": [
          0.08,
          0.0317,
          0,
          0.0498,
          0,
          0.0118,
          0,
          0.0065,
          0.0073,
          0,
          0,
          0.0012,
          0.009,
          0,
          0.029,
          0.0522,
          0.0305,
          0.0023,
          0.0041
         ],
         "yaxis": "y"
        },
        {
         "alignmentgroup": "True",
         "hovertemplate": "cell_type=Macrophage<br>x=%{x}<br>value=%{y}<extra></extra>",
         "legendgroup": "Macrophage",
         "marker": {
          "color": "#19d3f3",
          "pattern": {
           "shape": ""
          }
         },
         "name": "Macrophage",
         "offsetgroup": "Macrophage",
         "orientation": "v",
         "showlegend": true,
         "textposition": "auto",
         "type": "bar",
         "x": [
          "53",
          "58",
          "59",
          "60",
          "65",
          "67",
          "71",
          "72",
          "74",
          "75",
          "78",
          "79",
          "80",
          "81",
          "82",
          "84",
          "88",
          "89",
          "94"
         ],
         "xaxis": "x",
         "y": [
          0.096,
          0.0159,
          0.0161,
          0.0199,
          0.0189,
          0,
          0.0253,
          0,
          0.0365,
          0.0029,
          0,
          0,
          0,
          0,
          0.058,
          0.1866,
          0.1356,
          0.06,
          0.0083
         ],
         "yaxis": "y"
        },
        {
         "alignmentgroup": "True",
         "hovertemplate": "cell_type=T CD4<br>x=%{x}<br>value=%{y}<extra></extra>",
         "legendgroup": "T CD4",
         "marker": {
          "color": "#FF6692",
          "pattern": {
           "shape": ""
          }
         },
         "name": "T CD4",
         "offsetgroup": "T CD4",
         "orientation": "v",
         "showlegend": true,
         "textposition": "auto",
         "type": "bar",
         "x": [
          "53",
          "58",
          "59",
          "60",
          "65",
          "67",
          "71",
          "72",
          "74",
          "75",
          "78",
          "79",
          "80",
          "81",
          "82",
          "84",
          "88",
          "89",
          "94"
         ],
         "xaxis": "x",
         "y": [
          0.376,
          0.2857,
          0,
          0.2139,
          0.3396,
          0.4588,
          0.1013,
          0.6013,
          0.2117,
          0.0466,
          0.0081,
          0.076,
          0.3258,
          0.1374,
          0.2174,
          0.2836,
          0.2203,
          0.1501,
          0.3306
         ],
         "yaxis": "y"
        },
        {
         "alignmentgroup": "True",
         "hovertemplate": "cell_type=B<br>x=%{x}<br>value=%{y}<extra></extra>",
         "legendgroup": "B",
         "marker": {
          "color": "#B6E880",
          "pattern": {
           "shape": ""
          }
         },
         "name": "B",
         "offsetgroup": "B",
         "orientation": "v",
         "showlegend": true,
         "textposition": "auto",
         "type": "bar",
         "x": [
          "53",
          "58",
          "59",
          "60",
          "65",
          "67",
          "71",
          "72",
          "74",
          "75",
          "78",
          "79",
          "80",
          "81",
          "82",
          "84",
          "88",
          "89",
          "94"
         ],
         "xaxis": "x",
         "y": [
          0,
          0.0159,
          0,
          0.4776,
          0.0943,
          0.2235,
          0,
          0.2288,
          0.0949,
          0,
          0.0081,
          0.0924,
          0.1109,
          0.0165,
          0.0145,
          0.1866,
          0.0542,
          0.2448,
          0.2686
         ],
         "yaxis": "y"
        }
       ],
       "layout": {
        "autosize": true,
        "barmode": "relative",
        "legend": {
         "title": {
          "text": "cell_type"
         },
         "tracegroupgap": 0
        },
        "template": {
         "data": {
          "bar": [
           {
            "error_x": {
             "color": "#2a3f5f"
            },
            "error_y": {
             "color": "#2a3f5f"
            },
            "marker": {
             "line": {
              "color": "#E5ECF6",
              "width": 0.5
             },
             "pattern": {
              "fillmode": "overlay",
              "size": 10,
              "solidity": 0.2
             }
            },
            "type": "bar"
           }
          ],
          "barpolar": [
           {
            "marker": {
             "line": {
              "color": "#E5ECF6",
              "width": 0.5
             },
             "pattern": {
              "fillmode": "overlay",
              "size": 10,
              "solidity": 0.2
             }
            },
            "type": "barpolar"
           }
          ],
          "carpet": [
           {
            "aaxis": {
             "endlinecolor": "#2a3f5f",
             "gridcolor": "white",
             "linecolor": "white",
             "minorgridcolor": "white",
             "startlinecolor": "#2a3f5f"
            },
            "baxis": {
             "endlinecolor": "#2a3f5f",
             "gridcolor": "white",
             "linecolor": "white",
             "minorgridcolor": "white",
             "startlinecolor": "#2a3f5f"
            },
            "type": "carpet"
           }
          ],
          "choropleth": [
           {
            "colorbar": {
             "outlinewidth": 0,
             "ticks": ""
            },
            "type": "choropleth"
           }
          ],
          "contour": [
           {
            "colorbar": {
             "outlinewidth": 0,
             "ticks": ""
            },
            "colorscale": [
             [
              0,
              "#0d0887"
             ],
             [
              0.1111111111111111,
              "#46039f"
             ],
             [
              0.2222222222222222,
              "#7201a8"
             ],
             [
              0.3333333333333333,
              "#9c179e"
             ],
             [
              0.4444444444444444,
              "#bd3786"
             ],
             [
              0.5555555555555556,
              "#d8576b"
             ],
             [
              0.6666666666666666,
              "#ed7953"
             ],
             [
              0.7777777777777778,
              "#fb9f3a"
             ],
             [
              0.8888888888888888,
              "#fdca26"
             ],
             [
              1,
              "#f0f921"
             ]
            ],
            "type": "contour"
           }
          ],
          "contourcarpet": [
           {
            "colorbar": {
             "outlinewidth": 0,
             "ticks": ""
            },
            "type": "contourcarpet"
           }
          ],
          "heatmap": [
           {
            "colorbar": {
             "outlinewidth": 0,
             "ticks": ""
            },
            "colorscale": [
             [
              0,
              "#0d0887"
             ],
             [
              0.1111111111111111,
              "#46039f"
             ],
             [
              0.2222222222222222,
              "#7201a8"
             ],
             [
              0.3333333333333333,
              "#9c179e"
             ],
             [
              0.4444444444444444,
              "#bd3786"
             ],
             [
              0.5555555555555556,
              "#d8576b"
             ],
             [
              0.6666666666666666,
              "#ed7953"
             ],
             [
              0.7777777777777778,
              "#fb9f3a"
             ],
             [
              0.8888888888888888,
              "#fdca26"
             ],
             [
              1,
              "#f0f921"
             ]
            ],
            "type": "heatmap"
           }
          ],
          "heatmapgl": [
           {
            "colorbar": {
             "outlinewidth": 0,
             "ticks": ""
            },
            "colorscale": [
             [
              0,
              "#0d0887"
             ],
             [
              0.1111111111111111,
              "#46039f"
             ],
             [
              0.2222222222222222,
              "#7201a8"
             ],
             [
              0.3333333333333333,
              "#9c179e"
             ],
             [
              0.4444444444444444,
              "#bd3786"
             ],
             [
              0.5555555555555556,
              "#d8576b"
             ],
             [
              0.6666666666666666,
              "#ed7953"
             ],
             [
              0.7777777777777778,
              "#fb9f3a"
             ],
             [
              0.8888888888888888,
              "#fdca26"
             ],
             [
              1,
              "#f0f921"
             ]
            ],
            "type": "heatmapgl"
           }
          ],
          "histogram": [
           {
            "marker": {
             "pattern": {
              "fillmode": "overlay",
              "size": 10,
              "solidity": 0.2
             }
            },
            "type": "histogram"
           }
          ],
          "histogram2d": [
           {
            "colorbar": {
             "outlinewidth": 0,
             "ticks": ""
            },
            "colorscale": [
             [
              0,
              "#0d0887"
             ],
             [
              0.1111111111111111,
              "#46039f"
             ],
             [
              0.2222222222222222,
              "#7201a8"
             ],
             [
              0.3333333333333333,
              "#9c179e"
             ],
             [
              0.4444444444444444,
              "#bd3786"
             ],
             [
              0.5555555555555556,
              "#d8576b"
             ],
             [
              0.6666666666666666,
              "#ed7953"
             ],
             [
              0.7777777777777778,
              "#fb9f3a"
             ],
             [
              0.8888888888888888,
              "#fdca26"
             ],
             [
              1,
              "#f0f921"
             ]
            ],
            "type": "histogram2d"
           }
          ],
          "histogram2dcontour": [
           {
            "colorbar": {
             "outlinewidth": 0,
             "ticks": ""
            },
            "colorscale": [
             [
              0,
              "#0d0887"
             ],
             [
              0.1111111111111111,
              "#46039f"
             ],
             [
              0.2222222222222222,
              "#7201a8"
             ],
             [
              0.3333333333333333,
              "#9c179e"
             ],
             [
              0.4444444444444444,
              "#bd3786"
             ],
             [
              0.5555555555555556,
              "#d8576b"
             ],
             [
              0.6666666666666666,
              "#ed7953"
             ],
             [
              0.7777777777777778,
              "#fb9f3a"
             ],
             [
              0.8888888888888888,
              "#fdca26"
             ],
             [
              1,
              "#f0f921"
             ]
            ],
            "type": "histogram2dcontour"
           }
          ],
          "mesh3d": [
           {
            "colorbar": {
             "outlinewidth": 0,
             "ticks": ""
            },
            "type": "mesh3d"
           }
          ],
          "parcoords": [
           {
            "line": {
             "colorbar": {
              "outlinewidth": 0,
              "ticks": ""
             }
            },
            "type": "parcoords"
           }
          ],
          "pie": [
           {
            "automargin": true,
            "type": "pie"
           }
          ],
          "scatter": [
           {
            "marker": {
             "colorbar": {
              "outlinewidth": 0,
              "ticks": ""
             }
            },
            "type": "scatter"
           }
          ],
          "scatter3d": [
           {
            "line": {
             "colorbar": {
              "outlinewidth": 0,
              "ticks": ""
             }
            },
            "marker": {
             "colorbar": {
              "outlinewidth": 0,
              "ticks": ""
             }
            },
            "type": "scatter3d"
           }
          ],
          "scattercarpet": [
           {
            "marker": {
             "colorbar": {
              "outlinewidth": 0,
              "ticks": ""
             }
            },
            "type": "scattercarpet"
           }
          ],
          "scattergeo": [
           {
            "marker": {
             "colorbar": {
              "outlinewidth": 0,
              "ticks": ""
             }
            },
            "type": "scattergeo"
           }
          ],
          "scattergl": [
           {
            "marker": {
             "colorbar": {
              "outlinewidth": 0,
              "ticks": ""
             }
            },
            "type": "scattergl"
           }
          ],
          "scattermapbox": [
           {
            "marker": {
             "colorbar": {
              "outlinewidth": 0,
              "ticks": ""
             }
            },
            "type": "scattermapbox"
           }
          ],
          "scatterpolar": [
           {
            "marker": {
             "colorbar": {
              "outlinewidth": 0,
              "ticks": ""
             }
            },
            "type": "scatterpolar"
           }
          ],
          "scatterpolargl": [
           {
            "marker": {
             "colorbar": {
              "outlinewidth": 0,
              "ticks": ""
             }
            },
            "type": "scatterpolargl"
           }
          ],
          "scatterternary": [
           {
            "marker": {
             "colorbar": {
              "outlinewidth": 0,
              "ticks": ""
             }
            },
            "type": "scatterternary"
           }
          ],
          "surface": [
           {
            "colorbar": {
             "outlinewidth": 0,
             "ticks": ""
            },
            "colorscale": [
             [
              0,
              "#0d0887"
             ],
             [
              0.1111111111111111,
              "#46039f"
             ],
             [
              0.2222222222222222,
              "#7201a8"
             ],
             [
              0.3333333333333333,
              "#9c179e"
             ],
             [
              0.4444444444444444,
              "#bd3786"
             ],
             [
              0.5555555555555556,
              "#d8576b"
             ],
             [
              0.6666666666666666,
              "#ed7953"
             ],
             [
              0.7777777777777778,
              "#fb9f3a"
             ],
             [
              0.8888888888888888,
              "#fdca26"
             ],
             [
              1,
              "#f0f921"
             ]
            ],
            "type": "surface"
           }
          ],
          "table": [
           {
            "cells": {
             "fill": {
              "color": "#EBF0F8"
             },
             "line": {
              "color": "white"
             }
            },
            "header": {
             "fill": {
              "color": "#C8D4E3"
             },
             "line": {
              "color": "white"
             }
            },
            "type": "table"
           }
          ]
         },
         "layout": {
          "annotationdefaults": {
           "arrowcolor": "#2a3f5f",
           "arrowhead": 0,
           "arrowwidth": 1
          },
          "autotypenumbers": "strict",
          "coloraxis": {
           "colorbar": {
            "outlinewidth": 0,
            "ticks": ""
           }
          },
          "colorscale": {
           "diverging": [
            [
             0,
             "#8e0152"
            ],
            [
             0.1,
             "#c51b7d"
            ],
            [
             0.2,
             "#de77ae"
            ],
            [
             0.3,
             "#f1b6da"
            ],
            [
             0.4,
             "#fde0ef"
            ],
            [
             0.5,
             "#f7f7f7"
            ],
            [
             0.6,
             "#e6f5d0"
            ],
            [
             0.7,
             "#b8e186"
            ],
            [
             0.8,
             "#7fbc41"
            ],
            [
             0.9,
             "#4d9221"
            ],
            [
             1,
             "#276419"
            ]
           ],
           "sequential": [
            [
             0,
             "#0d0887"
            ],
            [
             0.1111111111111111,
             "#46039f"
            ],
            [
             0.2222222222222222,
             "#7201a8"
            ],
            [
             0.3333333333333333,
             "#9c179e"
            ],
            [
             0.4444444444444444,
             "#bd3786"
            ],
            [
             0.5555555555555556,
             "#d8576b"
            ],
            [
             0.6666666666666666,
             "#ed7953"
            ],
            [
             0.7777777777777778,
             "#fb9f3a"
            ],
            [
             0.8888888888888888,
             "#fdca26"
            ],
            [
             1,
             "#f0f921"
            ]
           ],
           "sequentialminus": [
            [
             0,
             "#0d0887"
            ],
            [
             0.1111111111111111,
             "#46039f"
            ],
            [
             0.2222222222222222,
             "#7201a8"
            ],
            [
             0.3333333333333333,
             "#9c179e"
            ],
            [
             0.4444444444444444,
             "#bd3786"
            ],
            [
             0.5555555555555556,
             "#d8576b"
            ],
            [
             0.6666666666666666,
             "#ed7953"
            ],
            [
             0.7777777777777778,
             "#fb9f3a"
            ],
            [
             0.8888888888888888,
             "#fdca26"
            ],
            [
             1,
             "#f0f921"
            ]
           ]
          },
          "colorway": [
           "#636efa",
           "#EF553B",
           "#00cc96",
           "#ab63fa",
           "#FFA15A",
           "#19d3f3",
           "#FF6692",
           "#B6E880",
           "#FF97FF",
           "#FECB52"
          ],
          "font": {
           "color": "#2a3f5f"
          },
          "geo": {
           "bgcolor": "white",
           "lakecolor": "white",
           "landcolor": "#E5ECF6",
           "showlakes": true,
           "showland": true,
           "subunitcolor": "white"
          },
          "hoverlabel": {
           "align": "left"
          },
          "hovermode": "closest",
          "mapbox": {
           "style": "light"
          },
          "paper_bgcolor": "white",
          "plot_bgcolor": "#E5ECF6",
          "polar": {
           "angularaxis": {
            "gridcolor": "white",
            "linecolor": "white",
            "ticks": ""
           },
           "bgcolor": "#E5ECF6",
           "radialaxis": {
            "gridcolor": "white",
            "linecolor": "white",
            "ticks": ""
           }
          },
          "scene": {
           "xaxis": {
            "backgroundcolor": "#E5ECF6",
            "gridcolor": "white",
            "gridwidth": 2,
            "linecolor": "white",
            "showbackground": true,
            "ticks": "",
            "zerolinecolor": "white"
           },
           "yaxis": {
            "backgroundcolor": "#E5ECF6",
            "gridcolor": "white",
            "gridwidth": 2,
            "linecolor": "white",
            "showbackground": true,
            "ticks": "",
            "zerolinecolor": "white"
           },
           "zaxis": {
            "backgroundcolor": "#E5ECF6",
            "gridcolor": "white",
            "gridwidth": 2,
            "linecolor": "white",
            "showbackground": true,
            "ticks": "",
            "zerolinecolor": "white"
           }
          },
          "shapedefaults": {
           "line": {
            "color": "#2a3f5f"
           }
          },
          "ternary": {
           "aaxis": {
            "gridcolor": "white",
            "linecolor": "white",
            "ticks": ""
           },
           "baxis": {
            "gridcolor": "white",
            "linecolor": "white",
            "ticks": ""
           },
           "bgcolor": "#E5ECF6",
           "caxis": {
            "gridcolor": "white",
            "linecolor": "white",
            "ticks": ""
           }
          },
          "title": {
           "x": 0.05
          },
          "xaxis": {
           "automargin": true,
           "gridcolor": "white",
           "linecolor": "white",
           "ticks": "",
           "title": {
            "standoff": 15
           },
           "zerolinecolor": "white",
           "zerolinewidth": 2
          },
          "yaxis": {
           "automargin": true,
           "gridcolor": "white",
           "linecolor": "white",
           "ticks": "",
           "title": {
            "standoff": 15
           },
           "zerolinecolor": "white",
           "zerolinewidth": 2
          }
         }
        },
        "title": {
         "text": "True fractions of each mixture"
        },
        "xaxis": {
         "anchor": "y",
         "autorange": true,
         "domain": [
          0,
          1
         ],
         "range": [
          -0.5,
          18.5
         ],
         "title": {
          "text": "x"
         },
         "type": "category"
        },
        "yaxis": {
         "anchor": "x",
         "autorange": true,
         "domain": [
          0,
          1
         ],
         "range": [
          0,
          1.0527368421052634
         ],
         "title": {
          "text": "value"
         },
         "type": "linear"
        }
       }
      },
      "image/png": "[encoded data removed]"
     },
     "metadata": {},
     "output_type": "display_data"
    }
   ],
   "source": [
    "fig = px.bar(\n",
    "    truth,\n",
    "    x=truth.index.astype(str),\n",
    "    y=truth.columns,\n",
    "    title=\"True fractions of each mixture\"\n",
    ")\n",
    "\n",
    "fig.show()"
   ]
  }
 ],
 "metadata": {
  "environment": {
   "name": "tf2-gpu.2-5.m74",
   "type": "gcloud",
   "uri": "gcr.io/deeplearning-platform-release/tf2-gpu.2-5:m74"
  },
  "kernelspec": {
   "display_name": "Python 3",
   "language": "python",
   "name": "python3"
  },
  "language_info": {
   "codemirror_mode": {
    "name": "ipython",
    "version": 3
   },
   "file_extension": ".py",
   "mimetype": "text/x-python",
   "name": "python",
   "nbconvert_exporter": "python",
   "pygments_lexer": "ipython3",
   "version": "3.7.10"
  }
 },
 "nbformat": 4,
 "nbformat_minor": 5
}
