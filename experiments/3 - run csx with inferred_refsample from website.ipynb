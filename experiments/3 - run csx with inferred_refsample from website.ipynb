{
 "cells": [
  {
   "cell_type": "code",
   "execution_count": 1,
   "id": "791da12c-33c5-43ee-82e0-3dbeae2e1fcd",
   "metadata": {},
   "outputs": [],
   "source": [
    "import os\n",
    "import urllib\n",
    "\n",
    "import pandas as pd\n",
    "\n",
    "from cell_type_naming import nice_to_weirds, weird_to_nice"
   ]
  },
  {
   "cell_type": "code",
   "execution_count": 2,
   "id": "0b4c70c1-bd8c-4d73-b833-c941a81b3cf3",
   "metadata": {},
   "outputs": [
    {
     "data": {
      "text/plain": [
       "'gs://liulab/csx_experiments/varying_simple_parameters/website_inferred_refsample'"
      ]
     },
     "execution_count": 2,
     "metadata": {},
     "output_type": "execute_result"
    }
   ],
   "source": [
    "experiment_name = \"website_inferred_refsample\"\n",
    "experiment_uri = os.path.join(\"gs://liulab/csx_experiments/varying_simple_parameters\", experiment_name)\n",
    "\n",
    "experiment_uri"
   ]
  },
  {
   "cell_type": "code",
   "execution_count": 3,
   "id": "8205ea5b-72b0-454d-a400-77c0eb655d4f",
   "metadata": {},
   "outputs": [],
   "source": [
    "!gsutil --quiet rm -r $experiment_uri"
   ]
  },
  {
   "cell_type": "code",
   "execution_count": 4,
   "id": "10073627-fd92-467c-9e24-ca508e5ea8a9",
   "metadata": {
    "tags": []
   },
   "outputs": [
    {
     "name": "stdout",
     "output_type": "stream",
     "text": [
      "Copying gs://liulab/csx_example_files/Single_Cell_RNA-Seq_Melanoma_SuppFig_3b-d/mixture_melanoma_Tirosh_SuppFig_3b-d.txt [Content-Type=text/plain]...\n",
      "/ [1 files][  6.0 MiB/  6.0 MiB]                                                \n",
      "Operation completed over 1 objects/6.0 MiB.                                      \n"
     ]
    }
   ],
   "source": [
    "mixture_source = \"gs://liulab/csx_example_files/Single_Cell_RNA-Seq_Melanoma_SuppFig_3b-d/mixture_melanoma_Tirosh_SuppFig_3b-d.txt\"\n",
    "# mixture_filename = os.path.basename(mixture_source)\n",
    "mixture_filename = \"mymixture.txt\"\n",
    "mixture_target = os.path.join(experiment_uri, \"in\", mixture_filename)\n",
    "\n",
    "!gsutil cp $mixture_source $mixture_target"
   ]
  },
  {
   "cell_type": "code",
   "execution_count": 5,
   "id": "6bc39601-aaf8-4e17-8732-5d21daa2dc18",
   "metadata": {},
   "outputs": [
    {
     "name": "stderr",
     "output_type": "stream",
     "text": [
      "Copying gs://liulab/downloaded_manually/refsamples_from_csx_website/CIBERSORTx_Job4_myrefsample_inferred_refsample.txt [Content-Type=text/plain]...\n",
      "/ [1 files][  4.9 MiB/  4.9 MiB]                                                \n",
      "Operation completed over 1 objects/4.9 MiB.                                      \n",
      "Copying gs://liulab/downloaded_manually/refsamples_from_csx_website/CIBERSORTx_Job4_myrefsample_inferred_phenoclasses.txt [Content-Type=text/plain]...\n",
      "/ [1 files][  725.0 B/  725.0 B]                                                \n",
      "Operation completed over 1 objects/725.0 B.                                      \n"
     ]
    }
   ],
   "source": [
    "%%bash\n",
    "\n",
    "# refsample\n",
    "gsutil cp \\\n",
    "    gs://liulab/downloaded_manually/refsamples_from_csx_website/CIBERSORTx_Job4_myrefsample_inferred_refsample.txt \\\n",
    "    gs://liulab/csx_experiments/varying_simple_parameters/website_inferred_refsample/in/Job4_inferred_refsample.txt\n",
    "\n",
    "# phenoclasses\n",
    "gsutil cp \\\n",
    "    gs://liulab/downloaded_manually/refsamples_from_csx_website/CIBERSORTx_Job4_myrefsample_inferred_phenoclasses.txt \\\n",
    "    gs://liulab/csx_experiments/varying_simple_parameters/website_inferred_refsample/in/Job4_inferred_phenoclasses.txt\n"
   ]
  },
  {
   "cell_type": "code",
   "execution_count": 6,
   "id": "70747999-7b3d-4e36-b61f-d4845097d302",
   "metadata": {},
   "outputs": [],
   "source": [
    "experiment_path = os.path.abspath(\"./stuff\")"
   ]
  },
  {
   "cell_type": "code",
   "execution_count": 7,
   "id": "4c5e8bd8-5439-4414-b7bc-2792c7d7f88e",
   "metadata": {},
   "outputs": [],
   "source": [
    "!rm -r $experiment_path\n",
    "!mkdir -p $experiment_path"
   ]
  },
  {
   "cell_type": "code",
   "execution_count": 8,
   "id": "91f26aeb-2424-46d1-b36c-f9d37250ef6b",
   "metadata": {},
   "outputs": [
    {
     "name": "stdout",
     "output_type": "stream",
     "text": [
      "Building synchronization state...\n",
      "Starting synchronization...\n",
      "Copying gs://liulab/csx_experiments/varying_simple_parameters/website_inferred_refsample/in/Job4_inferred_phenoclasses.txt...\n",
      "Copying gs://liulab/csx_experiments/varying_simple_parameters/website_inferred_refsample/in/Job4_inferred_refsample.txt...\n",
      "Copying gs://liulab/csx_experiments/varying_simple_parameters/website_inferred_refsample/in/mymixture.txt...\n",
      "/ [3 files][ 10.9 MiB/ 10.9 MiB]                                                \n",
      "Operation completed over 3 objects/10.9 MiB.                                     \n"
     ]
    }
   ],
   "source": [
    "!gsutil rsync -r $experiment_uri $experiment_path"
   ]
  },
  {
   "cell_type": "code",
   "execution_count": 9,
   "id": "0fae3980-4cb0-464d-9499-57fe2449d379",
   "metadata": {},
   "outputs": [
    {
     "name": "stdout",
     "output_type": "stream",
     "text": [
      "\u001b[01;34m/home/jupyter/deconv/experiments/stuff\u001b[00m\n",
      "└── [4.0K]  \u001b[01;34min\u001b[00m\n",
      "    ├── [ 725]  Job4_inferred_phenoclasses.txt\n",
      "    ├── [4.9M]  Job4_inferred_refsample.txt\n",
      "    └── [6.0M]  mymixture.txt\n",
      "\n",
      "1 directory, 3 files\n"
     ]
    }
   ],
   "source": [
    "!tree -h $experiment_path"
   ]
  },
  {
   "cell_type": "code",
   "execution_count": 10,
   "id": "84e3b479-5ac5-40dd-a19c-c245c2c3d5fb",
   "metadata": {},
   "outputs": [
    {
     "name": "stdout",
     "output_type": "stream",
     "text": [
      "docker run \\\n",
      "     --rm \\\n",
      "     -v /home/jupyter/deconv/experiments/stuff/in:/src/data \\\n",
      "     -v /home/jupyter/deconv/experiments/stuff:/src/outdir \\\n",
      "     --user \"$(id -u):$(id -g)\" \\\n",
      "     cibersortx/fractions:latest \\\n",
      "     --username lyronctk@stanford.edu \\\n",
      "     --token dfeba2c8b9d61daebee5fa87026b8e56 \\\n",
      "     --single_cell FALSE \\\n",
      "     --refsample Job4_inferred_refsample.txt \\\n",
      "     --phenoclasses Job4_inferred_phenoclasses.txt \\\n",
      "     --mixture mymixture.txt \\\n",
      "     --verbose TRUE\n",
      "\n"
     ]
    }
   ],
   "source": [
    "command = f'''docker run \\\n",
    "    --rm \\\n",
    "    -v {experiment_path}/in:/src/data \\\n",
    "    -v {experiment_path}:/src/outdir \\\n",
    "    --user \"$(id -u):$(id -g)\" \\\n",
    "    cibersortx/fractions:latest \\\n",
    "    --username lyronctk@stanford.edu \\\n",
    "    --token dfeba2c8b9d61daebee5fa87026b8e56 \\\n",
    "    --single_cell FALSE \\\n",
    "    --refsample Job4_inferred_refsample.txt \\\n",
    "    --phenoclasses Job4_inferred_phenoclasses.txt \\\n",
    "    --mixture {mixture_filename} \\\n",
    "    --verbose TRUE\n",
    "'''.replace(\"    \", \" \\\\\\n    \")\n",
    "print(command)"
   ]
  },
  {
   "cell_type": "code",
   "execution_count": 11,
   "id": "d6d54920-23d6-4957-a291-b1365b58610c",
   "metadata": {},
   "outputs": [
    {
     "name": "stdout",
     "output_type": "stream",
     "text": [
      ">Running CIBERSORTxFractions...\n",
      ">[Options] username: lyronctk@stanford.edu\n",
      ">[Options] token: dfeba2c8b9d61daebee5fa87026b8e56\n",
      ">[Options] single_cell: FALSE\n",
      ">[Options] refsample: Job4_inferred_refsample.txt\n",
      ">[Options] phenoclasses: Job4_inferred_phenoclasses.txt\n",
      ">[Options] mixture: mymixture.txt\n",
      ">[Options] verbose: TRUE\n",
      ">==========Signature Matrix Settings============\n",
      ">Pure samples file: /src/data/Job4_inferred_refsample.txt\n",
      ">Phenotype classes file: /src/data/Job4_inferred_phenoclasses.txt\n",
      ">Quantile normalization of input samples is disabled\n",
      ">===============================================\n",
      ">C++14\n",
      ">Loaded 40 columns and 23684 rows\n",
      ">=============Make Signature Matrix=============\n",
      ">Maximum condition number (kappa):999\n",
      ">71036 DEG expressed across 8 samples were identified\n",
      ">Group size: 50, Kappa: 9.44702958017558\n",
      ">Best kappa: 9.44702958017558 \n",
      ">SVD UpperRightDiag: 20843.6\n",
      ">SVD LowerRightDiag: 2206.37\n",
      ">=============CIBERSORTx Settings===============\n",
      ">Mixture file: /src/data/mymixture.txt\n",
      ">Signature matrix file: /src/outdir//CIBERSORTx_Job4_inferred_phenoclasses.CIBERSORTx_Job4_inferred_refsample.bm.K999.txt\n",
      ">Enable verbose output\n",
      ">==================CIBERSORTx===================\n",
      "column Malignant Endothelial cells CAF T cells CD8 NK cells Macrophages T cells CD4 B cells P-value Correlation RMSE %Completed\n",
      "1 0 0.00520201 0.0579624 0.174325 0.264278 0.079393 0.418839 5.26316\n",
      "2 0 0.000100253 0.000699275 0.67946 0.0514853 0.00473496 0.242381 10.5263\n",
      "3 0.523678 0 0.432313 0 7.60533e-05 0.0438812 5.1403e-05 15.7895\n",
      "4 0.039854 0.001047 0 0.28434 0.107997 0.017764 0.311961 21.0526\n",
      "5 0.0621795 0 0 0.346209 0.0140817 0.0100131 0.566776 26.3158\n",
      "6 0 0 0 0.429907 0 0 0.545651 31.5789\n",
      "7 0.418453 2.05343e-05 5.76679e-05 0.435942 0.000335261 0.00464979 0.140515 36.8421\n",
      "8 0 0 0 0 0 0 0.955891 42.1053\n",
      "9 0 0.000539721 0.00285902 0.766487 0.0294199 0.00384561 0.195403 47.3684\n",
      "10 0.00233954 0 0.000130768 0.994926 0 0.00255471 0 52.6316\n",
      "11 0.997614 0 0.000139324 0 0 0.000218377 0.000346672 57.8947\n",
      "12 0.57145 0.0123158 0 0.376055 0 0.00932293 0.0278148 63.1579\n",
      "13 0.3234 0.0637235 0.0552854 0.195792 0.0100209 0 0.320874 68.4211\n",
      "14 0.209165 0.000152938 0.017251 0.371966 0.00672308 0.00246252 0.383995 73.6842\n",
      "15 0.213811 0.00326137 0.0950933 0.150687 0.0645261 0.0601461 0.391949 78.9474\n",
      "16 0.0464435 0 0.00459211 0.271506 0.113509 0.153148 0.36897 84.2105\n",
      "17 0.391203 0.000153706 0.0067979 0.0951732 0.0365495 0.128611 0.2052 89.4737\n",
      "18 0.261412 0 0 0.365074 0.0202045 0.0454148 0.258377 94.7368\n",
      "19 0.00762194 0.143268 0.0661923 0 0 0.0152816 0.490525 100\n"
     ]
    }
   ],
   "source": [
    "!{command}"
   ]
  },
  {
   "cell_type": "code",
   "execution_count": 17,
   "id": "5fb611a4-912b-4091-8cc0-05cee3003b41",
   "metadata": {},
   "outputs": [
    {
     "name": "stdout",
     "output_type": "stream",
     "text": [
      "\u001b[01;34m/home/jupyter/deconv/experiments/stuff\u001b[00m\n",
      "├── [ 25K]  CIBERSORTx_Job4_inferred_phenoclasses.CIBERSORTx_Job4_inferred_refsample.bm.K999.pdf\n",
      "├── [ 59K]  CIBERSORTx_Job4_inferred_phenoclasses.CIBERSORTx_Job4_inferred_refsample.bm.K999.txt\n",
      "├── [4.3K]  CIBERSORTx_Results.txt\n",
      "├── [3.8M]  CIBERSORTx_cell_type_sourceGEP.txt\n",
      "└── [4.0K]  \u001b[01;34min\u001b[00m\n",
      "    ├── [ 725]  Job4_inferred_phenoclasses.txt\n",
      "    ├── [4.9M]  Job4_inferred_refsample.txt\n",
      "    └── [6.0M]  mymixture.txt\n",
      "\n",
      "1 directory, 7 files\n"
     ]
    }
   ],
   "source": [
    "!tree -h $experiment_path"
   ]
  },
  {
   "cell_type": "code",
   "execution_count": 18,
   "id": "ea8a0b43-ebce-44a8-9abe-8d0248a25e60",
   "metadata": {},
   "outputs": [
    {
     "name": "stdout",
     "output_type": "stream",
     "text": [
      "Building synchronization state...\n",
      "Starting synchronization...\n",
      "Copying file:///home/jupyter/deconv/experiments/stuff/CIBERSORTx_Job4_inferred_phenoclasses.CIBERSORTx_Job4_inferred_refsample.bm.K999.pdf [Content-Type=application/pdf]...\n",
      "Copying file:///home/jupyter/deconv/experiments/stuff/CIBERSORTx_Job4_inferred_phenoclasses.CIBERSORTx_Job4_inferred_refsample.bm.K999.txt [Content-Type=text/plain]...\n",
      "Copying file:///home/jupyter/deconv/experiments/stuff/CIBERSORTx_Results.txt [Content-Type=text/plain]...\n",
      "Copying file:///home/jupyter/deconv/experiments/stuff/CIBERSORTx_cell_type_sourceGEP.txt [Content-Type=text/plain]...\n",
      "- [4 files][  3.9 MiB/  3.9 MiB]                                                \n",
      "==> NOTE: You are performing a sequence of gsutil operations that may\n",
      "run significantly faster if you instead use gsutil -m rsync ... Please\n",
      "see the -m section under \"gsutil help options\" for further information\n",
      "about when gsutil -m can be advantageous.\n",
      "\n",
      "Copying mtime from src to dst for gs://liulab/csx_experiments/varying_simple_parameters/website_inferred_refsample/in/Job4_inferred_phenoclasses.txt\n",
      "Copying mtime from src to dst for gs://liulab/csx_experiments/varying_simple_parameters/website_inferred_refsample/in/Job4_inferred_refsample.txt\n",
      "\n",
      "Operation completed over 4 objects/3.9 MiB.                                      \n"
     ]
    }
   ],
   "source": [
    "!gsutil rsync -r $experiment_path $experiment_uri"
   ]
  },
  {
   "cell_type": "code",
   "execution_count": 19,
   "id": "70f188e2-0591-40db-a2c5-fbaae814f2ec",
   "metadata": {},
   "outputs": [
    {
     "data": {
      "text/html": [
       "<div>\n",
       "<style scoped>\n",
       "    .dataframe tbody tr th:only-of-type {\n",
       "        vertical-align: middle;\n",
       "    }\n",
       "\n",
       "    .dataframe tbody tr th {\n",
       "        vertical-align: top;\n",
       "    }\n",
       "\n",
       "    .dataframe thead th {\n",
       "        text-align: right;\n",
       "    }\n",
       "</style>\n",
       "<table border=\"1\" class=\"dataframe\">\n",
       "  <thead>\n",
       "    <tr style=\"text-align: right;\">\n",
       "      <th></th>\n",
       "      <th>Malignant</th>\n",
       "      <th>Endothelial</th>\n",
       "      <th>CAF</th>\n",
       "      <th>T CD8</th>\n",
       "      <th>NK</th>\n",
       "      <th>Macrophage</th>\n",
       "      <th>T CD4</th>\n",
       "      <th>B</th>\n",
       "    </tr>\n",
       "    <tr>\n",
       "      <th>mixture_id</th>\n",
       "      <th></th>\n",
       "      <th></th>\n",
       "      <th></th>\n",
       "      <th></th>\n",
       "      <th></th>\n",
       "      <th></th>\n",
       "      <th></th>\n",
       "      <th></th>\n",
       "    </tr>\n",
       "  </thead>\n",
       "  <tbody>\n",
       "    <tr>\n",
       "      <th>60</th>\n",
       "      <td>0.039854</td>\n",
       "      <td>0.001047</td>\n",
       "      <td>0.000000</td>\n",
       "      <td>0.284340</td>\n",
       "      <td>0.107997</td>\n",
       "      <td>0.017764</td>\n",
       "      <td>0.311961</td>\n",
       "      <td>0.237037</td>\n",
       "    </tr>\n",
       "    <tr>\n",
       "      <th>67</th>\n",
       "      <td>0.000000</td>\n",
       "      <td>0.000000</td>\n",
       "      <td>0.000000</td>\n",
       "      <td>0.429907</td>\n",
       "      <td>0.000000</td>\n",
       "      <td>0.000000</td>\n",
       "      <td>0.545651</td>\n",
       "      <td>0.024442</td>\n",
       "    </tr>\n",
       "    <tr>\n",
       "      <th>58</th>\n",
       "      <td>0.000000</td>\n",
       "      <td>0.000100</td>\n",
       "      <td>0.000699</td>\n",
       "      <td>0.679460</td>\n",
       "      <td>0.051485</td>\n",
       "      <td>0.004735</td>\n",
       "      <td>0.242381</td>\n",
       "      <td>0.021139</td>\n",
       "    </tr>\n",
       "    <tr>\n",
       "      <th>80</th>\n",
       "      <td>0.323400</td>\n",
       "      <td>0.063724</td>\n",
       "      <td>0.055285</td>\n",
       "      <td>0.195792</td>\n",
       "      <td>0.010021</td>\n",
       "      <td>0.000000</td>\n",
       "      <td>0.320874</td>\n",
       "      <td>0.030904</td>\n",
       "    </tr>\n",
       "    <tr>\n",
       "      <th>81</th>\n",
       "      <td>0.209165</td>\n",
       "      <td>0.000153</td>\n",
       "      <td>0.017251</td>\n",
       "      <td>0.371966</td>\n",
       "      <td>0.006723</td>\n",
       "      <td>0.002463</td>\n",
       "      <td>0.383995</td>\n",
       "      <td>0.008284</td>\n",
       "    </tr>\n",
       "  </tbody>\n",
       "</table>\n",
       "</div>"
      ],
      "text/plain": [
       "            Malignant  Endothelial       CAF     T CD8        NK  Macrophage  \\\n",
       "mixture_id                                                                     \n",
       "60           0.039854     0.001047  0.000000  0.284340  0.107997    0.017764   \n",
       "67           0.000000     0.000000  0.000000  0.429907  0.000000    0.000000   \n",
       "58           0.000000     0.000100  0.000699  0.679460  0.051485    0.004735   \n",
       "80           0.323400     0.063724  0.055285  0.195792  0.010021    0.000000   \n",
       "81           0.209165     0.000153  0.017251  0.371966  0.006723    0.002463   \n",
       "\n",
       "               T CD4         B  \n",
       "mixture_id                      \n",
       "60          0.311961  0.237037  \n",
       "67          0.545651  0.024442  \n",
       "58          0.242381  0.021139  \n",
       "80          0.320874  0.030904  \n",
       "81          0.383995  0.008284  "
      ]
     },
     "execution_count": 19,
     "metadata": {},
     "output_type": "execute_result"
    }
   ],
   "source": [
    "fractions_csx = pd.read_csv(\n",
    "    os.path.join(experiment_uri, \"CIBERSORTx_Results.txt\"),\n",
    "    sep=\"\\t\",\n",
    "    index_col=0\n",
    ").rename_axis(index=\"mixture_id\").rename(columns=weird_to_nice).iloc[:, :-3]\n",
    "\n",
    "fractions_csx.sample(5)"
   ]
  },
  {
   "cell_type": "code",
   "execution_count": 21,
   "id": "5c50ee82-eb89-44dc-970a-df8509e315b8",
   "metadata": {},
   "outputs": [
    {
     "data": {
      "text/html": [
       "<div>\n",
       "<style scoped>\n",
       "    .dataframe tbody tr th:only-of-type {\n",
       "        vertical-align: middle;\n",
       "    }\n",
       "\n",
       "    .dataframe tbody tr th {\n",
       "        vertical-align: top;\n",
       "    }\n",
       "\n",
       "    .dataframe thead th {\n",
       "        text-align: right;\n",
       "    }\n",
       "</style>\n",
       "<table border=\"1\" class=\"dataframe\">\n",
       "  <thead>\n",
       "    <tr style=\"text-align: right;\">\n",
       "      <th></th>\n",
       "      <th>Malignant</th>\n",
       "      <th>Endothelial</th>\n",
       "      <th>CAF</th>\n",
       "      <th>T CD8</th>\n",
       "      <th>NK</th>\n",
       "      <th>Macrophage</th>\n",
       "      <th>T CD4</th>\n",
       "      <th>B</th>\n",
       "    </tr>\n",
       "    <tr>\n",
       "      <th>gene</th>\n",
       "      <th></th>\n",
       "      <th></th>\n",
       "      <th></th>\n",
       "      <th></th>\n",
       "      <th></th>\n",
       "      <th></th>\n",
       "      <th></th>\n",
       "      <th></th>\n",
       "    </tr>\n",
       "  </thead>\n",
       "  <tbody>\n",
       "    <tr>\n",
       "      <th>FABP4</th>\n",
       "      <td>1.0</td>\n",
       "      <td>3327.668464</td>\n",
       "      <td>1.000000</td>\n",
       "      <td>1.000000</td>\n",
       "      <td>1.000000</td>\n",
       "      <td>1.000000</td>\n",
       "      <td>1.000000</td>\n",
       "      <td>1.0</td>\n",
       "    </tr>\n",
       "    <tr>\n",
       "      <th>COL6A3</th>\n",
       "      <td>1.0</td>\n",
       "      <td>1.000000</td>\n",
       "      <td>363.391834</td>\n",
       "      <td>1.000000</td>\n",
       "      <td>1.000000</td>\n",
       "      <td>1.000000</td>\n",
       "      <td>1.000000</td>\n",
       "      <td>1.0</td>\n",
       "    </tr>\n",
       "    <tr>\n",
       "      <th>KLRC4</th>\n",
       "      <td>1.0</td>\n",
       "      <td>1.000000</td>\n",
       "      <td>1.000000</td>\n",
       "      <td>192.902598</td>\n",
       "      <td>78.028177</td>\n",
       "      <td>1.000000</td>\n",
       "      <td>1.000000</td>\n",
       "      <td>1.0</td>\n",
       "    </tr>\n",
       "    <tr>\n",
       "      <th>CFD</th>\n",
       "      <td>1.0</td>\n",
       "      <td>1.000000</td>\n",
       "      <td>1456.071120</td>\n",
       "      <td>1.000000</td>\n",
       "      <td>1.000000</td>\n",
       "      <td>365.556672</td>\n",
       "      <td>1.000000</td>\n",
       "      <td>1.0</td>\n",
       "    </tr>\n",
       "    <tr>\n",
       "      <th>ASB2</th>\n",
       "      <td>1.0</td>\n",
       "      <td>1.000000</td>\n",
       "      <td>1.000000</td>\n",
       "      <td>1.000000</td>\n",
       "      <td>1.000000</td>\n",
       "      <td>1.000000</td>\n",
       "      <td>58.701862</td>\n",
       "      <td>1.0</td>\n",
       "    </tr>\n",
       "  </tbody>\n",
       "</table>\n",
       "</div>"
      ],
      "text/plain": [
       "        Malignant  Endothelial          CAF       T CD8         NK  \\\n",
       "gene                                                                 \n",
       "FABP4         1.0  3327.668464     1.000000    1.000000   1.000000   \n",
       "COL6A3        1.0     1.000000   363.391834    1.000000   1.000000   \n",
       "KLRC4         1.0     1.000000     1.000000  192.902598  78.028177   \n",
       "CFD           1.0     1.000000  1456.071120    1.000000   1.000000   \n",
       "ASB2          1.0     1.000000     1.000000    1.000000   1.000000   \n",
       "\n",
       "        Macrophage      T CD4    B  \n",
       "gene                                \n",
       "FABP4     1.000000   1.000000  1.0  \n",
       "COL6A3    1.000000   1.000000  1.0  \n",
       "KLRC4     1.000000   1.000000  1.0  \n",
       "CFD     365.556672   1.000000  1.0  \n",
       "ASB2      1.000000  58.701862  1.0  "
      ]
     },
     "execution_count": 21,
     "metadata": {},
     "output_type": "execute_result"
    }
   ],
   "source": [
    "signature_matrix = pd.read_csv(\n",
    "    os.path.join(experiment_uri, \"CIBERSORTx_Job4_inferred_phenoclasses.CIBERSORTx_Job4_inferred_refsample.bm.K999.txt\"),\n",
    "    sep=\"\\t\",\n",
    "    index_col=0\n",
    ").rename_axis(index=\"gene\").rename(columns=weird_to_nice)\n",
    "\n",
    "signature_matrix.sample(5)"
   ]
  },
  {
   "cell_type": "code",
   "execution_count": 22,
   "id": "43664192-cce7-43e9-a932-aed082b9a6f9",
   "metadata": {},
   "outputs": [
    {
     "data": {
      "text/html": [
       "<div>\n",
       "<style scoped>\n",
       "    .dataframe tbody tr th:only-of-type {\n",
       "        vertical-align: middle;\n",
       "    }\n",
       "\n",
       "    .dataframe tbody tr th {\n",
       "        vertical-align: top;\n",
       "    }\n",
       "\n",
       "    .dataframe thead th {\n",
       "        text-align: right;\n",
       "    }\n",
       "</style>\n",
       "<table border=\"1\" class=\"dataframe\">\n",
       "  <thead>\n",
       "    <tr style=\"text-align: right;\">\n",
       "      <th></th>\n",
       "      <th>Malignant</th>\n",
       "      <th>Endothelial</th>\n",
       "      <th>CAF</th>\n",
       "      <th>T CD8</th>\n",
       "      <th>NK</th>\n",
       "      <th>Macrophage</th>\n",
       "      <th>T CD4</th>\n",
       "      <th>B</th>\n",
       "    </tr>\n",
       "    <tr>\n",
       "      <th>mixture_id</th>\n",
       "      <th></th>\n",
       "      <th></th>\n",
       "      <th></th>\n",
       "      <th></th>\n",
       "      <th></th>\n",
       "      <th></th>\n",
       "      <th></th>\n",
       "      <th></th>\n",
       "    </tr>\n",
       "  </thead>\n",
       "  <tbody>\n",
       "    <tr>\n",
       "      <th>53</th>\n",
       "      <td>0.1280</td>\n",
       "      <td>0.0880</td>\n",
       "      <td>0.0320</td>\n",
       "      <td>0.2000</td>\n",
       "      <td>0.0800</td>\n",
       "      <td>0.0960</td>\n",
       "      <td>0.3760</td>\n",
       "      <td>0.0000</td>\n",
       "    </tr>\n",
       "    <tr>\n",
       "      <th>65</th>\n",
       "      <td>0.0755</td>\n",
       "      <td>0.0000</td>\n",
       "      <td>0.0000</td>\n",
       "      <td>0.4717</td>\n",
       "      <td>0.0000</td>\n",
       "      <td>0.0189</td>\n",
       "      <td>0.3396</td>\n",
       "      <td>0.0943</td>\n",
       "    </tr>\n",
       "    <tr>\n",
       "      <th>84</th>\n",
       "      <td>0.1045</td>\n",
       "      <td>0.0075</td>\n",
       "      <td>0.0075</td>\n",
       "      <td>0.1716</td>\n",
       "      <td>0.0522</td>\n",
       "      <td>0.1866</td>\n",
       "      <td>0.2836</td>\n",
       "      <td>0.1866</td>\n",
       "    </tr>\n",
       "    <tr>\n",
       "      <th>75</th>\n",
       "      <td>0.0087</td>\n",
       "      <td>0.0000</td>\n",
       "      <td>0.0000</td>\n",
       "      <td>0.9417</td>\n",
       "      <td>0.0000</td>\n",
       "      <td>0.0029</td>\n",
       "      <td>0.0466</td>\n",
       "      <td>0.0000</td>\n",
       "    </tr>\n",
       "    <tr>\n",
       "      <th>72</th>\n",
       "      <td>0.0000</td>\n",
       "      <td>0.0000</td>\n",
       "      <td>0.0000</td>\n",
       "      <td>0.1634</td>\n",
       "      <td>0.0065</td>\n",
       "      <td>0.0000</td>\n",
       "      <td>0.6013</td>\n",
       "      <td>0.2288</td>\n",
       "    </tr>\n",
       "  </tbody>\n",
       "</table>\n",
       "</div>"
      ],
      "text/plain": [
       "            Malignant  Endothelial     CAF   T CD8      NK  Macrophage  \\\n",
       "mixture_id                                                               \n",
       "53             0.1280       0.0880  0.0320  0.2000  0.0800      0.0960   \n",
       "65             0.0755       0.0000  0.0000  0.4717  0.0000      0.0189   \n",
       "84             0.1045       0.0075  0.0075  0.1716  0.0522      0.1866   \n",
       "75             0.0087       0.0000  0.0000  0.9417  0.0000      0.0029   \n",
       "72             0.0000       0.0000  0.0000  0.1634  0.0065      0.0000   \n",
       "\n",
       "             T CD4       B  \n",
       "mixture_id                  \n",
       "53          0.3760  0.0000  \n",
       "65          0.3396  0.0943  \n",
       "84          0.2836  0.1866  \n",
       "75          0.0466  0.0000  \n",
       "72          0.6013  0.2288  "
      ]
     },
     "execution_count": 22,
     "metadata": {},
     "output_type": "execute_result"
    }
   ],
   "source": [
    "fractions_truth = pd.read_csv(\n",
    "    \"gs://liulab/csx_example_files/groundtruth_Melanoma_Tirosh_et_al_SuppFig3b-d.txt\",\n",
    "    sep=\"\\t\",\n",
    "    index_col=0,\n",
    ").rename_axis(index=\"mixture_id\").rename(columns=weird_to_nice)\n",
    "\n",
    "fractions_truth.sample(5)"
   ]
  },
  {
   "cell_type": "code",
   "execution_count": 23,
   "id": "0780eff3-68af-4ea0-9071-dd19f4abc2a3",
   "metadata": {},
   "outputs": [],
   "source": [
    "import plotly.io\n",
    "plotly.io.renderers.default = \"jupyterlab+png\"\n",
    "\n",
    "import plotly.express as px\n",
    "import plotly.graph_objects as go"
   ]
  },
  {
   "cell_type": "code",
   "execution_count": 26,
   "id": "759887b4-16c4-462e-add0-cd433ed84852",
   "metadata": {},
   "outputs": [
    {
     "data": {
      "application/vnd.plotly.v1+json": {
       "config": {
        "plotlyServerURL": "https://plot.ly"
       },
       "data": [
        {
         "alignmentgroup": "True",
         "hovertemplate": "variable=Malignant<br>x=%{x}<br>value=%{y}<extra></extra>",
         "legendgroup": "Malignant",
         "marker": {
          "color": "#636efa",
          "pattern": {
           "shape": ""
          }
         },
         "name": "Malignant",
         "offsetgroup": "Malignant",
         "orientation": "v",
         "showlegend": true,
         "textposition": "auto",
         "type": "bar",
         "x": [
          "53",
          "58",
          "59",
          "60",
          "65",
          "67",
          "71",
          "72",
          "74",
          "75",
          "78",
          "79",
          "80",
          "81",
          "82",
          "84",
          "88",
          "89",
          "94"
         ],
         "xaxis": "x",
         "y": [
          0.128,
          0,
          0.871,
          0.0448,
          0.0755,
          0,
          0.6835,
          0,
          0,
          0.0087,
          0.9756,
          0.5474,
          0.2828,
          0.7308,
          0.4638,
          0.1045,
          0.3966,
          0.2263,
          0.0413
         ],
         "yaxis": "y"
        },
        {
         "alignmentgroup": "True",
         "hovertemplate": "variable=Endothelial<br>x=%{x}<br>value=%{y}<extra></extra>",
         "legendgroup": "Endothelial",
         "marker": {
          "color": "#EF553B",
          "pattern": {
           "shape": ""
          }
         },
         "name": "Endothelial",
         "offsetgroup": "Endothelial",
         "orientation": "v",
         "showlegend": true,
         "textposition": "auto",
         "type": "bar",
         "x": [
          "53",
          "58",
          "59",
          "60",
          "65",
          "67",
          "71",
          "72",
          "74",
          "75",
          "78",
          "79",
          "80",
          "81",
          "82",
          "84",
          "88",
          "89",
          "94"
         ],
         "xaxis": "x",
         "y": [
          0.088,
          0,
          0,
          0,
          0,
          0,
          0,
          0,
          0,
          0,
          0,
          0.0023,
          0.0656,
          0.011,
          0,
          0.0075,
          0,
          0.0023,
          0.0785
         ],
         "yaxis": "y"
        },
        {
         "alignmentgroup": "True",
         "hovertemplate": "variable=CAF<br>x=%{x}<br>value=%{y}<extra></extra>",
         "legendgroup": "CAF",
         "marker": {
          "color": "#00cc96",
          "pattern": {
           "shape": ""
          }
         },
         "name": "CAF",
         "offsetgroup": "CAF",
         "orientation": "v",
         "showlegend": true,
         "textposition": "auto",
         "type": "bar",
         "x": [
          "53",
          "58",
          "59",
          "60",
          "65",
          "67",
          "71",
          "72",
          "74",
          "75",
          "78",
          "79",
          "80",
          "81",
          "82",
          "84",
          "88",
          "89",
          "94"
         ],
         "xaxis": "x",
         "y": [
          0.032,
          0,
          0.1129,
          0,
          0,
          0,
          0,
          0,
          0,
          0,
          0.0081,
          0.0012,
          0.052,
          0,
          0.087,
          0.0075,
          0.0068,
          0,
          0.0661
         ],
         "yaxis": "y"
        },
        {
         "alignmentgroup": "True",
         "hovertemplate": "variable=T CD8<br>x=%{x}<br>value=%{y}<extra></extra>",
         "legendgroup": "T CD8",
         "marker": {
          "color": "#ab63fa",
          "pattern": {
           "shape": ""
          }
         },
         "name": "T CD8",
         "offsetgroup": "T CD8",
         "orientation": "v",
         "showlegend": true,
         "textposition": "auto",
         "type": "bar",
         "x": [
          "53",
          "58",
          "59",
          "60",
          "65",
          "67",
          "71",
          "72",
          "74",
          "75",
          "78",
          "79",
          "80",
          "81",
          "82",
          "84",
          "88",
          "89",
          "94"
         ],
         "xaxis": "x",
         "y": [
          0.2,
          0.6508,
          0,
          0.194,
          0.4717,
          0.3059,
          0.1899,
          0.1634,
          0.6496,
          0.9417,
          0,
          0.2795,
          0.1538,
          0.1044,
          0.1304,
          0.1716,
          0.1559,
          0.3141,
          0.2025
         ],
         "yaxis": "y"
        },
        {
         "alignmentgroup": "True",
         "hovertemplate": "variable=NK<br>x=%{x}<br>value=%{y}<extra></extra>",
         "legendgroup": "NK",
         "marker": {
          "color": "#FFA15A",
          "pattern": {
           "shape": ""
          }
         },
         "name": "NK",
         "offsetgroup": "NK",
         "orientation": "v",
         "showlegend": true,
         "textposition": "auto",
         "type": "bar",
         "x": [
          "53",
          "58",
          "59",
          "60",
          "65",
          "67",
          "71",
          "72",
          "74",
          "75",
          "78",
          "79",
          "80",
          "81",
          "82",
          "84",
          "88",
          "89",
          "94"
         ],
         "xaxis": "x",
         "y": [
          0.08,
          0.0317,
          0,
          0.0498,
          0,
          0.0118,
          0,
          0.0065,
          0.0073,
          0,
          0,
          0.0012,
          0.009,
          0,
          0.029,
          0.0522,
          0.0305,
          0.0023,
          0.0041
         ],
         "yaxis": "y"
        },
        {
         "alignmentgroup": "True",
         "hovertemplate": "variable=Macrophage<br>x=%{x}<br>value=%{y}<extra></extra>",
         "legendgroup": "Macrophage",
         "marker": {
          "color": "#19d3f3",
          "pattern": {
           "shape": ""
          }
         },
         "name": "Macrophage",
         "offsetgroup": "Macrophage",
         "orientation": "v",
         "showlegend": true,
         "textposition": "auto",
         "type": "bar",
         "x": [
          "53",
          "58",
          "59",
          "60",
          "65",
          "67",
          "71",
          "72",
          "74",
          "75",
          "78",
          "79",
          "80",
          "81",
          "82",
          "84",
          "88",
          "89",
          "94"
         ],
         "xaxis": "x",
         "y": [
          0.096,
          0.0159,
          0.0161,
          0.0199,
          0.0189,
          0,
          0.0253,
          0,
          0.0365,
          0.0029,
          0,
          0,
          0,
          0,
          0.058,
          0.1866,
          0.1356,
          0.06,
          0.0083
         ],
         "yaxis": "y"
        },
        {
         "alignmentgroup": "True",
         "hovertemplate": "variable=T CD4<br>x=%{x}<br>value=%{y}<extra></extra>",
         "legendgroup": "T CD4",
         "marker": {
          "color": "#FF6692",
          "pattern": {
           "shape": ""
          }
         },
         "name": "T CD4",
         "offsetgroup": "T CD4",
         "orientation": "v",
         "showlegend": true,
         "textposition": "auto",
         "type": "bar",
         "x": [
          "53",
          "58",
          "59",
          "60",
          "65",
          "67",
          "71",
          "72",
          "74",
          "75",
          "78",
          "79",
          "80",
          "81",
          "82",
          "84",
          "88",
          "89",
          "94"
         ],
         "xaxis": "x",
         "y": [
          0.376,
          0.2857,
          0,
          0.2139,
          0.3396,
          0.4588,
          0.1013,
          0.6013,
          0.2117,
          0.0466,
          0.0081,
          0.076,
          0.3258,
          0.1374,
          0.2174,
          0.2836,
          0.2203,
          0.1501,
          0.3306
         ],
         "yaxis": "y"
        },
        {
         "alignmentgroup": "True",
         "hovertemplate": "variable=B<br>x=%{x}<br>value=%{y}<extra></extra>",
         "legendgroup": "B",
         "marker": {
          "color": "#B6E880",
          "pattern": {
           "shape": ""
          }
         },
         "name": "B",
         "offsetgroup": "B",
         "orientation": "v",
         "showlegend": true,
         "textposition": "auto",
         "type": "bar",
         "x": [
          "53",
          "58",
          "59",
          "60",
          "65",
          "67",
          "71",
          "72",
          "74",
          "75",
          "78",
          "79",
          "80",
          "81",
          "82",
          "84",
          "88",
          "89",
          "94"
         ],
         "xaxis": "x",
         "y": [
          0,
          0.0159,
          0,
          0.4776,
          0.0943,
          0.2235,
          0,
          0.2288,
          0.0949,
          0,
          0.0081,
          0.0924,
          0.1109,
          0.0165,
          0.0145,
          0.1866,
          0.0542,
          0.2448,
          0.2686
         ],
         "yaxis": "y"
        }
       ],
       "layout": {
        "autosize": true,
        "barmode": "relative",
        "legend": {
         "title": {
          "text": "variable"
         },
         "tracegroupgap": 0
        },
        "template": {
         "data": {
          "bar": [
           {
            "error_x": {
             "color": "#2a3f5f"
            },
            "error_y": {
             "color": "#2a3f5f"
            },
            "marker": {
             "line": {
              "color": "#E5ECF6",
              "width": 0.5
             },
             "pattern": {
              "fillmode": "overlay",
              "size": 10,
              "solidity": 0.2
             }
            },
            "type": "bar"
           }
          ],
          "barpolar": [
           {
            "marker": {
             "line": {
              "color": "#E5ECF6",
              "width": 0.5
             },
             "pattern": {
              "fillmode": "overlay",
              "size": 10,
              "solidity": 0.2
             }
            },
            "type": "barpolar"
           }
          ],
          "carpet": [
           {
            "aaxis": {
             "endlinecolor": "#2a3f5f",
             "gridcolor": "white",
             "linecolor": "white",
             "minorgridcolor": "white",
             "startlinecolor": "#2a3f5f"
            },
            "baxis": {
             "endlinecolor": "#2a3f5f",
             "gridcolor": "white",
             "linecolor": "white",
             "minorgridcolor": "white",
             "startlinecolor": "#2a3f5f"
            },
            "type": "carpet"
           }
          ],
          "choropleth": [
           {
            "colorbar": {
             "outlinewidth": 0,
             "ticks": ""
            },
            "type": "choropleth"
           }
          ],
          "contour": [
           {
            "colorbar": {
             "outlinewidth": 0,
             "ticks": ""
            },
            "colorscale": [
             [
              0,
              "#0d0887"
             ],
             [
              0.1111111111111111,
              "#46039f"
             ],
             [
              0.2222222222222222,
              "#7201a8"
             ],
             [
              0.3333333333333333,
              "#9c179e"
             ],
             [
              0.4444444444444444,
              "#bd3786"
             ],
             [
              0.5555555555555556,
              "#d8576b"
             ],
             [
              0.6666666666666666,
              "#ed7953"
             ],
             [
              0.7777777777777778,
              "#fb9f3a"
             ],
             [
              0.8888888888888888,
              "#fdca26"
             ],
             [
              1,
              "#f0f921"
             ]
            ],
            "type": "contour"
           }
          ],
          "contourcarpet": [
           {
            "colorbar": {
             "outlinewidth": 0,
             "ticks": ""
            },
            "type": "contourcarpet"
           }
          ],
          "heatmap": [
           {
            "colorbar": {
             "outlinewidth": 0,
             "ticks": ""
            },
            "colorscale": [
             [
              0,
              "#0d0887"
             ],
             [
              0.1111111111111111,
              "#46039f"
             ],
             [
              0.2222222222222222,
              "#7201a8"
             ],
             [
              0.3333333333333333,
              "#9c179e"
             ],
             [
              0.4444444444444444,
              "#bd3786"
             ],
             [
              0.5555555555555556,
              "#d8576b"
             ],
             [
              0.6666666666666666,
              "#ed7953"
             ],
             [
              0.7777777777777778,
              "#fb9f3a"
             ],
             [
              0.8888888888888888,
              "#fdca26"
             ],
             [
              1,
              "#f0f921"
             ]
            ],
            "type": "heatmap"
           }
          ],
          "heatmapgl": [
           {
            "colorbar": {
             "outlinewidth": 0,
             "ticks": ""
            },
            "colorscale": [
             [
              0,
              "#0d0887"
             ],
             [
              0.1111111111111111,
              "#46039f"
             ],
             [
              0.2222222222222222,
              "#7201a8"
             ],
             [
              0.3333333333333333,
              "#9c179e"
             ],
             [
              0.4444444444444444,
              "#bd3786"
             ],
             [
              0.5555555555555556,
              "#d8576b"
             ],
             [
              0.6666666666666666,
              "#ed7953"
             ],
             [
              0.7777777777777778,
              "#fb9f3a"
             ],
             [
              0.8888888888888888,
              "#fdca26"
             ],
             [
              1,
              "#f0f921"
             ]
            ],
            "type": "heatmapgl"
           }
          ],
          "histogram": [
           {
            "marker": {
             "pattern": {
              "fillmode": "overlay",
              "size": 10,
              "solidity": 0.2
             }
            },
            "type": "histogram"
           }
          ],
          "histogram2d": [
           {
            "colorbar": {
             "outlinewidth": 0,
             "ticks": ""
            },
            "colorscale": [
             [
              0,
              "#0d0887"
             ],
             [
              0.1111111111111111,
              "#46039f"
             ],
             [
              0.2222222222222222,
              "#7201a8"
             ],
             [
              0.3333333333333333,
              "#9c179e"
             ],
             [
              0.4444444444444444,
              "#bd3786"
             ],
             [
              0.5555555555555556,
              "#d8576b"
             ],
             [
              0.6666666666666666,
              "#ed7953"
             ],
             [
              0.7777777777777778,
              "#fb9f3a"
             ],
             [
              0.8888888888888888,
              "#fdca26"
             ],
             [
              1,
              "#f0f921"
             ]
            ],
            "type": "histogram2d"
           }
          ],
          "histogram2dcontour": [
           {
            "colorbar": {
             "outlinewidth": 0,
             "ticks": ""
            },
            "colorscale": [
             [
              0,
              "#0d0887"
             ],
             [
              0.1111111111111111,
              "#46039f"
             ],
             [
              0.2222222222222222,
              "#7201a8"
             ],
             [
              0.3333333333333333,
              "#9c179e"
             ],
             [
              0.4444444444444444,
              "#bd3786"
             ],
             [
              0.5555555555555556,
              "#d8576b"
             ],
             [
              0.6666666666666666,
              "#ed7953"
             ],
             [
              0.7777777777777778,
              "#fb9f3a"
             ],
             [
              0.8888888888888888,
              "#fdca26"
             ],
             [
              1,
              "#f0f921"
             ]
            ],
            "type": "histogram2dcontour"
           }
          ],
          "mesh3d": [
           {
            "colorbar": {
             "outlinewidth": 0,
             "ticks": ""
            },
            "type": "mesh3d"
           }
          ],
          "parcoords": [
           {
            "line": {
             "colorbar": {
              "outlinewidth": 0,
              "ticks": ""
             }
            },
            "type": "parcoords"
           }
          ],
          "pie": [
           {
            "automargin": true,
            "type": "pie"
           }
          ],
          "scatter": [
           {
            "marker": {
             "colorbar": {
              "outlinewidth": 0,
              "ticks": ""
             }
            },
            "type": "scatter"
           }
          ],
          "scatter3d": [
           {
            "line": {
             "colorbar": {
              "outlinewidth": 0,
              "ticks": ""
             }
            },
            "marker": {
             "colorbar": {
              "outlinewidth": 0,
              "ticks": ""
             }
            },
            "type": "scatter3d"
           }
          ],
          "scattercarpet": [
           {
            "marker": {
             "colorbar": {
              "outlinewidth": 0,
              "ticks": ""
             }
            },
            "type": "scattercarpet"
           }
          ],
          "scattergeo": [
           {
            "marker": {
             "colorbar": {
              "outlinewidth": 0,
              "ticks": ""
             }
            },
            "type": "scattergeo"
           }
          ],
          "scattergl": [
           {
            "marker": {
             "colorbar": {
              "outlinewidth": 0,
              "ticks": ""
             }
            },
            "type": "scattergl"
           }
          ],
          "scattermapbox": [
           {
            "marker": {
             "colorbar": {
              "outlinewidth": 0,
              "ticks": ""
             }
            },
            "type": "scattermapbox"
           }
          ],
          "scatterpolar": [
           {
            "marker": {
             "colorbar": {
              "outlinewidth": 0,
              "ticks": ""
             }
            },
            "type": "scatterpolar"
           }
          ],
          "scatterpolargl": [
           {
            "marker": {
             "colorbar": {
              "outlinewidth": 0,
              "ticks": ""
             }
            },
            "type": "scatterpolargl"
           }
          ],
          "scatterternary": [
           {
            "marker": {
             "colorbar": {
              "outlinewidth": 0,
              "ticks": ""
             }
            },
            "type": "scatterternary"
           }
          ],
          "surface": [
           {
            "colorbar": {
             "outlinewidth": 0,
             "ticks": ""
            },
            "colorscale": [
             [
              0,
              "#0d0887"
             ],
             [
              0.1111111111111111,
              "#46039f"
             ],
             [
              0.2222222222222222,
              "#7201a8"
             ],
             [
              0.3333333333333333,
              "#9c179e"
             ],
             [
              0.4444444444444444,
              "#bd3786"
             ],
             [
              0.5555555555555556,
              "#d8576b"
             ],
             [
              0.6666666666666666,
              "#ed7953"
             ],
             [
              0.7777777777777778,
              "#fb9f3a"
             ],
             [
              0.8888888888888888,
              "#fdca26"
             ],
             [
              1,
              "#f0f921"
             ]
            ],
            "type": "surface"
           }
          ],
          "table": [
           {
            "cells": {
             "fill": {
              "color": "#EBF0F8"
             },
             "line": {
              "color": "white"
             }
            },
            "header": {
             "fill": {
              "color": "#C8D4E3"
             },
             "line": {
              "color": "white"
             }
            },
            "type": "table"
           }
          ]
         },
         "layout": {
          "annotationdefaults": {
           "arrowcolor": "#2a3f5f",
           "arrowhead": 0,
           "arrowwidth": 1
          },
          "autotypenumbers": "strict",
          "coloraxis": {
           "colorbar": {
            "outlinewidth": 0,
            "ticks": ""
           }
          },
          "colorscale": {
           "diverging": [
            [
             0,
             "#8e0152"
            ],
            [
             0.1,
             "#c51b7d"
            ],
            [
             0.2,
             "#de77ae"
            ],
            [
             0.3,
             "#f1b6da"
            ],
            [
             0.4,
             "#fde0ef"
            ],
            [
             0.5,
             "#f7f7f7"
            ],
            [
             0.6,
             "#e6f5d0"
            ],
            [
             0.7,
             "#b8e186"
            ],
            [
             0.8,
             "#7fbc41"
            ],
            [
             0.9,
             "#4d9221"
            ],
            [
             1,
             "#276419"
            ]
           ],
           "sequential": [
            [
             0,
             "#0d0887"
            ],
            [
             0.1111111111111111,
             "#46039f"
            ],
            [
             0.2222222222222222,
             "#7201a8"
            ],
            [
             0.3333333333333333,
             "#9c179e"
            ],
            [
             0.4444444444444444,
             "#bd3786"
            ],
            [
             0.5555555555555556,
             "#d8576b"
            ],
            [
             0.6666666666666666,
             "#ed7953"
            ],
            [
             0.7777777777777778,
             "#fb9f3a"
            ],
            [
             0.8888888888888888,
             "#fdca26"
            ],
            [
             1,
             "#f0f921"
            ]
           ],
           "sequentialminus": [
            [
             0,
             "#0d0887"
            ],
            [
             0.1111111111111111,
             "#46039f"
            ],
            [
             0.2222222222222222,
             "#7201a8"
            ],
            [
             0.3333333333333333,
             "#9c179e"
            ],
            [
             0.4444444444444444,
             "#bd3786"
            ],
            [
             0.5555555555555556,
             "#d8576b"
            ],
            [
             0.6666666666666666,
             "#ed7953"
            ],
            [
             0.7777777777777778,
             "#fb9f3a"
            ],
            [
             0.8888888888888888,
             "#fdca26"
            ],
            [
             1,
             "#f0f921"
            ]
           ]
          },
          "colorway": [
           "#636efa",
           "#EF553B",
           "#00cc96",
           "#ab63fa",
           "#FFA15A",
           "#19d3f3",
           "#FF6692",
           "#B6E880",
           "#FF97FF",
           "#FECB52"
          ],
          "font": {
           "color": "#2a3f5f"
          },
          "geo": {
           "bgcolor": "white",
           "lakecolor": "white",
           "landcolor": "#E5ECF6",
           "showlakes": true,
           "showland": true,
           "subunitcolor": "white"
          },
          "hoverlabel": {
           "align": "left"
          },
          "hovermode": "closest",
          "mapbox": {
           "style": "light"
          },
          "paper_bgcolor": "white",
          "plot_bgcolor": "#E5ECF6",
          "polar": {
           "angularaxis": {
            "gridcolor": "white",
            "linecolor": "white",
            "ticks": ""
           },
           "bgcolor": "#E5ECF6",
           "radialaxis": {
            "gridcolor": "white",
            "linecolor": "white",
            "ticks": ""
           }
          },
          "scene": {
           "xaxis": {
            "backgroundcolor": "#E5ECF6",
            "gridcolor": "white",
            "gridwidth": 2,
            "linecolor": "white",
            "showbackground": true,
            "ticks": "",
            "zerolinecolor": "white"
           },
           "yaxis": {
            "backgroundcolor": "#E5ECF6",
            "gridcolor": "white",
            "gridwidth": 2,
            "linecolor": "white",
            "showbackground": true,
            "ticks": "",
            "zerolinecolor": "white"
           },
           "zaxis": {
            "backgroundcolor": "#E5ECF6",
            "gridcolor": "white",
            "gridwidth": 2,
            "linecolor": "white",
            "showbackground": true,
            "ticks": "",
            "zerolinecolor": "white"
           }
          },
          "shapedefaults": {
           "line": {
            "color": "#2a3f5f"
           }
          },
          "ternary": {
           "aaxis": {
            "gridcolor": "white",
            "linecolor": "white",
            "ticks": ""
           },
           "baxis": {
            "gridcolor": "white",
            "linecolor": "white",
            "ticks": ""
           },
           "bgcolor": "#E5ECF6",
           "caxis": {
            "gridcolor": "white",
            "linecolor": "white",
            "ticks": ""
           }
          },
          "title": {
           "x": 0.05
          },
          "xaxis": {
           "automargin": true,
           "gridcolor": "white",
           "linecolor": "white",
           "ticks": "",
           "title": {
            "standoff": 15
           },
           "zerolinecolor": "white",
           "zerolinewidth": 2
          },
          "yaxis": {
           "automargin": true,
           "gridcolor": "white",
           "linecolor": "white",
           "ticks": "",
           "title": {
            "standoff": 15
           },
           "zerolinecolor": "white",
           "zerolinewidth": 2
          }
         }
        },
        "title": {
         "text": "True fractions of each mixture"
        },
        "xaxis": {
         "anchor": "y",
         "autorange": true,
         "domain": [
          0,
          1
         ],
         "range": [
          -0.5,
          18.5
         ],
         "title": {
          "text": "x"
         },
         "type": "category"
        },
        "yaxis": {
         "anchor": "x",
         "autorange": true,
         "domain": [
          0,
          1
         ],
         "range": [
          0,
          1.0527368421052634
         ],
         "title": {
          "text": "value"
         },
         "type": "linear"
        }
       }
      },
      "image/png": "[encoded data removed]"
     },
     "metadata": {},
     "output_type": "display_data"
    }
   ],
   "source": [
    "fig = px.bar(\n",
    "    fractions_truth,  #.astype(index={\"mixture_id\": str}),\n",
    "    x=fractions_truth.index.astype(str),\n",
    "    y=fractions_truth.columns,\n",
    "    title=\"True fractions of each mixture\"\n",
    ")\n",
    "\n",
    "fig.show()"
   ]
  },
  {
   "cell_type": "code",
   "execution_count": 27,
   "id": "d4cee51b-ea18-4f8b-903a-8ec3c2f2a43b",
   "metadata": {},
   "outputs": [
    {
     "data": {
      "application/vnd.plotly.v1+json": {
       "config": {
        "plotlyServerURL": "https://plot.ly"
       },
       "data": [
        {
         "alignmentgroup": "True",
         "hovertemplate": "variable=Malignant<br>x=%{x}<br>value=%{y}<extra></extra>",
         "legendgroup": "Malignant",
         "marker": {
          "color": "#636efa",
          "pattern": {
           "shape": ""
          }
         },
         "name": "Malignant",
         "offsetgroup": "Malignant",
         "orientation": "v",
         "showlegend": true,
         "textposition": "auto",
         "type": "bar",
         "x": [
          "53",
          "58",
          "59",
          "60",
          "65",
          "67",
          "71",
          "72",
          "74",
          "75",
          "78",
          "79",
          "80",
          "81",
          "82",
          "84",
          "88",
          "89",
          "94"
         ],
         "xaxis": "x",
         "y": [
          0,
          0,
          0.5236783348840784,
          0.039854043195872,
          0.0621794897067606,
          0,
          0.4184533536603973,
          0,
          0,
          0.0023395394503941,
          0.997614376758525,
          0.5714503339504019,
          0.3234004374863238,
          0.2091650995072155,
          0.2138105524326864,
          0.0464435323737881,
          0.3912029738191958,
          0.2614116373982425,
          0.0076219409672748
         ],
         "yaxis": "y"
        },
        {
         "alignmentgroup": "True",
         "hovertemplate": "variable=Endothelial<br>x=%{x}<br>value=%{y}<extra></extra>",
         "legendgroup": "Endothelial",
         "marker": {
          "color": "#EF553B",
          "pattern": {
           "shape": ""
          }
         },
         "name": "Endothelial",
         "offsetgroup": "Endothelial",
         "orientation": "v",
         "showlegend": true,
         "textposition": "auto",
         "type": "bar",
         "x": [
          "53",
          "58",
          "59",
          "60",
          "65",
          "67",
          "71",
          "72",
          "74",
          "75",
          "78",
          "79",
          "80",
          "81",
          "82",
          "84",
          "88",
          "89",
          "94"
         ],
         "xaxis": "x",
         "y": [
          0.0052020121857682,
          0.0001002533614866,
          0,
          0.0010469992255774,
          0,
          0,
          2.05343140602e-05,
          0,
          0.0005397214720319,
          0,
          0,
          0.0123158265822273,
          0.0637235365914318,
          0.0001529384847414,
          0.0032613689017183,
          0,
          0.0001537058767116,
          0,
          0.1432675419041958
         ],
         "yaxis": "y"
        },
        {
         "alignmentgroup": "True",
         "hovertemplate": "variable=CAF<br>x=%{x}<br>value=%{y}<extra></extra>",
         "legendgroup": "CAF",
         "marker": {
          "color": "#00cc96",
          "pattern": {
           "shape": ""
          }
         },
         "name": "CAF",
         "offsetgroup": "CAF",
         "orientation": "v",
         "showlegend": true,
         "textposition": "auto",
         "type": "bar",
         "x": [
          "53",
          "58",
          "59",
          "60",
          "65",
          "67",
          "71",
          "72",
          "74",
          "75",
          "78",
          "79",
          "80",
          "81",
          "82",
          "84",
          "88",
          "89",
          "94"
         ],
         "xaxis": "x",
         "y": [
          0.0579624177817714,
          0.0006992746764776,
          0.4323130545218381,
          0,
          0,
          0,
          5.76679033592e-05,
          0,
          0.0028590166782461,
          0.0001307680847586,
          0.0001393236567477,
          0,
          0.0552854255488855,
          0.0172510209352178,
          0.0950932591902261,
          0.0045921087210543,
          0.0067979001468479,
          0,
          0.0661922698084964
         ],
         "yaxis": "y"
        },
        {
         "alignmentgroup": "True",
         "hovertemplate": "variable=T CD8<br>x=%{x}<br>value=%{y}<extra></extra>",
         "legendgroup": "T CD8",
         "marker": {
          "color": "#ab63fa",
          "pattern": {
           "shape": ""
          }
         },
         "name": "T CD8",
         "offsetgroup": "T CD8",
         "orientation": "v",
         "showlegend": true,
         "textposition": "auto",
         "type": "bar",
         "x": [
          "53",
          "58",
          "59",
          "60",
          "65",
          "67",
          "71",
          "72",
          "74",
          "75",
          "78",
          "79",
          "80",
          "81",
          "82",
          "84",
          "88",
          "89",
          "94"
         ],
         "xaxis": "x",
         "y": [
          0.1743254423892241,
          0.6794602292065131,
          0,
          0.2843403429510767,
          0.3462094002666116,
          0.4299069722168184,
          0.4359415868219237,
          0,
          0.7664865724754573,
          0.9949258548037934,
          0,
          0.3760551163995131,
          0.1957921141535341,
          0.3719656836158713,
          0.150686816734129,
          0.2715062127348482,
          0.0951731957137376,
          0.3650743309788486,
          0
         ],
         "yaxis": "y"
        },
        {
         "alignmentgroup": "True",
         "hovertemplate": "variable=NK<br>x=%{x}<br>value=%{y}<extra></extra>",
         "legendgroup": "NK",
         "marker": {
          "color": "#FFA15A",
          "pattern": {
           "shape": ""
          }
         },
         "name": "NK",
         "offsetgroup": "NK",
         "orientation": "v",
         "showlegend": true,
         "textposition": "auto",
         "type": "bar",
         "x": [
          "53",
          "58",
          "59",
          "60",
          "65",
          "67",
          "71",
          "72",
          "74",
          "75",
          "78",
          "79",
          "80",
          "81",
          "82",
          "84",
          "88",
          "89",
          "94"
         ],
         "xaxis": "x",
         "y": [
          0.2642777565754682,
          0.0514853425033168,
          7.60532884276e-05,
          0.1079966812613806,
          0.0140817010955895,
          0,
          0.0003352608210068,
          0,
          0.0294198936963972,
          0,
          0,
          0,
          0.0100209148179358,
          0.006723075859824,
          0.0645260623190745,
          0.1135085965224659,
          0.0365495425255437,
          0.0202045035359792,
          0
         ],
         "yaxis": "y"
        },
        {
         "alignmentgroup": "True",
         "hovertemplate": "variable=Macrophage<br>x=%{x}<br>value=%{y}<extra></extra>",
         "legendgroup": "Macrophage",
         "marker": {
          "color": "#19d3f3",
          "pattern": {
           "shape": ""
          }
         },
         "name": "Macrophage",
         "offsetgroup": "Macrophage",
         "orientation": "v",
         "showlegend": true,
         "textposition": "auto",
         "type": "bar",
         "x": [
          "53",
          "58",
          "59",
          "60",
          "65",
          "67",
          "71",
          "72",
          "74",
          "75",
          "78",
          "79",
          "80",
          "81",
          "82",
          "84",
          "88",
          "89",
          "94"
         ],
         "xaxis": "x",
         "y": [
          0.0793929721819891,
          0.0047349599369245,
          0.0438811543271875,
          0.0177640410927242,
          0.0100130924720042,
          0,
          0.0046497868022268,
          0,
          0.0038456100819861,
          0.0025547052925046,
          0.0002183767905771,
          0.0093229277342877,
          0,
          0.0024625214780425,
          0.0601460731272335,
          0.153148457781802,
          0.1286111591430115,
          0.045414775252678,
          0.0152816431888291
         ],
         "yaxis": "y"
        },
        {
         "alignmentgroup": "True",
         "hovertemplate": "variable=T CD4<br>x=%{x}<br>value=%{y}<extra></extra>",
         "legendgroup": "T CD4",
         "marker": {
          "color": "#FF6692",
          "pattern": {
           "shape": ""
          }
         },
         "name": "T CD4",
         "offsetgroup": "T CD4",
         "orientation": "v",
         "showlegend": true,
         "textposition": "auto",
         "type": "bar",
         "x": [
          "53",
          "58",
          "59",
          "60",
          "65",
          "67",
          "71",
          "72",
          "74",
          "75",
          "78",
          "79",
          "80",
          "81",
          "82",
          "84",
          "88",
          "89",
          "94"
         ],
         "xaxis": "x",
         "y": [
          0.4188393988857787,
          0.2423809485842006,
          5.1402978468e-05,
          0.3119610961152281,
          0.5667758856685047,
          0.5456505908949599,
          0.1405146073570784,
          0.955890833204234,
          0.1954026930970714,
          0,
          0.0003466718508773,
          0.0278147756514917,
          0.320873613783418,
          0.3839951979210926,
          0.3919486945978128,
          0.3689701513373319,
          0.2051998559916528,
          0.2583774343258096,
          0.4905247781336162
         ],
         "yaxis": "y"
        },
        {
         "alignmentgroup": "True",
         "hovertemplate": "variable=B<br>x=%{x}<br>value=%{y}<extra></extra>",
         "legendgroup": "B",
         "marker": {
          "color": "#B6E880",
          "pattern": {
           "shape": ""
          }
         },
         "name": "B",
         "offsetgroup": "B",
         "orientation": "v",
         "showlegend": true,
         "textposition": "auto",
         "type": "bar",
         "x": [
          "53",
          "58",
          "59",
          "60",
          "65",
          "67",
          "71",
          "72",
          "74",
          "75",
          "78",
          "79",
          "80",
          "81",
          "82",
          "84",
          "88",
          "89",
          "94"
         ],
         "xaxis": "x",
         "y": [
          0,
          0.0211389917310807,
          0,
          0.2370367961581407,
          0.000740430790529,
          0.0244424368882215,
          2.72023199474e-05,
          0.0441091667957659,
          0.0014464924988093,
          4.9132368549e-05,
          0.0016812509432729,
          0.0030410196820781,
          0.0309039576184707,
          0.0082844621979946,
          0.0205271726971192,
          0.0418309405287091,
          0.1363116667832988,
          0.0495173185084418,
          0.2771118259975874
         ],
         "yaxis": "y"
        }
       ],
       "layout": {
        "autosize": true,
        "barmode": "relative",
        "legend": {
         "title": {
          "text": "variable"
         },
         "tracegroupgap": 0
        },
        "template": {
         "data": {
          "bar": [
           {
            "error_x": {
             "color": "#2a3f5f"
            },
            "error_y": {
             "color": "#2a3f5f"
            },
            "marker": {
             "line": {
              "color": "#E5ECF6",
              "width": 0.5
             },
             "pattern": {
              "fillmode": "overlay",
              "size": 10,
              "solidity": 0.2
             }
            },
            "type": "bar"
           }
          ],
          "barpolar": [
           {
            "marker": {
             "line": {
              "color": "#E5ECF6",
              "width": 0.5
             },
             "pattern": {
              "fillmode": "overlay",
              "size": 10,
              "solidity": 0.2
             }
            },
            "type": "barpolar"
           }
          ],
          "carpet": [
           {
            "aaxis": {
             "endlinecolor": "#2a3f5f",
             "gridcolor": "white",
             "linecolor": "white",
             "minorgridcolor": "white",
             "startlinecolor": "#2a3f5f"
            },
            "baxis": {
             "endlinecolor": "#2a3f5f",
             "gridcolor": "white",
             "linecolor": "white",
             "minorgridcolor": "white",
             "startlinecolor": "#2a3f5f"
            },
            "type": "carpet"
           }
          ],
          "choropleth": [
           {
            "colorbar": {
             "outlinewidth": 0,
             "ticks": ""
            },
            "type": "choropleth"
           }
          ],
          "contour": [
           {
            "colorbar": {
             "outlinewidth": 0,
             "ticks": ""
            },
            "colorscale": [
             [
              0,
              "#0d0887"
             ],
             [
              0.1111111111111111,
              "#46039f"
             ],
             [
              0.2222222222222222,
              "#7201a8"
             ],
             [
              0.3333333333333333,
              "#9c179e"
             ],
             [
              0.4444444444444444,
              "#bd3786"
             ],
             [
              0.5555555555555556,
              "#d8576b"
             ],
             [
              0.6666666666666666,
              "#ed7953"
             ],
             [
              0.7777777777777778,
              "#fb9f3a"
             ],
             [
              0.8888888888888888,
              "#fdca26"
             ],
             [
              1,
              "#f0f921"
             ]
            ],
            "type": "contour"
           }
          ],
          "contourcarpet": [
           {
            "colorbar": {
             "outlinewidth": 0,
             "ticks": ""
            },
            "type": "contourcarpet"
           }
          ],
          "heatmap": [
           {
            "colorbar": {
             "outlinewidth": 0,
             "ticks": ""
            },
            "colorscale": [
             [
              0,
              "#0d0887"
             ],
             [
              0.1111111111111111,
              "#46039f"
             ],
             [
              0.2222222222222222,
              "#7201a8"
             ],
             [
              0.3333333333333333,
              "#9c179e"
             ],
             [
              0.4444444444444444,
              "#bd3786"
             ],
             [
              0.5555555555555556,
              "#d8576b"
             ],
             [
              0.6666666666666666,
              "#ed7953"
             ],
             [
              0.7777777777777778,
              "#fb9f3a"
             ],
             [
              0.8888888888888888,
              "#fdca26"
             ],
             [
              1,
              "#f0f921"
             ]
            ],
            "type": "heatmap"
           }
          ],
          "heatmapgl": [
           {
            "colorbar": {
             "outlinewidth": 0,
             "ticks": ""
            },
            "colorscale": [
             [
              0,
              "#0d0887"
             ],
             [
              0.1111111111111111,
              "#46039f"
             ],
             [
              0.2222222222222222,
              "#7201a8"
             ],
             [
              0.3333333333333333,
              "#9c179e"
             ],
             [
              0.4444444444444444,
              "#bd3786"
             ],
             [
              0.5555555555555556,
              "#d8576b"
             ],
             [
              0.6666666666666666,
              "#ed7953"
             ],
             [
              0.7777777777777778,
              "#fb9f3a"
             ],
             [
              0.8888888888888888,
              "#fdca26"
             ],
             [
              1,
              "#f0f921"
             ]
            ],
            "type": "heatmapgl"
           }
          ],
          "histogram": [
           {
            "marker": {
             "pattern": {
              "fillmode": "overlay",
              "size": 10,
              "solidity": 0.2
             }
            },
            "type": "histogram"
           }
          ],
          "histogram2d": [
           {
            "colorbar": {
             "outlinewidth": 0,
             "ticks": ""
            },
            "colorscale": [
             [
              0,
              "#0d0887"
             ],
             [
              0.1111111111111111,
              "#46039f"
             ],
             [
              0.2222222222222222,
              "#7201a8"
             ],
             [
              0.3333333333333333,
              "#9c179e"
             ],
             [
              0.4444444444444444,
              "#bd3786"
             ],
             [
              0.5555555555555556,
              "#d8576b"
             ],
             [
              0.6666666666666666,
              "#ed7953"
             ],
             [
              0.7777777777777778,
              "#fb9f3a"
             ],
             [
              0.8888888888888888,
              "#fdca26"
             ],
             [
              1,
              "#f0f921"
             ]
            ],
            "type": "histogram2d"
           }
          ],
          "histogram2dcontour": [
           {
            "colorbar": {
             "outlinewidth": 0,
             "ticks": ""
            },
            "colorscale": [
             [
              0,
              "#0d0887"
             ],
             [
              0.1111111111111111,
              "#46039f"
             ],
             [
              0.2222222222222222,
              "#7201a8"
             ],
             [
              0.3333333333333333,
              "#9c179e"
             ],
             [
              0.4444444444444444,
              "#bd3786"
             ],
             [
              0.5555555555555556,
              "#d8576b"
             ],
             [
              0.6666666666666666,
              "#ed7953"
             ],
             [
              0.7777777777777778,
              "#fb9f3a"
             ],
             [
              0.8888888888888888,
              "#fdca26"
             ],
             [
              1,
              "#f0f921"
             ]
            ],
            "type": "histogram2dcontour"
           }
          ],
          "mesh3d": [
           {
            "colorbar": {
             "outlinewidth": 0,
             "ticks": ""
            },
            "type": "mesh3d"
           }
          ],
          "parcoords": [
           {
            "line": {
             "colorbar": {
              "outlinewidth": 0,
              "ticks": ""
             }
            },
            "type": "parcoords"
           }
          ],
          "pie": [
           {
            "automargin": true,
            "type": "pie"
           }
          ],
          "scatter": [
           {
            "marker": {
             "colorbar": {
              "outlinewidth": 0,
              "ticks": ""
             }
            },
            "type": "scatter"
           }
          ],
          "scatter3d": [
           {
            "line": {
             "colorbar": {
              "outlinewidth": 0,
              "ticks": ""
             }
            },
            "marker": {
             "colorbar": {
              "outlinewidth": 0,
              "ticks": ""
             }
            },
            "type": "scatter3d"
           }
          ],
          "scattercarpet": [
           {
            "marker": {
             "colorbar": {
              "outlinewidth": 0,
              "ticks": ""
             }
            },
            "type": "scattercarpet"
           }
          ],
          "scattergeo": [
           {
            "marker": {
             "colorbar": {
              "outlinewidth": 0,
              "ticks": ""
             }
            },
            "type": "scattergeo"
           }
          ],
          "scattergl": [
           {
            "marker": {
             "colorbar": {
              "outlinewidth": 0,
              "ticks": ""
             }
            },
            "type": "scattergl"
           }
          ],
          "scattermapbox": [
           {
            "marker": {
             "colorbar": {
              "outlinewidth": 0,
              "ticks": ""
             }
            },
            "type": "scattermapbox"
           }
          ],
          "scatterpolar": [
           {
            "marker": {
             "colorbar": {
              "outlinewidth": 0,
              "ticks": ""
             }
            },
            "type": "scatterpolar"
           }
          ],
          "scatterpolargl": [
           {
            "marker": {
             "colorbar": {
              "outlinewidth": 0,
              "ticks": ""
             }
            },
            "type": "scatterpolargl"
           }
          ],
          "scatterternary": [
           {
            "marker": {
             "colorbar": {
              "outlinewidth": 0,
              "ticks": ""
             }
            },
            "type": "scatterternary"
           }
          ],
          "surface": [
           {
            "colorbar": {
             "outlinewidth": 0,
             "ticks": ""
            },
            "colorscale": [
             [
              0,
              "#0d0887"
             ],
             [
              0.1111111111111111,
              "#46039f"
             ],
             [
              0.2222222222222222,
              "#7201a8"
             ],
             [
              0.3333333333333333,
              "#9c179e"
             ],
             [
              0.4444444444444444,
              "#bd3786"
             ],
             [
              0.5555555555555556,
              "#d8576b"
             ],
             [
              0.6666666666666666,
              "#ed7953"
             ],
             [
              0.7777777777777778,
              "#fb9f3a"
             ],
             [
              0.8888888888888888,
              "#fdca26"
             ],
             [
              1,
              "#f0f921"
             ]
            ],
            "type": "surface"
           }
          ],
          "table": [
           {
            "cells": {
             "fill": {
              "color": "#EBF0F8"
             },
             "line": {
              "color": "white"
             }
            },
            "header": {
             "fill": {
              "color": "#C8D4E3"
             },
             "line": {
              "color": "white"
             }
            },
            "type": "table"
           }
          ]
         },
         "layout": {
          "annotationdefaults": {
           "arrowcolor": "#2a3f5f",
           "arrowhead": 0,
           "arrowwidth": 1
          },
          "autotypenumbers": "strict",
          "coloraxis": {
           "colorbar": {
            "outlinewidth": 0,
            "ticks": ""
           }
          },
          "colorscale": {
           "diverging": [
            [
             0,
             "#8e0152"
            ],
            [
             0.1,
             "#c51b7d"
            ],
            [
             0.2,
             "#de77ae"
            ],
            [
             0.3,
             "#f1b6da"
            ],
            [
             0.4,
             "#fde0ef"
            ],
            [
             0.5,
             "#f7f7f7"
            ],
            [
             0.6,
             "#e6f5d0"
            ],
            [
             0.7,
             "#b8e186"
            ],
            [
             0.8,
             "#7fbc41"
            ],
            [
             0.9,
             "#4d9221"
            ],
            [
             1,
             "#276419"
            ]
           ],
           "sequential": [
            [
             0,
             "#0d0887"
            ],
            [
             0.1111111111111111,
             "#46039f"
            ],
            [
             0.2222222222222222,
             "#7201a8"
            ],
            [
             0.3333333333333333,
             "#9c179e"
            ],
            [
             0.4444444444444444,
             "#bd3786"
            ],
            [
             0.5555555555555556,
             "#d8576b"
            ],
            [
             0.6666666666666666,
             "#ed7953"
            ],
            [
             0.7777777777777778,
             "#fb9f3a"
            ],
            [
             0.8888888888888888,
             "#fdca26"
            ],
            [
             1,
             "#f0f921"
            ]
           ],
           "sequentialminus": [
            [
             0,
             "#0d0887"
            ],
            [
             0.1111111111111111,
             "#46039f"
            ],
            [
             0.2222222222222222,
             "#7201a8"
            ],
            [
             0.3333333333333333,
             "#9c179e"
            ],
            [
             0.4444444444444444,
             "#bd3786"
            ],
            [
             0.5555555555555556,
             "#d8576b"
            ],
            [
             0.6666666666666666,
             "#ed7953"
            ],
            [
             0.7777777777777778,
             "#fb9f3a"
            ],
            [
             0.8888888888888888,
             "#fdca26"
            ],
            [
             1,
             "#f0f921"
            ]
           ]
          },
          "colorway": [
           "#636efa",
           "#EF553B",
           "#00cc96",
           "#ab63fa",
           "#FFA15A",
           "#19d3f3",
           "#FF6692",
           "#B6E880",
           "#FF97FF",
           "#FECB52"
          ],
          "font": {
           "color": "#2a3f5f"
          },
          "geo": {
           "bgcolor": "white",
           "lakecolor": "white",
           "landcolor": "#E5ECF6",
           "showlakes": true,
           "showland": true,
           "subunitcolor": "white"
          },
          "hoverlabel": {
           "align": "left"
          },
          "hovermode": "closest",
          "mapbox": {
           "style": "light"
          },
          "paper_bgcolor": "white",
          "plot_bgcolor": "#E5ECF6",
          "polar": {
           "angularaxis": {
            "gridcolor": "white",
            "linecolor": "white",
            "ticks": ""
           },
           "bgcolor": "#E5ECF6",
           "radialaxis": {
            "gridcolor": "white",
            "linecolor": "white",
            "ticks": ""
           }
          },
          "scene": {
           "xaxis": {
            "backgroundcolor": "#E5ECF6",
            "gridcolor": "white",
            "gridwidth": 2,
            "linecolor": "white",
            "showbackground": true,
            "ticks": "",
            "zerolinecolor": "white"
           },
           "yaxis": {
            "backgroundcolor": "#E5ECF6",
            "gridcolor": "white",
            "gridwidth": 2,
            "linecolor": "white",
            "showbackground": true,
            "ticks": "",
            "zerolinecolor": "white"
           },
           "zaxis": {
            "backgroundcolor": "#E5ECF6",
            "gridcolor": "white",
            "gridwidth": 2,
            "linecolor": "white",
            "showbackground": true,
            "ticks": "",
            "zerolinecolor": "white"
           }
          },
          "shapedefaults": {
           "line": {
            "color": "#2a3f5f"
           }
          },
          "ternary": {
           "aaxis": {
            "gridcolor": "white",
            "linecolor": "white",
            "ticks": ""
           },
           "baxis": {
            "gridcolor": "white",
            "linecolor": "white",
            "ticks": ""
           },
           "bgcolor": "#E5ECF6",
           "caxis": {
            "gridcolor": "white",
            "linecolor": "white",
            "ticks": ""
           }
          },
          "title": {
           "x": 0.05
          },
          "xaxis": {
           "automargin": true,
           "gridcolor": "white",
           "linecolor": "white",
           "ticks": "",
           "title": {
            "standoff": 15
           },
           "zerolinecolor": "white",
           "zerolinewidth": 2
          },
          "yaxis": {
           "automargin": true,
           "gridcolor": "white",
           "linecolor": "white",
           "ticks": "",
           "title": {
            "standoff": 15
           },
           "zerolinecolor": "white",
           "zerolinewidth": 2
          }
         }
        },
        "title": {
         "text": "Predicted fractions of each mixture"
        },
        "xaxis": {
         "anchor": "y",
         "autorange": true,
         "domain": [
          0,
          1
         ],
         "range": [
          -0.5,
          18.5
         ],
         "title": {
          "text": "x"
         },
         "type": "category"
        },
        "yaxis": {
         "anchor": "x",
         "autorange": true,
         "domain": [
          0,
          1
         ],
         "range": [
          0,
          1.0526315789473686
         ],
         "title": {
          "text": "value"
         },
         "type": "linear"
        }
       }
      },
      "image/png": "[encoded data removed]"
     },
     "metadata": {},
     "output_type": "display_data"
    }
   ],
   "source": [
    "fig = px.bar(\n",
    "    fractions_csx,  #.astype(index={\"mixture_id\": str}),\n",
    "    x=fractions_csx.index.astype(str),\n",
    "    y=fractions_csx.columns,\n",
    "    title=\"Predicted fractions of each mixture\"\n",
    ")\n",
    "\n",
    "fig.show()"
   ]
  },
  {
   "cell_type": "code",
   "execution_count": null,
   "id": "c3af1719-a5cd-4c8c-a60c-a341ee8c1fd9",
   "metadata": {},
   "outputs": [],
   "source": []
  }
 ],
 "metadata": {
  "environment": {
   "name": "tf2-gpu.2-5.m74",
   "type": "gcloud",
   "uri": "gcr.io/deeplearning-platform-release/tf2-gpu.2-5:m74"
  },
  "kernelspec": {
   "display_name": "Python 3",
   "language": "python",
   "name": "python3"
  },
  "language_info": {
   "codemirror_mode": {
    "name": "ipython",
    "version": 3
   },
   "file_extension": ".py",
   "mimetype": "text/x-python",
   "name": "python",
   "nbconvert_exporter": "python",
   "pygments_lexer": "ipython3",
   "version": "3.7.10"
  }
 },
 "nbformat": 4,
 "nbformat_minor": 5
}
