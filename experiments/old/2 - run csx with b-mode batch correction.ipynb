{
 "cells": [
  {
   "cell_type": "code",
   "execution_count": 1,
   "id": "791da12c-33c5-43ee-82e0-3dbeae2e1fcd",
   "metadata": {},
   "outputs": [],
   "source": [
    "import os\n",
    "import urllib\n",
    "\n",
    "import pandas as pd\n",
    "\n",
    "from cell_type_naming import nice_to_weirds, weird_to_nice"
   ]
  },
  {
   "cell_type": "code",
   "execution_count": 2,
   "id": "0b4c70c1-bd8c-4d73-b833-c941a81b3cf3",
   "metadata": {},
   "outputs": [
    {
     "data": {
      "text/plain": [
       "'gs://liulab/csx_experiments/varying_simple_parameters/with_bmode'"
      ]
     },
     "execution_count": 2,
     "metadata": {},
     "output_type": "execute_result"
    }
   ],
   "source": [
    "experiment_name = \"with_bmode\"\n",
    "experiment_uri = os.path.join(\"gs://liulab/csx_experiments/varying_simple_parameters\", experiment_name)\n",
    "\n",
    "experiment_uri"
   ]
  },
  {
   "cell_type": "code",
   "execution_count": 3,
   "id": "8205ea5b-72b0-454d-a400-77c0eb655d4f",
   "metadata": {},
   "outputs": [],
   "source": [
    "!gsutil --quiet rm -r $experiment_uri"
   ]
  },
  {
   "cell_type": "code",
   "execution_count": 4,
   "id": "10073627-fd92-467c-9e24-ca508e5ea8a9",
   "metadata": {
    "tags": []
   },
   "outputs": [
    {
     "name": "stdout",
     "output_type": "stream",
     "text": [
      "Copying gs://liulab/csx_example_files/Single_Cell_RNA-Seq_Melanoma_SuppFig_3b-d/mixture_melanoma_Tirosh_SuppFig_3b-d.txt [Content-Type=text/plain]...\n",
      "/ [1 files][  6.0 MiB/  6.0 MiB]                                                \n",
      "Operation completed over 1 objects/6.0 MiB.                                      \n",
      "Copying gs://liulab/csx_example_files/Single_Cell_RNA-Seq_Melanoma_SuppFig_3b-d/scRNA-Seq_reference_melanoma_Tirosh_SuppFig_3b-d.txt [Content-Type=text/plain]...\n",
      "/ [1 files][ 87.8 MiB/ 87.8 MiB]                                                \n",
      "Operation completed over 1 objects/87.8 MiB.                                     \n"
     ]
    }
   ],
   "source": [
    "mixture_source = \"gs://liulab/csx_example_files/Single_Cell_RNA-Seq_Melanoma_SuppFig_3b-d/mixture_melanoma_Tirosh_SuppFig_3b-d.txt\"\n",
    "# mixture_filename = os.path.basename(mixture_source)\n",
    "mixture_filename = \"mymixture.txt\"\n",
    "mixture_target = os.path.join(experiment_uri, \"in\", mixture_filename)\n",
    "\n",
    "!gsutil cp $mixture_source $mixture_target\n",
    "\n",
    "sc_refsample_source = \"gs://liulab/csx_example_files/Single_Cell_RNA-Seq_Melanoma_SuppFig_3b-d/scRNA-Seq_reference_melanoma_Tirosh_SuppFig_3b-d.txt\"\n",
    "# sc_refsample_filename = os.path.basename(sc_refsample_source)\n",
    "sc_refsample_filename = \"myscrefsample.txt\"\n",
    "sc_refsample_target = os.path.join(experiment_uri, \"in\", sc_refsample_filename)\n",
    "\n",
    "!gsutil cp $sc_refsample_source $sc_refsample_target"
   ]
  },
  {
   "cell_type": "code",
   "execution_count": 5,
   "id": "70747999-7b3d-4e36-b61f-d4845097d302",
   "metadata": {},
   "outputs": [],
   "source": [
    "experiment_path = \"/mnt/buckets/liulab\" + urllib.parse.urlparse(experiment_uri).path"
   ]
  },
  {
   "cell_type": "code",
   "execution_count": 6,
   "id": "0fae3980-4cb0-464d-9499-57fe2449d379",
   "metadata": {},
   "outputs": [
    {
     "name": "stdout",
     "output_type": "stream",
     "text": [
      "\u001b[01;34m/mnt/buckets/liulab/csx_experiments/varying_simple_parameters/with_bmode\u001b[00m\n",
      "└── [   0]  \u001b[01;34min\u001b[00m\n",
      "    ├── [6.0M]  mymixture.txt\n",
      "    └── [ 88M]  myscrefsample.txt\n",
      "\n",
      "1 directory, 2 files\n"
     ]
    }
   ],
   "source": [
    "!tree -h $experiment_path"
   ]
  },
  {
   "cell_type": "code",
   "execution_count": 7,
   "id": "84e3b479-5ac5-40dd-a19c-c245c2c3d5fb",
   "metadata": {},
   "outputs": [
    {
     "name": "stdout",
     "output_type": "stream",
     "text": [
      "docker run \\\n",
      "     --rm \\\n",
      "     -v /mnt/buckets/liulab/csx_experiments/varying_simple_parameters/with_bmode/in:/src/data \\\n",
      "     -v /mnt/buckets/liulab/csx_experiments/varying_simple_parameters/with_bmode:/src/outdir \\\n",
      "     --user \"$(id -u):$(id -g)\" \\\n",
      "     cibersortx/fractions:latest \\\n",
      "     --username lyronctk@stanford.edu \\\n",
      "     --token dfeba2c8b9d61daebee5fa87026b8e56 \\\n",
      "     --single_cell TRUE \\\n",
      "     --refsample myscrefsample.txt \\\n",
      "     --mixture mymixture.txt \\\n",
      "     --rmbatchBmode TRUE \\\n",
      "     --verbose TRUE\n",
      "\n"
     ]
    }
   ],
   "source": [
    "command = f'''docker run \\\n",
    "    --rm \\\n",
    "    -v {experiment_path}/in:/src/data \\\n",
    "    -v {experiment_path}:/src/outdir \\\n",
    "    --user \"$(id -u):$(id -g)\" \\\n",
    "    cibersortx/fractions:latest \\\n",
    "    --username lyronctk@stanford.edu \\\n",
    "    --token dfeba2c8b9d61daebee5fa87026b8e56 \\\n",
    "    --single_cell TRUE \\\n",
    "    --refsample {sc_refsample_filename} \\\n",
    "    --mixture {mixture_filename} \\\n",
    "    --rmbatchBmode TRUE \\\n",
    "    --verbose TRUE\n",
    "'''.replace(\"    \", \" \\\\\\n    \")\n",
    "print(command)"
   ]
  },
  {
   "cell_type": "code",
   "execution_count": 8,
   "id": "d6d54920-23d6-4957-a291-b1365b58610c",
   "metadata": {},
   "outputs": [
    {
     "name": "stdout",
     "output_type": "stream",
     "text": [
      ">Running CIBERSORTxFractions...\n",
      ">[Options] username: lyronctk@stanford.edu\n",
      ">[Options] token: dfeba2c8b9d61daebee5fa87026b8e56\n",
      ">[Options] single_cell: TRUE\n",
      ">[Options] refsample: myscrefsample.txt\n",
      ">[Options] mixture: mymixture.txt\n",
      ">[Options] rmbatchBmode: TRUE\n",
      ">[Options] verbose: TRUE\n",
      ">Making reference sample file.\n",
      ">Making phenotype class file.\n",
      ">single_cell is set to TRUE, so quantile normalization is set to FALSE, and the default parameters for building the signature matrix have been set to the following values:\n",
      "\t- G.min <- 300\n",
      "\t- G.max <- 500\n",
      "\t- q.value <- 0.01\n",
      ">==========Signature Matrix Settings============\n",
      ">Pure samples file: /src/outdir//CIBERSORTx_myscrefsample_inferred_refsample.txt\n",
      ">Phenotype classes file: /src/outdir//CIBERSORTx_myscrefsample_inferred_phenoclasses.txt\n",
      ">Minimum number of DEGs to consider from each phenotype for signature matrix set to: 300\n",
      ">Maximum number of DEGs to consider from each phenotype for signature matrix set to: 500\n",
      ">Q-value for signature matrix construction set to: 0.01\n",
      ">Quantile normalization of input samples is disabled\n",
      ">===============================================\n",
      ">C++14\n",
      ">Loaded 40 columns and 23684 rows\n",
      ">=============Make Signature Matrix=============\n",
      ">Maximum condition number (kappa):999\n",
      ">71262 DEG expressed across 8 samples were identified\n",
      ">Group size: 495, Kappa: 14.9934287263485\n",
      ">Best kappa: 14.9934287263485 \n",
      ">SVD UpperRightDiag: 54923.8\n",
      ">SVD LowerRightDiag: 3663.19\n",
      ">=============CIBERSORTx Settings===============\n",
      ">Mixture file: /src/data/mymixture.txt\n",
      ">Signature matrix file: /src/outdir//CIBERSORTx_myscrefsample_inferred_phenoclasses.CIBERSORTx_myscrefsample_inferred_refsample.bm.K999.txt\n",
      ">Enable verbose output\n",
      ">Do B-mode batch correction\n",
      ">==================CIBERSORTx===================\n",
      ">Batch correction:.\n",
      "Read 3082 items\n",
      ">Run CIBERSORTx on B-mode batch corrected mixtures.\n",
      ">=============CIBERSORTx Settings===============\n",
      ">Mixture file: /src/outdir//CIBERSORTx_Mixtures_Adjusted.txt\n",
      ">Signature matrix file: /src/outdir//CIBERSORTx_myscrefsample_inferred_phenoclasses.CIBERSORTx_myscrefsample_inferred_refsample.bm.K999.txt\n",
      ">Enable verbose output\n",
      ">==================CIBERSORTx===================\n",
      "column Malignant Endothelial cells CAF T cells CD8 NK cells Macrophages T cells CD4 B cells P-value Correlation RMSE %Completed\n",
      "1 0.0476283 0.0308757 0.0564028 0.299805 0.138433 0.0828862 0.343968 5.26316\n",
      "2 0 0 0.00301089 0.640688 0.0707225 0.0216557 0.247513 10.5263\n",
      "3 0.65362 0 0.305489 0 0.00124451 0.0375469 0.00209972 15.7895\n",
      "4 0.0341586 0.000378982 0 0.232051 0.0817231 0.0510402 0.20393 21.0526\n",
      "5 0.0850705 0.000728476 0 0.317211 0.0211962 0.0331654 0.45945 26.3158\n",
      "6 0 0 0 0.273097 0.038581 0.00589333 0.49727 31.5789\n",
      "7 0.443202 0.000643434 0.00228051 0.3124 0.0338528 0.0390538 0.166721 36.8421\n",
      "8 0 0 0.00102359 0 0.0160045 0.01266 0.727604 42.1053\n",
      "9 0 0.000571933 0.00245916 0.663043 0.0394479 0.0490276 0.179806 47.3684\n",
      "10 0.0121741 5.20322e-05 0 0.685369 0.0692682 0.0214736 0.208972 52.6316\n",
      "11 0.988156 0 0.00308913 0 2.21869e-05 0.000558616 0.0059388 57.8947\n",
      "12 0.551551 0.0147143 0 0.233028 0.00289587 0.0254837 0.125903 63.1579\n",
      "13 0.316557 0.0548708 0.0454003 0.186001 0.0211988 0.00229222 0.28432 68.4211\n",
      "14 0.38123 0.00512194 0.0410573 0.266803 0.0182291 0.0111484 0.256652 73.6842\n",
      "15 0.322642 0.00945935 0.0782138 0.173296 0.0430139 0.0571511 0.271576 78.9474\n",
      "16 0.0838037 0.00235123 0.013043 0.208151 0.0763864 0.129138 0.359484 84.2105\n",
      "17 0.372916 0 0.00917903 0.148055 0.0397887 0.132483 0.215085 89.4737\n",
      "18 0.191563 0.000461701 0.00179467 0.331568 0.0153227 0.071638 0.174191 94.7368\n",
      "19 0.0526424 0.0746616 0.0546305 0.003151 0.0177299 0.0375556 0.468256 100\n"
     ]
    }
   ],
   "source": [
    "!{command}"
   ]
  },
  {
   "cell_type": "code",
   "execution_count": 9,
   "id": "5fb611a4-912b-4091-8cc0-05cee3003b41",
   "metadata": {},
   "outputs": [
    {
     "name": "stdout",
     "output_type": "stream",
     "text": [
      "\u001b[01;34m/mnt/buckets/liulab/csx_experiments/varying_simple_parameters/with_bmode\u001b[00m\n",
      "├── [4.3K]  CIBERSORTx_Adjusted.txt\n",
      "├── [988K]  CIBERSORTx_Mixtures_Adjusted.txt\n",
      "├── [3.8M]  CIBERSORTx_cell_type_sourceGEP.txt\n",
      "├── [172K]  CIBERSORTx_myscrefsample_inferred_phenoclasses.CIBERSORTx_myscrefsample_inferred_refsample.bm.K999.pdf\n",
      "├── [510K]  CIBERSORTx_myscrefsample_inferred_phenoclasses.CIBERSORTx_myscrefsample_inferred_refsample.bm.K999.txt\n",
      "├── [ 725]  CIBERSORTx_myscrefsample_inferred_phenoclasses.txt\n",
      "├── [ 18M]  CIBERSORTx_myscrefsample_inferred_refsample.txt\n",
      "└── [   0]  \u001b[01;34min\u001b[00m\n",
      "    ├── [6.0M]  mymixture.txt\n",
      "    └── [ 88M]  myscrefsample.txt\n",
      "\n",
      "1 directory, 9 files\n"
     ]
    }
   ],
   "source": [
    "!tree -h $experiment_path"
   ]
  },
  {
   "cell_type": "code",
   "execution_count": 10,
   "id": "70f188e2-0591-40db-a2c5-fbaae814f2ec",
   "metadata": {},
   "outputs": [
    {
     "data": {
      "text/html": [
       "<div>\n",
       "<style scoped>\n",
       "    .dataframe tbody tr th:only-of-type {\n",
       "        vertical-align: middle;\n",
       "    }\n",
       "\n",
       "    .dataframe tbody tr th {\n",
       "        vertical-align: top;\n",
       "    }\n",
       "\n",
       "    .dataframe thead th {\n",
       "        text-align: right;\n",
       "    }\n",
       "</style>\n",
       "<table border=\"1\" class=\"dataframe\">\n",
       "  <thead>\n",
       "    <tr style=\"text-align: right;\">\n",
       "      <th></th>\n",
       "      <th>Malignant</th>\n",
       "      <th>Endothelial</th>\n",
       "      <th>CAF</th>\n",
       "      <th>T CD8</th>\n",
       "      <th>NK</th>\n",
       "      <th>Macrophage</th>\n",
       "      <th>T CD4</th>\n",
       "      <th>B</th>\n",
       "    </tr>\n",
       "    <tr>\n",
       "      <th>mixture_id</th>\n",
       "      <th></th>\n",
       "      <th></th>\n",
       "      <th></th>\n",
       "      <th></th>\n",
       "      <th></th>\n",
       "      <th></th>\n",
       "      <th></th>\n",
       "      <th></th>\n",
       "    </tr>\n",
       "  </thead>\n",
       "  <tbody>\n",
       "    <tr>\n",
       "      <th>65</th>\n",
       "      <td>0.085071</td>\n",
       "      <td>0.000728</td>\n",
       "      <td>0.000000</td>\n",
       "      <td>0.317211</td>\n",
       "      <td>0.021196</td>\n",
       "      <td>0.033165</td>\n",
       "      <td>0.459450</td>\n",
       "      <td>0.083178</td>\n",
       "    </tr>\n",
       "    <tr>\n",
       "      <th>75</th>\n",
       "      <td>0.012174</td>\n",
       "      <td>0.000052</td>\n",
       "      <td>0.000000</td>\n",
       "      <td>0.685369</td>\n",
       "      <td>0.069268</td>\n",
       "      <td>0.021474</td>\n",
       "      <td>0.208972</td>\n",
       "      <td>0.002692</td>\n",
       "    </tr>\n",
       "    <tr>\n",
       "      <th>71</th>\n",
       "      <td>0.443202</td>\n",
       "      <td>0.000643</td>\n",
       "      <td>0.002281</td>\n",
       "      <td>0.312400</td>\n",
       "      <td>0.033853</td>\n",
       "      <td>0.039054</td>\n",
       "      <td>0.166721</td>\n",
       "      <td>0.001847</td>\n",
       "    </tr>\n",
       "    <tr>\n",
       "      <th>67</th>\n",
       "      <td>0.000000</td>\n",
       "      <td>0.000000</td>\n",
       "      <td>0.000000</td>\n",
       "      <td>0.273097</td>\n",
       "      <td>0.038581</td>\n",
       "      <td>0.005893</td>\n",
       "      <td>0.497270</td>\n",
       "      <td>0.185159</td>\n",
       "    </tr>\n",
       "    <tr>\n",
       "      <th>58</th>\n",
       "      <td>0.000000</td>\n",
       "      <td>0.000000</td>\n",
       "      <td>0.003011</td>\n",
       "      <td>0.640688</td>\n",
       "      <td>0.070722</td>\n",
       "      <td>0.021656</td>\n",
       "      <td>0.247513</td>\n",
       "      <td>0.016409</td>\n",
       "    </tr>\n",
       "  </tbody>\n",
       "</table>\n",
       "</div>"
      ],
      "text/plain": [
       "            Malignant  Endothelial       CAF     T CD8        NK  Macrophage  \\\n",
       "mixture_id                                                                     \n",
       "65           0.085071     0.000728  0.000000  0.317211  0.021196    0.033165   \n",
       "75           0.012174     0.000052  0.000000  0.685369  0.069268    0.021474   \n",
       "71           0.443202     0.000643  0.002281  0.312400  0.033853    0.039054   \n",
       "67           0.000000     0.000000  0.000000  0.273097  0.038581    0.005893   \n",
       "58           0.000000     0.000000  0.003011  0.640688  0.070722    0.021656   \n",
       "\n",
       "               T CD4         B  \n",
       "mixture_id                      \n",
       "65          0.459450  0.083178  \n",
       "75          0.208972  0.002692  \n",
       "71          0.166721  0.001847  \n",
       "67          0.497270  0.185159  \n",
       "58          0.247513  0.016409  "
      ]
     },
     "execution_count": 10,
     "metadata": {},
     "output_type": "execute_result"
    }
   ],
   "source": [
    "fractions_csx = pd.read_csv(\n",
    "    os.path.join(experiment_uri, \"CIBERSORTx_Adjusted.txt\"),\n",
    "    sep=\"\\t\",\n",
    "    index_col=0\n",
    ").rename_axis(index=\"mixture_id\").rename(columns=weird_to_nice).iloc[:, :-3]\n",
    "\n",
    "fractions_csx.sample(5)"
   ]
  },
  {
   "cell_type": "code",
   "execution_count": 11,
   "id": "5c50ee82-eb89-44dc-970a-df8509e315b8",
   "metadata": {},
   "outputs": [
    {
     "data": {
      "text/html": [
       "<div>\n",
       "<style scoped>\n",
       "    .dataframe tbody tr th:only-of-type {\n",
       "        vertical-align: middle;\n",
       "    }\n",
       "\n",
       "    .dataframe tbody tr th {\n",
       "        vertical-align: top;\n",
       "    }\n",
       "\n",
       "    .dataframe thead th {\n",
       "        text-align: right;\n",
       "    }\n",
       "</style>\n",
       "<table border=\"1\" class=\"dataframe\">\n",
       "  <thead>\n",
       "    <tr style=\"text-align: right;\">\n",
       "      <th></th>\n",
       "      <th>Malignant</th>\n",
       "      <th>Endothelial</th>\n",
       "      <th>CAF</th>\n",
       "      <th>T CD8</th>\n",
       "      <th>NK</th>\n",
       "      <th>Macrophage</th>\n",
       "      <th>T CD4</th>\n",
       "      <th>B</th>\n",
       "    </tr>\n",
       "    <tr>\n",
       "      <th>gene</th>\n",
       "      <th></th>\n",
       "      <th></th>\n",
       "      <th></th>\n",
       "      <th></th>\n",
       "      <th></th>\n",
       "      <th></th>\n",
       "      <th></th>\n",
       "      <th></th>\n",
       "    </tr>\n",
       "  </thead>\n",
       "  <tbody>\n",
       "    <tr>\n",
       "      <th>LOX</th>\n",
       "      <td>1.00000</td>\n",
       "      <td>53.011314</td>\n",
       "      <td>524.750014</td>\n",
       "      <td>1.000000</td>\n",
       "      <td>1.000000</td>\n",
       "      <td>1.000000</td>\n",
       "      <td>1.000000</td>\n",
       "      <td>1.000000</td>\n",
       "    </tr>\n",
       "    <tr>\n",
       "      <th>LOC100130476</th>\n",
       "      <td>1.00000</td>\n",
       "      <td>1.000000</td>\n",
       "      <td>1.000000</td>\n",
       "      <td>85.932509</td>\n",
       "      <td>1.000000</td>\n",
       "      <td>1.000000</td>\n",
       "      <td>56.335926</td>\n",
       "      <td>1.000000</td>\n",
       "    </tr>\n",
       "    <tr>\n",
       "      <th>PTPN7</th>\n",
       "      <td>1.00000</td>\n",
       "      <td>1.000000</td>\n",
       "      <td>1.000000</td>\n",
       "      <td>156.983553</td>\n",
       "      <td>67.672359</td>\n",
       "      <td>1.000000</td>\n",
       "      <td>181.110947</td>\n",
       "      <td>28.379187</td>\n",
       "    </tr>\n",
       "    <tr>\n",
       "      <th>SDS</th>\n",
       "      <td>1.00000</td>\n",
       "      <td>1.000000</td>\n",
       "      <td>1.000000</td>\n",
       "      <td>1.000000</td>\n",
       "      <td>1.000000</td>\n",
       "      <td>29.030163</td>\n",
       "      <td>1.000000</td>\n",
       "      <td>1.000000</td>\n",
       "    </tr>\n",
       "    <tr>\n",
       "      <th>ALDH3B2</th>\n",
       "      <td>36.48977</td>\n",
       "      <td>1.000000</td>\n",
       "      <td>1.000000</td>\n",
       "      <td>1.000000</td>\n",
       "      <td>1.000000</td>\n",
       "      <td>1.000000</td>\n",
       "      <td>1.000000</td>\n",
       "      <td>1.000000</td>\n",
       "    </tr>\n",
       "  </tbody>\n",
       "</table>\n",
       "</div>"
      ],
      "text/plain": [
       "              Malignant  Endothelial         CAF       T CD8         NK  \\\n",
       "gene                                                                      \n",
       "LOX             1.00000    53.011314  524.750014    1.000000   1.000000   \n",
       "LOC100130476    1.00000     1.000000    1.000000   85.932509   1.000000   \n",
       "PTPN7           1.00000     1.000000    1.000000  156.983553  67.672359   \n",
       "SDS             1.00000     1.000000    1.000000    1.000000   1.000000   \n",
       "ALDH3B2        36.48977     1.000000    1.000000    1.000000   1.000000   \n",
       "\n",
       "              Macrophage       T CD4          B  \n",
       "gene                                             \n",
       "LOX             1.000000    1.000000   1.000000  \n",
       "LOC100130476    1.000000   56.335926   1.000000  \n",
       "PTPN7           1.000000  181.110947  28.379187  \n",
       "SDS            29.030163    1.000000   1.000000  \n",
       "ALDH3B2         1.000000    1.000000   1.000000  "
      ]
     },
     "execution_count": 11,
     "metadata": {},
     "output_type": "execute_result"
    }
   ],
   "source": [
    "signature_matrix = pd.read_csv(\n",
    "    os.path.join(experiment_uri, \"CIBERSORTx_myscrefsample_inferred_phenoclasses.CIBERSORTx_myscrefsample_inferred_refsample.bm.K999.txt\"),\n",
    "    sep=\"\\t\",\n",
    "    index_col=0\n",
    ").rename_axis(index=\"gene\").rename(columns=weird_to_nice)\n",
    "\n",
    "signature_matrix.sample(5)"
   ]
  },
  {
   "cell_type": "code",
   "execution_count": 12,
   "id": "43664192-cce7-43e9-a932-aed082b9a6f9",
   "metadata": {},
   "outputs": [
    {
     "data": {
      "text/html": [
       "<div>\n",
       "<style scoped>\n",
       "    .dataframe tbody tr th:only-of-type {\n",
       "        vertical-align: middle;\n",
       "    }\n",
       "\n",
       "    .dataframe tbody tr th {\n",
       "        vertical-align: top;\n",
       "    }\n",
       "\n",
       "    .dataframe thead th {\n",
       "        text-align: right;\n",
       "    }\n",
       "</style>\n",
       "<table border=\"1\" class=\"dataframe\">\n",
       "  <thead>\n",
       "    <tr style=\"text-align: right;\">\n",
       "      <th></th>\n",
       "      <th>Malignant</th>\n",
       "      <th>Endothelial</th>\n",
       "      <th>CAF</th>\n",
       "      <th>T CD8</th>\n",
       "      <th>NK</th>\n",
       "      <th>Macrophage</th>\n",
       "      <th>T CD4</th>\n",
       "      <th>B</th>\n",
       "    </tr>\n",
       "    <tr>\n",
       "      <th>mixture_id</th>\n",
       "      <th></th>\n",
       "      <th></th>\n",
       "      <th></th>\n",
       "      <th></th>\n",
       "      <th></th>\n",
       "      <th></th>\n",
       "      <th></th>\n",
       "      <th></th>\n",
       "    </tr>\n",
       "  </thead>\n",
       "  <tbody>\n",
       "    <tr>\n",
       "      <th>67</th>\n",
       "      <td>0.0000</td>\n",
       "      <td>0.0000</td>\n",
       "      <td>0.0000</td>\n",
       "      <td>0.3059</td>\n",
       "      <td>0.0118</td>\n",
       "      <td>0.0000</td>\n",
       "      <td>0.4588</td>\n",
       "      <td>0.2235</td>\n",
       "    </tr>\n",
       "    <tr>\n",
       "      <th>82</th>\n",
       "      <td>0.4638</td>\n",
       "      <td>0.0000</td>\n",
       "      <td>0.0870</td>\n",
       "      <td>0.1304</td>\n",
       "      <td>0.0290</td>\n",
       "      <td>0.0580</td>\n",
       "      <td>0.2174</td>\n",
       "      <td>0.0145</td>\n",
       "    </tr>\n",
       "    <tr>\n",
       "      <th>84</th>\n",
       "      <td>0.1045</td>\n",
       "      <td>0.0075</td>\n",
       "      <td>0.0075</td>\n",
       "      <td>0.1716</td>\n",
       "      <td>0.0522</td>\n",
       "      <td>0.1866</td>\n",
       "      <td>0.2836</td>\n",
       "      <td>0.1866</td>\n",
       "    </tr>\n",
       "    <tr>\n",
       "      <th>71</th>\n",
       "      <td>0.6835</td>\n",
       "      <td>0.0000</td>\n",
       "      <td>0.0000</td>\n",
       "      <td>0.1899</td>\n",
       "      <td>0.0000</td>\n",
       "      <td>0.0253</td>\n",
       "      <td>0.1013</td>\n",
       "      <td>0.0000</td>\n",
       "    </tr>\n",
       "    <tr>\n",
       "      <th>88</th>\n",
       "      <td>0.3966</td>\n",
       "      <td>0.0000</td>\n",
       "      <td>0.0068</td>\n",
       "      <td>0.1559</td>\n",
       "      <td>0.0305</td>\n",
       "      <td>0.1356</td>\n",
       "      <td>0.2203</td>\n",
       "      <td>0.0542</td>\n",
       "    </tr>\n",
       "  </tbody>\n",
       "</table>\n",
       "</div>"
      ],
      "text/plain": [
       "            Malignant  Endothelial     CAF   T CD8      NK  Macrophage  \\\n",
       "mixture_id                                                               \n",
       "67             0.0000       0.0000  0.0000  0.3059  0.0118      0.0000   \n",
       "82             0.4638       0.0000  0.0870  0.1304  0.0290      0.0580   \n",
       "84             0.1045       0.0075  0.0075  0.1716  0.0522      0.1866   \n",
       "71             0.6835       0.0000  0.0000  0.1899  0.0000      0.0253   \n",
       "88             0.3966       0.0000  0.0068  0.1559  0.0305      0.1356   \n",
       "\n",
       "             T CD4       B  \n",
       "mixture_id                  \n",
       "67          0.4588  0.2235  \n",
       "82          0.2174  0.0145  \n",
       "84          0.2836  0.1866  \n",
       "71          0.1013  0.0000  \n",
       "88          0.2203  0.0542  "
      ]
     },
     "execution_count": 12,
     "metadata": {},
     "output_type": "execute_result"
    }
   ],
   "source": [
    "fractions_truth = pd.read_csv(\n",
    "    \"gs://liulab/csx_example_files/groundtruth_Melanoma_Tirosh_et_al_SuppFig3b-d.txt\",\n",
    "    sep=\"\\t\",\n",
    "    index_col=0,\n",
    ").rename_axis(index=\"mixture_id\").rename(columns=weird_to_nice)\n",
    "\n",
    "fractions_truth.sample(5)"
   ]
  },
  {
   "cell_type": "code",
   "execution_count": 18,
   "id": "0780eff3-68af-4ea0-9071-dd19f4abc2a3",
   "metadata": {},
   "outputs": [],
   "source": [
    "import plotly.io\n",
    "plotly.io.renderers.default = \"jupyterlab+png\"\n",
    "\n",
    "import plotly.express as px\n",
    "import plotly.graph_objects as go"
   ]
  },
  {
   "cell_type": "code",
   "execution_count": 25,
   "id": "759887b4-16c4-462e-add0-cd433ed84852",
   "metadata": {},
   "outputs": [
    {
     "data": {
      "application/vnd.plotly.v1+json": {
       "config": {
        "plotlyServerURL": "https://plot.ly"
       },
       "data": [
        {
         "alignmentgroup": "True",
         "hovertemplate": "variable=Malignant<br>x=%{x}<br>value=%{y}<extra></extra>",
         "legendgroup": "Malignant",
         "marker": {
          "color": "#636efa",
          "pattern": {
           "shape": ""
          }
         },
         "name": "Malignant",
         "offsetgroup": "Malignant",
         "orientation": "v",
         "showlegend": true,
         "textposition": "auto",
         "type": "bar",
         "x": [
          "53",
          "58",
          "59",
          "60",
          "65",
          "67",
          "71",
          "72",
          "74",
          "75",
          "78",
          "79",
          "80",
          "81",
          "82",
          "84",
          "88",
          "89",
          "94"
         ],
         "xaxis": "x",
         "y": [
          0,
          0,
          0,
          0,
          0.0087,
          0.0413,
          0.0448,
          0.0755,
          0.1045,
          0.128,
          0.2263,
          0.2828,
          0.3966,
          0.4638,
          0.5474,
          0.6835,
          0.7308,
          0.871,
          0.9756
         ],
         "yaxis": "y"
        },
        {
         "alignmentgroup": "True",
         "hovertemplate": "variable=Endothelial<br>x=%{x}<br>value=%{y}<extra></extra>",
         "legendgroup": "Endothelial",
         "marker": {
          "color": "#EF553B",
          "pattern": {
           "shape": ""
          }
         },
         "name": "Endothelial",
         "offsetgroup": "Endothelial",
         "orientation": "v",
         "showlegend": true,
         "textposition": "auto",
         "type": "bar",
         "x": [
          "53",
          "58",
          "59",
          "60",
          "65",
          "67",
          "71",
          "72",
          "74",
          "75",
          "78",
          "79",
          "80",
          "81",
          "82",
          "84",
          "88",
          "89",
          "94"
         ],
         "xaxis": "x",
         "y": [
          0,
          0,
          0,
          0,
          0,
          0.0785,
          0,
          0,
          0.0075,
          0.088,
          0.0023,
          0.0656,
          0,
          0,
          0.0023,
          0,
          0.011,
          0,
          0
         ],
         "yaxis": "y"
        },
        {
         "alignmentgroup": "True",
         "hovertemplate": "variable=CAF<br>x=%{x}<br>value=%{y}<extra></extra>",
         "legendgroup": "CAF",
         "marker": {
          "color": "#00cc96",
          "pattern": {
           "shape": ""
          }
         },
         "name": "CAF",
         "offsetgroup": "CAF",
         "orientation": "v",
         "showlegend": true,
         "textposition": "auto",
         "type": "bar",
         "x": [
          "53",
          "58",
          "59",
          "60",
          "65",
          "67",
          "71",
          "72",
          "74",
          "75",
          "78",
          "79",
          "80",
          "81",
          "82",
          "84",
          "88",
          "89",
          "94"
         ],
         "xaxis": "x",
         "y": [
          0,
          0,
          0,
          0,
          0,
          0.0661,
          0,
          0,
          0.0075,
          0.032,
          0,
          0.052,
          0.0068,
          0.087,
          0.0012,
          0,
          0,
          0.1129,
          0.0081
         ],
         "yaxis": "y"
        },
        {
         "alignmentgroup": "True",
         "hovertemplate": "variable=T CD8<br>x=%{x}<br>value=%{y}<extra></extra>",
         "legendgroup": "T CD8",
         "marker": {
          "color": "#ab63fa",
          "pattern": {
           "shape": ""
          }
         },
         "name": "T CD8",
         "offsetgroup": "T CD8",
         "orientation": "v",
         "showlegend": true,
         "textposition": "auto",
         "type": "bar",
         "x": [
          "53",
          "58",
          "59",
          "60",
          "65",
          "67",
          "71",
          "72",
          "74",
          "75",
          "78",
          "79",
          "80",
          "81",
          "82",
          "84",
          "88",
          "89",
          "94"
         ],
         "xaxis": "x",
         "y": [
          0.6508,
          0.6496,
          0.1634,
          0.3059,
          0.9417,
          0.2025,
          0.194,
          0.4717,
          0.1716,
          0.2,
          0.3141,
          0.1538,
          0.1559,
          0.1304,
          0.2795,
          0.1899,
          0.1044,
          0,
          0
         ],
         "yaxis": "y"
        },
        {
         "alignmentgroup": "True",
         "hovertemplate": "variable=NK<br>x=%{x}<br>value=%{y}<extra></extra>",
         "legendgroup": "NK",
         "marker": {
          "color": "#FFA15A",
          "pattern": {
           "shape": ""
          }
         },
         "name": "NK",
         "offsetgroup": "NK",
         "orientation": "v",
         "showlegend": true,
         "textposition": "auto",
         "type": "bar",
         "x": [
          "53",
          "58",
          "59",
          "60",
          "65",
          "67",
          "71",
          "72",
          "74",
          "75",
          "78",
          "79",
          "80",
          "81",
          "82",
          "84",
          "88",
          "89",
          "94"
         ],
         "xaxis": "x",
         "y": [
          0.0317,
          0.0073,
          0.0065,
          0.0118,
          0,
          0.0041,
          0.0498,
          0,
          0.0522,
          0.08,
          0.0023,
          0.009,
          0.0305,
          0.029,
          0.0012,
          0,
          0,
          0,
          0
         ],
         "yaxis": "y"
        },
        {
         "alignmentgroup": "True",
         "hovertemplate": "variable=Macrophage<br>x=%{x}<br>value=%{y}<extra></extra>",
         "legendgroup": "Macrophage",
         "marker": {
          "color": "#19d3f3",
          "pattern": {
           "shape": ""
          }
         },
         "name": "Macrophage",
         "offsetgroup": "Macrophage",
         "orientation": "v",
         "showlegend": true,
         "textposition": "auto",
         "type": "bar",
         "x": [
          "53",
          "58",
          "59",
          "60",
          "65",
          "67",
          "71",
          "72",
          "74",
          "75",
          "78",
          "79",
          "80",
          "81",
          "82",
          "84",
          "88",
          "89",
          "94"
         ],
         "xaxis": "x",
         "y": [
          0.0159,
          0.0365,
          0,
          0,
          0.0029,
          0.0083,
          0.0199,
          0.0189,
          0.1866,
          0.096,
          0.06,
          0,
          0.1356,
          0.058,
          0,
          0.0253,
          0,
          0.0161,
          0
         ],
         "yaxis": "y"
        },
        {
         "alignmentgroup": "True",
         "hovertemplate": "variable=T CD4<br>x=%{x}<br>value=%{y}<extra></extra>",
         "legendgroup": "T CD4",
         "marker": {
          "color": "#FF6692",
          "pattern": {
           "shape": ""
          }
         },
         "name": "T CD4",
         "offsetgroup": "T CD4",
         "orientation": "v",
         "showlegend": true,
         "textposition": "auto",
         "type": "bar",
         "x": [
          "53",
          "58",
          "59",
          "60",
          "65",
          "67",
          "71",
          "72",
          "74",
          "75",
          "78",
          "79",
          "80",
          "81",
          "82",
          "84",
          "88",
          "89",
          "94"
         ],
         "xaxis": "x",
         "y": [
          0.2857,
          0.2117,
          0.6013,
          0.4588,
          0.0466,
          0.3306,
          0.2139,
          0.3396,
          0.2836,
          0.376,
          0.1501,
          0.3258,
          0.2203,
          0.2174,
          0.076,
          0.1013,
          0.1374,
          0,
          0.0081
         ],
         "yaxis": "y"
        },
        {
         "alignmentgroup": "True",
         "hovertemplate": "variable=B<br>x=%{x}<br>value=%{y}<extra></extra>",
         "legendgroup": "B",
         "marker": {
          "color": "#B6E880",
          "pattern": {
           "shape": ""
          }
         },
         "name": "B",
         "offsetgroup": "B",
         "orientation": "v",
         "showlegend": true,
         "textposition": "auto",
         "type": "bar",
         "x": [
          "53",
          "58",
          "59",
          "60",
          "65",
          "67",
          "71",
          "72",
          "74",
          "75",
          "78",
          "79",
          "80",
          "81",
          "82",
          "84",
          "88",
          "89",
          "94"
         ],
         "xaxis": "x",
         "y": [
          0.0159,
          0.0949,
          0.2288,
          0.2235,
          0,
          0.2686,
          0.4776,
          0.0943,
          0.1866,
          0,
          0.2448,
          0.1109,
          0.0542,
          0.0145,
          0.0924,
          0,
          0.0165,
          0,
          0.0081
         ],
         "yaxis": "y"
        }
       ],
       "layout": {
        "autosize": true,
        "barmode": "relative",
        "legend": {
         "title": {
          "text": "variable"
         },
         "tracegroupgap": 0
        },
        "template": {
         "data": {
          "bar": [
           {
            "error_x": {
             "color": "#2a3f5f"
            },
            "error_y": {
             "color": "#2a3f5f"
            },
            "marker": {
             "line": {
              "color": "#E5ECF6",
              "width": 0.5
             },
             "pattern": {
              "fillmode": "overlay",
              "size": 10,
              "solidity": 0.2
             }
            },
            "type": "bar"
           }
          ],
          "barpolar": [
           {
            "marker": {
             "line": {
              "color": "#E5ECF6",
              "width": 0.5
             },
             "pattern": {
              "fillmode": "overlay",
              "size": 10,
              "solidity": 0.2
             }
            },
            "type": "barpolar"
           }
          ],
          "carpet": [
           {
            "aaxis": {
             "endlinecolor": "#2a3f5f",
             "gridcolor": "white",
             "linecolor": "white",
             "minorgridcolor": "white",
             "startlinecolor": "#2a3f5f"
            },
            "baxis": {
             "endlinecolor": "#2a3f5f",
             "gridcolor": "white",
             "linecolor": "white",
             "minorgridcolor": "white",
             "startlinecolor": "#2a3f5f"
            },
            "type": "carpet"
           }
          ],
          "choropleth": [
           {
            "colorbar": {
             "outlinewidth": 0,
             "ticks": ""
            },
            "type": "choropleth"
           }
          ],
          "contour": [
           {
            "colorbar": {
             "outlinewidth": 0,
             "ticks": ""
            },
            "colorscale": [
             [
              0,
              "#0d0887"
             ],
             [
              0.1111111111111111,
              "#46039f"
             ],
             [
              0.2222222222222222,
              "#7201a8"
             ],
             [
              0.3333333333333333,
              "#9c179e"
             ],
             [
              0.4444444444444444,
              "#bd3786"
             ],
             [
              0.5555555555555556,
              "#d8576b"
             ],
             [
              0.6666666666666666,
              "#ed7953"
             ],
             [
              0.7777777777777778,
              "#fb9f3a"
             ],
             [
              0.8888888888888888,
              "#fdca26"
             ],
             [
              1,
              "#f0f921"
             ]
            ],
            "type": "contour"
           }
          ],
          "contourcarpet": [
           {
            "colorbar": {
             "outlinewidth": 0,
             "ticks": ""
            },
            "type": "contourcarpet"
           }
          ],
          "heatmap": [
           {
            "colorbar": {
             "outlinewidth": 0,
             "ticks": ""
            },
            "colorscale": [
             [
              0,
              "#0d0887"
             ],
             [
              0.1111111111111111,
              "#46039f"
             ],
             [
              0.2222222222222222,
              "#7201a8"
             ],
             [
              0.3333333333333333,
              "#9c179e"
             ],
             [
              0.4444444444444444,
              "#bd3786"
             ],
             [
              0.5555555555555556,
              "#d8576b"
             ],
             [
              0.6666666666666666,
              "#ed7953"
             ],
             [
              0.7777777777777778,
              "#fb9f3a"
             ],
             [
              0.8888888888888888,
              "#fdca26"
             ],
             [
              1,
              "#f0f921"
             ]
            ],
            "type": "heatmap"
           }
          ],
          "heatmapgl": [
           {
            "colorbar": {
             "outlinewidth": 0,
             "ticks": ""
            },
            "colorscale": [
             [
              0,
              "#0d0887"
             ],
             [
              0.1111111111111111,
              "#46039f"
             ],
             [
              0.2222222222222222,
              "#7201a8"
             ],
             [
              0.3333333333333333,
              "#9c179e"
             ],
             [
              0.4444444444444444,
              "#bd3786"
             ],
             [
              0.5555555555555556,
              "#d8576b"
             ],
             [
              0.6666666666666666,
              "#ed7953"
             ],
             [
              0.7777777777777778,
              "#fb9f3a"
             ],
             [
              0.8888888888888888,
              "#fdca26"
             ],
             [
              1,
              "#f0f921"
             ]
            ],
            "type": "heatmapgl"
           }
          ],
          "histogram": [
           {
            "marker": {
             "pattern": {
              "fillmode": "overlay",
              "size": 10,
              "solidity": 0.2
             }
            },
            "type": "histogram"
           }
          ],
          "histogram2d": [
           {
            "colorbar": {
             "outlinewidth": 0,
             "ticks": ""
            },
            "colorscale": [
             [
              0,
              "#0d0887"
             ],
             [
              0.1111111111111111,
              "#46039f"
             ],
             [
              0.2222222222222222,
              "#7201a8"
             ],
             [
              0.3333333333333333,
              "#9c179e"
             ],
             [
              0.4444444444444444,
              "#bd3786"
             ],
             [
              0.5555555555555556,
              "#d8576b"
             ],
             [
              0.6666666666666666,
              "#ed7953"
             ],
             [
              0.7777777777777778,
              "#fb9f3a"
             ],
             [
              0.8888888888888888,
              "#fdca26"
             ],
             [
              1,
              "#f0f921"
             ]
            ],
            "type": "histogram2d"
           }
          ],
          "histogram2dcontour": [
           {
            "colorbar": {
             "outlinewidth": 0,
             "ticks": ""
            },
            "colorscale": [
             [
              0,
              "#0d0887"
             ],
             [
              0.1111111111111111,
              "#46039f"
             ],
             [
              0.2222222222222222,
              "#7201a8"
             ],
             [
              0.3333333333333333,
              "#9c179e"
             ],
             [
              0.4444444444444444,
              "#bd3786"
             ],
             [
              0.5555555555555556,
              "#d8576b"
             ],
             [
              0.6666666666666666,
              "#ed7953"
             ],
             [
              0.7777777777777778,
              "#fb9f3a"
             ],
             [
              0.8888888888888888,
              "#fdca26"
             ],
             [
              1,
              "#f0f921"
             ]
            ],
            "type": "histogram2dcontour"
           }
          ],
          "mesh3d": [
           {
            "colorbar": {
             "outlinewidth": 0,
             "ticks": ""
            },
            "type": "mesh3d"
           }
          ],
          "parcoords": [
           {
            "line": {
             "colorbar": {
              "outlinewidth": 0,
              "ticks": ""
             }
            },
            "type": "parcoords"
           }
          ],
          "pie": [
           {
            "automargin": true,
            "type": "pie"
           }
          ],
          "scatter": [
           {
            "marker": {
             "colorbar": {
              "outlinewidth": 0,
              "ticks": ""
             }
            },
            "type": "scatter"
           }
          ],
          "scatter3d": [
           {
            "line": {
             "colorbar": {
              "outlinewidth": 0,
              "ticks": ""
             }
            },
            "marker": {
             "colorbar": {
              "outlinewidth": 0,
              "ticks": ""
             }
            },
            "type": "scatter3d"
           }
          ],
          "scattercarpet": [
           {
            "marker": {
             "colorbar": {
              "outlinewidth": 0,
              "ticks": ""
             }
            },
            "type": "scattercarpet"
           }
          ],
          "scattergeo": [
           {
            "marker": {
             "colorbar": {
              "outlinewidth": 0,
              "ticks": ""
             }
            },
            "type": "scattergeo"
           }
          ],
          "scattergl": [
           {
            "marker": {
             "colorbar": {
              "outlinewidth": 0,
              "ticks": ""
             }
            },
            "type": "scattergl"
           }
          ],
          "scattermapbox": [
           {
            "marker": {
             "colorbar": {
              "outlinewidth": 0,
              "ticks": ""
             }
            },
            "type": "scattermapbox"
           }
          ],
          "scatterpolar": [
           {
            "marker": {
             "colorbar": {
              "outlinewidth": 0,
              "ticks": ""
             }
            },
            "type": "scatterpolar"
           }
          ],
          "scatterpolargl": [
           {
            "marker": {
             "colorbar": {
              "outlinewidth": 0,
              "ticks": ""
             }
            },
            "type": "scatterpolargl"
           }
          ],
          "scatterternary": [
           {
            "marker": {
             "colorbar": {
              "outlinewidth": 0,
              "ticks": ""
             }
            },
            "type": "scatterternary"
           }
          ],
          "surface": [
           {
            "colorbar": {
             "outlinewidth": 0,
             "ticks": ""
            },
            "colorscale": [
             [
              0,
              "#0d0887"
             ],
             [
              0.1111111111111111,
              "#46039f"
             ],
             [
              0.2222222222222222,
              "#7201a8"
             ],
             [
              0.3333333333333333,
              "#9c179e"
             ],
             [
              0.4444444444444444,
              "#bd3786"
             ],
             [
              0.5555555555555556,
              "#d8576b"
             ],
             [
              0.6666666666666666,
              "#ed7953"
             ],
             [
              0.7777777777777778,
              "#fb9f3a"
             ],
             [
              0.8888888888888888,
              "#fdca26"
             ],
             [
              1,
              "#f0f921"
             ]
            ],
            "type": "surface"
           }
          ],
          "table": [
           {
            "cells": {
             "fill": {
              "color": "#EBF0F8"
             },
             "line": {
              "color": "white"
             }
            },
            "header": {
             "fill": {
              "color": "#C8D4E3"
             },
             "line": {
              "color": "white"
             }
            },
            "type": "table"
           }
          ]
         },
         "layout": {
          "annotationdefaults": {
           "arrowcolor": "#2a3f5f",
           "arrowhead": 0,
           "arrowwidth": 1
          },
          "autotypenumbers": "strict",
          "coloraxis": {
           "colorbar": {
            "outlinewidth": 0,
            "ticks": ""
           }
          },
          "colorscale": {
           "diverging": [
            [
             0,
             "#8e0152"
            ],
            [
             0.1,
             "#c51b7d"
            ],
            [
             0.2,
             "#de77ae"
            ],
            [
             0.3,
             "#f1b6da"
            ],
            [
             0.4,
             "#fde0ef"
            ],
            [
             0.5,
             "#f7f7f7"
            ],
            [
             0.6,
             "#e6f5d0"
            ],
            [
             0.7,
             "#b8e186"
            ],
            [
             0.8,
             "#7fbc41"
            ],
            [
             0.9,
             "#4d9221"
            ],
            [
             1,
             "#276419"
            ]
           ],
           "sequential": [
            [
             0,
             "#0d0887"
            ],
            [
             0.1111111111111111,
             "#46039f"
            ],
            [
             0.2222222222222222,
             "#7201a8"
            ],
            [
             0.3333333333333333,
             "#9c179e"
            ],
            [
             0.4444444444444444,
             "#bd3786"
            ],
            [
             0.5555555555555556,
             "#d8576b"
            ],
            [
             0.6666666666666666,
             "#ed7953"
            ],
            [
             0.7777777777777778,
             "#fb9f3a"
            ],
            [
             0.8888888888888888,
             "#fdca26"
            ],
            [
             1,
             "#f0f921"
            ]
           ],
           "sequentialminus": [
            [
             0,
             "#0d0887"
            ],
            [
             0.1111111111111111,
             "#46039f"
            ],
            [
             0.2222222222222222,
             "#7201a8"
            ],
            [
             0.3333333333333333,
             "#9c179e"
            ],
            [
             0.4444444444444444,
             "#bd3786"
            ],
            [
             0.5555555555555556,
             "#d8576b"
            ],
            [
             0.6666666666666666,
             "#ed7953"
            ],
            [
             0.7777777777777778,
             "#fb9f3a"
            ],
            [
             0.8888888888888888,
             "#fdca26"
            ],
            [
             1,
             "#f0f921"
            ]
           ]
          },
          "colorway": [
           "#636efa",
           "#EF553B",
           "#00cc96",
           "#ab63fa",
           "#FFA15A",
           "#19d3f3",
           "#FF6692",
           "#B6E880",
           "#FF97FF",
           "#FECB52"
          ],
          "font": {
           "color": "#2a3f5f"
          },
          "geo": {
           "bgcolor": "white",
           "lakecolor": "white",
           "landcolor": "#E5ECF6",
           "showlakes": true,
           "showland": true,
           "subunitcolor": "white"
          },
          "hoverlabel": {
           "align": "left"
          },
          "hovermode": "closest",
          "mapbox": {
           "style": "light"
          },
          "paper_bgcolor": "white",
          "plot_bgcolor": "#E5ECF6",
          "polar": {
           "angularaxis": {
            "gridcolor": "white",
            "linecolor": "white",
            "ticks": ""
           },
           "bgcolor": "#E5ECF6",
           "radialaxis": {
            "gridcolor": "white",
            "linecolor": "white",
            "ticks": ""
           }
          },
          "scene": {
           "xaxis": {
            "backgroundcolor": "#E5ECF6",
            "gridcolor": "white",
            "gridwidth": 2,
            "linecolor": "white",
            "showbackground": true,
            "ticks": "",
            "zerolinecolor": "white"
           },
           "yaxis": {
            "backgroundcolor": "#E5ECF6",
            "gridcolor": "white",
            "gridwidth": 2,
            "linecolor": "white",
            "showbackground": true,
            "ticks": "",
            "zerolinecolor": "white"
           },
           "zaxis": {
            "backgroundcolor": "#E5ECF6",
            "gridcolor": "white",
            "gridwidth": 2,
            "linecolor": "white",
            "showbackground": true,
            "ticks": "",
            "zerolinecolor": "white"
           }
          },
          "shapedefaults": {
           "line": {
            "color": "#2a3f5f"
           }
          },
          "ternary": {
           "aaxis": {
            "gridcolor": "white",
            "linecolor": "white",
            "ticks": ""
           },
           "baxis": {
            "gridcolor": "white",
            "linecolor": "white",
            "ticks": ""
           },
           "bgcolor": "#E5ECF6",
           "caxis": {
            "gridcolor": "white",
            "linecolor": "white",
            "ticks": ""
           }
          },
          "title": {
           "x": 0.05
          },
          "xaxis": {
           "automargin": true,
           "gridcolor": "white",
           "linecolor": "white",
           "ticks": "",
           "title": {
            "standoff": 15
           },
           "zerolinecolor": "white",
           "zerolinewidth": 2
          },
          "yaxis": {
           "automargin": true,
           "gridcolor": "white",
           "linecolor": "white",
           "ticks": "",
           "title": {
            "standoff": 15
           },
           "zerolinecolor": "white",
           "zerolinewidth": 2
          }
         }
        },
        "title": {
         "text": "True fractions of each mixture"
        },
        "xaxis": {
         "anchor": "y",
         "autorange": true,
         "domain": [
          0,
          1
         ],
         "range": [
          -0.5,
          18.5
         ],
         "title": {
          "text": "x"
         },
         "type": "category"
        },
        "yaxis": {
         "anchor": "x",
         "autorange": true,
         "domain": [
          0,
          1
         ],
         "range": [
          0,
          1.0527368421052634
         ],
         "title": {
          "text": "value"
         },
         "type": "linear"
        }
       }
      },
      "image/png": "[encoded data removed]"
     },
     "metadata": {},
     "output_type": "display_data"
    }
   ],
   "source": [
    "fig = px.bar(\n",
    "    fractions_truth.sort_values(by=\"Malignant\"),  #.astype(index={\"mixture_id\": str}),\n",
    "    x=fractions_truth.index.astype(str),\n",
    "    y=fractions_truth.columns,\n",
    "    title=\"True fractions of each mixture\"\n",
    ")\n",
    "\n",
    "fig.show()"
   ]
  },
  {
   "cell_type": "code",
   "execution_count": 20,
   "id": "d4cee51b-ea18-4f8b-903a-8ec3c2f2a43b",
   "metadata": {},
   "outputs": [
    {
     "data": {
      "application/vnd.plotly.v1+json": {
       "config": {
        "plotlyServerURL": "https://plot.ly"
       },
       "data": [
        {
         "alignmentgroup": "True",
         "hovertemplate": "variable=Malignant<br>x=%{x}<br>value=%{y}<extra></extra>",
         "legendgroup": "Malignant",
         "marker": {
          "color": "#636efa",
          "pattern": {
           "shape": ""
          }
         },
         "name": "Malignant",
         "offsetgroup": "Malignant",
         "orientation": "v",
         "showlegend": true,
         "textposition": "auto",
         "type": "bar",
         "x": [
          "53",
          "58",
          "59",
          "60",
          "65",
          "67",
          "71",
          "72",
          "74",
          "75",
          "78",
          "79",
          "80",
          "81",
          "82",
          "84",
          "88",
          "89",
          "94"
         ],
         "xaxis": "x",
         "y": [
          0.0476283469687449,
          0,
          0.6536196484388938,
          0.0341585922891866,
          0.0850705320856705,
          0,
          0.4432016094426615,
          0,
          0,
          0.0121741458875542,
          0.9881555481375888,
          0.5515506999339879,
          0.3165571892790316,
          0.3812295146792779,
          0.3226424892546371,
          0.0838036872464398,
          0.3729164950924526,
          0.1915630437897394,
          0.0526423778586794
         ],
         "yaxis": "y"
        },
        {
         "alignmentgroup": "True",
         "hovertemplate": "variable=Endothelial<br>x=%{x}<br>value=%{y}<extra></extra>",
         "legendgroup": "Endothelial",
         "marker": {
          "color": "#EF553B",
          "pattern": {
           "shape": ""
          }
         },
         "name": "Endothelial",
         "offsetgroup": "Endothelial",
         "orientation": "v",
         "showlegend": true,
         "textposition": "auto",
         "type": "bar",
         "x": [
          "53",
          "58",
          "59",
          "60",
          "65",
          "67",
          "71",
          "72",
          "74",
          "75",
          "78",
          "79",
          "80",
          "81",
          "82",
          "84",
          "88",
          "89",
          "94"
         ],
         "xaxis": "x",
         "y": [
          0.0308756743040506,
          0,
          0,
          0.0003789817663419,
          0.0007284757345141,
          0,
          0.0006434344725407,
          0,
          0.0005719333640456,
          5.20321603795e-05,
          0,
          0.0147142783510302,
          0.0548707547203875,
          0.0051219371337693,
          0.0094593518893097,
          0.002351226211514,
          0,
          0.0004617006370033,
          0.0746615858104475
         ],
         "yaxis": "y"
        },
        {
         "alignmentgroup": "True",
         "hovertemplate": "variable=CAF<br>x=%{x}<br>value=%{y}<extra></extra>",
         "legendgroup": "CAF",
         "marker": {
          "color": "#00cc96",
          "pattern": {
           "shape": ""
          }
         },
         "name": "CAF",
         "offsetgroup": "CAF",
         "orientation": "v",
         "showlegend": true,
         "textposition": "auto",
         "type": "bar",
         "x": [
          "53",
          "58",
          "59",
          "60",
          "65",
          "67",
          "71",
          "72",
          "74",
          "75",
          "78",
          "79",
          "80",
          "81",
          "82",
          "84",
          "88",
          "89",
          "94"
         ],
         "xaxis": "x",
         "y": [
          0.0564028304259652,
          0.0030108936185008,
          0.3054892432240836,
          0,
          0,
          0,
          0.0022805088823735,
          0.0010235898860004,
          0.0024591574791641,
          0,
          0.0030891321034595,
          0,
          0.0454002915602483,
          0.0410572793767125,
          0.078213804166822,
          0.0130430436947232,
          0.0091790301481981,
          0.0017946690469504,
          0.0546305087215212
         ],
         "yaxis": "y"
        },
        {
         "alignmentgroup": "True",
         "hovertemplate": "variable=T CD8<br>x=%{x}<br>value=%{y}<extra></extra>",
         "legendgroup": "T CD8",
         "marker": {
          "color": "#ab63fa",
          "pattern": {
           "shape": ""
          }
         },
         "name": "T CD8",
         "offsetgroup": "T CD8",
         "orientation": "v",
         "showlegend": true,
         "textposition": "auto",
         "type": "bar",
         "x": [
          "53",
          "58",
          "59",
          "60",
          "65",
          "67",
          "71",
          "72",
          "74",
          "75",
          "78",
          "79",
          "80",
          "81",
          "82",
          "84",
          "88",
          "89",
          "94"
         ],
         "xaxis": "x",
         "y": [
          0.2998053119575016,
          0.6406884398533855,
          0,
          0.2320509700596279,
          0.3172111350741948,
          0.2730970817021169,
          0.3124002077074351,
          0,
          0.6630429652086306,
          0.6853688338811915,
          0,
          0.2330278030388506,
          0.1860008837427851,
          0.2668030070416418,
          0.1732964858920749,
          0.2081509053729628,
          0.14805532464811,
          0.3315681480835658,
          0.0031510031152545
         ],
         "yaxis": "y"
        },
        {
         "alignmentgroup": "True",
         "hovertemplate": "variable=NK<br>x=%{x}<br>value=%{y}<extra></extra>",
         "legendgroup": "NK",
         "marker": {
          "color": "#FFA15A",
          "pattern": {
           "shape": ""
          }
         },
         "name": "NK",
         "offsetgroup": "NK",
         "orientation": "v",
         "showlegend": true,
         "textposition": "auto",
         "type": "bar",
         "x": [
          "53",
          "58",
          "59",
          "60",
          "65",
          "67",
          "71",
          "72",
          "74",
          "75",
          "78",
          "79",
          "80",
          "81",
          "82",
          "84",
          "88",
          "89",
          "94"
         ],
         "xaxis": "x",
         "y": [
          0.1384333497820824,
          0.0707224961848826,
          0.0012445108687829,
          0.0817230680885227,
          0.0211961576476356,
          0.0385809732575476,
          0.03385282770789,
          0.0160045057232778,
          0.0394478518759975,
          0.0692682101349283,
          2.21868911824e-05,
          0.0028958714978742,
          0.0211988345694394,
          0.0182291274260599,
          0.0430138702391321,
          0.0763863625237805,
          0.0397886516007269,
          0.015322661466603,
          0.0177298998179837
         ],
         "yaxis": "y"
        },
        {
         "alignmentgroup": "True",
         "hovertemplate": "variable=Macrophage<br>x=%{x}<br>value=%{y}<extra></extra>",
         "legendgroup": "Macrophage",
         "marker": {
          "color": "#19d3f3",
          "pattern": {
           "shape": ""
          }
         },
         "name": "Macrophage",
         "offsetgroup": "Macrophage",
         "orientation": "v",
         "showlegend": true,
         "textposition": "auto",
         "type": "bar",
         "x": [
          "53",
          "58",
          "59",
          "60",
          "65",
          "67",
          "71",
          "72",
          "74",
          "75",
          "78",
          "79",
          "80",
          "81",
          "82",
          "84",
          "88",
          "89",
          "94"
         ],
         "xaxis": "x",
         "y": [
          0.0828862351133042,
          0.0216557478384859,
          0.0375468771304506,
          0.0510401878007178,
          0.0331653921515467,
          0.0058933288090567,
          0.0390537564836024,
          0.0126600375930477,
          0.0490276424661383,
          0.0214735970884361,
          0.0005586162714141,
          0.0254837031061457,
          0.0022922214285675,
          0.0111483990430705,
          0.0571511334879805,
          0.1291381547569755,
          0.1324829186501335,
          0.0716380284859331,
          0.0375555647213975
         ],
         "yaxis": "y"
        },
        {
         "alignmentgroup": "True",
         "hovertemplate": "variable=T CD4<br>x=%{x}<br>value=%{y}<extra></extra>",
         "legendgroup": "T CD4",
         "marker": {
          "color": "#FF6692",
          "pattern": {
           "shape": ""
          }
         },
         "name": "T CD4",
         "offsetgroup": "T CD4",
         "orientation": "v",
         "showlegend": true,
         "textposition": "auto",
         "type": "bar",
         "x": [
          "53",
          "58",
          "59",
          "60",
          "65",
          "67",
          "71",
          "72",
          "74",
          "75",
          "78",
          "79",
          "80",
          "81",
          "82",
          "84",
          "88",
          "89",
          "94"
         ],
         "xaxis": "x",
         "y": [
          0.3439682514483509,
          0.2475129579350853,
          0.002099720337789,
          0.2039299960732707,
          0.4594498999566618,
          0.4972698079788683,
          0.1667209437344765,
          0.7276041069539578,
          0.1798059027000875,
          0.2089716509864566,
          0.0059387970293733,
          0.1259030006214997,
          0.2843200663052721,
          0.2566520339475038,
          0.2715758020097522,
          0.3594836180850463,
          0.2150845631846918,
          0.1741905966830228,
          0.4682563183672247
         ],
         "yaxis": "y"
        },
        {
         "alignmentgroup": "True",
         "hovertemplate": "variable=B<br>x=%{x}<br>value=%{y}<extra></extra>",
         "legendgroup": "B",
         "marker": {
          "color": "#B6E880",
          "pattern": {
           "shape": ""
          }
         },
         "name": "B",
         "offsetgroup": "B",
         "orientation": "v",
         "showlegend": true,
         "textposition": "auto",
         "type": "bar",
         "x": [
          "53",
          "58",
          "59",
          "60",
          "65",
          "67",
          "71",
          "72",
          "74",
          "75",
          "78",
          "79",
          "80",
          "81",
          "82",
          "84",
          "88",
          "89",
          "94"
         ],
         "xaxis": "x",
         "y": [
          0,
          0.0164094645696597,
          0,
          0.396718203922332,
          0.0831784073497763,
          0.1851588082524103,
          0.0018467115690198,
          0.2427077598437161,
          0.065644546905936,
          0.0026915298610537,
          0.0022357195669813,
          0.0464246434506113,
          0.089359758394268,
          0.019758701351964,
          0.0446470630602912,
          0.1276430021085576,
          0.0824930166756869,
          0.2134611518071818,
          0.2913727415874911
         ],
         "yaxis": "y"
        }
       ],
       "layout": {
        "autosize": true,
        "barmode": "relative",
        "legend": {
         "title": {
          "text": "variable"
         },
         "tracegroupgap": 0
        },
        "template": {
         "data": {
          "bar": [
           {
            "error_x": {
             "color": "#2a3f5f"
            },
            "error_y": {
             "color": "#2a3f5f"
            },
            "marker": {
             "line": {
              "color": "#E5ECF6",
              "width": 0.5
             },
             "pattern": {
              "fillmode": "overlay",
              "size": 10,
              "solidity": 0.2
             }
            },
            "type": "bar"
           }
          ],
          "barpolar": [
           {
            "marker": {
             "line": {
              "color": "#E5ECF6",
              "width": 0.5
             },
             "pattern": {
              "fillmode": "overlay",
              "size": 10,
              "solidity": 0.2
             }
            },
            "type": "barpolar"
           }
          ],
          "carpet": [
           {
            "aaxis": {
             "endlinecolor": "#2a3f5f",
             "gridcolor": "white",
             "linecolor": "white",
             "minorgridcolor": "white",
             "startlinecolor": "#2a3f5f"
            },
            "baxis": {
             "endlinecolor": "#2a3f5f",
             "gridcolor": "white",
             "linecolor": "white",
             "minorgridcolor": "white",
             "startlinecolor": "#2a3f5f"
            },
            "type": "carpet"
           }
          ],
          "choropleth": [
           {
            "colorbar": {
             "outlinewidth": 0,
             "ticks": ""
            },
            "type": "choropleth"
           }
          ],
          "contour": [
           {
            "colorbar": {
             "outlinewidth": 0,
             "ticks": ""
            },
            "colorscale": [
             [
              0,
              "#0d0887"
             ],
             [
              0.1111111111111111,
              "#46039f"
             ],
             [
              0.2222222222222222,
              "#7201a8"
             ],
             [
              0.3333333333333333,
              "#9c179e"
             ],
             [
              0.4444444444444444,
              "#bd3786"
             ],
             [
              0.5555555555555556,
              "#d8576b"
             ],
             [
              0.6666666666666666,
              "#ed7953"
             ],
             [
              0.7777777777777778,
              "#fb9f3a"
             ],
             [
              0.8888888888888888,
              "#fdca26"
             ],
             [
              1,
              "#f0f921"
             ]
            ],
            "type": "contour"
           }
          ],
          "contourcarpet": [
           {
            "colorbar": {
             "outlinewidth": 0,
             "ticks": ""
            },
            "type": "contourcarpet"
           }
          ],
          "heatmap": [
           {
            "colorbar": {
             "outlinewidth": 0,
             "ticks": ""
            },
            "colorscale": [
             [
              0,
              "#0d0887"
             ],
             [
              0.1111111111111111,
              "#46039f"
             ],
             [
              0.2222222222222222,
              "#7201a8"
             ],
             [
              0.3333333333333333,
              "#9c179e"
             ],
             [
              0.4444444444444444,
              "#bd3786"
             ],
             [
              0.5555555555555556,
              "#d8576b"
             ],
             [
              0.6666666666666666,
              "#ed7953"
             ],
             [
              0.7777777777777778,
              "#fb9f3a"
             ],
             [
              0.8888888888888888,
              "#fdca26"
             ],
             [
              1,
              "#f0f921"
             ]
            ],
            "type": "heatmap"
           }
          ],
          "heatmapgl": [
           {
            "colorbar": {
             "outlinewidth": 0,
             "ticks": ""
            },
            "colorscale": [
             [
              0,
              "#0d0887"
             ],
             [
              0.1111111111111111,
              "#46039f"
             ],
             [
              0.2222222222222222,
              "#7201a8"
             ],
             [
              0.3333333333333333,
              "#9c179e"
             ],
             [
              0.4444444444444444,
              "#bd3786"
             ],
             [
              0.5555555555555556,
              "#d8576b"
             ],
             [
              0.6666666666666666,
              "#ed7953"
             ],
             [
              0.7777777777777778,
              "#fb9f3a"
             ],
             [
              0.8888888888888888,
              "#fdca26"
             ],
             [
              1,
              "#f0f921"
             ]
            ],
            "type": "heatmapgl"
           }
          ],
          "histogram": [
           {
            "marker": {
             "pattern": {
              "fillmode": "overlay",
              "size": 10,
              "solidity": 0.2
             }
            },
            "type": "histogram"
           }
          ],
          "histogram2d": [
           {
            "colorbar": {
             "outlinewidth": 0,
             "ticks": ""
            },
            "colorscale": [
             [
              0,
              "#0d0887"
             ],
             [
              0.1111111111111111,
              "#46039f"
             ],
             [
              0.2222222222222222,
              "#7201a8"
             ],
             [
              0.3333333333333333,
              "#9c179e"
             ],
             [
              0.4444444444444444,
              "#bd3786"
             ],
             [
              0.5555555555555556,
              "#d8576b"
             ],
             [
              0.6666666666666666,
              "#ed7953"
             ],
             [
              0.7777777777777778,
              "#fb9f3a"
             ],
             [
              0.8888888888888888,
              "#fdca26"
             ],
             [
              1,
              "#f0f921"
             ]
            ],
            "type": "histogram2d"
           }
          ],
          "histogram2dcontour": [
           {
            "colorbar": {
             "outlinewidth": 0,
             "ticks": ""
            },
            "colorscale": [
             [
              0,
              "#0d0887"
             ],
             [
              0.1111111111111111,
              "#46039f"
             ],
             [
              0.2222222222222222,
              "#7201a8"
             ],
             [
              0.3333333333333333,
              "#9c179e"
             ],
             [
              0.4444444444444444,
              "#bd3786"
             ],
             [
              0.5555555555555556,
              "#d8576b"
             ],
             [
              0.6666666666666666,
              "#ed7953"
             ],
             [
              0.7777777777777778,
              "#fb9f3a"
             ],
             [
              0.8888888888888888,
              "#fdca26"
             ],
             [
              1,
              "#f0f921"
             ]
            ],
            "type": "histogram2dcontour"
           }
          ],
          "mesh3d": [
           {
            "colorbar": {
             "outlinewidth": 0,
             "ticks": ""
            },
            "type": "mesh3d"
           }
          ],
          "parcoords": [
           {
            "line": {
             "colorbar": {
              "outlinewidth": 0,
              "ticks": ""
             }
            },
            "type": "parcoords"
           }
          ],
          "pie": [
           {
            "automargin": true,
            "type": "pie"
           }
          ],
          "scatter": [
           {
            "marker": {
             "colorbar": {
              "outlinewidth": 0,
              "ticks": ""
             }
            },
            "type": "scatter"
           }
          ],
          "scatter3d": [
           {
            "line": {
             "colorbar": {
              "outlinewidth": 0,
              "ticks": ""
             }
            },
            "marker": {
             "colorbar": {
              "outlinewidth": 0,
              "ticks": ""
             }
            },
            "type": "scatter3d"
           }
          ],
          "scattercarpet": [
           {
            "marker": {
             "colorbar": {
              "outlinewidth": 0,
              "ticks": ""
             }
            },
            "type": "scattercarpet"
           }
          ],
          "scattergeo": [
           {
            "marker": {
             "colorbar": {
              "outlinewidth": 0,
              "ticks": ""
             }
            },
            "type": "scattergeo"
           }
          ],
          "scattergl": [
           {
            "marker": {
             "colorbar": {
              "outlinewidth": 0,
              "ticks": ""
             }
            },
            "type": "scattergl"
           }
          ],
          "scattermapbox": [
           {
            "marker": {
             "colorbar": {
              "outlinewidth": 0,
              "ticks": ""
             }
            },
            "type": "scattermapbox"
           }
          ],
          "scatterpolar": [
           {
            "marker": {
             "colorbar": {
              "outlinewidth": 0,
              "ticks": ""
             }
            },
            "type": "scatterpolar"
           }
          ],
          "scatterpolargl": [
           {
            "marker": {
             "colorbar": {
              "outlinewidth": 0,
              "ticks": ""
             }
            },
            "type": "scatterpolargl"
           }
          ],
          "scatterternary": [
           {
            "marker": {
             "colorbar": {
              "outlinewidth": 0,
              "ticks": ""
             }
            },
            "type": "scatterternary"
           }
          ],
          "surface": [
           {
            "colorbar": {
             "outlinewidth": 0,
             "ticks": ""
            },
            "colorscale": [
             [
              0,
              "#0d0887"
             ],
             [
              0.1111111111111111,
              "#46039f"
             ],
             [
              0.2222222222222222,
              "#7201a8"
             ],
             [
              0.3333333333333333,
              "#9c179e"
             ],
             [
              0.4444444444444444,
              "#bd3786"
             ],
             [
              0.5555555555555556,
              "#d8576b"
             ],
             [
              0.6666666666666666,
              "#ed7953"
             ],
             [
              0.7777777777777778,
              "#fb9f3a"
             ],
             [
              0.8888888888888888,
              "#fdca26"
             ],
             [
              1,
              "#f0f921"
             ]
            ],
            "type": "surface"
           }
          ],
          "table": [
           {
            "cells": {
             "fill": {
              "color": "#EBF0F8"
             },
             "line": {
              "color": "white"
             }
            },
            "header": {
             "fill": {
              "color": "#C8D4E3"
             },
             "line": {
              "color": "white"
             }
            },
            "type": "table"
           }
          ]
         },
         "layout": {
          "annotationdefaults": {
           "arrowcolor": "#2a3f5f",
           "arrowhead": 0,
           "arrowwidth": 1
          },
          "autotypenumbers": "strict",
          "coloraxis": {
           "colorbar": {
            "outlinewidth": 0,
            "ticks": ""
           }
          },
          "colorscale": {
           "diverging": [
            [
             0,
             "#8e0152"
            ],
            [
             0.1,
             "#c51b7d"
            ],
            [
             0.2,
             "#de77ae"
            ],
            [
             0.3,
             "#f1b6da"
            ],
            [
             0.4,
             "#fde0ef"
            ],
            [
             0.5,
             "#f7f7f7"
            ],
            [
             0.6,
             "#e6f5d0"
            ],
            [
             0.7,
             "#b8e186"
            ],
            [
             0.8,
             "#7fbc41"
            ],
            [
             0.9,
             "#4d9221"
            ],
            [
             1,
             "#276419"
            ]
           ],
           "sequential": [
            [
             0,
             "#0d0887"
            ],
            [
             0.1111111111111111,
             "#46039f"
            ],
            [
             0.2222222222222222,
             "#7201a8"
            ],
            [
             0.3333333333333333,
             "#9c179e"
            ],
            [
             0.4444444444444444,
             "#bd3786"
            ],
            [
             0.5555555555555556,
             "#d8576b"
            ],
            [
             0.6666666666666666,
             "#ed7953"
            ],
            [
             0.7777777777777778,
             "#fb9f3a"
            ],
            [
             0.8888888888888888,
             "#fdca26"
            ],
            [
             1,
             "#f0f921"
            ]
           ],
           "sequentialminus": [
            [
             0,
             "#0d0887"
            ],
            [
             0.1111111111111111,
             "#46039f"
            ],
            [
             0.2222222222222222,
             "#7201a8"
            ],
            [
             0.3333333333333333,
             "#9c179e"
            ],
            [
             0.4444444444444444,
             "#bd3786"
            ],
            [
             0.5555555555555556,
             "#d8576b"
            ],
            [
             0.6666666666666666,
             "#ed7953"
            ],
            [
             0.7777777777777778,
             "#fb9f3a"
            ],
            [
             0.8888888888888888,
             "#fdca26"
            ],
            [
             1,
             "#f0f921"
            ]
           ]
          },
          "colorway": [
           "#636efa",
           "#EF553B",
           "#00cc96",
           "#ab63fa",
           "#FFA15A",
           "#19d3f3",
           "#FF6692",
           "#B6E880",
           "#FF97FF",
           "#FECB52"
          ],
          "font": {
           "color": "#2a3f5f"
          },
          "geo": {
           "bgcolor": "white",
           "lakecolor": "white",
           "landcolor": "#E5ECF6",
           "showlakes": true,
           "showland": true,
           "subunitcolor": "white"
          },
          "hoverlabel": {
           "align": "left"
          },
          "hovermode": "closest",
          "mapbox": {
           "style": "light"
          },
          "paper_bgcolor": "white",
          "plot_bgcolor": "#E5ECF6",
          "polar": {
           "angularaxis": {
            "gridcolor": "white",
            "linecolor": "white",
            "ticks": ""
           },
           "bgcolor": "#E5ECF6",
           "radialaxis": {
            "gridcolor": "white",
            "linecolor": "white",
            "ticks": ""
           }
          },
          "scene": {
           "xaxis": {
            "backgroundcolor": "#E5ECF6",
            "gridcolor": "white",
            "gridwidth": 2,
            "linecolor": "white",
            "showbackground": true,
            "ticks": "",
            "zerolinecolor": "white"
           },
           "yaxis": {
            "backgroundcolor": "#E5ECF6",
            "gridcolor": "white",
            "gridwidth": 2,
            "linecolor": "white",
            "showbackground": true,
            "ticks": "",
            "zerolinecolor": "white"
           },
           "zaxis": {
            "backgroundcolor": "#E5ECF6",
            "gridcolor": "white",
            "gridwidth": 2,
            "linecolor": "white",
            "showbackground": true,
            "ticks": "",
            "zerolinecolor": "white"
           }
          },
          "shapedefaults": {
           "line": {
            "color": "#2a3f5f"
           }
          },
          "ternary": {
           "aaxis": {
            "gridcolor": "white",
            "linecolor": "white",
            "ticks": ""
           },
           "baxis": {
            "gridcolor": "white",
            "linecolor": "white",
            "ticks": ""
           },
           "bgcolor": "#E5ECF6",
           "caxis": {
            "gridcolor": "white",
            "linecolor": "white",
            "ticks": ""
           }
          },
          "title": {
           "x": 0.05
          },
          "xaxis": {
           "automargin": true,
           "gridcolor": "white",
           "linecolor": "white",
           "ticks": "",
           "title": {
            "standoff": 15
           },
           "zerolinecolor": "white",
           "zerolinewidth": 2
          },
          "yaxis": {
           "automargin": true,
           "gridcolor": "white",
           "linecolor": "white",
           "ticks": "",
           "title": {
            "standoff": 15
           },
           "zerolinecolor": "white",
           "zerolinewidth": 2
          }
         }
        },
        "title": {
         "text": "Predicted fractions of each mixture"
        },
        "xaxis": {
         "anchor": "y",
         "autorange": true,
         "domain": [
          0,
          1
         ],
         "range": [
          -0.5,
          18.5
         ],
         "title": {
          "text": "x"
         },
         "type": "category"
        },
        "yaxis": {
         "anchor": "x",
         "autorange": true,
         "domain": [
          0,
          1
         ],
         "range": [
          0,
          1.0526315789473684
         ],
         "title": {
          "text": "value"
         },
         "type": "linear"
        }
       }
      },
      "image/png": "[encoded data removed]"
     },
     "metadata": {},
     "output_type": "display_data"
    }
   ],
   "source": [
    "fig = px.bar(\n",
    "    fractions_csx,  #.astype(index={\"mixture_id\": str}),\n",
    "    x=fractions_csx.index.astype(str),\n",
    "    y=fractions_csx.columns,\n",
    "    title=\"Predicted fractions of each mixture\"\n",
    ")\n",
    "\n",
    "fig.show()"
   ]
  },
  {
   "cell_type": "code",
   "execution_count": null,
   "id": "c3af1719-a5cd-4c8c-a60c-a341ee8c1fd9",
   "metadata": {},
   "outputs": [],
   "source": []
  }
 ],
 "metadata": {
  "environment": {
   "name": "tf2-gpu.2-5.m74",
   "type": "gcloud",
   "uri": "gcr.io/deeplearning-platform-release/tf2-gpu.2-5:m74"
  },
  "kernelspec": {
   "display_name": "Python 3",
   "language": "python",
   "name": "python3"
  },
  "language_info": {
   "codemirror_mode": {
    "name": "ipython",
    "version": 3
   },
   "file_extension": ".py",
   "mimetype": "text/x-python",
   "name": "python",
   "nbconvert_exporter": "python",
   "pygments_lexer": "ipython3",
   "version": "3.7.10"
  }
 },
 "nbformat": 4,
 "nbformat_minor": 5
}
