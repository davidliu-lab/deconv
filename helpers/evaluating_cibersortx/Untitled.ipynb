{
 "cells": [
  {
   "cell_type": "code",
   "execution_count": 3,
   "id": "09b60ede-574d-4e0f-9eee-a059d4aa7358",
   "metadata": {},
   "outputs": [],
   "source": [
    "import pandas as pd\n",
    "import dask.dataframe as dd"
   ]
  },
  {
   "cell_type": "code",
   "execution_count": 16,
   "id": "80c8b1c5",
   "metadata": {},
   "outputs": [
    {
     "name": "stderr",
     "output_type": "stream",
     "text": [
      "_request non-retriable exception: Anonymous caller does not have storage.objects.get access to the Google Cloud Storage object., 401\n",
      "Traceback (most recent call last):\n",
      "  File \"/Users/william/.pyenv/versions/miniforge3/envs/deconv/lib/python3.10/site-packages/gcsfs/retry.py\", line 115, in retry_request\n",
      "    return await func(*args, **kwargs)\n",
      "  File \"/Users/william/.pyenv/versions/miniforge3/envs/deconv/lib/python3.10/site-packages/gcsfs/core.py\", line 384, in _request\n",
      "    validate_response(status, contents, path, args)\n",
      "  File \"/Users/william/.pyenv/versions/miniforge3/envs/deconv/lib/python3.10/site-packages/gcsfs/retry.py\", line 102, in validate_response\n",
      "    raise HttpError(error)\n",
      "gcsfs.retry.HttpError: Anonymous caller does not have storage.objects.get access to the Google Cloud Storage object., 401\n"
     ]
    },
    {
     "ename": "HttpError",
     "evalue": "Anonymous caller does not have storage.objects.get access to the Google Cloud Storage object., 401",
     "output_type": "error",
     "traceback": [
      "\u001b[0;31m---------------------------------------------------------------------------\u001b[0m",
      "\u001b[0;31mHttpError\u001b[0m                                 Traceback (most recent call last)",
      "\u001b[1;32m/Users/william/src/deconv/helpers/evaluating_cibersortx/Untitled.ipynb Cell 2\u001b[0m in \u001b[0;36m<cell line: 1>\u001b[0;34m()\u001b[0m\n\u001b[0;32m----> <a href='vscode-notebook-cell:/Users/william/src/deconv/helpers/evaluating_cibersortx/Untitled.ipynb#X13sZmlsZQ%3D%3D?line=0'>1</a>\u001b[0m ddf \u001b[39m=\u001b[39m dd\u001b[39m.\u001b[39;49mread_csv(\u001b[39m\"\u001b[39;49m\u001b[39mgs://liulab/data/pseudobulk_evaluation/csx_runs/hires_with_fractions/pseudobulks_2/n_cells=5/malignant_from_one_sample=True/outdir/CIBERSORTxHiRes_NA_TCD4_Window36.txt\u001b[39;49m\u001b[39m\"\u001b[39;49m,)\n",
      "File \u001b[0;32m~/.pyenv/versions/miniforge3/envs/deconv/lib/python3.10/site-packages/dask/dataframe/io/csv.py:744\u001b[0m, in \u001b[0;36mmake_reader.<locals>.read\u001b[0;34m(urlpath, blocksize, lineterminator, compression, sample, sample_rows, enforce, assume_missing, storage_options, include_path_column, **kwargs)\u001b[0m\n\u001b[1;32m    731\u001b[0m \u001b[39mdef\u001b[39;00m \u001b[39mread\u001b[39m(\n\u001b[1;32m    732\u001b[0m     urlpath,\n\u001b[1;32m    733\u001b[0m     blocksize\u001b[39m=\u001b[39m\u001b[39m\"\u001b[39m\u001b[39mdefault\u001b[39m\u001b[39m\"\u001b[39m,\n\u001b[0;32m   (...)\u001b[0m\n\u001b[1;32m    742\u001b[0m     \u001b[39m*\u001b[39m\u001b[39m*\u001b[39mkwargs,\n\u001b[1;32m    743\u001b[0m ):\n\u001b[0;32m--> 744\u001b[0m     \u001b[39mreturn\u001b[39;00m read_pandas(\n\u001b[1;32m    745\u001b[0m         reader,\n\u001b[1;32m    746\u001b[0m         urlpath,\n\u001b[1;32m    747\u001b[0m         blocksize\u001b[39m=\u001b[39;49mblocksize,\n\u001b[1;32m    748\u001b[0m         lineterminator\u001b[39m=\u001b[39;49mlineterminator,\n\u001b[1;32m    749\u001b[0m         compression\u001b[39m=\u001b[39;49mcompression,\n\u001b[1;32m    750\u001b[0m         sample\u001b[39m=\u001b[39;49msample,\n\u001b[1;32m    751\u001b[0m         sample_rows\u001b[39m=\u001b[39;49msample_rows,\n\u001b[1;32m    752\u001b[0m         enforce\u001b[39m=\u001b[39;49menforce,\n\u001b[1;32m    753\u001b[0m         assume_missing\u001b[39m=\u001b[39;49massume_missing,\n\u001b[1;32m    754\u001b[0m         storage_options\u001b[39m=\u001b[39;49mstorage_options,\n\u001b[1;32m    755\u001b[0m         include_path_column\u001b[39m=\u001b[39;49minclude_path_column,\n\u001b[1;32m    756\u001b[0m         \u001b[39m*\u001b[39;49m\u001b[39m*\u001b[39;49mkwargs,\n\u001b[1;32m    757\u001b[0m     )\n",
      "File \u001b[0;32m~/.pyenv/versions/miniforge3/envs/deconv/lib/python3.10/site-packages/dask/dataframe/io/csv.py:548\u001b[0m, in \u001b[0;36mread_pandas\u001b[0;34m(reader, urlpath, blocksize, lineterminator, compression, sample, sample_rows, enforce, assume_missing, storage_options, include_path_column, **kwargs)\u001b[0m\n\u001b[1;32m    546\u001b[0m     sample \u001b[39m=\u001b[39m blocksize\n\u001b[1;32m    547\u001b[0m b_lineterminator \u001b[39m=\u001b[39m lineterminator\u001b[39m.\u001b[39mencode()\n\u001b[0;32m--> 548\u001b[0m b_out \u001b[39m=\u001b[39m read_bytes(\n\u001b[1;32m    549\u001b[0m     urlpath,\n\u001b[1;32m    550\u001b[0m     delimiter\u001b[39m=\u001b[39;49mb_lineterminator,\n\u001b[1;32m    551\u001b[0m     blocksize\u001b[39m=\u001b[39;49mblocksize,\n\u001b[1;32m    552\u001b[0m     sample\u001b[39m=\u001b[39;49msample,\n\u001b[1;32m    553\u001b[0m     compression\u001b[39m=\u001b[39;49mcompression,\n\u001b[1;32m    554\u001b[0m     include_path\u001b[39m=\u001b[39;49minclude_path_column,\n\u001b[1;32m    555\u001b[0m     \u001b[39m*\u001b[39;49m\u001b[39m*\u001b[39;49m(storage_options \u001b[39mor\u001b[39;49;00m {}),\n\u001b[1;32m    556\u001b[0m )\n\u001b[1;32m    558\u001b[0m \u001b[39mif\u001b[39;00m include_path_column:\n\u001b[1;32m    559\u001b[0m     b_sample, values, paths \u001b[39m=\u001b[39m b_out\n",
      "File \u001b[0;32m~/.pyenv/versions/miniforge3/envs/deconv/lib/python3.10/site-packages/dask/bytes/core.py:109\u001b[0m, in \u001b[0;36mread_bytes\u001b[0;34m(urlpath, delimiter, not_zero, blocksize, sample, compression, include_path, **kwargs)\u001b[0m\n\u001b[1;32m    104\u001b[0m \u001b[39mif\u001b[39;00m comp \u001b[39mis\u001b[39;00m \u001b[39mnot\u001b[39;00m \u001b[39mNone\u001b[39;00m:\n\u001b[1;32m    105\u001b[0m     \u001b[39mraise\u001b[39;00m \u001b[39mValueError\u001b[39;00m(\n\u001b[1;32m    106\u001b[0m         \u001b[39m\"\u001b[39m\u001b[39mCannot do chunked reads on compressed files. \u001b[39m\u001b[39m\"\u001b[39m\n\u001b[1;32m    107\u001b[0m         \u001b[39m\"\u001b[39m\u001b[39mTo read, set blocksize=None\u001b[39m\u001b[39m\"\u001b[39m\n\u001b[1;32m    108\u001b[0m     )\n\u001b[0;32m--> 109\u001b[0m size \u001b[39m=\u001b[39m fs\u001b[39m.\u001b[39;49minfo(path)[\u001b[39m\"\u001b[39m\u001b[39msize\u001b[39m\u001b[39m\"\u001b[39m]\n\u001b[1;32m    110\u001b[0m \u001b[39mif\u001b[39;00m size \u001b[39mis\u001b[39;00m \u001b[39mNone\u001b[39;00m:\n\u001b[1;32m    111\u001b[0m     \u001b[39mraise\u001b[39;00m \u001b[39mValueError\u001b[39;00m(\n\u001b[1;32m    112\u001b[0m         \u001b[39m\"\u001b[39m\u001b[39mBacking filesystem couldn\u001b[39m\u001b[39m'\u001b[39m\u001b[39mt determine file size, cannot \u001b[39m\u001b[39m\"\u001b[39m\n\u001b[1;32m    113\u001b[0m         \u001b[39m\"\u001b[39m\u001b[39mdo chunked reads. To read, set blocksize=None.\u001b[39m\u001b[39m\"\u001b[39m\n\u001b[1;32m    114\u001b[0m     )\n",
      "File \u001b[0;32m~/.pyenv/versions/miniforge3/envs/deconv/lib/python3.10/site-packages/fsspec/asyn.py:86\u001b[0m, in \u001b[0;36msync_wrapper.<locals>.wrapper\u001b[0;34m(*args, **kwargs)\u001b[0m\n\u001b[1;32m     83\u001b[0m \u001b[39m@functools\u001b[39m\u001b[39m.\u001b[39mwraps(func)\n\u001b[1;32m     84\u001b[0m \u001b[39mdef\u001b[39;00m \u001b[39mwrapper\u001b[39m(\u001b[39m*\u001b[39margs, \u001b[39m*\u001b[39m\u001b[39m*\u001b[39mkwargs):\n\u001b[1;32m     85\u001b[0m     \u001b[39mself\u001b[39m \u001b[39m=\u001b[39m obj \u001b[39mor\u001b[39;00m args[\u001b[39m0\u001b[39m]\n\u001b[0;32m---> 86\u001b[0m     \u001b[39mreturn\u001b[39;00m sync(\u001b[39mself\u001b[39;49m\u001b[39m.\u001b[39;49mloop, func, \u001b[39m*\u001b[39;49margs, \u001b[39m*\u001b[39;49m\u001b[39m*\u001b[39;49mkwargs)\n",
      "File \u001b[0;32m~/.pyenv/versions/miniforge3/envs/deconv/lib/python3.10/site-packages/fsspec/asyn.py:66\u001b[0m, in \u001b[0;36msync\u001b[0;34m(loop, func, timeout, *args, **kwargs)\u001b[0m\n\u001b[1;32m     64\u001b[0m     \u001b[39mraise\u001b[39;00m FSTimeoutError \u001b[39mfrom\u001b[39;00m \u001b[39mreturn_result\u001b[39;00m\n\u001b[1;32m     65\u001b[0m \u001b[39melif\u001b[39;00m \u001b[39misinstance\u001b[39m(return_result, \u001b[39mBaseException\u001b[39;00m):\n\u001b[0;32m---> 66\u001b[0m     \u001b[39mraise\u001b[39;00m return_result\n\u001b[1;32m     67\u001b[0m \u001b[39melse\u001b[39;00m:\n\u001b[1;32m     68\u001b[0m     \u001b[39mreturn\u001b[39;00m return_result\n",
      "File \u001b[0;32m~/.pyenv/versions/miniforge3/envs/deconv/lib/python3.10/site-packages/fsspec/asyn.py:26\u001b[0m, in \u001b[0;36m_runner\u001b[0;34m(event, coro, result, timeout)\u001b[0m\n\u001b[1;32m     24\u001b[0m     coro \u001b[39m=\u001b[39m asyncio\u001b[39m.\u001b[39mwait_for(coro, timeout\u001b[39m=\u001b[39mtimeout)\n\u001b[1;32m     25\u001b[0m \u001b[39mtry\u001b[39;00m:\n\u001b[0;32m---> 26\u001b[0m     result[\u001b[39m0\u001b[39m] \u001b[39m=\u001b[39m \u001b[39mawait\u001b[39;00m coro\n\u001b[1;32m     27\u001b[0m \u001b[39mexcept\u001b[39;00m \u001b[39mException\u001b[39;00m \u001b[39mas\u001b[39;00m ex:\n\u001b[1;32m     28\u001b[0m     result[\u001b[39m0\u001b[39m] \u001b[39m=\u001b[39m ex\n",
      "File \u001b[0;32m~/.pyenv/versions/miniforge3/envs/deconv/lib/python3.10/site-packages/gcsfs/core.py:717\u001b[0m, in \u001b[0;36mGCSFileSystem._info\u001b[0;34m(self, path, **kwargs)\u001b[0m\n\u001b[1;32m    715\u001b[0m \u001b[39m# Check exact file path\u001b[39;00m\n\u001b[1;32m    716\u001b[0m \u001b[39mtry\u001b[39;00m:\n\u001b[0;32m--> 717\u001b[0m     exact \u001b[39m=\u001b[39m \u001b[39mawait\u001b[39;00m \u001b[39mself\u001b[39m\u001b[39m.\u001b[39m_get_object(path)\n\u001b[1;32m    718\u001b[0m     \u001b[39m# this condition finds a \"placeholder\" - still need to check if it's a directory\u001b[39;00m\n\u001b[1;32m    719\u001b[0m     \u001b[39mif\u001b[39;00m exact[\u001b[39m\"\u001b[39m\u001b[39msize\u001b[39m\u001b[39m\"\u001b[39m] \u001b[39mor\u001b[39;00m \u001b[39mnot\u001b[39;00m exact[\u001b[39m\"\u001b[39m\u001b[39mname\u001b[39m\u001b[39m\"\u001b[39m]\u001b[39m.\u001b[39mendswith(\u001b[39m\"\u001b[39m\u001b[39m/\u001b[39m\u001b[39m\"\u001b[39m):\n",
      "File \u001b[0;32m~/.pyenv/versions/miniforge3/envs/deconv/lib/python3.10/site-packages/gcsfs/core.py:458\u001b[0m, in \u001b[0;36mGCSFileSystem._get_object\u001b[0;34m(self, path)\u001b[0m\n\u001b[1;32m    455\u001b[0m \u001b[39m# Work around various permission settings. Prefer an object get (storage.objects.get), but\u001b[39;00m\n\u001b[1;32m    456\u001b[0m \u001b[39m# fall back to a bucket list + filter to object name (storage.objects.list).\u001b[39;00m\n\u001b[1;32m    457\u001b[0m \u001b[39mtry\u001b[39;00m:\n\u001b[0;32m--> 458\u001b[0m     res \u001b[39m=\u001b[39m \u001b[39mawait\u001b[39;00m \u001b[39mself\u001b[39m\u001b[39m.\u001b[39m_call(\u001b[39m\"\u001b[39m\u001b[39mGET\u001b[39m\u001b[39m\"\u001b[39m, \u001b[39m\"\u001b[39m\u001b[39mb/\u001b[39m\u001b[39m{}\u001b[39;00m\u001b[39m/o/\u001b[39m\u001b[39m{}\u001b[39;00m\u001b[39m\"\u001b[39m, bucket, key, json_out\u001b[39m=\u001b[39m\u001b[39mTrue\u001b[39;00m)\n\u001b[1;32m    459\u001b[0m \u001b[39mexcept\u001b[39;00m \u001b[39mOSError\u001b[39;00m \u001b[39mas\u001b[39;00m e:\n\u001b[1;32m    460\u001b[0m     \u001b[39mif\u001b[39;00m \u001b[39mnot\u001b[39;00m \u001b[39mstr\u001b[39m(e)\u001b[39m.\u001b[39mstartswith(\u001b[39m\"\u001b[39m\u001b[39mForbidden\u001b[39m\u001b[39m\"\u001b[39m):\n",
      "File \u001b[0;32m~/.pyenv/versions/miniforge3/envs/deconv/lib/python3.10/site-packages/gcsfs/core.py:392\u001b[0m, in \u001b[0;36mGCSFileSystem._call\u001b[0;34m(self, method, path, json_out, info_out, *args, **kwargs)\u001b[0m\n\u001b[1;32m    387\u001b[0m \u001b[39masync\u001b[39;00m \u001b[39mdef\u001b[39;00m \u001b[39m_call\u001b[39m(\n\u001b[1;32m    388\u001b[0m     \u001b[39mself\u001b[39m, method, path, \u001b[39m*\u001b[39margs, json_out\u001b[39m=\u001b[39m\u001b[39mFalse\u001b[39;00m, info_out\u001b[39m=\u001b[39m\u001b[39mFalse\u001b[39;00m, \u001b[39m*\u001b[39m\u001b[39m*\u001b[39mkwargs\n\u001b[1;32m    389\u001b[0m ):\n\u001b[1;32m    390\u001b[0m     logger\u001b[39m.\u001b[39mdebug(\u001b[39mf\u001b[39m\u001b[39m\"\u001b[39m\u001b[39m{\u001b[39;00mmethod\u001b[39m.\u001b[39mupper()\u001b[39m}\u001b[39;00m\u001b[39m: \u001b[39m\u001b[39m{\u001b[39;00mpath\u001b[39m}\u001b[39;00m\u001b[39m, \u001b[39m\u001b[39m{\u001b[39;00margs\u001b[39m}\u001b[39;00m\u001b[39m, \u001b[39m\u001b[39m{\u001b[39;00mkwargs\u001b[39m.\u001b[39mget(\u001b[39m'\u001b[39m\u001b[39mheaders\u001b[39m\u001b[39m'\u001b[39m)\u001b[39m}\u001b[39;00m\u001b[39m\"\u001b[39m)\n\u001b[0;32m--> 392\u001b[0m     status, headers, info, contents \u001b[39m=\u001b[39m \u001b[39mawait\u001b[39;00m \u001b[39mself\u001b[39m\u001b[39m.\u001b[39m_request(\n\u001b[1;32m    393\u001b[0m         method, path, \u001b[39m*\u001b[39margs, \u001b[39m*\u001b[39m\u001b[39m*\u001b[39mkwargs\n\u001b[1;32m    394\u001b[0m     )\n\u001b[1;32m    395\u001b[0m     \u001b[39mif\u001b[39;00m json_out:\n\u001b[1;32m    396\u001b[0m         \u001b[39mreturn\u001b[39;00m json\u001b[39m.\u001b[39mloads(contents)\n",
      "File \u001b[0;32m~/.pyenv/versions/miniforge3/envs/deconv/lib/python3.10/site-packages/decorator.py:221\u001b[0m, in \u001b[0;36mdecorate.<locals>.fun\u001b[0;34m(*args, **kw)\u001b[0m\n\u001b[1;32m    219\u001b[0m \u001b[39mif\u001b[39;00m \u001b[39mnot\u001b[39;00m kwsyntax:\n\u001b[1;32m    220\u001b[0m     args, kw \u001b[39m=\u001b[39m fix(args, kw, sig)\n\u001b[0;32m--> 221\u001b[0m \u001b[39mreturn\u001b[39;00m \u001b[39mawait\u001b[39;00m caller(func, \u001b[39m*\u001b[39m(extras \u001b[39m+\u001b[39m args), \u001b[39m*\u001b[39m\u001b[39m*\u001b[39mkw)\n",
      "File \u001b[0;32m~/.pyenv/versions/miniforge3/envs/deconv/lib/python3.10/site-packages/gcsfs/retry.py:152\u001b[0m, in \u001b[0;36mretry_request\u001b[0;34m(func, retries, *args, **kwargs)\u001b[0m\n\u001b[1;32m    150\u001b[0m     \u001b[39mcontinue\u001b[39;00m\n\u001b[1;32m    151\u001b[0m logger\u001b[39m.\u001b[39mexception(\u001b[39m\"\u001b[39m\u001b[39m%s\u001b[39;00m\u001b[39m non-retriable exception: \u001b[39m\u001b[39m%s\u001b[39;00m\u001b[39m\"\u001b[39m \u001b[39m%\u001b[39m (func\u001b[39m.\u001b[39m\u001b[39m__name__\u001b[39m, e))\n\u001b[0;32m--> 152\u001b[0m \u001b[39mraise\u001b[39;00m e\n",
      "File \u001b[0;32m~/.pyenv/versions/miniforge3/envs/deconv/lib/python3.10/site-packages/gcsfs/retry.py:115\u001b[0m, in \u001b[0;36mretry_request\u001b[0;34m(func, retries, *args, **kwargs)\u001b[0m\n\u001b[1;32m    113\u001b[0m     \u001b[39mif\u001b[39;00m retry \u001b[39m>\u001b[39m \u001b[39m0\u001b[39m:\n\u001b[1;32m    114\u001b[0m         \u001b[39mawait\u001b[39;00m asyncio\u001b[39m.\u001b[39msleep(\u001b[39mmin\u001b[39m(random\u001b[39m.\u001b[39mrandom() \u001b[39m+\u001b[39m \u001b[39m2\u001b[39m \u001b[39m*\u001b[39m\u001b[39m*\u001b[39m (retry \u001b[39m-\u001b[39m \u001b[39m1\u001b[39m), \u001b[39m32\u001b[39m))\n\u001b[0;32m--> 115\u001b[0m     \u001b[39mreturn\u001b[39;00m \u001b[39mawait\u001b[39;00m func(\u001b[39m*\u001b[39margs, \u001b[39m*\u001b[39m\u001b[39m*\u001b[39mkwargs)\n\u001b[1;32m    116\u001b[0m \u001b[39mexcept\u001b[39;00m (\n\u001b[1;32m    117\u001b[0m     HttpError,\n\u001b[1;32m    118\u001b[0m     requests\u001b[39m.\u001b[39mexceptions\u001b[39m.\u001b[39mRequestException,\n\u001b[0;32m   (...)\u001b[0m\n\u001b[1;32m    121\u001b[0m     aiohttp\u001b[39m.\u001b[39mclient_exceptions\u001b[39m.\u001b[39mClientError,\n\u001b[1;32m    122\u001b[0m ) \u001b[39mas\u001b[39;00m e:\n\u001b[1;32m    123\u001b[0m     \u001b[39mif\u001b[39;00m (\n\u001b[1;32m    124\u001b[0m         \u001b[39misinstance\u001b[39m(e, HttpError)\n\u001b[1;32m    125\u001b[0m         \u001b[39mand\u001b[39;00m e\u001b[39m.\u001b[39mcode \u001b[39m==\u001b[39m \u001b[39m400\u001b[39m\n\u001b[1;32m    126\u001b[0m         \u001b[39mand\u001b[39;00m \u001b[39m\"\u001b[39m\u001b[39mrequester pays\u001b[39m\u001b[39m\"\u001b[39m \u001b[39min\u001b[39;00m e\u001b[39m.\u001b[39mmessage\n\u001b[1;32m    127\u001b[0m     ):\n",
      "File \u001b[0;32m~/.pyenv/versions/miniforge3/envs/deconv/lib/python3.10/site-packages/gcsfs/core.py:384\u001b[0m, in \u001b[0;36mGCSFileSystem._request\u001b[0;34m(self, method, path, headers, json, data, *args, **kwargs)\u001b[0m\n\u001b[1;32m    381\u001b[0m info \u001b[39m=\u001b[39m r\u001b[39m.\u001b[39mrequest_info  \u001b[39m# for debug only\u001b[39;00m\n\u001b[1;32m    382\u001b[0m contents \u001b[39m=\u001b[39m \u001b[39mawait\u001b[39;00m r\u001b[39m.\u001b[39mread()\n\u001b[0;32m--> 384\u001b[0m validate_response(status, contents, path, args)\n\u001b[1;32m    385\u001b[0m \u001b[39mreturn\u001b[39;00m status, headers, info, contents\n",
      "File \u001b[0;32m~/.pyenv/versions/miniforge3/envs/deconv/lib/python3.10/site-packages/gcsfs/retry.py:102\u001b[0m, in \u001b[0;36mvalidate_response\u001b[0;34m(status, content, path, args)\u001b[0m\n\u001b[1;32m    100\u001b[0m     \u001b[39mraise\u001b[39;00m \u001b[39mValueError\u001b[39;00m(\u001b[39m\"\u001b[39m\u001b[39mBad Request: \u001b[39m\u001b[39m%s\u001b[39;00m\u001b[39m\\n\u001b[39;00m\u001b[39m%s\u001b[39;00m\u001b[39m\"\u001b[39m \u001b[39m%\u001b[39m (path, msg))\n\u001b[1;32m    101\u001b[0m \u001b[39melif\u001b[39;00m error:\n\u001b[0;32m--> 102\u001b[0m     \u001b[39mraise\u001b[39;00m HttpError(error)\n\u001b[1;32m    103\u001b[0m \u001b[39melif\u001b[39;00m status:\n\u001b[1;32m    104\u001b[0m     \u001b[39mraise\u001b[39;00m HttpError({\u001b[39m\"\u001b[39m\u001b[39mcode\u001b[39m\u001b[39m\"\u001b[39m: status, \u001b[39m\"\u001b[39m\u001b[39mmessage\u001b[39m\u001b[39m\"\u001b[39m: msg})  \u001b[39m# text-like\u001b[39;00m\n",
      "\u001b[0;31mHttpError\u001b[0m: Anonymous caller does not have storage.objects.get access to the Google Cloud Storage object., 401"
     ]
    }
   ],
   "source": [
    "ddf = dd.read_csv(\"gs://liulab/data/pseudobulk_evaluation/csx_runs/hires_with_fractions/pseudobulks_2/n_cells=5/malignant_from_one_sample=True/outdir/CIBERSORTxHiRes_NA_TCD4_Window36.txt\",)"
   ]
  },
  {
   "cell_type": "code",
   "execution_count": 17,
   "id": "9a43ad97",
   "metadata": {},
   "outputs": [
    {
     "ename": "NameError",
     "evalue": "name 'd' is not defined",
     "output_type": "error",
     "traceback": [
      "\u001b[0;31m---------------------------------------------------------------------------\u001b[0m",
      "\u001b[0;31mNameError\u001b[0m                                 Traceback (most recent call last)",
      "\u001b[1;32m/Users/william/src/deconv/helpers/evaluating_cibersortx/Untitled.ipynb Cell 3\u001b[0m in \u001b[0;36m<cell line: 1>\u001b[0;34m()\u001b[0m\n\u001b[0;32m----> <a href='vscode-notebook-cell:/Users/william/src/deconv/helpers/evaluating_cibersortx/Untitled.ipynb#X14sZmlsZQ%3D%3D?line=0'>1</a>\u001b[0m d\n",
      "\u001b[0;31mNameError\u001b[0m: name 'd' is not defined"
     ]
    }
   ],
   "source": [
    "d"
   ]
  },
  {
   "cell_type": "code",
   "execution_count": 2,
   "id": "f676841b",
   "metadata": {},
   "outputs": [
    {
     "name": "stderr",
     "output_type": "stream",
     "text": [
      "_request non-retriable exception: Anonymous caller does not have storage.objects.get access to the Google Cloud Storage object., 401\n",
      "Traceback (most recent call last):\n",
      "  File \"/Users/william/.pyenv/versions/miniforge3/envs/deconv/lib/python3.10/site-packages/gcsfs/retry.py\", line 115, in retry_request\n",
      "    return await func(*args, **kwargs)\n",
      "  File \"/Users/william/.pyenv/versions/miniforge3/envs/deconv/lib/python3.10/site-packages/gcsfs/core.py\", line 384, in _request\n",
      "    validate_response(status, contents, path, args)\n",
      "  File \"/Users/william/.pyenv/versions/miniforge3/envs/deconv/lib/python3.10/site-packages/gcsfs/retry.py\", line 102, in validate_response\n",
      "    raise HttpError(error)\n",
      "gcsfs.retry.HttpError: Anonymous caller does not have storage.objects.get access to the Google Cloud Storage object., 401\n"
     ]
    },
    {
     "ename": "HttpError",
     "evalue": "Anonymous caller does not have storage.objects.get access to the Google Cloud Storage object., 401",
     "output_type": "error",
     "traceback": [
      "\u001b[0;31m---------------------------------------------------------------------------\u001b[0m",
      "\u001b[0;31mHttpError\u001b[0m                                 Traceback (most recent call last)",
      "\u001b[1;32m/Users/william/src/deconv/helpers/evaluating_cibersortx/Untitled.ipynb Cell 2\u001b[0m in \u001b[0;36m<cell line: 1>\u001b[0;34m()\u001b[0m\n\u001b[0;32m----> <a href='vscode-notebook-cell:/Users/william/src/deconv/helpers/evaluating_cibersortx/Untitled.ipynb#W1sZmlsZQ%3D%3D?line=0'>1</a>\u001b[0m df \u001b[39m=\u001b[39m pd\u001b[39m.\u001b[39;49mread_csv(\n\u001b[1;32m      <a href='vscode-notebook-cell:/Users/william/src/deconv/helpers/evaluating_cibersortx/Untitled.ipynb#W1sZmlsZQ%3D%3D?line=1'>2</a>\u001b[0m     \u001b[39m\"\u001b[39;49m\u001b[39mgs://liulab/data/pseudobulk_evaluation/csx_runs/hires_with_fractions/pseudobulks_2/n_cells=5/malignant_from_one_sample=True/outdir/CIBERSORTxHiRes_NA_TCD4_Window36.txt\u001b[39;49m\u001b[39m\"\u001b[39;49m,\n\u001b[1;32m      <a href='vscode-notebook-cell:/Users/william/src/deconv/helpers/evaluating_cibersortx/Untitled.ipynb#W1sZmlsZQ%3D%3D?line=2'>3</a>\u001b[0m     sep\u001b[39m=\u001b[39;49m\u001b[39m\"\u001b[39;49m\u001b[39m\\t\u001b[39;49;00m\u001b[39m\"\u001b[39;49m\n\u001b[1;32m      <a href='vscode-notebook-cell:/Users/william/src/deconv/helpers/evaluating_cibersortx/Untitled.ipynb#W1sZmlsZQ%3D%3D?line=3'>4</a>\u001b[0m )\n",
      "File \u001b[0;32m~/.pyenv/versions/miniforge3/envs/deconv/lib/python3.10/site-packages/pandas/util/_decorators.py:311\u001b[0m, in \u001b[0;36mdeprecate_nonkeyword_arguments.<locals>.decorate.<locals>.wrapper\u001b[0;34m(*args, **kwargs)\u001b[0m\n\u001b[1;32m    305\u001b[0m \u001b[39mif\u001b[39;00m \u001b[39mlen\u001b[39m(args) \u001b[39m>\u001b[39m num_allow_args:\n\u001b[1;32m    306\u001b[0m     warnings\u001b[39m.\u001b[39mwarn(\n\u001b[1;32m    307\u001b[0m         msg\u001b[39m.\u001b[39mformat(arguments\u001b[39m=\u001b[39marguments),\n\u001b[1;32m    308\u001b[0m         \u001b[39mFutureWarning\u001b[39;00m,\n\u001b[1;32m    309\u001b[0m         stacklevel\u001b[39m=\u001b[39mstacklevel,\n\u001b[1;32m    310\u001b[0m     )\n\u001b[0;32m--> 311\u001b[0m \u001b[39mreturn\u001b[39;00m func(\u001b[39m*\u001b[39;49margs, \u001b[39m*\u001b[39;49m\u001b[39m*\u001b[39;49mkwargs)\n",
      "File \u001b[0;32m~/.pyenv/versions/miniforge3/envs/deconv/lib/python3.10/site-packages/pandas/io/parsers/readers.py:680\u001b[0m, in \u001b[0;36mread_csv\u001b[0;34m(filepath_or_buffer, sep, delimiter, header, names, index_col, usecols, squeeze, prefix, mangle_dupe_cols, dtype, engine, converters, true_values, false_values, skipinitialspace, skiprows, skipfooter, nrows, na_values, keep_default_na, na_filter, verbose, skip_blank_lines, parse_dates, infer_datetime_format, keep_date_col, date_parser, dayfirst, cache_dates, iterator, chunksize, compression, thousands, decimal, lineterminator, quotechar, quoting, doublequote, escapechar, comment, encoding, encoding_errors, dialect, error_bad_lines, warn_bad_lines, on_bad_lines, delim_whitespace, low_memory, memory_map, float_precision, storage_options)\u001b[0m\n\u001b[1;32m    665\u001b[0m kwds_defaults \u001b[39m=\u001b[39m _refine_defaults_read(\n\u001b[1;32m    666\u001b[0m     dialect,\n\u001b[1;32m    667\u001b[0m     delimiter,\n\u001b[0;32m   (...)\u001b[0m\n\u001b[1;32m    676\u001b[0m     defaults\u001b[39m=\u001b[39m{\u001b[39m\"\u001b[39m\u001b[39mdelimiter\u001b[39m\u001b[39m\"\u001b[39m: \u001b[39m\"\u001b[39m\u001b[39m,\u001b[39m\u001b[39m\"\u001b[39m},\n\u001b[1;32m    677\u001b[0m )\n\u001b[1;32m    678\u001b[0m kwds\u001b[39m.\u001b[39mupdate(kwds_defaults)\n\u001b[0;32m--> 680\u001b[0m \u001b[39mreturn\u001b[39;00m _read(filepath_or_buffer, kwds)\n",
      "File \u001b[0;32m~/.pyenv/versions/miniforge3/envs/deconv/lib/python3.10/site-packages/pandas/io/parsers/readers.py:575\u001b[0m, in \u001b[0;36m_read\u001b[0;34m(filepath_or_buffer, kwds)\u001b[0m\n\u001b[1;32m    572\u001b[0m _validate_names(kwds\u001b[39m.\u001b[39mget(\u001b[39m\"\u001b[39m\u001b[39mnames\u001b[39m\u001b[39m\"\u001b[39m, \u001b[39mNone\u001b[39;00m))\n\u001b[1;32m    574\u001b[0m \u001b[39m# Create the parser.\u001b[39;00m\n\u001b[0;32m--> 575\u001b[0m parser \u001b[39m=\u001b[39m TextFileReader(filepath_or_buffer, \u001b[39m*\u001b[39;49m\u001b[39m*\u001b[39;49mkwds)\n\u001b[1;32m    577\u001b[0m \u001b[39mif\u001b[39;00m chunksize \u001b[39mor\u001b[39;00m iterator:\n\u001b[1;32m    578\u001b[0m     \u001b[39mreturn\u001b[39;00m parser\n",
      "File \u001b[0;32m~/.pyenv/versions/miniforge3/envs/deconv/lib/python3.10/site-packages/pandas/io/parsers/readers.py:934\u001b[0m, in \u001b[0;36mTextFileReader.__init__\u001b[0;34m(self, f, engine, **kwds)\u001b[0m\n\u001b[1;32m    931\u001b[0m     \u001b[39mself\u001b[39m\u001b[39m.\u001b[39moptions[\u001b[39m\"\u001b[39m\u001b[39mhas_index_names\u001b[39m\u001b[39m\"\u001b[39m] \u001b[39m=\u001b[39m kwds[\u001b[39m\"\u001b[39m\u001b[39mhas_index_names\u001b[39m\u001b[39m\"\u001b[39m]\n\u001b[1;32m    933\u001b[0m \u001b[39mself\u001b[39m\u001b[39m.\u001b[39mhandles: IOHandles \u001b[39m|\u001b[39m \u001b[39mNone\u001b[39;00m \u001b[39m=\u001b[39m \u001b[39mNone\u001b[39;00m\n\u001b[0;32m--> 934\u001b[0m \u001b[39mself\u001b[39m\u001b[39m.\u001b[39m_engine \u001b[39m=\u001b[39m \u001b[39mself\u001b[39;49m\u001b[39m.\u001b[39;49m_make_engine(f, \u001b[39mself\u001b[39;49m\u001b[39m.\u001b[39;49mengine)\n",
      "File \u001b[0;32m~/.pyenv/versions/miniforge3/envs/deconv/lib/python3.10/site-packages/pandas/io/parsers/readers.py:1218\u001b[0m, in \u001b[0;36mTextFileReader._make_engine\u001b[0;34m(self, f, engine)\u001b[0m\n\u001b[1;32m   1214\u001b[0m     mode \u001b[39m=\u001b[39m \u001b[39m\"\u001b[39m\u001b[39mrb\u001b[39m\u001b[39m\"\u001b[39m\n\u001b[1;32m   1215\u001b[0m \u001b[39m# error: No overload variant of \"get_handle\" matches argument types\u001b[39;00m\n\u001b[1;32m   1216\u001b[0m \u001b[39m# \"Union[str, PathLike[str], ReadCsvBuffer[bytes], ReadCsvBuffer[str]]\"\u001b[39;00m\n\u001b[1;32m   1217\u001b[0m \u001b[39m# , \"str\", \"bool\", \"Any\", \"Any\", \"Any\", \"Any\", \"Any\"\u001b[39;00m\n\u001b[0;32m-> 1218\u001b[0m \u001b[39mself\u001b[39m\u001b[39m.\u001b[39mhandles \u001b[39m=\u001b[39m get_handle(  \u001b[39m# type: ignore[call-overload]\u001b[39;49;00m\n\u001b[1;32m   1219\u001b[0m     f,\n\u001b[1;32m   1220\u001b[0m     mode,\n\u001b[1;32m   1221\u001b[0m     encoding\u001b[39m=\u001b[39;49m\u001b[39mself\u001b[39;49m\u001b[39m.\u001b[39;49moptions\u001b[39m.\u001b[39;49mget(\u001b[39m\"\u001b[39;49m\u001b[39mencoding\u001b[39;49m\u001b[39m\"\u001b[39;49m, \u001b[39mNone\u001b[39;49;00m),\n\u001b[1;32m   1222\u001b[0m     compression\u001b[39m=\u001b[39;49m\u001b[39mself\u001b[39;49m\u001b[39m.\u001b[39;49moptions\u001b[39m.\u001b[39;49mget(\u001b[39m\"\u001b[39;49m\u001b[39mcompression\u001b[39;49m\u001b[39m\"\u001b[39;49m, \u001b[39mNone\u001b[39;49;00m),\n\u001b[1;32m   1223\u001b[0m     memory_map\u001b[39m=\u001b[39;49m\u001b[39mself\u001b[39;49m\u001b[39m.\u001b[39;49moptions\u001b[39m.\u001b[39;49mget(\u001b[39m\"\u001b[39;49m\u001b[39mmemory_map\u001b[39;49m\u001b[39m\"\u001b[39;49m, \u001b[39mFalse\u001b[39;49;00m),\n\u001b[1;32m   1224\u001b[0m     is_text\u001b[39m=\u001b[39;49mis_text,\n\u001b[1;32m   1225\u001b[0m     errors\u001b[39m=\u001b[39;49m\u001b[39mself\u001b[39;49m\u001b[39m.\u001b[39;49moptions\u001b[39m.\u001b[39;49mget(\u001b[39m\"\u001b[39;49m\u001b[39mencoding_errors\u001b[39;49m\u001b[39m\"\u001b[39;49m, \u001b[39m\"\u001b[39;49m\u001b[39mstrict\u001b[39;49m\u001b[39m\"\u001b[39;49m),\n\u001b[1;32m   1226\u001b[0m     storage_options\u001b[39m=\u001b[39;49m\u001b[39mself\u001b[39;49m\u001b[39m.\u001b[39;49moptions\u001b[39m.\u001b[39;49mget(\u001b[39m\"\u001b[39;49m\u001b[39mstorage_options\u001b[39;49m\u001b[39m\"\u001b[39;49m, \u001b[39mNone\u001b[39;49;00m),\n\u001b[1;32m   1227\u001b[0m )\n\u001b[1;32m   1228\u001b[0m \u001b[39massert\u001b[39;00m \u001b[39mself\u001b[39m\u001b[39m.\u001b[39mhandles \u001b[39mis\u001b[39;00m \u001b[39mnot\u001b[39;00m \u001b[39mNone\u001b[39;00m\n\u001b[1;32m   1229\u001b[0m f \u001b[39m=\u001b[39m \u001b[39mself\u001b[39m\u001b[39m.\u001b[39mhandles\u001b[39m.\u001b[39mhandle\n",
      "File \u001b[0;32m~/.pyenv/versions/miniforge3/envs/deconv/lib/python3.10/site-packages/pandas/io/common.py:667\u001b[0m, in \u001b[0;36mget_handle\u001b[0;34m(path_or_buf, mode, encoding, compression, memory_map, is_text, errors, storage_options)\u001b[0m\n\u001b[1;32m    664\u001b[0m     codecs\u001b[39m.\u001b[39mlookup_error(errors)\n\u001b[1;32m    666\u001b[0m \u001b[39m# open URLs\u001b[39;00m\n\u001b[0;32m--> 667\u001b[0m ioargs \u001b[39m=\u001b[39m _get_filepath_or_buffer(\n\u001b[1;32m    668\u001b[0m     path_or_buf,\n\u001b[1;32m    669\u001b[0m     encoding\u001b[39m=\u001b[39;49mencoding,\n\u001b[1;32m    670\u001b[0m     compression\u001b[39m=\u001b[39;49mcompression,\n\u001b[1;32m    671\u001b[0m     mode\u001b[39m=\u001b[39;49mmode,\n\u001b[1;32m    672\u001b[0m     storage_options\u001b[39m=\u001b[39;49mstorage_options,\n\u001b[1;32m    673\u001b[0m )\n\u001b[1;32m    675\u001b[0m handle \u001b[39m=\u001b[39m ioargs\u001b[39m.\u001b[39mfilepath_or_buffer\n\u001b[1;32m    676\u001b[0m handles: \u001b[39mlist\u001b[39m[BaseBuffer]\n",
      "File \u001b[0;32m~/.pyenv/versions/miniforge3/envs/deconv/lib/python3.10/site-packages/pandas/io/common.py:384\u001b[0m, in \u001b[0;36m_get_filepath_or_buffer\u001b[0;34m(filepath_or_buffer, encoding, compression, mode, storage_options)\u001b[0m\n\u001b[1;32m    379\u001b[0m     \u001b[39mpass\u001b[39;00m\n\u001b[1;32m    381\u001b[0m \u001b[39mtry\u001b[39;00m:\n\u001b[1;32m    382\u001b[0m     file_obj \u001b[39m=\u001b[39m fsspec\u001b[39m.\u001b[39;49mopen(\n\u001b[1;32m    383\u001b[0m         filepath_or_buffer, mode\u001b[39m=\u001b[39;49mfsspec_mode, \u001b[39m*\u001b[39;49m\u001b[39m*\u001b[39;49m(storage_options \u001b[39mor\u001b[39;49;00m {})\n\u001b[0;32m--> 384\u001b[0m     )\u001b[39m.\u001b[39;49mopen()\n\u001b[1;32m    385\u001b[0m \u001b[39m# GH 34626 Reads from Public Buckets without Credentials needs anon=True\u001b[39;00m\n\u001b[1;32m    386\u001b[0m \u001b[39mexcept\u001b[39;00m \u001b[39mtuple\u001b[39m(err_types_to_retry_with_anon):\n",
      "File \u001b[0;32m~/.pyenv/versions/miniforge3/envs/deconv/lib/python3.10/site-packages/fsspec/core.py:141\u001b[0m, in \u001b[0;36mOpenFile.open\u001b[0;34m(self)\u001b[0m\n\u001b[1;32m    133\u001b[0m \u001b[39mdef\u001b[39;00m \u001b[39mopen\u001b[39m(\u001b[39mself\u001b[39m):\n\u001b[1;32m    134\u001b[0m     \u001b[39m\"\"\"Materialise this as a real open file without context\u001b[39;00m\n\u001b[1;32m    135\u001b[0m \n\u001b[1;32m    136\u001b[0m \u001b[39m    The file should be explicitly closed to avoid enclosed file\u001b[39;00m\n\u001b[0;32m   (...)\u001b[0m\n\u001b[1;32m    139\u001b[0m \u001b[39m    been deleted; but a with-context is better style.\u001b[39;00m\n\u001b[1;32m    140\u001b[0m \u001b[39m    \"\"\"\u001b[39;00m\n\u001b[0;32m--> 141\u001b[0m     out \u001b[39m=\u001b[39m \u001b[39mself\u001b[39;49m\u001b[39m.\u001b[39;49m\u001b[39m__enter__\u001b[39;49m()\n\u001b[1;32m    142\u001b[0m     closer \u001b[39m=\u001b[39m out\u001b[39m.\u001b[39mclose\n\u001b[1;32m    143\u001b[0m     fobjects \u001b[39m=\u001b[39m \u001b[39mself\u001b[39m\u001b[39m.\u001b[39mfobjects\u001b[39m.\u001b[39mcopy()[:\u001b[39m-\u001b[39m\u001b[39m1\u001b[39m]\n",
      "File \u001b[0;32m~/.pyenv/versions/miniforge3/envs/deconv/lib/python3.10/site-packages/fsspec/core.py:104\u001b[0m, in \u001b[0;36mOpenFile.__enter__\u001b[0;34m(self)\u001b[0m\n\u001b[1;32m    101\u001b[0m \u001b[39mdef\u001b[39;00m \u001b[39m__enter__\u001b[39m(\u001b[39mself\u001b[39m):\n\u001b[1;32m    102\u001b[0m     mode \u001b[39m=\u001b[39m \u001b[39mself\u001b[39m\u001b[39m.\u001b[39mmode\u001b[39m.\u001b[39mreplace(\u001b[39m\"\u001b[39m\u001b[39mt\u001b[39m\u001b[39m\"\u001b[39m, \u001b[39m\"\u001b[39m\u001b[39m\"\u001b[39m)\u001b[39m.\u001b[39mreplace(\u001b[39m\"\u001b[39m\u001b[39mb\u001b[39m\u001b[39m\"\u001b[39m, \u001b[39m\"\u001b[39m\u001b[39m\"\u001b[39m) \u001b[39m+\u001b[39m \u001b[39m\"\u001b[39m\u001b[39mb\u001b[39m\u001b[39m\"\u001b[39m\n\u001b[0;32m--> 104\u001b[0m     f \u001b[39m=\u001b[39m \u001b[39mself\u001b[39;49m\u001b[39m.\u001b[39;49mfs\u001b[39m.\u001b[39;49mopen(\u001b[39mself\u001b[39;49m\u001b[39m.\u001b[39;49mpath, mode\u001b[39m=\u001b[39;49mmode)\n\u001b[1;32m    106\u001b[0m     \u001b[39mself\u001b[39m\u001b[39m.\u001b[39mfobjects \u001b[39m=\u001b[39m [f]\n\u001b[1;32m    108\u001b[0m     \u001b[39mif\u001b[39;00m \u001b[39mself\u001b[39m\u001b[39m.\u001b[39mcompression \u001b[39mis\u001b[39;00m \u001b[39mnot\u001b[39;00m \u001b[39mNone\u001b[39;00m:\n",
      "File \u001b[0;32m~/.pyenv/versions/miniforge3/envs/deconv/lib/python3.10/site-packages/fsspec/spec.py:1037\u001b[0m, in \u001b[0;36mAbstractFileSystem.open\u001b[0;34m(self, path, mode, block_size, cache_options, compression, **kwargs)\u001b[0m\n\u001b[1;32m   1035\u001b[0m \u001b[39melse\u001b[39;00m:\n\u001b[1;32m   1036\u001b[0m     ac \u001b[39m=\u001b[39m kwargs\u001b[39m.\u001b[39mpop(\u001b[39m\"\u001b[39m\u001b[39mautocommit\u001b[39m\u001b[39m\"\u001b[39m, \u001b[39mnot\u001b[39;00m \u001b[39mself\u001b[39m\u001b[39m.\u001b[39m_intrans)\n\u001b[0;32m-> 1037\u001b[0m     f \u001b[39m=\u001b[39m \u001b[39mself\u001b[39;49m\u001b[39m.\u001b[39;49m_open(\n\u001b[1;32m   1038\u001b[0m         path,\n\u001b[1;32m   1039\u001b[0m         mode\u001b[39m=\u001b[39;49mmode,\n\u001b[1;32m   1040\u001b[0m         block_size\u001b[39m=\u001b[39;49mblock_size,\n\u001b[1;32m   1041\u001b[0m         autocommit\u001b[39m=\u001b[39;49mac,\n\u001b[1;32m   1042\u001b[0m         cache_options\u001b[39m=\u001b[39;49mcache_options,\n\u001b[1;32m   1043\u001b[0m         \u001b[39m*\u001b[39;49m\u001b[39m*\u001b[39;49mkwargs,\n\u001b[1;32m   1044\u001b[0m     )\n\u001b[1;32m   1045\u001b[0m     \u001b[39mif\u001b[39;00m compression \u001b[39mis\u001b[39;00m \u001b[39mnot\u001b[39;00m \u001b[39mNone\u001b[39;00m:\n\u001b[1;32m   1046\u001b[0m         \u001b[39mfrom\u001b[39;00m \u001b[39mfsspec\u001b[39;00m\u001b[39m.\u001b[39;00m\u001b[39mcompression\u001b[39;00m \u001b[39mimport\u001b[39;00m compr\n",
      "File \u001b[0;32m~/.pyenv/versions/miniforge3/envs/deconv/lib/python3.10/site-packages/gcsfs/core.py:1197\u001b[0m, in \u001b[0;36mGCSFileSystem._open\u001b[0;34m(self, path, mode, block_size, cache_options, acl, consistency, metadata, autocommit, fixed_key_metadata, **kwargs)\u001b[0m\n\u001b[1;32m   1195\u001b[0m     block_size \u001b[39m=\u001b[39m \u001b[39mself\u001b[39m\u001b[39m.\u001b[39mdefault_block_size\n\u001b[1;32m   1196\u001b[0m const \u001b[39m=\u001b[39m consistency \u001b[39mor\u001b[39;00m \u001b[39mself\u001b[39m\u001b[39m.\u001b[39mconsistency\n\u001b[0;32m-> 1197\u001b[0m \u001b[39mreturn\u001b[39;00m GCSFile(\n\u001b[1;32m   1198\u001b[0m     \u001b[39mself\u001b[39;49m,\n\u001b[1;32m   1199\u001b[0m     path,\n\u001b[1;32m   1200\u001b[0m     mode,\n\u001b[1;32m   1201\u001b[0m     block_size,\n\u001b[1;32m   1202\u001b[0m     cache_options\u001b[39m=\u001b[39;49mcache_options,\n\u001b[1;32m   1203\u001b[0m     consistency\u001b[39m=\u001b[39;49mconst,\n\u001b[1;32m   1204\u001b[0m     metadata\u001b[39m=\u001b[39;49mmetadata,\n\u001b[1;32m   1205\u001b[0m     acl\u001b[39m=\u001b[39;49macl,\n\u001b[1;32m   1206\u001b[0m     autocommit\u001b[39m=\u001b[39;49mautocommit,\n\u001b[1;32m   1207\u001b[0m     fixed_key_metadata\u001b[39m=\u001b[39;49mfixed_key_metadata,\n\u001b[1;32m   1208\u001b[0m     \u001b[39m*\u001b[39;49m\u001b[39m*\u001b[39;49mkwargs,\n\u001b[1;32m   1209\u001b[0m )\n",
      "File \u001b[0;32m~/.pyenv/versions/miniforge3/envs/deconv/lib/python3.10/site-packages/gcsfs/core.py:1317\u001b[0m, in \u001b[0;36mGCSFile.__init__\u001b[0;34m(self, gcsfs, path, mode, block_size, autocommit, cache_type, cache_options, acl, consistency, metadata, content_type, timeout, fixed_key_metadata, **kwargs)\u001b[0m\n\u001b[1;32m   1262\u001b[0m \u001b[39mdef\u001b[39;00m \u001b[39m__init__\u001b[39m(\n\u001b[1;32m   1263\u001b[0m     \u001b[39mself\u001b[39m,\n\u001b[1;32m   1264\u001b[0m     gcsfs,\n\u001b[0;32m   (...)\u001b[0m\n\u001b[1;32m   1277\u001b[0m     \u001b[39m*\u001b[39m\u001b[39m*\u001b[39mkwargs,\n\u001b[1;32m   1278\u001b[0m ):\n\u001b[1;32m   1279\u001b[0m     \u001b[39m\"\"\"\u001b[39;00m\n\u001b[1;32m   1280\u001b[0m \u001b[39m    Open a file.\u001b[39;00m\n\u001b[1;32m   1281\u001b[0m \n\u001b[0;32m   (...)\u001b[0m\n\u001b[1;32m   1315\u001b[0m \u001b[39m        Timeout seconds for the asynchronous callback.\u001b[39;00m\n\u001b[1;32m   1316\u001b[0m \u001b[39m    \"\"\"\u001b[39;00m\n\u001b[0;32m-> 1317\u001b[0m     \u001b[39msuper\u001b[39;49m()\u001b[39m.\u001b[39;49m\u001b[39m__init__\u001b[39;49m(\n\u001b[1;32m   1318\u001b[0m         gcsfs,\n\u001b[1;32m   1319\u001b[0m         path,\n\u001b[1;32m   1320\u001b[0m         mode,\n\u001b[1;32m   1321\u001b[0m         block_size,\n\u001b[1;32m   1322\u001b[0m         autocommit\u001b[39m=\u001b[39;49mautocommit,\n\u001b[1;32m   1323\u001b[0m         cache_type\u001b[39m=\u001b[39;49mcache_type,\n\u001b[1;32m   1324\u001b[0m         cache_options\u001b[39m=\u001b[39;49mcache_options,\n\u001b[1;32m   1325\u001b[0m         \u001b[39m*\u001b[39;49m\u001b[39m*\u001b[39;49mkwargs,\n\u001b[1;32m   1326\u001b[0m     )\n\u001b[1;32m   1327\u001b[0m     bucket, key \u001b[39m=\u001b[39m \u001b[39mself\u001b[39m\u001b[39m.\u001b[39mfs\u001b[39m.\u001b[39msplit_path(path)\n\u001b[1;32m   1328\u001b[0m     \u001b[39mif\u001b[39;00m \u001b[39mnot\u001b[39;00m key:\n",
      "File \u001b[0;32m~/.pyenv/versions/miniforge3/envs/deconv/lib/python3.10/site-packages/fsspec/spec.py:1385\u001b[0m, in \u001b[0;36mAbstractBufferedFile.__init__\u001b[0;34m(self, fs, path, mode, block_size, autocommit, cache_type, cache_options, size, **kwargs)\u001b[0m\n\u001b[1;32m   1383\u001b[0m         \u001b[39mself\u001b[39m\u001b[39m.\u001b[39msize \u001b[39m=\u001b[39m size\n\u001b[1;32m   1384\u001b[0m     \u001b[39melse\u001b[39;00m:\n\u001b[0;32m-> 1385\u001b[0m         \u001b[39mself\u001b[39m\u001b[39m.\u001b[39msize \u001b[39m=\u001b[39m \u001b[39mself\u001b[39;49m\u001b[39m.\u001b[39;49mdetails[\u001b[39m\"\u001b[39m\u001b[39msize\u001b[39m\u001b[39m\"\u001b[39m]\n\u001b[1;32m   1386\u001b[0m     \u001b[39mself\u001b[39m\u001b[39m.\u001b[39mcache \u001b[39m=\u001b[39m caches[cache_type](\n\u001b[1;32m   1387\u001b[0m         \u001b[39mself\u001b[39m\u001b[39m.\u001b[39mblocksize, \u001b[39mself\u001b[39m\u001b[39m.\u001b[39m_fetch_range, \u001b[39mself\u001b[39m\u001b[39m.\u001b[39msize, \u001b[39m*\u001b[39m\u001b[39m*\u001b[39mcache_options\n\u001b[1;32m   1388\u001b[0m     )\n\u001b[1;32m   1389\u001b[0m \u001b[39melse\u001b[39;00m:\n",
      "File \u001b[0;32m~/.pyenv/versions/miniforge3/envs/deconv/lib/python3.10/site-packages/fsspec/spec.py:1398\u001b[0m, in \u001b[0;36mAbstractBufferedFile.details\u001b[0;34m(self)\u001b[0m\n\u001b[1;32m   1395\u001b[0m \u001b[39m@property\u001b[39m\n\u001b[1;32m   1396\u001b[0m \u001b[39mdef\u001b[39;00m \u001b[39mdetails\u001b[39m(\u001b[39mself\u001b[39m):\n\u001b[1;32m   1397\u001b[0m     \u001b[39mif\u001b[39;00m \u001b[39mself\u001b[39m\u001b[39m.\u001b[39m_details \u001b[39mis\u001b[39;00m \u001b[39mNone\u001b[39;00m:\n\u001b[0;32m-> 1398\u001b[0m         \u001b[39mself\u001b[39m\u001b[39m.\u001b[39m_details \u001b[39m=\u001b[39m \u001b[39mself\u001b[39;49m\u001b[39m.\u001b[39;49mfs\u001b[39m.\u001b[39;49minfo(\u001b[39mself\u001b[39;49m\u001b[39m.\u001b[39;49mpath)\n\u001b[1;32m   1399\u001b[0m     \u001b[39mreturn\u001b[39;00m \u001b[39mself\u001b[39m\u001b[39m.\u001b[39m_details\n",
      "File \u001b[0;32m~/.pyenv/versions/miniforge3/envs/deconv/lib/python3.10/site-packages/fsspec/asyn.py:86\u001b[0m, in \u001b[0;36msync_wrapper.<locals>.wrapper\u001b[0;34m(*args, **kwargs)\u001b[0m\n\u001b[1;32m     83\u001b[0m \u001b[39m@functools\u001b[39m\u001b[39m.\u001b[39mwraps(func)\n\u001b[1;32m     84\u001b[0m \u001b[39mdef\u001b[39;00m \u001b[39mwrapper\u001b[39m(\u001b[39m*\u001b[39margs, \u001b[39m*\u001b[39m\u001b[39m*\u001b[39mkwargs):\n\u001b[1;32m     85\u001b[0m     \u001b[39mself\u001b[39m \u001b[39m=\u001b[39m obj \u001b[39mor\u001b[39;00m args[\u001b[39m0\u001b[39m]\n\u001b[0;32m---> 86\u001b[0m     \u001b[39mreturn\u001b[39;00m sync(\u001b[39mself\u001b[39;49m\u001b[39m.\u001b[39;49mloop, func, \u001b[39m*\u001b[39;49margs, \u001b[39m*\u001b[39;49m\u001b[39m*\u001b[39;49mkwargs)\n",
      "File \u001b[0;32m~/.pyenv/versions/miniforge3/envs/deconv/lib/python3.10/site-packages/fsspec/asyn.py:66\u001b[0m, in \u001b[0;36msync\u001b[0;34m(loop, func, timeout, *args, **kwargs)\u001b[0m\n\u001b[1;32m     64\u001b[0m     \u001b[39mraise\u001b[39;00m FSTimeoutError \u001b[39mfrom\u001b[39;00m \u001b[39mreturn_result\u001b[39;00m\n\u001b[1;32m     65\u001b[0m \u001b[39melif\u001b[39;00m \u001b[39misinstance\u001b[39m(return_result, \u001b[39mBaseException\u001b[39;00m):\n\u001b[0;32m---> 66\u001b[0m     \u001b[39mraise\u001b[39;00m return_result\n\u001b[1;32m     67\u001b[0m \u001b[39melse\u001b[39;00m:\n\u001b[1;32m     68\u001b[0m     \u001b[39mreturn\u001b[39;00m return_result\n",
      "File \u001b[0;32m~/.pyenv/versions/miniforge3/envs/deconv/lib/python3.10/site-packages/fsspec/asyn.py:26\u001b[0m, in \u001b[0;36m_runner\u001b[0;34m(event, coro, result, timeout)\u001b[0m\n\u001b[1;32m     24\u001b[0m     coro \u001b[39m=\u001b[39m asyncio\u001b[39m.\u001b[39mwait_for(coro, timeout\u001b[39m=\u001b[39mtimeout)\n\u001b[1;32m     25\u001b[0m \u001b[39mtry\u001b[39;00m:\n\u001b[0;32m---> 26\u001b[0m     result[\u001b[39m0\u001b[39m] \u001b[39m=\u001b[39m \u001b[39mawait\u001b[39;00m coro\n\u001b[1;32m     27\u001b[0m \u001b[39mexcept\u001b[39;00m \u001b[39mException\u001b[39;00m \u001b[39mas\u001b[39;00m ex:\n\u001b[1;32m     28\u001b[0m     result[\u001b[39m0\u001b[39m] \u001b[39m=\u001b[39m ex\n",
      "File \u001b[0;32m~/.pyenv/versions/miniforge3/envs/deconv/lib/python3.10/site-packages/gcsfs/core.py:717\u001b[0m, in \u001b[0;36mGCSFileSystem._info\u001b[0;34m(self, path, **kwargs)\u001b[0m\n\u001b[1;32m    715\u001b[0m \u001b[39m# Check exact file path\u001b[39;00m\n\u001b[1;32m    716\u001b[0m \u001b[39mtry\u001b[39;00m:\n\u001b[0;32m--> 717\u001b[0m     exact \u001b[39m=\u001b[39m \u001b[39mawait\u001b[39;00m \u001b[39mself\u001b[39m\u001b[39m.\u001b[39m_get_object(path)\n\u001b[1;32m    718\u001b[0m     \u001b[39m# this condition finds a \"placeholder\" - still need to check if it's a directory\u001b[39;00m\n\u001b[1;32m    719\u001b[0m     \u001b[39mif\u001b[39;00m exact[\u001b[39m\"\u001b[39m\u001b[39msize\u001b[39m\u001b[39m\"\u001b[39m] \u001b[39mor\u001b[39;00m \u001b[39mnot\u001b[39;00m exact[\u001b[39m\"\u001b[39m\u001b[39mname\u001b[39m\u001b[39m\"\u001b[39m]\u001b[39m.\u001b[39mendswith(\u001b[39m\"\u001b[39m\u001b[39m/\u001b[39m\u001b[39m\"\u001b[39m):\n",
      "File \u001b[0;32m~/.pyenv/versions/miniforge3/envs/deconv/lib/python3.10/site-packages/gcsfs/core.py:458\u001b[0m, in \u001b[0;36mGCSFileSystem._get_object\u001b[0;34m(self, path)\u001b[0m\n\u001b[1;32m    455\u001b[0m \u001b[39m# Work around various permission settings. Prefer an object get (storage.objects.get), but\u001b[39;00m\n\u001b[1;32m    456\u001b[0m \u001b[39m# fall back to a bucket list + filter to object name (storage.objects.list).\u001b[39;00m\n\u001b[1;32m    457\u001b[0m \u001b[39mtry\u001b[39;00m:\n\u001b[0;32m--> 458\u001b[0m     res \u001b[39m=\u001b[39m \u001b[39mawait\u001b[39;00m \u001b[39mself\u001b[39m\u001b[39m.\u001b[39m_call(\u001b[39m\"\u001b[39m\u001b[39mGET\u001b[39m\u001b[39m\"\u001b[39m, \u001b[39m\"\u001b[39m\u001b[39mb/\u001b[39m\u001b[39m{}\u001b[39;00m\u001b[39m/o/\u001b[39m\u001b[39m{}\u001b[39;00m\u001b[39m\"\u001b[39m, bucket, key, json_out\u001b[39m=\u001b[39m\u001b[39mTrue\u001b[39;00m)\n\u001b[1;32m    459\u001b[0m \u001b[39mexcept\u001b[39;00m \u001b[39mOSError\u001b[39;00m \u001b[39mas\u001b[39;00m e:\n\u001b[1;32m    460\u001b[0m     \u001b[39mif\u001b[39;00m \u001b[39mnot\u001b[39;00m \u001b[39mstr\u001b[39m(e)\u001b[39m.\u001b[39mstartswith(\u001b[39m\"\u001b[39m\u001b[39mForbidden\u001b[39m\u001b[39m\"\u001b[39m):\n",
      "File \u001b[0;32m~/.pyenv/versions/miniforge3/envs/deconv/lib/python3.10/site-packages/gcsfs/core.py:392\u001b[0m, in \u001b[0;36mGCSFileSystem._call\u001b[0;34m(self, method, path, json_out, info_out, *args, **kwargs)\u001b[0m\n\u001b[1;32m    387\u001b[0m \u001b[39masync\u001b[39;00m \u001b[39mdef\u001b[39;00m \u001b[39m_call\u001b[39m(\n\u001b[1;32m    388\u001b[0m     \u001b[39mself\u001b[39m, method, path, \u001b[39m*\u001b[39margs, json_out\u001b[39m=\u001b[39m\u001b[39mFalse\u001b[39;00m, info_out\u001b[39m=\u001b[39m\u001b[39mFalse\u001b[39;00m, \u001b[39m*\u001b[39m\u001b[39m*\u001b[39mkwargs\n\u001b[1;32m    389\u001b[0m ):\n\u001b[1;32m    390\u001b[0m     logger\u001b[39m.\u001b[39mdebug(\u001b[39mf\u001b[39m\u001b[39m\"\u001b[39m\u001b[39m{\u001b[39;00mmethod\u001b[39m.\u001b[39mupper()\u001b[39m}\u001b[39;00m\u001b[39m: \u001b[39m\u001b[39m{\u001b[39;00mpath\u001b[39m}\u001b[39;00m\u001b[39m, \u001b[39m\u001b[39m{\u001b[39;00margs\u001b[39m}\u001b[39;00m\u001b[39m, \u001b[39m\u001b[39m{\u001b[39;00mkwargs\u001b[39m.\u001b[39mget(\u001b[39m'\u001b[39m\u001b[39mheaders\u001b[39m\u001b[39m'\u001b[39m)\u001b[39m}\u001b[39;00m\u001b[39m\"\u001b[39m)\n\u001b[0;32m--> 392\u001b[0m     status, headers, info, contents \u001b[39m=\u001b[39m \u001b[39mawait\u001b[39;00m \u001b[39mself\u001b[39m\u001b[39m.\u001b[39m_request(\n\u001b[1;32m    393\u001b[0m         method, path, \u001b[39m*\u001b[39margs, \u001b[39m*\u001b[39m\u001b[39m*\u001b[39mkwargs\n\u001b[1;32m    394\u001b[0m     )\n\u001b[1;32m    395\u001b[0m     \u001b[39mif\u001b[39;00m json_out:\n\u001b[1;32m    396\u001b[0m         \u001b[39mreturn\u001b[39;00m json\u001b[39m.\u001b[39mloads(contents)\n",
      "File \u001b[0;32m~/.pyenv/versions/miniforge3/envs/deconv/lib/python3.10/site-packages/decorator.py:221\u001b[0m, in \u001b[0;36mdecorate.<locals>.fun\u001b[0;34m(*args, **kw)\u001b[0m\n\u001b[1;32m    219\u001b[0m \u001b[39mif\u001b[39;00m \u001b[39mnot\u001b[39;00m kwsyntax:\n\u001b[1;32m    220\u001b[0m     args, kw \u001b[39m=\u001b[39m fix(args, kw, sig)\n\u001b[0;32m--> 221\u001b[0m \u001b[39mreturn\u001b[39;00m \u001b[39mawait\u001b[39;00m caller(func, \u001b[39m*\u001b[39m(extras \u001b[39m+\u001b[39m args), \u001b[39m*\u001b[39m\u001b[39m*\u001b[39mkw)\n",
      "File \u001b[0;32m~/.pyenv/versions/miniforge3/envs/deconv/lib/python3.10/site-packages/gcsfs/retry.py:152\u001b[0m, in \u001b[0;36mretry_request\u001b[0;34m(func, retries, *args, **kwargs)\u001b[0m\n\u001b[1;32m    150\u001b[0m     \u001b[39mcontinue\u001b[39;00m\n\u001b[1;32m    151\u001b[0m logger\u001b[39m.\u001b[39mexception(\u001b[39m\"\u001b[39m\u001b[39m%s\u001b[39;00m\u001b[39m non-retriable exception: \u001b[39m\u001b[39m%s\u001b[39;00m\u001b[39m\"\u001b[39m \u001b[39m%\u001b[39m (func\u001b[39m.\u001b[39m\u001b[39m__name__\u001b[39m, e))\n\u001b[0;32m--> 152\u001b[0m \u001b[39mraise\u001b[39;00m e\n",
      "File \u001b[0;32m~/.pyenv/versions/miniforge3/envs/deconv/lib/python3.10/site-packages/gcsfs/retry.py:115\u001b[0m, in \u001b[0;36mretry_request\u001b[0;34m(func, retries, *args, **kwargs)\u001b[0m\n\u001b[1;32m    113\u001b[0m     \u001b[39mif\u001b[39;00m retry \u001b[39m>\u001b[39m \u001b[39m0\u001b[39m:\n\u001b[1;32m    114\u001b[0m         \u001b[39mawait\u001b[39;00m asyncio\u001b[39m.\u001b[39msleep(\u001b[39mmin\u001b[39m(random\u001b[39m.\u001b[39mrandom() \u001b[39m+\u001b[39m \u001b[39m2\u001b[39m \u001b[39m*\u001b[39m\u001b[39m*\u001b[39m (retry \u001b[39m-\u001b[39m \u001b[39m1\u001b[39m), \u001b[39m32\u001b[39m))\n\u001b[0;32m--> 115\u001b[0m     \u001b[39mreturn\u001b[39;00m \u001b[39mawait\u001b[39;00m func(\u001b[39m*\u001b[39margs, \u001b[39m*\u001b[39m\u001b[39m*\u001b[39mkwargs)\n\u001b[1;32m    116\u001b[0m \u001b[39mexcept\u001b[39;00m (\n\u001b[1;32m    117\u001b[0m     HttpError,\n\u001b[1;32m    118\u001b[0m     requests\u001b[39m.\u001b[39mexceptions\u001b[39m.\u001b[39mRequestException,\n\u001b[0;32m   (...)\u001b[0m\n\u001b[1;32m    121\u001b[0m     aiohttp\u001b[39m.\u001b[39mclient_exceptions\u001b[39m.\u001b[39mClientError,\n\u001b[1;32m    122\u001b[0m ) \u001b[39mas\u001b[39;00m e:\n\u001b[1;32m    123\u001b[0m     \u001b[39mif\u001b[39;00m (\n\u001b[1;32m    124\u001b[0m         \u001b[39misinstance\u001b[39m(e, HttpError)\n\u001b[1;32m    125\u001b[0m         \u001b[39mand\u001b[39;00m e\u001b[39m.\u001b[39mcode \u001b[39m==\u001b[39m \u001b[39m400\u001b[39m\n\u001b[1;32m    126\u001b[0m         \u001b[39mand\u001b[39;00m \u001b[39m\"\u001b[39m\u001b[39mrequester pays\u001b[39m\u001b[39m\"\u001b[39m \u001b[39min\u001b[39;00m e\u001b[39m.\u001b[39mmessage\n\u001b[1;32m    127\u001b[0m     ):\n",
      "File \u001b[0;32m~/.pyenv/versions/miniforge3/envs/deconv/lib/python3.10/site-packages/gcsfs/core.py:384\u001b[0m, in \u001b[0;36mGCSFileSystem._request\u001b[0;34m(self, method, path, headers, json, data, *args, **kwargs)\u001b[0m\n\u001b[1;32m    381\u001b[0m info \u001b[39m=\u001b[39m r\u001b[39m.\u001b[39mrequest_info  \u001b[39m# for debug only\u001b[39;00m\n\u001b[1;32m    382\u001b[0m contents \u001b[39m=\u001b[39m \u001b[39mawait\u001b[39;00m r\u001b[39m.\u001b[39mread()\n\u001b[0;32m--> 384\u001b[0m validate_response(status, contents, path, args)\n\u001b[1;32m    385\u001b[0m \u001b[39mreturn\u001b[39;00m status, headers, info, contents\n",
      "File \u001b[0;32m~/.pyenv/versions/miniforge3/envs/deconv/lib/python3.10/site-packages/gcsfs/retry.py:102\u001b[0m, in \u001b[0;36mvalidate_response\u001b[0;34m(status, content, path, args)\u001b[0m\n\u001b[1;32m    100\u001b[0m     \u001b[39mraise\u001b[39;00m \u001b[39mValueError\u001b[39;00m(\u001b[39m\"\u001b[39m\u001b[39mBad Request: \u001b[39m\u001b[39m%s\u001b[39;00m\u001b[39m\\n\u001b[39;00m\u001b[39m%s\u001b[39;00m\u001b[39m\"\u001b[39m \u001b[39m%\u001b[39m (path, msg))\n\u001b[1;32m    101\u001b[0m \u001b[39melif\u001b[39;00m error:\n\u001b[0;32m--> 102\u001b[0m     \u001b[39mraise\u001b[39;00m HttpError(error)\n\u001b[1;32m    103\u001b[0m \u001b[39melif\u001b[39;00m status:\n\u001b[1;32m    104\u001b[0m     \u001b[39mraise\u001b[39;00m HttpError({\u001b[39m\"\u001b[39m\u001b[39mcode\u001b[39m\u001b[39m\"\u001b[39m: status, \u001b[39m\"\u001b[39m\u001b[39mmessage\u001b[39m\u001b[39m\"\u001b[39m: msg})  \u001b[39m# text-like\u001b[39;00m\n",
      "\u001b[0;31mHttpError\u001b[0m: Anonymous caller does not have storage.objects.get access to the Google Cloud Storage object., 401"
     ]
    }
   ],
   "source": [
    "df = pd.read_csv(\n",
    "    \"gs://liulab/data/pseudobulk_evaluation/csx_runs/hires_with_fractions/pseudobulks_2/n_cells=5/malignant_from_one_sample=True/outdir/CIBERSORTxHiRes_NA_TCD4_Window36.txt\",\n",
    "    sep=\"\\t\"\n",
    ")"
   ]
  },
  {
   "cell_type": "code",
   "execution_count": null,
   "id": "f114f644",
   "metadata": {},
   "outputs": [],
   "source": [
    "df"
   ]
  },
  {
   "cell_type": "code",
   "execution_count": 4,
   "id": "f7dedc48",
   "metadata": {},
   "outputs": [],
   "source": [
    "import gcsfs"
   ]
  },
  {
   "cell_type": "code",
   "execution_count": 5,
   "id": "c1cf0546",
   "metadata": {},
   "outputs": [],
   "source": [
    "fs = gcsfs.GCSFileSystem()"
   ]
  },
  {
   "cell_type": "code",
   "execution_count": 6,
   "id": "2507dc36",
   "metadata": {},
   "outputs": [
    {
     "data": {
      "text/plain": [
       "''"
      ]
     },
     "execution_count": 6,
     "metadata": {},
     "output_type": "execute_result"
    }
   ],
   "source": [
    "fs.project"
   ]
  },
  {
   "cell_type": "code",
   "execution_count": 7,
   "id": "7a3110d5",
   "metadata": {},
   "outputs": [
    {
     "data": {
      "text/plain": [
       "'2022.5.0'"
      ]
     },
     "execution_count": 7,
     "metadata": {},
     "output_type": "execute_result"
    }
   ],
   "source": [
    "gcsfs.__version__"
   ]
  },
  {
   "cell_type": "code",
   "execution_count": 8,
   "id": "66af9b1a",
   "metadata": {},
   "outputs": [],
   "source": [
    "import google.auth\n",
    "\n",
    "credentials = google.auth.default()"
   ]
  },
  {
   "cell_type": "code",
   "execution_count": 15,
   "id": "5e30994c",
   "metadata": {},
   "outputs": [
    {
     "data": {
      "text/plain": [
       "(<google.oauth2.credentials.Credentials at 0x146c9a650>,\n",
       " 'keen-dispatch-316219')"
      ]
     },
     "execution_count": 15,
     "metadata": {},
     "output_type": "execute_result"
    }
   ],
   "source": [
    "credentials"
   ]
  },
  {
   "cell_type": "code",
   "execution_count": null,
   "id": "95277433",
   "metadata": {},
   "outputs": [],
   "source": []
  }
 ],
 "metadata": {
  "kernelspec": {
   "display_name": "Python 3.10.5 ('deconv')",
   "language": "python",
   "name": "python3"
  },
  "language_info": {
   "codemirror_mode": {
    "name": "ipython",
    "version": 3
   },
   "file_extension": ".py",
   "mimetype": "text/x-python",
   "name": "python",
   "nbconvert_exporter": "python",
   "pygments_lexer": "ipython3",
   "version": "3.10.5"
  },
  "vscode": {
   "interpreter": {
    "hash": "637acf9a507e8d913a30d421b6f20878bbaf50f47d6d3c99f5c08459efbf7098"
   }
  }
 },
 "nbformat": 4,
 "nbformat_minor": 5
}
