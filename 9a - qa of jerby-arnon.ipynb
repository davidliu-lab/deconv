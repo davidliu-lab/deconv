{
 "cells": [
  {
   "cell_type": "code",
   "execution_count": 1,
   "id": "89f83a48-4c2b-446d-8d04-b1fecf491a9c",
   "metadata": {},
   "outputs": [
    {
     "data": {
      "text/plain": [
       "PosixPath('figures-9a')"
      ]
     },
     "execution_count": 1,
     "metadata": {},
     "output_type": "execute_result"
    }
   ],
   "source": [
    "import pathlib\n",
    "\n",
    "figure_path = pathlib.Path(\"figures-9a\")\n",
    "figure_path.mkdir(parents=True, exist_ok=True)\n",
    "figure_path"
   ]
  },
  {
   "cell_type": "code",
   "execution_count": 2,
   "id": "8e64d1b4-6d25-4fd2-8d5e-ac8332137bd6",
   "metadata": {},
   "outputs": [],
   "source": [
    "import logging\n",
    "\n",
    "import helpers\n",
    "import numpy as np\n",
    "import pandas as pd\n",
    "import plotly.express as px\n",
    "import plotly.figure_factory as ff\n",
    "import plotly.graph_objects as go\n",
    "import plotly.io"
   ]
  },
  {
   "cell_type": "code",
   "execution_count": 3,
   "id": "66efaa6f-0212-4ce5-97dc-a08147f55179",
   "metadata": {},
   "outputs": [],
   "source": [
    "handler = logging.StreamHandler()\n",
    "formatter = logging.Formatter(\"%(asctime)s - %(name)s - %(levelname)s - %(message)s\")\n",
    "handler.setFormatter(formatter)\n",
    "logging.getLogger().addHandler(handler)"
   ]
  },
  {
   "cell_type": "code",
   "execution_count": 4,
   "id": "c0247de3-4c0c-4517-b3bd-0e9e91e5436f",
   "metadata": {},
   "outputs": [],
   "source": [
    "logger = logging.getLogger(__name__)\n",
    "logger.setLevel(\"DEBUG\")"
   ]
  },
  {
   "cell_type": "code",
   "execution_count": 5,
   "id": "be76e1a2-7060-49ef-921a-c9ea8fee5092",
   "metadata": {},
   "outputs": [],
   "source": [
    "rng = np.random.default_rng(seed=0)"
   ]
  },
  {
   "cell_type": "code",
   "execution_count": null,
   "id": "11bb6929-bf16-481c-a5a0-9a09030e4c00",
   "metadata": {},
   "outputs": [],
   "source": [
    "%%time\n",
    "sc_jerby_arnon, sc_metadata_jerby_arnon = helpers.datasets.load_jerby_arnon(ref_genome=\"hg19\", units=\"tpm\")\n",
    "sc_jerby_arnon *= 1_000_000 / sc_jerby_arnon.sum()"
   ]
  },
  {
   "cell_type": "code",
   "execution_count": null,
   "id": "ef08f051-d6cd-4d44-ad36-017586488a26",
   "metadata": {},
   "outputs": [],
   "source": []
  }
 ],
 "metadata": {
  "environment": {
   "kernel": "conda-env-deconv-py",
   "name": "common-cpu.m91",
   "type": "gcloud",
   "uri": "gcr.io/deeplearning-platform-release/base-cpu:m91"
  },
  "kernelspec": {
   "display_name": "Python [conda env:deconv]",
   "language": "python",
   "name": "conda-env-deconv-py"
  },
  "language_info": {
   "codemirror_mode": {
    "name": "ipython",
    "version": 3
   },
   "file_extension": ".py",
   "mimetype": "text/x-python",
   "name": "python",
   "nbconvert_exporter": "python",
   "pygments_lexer": "ipython3",
   "version": "3.10.4"
  }
 },
 "nbformat": 4,
 "nbformat_minor": 5
}
