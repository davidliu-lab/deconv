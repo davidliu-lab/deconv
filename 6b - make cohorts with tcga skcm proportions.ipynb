{
 "cells": [
  {
   "cell_type": "code",
   "execution_count": 1,
   "id": "bebc6010-0ef4-41a5-b2f7-56dedd0fa0c9",
   "metadata": {
    "execution": {
     "iopub.execute_input": "2022-02-02T00:57:25.136468Z",
     "iopub.status.busy": "2022-02-02T00:57:25.135322Z",
     "iopub.status.idle": "2022-02-02T00:57:25.394588Z",
     "shell.execute_reply": "2022-02-02T00:57:25.393892Z",
     "shell.execute_reply.started": "2022-02-02T00:57:25.136370Z"
    },
    "tags": []
   },
   "outputs": [],
   "source": [
    "import numpy as np\n",
    "import pandas as pd\n",
    "\n",
    "from helpers.cell_type_naming import weird_to_nice\n",
    "from helpers import creating_mixtures\n",
    "from helpers.loading_single_cell_cohorts import load_jerby_arnon"
   ]
  },
  {
   "cell_type": "code",
   "execution_count": 2,
   "id": "edc4bf90-4a24-49f8-a8ef-98006161fe2d",
   "metadata": {
    "execution": {
     "iopub.execute_input": "2022-02-02T00:57:25.396168Z",
     "iopub.status.busy": "2022-02-02T00:57:25.395914Z",
     "iopub.status.idle": "2022-02-02T00:57:25.912848Z",
     "shell.execute_reply": "2022-02-02T00:57:25.911986Z",
     "shell.execute_reply.started": "2022-02-02T00:57:25.396136Z"
    },
    "tags": []
   },
   "outputs": [],
   "source": [
    "import plotly.express as px\n",
    "import plotly.figure_factory as ff\n",
    "import plotly.graph_objects as go\n",
    "import plotly.io\n",
    "\n",
    "plotly.io.renderers.default = \"jupyterlab+png\""
   ]
  },
  {
   "cell_type": "code",
   "execution_count": 3,
   "id": "a1d85463-790a-45ec-8f25-fc518598cf97",
   "metadata": {
    "execution": {
     "iopub.execute_input": "2022-02-02T00:57:25.916759Z",
     "iopub.status.busy": "2022-02-02T00:57:25.916243Z",
     "iopub.status.idle": "2022-02-02T00:57:25.921419Z",
     "shell.execute_reply": "2022-02-02T00:57:25.920648Z",
     "shell.execute_reply.started": "2022-02-02T00:57:25.916716Z"
    },
    "tags": []
   },
   "outputs": [],
   "source": [
    "rng = np.random.default_rng(seed=0)"
   ]
  },
  {
   "cell_type": "markdown",
   "id": "7c3abf98-2439-4a3a-9e1e-1311bdd9a78c",
   "metadata": {},
   "source": [
    "# load & prep data"
   ]
  },
  {
   "cell_type": "code",
   "execution_count": 4,
   "id": "717ccd29-ccc3-4d6f-b15e-e5ebbe7c7e3a",
   "metadata": {
    "execution": {
     "iopub.execute_input": "2022-02-02T00:57:25.923184Z",
     "iopub.status.busy": "2022-02-02T00:57:25.922868Z",
     "iopub.status.idle": "2022-02-02T00:57:28.246650Z",
     "shell.execute_reply": "2022-02-02T00:57:28.245775Z",
     "shell.execute_reply.started": "2022-02-02T00:57:25.923151Z"
    }
   },
   "outputs": [
    {
     "name": "stdout",
     "output_type": "stream",
     "text": [
      "gs://liulab/downloaded_manually/derek_csx_tcga_skcm/CIBERSORTx_Job6_cell_type_sourceGEP.txt\n",
      "gs://liulab/downloaded_manually/derek_csx_tcga_skcm/CIBERSORTx_Job6_jerbyarnon_for_cibersortx_sigmatrix_inferred_phenoclasses.CIBERSORTx_Job6_jerbyarnon_for_cibersortx_sigmatrix_inferred_refsample.bm.K999.txt\n",
      "gs://liulab/downloaded_manually/derek_csx_tcga_skcm/CIBERSORTx_Job7_Results.csv\n",
      "gs://liulab/downloaded_manually/derek_csx_tcga_skcm/CIBERSORTx_Job7_Results.html\n",
      "gs://liulab/downloaded_manually/derek_csx_tcga_skcm/CIBERSORTx_Job7_Results.pdf\n",
      "gs://liulab/downloaded_manually/derek_csx_tcga_skcm/CIBERSORTx_Job7_Results.txt\n",
      "gs://liulab/downloaded_manually/derek_csx_tcga_skcm/CIBERSORTx_Job7_error_log.txt\n",
      "gs://liulab/downloaded_manually/derek_csx_tcga_skcm/CIBERSORTx_Job7_jerbyarnon_for_cibersortx_sigmatrix_inferred_phenoclasses.CIBERSORTx_Job7_jerbyarnon_for_cibersortx_sigmatrix_inferred_refsample.bm.K999.txt\n",
      "gs://liulab/downloaded_manually/derek_csx_tcga_skcm/CIBERSORTx_Job7_runtime_log.txt\n",
      "gs://liulab/downloaded_manually/derek_csx_tcga_skcm/CIBERSORTx_Job8_Results.csv\n",
      "gs://liulab/downloaded_manually/derek_csx_tcga_skcm/CIBERSORTx_Job8_Results.html\n",
      "gs://liulab/downloaded_manually/derek_csx_tcga_skcm/CIBERSORTx_Job8_Results.pdf\n",
      "gs://liulab/downloaded_manually/derek_csx_tcga_skcm/CIBERSORTx_Job8_Results.txt\n",
      "gs://liulab/downloaded_manually/derek_csx_tcga_skcm/CIBERSORTx_Job8_error_log.txt\n",
      "gs://liulab/downloaded_manually/derek_csx_tcga_skcm/CIBERSORTx_Job8_runtime_log.txt\n",
      "gs://liulab/downloaded_manually/derek_csx_tcga_skcm/skcm_rnaseqv2_normalized_clean.txt\n"
     ]
    }
   ],
   "source": [
    "!gsutil ls gs://liulab/downloaded_manually/derek_csx_tcga_skcm"
   ]
  },
  {
   "cell_type": "markdown",
   "id": "22a5140c-e508-47e4-b357-387588440163",
   "metadata": {
    "tags": []
   },
   "source": [
    "## load (real) TCGA SKCM mixtures"
   ]
  },
  {
   "cell_type": "code",
   "execution_count": 5,
   "id": "ef32742d-2541-4bbd-b043-d65a6292aeac",
   "metadata": {
    "execution": {
     "iopub.execute_input": "2022-02-02T00:57:28.253215Z",
     "iopub.status.busy": "2022-02-02T00:57:28.250345Z",
     "iopub.status.idle": "2022-02-02T00:57:28.258298Z",
     "shell.execute_reply": "2022-02-02T00:57:28.257358Z",
     "shell.execute_reply.started": "2022-02-02T00:57:28.253156Z"
    }
   },
   "outputs": [],
   "source": [
    "# mixtures_tcga_skcm = helpers.datasets.load_tcga_skcm_mixtures()"
   ]
  },
  {
   "cell_type": "code",
   "execution_count": 6,
   "id": "7152ec65-7cca-4691-a98d-02a95e43d8f4",
   "metadata": {
    "execution": {
     "iopub.execute_input": "2022-02-02T00:57:28.262412Z",
     "iopub.status.busy": "2022-02-02T00:57:28.262199Z",
     "iopub.status.idle": "2022-02-02T00:57:31.431464Z",
     "shell.execute_reply": "2022-02-02T00:57:31.430772Z",
     "shell.execute_reply.started": "2022-02-02T00:57:28.262388Z"
    },
    "tags": []
   },
   "outputs": [
    {
     "name": "stdout",
     "output_type": "stream",
     "text": [
      "CPU times: user 2 µs, sys: 0 ns, total: 2 µs\n",
      "Wall time: 5.01 µs\n"
     ]
    }
   ],
   "source": [
    "%time\n",
    "\n",
    "path = \"gs://liulab/downloaded_manually/derek_csx_tcga_skcm/skcm_rnaseqv2_normalized_clean.txt\"\n",
    "\n",
    "mixtures_tcga_skcm = pd.read_csv(\n",
    "    path,\n",
    "    sep=\"\\t\",\n",
    "    # nrows=1000,\n",
    "    index_col=0\n",
    ")\n",
    "\n",
    "mixtures_tcga_skcm *= 1_000_000 / mixtures_tcga_skcm.sum()\n",
    "# mixtures_tcga_skcm = helpers.creating_mixtures.normalize_to_tp100k(mixtures_tcga_skcm)"
   ]
  },
  {
   "cell_type": "code",
   "execution_count": 7,
   "id": "2acbfd1e-3da8-43e0-b8c9-e39ed22d5a9e",
   "metadata": {
    "execution": {
     "iopub.execute_input": "2022-02-02T00:57:31.432921Z",
     "iopub.status.busy": "2022-02-02T00:57:31.432697Z",
     "iopub.status.idle": "2022-02-02T00:57:31.470145Z",
     "shell.execute_reply": "2022-02-02T00:57:31.469432Z",
     "shell.execute_reply.started": "2022-02-02T00:57:31.432892Z"
    },
    "tags": []
   },
   "outputs": [
    {
     "data": {
      "text/html": [
       "<div>\n",
       "<style scoped>\n",
       "    .dataframe tbody tr th:only-of-type {\n",
       "        vertical-align: middle;\n",
       "    }\n",
       "\n",
       "    .dataframe tbody tr th {\n",
       "        vertical-align: top;\n",
       "    }\n",
       "\n",
       "    .dataframe thead th {\n",
       "        text-align: right;\n",
       "    }\n",
       "</style>\n",
       "<table border=\"1\" class=\"dataframe\">\n",
       "  <thead>\n",
       "    <tr style=\"text-align: right;\">\n",
       "      <th></th>\n",
       "      <th>TCGA.3N.A9WB.06A.11R.A38C.07</th>\n",
       "      <th>TCGA.3N.A9WC.06A.11R.A38C.07</th>\n",
       "      <th>TCGA.3N.A9WD.06A.11R.A38C.07</th>\n",
       "      <th>TCGA.BF.A1PU.01A.11R.A18S.07</th>\n",
       "      <th>TCGA.BF.A1PV.01A.11R.A18U.07</th>\n",
       "      <th>TCGA.BF.A1PX.01A.12R.A18T.07</th>\n",
       "      <th>TCGA.BF.A1PZ.01A.11R.A18S.07</th>\n",
       "      <th>TCGA.BF.A1Q0.01A.21R.A18S.07</th>\n",
       "      <th>TCGA.BF.A3DJ.01A.11R.A20F.07</th>\n",
       "      <th>TCGA.BF.A3DL.01A.11R.A20F.07</th>\n",
       "      <th>...</th>\n",
       "      <th>TCGA.XV.AB01.06A.12R.A40A.07</th>\n",
       "      <th>TCGA.YD.A89C.06A.11R.A37K.07</th>\n",
       "      <th>TCGA.YD.A9TA.06A.11R.A39D.07</th>\n",
       "      <th>TCGA.YD.A9TB.06A.12R.A40A.07</th>\n",
       "      <th>TCGA.YG.AA3N.01A.11R.A38C.07</th>\n",
       "      <th>TCGA.YG.AA3O.06A.11R.A38C.07</th>\n",
       "      <th>TCGA.YG.AA3P.06A.11R.A38C.07</th>\n",
       "      <th>TCGA.Z2.A8RT.06A.11R.A37K.07</th>\n",
       "      <th>TCGA.Z2.AA3S.06A.11R.A39D.07</th>\n",
       "      <th>TCGA.Z2.AA3V.06A.11R.A39D.07</th>\n",
       "    </tr>\n",
       "    <tr>\n",
       "      <th>gene_id</th>\n",
       "      <th></th>\n",
       "      <th></th>\n",
       "      <th></th>\n",
       "      <th></th>\n",
       "      <th></th>\n",
       "      <th></th>\n",
       "      <th></th>\n",
       "      <th></th>\n",
       "      <th></th>\n",
       "      <th></th>\n",
       "      <th></th>\n",
       "      <th></th>\n",
       "      <th></th>\n",
       "      <th></th>\n",
       "      <th></th>\n",
       "      <th></th>\n",
       "      <th></th>\n",
       "      <th></th>\n",
       "      <th></th>\n",
       "      <th></th>\n",
       "      <th></th>\n",
       "    </tr>\n",
       "  </thead>\n",
       "  <tbody>\n",
       "    <tr>\n",
       "      <th>A1BG</th>\n",
       "      <td>19.740875</td>\n",
       "      <td>10.369330</td>\n",
       "      <td>14.257515</td>\n",
       "      <td>8.356213</td>\n",
       "      <td>12.480939</td>\n",
       "      <td>13.381595</td>\n",
       "      <td>21.218028</td>\n",
       "      <td>15.880855</td>\n",
       "      <td>11.437546</td>\n",
       "      <td>15.883137</td>\n",
       "      <td>...</td>\n",
       "      <td>16.366698</td>\n",
       "      <td>8.811148</td>\n",
       "      <td>4.867023</td>\n",
       "      <td>15.167823</td>\n",
       "      <td>11.002386</td>\n",
       "      <td>11.587025</td>\n",
       "      <td>1.617723</td>\n",
       "      <td>17.433731</td>\n",
       "      <td>18.990391</td>\n",
       "      <td>26.051613</td>\n",
       "    </tr>\n",
       "    <tr>\n",
       "      <th>A1CF</th>\n",
       "      <td>0.000000</td>\n",
       "      <td>0.000000</td>\n",
       "      <td>0.028019</td>\n",
       "      <td>0.000000</td>\n",
       "      <td>0.000000</td>\n",
       "      <td>0.000000</td>\n",
       "      <td>0.000000</td>\n",
       "      <td>0.000000</td>\n",
       "      <td>0.000000</td>\n",
       "      <td>0.000000</td>\n",
       "      <td>...</td>\n",
       "      <td>0.000000</td>\n",
       "      <td>0.000000</td>\n",
       "      <td>0.074203</td>\n",
       "      <td>0.000000</td>\n",
       "      <td>0.000000</td>\n",
       "      <td>0.000000</td>\n",
       "      <td>0.000000</td>\n",
       "      <td>0.020087</td>\n",
       "      <td>0.000000</td>\n",
       "      <td>0.000000</td>\n",
       "    </tr>\n",
       "    <tr>\n",
       "      <th>A2BP1</th>\n",
       "      <td>0.000000</td>\n",
       "      <td>0.000000</td>\n",
       "      <td>0.252178</td>\n",
       "      <td>0.061521</td>\n",
       "      <td>0.000000</td>\n",
       "      <td>0.000000</td>\n",
       "      <td>0.000000</td>\n",
       "      <td>0.000000</td>\n",
       "      <td>0.000000</td>\n",
       "      <td>0.020444</td>\n",
       "      <td>...</td>\n",
       "      <td>0.000000</td>\n",
       "      <td>0.000000</td>\n",
       "      <td>0.000000</td>\n",
       "      <td>0.000000</td>\n",
       "      <td>0.025433</td>\n",
       "      <td>0.018830</td>\n",
       "      <td>3.184092</td>\n",
       "      <td>0.000000</td>\n",
       "      <td>0.015651</td>\n",
       "      <td>0.023752</td>\n",
       "    </tr>\n",
       "    <tr>\n",
       "      <th>A2LD1</th>\n",
       "      <td>12.961332</td>\n",
       "      <td>8.540326</td>\n",
       "      <td>3.840093</td>\n",
       "      <td>7.732546</td>\n",
       "      <td>3.503615</td>\n",
       "      <td>5.900259</td>\n",
       "      <td>3.942612</td>\n",
       "      <td>3.279326</td>\n",
       "      <td>4.576888</td>\n",
       "      <td>4.165400</td>\n",
       "      <td>...</td>\n",
       "      <td>1.813268</td>\n",
       "      <td>4.891449</td>\n",
       "      <td>2.033552</td>\n",
       "      <td>8.392148</td>\n",
       "      <td>4.064287</td>\n",
       "      <td>4.806950</td>\n",
       "      <td>2.411947</td>\n",
       "      <td>1.933933</td>\n",
       "      <td>8.313469</td>\n",
       "      <td>1.843167</td>\n",
       "    </tr>\n",
       "    <tr>\n",
       "      <th>A2M</th>\n",
       "      <td>114.462646</td>\n",
       "      <td>8990.935642</td>\n",
       "      <td>721.327094</td>\n",
       "      <td>318.164904</td>\n",
       "      <td>100.181732</td>\n",
       "      <td>1506.774877</td>\n",
       "      <td>160.847095</td>\n",
       "      <td>313.319162</td>\n",
       "      <td>18599.722553</td>\n",
       "      <td>322.278302</td>\n",
       "      <td>...</td>\n",
       "      <td>665.860798</td>\n",
       "      <td>985.532588</td>\n",
       "      <td>682.319652</td>\n",
       "      <td>1460.927230</td>\n",
       "      <td>474.432192</td>\n",
       "      <td>2079.134869</td>\n",
       "      <td>396.044863</td>\n",
       "      <td>1146.847675</td>\n",
       "      <td>219.565726</td>\n",
       "      <td>1674.906699</td>\n",
       "    </tr>\n",
       "    <tr>\n",
       "      <th>...</th>\n",
       "      <td>...</td>\n",
       "      <td>...</td>\n",
       "      <td>...</td>\n",
       "      <td>...</td>\n",
       "      <td>...</td>\n",
       "      <td>...</td>\n",
       "      <td>...</td>\n",
       "      <td>...</td>\n",
       "      <td>...</td>\n",
       "      <td>...</td>\n",
       "      <td>...</td>\n",
       "      <td>...</td>\n",
       "      <td>...</td>\n",
       "      <td>...</td>\n",
       "      <td>...</td>\n",
       "      <td>...</td>\n",
       "      <td>...</td>\n",
       "      <td>...</td>\n",
       "      <td>...</td>\n",
       "      <td>...</td>\n",
       "      <td>...</td>\n",
       "    </tr>\n",
       "    <tr>\n",
       "      <th>ZYG11A</th>\n",
       "      <td>0.376607</td>\n",
       "      <td>0.042661</td>\n",
       "      <td>0.616431</td>\n",
       "      <td>0.000000</td>\n",
       "      <td>0.000000</td>\n",
       "      <td>0.261064</td>\n",
       "      <td>0.061078</td>\n",
       "      <td>0.460366</td>\n",
       "      <td>0.084846</td>\n",
       "      <td>0.000000</td>\n",
       "      <td>...</td>\n",
       "      <td>0.000000</td>\n",
       "      <td>0.020699</td>\n",
       "      <td>0.055655</td>\n",
       "      <td>0.000000</td>\n",
       "      <td>0.025433</td>\n",
       "      <td>0.056486</td>\n",
       "      <td>0.000000</td>\n",
       "      <td>0.100434</td>\n",
       "      <td>0.000000</td>\n",
       "      <td>0.000000</td>\n",
       "    </tr>\n",
       "    <tr>\n",
       "      <th>ZYG11B</th>\n",
       "      <td>33.392442</td>\n",
       "      <td>36.665386</td>\n",
       "      <td>33.567535</td>\n",
       "      <td>20.655596</td>\n",
       "      <td>57.074786</td>\n",
       "      <td>23.495951</td>\n",
       "      <td>36.860822</td>\n",
       "      <td>49.088446</td>\n",
       "      <td>46.564736</td>\n",
       "      <td>7.543344</td>\n",
       "      <td>...</td>\n",
       "      <td>5.571194</td>\n",
       "      <td>36.324173</td>\n",
       "      <td>50.514204</td>\n",
       "      <td>58.989190</td>\n",
       "      <td>26.042356</td>\n",
       "      <td>55.377154</td>\n",
       "      <td>44.448874</td>\n",
       "      <td>24.786819</td>\n",
       "      <td>88.553059</td>\n",
       "      <td>2.755252</td>\n",
       "    </tr>\n",
       "    <tr>\n",
       "      <th>ZYX</th>\n",
       "      <td>64.044031</td>\n",
       "      <td>190.962875</td>\n",
       "      <td>129.198585</td>\n",
       "      <td>243.114657</td>\n",
       "      <td>295.161620</td>\n",
       "      <td>219.491335</td>\n",
       "      <td>158.803870</td>\n",
       "      <td>531.532912</td>\n",
       "      <td>149.791155</td>\n",
       "      <td>300.282398</td>\n",
       "      <td>...</td>\n",
       "      <td>439.809043</td>\n",
       "      <td>252.882485</td>\n",
       "      <td>203.726404</td>\n",
       "      <td>173.244503</td>\n",
       "      <td>468.914976</td>\n",
       "      <td>174.115119</td>\n",
       "      <td>92.800828</td>\n",
       "      <td>148.479867</td>\n",
       "      <td>116.130025</td>\n",
       "      <td>429.795422</td>\n",
       "    </tr>\n",
       "    <tr>\n",
       "      <th>ZZEF1</th>\n",
       "      <td>32.262626</td>\n",
       "      <td>46.946197</td>\n",
       "      <td>43.682628</td>\n",
       "      <td>85.083208</td>\n",
       "      <td>63.164141</td>\n",
       "      <td>65.641810</td>\n",
       "      <td>82.394776</td>\n",
       "      <td>62.370800</td>\n",
       "      <td>65.757418</td>\n",
       "      <td>61.430229</td>\n",
       "      <td>...</td>\n",
       "      <td>55.869623</td>\n",
       "      <td>40.712054</td>\n",
       "      <td>68.527168</td>\n",
       "      <td>61.857779</td>\n",
       "      <td>108.823473</td>\n",
       "      <td>148.827285</td>\n",
       "      <td>71.359575</td>\n",
       "      <td>95.853073</td>\n",
       "      <td>89.147794</td>\n",
       "      <td>51.328428</td>\n",
       "    </tr>\n",
       "    <tr>\n",
       "      <th>ZZZ3</th>\n",
       "      <td>37.367734</td>\n",
       "      <td>60.447760</td>\n",
       "      <td>30.401313</td>\n",
       "      <td>13.549949</td>\n",
       "      <td>95.485875</td>\n",
       "      <td>24.458629</td>\n",
       "      <td>32.554792</td>\n",
       "      <td>41.569166</td>\n",
       "      <td>47.379281</td>\n",
       "      <td>12.551798</td>\n",
       "      <td>...</td>\n",
       "      <td>8.567026</td>\n",
       "      <td>35.496273</td>\n",
       "      <td>52.777417</td>\n",
       "      <td>42.540575</td>\n",
       "      <td>49.134598</td>\n",
       "      <td>52.402116</td>\n",
       "      <td>48.377633</td>\n",
       "      <td>23.541452</td>\n",
       "      <td>78.927726</td>\n",
       "      <td>3.705338</td>\n",
       "    </tr>\n",
       "  </tbody>\n",
       "</table>\n",
       "<p>20531 rows × 473 columns</p>\n",
       "</div>"
      ],
      "text/plain": [
       "         TCGA.3N.A9WB.06A.11R.A38C.07  TCGA.3N.A9WC.06A.11R.A38C.07  \\\n",
       "gene_id                                                               \n",
       "A1BG                        19.740875                     10.369330   \n",
       "A1CF                         0.000000                      0.000000   \n",
       "A2BP1                        0.000000                      0.000000   \n",
       "A2LD1                       12.961332                      8.540326   \n",
       "A2M                        114.462646                   8990.935642   \n",
       "...                               ...                           ...   \n",
       "ZYG11A                       0.376607                      0.042661   \n",
       "ZYG11B                      33.392442                     36.665386   \n",
       "ZYX                         64.044031                    190.962875   \n",
       "ZZEF1                       32.262626                     46.946197   \n",
       "ZZZ3                        37.367734                     60.447760   \n",
       "\n",
       "         TCGA.3N.A9WD.06A.11R.A38C.07  TCGA.BF.A1PU.01A.11R.A18S.07  \\\n",
       "gene_id                                                               \n",
       "A1BG                        14.257515                      8.356213   \n",
       "A1CF                         0.028019                      0.000000   \n",
       "A2BP1                        0.252178                      0.061521   \n",
       "A2LD1                        3.840093                      7.732546   \n",
       "A2M                        721.327094                    318.164904   \n",
       "...                               ...                           ...   \n",
       "ZYG11A                       0.616431                      0.000000   \n",
       "ZYG11B                      33.567535                     20.655596   \n",
       "ZYX                        129.198585                    243.114657   \n",
       "ZZEF1                       43.682628                     85.083208   \n",
       "ZZZ3                        30.401313                     13.549949   \n",
       "\n",
       "         TCGA.BF.A1PV.01A.11R.A18U.07  TCGA.BF.A1PX.01A.12R.A18T.07  \\\n",
       "gene_id                                                               \n",
       "A1BG                        12.480939                     13.381595   \n",
       "A1CF                         0.000000                      0.000000   \n",
       "A2BP1                        0.000000                      0.000000   \n",
       "A2LD1                        3.503615                      5.900259   \n",
       "A2M                        100.181732                   1506.774877   \n",
       "...                               ...                           ...   \n",
       "ZYG11A                       0.000000                      0.261064   \n",
       "ZYG11B                      57.074786                     23.495951   \n",
       "ZYX                        295.161620                    219.491335   \n",
       "ZZEF1                       63.164141                     65.641810   \n",
       "ZZZ3                        95.485875                     24.458629   \n",
       "\n",
       "         TCGA.BF.A1PZ.01A.11R.A18S.07  TCGA.BF.A1Q0.01A.21R.A18S.07  \\\n",
       "gene_id                                                               \n",
       "A1BG                        21.218028                     15.880855   \n",
       "A1CF                         0.000000                      0.000000   \n",
       "A2BP1                        0.000000                      0.000000   \n",
       "A2LD1                        3.942612                      3.279326   \n",
       "A2M                        160.847095                    313.319162   \n",
       "...                               ...                           ...   \n",
       "ZYG11A                       0.061078                      0.460366   \n",
       "ZYG11B                      36.860822                     49.088446   \n",
       "ZYX                        158.803870                    531.532912   \n",
       "ZZEF1                       82.394776                     62.370800   \n",
       "ZZZ3                        32.554792                     41.569166   \n",
       "\n",
       "         TCGA.BF.A3DJ.01A.11R.A20F.07  TCGA.BF.A3DL.01A.11R.A20F.07  ...  \\\n",
       "gene_id                                                              ...   \n",
       "A1BG                        11.437546                     15.883137  ...   \n",
       "A1CF                         0.000000                      0.000000  ...   \n",
       "A2BP1                        0.000000                      0.020444  ...   \n",
       "A2LD1                        4.576888                      4.165400  ...   \n",
       "A2M                      18599.722553                    322.278302  ...   \n",
       "...                               ...                           ...  ...   \n",
       "ZYG11A                       0.084846                      0.000000  ...   \n",
       "ZYG11B                      46.564736                      7.543344  ...   \n",
       "ZYX                        149.791155                    300.282398  ...   \n",
       "ZZEF1                       65.757418                     61.430229  ...   \n",
       "ZZZ3                        47.379281                     12.551798  ...   \n",
       "\n",
       "         TCGA.XV.AB01.06A.12R.A40A.07  TCGA.YD.A89C.06A.11R.A37K.07  \\\n",
       "gene_id                                                               \n",
       "A1BG                        16.366698                      8.811148   \n",
       "A1CF                         0.000000                      0.000000   \n",
       "A2BP1                        0.000000                      0.000000   \n",
       "A2LD1                        1.813268                      4.891449   \n",
       "A2M                        665.860798                    985.532588   \n",
       "...                               ...                           ...   \n",
       "ZYG11A                       0.000000                      0.020699   \n",
       "ZYG11B                       5.571194                     36.324173   \n",
       "ZYX                        439.809043                    252.882485   \n",
       "ZZEF1                       55.869623                     40.712054   \n",
       "ZZZ3                         8.567026                     35.496273   \n",
       "\n",
       "         TCGA.YD.A9TA.06A.11R.A39D.07  TCGA.YD.A9TB.06A.12R.A40A.07  \\\n",
       "gene_id                                                               \n",
       "A1BG                         4.867023                     15.167823   \n",
       "A1CF                         0.074203                      0.000000   \n",
       "A2BP1                        0.000000                      0.000000   \n",
       "A2LD1                        2.033552                      8.392148   \n",
       "A2M                        682.319652                   1460.927230   \n",
       "...                               ...                           ...   \n",
       "ZYG11A                       0.055655                      0.000000   \n",
       "ZYG11B                      50.514204                     58.989190   \n",
       "ZYX                        203.726404                    173.244503   \n",
       "ZZEF1                       68.527168                     61.857779   \n",
       "ZZZ3                        52.777417                     42.540575   \n",
       "\n",
       "         TCGA.YG.AA3N.01A.11R.A38C.07  TCGA.YG.AA3O.06A.11R.A38C.07  \\\n",
       "gene_id                                                               \n",
       "A1BG                        11.002386                     11.587025   \n",
       "A1CF                         0.000000                      0.000000   \n",
       "A2BP1                        0.025433                      0.018830   \n",
       "A2LD1                        4.064287                      4.806950   \n",
       "A2M                        474.432192                   2079.134869   \n",
       "...                               ...                           ...   \n",
       "ZYG11A                       0.025433                      0.056486   \n",
       "ZYG11B                      26.042356                     55.377154   \n",
       "ZYX                        468.914976                    174.115119   \n",
       "ZZEF1                      108.823473                    148.827285   \n",
       "ZZZ3                        49.134598                     52.402116   \n",
       "\n",
       "         TCGA.YG.AA3P.06A.11R.A38C.07  TCGA.Z2.A8RT.06A.11R.A37K.07  \\\n",
       "gene_id                                                               \n",
       "A1BG                         1.617723                     17.433731   \n",
       "A1CF                         0.000000                      0.020087   \n",
       "A2BP1                        3.184092                      0.000000   \n",
       "A2LD1                        2.411947                      1.933933   \n",
       "A2M                        396.044863                   1146.847675   \n",
       "...                               ...                           ...   \n",
       "ZYG11A                       0.000000                      0.100434   \n",
       "ZYG11B                      44.448874                     24.786819   \n",
       "ZYX                         92.800828                    148.479867   \n",
       "ZZEF1                       71.359575                     95.853073   \n",
       "ZZZ3                        48.377633                     23.541452   \n",
       "\n",
       "         TCGA.Z2.AA3S.06A.11R.A39D.07  TCGA.Z2.AA3V.06A.11R.A39D.07  \n",
       "gene_id                                                              \n",
       "A1BG                        18.990391                     26.051613  \n",
       "A1CF                         0.000000                      0.000000  \n",
       "A2BP1                        0.015651                      0.023752  \n",
       "A2LD1                        8.313469                      1.843167  \n",
       "A2M                        219.565726                   1674.906699  \n",
       "...                               ...                           ...  \n",
       "ZYG11A                       0.000000                      0.000000  \n",
       "ZYG11B                      88.553059                      2.755252  \n",
       "ZYX                        116.130025                    429.795422  \n",
       "ZZEF1                       89.147794                     51.328428  \n",
       "ZZZ3                        78.927726                      3.705338  \n",
       "\n",
       "[20531 rows x 473 columns]"
      ]
     },
     "execution_count": 7,
     "metadata": {},
     "output_type": "execute_result"
    }
   ],
   "source": [
    "mixtures_tcga_skcm"
   ]
  },
  {
   "cell_type": "markdown",
   "id": "034ac5ec-9fa5-4615-8108-5a2e2e773b71",
   "metadata": {},
   "source": [
    "## generate in silico mixtures"
   ]
  },
  {
   "cell_type": "markdown",
   "id": "b479e1db-3220-4b12-9504-67e0abf14e0a",
   "metadata": {
    "tags": []
   },
   "source": [
    "### load single cell cohort (Jerby-Arnon)"
   ]
  },
  {
   "cell_type": "code",
   "execution_count": null,
   "id": "6b8d229f-a7a6-483e-8497-2811502a1ea5",
   "metadata": {
    "execution": {
     "iopub.execute_input": "2022-02-02T00:57:31.471674Z",
     "iopub.status.busy": "2022-02-02T00:57:31.471379Z"
    },
    "tags": []
   },
   "outputs": [
    {
     "name": "stdout",
     "output_type": "stream",
     "text": [
      "CPU times: user 3 µs, sys: 0 ns, total: 3 µs\n",
      "Wall time: 6.68 µs\n"
     ]
    }
   ],
   "source": [
    "%time\n",
    "\n",
    "sc_data, sc_metadata = load_jerby_arnon(\n",
    "    # n_genes_if_not_all=1000\n",
    ")"
   ]
  },
  {
   "cell_type": "code",
   "execution_count": null,
   "id": "1bc534fa-05c9-4164-8490-cce2a7ecadd6",
   "metadata": {
    "tags": []
   },
   "outputs": [],
   "source": [
    "sc_data"
   ]
  },
  {
   "cell_type": "code",
   "execution_count": null,
   "id": "4e0cd324-9ecf-414e-9024-f3c74c91a52d",
   "metadata": {
    "tags": []
   },
   "outputs": [],
   "source": [
    "sc_metadata"
   ]
  },
  {
   "cell_type": "code",
   "execution_count": null,
   "id": "ac3747ba-6b76-4b1c-9267-8102d14e9d3a",
   "metadata": {
    "tags": []
   },
   "outputs": [],
   "source": [
    "sc_metadata[\"cell.types\"].value_counts(dropna=False)"
   ]
  },
  {
   "cell_type": "markdown",
   "id": "0db2642c-a3e9-4fb3-abbb-4c6194a87b54",
   "metadata": {
    "tags": []
   },
   "source": [
    "### load fractions produced by derek"
   ]
  },
  {
   "cell_type": "code",
   "execution_count": null,
   "id": "8ba791b3-fdef-4459-8105-6a758bf6c338",
   "metadata": {
    "tags": []
   },
   "outputs": [],
   "source": [
    "# !gsutil ls gs://liulab/downloaded_manually/derek_csx_tcga_skcm"
   ]
  },
  {
   "cell_type": "code",
   "execution_count": null,
   "id": "7412448a-7d7e-49b8-bf7f-f39749c51501",
   "metadata": {
    "tags": []
   },
   "outputs": [],
   "source": [
    "%time\n",
    "\n",
    "path = \"gs://liulab/downloaded_manually/derek_csx_tcga_skcm/CIBERSORTx_Job8_Results.txt\"\n",
    "\n",
    "csx_fraction_output_tcga_skcm = pd.read_csv(\n",
    "    path,\n",
    "    sep=\"\\t\",\n",
    "    # nrows=10,\n",
    "    index_col=0\n",
    ")\n",
    "csx_fraction_output_tcga_skcm.rename(columns=weird_to_nice, inplace=True)\n",
    "columns = list(sorted(csx_fraction_output_tcga_skcm.columns[:-3]))\n",
    "csx_fraction_output_tcga_skcm = csx_fraction_output_tcga_skcm[columns]"
   ]
  },
  {
   "cell_type": "code",
   "execution_count": null,
   "id": "e3af28fc-2807-4659-8947-e1fcb59dd730",
   "metadata": {
    "tags": []
   },
   "outputs": [],
   "source": [
    "csx_fraction_output_tcga_skcm"
   ]
  },
  {
   "cell_type": "code",
   "execution_count": null,
   "id": "400f63aa-0cd5-41bd-8aa6-230533f5abf8",
   "metadata": {
    "tags": []
   },
   "outputs": [],
   "source": [
    "px.bar(csx_fraction_output_tcga_skcm.sample(50))"
   ]
  },
  {
   "cell_type": "code",
   "execution_count": null,
   "id": "f307b564-4292-4f4a-8549-20f7a9e2d28c",
   "metadata": {
    "tags": []
   },
   "outputs": [],
   "source": [
    "# QA\n",
    "# do all rows start with \"TCGA\"?\n",
    "assert not any(filter(lambda name: name[0:4] != 'TCGA', csx_fraction_output_tcga_skcm.index))"
   ]
  },
  {
   "cell_type": "markdown",
   "id": "2eb25063-696b-4072-98c7-6de6834c08eb",
   "metadata": {
    "tags": []
   },
   "source": [
    "### compute mixtures"
   ]
  },
  {
   "cell_type": "code",
   "execution_count": null,
   "id": "2238b01f-cbe1-411d-a397-f500c17f5c1c",
   "metadata": {
    "tags": []
   },
   "outputs": [],
   "source": [
    "import importlib\n",
    "import helpers\n",
    "importlib.reload(helpers.creating_mixtures)"
   ]
  },
  {
   "cell_type": "code",
   "execution_count": null,
   "id": "94e62108-42f4-4a0a-a5f2-5074e955448d",
   "metadata": {
    "tags": []
   },
   "outputs": [],
   "source": [
    "# params\n",
    "rng = np.random.default_rng(seed=0)"
   ]
  },
  {
   "cell_type": "code",
   "execution_count": null,
   "id": "52464e90-b2a4-4bc2-8b99-99cff03a5f92",
   "metadata": {
    "tags": []
   },
   "outputs": [],
   "source": [
    "%time\n",
    "\n",
    "mixtures_in_silico, cell_type_geps = creating_mixtures.make_mixtures(\n",
    "    sc_data,\n",
    "    sc_metadata,\n",
    "    sample_fractions=csx_fraction_output_tcga_skcm,\n",
    "    n_cells_per_gep=5,\n",
    "    normalization_factor=1_000_000,\n",
    "    rng=rng\n",
    ")"
   ]
  },
  {
   "cell_type": "code",
   "execution_count": null,
   "id": "52e1c122-98bd-4e83-8ab4-7a351c57ed67",
   "metadata": {
    "tags": []
   },
   "outputs": [],
   "source": [
    "mixtures_in_silico"
   ]
  },
  {
   "cell_type": "code",
   "execution_count": null,
   "id": "40dbb6a6-166c-479c-8551-dc37784be3a4",
   "metadata": {
    "tags": []
   },
   "outputs": [],
   "source": [
    "sample_name = \"TCGA.3N.A9WB.06A.11R.A38C.07\"\n",
    "cell_type_geps[sample_name]"
   ]
  },
  {
   "cell_type": "markdown",
   "id": "c5426749-e100-43d0-8ae2-61cc1b3b29c4",
   "metadata": {},
   "source": [
    "## data checks"
   ]
  },
  {
   "cell_type": "markdown",
   "id": "bcf1015e-b158-493d-80fd-2a6d26875dec",
   "metadata": {},
   "source": [
    "### similar normalization?"
   ]
  },
  {
   "cell_type": "code",
   "execution_count": null,
   "id": "707589f3-1423-4610-857c-19439ea2dd01",
   "metadata": {
    "tags": []
   },
   "outputs": [],
   "source": [
    "mixtures_tcga_skcm.sum()"
   ]
  },
  {
   "cell_type": "code",
   "execution_count": null,
   "id": "8586755e-3121-4b5c-9994-c45374fce2c8",
   "metadata": {
    "tags": []
   },
   "outputs": [],
   "source": [
    "mixtures_in_silico.sum()"
   ]
  },
  {
   "cell_type": "code",
   "execution_count": null,
   "id": "209180c6-b564-427d-8491-f564f20a3c0e",
   "metadata": {
    "tags": []
   },
   "outputs": [],
   "source": [
    "mixtures_tcga_skcm.mean(axis=1).describe()"
   ]
  },
  {
   "cell_type": "code",
   "execution_count": null,
   "id": "743c518b-65a6-4640-a22b-786d0f21feaf",
   "metadata": {
    "tags": []
   },
   "outputs": [],
   "source": [
    "mixtures_in_silico.mean(axis=1).describe()"
   ]
  },
  {
   "cell_type": "markdown",
   "id": "bc2a4413-bca3-41df-9572-53df7e94192a",
   "metadata": {},
   "source": [
    "### same genes in real & in silico?"
   ]
  },
  {
   "cell_type": "markdown",
   "id": "84197e84-d796-4f29-b93e-3d504908e572",
   "metadata": {},
   "source": [
    "looks like not really... # rows in expression data:\n",
    "- TCGA SKCM: 20,531\n",
    "- in silico mixtures (jerby-arnon): 23,686\n",
    "- overlap: 18,762"
   ]
  },
  {
   "cell_type": "code",
   "execution_count": null,
   "id": "5bdaf6d9-a017-4024-871b-a778175ee37d",
   "metadata": {
    "tags": []
   },
   "outputs": [],
   "source": [
    "mixtures_tcga_skcm.shape"
   ]
  },
  {
   "cell_type": "code",
   "execution_count": null,
   "id": "42093740-eb88-4249-8ce1-d022a9b38a8a",
   "metadata": {
    "tags": []
   },
   "outputs": [],
   "source": [
    "mixtures_in_silico.shape"
   ]
  },
  {
   "cell_type": "code",
   "execution_count": null,
   "id": "1aaac4a7-9aa0-438b-8820-eed31eb980d6",
   "metadata": {
    "tags": []
   },
   "outputs": [],
   "source": [
    "len(list(set(mixtures_tcga_skcm.index) & set(mixtures_in_silico.index)))"
   ]
  },
  {
   "cell_type": "markdown",
   "id": "3d8cb5c4-0847-459b-90ce-949a390f2d73",
   "metadata": {},
   "source": [
    "random genes in jerby-arnon, not in TCGA SKCM:"
   ]
  },
  {
   "cell_type": "code",
   "execution_count": null,
   "id": "06774a2e-8f35-42ee-ab70-fc82dc1b4cb4",
   "metadata": {},
   "outputs": [],
   "source": [
    "#todo"
   ]
  },
  {
   "cell_type": "markdown",
   "id": "d30d1e56-1ce6-48f9-89df-1064bcb5a188",
   "metadata": {},
   "source": [
    "random genes in TCGA SKCM, not in jerby-arnon:"
   ]
  },
  {
   "cell_type": "code",
   "execution_count": null,
   "id": "eadfe293-37e8-43aa-a0de-3238cbdfe426",
   "metadata": {
    "tags": []
   },
   "outputs": [],
   "source": [
    "#todo"
   ]
  },
  {
   "cell_type": "markdown",
   "id": "148b867a-d74c-45ba-a12c-a4f0d5b060dd",
   "metadata": {
    "tags": []
   },
   "source": [
    "# output 1: check distribution (in silico vs real)"
   ]
  },
  {
   "cell_type": "markdown",
   "id": "4d554ac1-6b8d-4a12-8fc6-b91a9c128ecf",
   "metadata": {
    "execution": {
     "iopub.execute_input": "2022-01-27T16:10:58.663956Z",
     "iopub.status.busy": "2022-01-27T16:10:58.663711Z",
     "iopub.status.idle": "2022-01-27T16:10:58.667126Z",
     "shell.execute_reply": "2022-01-27T16:10:58.666555Z",
     "shell.execute_reply.started": "2022-01-27T16:10:58.663930Z"
    }
   },
   "source": [
    "## plot summary stats\n",
    "\n",
    "by gene, in silico vs real"
   ]
  },
  {
   "cell_type": "code",
   "execution_count": null,
   "id": "7ad08456-a3c4-429c-ad3e-ce75ce7d0dc2",
   "metadata": {},
   "outputs": [],
   "source": [
    "mixtures_tcga_skcm.mean(axis=1)"
   ]
  },
  {
   "cell_type": "code",
   "execution_count": null,
   "id": "574e4077-3de9-4029-9052-c61d0f088e61",
   "metadata": {
    "tags": []
   },
   "outputs": [],
   "source": [
    "def prep_for_plots(mixtures):\n",
    "    mean_expression_per_gene = mixtures_tcga_skcm.mean(axis=1)\n",
    "    return np.log(mean_expression_per_gene + 1)\n",
    "\n",
    "\n",
    "series = [\n",
    "    prep_for_plots(mixtures_tcga_skcm),\n",
    "    prep_for_plots(mixtures_in_silico),\n",
    "]"
   ]
  },
  {
   "cell_type": "code",
   "execution_count": null,
   "id": "8e3bd1fb-0a1b-4f94-a011-d42ed46a9d66",
   "metadata": {
    "tags": []
   },
   "outputs": [],
   "source": [
    "ff.create_distplot(\n",
    "    series, [\"tcga\", \"in silico\"], show_rug=False, show_hist=True\n",
    ")"
   ]
  },
  {
   "cell_type": "code",
   "execution_count": null,
   "id": "51f4aaab-f1af-481c-9ced-c91db203f8b9",
   "metadata": {
    "tags": []
   },
   "outputs": [],
   "source": [
    "def compute_means(mixtures):\n",
    "    base_means = mixtures_tcga_skcm.mean(axis=1)\n",
    "    return np.log(base_means + 1)\n",
    "\n",
    "\n",
    "mean_expressions = pd.DataFrame({\n",
    "    \"TCGA SKCM\": compute_means(mixtures_tcga_skcm),\n",
    "    \"in silico\": compute_means(mixtures_in_silico),\n",
    "})"
   ]
  },
  {
   "cell_type": "code",
   "execution_count": null,
   "id": "6f204ecb-3de5-45a9-98a7-7a2346e8e5ca",
   "metadata": {
    "tags": []
   },
   "outputs": [],
   "source": [
    "compute_means(mixtures_tcga_skcm)"
   ]
  },
  {
   "cell_type": "code",
   "execution_count": null,
   "id": "464ccbb3-50d4-4b8a-ba1a-2b4c137303f0",
   "metadata": {
    "tags": []
   },
   "outputs": [],
   "source": [
    "compute_means(mixtures_in_silico)"
   ]
  },
  {
   "cell_type": "code",
   "execution_count": null,
   "id": "19c377d8-bf05-4e63-aacf-bfefdd30b17c",
   "metadata": {
    "tags": []
   },
   "outputs": [],
   "source": [
    "px.box(compute_means(mixtures_tcga_skcm))"
   ]
  },
  {
   "cell_type": "code",
   "execution_count": null,
   "id": "8f465420-7f42-4413-bcc6-060197f86aad",
   "metadata": {},
   "outputs": [],
   "source": [
    "px.box([compute_means(mixtures_tcga_skcm), compute_means(mixtures_in_silico)])"
   ]
  },
  {
   "cell_type": "markdown",
   "id": "8611bb7e-c5a4-4d92-8214-698a9c8a2002",
   "metadata": {
    "tags": []
   },
   "source": [
    "# output 2: estimated cell type fractions"
   ]
  },
  {
   "cell_type": "markdown",
   "id": "1a96e29f-4518-431c-9844-2fbc09c20633",
   "metadata": {
    "tags": []
   },
   "source": [
    "## run cibersortx fractions on in silico mixtures"
   ]
  },
  {
   "cell_type": "code",
   "execution_count": null,
   "id": "5713c2d7-15bc-40e8-86b5-1ceb1d2ab7ff",
   "metadata": {},
   "outputs": [],
   "source": [
    "import tempfile"
   ]
  },
  {
   "cell_type": "code",
   "execution_count": null,
   "id": "f9f1434f-7a59-46b2-ab75-3acc947078b0",
   "metadata": {
    "tags": []
   },
   "outputs": [],
   "source": [
    "temp_dir = tempfile.TemporaryDirectory()\n",
    "\n",
    "print(temp_dir)"
   ]
  },
  {
   "cell_type": "code",
   "execution_count": null,
   "id": "28536f82-4e91-4616-a90e-4a22318ce3a4",
   "metadata": {
    "tags": []
   },
   "outputs": [],
   "source": [
    "from helpers.running_csx import DockerJob, Experiment, InputFile"
   ]
  },
  {
   "cell_type": "code",
   "execution_count": null,
   "id": "4589ba0e-8cd9-4b4f-8936-33c7c6a89c13",
   "metadata": {},
   "outputs": [],
   "source": [
    "experiments_root = \"gs://liulab/csx_experiments/tcga_skcm_fractions\"\n",
    "experiment = Experiment(experiments_root, \"test1\")"
   ]
  },
  {
   "cell_type": "code",
   "execution_count": null,
   "id": "53a4d485-c21a-4d00-ad01-5b2586027241",
   "metadata": {},
   "outputs": [],
   "source": [
    "!tree -h {experiment.local_path}/.."
   ]
  },
  {
   "cell_type": "code",
   "execution_count": null,
   "id": "b926493b-320d-4db5-b343-4e24c808fa56",
   "metadata": {},
   "outputs": [],
   "source": [
    "input_file_args = {\n",
    "    \"mixture\": InputFile(\"mixturestirosh.txt\", \"gs://liulab/csx_example_files/Single_Cell_RNA-Seq_Melanoma_SuppFig_3b-d/mixture_melanoma_Tirosh_SuppFig_3b-d.txt\"),\n",
    "    \"sigmatrix\": InputFile()\n",
    "}\n"
   ]
  },
  {
   "cell_type": "code",
   "execution_count": null,
   "id": "3df3f474-00a3-4ed9-b491-a5871caba34f",
   "metadata": {},
   "outputs": [],
   "source": [
    "\n",
    "job = DockerJob(temp_dir, input_file_args, other_args)\n",
    "    for copy_command in job.make_copy_commands():\n",
    "        !{copy_command}\n",
    "    !tree -h {job.path}\n",
    "    docker_command = job.make_docker_command()\n",
    "    print(docker_command)\n",
    "    !{docker_command}\n",
    "    !tree -h {job.path}\n",
    "    !gsutil -m rsync -r -d {job.path} {experiment.gcs_uri}\n"
   ]
  },
  {
   "cell_type": "markdown",
   "id": "5136aa29-b4e7-4969-b9e5-87b25c0a009a",
   "metadata": {},
   "source": [
    "### prep input files"
   ]
  },
  {
   "cell_type": "code",
   "execution_count": null,
   "id": "ff43c2e8-8d65-4baf-9c6e-b982b6062e88",
   "metadata": {},
   "outputs": [],
   "source": [
    "from helpers.csx_docker import save_valid_mixture_file, save_valid_fractions_file\n",
    "\n",
    "with open(\"mixture.txt\", \"w\") as f:\n",
    "    save_valid_mixture_file(mixtures, f)\n",
    "with open(\"fractions.txt\", \"w\") as f:\n",
    "    save_valid_fractions_file(fractions, f)"
   ]
  },
  {
   "cell_type": "markdown",
   "id": "eaab4403-1bc2-4300-89f4-e83b1833b1df",
   "metadata": {},
   "source": [
    "### run cibersortx"
   ]
  },
  {
   "cell_type": "code",
   "execution_count": null,
   "id": "3c27eca3-6dd8-4cc6-80a1-e6ea5e269ea3",
   "metadata": {},
   "outputs": [],
   "source": [
    "run_csx(path='...')"
   ]
  },
  {
   "cell_type": "markdown",
   "id": "f3b13e9b-71e9-4ae6-b48d-6d9c30bb8e66",
   "metadata": {},
   "source": [
    "### load and process outputs"
   ]
  },
  {
   "cell_type": "markdown",
   "id": "62cd8005-3307-4d03-87c0-97eaeea6fea3",
   "metadata": {},
   "source": [
    "## evaluate results"
   ]
  },
  {
   "cell_type": "code",
   "execution_count": null,
   "id": "ba025ac0-293b-48a1-a2d3-5cff1fa04918",
   "metadata": {},
   "outputs": [],
   "source": []
  },
  {
   "cell_type": "markdown",
   "id": "5481aa5b-df7d-456e-93ee-1ced0ec3fcc8",
   "metadata": {
    "tags": []
   },
   "source": [
    "# output 3: estimated gene expression by cell type"
   ]
  },
  {
   "cell_type": "markdown",
   "id": "1d83d7d9-890d-4521-badd-9cb5584493c6",
   "metadata": {
    "tags": []
   },
   "source": [
    "## run cibersortx expression imputation on in silico mixtures"
   ]
  },
  {
   "cell_type": "markdown",
   "id": "4961d5b9-3d8e-4c42-a173-9778f4e2159d",
   "metadata": {},
   "source": [
    "## volcano plot outputs"
   ]
  },
  {
   "cell_type": "code",
   "execution_count": null,
   "id": "ad6da47b-06c6-4a55-b86e-14fb17f3946b",
   "metadata": {
    "tags": []
   },
   "outputs": [],
   "source": [
    "# for each cell type, scatter plot (effect_size, p_value) for each gene"
   ]
  }
 ],
 "metadata": {
  "environment": {
   "kernel": "conda-env-py39-py",
   "name": "common-cpu.m84",
   "type": "gcloud",
   "uri": "gcr.io/deeplearning-platform-release/base-cpu:m84"
  },
  "kernelspec": {
   "display_name": "Python [conda env:py39]",
   "language": "python",
   "name": "conda-env-py39-py"
  },
  "language_info": {
   "codemirror_mode": {
    "name": "ipython",
    "version": 3
   },
   "file_extension": ".py",
   "mimetype": "text/x-python",
   "name": "python",
   "nbconvert_exporter": "python",
   "pygments_lexer": "ipython3",
   "version": "3.9.9"
  }
 },
 "nbformat": 4,
 "nbformat_minor": 5
}
