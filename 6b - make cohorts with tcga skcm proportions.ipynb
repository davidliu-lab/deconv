{
 "cells": [
  {
   "cell_type": "code",
   "execution_count": 1,
   "id": "bebc6010-0ef4-41a5-b2f7-56dedd0fa0c9",
   "metadata": {
    "execution": {
     "iopub.execute_input": "2022-01-27T23:28:16.087117Z",
     "iopub.status.busy": "2022-01-27T23:28:16.086448Z",
     "iopub.status.idle": "2022-01-27T23:28:16.345204Z",
     "shell.execute_reply": "2022-01-27T23:28:16.344437Z",
     "shell.execute_reply.started": "2022-01-27T23:28:16.086999Z"
    },
    "tags": []
   },
   "outputs": [],
   "source": [
    "import numpy as np\n",
    "import pandas as pd\n",
    "\n",
    "from helpers.cell_type_naming import weird_to_nice\n",
    "from helpers import creating_mixtures\n",
    "from helpers.loading_single_cell_cohorts import load_tirosh"
   ]
  },
  {
   "cell_type": "code",
   "execution_count": 2,
   "id": "edc4bf90-4a24-49f8-a8ef-98006161fe2d",
   "metadata": {
    "execution": {
     "iopub.execute_input": "2022-01-27T23:28:16.346517Z",
     "iopub.status.busy": "2022-01-27T23:28:16.346264Z",
     "iopub.status.idle": "2022-01-27T23:28:16.496871Z",
     "shell.execute_reply": "2022-01-27T23:28:16.495844Z",
     "shell.execute_reply.started": "2022-01-27T23:28:16.346485Z"
    }
   },
   "outputs": [],
   "source": [
    "import plotly.express as px\n",
    "import plotly.graph_objects as go\n",
    "import plotly.io\n",
    "\n",
    "plotly.io.renderers.default = \"jupyterlab+png\""
   ]
  },
  {
   "cell_type": "code",
   "execution_count": 3,
   "id": "a1d85463-790a-45ec-8f25-fc518598cf97",
   "metadata": {
    "execution": {
     "iopub.execute_input": "2022-01-27T23:28:16.499480Z",
     "iopub.status.busy": "2022-01-27T23:28:16.499207Z",
     "iopub.status.idle": "2022-01-27T23:28:16.504427Z",
     "shell.execute_reply": "2022-01-27T23:28:16.503671Z",
     "shell.execute_reply.started": "2022-01-27T23:28:16.499432Z"
    },
    "tags": []
   },
   "outputs": [],
   "source": [
    "rng = np.random.default_rng(seed=0)"
   ]
  },
  {
   "cell_type": "markdown",
   "id": "7c3abf98-2439-4a3a-9e1e-1311bdd9a78c",
   "metadata": {},
   "source": [
    "# load & prep data"
   ]
  },
  {
   "cell_type": "code",
   "execution_count": 4,
   "id": "717ccd29-ccc3-4d6f-b15e-e5ebbe7c7e3a",
   "metadata": {
    "execution": {
     "iopub.execute_input": "2022-01-27T23:28:16.506045Z",
     "iopub.status.busy": "2022-01-27T23:28:16.505813Z",
     "iopub.status.idle": "2022-01-27T23:28:18.779420Z",
     "shell.execute_reply": "2022-01-27T23:28:18.778630Z",
     "shell.execute_reply.started": "2022-01-27T23:28:16.506014Z"
    }
   },
   "outputs": [
    {
     "name": "stdout",
     "output_type": "stream",
     "text": [
      "gs://liulab/downloaded_manually/derek_csx_tcga_skcm/CIBERSORTx_Job6_cell_type_sourceGEP.txt\n",
      "gs://liulab/downloaded_manually/derek_csx_tcga_skcm/CIBERSORTx_Job6_jerbyarnon_for_cibersortx_sigmatrix_inferred_phenoclasses.CIBERSORTx_Job6_jerbyarnon_for_cibersortx_sigmatrix_inferred_refsample.bm.K999.txt\n",
      "gs://liulab/downloaded_manually/derek_csx_tcga_skcm/CIBERSORTx_Job7_Results.csv\n",
      "gs://liulab/downloaded_manually/derek_csx_tcga_skcm/CIBERSORTx_Job7_Results.html\n",
      "gs://liulab/downloaded_manually/derek_csx_tcga_skcm/CIBERSORTx_Job7_Results.pdf\n",
      "gs://liulab/downloaded_manually/derek_csx_tcga_skcm/CIBERSORTx_Job7_Results.txt\n",
      "gs://liulab/downloaded_manually/derek_csx_tcga_skcm/CIBERSORTx_Job7_error_log.txt\n",
      "gs://liulab/downloaded_manually/derek_csx_tcga_skcm/CIBERSORTx_Job7_jerbyarnon_for_cibersortx_sigmatrix_inferred_phenoclasses.CIBERSORTx_Job7_jerbyarnon_for_cibersortx_sigmatrix_inferred_refsample.bm.K999.txt\n",
      "gs://liulab/downloaded_manually/derek_csx_tcga_skcm/CIBERSORTx_Job7_runtime_log.txt\n",
      "gs://liulab/downloaded_manually/derek_csx_tcga_skcm/CIBERSORTx_Job8_Results.csv\n",
      "gs://liulab/downloaded_manually/derek_csx_tcga_skcm/CIBERSORTx_Job8_Results.html\n",
      "gs://liulab/downloaded_manually/derek_csx_tcga_skcm/CIBERSORTx_Job8_Results.pdf\n",
      "gs://liulab/downloaded_manually/derek_csx_tcga_skcm/CIBERSORTx_Job8_Results.txt\n",
      "gs://liulab/downloaded_manually/derek_csx_tcga_skcm/CIBERSORTx_Job8_error_log.txt\n",
      "gs://liulab/downloaded_manually/derek_csx_tcga_skcm/CIBERSORTx_Job8_runtime_log.txt\n",
      "gs://liulab/downloaded_manually/derek_csx_tcga_skcm/skcm_rnaseqv2_normalized_clean.txt\n"
     ]
    }
   ],
   "source": [
    "!gsutil ls gs://liulab/downloaded_manually/derek_csx_tcga_skcm"
   ]
  },
  {
   "cell_type": "markdown",
   "id": "22a5140c-e508-47e4-b357-387588440163",
   "metadata": {
    "tags": []
   },
   "source": [
    "## load (real) TCGA SKCM mixtures"
   ]
  },
  {
   "cell_type": "code",
   "execution_count": 5,
   "id": "ef32742d-2541-4bbd-b043-d65a6292aeac",
   "metadata": {
    "execution": {
     "iopub.execute_input": "2022-01-27T23:28:18.781994Z",
     "iopub.status.busy": "2022-01-27T23:28:18.781735Z",
     "iopub.status.idle": "2022-01-27T23:28:18.788295Z",
     "shell.execute_reply": "2022-01-27T23:28:18.787532Z",
     "shell.execute_reply.started": "2022-01-27T23:28:18.781961Z"
    }
   },
   "outputs": [],
   "source": [
    "# mixtures_tcga_skcm = helpers.datasets.load_tcga_skcm_mixtures()"
   ]
  },
  {
   "cell_type": "code",
   "execution_count": 6,
   "id": "7152ec65-7cca-4691-a98d-02a95e43d8f4",
   "metadata": {
    "execution": {
     "iopub.execute_input": "2022-01-27T23:28:18.790437Z",
     "iopub.status.busy": "2022-01-27T23:28:18.790174Z",
     "iopub.status.idle": "2022-01-27T23:28:22.105870Z",
     "shell.execute_reply": "2022-01-27T23:28:22.105179Z",
     "shell.execute_reply.started": "2022-01-27T23:28:18.790391Z"
    },
    "tags": []
   },
   "outputs": [],
   "source": [
    "path = \"gs://liulab/downloaded_manually/derek_csx_tcga_skcm/skcm_rnaseqv2_normalized_clean.txt\"\n",
    "\n",
    "mixtures_tcga_skcm = pd.read_csv(\n",
    "    path,\n",
    "    sep=\"\\t\",\n",
    "    # nrows=10,\n",
    "    index_col=0\n",
    ")"
   ]
  },
  {
   "cell_type": "code",
   "execution_count": 7,
   "id": "2acbfd1e-3da8-43e0-b8c9-e39ed22d5a9e",
   "metadata": {
    "execution": {
     "iopub.execute_input": "2022-01-27T23:28:22.107500Z",
     "iopub.status.busy": "2022-01-27T23:28:22.107255Z",
     "iopub.status.idle": "2022-01-27T23:28:22.145462Z",
     "shell.execute_reply": "2022-01-27T23:28:22.144727Z",
     "shell.execute_reply.started": "2022-01-27T23:28:22.107466Z"
    },
    "tags": []
   },
   "outputs": [
    {
     "data": {
      "text/html": [
       "<div>\n",
       "<style scoped>\n",
       "    .dataframe tbody tr th:only-of-type {\n",
       "        vertical-align: middle;\n",
       "    }\n",
       "\n",
       "    .dataframe tbody tr th {\n",
       "        vertical-align: top;\n",
       "    }\n",
       "\n",
       "    .dataframe thead th {\n",
       "        text-align: right;\n",
       "    }\n",
       "</style>\n",
       "<table border=\"1\" class=\"dataframe\">\n",
       "  <thead>\n",
       "    <tr style=\"text-align: right;\">\n",
       "      <th></th>\n",
       "      <th>TCGA.3N.A9WB.06A.11R.A38C.07</th>\n",
       "      <th>TCGA.3N.A9WC.06A.11R.A38C.07</th>\n",
       "      <th>TCGA.3N.A9WD.06A.11R.A38C.07</th>\n",
       "      <th>TCGA.BF.A1PU.01A.11R.A18S.07</th>\n",
       "      <th>TCGA.BF.A1PV.01A.11R.A18U.07</th>\n",
       "      <th>TCGA.BF.A1PX.01A.12R.A18T.07</th>\n",
       "      <th>TCGA.BF.A1PZ.01A.11R.A18S.07</th>\n",
       "      <th>TCGA.BF.A1Q0.01A.21R.A18S.07</th>\n",
       "      <th>TCGA.BF.A3DJ.01A.11R.A20F.07</th>\n",
       "      <th>TCGA.BF.A3DL.01A.11R.A20F.07</th>\n",
       "      <th>...</th>\n",
       "      <th>TCGA.XV.AB01.06A.12R.A40A.07</th>\n",
       "      <th>TCGA.YD.A89C.06A.11R.A37K.07</th>\n",
       "      <th>TCGA.YD.A9TA.06A.11R.A39D.07</th>\n",
       "      <th>TCGA.YD.A9TB.06A.12R.A40A.07</th>\n",
       "      <th>TCGA.YG.AA3N.01A.11R.A38C.07</th>\n",
       "      <th>TCGA.YG.AA3O.06A.11R.A38C.07</th>\n",
       "      <th>TCGA.YG.AA3P.06A.11R.A38C.07</th>\n",
       "      <th>TCGA.Z2.A8RT.06A.11R.A37K.07</th>\n",
       "      <th>TCGA.Z2.AA3S.06A.11R.A39D.07</th>\n",
       "      <th>TCGA.Z2.AA3V.06A.11R.A39D.07</th>\n",
       "    </tr>\n",
       "    <tr>\n",
       "      <th>gene_id</th>\n",
       "      <th></th>\n",
       "      <th></th>\n",
       "      <th></th>\n",
       "      <th></th>\n",
       "      <th></th>\n",
       "      <th></th>\n",
       "      <th></th>\n",
       "      <th></th>\n",
       "      <th></th>\n",
       "      <th></th>\n",
       "      <th></th>\n",
       "      <th></th>\n",
       "      <th></th>\n",
       "      <th></th>\n",
       "      <th></th>\n",
       "      <th></th>\n",
       "      <th></th>\n",
       "      <th></th>\n",
       "      <th></th>\n",
       "      <th></th>\n",
       "      <th></th>\n",
       "    </tr>\n",
       "  </thead>\n",
       "  <tbody>\n",
       "    <tr>\n",
       "      <th>A1BG</th>\n",
       "      <td>381.0662</td>\n",
       "      <td>195.1822</td>\n",
       "      <td>360.8794</td>\n",
       "      <td>176.3994</td>\n",
       "      <td>216.8470</td>\n",
       "      <td>285.0608</td>\n",
       "      <td>424.5848</td>\n",
       "      <td>327.8758</td>\n",
       "      <td>232.2936</td>\n",
       "      <td>380.7694</td>\n",
       "      <td>...</td>\n",
       "      <td>428.9256</td>\n",
       "      <td>184.5297</td>\n",
       "      <td>88.4289</td>\n",
       "      <td>264.5184</td>\n",
       "      <td>238.8846</td>\n",
       "      <td>207.9831</td>\n",
       "      <td>33.5642</td>\n",
       "      <td>336.4070</td>\n",
       "      <td>349.4478</td>\n",
       "      <td>717.2209</td>\n",
       "    </tr>\n",
       "    <tr>\n",
       "      <th>A1CF</th>\n",
       "      <td>0.0000</td>\n",
       "      <td>0.0000</td>\n",
       "      <td>0.7092</td>\n",
       "      <td>0.0000</td>\n",
       "      <td>0.0000</td>\n",
       "      <td>0.0000</td>\n",
       "      <td>0.0000</td>\n",
       "      <td>0.0000</td>\n",
       "      <td>0.0000</td>\n",
       "      <td>0.0000</td>\n",
       "      <td>...</td>\n",
       "      <td>0.0000</td>\n",
       "      <td>0.0000</td>\n",
       "      <td>1.3482</td>\n",
       "      <td>0.0000</td>\n",
       "      <td>0.0000</td>\n",
       "      <td>0.0000</td>\n",
       "      <td>0.0000</td>\n",
       "      <td>0.3876</td>\n",
       "      <td>0.0000</td>\n",
       "      <td>0.0000</td>\n",
       "    </tr>\n",
       "    <tr>\n",
       "      <th>A2BP1</th>\n",
       "      <td>0.0000</td>\n",
       "      <td>0.0000</td>\n",
       "      <td>6.3830</td>\n",
       "      <td>1.2987</td>\n",
       "      <td>0.0000</td>\n",
       "      <td>0.0000</td>\n",
       "      <td>0.0000</td>\n",
       "      <td>0.0000</td>\n",
       "      <td>0.0000</td>\n",
       "      <td>0.4901</td>\n",
       "      <td>...</td>\n",
       "      <td>0.0000</td>\n",
       "      <td>0.0000</td>\n",
       "      <td>0.0000</td>\n",
       "      <td>0.0000</td>\n",
       "      <td>0.5522</td>\n",
       "      <td>0.3380</td>\n",
       "      <td>66.0629</td>\n",
       "      <td>0.0000</td>\n",
       "      <td>0.2880</td>\n",
       "      <td>0.6539</td>\n",
       "    </tr>\n",
       "    <tr>\n",
       "      <th>A2LD1</th>\n",
       "      <td>250.1979</td>\n",
       "      <td>160.7548</td>\n",
       "      <td>97.1986</td>\n",
       "      <td>163.2338</td>\n",
       "      <td>60.8727</td>\n",
       "      <td>125.6900</td>\n",
       "      <td>78.8939</td>\n",
       "      <td>67.7049</td>\n",
       "      <td>92.9554</td>\n",
       "      <td>99.8579</td>\n",
       "      <td>...</td>\n",
       "      <td>47.5207</td>\n",
       "      <td>102.4404</td>\n",
       "      <td>36.9476</td>\n",
       "      <td>146.3544</td>\n",
       "      <td>88.2441</td>\n",
       "      <td>86.2831</td>\n",
       "      <td>50.0426</td>\n",
       "      <td>37.3178</td>\n",
       "      <td>152.9786</td>\n",
       "      <td>50.7438</td>\n",
       "    </tr>\n",
       "    <tr>\n",
       "      <th>A2M</th>\n",
       "      <td>2209.5194</td>\n",
       "      <td>169236.6356</td>\n",
       "      <td>18257.8865</td>\n",
       "      <td>6716.4513</td>\n",
       "      <td>1740.5828</td>\n",
       "      <td>32098.0014</td>\n",
       "      <td>3218.6418</td>\n",
       "      <td>6468.7807</td>\n",
       "      <td>377755.5402</td>\n",
       "      <td>7726.0377</td>\n",
       "      <td>...</td>\n",
       "      <td>17450.3581</td>\n",
       "      <td>20639.7659</td>\n",
       "      <td>12397.0606</td>\n",
       "      <td>25477.7594</td>\n",
       "      <td>10300.9056</td>\n",
       "      <td>37319.7533</td>\n",
       "      <td>8217.0591</td>\n",
       "      <td>22129.9496</td>\n",
       "      <td>4040.2938</td>\n",
       "      <td>46111.4664</td>\n",
       "    </tr>\n",
       "    <tr>\n",
       "      <th>...</th>\n",
       "      <td>...</td>\n",
       "      <td>...</td>\n",
       "      <td>...</td>\n",
       "      <td>...</td>\n",
       "      <td>...</td>\n",
       "      <td>...</td>\n",
       "      <td>...</td>\n",
       "      <td>...</td>\n",
       "      <td>...</td>\n",
       "      <td>...</td>\n",
       "      <td>...</td>\n",
       "      <td>...</td>\n",
       "      <td>...</td>\n",
       "      <td>...</td>\n",
       "      <td>...</td>\n",
       "      <td>...</td>\n",
       "      <td>...</td>\n",
       "      <td>...</td>\n",
       "      <td>...</td>\n",
       "      <td>...</td>\n",
       "      <td>...</td>\n",
       "    </tr>\n",
       "    <tr>\n",
       "      <th>ZYG11A</th>\n",
       "      <td>7.2698</td>\n",
       "      <td>0.8030</td>\n",
       "      <td>15.6028</td>\n",
       "      <td>0.0000</td>\n",
       "      <td>0.0000</td>\n",
       "      <td>5.5613</td>\n",
       "      <td>1.2222</td>\n",
       "      <td>9.5047</td>\n",
       "      <td>1.7232</td>\n",
       "      <td>0.0000</td>\n",
       "      <td>...</td>\n",
       "      <td>0.0000</td>\n",
       "      <td>0.4335</td>\n",
       "      <td>1.0112</td>\n",
       "      <td>0.0000</td>\n",
       "      <td>0.5522</td>\n",
       "      <td>1.0139</td>\n",
       "      <td>0.0000</td>\n",
       "      <td>1.9380</td>\n",
       "      <td>0.0000</td>\n",
       "      <td>0.0000</td>\n",
       "    </tr>\n",
       "    <tr>\n",
       "      <th>ZYG11B</th>\n",
       "      <td>644.5880</td>\n",
       "      <td>690.1536</td>\n",
       "      <td>849.6454</td>\n",
       "      <td>436.0390</td>\n",
       "      <td>991.6318</td>\n",
       "      <td>500.5214</td>\n",
       "      <td>737.6060</td>\n",
       "      <td>1013.4790</td>\n",
       "      <td>945.7177</td>\n",
       "      <td>180.8380</td>\n",
       "      <td>...</td>\n",
       "      <td>146.0055</td>\n",
       "      <td>760.7282</td>\n",
       "      <td>917.7922</td>\n",
       "      <td>1028.7387</td>\n",
       "      <td>565.4335</td>\n",
       "      <td>994.0008</td>\n",
       "      <td>922.2163</td>\n",
       "      <td>478.2946</td>\n",
       "      <td>1629.4910</td>\n",
       "      <td>75.8542</td>\n",
       "    </tr>\n",
       "    <tr>\n",
       "      <th>ZYX</th>\n",
       "      <td>1236.2682</td>\n",
       "      <td>3594.4996</td>\n",
       "      <td>3270.2128</td>\n",
       "      <td>5132.1429</td>\n",
       "      <td>5128.2128</td>\n",
       "      <td>4675.7039</td>\n",
       "      <td>3177.7557</td>\n",
       "      <td>10974.0171</td>\n",
       "      <td>3042.2195</td>\n",
       "      <td>7198.7258</td>\n",
       "      <td>...</td>\n",
       "      <td>11526.1708</td>\n",
       "      <td>5296.0555</td>\n",
       "      <td>3701.5035</td>\n",
       "      <td>3021.2879</td>\n",
       "      <td>10181.1154</td>\n",
       "      <td>3125.3063</td>\n",
       "      <td>1925.4129</td>\n",
       "      <td>2865.1163</td>\n",
       "      <td>2136.9429</td>\n",
       "      <td>11832.5977</td>\n",
       "    </tr>\n",
       "    <tr>\n",
       "      <th>ZZEF1</th>\n",
       "      <td>622.7787</td>\n",
       "      <td>883.6696</td>\n",
       "      <td>1105.6738</td>\n",
       "      <td>1796.1039</td>\n",
       "      <td>1097.4298</td>\n",
       "      <td>1398.3316</td>\n",
       "      <td>1648.7663</td>\n",
       "      <td>1287.7062</td>\n",
       "      <td>1335.5161</td>\n",
       "      <td>1472.6783</td>\n",
       "      <td>...</td>\n",
       "      <td>1464.1873</td>\n",
       "      <td>852.6225</td>\n",
       "      <td>1245.0696</td>\n",
       "      <td>1078.7653</td>\n",
       "      <td>2362.7830</td>\n",
       "      <td>2671.3984</td>\n",
       "      <td>1480.5541</td>\n",
       "      <td>1849.6124</td>\n",
       "      <td>1640.4349</td>\n",
       "      <td>1413.1110</td>\n",
       "    </tr>\n",
       "    <tr>\n",
       "      <th>ZZZ3</th>\n",
       "      <td>721.3247</td>\n",
       "      <td>1137.8099</td>\n",
       "      <td>769.5035</td>\n",
       "      <td>286.0390</td>\n",
       "      <td>1658.9958</td>\n",
       "      <td>521.0288</td>\n",
       "      <td>651.4399</td>\n",
       "      <td>858.2361</td>\n",
       "      <td>962.2609</td>\n",
       "      <td>300.9066</td>\n",
       "      <td>...</td>\n",
       "      <td>224.5179</td>\n",
       "      <td>743.3897</td>\n",
       "      <td>958.9125</td>\n",
       "      <td>741.8840</td>\n",
       "      <td>1066.8139</td>\n",
       "      <td>940.5999</td>\n",
       "      <td>1003.7294</td>\n",
       "      <td>454.2636</td>\n",
       "      <td>1452.3724</td>\n",
       "      <td>102.0108</td>\n",
       "    </tr>\n",
       "  </tbody>\n",
       "</table>\n",
       "<p>20531 rows × 473 columns</p>\n",
       "</div>"
      ],
      "text/plain": [
       "         TCGA.3N.A9WB.06A.11R.A38C.07  TCGA.3N.A9WC.06A.11R.A38C.07  \\\n",
       "gene_id                                                               \n",
       "A1BG                         381.0662                      195.1822   \n",
       "A1CF                           0.0000                        0.0000   \n",
       "A2BP1                          0.0000                        0.0000   \n",
       "A2LD1                        250.1979                      160.7548   \n",
       "A2M                         2209.5194                   169236.6356   \n",
       "...                               ...                           ...   \n",
       "ZYG11A                         7.2698                        0.8030   \n",
       "ZYG11B                       644.5880                      690.1536   \n",
       "ZYX                         1236.2682                     3594.4996   \n",
       "ZZEF1                        622.7787                      883.6696   \n",
       "ZZZ3                         721.3247                     1137.8099   \n",
       "\n",
       "         TCGA.3N.A9WD.06A.11R.A38C.07  TCGA.BF.A1PU.01A.11R.A18S.07  \\\n",
       "gene_id                                                               \n",
       "A1BG                         360.8794                      176.3994   \n",
       "A1CF                           0.7092                        0.0000   \n",
       "A2BP1                          6.3830                        1.2987   \n",
       "A2LD1                         97.1986                      163.2338   \n",
       "A2M                        18257.8865                     6716.4513   \n",
       "...                               ...                           ...   \n",
       "ZYG11A                        15.6028                        0.0000   \n",
       "ZYG11B                       849.6454                      436.0390   \n",
       "ZYX                         3270.2128                     5132.1429   \n",
       "ZZEF1                       1105.6738                     1796.1039   \n",
       "ZZZ3                         769.5035                      286.0390   \n",
       "\n",
       "         TCGA.BF.A1PV.01A.11R.A18U.07  TCGA.BF.A1PX.01A.12R.A18T.07  \\\n",
       "gene_id                                                               \n",
       "A1BG                         216.8470                      285.0608   \n",
       "A1CF                           0.0000                        0.0000   \n",
       "A2BP1                          0.0000                        0.0000   \n",
       "A2LD1                         60.8727                      125.6900   \n",
       "A2M                         1740.5828                    32098.0014   \n",
       "...                               ...                           ...   \n",
       "ZYG11A                         0.0000                        5.5613   \n",
       "ZYG11B                       991.6318                      500.5214   \n",
       "ZYX                         5128.2128                     4675.7039   \n",
       "ZZEF1                       1097.4298                     1398.3316   \n",
       "ZZZ3                        1658.9958                      521.0288   \n",
       "\n",
       "         TCGA.BF.A1PZ.01A.11R.A18S.07  TCGA.BF.A1Q0.01A.21R.A18S.07  \\\n",
       "gene_id                                                               \n",
       "A1BG                         424.5848                      327.8758   \n",
       "A1CF                           0.0000                        0.0000   \n",
       "A2BP1                          0.0000                        0.0000   \n",
       "A2LD1                         78.8939                       67.7049   \n",
       "A2M                         3218.6418                     6468.7807   \n",
       "...                               ...                           ...   \n",
       "ZYG11A                         1.2222                        9.5047   \n",
       "ZYG11B                       737.6060                     1013.4790   \n",
       "ZYX                         3177.7557                    10974.0171   \n",
       "ZZEF1                       1648.7663                     1287.7062   \n",
       "ZZZ3                         651.4399                      858.2361   \n",
       "\n",
       "         TCGA.BF.A3DJ.01A.11R.A20F.07  TCGA.BF.A3DL.01A.11R.A20F.07  ...  \\\n",
       "gene_id                                                              ...   \n",
       "A1BG                         232.2936                      380.7694  ...   \n",
       "A1CF                           0.0000                        0.0000  ...   \n",
       "A2BP1                          0.0000                        0.4901  ...   \n",
       "A2LD1                         92.9554                       99.8579  ...   \n",
       "A2M                       377755.5402                     7726.0377  ...   \n",
       "...                               ...                           ...  ...   \n",
       "ZYG11A                         1.7232                        0.0000  ...   \n",
       "ZYG11B                       945.7177                      180.8380  ...   \n",
       "ZYX                         3042.2195                     7198.7258  ...   \n",
       "ZZEF1                       1335.5161                     1472.6783  ...   \n",
       "ZZZ3                         962.2609                      300.9066  ...   \n",
       "\n",
       "         TCGA.XV.AB01.06A.12R.A40A.07  TCGA.YD.A89C.06A.11R.A37K.07  \\\n",
       "gene_id                                                               \n",
       "A1BG                         428.9256                      184.5297   \n",
       "A1CF                           0.0000                        0.0000   \n",
       "A2BP1                          0.0000                        0.0000   \n",
       "A2LD1                         47.5207                      102.4404   \n",
       "A2M                        17450.3581                    20639.7659   \n",
       "...                               ...                           ...   \n",
       "ZYG11A                         0.0000                        0.4335   \n",
       "ZYG11B                       146.0055                      760.7282   \n",
       "ZYX                        11526.1708                     5296.0555   \n",
       "ZZEF1                       1464.1873                      852.6225   \n",
       "ZZZ3                         224.5179                      743.3897   \n",
       "\n",
       "         TCGA.YD.A9TA.06A.11R.A39D.07  TCGA.YD.A9TB.06A.12R.A40A.07  \\\n",
       "gene_id                                                               \n",
       "A1BG                          88.4289                      264.5184   \n",
       "A1CF                           1.3482                        0.0000   \n",
       "A2BP1                          0.0000                        0.0000   \n",
       "A2LD1                         36.9476                      146.3544   \n",
       "A2M                        12397.0606                    25477.7594   \n",
       "...                               ...                           ...   \n",
       "ZYG11A                         1.0112                        0.0000   \n",
       "ZYG11B                       917.7922                     1028.7387   \n",
       "ZYX                         3701.5035                     3021.2879   \n",
       "ZZEF1                       1245.0696                     1078.7653   \n",
       "ZZZ3                         958.9125                      741.8840   \n",
       "\n",
       "         TCGA.YG.AA3N.01A.11R.A38C.07  TCGA.YG.AA3O.06A.11R.A38C.07  \\\n",
       "gene_id                                                               \n",
       "A1BG                         238.8846                      207.9831   \n",
       "A1CF                           0.0000                        0.0000   \n",
       "A2BP1                          0.5522                        0.3380   \n",
       "A2LD1                         88.2441                       86.2831   \n",
       "A2M                        10300.9056                    37319.7533   \n",
       "...                               ...                           ...   \n",
       "ZYG11A                         0.5522                        1.0139   \n",
       "ZYG11B                       565.4335                      994.0008   \n",
       "ZYX                        10181.1154                     3125.3063   \n",
       "ZZEF1                       2362.7830                     2671.3984   \n",
       "ZZZ3                        1066.8139                      940.5999   \n",
       "\n",
       "         TCGA.YG.AA3P.06A.11R.A38C.07  TCGA.Z2.A8RT.06A.11R.A37K.07  \\\n",
       "gene_id                                                               \n",
       "A1BG                          33.5642                      336.4070   \n",
       "A1CF                           0.0000                        0.3876   \n",
       "A2BP1                         66.0629                        0.0000   \n",
       "A2LD1                         50.0426                       37.3178   \n",
       "A2M                         8217.0591                    22129.9496   \n",
       "...                               ...                           ...   \n",
       "ZYG11A                         0.0000                        1.9380   \n",
       "ZYG11B                       922.2163                      478.2946   \n",
       "ZYX                         1925.4129                     2865.1163   \n",
       "ZZEF1                       1480.5541                     1849.6124   \n",
       "ZZZ3                        1003.7294                      454.2636   \n",
       "\n",
       "         TCGA.Z2.AA3S.06A.11R.A39D.07  TCGA.Z2.AA3V.06A.11R.A39D.07  \n",
       "gene_id                                                              \n",
       "A1BG                         349.4478                      717.2209  \n",
       "A1CF                           0.0000                        0.0000  \n",
       "A2BP1                          0.2880                        0.6539  \n",
       "A2LD1                        152.9786                       50.7438  \n",
       "A2M                         4040.2938                    46111.4664  \n",
       "...                               ...                           ...  \n",
       "ZYG11A                         0.0000                        0.0000  \n",
       "ZYG11B                      1629.4910                       75.8542  \n",
       "ZYX                         2136.9429                    11832.5977  \n",
       "ZZEF1                       1640.4349                     1413.1110  \n",
       "ZZZ3                        1452.3724                      102.0108  \n",
       "\n",
       "[20531 rows x 473 columns]"
      ]
     },
     "execution_count": 7,
     "metadata": {},
     "output_type": "execute_result"
    }
   ],
   "source": [
    "mixtures_tcga_skcm"
   ]
  },
  {
   "cell_type": "markdown",
   "id": "034ac5ec-9fa5-4615-8108-5a2e2e773b71",
   "metadata": {},
   "source": [
    "## generate in silico mixtures"
   ]
  },
  {
   "cell_type": "markdown",
   "id": "b479e1db-3220-4b12-9504-67e0abf14e0a",
   "metadata": {
    "tags": []
   },
   "source": [
    "### load single cell cohort (Jerby-Arnon)"
   ]
  },
  {
   "cell_type": "code",
   "execution_count": 8,
   "id": "6b8d229f-a7a6-483e-8497-2811502a1ea5",
   "metadata": {
    "execution": {
     "iopub.execute_input": "2022-01-27T23:28:22.147058Z",
     "iopub.status.busy": "2022-01-27T23:28:22.146822Z",
     "iopub.status.idle": "2022-01-27T23:29:07.540529Z",
     "shell.execute_reply": "2022-01-27T23:29:07.539817Z",
     "shell.execute_reply.started": "2022-01-27T23:28:22.147026Z"
    },
    "tags": []
   },
   "outputs": [
    {
     "name": "stdout",
     "output_type": "stream",
     "text": [
      "CPU times: user 3 µs, sys: 0 ns, total: 3 µs\n",
      "Wall time: 6.44 µs\n"
     ]
    }
   ],
   "source": [
    "%time\n",
    "\n",
    "sc_data, sc_metadata = load_tirosh(\n",
    "    # n_genes_if_not_all=100\n",
    ")"
   ]
  },
  {
   "cell_type": "code",
   "execution_count": 9,
   "id": "1bc534fa-05c9-4164-8490-cce2a7ecadd6",
   "metadata": {
    "execution": {
     "iopub.execute_input": "2022-01-27T23:29:07.542058Z",
     "iopub.status.busy": "2022-01-27T23:29:07.541819Z",
     "iopub.status.idle": "2022-01-27T23:29:07.575586Z",
     "shell.execute_reply": "2022-01-27T23:29:07.574878Z",
     "shell.execute_reply.started": "2022-01-27T23:29:07.542025Z"
    },
    "tags": []
   },
   "outputs": [
    {
     "data": {
      "text/html": [
       "<div>\n",
       "<style scoped>\n",
       "    .dataframe tbody tr th:only-of-type {\n",
       "        vertical-align: middle;\n",
       "    }\n",
       "\n",
       "    .dataframe tbody tr th {\n",
       "        vertical-align: top;\n",
       "    }\n",
       "\n",
       "    .dataframe thead th {\n",
       "        text-align: right;\n",
       "    }\n",
       "</style>\n",
       "<table border=\"1\" class=\"dataframe\">\n",
       "  <thead>\n",
       "    <tr style=\"text-align: right;\">\n",
       "      <th>cells</th>\n",
       "      <th>cy78_CD45_neg_1_B04_S496_comb</th>\n",
       "      <th>cy79_p4_CD45_neg_PDL1_neg_E11_S1115_comb</th>\n",
       "      <th>CY88_5_B10_S694_comb</th>\n",
       "      <th>cy79_p1_CD45_neg_PDL1_pos_AS_C1_R1_F07_S67_comb</th>\n",
       "      <th>cy78_CD45_neg_3_H06_S762_comb</th>\n",
       "      <th>cy79_p1_CD45_neg_PDL1_pos_AS_C1_R1_G01_S73_comb</th>\n",
       "      <th>cy79_p1_CD45_neg_PDL1_neg_AS_C4_R1_D09_S141_comb</th>\n",
       "      <th>CY88_3_D02_S614_comb</th>\n",
       "      <th>cy79_p1_CD45_neg_PDL1_neg_AS_C4_R1_D06_S138_comb</th>\n",
       "      <th>cy53_1_CD45_neg_C06_S318_comb</th>\n",
       "      <th>...</th>\n",
       "      <th>monika_C11_S119_comb_BCD8_3</th>\n",
       "      <th>CY75_1_CD45_CD8_8__S331_comb_BCD8</th>\n",
       "      <th>CY75_1_CD45_CD8_7__S210_comb_BCD8</th>\n",
       "      <th>CY75_1_CD45_CD8_3__S142_comb_BCD8</th>\n",
       "      <th>CY75_1_CD45_CD8_7__S280_comb_BCD8</th>\n",
       "      <th>CY75_1_CD45_CD8_3__S168_comb_BCD8</th>\n",
       "      <th>CY75_1_CD45_CD8_8__S338_comb_BCD8</th>\n",
       "      <th>monika_D7_S132_comb_BCD8_3</th>\n",
       "      <th>CY75_1_CD45_CD8_8__S289_comb_BCD8</th>\n",
       "      <th>CY75_1_CD45_CD8_8__S351_comb_BCD8</th>\n",
       "    </tr>\n",
       "    <tr>\n",
       "      <th>GeneSymbol</th>\n",
       "      <th></th>\n",
       "      <th></th>\n",
       "      <th></th>\n",
       "      <th></th>\n",
       "      <th></th>\n",
       "      <th></th>\n",
       "      <th></th>\n",
       "      <th></th>\n",
       "      <th></th>\n",
       "      <th></th>\n",
       "      <th></th>\n",
       "      <th></th>\n",
       "      <th></th>\n",
       "      <th></th>\n",
       "      <th></th>\n",
       "      <th></th>\n",
       "      <th></th>\n",
       "      <th></th>\n",
       "      <th></th>\n",
       "      <th></th>\n",
       "      <th></th>\n",
       "    </tr>\n",
       "  </thead>\n",
       "  <tbody>\n",
       "    <tr>\n",
       "      <th>C9orf152</th>\n",
       "      <td>0.000000</td>\n",
       "      <td>0.000000</td>\n",
       "      <td>0.000000</td>\n",
       "      <td>0.000000</td>\n",
       "      <td>0.000000</td>\n",
       "      <td>0.000000</td>\n",
       "      <td>0.000000</td>\n",
       "      <td>0.000000</td>\n",
       "      <td>0.000000</td>\n",
       "      <td>0.000000</td>\n",
       "      <td>...</td>\n",
       "      <td>0.000000</td>\n",
       "      <td>0.000000</td>\n",
       "      <td>0.000000</td>\n",
       "      <td>0.000000</td>\n",
       "      <td>0.000000</td>\n",
       "      <td>0.000000</td>\n",
       "      <td>0.000000</td>\n",
       "      <td>0.000000</td>\n",
       "      <td>0.000000</td>\n",
       "      <td>0.000000</td>\n",
       "    </tr>\n",
       "    <tr>\n",
       "      <th>RPS11</th>\n",
       "      <td>8.144184</td>\n",
       "      <td>5.915091</td>\n",
       "      <td>7.243164</td>\n",
       "      <td>6.019502</td>\n",
       "      <td>7.974753</td>\n",
       "      <td>5.557257</td>\n",
       "      <td>4.639058</td>\n",
       "      <td>7.655502</td>\n",
       "      <td>3.554834</td>\n",
       "      <td>8.791371</td>\n",
       "      <td>...</td>\n",
       "      <td>8.116349</td>\n",
       "      <td>5.756490</td>\n",
       "      <td>0.000000</td>\n",
       "      <td>5.258820</td>\n",
       "      <td>3.930454</td>\n",
       "      <td>5.945186</td>\n",
       "      <td>6.661408</td>\n",
       "      <td>6.792322</td>\n",
       "      <td>0.000000</td>\n",
       "      <td>4.820741</td>\n",
       "    </tr>\n",
       "    <tr>\n",
       "      <th>ELMO2</th>\n",
       "      <td>2.639232</td>\n",
       "      <td>0.000000</td>\n",
       "      <td>0.732052</td>\n",
       "      <td>3.687956</td>\n",
       "      <td>2.599318</td>\n",
       "      <td>1.691087</td>\n",
       "      <td>2.019346</td>\n",
       "      <td>0.136191</td>\n",
       "      <td>0.000000</td>\n",
       "      <td>1.724650</td>\n",
       "      <td>...</td>\n",
       "      <td>1.580145</td>\n",
       "      <td>0.000000</td>\n",
       "      <td>1.075875</td>\n",
       "      <td>0.000000</td>\n",
       "      <td>5.616211</td>\n",
       "      <td>0.000000</td>\n",
       "      <td>0.000000</td>\n",
       "      <td>0.000000</td>\n",
       "      <td>0.000000</td>\n",
       "      <td>6.166655</td>\n",
       "    </tr>\n",
       "    <tr>\n",
       "      <th>CREB3L1</th>\n",
       "      <td>0.000000</td>\n",
       "      <td>0.000000</td>\n",
       "      <td>0.000000</td>\n",
       "      <td>0.000000</td>\n",
       "      <td>0.000000</td>\n",
       "      <td>0.000000</td>\n",
       "      <td>0.000000</td>\n",
       "      <td>0.000000</td>\n",
       "      <td>0.000000</td>\n",
       "      <td>0.000000</td>\n",
       "      <td>...</td>\n",
       "      <td>0.000000</td>\n",
       "      <td>0.000000</td>\n",
       "      <td>0.000000</td>\n",
       "      <td>0.000000</td>\n",
       "      <td>0.000000</td>\n",
       "      <td>0.000000</td>\n",
       "      <td>0.000000</td>\n",
       "      <td>0.000000</td>\n",
       "      <td>0.000000</td>\n",
       "      <td>0.000000</td>\n",
       "    </tr>\n",
       "    <tr>\n",
       "      <th>PNMA1</th>\n",
       "      <td>3.656496</td>\n",
       "      <td>0.000000</td>\n",
       "      <td>0.536053</td>\n",
       "      <td>3.041418</td>\n",
       "      <td>4.132741</td>\n",
       "      <td>2.827006</td>\n",
       "      <td>0.000000</td>\n",
       "      <td>2.873420</td>\n",
       "      <td>0.000000</td>\n",
       "      <td>4.787694</td>\n",
       "      <td>...</td>\n",
       "      <td>0.000000</td>\n",
       "      <td>1.407081</td>\n",
       "      <td>0.000000</td>\n",
       "      <td>0.000000</td>\n",
       "      <td>0.000000</td>\n",
       "      <td>0.000000</td>\n",
       "      <td>0.000000</td>\n",
       "      <td>0.000000</td>\n",
       "      <td>0.000000</td>\n",
       "      <td>0.000000</td>\n",
       "    </tr>\n",
       "    <tr>\n",
       "      <th>...</th>\n",
       "      <td>...</td>\n",
       "      <td>...</td>\n",
       "      <td>...</td>\n",
       "      <td>...</td>\n",
       "      <td>...</td>\n",
       "      <td>...</td>\n",
       "      <td>...</td>\n",
       "      <td>...</td>\n",
       "      <td>...</td>\n",
       "      <td>...</td>\n",
       "      <td>...</td>\n",
       "      <td>...</td>\n",
       "      <td>...</td>\n",
       "      <td>...</td>\n",
       "      <td>...</td>\n",
       "      <td>...</td>\n",
       "      <td>...</td>\n",
       "      <td>...</td>\n",
       "      <td>...</td>\n",
       "      <td>...</td>\n",
       "      <td>...</td>\n",
       "    </tr>\n",
       "    <tr>\n",
       "      <th>PIK3IP1</th>\n",
       "      <td>0.936591</td>\n",
       "      <td>5.761498</td>\n",
       "      <td>0.000000</td>\n",
       "      <td>0.000000</td>\n",
       "      <td>2.034216</td>\n",
       "      <td>0.000000</td>\n",
       "      <td>0.000000</td>\n",
       "      <td>0.000000</td>\n",
       "      <td>0.000000</td>\n",
       "      <td>0.000000</td>\n",
       "      <td>...</td>\n",
       "      <td>0.000000</td>\n",
       "      <td>0.000000</td>\n",
       "      <td>0.000000</td>\n",
       "      <td>0.000000</td>\n",
       "      <td>5.018011</td>\n",
       "      <td>0.000000</td>\n",
       "      <td>1.491597</td>\n",
       "      <td>0.000000</td>\n",
       "      <td>0.000000</td>\n",
       "      <td>4.510139</td>\n",
       "    </tr>\n",
       "    <tr>\n",
       "      <th>SNRPD2</th>\n",
       "      <td>5.374866</td>\n",
       "      <td>0.000000</td>\n",
       "      <td>5.437661</td>\n",
       "      <td>6.240581</td>\n",
       "      <td>5.946754</td>\n",
       "      <td>4.628132</td>\n",
       "      <td>4.648580</td>\n",
       "      <td>4.330415</td>\n",
       "      <td>4.559981</td>\n",
       "      <td>5.664966</td>\n",
       "      <td>...</td>\n",
       "      <td>5.350462</td>\n",
       "      <td>0.000000</td>\n",
       "      <td>5.225853</td>\n",
       "      <td>3.966523</td>\n",
       "      <td>5.537203</td>\n",
       "      <td>6.792582</td>\n",
       "      <td>0.000000</td>\n",
       "      <td>0.000000</td>\n",
       "      <td>3.525944</td>\n",
       "      <td>6.218684</td>\n",
       "    </tr>\n",
       "    <tr>\n",
       "      <th>SLC39A6</th>\n",
       "      <td>3.326681</td>\n",
       "      <td>0.000000</td>\n",
       "      <td>1.308011</td>\n",
       "      <td>3.516141</td>\n",
       "      <td>3.868390</td>\n",
       "      <td>1.791189</td>\n",
       "      <td>0.000000</td>\n",
       "      <td>2.948601</td>\n",
       "      <td>4.368279</td>\n",
       "      <td>0.000000</td>\n",
       "      <td>...</td>\n",
       "      <td>0.000000</td>\n",
       "      <td>4.774840</td>\n",
       "      <td>4.881518</td>\n",
       "      <td>5.688656</td>\n",
       "      <td>0.000000</td>\n",
       "      <td>0.000000</td>\n",
       "      <td>0.000000</td>\n",
       "      <td>0.000000</td>\n",
       "      <td>0.000000</td>\n",
       "      <td>0.000000</td>\n",
       "    </tr>\n",
       "    <tr>\n",
       "      <th>CTSC</th>\n",
       "      <td>2.612352</td>\n",
       "      <td>0.000000</td>\n",
       "      <td>2.361768</td>\n",
       "      <td>1.094236</td>\n",
       "      <td>1.934705</td>\n",
       "      <td>0.852798</td>\n",
       "      <td>0.532068</td>\n",
       "      <td>1.904966</td>\n",
       "      <td>0.999278</td>\n",
       "      <td>1.456806</td>\n",
       "      <td>...</td>\n",
       "      <td>1.851199</td>\n",
       "      <td>6.475069</td>\n",
       "      <td>3.449957</td>\n",
       "      <td>0.000000</td>\n",
       "      <td>0.145351</td>\n",
       "      <td>6.871634</td>\n",
       "      <td>1.837540</td>\n",
       "      <td>3.094236</td>\n",
       "      <td>6.253554</td>\n",
       "      <td>3.087463</td>\n",
       "    </tr>\n",
       "    <tr>\n",
       "      <th>AQP7</th>\n",
       "      <td>0.000000</td>\n",
       "      <td>0.000000</td>\n",
       "      <td>0.000000</td>\n",
       "      <td>0.000000</td>\n",
       "      <td>0.000000</td>\n",
       "      <td>0.000000</td>\n",
       "      <td>0.000000</td>\n",
       "      <td>0.000000</td>\n",
       "      <td>0.000000</td>\n",
       "      <td>0.000000</td>\n",
       "      <td>...</td>\n",
       "      <td>0.000000</td>\n",
       "      <td>0.000000</td>\n",
       "      <td>0.000000</td>\n",
       "      <td>0.000000</td>\n",
       "      <td>0.000000</td>\n",
       "      <td>0.000000</td>\n",
       "      <td>0.000000</td>\n",
       "      <td>0.000000</td>\n",
       "      <td>0.000000</td>\n",
       "      <td>0.000000</td>\n",
       "    </tr>\n",
       "  </tbody>\n",
       "</table>\n",
       "<p>23686 rows × 7186 columns</p>\n",
       "</div>"
      ],
      "text/plain": [
       "cells       cy78_CD45_neg_1_B04_S496_comb  \\\n",
       "GeneSymbol                                  \n",
       "C9orf152                         0.000000   \n",
       "RPS11                            8.144184   \n",
       "ELMO2                            2.639232   \n",
       "CREB3L1                          0.000000   \n",
       "PNMA1                            3.656496   \n",
       "...                                   ...   \n",
       "PIK3IP1                          0.936591   \n",
       "SNRPD2                           5.374866   \n",
       "SLC39A6                          3.326681   \n",
       "CTSC                             2.612352   \n",
       "AQP7                             0.000000   \n",
       "\n",
       "cells       cy79_p4_CD45_neg_PDL1_neg_E11_S1115_comb  CY88_5_B10_S694_comb  \\\n",
       "GeneSymbol                                                                   \n",
       "C9orf152                                    0.000000              0.000000   \n",
       "RPS11                                       5.915091              7.243164   \n",
       "ELMO2                                       0.000000              0.732052   \n",
       "CREB3L1                                     0.000000              0.000000   \n",
       "PNMA1                                       0.000000              0.536053   \n",
       "...                                              ...                   ...   \n",
       "PIK3IP1                                     5.761498              0.000000   \n",
       "SNRPD2                                      0.000000              5.437661   \n",
       "SLC39A6                                     0.000000              1.308011   \n",
       "CTSC                                        0.000000              2.361768   \n",
       "AQP7                                        0.000000              0.000000   \n",
       "\n",
       "cells       cy79_p1_CD45_neg_PDL1_pos_AS_C1_R1_F07_S67_comb  \\\n",
       "GeneSymbol                                                    \n",
       "C9orf152                                           0.000000   \n",
       "RPS11                                              6.019502   \n",
       "ELMO2                                              3.687956   \n",
       "CREB3L1                                            0.000000   \n",
       "PNMA1                                              3.041418   \n",
       "...                                                     ...   \n",
       "PIK3IP1                                            0.000000   \n",
       "SNRPD2                                             6.240581   \n",
       "SLC39A6                                            3.516141   \n",
       "CTSC                                               1.094236   \n",
       "AQP7                                               0.000000   \n",
       "\n",
       "cells       cy78_CD45_neg_3_H06_S762_comb  \\\n",
       "GeneSymbol                                  \n",
       "C9orf152                         0.000000   \n",
       "RPS11                            7.974753   \n",
       "ELMO2                            2.599318   \n",
       "CREB3L1                          0.000000   \n",
       "PNMA1                            4.132741   \n",
       "...                                   ...   \n",
       "PIK3IP1                          2.034216   \n",
       "SNRPD2                           5.946754   \n",
       "SLC39A6                          3.868390   \n",
       "CTSC                             1.934705   \n",
       "AQP7                             0.000000   \n",
       "\n",
       "cells       cy79_p1_CD45_neg_PDL1_pos_AS_C1_R1_G01_S73_comb  \\\n",
       "GeneSymbol                                                    \n",
       "C9orf152                                           0.000000   \n",
       "RPS11                                              5.557257   \n",
       "ELMO2                                              1.691087   \n",
       "CREB3L1                                            0.000000   \n",
       "PNMA1                                              2.827006   \n",
       "...                                                     ...   \n",
       "PIK3IP1                                            0.000000   \n",
       "SNRPD2                                             4.628132   \n",
       "SLC39A6                                            1.791189   \n",
       "CTSC                                               0.852798   \n",
       "AQP7                                               0.000000   \n",
       "\n",
       "cells       cy79_p1_CD45_neg_PDL1_neg_AS_C4_R1_D09_S141_comb  \\\n",
       "GeneSymbol                                                     \n",
       "C9orf152                                            0.000000   \n",
       "RPS11                                               4.639058   \n",
       "ELMO2                                               2.019346   \n",
       "CREB3L1                                             0.000000   \n",
       "PNMA1                                               0.000000   \n",
       "...                                                      ...   \n",
       "PIK3IP1                                             0.000000   \n",
       "SNRPD2                                              4.648580   \n",
       "SLC39A6                                             0.000000   \n",
       "CTSC                                                0.532068   \n",
       "AQP7                                                0.000000   \n",
       "\n",
       "cells       CY88_3_D02_S614_comb  \\\n",
       "GeneSymbol                         \n",
       "C9orf152                0.000000   \n",
       "RPS11                   7.655502   \n",
       "ELMO2                   0.136191   \n",
       "CREB3L1                 0.000000   \n",
       "PNMA1                   2.873420   \n",
       "...                          ...   \n",
       "PIK3IP1                 0.000000   \n",
       "SNRPD2                  4.330415   \n",
       "SLC39A6                 2.948601   \n",
       "CTSC                    1.904966   \n",
       "AQP7                    0.000000   \n",
       "\n",
       "cells       cy79_p1_CD45_neg_PDL1_neg_AS_C4_R1_D06_S138_comb  \\\n",
       "GeneSymbol                                                     \n",
       "C9orf152                                            0.000000   \n",
       "RPS11                                               3.554834   \n",
       "ELMO2                                               0.000000   \n",
       "CREB3L1                                             0.000000   \n",
       "PNMA1                                               0.000000   \n",
       "...                                                      ...   \n",
       "PIK3IP1                                             0.000000   \n",
       "SNRPD2                                              4.559981   \n",
       "SLC39A6                                             4.368279   \n",
       "CTSC                                                0.999278   \n",
       "AQP7                                                0.000000   \n",
       "\n",
       "cells       cy53_1_CD45_neg_C06_S318_comb  ...  monika_C11_S119_comb_BCD8_3  \\\n",
       "GeneSymbol                                 ...                                \n",
       "C9orf152                         0.000000  ...                     0.000000   \n",
       "RPS11                            8.791371  ...                     8.116349   \n",
       "ELMO2                            1.724650  ...                     1.580145   \n",
       "CREB3L1                          0.000000  ...                     0.000000   \n",
       "PNMA1                            4.787694  ...                     0.000000   \n",
       "...                                   ...  ...                          ...   \n",
       "PIK3IP1                          0.000000  ...                     0.000000   \n",
       "SNRPD2                           5.664966  ...                     5.350462   \n",
       "SLC39A6                          0.000000  ...                     0.000000   \n",
       "CTSC                             1.456806  ...                     1.851199   \n",
       "AQP7                             0.000000  ...                     0.000000   \n",
       "\n",
       "cells       CY75_1_CD45_CD8_8__S331_comb_BCD8  \\\n",
       "GeneSymbol                                      \n",
       "C9orf152                             0.000000   \n",
       "RPS11                                5.756490   \n",
       "ELMO2                                0.000000   \n",
       "CREB3L1                              0.000000   \n",
       "PNMA1                                1.407081   \n",
       "...                                       ...   \n",
       "PIK3IP1                              0.000000   \n",
       "SNRPD2                               0.000000   \n",
       "SLC39A6                              4.774840   \n",
       "CTSC                                 6.475069   \n",
       "AQP7                                 0.000000   \n",
       "\n",
       "cells       CY75_1_CD45_CD8_7__S210_comb_BCD8  \\\n",
       "GeneSymbol                                      \n",
       "C9orf152                             0.000000   \n",
       "RPS11                                0.000000   \n",
       "ELMO2                                1.075875   \n",
       "CREB3L1                              0.000000   \n",
       "PNMA1                                0.000000   \n",
       "...                                       ...   \n",
       "PIK3IP1                              0.000000   \n",
       "SNRPD2                               5.225853   \n",
       "SLC39A6                              4.881518   \n",
       "CTSC                                 3.449957   \n",
       "AQP7                                 0.000000   \n",
       "\n",
       "cells       CY75_1_CD45_CD8_3__S142_comb_BCD8  \\\n",
       "GeneSymbol                                      \n",
       "C9orf152                             0.000000   \n",
       "RPS11                                5.258820   \n",
       "ELMO2                                0.000000   \n",
       "CREB3L1                              0.000000   \n",
       "PNMA1                                0.000000   \n",
       "...                                       ...   \n",
       "PIK3IP1                              0.000000   \n",
       "SNRPD2                               3.966523   \n",
       "SLC39A6                              5.688656   \n",
       "CTSC                                 0.000000   \n",
       "AQP7                                 0.000000   \n",
       "\n",
       "cells       CY75_1_CD45_CD8_7__S280_comb_BCD8  \\\n",
       "GeneSymbol                                      \n",
       "C9orf152                             0.000000   \n",
       "RPS11                                3.930454   \n",
       "ELMO2                                5.616211   \n",
       "CREB3L1                              0.000000   \n",
       "PNMA1                                0.000000   \n",
       "...                                       ...   \n",
       "PIK3IP1                              5.018011   \n",
       "SNRPD2                               5.537203   \n",
       "SLC39A6                              0.000000   \n",
       "CTSC                                 0.145351   \n",
       "AQP7                                 0.000000   \n",
       "\n",
       "cells       CY75_1_CD45_CD8_3__S168_comb_BCD8  \\\n",
       "GeneSymbol                                      \n",
       "C9orf152                             0.000000   \n",
       "RPS11                                5.945186   \n",
       "ELMO2                                0.000000   \n",
       "CREB3L1                              0.000000   \n",
       "PNMA1                                0.000000   \n",
       "...                                       ...   \n",
       "PIK3IP1                              0.000000   \n",
       "SNRPD2                               6.792582   \n",
       "SLC39A6                              0.000000   \n",
       "CTSC                                 6.871634   \n",
       "AQP7                                 0.000000   \n",
       "\n",
       "cells       CY75_1_CD45_CD8_8__S338_comb_BCD8  monika_D7_S132_comb_BCD8_3  \\\n",
       "GeneSymbol                                                                  \n",
       "C9orf152                             0.000000                    0.000000   \n",
       "RPS11                                6.661408                    6.792322   \n",
       "ELMO2                                0.000000                    0.000000   \n",
       "CREB3L1                              0.000000                    0.000000   \n",
       "PNMA1                                0.000000                    0.000000   \n",
       "...                                       ...                         ...   \n",
       "PIK3IP1                              1.491597                    0.000000   \n",
       "SNRPD2                               0.000000                    0.000000   \n",
       "SLC39A6                              0.000000                    0.000000   \n",
       "CTSC                                 1.837540                    3.094236   \n",
       "AQP7                                 0.000000                    0.000000   \n",
       "\n",
       "cells       CY75_1_CD45_CD8_8__S289_comb_BCD8  \\\n",
       "GeneSymbol                                      \n",
       "C9orf152                             0.000000   \n",
       "RPS11                                0.000000   \n",
       "ELMO2                                0.000000   \n",
       "CREB3L1                              0.000000   \n",
       "PNMA1                                0.000000   \n",
       "...                                       ...   \n",
       "PIK3IP1                              0.000000   \n",
       "SNRPD2                               3.525944   \n",
       "SLC39A6                              0.000000   \n",
       "CTSC                                 6.253554   \n",
       "AQP7                                 0.000000   \n",
       "\n",
       "cells       CY75_1_CD45_CD8_8__S351_comb_BCD8  \n",
       "GeneSymbol                                     \n",
       "C9orf152                             0.000000  \n",
       "RPS11                                4.820741  \n",
       "ELMO2                                6.166655  \n",
       "CREB3L1                              0.000000  \n",
       "PNMA1                                0.000000  \n",
       "...                                       ...  \n",
       "PIK3IP1                              4.510139  \n",
       "SNRPD2                               6.218684  \n",
       "SLC39A6                              0.000000  \n",
       "CTSC                                 3.087463  \n",
       "AQP7                                 0.000000  \n",
       "\n",
       "[23686 rows x 7186 columns]"
      ]
     },
     "execution_count": 9,
     "metadata": {},
     "output_type": "execute_result"
    }
   ],
   "source": [
    "sc_data"
   ]
  },
  {
   "cell_type": "code",
   "execution_count": 10,
   "id": "4e0cd324-9ecf-414e-9024-f3c74c91a52d",
   "metadata": {
    "execution": {
     "iopub.execute_input": "2022-01-27T23:29:07.577096Z",
     "iopub.status.busy": "2022-01-27T23:29:07.576797Z",
     "iopub.status.idle": "2022-01-27T23:29:07.592465Z",
     "shell.execute_reply": "2022-01-27T23:29:07.591712Z",
     "shell.execute_reply.started": "2022-01-27T23:29:07.577063Z"
    },
    "tags": []
   },
   "outputs": [
    {
     "data": {
      "text/html": [
       "<div>\n",
       "<style scoped>\n",
       "    .dataframe tbody tr th:only-of-type {\n",
       "        vertical-align: middle;\n",
       "    }\n",
       "\n",
       "    .dataframe tbody tr th {\n",
       "        vertical-align: top;\n",
       "    }\n",
       "\n",
       "    .dataframe thead th {\n",
       "        text-align: right;\n",
       "    }\n",
       "</style>\n",
       "<table border=\"1\" class=\"dataframe\">\n",
       "  <thead>\n",
       "    <tr style=\"text-align: right;\">\n",
       "      <th></th>\n",
       "      <th>cells</th>\n",
       "      <th>samples</th>\n",
       "      <th>cell.types</th>\n",
       "      <th>treatment.group</th>\n",
       "      <th>Cohort</th>\n",
       "      <th>no.of.genes</th>\n",
       "      <th>no.of.reads</th>\n",
       "    </tr>\n",
       "  </thead>\n",
       "  <tbody>\n",
       "    <tr>\n",
       "      <th>0</th>\n",
       "      <td>cy78_CD45_neg_1_B04_S496_comb</td>\n",
       "      <td>Mel78</td>\n",
       "      <td>Malignant</td>\n",
       "      <td>post.treatment</td>\n",
       "      <td>Tirosh</td>\n",
       "      <td>8258</td>\n",
       "      <td>357919</td>\n",
       "    </tr>\n",
       "    <tr>\n",
       "      <th>1</th>\n",
       "      <td>cy79_p4_CD45_neg_PDL1_neg_E11_S1115_comb</td>\n",
       "      <td>Mel79</td>\n",
       "      <td>Malignant</td>\n",
       "      <td>treatment.naive</td>\n",
       "      <td>Tirosh</td>\n",
       "      <td>2047</td>\n",
       "      <td>5727</td>\n",
       "    </tr>\n",
       "    <tr>\n",
       "      <th>2</th>\n",
       "      <td>CY88_5_B10_S694_comb</td>\n",
       "      <td>Mel88</td>\n",
       "      <td>Malignant</td>\n",
       "      <td>post.treatment</td>\n",
       "      <td>Tirosh</td>\n",
       "      <td>5375</td>\n",
       "      <td>139218</td>\n",
       "    </tr>\n",
       "    <tr>\n",
       "      <th>3</th>\n",
       "      <td>cy79_p1_CD45_neg_PDL1_pos_AS_C1_R1_F07_S67_comb</td>\n",
       "      <td>Mel79</td>\n",
       "      <td>Malignant</td>\n",
       "      <td>treatment.naive</td>\n",
       "      <td>Tirosh</td>\n",
       "      <td>5648</td>\n",
       "      <td>73996</td>\n",
       "    </tr>\n",
       "    <tr>\n",
       "      <th>4</th>\n",
       "      <td>cy78_CD45_neg_3_H06_S762_comb</td>\n",
       "      <td>Mel78</td>\n",
       "      <td>Malignant</td>\n",
       "      <td>post.treatment</td>\n",
       "      <td>Tirosh</td>\n",
       "      <td>7409</td>\n",
       "      <td>380341</td>\n",
       "    </tr>\n",
       "    <tr>\n",
       "      <th>...</th>\n",
       "      <td>...</td>\n",
       "      <td>...</td>\n",
       "      <td>...</td>\n",
       "      <td>...</td>\n",
       "      <td>...</td>\n",
       "      <td>...</td>\n",
       "      <td>...</td>\n",
       "    </tr>\n",
       "    <tr>\n",
       "      <th>7181</th>\n",
       "      <td>CY75_1_CD45_CD8_3__S168_comb_BCD8</td>\n",
       "      <td>Mel75</td>\n",
       "      <td>T CD8</td>\n",
       "      <td>post.treatment</td>\n",
       "      <td>Tirosh</td>\n",
       "      <td>3530</td>\n",
       "      <td>137245</td>\n",
       "    </tr>\n",
       "    <tr>\n",
       "      <th>7182</th>\n",
       "      <td>CY75_1_CD45_CD8_8__S338_comb_BCD8</td>\n",
       "      <td>Mel75</td>\n",
       "      <td>T CD8</td>\n",
       "      <td>post.treatment</td>\n",
       "      <td>Tirosh</td>\n",
       "      <td>3872</td>\n",
       "      <td>106432</td>\n",
       "    </tr>\n",
       "    <tr>\n",
       "      <th>7183</th>\n",
       "      <td>monika_D7_S132_comb_BCD8_3</td>\n",
       "      <td>Mel75</td>\n",
       "      <td>T CD8</td>\n",
       "      <td>post.treatment</td>\n",
       "      <td>Tirosh</td>\n",
       "      <td>4589</td>\n",
       "      <td>908173</td>\n",
       "    </tr>\n",
       "    <tr>\n",
       "      <th>7184</th>\n",
       "      <td>CY75_1_CD45_CD8_8__S289_comb_BCD8</td>\n",
       "      <td>Mel75</td>\n",
       "      <td>T CD8</td>\n",
       "      <td>post.treatment</td>\n",
       "      <td>Tirosh</td>\n",
       "      <td>4614</td>\n",
       "      <td>140903</td>\n",
       "    </tr>\n",
       "    <tr>\n",
       "      <th>7185</th>\n",
       "      <td>CY75_1_CD45_CD8_8__S351_comb_BCD8</td>\n",
       "      <td>Mel75</td>\n",
       "      <td>T CD8</td>\n",
       "      <td>post.treatment</td>\n",
       "      <td>Tirosh</td>\n",
       "      <td>3859</td>\n",
       "      <td>222239</td>\n",
       "    </tr>\n",
       "  </tbody>\n",
       "</table>\n",
       "<p>7186 rows × 7 columns</p>\n",
       "</div>"
      ],
      "text/plain": [
       "                                                cells samples cell.types  \\\n",
       "0                       cy78_CD45_neg_1_B04_S496_comb   Mel78  Malignant   \n",
       "1            cy79_p4_CD45_neg_PDL1_neg_E11_S1115_comb   Mel79  Malignant   \n",
       "2                                CY88_5_B10_S694_comb   Mel88  Malignant   \n",
       "3     cy79_p1_CD45_neg_PDL1_pos_AS_C1_R1_F07_S67_comb   Mel79  Malignant   \n",
       "4                       cy78_CD45_neg_3_H06_S762_comb   Mel78  Malignant   \n",
       "...                                               ...     ...        ...   \n",
       "7181                CY75_1_CD45_CD8_3__S168_comb_BCD8   Mel75      T CD8   \n",
       "7182                CY75_1_CD45_CD8_8__S338_comb_BCD8   Mel75      T CD8   \n",
       "7183                       monika_D7_S132_comb_BCD8_3   Mel75      T CD8   \n",
       "7184                CY75_1_CD45_CD8_8__S289_comb_BCD8   Mel75      T CD8   \n",
       "7185                CY75_1_CD45_CD8_8__S351_comb_BCD8   Mel75      T CD8   \n",
       "\n",
       "      treatment.group  Cohort  no.of.genes  no.of.reads  \n",
       "0      post.treatment  Tirosh         8258       357919  \n",
       "1     treatment.naive  Tirosh         2047         5727  \n",
       "2      post.treatment  Tirosh         5375       139218  \n",
       "3     treatment.naive  Tirosh         5648        73996  \n",
       "4      post.treatment  Tirosh         7409       380341  \n",
       "...               ...     ...          ...          ...  \n",
       "7181   post.treatment  Tirosh         3530       137245  \n",
       "7182   post.treatment  Tirosh         3872       106432  \n",
       "7183   post.treatment  Tirosh         4589       908173  \n",
       "7184   post.treatment  Tirosh         4614       140903  \n",
       "7185   post.treatment  Tirosh         3859       222239  \n",
       "\n",
       "[7186 rows x 7 columns]"
      ]
     },
     "execution_count": 10,
     "metadata": {},
     "output_type": "execute_result"
    }
   ],
   "source": [
    "sc_metadata"
   ]
  },
  {
   "cell_type": "code",
   "execution_count": 11,
   "id": "ac3747ba-6b76-4b1c-9267-8102d14e9d3a",
   "metadata": {
    "execution": {
     "iopub.execute_input": "2022-01-27T23:29:07.594210Z",
     "iopub.status.busy": "2022-01-27T23:29:07.593786Z",
     "iopub.status.idle": "2022-01-27T23:29:07.603698Z",
     "shell.execute_reply": "2022-01-27T23:29:07.602993Z",
     "shell.execute_reply.started": "2022-01-27T23:29:07.594174Z"
    },
    "tags": []
   },
   "outputs": [
    {
     "data": {
      "text/plain": [
       "Malignant      2018\n",
       "T CD8          1759\n",
       "T CD4           856\n",
       "B               818\n",
       "T               706\n",
       "Macrophage      420\n",
       "NaN             307\n",
       "CAF             106\n",
       "Endothelial     104\n",
       "NK               92\n",
       "Name: cell.types, dtype: int64"
      ]
     },
     "execution_count": 11,
     "metadata": {},
     "output_type": "execute_result"
    }
   ],
   "source": [
    "sc_metadata[\"cell.types\"].value_counts(dropna=False)"
   ]
  },
  {
   "cell_type": "markdown",
   "id": "0db2642c-a3e9-4fb3-abbb-4c6194a87b54",
   "metadata": {
    "tags": []
   },
   "source": [
    "### load fractions produced by derek"
   ]
  },
  {
   "cell_type": "code",
   "execution_count": 12,
   "id": "8ba791b3-fdef-4459-8105-6a758bf6c338",
   "metadata": {
    "execution": {
     "iopub.execute_input": "2022-01-27T23:29:07.608176Z",
     "iopub.status.busy": "2022-01-27T23:29:07.607437Z",
     "iopub.status.idle": "2022-01-27T23:29:07.611638Z",
     "shell.execute_reply": "2022-01-27T23:29:07.610852Z",
     "shell.execute_reply.started": "2022-01-27T23:29:07.608140Z"
    },
    "tags": []
   },
   "outputs": [],
   "source": [
    "# !gsutil ls gs://liulab/downloaded_manually/derek_csx_tcga_skcm"
   ]
  },
  {
   "cell_type": "code",
   "execution_count": 13,
   "id": "7412448a-7d7e-49b8-bf7f-f39749c51501",
   "metadata": {
    "execution": {
     "iopub.execute_input": "2022-01-27T23:29:07.613710Z",
     "iopub.status.busy": "2022-01-27T23:29:07.613066Z",
     "iopub.status.idle": "2022-01-27T23:29:07.709640Z",
     "shell.execute_reply": "2022-01-27T23:29:07.709030Z",
     "shell.execute_reply.started": "2022-01-27T23:29:07.613677Z"
    },
    "tags": []
   },
   "outputs": [],
   "source": [
    "path = \"gs://liulab/downloaded_manually/derek_csx_tcga_skcm/CIBERSORTx_Job8_Results.txt\"\n",
    "\n",
    "csx_fraction_output_tcga_skcm = pd.read_csv(\n",
    "    path,\n",
    "    sep=\"\\t\",\n",
    "    # nrows=10,\n",
    "    index_col=0\n",
    ")\n",
    "csx_fraction_output_tcga_skcm.rename(columns=weird_to_nice, inplace=True)\n",
    "columns = list(sorted(csx_fraction_output_tcga_skcm.columns[:-3]))\n",
    "csx_fraction_output_tcga_skcm = csx_fraction_output_tcga_skcm[columns]"
   ]
  },
  {
   "cell_type": "code",
   "execution_count": 14,
   "id": "e3af28fc-2807-4659-8947-e1fcb59dd730",
   "metadata": {
    "execution": {
     "iopub.execute_input": "2022-01-27T23:29:07.713415Z",
     "iopub.status.busy": "2022-01-27T23:29:07.713213Z",
     "iopub.status.idle": "2022-01-27T23:29:07.730771Z",
     "shell.execute_reply": "2022-01-27T23:29:07.730060Z",
     "shell.execute_reply.started": "2022-01-27T23:29:07.713392Z"
    },
    "tags": []
   },
   "outputs": [
    {
     "data": {
      "text/html": [
       "<div>\n",
       "<style scoped>\n",
       "    .dataframe tbody tr th:only-of-type {\n",
       "        vertical-align: middle;\n",
       "    }\n",
       "\n",
       "    .dataframe tbody tr th {\n",
       "        vertical-align: top;\n",
       "    }\n",
       "\n",
       "    .dataframe thead th {\n",
       "        text-align: right;\n",
       "    }\n",
       "</style>\n",
       "<table border=\"1\" class=\"dataframe\">\n",
       "  <thead>\n",
       "    <tr style=\"text-align: right;\">\n",
       "      <th></th>\n",
       "      <th>B</th>\n",
       "      <th>CAF</th>\n",
       "      <th>Endothelial</th>\n",
       "      <th>Macrophage</th>\n",
       "      <th>Malignant</th>\n",
       "      <th>NK</th>\n",
       "      <th>T</th>\n",
       "      <th>T CD4</th>\n",
       "      <th>T CD8</th>\n",
       "    </tr>\n",
       "    <tr>\n",
       "      <th>Mixture</th>\n",
       "      <th></th>\n",
       "      <th></th>\n",
       "      <th></th>\n",
       "      <th></th>\n",
       "      <th></th>\n",
       "      <th></th>\n",
       "      <th></th>\n",
       "      <th></th>\n",
       "      <th></th>\n",
       "    </tr>\n",
       "  </thead>\n",
       "  <tbody>\n",
       "    <tr>\n",
       "      <th>TCGA.3N.A9WB.06A.11R.A38C.07</th>\n",
       "      <td>0.000000</td>\n",
       "      <td>0.018483</td>\n",
       "      <td>0.004211</td>\n",
       "      <td>0.000000</td>\n",
       "      <td>0.971059</td>\n",
       "      <td>0.000000</td>\n",
       "      <td>0.006247</td>\n",
       "      <td>0.000000</td>\n",
       "      <td>0.000000</td>\n",
       "    </tr>\n",
       "    <tr>\n",
       "      <th>TCGA.3N.A9WC.06A.11R.A38C.07</th>\n",
       "      <td>0.035060</td>\n",
       "      <td>0.056463</td>\n",
       "      <td>0.004178</td>\n",
       "      <td>0.103408</td>\n",
       "      <td>0.669623</td>\n",
       "      <td>0.000000</td>\n",
       "      <td>0.000000</td>\n",
       "      <td>0.082836</td>\n",
       "      <td>0.048432</td>\n",
       "    </tr>\n",
       "    <tr>\n",
       "      <th>TCGA.3N.A9WD.06A.11R.A38C.07</th>\n",
       "      <td>0.044227</td>\n",
       "      <td>0.105762</td>\n",
       "      <td>0.070834</td>\n",
       "      <td>0.036322</td>\n",
       "      <td>0.703525</td>\n",
       "      <td>0.000000</td>\n",
       "      <td>0.000000</td>\n",
       "      <td>0.039330</td>\n",
       "      <td>0.000000</td>\n",
       "    </tr>\n",
       "    <tr>\n",
       "      <th>TCGA.BF.A1PU.01A.11R.A18S.07</th>\n",
       "      <td>0.020758</td>\n",
       "      <td>0.048434</td>\n",
       "      <td>0.015335</td>\n",
       "      <td>0.000000</td>\n",
       "      <td>0.912796</td>\n",
       "      <td>0.002677</td>\n",
       "      <td>0.000000</td>\n",
       "      <td>0.000000</td>\n",
       "      <td>0.000000</td>\n",
       "    </tr>\n",
       "    <tr>\n",
       "      <th>TCGA.BF.A1PV.01A.11R.A18U.07</th>\n",
       "      <td>0.003591</td>\n",
       "      <td>0.042464</td>\n",
       "      <td>0.000000</td>\n",
       "      <td>0.000000</td>\n",
       "      <td>0.944365</td>\n",
       "      <td>0.000000</td>\n",
       "      <td>0.000000</td>\n",
       "      <td>0.009580</td>\n",
       "      <td>0.000000</td>\n",
       "    </tr>\n",
       "    <tr>\n",
       "      <th>...</th>\n",
       "      <td>...</td>\n",
       "      <td>...</td>\n",
       "      <td>...</td>\n",
       "      <td>...</td>\n",
       "      <td>...</td>\n",
       "      <td>...</td>\n",
       "      <td>...</td>\n",
       "      <td>...</td>\n",
       "      <td>...</td>\n",
       "    </tr>\n",
       "    <tr>\n",
       "      <th>TCGA.YG.AA3O.06A.11R.A38C.07</th>\n",
       "      <td>0.007658</td>\n",
       "      <td>0.060723</td>\n",
       "      <td>0.000000</td>\n",
       "      <td>0.026970</td>\n",
       "      <td>0.896399</td>\n",
       "      <td>0.000000</td>\n",
       "      <td>0.008250</td>\n",
       "      <td>0.000000</td>\n",
       "      <td>0.000000</td>\n",
       "    </tr>\n",
       "    <tr>\n",
       "      <th>TCGA.YG.AA3P.06A.11R.A38C.07</th>\n",
       "      <td>0.000000</td>\n",
       "      <td>0.000000</td>\n",
       "      <td>0.002483</td>\n",
       "      <td>0.008485</td>\n",
       "      <td>0.969895</td>\n",
       "      <td>0.000000</td>\n",
       "      <td>0.019137</td>\n",
       "      <td>0.000000</td>\n",
       "      <td>0.000000</td>\n",
       "    </tr>\n",
       "    <tr>\n",
       "      <th>TCGA.Z2.A8RT.06A.11R.A37K.07</th>\n",
       "      <td>0.029734</td>\n",
       "      <td>0.026755</td>\n",
       "      <td>0.002953</td>\n",
       "      <td>0.044928</td>\n",
       "      <td>0.878121</td>\n",
       "      <td>0.000000</td>\n",
       "      <td>0.000000</td>\n",
       "      <td>0.017508</td>\n",
       "      <td>0.000000</td>\n",
       "    </tr>\n",
       "    <tr>\n",
       "      <th>TCGA.Z2.AA3S.06A.11R.A39D.07</th>\n",
       "      <td>0.018830</td>\n",
       "      <td>0.000000</td>\n",
       "      <td>0.000000</td>\n",
       "      <td>0.025155</td>\n",
       "      <td>0.956015</td>\n",
       "      <td>0.000000</td>\n",
       "      <td>0.000000</td>\n",
       "      <td>0.000000</td>\n",
       "      <td>0.000000</td>\n",
       "    </tr>\n",
       "    <tr>\n",
       "      <th>TCGA.Z2.AA3V.06A.11R.A39D.07</th>\n",
       "      <td>0.000000</td>\n",
       "      <td>0.059960</td>\n",
       "      <td>0.036606</td>\n",
       "      <td>0.141536</td>\n",
       "      <td>0.603332</td>\n",
       "      <td>0.020841</td>\n",
       "      <td>0.000000</td>\n",
       "      <td>0.133585</td>\n",
       "      <td>0.004140</td>\n",
       "    </tr>\n",
       "  </tbody>\n",
       "</table>\n",
       "<p>473 rows × 9 columns</p>\n",
       "</div>"
      ],
      "text/plain": [
       "                                     B       CAF  Endothelial  Macrophage  \\\n",
       "Mixture                                                                     \n",
       "TCGA.3N.A9WB.06A.11R.A38C.07  0.000000  0.018483     0.004211    0.000000   \n",
       "TCGA.3N.A9WC.06A.11R.A38C.07  0.035060  0.056463     0.004178    0.103408   \n",
       "TCGA.3N.A9WD.06A.11R.A38C.07  0.044227  0.105762     0.070834    0.036322   \n",
       "TCGA.BF.A1PU.01A.11R.A18S.07  0.020758  0.048434     0.015335    0.000000   \n",
       "TCGA.BF.A1PV.01A.11R.A18U.07  0.003591  0.042464     0.000000    0.000000   \n",
       "...                                ...       ...          ...         ...   \n",
       "TCGA.YG.AA3O.06A.11R.A38C.07  0.007658  0.060723     0.000000    0.026970   \n",
       "TCGA.YG.AA3P.06A.11R.A38C.07  0.000000  0.000000     0.002483    0.008485   \n",
       "TCGA.Z2.A8RT.06A.11R.A37K.07  0.029734  0.026755     0.002953    0.044928   \n",
       "TCGA.Z2.AA3S.06A.11R.A39D.07  0.018830  0.000000     0.000000    0.025155   \n",
       "TCGA.Z2.AA3V.06A.11R.A39D.07  0.000000  0.059960     0.036606    0.141536   \n",
       "\n",
       "                              Malignant        NK         T     T CD4  \\\n",
       "Mixture                                                                 \n",
       "TCGA.3N.A9WB.06A.11R.A38C.07   0.971059  0.000000  0.006247  0.000000   \n",
       "TCGA.3N.A9WC.06A.11R.A38C.07   0.669623  0.000000  0.000000  0.082836   \n",
       "TCGA.3N.A9WD.06A.11R.A38C.07   0.703525  0.000000  0.000000  0.039330   \n",
       "TCGA.BF.A1PU.01A.11R.A18S.07   0.912796  0.002677  0.000000  0.000000   \n",
       "TCGA.BF.A1PV.01A.11R.A18U.07   0.944365  0.000000  0.000000  0.009580   \n",
       "...                                 ...       ...       ...       ...   \n",
       "TCGA.YG.AA3O.06A.11R.A38C.07   0.896399  0.000000  0.008250  0.000000   \n",
       "TCGA.YG.AA3P.06A.11R.A38C.07   0.969895  0.000000  0.019137  0.000000   \n",
       "TCGA.Z2.A8RT.06A.11R.A37K.07   0.878121  0.000000  0.000000  0.017508   \n",
       "TCGA.Z2.AA3S.06A.11R.A39D.07   0.956015  0.000000  0.000000  0.000000   \n",
       "TCGA.Z2.AA3V.06A.11R.A39D.07   0.603332  0.020841  0.000000  0.133585   \n",
       "\n",
       "                                 T CD8  \n",
       "Mixture                                 \n",
       "TCGA.3N.A9WB.06A.11R.A38C.07  0.000000  \n",
       "TCGA.3N.A9WC.06A.11R.A38C.07  0.048432  \n",
       "TCGA.3N.A9WD.06A.11R.A38C.07  0.000000  \n",
       "TCGA.BF.A1PU.01A.11R.A18S.07  0.000000  \n",
       "TCGA.BF.A1PV.01A.11R.A18U.07  0.000000  \n",
       "...                                ...  \n",
       "TCGA.YG.AA3O.06A.11R.A38C.07  0.000000  \n",
       "TCGA.YG.AA3P.06A.11R.A38C.07  0.000000  \n",
       "TCGA.Z2.A8RT.06A.11R.A37K.07  0.000000  \n",
       "TCGA.Z2.AA3S.06A.11R.A39D.07  0.000000  \n",
       "TCGA.Z2.AA3V.06A.11R.A39D.07  0.004140  \n",
       "\n",
       "[473 rows x 9 columns]"
      ]
     },
     "execution_count": 14,
     "metadata": {},
     "output_type": "execute_result"
    }
   ],
   "source": [
    "csx_fraction_output_tcga_skcm"
   ]
  },
  {
   "cell_type": "code",
   "execution_count": 15,
   "id": "400f63aa-0cd5-41bd-8aa6-230533f5abf8",
   "metadata": {
    "execution": {
     "iopub.execute_input": "2022-01-27T23:29:07.732239Z",
     "iopub.status.busy": "2022-01-27T23:29:07.731934Z",
     "iopub.status.idle": "2022-01-27T23:29:08.839019Z",
     "shell.execute_reply": "2022-01-27T23:29:08.838322Z",
     "shell.execute_reply.started": "2022-01-27T23:29:07.732203Z"
    },
    "tags": []
   },
   "outputs": [
    {
     "data": {
      "application/vnd.plotly.v1+json": {
       "config": {
        "plotlyServerURL": "https://plot.ly"
       },
       "data": [
        {
         "alignmentgroup": "True",
         "hovertemplate": "variable=B<br>Mixture=%{x}<br>value=%{y}<extra></extra>",
         "legendgroup": "B",
         "marker": {
          "color": "#636efa",
          "pattern": {
           "shape": ""
          }
         },
         "name": "B",
         "offsetgroup": "B",
         "orientation": "v",
         "showlegend": true,
         "textposition": "auto",
         "type": "bar",
         "x": [
          "TCGA.EE.A2GR.06A.11R.A18S.07",
          "TCGA.ER.A19Q.06A.11R.A18U.07",
          "TCGA.EE.A2MP.06A.11R.A18S.07",
          "TCGA.GN.A4U4.06A.11R.A32P.07",
          "TCGA.EE.A2ML.06A.11R.A18S.07",
          "TCGA.D3.A2J6.06A.11R.A18T.07",
          "TCGA.XV.AAZV.01A.11R.A40A.07",
          "TCGA.D3.A1Q3.06A.11R.A18T.07",
          "TCGA.D3.A1Q7.06A.11R.A18T.07",
          "TCGA.D3.A1Q5.06A.11R.A18T.07",
          "TCGA.RP.A694.06A.11R.A311.07",
          "TCGA.GN.A4U5.01A.11R.A32P.07",
          "TCGA.ER.A3ET.06A.11R.A20F.07",
          "TCGA.EE.A2GT.06A.12R.A18S.07",
          "TCGA.DA.A1HY.06A.11R.A18T.07",
          "TCGA.EB.A5SH.06A.11R.A311.07",
          "TCGA.EE.A29T.06A.11R.A18T.07",
          "TCGA.EE.A29Q.06A.11R.A18T.07",
          "TCGA.WE.A8ZQ.06A.41R.A37K.07",
          "TCGA.D3.A3CB.06A.11R.A18S.07",
          "TCGA.EB.A6R0.01A.12R.A32P.07",
          "TCGA.EE.A3J5.06A.11R.A20F.07",
          "TCGA.BF.A1PV.01A.11R.A18U.07",
          "TCGA.EE.A2GD.06A.11R.A18T.07",
          "TCGA.D3.A3CF.06A.11R.A18T.07",
          "TCGA.ER.A199.06A.11R.A18T.07",
          "TCGA.D3.A2JP.06A.11R.A18S.07",
          "TCGA.EB.A51B.01A.11R.A27Q.07",
          "TCGA.FS.A1ZA.06A.11R.A18T.07",
          "TCGA.D3.A3MV.06A.11R.A21D.07",
          "TCGA.HR.A2OG.06A.21R.A18U.07",
          "TCGA.LH.A9QB.06A.11R.A38C.07",
          "TCGA.FS.A4F8.06A.11R.A266.07",
          "TCGA.HR.A5NC.01A.11R.A27Q.07",
          "TCGA.EB.A553.01A.12R.A27Q.07",
          "TCGA.D3.A5GO.06A.12R.A27Q.07",
          "TCGA.GN.A268.06A.11R.A18T.07",
          "TCGA.EB.A5SE.01A.11R.A311.07",
          "TCGA.FS.A4F0.06A.11R.A24X.07",
          "TCGA.D3.A1Q6.06A.11R.A18T.07",
          "TCGA.GN.A4U3.06A.11R.A32P.07",
          "TCGA.WE.A8ZY.06A.11R.A37K.07",
          "TCGA.EE.A3JI.06A.11R.A21D.07",
          "TCGA.EB.A24C.01A.11R.A18T.07",
          "TCGA.FS.A1ZD.06A.11R.A18T.07",
          "TCGA.EE.A2GN.06A.11R.A18S.07",
          "TCGA.FS.A1ZK.06A.11R.A18T.07",
          "TCGA.EE.A3JH.06A.11R.A21D.07",
          "TCGA.D3.A3MU.06A.11R.A21D.07",
          "TCGA.GN.A267.06A.21R.A18T.07"
         ],
         "xaxis": "x",
         "y": [
          0,
          0.001197675696955,
          0,
          0.0089009831793668,
          0.0152574042925898,
          0.0029902758042814,
          0,
          0.0565356210617282,
          0.0139029734140787,
          0,
          0.0240928955025731,
          0.0190512403376668,
          0,
          0.124231732517466,
          0.0022522262855394,
          0.0486991946846296,
          0.0020467682722847,
          0.0027830603196165,
          0,
          0.0478314246830398,
          0.0509379027687147,
          0.0293650188086411,
          0.0035910597578893,
          0.0606046206470464,
          0.0748034855468186,
          0.0570273963391749,
          0,
          0.0423746078386961,
          0.0109199557208147,
          0,
          0.0020487603126987,
          0,
          0.104009000556264,
          0,
          0.0024806575849972,
          0.0074698423118899,
          0.0036285776191871,
          0.0035714096653472,
          0.0023075904288375,
          0,
          0,
          0.0015635873115368,
          0,
          0.0026551613618035,
          0.0176696543066005,
          0,
          0.0018329277808121,
          0.0558075978309889,
          0.0207197433771732,
          0.0197154236422589
         ],
         "yaxis": "y"
        },
        {
         "alignmentgroup": "True",
         "hovertemplate": "variable=CAF<br>Mixture=%{x}<br>value=%{y}<extra></extra>",
         "legendgroup": "CAF",
         "marker": {
          "color": "#EF553B",
          "pattern": {
           "shape": ""
          }
         },
         "name": "CAF",
         "offsetgroup": "CAF",
         "orientation": "v",
         "showlegend": true,
         "textposition": "auto",
         "type": "bar",
         "x": [
          "TCGA.EE.A2GR.06A.11R.A18S.07",
          "TCGA.ER.A19Q.06A.11R.A18U.07",
          "TCGA.EE.A2MP.06A.11R.A18S.07",
          "TCGA.GN.A4U4.06A.11R.A32P.07",
          "TCGA.EE.A2ML.06A.11R.A18S.07",
          "TCGA.D3.A2J6.06A.11R.A18T.07",
          "TCGA.XV.AAZV.01A.11R.A40A.07",
          "TCGA.D3.A1Q3.06A.11R.A18T.07",
          "TCGA.D3.A1Q7.06A.11R.A18T.07",
          "TCGA.D3.A1Q5.06A.11R.A18T.07",
          "TCGA.RP.A694.06A.11R.A311.07",
          "TCGA.GN.A4U5.01A.11R.A32P.07",
          "TCGA.ER.A3ET.06A.11R.A20F.07",
          "TCGA.EE.A2GT.06A.12R.A18S.07",
          "TCGA.DA.A1HY.06A.11R.A18T.07",
          "TCGA.EB.A5SH.06A.11R.A311.07",
          "TCGA.EE.A29T.06A.11R.A18T.07",
          "TCGA.EE.A29Q.06A.11R.A18T.07",
          "TCGA.WE.A8ZQ.06A.41R.A37K.07",
          "TCGA.D3.A3CB.06A.11R.A18S.07",
          "TCGA.EB.A6R0.01A.12R.A32P.07",
          "TCGA.EE.A3J5.06A.11R.A20F.07",
          "TCGA.BF.A1PV.01A.11R.A18U.07",
          "TCGA.EE.A2GD.06A.11R.A18T.07",
          "TCGA.D3.A3CF.06A.11R.A18T.07",
          "TCGA.ER.A199.06A.11R.A18T.07",
          "TCGA.D3.A2JP.06A.11R.A18S.07",
          "TCGA.EB.A51B.01A.11R.A27Q.07",
          "TCGA.FS.A1ZA.06A.11R.A18T.07",
          "TCGA.D3.A3MV.06A.11R.A21D.07",
          "TCGA.HR.A2OG.06A.21R.A18U.07",
          "TCGA.LH.A9QB.06A.11R.A38C.07",
          "TCGA.FS.A4F8.06A.11R.A266.07",
          "TCGA.HR.A5NC.01A.11R.A27Q.07",
          "TCGA.EB.A553.01A.12R.A27Q.07",
          "TCGA.D3.A5GO.06A.12R.A27Q.07",
          "TCGA.GN.A268.06A.11R.A18T.07",
          "TCGA.EB.A5SE.01A.11R.A311.07",
          "TCGA.FS.A4F0.06A.11R.A24X.07",
          "TCGA.D3.A1Q6.06A.11R.A18T.07",
          "TCGA.GN.A4U3.06A.11R.A32P.07",
          "TCGA.WE.A8ZY.06A.11R.A37K.07",
          "TCGA.EE.A3JI.06A.11R.A21D.07",
          "TCGA.EB.A24C.01A.11R.A18T.07",
          "TCGA.FS.A1ZD.06A.11R.A18T.07",
          "TCGA.EE.A2GN.06A.11R.A18S.07",
          "TCGA.FS.A1ZK.06A.11R.A18T.07",
          "TCGA.EE.A3JH.06A.11R.A21D.07",
          "TCGA.D3.A3MU.06A.11R.A21D.07",
          "TCGA.GN.A267.06A.21R.A18T.07"
         ],
         "xaxis": "x",
         "y": [
          0.0139020948017563,
          0.0690042645041279,
          0.0415629313324547,
          0.0076345494028098,
          0.0225977921434605,
          0.0342679788624284,
          0.0589602893548129,
          0.0782898028016091,
          0.137498157838421,
          0.330449251694371,
          0.0511392417936436,
          0.0567236987172088,
          0.185774277026062,
          0.104643359340545,
          0.148320719938327,
          0.0706465930826699,
          0.0634110139945237,
          0.0213389271713333,
          0.0887695377444083,
          0.0691029660279728,
          0.0120097419033918,
          0.0600298691421141,
          0.0424635703267524,
          0.301135455160339,
          0.0779050949715185,
          0.0363250541662914,
          0.148243607750547,
          0.0061495746911197,
          0.113168457324593,
          0.0409894155931011,
          0.365215255660076,
          0.0571482141671634,
          0.341075040415385,
          0.0581817060268584,
          0.110065867992612,
          0.0510243683901105,
          0.0013343941555183,
          0.0260133470659202,
          0.0010372611998396,
          0.0554892677759458,
          0.0025329248907937,
          0.0402800316760513,
          0,
          0.0843884963494684,
          0.305570289184792,
          0.0865044696768532,
          0.0223200443892783,
          0.101514905055374,
          0.14076865804049,
          0.0519927387740333
         ],
         "yaxis": "y"
        },
        {
         "alignmentgroup": "True",
         "hovertemplate": "variable=Endothelial<br>Mixture=%{x}<br>value=%{y}<extra></extra>",
         "legendgroup": "Endothelial",
         "marker": {
          "color": "#00cc96",
          "pattern": {
           "shape": ""
          }
         },
         "name": "Endothelial",
         "offsetgroup": "Endothelial",
         "orientation": "v",
         "showlegend": true,
         "textposition": "auto",
         "type": "bar",
         "x": [
          "TCGA.EE.A2GR.06A.11R.A18S.07",
          "TCGA.ER.A19Q.06A.11R.A18U.07",
          "TCGA.EE.A2MP.06A.11R.A18S.07",
          "TCGA.GN.A4U4.06A.11R.A32P.07",
          "TCGA.EE.A2ML.06A.11R.A18S.07",
          "TCGA.D3.A2J6.06A.11R.A18T.07",
          "TCGA.XV.AAZV.01A.11R.A40A.07",
          "TCGA.D3.A1Q3.06A.11R.A18T.07",
          "TCGA.D3.A1Q7.06A.11R.A18T.07",
          "TCGA.D3.A1Q5.06A.11R.A18T.07",
          "TCGA.RP.A694.06A.11R.A311.07",
          "TCGA.GN.A4U5.01A.11R.A32P.07",
          "TCGA.ER.A3ET.06A.11R.A20F.07",
          "TCGA.EE.A2GT.06A.12R.A18S.07",
          "TCGA.DA.A1HY.06A.11R.A18T.07",
          "TCGA.EB.A5SH.06A.11R.A311.07",
          "TCGA.EE.A29T.06A.11R.A18T.07",
          "TCGA.EE.A29Q.06A.11R.A18T.07",
          "TCGA.WE.A8ZQ.06A.41R.A37K.07",
          "TCGA.D3.A3CB.06A.11R.A18S.07",
          "TCGA.EB.A6R0.01A.12R.A32P.07",
          "TCGA.EE.A3J5.06A.11R.A20F.07",
          "TCGA.BF.A1PV.01A.11R.A18U.07",
          "TCGA.EE.A2GD.06A.11R.A18T.07",
          "TCGA.D3.A3CF.06A.11R.A18T.07",
          "TCGA.ER.A199.06A.11R.A18T.07",
          "TCGA.D3.A2JP.06A.11R.A18S.07",
          "TCGA.EB.A51B.01A.11R.A27Q.07",
          "TCGA.FS.A1ZA.06A.11R.A18T.07",
          "TCGA.D3.A3MV.06A.11R.A21D.07",
          "TCGA.HR.A2OG.06A.21R.A18U.07",
          "TCGA.LH.A9QB.06A.11R.A38C.07",
          "TCGA.FS.A4F8.06A.11R.A266.07",
          "TCGA.HR.A5NC.01A.11R.A27Q.07",
          "TCGA.EB.A553.01A.12R.A27Q.07",
          "TCGA.D3.A5GO.06A.12R.A27Q.07",
          "TCGA.GN.A268.06A.11R.A18T.07",
          "TCGA.EB.A5SE.01A.11R.A311.07",
          "TCGA.FS.A4F0.06A.11R.A24X.07",
          "TCGA.D3.A1Q6.06A.11R.A18T.07",
          "TCGA.GN.A4U3.06A.11R.A32P.07",
          "TCGA.WE.A8ZY.06A.11R.A37K.07",
          "TCGA.EE.A3JI.06A.11R.A21D.07",
          "TCGA.EB.A24C.01A.11R.A18T.07",
          "TCGA.FS.A1ZD.06A.11R.A18T.07",
          "TCGA.EE.A2GN.06A.11R.A18S.07",
          "TCGA.FS.A1ZK.06A.11R.A18T.07",
          "TCGA.EE.A3JH.06A.11R.A21D.07",
          "TCGA.D3.A3MU.06A.11R.A21D.07",
          "TCGA.GN.A267.06A.21R.A18T.07"
         ],
         "xaxis": "x",
         "y": [
          0,
          0.002453593795856,
          0.0218699310091119,
          0.0035093446476455,
          0.018023441725243,
          0,
          0.0322281640198933,
          0.0180619549965316,
          0.0657631187721369,
          0.0557466563993384,
          0.002539335145439,
          0.0279686041442764,
          0.0170450084390633,
          0.0689005254846375,
          0.0336606540735259,
          0.0565809978482773,
          0.0038195657579828,
          0.0037509967587927,
          0.0582985947181763,
          0.0257583528228227,
          0,
          0.0164868289010565,
          0,
          0.0371142777461097,
          0.0257480038231,
          0.0076111630153923,
          0.0116244750670401,
          0.003858012647897,
          0.0407761189748956,
          0.0062881374588807,
          0,
          0.0241787723557978,
          0.255615285729635,
          0.0179101399726551,
          0.0380161733141507,
          0.0125523103273814,
          0,
          0.0028722034029012,
          0,
          0.0027297422743311,
          0.0006607147413986,
          0.0010132608649009,
          0,
          0,
          0.0578785290163251,
          0.0164424320619859,
          0,
          0.0261385486687807,
          0.0067054976901449,
          0.0067434655293914
         ],
         "yaxis": "y"
        },
        {
         "alignmentgroup": "True",
         "hovertemplate": "variable=Macrophage<br>Mixture=%{x}<br>value=%{y}<extra></extra>",
         "legendgroup": "Macrophage",
         "marker": {
          "color": "#ab63fa",
          "pattern": {
           "shape": ""
          }
         },
         "name": "Macrophage",
         "offsetgroup": "Macrophage",
         "orientation": "v",
         "showlegend": true,
         "textposition": "auto",
         "type": "bar",
         "x": [
          "TCGA.EE.A2GR.06A.11R.A18S.07",
          "TCGA.ER.A19Q.06A.11R.A18U.07",
          "TCGA.EE.A2MP.06A.11R.A18S.07",
          "TCGA.GN.A4U4.06A.11R.A32P.07",
          "TCGA.EE.A2ML.06A.11R.A18S.07",
          "TCGA.D3.A2J6.06A.11R.A18T.07",
          "TCGA.XV.AAZV.01A.11R.A40A.07",
          "TCGA.D3.A1Q3.06A.11R.A18T.07",
          "TCGA.D3.A1Q7.06A.11R.A18T.07",
          "TCGA.D3.A1Q5.06A.11R.A18T.07",
          "TCGA.RP.A694.06A.11R.A311.07",
          "TCGA.GN.A4U5.01A.11R.A32P.07",
          "TCGA.ER.A3ET.06A.11R.A20F.07",
          "TCGA.EE.A2GT.06A.12R.A18S.07",
          "TCGA.DA.A1HY.06A.11R.A18T.07",
          "TCGA.EB.A5SH.06A.11R.A311.07",
          "TCGA.EE.A29T.06A.11R.A18T.07",
          "TCGA.EE.A29Q.06A.11R.A18T.07",
          "TCGA.WE.A8ZQ.06A.41R.A37K.07",
          "TCGA.D3.A3CB.06A.11R.A18S.07",
          "TCGA.EB.A6R0.01A.12R.A32P.07",
          "TCGA.EE.A3J5.06A.11R.A20F.07",
          "TCGA.BF.A1PV.01A.11R.A18U.07",
          "TCGA.EE.A2GD.06A.11R.A18T.07",
          "TCGA.D3.A3CF.06A.11R.A18T.07",
          "TCGA.ER.A199.06A.11R.A18T.07",
          "TCGA.D3.A2JP.06A.11R.A18S.07",
          "TCGA.EB.A51B.01A.11R.A27Q.07",
          "TCGA.FS.A1ZA.06A.11R.A18T.07",
          "TCGA.D3.A3MV.06A.11R.A21D.07",
          "TCGA.HR.A2OG.06A.21R.A18U.07",
          "TCGA.LH.A9QB.06A.11R.A38C.07",
          "TCGA.FS.A4F8.06A.11R.A266.07",
          "TCGA.HR.A5NC.01A.11R.A27Q.07",
          "TCGA.EB.A553.01A.12R.A27Q.07",
          "TCGA.D3.A5GO.06A.12R.A27Q.07",
          "TCGA.GN.A268.06A.11R.A18T.07",
          "TCGA.EB.A5SE.01A.11R.A311.07",
          "TCGA.FS.A4F0.06A.11R.A24X.07",
          "TCGA.D3.A1Q6.06A.11R.A18T.07",
          "TCGA.GN.A4U3.06A.11R.A32P.07",
          "TCGA.WE.A8ZY.06A.11R.A37K.07",
          "TCGA.EE.A3JI.06A.11R.A21D.07",
          "TCGA.EB.A24C.01A.11R.A18T.07",
          "TCGA.FS.A1ZD.06A.11R.A18T.07",
          "TCGA.EE.A2GN.06A.11R.A18S.07",
          "TCGA.FS.A1ZK.06A.11R.A18T.07",
          "TCGA.EE.A3JH.06A.11R.A21D.07",
          "TCGA.D3.A3MU.06A.11R.A21D.07",
          "TCGA.GN.A267.06A.21R.A18T.07"
         ],
         "xaxis": "x",
         "y": [
          0,
          0.12492535008564,
          0.0896693333691099,
          0,
          0.0291116648243489,
          0.0236726229415823,
          0.0871738015510161,
          0.0343364225061899,
          0.17242794361847,
          0,
          0.0421373720871666,
          0.0604528397917211,
          0.0822562505588383,
          0.036650599795107,
          0.0027297202227166,
          0.0100758593147321,
          0.121289536933289,
          0.004975129026913,
          0.0005877872211079,
          0.235438576828052,
          0.0481160380692743,
          0.0511995859684261,
          0,
          0.0549957426395611,
          0.0681753685167549,
          0.0665168863070828,
          0.0612239842146326,
          0.0153258057263425,
          0.0423643312683774,
          0.0056175547885882,
          0.0539709322937454,
          0.0036807273058818,
          0.0601694400486147,
          0.0156386157231619,
          0.0247603133835389,
          0.0521573999062456,
          0,
          0.0018609302689064,
          0,
          0.0246035849411421,
          0.0029457112066029,
          0.0116062709719198,
          0.0212120952220762,
          0.0021981133057584,
          0.0330274668143318,
          0.0226788468549043,
          0,
          0.210767545999382,
          0.034313088939859,
          0.0381244215786813
         ],
         "yaxis": "y"
        },
        {
         "alignmentgroup": "True",
         "hovertemplate": "variable=Malignant<br>Mixture=%{x}<br>value=%{y}<extra></extra>",
         "legendgroup": "Malignant",
         "marker": {
          "color": "#FFA15A",
          "pattern": {
           "shape": ""
          }
         },
         "name": "Malignant",
         "offsetgroup": "Malignant",
         "orientation": "v",
         "showlegend": true,
         "textposition": "auto",
         "type": "bar",
         "x": [
          "TCGA.EE.A2GR.06A.11R.A18S.07",
          "TCGA.ER.A19Q.06A.11R.A18U.07",
          "TCGA.EE.A2MP.06A.11R.A18S.07",
          "TCGA.GN.A4U4.06A.11R.A32P.07",
          "TCGA.EE.A2ML.06A.11R.A18S.07",
          "TCGA.D3.A2J6.06A.11R.A18T.07",
          "TCGA.XV.AAZV.01A.11R.A40A.07",
          "TCGA.D3.A1Q3.06A.11R.A18T.07",
          "TCGA.D3.A1Q7.06A.11R.A18T.07",
          "TCGA.D3.A1Q5.06A.11R.A18T.07",
          "TCGA.RP.A694.06A.11R.A311.07",
          "TCGA.GN.A4U5.01A.11R.A32P.07",
          "TCGA.ER.A3ET.06A.11R.A20F.07",
          "TCGA.EE.A2GT.06A.12R.A18S.07",
          "TCGA.DA.A1HY.06A.11R.A18T.07",
          "TCGA.EB.A5SH.06A.11R.A311.07",
          "TCGA.EE.A29T.06A.11R.A18T.07",
          "TCGA.EE.A29Q.06A.11R.A18T.07",
          "TCGA.WE.A8ZQ.06A.41R.A37K.07",
          "TCGA.D3.A3CB.06A.11R.A18S.07",
          "TCGA.EB.A6R0.01A.12R.A32P.07",
          "TCGA.EE.A3J5.06A.11R.A20F.07",
          "TCGA.BF.A1PV.01A.11R.A18U.07",
          "TCGA.EE.A2GD.06A.11R.A18T.07",
          "TCGA.D3.A3CF.06A.11R.A18T.07",
          "TCGA.ER.A199.06A.11R.A18T.07",
          "TCGA.D3.A2JP.06A.11R.A18S.07",
          "TCGA.EB.A51B.01A.11R.A27Q.07",
          "TCGA.FS.A1ZA.06A.11R.A18T.07",
          "TCGA.D3.A3MV.06A.11R.A21D.07",
          "TCGA.HR.A2OG.06A.21R.A18U.07",
          "TCGA.LH.A9QB.06A.11R.A38C.07",
          "TCGA.FS.A4F8.06A.11R.A266.07",
          "TCGA.HR.A5NC.01A.11R.A27Q.07",
          "TCGA.EB.A553.01A.12R.A27Q.07",
          "TCGA.D3.A5GO.06A.12R.A27Q.07",
          "TCGA.GN.A268.06A.11R.A18T.07",
          "TCGA.EB.A5SE.01A.11R.A311.07",
          "TCGA.FS.A4F0.06A.11R.A24X.07",
          "TCGA.D3.A1Q6.06A.11R.A18T.07",
          "TCGA.GN.A4U3.06A.11R.A32P.07",
          "TCGA.WE.A8ZY.06A.11R.A37K.07",
          "TCGA.EE.A3JI.06A.11R.A21D.07",
          "TCGA.EB.A24C.01A.11R.A18T.07",
          "TCGA.FS.A1ZD.06A.11R.A18T.07",
          "TCGA.EE.A2GN.06A.11R.A18S.07",
          "TCGA.FS.A1ZK.06A.11R.A18T.07",
          "TCGA.EE.A3JH.06A.11R.A21D.07",
          "TCGA.D3.A3MU.06A.11R.A21D.07",
          "TCGA.GN.A267.06A.21R.A18T.07"
         ],
         "xaxis": "x",
         "y": [
          0.986097905198244,
          0.773232394395117,
          0.816654667848114,
          0.978296247150329,
          0.893210349247047,
          0.924549777416979,
          0.782798882386192,
          0.773967599441647,
          0.43467391759108,
          0.588546069726297,
          0.873566010316791,
          0.758003766132687,
          0.682089818413781,
          0.616835817187656,
          0.805981847371127,
          0.787430081098541,
          0.775467392070299,
          0.96431914213203,
          0.840601306355948,
          0.479292092298245,
          0.795943277283825,
          0.820352118438684,
          0.944364935080143,
          0.533532437459306,
          0.706226733123222,
          0.75815195280009,
          0.734437494591492,
          0.923179355553656,
          0.792771136711319,
          0.932298296911396,
          0.559887191379701,
          0.906196573124041,
          0.143712960623814,
          0.893805158820972,
          0.801875427452313,
          0.844975098698614,
          0.995037028225294,
          0.964885205682267,
          0.986110404518701,
          0.884050780949688,
          0.97838333187246,
          0.942905559888541,
          0.960163343859724,
          0.905009321101855,
          0.561267349870376,
          0.858256565606401,
          0.973297555090216,
          0.434534230951011,
          0.792066942253041,
          0.845369103806792
         ],
         "yaxis": "y"
        },
        {
         "alignmentgroup": "True",
         "hovertemplate": "variable=NK<br>Mixture=%{x}<br>value=%{y}<extra></extra>",
         "legendgroup": "NK",
         "marker": {
          "color": "#19d3f3",
          "pattern": {
           "shape": ""
          }
         },
         "name": "NK",
         "offsetgroup": "NK",
         "orientation": "v",
         "showlegend": true,
         "textposition": "auto",
         "type": "bar",
         "x": [
          "TCGA.EE.A2GR.06A.11R.A18S.07",
          "TCGA.ER.A19Q.06A.11R.A18U.07",
          "TCGA.EE.A2MP.06A.11R.A18S.07",
          "TCGA.GN.A4U4.06A.11R.A32P.07",
          "TCGA.EE.A2ML.06A.11R.A18S.07",
          "TCGA.D3.A2J6.06A.11R.A18T.07",
          "TCGA.XV.AAZV.01A.11R.A40A.07",
          "TCGA.D3.A1Q3.06A.11R.A18T.07",
          "TCGA.D3.A1Q7.06A.11R.A18T.07",
          "TCGA.D3.A1Q5.06A.11R.A18T.07",
          "TCGA.RP.A694.06A.11R.A311.07",
          "TCGA.GN.A4U5.01A.11R.A32P.07",
          "TCGA.ER.A3ET.06A.11R.A20F.07",
          "TCGA.EE.A2GT.06A.12R.A18S.07",
          "TCGA.DA.A1HY.06A.11R.A18T.07",
          "TCGA.EB.A5SH.06A.11R.A311.07",
          "TCGA.EE.A29T.06A.11R.A18T.07",
          "TCGA.EE.A29Q.06A.11R.A18T.07",
          "TCGA.WE.A8ZQ.06A.41R.A37K.07",
          "TCGA.D3.A3CB.06A.11R.A18S.07",
          "TCGA.EB.A6R0.01A.12R.A32P.07",
          "TCGA.EE.A3J5.06A.11R.A20F.07",
          "TCGA.BF.A1PV.01A.11R.A18U.07",
          "TCGA.EE.A2GD.06A.11R.A18T.07",
          "TCGA.D3.A3CF.06A.11R.A18T.07",
          "TCGA.ER.A199.06A.11R.A18T.07",
          "TCGA.D3.A2JP.06A.11R.A18S.07",
          "TCGA.EB.A51B.01A.11R.A27Q.07",
          "TCGA.FS.A1ZA.06A.11R.A18T.07",
          "TCGA.D3.A3MV.06A.11R.A21D.07",
          "TCGA.HR.A2OG.06A.21R.A18U.07",
          "TCGA.LH.A9QB.06A.11R.A38C.07",
          "TCGA.FS.A4F8.06A.11R.A266.07",
          "TCGA.HR.A5NC.01A.11R.A27Q.07",
          "TCGA.EB.A553.01A.12R.A27Q.07",
          "TCGA.D3.A5GO.06A.12R.A27Q.07",
          "TCGA.GN.A268.06A.11R.A18T.07",
          "TCGA.EB.A5SE.01A.11R.A311.07",
          "TCGA.FS.A4F0.06A.11R.A24X.07",
          "TCGA.D3.A1Q6.06A.11R.A18T.07",
          "TCGA.GN.A4U3.06A.11R.A32P.07",
          "TCGA.WE.A8ZY.06A.11R.A37K.07",
          "TCGA.EE.A3JI.06A.11R.A21D.07",
          "TCGA.EB.A24C.01A.11R.A18T.07",
          "TCGA.FS.A1ZD.06A.11R.A18T.07",
          "TCGA.EE.A2GN.06A.11R.A18S.07",
          "TCGA.FS.A1ZK.06A.11R.A18T.07",
          "TCGA.EE.A3JH.06A.11R.A21D.07",
          "TCGA.D3.A3MU.06A.11R.A21D.07",
          "TCGA.GN.A267.06A.21R.A18T.07"
         ],
         "xaxis": "x",
         "y": [
          0,
          0,
          0,
          0,
          0.0002857880057654,
          0,
          0.0005795433547288,
          0,
          0,
          0,
          0,
          0,
          0,
          0,
          0,
          0.0043654740430021,
          0,
          0,
          0,
          0,
          0,
          0,
          0,
          0,
          0,
          0,
          0,
          0,
          0,
          0,
          0,
          0.0001699583094281,
          0,
          0,
          0,
          0,
          0,
          0,
          0,
          0,
          0,
          0,
          0,
          0,
          0.0206468809152992,
          0,
          0,
          0,
          0,
          0
         ],
         "yaxis": "y"
        },
        {
         "alignmentgroup": "True",
         "hovertemplate": "variable=T<br>Mixture=%{x}<br>value=%{y}<extra></extra>",
         "legendgroup": "T",
         "marker": {
          "color": "#FF6692",
          "pattern": {
           "shape": ""
          }
         },
         "name": "T",
         "offsetgroup": "T",
         "orientation": "v",
         "showlegend": true,
         "textposition": "auto",
         "type": "bar",
         "x": [
          "TCGA.EE.A2GR.06A.11R.A18S.07",
          "TCGA.ER.A19Q.06A.11R.A18U.07",
          "TCGA.EE.A2MP.06A.11R.A18S.07",
          "TCGA.GN.A4U4.06A.11R.A32P.07",
          "TCGA.EE.A2ML.06A.11R.A18S.07",
          "TCGA.D3.A2J6.06A.11R.A18T.07",
          "TCGA.XV.AAZV.01A.11R.A40A.07",
          "TCGA.D3.A1Q3.06A.11R.A18T.07",
          "TCGA.D3.A1Q7.06A.11R.A18T.07",
          "TCGA.D3.A1Q5.06A.11R.A18T.07",
          "TCGA.RP.A694.06A.11R.A311.07",
          "TCGA.GN.A4U5.01A.11R.A32P.07",
          "TCGA.ER.A3ET.06A.11R.A20F.07",
          "TCGA.EE.A2GT.06A.12R.A18S.07",
          "TCGA.DA.A1HY.06A.11R.A18T.07",
          "TCGA.EB.A5SH.06A.11R.A311.07",
          "TCGA.EE.A29T.06A.11R.A18T.07",
          "TCGA.EE.A29Q.06A.11R.A18T.07",
          "TCGA.WE.A8ZQ.06A.41R.A37K.07",
          "TCGA.D3.A3CB.06A.11R.A18S.07",
          "TCGA.EB.A6R0.01A.12R.A32P.07",
          "TCGA.EE.A3J5.06A.11R.A20F.07",
          "TCGA.BF.A1PV.01A.11R.A18U.07",
          "TCGA.EE.A2GD.06A.11R.A18T.07",
          "TCGA.D3.A3CF.06A.11R.A18T.07",
          "TCGA.ER.A199.06A.11R.A18T.07",
          "TCGA.D3.A2JP.06A.11R.A18S.07",
          "TCGA.EB.A51B.01A.11R.A27Q.07",
          "TCGA.FS.A1ZA.06A.11R.A18T.07",
          "TCGA.D3.A3MV.06A.11R.A21D.07",
          "TCGA.HR.A2OG.06A.21R.A18U.07",
          "TCGA.LH.A9QB.06A.11R.A38C.07",
          "TCGA.FS.A4F8.06A.11R.A266.07",
          "TCGA.HR.A5NC.01A.11R.A27Q.07",
          "TCGA.EB.A553.01A.12R.A27Q.07",
          "TCGA.D3.A5GO.06A.12R.A27Q.07",
          "TCGA.GN.A268.06A.11R.A18T.07",
          "TCGA.EB.A5SE.01A.11R.A311.07",
          "TCGA.FS.A4F0.06A.11R.A24X.07",
          "TCGA.D3.A1Q6.06A.11R.A18T.07",
          "TCGA.GN.A4U3.06A.11R.A32P.07",
          "TCGA.WE.A8ZY.06A.11R.A37K.07",
          "TCGA.EE.A3JI.06A.11R.A21D.07",
          "TCGA.EB.A24C.01A.11R.A18T.07",
          "TCGA.FS.A1ZD.06A.11R.A18T.07",
          "TCGA.EE.A2GN.06A.11R.A18S.07",
          "TCGA.FS.A1ZK.06A.11R.A18T.07",
          "TCGA.EE.A3JH.06A.11R.A21D.07",
          "TCGA.D3.A3MU.06A.11R.A21D.07",
          "TCGA.GN.A267.06A.21R.A18T.07"
         ],
         "xaxis": "x",
         "y": [
          0,
          0,
          0,
          0.0014339462282107,
          0,
          0,
          0,
          0,
          0,
          0.0252580221799934,
          0,
          0,
          0,
          0.0049611735511777,
          0,
          0,
          0,
          0,
          0.0117427739603591,
          0,
          0,
          0,
          0,
          0,
          0,
          0,
          0,
          0,
          0,
          0,
          0,
          0,
          0,
          0.0144643794563529,
          0,
          0,
          0,
          0.000796903914658,
          0,
          0.0331266240588935,
          0,
          0.0026312892870499,
          0,
          0.0057489078811142,
          0,
          0.0161176857998556,
          0.0025494727396935,
          0,
          0,
          0
         ],
         "yaxis": "y"
        },
        {
         "alignmentgroup": "True",
         "hovertemplate": "variable=T CD4<br>Mixture=%{x}<br>value=%{y}<extra></extra>",
         "legendgroup": "T CD4",
         "marker": {
          "color": "#B6E880",
          "pattern": {
           "shape": ""
          }
         },
         "name": "T CD4",
         "offsetgroup": "T CD4",
         "orientation": "v",
         "showlegend": true,
         "textposition": "auto",
         "type": "bar",
         "x": [
          "TCGA.EE.A2GR.06A.11R.A18S.07",
          "TCGA.ER.A19Q.06A.11R.A18U.07",
          "TCGA.EE.A2MP.06A.11R.A18S.07",
          "TCGA.GN.A4U4.06A.11R.A32P.07",
          "TCGA.EE.A2ML.06A.11R.A18S.07",
          "TCGA.D3.A2J6.06A.11R.A18T.07",
          "TCGA.XV.AAZV.01A.11R.A40A.07",
          "TCGA.D3.A1Q3.06A.11R.A18T.07",
          "TCGA.D3.A1Q7.06A.11R.A18T.07",
          "TCGA.D3.A1Q5.06A.11R.A18T.07",
          "TCGA.RP.A694.06A.11R.A311.07",
          "TCGA.GN.A4U5.01A.11R.A32P.07",
          "TCGA.ER.A3ET.06A.11R.A20F.07",
          "TCGA.EE.A2GT.06A.12R.A18S.07",
          "TCGA.DA.A1HY.06A.11R.A18T.07",
          "TCGA.EB.A5SH.06A.11R.A311.07",
          "TCGA.EE.A29T.06A.11R.A18T.07",
          "TCGA.EE.A29Q.06A.11R.A18T.07",
          "TCGA.WE.A8ZQ.06A.41R.A37K.07",
          "TCGA.D3.A3CB.06A.11R.A18S.07",
          "TCGA.EB.A6R0.01A.12R.A32P.07",
          "TCGA.EE.A3J5.06A.11R.A20F.07",
          "TCGA.BF.A1PV.01A.11R.A18U.07",
          "TCGA.EE.A2GD.06A.11R.A18T.07",
          "TCGA.D3.A3CF.06A.11R.A18T.07",
          "TCGA.ER.A199.06A.11R.A18T.07",
          "TCGA.D3.A2JP.06A.11R.A18S.07",
          "TCGA.EB.A51B.01A.11R.A27Q.07",
          "TCGA.FS.A1ZA.06A.11R.A18T.07",
          "TCGA.D3.A3MV.06A.11R.A21D.07",
          "TCGA.HR.A2OG.06A.21R.A18U.07",
          "TCGA.LH.A9QB.06A.11R.A38C.07",
          "TCGA.FS.A4F8.06A.11R.A266.07",
          "TCGA.HR.A5NC.01A.11R.A27Q.07",
          "TCGA.EB.A553.01A.12R.A27Q.07",
          "TCGA.D3.A5GO.06A.12R.A27Q.07",
          "TCGA.GN.A268.06A.11R.A18T.07",
          "TCGA.EB.A5SE.01A.11R.A311.07",
          "TCGA.FS.A4F0.06A.11R.A24X.07",
          "TCGA.D3.A1Q6.06A.11R.A18T.07",
          "TCGA.GN.A4U3.06A.11R.A32P.07",
          "TCGA.WE.A8ZY.06A.11R.A37K.07",
          "TCGA.EE.A3JI.06A.11R.A21D.07",
          "TCGA.EB.A24C.01A.11R.A18T.07",
          "TCGA.FS.A1ZD.06A.11R.A18T.07",
          "TCGA.EE.A2GN.06A.11R.A18S.07",
          "TCGA.FS.A1ZK.06A.11R.A18T.07",
          "TCGA.EE.A3JH.06A.11R.A21D.07",
          "TCGA.D3.A3MU.06A.11R.A21D.07",
          "TCGA.GN.A267.06A.21R.A18T.07"
         ],
         "xaxis": "x",
         "y": [
          0,
          0.0291867215223043,
          0.0240920224823896,
          0.0002249293916382,
          0.0215135597615458,
          0.0035658420325792,
          0.0362736894260579,
          0.0388085991922941,
          0.111372072353973,
          0,
          0.0065251451543867,
          0.0445663067564443,
          0.032834645562256,
          0.0437767921234102,
          0.0070548321087634,
          0.0222017999281478,
          0.0285696682598123,
          0.0028327445913138,
          0,
          0.0920826253273585,
          0.0476869651931267,
          0.0174475025798177,
          0.0095804348352154,
          0.0062176883587415,
          0.0471413140185858,
          0.0692339149080943,
          0.0365328299278101,
          0.0023516248538771,
          0,
          0.014806595248034,
          0.0188778603537786,
          0.0086257547376878,
          0.0954182726262872,
          0,
          0.0228015602723877,
          0.0251583996846845,
          0,
          0,
          0.010544743852622,
          0,
          0.015477317288745,
          0,
          0.0186245609182002,
          0,
          0.0039398298922761,
          0,
          0,
          0.125222944480973,
          0.0054260696992918,
          0.0300303235994938
         ],
         "yaxis": "y"
        },
        {
         "alignmentgroup": "True",
         "hovertemplate": "variable=T CD8<br>Mixture=%{x}<br>value=%{y}<extra></extra>",
         "legendgroup": "T CD8",
         "marker": {
          "color": "#FF97FF",
          "pattern": {
           "shape": ""
          }
         },
         "name": "T CD8",
         "offsetgroup": "T CD8",
         "orientation": "v",
         "showlegend": true,
         "textposition": "auto",
         "type": "bar",
         "x": [
          "TCGA.EE.A2GR.06A.11R.A18S.07",
          "TCGA.ER.A19Q.06A.11R.A18U.07",
          "TCGA.EE.A2MP.06A.11R.A18S.07",
          "TCGA.GN.A4U4.06A.11R.A32P.07",
          "TCGA.EE.A2ML.06A.11R.A18S.07",
          "TCGA.D3.A2J6.06A.11R.A18T.07",
          "TCGA.XV.AAZV.01A.11R.A40A.07",
          "TCGA.D3.A1Q3.06A.11R.A18T.07",
          "TCGA.D3.A1Q7.06A.11R.A18T.07",
          "TCGA.D3.A1Q5.06A.11R.A18T.07",
          "TCGA.RP.A694.06A.11R.A311.07",
          "TCGA.GN.A4U5.01A.11R.A32P.07",
          "TCGA.ER.A3ET.06A.11R.A20F.07",
          "TCGA.EE.A2GT.06A.12R.A18S.07",
          "TCGA.DA.A1HY.06A.11R.A18T.07",
          "TCGA.EB.A5SH.06A.11R.A311.07",
          "TCGA.EE.A29T.06A.11R.A18T.07",
          "TCGA.EE.A29Q.06A.11R.A18T.07",
          "TCGA.WE.A8ZQ.06A.41R.A37K.07",
          "TCGA.D3.A3CB.06A.11R.A18S.07",
          "TCGA.EB.A6R0.01A.12R.A32P.07",
          "TCGA.EE.A3J5.06A.11R.A20F.07",
          "TCGA.BF.A1PV.01A.11R.A18U.07",
          "TCGA.EE.A2GD.06A.11R.A18T.07",
          "TCGA.D3.A3CF.06A.11R.A18T.07",
          "TCGA.ER.A199.06A.11R.A18T.07",
          "TCGA.D3.A2JP.06A.11R.A18S.07",
          "TCGA.EB.A51B.01A.11R.A27Q.07",
          "TCGA.FS.A1ZA.06A.11R.A18T.07",
          "TCGA.D3.A3MV.06A.11R.A21D.07",
          "TCGA.HR.A2OG.06A.21R.A18U.07",
          "TCGA.LH.A9QB.06A.11R.A38C.07",
          "TCGA.FS.A4F8.06A.11R.A266.07",
          "TCGA.HR.A5NC.01A.11R.A27Q.07",
          "TCGA.EB.A553.01A.12R.A27Q.07",
          "TCGA.D3.A5GO.06A.12R.A27Q.07",
          "TCGA.GN.A268.06A.11R.A18T.07",
          "TCGA.EB.A5SE.01A.11R.A311.07",
          "TCGA.FS.A4F0.06A.11R.A24X.07",
          "TCGA.D3.A1Q6.06A.11R.A18T.07",
          "TCGA.GN.A4U3.06A.11R.A32P.07",
          "TCGA.WE.A8ZY.06A.11R.A37K.07",
          "TCGA.EE.A3JI.06A.11R.A21D.07",
          "TCGA.EB.A24C.01A.11R.A18T.07",
          "TCGA.FS.A1ZD.06A.11R.A18T.07",
          "TCGA.EE.A2GN.06A.11R.A18S.07",
          "TCGA.FS.A1ZK.06A.11R.A18T.07",
          "TCGA.EE.A3JH.06A.11R.A21D.07",
          "TCGA.D3.A3MU.06A.11R.A21D.07",
          "TCGA.GN.A267.06A.21R.A18T.07"
         ],
         "xaxis": "x",
         "y": [
          0,
          0,
          0.0061511139588197,
          0,
          0,
          0.01095350294215,
          0.0019856299072992,
          0,
          0.0643618164118409,
          0,
          0,
          0.0332335441199956,
          0,
          0,
          0,
          0,
          0.0053960547118082,
          0,
          0,
          0.0504939620125089,
          0.045306074781668,
          0.0051190761612601,
          0,
          0.0063997779888961,
          0,
          0.0051336324638743,
          0.0079376084484784,
          0.0067610186884112,
          0,
          0,
          0,
          0,
          0,
          0,
          0,
          0.0066625806810738,
          0,
          0,
          0,
          0,
          0,
          0,
          0,
          0,
          0,
          0,
          0,
          0.0460142270134905,
          0,
          0.0080245230693493
         ],
         "yaxis": "y"
        }
       ],
       "layout": {
        "barmode": "relative",
        "legend": {
         "title": {
          "text": "variable"
         },
         "tracegroupgap": 0
        },
        "margin": {
         "t": 60
        },
        "template": {
         "data": {
          "bar": [
           {
            "error_x": {
             "color": "#2a3f5f"
            },
            "error_y": {
             "color": "#2a3f5f"
            },
            "marker": {
             "line": {
              "color": "#E5ECF6",
              "width": 0.5
             },
             "pattern": {
              "fillmode": "overlay",
              "size": 10,
              "solidity": 0.2
             }
            },
            "type": "bar"
           }
          ],
          "barpolar": [
           {
            "marker": {
             "line": {
              "color": "#E5ECF6",
              "width": 0.5
             },
             "pattern": {
              "fillmode": "overlay",
              "size": 10,
              "solidity": 0.2
             }
            },
            "type": "barpolar"
           }
          ],
          "carpet": [
           {
            "aaxis": {
             "endlinecolor": "#2a3f5f",
             "gridcolor": "white",
             "linecolor": "white",
             "minorgridcolor": "white",
             "startlinecolor": "#2a3f5f"
            },
            "baxis": {
             "endlinecolor": "#2a3f5f",
             "gridcolor": "white",
             "linecolor": "white",
             "minorgridcolor": "white",
             "startlinecolor": "#2a3f5f"
            },
            "type": "carpet"
           }
          ],
          "choropleth": [
           {
            "colorbar": {
             "outlinewidth": 0,
             "ticks": ""
            },
            "type": "choropleth"
           }
          ],
          "contour": [
           {
            "colorbar": {
             "outlinewidth": 0,
             "ticks": ""
            },
            "colorscale": [
             [
              0,
              "#0d0887"
             ],
             [
              0.1111111111111111,
              "#46039f"
             ],
             [
              0.2222222222222222,
              "#7201a8"
             ],
             [
              0.3333333333333333,
              "#9c179e"
             ],
             [
              0.4444444444444444,
              "#bd3786"
             ],
             [
              0.5555555555555556,
              "#d8576b"
             ],
             [
              0.6666666666666666,
              "#ed7953"
             ],
             [
              0.7777777777777778,
              "#fb9f3a"
             ],
             [
              0.8888888888888888,
              "#fdca26"
             ],
             [
              1,
              "#f0f921"
             ]
            ],
            "type": "contour"
           }
          ],
          "contourcarpet": [
           {
            "colorbar": {
             "outlinewidth": 0,
             "ticks": ""
            },
            "type": "contourcarpet"
           }
          ],
          "heatmap": [
           {
            "colorbar": {
             "outlinewidth": 0,
             "ticks": ""
            },
            "colorscale": [
             [
              0,
              "#0d0887"
             ],
             [
              0.1111111111111111,
              "#46039f"
             ],
             [
              0.2222222222222222,
              "#7201a8"
             ],
             [
              0.3333333333333333,
              "#9c179e"
             ],
             [
              0.4444444444444444,
              "#bd3786"
             ],
             [
              0.5555555555555556,
              "#d8576b"
             ],
             [
              0.6666666666666666,
              "#ed7953"
             ],
             [
              0.7777777777777778,
              "#fb9f3a"
             ],
             [
              0.8888888888888888,
              "#fdca26"
             ],
             [
              1,
              "#f0f921"
             ]
            ],
            "type": "heatmap"
           }
          ],
          "heatmapgl": [
           {
            "colorbar": {
             "outlinewidth": 0,
             "ticks": ""
            },
            "colorscale": [
             [
              0,
              "#0d0887"
             ],
             [
              0.1111111111111111,
              "#46039f"
             ],
             [
              0.2222222222222222,
              "#7201a8"
             ],
             [
              0.3333333333333333,
              "#9c179e"
             ],
             [
              0.4444444444444444,
              "#bd3786"
             ],
             [
              0.5555555555555556,
              "#d8576b"
             ],
             [
              0.6666666666666666,
              "#ed7953"
             ],
             [
              0.7777777777777778,
              "#fb9f3a"
             ],
             [
              0.8888888888888888,
              "#fdca26"
             ],
             [
              1,
              "#f0f921"
             ]
            ],
            "type": "heatmapgl"
           }
          ],
          "histogram": [
           {
            "marker": {
             "pattern": {
              "fillmode": "overlay",
              "size": 10,
              "solidity": 0.2
             }
            },
            "type": "histogram"
           }
          ],
          "histogram2d": [
           {
            "colorbar": {
             "outlinewidth": 0,
             "ticks": ""
            },
            "colorscale": [
             [
              0,
              "#0d0887"
             ],
             [
              0.1111111111111111,
              "#46039f"
             ],
             [
              0.2222222222222222,
              "#7201a8"
             ],
             [
              0.3333333333333333,
              "#9c179e"
             ],
             [
              0.4444444444444444,
              "#bd3786"
             ],
             [
              0.5555555555555556,
              "#d8576b"
             ],
             [
              0.6666666666666666,
              "#ed7953"
             ],
             [
              0.7777777777777778,
              "#fb9f3a"
             ],
             [
              0.8888888888888888,
              "#fdca26"
             ],
             [
              1,
              "#f0f921"
             ]
            ],
            "type": "histogram2d"
           }
          ],
          "histogram2dcontour": [
           {
            "colorbar": {
             "outlinewidth": 0,
             "ticks": ""
            },
            "colorscale": [
             [
              0,
              "#0d0887"
             ],
             [
              0.1111111111111111,
              "#46039f"
             ],
             [
              0.2222222222222222,
              "#7201a8"
             ],
             [
              0.3333333333333333,
              "#9c179e"
             ],
             [
              0.4444444444444444,
              "#bd3786"
             ],
             [
              0.5555555555555556,
              "#d8576b"
             ],
             [
              0.6666666666666666,
              "#ed7953"
             ],
             [
              0.7777777777777778,
              "#fb9f3a"
             ],
             [
              0.8888888888888888,
              "#fdca26"
             ],
             [
              1,
              "#f0f921"
             ]
            ],
            "type": "histogram2dcontour"
           }
          ],
          "mesh3d": [
           {
            "colorbar": {
             "outlinewidth": 0,
             "ticks": ""
            },
            "type": "mesh3d"
           }
          ],
          "parcoords": [
           {
            "line": {
             "colorbar": {
              "outlinewidth": 0,
              "ticks": ""
             }
            },
            "type": "parcoords"
           }
          ],
          "pie": [
           {
            "automargin": true,
            "type": "pie"
           }
          ],
          "scatter": [
           {
            "marker": {
             "colorbar": {
              "outlinewidth": 0,
              "ticks": ""
             }
            },
            "type": "scatter"
           }
          ],
          "scatter3d": [
           {
            "line": {
             "colorbar": {
              "outlinewidth": 0,
              "ticks": ""
             }
            },
            "marker": {
             "colorbar": {
              "outlinewidth": 0,
              "ticks": ""
             }
            },
            "type": "scatter3d"
           }
          ],
          "scattercarpet": [
           {
            "marker": {
             "colorbar": {
              "outlinewidth": 0,
              "ticks": ""
             }
            },
            "type": "scattercarpet"
           }
          ],
          "scattergeo": [
           {
            "marker": {
             "colorbar": {
              "outlinewidth": 0,
              "ticks": ""
             }
            },
            "type": "scattergeo"
           }
          ],
          "scattergl": [
           {
            "marker": {
             "colorbar": {
              "outlinewidth": 0,
              "ticks": ""
             }
            },
            "type": "scattergl"
           }
          ],
          "scattermapbox": [
           {
            "marker": {
             "colorbar": {
              "outlinewidth": 0,
              "ticks": ""
             }
            },
            "type": "scattermapbox"
           }
          ],
          "scatterpolar": [
           {
            "marker": {
             "colorbar": {
              "outlinewidth": 0,
              "ticks": ""
             }
            },
            "type": "scatterpolar"
           }
          ],
          "scatterpolargl": [
           {
            "marker": {
             "colorbar": {
              "outlinewidth": 0,
              "ticks": ""
             }
            },
            "type": "scatterpolargl"
           }
          ],
          "scatterternary": [
           {
            "marker": {
             "colorbar": {
              "outlinewidth": 0,
              "ticks": ""
             }
            },
            "type": "scatterternary"
           }
          ],
          "surface": [
           {
            "colorbar": {
             "outlinewidth": 0,
             "ticks": ""
            },
            "colorscale": [
             [
              0,
              "#0d0887"
             ],
             [
              0.1111111111111111,
              "#46039f"
             ],
             [
              0.2222222222222222,
              "#7201a8"
             ],
             [
              0.3333333333333333,
              "#9c179e"
             ],
             [
              0.4444444444444444,
              "#bd3786"
             ],
             [
              0.5555555555555556,
              "#d8576b"
             ],
             [
              0.6666666666666666,
              "#ed7953"
             ],
             [
              0.7777777777777778,
              "#fb9f3a"
             ],
             [
              0.8888888888888888,
              "#fdca26"
             ],
             [
              1,
              "#f0f921"
             ]
            ],
            "type": "surface"
           }
          ],
          "table": [
           {
            "cells": {
             "fill": {
              "color": "#EBF0F8"
             },
             "line": {
              "color": "white"
             }
            },
            "header": {
             "fill": {
              "color": "#C8D4E3"
             },
             "line": {
              "color": "white"
             }
            },
            "type": "table"
           }
          ]
         },
         "layout": {
          "annotationdefaults": {
           "arrowcolor": "#2a3f5f",
           "arrowhead": 0,
           "arrowwidth": 1
          },
          "autotypenumbers": "strict",
          "coloraxis": {
           "colorbar": {
            "outlinewidth": 0,
            "ticks": ""
           }
          },
          "colorscale": {
           "diverging": [
            [
             0,
             "#8e0152"
            ],
            [
             0.1,
             "#c51b7d"
            ],
            [
             0.2,
             "#de77ae"
            ],
            [
             0.3,
             "#f1b6da"
            ],
            [
             0.4,
             "#fde0ef"
            ],
            [
             0.5,
             "#f7f7f7"
            ],
            [
             0.6,
             "#e6f5d0"
            ],
            [
             0.7,
             "#b8e186"
            ],
            [
             0.8,
             "#7fbc41"
            ],
            [
             0.9,
             "#4d9221"
            ],
            [
             1,
             "#276419"
            ]
           ],
           "sequential": [
            [
             0,
             "#0d0887"
            ],
            [
             0.1111111111111111,
             "#46039f"
            ],
            [
             0.2222222222222222,
             "#7201a8"
            ],
            [
             0.3333333333333333,
             "#9c179e"
            ],
            [
             0.4444444444444444,
             "#bd3786"
            ],
            [
             0.5555555555555556,
             "#d8576b"
            ],
            [
             0.6666666666666666,
             "#ed7953"
            ],
            [
             0.7777777777777778,
             "#fb9f3a"
            ],
            [
             0.8888888888888888,
             "#fdca26"
            ],
            [
             1,
             "#f0f921"
            ]
           ],
           "sequentialminus": [
            [
             0,
             "#0d0887"
            ],
            [
             0.1111111111111111,
             "#46039f"
            ],
            [
             0.2222222222222222,
             "#7201a8"
            ],
            [
             0.3333333333333333,
             "#9c179e"
            ],
            [
             0.4444444444444444,
             "#bd3786"
            ],
            [
             0.5555555555555556,
             "#d8576b"
            ],
            [
             0.6666666666666666,
             "#ed7953"
            ],
            [
             0.7777777777777778,
             "#fb9f3a"
            ],
            [
             0.8888888888888888,
             "#fdca26"
            ],
            [
             1,
             "#f0f921"
            ]
           ]
          },
          "colorway": [
           "#636efa",
           "#EF553B",
           "#00cc96",
           "#ab63fa",
           "#FFA15A",
           "#19d3f3",
           "#FF6692",
           "#B6E880",
           "#FF97FF",
           "#FECB52"
          ],
          "font": {
           "color": "#2a3f5f"
          },
          "geo": {
           "bgcolor": "white",
           "lakecolor": "white",
           "landcolor": "#E5ECF6",
           "showlakes": true,
           "showland": true,
           "subunitcolor": "white"
          },
          "hoverlabel": {
           "align": "left"
          },
          "hovermode": "closest",
          "mapbox": {
           "style": "light"
          },
          "paper_bgcolor": "white",
          "plot_bgcolor": "#E5ECF6",
          "polar": {
           "angularaxis": {
            "gridcolor": "white",
            "linecolor": "white",
            "ticks": ""
           },
           "bgcolor": "#E5ECF6",
           "radialaxis": {
            "gridcolor": "white",
            "linecolor": "white",
            "ticks": ""
           }
          },
          "scene": {
           "xaxis": {
            "backgroundcolor": "#E5ECF6",
            "gridcolor": "white",
            "gridwidth": 2,
            "linecolor": "white",
            "showbackground": true,
            "ticks": "",
            "zerolinecolor": "white"
           },
           "yaxis": {
            "backgroundcolor": "#E5ECF6",
            "gridcolor": "white",
            "gridwidth": 2,
            "linecolor": "white",
            "showbackground": true,
            "ticks": "",
            "zerolinecolor": "white"
           },
           "zaxis": {
            "backgroundcolor": "#E5ECF6",
            "gridcolor": "white",
            "gridwidth": 2,
            "linecolor": "white",
            "showbackground": true,
            "ticks": "",
            "zerolinecolor": "white"
           }
          },
          "shapedefaults": {
           "line": {
            "color": "#2a3f5f"
           }
          },
          "ternary": {
           "aaxis": {
            "gridcolor": "white",
            "linecolor": "white",
            "ticks": ""
           },
           "baxis": {
            "gridcolor": "white",
            "linecolor": "white",
            "ticks": ""
           },
           "bgcolor": "#E5ECF6",
           "caxis": {
            "gridcolor": "white",
            "linecolor": "white",
            "ticks": ""
           }
          },
          "title": {
           "x": 0.05
          },
          "xaxis": {
           "automargin": true,
           "gridcolor": "white",
           "linecolor": "white",
           "ticks": "",
           "title": {
            "standoff": 15
           },
           "zerolinecolor": "white",
           "zerolinewidth": 2
          },
          "yaxis": {
           "automargin": true,
           "gridcolor": "white",
           "linecolor": "white",
           "ticks": "",
           "title": {
            "standoff": 15
           },
           "zerolinecolor": "white",
           "zerolinewidth": 2
          }
         }
        },
        "xaxis": {
         "anchor": "y",
         "domain": [
          0,
          1
         ],
         "title": {
          "text": "Mixture"
         }
        },
        "yaxis": {
         "anchor": "x",
         "domain": [
          0,
          1
         ],
         "title": {
          "text": "value"
         }
        }
       }
      },
      "image/png": "[encoded data removed]"
     },
     "metadata": {},
     "output_type": "display_data"
    }
   ],
   "source": [
    "px.bar(csx_fraction_output_tcga_skcm.sample(50))"
   ]
  },
  {
   "cell_type": "code",
   "execution_count": 16,
   "id": "f307b564-4292-4f4a-8549-20f7a9e2d28c",
   "metadata": {
    "execution": {
     "iopub.execute_input": "2022-01-27T23:29:08.840372Z",
     "iopub.status.busy": "2022-01-27T23:29:08.840164Z",
     "iopub.status.idle": "2022-01-27T23:29:08.845506Z",
     "shell.execute_reply": "2022-01-27T23:29:08.844875Z",
     "shell.execute_reply.started": "2022-01-27T23:29:08.840342Z"
    },
    "tags": []
   },
   "outputs": [],
   "source": [
    "# QA\n",
    "# do all rows start with \"TCGA\"?\n",
    "assert not any(filter(lambda name: name[0:4] != 'TCGA', csx_fraction_output_tcga_skcm.index))"
   ]
  },
  {
   "cell_type": "markdown",
   "id": "2eb25063-696b-4072-98c7-6de6834c08eb",
   "metadata": {
    "tags": []
   },
   "source": [
    "### compute mixtures"
   ]
  },
  {
   "cell_type": "code",
   "execution_count": 17,
   "id": "2238b01f-cbe1-411d-a397-f500c17f5c1c",
   "metadata": {
    "execution": {
     "iopub.execute_input": "2022-01-27T23:29:08.847479Z",
     "iopub.status.busy": "2022-01-27T23:29:08.846931Z",
     "iopub.status.idle": "2022-01-27T23:29:08.853947Z",
     "shell.execute_reply": "2022-01-27T23:29:08.853368Z",
     "shell.execute_reply.started": "2022-01-27T23:29:08.847447Z"
    },
    "tags": []
   },
   "outputs": [
    {
     "data": {
      "text/plain": [
       "<module 'helpers.creating_mixtures' from '/home/jupyter/deconv/helpers/creating_mixtures.py'>"
      ]
     },
     "execution_count": 17,
     "metadata": {},
     "output_type": "execute_result"
    }
   ],
   "source": [
    "import importlib\n",
    "import helpers\n",
    "importlib.reload(helpers.creating_mixtures)"
   ]
  },
  {
   "cell_type": "code",
   "execution_count": 18,
   "id": "94e62108-42f4-4a0a-a5f2-5074e955448d",
   "metadata": {
    "execution": {
     "iopub.execute_input": "2022-01-27T23:29:08.856355Z",
     "iopub.status.busy": "2022-01-27T23:29:08.855936Z",
     "iopub.status.idle": "2022-01-27T23:29:08.860301Z",
     "shell.execute_reply": "2022-01-27T23:29:08.859652Z",
     "shell.execute_reply.started": "2022-01-27T23:29:08.856322Z"
    },
    "tags": []
   },
   "outputs": [],
   "source": [
    "# params\n",
    "n_cells_per_gep = 5\n",
    "rng = np.random.default_rng(seed=0)"
   ]
  },
  {
   "cell_type": "code",
   "execution_count": 19,
   "id": "52464e90-b2a4-4bc2-8b99-99cff03a5f92",
   "metadata": {
    "execution": {
     "iopub.execute_input": "2022-01-27T23:29:08.863198Z",
     "iopub.status.busy": "2022-01-27T23:29:08.862574Z",
     "iopub.status.idle": "2022-01-27T23:29:25.175815Z",
     "shell.execute_reply": "2022-01-27T23:29:25.175144Z",
     "shell.execute_reply.started": "2022-01-27T23:29:08.863164Z"
    },
    "tags": []
   },
   "outputs": [],
   "source": [
    "mixtures_in_silico, cell_type_geps = creating_mixtures.make_mixtures_from_fractions(\n",
    "    sc_data, sc_metadata, csx_fraction_output_tcga_skcm, n_cells_per_gep, rng\n",
    ")"
   ]
  },
  {
   "cell_type": "code",
   "execution_count": 20,
   "id": "52e1c122-98bd-4e83-8ab4-7a351c57ed67",
   "metadata": {
    "execution": {
     "iopub.execute_input": "2022-01-27T23:29:25.180899Z",
     "iopub.status.busy": "2022-01-27T23:29:25.180690Z",
     "iopub.status.idle": "2022-01-27T23:29:25.213775Z",
     "shell.execute_reply": "2022-01-27T23:29:25.213129Z",
     "shell.execute_reply.started": "2022-01-27T23:29:25.180875Z"
    },
    "tags": []
   },
   "outputs": [
    {
     "data": {
      "text/html": [
       "<div>\n",
       "<style scoped>\n",
       "    .dataframe tbody tr th:only-of-type {\n",
       "        vertical-align: middle;\n",
       "    }\n",
       "\n",
       "    .dataframe tbody tr th {\n",
       "        vertical-align: top;\n",
       "    }\n",
       "\n",
       "    .dataframe thead th {\n",
       "        text-align: right;\n",
       "    }\n",
       "</style>\n",
       "<table border=\"1\" class=\"dataframe\">\n",
       "  <thead>\n",
       "    <tr style=\"text-align: right;\">\n",
       "      <th></th>\n",
       "      <th>TCGA.3N.A9WB.06A.11R.A38C.07</th>\n",
       "      <th>TCGA.3N.A9WC.06A.11R.A38C.07</th>\n",
       "      <th>TCGA.3N.A9WD.06A.11R.A38C.07</th>\n",
       "      <th>TCGA.BF.A1PU.01A.11R.A18S.07</th>\n",
       "      <th>TCGA.BF.A1PV.01A.11R.A18U.07</th>\n",
       "      <th>TCGA.BF.A1PX.01A.12R.A18T.07</th>\n",
       "      <th>TCGA.BF.A1PZ.01A.11R.A18S.07</th>\n",
       "      <th>TCGA.BF.A1Q0.01A.21R.A18S.07</th>\n",
       "      <th>TCGA.BF.A3DJ.01A.11R.A20F.07</th>\n",
       "      <th>TCGA.BF.A3DL.01A.11R.A20F.07</th>\n",
       "      <th>...</th>\n",
       "      <th>TCGA.XV.AB01.06A.12R.A40A.07</th>\n",
       "      <th>TCGA.YD.A89C.06A.11R.A37K.07</th>\n",
       "      <th>TCGA.YD.A9TA.06A.11R.A39D.07</th>\n",
       "      <th>TCGA.YD.A9TB.06A.12R.A40A.07</th>\n",
       "      <th>TCGA.YG.AA3N.01A.11R.A38C.07</th>\n",
       "      <th>TCGA.YG.AA3O.06A.11R.A38C.07</th>\n",
       "      <th>TCGA.YG.AA3P.06A.11R.A38C.07</th>\n",
       "      <th>TCGA.Z2.A8RT.06A.11R.A37K.07</th>\n",
       "      <th>TCGA.Z2.AA3S.06A.11R.A39D.07</th>\n",
       "      <th>TCGA.Z2.AA3V.06A.11R.A39D.07</th>\n",
       "    </tr>\n",
       "    <tr>\n",
       "      <th>GeneSymbol</th>\n",
       "      <th></th>\n",
       "      <th></th>\n",
       "      <th></th>\n",
       "      <th></th>\n",
       "      <th></th>\n",
       "      <th></th>\n",
       "      <th></th>\n",
       "      <th></th>\n",
       "      <th></th>\n",
       "      <th></th>\n",
       "      <th></th>\n",
       "      <th></th>\n",
       "      <th></th>\n",
       "      <th></th>\n",
       "      <th></th>\n",
       "      <th></th>\n",
       "      <th></th>\n",
       "      <th></th>\n",
       "      <th></th>\n",
       "      <th></th>\n",
       "      <th></th>\n",
       "    </tr>\n",
       "  </thead>\n",
       "  <tbody>\n",
       "    <tr>\n",
       "      <th>C9orf152</th>\n",
       "      <td>0.000000</td>\n",
       "      <td>0.000000</td>\n",
       "      <td>0.000000</td>\n",
       "      <td>0.068860</td>\n",
       "      <td>0.000000</td>\n",
       "      <td>0.000000</td>\n",
       "      <td>0.000000</td>\n",
       "      <td>0.004761</td>\n",
       "      <td>0.000000</td>\n",
       "      <td>0.000316</td>\n",
       "      <td>...</td>\n",
       "      <td>0.000000</td>\n",
       "      <td>0.000000</td>\n",
       "      <td>0.000282</td>\n",
       "      <td>0.000000</td>\n",
       "      <td>0.120005</td>\n",
       "      <td>0.000000</td>\n",
       "      <td>0.000000</td>\n",
       "      <td>0.000000</td>\n",
       "      <td>0.000000</td>\n",
       "      <td>0.046653</td>\n",
       "    </tr>\n",
       "    <tr>\n",
       "      <th>RPS11</th>\n",
       "      <td>51.729360</td>\n",
       "      <td>53.571416</td>\n",
       "      <td>63.337047</td>\n",
       "      <td>70.965775</td>\n",
       "      <td>55.394053</td>\n",
       "      <td>65.451917</td>\n",
       "      <td>73.005960</td>\n",
       "      <td>62.460904</td>\n",
       "      <td>54.834424</td>\n",
       "      <td>63.110914</td>\n",
       "      <td>...</td>\n",
       "      <td>45.343384</td>\n",
       "      <td>66.101903</td>\n",
       "      <td>64.029185</td>\n",
       "      <td>51.603878</td>\n",
       "      <td>51.369080</td>\n",
       "      <td>56.654029</td>\n",
       "      <td>59.777122</td>\n",
       "      <td>55.875229</td>\n",
       "      <td>56.080889</td>\n",
       "      <td>54.038086</td>\n",
       "    </tr>\n",
       "    <tr>\n",
       "      <th>ELMO2</th>\n",
       "      <td>7.967479</td>\n",
       "      <td>4.758420</td>\n",
       "      <td>8.553829</td>\n",
       "      <td>5.308651</td>\n",
       "      <td>9.853301</td>\n",
       "      <td>8.575941</td>\n",
       "      <td>6.608369</td>\n",
       "      <td>9.668708</td>\n",
       "      <td>12.485880</td>\n",
       "      <td>0.408429</td>\n",
       "      <td>...</td>\n",
       "      <td>10.774194</td>\n",
       "      <td>0.345774</td>\n",
       "      <td>8.689368</td>\n",
       "      <td>9.049041</td>\n",
       "      <td>1.678718</td>\n",
       "      <td>8.702063</td>\n",
       "      <td>8.440200</td>\n",
       "      <td>10.470364</td>\n",
       "      <td>6.584027</td>\n",
       "      <td>9.153420</td>\n",
       "    </tr>\n",
       "    <tr>\n",
       "      <th>CREB3L1</th>\n",
       "      <td>0.060946</td>\n",
       "      <td>0.000000</td>\n",
       "      <td>0.705199</td>\n",
       "      <td>0.825925</td>\n",
       "      <td>0.000000</td>\n",
       "      <td>1.401822</td>\n",
       "      <td>0.017974</td>\n",
       "      <td>0.000000</td>\n",
       "      <td>0.200596</td>\n",
       "      <td>0.250783</td>\n",
       "      <td>...</td>\n",
       "      <td>1.423318</td>\n",
       "      <td>4.413758</td>\n",
       "      <td>0.887164</td>\n",
       "      <td>1.609182</td>\n",
       "      <td>0.132586</td>\n",
       "      <td>1.333582</td>\n",
       "      <td>0.000000</td>\n",
       "      <td>0.234033</td>\n",
       "      <td>0.000000</td>\n",
       "      <td>0.190765</td>\n",
       "    </tr>\n",
       "    <tr>\n",
       "      <th>PNMA1</th>\n",
       "      <td>7.026373</td>\n",
       "      <td>2.493139</td>\n",
       "      <td>7.264008</td>\n",
       "      <td>0.482524</td>\n",
       "      <td>12.153563</td>\n",
       "      <td>10.948752</td>\n",
       "      <td>10.038735</td>\n",
       "      <td>2.042917</td>\n",
       "      <td>15.316797</td>\n",
       "      <td>4.894141</td>\n",
       "      <td>...</td>\n",
       "      <td>4.700707</td>\n",
       "      <td>14.547827</td>\n",
       "      <td>5.360896</td>\n",
       "      <td>4.692340</td>\n",
       "      <td>6.910805</td>\n",
       "      <td>0.581435</td>\n",
       "      <td>15.257522</td>\n",
       "      <td>4.912427</td>\n",
       "      <td>5.930196</td>\n",
       "      <td>9.169862</td>\n",
       "    </tr>\n",
       "    <tr>\n",
       "      <th>...</th>\n",
       "      <td>...</td>\n",
       "      <td>...</td>\n",
       "      <td>...</td>\n",
       "      <td>...</td>\n",
       "      <td>...</td>\n",
       "      <td>...</td>\n",
       "      <td>...</td>\n",
       "      <td>...</td>\n",
       "      <td>...</td>\n",
       "      <td>...</td>\n",
       "      <td>...</td>\n",
       "      <td>...</td>\n",
       "      <td>...</td>\n",
       "      <td>...</td>\n",
       "      <td>...</td>\n",
       "      <td>...</td>\n",
       "      <td>...</td>\n",
       "      <td>...</td>\n",
       "      <td>...</td>\n",
       "      <td>...</td>\n",
       "      <td>...</td>\n",
       "    </tr>\n",
       "    <tr>\n",
       "      <th>PIK3IP1</th>\n",
       "      <td>4.398745</td>\n",
       "      <td>13.098255</td>\n",
       "      <td>7.839902</td>\n",
       "      <td>8.988408</td>\n",
       "      <td>2.756675</td>\n",
       "      <td>7.641882</td>\n",
       "      <td>13.142351</td>\n",
       "      <td>7.140632</td>\n",
       "      <td>6.781857</td>\n",
       "      <td>6.664337</td>\n",
       "      <td>...</td>\n",
       "      <td>1.603808</td>\n",
       "      <td>12.417587</td>\n",
       "      <td>11.113502</td>\n",
       "      <td>1.238329</td>\n",
       "      <td>13.592697</td>\n",
       "      <td>1.254986</td>\n",
       "      <td>3.736001</td>\n",
       "      <td>5.900980</td>\n",
       "      <td>0.836314</td>\n",
       "      <td>11.654909</td>\n",
       "    </tr>\n",
       "    <tr>\n",
       "      <th>SNRPD2</th>\n",
       "      <td>35.759456</td>\n",
       "      <td>31.301416</td>\n",
       "      <td>47.597104</td>\n",
       "      <td>58.304690</td>\n",
       "      <td>24.125846</td>\n",
       "      <td>33.898652</td>\n",
       "      <td>58.878238</td>\n",
       "      <td>41.144904</td>\n",
       "      <td>28.696392</td>\n",
       "      <td>38.284813</td>\n",
       "      <td>...</td>\n",
       "      <td>38.120501</td>\n",
       "      <td>35.117759</td>\n",
       "      <td>42.201153</td>\n",
       "      <td>26.300858</td>\n",
       "      <td>22.924540</td>\n",
       "      <td>26.348639</td>\n",
       "      <td>38.636067</td>\n",
       "      <td>30.755048</td>\n",
       "      <td>49.643261</td>\n",
       "      <td>30.105171</td>\n",
       "    </tr>\n",
       "    <tr>\n",
       "      <th>SLC39A6</th>\n",
       "      <td>12.455609</td>\n",
       "      <td>16.970802</td>\n",
       "      <td>19.134683</td>\n",
       "      <td>8.908856</td>\n",
       "      <td>19.455965</td>\n",
       "      <td>14.092019</td>\n",
       "      <td>25.225936</td>\n",
       "      <td>11.160569</td>\n",
       "      <td>11.602351</td>\n",
       "      <td>9.875482</td>\n",
       "      <td>...</td>\n",
       "      <td>13.697816</td>\n",
       "      <td>15.938732</td>\n",
       "      <td>10.091991</td>\n",
       "      <td>12.980787</td>\n",
       "      <td>8.519001</td>\n",
       "      <td>11.904300</td>\n",
       "      <td>20.529398</td>\n",
       "      <td>7.755985</td>\n",
       "      <td>18.941954</td>\n",
       "      <td>11.778457</td>\n",
       "    </tr>\n",
       "    <tr>\n",
       "      <th>CTSC</th>\n",
       "      <td>20.724829</td>\n",
       "      <td>17.948483</td>\n",
       "      <td>12.748953</td>\n",
       "      <td>19.442655</td>\n",
       "      <td>17.540968</td>\n",
       "      <td>23.690138</td>\n",
       "      <td>13.977053</td>\n",
       "      <td>18.391155</td>\n",
       "      <td>22.196577</td>\n",
       "      <td>22.151283</td>\n",
       "      <td>...</td>\n",
       "      <td>25.657785</td>\n",
       "      <td>11.728767</td>\n",
       "      <td>31.101963</td>\n",
       "      <td>15.048247</td>\n",
       "      <td>21.133264</td>\n",
       "      <td>13.386019</td>\n",
       "      <td>12.928674</td>\n",
       "      <td>19.985173</td>\n",
       "      <td>12.291389</td>\n",
       "      <td>21.199808</td>\n",
       "    </tr>\n",
       "    <tr>\n",
       "      <th>AQP7</th>\n",
       "      <td>0.000000</td>\n",
       "      <td>0.000000</td>\n",
       "      <td>0.000000</td>\n",
       "      <td>0.056588</td>\n",
       "      <td>0.000000</td>\n",
       "      <td>0.211590</td>\n",
       "      <td>0.000535</td>\n",
       "      <td>0.100741</td>\n",
       "      <td>0.000000</td>\n",
       "      <td>0.115478</td>\n",
       "      <td>...</td>\n",
       "      <td>0.000000</td>\n",
       "      <td>0.000829</td>\n",
       "      <td>0.010781</td>\n",
       "      <td>0.000000</td>\n",
       "      <td>0.000000</td>\n",
       "      <td>0.000000</td>\n",
       "      <td>0.000000</td>\n",
       "      <td>0.000000</td>\n",
       "      <td>0.000000</td>\n",
       "      <td>0.000000</td>\n",
       "    </tr>\n",
       "  </tbody>\n",
       "</table>\n",
       "<p>23686 rows × 473 columns</p>\n",
       "</div>"
      ],
      "text/plain": [
       "            TCGA.3N.A9WB.06A.11R.A38C.07  TCGA.3N.A9WC.06A.11R.A38C.07  \\\n",
       "GeneSymbol                                                               \n",
       "C9orf152                        0.000000                      0.000000   \n",
       "RPS11                          51.729360                     53.571416   \n",
       "ELMO2                           7.967479                      4.758420   \n",
       "CREB3L1                         0.060946                      0.000000   \n",
       "PNMA1                           7.026373                      2.493139   \n",
       "...                                  ...                           ...   \n",
       "PIK3IP1                         4.398745                     13.098255   \n",
       "SNRPD2                         35.759456                     31.301416   \n",
       "SLC39A6                        12.455609                     16.970802   \n",
       "CTSC                           20.724829                     17.948483   \n",
       "AQP7                            0.000000                      0.000000   \n",
       "\n",
       "            TCGA.3N.A9WD.06A.11R.A38C.07  TCGA.BF.A1PU.01A.11R.A18S.07  \\\n",
       "GeneSymbol                                                               \n",
       "C9orf152                        0.000000                      0.068860   \n",
       "RPS11                          63.337047                     70.965775   \n",
       "ELMO2                           8.553829                      5.308651   \n",
       "CREB3L1                         0.705199                      0.825925   \n",
       "PNMA1                           7.264008                      0.482524   \n",
       "...                                  ...                           ...   \n",
       "PIK3IP1                         7.839902                      8.988408   \n",
       "SNRPD2                         47.597104                     58.304690   \n",
       "SLC39A6                        19.134683                      8.908856   \n",
       "CTSC                           12.748953                     19.442655   \n",
       "AQP7                            0.000000                      0.056588   \n",
       "\n",
       "            TCGA.BF.A1PV.01A.11R.A18U.07  TCGA.BF.A1PX.01A.12R.A18T.07  \\\n",
       "GeneSymbol                                                               \n",
       "C9orf152                        0.000000                      0.000000   \n",
       "RPS11                          55.394053                     65.451917   \n",
       "ELMO2                           9.853301                      8.575941   \n",
       "CREB3L1                         0.000000                      1.401822   \n",
       "PNMA1                          12.153563                     10.948752   \n",
       "...                                  ...                           ...   \n",
       "PIK3IP1                         2.756675                      7.641882   \n",
       "SNRPD2                         24.125846                     33.898652   \n",
       "SLC39A6                        19.455965                     14.092019   \n",
       "CTSC                           17.540968                     23.690138   \n",
       "AQP7                            0.000000                      0.211590   \n",
       "\n",
       "            TCGA.BF.A1PZ.01A.11R.A18S.07  TCGA.BF.A1Q0.01A.21R.A18S.07  \\\n",
       "GeneSymbol                                                               \n",
       "C9orf152                        0.000000                      0.004761   \n",
       "RPS11                          73.005960                     62.460904   \n",
       "ELMO2                           6.608369                      9.668708   \n",
       "CREB3L1                         0.017974                      0.000000   \n",
       "PNMA1                          10.038735                      2.042917   \n",
       "...                                  ...                           ...   \n",
       "PIK3IP1                        13.142351                      7.140632   \n",
       "SNRPD2                         58.878238                     41.144904   \n",
       "SLC39A6                        25.225936                     11.160569   \n",
       "CTSC                           13.977053                     18.391155   \n",
       "AQP7                            0.000535                      0.100741   \n",
       "\n",
       "            TCGA.BF.A3DJ.01A.11R.A20F.07  TCGA.BF.A3DL.01A.11R.A20F.07  ...  \\\n",
       "GeneSymbol                                                              ...   \n",
       "C9orf152                        0.000000                      0.000316  ...   \n",
       "RPS11                          54.834424                     63.110914  ...   \n",
       "ELMO2                          12.485880                      0.408429  ...   \n",
       "CREB3L1                         0.200596                      0.250783  ...   \n",
       "PNMA1                          15.316797                      4.894141  ...   \n",
       "...                                  ...                           ...  ...   \n",
       "PIK3IP1                         6.781857                      6.664337  ...   \n",
       "SNRPD2                         28.696392                     38.284813  ...   \n",
       "SLC39A6                        11.602351                      9.875482  ...   \n",
       "CTSC                           22.196577                     22.151283  ...   \n",
       "AQP7                            0.000000                      0.115478  ...   \n",
       "\n",
       "            TCGA.XV.AB01.06A.12R.A40A.07  TCGA.YD.A89C.06A.11R.A37K.07  \\\n",
       "GeneSymbol                                                               \n",
       "C9orf152                        0.000000                      0.000000   \n",
       "RPS11                          45.343384                     66.101903   \n",
       "ELMO2                          10.774194                      0.345774   \n",
       "CREB3L1                         1.423318                      4.413758   \n",
       "PNMA1                           4.700707                     14.547827   \n",
       "...                                  ...                           ...   \n",
       "PIK3IP1                         1.603808                     12.417587   \n",
       "SNRPD2                         38.120501                     35.117759   \n",
       "SLC39A6                        13.697816                     15.938732   \n",
       "CTSC                           25.657785                     11.728767   \n",
       "AQP7                            0.000000                      0.000829   \n",
       "\n",
       "            TCGA.YD.A9TA.06A.11R.A39D.07  TCGA.YD.A9TB.06A.12R.A40A.07  \\\n",
       "GeneSymbol                                                               \n",
       "C9orf152                        0.000282                      0.000000   \n",
       "RPS11                          64.029185                     51.603878   \n",
       "ELMO2                           8.689368                      9.049041   \n",
       "CREB3L1                         0.887164                      1.609182   \n",
       "PNMA1                           5.360896                      4.692340   \n",
       "...                                  ...                           ...   \n",
       "PIK3IP1                        11.113502                      1.238329   \n",
       "SNRPD2                         42.201153                     26.300858   \n",
       "SLC39A6                        10.091991                     12.980787   \n",
       "CTSC                           31.101963                     15.048247   \n",
       "AQP7                            0.010781                      0.000000   \n",
       "\n",
       "            TCGA.YG.AA3N.01A.11R.A38C.07  TCGA.YG.AA3O.06A.11R.A38C.07  \\\n",
       "GeneSymbol                                                               \n",
       "C9orf152                        0.120005                      0.000000   \n",
       "RPS11                          51.369080                     56.654029   \n",
       "ELMO2                           1.678718                      8.702063   \n",
       "CREB3L1                         0.132586                      1.333582   \n",
       "PNMA1                           6.910805                      0.581435   \n",
       "...                                  ...                           ...   \n",
       "PIK3IP1                        13.592697                      1.254986   \n",
       "SNRPD2                         22.924540                     26.348639   \n",
       "SLC39A6                         8.519001                     11.904300   \n",
       "CTSC                           21.133264                     13.386019   \n",
       "AQP7                            0.000000                      0.000000   \n",
       "\n",
       "            TCGA.YG.AA3P.06A.11R.A38C.07  TCGA.Z2.A8RT.06A.11R.A37K.07  \\\n",
       "GeneSymbol                                                               \n",
       "C9orf152                        0.000000                      0.000000   \n",
       "RPS11                          59.777122                     55.875229   \n",
       "ELMO2                           8.440200                     10.470364   \n",
       "CREB3L1                         0.000000                      0.234033   \n",
       "PNMA1                          15.257522                      4.912427   \n",
       "...                                  ...                           ...   \n",
       "PIK3IP1                         3.736001                      5.900980   \n",
       "SNRPD2                         38.636067                     30.755048   \n",
       "SLC39A6                        20.529398                      7.755985   \n",
       "CTSC                           12.928674                     19.985173   \n",
       "AQP7                            0.000000                      0.000000   \n",
       "\n",
       "            TCGA.Z2.AA3S.06A.11R.A39D.07  TCGA.Z2.AA3V.06A.11R.A39D.07  \n",
       "GeneSymbol                                                              \n",
       "C9orf152                        0.000000                      0.046653  \n",
       "RPS11                          56.080889                     54.038086  \n",
       "ELMO2                           6.584027                      9.153420  \n",
       "CREB3L1                         0.000000                      0.190765  \n",
       "PNMA1                           5.930196                      9.169862  \n",
       "...                                  ...                           ...  \n",
       "PIK3IP1                         0.836314                     11.654909  \n",
       "SNRPD2                         49.643261                     30.105171  \n",
       "SLC39A6                        18.941954                     11.778457  \n",
       "CTSC                           12.291389                     21.199808  \n",
       "AQP7                            0.000000                      0.000000  \n",
       "\n",
       "[23686 rows x 473 columns]"
      ]
     },
     "execution_count": 20,
     "metadata": {},
     "output_type": "execute_result"
    }
   ],
   "source": [
    "mixtures_in_silico"
   ]
  },
  {
   "cell_type": "code",
   "execution_count": 21,
   "id": "40dbb6a6-166c-479c-8551-dc37784be3a4",
   "metadata": {
    "execution": {
     "iopub.execute_input": "2022-01-27T23:29:25.215660Z",
     "iopub.status.busy": "2022-01-27T23:29:25.214968Z",
     "iopub.status.idle": "2022-01-27T23:29:25.245528Z",
     "shell.execute_reply": "2022-01-27T23:29:25.244890Z",
     "shell.execute_reply.started": "2022-01-27T23:29:25.215624Z"
    },
    "tags": []
   },
   "outputs": [
    {
     "data": {
      "text/html": [
       "<div>\n",
       "<style scoped>\n",
       "    .dataframe tbody tr th:only-of-type {\n",
       "        vertical-align: middle;\n",
       "    }\n",
       "\n",
       "    .dataframe tbody tr th {\n",
       "        vertical-align: top;\n",
       "    }\n",
       "\n",
       "    .dataframe thead th {\n",
       "        text-align: right;\n",
       "    }\n",
       "</style>\n",
       "<table border=\"1\" class=\"dataframe\">\n",
       "  <thead>\n",
       "    <tr style=\"text-align: right;\">\n",
       "      <th></th>\n",
       "      <th>B</th>\n",
       "      <th>CAF</th>\n",
       "      <th>Endothelial</th>\n",
       "      <th>Macrophage</th>\n",
       "      <th>Malignant</th>\n",
       "      <th>NK</th>\n",
       "      <th>T</th>\n",
       "      <th>T CD4</th>\n",
       "      <th>T CD8</th>\n",
       "    </tr>\n",
       "    <tr>\n",
       "      <th>GeneSymbol</th>\n",
       "      <th></th>\n",
       "      <th></th>\n",
       "      <th></th>\n",
       "      <th></th>\n",
       "      <th></th>\n",
       "      <th></th>\n",
       "      <th></th>\n",
       "      <th></th>\n",
       "      <th></th>\n",
       "    </tr>\n",
       "  </thead>\n",
       "  <tbody>\n",
       "    <tr>\n",
       "      <th>C9orf152</th>\n",
       "      <td>0.000000</td>\n",
       "      <td>0.000000</td>\n",
       "      <td>0.000000</td>\n",
       "      <td>0.000000</td>\n",
       "      <td>0.000000</td>\n",
       "      <td>0.000000</td>\n",
       "      <td>0.000000</td>\n",
       "      <td>0.000000</td>\n",
       "      <td>0.000000</td>\n",
       "    </tr>\n",
       "    <tr>\n",
       "      <th>RPS11</th>\n",
       "      <td>93.816258</td>\n",
       "      <td>53.313483</td>\n",
       "      <td>53.516824</td>\n",
       "      <td>63.651543</td>\n",
       "      <td>47.819273</td>\n",
       "      <td>68.389910</td>\n",
       "      <td>82.945558</td>\n",
       "      <td>73.855668</td>\n",
       "      <td>75.941741</td>\n",
       "    </tr>\n",
       "    <tr>\n",
       "      <th>ELMO2</th>\n",
       "      <td>8.408418</td>\n",
       "      <td>4.196476</td>\n",
       "      <td>0.000000</td>\n",
       "      <td>9.479460</td>\n",
       "      <td>8.411707</td>\n",
       "      <td>4.012140</td>\n",
       "      <td>0.000000</td>\n",
       "      <td>10.833463</td>\n",
       "      <td>22.607167</td>\n",
       "    </tr>\n",
       "    <tr>\n",
       "      <th>CREB3L1</th>\n",
       "      <td>0.000000</td>\n",
       "      <td>3.528394</td>\n",
       "      <td>0.000000</td>\n",
       "      <td>0.000000</td>\n",
       "      <td>0.000000</td>\n",
       "      <td>0.000000</td>\n",
       "      <td>0.000000</td>\n",
       "      <td>0.000000</td>\n",
       "      <td>0.000000</td>\n",
       "    </tr>\n",
       "    <tr>\n",
       "      <th>PNMA1</th>\n",
       "      <td>0.000000</td>\n",
       "      <td>7.129496</td>\n",
       "      <td>0.000000</td>\n",
       "      <td>10.595397</td>\n",
       "      <td>6.471376</td>\n",
       "      <td>0.000000</td>\n",
       "      <td>0.000000</td>\n",
       "      <td>2.951974</td>\n",
       "      <td>0.000000</td>\n",
       "    </tr>\n",
       "    <tr>\n",
       "      <th>...</th>\n",
       "      <td>...</td>\n",
       "      <td>...</td>\n",
       "      <td>...</td>\n",
       "      <td>...</td>\n",
       "      <td>...</td>\n",
       "      <td>...</td>\n",
       "      <td>...</td>\n",
       "      <td>...</td>\n",
       "      <td>...</td>\n",
       "    </tr>\n",
       "    <tr>\n",
       "      <th>PIK3IP1</th>\n",
       "      <td>43.084682</td>\n",
       "      <td>0.000000</td>\n",
       "      <td>21.975866</td>\n",
       "      <td>32.809567</td>\n",
       "      <td>4.523867</td>\n",
       "      <td>9.135503</td>\n",
       "      <td>37.903864</td>\n",
       "      <td>12.359275</td>\n",
       "      <td>55.597100</td>\n",
       "    </tr>\n",
       "    <tr>\n",
       "      <th>SNRPD2</th>\n",
       "      <td>26.518217</td>\n",
       "      <td>24.009497</td>\n",
       "      <td>38.816480</td>\n",
       "      <td>26.206782</td>\n",
       "      <td>37.402746</td>\n",
       "      <td>26.561044</td>\n",
       "      <td>33.836685</td>\n",
       "      <td>26.078579</td>\n",
       "      <td>17.772550</td>\n",
       "    </tr>\n",
       "    <tr>\n",
       "      <th>SLC39A6</th>\n",
       "      <td>8.888845</td>\n",
       "      <td>11.675195</td>\n",
       "      <td>0.000000</td>\n",
       "      <td>2.871450</td>\n",
       "      <td>12.103050</td>\n",
       "      <td>0.000000</td>\n",
       "      <td>0.000000</td>\n",
       "      <td>0.000000</td>\n",
       "      <td>6.790876</td>\n",
       "    </tr>\n",
       "    <tr>\n",
       "      <th>CTSC</th>\n",
       "      <td>21.855827</td>\n",
       "      <td>22.430481</td>\n",
       "      <td>34.308219</td>\n",
       "      <td>53.486308</td>\n",
       "      <td>20.978024</td>\n",
       "      <td>31.546434</td>\n",
       "      <td>33.709791</td>\n",
       "      <td>27.951372</td>\n",
       "      <td>38.297165</td>\n",
       "    </tr>\n",
       "    <tr>\n",
       "      <th>AQP7</th>\n",
       "      <td>0.000000</td>\n",
       "      <td>0.000000</td>\n",
       "      <td>0.000000</td>\n",
       "      <td>0.000000</td>\n",
       "      <td>0.000000</td>\n",
       "      <td>0.000000</td>\n",
       "      <td>0.000000</td>\n",
       "      <td>0.000000</td>\n",
       "      <td>0.000000</td>\n",
       "    </tr>\n",
       "  </tbody>\n",
       "</table>\n",
       "<p>23686 rows × 9 columns</p>\n",
       "</div>"
      ],
      "text/plain": [
       "                    B        CAF  Endothelial  Macrophage  Malignant  \\\n",
       "GeneSymbol                                                             \n",
       "C9orf152     0.000000   0.000000     0.000000    0.000000   0.000000   \n",
       "RPS11       93.816258  53.313483    53.516824   63.651543  47.819273   \n",
       "ELMO2        8.408418   4.196476     0.000000    9.479460   8.411707   \n",
       "CREB3L1      0.000000   3.528394     0.000000    0.000000   0.000000   \n",
       "PNMA1        0.000000   7.129496     0.000000   10.595397   6.471376   \n",
       "...               ...        ...          ...         ...        ...   \n",
       "PIK3IP1     43.084682   0.000000    21.975866   32.809567   4.523867   \n",
       "SNRPD2      26.518217  24.009497    38.816480   26.206782  37.402746   \n",
       "SLC39A6      8.888845  11.675195     0.000000    2.871450  12.103050   \n",
       "CTSC        21.855827  22.430481    34.308219   53.486308  20.978024   \n",
       "AQP7         0.000000   0.000000     0.000000    0.000000   0.000000   \n",
       "\n",
       "                   NK          T      T CD4      T CD8  \n",
       "GeneSymbol                                              \n",
       "C9orf152     0.000000   0.000000   0.000000   0.000000  \n",
       "RPS11       68.389910  82.945558  73.855668  75.941741  \n",
       "ELMO2        4.012140   0.000000  10.833463  22.607167  \n",
       "CREB3L1      0.000000   0.000000   0.000000   0.000000  \n",
       "PNMA1        0.000000   0.000000   2.951974   0.000000  \n",
       "...               ...        ...        ...        ...  \n",
       "PIK3IP1      9.135503  37.903864  12.359275  55.597100  \n",
       "SNRPD2      26.561044  33.836685  26.078579  17.772550  \n",
       "SLC39A6      0.000000   0.000000   0.000000   6.790876  \n",
       "CTSC        31.546434  33.709791  27.951372  38.297165  \n",
       "AQP7         0.000000   0.000000   0.000000   0.000000  \n",
       "\n",
       "[23686 rows x 9 columns]"
      ]
     },
     "execution_count": 21,
     "metadata": {},
     "output_type": "execute_result"
    }
   ],
   "source": [
    "sample_name = \"TCGA.3N.A9WB.06A.11R.A38C.07\"\n",
    "cell_type_geps[sample_name]"
   ]
  },
  {
   "cell_type": "markdown",
   "id": "148b867a-d74c-45ba-a12c-a4f0d5b060dd",
   "metadata": {
    "jp-MarkdownHeadingCollapsed": true,
    "tags": []
   },
   "source": [
    "# output 1: check distribution (in silico vs real)"
   ]
  },
  {
   "cell_type": "markdown",
   "id": "2178ccdc-8cf5-48df-b4e9-5a3888533c28",
   "metadata": {
    "execution": {
     "iopub.execute_input": "2022-01-27T16:10:58.663956Z",
     "iopub.status.busy": "2022-01-27T16:10:58.663711Z",
     "iopub.status.idle": "2022-01-27T16:10:58.667126Z",
     "shell.execute_reply": "2022-01-27T16:10:58.666555Z",
     "shell.execute_reply.started": "2022-01-27T16:10:58.663930Z"
    }
   },
   "source": [
    "## visualize distributions by gene, in silico vs real"
   ]
  },
  {
   "cell_type": "markdown",
   "id": "8611bb7e-c5a4-4d92-8214-698a9c8a2002",
   "metadata": {
    "tags": []
   },
   "source": [
    "# output 2: estimated cell type fractions"
   ]
  },
  {
   "cell_type": "markdown",
   "id": "1a96e29f-4518-431c-9844-2fbc09c20633",
   "metadata": {
    "tags": []
   },
   "source": [
    "## run cibersortx fractions on in silico mixtures"
   ]
  },
  {
   "cell_type": "code",
   "execution_count": 22,
   "id": "5713c2d7-15bc-40e8-86b5-1ceb1d2ab7ff",
   "metadata": {
    "execution": {
     "iopub.execute_input": "2022-01-27T23:29:25.249342Z",
     "iopub.status.busy": "2022-01-27T23:29:25.249100Z",
     "iopub.status.idle": "2022-01-27T23:29:25.255431Z",
     "shell.execute_reply": "2022-01-27T23:29:25.254737Z",
     "shell.execute_reply.started": "2022-01-27T23:29:25.249311Z"
    }
   },
   "outputs": [],
   "source": [
    "import tempfile"
   ]
  },
  {
   "cell_type": "code",
   "execution_count": 23,
   "id": "f9f1434f-7a59-46b2-ab75-3acc947078b0",
   "metadata": {
    "execution": {
     "iopub.execute_input": "2022-01-27T23:29:25.257963Z",
     "iopub.status.busy": "2022-01-27T23:29:25.257716Z",
     "iopub.status.idle": "2022-01-27T23:29:25.262843Z",
     "shell.execute_reply": "2022-01-27T23:29:25.261894Z",
     "shell.execute_reply.started": "2022-01-27T23:29:25.257931Z"
    },
    "tags": []
   },
   "outputs": [
    {
     "name": "stdout",
     "output_type": "stream",
     "text": [
      "<TemporaryDirectory '/tmp/tmpgm_79cl7'>\n"
     ]
    }
   ],
   "source": [
    "temp_dir = tempfile.TemporaryDirectory()\n",
    "\n",
    "print(temp_dir)"
   ]
  },
  {
   "cell_type": "code",
   "execution_count": 24,
   "id": "28536f82-4e91-4616-a90e-4a22318ce3a4",
   "metadata": {
    "execution": {
     "iopub.execute_input": "2022-01-27T23:29:25.265385Z",
     "iopub.status.busy": "2022-01-27T23:29:25.264820Z",
     "iopub.status.idle": "2022-01-27T23:29:25.270758Z",
     "shell.execute_reply": "2022-01-27T23:29:25.269915Z",
     "shell.execute_reply.started": "2022-01-27T23:29:25.265350Z"
    },
    "tags": []
   },
   "outputs": [],
   "source": [
    "from helpers.running_csx import DockerJob, Experiment, InputFile"
   ]
  },
  {
   "cell_type": "code",
   "execution_count": 25,
   "id": "4589ba0e-8cd9-4b4f-8936-33c7c6a89c13",
   "metadata": {
    "execution": {
     "iopub.execute_input": "2022-01-27T23:29:25.273204Z",
     "iopub.status.busy": "2022-01-27T23:29:25.272796Z",
     "iopub.status.idle": "2022-01-27T23:29:25.277843Z",
     "shell.execute_reply": "2022-01-27T23:29:25.277124Z",
     "shell.execute_reply.started": "2022-01-27T23:29:25.273170Z"
    }
   },
   "outputs": [],
   "source": [
    "experiments_root = \"gs://liulab/csx_experiments/tcga_skcm_fractions\"\n",
    "experiment = Experiment(experiments_root, \"test1\")"
   ]
  },
  {
   "cell_type": "code",
   "execution_count": 26,
   "id": "53a4d485-c21a-4d00-ad01-5b2586027241",
   "metadata": {
    "execution": {
     "iopub.execute_input": "2022-01-27T23:29:25.279700Z",
     "iopub.status.busy": "2022-01-27T23:29:25.279446Z",
     "iopub.status.idle": "2022-01-27T23:29:25.541094Z",
     "shell.execute_reply": "2022-01-27T23:29:25.540115Z",
     "shell.execute_reply.started": "2022-01-27T23:29:25.279668Z"
    }
   },
   "outputs": [
    {
     "name": "stdout",
     "output_type": "stream",
     "text": [
      "/mnt/buckets/liulab/csx_experiments/tcga_skcm_fractions/test1/.. [error opening dir]\n",
      "\n",
      "0 directories, 0 files\n"
     ]
    }
   ],
   "source": [
    "!tree -h {experiment.local_path}/.."
   ]
  },
  {
   "cell_type": "code",
   "execution_count": 27,
   "id": "b926493b-320d-4db5-b343-4e24c808fa56",
   "metadata": {
    "execution": {
     "iopub.execute_input": "2022-01-27T23:29:25.543513Z",
     "iopub.status.busy": "2022-01-27T23:29:25.543249Z",
     "iopub.status.idle": "2022-01-27T23:29:26.002803Z",
     "shell.execute_reply": "2022-01-27T23:29:26.001653Z",
     "shell.execute_reply.started": "2022-01-27T23:29:25.543467Z"
    }
   },
   "outputs": [
    {
     "ename": "TypeError",
     "evalue": "__init__() missing 2 required positional arguments: 'target_filename' and 'source_uri'",
     "output_type": "error",
     "traceback": [
      "\u001b[0;31m---------------------------------------------------------------------------\u001b[0m",
      "\u001b[0;31mTypeError\u001b[0m                                 Traceback (most recent call last)",
      "Input \u001b[0;32mIn [27]\u001b[0m, in \u001b[0;36m<module>\u001b[0;34m\u001b[0m\n\u001b[1;32m      1\u001b[0m input_file_args \u001b[38;5;241m=\u001b[39m {\n\u001b[1;32m      2\u001b[0m     \u001b[38;5;124m\"\u001b[39m\u001b[38;5;124mmixture\u001b[39m\u001b[38;5;124m\"\u001b[39m: InputFile(\u001b[38;5;124m\"\u001b[39m\u001b[38;5;124mmixturestirosh.txt\u001b[39m\u001b[38;5;124m\"\u001b[39m, \u001b[38;5;124m\"\u001b[39m\u001b[38;5;124mgs://liulab/csx_example_files/Single_Cell_RNA-Seq_Melanoma_SuppFig_3b-d/mixture_melanoma_Tirosh_SuppFig_3b-d.txt\u001b[39m\u001b[38;5;124m\"\u001b[39m),\n\u001b[0;32m----> 3\u001b[0m     \u001b[38;5;124m\"\u001b[39m\u001b[38;5;124msigmatrix\u001b[39m\u001b[38;5;124m\"\u001b[39m: \u001b[43mInputFile\u001b[49m\u001b[43m(\u001b[49m\u001b[43m)\u001b[49m\n\u001b[1;32m      4\u001b[0m }\n",
      "\u001b[0;31mTypeError\u001b[0m: __init__() missing 2 required positional arguments: 'target_filename' and 'source_uri'"
     ]
    }
   ],
   "source": [
    "input_file_args = {\n",
    "    \"mixture\": InputFile(\"mixturestirosh.txt\", \"gs://liulab/csx_example_files/Single_Cell_RNA-Seq_Melanoma_SuppFig_3b-d/mixture_melanoma_Tirosh_SuppFig_3b-d.txt\"),\n",
    "    \"sigmatrix\": InputFile()\n",
    "}\n"
   ]
  },
  {
   "cell_type": "code",
   "execution_count": null,
   "id": "3df3f474-00a3-4ed9-b491-a5871caba34f",
   "metadata": {
    "execution": {
     "iopub.status.busy": "2022-01-27T23:29:26.003890Z",
     "iopub.status.idle": "2022-01-27T23:29:26.004393Z",
     "shell.execute_reply": "2022-01-27T23:29:26.004209Z",
     "shell.execute_reply.started": "2022-01-27T23:29:26.004186Z"
    }
   },
   "outputs": [],
   "source": [
    "\n",
    "job = DockerJob(temp_dir, input_file_args, other_args)\n",
    "    for copy_command in job.make_copy_commands():\n",
    "        !{copy_command}\n",
    "    !tree -h {job.path}\n",
    "    docker_command = job.make_docker_command()\n",
    "    print(docker_command)\n",
    "    !{docker_command}\n",
    "    !tree -h {job.path}\n",
    "    !gsutil -m rsync -r -d {job.path} {experiment.gcs_uri}\n"
   ]
  },
  {
   "cell_type": "markdown",
   "id": "5136aa29-b4e7-4969-b9e5-87b25c0a009a",
   "metadata": {},
   "source": [
    "### prep input files"
   ]
  },
  {
   "cell_type": "code",
   "execution_count": null,
   "id": "ff43c2e8-8d65-4baf-9c6e-b982b6062e88",
   "metadata": {
    "execution": {
     "iopub.status.busy": "2022-01-27T23:29:26.005719Z",
     "iopub.status.idle": "2022-01-27T23:29:26.006080Z",
     "shell.execute_reply": "2022-01-27T23:29:26.005907Z",
     "shell.execute_reply.started": "2022-01-27T23:29:26.005887Z"
    }
   },
   "outputs": [],
   "source": [
    "from helpers.csx_docker import save_valid_mixture_file, save_valid_fractions_file\n",
    "\n",
    "with open(\"mixture.txt\", \"w\") as f:\n",
    "    save_valid_mixture_file(mixtures, f)\n",
    "with open(\"fractions.txt\", \"w\") as f:\n",
    "    save_valid_fractions_file(fractions, f)"
   ]
  },
  {
   "cell_type": "markdown",
   "id": "eaab4403-1bc2-4300-89f4-e83b1833b1df",
   "metadata": {},
   "source": [
    "### run cibersortx"
   ]
  },
  {
   "cell_type": "code",
   "execution_count": null,
   "id": "3c27eca3-6dd8-4cc6-80a1-e6ea5e269ea3",
   "metadata": {
    "execution": {
     "iopub.status.busy": "2022-01-27T23:29:26.007273Z",
     "iopub.status.idle": "2022-01-27T23:29:26.007632Z",
     "shell.execute_reply": "2022-01-27T23:29:26.007452Z",
     "shell.execute_reply.started": "2022-01-27T23:29:26.007433Z"
    }
   },
   "outputs": [],
   "source": [
    "run_csx(path='...')"
   ]
  },
  {
   "cell_type": "markdown",
   "id": "f3b13e9b-71e9-4ae6-b48d-6d9c30bb8e66",
   "metadata": {},
   "source": [
    "### load and process outputs"
   ]
  },
  {
   "cell_type": "markdown",
   "id": "62cd8005-3307-4d03-87c0-97eaeea6fea3",
   "metadata": {},
   "source": [
    "## evaluate results"
   ]
  },
  {
   "cell_type": "code",
   "execution_count": null,
   "id": "ba025ac0-293b-48a1-a2d3-5cff1fa04918",
   "metadata": {},
   "outputs": [],
   "source": []
  },
  {
   "cell_type": "markdown",
   "id": "5481aa5b-df7d-456e-93ee-1ced0ec3fcc8",
   "metadata": {
    "tags": []
   },
   "source": [
    "# output 3: estimated gene expression by cell type"
   ]
  },
  {
   "cell_type": "markdown",
   "id": "1d83d7d9-890d-4521-badd-9cb5584493c6",
   "metadata": {
    "tags": []
   },
   "source": [
    "## run cibersortx expression imputation on in silico mixtures"
   ]
  },
  {
   "cell_type": "markdown",
   "id": "4961d5b9-3d8e-4c42-a173-9778f4e2159d",
   "metadata": {},
   "source": [
    "## volcano plot outputs"
   ]
  },
  {
   "cell_type": "code",
   "execution_count": null,
   "id": "ad6da47b-06c6-4a55-b86e-14fb17f3946b",
   "metadata": {
    "execution": {
     "iopub.status.busy": "2022-01-27T23:29:26.008711Z",
     "iopub.status.idle": "2022-01-27T23:29:26.009046Z",
     "shell.execute_reply": "2022-01-27T23:29:26.008881Z",
     "shell.execute_reply.started": "2022-01-27T23:29:26.008862Z"
    },
    "tags": []
   },
   "outputs": [],
   "source": [
    "# for each cell type, scatter plot (effect_size, p_value) for each gene"
   ]
  }
 ],
 "metadata": {
  "environment": {
   "kernel": "conda-env-py39-py",
   "name": "common-cpu.m84",
   "type": "gcloud",
   "uri": "gcr.io/deeplearning-platform-release/base-cpu:m84"
  },
  "kernelspec": {
   "display_name": "Python [conda env:py39]",
   "language": "python",
   "name": "conda-env-py39-py"
  },
  "language_info": {
   "codemirror_mode": {
    "name": "ipython",
    "version": 3
   },
   "file_extension": ".py",
   "mimetype": "text/x-python",
   "name": "python",
   "nbconvert_exporter": "python",
   "pygments_lexer": "ipython3",
   "version": "3.9.9"
  }
 },
 "nbformat": 4,
 "nbformat_minor": 5
}
