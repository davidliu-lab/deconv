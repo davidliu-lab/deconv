{
    "cells": [
        {
            "cell_type": "markdown",
            "id": "f59b3780-efdb-4a39-a08f-1b9da6942b98",
            "metadata": {
                "tags": []
            },
            "source": [
                "# about\n",
                "\n",
                "optimizing generation of pseudobulk rna-seq samples"
            ]
        },
        {
            "cell_type": "code",
            "execution_count": 1,
            "id": "f56ee10c-e296-4cfe-83db-3cfe131137c3",
            "metadata": {
                "tags": []
            },
            "outputs": [],
            "source": [
                "mets_only_tcga = True\n",
                "gene_sparsity_ceiling_tcga = 0.5"
            ]
        },
        {
            "cell_type": "markdown",
            "id": "95f7381d-619f-4293-b6de-ef4db18c3f98",
            "metadata": {
                "tags": []
            },
            "source": [
                "# imports"
            ]
        },
        {
            "cell_type": "code",
            "execution_count": 15,
            "id": "523c8488-e100-4663-bcea-18a012bde9b7",
            "metadata": {
                "tags": []
            },
            "outputs": [],
            "source": [
                "import logging\n",
                "\n",
                "import helpers\n",
                "import numpy as np\n",
                "import pandas as pd\n",
                "import plotly.express as px\n",
                "import plotly.figure_factory as ff\n",
                "import plotly.graph_objects as go\n",
                "import plotly.io\n",
                "from upath import UPath as Path"
            ]
        },
        {
            "cell_type": "code",
            "execution_count": 3,
            "id": "194a04ca-4659-48ad-a5d3-50f426cd8c72",
            "metadata": {},
            "outputs": [],
            "source": [
                "handler = logging.StreamHandler()\n",
                "formatter = logging.Formatter(\"%(asctime)s - %(name)s - %(levelname)s - %(message)s\")\n",
                "handler.setFormatter(formatter)\n",
                "logging.getLogger().addHandler(handler)"
            ]
        },
        {
            "cell_type": "code",
            "execution_count": 4,
            "id": "362ddaae-9990-493d-8ead-055cef79b334",
            "metadata": {
                "tags": []
            },
            "outputs": [],
            "source": [
                "logging.getLogger(\"gcsfs\").setLevel(\"INFO\")\n",
                "logging.getLogger(\"google.cloud.bigquery\").setLevel(\"DEBUG\")\n",
                "logging.getLogger(\"helpers\").setLevel(\"DEBUG\")\n",
                "logging.getLogger(\"helpers.creating_mixtures\").setLevel(\"INFO\")\n",
                "logging.getLogger(\"pandas\").setLevel(\"DEBUG\")\n",
                "logging.getLogger(\"pyarrow\").setLevel(\"DEBUG\")"
            ]
        },
        {
            "cell_type": "code",
            "execution_count": 5,
            "id": "edf38621-ef02-4c0a-828a-c091aa267891",
            "metadata": {},
            "outputs": [],
            "source": [
                "logger = logging.getLogger(__name__)\n",
                "logger.setLevel(\"DEBUG\")"
            ]
        },
        {
            "cell_type": "code",
            "execution_count": 6,
            "id": "01e6b1e1-e12b-4cdc-b00a-bd799191553d",
            "metadata": {
                "tags": []
            },
            "outputs": [],
            "source": [
                "rng = np.random.default_rng(seed=0)"
            ]
        },
        {
            "cell_type": "markdown",
            "id": "7865d185-a4c5-493a-a8c2-267b77c552f8",
            "metadata": {
                "tags": []
            },
            "source": [
                "# loading data"
            ]
        },
        {
            "cell_type": "code",
            "execution_count": 7,
            "id": "7b0c2a58-0b0e-4706-a687-e3e061319ca9",
            "metadata": {
                "tags": []
            },
            "outputs": [
                {
                    "name": "stderr",
                    "output_type": "stream",
                    "text": [
                        "2022-05-26 05:28:30,539 - helpers.datasets - DEBUG - reading gs://liulab/firebrowse.org/SKCM.rnaseqv2__illuminahiseq_rnaseqv2__unc_edu__Level_3__RSEM_genes__data.data.txt\n"
                    ]
                },
                {
                    "name": "stdout",
                    "output_type": "stream",
                    "text": [
                        "CPU times: user 15.7 s, sys: 1.01 s, total: 16.7 s\n",
                        "Wall time: 28.5 s\n"
                    ]
                }
            ],
            "source": [
                "%%time\n",
                "bulk_tcga_skcm = helpers.datasets.load_tcga_skcm_hg19_scaled_estimate_firebrowse()\n",
                "bulk_tcga_skcm *= 1_000_000 / bulk_tcga_skcm.sum()"
            ]
        },
        {
            "cell_type": "code",
            "execution_count": 8,
            "id": "7e3d56b0-a819-48e4-bacd-14dbfd6b0f92",
            "metadata": {},
            "outputs": [
                {
                    "name": "stderr",
                    "output_type": "stream",
                    "text": [
                        "2022-05-26 05:28:59,017 - helpers.datasets - DEBUG - loading TCGA SKCM fractions estimated by CIBERSORTx\n"
                    ]
                },
                {
                    "name": "stdout",
                    "output_type": "stream",
                    "text": [
                        "CPU times: user 13.8 ms, sys: 3.79 ms, total: 17.6 ms\n",
                        "Wall time: 80.4 ms\n"
                    ]
                }
            ],
            "source": [
                "%%time\n",
                "fractions_tcga_skcm = helpers.datasets.load_tcga_skcm_fractions_from_csx()"
            ]
        },
        {
            "cell_type": "code",
            "execution_count": 9,
            "id": "35d0a14e-1608-47a4-b63e-58047cde1c7d",
            "metadata": {
                "tags": []
            },
            "outputs": [
                {
                    "name": "stderr",
                    "output_type": "stream",
                    "text": [
                        "2022-05-26 05:28:59,105 - helpers.datasets - DEBUG - loading Jerby-Arnon scRNA-seq data\n",
                        "2022-05-26 05:29:26,880 - helpers.datasets - DEBUG - loading Jerby-Arnon metadata\n"
                    ]
                },
                {
                    "name": "stdout",
                    "output_type": "stream",
                    "text": [
                        "CPU times: user 55.1 s, sys: 12.8 s, total: 1min 7s\n",
                        "Wall time: 28.4 s\n"
                    ]
                }
            ],
            "source": [
                "%%time\n",
                "sc_jerby_arnon, sc_metadata_jerby_arnon = helpers.datasets.load_jerby_arnon(\n",
                "    ref_genome=\"hg19\", units=\"tpm\"\n",
                ")\n",
                "sc_jerby_arnon *= 1_000_000 / sc_jerby_arnon.sum()"
            ]
        },
        {
            "cell_type": "markdown",
            "id": "3e494c19-d2b9-4a15-8552-917651d9926b",
            "metadata": {},
            "source": [
                "## apply filters to data"
            ]
        },
        {
            "cell_type": "code",
            "execution_count": 10,
            "id": "524e604f-df0d-4e4a-b95b-7ac55ca9cc37",
            "metadata": {
                "tags": []
            },
            "outputs": [],
            "source": [
                "# determine gene exclusions\n",
                "\n",
                "exclusions_genes = pd.DataFrame(index=bulk_tcga_skcm.index.union(sc_jerby_arnon.index))\n",
                "\n",
                "## sparsity in tcga\n",
                "genes_sparse_tcga_skcm = bulk_tcga_skcm[\n",
                "    (bulk_tcga_skcm == 0).mean(axis=1) > gene_sparsity_ceiling_tcga\n",
                "].index\n",
                "exclusions_genes[\"sparse_in_tcga_skcm\"] = exclusions_genes.index.map(\n",
                "    lambda g: g in genes_sparse_tcga_skcm\n",
                ")\n",
                "\n",
                "## genes not in both cohorts\n",
                "genes_in_both = bulk_tcga_skcm.index.intersection(sc_jerby_arnon.index)\n",
                "exclusions_genes[\"not_in_both_cohorts\"] = exclusions_genes.index.map(\n",
                "    lambda gene_name: gene_name not in genes_in_both\n",
                ")\n",
                "\n",
                "good_genes = exclusions_genes.loc[~exclusions_genes.any(axis=1)].index"
            ]
        },
        {
            "cell_type": "markdown",
            "id": "b1483e86-c91d-4a06-b2bb-55899b1adea9",
            "metadata": {},
            "source": [
                "https://console.cloud.google.com/bigquery?authuser=1&project=keen-dispatch-316219"
            ]
        },
        {
            "cell_type": "code",
            "execution_count": 11,
            "id": "6aa67079-20b7-46f4-94e9-b1eb32c40a8e",
            "metadata": {
                "tags": []
            },
            "outputs": [],
            "source": [
                "# determine tcga sample exclusions\n",
                "\n",
                "exclusions_tcga_samples = pd.DataFrame(index=bulk_tcga_skcm.columns)\n",
                "\n",
                "## limit to metastases\n",
                "\n",
                "if mets_only_tcga:\n",
                "    query_text = \"\"\"\n",
                "        SELECT aliquot_barcode\n",
                "        FROM `keen-dispatch-316219.gdc_tcga_skcm_subset.aliquot2caseIDmap_current`\n",
                "        WHERE sample_type_name = 'Metastatic'\n",
                "    \"\"\"\n",
                "    metastatic_aliquot_barcodes = pd.read_gbq(query_text)[\"aliquot_barcode\"].values\n",
                "    exclusions_tcga_samples[\"is_not_metastatic\"] = exclusions_tcga_samples.index.map(\n",
                "        lambda sample: sample not in metastatic_aliquot_barcodes\n",
                "    )\n",
                "\n",
                "good_tcga_samples = exclusions_tcga_samples.loc[\n",
                "    ~exclusions_tcga_samples.any(axis=1)\n",
                "].index"
            ]
        },
        {
            "cell_type": "code",
            "execution_count": 12,
            "id": "7de43739-e0e6-468f-9414-677d6bf6c9a7",
            "metadata": {
                "tags": []
            },
            "outputs": [
                {
                    "name": "stdout",
                    "output_type": "stream",
                    "text": [
                        "without exclusions: [(23686, 7186), (20501, 473), (473, 9)]\n",
                        "with exclusions: [(16063, 7186), (16063, 368), (368, 9)]\n"
                    ]
                }
            ],
            "source": [
                "# apply exclusions\n",
                "sc_jerby_arnon_cleaned = sc_jerby_arnon.loc[good_genes]\n",
                "sc_jerby_arnon_cleaned *= 1_000_000 / sc_jerby_arnon_cleaned.sum()\n",
                "bulk_tcga_skcm_cleaned = bulk_tcga_skcm.loc[good_genes][good_tcga_samples]\n",
                "bulk_tcga_skcm_cleaned *= 1_000_000 / bulk_tcga_skcm_cleaned.sum()\n",
                "fractions_tcga_skcm_cleaned = fractions_tcga_skcm.loc[good_tcga_samples]\n",
                "\n",
                "print(\n",
                "    \"without exclusions:\",\n",
                "    [df.shape for df in (sc_jerby_arnon, bulk_tcga_skcm, fractions_tcga_skcm)],\n",
                ")\n",
                "\n",
                "print(\n",
                "    \"with exclusions:\",\n",
                "    [\n",
                "        df.shape\n",
                "        for df in (\n",
                "            sc_jerby_arnon_cleaned,\n",
                "            bulk_tcga_skcm_cleaned,\n",
                "            fractions_tcga_skcm_cleaned,\n",
                "        )\n",
                "    ],\n",
                ")"
            ]
        },
        {
            "cell_type": "code",
            "execution_count": null,
            "id": "f6917839-27a5-4945-bc9d-97d555c11522",
            "metadata": {},
            "outputs": [
                {
                    "name": "stdout",
                    "output_type": "stream",
                    "text": [
                        "gs://liulab/data/pseudobulk_optimization/3_with_tcga_qc\n",
                        "Removing gs://liulab/data/pseudobulk_optimization/3_with_tcga_qc/mixtures_real_tcga_skcm/estimated_fractions.parquet#1653543074488854...\n",
                        "Removing gs://liulab/data/pseudobulk_optimization/3_with_tcga_qc/mixtures_real_tcga_skcm/tpm.parquet#1653543074158280...\n",
                        "/ [2 objects]                                                                   \n",
                        "Operation completed over 2 objects.                                              \n"
                    ]
                },
                {
                    "name": "stderr",
                    "output_type": "stream",
                    "text": [
                        "2022-05-26 05:31:59,151 - __main__ - DEBUG - writing mixtures to gs://liulab/data/pseudobulk_optimization/3_with_tcga_qc/mixtures_real_tcga_skcm/tpm.parquet\n",
                        "2022-05-26 05:32:00,951 - __main__ - INFO - 1, True\n",
                        "2022-05-26 05:32:00,952 - __main__ - DEBUG - making\n",
                        "2022-05-26 05:32:12,452 - __main__ - DEBUG - reformatting\n",
                        "2022-05-26 05:32:13,782 - __main__ - DEBUG - writing mixtures to gs://liulab/data/pseudobulk_optimization/3_with_tcga_qc/mixtures/n_cells=1/malignant_from_one_sample=True/data.parquet\n",
                        "2022-05-26 05:32:14,850 - __main__ - INFO - 1, False\n",
                        "2022-05-26 05:32:14,850 - __main__ - DEBUG - making\n",
                        "2022-05-26 05:32:27,571 - __main__ - DEBUG - reformatting\n",
                        "2022-05-26 05:32:29,121 - __main__ - DEBUG - writing mixtures to gs://liulab/data/pseudobulk_optimization/3_with_tcga_qc/mixtures/n_cells=1/malignant_from_one_sample=False/data.parquet\n",
                        "2022-05-26 05:32:30,213 - __main__ - INFO - 2, True\n",
                        "2022-05-26 05:32:30,214 - __main__ - DEBUG - making\n",
                        "2022-05-26 05:32:38,065 - __main__ - DEBUG - reformatting\n",
                        "2022-05-26 05:32:38,765 - __main__ - DEBUG - writing mixtures to gs://liulab/data/pseudobulk_optimization/3_with_tcga_qc/mixtures/n_cells=2/malignant_from_one_sample=True/data.parquet\n",
                        "2022-05-26 05:32:39,846 - __main__ - INFO - 2, False\n",
                        "2022-05-26 05:32:39,847 - __main__ - DEBUG - making\n",
                        "2022-05-26 05:32:46,605 - __main__ - DEBUG - reformatting\n",
                        "2022-05-26 05:32:47,359 - __main__ - DEBUG - writing mixtures to gs://liulab/data/pseudobulk_optimization/3_with_tcga_qc/mixtures/n_cells=2/malignant_from_one_sample=False/data.parquet\n",
                        "2022-05-26 05:32:48,462 - __main__ - INFO - 3, True\n",
                        "2022-05-26 05:32:48,463 - __main__ - DEBUG - making\n",
                        "2022-05-26 05:33:01,414 - __main__ - DEBUG - reformatting\n",
                        "2022-05-26 05:33:02,130 - __main__ - DEBUG - writing mixtures to gs://liulab/data/pseudobulk_optimization/3_with_tcga_qc/mixtures/n_cells=3/malignant_from_one_sample=True/data.parquet\n",
                        "2022-05-26 05:33:03,253 - __main__ - INFO - 3, False\n",
                        "2022-05-26 05:33:03,254 - __main__ - DEBUG - making\n",
                        "2022-05-26 05:33:10,499 - __main__ - DEBUG - reformatting\n",
                        "2022-05-26 05:33:11,287 - __main__ - DEBUG - writing mixtures to gs://liulab/data/pseudobulk_optimization/3_with_tcga_qc/mixtures/n_cells=3/malignant_from_one_sample=False/data.parquet\n",
                        "2022-05-26 05:33:12,506 - __main__ - INFO - 4, True\n",
                        "2022-05-26 05:33:12,507 - __main__ - DEBUG - making\n",
                        "2022-05-26 05:33:25,960 - __main__ - DEBUG - reformatting\n",
                        "2022-05-26 05:33:26,658 - __main__ - DEBUG - writing mixtures to gs://liulab/data/pseudobulk_optimization/3_with_tcga_qc/mixtures/n_cells=4/malignant_from_one_sample=True/data.parquet\n",
                        "2022-05-26 05:33:27,813 - __main__ - INFO - 4, False\n",
                        "2022-05-26 05:33:27,815 - __main__ - DEBUG - making\n",
                        "2022-05-26 05:33:34,984 - __main__ - DEBUG - reformatting\n",
                        "2022-05-26 05:33:35,781 - __main__ - DEBUG - writing mixtures to gs://liulab/data/pseudobulk_optimization/3_with_tcga_qc/mixtures/n_cells=4/malignant_from_one_sample=False/data.parquet\n",
                        "2022-05-26 05:33:36,995 - __main__ - INFO - 5, True\n",
                        "2022-05-26 05:33:36,996 - __main__ - DEBUG - making\n",
                        "2022-05-26 05:33:46,453 - __main__ - DEBUG - reformatting\n",
                        "2022-05-26 05:33:47,922 - __main__ - DEBUG - writing mixtures to gs://liulab/data/pseudobulk_optimization/3_with_tcga_qc/mixtures/n_cells=5/malignant_from_one_sample=True/data.parquet\n",
                        "2022-05-26 05:33:49,113 - __main__ - INFO - 5, False\n",
                        "2022-05-26 05:33:49,114 - __main__ - DEBUG - making\n",
                        "2022-05-26 05:33:56,633 - __main__ - DEBUG - reformatting\n",
                        "2022-05-26 05:33:57,445 - __main__ - DEBUG - writing mixtures to gs://liulab/data/pseudobulk_optimization/3_with_tcga_qc/mixtures/n_cells=5/malignant_from_one_sample=False/data.parquet\n",
                        "2022-05-26 05:33:58,644 - __main__ - INFO - 6, True\n",
                        "2022-05-26 05:33:58,644 - __main__ - DEBUG - making\n",
                        "2022-05-26 05:34:13,172 - __main__ - DEBUG - reformatting\n",
                        "2022-05-26 05:34:14,662 - __main__ - DEBUG - writing mixtures to gs://liulab/data/pseudobulk_optimization/3_with_tcga_qc/mixtures/n_cells=6/malignant_from_one_sample=True/data.parquet\n",
                        "2022-05-26 05:34:15,847 - __main__ - INFO - 6, False\n",
                        "2022-05-26 05:34:15,848 - __main__ - DEBUG - making\n",
                        "2022-05-26 05:34:23,653 - __main__ - DEBUG - reformatting\n",
                        "2022-05-26 05:34:24,429 - __main__ - DEBUG - writing mixtures to gs://liulab/data/pseudobulk_optimization/3_with_tcga_qc/mixtures/n_cells=6/malignant_from_one_sample=False/data.parquet\n",
                        "2022-05-26 05:34:25,666 - __main__ - INFO - 7, True\n",
                        "2022-05-26 05:34:25,667 - __main__ - DEBUG - making\n",
                        "2022-05-26 05:34:33,772 - __main__ - DEBUG - reformatting\n",
                        "2022-05-26 05:34:34,522 - __main__ - DEBUG - writing mixtures to gs://liulab/data/pseudobulk_optimization/3_with_tcga_qc/mixtures/n_cells=7/malignant_from_one_sample=True/data.parquet\n",
                        "2022-05-26 05:34:35,607 - __main__ - INFO - 7, False\n",
                        "2022-05-26 05:34:35,608 - __main__ - DEBUG - making\n",
                        "2022-05-26 05:34:42,863 - __main__ - DEBUG - reformatting\n",
                        "2022-05-26 05:34:43,662 - __main__ - DEBUG - writing mixtures to gs://liulab/data/pseudobulk_optimization/3_with_tcga_qc/mixtures/n_cells=7/malignant_from_one_sample=False/data.parquet\n",
                        "2022-05-26 05:34:44,927 - __main__ - INFO - 8, True\n",
                        "2022-05-26 05:34:44,928 - __main__ - DEBUG - making\n",
                        "2022-05-26 05:34:59,751 - __main__ - DEBUG - reformatting\n",
                        "2022-05-26 05:35:01,438 - __main__ - DEBUG - writing mixtures to gs://liulab/data/pseudobulk_optimization/3_with_tcga_qc/mixtures/n_cells=8/malignant_from_one_sample=True/data.parquet\n",
                        "2022-05-26 05:35:02,655 - __main__ - INFO - 8, False\n",
                        "2022-05-26 05:35:02,656 - __main__ - DEBUG - making\n",
                        "2022-05-26 05:35:16,545 - __main__ - DEBUG - reformatting\n",
                        "2022-05-26 05:35:18,079 - __main__ - DEBUG - writing mixtures to gs://liulab/data/pseudobulk_optimization/3_with_tcga_qc/mixtures/n_cells=8/malignant_from_one_sample=False/data.parquet\n",
                        "2022-05-26 05:35:19,235 - __main__ - INFO - 9, True\n",
                        "2022-05-26 05:35:19,236 - __main__ - DEBUG - making\n",
                        "2022-05-26 05:35:34,357 - __main__ - DEBUG - reformatting\n",
                        "2022-05-26 05:35:35,935 - __main__ - DEBUG - writing mixtures to gs://liulab/data/pseudobulk_optimization/3_with_tcga_qc/mixtures/n_cells=9/malignant_from_one_sample=True/data.parquet\n",
                        "2022-05-26 05:35:37,053 - __main__ - INFO - 9, False\n",
                        "2022-05-26 05:35:37,054 - __main__ - DEBUG - making\n",
                        "2022-05-26 05:35:44,994 - __main__ - DEBUG - reformatting\n",
                        "2022-05-26 05:35:45,804 - __main__ - DEBUG - writing mixtures to gs://liulab/data/pseudobulk_optimization/3_with_tcga_qc/mixtures/n_cells=9/malignant_from_one_sample=False/data.parquet\n",
                        "2022-05-26 05:35:47,146 - __main__ - INFO - 10, True\n",
                        "2022-05-26 05:35:47,147 - __main__ - DEBUG - making\n",
                        "2022-05-26 05:36:02,020 - __main__ - DEBUG - reformatting\n",
                        "2022-05-26 05:36:03,567 - __main__ - DEBUG - writing mixtures to gs://liulab/data/pseudobulk_optimization/3_with_tcga_qc/mixtures/n_cells=10/malignant_from_one_sample=True/data.parquet\n",
                        "2022-05-26 05:36:04,666 - __main__ - INFO - 10, False\n",
                        "2022-05-26 05:36:04,667 - __main__ - DEBUG - making\n",
                        "2022-05-26 05:36:19,625 - __main__ - DEBUG - reformatting\n",
                        "2022-05-26 05:36:21,197 - __main__ - DEBUG - writing mixtures to gs://liulab/data/pseudobulk_optimization/3_with_tcga_qc/mixtures/n_cells=10/malignant_from_one_sample=False/data.parquet\n",
                        "2022-05-26 05:36:22,375 - __main__ - INFO - 11, True\n",
                        "2022-05-26 05:36:22,376 - __main__ - DEBUG - making\n",
                        "2022-05-26 05:36:38,056 - __main__ - DEBUG - reformatting\n",
                        "2022-05-26 05:36:39,741 - __main__ - DEBUG - writing mixtures to gs://liulab/data/pseudobulk_optimization/3_with_tcga_qc/mixtures/n_cells=11/malignant_from_one_sample=True/data.parquet\n",
                        "2022-05-26 05:36:40,889 - __main__ - INFO - 11, False\n",
                        "2022-05-26 05:36:40,890 - __main__ - DEBUG - making\n",
                        "2022-05-26 05:36:49,063 - __main__ - DEBUG - reformatting\n",
                        "2022-05-26 05:36:49,842 - __main__ - DEBUG - writing mixtures to gs://liulab/data/pseudobulk_optimization/3_with_tcga_qc/mixtures/n_cells=11/malignant_from_one_sample=False/data.parquet\n",
                        "2022-05-26 05:36:51,130 - __main__ - INFO - 12, True\n",
                        "2022-05-26 05:36:51,131 - __main__ - DEBUG - making\n",
                        "2022-05-26 05:37:06,387 - __main__ - DEBUG - reformatting\n",
                        "2022-05-26 05:37:08,015 - __main__ - DEBUG - writing mixtures to gs://liulab/data/pseudobulk_optimization/3_with_tcga_qc/mixtures/n_cells=12/malignant_from_one_sample=True/data.parquet\n",
                        "2022-05-26 05:37:09,245 - __main__ - INFO - 12, False\n",
                        "2022-05-26 05:37:09,246 - __main__ - DEBUG - making\n",
                        "2022-05-26 05:37:23,378 - __main__ - DEBUG - reformatting\n",
                        "2022-05-26 05:37:24,903 - __main__ - DEBUG - writing mixtures to gs://liulab/data/pseudobulk_optimization/3_with_tcga_qc/mixtures/n_cells=12/malignant_from_one_sample=False/data.parquet\n",
                        "2022-05-26 05:37:26,223 - __main__ - INFO - 13, True\n",
                        "2022-05-26 05:37:26,225 - __main__ - DEBUG - making\n",
                        "2022-05-26 05:37:41,462 - __main__ - DEBUG - reformatting\n",
                        "2022-05-26 05:37:43,030 - __main__ - DEBUG - writing mixtures to gs://liulab/data/pseudobulk_optimization/3_with_tcga_qc/mixtures/n_cells=13/malignant_from_one_sample=True/data.parquet\n",
                        "2022-05-26 05:37:44,285 - __main__ - INFO - 13, False\n",
                        "2022-05-26 05:37:44,286 - __main__ - DEBUG - making\n",
                        "2022-05-26 05:37:52,350 - __main__ - DEBUG - reformatting\n",
                        "2022-05-26 05:37:53,160 - __main__ - DEBUG - writing mixtures to gs://liulab/data/pseudobulk_optimization/3_with_tcga_qc/mixtures/n_cells=13/malignant_from_one_sample=False/data.parquet\n",
                        "2022-05-26 05:37:54,449 - __main__ - INFO - 14, True\n",
                        "2022-05-26 05:37:54,450 - __main__ - DEBUG - making\n",
                        "2022-05-26 05:38:02,975 - __main__ - DEBUG - reformatting\n",
                        "2022-05-26 05:38:03,751 - __main__ - DEBUG - writing mixtures to gs://liulab/data/pseudobulk_optimization/3_with_tcga_qc/mixtures/n_cells=14/malignant_from_one_sample=True/data.parquet\n",
                        "2022-05-26 05:38:04,999 - __main__ - INFO - 14, False\n",
                        "2022-05-26 05:38:05,000 - __main__ - DEBUG - making\n",
                        "2022-05-26 05:38:13,227 - __main__ - DEBUG - reformatting\n",
                        "2022-05-26 05:38:14,824 - __main__ - DEBUG - writing mixtures to gs://liulab/data/pseudobulk_optimization/3_with_tcga_qc/mixtures/n_cells=14/malignant_from_one_sample=False/data.parquet\n",
                        "2022-05-26 05:38:15,996 - __main__ - INFO - 15, True\n",
                        "2022-05-26 05:38:15,997 - __main__ - DEBUG - making\n",
                        "2022-05-26 05:38:30,859 - __main__ - DEBUG - reformatting\n",
                        "2022-05-26 05:38:32,458 - __main__ - DEBUG - writing mixtures to gs://liulab/data/pseudobulk_optimization/3_with_tcga_qc/mixtures/n_cells=15/malignant_from_one_sample=True/data.parquet\n",
                        "2022-05-26 05:38:33,768 - __main__ - INFO - 15, False\n",
                        "2022-05-26 05:38:33,769 - __main__ - DEBUG - making\n",
                        "2022-05-26 05:38:48,299 - __main__ - DEBUG - reformatting\n",
                        "2022-05-26 05:38:49,867 - __main__ - DEBUG - writing mixtures to gs://liulab/data/pseudobulk_optimization/3_with_tcga_qc/mixtures/n_cells=15/malignant_from_one_sample=False/data.parquet\n",
                        "2022-05-26 05:38:51,061 - __main__ - INFO - 16, True\n",
                        "2022-05-26 05:38:51,062 - __main__ - DEBUG - making\n",
                        "2022-05-26 05:39:07,033 - __main__ - DEBUG - reformatting\n",
                        "2022-05-26 05:39:08,691 - __main__ - DEBUG - writing mixtures to gs://liulab/data/pseudobulk_optimization/3_with_tcga_qc/mixtures/n_cells=16/malignant_from_one_sample=True/data.parquet\n",
                        "2022-05-26 05:39:09,921 - __main__ - INFO - 16, False\n",
                        "2022-05-26 05:39:09,922 - __main__ - DEBUG - making\n",
                        "2022-05-26 05:39:18,412 - __main__ - DEBUG - reformatting\n",
                        "2022-05-26 05:39:19,228 - __main__ - DEBUG - writing mixtures to gs://liulab/data/pseudobulk_optimization/3_with_tcga_qc/mixtures/n_cells=16/malignant_from_one_sample=False/data.parquet\n",
                        "2022-05-26 05:39:20,386 - __main__ - INFO - 17, True\n",
                        "2022-05-26 05:39:20,387 - __main__ - DEBUG - making\n",
                        "2022-05-26 05:39:36,661 - __main__ - DEBUG - reformatting\n",
                        "2022-05-26 05:39:38,286 - __main__ - DEBUG - writing mixtures to gs://liulab/data/pseudobulk_optimization/3_with_tcga_qc/mixtures/n_cells=17/malignant_from_one_sample=True/data.parquet\n",
                        "2022-05-26 05:39:39,495 - __main__ - INFO - 17, False\n",
                        "2022-05-26 05:39:39,496 - __main__ - DEBUG - making\n",
                        "2022-05-26 05:39:47,887 - __main__ - DEBUG - reformatting\n",
                        "2022-05-26 05:39:48,680 - __main__ - DEBUG - writing mixtures to gs://liulab/data/pseudobulk_optimization/3_with_tcga_qc/mixtures/n_cells=17/malignant_from_one_sample=False/data.parquet\n",
                        "2022-05-26 05:39:49,836 - __main__ - INFO - 18, True\n",
                        "2022-05-26 05:39:49,836 - __main__ - DEBUG - making\n",
                        "2022-05-26 05:40:04,983 - __main__ - DEBUG - reformatting\n",
                        "2022-05-26 05:40:06,470 - __main__ - DEBUG - writing mixtures to gs://liulab/data/pseudobulk_optimization/3_with_tcga_qc/mixtures/n_cells=18/malignant_from_one_sample=True/data.parquet\n",
                        "2022-05-26 05:40:07,661 - __main__ - INFO - 18, False\n",
                        "2022-05-26 05:40:07,662 - __main__ - DEBUG - making\n",
                        "2022-05-26 05:40:15,611 - __main__ - DEBUG - reformatting\n",
                        "2022-05-26 05:40:16,353 - __main__ - DEBUG - writing mixtures to gs://liulab/data/pseudobulk_optimization/3_with_tcga_qc/mixtures/n_cells=18/malignant_from_one_sample=False/data.parquet\n",
                        "2022-05-26 05:40:17,531 - __main__ - INFO - 19, True\n",
                        "2022-05-26 05:40:17,532 - __main__ - DEBUG - making\n",
                        "2022-05-26 05:40:33,410 - __main__ - DEBUG - reformatting\n",
                        "2022-05-26 05:40:34,913 - __main__ - DEBUG - writing mixtures to gs://liulab/data/pseudobulk_optimization/3_with_tcga_qc/mixtures/n_cells=19/malignant_from_one_sample=True/data.parquet\n",
                        "2022-05-26 05:40:36,162 - __main__ - INFO - 19, False\n",
                        "2022-05-26 05:40:36,163 - __main__ - DEBUG - making\n",
                        "2022-05-26 05:40:44,768 - __main__ - DEBUG - reformatting\n",
                        "2022-05-26 05:40:45,543 - __main__ - DEBUG - writing mixtures to gs://liulab/data/pseudobulk_optimization/3_with_tcga_qc/mixtures/n_cells=19/malignant_from_one_sample=False/data.parquet\n",
                        "2022-05-26 05:40:46,810 - __main__ - INFO - 20, True\n",
                        "2022-05-26 05:40:46,811 - __main__ - DEBUG - making\n"
                    ]
                }
            ],
            "source": [
                "logger.setLevel(\"DEBUG\")\n",
                "\n",
                "rng = np.random.default_rng(0)\n",
                "uri_base = Path(\"gs://liulab/data/pseudobulk_optimization/3_with_tcga_qc\")\n",
                "print(uri_base)\n",
                "!gsutil rm -r {str(uri_base)}\n",
                "\n",
                "\n",
                "def reformat_rna_seq_dataframe(df, sample_column_name):\n",
                "    return (\n",
                "        df.rename_axis(columns=sample_column_name)\n",
                "        .stack()\n",
                "        .to_frame(name=\"tpm\")\n",
                "        .reset_index()\n",
                "        .astype(\n",
                "            {\n",
                "                \"gene_symbol\": \"category\",\n",
                "                sample_column_name: \"category\",\n",
                "            }\n",
                "        )\n",
                "    )\n",
                "\n",
                "\n",
                "bulk_tcga_skcm_cleaned_out = reformat_rna_seq_dataframe(\n",
                "    bulk_tcga_skcm_cleaned, \"aliquot_barcode\"\n",
                ")\n",
                "uri_bulk_tcga_skcm_cleaned = str(uri_base / \"mixtures_real_tcga_skcm\" / \"tpm.parquet\")\n",
                "logger.debug(f\"writing real tcga skcm bulk samples to {uri_bulk_tcga_skcm_cleaned}\")\n",
                "bulk_tcga_skcm_cleaned_out.to_parquet(\n",
                "    uri_bulk_tcga_skcm_cleaned,\n",
                "    engine=\"pyarrow\",\n",
                ")\n",
                "\n",
                "uri_bulk_tcga_skcm_fractions = str(\n",
                "    uri_base / \"mixtures_real_tcga_skcm\" / \"estimated_fractions.parquet\"\n",
                ")\n",
                "logger.debug(\n",
                "    f\"writing fractions of real tcga bulk samples to {uri_bulk_tcga_skcm_fractions}\"\n",
                ")\n",
                "fractions_tcga_skcm_cleaned.to_parquet(\n",
                "    uri_bulk_tcga_skcm_fractions,\n",
                "    engine=\"pyarrow\",\n",
                ")\n",
                "\n",
                "\n",
                "for n_cells in range(1, 21):\n",
                "    for malignant_from_one_sample in (True, False):\n",
                "        logger.info(f\"{n_cells}, {malignant_from_one_sample}\")\n",
                "        logger.debug(\"making\")\n",
                "        mixtures, cell_type_geps = helpers.creating_mixtures.make_mixtures(\n",
                "            sc_data=sc_jerby_arnon_cleaned,\n",
                "            sc_metadata=sc_metadata_jerby_arnon,\n",
                "            sample_fractions=fractions_tcga_skcm_cleaned,\n",
                "            n_cells_per_gep=n_cells,\n",
                "            malignant_from_one_sample=malignant_from_one_sample,\n",
                "            rng=rng,\n",
                "        )\n",
                "        logger.debug(\"reformatting\")\n",
                "        mixtures_out = reformat_rna_seq_dataframe(\n",
                "            mixtures, \"tcga_aliquot_barcode_for_fractions\"\n",
                "        )\n",
                "        uri_mixtures = str(\n",
                "            uri_base\n",
                "            / \"mixtures\"\n",
                "            / f\"n_cells={n_cells}\"\n",
                "            / f\"malignant_from_one_sample={malignant_from_one_sample}\"\n",
                "            / \"data.parquet\"\n",
                "        )\n",
                "        logger.debug(f\"writing mixtures to {uri_mixtures}\")\n",
                "        mixtures_out.to_parquet(\n",
                "            uri_mixtures,\n",
                "            engine=\"pyarrow\",\n",
                "        )\n",
                "        # logger.debug(\"writing cell type GEPs\")\n",
                "        # for sample_name, cell_type_gep in cell_type_geps.items():\n",
                "        #     uri_cell_type_geps = str(\n",
                "        #         uri_base\n",
                "        #         / \"cell_type_geps\"\n",
                "        #         / f\"sample_name={sample_name}\"\n",
                "        #         / f\"n_cells={n_cells}\"\n",
                "        #         / f\"malignant_from_one_sample={malignant_from_one_sample}\"\n",
                "        #         / \"data.parquet\"\n",
                "        #     )\n",
                "        #     cell_type_gep.to_parquet(uri_cell_type_geps, engine=\"pyarrow\")"
            ]
        },
        {
            "cell_type": "code",
            "execution_count": null,
            "id": "98bd4065-1069-4955-a4ab-a8abd5054fc4",
            "metadata": {},
            "outputs": [],
            "source": []
        }
    ],
    "metadata": {
        "environment": {
            "kernel": "conda-env-deconv-py",
            "name": "common-cpu.m91",
            "type": "gcloud",
            "uri": "gcr.io/deeplearning-platform-release/base-cpu:m91"
        },
        "kernelspec": {
            "display_name": "Python [conda env:deconv]",
            "language": "python",
            "name": "conda-env-deconv-py"
        },
        "language_info": {
            "codemirror_mode": {
                "name": "ipython",
                "version": 3
            },
            "file_extension": ".py",
            "mimetype": "text/x-python",
            "name": "python",
            "nbconvert_exporter": "python",
            "pygments_lexer": "ipython3",
            "version": "3.10.4"
        }
    },
    "nbformat": 4,
    "nbformat_minor": 5
}