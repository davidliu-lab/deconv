{
 "cells": [
  {
   "cell_type": "code",
   "execution_count": 1,
   "id": "45fdd30d-32ec-4734-9896-dcd50037bdc8",
   "metadata": {},
   "outputs": [],
   "source": [
    "import logging\n",
    "import os\n",
    "from pprint import pprint\n",
    "\n",
    "import dask.dataframe as dd\n",
    "import numpy as np\n",
    "import pandas as pd\n",
    "import scipy.stats\n",
    "from cloudpathlib import AnyPath as Path"
   ]
  },
  {
   "cell_type": "code",
   "execution_count": 2,
   "id": "ea4a621d-9f5c-46cc-803f-b9389b3fcb2b",
   "metadata": {},
   "outputs": [],
   "source": [
    "import warnings\n",
    "\n",
    "# with warnings.catch_warnings():\n",
    "warnings.filterwarnings(\"ignore\", category=RuntimeWarning)"
   ]
  },
  {
   "cell_type": "code",
   "execution_count": 3,
   "id": "b4c57626-b047-48d4-ab40-5ebd890b3c97",
   "metadata": {},
   "outputs": [],
   "source": [
    "handler = logging.StreamHandler()\n",
    "formatter = logging.Formatter(\n",
    "    \"%(asctime)s %(process)d/%(threadName)s %(name)s %(levelname)s - %(message)s\"\n",
    ")\n",
    "handler.setFormatter(formatter)\n",
    "logging.getLogger().handlers = [handler]"
   ]
  },
  {
   "cell_type": "code",
   "execution_count": 4,
   "id": "e3a7941f-420a-4bec-9175-2defe7cc96ff",
   "metadata": {},
   "outputs": [],
   "source": [
    "logger = logging.getLogger(__name__)"
   ]
  },
  {
   "cell_type": "code",
   "execution_count": 5,
   "id": "ec57886a-c86f-42ec-98a6-e68dc6c4ec41",
   "metadata": {},
   "outputs": [
    {
     "name": "stdout",
     "output_type": "stream",
     "text": [
      "gs://liulab/data/pseudobulk_optimization/1_no_qc_subset/\n",
      "gs://liulab/data/pseudobulk_optimization/2_no_qc/\n",
      "gs://liulab/data/pseudobulk_optimization/3_with_tcga_qc/\n"
     ]
    }
   ],
   "source": [
    "!gsutil ls gs://liulab/data/pseudobulk_optimization"
   ]
  },
  {
   "cell_type": "code",
   "execution_count": 6,
   "id": "a6cdf3e6-373d-42cb-93d2-7742050d8c14",
   "metadata": {},
   "outputs": [],
   "source": [
    "uri_real_bulks = \"gs://liulab/data/pseudobulk_optimization/3_with_tcga_qc/mixtures_real_tcga_skcm/tpm.parquet\"\n",
    "real_bulks = dd.read_parquet(uri_real_bulks, engine=\"pyarrow\")"
   ]
  },
  {
   "cell_type": "code",
   "execution_count": 7,
   "id": "e4cb58fd-5ab2-47d3-afcc-2a4c529da8f4",
   "metadata": {},
   "outputs": [],
   "source": [
    "df_real_bulks = real_bulks.compute()"
   ]
  },
  {
   "cell_type": "code",
   "execution_count": 8,
   "id": "dba6df37-86c4-415e-8609-44c96ccf6a62",
   "metadata": {},
   "outputs": [],
   "source": [
    "corrs = (\n",
    "    df_real_bulks.pivot(\n",
    "        index=\"gene_symbol\",\n",
    "        columns=\"aliquot_barcode\",\n",
    "        values=\"tpm\",\n",
    "    )\n",
    "    .corr()\n",
    "    .stack()\n",
    ")"
   ]
  },
  {
   "cell_type": "code",
   "execution_count": 9,
   "id": "85e6c08c-fbbd-41a4-9714-6a0a4acbac3e",
   "metadata": {},
   "outputs": [
    {
     "data": {
      "text/plain": [
       "count    135424.000000\n",
       "mean          0.714757\n",
       "std           0.117332\n",
       "min           0.123389\n",
       "25%           0.651614\n",
       "50%           0.735886\n",
       "75%           0.799794\n",
       "max           1.000000\n",
       "dtype: float64"
      ]
     },
     "execution_count": 9,
     "metadata": {},
     "output_type": "execute_result"
    }
   ],
   "source": [
    "tcga_intersample_corr_stats = corrs.describe()\n",
    "tcga_intersample_corr_stats"
   ]
  },
  {
   "cell_type": "code",
   "execution_count": 10,
   "id": "70cef221-2803-426a-b7c2-5f361de42704",
   "metadata": {},
   "outputs": [
    {
     "data": {
      "text/plain": [
       "0.7147571313366748"
      ]
     },
     "execution_count": 10,
     "metadata": {},
     "output_type": "execute_result"
    }
   ],
   "source": [
    "tcga_intersample_corr_stats[\"mean\"]"
   ]
  },
  {
   "cell_type": "markdown",
   "id": "8cf2c5aa-7523-4fab-8920-d2bb960abf52",
   "metadata": {},
   "source": [
    "note: 368 * 367 / 2 = 67528"
   ]
  },
  {
   "cell_type": "markdown",
   "id": "62c42a85-59f7-4d33-a92f-06c8058930ae",
   "metadata": {},
   "source": [
    "# ended here"
   ]
  },
  {
   "cell_type": "code",
   "execution_count": null,
   "id": "73105b94-03a8-42d7-aa0e-bec18e38f995",
   "metadata": {},
   "outputs": [],
   "source": [
    "def compute_intersample_metrics(df):\n",
    "    z = df.pivot(\n",
    "        index=\"gene_symbol\",\n",
    "        columns=\"tcga_aliquot_barcode_for_fractions\",\n",
    "        values=\"tpm_pseudo\",\n",
    "    ).corr()\n",
    "    zz = z.values.flatten()\n",
    "    zzz = zz[: -len(z)]\n",
    "    return pd.Series(\n",
    "        {\n",
    "            \"intersample_corr_median\": np.median(zzz),\n",
    "            \"intersample_corr_mean\": np.mean(zzz),\n",
    "            \"intersample_corr_stddev\": np.std(zzz),\n",
    "        }\n",
    "    )\n",
    "\n",
    "\n",
    "metadata = [\n",
    "    (\"intersample_corr_median\", \"float64\"),\n",
    "    (\"intersample_corr_mean\", \"float64\"),\n",
    "    (\"intersample_corr_stddev\", \"float64\"),\n",
    "]\n",
    "results_intersample = (\n",
    "    merged_groupby.apply(compute_intersample_metrics, meta=metadata).dropna().compute()\n",
    ")\n",
    "results_intersample = results_intersample.sort_index()"
   ]
  }
 ],
 "metadata": {
  "environment": {
   "kernel": "conda-env-deconv-py",
   "name": "common-cpu.m91",
   "type": "gcloud",
   "uri": "gcr.io/deeplearning-platform-release/base-cpu:m91"
  },
  "kernelspec": {
   "display_name": "Python [conda env:deconv]",
   "language": "python",
   "name": "conda-env-deconv-py"
  },
  "language_info": {
   "codemirror_mode": {
    "name": "ipython",
    "version": 3
   },
   "file_extension": ".py",
   "mimetype": "text/x-python",
   "name": "python",
   "nbconvert_exporter": "python",
   "pygments_lexer": "ipython3",
   "version": "3.10.4"
  }
 },
 "nbformat": 4,
 "nbformat_minor": 5
}
