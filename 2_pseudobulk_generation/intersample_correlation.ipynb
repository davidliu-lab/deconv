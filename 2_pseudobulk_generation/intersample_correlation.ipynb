{
 "cells": [
  {
   "cell_type": "code",
   "execution_count": 1,
   "id": "45fdd30d-32ec-4734-9896-dcd50037bdc8",
   "metadata": {},
   "outputs": [],
   "source": [
    "import logging\n",
    "import os\n",
    "from pprint import pprint\n",
    "\n",
    "import dask.dataframe as dd\n",
    "import numpy as np\n",
    "import pandas as pd\n",
    "import scipy.stats\n",
    "from cloudpathlib import AnyPath as Path"
   ]
  },
  {
   "cell_type": "code",
   "execution_count": 2,
   "id": "ea4a621d-9f5c-46cc-803f-b9389b3fcb2b",
   "metadata": {},
   "outputs": [],
   "source": [
    "import warnings\n",
    "\n",
    "# with warnings.catch_warnings():\n",
    "warnings.filterwarnings(\"ignore\", category=RuntimeWarning)"
   ]
  },
  {
   "cell_type": "code",
   "execution_count": 3,
   "id": "b4c57626-b047-48d4-ab40-5ebd890b3c97",
   "metadata": {},
   "outputs": [],
   "source": [
    "handler = logging.StreamHandler()\n",
    "formatter = logging.Formatter(\n",
    "    \"%(asctime)s %(process)d/%(threadName)s %(name)s %(levelname)s - %(message)s\"\n",
    ")\n",
    "handler.setFormatter(formatter)\n",
    "logging.getLogger().handlers = [handler]"
   ]
  },
  {
   "cell_type": "code",
   "execution_count": 4,
   "id": "e3a7941f-420a-4bec-9175-2defe7cc96ff",
   "metadata": {},
   "outputs": [],
   "source": [
    "logger = logging.getLogger(__name__)"
   ]
  },
  {
   "cell_type": "code",
   "execution_count": 5,
   "id": "ec57886a-c86f-42ec-98a6-e68dc6c4ec41",
   "metadata": {},
   "outputs": [
    {
     "name": "stdout",
     "output_type": "stream",
     "text": [
      "gs://liulab/data/pseudobulk_optimization/1_no_qc_subset/\n",
      "gs://liulab/data/pseudobulk_optimization/2_no_qc/\n",
      "gs://liulab/data/pseudobulk_optimization/3_with_tcga_qc/\n"
     ]
    }
   ],
   "source": [
    "!gsutil ls gs://liulab/data/pseudobulk_optimization"
   ]
  },
  {
   "cell_type": "code",
   "execution_count": 6,
   "id": "a6cdf3e6-373d-42cb-93d2-7742050d8c14",
   "metadata": {},
   "outputs": [],
   "source": [
    "uri_real_bulks = \"gs://liulab/data/pseudobulk_optimization/3_with_tcga_qc/mixtures_real_tcga_skcm/tpm.parquet\"\n",
    "real_bulks = dd.read_parquet(uri_real_bulks, engine=\"pyarrow\")"
   ]
  },
  {
   "cell_type": "code",
   "execution_count": 7,
   "id": "e4cb58fd-5ab2-47d3-afcc-2a4c529da8f4",
   "metadata": {},
   "outputs": [],
   "source": [
    "df_real_bulks = real_bulks.compute()"
   ]
  },
  {
   "cell_type": "code",
   "execution_count": 8,
   "id": "dba6df37-86c4-415e-8609-44c96ccf6a62",
   "metadata": {},
   "outputs": [
    {
     "data": {
      "text/plain": [
       "(67528,)"
      ]
     },
     "execution_count": 8,
     "metadata": {},
     "output_type": "execute_result"
    }
   ],
   "source": [
    "corrs = df_real_bulks.pivot(\n",
    "    index=\"gene_symbol\",\n",
    "    columns=\"aliquot_barcode\",\n",
    "    values=\"tpm\",\n",
    ").corr()\n",
    "corr_values = corrs.values[np.triu_indices(len(corrs), 1)]\n",
    "corr_values.shape"
   ]
  },
  {
   "cell_type": "markdown",
   "id": "8cf2c5aa-7523-4fab-8920-d2bb960abf52",
   "metadata": {},
   "source": [
    "note: 368 * 367 / 2 = 67528"
   ]
  },
  {
   "cell_type": "code",
   "execution_count": 9,
   "id": "70cef221-2803-426a-b7c2-5f361de42704",
   "metadata": {},
   "outputs": [
    {
     "data": {
      "text/plain": [
       "(0.7139799028117065, 0.7354930845410075)"
      ]
     },
     "execution_count": 9,
     "metadata": {},
     "output_type": "execute_result"
    }
   ],
   "source": [
    "np.mean(corr_values), np.median(corr_values)"
   ]
  },
  {
   "cell_type": "markdown",
   "id": "62c42a85-59f7-4d33-a92f-06c8058930ae",
   "metadata": {},
   "source": [
    "# ended here"
   ]
  },
  {
   "cell_type": "code",
   "execution_count": 10,
   "id": "894704b9-93d2-4799-8259-31a9a870f0a6",
   "metadata": {},
   "outputs": [
    {
     "name": "stdout",
     "output_type": "stream",
     "text": [
      " 31.03 MiB  2022-05-26T05:32:30Z  gs://liulab/data/pseudobulk_optimization/3_with_tcga_qc/mixtures/n_cells=1/malignant_from_one_sample=False/data.parquet\n",
      " 30.76 MiB  2022-05-26T05:32:14Z  gs://liulab/data/pseudobulk_optimization/3_with_tcga_qc/mixtures/n_cells=1/malignant_from_one_sample=True/data.parquet\n",
      "  42.6 MiB  2022-05-26T05:36:22Z  gs://liulab/data/pseudobulk_optimization/3_with_tcga_qc/mixtures/n_cells=10/malignant_from_one_sample=False/data.parquet\n",
      " 42.33 MiB  2022-05-26T05:36:04Z  gs://liulab/data/pseudobulk_optimization/3_with_tcga_qc/mixtures/n_cells=10/malignant_from_one_sample=True/data.parquet\n",
      " 42.82 MiB  2022-05-26T05:36:51Z  gs://liulab/data/pseudobulk_optimization/3_with_tcga_qc/mixtures/n_cells=11/malignant_from_one_sample=False/data.parquet\n",
      " 42.59 MiB  2022-05-26T05:36:40Z  gs://liulab/data/pseudobulk_optimization/3_with_tcga_qc/mixtures/n_cells=11/malignant_from_one_sample=True/data.parquet\n",
      " 43.14 MiB  2022-05-26T05:37:26Z  gs://liulab/data/pseudobulk_optimization/3_with_tcga_qc/mixtures/n_cells=12/malignant_from_one_sample=False/data.parquet\n",
      " 42.86 MiB  2022-05-26T05:37:09Z  gs://liulab/data/pseudobulk_optimization/3_with_tcga_qc/mixtures/n_cells=12/malignant_from_one_sample=True/data.parquet\n",
      " 43.33 MiB  2022-05-26T05:37:54Z  gs://liulab/data/pseudobulk_optimization/3_with_tcga_qc/mixtures/n_cells=13/malignant_from_one_sample=False/data.parquet\n",
      "    43 MiB  2022-05-26T05:37:44Z  gs://liulab/data/pseudobulk_optimization/3_with_tcga_qc/mixtures/n_cells=13/malignant_from_one_sample=True/data.parquet\n",
      "grep: write error: Broken pipe\n"
     ]
    },
    {
     "data": {
      "text/html": [
       "<div><strong>Dask DataFrame Structure:</strong></div>\n",
       "<div>\n",
       "<style scoped>\n",
       "    .dataframe tbody tr th:only-of-type {\n",
       "        vertical-align: middle;\n",
       "    }\n",
       "\n",
       "    .dataframe tbody tr th {\n",
       "        vertical-align: top;\n",
       "    }\n",
       "\n",
       "    .dataframe thead th {\n",
       "        text-align: right;\n",
       "    }\n",
       "</style>\n",
       "<table border=\"1\" class=\"dataframe\">\n",
       "  <thead>\n",
       "    <tr style=\"text-align: right;\">\n",
       "      <th></th>\n",
       "      <th>gene_symbol</th>\n",
       "      <th>tcga_aliquot_barcode_for_fractions</th>\n",
       "      <th>tpm</th>\n",
       "      <th>n_cells</th>\n",
       "      <th>malignant_from_one_sample</th>\n",
       "    </tr>\n",
       "    <tr>\n",
       "      <th>npartitions=40</th>\n",
       "      <th></th>\n",
       "      <th></th>\n",
       "      <th></th>\n",
       "      <th></th>\n",
       "      <th></th>\n",
       "    </tr>\n",
       "  </thead>\n",
       "  <tbody>\n",
       "    <tr>\n",
       "      <th></th>\n",
       "      <td>category[unknown]</td>\n",
       "      <td>category[unknown]</td>\n",
       "      <td>float64</td>\n",
       "      <td>uint8</td>\n",
       "      <td>bool</td>\n",
       "    </tr>\n",
       "    <tr>\n",
       "      <th></th>\n",
       "      <td>...</td>\n",
       "      <td>...</td>\n",
       "      <td>...</td>\n",
       "      <td>...</td>\n",
       "      <td>...</td>\n",
       "    </tr>\n",
       "    <tr>\n",
       "      <th>...</th>\n",
       "      <td>...</td>\n",
       "      <td>...</td>\n",
       "      <td>...</td>\n",
       "      <td>...</td>\n",
       "      <td>...</td>\n",
       "    </tr>\n",
       "    <tr>\n",
       "      <th></th>\n",
       "      <td>...</td>\n",
       "      <td>...</td>\n",
       "      <td>...</td>\n",
       "      <td>...</td>\n",
       "      <td>...</td>\n",
       "    </tr>\n",
       "    <tr>\n",
       "      <th></th>\n",
       "      <td>...</td>\n",
       "      <td>...</td>\n",
       "      <td>...</td>\n",
       "      <td>...</td>\n",
       "      <td>...</td>\n",
       "    </tr>\n",
       "  </tbody>\n",
       "</table>\n",
       "</div>\n",
       "<div>Dask Name: astype, 120 tasks</div>"
      ],
      "text/plain": [
       "Dask DataFrame Structure:\n",
       "                      gene_symbol tcga_aliquot_barcode_for_fractions      tpm n_cells malignant_from_one_sample\n",
       "npartitions=40                                                                                                 \n",
       "                category[unknown]                  category[unknown]  float64   uint8                      bool\n",
       "                              ...                                ...      ...     ...                       ...\n",
       "...                           ...                                ...      ...     ...                       ...\n",
       "                              ...                                ...      ...     ...                       ...\n",
       "                              ...                                ...      ...     ...                       ...\n",
       "Dask Name: astype, 120 tasks"
      ]
     },
     "execution_count": 10,
     "metadata": {},
     "output_type": "execute_result"
    }
   ],
   "source": [
    "uri_pseudobulks = \"gs://liulab/data/pseudobulk_optimization/3_with_tcga_qc/mixtures\"\n",
    "!gsutil ls -lhR {uri_pseudobulks} | grep data.parquet | head\n",
    "pseudobulks = dd.read_parquet(uri_pseudobulks, engine=\"pyarrow\")\n",
    "pseudobulks = pseudobulks.replace(\n",
    "    {\"malignant_from_one_sample\": {\"True\": True, \"False\": False}}\n",
    ")\n",
    "pseudobulks = pseudobulks.astype(\n",
    "    {\"n_cells\": \"uint8\", \"malignant_from_one_sample\": \"bool\"}\n",
    ")\n",
    "pseudobulks"
   ]
  },
  {
   "cell_type": "code",
   "execution_count": 11,
   "id": "8ae8349c-fda8-44c4-82a4-47cb101e74c8",
   "metadata": {},
   "outputs": [],
   "source": [
    "pseudobulks_groupby = pseudobulks.groupby([\"n_cells\", \"malignant_from_one_sample\"])"
   ]
  },
  {
   "cell_type": "code",
   "execution_count": 12,
   "id": "73105b94-03a8-42d7-aa0e-bec18e38f995",
   "metadata": {},
   "outputs": [
    {
     "name": "stderr",
     "output_type": "stream",
     "text": [
      "/opt/conda/envs/deconv/lib/python3.10/site-packages/dask/utils.py:1053: FutureWarning: The `inplace` parameter in pandas.Categorical.rename_categories is deprecated and will be removed in a future version. Removing unused categories will always return a new Categorical object.\n",
      "  return getattr(__obj, self.method)(*args, **kwargs)\n",
      "/opt/conda/envs/deconv/lib/python3.10/site-packages/dask/utils.py:1053: FutureWarning: The `inplace` parameter in pandas.Categorical.rename_categories is deprecated and will be removed in a future version. Removing unused categories will always return a new Categorical object.\n",
      "  return getattr(__obj, self.method)(*args, **kwargs)\n"
     ]
    }
   ],
   "source": [
    "def compute_intersample_metrics(df):\n",
    "    corrs = df.pivot(\n",
    "        index=\"gene_symbol\",\n",
    "        columns=\"tcga_aliquot_barcode_for_fractions\",\n",
    "        values=\"tpm\",\n",
    "    ).corr()\n",
    "    corr_unique_pairs = corrs.values[np.triu_indices(len(corrs), 1)]\n",
    "    return pd.Series(\n",
    "        {\n",
    "            \"intersample_corr_median\": np.median(corr_unique_pairs),\n",
    "            \"intersample_corr_mean\": np.mean(corr_unique_pairs),\n",
    "            \"intersample_corr_stddev\": np.std(corr_unique_pairs),\n",
    "        }\n",
    "    )\n",
    "\n",
    "\n",
    "metadata = [\n",
    "    (\"intersample_corr_median\", \"float64\"),\n",
    "    (\"intersample_corr_mean\", \"float64\"),\n",
    "    (\"intersample_corr_stddev\", \"float64\"),\n",
    "]\n",
    "results_intersample = (\n",
    "    pseudobulks_groupby.apply(compute_intersample_metrics, meta=metadata)\n",
    "    .dropna()\n",
    "    .compute()\n",
    ")\n",
    "results_intersample = results_intersample.sort_index()"
   ]
  },
  {
   "cell_type": "code",
   "execution_count": 13,
   "id": "3975b1b8-898b-41ff-b061-5570d5a27f36",
   "metadata": {},
   "outputs": [
    {
     "data": {
      "text/html": [
       "<div>\n",
       "<style scoped>\n",
       "    .dataframe tbody tr th:only-of-type {\n",
       "        vertical-align: middle;\n",
       "    }\n",
       "\n",
       "    .dataframe tbody tr th {\n",
       "        vertical-align: top;\n",
       "    }\n",
       "\n",
       "    .dataframe thead th {\n",
       "        text-align: right;\n",
       "    }\n",
       "</style>\n",
       "<table border=\"1\" class=\"dataframe\">\n",
       "  <thead>\n",
       "    <tr style=\"text-align: right;\">\n",
       "      <th></th>\n",
       "      <th></th>\n",
       "      <th>intersample_corr_median</th>\n",
       "      <th>intersample_corr_mean</th>\n",
       "      <th>intersample_corr_stddev</th>\n",
       "    </tr>\n",
       "    <tr>\n",
       "      <th>n_cells</th>\n",
       "      <th>malignant_from_one_sample</th>\n",
       "      <th></th>\n",
       "      <th></th>\n",
       "      <th></th>\n",
       "    </tr>\n",
       "  </thead>\n",
       "  <tbody>\n",
       "    <tr>\n",
       "      <th rowspan=\"2\" valign=\"top\">1</th>\n",
       "      <th>False</th>\n",
       "      <td>0.566151</td>\n",
       "      <td>0.561696</td>\n",
       "      <td>0.099761</td>\n",
       "    </tr>\n",
       "    <tr>\n",
       "      <th>True</th>\n",
       "      <td>0.535180</td>\n",
       "      <td>0.537251</td>\n",
       "      <td>0.103273</td>\n",
       "    </tr>\n",
       "    <tr>\n",
       "      <th rowspan=\"2\" valign=\"top\">2</th>\n",
       "      <th>False</th>\n",
       "      <td>0.703462</td>\n",
       "      <td>0.699229</td>\n",
       "      <td>0.067483</td>\n",
       "    </tr>\n",
       "    <tr>\n",
       "      <th>True</th>\n",
       "      <td>0.662256</td>\n",
       "      <td>0.661556</td>\n",
       "      <td>0.077892</td>\n",
       "    </tr>\n",
       "    <tr>\n",
       "      <th rowspan=\"2\" valign=\"top\">3</th>\n",
       "      <th>False</th>\n",
       "      <td>0.766419</td>\n",
       "      <td>0.763672</td>\n",
       "      <td>0.052413</td>\n",
       "    </tr>\n",
       "    <tr>\n",
       "      <th>True</th>\n",
       "      <td>0.720092</td>\n",
       "      <td>0.717252</td>\n",
       "      <td>0.070287</td>\n",
       "    </tr>\n",
       "    <tr>\n",
       "      <th rowspan=\"2\" valign=\"top\">4</th>\n",
       "      <th>False</th>\n",
       "      <td>0.807779</td>\n",
       "      <td>0.804519</td>\n",
       "      <td>0.045999</td>\n",
       "    </tr>\n",
       "    <tr>\n",
       "      <th>True</th>\n",
       "      <td>0.742597</td>\n",
       "      <td>0.740121</td>\n",
       "      <td>0.070490</td>\n",
       "    </tr>\n",
       "    <tr>\n",
       "      <th rowspan=\"2\" valign=\"top\">5</th>\n",
       "      <th>False</th>\n",
       "      <td>0.836039</td>\n",
       "      <td>0.834397</td>\n",
       "      <td>0.035560</td>\n",
       "    </tr>\n",
       "    <tr>\n",
       "      <th>True</th>\n",
       "      <td>0.766266</td>\n",
       "      <td>0.765822</td>\n",
       "      <td>0.064441</td>\n",
       "    </tr>\n",
       "    <tr>\n",
       "      <th rowspan=\"2\" valign=\"top\">6</th>\n",
       "      <th>False</th>\n",
       "      <td>0.858519</td>\n",
       "      <td>0.856039</td>\n",
       "      <td>0.032443</td>\n",
       "    </tr>\n",
       "    <tr>\n",
       "      <th>True</th>\n",
       "      <td>0.786153</td>\n",
       "      <td>0.782777</td>\n",
       "      <td>0.064003</td>\n",
       "    </tr>\n",
       "    <tr>\n",
       "      <th rowspan=\"2\" valign=\"top\">7</th>\n",
       "      <th>False</th>\n",
       "      <td>0.873297</td>\n",
       "      <td>0.870505</td>\n",
       "      <td>0.029111</td>\n",
       "    </tr>\n",
       "    <tr>\n",
       "      <th>True</th>\n",
       "      <td>0.792799</td>\n",
       "      <td>0.792066</td>\n",
       "      <td>0.059635</td>\n",
       "    </tr>\n",
       "    <tr>\n",
       "      <th rowspan=\"2\" valign=\"top\">8</th>\n",
       "      <th>False</th>\n",
       "      <td>0.884396</td>\n",
       "      <td>0.881546</td>\n",
       "      <td>0.028620</td>\n",
       "    </tr>\n",
       "    <tr>\n",
       "      <th>True</th>\n",
       "      <td>0.806355</td>\n",
       "      <td>0.803571</td>\n",
       "      <td>0.056441</td>\n",
       "    </tr>\n",
       "    <tr>\n",
       "      <th rowspan=\"2\" valign=\"top\">9</th>\n",
       "      <th>False</th>\n",
       "      <td>0.893510</td>\n",
       "      <td>0.891061</td>\n",
       "      <td>0.026499</td>\n",
       "    </tr>\n",
       "    <tr>\n",
       "      <th>True</th>\n",
       "      <td>0.810169</td>\n",
       "      <td>0.808512</td>\n",
       "      <td>0.057593</td>\n",
       "    </tr>\n",
       "    <tr>\n",
       "      <th rowspan=\"2\" valign=\"top\">10</th>\n",
       "      <th>False</th>\n",
       "      <td>0.903155</td>\n",
       "      <td>0.900311</td>\n",
       "      <td>0.026884</td>\n",
       "    </tr>\n",
       "    <tr>\n",
       "      <th>True</th>\n",
       "      <td>0.817949</td>\n",
       "      <td>0.814413</td>\n",
       "      <td>0.056603</td>\n",
       "    </tr>\n",
       "    <tr>\n",
       "      <th rowspan=\"2\" valign=\"top\">11</th>\n",
       "      <th>False</th>\n",
       "      <td>0.909151</td>\n",
       "      <td>0.906200</td>\n",
       "      <td>0.025515</td>\n",
       "    </tr>\n",
       "    <tr>\n",
       "      <th>True</th>\n",
       "      <td>0.820445</td>\n",
       "      <td>0.818003</td>\n",
       "      <td>0.055854</td>\n",
       "    </tr>\n",
       "    <tr>\n",
       "      <th rowspan=\"2\" valign=\"top\">12</th>\n",
       "      <th>False</th>\n",
       "      <td>0.915533</td>\n",
       "      <td>0.911537</td>\n",
       "      <td>0.025276</td>\n",
       "    </tr>\n",
       "    <tr>\n",
       "      <th>True</th>\n",
       "      <td>0.823679</td>\n",
       "      <td>0.821571</td>\n",
       "      <td>0.057834</td>\n",
       "    </tr>\n",
       "    <tr>\n",
       "      <th rowspan=\"2\" valign=\"top\">13</th>\n",
       "      <th>False</th>\n",
       "      <td>0.921445</td>\n",
       "      <td>0.917849</td>\n",
       "      <td>0.023407</td>\n",
       "    </tr>\n",
       "    <tr>\n",
       "      <th>True</th>\n",
       "      <td>0.824041</td>\n",
       "      <td>0.823171</td>\n",
       "      <td>0.055839</td>\n",
       "    </tr>\n",
       "    <tr>\n",
       "      <th rowspan=\"2\" valign=\"top\">14</th>\n",
       "      <th>False</th>\n",
       "      <td>0.925167</td>\n",
       "      <td>0.920584</td>\n",
       "      <td>0.024913</td>\n",
       "    </tr>\n",
       "    <tr>\n",
       "      <th>True</th>\n",
       "      <td>0.828935</td>\n",
       "      <td>0.828052</td>\n",
       "      <td>0.054103</td>\n",
       "    </tr>\n",
       "    <tr>\n",
       "      <th rowspan=\"2\" valign=\"top\">15</th>\n",
       "      <th>False</th>\n",
       "      <td>0.929796</td>\n",
       "      <td>0.924969</td>\n",
       "      <td>0.024866</td>\n",
       "    </tr>\n",
       "    <tr>\n",
       "      <th>True</th>\n",
       "      <td>0.837414</td>\n",
       "      <td>0.835316</td>\n",
       "      <td>0.053124</td>\n",
       "    </tr>\n",
       "    <tr>\n",
       "      <th rowspan=\"2\" valign=\"top\">16</th>\n",
       "      <th>False</th>\n",
       "      <td>0.931751</td>\n",
       "      <td>0.927236</td>\n",
       "      <td>0.023500</td>\n",
       "    </tr>\n",
       "    <tr>\n",
       "      <th>True</th>\n",
       "      <td>0.836005</td>\n",
       "      <td>0.835130</td>\n",
       "      <td>0.052615</td>\n",
       "    </tr>\n",
       "    <tr>\n",
       "      <th rowspan=\"2\" valign=\"top\">17</th>\n",
       "      <th>False</th>\n",
       "      <td>0.935354</td>\n",
       "      <td>0.930593</td>\n",
       "      <td>0.023702</td>\n",
       "    </tr>\n",
       "    <tr>\n",
       "      <th>True</th>\n",
       "      <td>0.840553</td>\n",
       "      <td>0.837349</td>\n",
       "      <td>0.053765</td>\n",
       "    </tr>\n",
       "    <tr>\n",
       "      <th rowspan=\"2\" valign=\"top\">18</th>\n",
       "      <th>False</th>\n",
       "      <td>0.938649</td>\n",
       "      <td>0.933333</td>\n",
       "      <td>0.024108</td>\n",
       "    </tr>\n",
       "    <tr>\n",
       "      <th>True</th>\n",
       "      <td>0.840351</td>\n",
       "      <td>0.837106</td>\n",
       "      <td>0.054805</td>\n",
       "    </tr>\n",
       "    <tr>\n",
       "      <th rowspan=\"2\" valign=\"top\">19</th>\n",
       "      <th>False</th>\n",
       "      <td>0.940539</td>\n",
       "      <td>0.935544</td>\n",
       "      <td>0.023393</td>\n",
       "    </tr>\n",
       "    <tr>\n",
       "      <th>True</th>\n",
       "      <td>0.837126</td>\n",
       "      <td>0.836031</td>\n",
       "      <td>0.052711</td>\n",
       "    </tr>\n",
       "    <tr>\n",
       "      <th rowspan=\"2\" valign=\"top\">20</th>\n",
       "      <th>False</th>\n",
       "      <td>0.943060</td>\n",
       "      <td>0.938128</td>\n",
       "      <td>0.022252</td>\n",
       "    </tr>\n",
       "    <tr>\n",
       "      <th>True</th>\n",
       "      <td>0.841555</td>\n",
       "      <td>0.840602</td>\n",
       "      <td>0.052087</td>\n",
       "    </tr>\n",
       "  </tbody>\n",
       "</table>\n",
       "</div>"
      ],
      "text/plain": [
       "                                   intersample_corr_median  \\\n",
       "n_cells malignant_from_one_sample                            \n",
       "1       False                                     0.566151   \n",
       "        True                                      0.535180   \n",
       "2       False                                     0.703462   \n",
       "        True                                      0.662256   \n",
       "3       False                                     0.766419   \n",
       "        True                                      0.720092   \n",
       "4       False                                     0.807779   \n",
       "        True                                      0.742597   \n",
       "5       False                                     0.836039   \n",
       "        True                                      0.766266   \n",
       "6       False                                     0.858519   \n",
       "        True                                      0.786153   \n",
       "7       False                                     0.873297   \n",
       "        True                                      0.792799   \n",
       "8       False                                     0.884396   \n",
       "        True                                      0.806355   \n",
       "9       False                                     0.893510   \n",
       "        True                                      0.810169   \n",
       "10      False                                     0.903155   \n",
       "        True                                      0.817949   \n",
       "11      False                                     0.909151   \n",
       "        True                                      0.820445   \n",
       "12      False                                     0.915533   \n",
       "        True                                      0.823679   \n",
       "13      False                                     0.921445   \n",
       "        True                                      0.824041   \n",
       "14      False                                     0.925167   \n",
       "        True                                      0.828935   \n",
       "15      False                                     0.929796   \n",
       "        True                                      0.837414   \n",
       "16      False                                     0.931751   \n",
       "        True                                      0.836005   \n",
       "17      False                                     0.935354   \n",
       "        True                                      0.840553   \n",
       "18      False                                     0.938649   \n",
       "        True                                      0.840351   \n",
       "19      False                                     0.940539   \n",
       "        True                                      0.837126   \n",
       "20      False                                     0.943060   \n",
       "        True                                      0.841555   \n",
       "\n",
       "                                   intersample_corr_mean  \\\n",
       "n_cells malignant_from_one_sample                          \n",
       "1       False                                   0.561696   \n",
       "        True                                    0.537251   \n",
       "2       False                                   0.699229   \n",
       "        True                                    0.661556   \n",
       "3       False                                   0.763672   \n",
       "        True                                    0.717252   \n",
       "4       False                                   0.804519   \n",
       "        True                                    0.740121   \n",
       "5       False                                   0.834397   \n",
       "        True                                    0.765822   \n",
       "6       False                                   0.856039   \n",
       "        True                                    0.782777   \n",
       "7       False                                   0.870505   \n",
       "        True                                    0.792066   \n",
       "8       False                                   0.881546   \n",
       "        True                                    0.803571   \n",
       "9       False                                   0.891061   \n",
       "        True                                    0.808512   \n",
       "10      False                                   0.900311   \n",
       "        True                                    0.814413   \n",
       "11      False                                   0.906200   \n",
       "        True                                    0.818003   \n",
       "12      False                                   0.911537   \n",
       "        True                                    0.821571   \n",
       "13      False                                   0.917849   \n",
       "        True                                    0.823171   \n",
       "14      False                                   0.920584   \n",
       "        True                                    0.828052   \n",
       "15      False                                   0.924969   \n",
       "        True                                    0.835316   \n",
       "16      False                                   0.927236   \n",
       "        True                                    0.835130   \n",
       "17      False                                   0.930593   \n",
       "        True                                    0.837349   \n",
       "18      False                                   0.933333   \n",
       "        True                                    0.837106   \n",
       "19      False                                   0.935544   \n",
       "        True                                    0.836031   \n",
       "20      False                                   0.938128   \n",
       "        True                                    0.840602   \n",
       "\n",
       "                                   intersample_corr_stddev  \n",
       "n_cells malignant_from_one_sample                           \n",
       "1       False                                     0.099761  \n",
       "        True                                      0.103273  \n",
       "2       False                                     0.067483  \n",
       "        True                                      0.077892  \n",
       "3       False                                     0.052413  \n",
       "        True                                      0.070287  \n",
       "4       False                                     0.045999  \n",
       "        True                                      0.070490  \n",
       "5       False                                     0.035560  \n",
       "        True                                      0.064441  \n",
       "6       False                                     0.032443  \n",
       "        True                                      0.064003  \n",
       "7       False                                     0.029111  \n",
       "        True                                      0.059635  \n",
       "8       False                                     0.028620  \n",
       "        True                                      0.056441  \n",
       "9       False                                     0.026499  \n",
       "        True                                      0.057593  \n",
       "10      False                                     0.026884  \n",
       "        True                                      0.056603  \n",
       "11      False                                     0.025515  \n",
       "        True                                      0.055854  \n",
       "12      False                                     0.025276  \n",
       "        True                                      0.057834  \n",
       "13      False                                     0.023407  \n",
       "        True                                      0.055839  \n",
       "14      False                                     0.024913  \n",
       "        True                                      0.054103  \n",
       "15      False                                     0.024866  \n",
       "        True                                      0.053124  \n",
       "16      False                                     0.023500  \n",
       "        True                                      0.052615  \n",
       "17      False                                     0.023702  \n",
       "        True                                      0.053765  \n",
       "18      False                                     0.024108  \n",
       "        True                                      0.054805  \n",
       "19      False                                     0.023393  \n",
       "        True                                      0.052711  \n",
       "20      False                                     0.022252  \n",
       "        True                                      0.052087  "
      ]
     },
     "execution_count": 13,
     "metadata": {},
     "output_type": "execute_result"
    }
   ],
   "source": [
    "results_intersample"
   ]
  },
  {
   "cell_type": "code",
   "execution_count": 15,
   "id": "8b8e88ae-4c60-4343-9011-d26a290a893a",
   "metadata": {},
   "outputs": [],
   "source": [
    "import plotly.express as px"
   ]
  },
  {
   "cell_type": "code",
   "execution_count": 24,
   "id": "3e6805c2-db95-4e12-81bd-eacda5fecb9b",
   "metadata": {},
   "outputs": [
    {
     "data": {
      "application/vnd.plotly.v1+json": {
       "config": {
        "plotlyServerURL": "https://plot.ly"
       },
       "data": [
        {
         "error_y": {
          "array": [
           0.10327259473630096,
           0.07789150915615457,
           0.07028714149650551,
           0.07049007346989238,
           0.06444121351945278,
           0.06400292753426771,
           0.05963548114149172,
           0.056441465448187025,
           0.05759335796682393,
           0.05660348123526793,
           0.055854176672181774,
           0.0578342520267728,
           0.05583856220571929,
           0.05410261971835367,
           0.05312409406053146,
           0.05261464352093211,
           0.05376541589922736,
           0.05480462359241742,
           0.052711322409246246,
           0.05208748460107157
          ]
         },
         "hovertemplate": "n_cells=%{x}<br>intersample_corr_mean=%{y}<extra></extra>",
         "legendgroup": "",
         "line": {
          "color": "#636efa",
          "dash": "solid"
         },
         "marker": {
          "symbol": "circle"
         },
         "mode": "lines",
         "name": "",
         "orientation": "v",
         "showlegend": false,
         "type": "scatter",
         "x": [
          1,
          2,
          3,
          4,
          5,
          6,
          7,
          8,
          9,
          10,
          11,
          12,
          13,
          14,
          15,
          16,
          17,
          18,
          19,
          20
         ],
         "xaxis": "x",
         "y": [
          0.5372508375477545,
          0.6615564952216108,
          0.7172519361633029,
          0.7401207002197366,
          0.7658218591225029,
          0.7827765225638597,
          0.7920661746997643,
          0.8035709556419618,
          0.8085120008860187,
          0.8144125816547784,
          0.818002934760735,
          0.8215714734852873,
          0.8231712327800065,
          0.8280522085806827,
          0.8353159952609187,
          0.8351295872144876,
          0.8373485399514398,
          0.8371062279268372,
          0.8360308325987377,
          0.8406024263131662
         ],
         "yaxis": "y"
        }
       ],
       "layout": {
        "autosize": true,
        "legend": {
         "tracegroupgap": 0
        },
        "template": {
         "data": {
          "bar": [
           {
            "error_x": {
             "color": "#2a3f5f"
            },
            "error_y": {
             "color": "#2a3f5f"
            },
            "marker": {
             "line": {
              "color": "#E5ECF6",
              "width": 0.5
             },
             "pattern": {
              "fillmode": "overlay",
              "size": 10,
              "solidity": 0.2
             }
            },
            "type": "bar"
           }
          ],
          "barpolar": [
           {
            "marker": {
             "line": {
              "color": "#E5ECF6",
              "width": 0.5
             },
             "pattern": {
              "fillmode": "overlay",
              "size": 10,
              "solidity": 0.2
             }
            },
            "type": "barpolar"
           }
          ],
          "carpet": [
           {
            "aaxis": {
             "endlinecolor": "#2a3f5f",
             "gridcolor": "white",
             "linecolor": "white",
             "minorgridcolor": "white",
             "startlinecolor": "#2a3f5f"
            },
            "baxis": {
             "endlinecolor": "#2a3f5f",
             "gridcolor": "white",
             "linecolor": "white",
             "minorgridcolor": "white",
             "startlinecolor": "#2a3f5f"
            },
            "type": "carpet"
           }
          ],
          "choropleth": [
           {
            "colorbar": {
             "outlinewidth": 0,
             "ticks": ""
            },
            "type": "choropleth"
           }
          ],
          "contour": [
           {
            "colorbar": {
             "outlinewidth": 0,
             "ticks": ""
            },
            "colorscale": [
             [
              0,
              "#0d0887"
             ],
             [
              0.1111111111111111,
              "#46039f"
             ],
             [
              0.2222222222222222,
              "#7201a8"
             ],
             [
              0.3333333333333333,
              "#9c179e"
             ],
             [
              0.4444444444444444,
              "#bd3786"
             ],
             [
              0.5555555555555556,
              "#d8576b"
             ],
             [
              0.6666666666666666,
              "#ed7953"
             ],
             [
              0.7777777777777778,
              "#fb9f3a"
             ],
             [
              0.8888888888888888,
              "#fdca26"
             ],
             [
              1,
              "#f0f921"
             ]
            ],
            "type": "contour"
           }
          ],
          "contourcarpet": [
           {
            "colorbar": {
             "outlinewidth": 0,
             "ticks": ""
            },
            "type": "contourcarpet"
           }
          ],
          "heatmap": [
           {
            "colorbar": {
             "outlinewidth": 0,
             "ticks": ""
            },
            "colorscale": [
             [
              0,
              "#0d0887"
             ],
             [
              0.1111111111111111,
              "#46039f"
             ],
             [
              0.2222222222222222,
              "#7201a8"
             ],
             [
              0.3333333333333333,
              "#9c179e"
             ],
             [
              0.4444444444444444,
              "#bd3786"
             ],
             [
              0.5555555555555556,
              "#d8576b"
             ],
             [
              0.6666666666666666,
              "#ed7953"
             ],
             [
              0.7777777777777778,
              "#fb9f3a"
             ],
             [
              0.8888888888888888,
              "#fdca26"
             ],
             [
              1,
              "#f0f921"
             ]
            ],
            "type": "heatmap"
           }
          ],
          "heatmapgl": [
           {
            "colorbar": {
             "outlinewidth": 0,
             "ticks": ""
            },
            "colorscale": [
             [
              0,
              "#0d0887"
             ],
             [
              0.1111111111111111,
              "#46039f"
             ],
             [
              0.2222222222222222,
              "#7201a8"
             ],
             [
              0.3333333333333333,
              "#9c179e"
             ],
             [
              0.4444444444444444,
              "#bd3786"
             ],
             [
              0.5555555555555556,
              "#d8576b"
             ],
             [
              0.6666666666666666,
              "#ed7953"
             ],
             [
              0.7777777777777778,
              "#fb9f3a"
             ],
             [
              0.8888888888888888,
              "#fdca26"
             ],
             [
              1,
              "#f0f921"
             ]
            ],
            "type": "heatmapgl"
           }
          ],
          "histogram": [
           {
            "marker": {
             "pattern": {
              "fillmode": "overlay",
              "size": 10,
              "solidity": 0.2
             }
            },
            "type": "histogram"
           }
          ],
          "histogram2d": [
           {
            "colorbar": {
             "outlinewidth": 0,
             "ticks": ""
            },
            "colorscale": [
             [
              0,
              "#0d0887"
             ],
             [
              0.1111111111111111,
              "#46039f"
             ],
             [
              0.2222222222222222,
              "#7201a8"
             ],
             [
              0.3333333333333333,
              "#9c179e"
             ],
             [
              0.4444444444444444,
              "#bd3786"
             ],
             [
              0.5555555555555556,
              "#d8576b"
             ],
             [
              0.6666666666666666,
              "#ed7953"
             ],
             [
              0.7777777777777778,
              "#fb9f3a"
             ],
             [
              0.8888888888888888,
              "#fdca26"
             ],
             [
              1,
              "#f0f921"
             ]
            ],
            "type": "histogram2d"
           }
          ],
          "histogram2dcontour": [
           {
            "colorbar": {
             "outlinewidth": 0,
             "ticks": ""
            },
            "colorscale": [
             [
              0,
              "#0d0887"
             ],
             [
              0.1111111111111111,
              "#46039f"
             ],
             [
              0.2222222222222222,
              "#7201a8"
             ],
             [
              0.3333333333333333,
              "#9c179e"
             ],
             [
              0.4444444444444444,
              "#bd3786"
             ],
             [
              0.5555555555555556,
              "#d8576b"
             ],
             [
              0.6666666666666666,
              "#ed7953"
             ],
             [
              0.7777777777777778,
              "#fb9f3a"
             ],
             [
              0.8888888888888888,
              "#fdca26"
             ],
             [
              1,
              "#f0f921"
             ]
            ],
            "type": "histogram2dcontour"
           }
          ],
          "mesh3d": [
           {
            "colorbar": {
             "outlinewidth": 0,
             "ticks": ""
            },
            "type": "mesh3d"
           }
          ],
          "parcoords": [
           {
            "line": {
             "colorbar": {
              "outlinewidth": 0,
              "ticks": ""
             }
            },
            "type": "parcoords"
           }
          ],
          "pie": [
           {
            "automargin": true,
            "type": "pie"
           }
          ],
          "scatter": [
           {
            "fillpattern": {
             "fillmode": "overlay",
             "size": 10,
             "solidity": 0.2
            },
            "type": "scatter"
           }
          ],
          "scatter3d": [
           {
            "line": {
             "colorbar": {
              "outlinewidth": 0,
              "ticks": ""
             }
            },
            "marker": {
             "colorbar": {
              "outlinewidth": 0,
              "ticks": ""
             }
            },
            "type": "scatter3d"
           }
          ],
          "scattercarpet": [
           {
            "marker": {
             "colorbar": {
              "outlinewidth": 0,
              "ticks": ""
             }
            },
            "type": "scattercarpet"
           }
          ],
          "scattergeo": [
           {
            "marker": {
             "colorbar": {
              "outlinewidth": 0,
              "ticks": ""
             }
            },
            "type": "scattergeo"
           }
          ],
          "scattergl": [
           {
            "marker": {
             "colorbar": {
              "outlinewidth": 0,
              "ticks": ""
             }
            },
            "type": "scattergl"
           }
          ],
          "scattermapbox": [
           {
            "marker": {
             "colorbar": {
              "outlinewidth": 0,
              "ticks": ""
             }
            },
            "type": "scattermapbox"
           }
          ],
          "scatterpolar": [
           {
            "marker": {
             "colorbar": {
              "outlinewidth": 0,
              "ticks": ""
             }
            },
            "type": "scatterpolar"
           }
          ],
          "scatterpolargl": [
           {
            "marker": {
             "colorbar": {
              "outlinewidth": 0,
              "ticks": ""
             }
            },
            "type": "scatterpolargl"
           }
          ],
          "scatterternary": [
           {
            "marker": {
             "colorbar": {
              "outlinewidth": 0,
              "ticks": ""
             }
            },
            "type": "scatterternary"
           }
          ],
          "surface": [
           {
            "colorbar": {
             "outlinewidth": 0,
             "ticks": ""
            },
            "colorscale": [
             [
              0,
              "#0d0887"
             ],
             [
              0.1111111111111111,
              "#46039f"
             ],
             [
              0.2222222222222222,
              "#7201a8"
             ],
             [
              0.3333333333333333,
              "#9c179e"
             ],
             [
              0.4444444444444444,
              "#bd3786"
             ],
             [
              0.5555555555555556,
              "#d8576b"
             ],
             [
              0.6666666666666666,
              "#ed7953"
             ],
             [
              0.7777777777777778,
              "#fb9f3a"
             ],
             [
              0.8888888888888888,
              "#fdca26"
             ],
             [
              1,
              "#f0f921"
             ]
            ],
            "type": "surface"
           }
          ],
          "table": [
           {
            "cells": {
             "fill": {
              "color": "#EBF0F8"
             },
             "line": {
              "color": "white"
             }
            },
            "header": {
             "fill": {
              "color": "#C8D4E3"
             },
             "line": {
              "color": "white"
             }
            },
            "type": "table"
           }
          ]
         },
         "layout": {
          "annotationdefaults": {
           "arrowcolor": "#2a3f5f",
           "arrowhead": 0,
           "arrowwidth": 1
          },
          "autotypenumbers": "strict",
          "coloraxis": {
           "colorbar": {
            "outlinewidth": 0,
            "ticks": ""
           }
          },
          "colorscale": {
           "diverging": [
            [
             0,
             "#8e0152"
            ],
            [
             0.1,
             "#c51b7d"
            ],
            [
             0.2,
             "#de77ae"
            ],
            [
             0.3,
             "#f1b6da"
            ],
            [
             0.4,
             "#fde0ef"
            ],
            [
             0.5,
             "#f7f7f7"
            ],
            [
             0.6,
             "#e6f5d0"
            ],
            [
             0.7,
             "#b8e186"
            ],
            [
             0.8,
             "#7fbc41"
            ],
            [
             0.9,
             "#4d9221"
            ],
            [
             1,
             "#276419"
            ]
           ],
           "sequential": [
            [
             0,
             "#0d0887"
            ],
            [
             0.1111111111111111,
             "#46039f"
            ],
            [
             0.2222222222222222,
             "#7201a8"
            ],
            [
             0.3333333333333333,
             "#9c179e"
            ],
            [
             0.4444444444444444,
             "#bd3786"
            ],
            [
             0.5555555555555556,
             "#d8576b"
            ],
            [
             0.6666666666666666,
             "#ed7953"
            ],
            [
             0.7777777777777778,
             "#fb9f3a"
            ],
            [
             0.8888888888888888,
             "#fdca26"
            ],
            [
             1,
             "#f0f921"
            ]
           ],
           "sequentialminus": [
            [
             0,
             "#0d0887"
            ],
            [
             0.1111111111111111,
             "#46039f"
            ],
            [
             0.2222222222222222,
             "#7201a8"
            ],
            [
             0.3333333333333333,
             "#9c179e"
            ],
            [
             0.4444444444444444,
             "#bd3786"
            ],
            [
             0.5555555555555556,
             "#d8576b"
            ],
            [
             0.6666666666666666,
             "#ed7953"
            ],
            [
             0.7777777777777778,
             "#fb9f3a"
            ],
            [
             0.8888888888888888,
             "#fdca26"
            ],
            [
             1,
             "#f0f921"
            ]
           ]
          },
          "colorway": [
           "#636efa",
           "#EF553B",
           "#00cc96",
           "#ab63fa",
           "#FFA15A",
           "#19d3f3",
           "#FF6692",
           "#B6E880",
           "#FF97FF",
           "#FECB52"
          ],
          "font": {
           "color": "#2a3f5f"
          },
          "geo": {
           "bgcolor": "white",
           "lakecolor": "white",
           "landcolor": "#E5ECF6",
           "showlakes": true,
           "showland": true,
           "subunitcolor": "white"
          },
          "hoverlabel": {
           "align": "left"
          },
          "hovermode": "closest",
          "mapbox": {
           "style": "light"
          },
          "paper_bgcolor": "white",
          "plot_bgcolor": "#E5ECF6",
          "polar": {
           "angularaxis": {
            "gridcolor": "white",
            "linecolor": "white",
            "ticks": ""
           },
           "bgcolor": "#E5ECF6",
           "radialaxis": {
            "gridcolor": "white",
            "linecolor": "white",
            "ticks": ""
           }
          },
          "scene": {
           "xaxis": {
            "backgroundcolor": "#E5ECF6",
            "gridcolor": "white",
            "gridwidth": 2,
            "linecolor": "white",
            "showbackground": true,
            "ticks": "",
            "zerolinecolor": "white"
           },
           "yaxis": {
            "backgroundcolor": "#E5ECF6",
            "gridcolor": "white",
            "gridwidth": 2,
            "linecolor": "white",
            "showbackground": true,
            "ticks": "",
            "zerolinecolor": "white"
           },
           "zaxis": {
            "backgroundcolor": "#E5ECF6",
            "gridcolor": "white",
            "gridwidth": 2,
            "linecolor": "white",
            "showbackground": true,
            "ticks": "",
            "zerolinecolor": "white"
           }
          },
          "shapedefaults": {
           "line": {
            "color": "#2a3f5f"
           }
          },
          "ternary": {
           "aaxis": {
            "gridcolor": "white",
            "linecolor": "white",
            "ticks": ""
           },
           "baxis": {
            "gridcolor": "white",
            "linecolor": "white",
            "ticks": ""
           },
           "bgcolor": "#E5ECF6",
           "caxis": {
            "gridcolor": "white",
            "linecolor": "white",
            "ticks": ""
           }
          },
          "title": {
           "x": 0.05
          },
          "xaxis": {
           "automargin": true,
           "gridcolor": "white",
           "linecolor": "white",
           "ticks": "",
           "title": {
            "standoff": 15
           },
           "zerolinecolor": "white",
           "zerolinewidth": 2
          },
          "yaxis": {
           "automargin": true,
           "gridcolor": "white",
           "linecolor": "white",
           "ticks": "",
           "title": {
            "standoff": 15
           },
           "zerolinecolor": "white",
           "zerolinewidth": 2
          }
         }
        },
        "title": {
         "text": "Inter-sample correlation (Pearson) of pseudobulk samples, as parameters change"
        },
        "xaxis": {
         "anchor": "y",
         "autorange": true,
         "domain": [
          0,
          1
         ],
         "range": [
          -0.05555555555555558,
          21.055555555555557
         ],
         "title": {
          "text": "n_cells"
         },
         "type": "linear"
        },
        "yaxis": {
         "anchor": "x",
         "autorange": true,
         "domain": [
          0,
          1
         ],
         "range": [
          0.40849426125018773,
          0.9181738924755035
         ],
         "title": {
          "text": "intersample_corr_mean"
         },
         "type": "linear"
        }
       }
      },
      "image/png": "[encoded data removed]",
      "text/html": [
       "<div>                            <div id=\"8c78cc08-d485-4675-a00b-abc7390d4778\" class=\"plotly-graph-div\" style=\"height:525px; width:100%;\"></div>            <script type=\"text/javascript\">                require([\"plotly\"], function(Plotly) {                    window.PLOTLYENV=window.PLOTLYENV || {};                                    if (document.getElementById(\"8c78cc08-d485-4675-a00b-abc7390d4778\")) {                    Plotly.newPlot(                        \"8c78cc08-d485-4675-a00b-abc7390d4778\",                        [{\"error_y\":{\"array\":[0.10327259473630096,0.07789150915615457,0.07028714149650551,0.07049007346989238,0.06444121351945278,0.06400292753426771,0.05963548114149172,0.056441465448187025,0.05759335796682393,0.05660348123526793,0.055854176672181774,0.0578342520267728,0.05583856220571929,0.05410261971835367,0.05312409406053146,0.05261464352093211,0.05376541589922736,0.05480462359241742,0.052711322409246246,0.05208748460107157]},\"hovertemplate\":\"n_cells=%{x}<br>intersample_corr_mean=%{y}<extra></extra>\",\"legendgroup\":\"\",\"line\":{\"color\":\"#636efa\",\"dash\":\"solid\"},\"marker\":{\"symbol\":\"circle\"},\"mode\":\"lines\",\"name\":\"\",\"orientation\":\"v\",\"showlegend\":false,\"x\":[1,2,3,4,5,6,7,8,9,10,11,12,13,14,15,16,17,18,19,20],\"xaxis\":\"x\",\"y\":[0.5372508375477545,0.6615564952216108,0.7172519361633029,0.7401207002197366,0.7658218591225029,0.7827765225638597,0.7920661746997643,0.8035709556419618,0.8085120008860187,0.8144125816547784,0.818002934760735,0.8215714734852873,0.8231712327800065,0.8280522085806827,0.8353159952609187,0.8351295872144876,0.8373485399514398,0.8371062279268372,0.8360308325987377,0.8406024263131662],\"yaxis\":\"y\",\"type\":\"scatter\"}],                        {\"template\":{\"data\":{\"histogram2dcontour\":[{\"type\":\"histogram2dcontour\",\"colorbar\":{\"outlinewidth\":0,\"ticks\":\"\"},\"colorscale\":[[0.0,\"#0d0887\"],[0.1111111111111111,\"#46039f\"],[0.2222222222222222,\"#7201a8\"],[0.3333333333333333,\"#9c179e\"],[0.4444444444444444,\"#bd3786\"],[0.5555555555555556,\"#d8576b\"],[0.6666666666666666,\"#ed7953\"],[0.7777777777777778,\"#fb9f3a\"],[0.8888888888888888,\"#fdca26\"],[1.0,\"#f0f921\"]]}],\"choropleth\":[{\"type\":\"choropleth\",\"colorbar\":{\"outlinewidth\":0,\"ticks\":\"\"}}],\"histogram2d\":[{\"type\":\"histogram2d\",\"colorbar\":{\"outlinewidth\":0,\"ticks\":\"\"},\"colorscale\":[[0.0,\"#0d0887\"],[0.1111111111111111,\"#46039f\"],[0.2222222222222222,\"#7201a8\"],[0.3333333333333333,\"#9c179e\"],[0.4444444444444444,\"#bd3786\"],[0.5555555555555556,\"#d8576b\"],[0.6666666666666666,\"#ed7953\"],[0.7777777777777778,\"#fb9f3a\"],[0.8888888888888888,\"#fdca26\"],[1.0,\"#f0f921\"]]}],\"heatmap\":[{\"type\":\"heatmap\",\"colorbar\":{\"outlinewidth\":0,\"ticks\":\"\"},\"colorscale\":[[0.0,\"#0d0887\"],[0.1111111111111111,\"#46039f\"],[0.2222222222222222,\"#7201a8\"],[0.3333333333333333,\"#9c179e\"],[0.4444444444444444,\"#bd3786\"],[0.5555555555555556,\"#d8576b\"],[0.6666666666666666,\"#ed7953\"],[0.7777777777777778,\"#fb9f3a\"],[0.8888888888888888,\"#fdca26\"],[1.0,\"#f0f921\"]]}],\"heatmapgl\":[{\"type\":\"heatmapgl\",\"colorbar\":{\"outlinewidth\":0,\"ticks\":\"\"},\"colorscale\":[[0.0,\"#0d0887\"],[0.1111111111111111,\"#46039f\"],[0.2222222222222222,\"#7201a8\"],[0.3333333333333333,\"#9c179e\"],[0.4444444444444444,\"#bd3786\"],[0.5555555555555556,\"#d8576b\"],[0.6666666666666666,\"#ed7953\"],[0.7777777777777778,\"#fb9f3a\"],[0.8888888888888888,\"#fdca26\"],[1.0,\"#f0f921\"]]}],\"contourcarpet\":[{\"type\":\"contourcarpet\",\"colorbar\":{\"outlinewidth\":0,\"ticks\":\"\"}}],\"contour\":[{\"type\":\"contour\",\"colorbar\":{\"outlinewidth\":0,\"ticks\":\"\"},\"colorscale\":[[0.0,\"#0d0887\"],[0.1111111111111111,\"#46039f\"],[0.2222222222222222,\"#7201a8\"],[0.3333333333333333,\"#9c179e\"],[0.4444444444444444,\"#bd3786\"],[0.5555555555555556,\"#d8576b\"],[0.6666666666666666,\"#ed7953\"],[0.7777777777777778,\"#fb9f3a\"],[0.8888888888888888,\"#fdca26\"],[1.0,\"#f0f921\"]]}],\"surface\":[{\"type\":\"surface\",\"colorbar\":{\"outlinewidth\":0,\"ticks\":\"\"},\"colorscale\":[[0.0,\"#0d0887\"],[0.1111111111111111,\"#46039f\"],[0.2222222222222222,\"#7201a8\"],[0.3333333333333333,\"#9c179e\"],[0.4444444444444444,\"#bd3786\"],[0.5555555555555556,\"#d8576b\"],[0.6666666666666666,\"#ed7953\"],[0.7777777777777778,\"#fb9f3a\"],[0.8888888888888888,\"#fdca26\"],[1.0,\"#f0f921\"]]}],\"mesh3d\":[{\"type\":\"mesh3d\",\"colorbar\":{\"outlinewidth\":0,\"ticks\":\"\"}}],\"scatter\":[{\"fillpattern\":{\"fillmode\":\"overlay\",\"size\":10,\"solidity\":0.2},\"type\":\"scatter\"}],\"parcoords\":[{\"type\":\"parcoords\",\"line\":{\"colorbar\":{\"outlinewidth\":0,\"ticks\":\"\"}}}],\"scatterpolargl\":[{\"type\":\"scatterpolargl\",\"marker\":{\"colorbar\":{\"outlinewidth\":0,\"ticks\":\"\"}}}],\"bar\":[{\"error_x\":{\"color\":\"#2a3f5f\"},\"error_y\":{\"color\":\"#2a3f5f\"},\"marker\":{\"line\":{\"color\":\"#E5ECF6\",\"width\":0.5},\"pattern\":{\"fillmode\":\"overlay\",\"size\":10,\"solidity\":0.2}},\"type\":\"bar\"}],\"scattergeo\":[{\"type\":\"scattergeo\",\"marker\":{\"colorbar\":{\"outlinewidth\":0,\"ticks\":\"\"}}}],\"scatterpolar\":[{\"type\":\"scatterpolar\",\"marker\":{\"colorbar\":{\"outlinewidth\":0,\"ticks\":\"\"}}}],\"histogram\":[{\"marker\":{\"pattern\":{\"fillmode\":\"overlay\",\"size\":10,\"solidity\":0.2}},\"type\":\"histogram\"}],\"scattergl\":[{\"type\":\"scattergl\",\"marker\":{\"colorbar\":{\"outlinewidth\":0,\"ticks\":\"\"}}}],\"scatter3d\":[{\"type\":\"scatter3d\",\"line\":{\"colorbar\":{\"outlinewidth\":0,\"ticks\":\"\"}},\"marker\":{\"colorbar\":{\"outlinewidth\":0,\"ticks\":\"\"}}}],\"scattermapbox\":[{\"type\":\"scattermapbox\",\"marker\":{\"colorbar\":{\"outlinewidth\":0,\"ticks\":\"\"}}}],\"scatterternary\":[{\"type\":\"scatterternary\",\"marker\":{\"colorbar\":{\"outlinewidth\":0,\"ticks\":\"\"}}}],\"scattercarpet\":[{\"type\":\"scattercarpet\",\"marker\":{\"colorbar\":{\"outlinewidth\":0,\"ticks\":\"\"}}}],\"carpet\":[{\"aaxis\":{\"endlinecolor\":\"#2a3f5f\",\"gridcolor\":\"white\",\"linecolor\":\"white\",\"minorgridcolor\":\"white\",\"startlinecolor\":\"#2a3f5f\"},\"baxis\":{\"endlinecolor\":\"#2a3f5f\",\"gridcolor\":\"white\",\"linecolor\":\"white\",\"minorgridcolor\":\"white\",\"startlinecolor\":\"#2a3f5f\"},\"type\":\"carpet\"}],\"table\":[{\"cells\":{\"fill\":{\"color\":\"#EBF0F8\"},\"line\":{\"color\":\"white\"}},\"header\":{\"fill\":{\"color\":\"#C8D4E3\"},\"line\":{\"color\":\"white\"}},\"type\":\"table\"}],\"barpolar\":[{\"marker\":{\"line\":{\"color\":\"#E5ECF6\",\"width\":0.5},\"pattern\":{\"fillmode\":\"overlay\",\"size\":10,\"solidity\":0.2}},\"type\":\"barpolar\"}],\"pie\":[{\"automargin\":true,\"type\":\"pie\"}]},\"layout\":{\"autotypenumbers\":\"strict\",\"colorway\":[\"#636efa\",\"#EF553B\",\"#00cc96\",\"#ab63fa\",\"#FFA15A\",\"#19d3f3\",\"#FF6692\",\"#B6E880\",\"#FF97FF\",\"#FECB52\"],\"font\":{\"color\":\"#2a3f5f\"},\"hovermode\":\"closest\",\"hoverlabel\":{\"align\":\"left\"},\"paper_bgcolor\":\"white\",\"plot_bgcolor\":\"#E5ECF6\",\"polar\":{\"bgcolor\":\"#E5ECF6\",\"angularaxis\":{\"gridcolor\":\"white\",\"linecolor\":\"white\",\"ticks\":\"\"},\"radialaxis\":{\"gridcolor\":\"white\",\"linecolor\":\"white\",\"ticks\":\"\"}},\"ternary\":{\"bgcolor\":\"#E5ECF6\",\"aaxis\":{\"gridcolor\":\"white\",\"linecolor\":\"white\",\"ticks\":\"\"},\"baxis\":{\"gridcolor\":\"white\",\"linecolor\":\"white\",\"ticks\":\"\"},\"caxis\":{\"gridcolor\":\"white\",\"linecolor\":\"white\",\"ticks\":\"\"}},\"coloraxis\":{\"colorbar\":{\"outlinewidth\":0,\"ticks\":\"\"}},\"colorscale\":{\"sequential\":[[0.0,\"#0d0887\"],[0.1111111111111111,\"#46039f\"],[0.2222222222222222,\"#7201a8\"],[0.3333333333333333,\"#9c179e\"],[0.4444444444444444,\"#bd3786\"],[0.5555555555555556,\"#d8576b\"],[0.6666666666666666,\"#ed7953\"],[0.7777777777777778,\"#fb9f3a\"],[0.8888888888888888,\"#fdca26\"],[1.0,\"#f0f921\"]],\"sequentialminus\":[[0.0,\"#0d0887\"],[0.1111111111111111,\"#46039f\"],[0.2222222222222222,\"#7201a8\"],[0.3333333333333333,\"#9c179e\"],[0.4444444444444444,\"#bd3786\"],[0.5555555555555556,\"#d8576b\"],[0.6666666666666666,\"#ed7953\"],[0.7777777777777778,\"#fb9f3a\"],[0.8888888888888888,\"#fdca26\"],[1.0,\"#f0f921\"]],\"diverging\":[[0,\"#8e0152\"],[0.1,\"#c51b7d\"],[0.2,\"#de77ae\"],[0.3,\"#f1b6da\"],[0.4,\"#fde0ef\"],[0.5,\"#f7f7f7\"],[0.6,\"#e6f5d0\"],[0.7,\"#b8e186\"],[0.8,\"#7fbc41\"],[0.9,\"#4d9221\"],[1,\"#276419\"]]},\"xaxis\":{\"gridcolor\":\"white\",\"linecolor\":\"white\",\"ticks\":\"\",\"title\":{\"standoff\":15},\"zerolinecolor\":\"white\",\"automargin\":true,\"zerolinewidth\":2},\"yaxis\":{\"gridcolor\":\"white\",\"linecolor\":\"white\",\"ticks\":\"\",\"title\":{\"standoff\":15},\"zerolinecolor\":\"white\",\"automargin\":true,\"zerolinewidth\":2},\"scene\":{\"xaxis\":{\"backgroundcolor\":\"#E5ECF6\",\"gridcolor\":\"white\",\"linecolor\":\"white\",\"showbackground\":true,\"ticks\":\"\",\"zerolinecolor\":\"white\",\"gridwidth\":2},\"yaxis\":{\"backgroundcolor\":\"#E5ECF6\",\"gridcolor\":\"white\",\"linecolor\":\"white\",\"showbackground\":true,\"ticks\":\"\",\"zerolinecolor\":\"white\",\"gridwidth\":2},\"zaxis\":{\"backgroundcolor\":\"#E5ECF6\",\"gridcolor\":\"white\",\"linecolor\":\"white\",\"showbackground\":true,\"ticks\":\"\",\"zerolinecolor\":\"white\",\"gridwidth\":2}},\"shapedefaults\":{\"line\":{\"color\":\"#2a3f5f\"}},\"annotationdefaults\":{\"arrowcolor\":\"#2a3f5f\",\"arrowhead\":0,\"arrowwidth\":1},\"geo\":{\"bgcolor\":\"white\",\"landcolor\":\"#E5ECF6\",\"subunitcolor\":\"white\",\"showland\":true,\"showlakes\":true,\"lakecolor\":\"white\"},\"title\":{\"x\":0.05},\"mapbox\":{\"style\":\"light\"}}},\"xaxis\":{\"anchor\":\"y\",\"domain\":[0.0,1.0],\"title\":{\"text\":\"n_cells\"}},\"yaxis\":{\"anchor\":\"x\",\"domain\":[0.0,1.0],\"title\":{\"text\":\"intersample_corr_mean\"}},\"legend\":{\"tracegroupgap\":0},\"title\":{\"text\":\"Inter-sample correlation (Pearson) of pseudobulk samples, as parameters change\"}},                        {\"responsive\": true}                    ).then(function(){\n",
       "                            \n",
       "var gd = document.getElementById('8c78cc08-d485-4675-a00b-abc7390d4778');\n",
       "var x = new MutationObserver(function (mutations, observer) {{\n",
       "        var display = window.getComputedStyle(gd).display;\n",
       "        if (!display || display === 'none') {{\n",
       "            console.log([gd, 'removed!']);\n",
       "            Plotly.purge(gd);\n",
       "            observer.disconnect();\n",
       "        }}\n",
       "}});\n",
       "\n",
       "// Listen for the removal of the full notebook cells\n",
       "var notebookContainer = gd.closest('#notebook-container');\n",
       "if (notebookContainer) {{\n",
       "    x.observe(notebookContainer, {childList: true});\n",
       "}}\n",
       "\n",
       "// Listen for the clearing of the current output cell\n",
       "var outputEl = gd.closest('.output');\n",
       "if (outputEl) {{\n",
       "    x.observe(outputEl, {childList: true});\n",
       "}}\n",
       "\n",
       "                        })                };                });            </script>        </div>"
      ]
     },
     "metadata": {},
     "output_type": "display_data"
    }
   ],
   "source": [
    "fig = px.line(\n",
    "    results_intersample.reset_index().query(\"malignant_from_one_sample == True\"),\n",
    "    x=\"n_cells\",\n",
    "    y=\"intersample_corr_mean\",\n",
    "    error_y=\"intersample_corr_stddev\",\n",
    "    title=\"Inter-sample correlation (Pearson) of pseudobulk samples, as parameters change\",\n",
    ")\n",
    "fig"
   ]
  },
  {
   "cell_type": "code",
   "execution_count": 33,
   "id": "4813b1ec-74c8-4579-9aa9-18a341cde88c",
   "metadata": {},
   "outputs": [
    {
     "data": {
      "image/png": "[encoded data removed]"
     },
     "metadata": {},
     "output_type": "display_data"
    }
   ],
   "source": [
    "fig.show(renderer=\"png\", scale=1, width=1000, height=750)"
   ]
  },
  {
   "cell_type": "code",
   "execution_count": null,
   "id": "e11d5ac9-f105-46f5-a267-e75a277763ca",
   "metadata": {},
   "outputs": [],
   "source": []
  }
 ],
 "metadata": {
  "environment": {
   "kernel": "conda-env-deconv-py",
   "name": "common-cpu.m91",
   "type": "gcloud",
   "uri": "gcr.io/deeplearning-platform-release/base-cpu:m91"
  },
  "kernelspec": {
   "display_name": "Python [conda env:deconv]",
   "language": "python",
   "name": "conda-env-deconv-py"
  },
  "language_info": {
   "codemirror_mode": {
    "name": "ipython",
    "version": 3
   },
   "file_extension": ".py",
   "mimetype": "text/x-python",
   "name": "python",
   "nbconvert_exporter": "python",
   "pygments_lexer": "ipython3",
   "version": "3.10.4"
  }
 },
 "nbformat": 4,
 "nbformat_minor": 5
}
