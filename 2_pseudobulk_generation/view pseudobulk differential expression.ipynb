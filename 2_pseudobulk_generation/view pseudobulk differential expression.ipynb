{
 "cells": [
  {
   "cell_type": "markdown",
   "id": "e40dd1ff-8199-401d-8803-23ecfd5e73eb",
   "metadata": {},
   "source": [
    "# imports & setup"
   ]
  },
  {
   "cell_type": "code",
   "execution_count": 1,
   "id": "b9ae938b-cab9-4de6-8dfc-61ffa0170e2f",
   "metadata": {},
   "outputs": [],
   "source": [
    "import logging\n",
    "import os\n",
    "from pprint import pprint\n",
    "\n",
    "import dask.dataframe as dd\n",
    "import helpers\n",
    "import numpy as np\n",
    "import pandas as pd\n",
    "import scipy.stats\n",
    "from cloudpathlib import AnyPath as Path\n"
   ]
  },
  {
   "cell_type": "code",
   "execution_count": 2,
   "id": "ef109bd2-62e6-4d65-9a2a-489265457c41",
   "metadata": {},
   "outputs": [],
   "source": [
    "import warnings\n",
    "\n",
    "warnings.filterwarnings(\"ignore\")\n"
   ]
  },
  {
   "cell_type": "code",
   "execution_count": 3,
   "id": "496c10b4-cbf1-4a71-8815-a4b36f7ef05c",
   "metadata": {},
   "outputs": [],
   "source": [
    "handler = logging.StreamHandler()\n",
    "formatter = logging.Formatter(\n",
    "    \"%(asctime)s %(process)d/%(threadName)s %(name)s %(levelname)s\\n%(message)s\"\n",
    ")\n",
    "handler.setFormatter(formatter)\n",
    "logging.getLogger().handlers = [handler]\n"
   ]
  },
  {
   "cell_type": "code",
   "execution_count": 4,
   "id": "9ae2823d-5cdf-46e8-a561-5204515758f8",
   "metadata": {},
   "outputs": [],
   "source": [
    "logging.getLogger(\"gcsfs\").setLevel(\"DEBUG\")\n",
    "logging.getLogger(\"google.cloud.bigquery\").setLevel(\"DEBUG\")\n",
    "logging.getLogger(\"helpers\").setLevel(\"DEBUG\")\n",
    "logging.getLogger(\"pandas\").setLevel(\"DEBUG\")\n",
    "logging.getLogger(\"pyarrow\").setLevel(\"DEBUG\")\n"
   ]
  },
  {
   "cell_type": "code",
   "execution_count": 5,
   "id": "72c1cb85-94a5-4206-b337-fbd1243c520e",
   "metadata": {},
   "outputs": [
    {
     "name": "stderr",
     "output_type": "stream",
     "text": [
      "2022-07-17 00:21:29,214 40252/MainThread __main__ DEBUG\n",
      "test debug-level message\n"
     ]
    }
   ],
   "source": [
    "logger = logging.getLogger(__name__)\n",
    "logger.setLevel(\"DEBUG\")\n",
    "logger.debug(\"test debug-level message\")\n"
   ]
  },
  {
   "cell_type": "markdown",
   "id": "f69f7523-53f5-4d83-915c-78ce4ed672e7",
   "metadata": {},
   "source": [
    "# loading data"
   ]
  },
  {
   "cell_type": "markdown",
   "id": "b69b1432-0427-44ce-8f78-5d516db19407",
   "metadata": {
    "tags": []
   },
   "source": [
    "## TCGA SKCM (real) bulk rna-seq"
   ]
  },
  {
   "cell_type": "code",
   "execution_count": 6,
   "id": "e376249e-d12f-4ed0-8629-da29ff0db1c7",
   "metadata": {},
   "outputs": [],
   "source": [
    "uri_tcga_skcm_bulk_rnaseq = (\n",
    "    \"gs://liulab/data/pseudobulk_optimization/3_with_tcga_qc/\"\n",
    "    \"mixtures_real_tcga_skcm/tpm.parquet\"\n",
    ")\n"
   ]
  },
  {
   "cell_type": "code",
   "execution_count": 7,
   "id": "2c9d1a8d-6ada-4cd3-8f3d-7b918178a795",
   "metadata": {},
   "outputs": [
    {
     "name": "stdout",
     "output_type": "stream",
     "text": [
      " 45.23 MiB  2022-05-26T05:32:00Z  gs://liulab/data/pseudobulk_optimization/3_with_tcga_qc/mixtures_real_tcga_skcm/tpm.parquet\n",
      "TOTAL: 1 objects, 47427179 bytes (45.23 MiB)\n"
     ]
    }
   ],
   "source": [
    "!gsutil ls -lh $uri_tcga_skcm_bulk_rnaseq"
   ]
  },
  {
   "cell_type": "code",
   "execution_count": null,
   "id": "826ef583-35de-4818-907d-3466af2324d0",
   "metadata": {},
   "outputs": [],
   "source": [
    "ddf_tcga_skcm_bulk_rnaseq = dd.read_parquet(uri_tcga_skcm_bulk_rnaseq, engine=\"pyarrow\")\n",
    "logger.debug(ddf_tcga_skcm_bulk_rnaseq.dtypes)\n"
   ]
  },
  {
   "cell_type": "code",
   "execution_count": null,
   "id": "d52d12f7-1ef4-42ce-97db-d7274f765e91",
   "metadata": {},
   "outputs": [],
   "source": [
    "ddf_tcga_skcm_bulk_rnaseq\n"
   ]
  },
  {
   "cell_type": "markdown",
   "id": "07c4c423-027d-4e82-a61a-402e4e5f948f",
   "metadata": {},
   "source": [
    "## TCGA SKCM fractions (estimated)"
   ]
  },
  {
   "cell_type": "code",
   "execution_count": 8,
   "id": "4d6f1548-8f5d-4596-9f3f-41be57915288",
   "metadata": {},
   "outputs": [
    {
     "name": "stderr",
     "output_type": "stream",
     "text": [
      "2022-07-17 00:21:38,411 40252/MainThread helpers.datasets DEBUG\n",
      "loading TCGA SKCM fractions estimated by CIBERSORTx\n",
      "2022-07-17 00:21:39,332 40252/MainThread google.auth._default WARNING\n",
      "No project ID could be determined. Consider running `gcloud config set project` or setting the GOOGLE_CLOUD_PROJECT environment variable\n",
      "2022-07-17 00:21:39,334 40252/MainThread gcsfs.credentials DEBUG\n",
      "Connected with method google_default\n",
      "2022-07-17 00:21:39,336 40252/fsspecIO gcsfs DEBUG\n",
      "GET: b/{}/o/{}, ('liulab', 'downloaded_manually/derek_csx_tcga_skcm/CIBERSORTx_Job8_Results.txt'), None\n",
      "2022-07-17 00:21:39,337 40252/fsspecIO gcsfs.credentials DEBUG\n",
      "GCS refresh\n",
      "2022-07-17 00:21:39,725 40252/fsspecIO gcsfs DEBUG\n",
      "GET: https://storage.googleapis.com/download/storage/v1/b/liulab/o/downloaded_manually%2Fderek_csx_tcga_skcm%2FCIBERSORTx_Job8_Results.txt?alt=media, (), {'Range': 'bytes=0-86860'}\n"
     ]
    }
   ],
   "source": [
    "df_tcga_skcm_fractions_from_csx = helpers.datasets.load_tcga_skcm_fractions_from_csx()\n"
   ]
  },
  {
   "cell_type": "markdown",
   "id": "2c18c05b",
   "metadata": {},
   "source": [
    "## TCGA SKCM sample types (metastatic, primary, etc)"
   ]
  },
  {
   "cell_type": "code",
   "execution_count": null,
   "id": "ef6d29b4",
   "metadata": {},
   "outputs": [],
   "source": [
    "from google.cloud import bigquery\n",
    "\n",
    "bqclient = bigquery.Client()\n",
    "\n",
    "query_string = \"\"\"\n",
    "SELECT * \n",
    "FROM `isb-cgc-bq.TCGA.biospecimen_gdc_current`\n",
    "where project_short_name = \"TCGA-SKCM\"\n",
    "    and sample_type_name = \"Metastatic\"\n",
    "order by sample_barcode\n",
    "\"\"\"\n",
    "\n",
    "df_tcga_sample_metadata = (\n",
    "    bqclient.query(query_string).result().to_dataframe(progress_bar_type=\"tqdm\")\n",
    ")\n"
   ]
  },
  {
   "cell_type": "markdown",
   "id": "e10a09b4-c01f-4212-b821-78300fced534",
   "metadata": {
    "tags": []
   },
   "source": [
    "## pseudo bulk rna-seq"
   ]
  },
  {
   "cell_type": "code",
   "execution_count": 11,
   "id": "fae127db-1180-4f7e-aec4-63432f03e2dd",
   "metadata": {},
   "outputs": [],
   "source": [
    "uri_pseudobulk_rnaseq = (\n",
    "    \"gs://liulab/data/pseudobulk_optimization/3_with_tcga_qc/\"\n",
    "    \"mixtures/n_cells=5/malignant_from_one_sample=True/data.parquet\"\n",
    ")\n"
   ]
  },
  {
   "cell_type": "code",
   "execution_count": 12,
   "id": "9405ed50-942f-43da-a543-cdc2038a9cbc",
   "metadata": {},
   "outputs": [
    {
     "name": "stdout",
     "output_type": "stream",
     "text": [
      " 39.95 MiB  2022-05-26T05:33:49Z  gs://liulab/data/pseudobulk_optimization/3_with_tcga_qc/mixtures/n_cells=5/malignant_from_one_sample=True/data.parquet\n",
      "TOTAL: 1 objects, 41894774 bytes (39.95 MiB)\n"
     ]
    }
   ],
   "source": [
    "!gsutil ls -lh $uri_pseudobulk_rnaseq"
   ]
  },
  {
   "cell_type": "code",
   "execution_count": 13,
   "id": "33a4b7d1-b8ea-4ac4-ad5c-6dcbcb5c3d70",
   "metadata": {},
   "outputs": [
    {
     "name": "stderr",
     "output_type": "stream",
     "text": [
      "2022-07-17 00:22:11,238 40252/fsspecIO gcsfs DEBUG\n",
      "GET: b/{}/o/{}, ('liulab', 'data/pseudobulk_optimization/3_with_tcga_qc/mixtures/n_cells=5/malignant_from_one_sample=True/data.parquet'), None\n",
      "2022-07-17 00:22:11,445 40252/fsspecIO gcsfs DEBUG\n",
      "GET: b/{}/o/{}, ('liulab', 'data/pseudobulk_optimization/3_with_tcga_qc/mixtures/n_cells=5/malignant_from_one_sample=True/data.parquet'), None\n",
      "2022-07-17 00:22:11,594 40252/fsspecIO gcsfs DEBUG\n",
      "GET: b/{}/o/{}, ('liulab', 'data/pseudobulk_optimization/3_with_tcga_qc/mixtures/n_cells=5/malignant_from_one_sample=True/data.parquet'), None\n",
      "2022-07-17 00:22:11,745 40252/fsspecIO gcsfs DEBUG\n",
      "GET: https://storage.googleapis.com/download/storage/v1/b/liulab/o/data%2Fpseudobulk_optimization%2F3_with_tcga_qc%2Fmixtures%2Fn_cells=5%2Fmalignant_from_one_sample=True%2Fdata.parquet?alt=media, (), {'Range': 'bytes=41829238-41894773'}\n",
      "2022-07-17 00:22:12,274 40252/fsspecIO gcsfs DEBUG\n",
      "GET: b/{}/o/{}, ('liulab', 'data/pseudobulk_optimization/3_with_tcga_qc/mixtures/n_cells=5/malignant_from_one_sample=True/data.parquet'), None\n",
      "2022-07-17 00:22:12,416 40252/fsspecIO gcsfs DEBUG\n",
      "GET: b/{}/o/{}, ('liulab', 'data/pseudobulk_optimization/3_with_tcga_qc/mixtures/n_cells=5/malignant_from_one_sample=True/data.parquet'), None\n",
      "2022-07-17 00:22:12,567 40252/fsspecIO gcsfs DEBUG\n",
      "GET: https://storage.googleapis.com/download/storage/v1/b/liulab/o/data%2Fpseudobulk_optimization%2F3_with_tcga_qc%2Fmixtures%2Fn_cells=5%2Fmalignant_from_one_sample=True%2Fdata.parquet?alt=media, (), {'Range': 'bytes=41829238-41894773'}\n",
      "2022-07-17 00:22:12,957 40252/MainThread __main__ DEBUG\n",
      "gene_symbol                  category\n",
      "aliquot_barcode              category\n",
      "tpm                           float64\n",
      "n_cells                         uint8\n",
      "malignant_from_one_sample        bool\n",
      "dtype: object\n"
     ]
    }
   ],
   "source": [
    "ddf_pseudobulk_rnaseq = (\n",
    "    dd.read_parquet(\n",
    "        uri_pseudobulk_rnaseq,\n",
    "        engine=\"pyarrow\",\n",
    "    )\n",
    "    .replace({\"malignant_from_one_sample\": {\"True\": True, \"False\": False}})\n",
    "    .astype({\"n_cells\": \"uint8\", \"malignant_from_one_sample\": \"bool\"})\n",
    "    .rename(columns={\"tcga_aliquot_barcode_for_fractions\": \"aliquot_barcode\"})\n",
    ")\n",
    "\n",
    "logger.debug(ddf_pseudobulk_rnaseq.dtypes)\n"
   ]
  },
  {
   "cell_type": "code",
   "execution_count": 14,
   "id": "b7a21386-faea-417a-b76f-80d67d9b2f56",
   "metadata": {},
   "outputs": [
    {
     "data": {
      "text/html": [
       "<div><strong>Dask DataFrame Structure:</strong></div>\n",
       "<div>\n",
       "<style scoped>\n",
       "    .dataframe tbody tr th:only-of-type {\n",
       "        vertical-align: middle;\n",
       "    }\n",
       "\n",
       "    .dataframe tbody tr th {\n",
       "        vertical-align: top;\n",
       "    }\n",
       "\n",
       "    .dataframe thead th {\n",
       "        text-align: right;\n",
       "    }\n",
       "</style>\n",
       "<table border=\"1\" class=\"dataframe\">\n",
       "  <thead>\n",
       "    <tr style=\"text-align: right;\">\n",
       "      <th></th>\n",
       "      <th>gene_symbol</th>\n",
       "      <th>aliquot_barcode</th>\n",
       "      <th>tpm</th>\n",
       "      <th>n_cells</th>\n",
       "      <th>malignant_from_one_sample</th>\n",
       "    </tr>\n",
       "    <tr>\n",
       "      <th>npartitions=1</th>\n",
       "      <th></th>\n",
       "      <th></th>\n",
       "      <th></th>\n",
       "      <th></th>\n",
       "      <th></th>\n",
       "    </tr>\n",
       "  </thead>\n",
       "  <tbody>\n",
       "    <tr>\n",
       "      <th></th>\n",
       "      <td>category[unknown]</td>\n",
       "      <td>category[unknown]</td>\n",
       "      <td>float64</td>\n",
       "      <td>uint8</td>\n",
       "      <td>bool</td>\n",
       "    </tr>\n",
       "    <tr>\n",
       "      <th></th>\n",
       "      <td>...</td>\n",
       "      <td>...</td>\n",
       "      <td>...</td>\n",
       "      <td>...</td>\n",
       "      <td>...</td>\n",
       "    </tr>\n",
       "  </tbody>\n",
       "</table>\n",
       "</div>\n",
       "<div>Dask Name: rename, 4 tasks</div>"
      ],
      "text/plain": [
       "Dask DataFrame Structure:\n",
       "                     gene_symbol    aliquot_barcode      tpm n_cells malignant_from_one_sample\n",
       "npartitions=1                                                                                 \n",
       "               category[unknown]  category[unknown]  float64   uint8                      bool\n",
       "                             ...                ...      ...     ...                       ...\n",
       "Dask Name: rename, 4 tasks"
      ]
     },
     "execution_count": 14,
     "metadata": {},
     "output_type": "execute_result"
    }
   ],
   "source": [
    "ddf_pseudobulk_rnaseq\n"
   ]
  },
  {
   "cell_type": "code",
   "execution_count": 15,
   "id": "5036da44",
   "metadata": {},
   "outputs": [
    {
     "name": "stderr",
     "output_type": "stream",
     "text": [
      "2022-07-17 00:23:17,066 40252/fsspecIO gcsfs DEBUG\n",
      "GET: b/{}/o/{}, ('liulab', 'data/pseudobulk_optimization/3_with_tcga_qc/mixtures/n_cells=5/malignant_from_one_sample=True/data.parquet'), None\n",
      "2022-07-17 00:23:17,317 40252/fsspecIO gcsfs DEBUG\n",
      "GET: b/{}/o/{}, ('liulab', 'data/pseudobulk_optimization/3_with_tcga_qc/mixtures/n_cells=5/malignant_from_one_sample=True/data.parquet'), None\n",
      "2022-07-17 00:23:17,469 40252/fsspecIO gcsfs DEBUG\n",
      "GET: b/{}/o/{}, ('liulab', 'data/pseudobulk_optimization/3_with_tcga_qc/mixtures/n_cells=5/malignant_from_one_sample=True/data.parquet'), None\n",
      "2022-07-17 00:23:17,622 40252/fsspecIO gcsfs DEBUG\n",
      "GET: https://storage.googleapis.com/download/storage/v1/b/liulab/o/data%2Fpseudobulk_optimization%2F3_with_tcga_qc%2Fmixtures%2Fn_cells=5%2Fmalignant_from_one_sample=True%2Fdata.parquet?alt=media, (), {'Range': 'bytes=41829238-41894773'}\n",
      "2022-07-17 00:23:18,301 40252/fsspecIO gcsfs DEBUG\n",
      "GET: b/{}/o/{}, ('liulab', 'data/pseudobulk_optimization/3_with_tcga_qc/mixtures/n_cells=5/malignant_from_one_sample=True/data.parquet'), None\n",
      "2022-07-17 00:23:18,447 40252/fsspecIO gcsfs DEBUG\n",
      "GET: b/{}/o/{}, ('liulab', 'data/pseudobulk_optimization/3_with_tcga_qc/mixtures/n_cells=5/malignant_from_one_sample=True/data.parquet'), None\n",
      "2022-07-17 00:23:18,597 40252/fsspecIO gcsfs DEBUG\n",
      "GET: https://storage.googleapis.com/download/storage/v1/b/liulab/o/data%2Fpseudobulk_optimization%2F3_with_tcga_qc%2Fmixtures%2Fn_cells=5%2Fmalignant_from_one_sample=True%2Fdata.parquet?alt=media, (), {'Range': 'bytes=41829238-41894773'}\n",
      "2022-07-17 00:23:18,773 40252/fsspecIO gcsfs DEBUG\n",
      "GET: https://storage.googleapis.com/download/storage/v1/b/liulab/o/data%2Fpseudobulk_optimization%2F3_with_tcga_qc%2Fmixtures%2Fn_cells=5%2Fmalignant_from_one_sample=True%2Fdata.parquet?alt=media, (), {'Range': 'bytes=4-5390533'}\n",
      "2022-07-17 00:23:19,483 40252/fsspecIO gcsfs DEBUG\n",
      "GET: https://storage.googleapis.com/download/storage/v1/b/liulab/o/data%2Fpseudobulk_optimization%2F3_with_tcga_qc%2Fmixtures%2Fn_cells=5%2Fmalignant_from_one_sample=True%2Fdata.parquet?alt=media, (), {'Range': 'bytes=5390534-41894773'}\n"
     ]
    }
   ],
   "source": [
    "df_pseudobulk_rnaseq = ddf_pseudobulk_rnaseq.compute()\n"
   ]
  },
  {
   "cell_type": "code",
   "execution_count": 17,
   "id": "2ade983c",
   "metadata": {},
   "outputs": [
    {
     "data": {
      "text/html": [
       "<div>\n",
       "<style scoped>\n",
       "    .dataframe tbody tr th:only-of-type {\n",
       "        vertical-align: middle;\n",
       "    }\n",
       "\n",
       "    .dataframe tbody tr th {\n",
       "        vertical-align: top;\n",
       "    }\n",
       "\n",
       "    .dataframe thead th {\n",
       "        text-align: right;\n",
       "    }\n",
       "</style>\n",
       "<table border=\"1\" class=\"dataframe\">\n",
       "  <thead>\n",
       "    <tr style=\"text-align: right;\">\n",
       "      <th></th>\n",
       "      <th>gene_symbol</th>\n",
       "      <th>aliquot_barcode</th>\n",
       "      <th>tpm</th>\n",
       "      <th>n_cells</th>\n",
       "      <th>malignant_from_one_sample</th>\n",
       "    </tr>\n",
       "  </thead>\n",
       "  <tbody>\n",
       "    <tr>\n",
       "      <th>0</th>\n",
       "      <td>A1BG</td>\n",
       "      <td>TCGA-3N-A9WB-06A-11R-A38C-07</td>\n",
       "      <td>106.644738</td>\n",
       "      <td>5</td>\n",
       "      <td>True</td>\n",
       "    </tr>\n",
       "    <tr>\n",
       "      <th>1</th>\n",
       "      <td>A1BG</td>\n",
       "      <td>TCGA-3N-A9WC-06A-11R-A38C-07</td>\n",
       "      <td>72.082156</td>\n",
       "      <td>5</td>\n",
       "      <td>True</td>\n",
       "    </tr>\n",
       "    <tr>\n",
       "      <th>2</th>\n",
       "      <td>A1BG</td>\n",
       "      <td>TCGA-3N-A9WD-06A-11R-A38C-07</td>\n",
       "      <td>48.453905</td>\n",
       "      <td>5</td>\n",
       "      <td>True</td>\n",
       "    </tr>\n",
       "    <tr>\n",
       "      <th>3</th>\n",
       "      <td>A1BG</td>\n",
       "      <td>TCGA-BF-AAP0-06A-11R-A39D-07</td>\n",
       "      <td>29.958744</td>\n",
       "      <td>5</td>\n",
       "      <td>True</td>\n",
       "    </tr>\n",
       "    <tr>\n",
       "      <th>4</th>\n",
       "      <td>A1BG</td>\n",
       "      <td>TCGA-D3-A1Q1-06A-21R-A18T-07</td>\n",
       "      <td>38.982455</td>\n",
       "      <td>5</td>\n",
       "      <td>True</td>\n",
       "    </tr>\n",
       "    <tr>\n",
       "      <th>...</th>\n",
       "      <td>...</td>\n",
       "      <td>...</td>\n",
       "      <td>...</td>\n",
       "      <td>...</td>\n",
       "      <td>...</td>\n",
       "    </tr>\n",
       "    <tr>\n",
       "      <th>5911179</th>\n",
       "      <td>ZZZ3</td>\n",
       "      <td>TCGA-YG-AA3O-06A-11R-A38C-07</td>\n",
       "      <td>51.707960</td>\n",
       "      <td>5</td>\n",
       "      <td>True</td>\n",
       "    </tr>\n",
       "    <tr>\n",
       "      <th>5911180</th>\n",
       "      <td>ZZZ3</td>\n",
       "      <td>TCGA-YG-AA3P-06A-11R-A38C-07</td>\n",
       "      <td>52.941551</td>\n",
       "      <td>5</td>\n",
       "      <td>True</td>\n",
       "    </tr>\n",
       "    <tr>\n",
       "      <th>5911181</th>\n",
       "      <td>ZZZ3</td>\n",
       "      <td>TCGA-Z2-A8RT-06A-11R-A37K-07</td>\n",
       "      <td>34.450564</td>\n",
       "      <td>5</td>\n",
       "      <td>True</td>\n",
       "    </tr>\n",
       "    <tr>\n",
       "      <th>5911182</th>\n",
       "      <td>ZZZ3</td>\n",
       "      <td>TCGA-Z2-AA3S-06A-11R-A39D-07</td>\n",
       "      <td>190.622405</td>\n",
       "      <td>5</td>\n",
       "      <td>True</td>\n",
       "    </tr>\n",
       "    <tr>\n",
       "      <th>5911183</th>\n",
       "      <td>ZZZ3</td>\n",
       "      <td>TCGA-Z2-AA3V-06A-11R-A39D-07</td>\n",
       "      <td>48.648283</td>\n",
       "      <td>5</td>\n",
       "      <td>True</td>\n",
       "    </tr>\n",
       "  </tbody>\n",
       "</table>\n",
       "<p>5911184 rows × 5 columns</p>\n",
       "</div>"
      ],
      "text/plain": [
       "        gene_symbol               aliquot_barcode         tpm  n_cells  \\\n",
       "0              A1BG  TCGA-3N-A9WB-06A-11R-A38C-07  106.644738        5   \n",
       "1              A1BG  TCGA-3N-A9WC-06A-11R-A38C-07   72.082156        5   \n",
       "2              A1BG  TCGA-3N-A9WD-06A-11R-A38C-07   48.453905        5   \n",
       "3              A1BG  TCGA-BF-AAP0-06A-11R-A39D-07   29.958744        5   \n",
       "4              A1BG  TCGA-D3-A1Q1-06A-21R-A18T-07   38.982455        5   \n",
       "...             ...                           ...         ...      ...   \n",
       "5911179        ZZZ3  TCGA-YG-AA3O-06A-11R-A38C-07   51.707960        5   \n",
       "5911180        ZZZ3  TCGA-YG-AA3P-06A-11R-A38C-07   52.941551        5   \n",
       "5911181        ZZZ3  TCGA-Z2-A8RT-06A-11R-A37K-07   34.450564        5   \n",
       "5911182        ZZZ3  TCGA-Z2-AA3S-06A-11R-A39D-07  190.622405        5   \n",
       "5911183        ZZZ3  TCGA-Z2-AA3V-06A-11R-A39D-07   48.648283        5   \n",
       "\n",
       "         malignant_from_one_sample  \n",
       "0                             True  \n",
       "1                             True  \n",
       "2                             True  \n",
       "3                             True  \n",
       "4                             True  \n",
       "...                            ...  \n",
       "5911179                       True  \n",
       "5911180                       True  \n",
       "5911181                       True  \n",
       "5911182                       True  \n",
       "5911183                       True  \n",
       "\n",
       "[5911184 rows x 5 columns]"
      ]
     },
     "execution_count": 17,
     "metadata": {},
     "output_type": "execute_result"
    }
   ],
   "source": [
    "df_pseudobulk_rnaseq\n"
   ]
  },
  {
   "cell_type": "markdown",
   "id": "2c9a70e5-6b26-4cd2-b7a1-173cc965ab6e",
   "metadata": {
    "tags": []
   },
   "source": [
    "## determine immune high and low"
   ]
  },
  {
   "cell_type": "code",
   "execution_count": null,
   "id": "125e90eb",
   "metadata": {},
   "outputs": [],
   "source": [
    "def make_labels_for_aliquots(df_aliquot_fractions, df_sample_metadata):\n",
    "    immune_cell_types = [\"B\", \"Macrophage\", \"NK\", \"T\", \"T CD4\", \"T CD8\"]\n",
    "    aliquot_immune_fractions = (\n",
    "        df_aliquot_fractions[immune_cell_types]\n",
    "        .sum(axis=\"columns\")\n",
    "        .rename(index=lambda x: x[:-5])\n",
    "    )\n",
    "    return df_sample_metadata.assign({\"immune_fraction\": aliquot_immune_fractions)\n",
    "\n",
    "\n",
    "make_labels_for_aliquots(df_tcga_skcm_fractions_from_csx, df_tcga_sample_metadata)"
   ]
  },
  {
   "cell_type": "code",
   "execution_count": 19,
   "id": "69626ace-c5f8-4ce2-bfc9-7758c5d4b8b3",
   "metadata": {},
   "outputs": [
    {
     "data": {
      "text/html": [
       "<div>\n",
       "<style scoped>\n",
       "    .dataframe tbody tr th:only-of-type {\n",
       "        vertical-align: middle;\n",
       "    }\n",
       "\n",
       "    .dataframe tbody tr th {\n",
       "        vertical-align: top;\n",
       "    }\n",
       "\n",
       "    .dataframe thead th {\n",
       "        text-align: right;\n",
       "    }\n",
       "</style>\n",
       "<table border=\"1\" class=\"dataframe\">\n",
       "  <thead>\n",
       "    <tr style=\"text-align: right;\">\n",
       "      <th></th>\n",
       "      <th>gene_symbol</th>\n",
       "      <th>aliquot_barcode</th>\n",
       "      <th>tpm</th>\n",
       "      <th>n_cells</th>\n",
       "      <th>malignant_from_one_sample</th>\n",
       "      <th>immune_fraction</th>\n",
       "    </tr>\n",
       "  </thead>\n",
       "  <tbody>\n",
       "    <tr>\n",
       "      <th>0</th>\n",
       "      <td>A1BG</td>\n",
       "      <td>TCGA-3N-A9WB-06A-11R-A38C-07</td>\n",
       "      <td>106.644738</td>\n",
       "      <td>5</td>\n",
       "      <td>True</td>\n",
       "      <td>0.006247</td>\n",
       "    </tr>\n",
       "    <tr>\n",
       "      <th>1</th>\n",
       "      <td>A2M</td>\n",
       "      <td>TCGA-3N-A9WB-06A-11R-A38C-07</td>\n",
       "      <td>285.508321</td>\n",
       "      <td>5</td>\n",
       "      <td>True</td>\n",
       "      <td>0.006247</td>\n",
       "    </tr>\n",
       "    <tr>\n",
       "      <th>2</th>\n",
       "      <td>A2ML1</td>\n",
       "      <td>TCGA-3N-A9WB-06A-11R-A38C-07</td>\n",
       "      <td>3.088469</td>\n",
       "      <td>5</td>\n",
       "      <td>True</td>\n",
       "      <td>0.006247</td>\n",
       "    </tr>\n",
       "    <tr>\n",
       "      <th>3</th>\n",
       "      <td>A4GALT</td>\n",
       "      <td>TCGA-3N-A9WB-06A-11R-A38C-07</td>\n",
       "      <td>1.554341</td>\n",
       "      <td>5</td>\n",
       "      <td>True</td>\n",
       "      <td>0.006247</td>\n",
       "    </tr>\n",
       "    <tr>\n",
       "      <th>4</th>\n",
       "      <td>A4GNT</td>\n",
       "      <td>TCGA-3N-A9WB-06A-11R-A38C-07</td>\n",
       "      <td>0.000000</td>\n",
       "      <td>5</td>\n",
       "      <td>True</td>\n",
       "      <td>0.006247</td>\n",
       "    </tr>\n",
       "    <tr>\n",
       "      <th>...</th>\n",
       "      <td>...</td>\n",
       "      <td>...</td>\n",
       "      <td>...</td>\n",
       "      <td>...</td>\n",
       "      <td>...</td>\n",
       "      <td>...</td>\n",
       "    </tr>\n",
       "    <tr>\n",
       "      <th>5911179</th>\n",
       "      <td>ZYG11A</td>\n",
       "      <td>TCGA-Z2-AA3V-06A-11R-A39D-07</td>\n",
       "      <td>43.598773</td>\n",
       "      <td>5</td>\n",
       "      <td>True</td>\n",
       "      <td>0.300102</td>\n",
       "    </tr>\n",
       "    <tr>\n",
       "      <th>5911180</th>\n",
       "      <td>ZYG11B</td>\n",
       "      <td>TCGA-Z2-AA3V-06A-11R-A39D-07</td>\n",
       "      <td>33.301372</td>\n",
       "      <td>5</td>\n",
       "      <td>True</td>\n",
       "      <td>0.300102</td>\n",
       "    </tr>\n",
       "    <tr>\n",
       "      <th>5911181</th>\n",
       "      <td>ZYX</td>\n",
       "      <td>TCGA-Z2-AA3V-06A-11R-A39D-07</td>\n",
       "      <td>138.176400</td>\n",
       "      <td>5</td>\n",
       "      <td>True</td>\n",
       "      <td>0.300102</td>\n",
       "    </tr>\n",
       "    <tr>\n",
       "      <th>5911182</th>\n",
       "      <td>ZZEF1</td>\n",
       "      <td>TCGA-Z2-AA3V-06A-11R-A39D-07</td>\n",
       "      <td>14.382751</td>\n",
       "      <td>5</td>\n",
       "      <td>True</td>\n",
       "      <td>0.300102</td>\n",
       "    </tr>\n",
       "    <tr>\n",
       "      <th>5911183</th>\n",
       "      <td>ZZZ3</td>\n",
       "      <td>TCGA-Z2-AA3V-06A-11R-A39D-07</td>\n",
       "      <td>48.648283</td>\n",
       "      <td>5</td>\n",
       "      <td>True</td>\n",
       "      <td>0.300102</td>\n",
       "    </tr>\n",
       "  </tbody>\n",
       "</table>\n",
       "<p>5911184 rows × 6 columns</p>\n",
       "</div>"
      ],
      "text/plain": [
       "        gene_symbol               aliquot_barcode         tpm  n_cells  \\\n",
       "0              A1BG  TCGA-3N-A9WB-06A-11R-A38C-07  106.644738        5   \n",
       "1               A2M  TCGA-3N-A9WB-06A-11R-A38C-07  285.508321        5   \n",
       "2             A2ML1  TCGA-3N-A9WB-06A-11R-A38C-07    3.088469        5   \n",
       "3            A4GALT  TCGA-3N-A9WB-06A-11R-A38C-07    1.554341        5   \n",
       "4             A4GNT  TCGA-3N-A9WB-06A-11R-A38C-07    0.000000        5   \n",
       "...             ...                           ...         ...      ...   \n",
       "5911179      ZYG11A  TCGA-Z2-AA3V-06A-11R-A39D-07   43.598773        5   \n",
       "5911180      ZYG11B  TCGA-Z2-AA3V-06A-11R-A39D-07   33.301372        5   \n",
       "5911181         ZYX  TCGA-Z2-AA3V-06A-11R-A39D-07  138.176400        5   \n",
       "5911182       ZZEF1  TCGA-Z2-AA3V-06A-11R-A39D-07   14.382751        5   \n",
       "5911183        ZZZ3  TCGA-Z2-AA3V-06A-11R-A39D-07   48.648283        5   \n",
       "\n",
       "         malignant_from_one_sample  immune_fraction  \n",
       "0                             True         0.006247  \n",
       "1                             True         0.006247  \n",
       "2                             True         0.006247  \n",
       "3                             True         0.006247  \n",
       "4                             True         0.006247  \n",
       "...                            ...              ...  \n",
       "5911179                       True         0.300102  \n",
       "5911180                       True         0.300102  \n",
       "5911181                       True         0.300102  \n",
       "5911182                       True         0.300102  \n",
       "5911183                       True         0.300102  \n",
       "\n",
       "[5911184 rows x 6 columns]"
      ]
     },
     "execution_count": 19,
     "metadata": {},
     "output_type": "execute_result"
    }
   ],
   "source": [
    "def do_stuff(df_sample_metadata):\n",
    "    df = df_sample_metadata.copy()\n",
    "    immune_threshold_low = df[\"immune_fraction\"].quantile(0.2)\n",
    "    immune_threshold_high = df[\"immune_fraction\"].quantile(0.8)\n",
    "    df[\"immune_low\"] = df[\"immune_fraction\"] <= immune_threshold_low\n",
    "    df[\"immune_high\"] = df[\"immune_fraction\"] >= immune_threshold_high\n",
    "    return df\n",
    "\n",
    "\n",
    "do_stuff(\n",
    "    make_labels_for_aliquots(df_tcga_skcm_fractions_from_csx, df_tcga_sample_metadata)\n",
    ")\n"
   ]
  },
  {
   "cell_type": "code",
   "execution_count": null,
   "id": "1d46bee8",
   "metadata": {},
   "outputs": [],
   "source": [
    "# left off here\n"
   ]
  },
  {
   "cell_type": "markdown",
   "id": "9bab0bb0-188e-4631-b492-6f3cabc506ee",
   "metadata": {},
   "source": [
    "# analysis"
   ]
  },
  {
   "cell_type": "markdown",
   "id": "bc6789cb-427d-489b-97f7-3b9ada152f39",
   "metadata": {},
   "source": [
    "### analysis - computing stats on each dataset individually"
   ]
  },
  {
   "cell_type": "code",
   "execution_count": null,
   "id": "772cb500-55d1-45e9-b238-d30ad72b2186",
   "metadata": {},
   "outputs": [],
   "source": [
    "ddf_tcga_skcm_bulk_rnaseq.join(df_immune_fraction_by_aliquot_barcode)\n",
    "\n",
    "immune_threshold_low = df_rnaseq_with_immune[\"immune_fraction\"].quantile(0.2)\n",
    "immune_threshold_high = df_rnaseq_with_immune[\"immune_fraction\"].quantile(0.8)\n"
   ]
  },
  {
   "cell_type": "markdown",
   "id": "fa55e450-d82d-4ac2-bfd2-bb9b64e2695e",
   "metadata": {},
   "source": [
    "### analysis - combining all data, then computing stats"
   ]
  },
  {
   "cell_type": "code",
   "execution_count": null,
   "id": "d812dac3-d22a-4f29-aa50-cc149b645ff2",
   "metadata": {},
   "outputs": [],
   "source": [
    "# merge real and pseudo data\n",
    "ddf_bulk_rnaseq_all = ddf_tcga_skcm_bulk_rnaseq.merge(\n",
    "    ddf_pseudobulk_rnaseq,\n",
    "    on=[\"aliquot_barcode\", \"gene_symbol\"],\n",
    "    how=\"inner\",\n",
    "    suffixes=[\"_tcga_skcm\", \"_pseudo\"],\n",
    ")\n"
   ]
  },
  {
   "cell_type": "code",
   "execution_count": null,
   "id": "3fb37a43-13f8-4314-9f2e-261ad43f9861",
   "metadata": {},
   "outputs": [],
   "source": [
    "ddf_bulk_rnaseq_all\n"
   ]
  },
  {
   "cell_type": "markdown",
   "id": "bc4ef7cd-e875-45ee-a97e-31bf15bac21e",
   "metadata": {},
   "source": [
    "### join these fractions onto bulk rna-seq data\n"
   ]
  },
  {
   "cell_type": "code",
   "execution_count": null,
   "id": "f78b8337-df48-4c6b-856a-981cbd5c95d7",
   "metadata": {},
   "outputs": [],
   "source": [
    "ddf_bulk_rnaseq_all_with_immune = ddf_bulk_rnaseq_all.merge(\n",
    "    df_immune_fraction_by_aliquot_barcode,\n",
    "    left_on=\"aliquot_barcode\",\n",
    "    right_on=\"sample_id\",\n",
    ")\n",
    "\n",
    "ddf_bulk_rnaseq_all_with_immune\n"
   ]
  },
  {
   "cell_type": "code",
   "execution_count": null,
   "id": "089dd4ad-e4ae-425d-aef7-6ca1c5174e0c",
   "metadata": {},
   "outputs": [],
   "source": [
    "# compute immune high and low\n",
    "immune_threshold_low = ddf_bulk_rnaseq_all_with_immune[\"immune_fraction\"].quantile(0.2)\n",
    "immune_threshold_high = ddf_bulk_rnaseq_all_with_immune[\"immune_fraction\"].quantile(0.8)\n"
   ]
  },
  {
   "cell_type": "code",
   "execution_count": null,
   "id": "7becc1d2-eab5-474e-8c45-4520583d4c84",
   "metadata": {},
   "outputs": [],
   "source": [
    "immune_threshold_low, immune_threshold_high\n"
   ]
  },
  {
   "cell_type": "code",
   "execution_count": null,
   "id": "3b83498b-a6a4-4137-9e4d-89077eb4161d",
   "metadata": {},
   "outputs": [],
   "source": [
    "ddf_bulk_rnaseq_all_with_immune[\"immune_low\"] = (\n",
    "    ddf_bulk_rnaseq_all_with_immune[\"immune_fraction\"] <= immune_threshold_low\n",
    ")\n",
    "\n",
    "ddf_bulk_rnaseq_all_with_immune[\"immune_high\"] = (\n",
    "    ddf_bulk_rnaseq_all_with_immune[\"immune_fraction\"] >= immune_threshold_high\n",
    ")\n"
   ]
  },
  {
   "cell_type": "code",
   "execution_count": null,
   "id": "9e90eec3-3ee8-4016-99f6-1a23d77993ba",
   "metadata": {},
   "outputs": [],
   "source": [
    "df_bulk_rnaseq_all_with_immune = ddf_bulk_rnaseq_all_with_immune.compute()\n"
   ]
  },
  {
   "cell_type": "code",
   "execution_count": null,
   "id": "a456f86e-148e-41f6-abaf-5acb7c28cadb",
   "metadata": {},
   "outputs": [],
   "source": [
    "df_bulk_rnaseq_all_with_immune[\"aliquot_barcode\"].value_counts()\n"
   ]
  },
  {
   "cell_type": "code",
   "execution_count": null,
   "id": "e0982600-50c8-4b87-88c1-c8c376c59c02",
   "metadata": {},
   "outputs": [],
   "source": [
    "df_bulk_rnaseq_all_with_immune[[\"immune_low\", \"immune_high\"]].value_counts()\n"
   ]
  },
  {
   "cell_type": "markdown",
   "id": "e304b720-c36f-4b2e-bd69-0da3c8a7d603",
   "metadata": {},
   "source": [
    "#### compute stats for each gene"
   ]
  },
  {
   "cell_type": "code",
   "execution_count": null,
   "id": "87900a1b-76b4-4609-b067-7478f0d4f8e9",
   "metadata": {
    "tags": []
   },
   "outputs": [],
   "source": [
    "### compute p-values...\n",
    "\n",
    "\n",
    "def compute_stats(df):\n",
    "    immune_low = df[df[\"immune_low\"]]\n",
    "    immune_high = df[df[\"immune_high\"]]\n",
    "    pval_pseudo = scipy.stats.mannwhitneyu(\n",
    "        immune_high[\"tpm_pseudo\"].values, immune_low[\"tpm_pseudo\"].values\n",
    "    )[1]\n",
    "    neglog10pval_pseudo = -np.log10(pval_pseudo)\n",
    "    foldchange_pseudo = (\n",
    "        immune_high[\"tpm_pseudo\"].mean() / immune_low[\"tpm_pseudo\"].mean()\n",
    "    )\n",
    "    log2foldchange_pseudo = np.log2(foldchange_pseudo)\n",
    "\n",
    "    pval_real = scipy.stats.mannwhitneyu(\n",
    "        immune_high[\"tpm_tcga_skcm\"].values, immune_low[\"tpm_tcga_skcm\"].values\n",
    "    )[1]\n",
    "    neglog10pval_real = -np.log10(pval_real)\n",
    "    foldchange_real = (\n",
    "        immune_high[\"tpm_tcga_skcm\"].mean() / immune_low[\"tpm_tcga_skcm\"].mean()\n",
    "    )\n",
    "    log2foldchange_real = np.log2(foldchange_real)\n",
    "\n",
    "    return pd.Series(\n",
    "        dict(\n",
    "            pval_pseudo=pval_pseudo,\n",
    "            foldchange_pseudo=foldchange_pseudo,\n",
    "            log2foldchange_pseudo=log2foldchange_pseudo,\n",
    "            neglog10pval_pseudo=neglog10pval_pseudo,\n",
    "            signedneglog10pval_pseudo=(\n",
    "                neglog10pval_pseudo * np.sign(log2foldchange_pseudo)\n",
    "            ),\n",
    "            pval_real=pval_real,\n",
    "            foldchange_real=foldchange_real,\n",
    "            log2foldchange_real=log2foldchange_real,\n",
    "            neglog10pval_real=neglog10pval_real,\n",
    "            signedneglog10pval_real=(neglog10pval_real * np.sign(log2foldchange_real)),\n",
    "        )\n",
    "    )\n",
    "\n",
    "\n",
    "df_gene_stats_by_immune = df_bulk_rnaseq_all_with_immune.groupby(\"gene_symbol\").apply(\n",
    "    compute_stats\n",
    ")\n",
    "df_gene_stats_by_immune = df_gene_stats_by_immune.reset_index()\n"
   ]
  },
  {
   "cell_type": "code",
   "execution_count": null,
   "id": "6f207b66-357a-416a-bb4c-e883ae68685f",
   "metadata": {},
   "outputs": [],
   "source": [
    "df_gene_stats_by_immune\n"
   ]
  },
  {
   "cell_type": "code",
   "execution_count": null,
   "id": "a801d328-8278-408a-9e46-ad35e13dc72a",
   "metadata": {},
   "outputs": [],
   "source": [
    "# how many genes have valid stats?\n",
    "\n",
    "logger.debug(df_gene_stats_by_immune[\"pval_pseudo\"].isna().value_counts())\n",
    "logger.debug(df_gene_stats_by_immune[\"foldchange_pseudo\"].isna().value_counts())\n",
    "logger.debug(df_gene_stats_by_immune[\"pval_real\"].isna().value_counts())\n",
    "logger.debug(df_gene_stats_by_immune[\"foldchange_real\"].isna().value_counts())\n"
   ]
  },
  {
   "cell_type": "code",
   "execution_count": null,
   "id": "932df133-72db-439f-9851-ec3aff56a92e",
   "metadata": {},
   "outputs": [],
   "source": [
    "import plotly.express as px\n"
   ]
  },
  {
   "cell_type": "code",
   "execution_count": null,
   "id": "db3a5128-2a72-4e22-99cf-9b625140b310",
   "metadata": {},
   "outputs": [],
   "source": [
    "fig = px.scatter(\n",
    "    df_gene_stats_by_immune,\n",
    "    x=\"log2foldchange_real\",\n",
    "    y=\"neglog10pval_real\",\n",
    "    title=\"real (tcga skcm): immune high / low\",\n",
    "    hover_name=\"gene_symbol\",\n",
    "    hover_data=[\"foldchange_real\", \"pval_real\"],\n",
    ")\n",
    "fig.update_xaxes(range=(-10, 10))\n",
    "fig.update_yaxes(range=(0, 30))\n",
    "fig.update_traces(marker=dict(size=3))\n",
    "fig.show(renderer=\"png\", scale=1, width=1000, height=500)\n"
   ]
  },
  {
   "cell_type": "code",
   "execution_count": null,
   "id": "bac7d9c7-9c49-4edb-ac56-3615d387b001",
   "metadata": {},
   "outputs": [],
   "source": [
    "fig.show(renderer=\"browser\")\n"
   ]
  },
  {
   "cell_type": "code",
   "execution_count": null,
   "id": "a329bff9",
   "metadata": {},
   "outputs": [],
   "source": [
    "fig = px.scatter(\n",
    "    df_gene_stats_by_immune,\n",
    "    x=\"log2foldchange_pseudo\",\n",
    "    y=\"neglog10pval_pseudo\",\n",
    "    title=\"pseudobulks: immune high / low\",\n",
    "    hover_name=\"gene_symbol\",\n",
    "    hover_data=[\"foldchange_pseudo\", \"pval_pseudo\"],\n",
    ")\n",
    "fig.update_xaxes(range=(-10, 10))\n",
    "fig.update_yaxes(range=(0, 30))\n",
    "fig.update_traces(marker=dict(size=3))\n",
    "fig.show(renderer=\"png\", scale=2, width=800, height=600)\n"
   ]
  },
  {
   "cell_type": "code",
   "execution_count": null,
   "id": "d48e3e58-0cf0-420f-bfc1-d98fe83786fb",
   "metadata": {},
   "outputs": [],
   "source": [
    "fig.show(renderer=\"browser\")\n"
   ]
  },
  {
   "cell_type": "code",
   "execution_count": null,
   "id": "2d8a914e-4254-46c9-97d6-f0eac173ee29",
   "metadata": {},
   "outputs": [],
   "source": [
    "fig = px.scatter(\n",
    "    df_gene_stats_by_immune,\n",
    "    x=\"signedneglog10pval_real\",\n",
    "    y=\"signedneglog10pval_pseudo\",\n",
    "    trendline=\"ols\",\n",
    "    title=\"signed -log10(p-values): pseudobulks vs tcga skcm\",\n",
    "    hover_name=\"gene_symbol\",\n",
    "    hover_data=[\"log2foldchange_real\", \"log2foldchange_pseudo\"],\n",
    ")\n",
    "fig.update_xaxes(range=(-25, 25))\n",
    "fig.update_yaxes(range=(-25, 25))\n",
    "fig.update_traces(marker=dict(size=3))\n",
    "fig.show(renderer=\"png\", scale=1, width=500, height=500)\n"
   ]
  },
  {
   "cell_type": "code",
   "execution_count": null,
   "id": "d451ea86-cba0-4a83-8a47-a1e457413e2b",
   "metadata": {},
   "outputs": [],
   "source": [
    "fig.show(renderer=\"browser\")\n"
   ]
  },
  {
   "cell_type": "code",
   "execution_count": null,
   "id": "e6965779-7cd2-4e9e-8f22-6e310bda1780",
   "metadata": {},
   "outputs": [],
   "source": [
    "df_gene_stats_by_immune.info()\n"
   ]
  },
  {
   "cell_type": "code",
   "execution_count": null,
   "id": "ca285bee-968c-4646-afd0-8c6bb23e70df",
   "metadata": {},
   "outputs": [],
   "source": [
    "fig = px.scatter(\n",
    "    df_gene_stats_by_immune,\n",
    "    x=\"log2foldchange_real\",\n",
    "    y=\"log2foldchange_pseudo\",\n",
    "    trendline=\"ols\",\n",
    "    title=\"logs(fold-change): pseudobulks vs tcga skcm\",\n",
    "    hover_name=\"gene_symbol\",\n",
    "    # hover_data=[\"log2foldchange_real\", \"log2foldchange_pseudo\"],\n",
    ")\n",
    "# fig.update_xaxes(range=(-25, 25))\n",
    "# fig.update_yaxes(range=(-25, 25))\n",
    "fig.update_traces(marker=dict(size=3))\n",
    "fig.show(renderer=\"png\", scale=1, width=500, height=500)\n",
    "fig.show(renderer=\"browser\")\n"
   ]
  },
  {
   "cell_type": "code",
   "execution_count": null,
   "id": "781cd95f-59c0-4ff3-b5c4-03f8a4b22d12",
   "metadata": {},
   "outputs": [],
   "source": [
    "fig.show(renderer=\"browser\")\n"
   ]
  },
  {
   "cell_type": "markdown",
   "id": "86e70c15-8537-453d-8dce-49fb341d278d",
   "metadata": {},
   "source": [
    "#### what's the overlap for significant genes between real, pseudo?"
   ]
  },
  {
   "cell_type": "code",
   "execution_count": null,
   "id": "5594879a-fdeb-4ac8-ae8d-77e7bf5d5a7a",
   "metadata": {},
   "outputs": [],
   "source": [
    "df_gene_stats_by_immune[\"percentile_neglog10pval_pseudo\"] = df_gene_stats_by_immune[\n",
    "    \"neglog10pval_pseudo\"\n",
    "].rank(pct=True)\n",
    "df_gene_stats_by_immune[\"percentile_neglog10pval_real\"] = df_gene_stats_by_immune[\n",
    "    \"neglog10pval_real\"\n",
    "].rank(pct=True)\n"
   ]
  },
  {
   "cell_type": "code",
   "execution_count": null,
   "id": "27d722b5-33ab-40fa-b9f0-6282a83cccfd",
   "metadata": {},
   "outputs": [],
   "source": [
    "THRESHOLD = 0.9\n",
    "\n",
    "df_gene_stats_by_immune[\"top_pseudo\"] = (\n",
    "    df_gene_stats_by_immune[\"percentile_neglog10pval_pseudo\"] > THRESHOLD\n",
    ")\n",
    "df_gene_stats_by_immune[\"top_real\"] = (\n",
    "    df_gene_stats_by_immune[\"percentile_neglog10pval_real\"] > THRESHOLD\n",
    ")\n",
    "df_gene_stats_by_immune[\"top_both\"] = (\n",
    "    df_gene_stats_by_immune[\"top_pseudo\"] & df_gene_stats_by_immune[\"top_real\"]\n",
    ")\n",
    "pd.crosstab(df_gene_stats_by_immune[\"top_pseudo\"], df_gene_stats_by_immune[\"top_real\"])\n"
   ]
  },
  {
   "cell_type": "code",
   "execution_count": null,
   "id": "7fae17b9-8411-40f2-a829-c6889fa0c523",
   "metadata": {},
   "outputs": [],
   "source": [
    "# TODO - a good summary stat here would be the odds ratio of this contingency table\n"
   ]
  },
  {
   "cell_type": "code",
   "execution_count": null,
   "id": "7f2af718-f672-45bb-989e-d8047fd2f84c",
   "metadata": {},
   "outputs": [],
   "source": [
    "# TODO - benjamini hochberg for a FDR-corrected significance test (use FDR of 0.1)\n"
   ]
  },
  {
   "cell_type": "code",
   "execution_count": null,
   "id": "5d4d23ff-4baa-4449-baf3-c73b9d44969d",
   "metadata": {},
   "outputs": [],
   "source": [
    "# TODO - also do scatter for fold change\n"
   ]
  },
  {
   "cell_type": "code",
   "execution_count": null,
   "id": "10379cb6-31a4-4b9b-aaf9-2c4007949081",
   "metadata": {},
   "outputs": [],
   "source": [
    "# is it the same genes that showed up in the PCA analysis?\n"
   ]
  },
  {
   "cell_type": "code",
   "execution_count": null,
   "id": "0a8c96dc-c9c8-44a9-86c5-bbe77e7009fe",
   "metadata": {},
   "outputs": [],
   "source": []
  },
  {
   "cell_type": "code",
   "execution_count": null,
   "id": "db746ec3-aadd-48a5-904b-881ee01d9034",
   "metadata": {},
   "outputs": [],
   "source": []
  }
 ],
 "metadata": {
  "environment": {
   "kernel": "conda-env-deconv-py",
   "name": "common-cpu.m91",
   "type": "gcloud",
   "uri": "gcr.io/deeplearning-platform-release/base-cpu:m91"
  },
  "kernelspec": {
   "display_name": "Python 3.10.5 ('deconv')",
   "language": "python",
   "name": "python3"
  },
  "language_info": {
   "codemirror_mode": {
    "name": "ipython",
    "version": 3
   },
   "file_extension": ".py",
   "mimetype": "text/x-python",
   "name": "python",
   "nbconvert_exporter": "python",
   "pygments_lexer": "ipython3",
   "version": "3.10.5"
  },
  "vscode": {
   "interpreter": {
    "hash": "637acf9a507e8d913a30d421b6f20878bbaf50f47d6d3c99f5c08459efbf7098"
   }
  }
 },
 "nbformat": 4,
 "nbformat_minor": 5
}
