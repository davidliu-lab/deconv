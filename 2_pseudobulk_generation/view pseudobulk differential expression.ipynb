{
 "cells": [
  {
   "cell_type": "code",
   "execution_count": 1,
   "id": "b9ae938b-cab9-4de6-8dfc-61ffa0170e2f",
   "metadata": {},
   "outputs": [],
   "source": [
    "import logging\n",
    "import os\n",
    "from pprint import pprint\n",
    "\n",
    "import dask.dataframe as dd\n",
    "import helpers\n",
    "import numpy as np\n",
    "import pandas as pd\n",
    "import scipy.stats\n",
    "from cloudpathlib import AnyPath as Path"
   ]
  },
  {
   "cell_type": "code",
   "execution_count": 2,
   "id": "496c10b4-cbf1-4a71-8815-a4b36f7ef05c",
   "metadata": {},
   "outputs": [],
   "source": [
    "handler = logging.StreamHandler()\n",
    "formatter = logging.Formatter(\n",
    "    \"%(asctime)s %(process)d/%(threadName)s %(name)s %(levelname)s\\n%(message)s\"\n",
    ")\n",
    "handler.setFormatter(formatter)\n",
    "logging.getLogger().handlers = [handler]"
   ]
  },
  {
   "cell_type": "code",
   "execution_count": 3,
   "id": "72c1cb85-94a5-4206-b337-fbd1243c520e",
   "metadata": {},
   "outputs": [],
   "source": [
    "logger = logging.getLogger(__name__)\n",
    "logger.setLevel(\"DEBUG\")"
   ]
  },
  {
   "cell_type": "code",
   "execution_count": 5,
   "id": "826ef583-35de-4818-907d-3466af2324d0",
   "metadata": {},
   "outputs": [
    {
     "name": "stderr",
     "output_type": "stream",
     "text": [
      "2022-07-04 16:32:48,047 32429/MainThread __main__ DEBUG\n",
      "gene_symbol        category\n",
      "aliquot_barcode    category\n",
      "tpm                 float64\n",
      "dtype: object\n"
     ]
    }
   ],
   "source": [
    "uri_real_bulk_rnaseq = \"gs://liulab/data/pseudobulk_optimization/3_with_tcga_qc/mixtures_real_tcga_skcm/tpm.parquet\"\n",
    "real_bulk_rnaseq = dd.read_parquet(uri_real_bulk_rnaseq, engine=\"pyarrow\")\n",
    "logger.debug(real_bulk_rnaseq.dtypes)"
   ]
  },
  {
   "cell_type": "code",
   "execution_count": 6,
   "id": "33a4b7d1-b8ea-4ac4-ad5c-6dcbcb5c3d70",
   "metadata": {},
   "outputs": [
    {
     "name": "stderr",
     "output_type": "stream",
     "text": [
      "2022-07-04 16:32:48,512 32429/MainThread __main__ DEBUG\n",
      "gene_symbol                           category\n",
      "tcga_aliquot_barcode_for_fractions    category\n",
      "tpm                                    float64\n",
      "n_cells                                  uint8\n",
      "malignant_from_one_sample                 bool\n",
      "dtype: object\n"
     ]
    }
   ],
   "source": [
    "uri_pseudobulk_rnaseq = (\n",
    "    \"gs://liulab/data/pseudobulk_optimization/3_with_tcga_qc/mixtures\"\n",
    ")\n",
    "# !gsutil ls -lhR {uri_pseudobulks} | grep data.parquet | head\n",
    "pseudobulk_rnaseq = (\n",
    "    # all this stuff\n",
    "    dd.read_parquet(uri_pseudobulk_rnaseq, engine=\"pyarrow\")\n",
    "    .replace({\"malignant_from_one_sample\": {\"True\": True, \"False\": False}})\n",
    "    .astype({\"n_cells\": \"uint8\", \"malignant_from_one_sample\": \"bool\"})\n",
    ")\n",
    "logger.debug(pseudobulk_rnaseq.dtypes)"
   ]
  },
  {
   "cell_type": "code",
   "execution_count": 8,
   "id": "0b23ad3e-32cc-41a1-977e-40fbfd5bc64c",
   "metadata": {},
   "outputs": [
    {
     "name": "stderr",
     "output_type": "stream",
     "text": [
      "/opt/conda/envs/deconv/lib/python3.10/site-packages/dask/utils.py:1053: FutureWarning: The `inplace` parameter in pandas.Categorical.rename_categories is deprecated and will be removed in a future version. Removing unused categories will always return a new Categorical object.\n",
      "  return getattr(__obj, self.method)(*args, **kwargs)\n"
     ]
    },
    {
     "data": {
      "text/html": [
       "<div>\n",
       "<style scoped>\n",
       "    .dataframe tbody tr th:only-of-type {\n",
       "        vertical-align: middle;\n",
       "    }\n",
       "\n",
       "    .dataframe tbody tr th {\n",
       "        vertical-align: top;\n",
       "    }\n",
       "\n",
       "    .dataframe thead th {\n",
       "        text-align: right;\n",
       "    }\n",
       "</style>\n",
       "<table border=\"1\" class=\"dataframe\">\n",
       "  <thead>\n",
       "    <tr style=\"text-align: right;\">\n",
       "      <th></th>\n",
       "      <th>gene_symbol</th>\n",
       "      <th>tcga_aliquot_barcode_for_fractions</th>\n",
       "      <th>tpm</th>\n",
       "      <th>n_cells</th>\n",
       "      <th>malignant_from_one_sample</th>\n",
       "    </tr>\n",
       "  </thead>\n",
       "  <tbody>\n",
       "    <tr>\n",
       "      <th>0</th>\n",
       "      <td>A1BG</td>\n",
       "      <td>TCGA-3N-A9WB-06A-11R-A38C-07</td>\n",
       "      <td>106.644738</td>\n",
       "      <td>5</td>\n",
       "      <td>True</td>\n",
       "    </tr>\n",
       "    <tr>\n",
       "      <th>1</th>\n",
       "      <td>A1BG</td>\n",
       "      <td>TCGA-3N-A9WC-06A-11R-A38C-07</td>\n",
       "      <td>72.082156</td>\n",
       "      <td>5</td>\n",
       "      <td>True</td>\n",
       "    </tr>\n",
       "    <tr>\n",
       "      <th>2</th>\n",
       "      <td>A1BG</td>\n",
       "      <td>TCGA-3N-A9WD-06A-11R-A38C-07</td>\n",
       "      <td>48.453905</td>\n",
       "      <td>5</td>\n",
       "      <td>True</td>\n",
       "    </tr>\n",
       "    <tr>\n",
       "      <th>3</th>\n",
       "      <td>A1BG</td>\n",
       "      <td>TCGA-BF-AAP0-06A-11R-A39D-07</td>\n",
       "      <td>29.958744</td>\n",
       "      <td>5</td>\n",
       "      <td>True</td>\n",
       "    </tr>\n",
       "    <tr>\n",
       "      <th>4</th>\n",
       "      <td>A1BG</td>\n",
       "      <td>TCGA-D3-A1Q1-06A-21R-A18T-07</td>\n",
       "      <td>38.982455</td>\n",
       "      <td>5</td>\n",
       "      <td>True</td>\n",
       "    </tr>\n",
       "    <tr>\n",
       "      <th>...</th>\n",
       "      <td>...</td>\n",
       "      <td>...</td>\n",
       "      <td>...</td>\n",
       "      <td>...</td>\n",
       "      <td>...</td>\n",
       "    </tr>\n",
       "    <tr>\n",
       "      <th>5911179</th>\n",
       "      <td>ZZZ3</td>\n",
       "      <td>TCGA-YG-AA3O-06A-11R-A38C-07</td>\n",
       "      <td>51.707960</td>\n",
       "      <td>5</td>\n",
       "      <td>True</td>\n",
       "    </tr>\n",
       "    <tr>\n",
       "      <th>5911180</th>\n",
       "      <td>ZZZ3</td>\n",
       "      <td>TCGA-YG-AA3P-06A-11R-A38C-07</td>\n",
       "      <td>52.941551</td>\n",
       "      <td>5</td>\n",
       "      <td>True</td>\n",
       "    </tr>\n",
       "    <tr>\n",
       "      <th>5911181</th>\n",
       "      <td>ZZZ3</td>\n",
       "      <td>TCGA-Z2-A8RT-06A-11R-A37K-07</td>\n",
       "      <td>34.450564</td>\n",
       "      <td>5</td>\n",
       "      <td>True</td>\n",
       "    </tr>\n",
       "    <tr>\n",
       "      <th>5911182</th>\n",
       "      <td>ZZZ3</td>\n",
       "      <td>TCGA-Z2-AA3S-06A-11R-A39D-07</td>\n",
       "      <td>190.622405</td>\n",
       "      <td>5</td>\n",
       "      <td>True</td>\n",
       "    </tr>\n",
       "    <tr>\n",
       "      <th>5911183</th>\n",
       "      <td>ZZZ3</td>\n",
       "      <td>TCGA-Z2-AA3V-06A-11R-A39D-07</td>\n",
       "      <td>48.648283</td>\n",
       "      <td>5</td>\n",
       "      <td>True</td>\n",
       "    </tr>\n",
       "  </tbody>\n",
       "</table>\n",
       "<p>5911184 rows × 5 columns</p>\n",
       "</div>"
      ],
      "text/plain": [
       "        gene_symbol tcga_aliquot_barcode_for_fractions         tpm  n_cells  \\\n",
       "0              A1BG       TCGA-3N-A9WB-06A-11R-A38C-07  106.644738        5   \n",
       "1              A1BG       TCGA-3N-A9WC-06A-11R-A38C-07   72.082156        5   \n",
       "2              A1BG       TCGA-3N-A9WD-06A-11R-A38C-07   48.453905        5   \n",
       "3              A1BG       TCGA-BF-AAP0-06A-11R-A39D-07   29.958744        5   \n",
       "4              A1BG       TCGA-D3-A1Q1-06A-21R-A18T-07   38.982455        5   \n",
       "...             ...                                ...         ...      ...   \n",
       "5911179        ZZZ3       TCGA-YG-AA3O-06A-11R-A38C-07   51.707960        5   \n",
       "5911180        ZZZ3       TCGA-YG-AA3P-06A-11R-A38C-07   52.941551        5   \n",
       "5911181        ZZZ3       TCGA-Z2-A8RT-06A-11R-A37K-07   34.450564        5   \n",
       "5911182        ZZZ3       TCGA-Z2-AA3S-06A-11R-A39D-07  190.622405        5   \n",
       "5911183        ZZZ3       TCGA-Z2-AA3V-06A-11R-A39D-07   48.648283        5   \n",
       "\n",
       "         malignant_from_one_sample  \n",
       "0                             True  \n",
       "1                             True  \n",
       "2                             True  \n",
       "3                             True  \n",
       "4                             True  \n",
       "...                            ...  \n",
       "5911179                       True  \n",
       "5911180                       True  \n",
       "5911181                       True  \n",
       "5911182                       True  \n",
       "5911183                       True  \n",
       "\n",
       "[5911184 rows x 5 columns]"
      ]
     },
     "execution_count": 8,
     "metadata": {},
     "output_type": "execute_result"
    }
   ],
   "source": [
    "pseudobulk_rnaseq.query(\"n_cells == 5 and malignant_from_one_sample == True\").compute()"
   ]
  },
  {
   "cell_type": "code",
   "execution_count": 10,
   "id": "bca22cef",
   "metadata": {},
   "outputs": [
    {
     "data": {
      "text/plain": [
       "TCGA-3N-A9WB-06A-11R-A38C-07    16063\n",
       "TCGA-ER-A2NF-06A-11R-A18T-07    16063\n",
       "TCGA-FR-A3YN-06A-11R-A239-07    16063\n",
       "TCGA-ER-A42L-06A-11R-A24X-07    16063\n",
       "TCGA-ER-A42K-06A-11R-A24X-07    16063\n",
       "                                ...  \n",
       "TCGA-EE-A17X-06A-11R-A18S-07    16063\n",
       "TCGA-EB-A6L9-06A-11R-A32P-07    16063\n",
       "TCGA-EB-A5VV-06A-11R-A32P-07    16063\n",
       "TCGA-EB-A5UN-06A-11R-A311-07    16063\n",
       "TCGA-Z2-AA3V-06A-11R-A39D-07    16063\n",
       "Name: tcga_aliquot_barcode_for_fractions, Length: 368, dtype: int64"
      ]
     },
     "execution_count": 10,
     "metadata": {},
     "output_type": "execute_result"
    }
   ],
   "source": [
    "Out[8][\"tcga_aliquot_barcode_for_fractions\"].value_counts()"
   ]
  },
  {
   "cell_type": "code",
   "execution_count": null,
   "id": "a329bff9",
   "metadata": {},
   "outputs": [],
   "source": []
  }
 ],
 "metadata": {
  "environment": {
   "kernel": "conda-env-deconv-py",
   "name": "common-cpu.m91",
   "type": "gcloud",
   "uri": "gcr.io/deeplearning-platform-release/base-cpu:m91"
  },
  "kernelspec": {
   "display_name": "Python [conda env:deconv]",
   "language": "python",
   "name": "conda-env-deconv-py"
  },
  "language_info": {
   "codemirror_mode": {
    "name": "ipython",
    "version": 3
   },
   "file_extension": ".py",
   "mimetype": "text/x-python",
   "name": "python",
   "nbconvert_exporter": "python",
   "pygments_lexer": "ipython3",
   "version": "3.10.4"
  },
  "vscode": {
   "interpreter": {
    "hash": "1a6cdd7b31d7d7571dae616f9bd8baacffeff07e03f8c5af29d1d744001d362d"
   }
  }
 },
 "nbformat": 4,
 "nbformat_minor": 5
}
