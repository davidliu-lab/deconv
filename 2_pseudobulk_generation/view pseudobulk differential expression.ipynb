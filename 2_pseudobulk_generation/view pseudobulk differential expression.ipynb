{
 "cells": [
  {
   "cell_type": "code",
   "execution_count": 1,
   "id": "b9ae938b-cab9-4de6-8dfc-61ffa0170e2f",
   "metadata": {},
   "outputs": [],
   "source": [
    "import logging\n",
    "import os\n",
    "from pprint import pprint\n",
    "\n",
    "import dask.dataframe as dd\n",
    "import numpy as np\n",
    "import pandas as pd\n",
    "import scipy.stats\n",
    "from cloudpathlib import AnyPath as Path"
   ]
  },
  {
   "cell_type": "code",
   "execution_count": 2,
   "id": "496c10b4-cbf1-4a71-8815-a4b36f7ef05c",
   "metadata": {},
   "outputs": [],
   "source": [
    "handler = logging.StreamHandler()\n",
    "formatter = logging.Formatter(\n",
    "    \"%(asctime)s %(process)d/%(threadName)s %(name)s %(levelname)s\\n%(message)s\"\n",
    ")\n",
    "handler.setFormatter(formatter)\n",
    "logging.getLogger().handlers = [handler]"
   ]
  },
  {
   "cell_type": "code",
   "execution_count": 3,
   "id": "72c1cb85-94a5-4206-b337-fbd1243c520e",
   "metadata": {},
   "outputs": [],
   "source": [
    "logger = logging.getLogger(__name__)\n",
    "logger.setLevel(\"DEBUG\")"
   ]
  },
  {
   "cell_type": "code",
   "execution_count": 4,
   "id": "826ef583-35de-4818-907d-3466af2324d0",
   "metadata": {},
   "outputs": [
    {
     "name": "stderr",
     "output_type": "stream",
     "text": [
      "2022-07-04 14:21:26,372 14643/MainThread __main__ DEBUG\n",
      "gene_symbol        category\n",
      "aliquot_barcode    category\n",
      "tpm                 float64\n",
      "dtype: object\n"
     ]
    }
   ],
   "source": [
    "uri_real_bulks = \"gs://liulab/data/pseudobulk_optimization/3_with_tcga_qc/mixtures_real_tcga_skcm/tpm.parquet\"\n",
    "real_bulks = dd.read_parquet(uri_real_bulks, engine=\"pyarrow\")\n",
    "logger.debug(real_bulks.dtypes)"
   ]
  },
  {
   "cell_type": "code",
   "execution_count": 5,
   "id": "33a4b7d1-b8ea-4ac4-ad5c-6dcbcb5c3d70",
   "metadata": {},
   "outputs": [
    {
     "name": "stderr",
     "output_type": "stream",
     "text": [
      "2022-07-04 14:21:26,887 14643/MainThread __main__ DEBUG\n",
      "gene_symbol                           category\n",
      "tcga_aliquot_barcode_for_fractions    category\n",
      "tpm                                    float64\n",
      "n_cells                                  uint8\n",
      "malignant_from_one_sample                 bool\n",
      "dtype: object\n"
     ]
    }
   ],
   "source": [
    "uri_pseudobulks = \"gs://liulab/data/pseudobulk_optimization/3_with_tcga_qc/mixtures\"\n",
    "# !gsutil ls -lhR {uri_pseudobulks} | grep data.parquet | head\n",
    "pseudobulks = dd.read_parquet(uri_pseudobulks, engine=\"pyarrow\")\n",
    "pseudobulks = pseudobulks.replace(\n",
    "    {\"malignant_from_one_sample\": {\"True\": True, \"False\": False}}\n",
    ")\n",
    "pseudobulks = pseudobulks.astype(\n",
    "    {\"n_cells\": \"uint8\", \"malignant_from_one_sample\": \"bool\"}\n",
    ")\n",
    "logger.debug(pseudobulks.dtypes)"
   ]
  },
  {
   "cell_type": "code",
   "execution_count": null,
   "id": "0b23ad3e-32cc-41a1-977e-40fbfd5bc64c",
   "metadata": {},
   "outputs": [],
   "source": []
  }
 ],
 "metadata": {
  "environment": {
   "kernel": "conda-env-deconv-py",
   "name": "common-cpu.m91",
   "type": "gcloud",
   "uri": "gcr.io/deeplearning-platform-release/base-cpu:m91"
  },
  "kernelspec": {
   "display_name": "Python [conda env:deconv]",
   "language": "python",
   "name": "conda-env-deconv-py"
  },
  "language_info": {
   "codemirror_mode": {
    "name": "ipython",
    "version": 3
   },
   "file_extension": ".py",
   "mimetype": "text/x-python",
   "name": "python",
   "nbconvert_exporter": "python",
   "pygments_lexer": "ipython3",
   "version": "3.10.4"
  }
 },
 "nbformat": 4,
 "nbformat_minor": 5
}
