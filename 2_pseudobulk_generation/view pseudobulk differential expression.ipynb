{
 "cells": [
  {
   "cell_type": "markdown",
   "id": "e40dd1ff-8199-401d-8803-23ecfd5e73eb",
   "metadata": {},
   "source": [
    "# imports & setup"
   ]
  },
  {
   "cell_type": "code",
   "execution_count": 28,
   "id": "b9ae938b-cab9-4de6-8dfc-61ffa0170e2f",
   "metadata": {},
   "outputs": [],
   "source": [
    "import importlib\n",
    "import logging\n",
    "import os\n",
    "from pprint import pprint\n",
    "\n",
    "import dask\n",
    "import dask.dataframe as dd\n",
    "import helpers\n",
    "import numpy as np\n",
    "import pandas as pd\n",
    "import scipy.stats\n",
    "from cloudpathlib import AnyPath as Path\n",
    "from helpers.pseudobulk_evaluation import deg_analysis"
   ]
  },
  {
   "cell_type": "code",
   "execution_count": 2,
   "id": "ef109bd2-62e6-4d65-9a2a-489265457c41",
   "metadata": {},
   "outputs": [],
   "source": [
    "import warnings\n",
    "\n",
    "warnings.filterwarnings(\"ignore\")"
   ]
  },
  {
   "cell_type": "code",
   "execution_count": 3,
   "id": "496c10b4-cbf1-4a71-8815-a4b36f7ef05c",
   "metadata": {},
   "outputs": [],
   "source": [
    "handler = logging.StreamHandler()\n",
    "formatter = logging.Formatter(\n",
    "    \"%(asctime)s %(process)d/%(threadName)s %(name)s %(levelname)s\\n%(message)s\"\n",
    ")\n",
    "handler.setFormatter(formatter)\n",
    "logging.getLogger().handlers = [handler]"
   ]
  },
  {
   "cell_type": "code",
   "execution_count": 4,
   "id": "9ae2823d-5cdf-46e8-a561-5204515758f8",
   "metadata": {},
   "outputs": [],
   "source": [
    "logging.getLogger(\"gcsfs\").setLevel(\"DEBUG\")\n",
    "logging.getLogger(\"google.cloud.bigquery\").setLevel(\"DEBUG\")\n",
    "logging.getLogger(\"helpers\").setLevel(\"DEBUG\")\n",
    "logging.getLogger(\"pandas\").setLevel(\"DEBUG\")\n",
    "logging.getLogger(\"pyarrow\").setLevel(\"DEBUG\")"
   ]
  },
  {
   "cell_type": "code",
   "execution_count": 5,
   "id": "72c1cb85-94a5-4206-b337-fbd1243c520e",
   "metadata": {},
   "outputs": [
    {
     "name": "stderr",
     "output_type": "stream",
     "text": [
      "2022-07-17 13:59:47,633 30524/MainThread __main__ DEBUG\n",
      "test debug-level message\n"
     ]
    }
   ],
   "source": [
    "logger = logging.getLogger(__name__)\n",
    "logger.setLevel(\"DEBUG\")\n",
    "logger.debug(\"test debug-level message\")"
   ]
  },
  {
   "cell_type": "markdown",
   "id": "f69f7523-53f5-4d83-915c-78ce4ed672e7",
   "metadata": {},
   "source": [
    "# loading data"
   ]
  },
  {
   "cell_type": "markdown",
   "id": "f911e0c2-c402-4c4e-a987-8e7257d5bcc9",
   "metadata": {},
   "source": [
    "## metadata"
   ]
  },
  {
   "cell_type": "markdown",
   "id": "07c4c423-027d-4e82-a61a-402e4e5f948f",
   "metadata": {
    "jp-MarkdownHeadingCollapsed": true,
    "tags": []
   },
   "source": [
    "### TCGA SKCM fractions (estimated)"
   ]
  },
  {
   "cell_type": "code",
   "execution_count": 6,
   "id": "4d6f1548-8f5d-4596-9f3f-41be57915288",
   "metadata": {},
   "outputs": [
    {
     "name": "stderr",
     "output_type": "stream",
     "text": [
      "2022-07-17 13:59:47,640 30524/MainThread helpers.datasets DEBUG\n",
      "loading TCGA SKCM fractions estimated by CIBERSORTx\n",
      "2022-07-17 13:59:47,723 30524/MainThread gcsfs.credentials DEBUG\n",
      "Connected with method google_default\n",
      "2022-07-17 13:59:47,726 30524/fsspecIO gcsfs DEBUG\n",
      "GET: b/{}/o/{}, ('liulab', 'downloaded_manually/derek_csx_tcga_skcm/CIBERSORTx_Job8_Results.txt'), None\n",
      "2022-07-17 13:59:47,727 30524/fsspecIO gcsfs.credentials DEBUG\n",
      "GCS refresh\n",
      "2022-07-17 13:59:47,783 30524/fsspecIO gcsfs DEBUG\n",
      "GET: https://storage.googleapis.com/download/storage/v1/b/liulab/o/downloaded_manually%2Fderek_csx_tcga_skcm%2FCIBERSORTx_Job8_Results.txt?alt=media, (), {'Range': 'bytes=0-86860'}\n"
     ]
    }
   ],
   "source": [
    "df_tcga_skcm_fractions_from_csx = helpers.datasets.load_tcga_skcm_fractions_from_csx()"
   ]
  },
  {
   "cell_type": "markdown",
   "id": "2c18c05b",
   "metadata": {
    "jp-MarkdownHeadingCollapsed": true,
    "tags": []
   },
   "source": [
    "### TCGA SKCM sample types (metastatic, primary, etc)"
   ]
  },
  {
   "cell_type": "code",
   "execution_count": 7,
   "id": "ef6d29b4",
   "metadata": {},
   "outputs": [
    {
     "name": "stderr",
     "output_type": "stream",
     "text": [
      "Downloading:   0%|          | 0/369 [00:00<?, ?rows/s]2022-07-17 13:59:49,282 30524/MainThread google.cloud.bigquery._pandas_helpers DEBUG\n",
      "Started reading table 'keen-dispatch-316219._37d4cdf3349bb7a5059aac014cff35ac3e47f49a.anoncb9e35280e378cfd469a3b47dd8c4779777f6ac2' with BQ Storage API session 'projects/keen-dispatch-316219/locations/us/sessions/CAISDGs1aEY1N0p4dmZoMRoCamYaAmpk'.\n",
      "Downloading: 100%|██████████| 369/369 [00:01<00:00, 315.78rows/s]\n"
     ]
    }
   ],
   "source": [
    "from google.cloud import bigquery\n",
    "\n",
    "bqclient = bigquery.Client()\n",
    "\n",
    "query_string = \"\"\"\n",
    "SELECT * \n",
    "FROM `isb-cgc-bq.TCGA.biospecimen_gdc_current`\n",
    "where project_short_name = \"TCGA-SKCM\"\n",
    "    and sample_type_name = \"Metastatic\"\n",
    "order by sample_barcode\n",
    "\"\"\"\n",
    "\n",
    "df_tcga_sample_metadata = (\n",
    "    bqclient.query(query_string).result().to_dataframe(progress_bar_type=\"tqdm\")\n",
    ")"
   ]
  },
  {
   "cell_type": "markdown",
   "id": "4b5f0feb-8d37-4399-956f-97796b21970e",
   "metadata": {
    "tags": []
   },
   "source": [
    "## RNA-seq TPM"
   ]
  },
  {
   "cell_type": "markdown",
   "id": "b69b1432-0427-44ce-8f78-5d516db19407",
   "metadata": {
    "jp-MarkdownHeadingCollapsed": true,
    "tags": []
   },
   "source": [
    "### TCGA SKCM (real) bulk rna-seq"
   ]
  },
  {
   "cell_type": "code",
   "execution_count": 8,
   "id": "e376249e-d12f-4ed0-8629-da29ff0db1c7",
   "metadata": {},
   "outputs": [],
   "source": [
    "uri_tcga_skcm_bulk_rnaseq = (\n",
    "    \"gs://liulab/data/pseudobulk_optimization/3_with_tcga_qc/\"\n",
    "    \"mixtures_real_tcga_skcm/tpm.parquet\"\n",
    ")"
   ]
  },
  {
   "cell_type": "code",
   "execution_count": 10,
   "id": "826ef583-35de-4818-907d-3466af2324d0",
   "metadata": {},
   "outputs": [
    {
     "name": "stderr",
     "output_type": "stream",
     "text": [
      "2022-07-17 13:59:51,421 30524/fsspecIO gcsfs DEBUG\n",
      "GET: b/{}/o/{}, ('liulab', 'data/pseudobulk_optimization/3_with_tcga_qc/mixtures_real_tcga_skcm/tpm.parquet'), None\n",
      "2022-07-17 13:59:51,451 30524/fsspecIO gcsfs DEBUG\n",
      "GET: b/{}/o/{}, ('liulab', 'data/pseudobulk_optimization/3_with_tcga_qc/mixtures_real_tcga_skcm/tpm.parquet'), None\n",
      "2022-07-17 13:59:51,484 30524/fsspecIO gcsfs DEBUG\n",
      "GET: b/{}/o/{}, ('liulab', 'data/pseudobulk_optimization/3_with_tcga_qc/mixtures_real_tcga_skcm/tpm.parquet'), None\n",
      "2022-07-17 13:59:51,513 30524/fsspecIO gcsfs DEBUG\n",
      "GET: https://storage.googleapis.com/download/storage/v1/b/liulab/o/data%2Fpseudobulk_optimization%2F3_with_tcga_qc%2Fmixtures_real_tcga_skcm%2Ftpm.parquet?alt=media, (), {'Range': 'bytes=47361643-47427178'}\n",
      "2022-07-17 13:59:51,552 30524/fsspecIO gcsfs DEBUG\n",
      "GET: b/{}/o/{}, ('liulab', 'data/pseudobulk_optimization/3_with_tcga_qc/mixtures_real_tcga_skcm/tpm.parquet'), None\n",
      "2022-07-17 13:59:51,582 30524/fsspecIO gcsfs DEBUG\n",
      "GET: b/{}/o/{}, ('liulab', 'data/pseudobulk_optimization/3_with_tcga_qc/mixtures_real_tcga_skcm/tpm.parquet'), None\n",
      "2022-07-17 13:59:51,617 30524/fsspecIO gcsfs DEBUG\n",
      "GET: https://storage.googleapis.com/download/storage/v1/b/liulab/o/data%2Fpseudobulk_optimization%2F3_with_tcga_qc%2Fmixtures_real_tcga_skcm%2Ftpm.parquet?alt=media, (), {'Range': 'bytes=47361643-47427178'}\n",
      "2022-07-17 13:59:51,660 30524/MainThread __main__ DEBUG\n",
      "gene_symbol        category\n",
      "aliquot_barcode    category\n",
      "tpm                 float64\n",
      "dtype: object\n"
     ]
    }
   ],
   "source": [
    "ddf_tcga_skcm_bulk_rnaseq = dd.read_parquet(uri_tcga_skcm_bulk_rnaseq, engine=\"pyarrow\")\n",
    "logger.debug(ddf_tcga_skcm_bulk_rnaseq.dtypes)"
   ]
  },
  {
   "cell_type": "code",
   "execution_count": 11,
   "id": "d52d12f7-1ef4-42ce-97db-d7274f765e91",
   "metadata": {},
   "outputs": [
    {
     "data": {
      "text/html": [
       "<div><strong>Dask DataFrame Structure:</strong></div>\n",
       "<div>\n",
       "<style scoped>\n",
       "    .dataframe tbody tr th:only-of-type {\n",
       "        vertical-align: middle;\n",
       "    }\n",
       "\n",
       "    .dataframe tbody tr th {\n",
       "        vertical-align: top;\n",
       "    }\n",
       "\n",
       "    .dataframe thead th {\n",
       "        text-align: right;\n",
       "    }\n",
       "</style>\n",
       "<table border=\"1\" class=\"dataframe\">\n",
       "  <thead>\n",
       "    <tr style=\"text-align: right;\">\n",
       "      <th></th>\n",
       "      <th>gene_symbol</th>\n",
       "      <th>aliquot_barcode</th>\n",
       "      <th>tpm</th>\n",
       "    </tr>\n",
       "    <tr>\n",
       "      <th>npartitions=1</th>\n",
       "      <th></th>\n",
       "      <th></th>\n",
       "      <th></th>\n",
       "    </tr>\n",
       "  </thead>\n",
       "  <tbody>\n",
       "    <tr>\n",
       "      <th></th>\n",
       "      <td>category[unknown]</td>\n",
       "      <td>category[unknown]</td>\n",
       "      <td>float64</td>\n",
       "    </tr>\n",
       "    <tr>\n",
       "      <th></th>\n",
       "      <td>...</td>\n",
       "      <td>...</td>\n",
       "      <td>...</td>\n",
       "    </tr>\n",
       "  </tbody>\n",
       "</table>\n",
       "</div>\n",
       "<div>Dask Name: read-parquet, 1 tasks</div>"
      ],
      "text/plain": [
       "Dask DataFrame Structure:\n",
       "                     gene_symbol    aliquot_barcode      tpm\n",
       "npartitions=1                                               \n",
       "               category[unknown]  category[unknown]  float64\n",
       "                             ...                ...      ...\n",
       "Dask Name: read-parquet, 1 tasks"
      ]
     },
     "execution_count": 11,
     "metadata": {},
     "output_type": "execute_result"
    }
   ],
   "source": [
    "ddf_tcga_skcm_bulk_rnaseq"
   ]
  },
  {
   "cell_type": "markdown",
   "id": "e10a09b4-c01f-4212-b821-78300fced534",
   "metadata": {
    "jp-MarkdownHeadingCollapsed": true,
    "tags": []
   },
   "source": [
    "### pseudo bulk rna-seq"
   ]
  },
  {
   "cell_type": "code",
   "execution_count": 12,
   "id": "fae127db-1180-4f7e-aec4-63432f03e2dd",
   "metadata": {},
   "outputs": [],
   "source": [
    "uri_pseudobulk_rnaseq = (\n",
    "    \"gs://liulab/data/pseudobulk_optimization/3_with_tcga_qc/\"\n",
    "    \"mixtures/n_cells=5/malignant_from_one_sample=True/data.parquet\"\n",
    ")"
   ]
  },
  {
   "cell_type": "code",
   "execution_count": 14,
   "id": "33a4b7d1-b8ea-4ac4-ad5c-6dcbcb5c3d70",
   "metadata": {},
   "outputs": [
    {
     "name": "stderr",
     "output_type": "stream",
     "text": [
      "2022-07-17 13:59:53,739 30524/fsspecIO gcsfs DEBUG\n",
      "GET: b/{}/o/{}, ('liulab', 'data/pseudobulk_optimization/3_with_tcga_qc/mixtures/n_cells=5/malignant_from_one_sample=True/data.parquet'), None\n",
      "2022-07-17 13:59:53,771 30524/fsspecIO gcsfs DEBUG\n",
      "GET: b/{}/o/{}, ('liulab', 'data/pseudobulk_optimization/3_with_tcga_qc/mixtures/n_cells=5/malignant_from_one_sample=True/data.parquet'), None\n",
      "2022-07-17 13:59:53,802 30524/fsspecIO gcsfs DEBUG\n",
      "GET: b/{}/o/{}, ('liulab', 'data/pseudobulk_optimization/3_with_tcga_qc/mixtures/n_cells=5/malignant_from_one_sample=True/data.parquet'), None\n",
      "2022-07-17 13:59:53,833 30524/fsspecIO gcsfs DEBUG\n",
      "GET: https://storage.googleapis.com/download/storage/v1/b/liulab/o/data%2Fpseudobulk_optimization%2F3_with_tcga_qc%2Fmixtures%2Fn_cells=5%2Fmalignant_from_one_sample=True%2Fdata.parquet?alt=media, (), {'Range': 'bytes=41829238-41894773'}\n",
      "2022-07-17 13:59:53,880 30524/fsspecIO gcsfs DEBUG\n",
      "GET: b/{}/o/{}, ('liulab', 'data/pseudobulk_optimization/3_with_tcga_qc/mixtures/n_cells=5/malignant_from_one_sample=True/data.parquet'), None\n",
      "2022-07-17 13:59:53,914 30524/fsspecIO gcsfs DEBUG\n",
      "GET: b/{}/o/{}, ('liulab', 'data/pseudobulk_optimization/3_with_tcga_qc/mixtures/n_cells=5/malignant_from_one_sample=True/data.parquet'), None\n",
      "2022-07-17 13:59:53,941 30524/fsspecIO gcsfs DEBUG\n",
      "GET: https://storage.googleapis.com/download/storage/v1/b/liulab/o/data%2Fpseudobulk_optimization%2F3_with_tcga_qc%2Fmixtures%2Fn_cells=5%2Fmalignant_from_one_sample=True%2Fdata.parquet?alt=media, (), {'Range': 'bytes=41829238-41894773'}\n",
      "2022-07-17 13:59:53,999 30524/MainThread __main__ DEBUG\n",
      "gene_symbol                  category\n",
      "aliquot_barcode              category\n",
      "tpm                           float64\n",
      "n_cells                         uint8\n",
      "malignant_from_one_sample        bool\n",
      "dtype: object\n"
     ]
    }
   ],
   "source": [
    "ddf_pseudobulk_rnaseq = (\n",
    "    dd.read_parquet(\n",
    "        uri_pseudobulk_rnaseq,\n",
    "        engine=\"pyarrow\",\n",
    "    )\n",
    "    .replace({\"malignant_from_one_sample\": {\"True\": True, \"False\": False}})\n",
    "    .astype({\"n_cells\": \"uint8\", \"malignant_from_one_sample\": \"bool\"})\n",
    "    .rename(columns={\"tcga_aliquot_barcode_for_fractions\": \"aliquot_barcode\"})\n",
    ")\n",
    "\n",
    "logger.debug(ddf_pseudobulk_rnaseq.dtypes)"
   ]
  },
  {
   "cell_type": "code",
   "execution_count": 15,
   "id": "b7a21386-faea-417a-b76f-80d67d9b2f56",
   "metadata": {},
   "outputs": [
    {
     "data": {
      "text/html": [
       "<div><strong>Dask DataFrame Structure:</strong></div>\n",
       "<div>\n",
       "<style scoped>\n",
       "    .dataframe tbody tr th:only-of-type {\n",
       "        vertical-align: middle;\n",
       "    }\n",
       "\n",
       "    .dataframe tbody tr th {\n",
       "        vertical-align: top;\n",
       "    }\n",
       "\n",
       "    .dataframe thead th {\n",
       "        text-align: right;\n",
       "    }\n",
       "</style>\n",
       "<table border=\"1\" class=\"dataframe\">\n",
       "  <thead>\n",
       "    <tr style=\"text-align: right;\">\n",
       "      <th></th>\n",
       "      <th>gene_symbol</th>\n",
       "      <th>aliquot_barcode</th>\n",
       "      <th>tpm</th>\n",
       "      <th>n_cells</th>\n",
       "      <th>malignant_from_one_sample</th>\n",
       "    </tr>\n",
       "    <tr>\n",
       "      <th>npartitions=1</th>\n",
       "      <th></th>\n",
       "      <th></th>\n",
       "      <th></th>\n",
       "      <th></th>\n",
       "      <th></th>\n",
       "    </tr>\n",
       "  </thead>\n",
       "  <tbody>\n",
       "    <tr>\n",
       "      <th></th>\n",
       "      <td>category[unknown]</td>\n",
       "      <td>category[unknown]</td>\n",
       "      <td>float64</td>\n",
       "      <td>uint8</td>\n",
       "      <td>bool</td>\n",
       "    </tr>\n",
       "    <tr>\n",
       "      <th></th>\n",
       "      <td>...</td>\n",
       "      <td>...</td>\n",
       "      <td>...</td>\n",
       "      <td>...</td>\n",
       "      <td>...</td>\n",
       "    </tr>\n",
       "  </tbody>\n",
       "</table>\n",
       "</div>\n",
       "<div>Dask Name: rename, 4 tasks</div>"
      ],
      "text/plain": [
       "Dask DataFrame Structure:\n",
       "                     gene_symbol    aliquot_barcode      tpm n_cells malignant_from_one_sample\n",
       "npartitions=1                                                                                 \n",
       "               category[unknown]  category[unknown]  float64   uint8                      bool\n",
       "                             ...                ...      ...     ...                       ...\n",
       "Dask Name: rename, 4 tasks"
      ]
     },
     "execution_count": 15,
     "metadata": {},
     "output_type": "execute_result"
    }
   ],
   "source": [
    "ddf_pseudobulk_rnaseq"
   ]
  },
  {
   "cell_type": "markdown",
   "id": "9bab0bb0-188e-4631-b492-6f3cabc506ee",
   "metadata": {},
   "source": [
    "# analysis"
   ]
  },
  {
   "cell_type": "markdown",
   "id": "2c9a70e5-6b26-4cd2-b7a1-173cc965ab6e",
   "metadata": {
    "tags": []
   },
   "source": [
    "## determine immune high and low"
   ]
  },
  {
   "cell_type": "code",
   "execution_count": 86,
   "id": "125e90eb",
   "metadata": {},
   "outputs": [],
   "source": [
    "importlib.reload(helpers.pseudobulk_evaluation.deg_analysis)\n",
    "df_sample_metadata = deg_analysis.make_labels_for_aliquots(\n",
    "    df_tcga_skcm_fractions_from_csx, df_tcga_sample_metadata\n",
    ")"
   ]
  },
  {
   "cell_type": "code",
   "execution_count": 87,
   "id": "69626ace-c5f8-4ce2-bfc9-7758c5d4b8b3",
   "metadata": {},
   "outputs": [
    {
     "data": {
      "text/html": [
       "<div>\n",
       "<style scoped>\n",
       "    .dataframe tbody tr th:only-of-type {\n",
       "        vertical-align: middle;\n",
       "    }\n",
       "\n",
       "    .dataframe tbody tr th {\n",
       "        vertical-align: top;\n",
       "    }\n",
       "\n",
       "    .dataframe thead th {\n",
       "        text-align: right;\n",
       "    }\n",
       "</style>\n",
       "<table border=\"1\" class=\"dataframe\">\n",
       "  <thead>\n",
       "    <tr style=\"text-align: right;\">\n",
       "      <th></th>\n",
       "      <th>sample_barcode</th>\n",
       "      <th>sample_type_name</th>\n",
       "      <th>aliquot_barcode</th>\n",
       "      <th>immune_fraction</th>\n",
       "      <th>immune_low</th>\n",
       "      <th>immune_high</th>\n",
       "    </tr>\n",
       "  </thead>\n",
       "  <tbody>\n",
       "    <tr>\n",
       "      <th>0</th>\n",
       "      <td>TCGA-3N-A9WB-06A</td>\n",
       "      <td>Metastatic</td>\n",
       "      <td>TCGA-3N-A9WB-06A-11R-A38C-07</td>\n",
       "      <td>0.006247</td>\n",
       "      <td>True</td>\n",
       "      <td>False</td>\n",
       "    </tr>\n",
       "    <tr>\n",
       "      <th>1</th>\n",
       "      <td>TCGA-3N-A9WC-06A</td>\n",
       "      <td>Metastatic</td>\n",
       "      <td>TCGA-3N-A9WC-06A-11R-A38C-07</td>\n",
       "      <td>0.269736</td>\n",
       "      <td>False</td>\n",
       "      <td>True</td>\n",
       "    </tr>\n",
       "    <tr>\n",
       "      <th>2</th>\n",
       "      <td>TCGA-3N-A9WD-06A</td>\n",
       "      <td>Metastatic</td>\n",
       "      <td>TCGA-3N-A9WD-06A-11R-A38C-07</td>\n",
       "      <td>0.119879</td>\n",
       "      <td>False</td>\n",
       "      <td>False</td>\n",
       "    </tr>\n",
       "    <tr>\n",
       "      <th>3</th>\n",
       "      <td>TCGA-BF-AAP0-06A</td>\n",
       "      <td>Metastatic</td>\n",
       "      <td>TCGA-BF-AAP0-06A-11R-A39D-07</td>\n",
       "      <td>0.274458</td>\n",
       "      <td>False</td>\n",
       "      <td>True</td>\n",
       "    </tr>\n",
       "    <tr>\n",
       "      <th>4</th>\n",
       "      <td>TCGA-D3-A1Q1-06A</td>\n",
       "      <td>Metastatic</td>\n",
       "      <td>TCGA-D3-A1Q1-06A-21R-A18T-07</td>\n",
       "      <td>0.037102</td>\n",
       "      <td>False</td>\n",
       "      <td>False</td>\n",
       "    </tr>\n",
       "    <tr>\n",
       "      <th>...</th>\n",
       "      <td>...</td>\n",
       "      <td>...</td>\n",
       "      <td>...</td>\n",
       "      <td>...</td>\n",
       "      <td>...</td>\n",
       "      <td>...</td>\n",
       "    </tr>\n",
       "    <tr>\n",
       "      <th>363</th>\n",
       "      <td>TCGA-YG-AA3O-06A</td>\n",
       "      <td>Metastatic</td>\n",
       "      <td>TCGA-YG-AA3O-06A-11R-A38C-07</td>\n",
       "      <td>0.042878</td>\n",
       "      <td>False</td>\n",
       "      <td>False</td>\n",
       "    </tr>\n",
       "    <tr>\n",
       "      <th>364</th>\n",
       "      <td>TCGA-YG-AA3P-06A</td>\n",
       "      <td>Metastatic</td>\n",
       "      <td>TCGA-YG-AA3P-06A-11R-A38C-07</td>\n",
       "      <td>0.027623</td>\n",
       "      <td>False</td>\n",
       "      <td>False</td>\n",
       "    </tr>\n",
       "    <tr>\n",
       "      <th>365</th>\n",
       "      <td>TCGA-Z2-A8RT-06A</td>\n",
       "      <td>Metastatic</td>\n",
       "      <td>TCGA-Z2-A8RT-06A-11R-A37K-07</td>\n",
       "      <td>0.092170</td>\n",
       "      <td>False</td>\n",
       "      <td>False</td>\n",
       "    </tr>\n",
       "    <tr>\n",
       "      <th>366</th>\n",
       "      <td>TCGA-Z2-AA3S-06A</td>\n",
       "      <td>Metastatic</td>\n",
       "      <td>TCGA-Z2-AA3S-06A-11R-A39D-07</td>\n",
       "      <td>0.043985</td>\n",
       "      <td>False</td>\n",
       "      <td>False</td>\n",
       "    </tr>\n",
       "    <tr>\n",
       "      <th>367</th>\n",
       "      <td>TCGA-Z2-AA3V-06A</td>\n",
       "      <td>Metastatic</td>\n",
       "      <td>TCGA-Z2-AA3V-06A-11R-A39D-07</td>\n",
       "      <td>0.300102</td>\n",
       "      <td>False</td>\n",
       "      <td>True</td>\n",
       "    </tr>\n",
       "  </tbody>\n",
       "</table>\n",
       "<p>368 rows × 6 columns</p>\n",
       "</div>"
      ],
      "text/plain": [
       "       sample_barcode sample_type_name               aliquot_barcode  \\\n",
       "0    TCGA-3N-A9WB-06A       Metastatic  TCGA-3N-A9WB-06A-11R-A38C-07   \n",
       "1    TCGA-3N-A9WC-06A       Metastatic  TCGA-3N-A9WC-06A-11R-A38C-07   \n",
       "2    TCGA-3N-A9WD-06A       Metastatic  TCGA-3N-A9WD-06A-11R-A38C-07   \n",
       "3    TCGA-BF-AAP0-06A       Metastatic  TCGA-BF-AAP0-06A-11R-A39D-07   \n",
       "4    TCGA-D3-A1Q1-06A       Metastatic  TCGA-D3-A1Q1-06A-21R-A18T-07   \n",
       "..                ...              ...                           ...   \n",
       "363  TCGA-YG-AA3O-06A       Metastatic  TCGA-YG-AA3O-06A-11R-A38C-07   \n",
       "364  TCGA-YG-AA3P-06A       Metastatic  TCGA-YG-AA3P-06A-11R-A38C-07   \n",
       "365  TCGA-Z2-A8RT-06A       Metastatic  TCGA-Z2-A8RT-06A-11R-A37K-07   \n",
       "366  TCGA-Z2-AA3S-06A       Metastatic  TCGA-Z2-AA3S-06A-11R-A39D-07   \n",
       "367  TCGA-Z2-AA3V-06A       Metastatic  TCGA-Z2-AA3V-06A-11R-A39D-07   \n",
       "\n",
       "     immune_fraction  immune_low  immune_high  \n",
       "0           0.006247        True        False  \n",
       "1           0.269736       False         True  \n",
       "2           0.119879       False        False  \n",
       "3           0.274458       False         True  \n",
       "4           0.037102       False        False  \n",
       "..               ...         ...          ...  \n",
       "363         0.042878       False        False  \n",
       "364         0.027623       False        False  \n",
       "365         0.092170       False        False  \n",
       "366         0.043985       False        False  \n",
       "367         0.300102       False         True  \n",
       "\n",
       "[368 rows x 6 columns]"
      ]
     },
     "execution_count": 87,
     "metadata": {},
     "output_type": "execute_result"
    }
   ],
   "source": [
    "df_sample_metadata"
   ]
  },
  {
   "cell_type": "code",
   "execution_count": 88,
   "id": "1d46bee8",
   "metadata": {},
   "outputs": [
    {
     "data": {
      "text/plain": [
       "immune_low  immune_high\n",
       "False       False          220\n",
       "            True            74\n",
       "True        False           74\n",
       "dtype: int64"
      ]
     },
     "execution_count": 88,
     "metadata": {},
     "output_type": "execute_result"
    }
   ],
   "source": [
    "df_sample_metadata[[\"immune_low\", \"immune_high\"]].value_counts()"
   ]
  },
  {
   "cell_type": "markdown",
   "id": "ff2dc341-fd05-4cd1-b0eb-6a6482001c34",
   "metadata": {},
   "source": [
    "## more"
   ]
  },
  {
   "cell_type": "markdown",
   "id": "bc6789cb-427d-489b-97f7-3b9ada152f39",
   "metadata": {},
   "source": [
    "## compute stats on real (TCGA) bulk RNA-seq"
   ]
  },
  {
   "cell_type": "code",
   "execution_count": 19,
   "id": "27506094-640a-4184-9880-2c2e75c02592",
   "metadata": {},
   "outputs": [],
   "source": [
    "logging.getLogger(\"helpers.pseudobulk_evaluation.deg_analysis\").setLevel(\n",
    "    \"INFO\"\n",
    ")  # DEBUG is loud"
   ]
  },
  {
   "cell_type": "code",
   "execution_count": 89,
   "id": "30d2bce7-c174-472a-ab3b-974dc30a2c19",
   "metadata": {
    "tags": []
   },
   "outputs": [
    {
     "data": {
      "text/plain": [
       "<module 'helpers.pseudobulk_evaluation.deg_analysis' from '/home/jupyter/deconv/helpers/pseudobulk_evaluation/deg_analysis.py'>"
      ]
     },
     "execution_count": 89,
     "metadata": {},
     "output_type": "execute_result"
    }
   ],
   "source": [
    "importlib.reload(helpers.pseudobulk_evaluation.deg_analysis)"
   ]
  },
  {
   "cell_type": "code",
   "execution_count": 90,
   "id": "772cb500-55d1-45e9-b238-d30ad72b2186",
   "metadata": {},
   "outputs": [
    {
     "name": "stderr",
     "output_type": "stream",
     "text": [
      "2022-07-17 15:16:55,928 30524/fsspecIO gcsfs DEBUG\n",
      "GET: b/{}/o/{}, ('liulab', 'data/pseudobulk_optimization/3_with_tcga_qc/mixtures_real_tcga_skcm/tpm.parquet'), None\n",
      "2022-07-17 15:16:55,975 30524/fsspecIO gcsfs DEBUG\n",
      "GET: https://storage.googleapis.com/download/storage/v1/b/liulab/o/data%2Fpseudobulk_optimization%2F3_with_tcga_qc%2Fmixtures_real_tcga_skcm%2Ftpm.parquet?alt=media, (), {'Range': 'bytes=47361643-47427178'}\n",
      "2022-07-17 15:16:56,013 30524/fsspecIO gcsfs DEBUG\n",
      "GET: https://storage.googleapis.com/download/storage/v1/b/liulab/o/data%2Fpseudobulk_optimization%2F3_with_tcga_qc%2Fmixtures_real_tcga_skcm%2Ftpm.parquet?alt=media, (), {'Range': 'bytes=4-548156'}\n",
      "2022-07-17 15:16:56,056 30524/fsspecIO gcsfs DEBUG\n",
      "GET: https://storage.googleapis.com/download/storage/v1/b/liulab/o/data%2Fpseudobulk_optimization%2F3_with_tcga_qc%2Fmixtures_real_tcga_skcm%2Ftpm.parquet?alt=media, (), {'Range': 'bytes=548293-47424233'}\n",
      "2022-07-17 15:17:26,285 30524/fsspecIO gcsfs DEBUG\n",
      "GET: b/{}/o/{}, ('liulab', 'data/pseudobulk_optimization/3_with_tcga_qc/mixtures/n_cells=5/malignant_from_one_sample=True/data.parquet'), None\n",
      "2022-07-17 15:17:26,326 30524/fsspecIO gcsfs DEBUG\n",
      "GET: b/{}/o/{}, ('liulab', 'data/pseudobulk_optimization/3_with_tcga_qc/mixtures/n_cells=5/malignant_from_one_sample=True/data.parquet'), None\n",
      "2022-07-17 15:17:26,354 30524/fsspecIO gcsfs DEBUG\n",
      "GET: b/{}/o/{}, ('liulab', 'data/pseudobulk_optimization/3_with_tcga_qc/mixtures/n_cells=5/malignant_from_one_sample=True/data.parquet'), None\n",
      "2022-07-17 15:17:26,385 30524/fsspecIO gcsfs DEBUG\n",
      "GET: https://storage.googleapis.com/download/storage/v1/b/liulab/o/data%2Fpseudobulk_optimization%2F3_with_tcga_qc%2Fmixtures%2Fn_cells=5%2Fmalignant_from_one_sample=True%2Fdata.parquet?alt=media, (), {'Range': 'bytes=41829238-41894773'}\n",
      "2022-07-17 15:17:26,547 30524/fsspecIO gcsfs DEBUG\n",
      "GET: b/{}/o/{}, ('liulab', 'data/pseudobulk_optimization/3_with_tcga_qc/mixtures/n_cells=5/malignant_from_one_sample=True/data.parquet'), None\n",
      "2022-07-17 15:17:26,600 30524/fsspecIO gcsfs DEBUG\n",
      "GET: b/{}/o/{}, ('liulab', 'data/pseudobulk_optimization/3_with_tcga_qc/mixtures/n_cells=5/malignant_from_one_sample=True/data.parquet'), None\n",
      "2022-07-17 15:17:26,632 30524/fsspecIO gcsfs DEBUG\n",
      "GET: https://storage.googleapis.com/download/storage/v1/b/liulab/o/data%2Fpseudobulk_optimization%2F3_with_tcga_qc%2Fmixtures%2Fn_cells=5%2Fmalignant_from_one_sample=True%2Fdata.parquet?alt=media, (), {'Range': 'bytes=41829238-41894773'}\n",
      "2022-07-17 15:17:26,670 30524/fsspecIO gcsfs DEBUG\n",
      "GET: https://storage.googleapis.com/download/storage/v1/b/liulab/o/data%2Fpseudobulk_optimization%2F3_with_tcga_qc%2Fmixtures%2Fn_cells=5%2Fmalignant_from_one_sample=True%2Fdata.parquet?alt=media, (), {'Range': 'bytes=4-5390533'}\n",
      "2022-07-17 15:17:26,797 30524/fsspecIO gcsfs DEBUG\n",
      "GET: https://storage.googleapis.com/download/storage/v1/b/liulab/o/data%2Fpseudobulk_optimization%2F3_with_tcga_qc%2Fmixtures%2Fn_cells=5%2Fmalignant_from_one_sample=True%2Fdata.parquet?alt=media, (), {'Range': 'bytes=5390534-41894773'}\n"
     ]
    }
   ],
   "source": [
    "df_gene_stats_tcga_skcm = deg_analysis.add_immune_groups_to_rnaseq(\n",
    "    ddf_tcga_skcm_bulk_rnaseq, df_sample_metadata\n",
    ")\n",
    "\n",
    "df_gene_stats_pseudobulks = deg_analysis.add_immune_groups_to_rnaseq(\n",
    "    ddf_pseudobulk_rnaseq, df_sample_metadata\n",
    ")"
   ]
  },
  {
   "cell_type": "code",
   "execution_count": 80,
   "id": "8329bed3-aab5-40a0-8db1-5e324c821328",
   "metadata": {},
   "outputs": [],
   "source": [
    "df_gene_stats_adjusted = deg_analysis.process_gene_level_results(df_gene_stats)"
   ]
  },
  {
   "cell_type": "markdown",
   "id": "95559d76-c76f-4d03-8de0-b453c8aa405c",
   "metadata": {},
   "source": [
    "# todo\n",
    "\n",
    "* need to add `process_gene_level_results` to add_immune_groups_to_rnaseq, or something. \n"
   ]
  },
  {
   "cell_type": "code",
   "execution_count": 72,
   "id": "d812dac3-d22a-4f29-aa50-cc149b645ff2",
   "metadata": {},
   "outputs": [],
   "source": [
    "# merge real and pseudo data\n",
    "ddf_bulk_rnaseq_all = ddf_tcga_skcm_bulk_rnaseq.merge(\n",
    "    ddf_pseudobulk_rnaseq,\n",
    "    on=[\"aliquot_barcode\", \"gene_symbol\"],\n",
    "    how=\"inner\",\n",
    "    suffixes=[\"_tcga_skcm\", \"_pseudo\"],\n",
    ")"
   ]
  },
  {
   "cell_type": "code",
   "execution_count": null,
   "id": "3fb37a43-13f8-4314-9f2e-261ad43f9861",
   "metadata": {},
   "outputs": [],
   "source": [
    "ddf_bulk_rnaseq_all"
   ]
  },
  {
   "cell_type": "code",
   "execution_count": null,
   "id": "f78b8337-df48-4c6b-856a-981cbd5c95d7",
   "metadata": {},
   "outputs": [],
   "source": [
    "ddf_bulk_rnaseq_all_with_immune = ddf_bulk_rnaseq_all.merge(\n",
    "    df_immune_fraction_by_aliquot_barcode,\n",
    "    left_on=\"aliquot_barcode\",\n",
    "    right_on=\"sample_id\",\n",
    ")\n",
    "\n",
    "ddf_bulk_rnaseq_all_with_immune"
   ]
  },
  {
   "cell_type": "code",
   "execution_count": null,
   "id": "089dd4ad-e4ae-425d-aef7-6ca1c5174e0c",
   "metadata": {},
   "outputs": [],
   "source": [
    "# compute immune high and low\n",
    "immune_threshold_low = ddf_bulk_rnaseq_all_with_immune[\"immune_fraction\"].quantile(0.2)\n",
    "immune_threshold_high = ddf_bulk_rnaseq_all_with_immune[\"immune_fraction\"].quantile(0.8)"
   ]
  },
  {
   "cell_type": "code",
   "execution_count": null,
   "id": "7becc1d2-eab5-474e-8c45-4520583d4c84",
   "metadata": {},
   "outputs": [],
   "source": [
    "immune_threshold_low, immune_threshold_high"
   ]
  },
  {
   "cell_type": "code",
   "execution_count": null,
   "id": "3b83498b-a6a4-4137-9e4d-89077eb4161d",
   "metadata": {},
   "outputs": [],
   "source": [
    "ddf_bulk_rnaseq_all_with_immune[\"immune_low\"] = (\n",
    "    ddf_bulk_rnaseq_all_with_immune[\"immune_fraction\"] <= immune_threshold_low\n",
    ")\n",
    "\n",
    "ddf_bulk_rnaseq_all_with_immune[\"immune_high\"] = (\n",
    "    ddf_bulk_rnaseq_all_with_immune[\"immune_fraction\"] >= immune_threshold_high\n",
    ")"
   ]
  },
  {
   "cell_type": "code",
   "execution_count": null,
   "id": "9e90eec3-3ee8-4016-99f6-1a23d77993ba",
   "metadata": {},
   "outputs": [],
   "source": [
    "df_bulk_rnaseq_all_with_immune = ddf_bulk_rnaseq_all_with_immune.compute()"
   ]
  },
  {
   "cell_type": "code",
   "execution_count": null,
   "id": "a456f86e-148e-41f6-abaf-5acb7c28cadb",
   "metadata": {},
   "outputs": [],
   "source": [
    "df_bulk_rnaseq_all_with_immune[\"aliquot_barcode\"].value_counts()"
   ]
  },
  {
   "cell_type": "code",
   "execution_count": null,
   "id": "e0982600-50c8-4b87-88c1-c8c376c59c02",
   "metadata": {},
   "outputs": [],
   "source": [
    "df_bulk_rnaseq_all_with_immune[[\"immune_low\", \"immune_high\"]].value_counts()"
   ]
  },
  {
   "cell_type": "markdown",
   "id": "e304b720-c36f-4b2e-bd69-0da3c8a7d603",
   "metadata": {},
   "source": [
    "#### compute stats for each gene"
   ]
  },
  {
   "cell_type": "code",
   "execution_count": null,
   "id": "87900a1b-76b4-4609-b067-7478f0d4f8e9",
   "metadata": {
    "tags": []
   },
   "outputs": [],
   "source": [
    "### compute p-values...\n",
    "\n",
    "\n",
    "def compute_stats(df):\n",
    "    immune_low = df[df[\"immune_low\"]]\n",
    "    immune_high = df[df[\"immune_high\"]]\n",
    "    pval_pseudo = scipy.stats.mannwhitneyu(\n",
    "        immune_high[\"tpm_pseudo\"].values, immune_low[\"tpm_pseudo\"].values\n",
    "    )[1]\n",
    "    neglog10pval_pseudo = -np.log10(pval_pseudo)\n",
    "    foldchange_pseudo = (\n",
    "        immune_high[\"tpm_pseudo\"].mean() / immune_low[\"tpm_pseudo\"].mean()\n",
    "    )\n",
    "    log2foldchange_pseudo = np.log2(foldchange_pseudo)\n",
    "\n",
    "    pval_real = scipy.stats.mannwhitneyu(\n",
    "        immune_high[\"tpm_tcga_skcm\"].values, immune_low[\"tpm_tcga_skcm\"].values\n",
    "    )[1]\n",
    "    neglog10pval_real = -np.log10(pval_real)\n",
    "    foldchange_real = (\n",
    "        immune_high[\"tpm_tcga_skcm\"].mean() / immune_low[\"tpm_tcga_skcm\"].mean()\n",
    "    )\n",
    "    log2foldchange_real = np.log2(foldchange_real)\n",
    "\n",
    "    return pd.Series(\n",
    "        dict(\n",
    "            pval_pseudo=pval_pseudo,\n",
    "            foldchange_pseudo=foldchange_pseudo,\n",
    "            log2foldchange_pseudo=log2foldchange_pseudo,\n",
    "            neglog10pval_pseudo=neglog10pval_pseudo,\n",
    "            signedneglog10pval_pseudo=(\n",
    "                neglog10pval_pseudo * np.sign(log2foldchange_pseudo)\n",
    "            ),\n",
    "            pval_real=pval_real,\n",
    "            foldchange_real=foldchange_real,\n",
    "            log2foldchange_real=log2foldchange_real,\n",
    "            neglog10pval_real=neglog10pval_real,\n",
    "            signedneglog10pval_real=(neglog10pval_real * np.sign(log2foldchange_real)),\n",
    "        )\n",
    "    )\n",
    "\n",
    "\n",
    "df_gene_stats_by_immune = df_bulk_rnaseq_all_with_immune.groupby(\"gene_symbol\").apply(\n",
    "    compute_stats\n",
    ")\n",
    "df_gene_stats_by_immune = df_gene_stats_by_immune.reset_index()"
   ]
  },
  {
   "cell_type": "code",
   "execution_count": null,
   "id": "6f207b66-357a-416a-bb4c-e883ae68685f",
   "metadata": {},
   "outputs": [],
   "source": [
    "df_gene_stats_by_immune"
   ]
  },
  {
   "cell_type": "code",
   "execution_count": null,
   "id": "a801d328-8278-408a-9e46-ad35e13dc72a",
   "metadata": {},
   "outputs": [],
   "source": [
    "# how many genes have valid stats?\n",
    "\n",
    "logger.debug(df_gene_stats_by_immune[\"pval_pseudo\"].isna().value_counts())\n",
    "logger.debug(df_gene_stats_by_immune[\"foldchange_pseudo\"].isna().value_counts())\n",
    "logger.debug(df_gene_stats_by_immune[\"pval_real\"].isna().value_counts())\n",
    "logger.debug(df_gene_stats_by_immune[\"foldchange_real\"].isna().value_counts())"
   ]
  },
  {
   "cell_type": "markdown",
   "id": "5a970b11-7bb3-4907-8032-e4e191e416dd",
   "metadata": {},
   "source": [
    "# plots"
   ]
  },
  {
   "cell_type": "code",
   "execution_count": 82,
   "id": "932df133-72db-439f-9851-ec3aff56a92e",
   "metadata": {},
   "outputs": [],
   "source": [
    "import plotly.express as px"
   ]
  },
  {
   "cell_type": "code",
   "execution_count": 83,
   "id": "db3a5128-2a72-4e22-99cf-9b625140b310",
   "metadata": {},
   "outputs": [
    {
     "data": {
      "image/png": "[encoded data removed]"
     },
     "metadata": {},
     "output_type": "display_data"
    }
   ],
   "source": [
    "fig = px.scatter(\n",
    "    df_gene_stats_adjusted,\n",
    "    x=\"log2_fold_change\",\n",
    "    y=\"-log10_pval\",\n",
    "    title=\"real (tcga skcm): immune high / low\",\n",
    "    hover_name=\"gene_symbol\",\n",
    "    hover_data=[\"fold_change\", \"pval\"],\n",
    ")\n",
    "fig.update_xaxes(range=(-10, 10))\n",
    "fig.update_yaxes(range=(0, 30))\n",
    "fig.update_traces(marker=dict(size=3))\n",
    "fig.show(renderer=\"png\", scale=1, width=1000, height=500)"
   ]
  },
  {
   "cell_type": "code",
   "execution_count": null,
   "id": "836a90da-1adc-4706-b588-8c40f472c805",
   "metadata": {},
   "outputs": [],
   "source": [
    "fig = px.scatter(\n",
    "    df_gene_stats_adjusted,\n",
    "    x=\"log2_fold_change\",\n",
    "    y=\"-log10_pval\",\n",
    "    title=\"pseudobulk RNA-seq: immune high / low\",\n",
    "    hover_name=\"gene_symbol\",\n",
    "    hover_data=[\"fold_change\", \"pval\"],\n",
    ")\n",
    "fig.update_xaxes(range=(-10, 10))\n",
    "fig.update_yaxes(range=(0, 30))\n",
    "fig.update_traces(marker=dict(size=3))\n",
    "fig.show(renderer=\"png\", scale=1, width=1000, height=500)"
   ]
  },
  {
   "cell_type": "code",
   "execution_count": null,
   "id": "bac7d9c7-9c49-4edb-ac56-3615d387b001",
   "metadata": {},
   "outputs": [],
   "source": [
    "fig.show(renderer=\"browser\")"
   ]
  },
  {
   "cell_type": "code",
   "execution_count": null,
   "id": "a329bff9",
   "metadata": {},
   "outputs": [],
   "source": [
    "fig = px.scatter(\n",
    "    df_gene_stats_adjusted,\n",
    "    x=\"log2foldchange_pseudo\",\n",
    "    y=\"neglog10pval_pseudo\",\n",
    "    title=\"pseudobulks: immune high / low\",\n",
    "    hover_name=\"gene_symbol\",\n",
    "    hover_data=[\"foldchange_pseudo\", \"pval_pseudo\"],\n",
    ")\n",
    "fig.update_xaxes(range=(-10, 10))\n",
    "fig.update_yaxes(range=(0, 30))\n",
    "fig.update_traces(marker=dict(size=3))\n",
    "fig.show(renderer=\"png\", scale=2, width=800, height=600)"
   ]
  },
  {
   "cell_type": "code",
   "execution_count": null,
   "id": "d48e3e58-0cf0-420f-bfc1-d98fe83786fb",
   "metadata": {},
   "outputs": [],
   "source": [
    "fig.show(renderer=\"browser\")"
   ]
  },
  {
   "cell_type": "code",
   "execution_count": null,
   "id": "2d8a914e-4254-46c9-97d6-f0eac173ee29",
   "metadata": {},
   "outputs": [],
   "source": [
    "fig = px.scatter(\n",
    "    df_gene_stats_by_immune,\n",
    "    x=\"signedneglog10pval_real\",\n",
    "    y=\"signedneglog10pval_pseudo\",\n",
    "    trendline=\"ols\",\n",
    "    title=\"signed -log10(p-values): pseudobulks vs tcga skcm\",\n",
    "    hover_name=\"gene_symbol\",\n",
    "    hover_data=[\"log2foldchange_real\", \"log2foldchange_pseudo\"],\n",
    ")\n",
    "fig.update_xaxes(range=(-25, 25))\n",
    "fig.update_yaxes(range=(-25, 25))\n",
    "fig.update_traces(marker=dict(size=3))\n",
    "fig.show(renderer=\"png\", scale=1, width=500, height=500)"
   ]
  },
  {
   "cell_type": "code",
   "execution_count": null,
   "id": "d451ea86-cba0-4a83-8a47-a1e457413e2b",
   "metadata": {},
   "outputs": [],
   "source": [
    "fig.show(renderer=\"browser\")"
   ]
  },
  {
   "cell_type": "code",
   "execution_count": null,
   "id": "e6965779-7cd2-4e9e-8f22-6e310bda1780",
   "metadata": {},
   "outputs": [],
   "source": [
    "df_gene_stats_by_immune.info()"
   ]
  },
  {
   "cell_type": "code",
   "execution_count": null,
   "id": "ca285bee-968c-4646-afd0-8c6bb23e70df",
   "metadata": {},
   "outputs": [],
   "source": [
    "fig = px.scatter(\n",
    "    df_gene_stats_by_immune,\n",
    "    x=\"log2foldchange_real\",\n",
    "    y=\"log2foldchange_pseudo\",\n",
    "    trendline=\"ols\",\n",
    "    title=\"logs(fold-change): pseudobulks vs tcga skcm\",\n",
    "    hover_name=\"gene_symbol\",\n",
    "    # hover_data=[\"log2foldchange_real\", \"log2foldchange_pseudo\"],\n",
    ")\n",
    "# fig.update_xaxes(range=(-25, 25))\n",
    "# fig.update_yaxes(range=(-25, 25))\n",
    "fig.update_traces(marker=dict(size=3))\n",
    "fig.show(renderer=\"png\", scale=1, width=500, height=500)\n",
    "fig.show(renderer=\"browser\")"
   ]
  },
  {
   "cell_type": "code",
   "execution_count": null,
   "id": "781cd95f-59c0-4ff3-b5c4-03f8a4b22d12",
   "metadata": {},
   "outputs": [],
   "source": [
    "fig.show(renderer=\"browser\")"
   ]
  },
  {
   "cell_type": "markdown",
   "id": "86e70c15-8537-453d-8dce-49fb341d278d",
   "metadata": {},
   "source": [
    "#### what's the overlap for significant genes between real, pseudo?"
   ]
  },
  {
   "cell_type": "code",
   "execution_count": null,
   "id": "5594879a-fdeb-4ac8-ae8d-77e7bf5d5a7a",
   "metadata": {},
   "outputs": [],
   "source": [
    "df_gene_stats_by_immune[\"percentile_neglog10pval_pseudo\"] = df_gene_stats_by_immune[\n",
    "    \"neglog10pval_pseudo\"\n",
    "].rank(pct=True)\n",
    "df_gene_stats_by_immune[\"percentile_neglog10pval_real\"] = df_gene_stats_by_immune[\n",
    "    \"neglog10pval_real\"\n",
    "].rank(pct=True)"
   ]
  },
  {
   "cell_type": "code",
   "execution_count": null,
   "id": "27d722b5-33ab-40fa-b9f0-6282a83cccfd",
   "metadata": {},
   "outputs": [],
   "source": [
    "THRESHOLD = 0.9\n",
    "\n",
    "df_gene_stats_by_immune[\"top_pseudo\"] = (\n",
    "    df_gene_stats_by_immune[\"percentile_neglog10pval_pseudo\"] > THRESHOLD\n",
    ")\n",
    "df_gene_stats_by_immune[\"top_real\"] = (\n",
    "    df_gene_stats_by_immune[\"percentile_neglog10pval_real\"] > THRESHOLD\n",
    ")\n",
    "df_gene_stats_by_immune[\"top_both\"] = (\n",
    "    df_gene_stats_by_immune[\"top_pseudo\"] & df_gene_stats_by_immune[\"top_real\"]\n",
    ")\n",
    "pd.crosstab(df_gene_stats_by_immune[\"top_pseudo\"], df_gene_stats_by_immune[\"top_real\"])"
   ]
  },
  {
   "cell_type": "code",
   "execution_count": null,
   "id": "7fae17b9-8411-40f2-a829-c6889fa0c523",
   "metadata": {},
   "outputs": [],
   "source": [
    "# TODO - a good summary stat here would be the odds ratio of this contingency table"
   ]
  },
  {
   "cell_type": "code",
   "execution_count": null,
   "id": "7f2af718-f672-45bb-989e-d8047fd2f84c",
   "metadata": {},
   "outputs": [],
   "source": [
    "# TODO - benjamini hochberg for a FDR-corrected significance test (use FDR of 0.1)"
   ]
  },
  {
   "cell_type": "code",
   "execution_count": null,
   "id": "5d4d23ff-4baa-4449-baf3-c73b9d44969d",
   "metadata": {},
   "outputs": [],
   "source": [
    "# TODO - also do scatter for fold change"
   ]
  },
  {
   "cell_type": "code",
   "execution_count": null,
   "id": "10379cb6-31a4-4b9b-aaf9-2c4007949081",
   "metadata": {},
   "outputs": [],
   "source": [
    "# is it the same genes that showed up in the PCA analysis?"
   ]
  },
  {
   "cell_type": "code",
   "execution_count": null,
   "id": "0a8c96dc-c9c8-44a9-86c5-bbe77e7009fe",
   "metadata": {},
   "outputs": [],
   "source": []
  },
  {
   "cell_type": "code",
   "execution_count": null,
   "id": "db746ec3-aadd-48a5-904b-881ee01d9034",
   "metadata": {},
   "outputs": [],
   "source": []
  }
 ],
 "metadata": {
  "environment": {
   "kernel": "conda-env-deconv-py",
   "name": "common-cpu.m91",
   "type": "gcloud",
   "uri": "gcr.io/deeplearning-platform-release/base-cpu:m91"
  },
  "kernelspec": {
   "display_name": "Python [conda env:deconv]",
   "language": "python",
   "name": "conda-env-deconv-py"
  },
  "language_info": {
   "codemirror_mode": {
    "name": "ipython",
    "version": 3
   },
   "file_extension": ".py",
   "mimetype": "text/x-python",
   "name": "python",
   "nbconvert_exporter": "python",
   "pygments_lexer": "ipython3",
   "version": "3.10.5"
  },
  "toc-autonumbering": false,
  "toc-showcode": false,
  "toc-showmarkdowntxt": false,
  "toc-showtags": false,
  "vscode": {
   "interpreter": {
    "hash": "637acf9a507e8d913a30d421b6f20878bbaf50f47d6d3c99f5c08459efbf7098"
   }
  }
 },
 "nbformat": 4,
 "nbformat_minor": 5
}
