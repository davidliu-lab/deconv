{
 "cells": [
  {
   "cell_type": "code",
   "execution_count": 1,
   "id": "389ce55d-81a0-48a6-88d9-9eff36e9c623",
   "metadata": {
    "execution": {
     "iopub.execute_input": "2022-03-11T19:52:00.249171Z",
     "iopub.status.busy": "2022-03-11T19:52:00.248788Z",
     "iopub.status.idle": "2022-03-11T19:52:00.254667Z",
     "shell.execute_reply": "2022-03-11T19:52:00.253959Z",
     "shell.execute_reply.started": "2022-03-11T19:52:00.249102Z"
    },
    "tags": []
   },
   "outputs": [],
   "source": [
    "import numpy as np\n",
    "import pandas as pd"
   ]
  },
  {
   "cell_type": "code",
   "execution_count": 2,
   "id": "f2dce85d-3032-45b0-a1ed-9f9b33d920c0",
   "metadata": {
    "execution": {
     "iopub.execute_input": "2022-03-11T19:52:00.262964Z",
     "iopub.status.busy": "2022-03-11T19:52:00.262640Z",
     "iopub.status.idle": "2022-03-11T19:52:05.418726Z",
     "shell.execute_reply": "2022-03-11T19:52:05.418154Z",
     "shell.execute_reply.started": "2022-03-11T19:52:00.262945Z"
    },
    "tags": []
   },
   "outputs": [],
   "source": [
    "import plotly.express as px\n",
    "import plotly.figure_factory as ff\n",
    "import plotly.graph_objects as go\n",
    "import plotly.io\n",
    "\n",
    "plotly.io.renderers.default = \"jupyterlab+png\""
   ]
  },
  {
   "cell_type": "code",
   "execution_count": 3,
   "id": "eb614b79-69b9-4f12-9a61-c80648504cd2",
   "metadata": {
    "execution": {
     "iopub.execute_input": "2022-03-11T19:52:05.420210Z",
     "iopub.status.busy": "2022-03-11T19:52:05.419868Z",
     "iopub.status.idle": "2022-03-11T19:52:05.497904Z",
     "shell.execute_reply": "2022-03-11T19:52:05.497377Z",
     "shell.execute_reply.started": "2022-03-11T19:52:05.420176Z"
    },
    "tags": []
   },
   "outputs": [],
   "source": [
    "import helpers"
   ]
  },
  {
   "cell_type": "code",
   "execution_count": 4,
   "id": "5e0d19f5-d6b4-4284-9a91-2c977dded192",
   "metadata": {
    "execution": {
     "iopub.execute_input": "2022-03-11T19:52:05.498961Z",
     "iopub.status.busy": "2022-03-11T19:52:05.498712Z",
     "iopub.status.idle": "2022-03-11T19:52:05.502996Z",
     "shell.execute_reply": "2022-03-11T19:52:05.502475Z",
     "shell.execute_reply.started": "2022-03-11T19:52:05.498940Z"
    },
    "tags": []
   },
   "outputs": [],
   "source": [
    "import logging\n",
    "\n",
    "handler = logging.StreamHandler()\n",
    "formatter = logging.Formatter(\"%(asctime)s - %(name)s - %(levelname)s - %(message)s\")\n",
    "handler.setFormatter(formatter)\n",
    "logging.getLogger().addHandler(handler)\n",
    "\n",
    "logging.getLogger(\"helpers\").setLevel(\"DEBUG\")\n",
    "logger = logging.getLogger(__name__)\n",
    "logger.setLevel(\"DEBUG\")"
   ]
  },
  {
   "cell_type": "code",
   "execution_count": 5,
   "id": "3fdce51f-7880-4055-81bd-9c7bf4806519",
   "metadata": {
    "execution": {
     "iopub.execute_input": "2022-03-11T19:52:05.504194Z",
     "iopub.status.busy": "2022-03-11T19:52:05.504000Z",
     "iopub.status.idle": "2022-03-11T19:52:05.508233Z",
     "shell.execute_reply": "2022-03-11T19:52:05.507711Z",
     "shell.execute_reply.started": "2022-03-11T19:52:05.504174Z"
    },
    "tags": []
   },
   "outputs": [],
   "source": [
    "rng = np.random.default_rng(seed=0)"
   ]
  },
  {
   "cell_type": "markdown",
   "id": "a25c7647-e37e-4b22-86c2-d04b4ed9fc16",
   "metadata": {
    "execution": {
     "iopub.execute_input": "2022-02-24T19:34:40.351302Z",
     "iopub.status.busy": "2022-02-24T19:34:40.350984Z",
     "iopub.status.idle": "2022-02-24T19:34:40.354111Z",
     "shell.execute_reply": "2022-02-24T19:34:40.353579Z",
     "shell.execute_reply.started": "2022-02-24T19:34:40.351276Z"
    },
    "tags": []
   },
   "source": [
    "# load data"
   ]
  },
  {
   "cell_type": "markdown",
   "id": "d893de92-c0d7-45a5-ba3f-26fbaf3bdc24",
   "metadata": {
    "jp-MarkdownHeadingCollapsed": true,
    "tags": []
   },
   "source": [
    "## from `gs://liulab/ftp/GSE115978/GSE115978_tpm.csv`"
   ]
  },
  {
   "cell_type": "code",
   "execution_count": null,
   "id": "75cf867a-98c7-438e-8e84-9a90a17be049",
   "metadata": {
    "tags": []
   },
   "outputs": [],
   "source": [
    "from helpers.datasets import GENE_SYMBOL_COLUMN_NAME, SINGLE_CELL_COLUMN_NAME\n",
    "\n",
    "x = pd.read_csv(\n",
    "    \"gs://liulab/ftp/GSE115978/GSE115978_tpm.csv\",\n",
    "    index_col=0,\n",
    "    nrows=300,\n",
    ")\n",
    "x = x.rename_axis(index=GENE_SYMBOL_COLUMN_NAME, columns=SINGLE_CELL_COLUMN_NAME)\n",
    "x = x.sort_index(axis=\"rows\")\n",
    "x = x.sort_index(axis=\"columns\")\n",
    "x"
   ]
  },
  {
   "cell_type": "markdown",
   "id": "c0997965-b251-49b7-9dc0-efff8849608d",
   "metadata": {},
   "source": [
    "## TCGA SKCM bulk RNA-seq"
   ]
  },
  {
   "cell_type": "markdown",
   "id": "4d55d200-2e5f-4b58-a449-4e63bdbb7464",
   "metadata": {
    "jp-MarkdownHeadingCollapsed": true,
    "tags": []
   },
   "source": [
    "### from derek's file"
   ]
  },
  {
   "cell_type": "code",
   "execution_count": null,
   "id": "894b2edc-854b-4706-96ef-e5026466f57b",
   "metadata": {
    "tags": []
   },
   "outputs": [],
   "source": [
    "mixtures_tcga_skcm = helpers.datasets.load_tcga_skcm()\n",
    "# mixtures_tcga_skcm = helpers.creating_mixtures.normalize_expression(mixtures_tcga_skcm, 1_000_000)"
   ]
  },
  {
   "cell_type": "code",
   "execution_count": null,
   "id": "b8df3084-7729-4c21-9105-f577150290be",
   "metadata": {},
   "outputs": [],
   "source": [
    "mixtures_tcga_skcm"
   ]
  },
  {
   "cell_type": "code",
   "execution_count": null,
   "id": "8aac1901-2795-45da-aeb8-764a763d148d",
   "metadata": {},
   "outputs": [],
   "source": [
    "mixtures_tcga_skcm[\"TCGA.3N.A9WB.06A.11R.A38C.07\"]"
   ]
  },
  {
   "cell_type": "code",
   "execution_count": null,
   "id": "33b4ea73-4978-4fe2-9dea-bd8ffcd2a599",
   "metadata": {},
   "outputs": [],
   "source": [
    "mixtures_tcga_skcm[\"TCGA.3N.A9WB.06A.11R.A38C.07\"].loc[\"A1BG\"]"
   ]
  },
  {
   "cell_type": "markdown",
   "id": "010dc280-db4d-495b-8d91-da68030ac134",
   "metadata": {},
   "source": [
    "### from BigQuery table (isb-cgc-bq)\n",
    "\n",
    "```\n",
    "isb-cgc-bq.TCGA.RNAseq_hg38_gdc_current\n",
    "```\n",
    "\n",
    "docs:\n",
    "1. https://isb-cancer-genomics-cloud.readthedocs.io/en/latest/sections/BigQuery.html\n",
    "1. https://isb-cgc.appspot.com/bq_meta_search/\n",
    "1. https://isb-cgc.appspot.com/cohorts/new_cohort/\n",
    "\n",
    "\n",
    "my queries:\n",
    "1. https://console.cloud.google.com/bigquery?p=isb-cgc-bq&d=TCGA&t=RNAseq_hg38_gdc_current&page=table&project=text-to-speech-api-329815&ws=!1m5!1m4!4m3!1sisb-cgc-bq!2sTCGA!3sRNAseq_hg38_gdc_current"
   ]
  },
  {
   "cell_type": "code",
   "execution_count": 53,
   "id": "b5f027f3-5f58-412a-bbb9-5fc5e89a77af",
   "metadata": {
    "execution": {
     "iopub.execute_input": "2022-03-11T22:48:41.157735Z",
     "iopub.status.busy": "2022-03-11T22:48:41.157446Z",
     "iopub.status.idle": "2022-03-11T22:48:42.301960Z",
     "shell.execute_reply": "2022-03-11T22:48:42.301533Z",
     "shell.execute_reply.started": "2022-03-11T22:48:41.157709Z"
    }
   },
   "outputs": [],
   "source": [
    "query = \"\"\"\n",
    "select *\n",
    "from `isb-cgc-bq.TCGA.RNAseq_hg38_gdc_current` \n",
    "where aliquot_barcode = \"TCGA-3N-A9WB-06A-11R-A38C-07\"\n",
    "limit 10\n",
    "\"\"\"\n",
    "\n",
    "df = pd.read_gbq(query, project_id=\"keen-dispatch-316219\")\n",
    "df = df.set_index(\"gene_name\", drop=False)"
   ]
  },
  {
   "cell_type": "code",
   "execution_count": null,
   "id": "2cd09b36-e8d2-4aac-bc52-342ae4407544",
   "metadata": {},
   "outputs": [],
   "source": [
    "df"
   ]
  },
  {
   "cell_type": "code",
   "execution_count": 52,
   "id": "af46a641-3130-4ee8-9b68-8e3de57896b4",
   "metadata": {
    "execution": {
     "iopub.execute_input": "2022-03-11T22:47:41.274827Z",
     "iopub.status.busy": "2022-03-11T22:47:41.274547Z",
     "iopub.status.idle": "2022-03-11T22:47:57.448692Z",
     "shell.execute_reply": "2022-03-11T22:47:57.448133Z",
     "shell.execute_reply.started": "2022-03-11T22:47:41.274805Z"
    },
    "tags": []
   },
   "outputs": [
    {
     "data": {
      "text/html": [
       "<div>\n",
       "<style scoped>\n",
       "    .dataframe tbody tr th:only-of-type {\n",
       "        vertical-align: middle;\n",
       "    }\n",
       "\n",
       "    .dataframe tbody tr th {\n",
       "        vertical-align: top;\n",
       "    }\n",
       "\n",
       "    .dataframe thead th {\n",
       "        text-align: right;\n",
       "    }\n",
       "</style>\n",
       "<table border=\"1\" class=\"dataframe\">\n",
       "  <thead>\n",
       "    <tr style=\"text-align: right;\">\n",
       "      <th></th>\n",
       "      <th>project_short_name</th>\n",
       "      <th>case_barcode</th>\n",
       "      <th>primary_site</th>\n",
       "      <th>sample_barcode</th>\n",
       "      <th>aliquot_barcode</th>\n",
       "      <th>gene_name</th>\n",
       "      <th>gene_type</th>\n",
       "      <th>Ensembl_gene_id</th>\n",
       "      <th>Ensembl_gene_id_v</th>\n",
       "      <th>HTSeq__Counts</th>\n",
       "      <th>HTSeq__FPKM</th>\n",
       "      <th>HTSeq__FPKM_UQ</th>\n",
       "      <th>sample_type_name</th>\n",
       "      <th>case_gdc_id</th>\n",
       "      <th>sample_gdc_id</th>\n",
       "      <th>aliquot_gdc_id</th>\n",
       "      <th>file_gdc_id_counts</th>\n",
       "      <th>file_gdc_id_fpkm</th>\n",
       "      <th>file_gdc_id_fpkm_uq</th>\n",
       "      <th>platform</th>\n",
       "    </tr>\n",
       "  </thead>\n",
       "  <tbody>\n",
       "    <tr>\n",
       "      <th>0</th>\n",
       "      <td>TCGA-SKCM</td>\n",
       "      <td>TCGA-3N-A9WB</td>\n",
       "      <td>Skin</td>\n",
       "      <td>TCGA-3N-A9WB-06A</td>\n",
       "      <td>TCGA-3N-A9WB-06A-11R-A38C-07</td>\n",
       "      <td>RP11-849N15.3</td>\n",
       "      <td>TEC</td>\n",
       "      <td>ENSG00000279660</td>\n",
       "      <td>ENSG00000279660.1</td>\n",
       "      <td>16</td>\n",
       "      <td>0.224792</td>\n",
       "      <td>5512.420862</td>\n",
       "      <td>Metastatic</td>\n",
       "      <td>5564e6a7-2195-4b0d-994e-b0617b58e889</td>\n",
       "      <td>5b0c4070-1e90-4562-85e3-96dd34444e29</td>\n",
       "      <td>4c243ea9-dfe1-42f0-a887-3c901fb38542</td>\n",
       "      <td>48151fe4-7aa5-448f-9a3f-c69b77917c81</td>\n",
       "      <td>6f0f09df-cb9e-4ee6-9f0d-e0c7bb2aa001</td>\n",
       "      <td>a44af3c3-8e6d-4b34-a92c-993d687f0211</td>\n",
       "      <td>Illumina</td>\n",
       "    </tr>\n",
       "    <tr>\n",
       "      <th>1</th>\n",
       "      <td>TCGA-SKCM</td>\n",
       "      <td>TCGA-3N-A9WB</td>\n",
       "      <td>Skin</td>\n",
       "      <td>TCGA-3N-A9WB-06A</td>\n",
       "      <td>TCGA-3N-A9WB-06A-11R-A38C-07</td>\n",
       "      <td>CEP83-AS1</td>\n",
       "      <td>TEC</td>\n",
       "      <td>ENSG00000278916</td>\n",
       "      <td>ENSG00000278916.1</td>\n",
       "      <td>48</td>\n",
       "      <td>0.361099</td>\n",
       "      <td>8854.964536</td>\n",
       "      <td>Metastatic</td>\n",
       "      <td>5564e6a7-2195-4b0d-994e-b0617b58e889</td>\n",
       "      <td>5b0c4070-1e90-4562-85e3-96dd34444e29</td>\n",
       "      <td>4c243ea9-dfe1-42f0-a887-3c901fb38542</td>\n",
       "      <td>48151fe4-7aa5-448f-9a3f-c69b77917c81</td>\n",
       "      <td>6f0f09df-cb9e-4ee6-9f0d-e0c7bb2aa001</td>\n",
       "      <td>a44af3c3-8e6d-4b34-a92c-993d687f0211</td>\n",
       "      <td>Illumina</td>\n",
       "    </tr>\n",
       "    <tr>\n",
       "      <th>2</th>\n",
       "      <td>TCGA-SKCM</td>\n",
       "      <td>TCGA-3N-A9WB</td>\n",
       "      <td>Skin</td>\n",
       "      <td>TCGA-3N-A9WB-06A</td>\n",
       "      <td>TCGA-3N-A9WB-06A-11R-A38C-07</td>\n",
       "      <td>RP11-113K21.6</td>\n",
       "      <td>TEC</td>\n",
       "      <td>ENSG00000279900</td>\n",
       "      <td>ENSG00000279900.1</td>\n",
       "      <td>2</td>\n",
       "      <td>0.082619</td>\n",
       "      <td>2025.997601</td>\n",
       "      <td>Metastatic</td>\n",
       "      <td>5564e6a7-2195-4b0d-994e-b0617b58e889</td>\n",
       "      <td>5b0c4070-1e90-4562-85e3-96dd34444e29</td>\n",
       "      <td>4c243ea9-dfe1-42f0-a887-3c901fb38542</td>\n",
       "      <td>48151fe4-7aa5-448f-9a3f-c69b77917c81</td>\n",
       "      <td>6f0f09df-cb9e-4ee6-9f0d-e0c7bb2aa001</td>\n",
       "      <td>a44af3c3-8e6d-4b34-a92c-993d687f0211</td>\n",
       "      <td>Illumina</td>\n",
       "    </tr>\n",
       "    <tr>\n",
       "      <th>3</th>\n",
       "      <td>TCGA-SKCM</td>\n",
       "      <td>TCGA-3N-A9WB</td>\n",
       "      <td>Skin</td>\n",
       "      <td>TCGA-3N-A9WB-06A</td>\n",
       "      <td>TCGA-3N-A9WB-06A-11R-A38C-07</td>\n",
       "      <td>RP11-170K4.2</td>\n",
       "      <td>TEC</td>\n",
       "      <td>ENSG00000279311</td>\n",
       "      <td>ENSG00000279311.1</td>\n",
       "      <td>2</td>\n",
       "      <td>0.019409</td>\n",
       "      <td>475.962014</td>\n",
       "      <td>Metastatic</td>\n",
       "      <td>5564e6a7-2195-4b0d-994e-b0617b58e889</td>\n",
       "      <td>5b0c4070-1e90-4562-85e3-96dd34444e29</td>\n",
       "      <td>4c243ea9-dfe1-42f0-a887-3c901fb38542</td>\n",
       "      <td>48151fe4-7aa5-448f-9a3f-c69b77917c81</td>\n",
       "      <td>6f0f09df-cb9e-4ee6-9f0d-e0c7bb2aa001</td>\n",
       "      <td>a44af3c3-8e6d-4b34-a92c-993d687f0211</td>\n",
       "      <td>Illumina</td>\n",
       "    </tr>\n",
       "    <tr>\n",
       "      <th>4</th>\n",
       "      <td>TCGA-SKCM</td>\n",
       "      <td>TCGA-3N-A9WB</td>\n",
       "      <td>Skin</td>\n",
       "      <td>TCGA-3N-A9WB-06A</td>\n",
       "      <td>TCGA-3N-A9WB-06A-11R-A38C-07</td>\n",
       "      <td>RP11-131H24.5</td>\n",
       "      <td>TEC</td>\n",
       "      <td>ENSG00000279593</td>\n",
       "      <td>ENSG00000279593.1</td>\n",
       "      <td>0</td>\n",
       "      <td>0.000000</td>\n",
       "      <td>0.000000</td>\n",
       "      <td>Metastatic</td>\n",
       "      <td>5564e6a7-2195-4b0d-994e-b0617b58e889</td>\n",
       "      <td>5b0c4070-1e90-4562-85e3-96dd34444e29</td>\n",
       "      <td>4c243ea9-dfe1-42f0-a887-3c901fb38542</td>\n",
       "      <td>48151fe4-7aa5-448f-9a3f-c69b77917c81</td>\n",
       "      <td>6f0f09df-cb9e-4ee6-9f0d-e0c7bb2aa001</td>\n",
       "      <td>a44af3c3-8e6d-4b34-a92c-993d687f0211</td>\n",
       "      <td>Illumina</td>\n",
       "    </tr>\n",
       "    <tr>\n",
       "      <th>...</th>\n",
       "      <td>...</td>\n",
       "      <td>...</td>\n",
       "      <td>...</td>\n",
       "      <td>...</td>\n",
       "      <td>...</td>\n",
       "      <td>...</td>\n",
       "      <td>...</td>\n",
       "      <td>...</td>\n",
       "      <td>...</td>\n",
       "      <td>...</td>\n",
       "      <td>...</td>\n",
       "      <td>...</td>\n",
       "      <td>...</td>\n",
       "      <td>...</td>\n",
       "      <td>...</td>\n",
       "      <td>...</td>\n",
       "      <td>...</td>\n",
       "      <td>...</td>\n",
       "      <td>...</td>\n",
       "      <td>...</td>\n",
       "    </tr>\n",
       "    <tr>\n",
       "      <th>1040</th>\n",
       "      <td>TCGA-SKCM</td>\n",
       "      <td>TCGA-3N-A9WB</td>\n",
       "      <td>Skin</td>\n",
       "      <td>TCGA-3N-A9WB-06A</td>\n",
       "      <td>TCGA-3N-A9WB-06A-11R-A38C-07</td>\n",
       "      <td>RP11-893F2.18</td>\n",
       "      <td>TEC</td>\n",
       "      <td>ENSG00000279792</td>\n",
       "      <td>ENSG00000279792.1</td>\n",
       "      <td>6</td>\n",
       "      <td>0.049440</td>\n",
       "      <td>1212.379853</td>\n",
       "      <td>Metastatic</td>\n",
       "      <td>5564e6a7-2195-4b0d-994e-b0617b58e889</td>\n",
       "      <td>5b0c4070-1e90-4562-85e3-96dd34444e29</td>\n",
       "      <td>4c243ea9-dfe1-42f0-a887-3c901fb38542</td>\n",
       "      <td>48151fe4-7aa5-448f-9a3f-c69b77917c81</td>\n",
       "      <td>6f0f09df-cb9e-4ee6-9f0d-e0c7bb2aa001</td>\n",
       "      <td>a44af3c3-8e6d-4b34-a92c-993d687f0211</td>\n",
       "      <td>Illumina</td>\n",
       "    </tr>\n",
       "    <tr>\n",
       "      <th>1041</th>\n",
       "      <td>TCGA-SKCM</td>\n",
       "      <td>TCGA-3N-A9WB</td>\n",
       "      <td>Skin</td>\n",
       "      <td>TCGA-3N-A9WB-06A</td>\n",
       "      <td>TCGA-3N-A9WB-06A-11R-A38C-07</td>\n",
       "      <td>RP11-178H8.7</td>\n",
       "      <td>TEC</td>\n",
       "      <td>ENSG00000279696</td>\n",
       "      <td>ENSG00000279696.1</td>\n",
       "      <td>75</td>\n",
       "      <td>0.444285</td>\n",
       "      <td>10894.879232</td>\n",
       "      <td>Metastatic</td>\n",
       "      <td>5564e6a7-2195-4b0d-994e-b0617b58e889</td>\n",
       "      <td>5b0c4070-1e90-4562-85e3-96dd34444e29</td>\n",
       "      <td>4c243ea9-dfe1-42f0-a887-3c901fb38542</td>\n",
       "      <td>48151fe4-7aa5-448f-9a3f-c69b77917c81</td>\n",
       "      <td>6f0f09df-cb9e-4ee6-9f0d-e0c7bb2aa001</td>\n",
       "      <td>a44af3c3-8e6d-4b34-a92c-993d687f0211</td>\n",
       "      <td>Illumina</td>\n",
       "    </tr>\n",
       "    <tr>\n",
       "      <th>1042</th>\n",
       "      <td>TCGA-SKCM</td>\n",
       "      <td>TCGA-3N-A9WB</td>\n",
       "      <td>Skin</td>\n",
       "      <td>TCGA-3N-A9WB-06A</td>\n",
       "      <td>TCGA-3N-A9WB-06A-11R-A38C-07</td>\n",
       "      <td>CTD-2286N8.1</td>\n",
       "      <td>TEC</td>\n",
       "      <td>ENSG00000279474</td>\n",
       "      <td>ENSG00000279474.1</td>\n",
       "      <td>0</td>\n",
       "      <td>0.000000</td>\n",
       "      <td>0.000000</td>\n",
       "      <td>Metastatic</td>\n",
       "      <td>5564e6a7-2195-4b0d-994e-b0617b58e889</td>\n",
       "      <td>5b0c4070-1e90-4562-85e3-96dd34444e29</td>\n",
       "      <td>4c243ea9-dfe1-42f0-a887-3c901fb38542</td>\n",
       "      <td>48151fe4-7aa5-448f-9a3f-c69b77917c81</td>\n",
       "      <td>6f0f09df-cb9e-4ee6-9f0d-e0c7bb2aa001</td>\n",
       "      <td>a44af3c3-8e6d-4b34-a92c-993d687f0211</td>\n",
       "      <td>Illumina</td>\n",
       "    </tr>\n",
       "    <tr>\n",
       "      <th>1043</th>\n",
       "      <td>TCGA-SKCM</td>\n",
       "      <td>TCGA-3N-A9WB</td>\n",
       "      <td>Skin</td>\n",
       "      <td>TCGA-3N-A9WB-06A</td>\n",
       "      <td>TCGA-3N-A9WB-06A-11R-A38C-07</td>\n",
       "      <td>RP11-642A1.1</td>\n",
       "      <td>TEC</td>\n",
       "      <td>ENSG00000280326</td>\n",
       "      <td>ENSG00000280326.1</td>\n",
       "      <td>0</td>\n",
       "      <td>0.000000</td>\n",
       "      <td>0.000000</td>\n",
       "      <td>Metastatic</td>\n",
       "      <td>5564e6a7-2195-4b0d-994e-b0617b58e889</td>\n",
       "      <td>5b0c4070-1e90-4562-85e3-96dd34444e29</td>\n",
       "      <td>4c243ea9-dfe1-42f0-a887-3c901fb38542</td>\n",
       "      <td>48151fe4-7aa5-448f-9a3f-c69b77917c81</td>\n",
       "      <td>6f0f09df-cb9e-4ee6-9f0d-e0c7bb2aa001</td>\n",
       "      <td>a44af3c3-8e6d-4b34-a92c-993d687f0211</td>\n",
       "      <td>Illumina</td>\n",
       "    </tr>\n",
       "    <tr>\n",
       "      <th>1044</th>\n",
       "      <td>TCGA-SKCM</td>\n",
       "      <td>TCGA-3N-A9WB</td>\n",
       "      <td>Skin</td>\n",
       "      <td>TCGA-3N-A9WB-06A</td>\n",
       "      <td>TCGA-3N-A9WB-06A-11R-A38C-07</td>\n",
       "      <td>RP3-446N13.3</td>\n",
       "      <td>TEC</td>\n",
       "      <td>ENSG00000280398</td>\n",
       "      <td>ENSG00000280398.1</td>\n",
       "      <td>0</td>\n",
       "      <td>0.000000</td>\n",
       "      <td>0.000000</td>\n",
       "      <td>Metastatic</td>\n",
       "      <td>5564e6a7-2195-4b0d-994e-b0617b58e889</td>\n",
       "      <td>5b0c4070-1e90-4562-85e3-96dd34444e29</td>\n",
       "      <td>4c243ea9-dfe1-42f0-a887-3c901fb38542</td>\n",
       "      <td>48151fe4-7aa5-448f-9a3f-c69b77917c81</td>\n",
       "      <td>6f0f09df-cb9e-4ee6-9f0d-e0c7bb2aa001</td>\n",
       "      <td>a44af3c3-8e6d-4b34-a92c-993d687f0211</td>\n",
       "      <td>Illumina</td>\n",
       "    </tr>\n",
       "  </tbody>\n",
       "</table>\n",
       "<p>1045 rows × 20 columns</p>\n",
       "</div>"
      ],
      "text/plain": [
       "     project_short_name  case_barcode primary_site    sample_barcode  \\\n",
       "0             TCGA-SKCM  TCGA-3N-A9WB         Skin  TCGA-3N-A9WB-06A   \n",
       "1             TCGA-SKCM  TCGA-3N-A9WB         Skin  TCGA-3N-A9WB-06A   \n",
       "2             TCGA-SKCM  TCGA-3N-A9WB         Skin  TCGA-3N-A9WB-06A   \n",
       "3             TCGA-SKCM  TCGA-3N-A9WB         Skin  TCGA-3N-A9WB-06A   \n",
       "4             TCGA-SKCM  TCGA-3N-A9WB         Skin  TCGA-3N-A9WB-06A   \n",
       "...                 ...           ...          ...               ...   \n",
       "1040          TCGA-SKCM  TCGA-3N-A9WB         Skin  TCGA-3N-A9WB-06A   \n",
       "1041          TCGA-SKCM  TCGA-3N-A9WB         Skin  TCGA-3N-A9WB-06A   \n",
       "1042          TCGA-SKCM  TCGA-3N-A9WB         Skin  TCGA-3N-A9WB-06A   \n",
       "1043          TCGA-SKCM  TCGA-3N-A9WB         Skin  TCGA-3N-A9WB-06A   \n",
       "1044          TCGA-SKCM  TCGA-3N-A9WB         Skin  TCGA-3N-A9WB-06A   \n",
       "\n",
       "                   aliquot_barcode      gene_name gene_type  Ensembl_gene_id  \\\n",
       "0     TCGA-3N-A9WB-06A-11R-A38C-07  RP11-849N15.3       TEC  ENSG00000279660   \n",
       "1     TCGA-3N-A9WB-06A-11R-A38C-07      CEP83-AS1       TEC  ENSG00000278916   \n",
       "2     TCGA-3N-A9WB-06A-11R-A38C-07  RP11-113K21.6       TEC  ENSG00000279900   \n",
       "3     TCGA-3N-A9WB-06A-11R-A38C-07   RP11-170K4.2       TEC  ENSG00000279311   \n",
       "4     TCGA-3N-A9WB-06A-11R-A38C-07  RP11-131H24.5       TEC  ENSG00000279593   \n",
       "...                            ...            ...       ...              ...   \n",
       "1040  TCGA-3N-A9WB-06A-11R-A38C-07  RP11-893F2.18       TEC  ENSG00000279792   \n",
       "1041  TCGA-3N-A9WB-06A-11R-A38C-07   RP11-178H8.7       TEC  ENSG00000279696   \n",
       "1042  TCGA-3N-A9WB-06A-11R-A38C-07   CTD-2286N8.1       TEC  ENSG00000279474   \n",
       "1043  TCGA-3N-A9WB-06A-11R-A38C-07   RP11-642A1.1       TEC  ENSG00000280326   \n",
       "1044  TCGA-3N-A9WB-06A-11R-A38C-07   RP3-446N13.3       TEC  ENSG00000280398   \n",
       "\n",
       "      Ensembl_gene_id_v  HTSeq__Counts  HTSeq__FPKM  HTSeq__FPKM_UQ  \\\n",
       "0     ENSG00000279660.1             16     0.224792     5512.420862   \n",
       "1     ENSG00000278916.1             48     0.361099     8854.964536   \n",
       "2     ENSG00000279900.1              2     0.082619     2025.997601   \n",
       "3     ENSG00000279311.1              2     0.019409      475.962014   \n",
       "4     ENSG00000279593.1              0     0.000000        0.000000   \n",
       "...                 ...            ...          ...             ...   \n",
       "1040  ENSG00000279792.1              6     0.049440     1212.379853   \n",
       "1041  ENSG00000279696.1             75     0.444285    10894.879232   \n",
       "1042  ENSG00000279474.1              0     0.000000        0.000000   \n",
       "1043  ENSG00000280326.1              0     0.000000        0.000000   \n",
       "1044  ENSG00000280398.1              0     0.000000        0.000000   \n",
       "\n",
       "     sample_type_name                           case_gdc_id  \\\n",
       "0          Metastatic  5564e6a7-2195-4b0d-994e-b0617b58e889   \n",
       "1          Metastatic  5564e6a7-2195-4b0d-994e-b0617b58e889   \n",
       "2          Metastatic  5564e6a7-2195-4b0d-994e-b0617b58e889   \n",
       "3          Metastatic  5564e6a7-2195-4b0d-994e-b0617b58e889   \n",
       "4          Metastatic  5564e6a7-2195-4b0d-994e-b0617b58e889   \n",
       "...               ...                                   ...   \n",
       "1040       Metastatic  5564e6a7-2195-4b0d-994e-b0617b58e889   \n",
       "1041       Metastatic  5564e6a7-2195-4b0d-994e-b0617b58e889   \n",
       "1042       Metastatic  5564e6a7-2195-4b0d-994e-b0617b58e889   \n",
       "1043       Metastatic  5564e6a7-2195-4b0d-994e-b0617b58e889   \n",
       "1044       Metastatic  5564e6a7-2195-4b0d-994e-b0617b58e889   \n",
       "\n",
       "                             sample_gdc_id  \\\n",
       "0     5b0c4070-1e90-4562-85e3-96dd34444e29   \n",
       "1     5b0c4070-1e90-4562-85e3-96dd34444e29   \n",
       "2     5b0c4070-1e90-4562-85e3-96dd34444e29   \n",
       "3     5b0c4070-1e90-4562-85e3-96dd34444e29   \n",
       "4     5b0c4070-1e90-4562-85e3-96dd34444e29   \n",
       "...                                    ...   \n",
       "1040  5b0c4070-1e90-4562-85e3-96dd34444e29   \n",
       "1041  5b0c4070-1e90-4562-85e3-96dd34444e29   \n",
       "1042  5b0c4070-1e90-4562-85e3-96dd34444e29   \n",
       "1043  5b0c4070-1e90-4562-85e3-96dd34444e29   \n",
       "1044  5b0c4070-1e90-4562-85e3-96dd34444e29   \n",
       "\n",
       "                            aliquot_gdc_id  \\\n",
       "0     4c243ea9-dfe1-42f0-a887-3c901fb38542   \n",
       "1     4c243ea9-dfe1-42f0-a887-3c901fb38542   \n",
       "2     4c243ea9-dfe1-42f0-a887-3c901fb38542   \n",
       "3     4c243ea9-dfe1-42f0-a887-3c901fb38542   \n",
       "4     4c243ea9-dfe1-42f0-a887-3c901fb38542   \n",
       "...                                    ...   \n",
       "1040  4c243ea9-dfe1-42f0-a887-3c901fb38542   \n",
       "1041  4c243ea9-dfe1-42f0-a887-3c901fb38542   \n",
       "1042  4c243ea9-dfe1-42f0-a887-3c901fb38542   \n",
       "1043  4c243ea9-dfe1-42f0-a887-3c901fb38542   \n",
       "1044  4c243ea9-dfe1-42f0-a887-3c901fb38542   \n",
       "\n",
       "                        file_gdc_id_counts  \\\n",
       "0     48151fe4-7aa5-448f-9a3f-c69b77917c81   \n",
       "1     48151fe4-7aa5-448f-9a3f-c69b77917c81   \n",
       "2     48151fe4-7aa5-448f-9a3f-c69b77917c81   \n",
       "3     48151fe4-7aa5-448f-9a3f-c69b77917c81   \n",
       "4     48151fe4-7aa5-448f-9a3f-c69b77917c81   \n",
       "...                                    ...   \n",
       "1040  48151fe4-7aa5-448f-9a3f-c69b77917c81   \n",
       "1041  48151fe4-7aa5-448f-9a3f-c69b77917c81   \n",
       "1042  48151fe4-7aa5-448f-9a3f-c69b77917c81   \n",
       "1043  48151fe4-7aa5-448f-9a3f-c69b77917c81   \n",
       "1044  48151fe4-7aa5-448f-9a3f-c69b77917c81   \n",
       "\n",
       "                          file_gdc_id_fpkm  \\\n",
       "0     6f0f09df-cb9e-4ee6-9f0d-e0c7bb2aa001   \n",
       "1     6f0f09df-cb9e-4ee6-9f0d-e0c7bb2aa001   \n",
       "2     6f0f09df-cb9e-4ee6-9f0d-e0c7bb2aa001   \n",
       "3     6f0f09df-cb9e-4ee6-9f0d-e0c7bb2aa001   \n",
       "4     6f0f09df-cb9e-4ee6-9f0d-e0c7bb2aa001   \n",
       "...                                    ...   \n",
       "1040  6f0f09df-cb9e-4ee6-9f0d-e0c7bb2aa001   \n",
       "1041  6f0f09df-cb9e-4ee6-9f0d-e0c7bb2aa001   \n",
       "1042  6f0f09df-cb9e-4ee6-9f0d-e0c7bb2aa001   \n",
       "1043  6f0f09df-cb9e-4ee6-9f0d-e0c7bb2aa001   \n",
       "1044  6f0f09df-cb9e-4ee6-9f0d-e0c7bb2aa001   \n",
       "\n",
       "                       file_gdc_id_fpkm_uq  platform  \n",
       "0     a44af3c3-8e6d-4b34-a92c-993d687f0211  Illumina  \n",
       "1     a44af3c3-8e6d-4b34-a92c-993d687f0211  Illumina  \n",
       "2     a44af3c3-8e6d-4b34-a92c-993d687f0211  Illumina  \n",
       "3     a44af3c3-8e6d-4b34-a92c-993d687f0211  Illumina  \n",
       "4     a44af3c3-8e6d-4b34-a92c-993d687f0211  Illumina  \n",
       "...                                    ...       ...  \n",
       "1040  a44af3c3-8e6d-4b34-a92c-993d687f0211  Illumina  \n",
       "1041  a44af3c3-8e6d-4b34-a92c-993d687f0211  Illumina  \n",
       "1042  a44af3c3-8e6d-4b34-a92c-993d687f0211  Illumina  \n",
       "1043  a44af3c3-8e6d-4b34-a92c-993d687f0211  Illumina  \n",
       "1044  a44af3c3-8e6d-4b34-a92c-993d687f0211  Illumina  \n",
       "\n",
       "[1045 rows x 20 columns]"
      ]
     },
     "execution_count": 52,
     "metadata": {},
     "output_type": "execute_result"
    }
   ],
   "source": [
    "pd.read_gbq(\n",
    "    \"\"\"\n",
    "select \n",
    "    *\n",
    "from \n",
    "    `isb-cgc-bq.TCGA.RNAseq_hg38_gdc_current` \n",
    "where \n",
    "    aliquot_barcode = \"TCGA-3N-A9WB-06A-11R-A38C-07\"\n",
    "    and gene_type = \"TEC\"\n",
    "\"\"\",\n",
    "    project_id=\"keen-dispatch-316219\",\n",
    ")"
   ]
  },
  {
   "cell_type": "code",
   "execution_count": null,
   "id": "61d92129-e6b5-4f45-a10d-572f5d646626",
   "metadata": {
    "tags": []
   },
   "outputs": [],
   "source": [
    "query = \"\"\"\n",
    "SELECT \n",
    "    --project_short_name,\n",
    "    --case_barcode,\n",
    "    --sample_barcode,\n",
    "    aliquot_barcode,\n",
    "    --primary_site,\n",
    "    gene_name,\n",
    "    gene_type,\n",
    "    Ensembl_gene_id,\n",
    "    HTSeq__Counts,\n",
    "    HTSeq__FPKM,\n",
    "    HTSeq__FPKM_UQ,\n",
    "    sample_type_name,\n",
    "    platform\n",
    "FROM `isb-cgc-bq.TCGA.RNAseq_hg38_gdc_current` \n",
    "where aliquot_barcode = \"TCGA-3N-A9WB-06A-11R-A38C-07\"\n",
    "\"\"\"\n",
    "\n",
    "df = (\n",
    "    pd.read_gbq(query, project_id=\"keen-dispatch-316219\")\n",
    "    .set_index(\"gene_name\", drop=False)\n",
    "    .sort_index()\n",
    ")"
   ]
  },
  {
   "cell_type": "code",
   "execution_count": null,
   "id": "cb7798aa-d835-4e4c-823f-e785c4abd76e",
   "metadata": {
    "tags": []
   },
   "outputs": [],
   "source": [
    "df"
   ]
  },
  {
   "cell_type": "code",
   "execution_count": null,
   "id": "fa5f9bae-b94e-42be-b2ab-5c19b9f6fee3",
   "metadata": {
    "tags": []
   },
   "outputs": [],
   "source": [
    "df.loc[df[\"gene_name\"].str[:2] == \"PU\"]"
   ]
  },
  {
   "cell_type": "code",
   "execution_count": null,
   "id": "b252cbfd-5a0c-417d-aedb-27a0d8e59e22",
   "metadata": {
    "tags": []
   },
   "outputs": [],
   "source": [
    "df.loc[df[\"gene_type\"] == \"protein_coding\"]"
   ]
  },
  {
   "cell_type": "code",
   "execution_count": null,
   "id": "84c578a5-0850-4107-a573-93703c2bab29",
   "metadata": {
    "tags": []
   },
   "outputs": [],
   "source": [
    "df.gene_type.value_counts().index"
   ]
  },
  {
   "cell_type": "code",
   "execution_count": null,
   "id": "2dc7d17b-1db6-40a2-98b6-cd60e222ad55",
   "metadata": {
    "tags": []
   },
   "outputs": [],
   "source": [
    "df.groupby(\"gene_type\").agg(\n",
    "    count=(\"gene_name\", \"count\"),\n",
    "    HTSeq__Counts_sum=(\"HTSeq__Counts\", \"sum\"),\n",
    "    HTSeq__Counts_zero_frac=(\"HTSeq__Counts\", lambda x: (x == 0).mean()),\n",
    "    HTSeq__FPKM=(\"HTSeq__FPKM\", \"sum\"),\n",
    "    HTSeq__FPKM_UQ=(\"HTSeq__FPKM_UQ\", \"sum\"),\n",
    ").sort_values(\"count\", ascending=False)"
   ]
  },
  {
   "cell_type": "code",
   "execution_count": null,
   "id": "7a370a69-9b58-4145-8467-a6314d391cc9",
   "metadata": {
    "tags": []
   },
   "outputs": [],
   "source": [
    "np.log10(df[\"HTSeq__Counts\"] + 1).describe()"
   ]
  },
  {
   "cell_type": "code",
   "execution_count": null,
   "id": "fe060a1a-ae9a-4331-bac8-5061d5ea4b17",
   "metadata": {
    "tags": []
   },
   "outputs": [],
   "source": [
    "px.histogram(np.log10(df[\"HTSeq__Counts\"] + 1))"
   ]
  },
  {
   "cell_type": "code",
   "execution_count": null,
   "id": "c4d442b3-969a-45d7-a44e-5a33d4e46c64",
   "metadata": {},
   "outputs": [],
   "source": [
    "df.loc[\"A1BG\"]"
   ]
  },
  {
   "cell_type": "markdown",
   "id": "e81ec33b-0154-4e50-ab03-115ad737b2ba",
   "metadata": {},
   "source": [
    "### clinical metadata from isb-cgc-bq"
   ]
  },
  {
   "cell_type": "code",
   "execution_count": 15,
   "id": "90b57570-d3fe-451d-bd3e-80ce0ab13b03",
   "metadata": {
    "execution": {
     "iopub.execute_input": "2022-03-11T19:56:27.377217Z",
     "iopub.status.busy": "2022-03-11T19:56:27.376918Z",
     "iopub.status.idle": "2022-03-11T19:56:28.488249Z",
     "shell.execute_reply": "2022-03-11T19:56:28.487770Z",
     "shell.execute_reply.started": "2022-03-11T19:56:27.377191Z"
    },
    "tags": []
   },
   "outputs": [
    {
     "data": {
      "text/html": [
       "<div>\n",
       "<style scoped>\n",
       "    .dataframe tbody tr th:only-of-type {\n",
       "        vertical-align: middle;\n",
       "    }\n",
       "\n",
       "    .dataframe tbody tr th {\n",
       "        vertical-align: top;\n",
       "    }\n",
       "\n",
       "    .dataframe thead th {\n",
       "        text-align: right;\n",
       "    }\n",
       "</style>\n",
       "<table border=\"1\" class=\"dataframe\">\n",
       "  <thead>\n",
       "    <tr style=\"text-align: right;\">\n",
       "      <th></th>\n",
       "      <th>sample_barcode</th>\n",
       "      <th>sample_gdc_id</th>\n",
       "      <th>case_barcode</th>\n",
       "      <th>case_gdc_id</th>\n",
       "      <th>sample_type</th>\n",
       "      <th>sample_type_name</th>\n",
       "      <th>program_name</th>\n",
       "      <th>project_short_name</th>\n",
       "      <th>batch_number</th>\n",
       "      <th>bcr</th>\n",
       "      <th>...</th>\n",
       "      <th>max_percent_tumor_cells</th>\n",
       "      <th>max_percent_tumor_nuclei</th>\n",
       "      <th>min_percent_lymphocyte_infiltration</th>\n",
       "      <th>min_percent_monocyte_infiltration</th>\n",
       "      <th>min_percent_necrosis</th>\n",
       "      <th>min_percent_neutrophil_infiltration</th>\n",
       "      <th>min_percent_normal_cells</th>\n",
       "      <th>min_percent_stromal_cells</th>\n",
       "      <th>min_percent_tumor_cells</th>\n",
       "      <th>min_percent_tumor_nuclei</th>\n",
       "    </tr>\n",
       "  </thead>\n",
       "  <tbody>\n",
       "    <tr>\n",
       "      <th>0</th>\n",
       "      <td>TCGA-3N-A9WB-10A</td>\n",
       "      <td>2aad1db1-196a-4699-a5a3-24f8214d8b7d</td>\n",
       "      <td>TCGA-3N-A9WB</td>\n",
       "      <td>5564e6a7-2195-4b0d-994e-b0617b58e889</td>\n",
       "      <td>10</td>\n",
       "      <td>Blood Derived Normal</td>\n",
       "      <td>TCGA</td>\n",
       "      <td>TCGA-SKCM</td>\n",
       "      <td>393</td>\n",
       "      <td>Nationwide Children's Hospital</td>\n",
       "      <td>...</td>\n",
       "      <td>NaN</td>\n",
       "      <td>NaN</td>\n",
       "      <td>NaN</td>\n",
       "      <td>NaN</td>\n",
       "      <td>NaN</td>\n",
       "      <td>NaN</td>\n",
       "      <td>NaN</td>\n",
       "      <td>NaN</td>\n",
       "      <td>NaN</td>\n",
       "      <td>NaN</td>\n",
       "    </tr>\n",
       "    <tr>\n",
       "      <th>1</th>\n",
       "      <td>TCGA-3N-A9WB-06A</td>\n",
       "      <td>5b0c4070-1e90-4562-85e3-96dd34444e29</td>\n",
       "      <td>TCGA-3N-A9WB</td>\n",
       "      <td>5564e6a7-2195-4b0d-994e-b0617b58e889</td>\n",
       "      <td>06</td>\n",
       "      <td>Metastatic</td>\n",
       "      <td>TCGA</td>\n",
       "      <td>TCGA-SKCM</td>\n",
       "      <td>393</td>\n",
       "      <td>Nationwide Children's Hospital</td>\n",
       "      <td>...</td>\n",
       "      <td>80.0</td>\n",
       "      <td>80.0</td>\n",
       "      <td>3.0</td>\n",
       "      <td>1.0</td>\n",
       "      <td>0.0</td>\n",
       "      <td>2.0</td>\n",
       "      <td>3.0</td>\n",
       "      <td>17.0</td>\n",
       "      <td>80.0</td>\n",
       "      <td>80.0</td>\n",
       "    </tr>\n",
       "  </tbody>\n",
       "</table>\n",
       "<p>2 rows × 39 columns</p>\n",
       "</div>"
      ],
      "text/plain": [
       "     sample_barcode                         sample_gdc_id  case_barcode  \\\n",
       "0  TCGA-3N-A9WB-10A  2aad1db1-196a-4699-a5a3-24f8214d8b7d  TCGA-3N-A9WB   \n",
       "1  TCGA-3N-A9WB-06A  5b0c4070-1e90-4562-85e3-96dd34444e29  TCGA-3N-A9WB   \n",
       "\n",
       "                            case_gdc_id sample_type      sample_type_name  \\\n",
       "0  5564e6a7-2195-4b0d-994e-b0617b58e889          10  Blood Derived Normal   \n",
       "1  5564e6a7-2195-4b0d-994e-b0617b58e889          06            Metastatic   \n",
       "\n",
       "  program_name project_short_name  batch_number  \\\n",
       "0         TCGA          TCGA-SKCM           393   \n",
       "1         TCGA          TCGA-SKCM           393   \n",
       "\n",
       "                              bcr  ...  max_percent_tumor_cells  \\\n",
       "0  Nationwide Children's Hospital  ...                      NaN   \n",
       "1  Nationwide Children's Hospital  ...                     80.0   \n",
       "\n",
       "   max_percent_tumor_nuclei min_percent_lymphocyte_infiltration  \\\n",
       "0                       NaN                                 NaN   \n",
       "1                      80.0                                 3.0   \n",
       "\n",
       "   min_percent_monocyte_infiltration  min_percent_necrosis  \\\n",
       "0                                NaN                   NaN   \n",
       "1                                1.0                   0.0   \n",
       "\n",
       "   min_percent_neutrophil_infiltration  min_percent_normal_cells  \\\n",
       "0                                  NaN                       NaN   \n",
       "1                                  2.0                       3.0   \n",
       "\n",
       "   min_percent_stromal_cells  min_percent_tumor_cells  \\\n",
       "0                        NaN                      NaN   \n",
       "1                       17.0                     80.0   \n",
       "\n",
       "   min_percent_tumor_nuclei  \n",
       "0                       NaN  \n",
       "1                      80.0  \n",
       "\n",
       "[2 rows x 39 columns]"
      ]
     },
     "execution_count": 15,
     "metadata": {},
     "output_type": "execute_result"
    }
   ],
   "source": [
    "query = \"\"\"\n",
    "select *\n",
    "from `isb-cgc-bq.TCGA.biospecimen_gdc_current`\n",
    "where case_barcode = \"TCGA-3N-A9WB\"\n",
    "\"\"\"\n",
    "\n",
    "pd.read_gbq(query, project_id=\"keen-dispatch-316219\")"
   ]
  },
  {
   "cell_type": "code",
   "execution_count": 16,
   "id": "aae50b29-d384-4a56-8231-d78066e477c8",
   "metadata": {
    "execution": {
     "iopub.execute_input": "2022-03-11T19:59:47.316564Z",
     "iopub.status.busy": "2022-03-11T19:59:47.316257Z",
     "iopub.status.idle": "2022-03-11T19:59:48.485859Z",
     "shell.execute_reply": "2022-03-11T19:59:48.485425Z",
     "shell.execute_reply.started": "2022-03-11T19:59:47.316541Z"
    },
    "tags": []
   },
   "outputs": [],
   "source": [
    "query = \"\"\"\n",
    "select *\n",
    "from `isb-cgc-bq.TCGA.biospecimen_gdc_current`\n",
    "where project_short_name = \"TCGA-SKCM\"\n",
    "\"\"\"\n",
    "\n",
    "df = pd.read_gbq(query, project_id=\"keen-dispatch-316219\")"
   ]
  },
  {
   "cell_type": "code",
   "execution_count": 20,
   "id": "56d986ac-9a9e-4ac5-95f4-e30df593490d",
   "metadata": {
    "execution": {
     "iopub.execute_input": "2022-03-11T20:01:34.707910Z",
     "iopub.status.busy": "2022-03-11T20:01:34.707627Z",
     "iopub.status.idle": "2022-03-11T20:01:34.713955Z",
     "shell.execute_reply": "2022-03-11T20:01:34.713383Z",
     "shell.execute_reply.started": "2022-03-11T20:01:34.707890Z"
    },
    "tags": []
   },
   "outputs": [
    {
     "data": {
      "text/plain": [
       "sample_barcode                                             TCGA-GN-A4U4-06A\n",
       "sample_gdc_id                          12dc3f5a-49a4-4f56-935d-eb09a6789523\n",
       "case_barcode                                                   TCGA-GN-A4U4\n",
       "case_gdc_id                            6dc9c5b0-77e6-4c53-a75c-8f01731c54e8\n",
       "sample_type                                                              06\n",
       "sample_type_name                                                 Metastatic\n",
       "program_name                                                           TCGA\n",
       "project_short_name                                                TCGA-SKCM\n",
       "batch_number                                                            332\n",
       "bcr                                          Nationwide Children's Hospital\n",
       "days_to_collection                                                    526.0\n",
       "days_to_sample_procurement                                             65.0\n",
       "is_ffpe                                                                  NO\n",
       "num_portions                                                              1\n",
       "num_slides                                                                1\n",
       "avg_percent_lymphocyte_infiltration                                     7.0\n",
       "avg_percent_monocyte_infiltration                                       0.0\n",
       "avg_percent_necrosis                                                    2.0\n",
       "avg_percent_neutrophil_infiltration                                     0.0\n",
       "avg_percent_normal_cells                                                2.0\n",
       "avg_percent_stromal_cells                                               1.0\n",
       "avg_percent_tumor_cells                                                95.0\n",
       "avg_percent_tumor_nuclei                                               90.0\n",
       "max_percent_lymphocyte_infiltration                                     7.0\n",
       "max_percent_monocyte_infiltration                                       0.0\n",
       "max_percent_necrosis                                                    2.0\n",
       "max_percent_neutrophil_infiltration                                     0.0\n",
       "max_percent_normal_cells                                                2.0\n",
       "max_percent_stromal_cells                                               1.0\n",
       "max_percent_tumor_cells                                                95.0\n",
       "max_percent_tumor_nuclei                                               90.0\n",
       "min_percent_lymphocyte_infiltration                                     7.0\n",
       "min_percent_monocyte_infiltration                                       0.0\n",
       "min_percent_necrosis                                                    2.0\n",
       "min_percent_neutrophil_infiltration                                     0.0\n",
       "min_percent_normal_cells                                                2.0\n",
       "min_percent_stromal_cells                                               1.0\n",
       "min_percent_tumor_cells                                                95.0\n",
       "min_percent_tumor_nuclei                                               90.0\n",
       "Name: 0, dtype: object"
      ]
     },
     "execution_count": 20,
     "metadata": {},
     "output_type": "execute_result"
    }
   ],
   "source": [
    "df.loc[0]"
   ]
  },
  {
   "cell_type": "code",
   "execution_count": 19,
   "id": "a561a87b-df64-45ca-8fac-3886d71730fb",
   "metadata": {
    "execution": {
     "iopub.execute_input": "2022-03-11T20:00:32.191305Z",
     "iopub.status.busy": "2022-03-11T20:00:32.191021Z",
     "iopub.status.idle": "2022-03-11T20:00:32.254149Z",
     "shell.execute_reply": "2022-03-11T20:00:32.253655Z",
     "shell.execute_reply.started": "2022-03-11T20:00:32.191282Z"
    },
    "tags": []
   },
   "outputs": [
    {
     "data": {
      "text/plain": [
       "sample_barcode                         948\n",
       "sample_gdc_id                          946\n",
       "case_barcode                           471\n",
       "case_gdc_id                            470\n",
       "sample_type                              5\n",
       "sample_type_name                         5\n",
       "program_name                             1\n",
       "project_short_name                       1\n",
       "batch_number                            14\n",
       "bcr                                      1\n",
       "days_to_collection                     429\n",
       "days_to_sample_procurement             518\n",
       "is_ffpe                                  1\n",
       "num_portions                             2\n",
       "num_slides                               2\n",
       "avg_percent_lymphocyte_infiltration     18\n",
       "avg_percent_monocyte_infiltration        9\n",
       "avg_percent_necrosis                    15\n",
       "avg_percent_neutrophil_infiltration      4\n",
       "avg_percent_normal_cells                19\n",
       "avg_percent_stromal_cells               34\n",
       "avg_percent_tumor_cells                 27\n",
       "avg_percent_tumor_nuclei                19\n",
       "max_percent_lymphocyte_infiltration     18\n",
       "max_percent_monocyte_infiltration        9\n",
       "max_percent_necrosis                    15\n",
       "max_percent_neutrophil_infiltration      4\n",
       "max_percent_normal_cells                19\n",
       "max_percent_stromal_cells               34\n",
       "max_percent_tumor_cells                 27\n",
       "max_percent_tumor_nuclei                19\n",
       "min_percent_lymphocyte_infiltration     18\n",
       "min_percent_monocyte_infiltration        9\n",
       "min_percent_necrosis                    15\n",
       "min_percent_neutrophil_infiltration      4\n",
       "min_percent_normal_cells                19\n",
       "min_percent_stromal_cells               34\n",
       "min_percent_tumor_cells                 27\n",
       "min_percent_tumor_nuclei                19\n",
       "dtype: int64"
      ]
     },
     "execution_count": 19,
     "metadata": {},
     "output_type": "execute_result"
    }
   ],
   "source": [
    "df.nunique()"
   ]
  },
  {
   "cell_type": "code",
   "execution_count": 33,
   "id": "ac56f4b9-a37d-4e9d-98be-add24438cc6a",
   "metadata": {
    "execution": {
     "iopub.execute_input": "2022-03-11T20:05:03.220992Z",
     "iopub.status.busy": "2022-03-11T20:05:03.220418Z",
     "iopub.status.idle": "2022-03-11T20:05:03.246173Z",
     "shell.execute_reply": "2022-03-11T20:05:03.245517Z",
     "shell.execute_reply.started": "2022-03-11T20:05:03.220947Z"
    },
    "tags": []
   },
   "outputs": [
    {
     "data": {
      "text/plain": [
       "Blood Derived Normal     470\n",
       "Metastatic               369\n",
       "Primary solid Tumor      104\n",
       "Solid Tissue Normal        3\n",
       "Additional Metastatic      2\n",
       "Name: sample_type_name, dtype: int64"
      ]
     },
     "execution_count": 33,
     "metadata": {},
     "output_type": "execute_result"
    }
   ],
   "source": [
    "df[\"sample_type_name\"].value_counts()"
   ]
  },
  {
   "cell_type": "code",
   "execution_count": 37,
   "id": "9ea65b7a-d840-445e-9520-252669f16438",
   "metadata": {
    "execution": {
     "iopub.execute_input": "2022-03-11T22:19:11.847707Z",
     "iopub.status.busy": "2022-03-11T22:19:11.847233Z",
     "iopub.status.idle": "2022-03-11T22:19:11.859138Z",
     "shell.execute_reply": "2022-03-11T22:19:11.858582Z",
     "shell.execute_reply.started": "2022-03-11T22:19:11.847683Z"
    },
    "tags": []
   },
   "outputs": [
    {
     "data": {
      "text/plain": [
       "case_barcode  sample_type_name      sample_barcode  \n",
       "TCGA-3N-A9WB  Blood Derived Normal  TCGA-3N-A9WB-10A    1\n",
       "              Metastatic            TCGA-3N-A9WB-06A    1\n",
       "TCGA-3N-A9WC  Blood Derived Normal  TCGA-3N-A9WC-10A    1\n",
       "              Metastatic            TCGA-3N-A9WC-06A    1\n",
       "TCGA-3N-A9WD  Blood Derived Normal  TCGA-3N-A9WD-10A    1\n",
       "                                                       ..\n",
       "TCGA-Z2-A8RT  Metastatic            TCGA-Z2-A8RT-06A    1\n",
       "TCGA-Z2-AA3S  Blood Derived Normal  TCGA-Z2-AA3S-10A    1\n",
       "              Metastatic            TCGA-Z2-AA3S-06A    1\n",
       "TCGA-Z2-AA3V  Blood Derived Normal  TCGA-Z2-AA3V-10A    1\n",
       "              Metastatic            TCGA-Z2-AA3V-06A    1\n",
       "Name: sample_barcode, Length: 948, dtype: int64"
      ]
     },
     "execution_count": 37,
     "metadata": {},
     "output_type": "execute_result"
    }
   ],
   "source": [
    "df.groupby([\"case_barcode\", \"sample_type_name\", \"sample_barcode\"])[\n",
    "    \"sample_barcode\"\n",
    "].nunique().sort_index()"
   ]
  },
  {
   "cell_type": "code",
   "execution_count": 46,
   "id": "5b700e89-759a-48bc-9aa8-07038fff5f01",
   "metadata": {
    "execution": {
     "iopub.execute_input": "2022-03-11T22:37:17.886561Z",
     "iopub.status.busy": "2022-03-11T22:37:17.886223Z",
     "iopub.status.idle": "2022-03-11T22:37:18.971699Z",
     "shell.execute_reply": "2022-03-11T22:37:18.971140Z",
     "shell.execute_reply.started": "2022-03-11T22:37:17.886538Z"
    },
    "tags": []
   },
   "outputs": [],
   "source": [
    "query = \"\"\"\n",
    "select sample_barcode, sample_gdc_id, case_barcode, case_gdc_id, sample_type, sample_type_name, program_name, project_short_name\n",
    "from `isb-cgc-bq.TCGA.biospecimen_gdc_current`\n",
    "where sample_type_name = \"Metastatic\" and project_short_name = \"TCGA-SKCM\"\n",
    "\"\"\"\n",
    "\n",
    "samples_mets = pd.read_gbq(query, project_id=\"keen-dispatch-316219\")"
   ]
  },
  {
   "cell_type": "code",
   "execution_count": 47,
   "id": "8e49548d-506b-4196-82d6-cdb1969ec2f1",
   "metadata": {
    "execution": {
     "iopub.execute_input": "2022-03-11T22:37:19.586073Z",
     "iopub.status.busy": "2022-03-11T22:37:19.585800Z",
     "iopub.status.idle": "2022-03-11T22:37:19.590856Z",
     "shell.execute_reply": "2022-03-11T22:37:19.590252Z",
     "shell.execute_reply.started": "2022-03-11T22:37:19.586050Z"
    },
    "tags": []
   },
   "outputs": [
    {
     "data": {
      "text/plain": [
       "sample_barcode                            TCGA-GN-A4U4-06A\n",
       "sample_gdc_id         12dc3f5a-49a4-4f56-935d-eb09a6789523\n",
       "case_barcode                                  TCGA-GN-A4U4\n",
       "case_gdc_id           6dc9c5b0-77e6-4c53-a75c-8f01731c54e8\n",
       "sample_type                                             06\n",
       "sample_type_name                                Metastatic\n",
       "program_name                                          TCGA\n",
       "project_short_name                               TCGA-SKCM\n",
       "Name: 0, dtype: object"
      ]
     },
     "execution_count": 47,
     "metadata": {},
     "output_type": "execute_result"
    }
   ],
   "source": [
    "df.loc[0]"
   ]
  },
  {
   "cell_type": "code",
   "execution_count": 50,
   "id": "f8aafc1e-d83a-491a-bd8a-036e579c708d",
   "metadata": {
    "execution": {
     "iopub.execute_input": "2022-03-11T22:37:38.509294Z",
     "iopub.status.busy": "2022-03-11T22:37:38.509031Z",
     "iopub.status.idle": "2022-03-11T22:37:38.512343Z",
     "shell.execute_reply": "2022-03-11T22:37:38.511682Z",
     "shell.execute_reply.started": "2022-03-11T22:37:38.509271Z"
    },
    "tags": []
   },
   "outputs": [],
   "source": [
    "samples_mets = df[\"sample_barcode\"]"
   ]
  },
  {
   "cell_type": "code",
   "execution_count": 51,
   "id": "bdfd0698-66d3-4110-9b7b-01d504d6a483",
   "metadata": {
    "execution": {
     "iopub.execute_input": "2022-03-11T22:37:40.141692Z",
     "iopub.status.busy": "2022-03-11T22:37:40.141411Z",
     "iopub.status.idle": "2022-03-11T22:37:40.146427Z",
     "shell.execute_reply": "2022-03-11T22:37:40.145897Z",
     "shell.execute_reply.started": "2022-03-11T22:37:40.141670Z"
    },
    "tags": []
   },
   "outputs": [
    {
     "data": {
      "text/plain": [
       "0      TCGA-GN-A4U4-06A\n",
       "1      TCGA-D3-A2JG-06A\n",
       "2      TCGA-EE-A29H-06A\n",
       "3      TCGA-BF-AAP0-06A\n",
       "4      TCGA-EE-A3AD-06A\n",
       "             ...       \n",
       "364    TCGA-EE-A29B-06A\n",
       "365    TCGA-FS-A4F5-06A\n",
       "366    TCGA-QB-AA9O-06A\n",
       "367    TCGA-GN-A261-06A\n",
       "368    TCGA-EE-A3AF-06A\n",
       "Name: sample_barcode, Length: 369, dtype: object"
      ]
     },
     "execution_count": 51,
     "metadata": {},
     "output_type": "execute_result"
    }
   ],
   "source": [
    "samples_mets"
   ]
  },
  {
   "cell_type": "markdown",
   "id": "6630b0e9-3c03-41e4-a083-ad6d5cced6a6",
   "metadata": {},
   "source": [
    "## Jerby-Arnon scRNA-seq"
   ]
  },
  {
   "cell_type": "code",
   "execution_count": null,
   "id": "db1d8f4a-45ae-483d-8dd8-cb922e275194",
   "metadata": {
    "tags": []
   },
   "outputs": [],
   "source": [
    "sc_data, sc_metadata = helpers.datasets.load_jerby_arnon()\n",
    "sc_data = helpers.creating_mixtures.normalize_expression(sc_data, 1_000_000)"
   ]
  },
  {
   "cell_type": "code",
   "execution_count": null,
   "id": "a7c1813d-890d-471e-96bd-63b8d46fb3a1",
   "metadata": {
    "tags": []
   },
   "outputs": [],
   "source": [
    "sc_data"
   ]
  },
  {
   "cell_type": "code",
   "execution_count": null,
   "id": "7f8938a9-70bd-4a67-a444-73814d0b742e",
   "metadata": {
    "tags": []
   },
   "outputs": [],
   "source": [
    "sc_metadata"
   ]
  },
  {
   "cell_type": "markdown",
   "id": "37b89589-bde5-4024-b85d-36775dc5b0c2",
   "metadata": {},
   "source": [
    "## pseudobulks from Jerby-Arnon scRNA-seq"
   ]
  },
  {
   "cell_type": "markdown",
   "id": "8ecd7a84-c8d6-43a1-af77-bb1e4efd1b2d",
   "metadata": {},
   "source": [
    "### fractions from csx of TCGA SKCM"
   ]
  },
  {
   "cell_type": "code",
   "execution_count": null,
   "id": "3c6c9083-1d5d-48d6-885c-6b58cbe2dbc4",
   "metadata": {},
   "outputs": [],
   "source": [
    "fractions = helpers.datasets.load_tcga_skcm_fractions_from_csx()"
   ]
  },
  {
   "cell_type": "code",
   "execution_count": null,
   "id": "c22bb8a7-782a-4017-9299-342ed0d42f2f",
   "metadata": {},
   "outputs": [],
   "source": [
    "fractions"
   ]
  },
  {
   "cell_type": "markdown",
   "id": "9faa3d71-4359-4b09-aa02-160a57c66064",
   "metadata": {},
   "source": [
    "### compute pseudobulks"
   ]
  },
  {
   "cell_type": "code",
   "execution_count": null,
   "id": "18ba43bc-2e50-4b86-92b2-46b5f0bc64b9",
   "metadata": {
    "tags": []
   },
   "outputs": [],
   "source": [
    "# import importlib\n",
    "# importlib.reload(helpers.creating_mixtures)"
   ]
  },
  {
   "cell_type": "code",
   "execution_count": null,
   "id": "6154e5c1-432b-473c-8de6-801ac69cadf8",
   "metadata": {
    "tags": []
   },
   "outputs": [],
   "source": [
    "mixtures_in_silico, cell_type_geps = helpers.creating_mixtures.make_mixtures(\n",
    "    sc_data,\n",
    "    sc_metadata,\n",
    "    fractions,\n",
    "    n_cells_per_gep=5,\n",
    "    normalization_factor=1_000_000,\n",
    "    rng=rng,\n",
    ")"
   ]
  },
  {
   "cell_type": "code",
   "execution_count": null,
   "id": "f58ba51d-2301-481a-8cac-caecdb3ea2af",
   "metadata": {},
   "outputs": [],
   "source": [
    "helpers.creating_mixtures.make_cell_type_geps(sc_data, sc_metadata, rng=rng)"
   ]
  },
  {
   "cell_type": "code",
   "execution_count": null,
   "id": "365a74ad-c0c8-489e-a15d-a722350987d0",
   "metadata": {
    "tags": []
   },
   "outputs": [],
   "source": [
    "x = sc_metadata.groupby(\"cell.types\")"
   ]
  },
  {
   "cell_type": "code",
   "execution_count": null,
   "id": "600b4ad5-c403-4ab3-a91f-26aaa3baf97f",
   "metadata": {
    "tags": []
   },
   "outputs": [],
   "source": [
    "for thing in x.groups.values():\n",
    "    print(thing)"
   ]
  },
  {
   "cell_type": "code",
   "execution_count": null,
   "id": "8beffae4-3d9e-4265-b797-ee1ebe9b32a0",
   "metadata": {
    "tags": []
   },
   "outputs": [],
   "source": [
    "type(thing)"
   ]
  },
  {
   "cell_type": "code",
   "execution_count": null,
   "id": "6b313c00-0129-4c34-ae56-5bf4320e146d",
   "metadata": {
    "tags": []
   },
   "outputs": [],
   "source": [
    "sc_metadata.groupby(\"cell.types\").apply(lambda group: list(rng.choice(group.index, 3)))"
   ]
  },
  {
   "cell_type": "code",
   "execution_count": null,
   "id": "30fab850-43ff-440f-b2e3-44915f55508e",
   "metadata": {
    "tags": []
   },
   "outputs": [],
   "source": [
    "metadata = pd.read_csv(\n",
    "    \"gs://liulab/ftp/GSE115978/GSE115978_cell.annotations.csv\",\n",
    "    na_values={\"cell.types\": \"?\"},\n",
    ")\n",
    "metadata = metadata.replace({\"cell.types\": helpers.cell_type_naming.weird_to_nice})\n",
    "metadata = metadata.rename(columns={\"cells\": helpers.datasets.SINGLE_CELL_COLUMN_NAME})\n",
    "metadata = metadata.set_index(helpers.datasets.SINGLE_CELL_COLUMN_NAME, drop=False)\n",
    "metadata = metadata.sort_index()\n",
    "# metadata = metadata.sort_index(axis=\"columns\")"
   ]
  },
  {
   "cell_type": "code",
   "execution_count": null,
   "id": "5ed7fa3c-2a61-4234-af3b-d0cda0e3868e",
   "metadata": {
    "tags": []
   },
   "outputs": [],
   "source": [
    "metadata"
   ]
  }
 ],
 "metadata": {
  "environment": {
   "kernel": "conda-env-py39-py",
   "name": "common-cpu.m84",
   "type": "gcloud",
   "uri": "gcr.io/deeplearning-platform-release/base-cpu:m84"
  },
  "kernelspec": {
   "display_name": "Python [conda env:py39]",
   "language": "python",
   "name": "conda-env-py39-py"
  },
  "language_info": {
   "codemirror_mode": {
    "name": "ipython",
    "version": 3
   },
   "file_extension": ".py",
   "mimetype": "text/x-python",
   "name": "python",
   "nbconvert_exporter": "python",
   "pygments_lexer": "ipython3",
   "version": "3.9.0"
  }
 },
 "nbformat": 4,
 "nbformat_minor": 5
}
