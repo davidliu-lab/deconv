{
 "cells": [
  {
   "cell_type": "code",
   "execution_count": 1,
   "id": "690b37a1-176b-4ed4-9c73-f4eb0eef422e",
   "metadata": {},
   "outputs": [],
   "source": [
    "import logging\n",
    "import os\n",
    "from pprint import pprint\n",
    "\n",
    "import dask.dataframe as dd\n",
    "import numpy as np\n",
    "import pandas as pd\n",
    "import scipy.stats\n",
    "from cloudpathlib import AnyPath as Path"
   ]
  },
  {
   "cell_type": "code",
   "execution_count": 2,
   "id": "8f1ae3d3-5cdf-4458-91b9-f97433390802",
   "metadata": {},
   "outputs": [],
   "source": [
    "import warnings\n",
    "\n",
    "# with warnings.catch_warnings():\n",
    "warnings.filterwarnings(\"ignore\", category=RuntimeWarning)"
   ]
  },
  {
   "cell_type": "code",
   "execution_count": 3,
   "id": "49f966f2-9073-4890-99ef-05db00ab5c95",
   "metadata": {},
   "outputs": [],
   "source": [
    "handler = logging.StreamHandler()\n",
    "formatter = logging.Formatter(\n",
    "    \"%(asctime)s %(process)d/%(threadName)s %(name)s %(levelname)s - %(message)s\"\n",
    ")\n",
    "handler.setFormatter(formatter)\n",
    "logging.getLogger().handlers = [handler]"
   ]
  },
  {
   "cell_type": "code",
   "execution_count": 4,
   "id": "a15b2724-aee3-4ae9-89f8-34574417dc01",
   "metadata": {},
   "outputs": [],
   "source": [
    "logger = logging.getLogger(__name__)"
   ]
  },
  {
   "cell_type": "code",
   "execution_count": 5,
   "id": "a48e6a47-f3a7-4563-b3e1-6d0148dfaa1f",
   "metadata": {},
   "outputs": [],
   "source": [
    "logging.getLogger(__name__).setLevel(\"DEBUG\")\n",
    "logging.getLogger(\"dask\").setLevel(\"INFO\")\n",
    "logging.getLogger(\"gcsfs\").setLevel(\"INFO\")\n",
    "logging.getLogger(\"google.cloud.bigquery\").setLevel(\"DEBUG\")\n",
    "logging.getLogger(\"pandas\").setLevel(\"DEBUG\")\n",
    "logging.getLogger(\"pyarrow\").setLevel(\"DEBUG\")"
   ]
  },
  {
   "cell_type": "code",
   "execution_count": 6,
   "id": "1e1be52d-bfd5-4298-9ac1-44dbcdc39a1a",
   "metadata": {},
   "outputs": [
    {
     "name": "stdout",
     "output_type": "stream",
     "text": [
      "gs://liulab/data/pseudobulk_optimization/1_no_qc_subset/\n",
      "gs://liulab/data/pseudobulk_optimization/2_no_qc/\n",
      "gs://liulab/data/pseudobulk_optimization/3_with_tcga_qc/\n"
     ]
    }
   ],
   "source": [
    "!gsutil ls gs://liulab/data/pseudobulk_optimization"
   ]
  },
  {
   "cell_type": "code",
   "execution_count": 7,
   "id": "17f5b17d-d920-45c9-90ac-d683d7b68e99",
   "metadata": {},
   "outputs": [],
   "source": [
    "uri_pseudobulks = \"gs://liulab/data/pseudobulk_optimization/3_with_tcga_qc/mixtures\"\n",
    "\n",
    "# !gsutil ls -lhR {uri_pseudobulks} | grep data.parquet | head"
   ]
  },
  {
   "cell_type": "code",
   "execution_count": 8,
   "id": "364667bc-2fb3-48c6-85a6-a9d08b08f1cb",
   "metadata": {},
   "outputs": [],
   "source": [
    "pseudobulks = dd.read_parquet(uri_pseudobulks, engine=\"pyarrow\")"
   ]
  },
  {
   "cell_type": "code",
   "execution_count": 9,
   "id": "c3aa88fe-b784-444a-a700-9a52a6bbdf5d",
   "metadata": {},
   "outputs": [],
   "source": [
    "pseudobulks = pseudobulks.replace(\n",
    "    {\"malignant_from_one_sample\": {\"True\": True, \"False\": False}}\n",
    ")"
   ]
  },
  {
   "cell_type": "code",
   "execution_count": 10,
   "id": "3d8280c1-ebb4-41d2-8d96-983b14d460ca",
   "metadata": {},
   "outputs": [],
   "source": [
    "pseudobulks = pseudobulks.astype(\n",
    "    {\"n_cells\": \"uint8\", \"malignant_from_one_sample\": \"bool\"}\n",
    ")"
   ]
  },
  {
   "cell_type": "code",
   "execution_count": 11,
   "id": "ee8787e0-761b-4e31-9f52-98522d4bcaf7",
   "metadata": {},
   "outputs": [],
   "source": [
    "uri_real_bulks = \"gs://liulab/data/pseudobulk_optimization/3_with_tcga_qc/mixtures_real_tcga_skcm/tpm.parquet\"\n",
    "real_bulks = dd.read_parquet(uri_real_bulks, engine=\"pyarrow\")"
   ]
  },
  {
   "cell_type": "code",
   "execution_count": 12,
   "id": "a33993af-7a23-483e-9e6d-95ff944ef744",
   "metadata": {},
   "outputs": [],
   "source": [
    "merged = dd.merge(\n",
    "    pseudobulks,\n",
    "    real_bulks,\n",
    "    how=\"inner\",\n",
    "    left_on=[\"gene_symbol\", \"tcga_aliquot_barcode_for_fractions\"],\n",
    "    right_on=[\"gene_symbol\", \"aliquot_barcode\"],\n",
    "    suffixes=[\"_pseudo\", \"_real\"],\n",
    ")"
   ]
  },
  {
   "cell_type": "code",
   "execution_count": 13,
   "id": "4897f3e7-5854-4b7a-96fd-52b809bb9b0c",
   "metadata": {},
   "outputs": [],
   "source": [
    "merged_groupby = merged.groupby([\"n_cells\", \"malignant_from_one_sample\"])"
   ]
  },
  {
   "cell_type": "markdown",
   "id": "90e6f19d-09d8-406e-a3de-6076b2fded5d",
   "metadata": {
    "tags": []
   },
   "source": [
    "# correlations with real bulk"
   ]
  },
  {
   "cell_type": "code",
   "execution_count": 14,
   "id": "232d5aef-b833-46d2-8a20-9b778a253c96",
   "metadata": {
    "tags": []
   },
   "outputs": [
    {
     "name": "stderr",
     "output_type": "stream",
     "text": [
      "2022-06-21 18:34:01,030 7135/ThreadPoolExecutor-0_6 __main__ DEBUG - computing metrics for 0 length DataFrame\n",
      "2022-06-21 18:34:01,305 7135/ThreadPoolExecutor-0_9 __main__ DEBUG - computing metrics for 0 length DataFrame\n",
      "2022-06-21 18:34:01,308 7135/ThreadPoolExecutor-0_1 __main__ DEBUG - computing metrics for 0 length DataFrame\n",
      "2022-06-21 18:34:02,131 7135/ThreadPoolExecutor-0_15 __main__ DEBUG - computing metrics for 0 length DataFrame\n",
      "2022-06-21 18:34:03,218 7135/ThreadPoolExecutor-0_4 __main__ DEBUG - computing metrics for 0 length DataFrame\n",
      "2022-06-21 18:34:04,480 7135/ThreadPoolExecutor-0_2 __main__ DEBUG - computing metrics for 5911184 length DataFrame\n",
      "2022-06-21 18:34:04,874 7135/ThreadPoolExecutor-0_5 __main__ DEBUG - computing metrics for 5911184 length DataFrame\n",
      "2022-06-21 18:34:04,904 7135/ThreadPoolExecutor-0_8 __main__ DEBUG - computing metrics for 5911184 length DataFrame\n",
      "2022-06-21 18:34:05,287 7135/ThreadPoolExecutor-0_15 __main__ DEBUG - computing metrics for 0 length DataFrame\n",
      "2022-06-21 18:34:05,604 7135/ThreadPoolExecutor-0_0 __main__ DEBUG - computing metrics for 0 length DataFrame\n",
      "2022-06-21 18:34:06,001 7135/ThreadPoolExecutor-0_10 __main__ DEBUG - computing metrics for 5911184 length DataFrame\n",
      "2022-06-21 18:34:06,060 7135/ThreadPoolExecutor-0_7 __main__ DEBUG - computing metrics for 5911184 length DataFrame\n",
      "2022-06-21 18:34:06,377 7135/ThreadPoolExecutor-0_12 __main__ DEBUG - computing metrics for 5911184 length DataFrame\n",
      "2022-06-21 18:34:06,787 7135/ThreadPoolExecutor-0_15 __main__ DEBUG - computing metrics for 5911184 length DataFrame\n",
      "2022-06-21 18:34:07,135 7135/ThreadPoolExecutor-0_9 __main__ DEBUG - computing metrics for 5911184 length DataFrame\n",
      "2022-06-21 18:34:07,215 7135/ThreadPoolExecutor-0_1 __main__ DEBUG - computing metrics for 5911184 length DataFrame\n",
      "2022-06-21 18:34:07,302 7135/ThreadPoolExecutor-0_13 __main__ DEBUG - computing metrics for 5911184 length DataFrame\n",
      "2022-06-21 18:34:07,424 7135/ThreadPoolExecutor-0_4 __main__ DEBUG - computing metrics for 5911184 length DataFrame\n",
      "2022-06-21 18:34:07,771 7135/ThreadPoolExecutor-0_0 __main__ DEBUG - computing metrics for 5911184 length DataFrame\n",
      "2022-06-21 18:34:07,911 7135/ThreadPoolExecutor-0_14 __main__ DEBUG - computing metrics for 5911184 length DataFrame\n",
      "2022-06-21 18:34:08,196 7135/ThreadPoolExecutor-0_6 __main__ DEBUG - computing metrics for 5911184 length DataFrame\n",
      "2022-06-21 18:34:08,738 7135/ThreadPoolExecutor-0_3 __main__ DEBUG - computing metrics for 5911184 length DataFrame\n",
      "2022-06-21 18:34:09,289 7135/ThreadPoolExecutor-0_11 __main__ DEBUG - computing metrics for 5911184 length DataFrame\n",
      "2022-06-21 18:34:10,217 7135/ThreadPoolExecutor-0_7 __main__ DEBUG - computing metrics for 0 length DataFrame\n",
      "2022-06-21 18:34:10,507 7135/ThreadPoolExecutor-0_7 __main__ DEBUG - computing metrics for 0 length DataFrame\n",
      "2022-06-21 18:34:10,558 7135/ThreadPoolExecutor-0_12 __main__ DEBUG - computing metrics for 0 length DataFrame\n",
      "2022-06-21 18:34:10,596 7135/ThreadPoolExecutor-0_12 __main__ DEBUG - computing metrics for 0 length DataFrame\n",
      "2022-06-21 18:34:10,989 7135/ThreadPoolExecutor-0_1 __main__ DEBUG - computing metrics for 0 length DataFrame\n",
      "2022-06-21 18:34:11,130 7135/ThreadPoolExecutor-0_1 __main__ DEBUG - computing metrics for 0 length DataFrame\n",
      "2022-06-21 18:34:11,179 7135/ThreadPoolExecutor-0_5 __main__ DEBUG - computing metrics for 5911184 length DataFrame\n",
      "2022-06-21 18:34:11,456 7135/ThreadPoolExecutor-0_15 __main__ DEBUG - computing metrics for 0 length DataFrame\n",
      "2022-06-21 18:34:11,527 7135/ThreadPoolExecutor-0_1 __main__ DEBUG - computing metrics for 0 length DataFrame\n",
      "2022-06-21 18:34:11,571 7135/ThreadPoolExecutor-0_7 __main__ DEBUG - computing metrics for 0 length DataFrame\n",
      "2022-06-21 18:34:11,572 7135/ThreadPoolExecutor-0_2 __main__ DEBUG - computing metrics for 5911184 length DataFrame\n",
      "2022-06-21 18:34:11,588 7135/ThreadPoolExecutor-0_13 __main__ DEBUG - computing metrics for 5911184 length DataFrame\n",
      "2022-06-21 18:34:11,831 7135/ThreadPoolExecutor-0_14 __main__ DEBUG - computing metrics for 5911184 length DataFrame\n",
      "2022-06-21 18:34:11,992 7135/ThreadPoolExecutor-0_6 __main__ DEBUG - computing metrics for 5911184 length DataFrame\n",
      "2022-06-21 18:34:12,401 7135/ThreadPoolExecutor-0_3 __main__ DEBUG - computing metrics for 5911184 length DataFrame\n",
      "2022-06-21 18:34:12,482 7135/ThreadPoolExecutor-0_15 __main__ DEBUG - computing metrics for 5911184 length DataFrame\n",
      "2022-06-21 18:34:12,537 7135/ThreadPoolExecutor-0_8 __main__ DEBUG - computing metrics for 5911184 length DataFrame\n",
      "2022-06-21 18:34:12,955 7135/ThreadPoolExecutor-0_4 __main__ DEBUG - computing metrics for 5911184 length DataFrame\n",
      "2022-06-21 18:34:13,060 7135/ThreadPoolExecutor-0_11 __main__ DEBUG - computing metrics for 5911184 length DataFrame\n",
      "2022-06-21 18:34:13,804 7135/ThreadPoolExecutor-0_7 __main__ DEBUG - computing metrics for 5911184 length DataFrame\n",
      "2022-06-21 18:34:14,347 7135/ThreadPoolExecutor-0_0 __main__ DEBUG - computing metrics for 5911184 length DataFrame\n",
      "2022-06-21 18:34:14,444 7135/ThreadPoolExecutor-0_9 __main__ DEBUG - computing metrics for 5911184 length DataFrame\n",
      "2022-06-21 18:34:14,881 7135/ThreadPoolExecutor-0_2 __main__ DEBUG - computing metrics for 5911184 length DataFrame\n",
      "2022-06-21 18:34:15,484 7135/ThreadPoolExecutor-0_3 __main__ DEBUG - computing metrics for 5911184 length DataFrame\n",
      "2022-06-21 18:34:16,052 7135/ThreadPoolExecutor-0_8 __main__ DEBUG - computing metrics for 5911184 length DataFrame\n",
      "2022-06-21 18:34:16,157 7135/ThreadPoolExecutor-0_11 __main__ DEBUG - computing metrics for 5911184 length DataFrame\n",
      "2022-06-21 18:34:16,850 7135/ThreadPoolExecutor-0_7 __main__ DEBUG - computing metrics for 5911184 length DataFrame\n",
      "2022-06-21 18:34:16,980 7135/ThreadPoolExecutor-0_0 __main__ DEBUG - computing metrics for 5911184 length DataFrame\n",
      "2022-06-21 18:34:17,197 7135/ThreadPoolExecutor-0_9 __main__ DEBUG - computing metrics for 5911184 length DataFrame\n",
      "2022-06-21 18:34:18,631 7135/ThreadPoolExecutor-0_8 __main__ DEBUG - computing metrics for 5911184 length DataFrame\n",
      "2022-06-21 18:34:18,738 7135/ThreadPoolExecutor-0_11 __main__ DEBUG - computing metrics for 5911184 length DataFrame\n",
      "2022-06-21 18:34:19,593 7135/ThreadPoolExecutor-0_0 __main__ DEBUG - computing metrics for 5911184 length DataFrame\n",
      "2022-06-21 18:34:19,682 7135/ThreadPoolExecutor-0_9 __main__ DEBUG - computing metrics for 5911184 length DataFrame\n"
     ]
    }
   ],
   "source": [
    "def compute_comparison_metrics(df: pd.DataFrame) -> pd.Series:\n",
    "    logger.debug(f\"computing metrics for {len(df)} length DataFrame\")\n",
    "    gene_means = df.groupby(\"gene_symbol\")[[\"tpm_pseudo\", \"tpm_real\"]].mean()\n",
    "    ks_test_results = scipy.stats.ks_2samp(\n",
    "        gene_means[\"tpm_pseudo\"], gene_means[\"tpm_real\"]\n",
    "    )\n",
    "    return pd.Series(\n",
    "        {\n",
    "            \"corr_linear\": np.corrcoef(df[\"tpm_pseudo\"], df[\"tpm_real\"])[0, 1],\n",
    "            \"corr_rank\": scipy.stats.spearmanr(df[\"tpm_pseudo\"], df[\"tpm_real\"])[0],\n",
    "            \"ks_test_stat\": ks_test_results[0],\n",
    "            # \"ks_test_pval_neg_log10\": -np.log10(ks_test_results[1]),\n",
    "        }\n",
    "    )\n",
    "\n",
    "\n",
    "metadata = [\n",
    "    (\"corr_linear\", \"float64\"),\n",
    "    (\"corr_rank\", \"float64\"),\n",
    "    (\"ks_test_stat\", \"float64\"),\n",
    "    # (\"ks_test_pval_neg_log10\", \"float64\"),\n",
    "]\n",
    "results = (\n",
    "    merged_groupby.apply(compute_comparison_metrics, meta=metadata).dropna().compute()\n",
    ")\n",
    "results = results.sort_index()"
   ]
  },
  {
   "cell_type": "code",
   "execution_count": 15,
   "id": "185042ff-0154-457e-baf1-437f0ad7dbea",
   "metadata": {},
   "outputs": [
    {
     "data": {
      "text/html": [
       "<div>\n",
       "<style scoped>\n",
       "    .dataframe tbody tr th:only-of-type {\n",
       "        vertical-align: middle;\n",
       "    }\n",
       "\n",
       "    .dataframe tbody tr th {\n",
       "        vertical-align: top;\n",
       "    }\n",
       "\n",
       "    .dataframe thead th {\n",
       "        text-align: right;\n",
       "    }\n",
       "</style>\n",
       "<table border=\"1\" class=\"dataframe\">\n",
       "  <thead>\n",
       "    <tr style=\"text-align: right;\">\n",
       "      <th></th>\n",
       "      <th></th>\n",
       "      <th>corr_linear</th>\n",
       "      <th>corr_rank</th>\n",
       "      <th>ks_test_stat</th>\n",
       "    </tr>\n",
       "    <tr>\n",
       "      <th>n_cells</th>\n",
       "      <th>malignant_from_one_sample</th>\n",
       "      <th></th>\n",
       "      <th></th>\n",
       "      <th></th>\n",
       "    </tr>\n",
       "  </thead>\n",
       "  <tbody>\n",
       "    <tr>\n",
       "      <th rowspan=\"2\" valign=\"top\">1</th>\n",
       "      <th>False</th>\n",
       "      <td>0.383704</td>\n",
       "      <td>0.544129</td>\n",
       "      <td>0.200710</td>\n",
       "    </tr>\n",
       "    <tr>\n",
       "      <th>True</th>\n",
       "      <td>0.378659</td>\n",
       "      <td>0.534210</td>\n",
       "      <td>0.193177</td>\n",
       "    </tr>\n",
       "    <tr>\n",
       "      <th rowspan=\"2\" valign=\"top\">2</th>\n",
       "      <th>False</th>\n",
       "      <td>0.446064</td>\n",
       "      <td>0.626017</td>\n",
       "      <td>0.199651</td>\n",
       "    </tr>\n",
       "    <tr>\n",
       "      <th>True</th>\n",
       "      <td>0.433748</td>\n",
       "      <td>0.612481</td>\n",
       "      <td>0.188196</td>\n",
       "    </tr>\n",
       "    <tr>\n",
       "      <th rowspan=\"2\" valign=\"top\">3</th>\n",
       "      <th>False</th>\n",
       "      <td>0.469585</td>\n",
       "      <td>0.660385</td>\n",
       "      <td>0.201457</td>\n",
       "    </tr>\n",
       "    <tr>\n",
       "      <th>True</th>\n",
       "      <td>0.453190</td>\n",
       "      <td>0.642836</td>\n",
       "      <td>0.191434</td>\n",
       "    </tr>\n",
       "    <tr>\n",
       "      <th rowspan=\"2\" valign=\"top\">4</th>\n",
       "      <th>False</th>\n",
       "      <td>0.485738</td>\n",
       "      <td>0.680212</td>\n",
       "      <td>0.200087</td>\n",
       "    </tr>\n",
       "    <tr>\n",
       "      <th>True</th>\n",
       "      <td>0.464210</td>\n",
       "      <td>0.657019</td>\n",
       "      <td>0.191434</td>\n",
       "    </tr>\n",
       "    <tr>\n",
       "      <th rowspan=\"2\" valign=\"top\">5</th>\n",
       "      <th>False</th>\n",
       "      <td>0.493848</td>\n",
       "      <td>0.692945</td>\n",
       "      <td>0.200710</td>\n",
       "    </tr>\n",
       "    <tr>\n",
       "      <th>True</th>\n",
       "      <td>0.471267</td>\n",
       "      <td>0.673449</td>\n",
       "      <td>0.191620</td>\n",
       "    </tr>\n",
       "    <tr>\n",
       "      <th rowspan=\"2\" valign=\"top\">6</th>\n",
       "      <th>False</th>\n",
       "      <td>0.500513</td>\n",
       "      <td>0.707899</td>\n",
       "      <td>0.201830</td>\n",
       "    </tr>\n",
       "    <tr>\n",
       "      <th>True</th>\n",
       "      <td>0.477952</td>\n",
       "      <td>0.681837</td>\n",
       "      <td>0.194795</td>\n",
       "    </tr>\n",
       "    <tr>\n",
       "      <th rowspan=\"2\" valign=\"top\">7</th>\n",
       "      <th>False</th>\n",
       "      <td>0.506996</td>\n",
       "      <td>0.715475</td>\n",
       "      <td>0.200959</td>\n",
       "    </tr>\n",
       "    <tr>\n",
       "      <th>True</th>\n",
       "      <td>0.482552</td>\n",
       "      <td>0.686683</td>\n",
       "      <td>0.193737</td>\n",
       "    </tr>\n",
       "    <tr>\n",
       "      <th rowspan=\"2\" valign=\"top\">8</th>\n",
       "      <th>False</th>\n",
       "      <td>0.509450</td>\n",
       "      <td>0.721801</td>\n",
       "      <td>0.201644</td>\n",
       "    </tr>\n",
       "    <tr>\n",
       "      <th>True</th>\n",
       "      <td>0.482761</td>\n",
       "      <td>0.693391</td>\n",
       "      <td>0.193862</td>\n",
       "    </tr>\n",
       "    <tr>\n",
       "      <th rowspan=\"2\" valign=\"top\">9</th>\n",
       "      <th>False</th>\n",
       "      <td>0.513871</td>\n",
       "      <td>0.725344</td>\n",
       "      <td>0.200212</td>\n",
       "    </tr>\n",
       "    <tr>\n",
       "      <th>True</th>\n",
       "      <td>0.484999</td>\n",
       "      <td>0.696503</td>\n",
       "      <td>0.194173</td>\n",
       "    </tr>\n",
       "    <tr>\n",
       "      <th rowspan=\"2\" valign=\"top\">10</th>\n",
       "      <th>False</th>\n",
       "      <td>0.514892</td>\n",
       "      <td>0.731941</td>\n",
       "      <td>0.201270</td>\n",
       "    </tr>\n",
       "    <tr>\n",
       "      <th>True</th>\n",
       "      <td>0.487130</td>\n",
       "      <td>0.702907</td>\n",
       "      <td>0.193177</td>\n",
       "    </tr>\n",
       "    <tr>\n",
       "      <th rowspan=\"2\" valign=\"top\">11</th>\n",
       "      <th>False</th>\n",
       "      <td>0.516902</td>\n",
       "      <td>0.735218</td>\n",
       "      <td>0.199963</td>\n",
       "    </tr>\n",
       "    <tr>\n",
       "      <th>True</th>\n",
       "      <td>0.491769</td>\n",
       "      <td>0.704959</td>\n",
       "      <td>0.197223</td>\n",
       "    </tr>\n",
       "    <tr>\n",
       "      <th rowspan=\"2\" valign=\"top\">12</th>\n",
       "      <th>False</th>\n",
       "      <td>0.518443</td>\n",
       "      <td>0.739676</td>\n",
       "      <td>0.201083</td>\n",
       "    </tr>\n",
       "    <tr>\n",
       "      <th>True</th>\n",
       "      <td>0.490717</td>\n",
       "      <td>0.707081</td>\n",
       "      <td>0.193613</td>\n",
       "    </tr>\n",
       "    <tr>\n",
       "      <th rowspan=\"2\" valign=\"top\">13</th>\n",
       "      <th>False</th>\n",
       "      <td>0.520759</td>\n",
       "      <td>0.743257</td>\n",
       "      <td>0.200585</td>\n",
       "    </tr>\n",
       "    <tr>\n",
       "      <th>True</th>\n",
       "      <td>0.492448</td>\n",
       "      <td>0.705129</td>\n",
       "      <td>0.190438</td>\n",
       "    </tr>\n",
       "    <tr>\n",
       "      <th rowspan=\"2\" valign=\"top\">14</th>\n",
       "      <th>False</th>\n",
       "      <td>0.520734</td>\n",
       "      <td>0.745216</td>\n",
       "      <td>0.200647</td>\n",
       "    </tr>\n",
       "    <tr>\n",
       "      <th>True</th>\n",
       "      <td>0.490921</td>\n",
       "      <td>0.711121</td>\n",
       "      <td>0.196539</td>\n",
       "    </tr>\n",
       "    <tr>\n",
       "      <th rowspan=\"2\" valign=\"top\">15</th>\n",
       "      <th>False</th>\n",
       "      <td>0.523550</td>\n",
       "      <td>0.748091</td>\n",
       "      <td>0.199963</td>\n",
       "    </tr>\n",
       "    <tr>\n",
       "      <th>True</th>\n",
       "      <td>0.497184</td>\n",
       "      <td>0.716650</td>\n",
       "      <td>0.195916</td>\n",
       "    </tr>\n",
       "    <tr>\n",
       "      <th rowspan=\"2\" valign=\"top\">16</th>\n",
       "      <th>False</th>\n",
       "      <td>0.524378</td>\n",
       "      <td>0.749220</td>\n",
       "      <td>0.200336</td>\n",
       "    </tr>\n",
       "    <tr>\n",
       "      <th>True</th>\n",
       "      <td>0.496080</td>\n",
       "      <td>0.717973</td>\n",
       "      <td>0.195231</td>\n",
       "    </tr>\n",
       "    <tr>\n",
       "      <th rowspan=\"2\" valign=\"top\">17</th>\n",
       "      <th>False</th>\n",
       "      <td>0.525168</td>\n",
       "      <td>0.750804</td>\n",
       "      <td>0.200896</td>\n",
       "    </tr>\n",
       "    <tr>\n",
       "      <th>True</th>\n",
       "      <td>0.497385</td>\n",
       "      <td>0.715271</td>\n",
       "      <td>0.196103</td>\n",
       "    </tr>\n",
       "    <tr>\n",
       "      <th rowspan=\"2\" valign=\"top\">18</th>\n",
       "      <th>False</th>\n",
       "      <td>0.524398</td>\n",
       "      <td>0.753291</td>\n",
       "      <td>0.201332</td>\n",
       "    </tr>\n",
       "    <tr>\n",
       "      <th>True</th>\n",
       "      <td>0.497995</td>\n",
       "      <td>0.714142</td>\n",
       "      <td>0.193924</td>\n",
       "    </tr>\n",
       "    <tr>\n",
       "      <th rowspan=\"2\" valign=\"top\">19</th>\n",
       "      <th>False</th>\n",
       "      <td>0.526712</td>\n",
       "      <td>0.755120</td>\n",
       "      <td>0.200523</td>\n",
       "    </tr>\n",
       "    <tr>\n",
       "      <th>True</th>\n",
       "      <td>0.496763</td>\n",
       "      <td>0.715737</td>\n",
       "      <td>0.190873</td>\n",
       "    </tr>\n",
       "    <tr>\n",
       "      <th rowspan=\"2\" valign=\"top\">20</th>\n",
       "      <th>False</th>\n",
       "      <td>0.527814</td>\n",
       "      <td>0.756311</td>\n",
       "      <td>0.200710</td>\n",
       "    </tr>\n",
       "    <tr>\n",
       "      <th>True</th>\n",
       "      <td>0.498421</td>\n",
       "      <td>0.717892</td>\n",
       "      <td>0.192181</td>\n",
       "    </tr>\n",
       "  </tbody>\n",
       "</table>\n",
       "</div>"
      ],
      "text/plain": [
       "                                   corr_linear  corr_rank  ks_test_stat\n",
       "n_cells malignant_from_one_sample                                      \n",
       "1       False                         0.383704   0.544129      0.200710\n",
       "        True                          0.378659   0.534210      0.193177\n",
       "2       False                         0.446064   0.626017      0.199651\n",
       "        True                          0.433748   0.612481      0.188196\n",
       "3       False                         0.469585   0.660385      0.201457\n",
       "        True                          0.453190   0.642836      0.191434\n",
       "4       False                         0.485738   0.680212      0.200087\n",
       "        True                          0.464210   0.657019      0.191434\n",
       "5       False                         0.493848   0.692945      0.200710\n",
       "        True                          0.471267   0.673449      0.191620\n",
       "6       False                         0.500513   0.707899      0.201830\n",
       "        True                          0.477952   0.681837      0.194795\n",
       "7       False                         0.506996   0.715475      0.200959\n",
       "        True                          0.482552   0.686683      0.193737\n",
       "8       False                         0.509450   0.721801      0.201644\n",
       "        True                          0.482761   0.693391      0.193862\n",
       "9       False                         0.513871   0.725344      0.200212\n",
       "        True                          0.484999   0.696503      0.194173\n",
       "10      False                         0.514892   0.731941      0.201270\n",
       "        True                          0.487130   0.702907      0.193177\n",
       "11      False                         0.516902   0.735218      0.199963\n",
       "        True                          0.491769   0.704959      0.197223\n",
       "12      False                         0.518443   0.739676      0.201083\n",
       "        True                          0.490717   0.707081      0.193613\n",
       "13      False                         0.520759   0.743257      0.200585\n",
       "        True                          0.492448   0.705129      0.190438\n",
       "14      False                         0.520734   0.745216      0.200647\n",
       "        True                          0.490921   0.711121      0.196539\n",
       "15      False                         0.523550   0.748091      0.199963\n",
       "        True                          0.497184   0.716650      0.195916\n",
       "16      False                         0.524378   0.749220      0.200336\n",
       "        True                          0.496080   0.717973      0.195231\n",
       "17      False                         0.525168   0.750804      0.200896\n",
       "        True                          0.497385   0.715271      0.196103\n",
       "18      False                         0.524398   0.753291      0.201332\n",
       "        True                          0.497995   0.714142      0.193924\n",
       "19      False                         0.526712   0.755120      0.200523\n",
       "        True                          0.496763   0.715737      0.190873\n",
       "20      False                         0.527814   0.756311      0.200710\n",
       "        True                          0.498421   0.717892      0.192181"
      ]
     },
     "execution_count": 15,
     "metadata": {},
     "output_type": "execute_result"
    }
   ],
   "source": [
    "results"
   ]
  },
  {
   "cell_type": "code",
   "execution_count": 16,
   "id": "754c3836-a581-4d4f-834b-1e60b5ce9e85",
   "metadata": {},
   "outputs": [],
   "source": [
    "import plotly.express as px\n",
    "import plotly.graph_objects as go"
   ]
  },
  {
   "cell_type": "code",
   "execution_count": 18,
   "id": "e471d298-2232-4803-bf5d-6d1d1b7a5ef1",
   "metadata": {},
   "outputs": [
    {
     "name": "stderr",
     "output_type": "stream",
     "text": [
      "2022-06-21 18:49:21,167 7135/MainThread __main__ DEBUG - adding trace: corr_rank, malignants ~ all samples\n",
      "2022-06-21 18:49:21,171 7135/MainThread __main__ DEBUG - adding trace: corr_rank, malignants ~ one sample\n",
      "2022-06-21 18:49:21,174 7135/MainThread __main__ DEBUG - adding trace: corr_linear, malignants ~ all samples\n",
      "2022-06-21 18:49:21,177 7135/MainThread __main__ DEBUG - adding trace: corr_linear, malignants ~ one sample\n"
     ]
    },
    {
     "data": {
      "image/png": "[encoded data removed]"
     },
     "metadata": {},
     "output_type": "display_data"
    }
   ],
   "source": [
    "fig = go.Figure()\n",
    "modes = {True: \"lines+markers\", False: \"lines\"}\n",
    "for column, color in zip(results.columns[[1, 0]], [\"blue\", \"red\"]):\n",
    "    for malignant_from_one_sample in results.index.unique(\n",
    "        level=\"malignant_from_one_sample\"\n",
    "    ):\n",
    "        malignant_label = \"one sample\" if malignant_from_one_sample else \"all samples\"\n",
    "        trace_name = f\"{column}, malignants ~ {malignant_label}\"\n",
    "        subset = (\n",
    "            results.query(f\"malignant_from_one_sample == {malignant_from_one_sample}\")\n",
    "            .sort_index()\n",
    "            .reset_index()\n",
    "        )\n",
    "        logger.debug(f\"adding trace: {trace_name}\")\n",
    "        fig.add_trace(\n",
    "            go.Scatter(\n",
    "                x=subset[\"n_cells\"],\n",
    "                y=subset[column],\n",
    "                mode=modes[malignant_from_one_sample],\n",
    "                name=trace_name,\n",
    "                line_color=color,\n",
    "            )\n",
    "        )\n",
    "fig.update_layout(\n",
    "    title=\"Similarity measures of real vs pseudobulk, by generation parameter\"\n",
    ")\n",
    "fig = fig.update_yaxes(range=[0, 1], title=\"similarity measure\")\n",
    "fig = fig.update_xaxes(title=\"# cells per cell type in pseudobulk samples\")\n",
    "\n",
    "fig.show(width=1000, renderer=\"png\")\n",
    "# fig"
   ]
  },
  {
   "cell_type": "markdown",
   "id": "608f25ee-6785-44a8-8616-7815261c1c6b",
   "metadata": {},
   "source": [
    "# inter-sample correlation"
   ]
  },
  {
   "cell_type": "markdown",
   "id": "d8723963-a303-4a18-ad21-9711f18657a1",
   "metadata": {},
   "source": [
    "what's the inter-sample correlation of tcga skcm?"
   ]
  },
  {
   "cell_type": "code",
   "execution_count": null,
   "id": "766daad0-9959-4c4e-a801-990342439b18",
   "metadata": {},
   "outputs": [],
   "source": [
    "df_real_bulks = real_bulks.compute()"
   ]
  },
  {
   "cell_type": "code",
   "execution_count": null,
   "id": "d84e4213-469e-4c82-b417-bf9e3659977e",
   "metadata": {},
   "outputs": [],
   "source": [
    "z = df_real_bulks.pivot(\n",
    "    index=\"gene_symbol\",\n",
    "    columns=\"aliquot_barcode\",\n",
    "    values=\"tpm\",\n",
    ").corr()\n",
    "zz = z.values.flatten()\n",
    "zzz = zz[: -len(z)]\n",
    "np.median(zzz), np.mean(zzz), np.std(zzz)"
   ]
  },
  {
   "cell_type": "code",
   "execution_count": null,
   "id": "b8b07d8f-d14a-413e-a2b6-04910d3e57b4",
   "metadata": {},
   "outputs": [],
   "source": []
  },
  {
   "cell_type": "markdown",
   "id": "84265865-ec8d-4fb0-80b2-9ad670f965c5",
   "metadata": {},
   "source": [
    "How does inter-sample correlation decrease with more n_cells?"
   ]
  },
  {
   "cell_type": "code",
   "execution_count": 19,
   "id": "7fe3f861-b736-41be-89ae-3cab6a89b101",
   "metadata": {},
   "outputs": [],
   "source": [
    "def compute_intersample_metrics(df):\n",
    "    z = df.pivot(\n",
    "        index=\"gene_symbol\",\n",
    "        columns=\"tcga_aliquot_barcode_for_fractions\",\n",
    "        values=\"tpm_pseudo\",\n",
    "    ).corr()\n",
    "    zz = z.values.flatten()\n",
    "    zzz = zz[: -len(z)]\n",
    "    return pd.Series(\n",
    "        {\n",
    "            \"intersample_corr_median\": np.median(zzz),\n",
    "            \"intersample_corr_mean\": np.mean(zzz),\n",
    "            \"intersample_corr_stddev\": np.std(zzz),\n",
    "        }\n",
    "    )\n",
    "\n",
    "\n",
    "metadata = [\n",
    "    (\"intersample_corr_median\", \"float64\"),\n",
    "    (\"intersample_corr_mean\", \"float64\"),\n",
    "    (\"intersample_corr_stddev\", \"float64\"),\n",
    "]\n",
    "results_intersample = (\n",
    "    merged_groupby.apply(compute_intersample_metrics, meta=metadata).dropna().compute()\n",
    ")\n",
    "results_intersample = results_intersample.sort_index()"
   ]
  },
  {
   "cell_type": "code",
   "execution_count": null,
   "id": "59fec7be-d8d0-4602-adfa-315e2a72c495",
   "metadata": {},
   "outputs": [],
   "source": [
    "results_intersample"
   ]
  },
  {
   "cell_type": "markdown",
   "id": "cd6db2c1-f7b2-40e3-b15d-442e8cca7269",
   "metadata": {},
   "source": [
    "# ended here!"
   ]
  },
  {
   "cell_type": "code",
   "execution_count": null,
   "id": "1bf0e1f4-ebbb-4046-9b80-6745286d39a3",
   "metadata": {},
   "outputs": [],
   "source": [
    "results_intersample.set_index(\n",
    "    results_intersample.index.map(lambda x: (x[0], f\"malignant_from_one_sample={x[1]}\"))\n",
    ").unstack(level=-1)"
   ]
  },
  {
   "cell_type": "code",
   "execution_count": null,
   "id": "82285dbd-b4a4-42d2-9f1d-43403a72152b",
   "metadata": {},
   "outputs": [],
   "source": [
    "_ = results_intersample.unstack(level=\"malignant_from_one_sample\")\n",
    "# _.columns = _.columns.to_flat_index().map(lambda x: f\"{x[0]}={x[1]}\")\n",
    "_.columns.map(lambda x: f\"malignant_from_one_sample={x}\")"
   ]
  },
  {
   "cell_type": "code",
   "execution_count": null,
   "id": "272547f7-bbf0-424d-bd41-21bf15313eac",
   "metadata": {},
   "outputs": [],
   "source": [
    "_ = results_intersample.unstack(level=\"malignant_from_one_sample\")\n",
    "_.columns = _.columns.get_level_values(1)\n",
    "_\n",
    "\n",
    "px.line(_)"
   ]
  },
  {
   "cell_type": "markdown",
   "id": "f499f342-40be-44ce-b1b0-0bda0972be88",
   "metadata": {
    "tags": []
   },
   "source": [
    "# appendix 1"
   ]
  },
  {
   "cell_type": "code",
   "execution_count": null,
   "id": "8dda056d-925b-491d-8442-a0745c5a99fc",
   "metadata": {},
   "outputs": [],
   "source": [
    "merged.dtypes"
   ]
  },
  {
   "cell_type": "code",
   "execution_count": null,
   "id": "da03797e-6614-4e18-bf5e-e0d62c1bfcfe",
   "metadata": {},
   "outputs": [],
   "source": [
    "x = merged.query(\"n_cells == 5 and malignant_from_one_sample\")[\n",
    "    [\"gene_symbol\", \"tcga_aliquot_barcode_for_fractions\", \"tpm_pseudo\"]\n",
    "]"
   ]
  },
  {
   "cell_type": "code",
   "execution_count": null,
   "id": "3a06656d-a54e-462c-90f1-0d5cbede0db6",
   "metadata": {
    "tags": []
   },
   "outputs": [],
   "source": [
    "y = x.compute()"
   ]
  },
  {
   "cell_type": "code",
   "execution_count": null,
   "id": "f3228544-eaab-4067-adc2-839c37af564a",
   "metadata": {},
   "outputs": [],
   "source": [
    "y.info()"
   ]
  },
  {
   "cell_type": "code",
   "execution_count": null,
   "id": "6f3dae92-238e-4418-873c-3c6bcbd1113d",
   "metadata": {},
   "outputs": [],
   "source": [
    "z = y.pivot(\n",
    "    index=\"gene_symbol\",\n",
    "    columns=\"tcga_aliquot_barcode_for_fractions\",\n",
    "    values=\"tpm_pseudo\",\n",
    ").corr()"
   ]
  },
  {
   "cell_type": "code",
   "execution_count": null,
   "id": "91856a43-436d-423c-b070-5cef46af2d70",
   "metadata": {},
   "outputs": [],
   "source": [
    "z.shape"
   ]
  },
  {
   "cell_type": "code",
   "execution_count": null,
   "id": "b1038d25-0163-4a5c-96a6-7c2b448fe37d",
   "metadata": {},
   "outputs": [],
   "source": [
    "zz = z.values.flatten()"
   ]
  },
  {
   "cell_type": "code",
   "execution_count": null,
   "id": "c8546a83-054d-4028-b6e4-0258417ea04e",
   "metadata": {},
   "outputs": [],
   "source": [
    "zz.shape"
   ]
  },
  {
   "cell_type": "code",
   "execution_count": null,
   "id": "a3a33a55-41bb-4104-bc8e-a4d4c4b16ee4",
   "metadata": {},
   "outputs": [],
   "source": [
    "zz.sort()"
   ]
  },
  {
   "cell_type": "code",
   "execution_count": null,
   "id": "81c52368-34ee-4b6c-8e84-fcbf986e3999",
   "metadata": {},
   "outputs": [],
   "source": [
    "zzz = zz[: -len(z)]"
   ]
  },
  {
   "cell_type": "code",
   "execution_count": null,
   "id": "74046707-a432-47ea-8110-1753c1602eb0",
   "metadata": {},
   "outputs": [],
   "source": [
    "zzz.shape"
   ]
  },
  {
   "cell_type": "code",
   "execution_count": null,
   "id": "f884f1ba-cee5-482a-ae9a-2d8764a8ef66",
   "metadata": {},
   "outputs": [],
   "source": [
    "np.median(zzz)"
   ]
  },
  {
   "cell_type": "code",
   "execution_count": null,
   "id": "1a152e97-a57e-46e8-bac8-2a4d4a7b1833",
   "metadata": {},
   "outputs": [],
   "source": []
  }
 ],
 "metadata": {
  "environment": {
   "kernel": "conda-env-deconv-py",
   "name": "common-cpu.m91",
   "type": "gcloud",
   "uri": "gcr.io/deeplearning-platform-release/base-cpu:m91"
  },
  "kernelspec": {
   "display_name": "Python [conda env:deconv]",
   "language": "python",
   "name": "conda-env-deconv-py"
  },
  "language_info": {
   "codemirror_mode": {
    "name": "ipython",
    "version": 3
   },
   "file_extension": ".py",
   "mimetype": "text/x-python",
   "name": "python",
   "nbconvert_exporter": "python",
   "pygments_lexer": "ipython3",
   "version": "3.10.4"
  }
 },
 "nbformat": 4,
 "nbformat_minor": 5
}
