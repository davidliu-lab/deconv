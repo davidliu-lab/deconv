{
 "cells": [
  {
   "cell_type": "code",
   "execution_count": 1,
   "id": "690b37a1-176b-4ed4-9c73-f4eb0eef422e",
   "metadata": {},
   "outputs": [],
   "source": [
    "import logging\n",
    "import os\n",
    "from pprint import pprint\n",
    "\n",
    "import dask.dataframe as dd\n",
    "import numpy as np\n",
    "import pandas as pd\n",
    "import scipy.stats\n",
    "from cloudpathlib import AnyPath as Path"
   ]
  },
  {
   "cell_type": "code",
   "execution_count": 2,
   "id": "8f1ae3d3-5cdf-4458-91b9-f97433390802",
   "metadata": {},
   "outputs": [],
   "source": [
    "import warnings\n",
    "\n",
    "# with warnings.catch_warnings():\n",
    "warnings.filterwarnings(\"ignore\", category=RuntimeWarning)"
   ]
  },
  {
   "cell_type": "code",
   "execution_count": 3,
   "id": "49f966f2-9073-4890-99ef-05db00ab5c95",
   "metadata": {},
   "outputs": [],
   "source": [
    "handler = logging.StreamHandler()\n",
    "formatter = logging.Formatter(\n",
    "    \"%(asctime)s %(process)d/%(threadName)s %(name)s %(levelname)s\\n%(message)s\"\n",
    ")\n",
    "handler.setFormatter(formatter)\n",
    "logging.getLogger().handlers = [handler]"
   ]
  },
  {
   "cell_type": "code",
   "execution_count": 4,
   "id": "a15b2724-aee3-4ae9-89f8-34574417dc01",
   "metadata": {},
   "outputs": [],
   "source": [
    "logger = logging.getLogger(__name__)\n",
    "logger.setLevel(\"DEBUG\")"
   ]
  },
  {
   "cell_type": "code",
   "execution_count": 5,
   "id": "a48e6a47-f3a7-4563-b3e1-6d0148dfaa1f",
   "metadata": {},
   "outputs": [],
   "source": [
    "logging.getLogger(\"dask\").setLevel(\"INFO\")\n",
    "logging.getLogger(\"gcsfs\").setLevel(\"INFO\")\n",
    "logging.getLogger(\"google.cloud.bigquery\").setLevel(\"DEBUG\")\n",
    "logging.getLogger(\"pandas\").setLevel(\"DEBUG\")\n",
    "logging.getLogger(\"pyarrow\").setLevel(\"DEBUG\")"
   ]
  },
  {
   "cell_type": "code",
   "execution_count": 6,
   "id": "1e1be52d-bfd5-4298-9ac1-44dbcdc39a1a",
   "metadata": {},
   "outputs": [
    {
     "name": "stdout",
     "output_type": "stream",
     "text": [
      "gs://liulab/data/pseudobulk_optimization/1_no_qc_subset/\n",
      "gs://liulab/data/pseudobulk_optimization/2_no_qc/\n",
      "gs://liulab/data/pseudobulk_optimization/3_with_tcga_qc/\n"
     ]
    }
   ],
   "source": [
    "!gsutil ls gs://liulab/data/pseudobulk_optimization"
   ]
  },
  {
   "cell_type": "code",
   "execution_count": 11,
   "id": "364667bc-2fb3-48c6-85a6-a9d08b08f1cb",
   "metadata": {},
   "outputs": [
    {
     "name": "stderr",
     "output_type": "stream",
     "text": [
      "2022-07-04 14:49:30,718 31236/MainThread __main__ DEBUG\n",
      "gene_symbol                           category\n",
      "tcga_aliquot_barcode_for_fractions    category\n",
      "tpm                                    float64\n",
      "n_cells                                  uint8\n",
      "malignant_from_one_sample                 bool\n",
      "dtype: object\n"
     ]
    }
   ],
   "source": [
    "uri_pseudobulks = \"gs://liulab/data/pseudobulk_optimization/3_with_tcga_qc/mixtures\"\n",
    "# !gsutil ls -lhR {uri_pseudobulks} | grep data.parquet | head\n",
    "pseudobulks = dd.read_parquet(uri_pseudobulks, engine=\"pyarrow\")\n",
    "pseudobulks = pseudobulks.replace(\n",
    "    {\"malignant_from_one_sample\": {\"True\": True, \"False\": False}}\n",
    ")\n",
    "pseudobulks = pseudobulks.astype(\n",
    "    {\"n_cells\": \"uint8\", \"malignant_from_one_sample\": \"bool\"}\n",
    ")\n",
    "logger.debug(pseudobulks.dtypes)"
   ]
  },
  {
   "cell_type": "code",
   "execution_count": 12,
   "id": "ee8787e0-761b-4e31-9f52-98522d4bcaf7",
   "metadata": {},
   "outputs": [
    {
     "name": "stderr",
     "output_type": "stream",
     "text": [
      "2022-07-04 14:49:35,179 31236/MainThread __main__ DEBUG\n",
      "gene_symbol        category\n",
      "aliquot_barcode    category\n",
      "tpm                 float64\n",
      "dtype: object\n"
     ]
    }
   ],
   "source": [
    "uri_real_bulks = \"gs://liulab/data/pseudobulk_optimization/3_with_tcga_qc/mixtures_real_tcga_skcm/tpm.parquet\"\n",
    "real_bulks = dd.read_parquet(uri_real_bulks, engine=\"pyarrow\")\n",
    "logger.debug(real_bulks.dtypes)"
   ]
  },
  {
   "cell_type": "code",
   "execution_count": 13,
   "id": "a33993af-7a23-483e-9e6d-95ff944ef744",
   "metadata": {},
   "outputs": [],
   "source": [
    "merged = dd.merge(\n",
    "    pseudobulks,\n",
    "    real_bulks,\n",
    "    how=\"inner\",\n",
    "    left_on=[\"gene_symbol\", \"tcga_aliquot_barcode_for_fractions\"],\n",
    "    right_on=[\"gene_symbol\", \"aliquot_barcode\"],\n",
    "    suffixes=[\"_pseudo\", \"_real\"],\n",
    ")"
   ]
  },
  {
   "cell_type": "code",
   "execution_count": 14,
   "id": "4897f3e7-5854-4b7a-96fd-52b809bb9b0c",
   "metadata": {},
   "outputs": [],
   "source": [
    "merged_groupby = merged.groupby([\"n_cells\", \"malignant_from_one_sample\"])"
   ]
  },
  {
   "cell_type": "markdown",
   "id": "90e6f19d-09d8-406e-a3de-6076b2fded5d",
   "metadata": {
    "tags": []
   },
   "source": [
    "# correlations with real bulk"
   ]
  },
  {
   "cell_type": "code",
   "execution_count": null,
   "id": "232d5aef-b833-46d2-8a20-9b778a253c96",
   "metadata": {
    "tags": []
   },
   "outputs": [
    {
     "name": "stderr",
     "output_type": "stream",
     "text": [
      "/opt/conda/envs/deconv/lib/python3.10/site-packages/dask/utils.py:1053: FutureWarning: The `inplace` parameter in pandas.Categorical.rename_categories is deprecated and will be removed in a future version. Removing unused categories will always return a new Categorical object.\n",
      "  return getattr(__obj, self.method)(*args, **kwargs)\n"
     ]
    }
   ],
   "source": [
    "def compute_comparison_metrics(df: pd.DataFrame) -> pd.Series:\n",
    "    logger.debug(f\"computing metrics for {len(df)} length DataFrame\")\n",
    "    gene_means = df.groupby(\"gene_symbol\")[[\"tpm_pseudo\", \"tpm_real\"]].mean()\n",
    "    ks_test_results = scipy.stats.ks_2samp(\n",
    "        gene_means[\"tpm_pseudo\"], gene_means[\"tpm_real\"]\n",
    "    )\n",
    "    return pd.Series(\n",
    "        {\n",
    "            \"corr_linear\": np.corrcoef(df[\"tpm_pseudo\"], df[\"tpm_real\"])[0, 1],\n",
    "            \"corr_rank\": scipy.stats.spearmanr(df[\"tpm_pseudo\"], df[\"tpm_real\"])[0],\n",
    "            \"ks_test_stat\": ks_test_results[0],\n",
    "            # \"ks_test_pval_neg_log10\": -np.log10(ks_test_results[1]),\n",
    "        }\n",
    "    )\n",
    "\n",
    "\n",
    "metadata = [\n",
    "    (\"corr_linear\", \"float64\"),\n",
    "    (\"corr_rank\", \"float64\"),\n",
    "    (\"ks_test_stat\", \"float64\"),\n",
    "    # (\"ks_test_pval_neg_log10\", \"float64\"),\n",
    "]\n",
    "results = (\n",
    "    merged_groupby.apply(compute_comparison_metrics, meta=metadata).dropna().compute()\n",
    ")\n",
    "results = results.sort_index()"
   ]
  },
  {
   "cell_type": "code",
   "execution_count": null,
   "id": "185042ff-0154-457e-baf1-437f0ad7dbea",
   "metadata": {},
   "outputs": [],
   "source": [
    "results"
   ]
  },
  {
   "cell_type": "code",
   "execution_count": null,
   "id": "754c3836-a581-4d4f-834b-1e60b5ce9e85",
   "metadata": {},
   "outputs": [],
   "source": [
    "import plotly.express as px\n",
    "import plotly.graph_objects as go"
   ]
  },
  {
   "cell_type": "code",
   "execution_count": null,
   "id": "e471d298-2232-4803-bf5d-6d1d1b7a5ef1",
   "metadata": {},
   "outputs": [],
   "source": [
    "fig = go.Figure()\n",
    "modes = {True: \"lines+markers\", False: \"lines\"}\n",
    "for column, color in zip(results.columns[[1, 0]], [\"blue\", \"red\"]):\n",
    "    for malignant_from_one_sample in results.index.unique(\n",
    "        level=\"malignant_from_one_sample\"\n",
    "    ):\n",
    "        malignant_label = \"one sample\" if malignant_from_one_sample else \"all samples\"\n",
    "        trace_name = f\"{column}, malignants ~ {malignant_label}\"\n",
    "        subset = (\n",
    "            results.query(f\"malignant_from_one_sample == {malignant_from_one_sample}\")\n",
    "            .sort_index()\n",
    "            .reset_index()\n",
    "        )\n",
    "        logger.debug(f\"adding trace: {trace_name}\")\n",
    "        fig.add_trace(\n",
    "            go.Scatter(\n",
    "                x=subset[\"n_cells\"],\n",
    "                y=subset[column],\n",
    "                mode=modes[malignant_from_one_sample],\n",
    "                name=trace_name,\n",
    "                line_color=color,\n",
    "            )\n",
    "        )\n",
    "fig.update_layout(\n",
    "    title=\"Similarity measures of real vs pseudobulk, by generation parameter\"\n",
    ")\n",
    "fig = fig.update_yaxes(range=[0, 1], title=\"similarity measure\")\n",
    "fig = fig.update_xaxes(title=\"# cells per cell type in pseudobulk samples\")\n",
    "\n",
    "fig.show(width=1000, renderer=\"png\")\n",
    "# fig"
   ]
  },
  {
   "cell_type": "markdown",
   "id": "608f25ee-6785-44a8-8616-7815261c1c6b",
   "metadata": {},
   "source": [
    "# inter-sample correlation"
   ]
  },
  {
   "cell_type": "markdown",
   "id": "d8723963-a303-4a18-ad21-9711f18657a1",
   "metadata": {},
   "source": [
    "what's the inter-sample correlation of tcga skcm?"
   ]
  },
  {
   "cell_type": "code",
   "execution_count": null,
   "id": "766daad0-9959-4c4e-a801-990342439b18",
   "metadata": {},
   "outputs": [],
   "source": [
    "df_real_bulks = real_bulks.compute()"
   ]
  },
  {
   "cell_type": "code",
   "execution_count": null,
   "id": "d84e4213-469e-4c82-b417-bf9e3659977e",
   "metadata": {},
   "outputs": [],
   "source": [
    "z = df_real_bulks.pivot(\n",
    "    index=\"gene_symbol\",\n",
    "    columns=\"aliquot_barcode\",\n",
    "    values=\"tpm\",\n",
    ").corr()\n",
    "zz = z.values.flatten()\n",
    "zzz = zz[: -len(z)]\n",
    "np.median(zzz), np.mean(zzz), np.std(zzz)"
   ]
  },
  {
   "cell_type": "code",
   "execution_count": null,
   "id": "b8b07d8f-d14a-413e-a2b6-04910d3e57b4",
   "metadata": {},
   "outputs": [],
   "source": []
  },
  {
   "cell_type": "markdown",
   "id": "84265865-ec8d-4fb0-80b2-9ad670f965c5",
   "metadata": {},
   "source": [
    "How does inter-sample correlation decrease with more n_cells?"
   ]
  },
  {
   "cell_type": "code",
   "execution_count": null,
   "id": "7fe3f861-b736-41be-89ae-3cab6a89b101",
   "metadata": {},
   "outputs": [],
   "source": [
    "def compute_intersample_metrics(df):\n",
    "    z = df.pivot(\n",
    "        index=\"gene_symbol\",\n",
    "        columns=\"tcga_aliquot_barcode_for_fractions\",\n",
    "        values=\"tpm_pseudo\",\n",
    "    ).corr()\n",
    "    zz = z.values.flatten()\n",
    "    zzz = zz[: -len(z)]\n",
    "    return pd.Series(\n",
    "        {\n",
    "            \"intersample_corr_median\": np.median(zzz),\n",
    "            \"intersample_corr_mean\": np.mean(zzz),\n",
    "            \"intersample_corr_stddev\": np.std(zzz),\n",
    "        }\n",
    "    )\n",
    "\n",
    "\n",
    "metadata = [\n",
    "    (\"intersample_corr_median\", \"float64\"),\n",
    "    (\"intersample_corr_mean\", \"float64\"),\n",
    "    (\"intersample_corr_stddev\", \"float64\"),\n",
    "]\n",
    "results_intersample = (\n",
    "    merged_groupby.apply(compute_intersample_metrics, meta=metadata).dropna().compute()\n",
    ")\n",
    "results_intersample = results_intersample.sort_index()"
   ]
  },
  {
   "cell_type": "code",
   "execution_count": null,
   "id": "59fec7be-d8d0-4602-adfa-315e2a72c495",
   "metadata": {},
   "outputs": [],
   "source": [
    "results_intersample"
   ]
  },
  {
   "cell_type": "markdown",
   "id": "cd6db2c1-f7b2-40e3-b15d-442e8cca7269",
   "metadata": {},
   "source": [
    "# ended here!"
   ]
  },
  {
   "cell_type": "code",
   "execution_count": null,
   "id": "1bf0e1f4-ebbb-4046-9b80-6745286d39a3",
   "metadata": {},
   "outputs": [],
   "source": [
    "results_intersample.set_index(\n",
    "    results_intersample.index.map(lambda x: (x[0], f\"malignant_from_one_sample={x[1]}\"))\n",
    ").unstack(level=-1)"
   ]
  },
  {
   "cell_type": "code",
   "execution_count": null,
   "id": "82285dbd-b4a4-42d2-9f1d-43403a72152b",
   "metadata": {},
   "outputs": [],
   "source": [
    "_ = results_intersample.unstack(level=\"malignant_from_one_sample\")\n",
    "# _.columns = _.columns.to_flat_index().map(lambda x: f\"{x[0]}={x[1]}\")\n",
    "_.columns.map(lambda x: f\"malignant_from_one_sample={x}\")"
   ]
  },
  {
   "cell_type": "code",
   "execution_count": null,
   "id": "272547f7-bbf0-424d-bd41-21bf15313eac",
   "metadata": {},
   "outputs": [],
   "source": [
    "_ = results_intersample.unstack(level=\"malignant_from_one_sample\")\n",
    "_.columns = _.columns.get_level_values(1)\n",
    "_\n",
    "\n",
    "px.line(_)"
   ]
  },
  {
   "cell_type": "markdown",
   "id": "f499f342-40be-44ce-b1b0-0bda0972be88",
   "metadata": {
    "tags": []
   },
   "source": [
    "# appendix 1"
   ]
  },
  {
   "cell_type": "code",
   "execution_count": null,
   "id": "8dda056d-925b-491d-8442-a0745c5a99fc",
   "metadata": {},
   "outputs": [],
   "source": [
    "merged.dtypes"
   ]
  },
  {
   "cell_type": "code",
   "execution_count": null,
   "id": "da03797e-6614-4e18-bf5e-e0d62c1bfcfe",
   "metadata": {},
   "outputs": [],
   "source": [
    "x = merged.query(\"n_cells == 5 and malignant_from_one_sample\")[\n",
    "    [\"gene_symbol\", \"tcga_aliquot_barcode_for_fractions\", \"tpm_pseudo\"]\n",
    "]"
   ]
  },
  {
   "cell_type": "code",
   "execution_count": null,
   "id": "3a06656d-a54e-462c-90f1-0d5cbede0db6",
   "metadata": {
    "tags": []
   },
   "outputs": [],
   "source": [
    "y = x.compute()"
   ]
  },
  {
   "cell_type": "code",
   "execution_count": null,
   "id": "f3228544-eaab-4067-adc2-839c37af564a",
   "metadata": {},
   "outputs": [],
   "source": [
    "y.info()"
   ]
  },
  {
   "cell_type": "code",
   "execution_count": null,
   "id": "6f3dae92-238e-4418-873c-3c6bcbd1113d",
   "metadata": {},
   "outputs": [],
   "source": [
    "z = y.pivot(\n",
    "    index=\"gene_symbol\",\n",
    "    columns=\"tcga_aliquot_barcode_for_fractions\",\n",
    "    values=\"tpm_pseudo\",\n",
    ").corr()"
   ]
  },
  {
   "cell_type": "code",
   "execution_count": null,
   "id": "91856a43-436d-423c-b070-5cef46af2d70",
   "metadata": {},
   "outputs": [],
   "source": [
    "z.shape"
   ]
  },
  {
   "cell_type": "code",
   "execution_count": null,
   "id": "b1038d25-0163-4a5c-96a6-7c2b448fe37d",
   "metadata": {},
   "outputs": [],
   "source": [
    "zz = z.values.flatten()"
   ]
  },
  {
   "cell_type": "code",
   "execution_count": null,
   "id": "c8546a83-054d-4028-b6e4-0258417ea04e",
   "metadata": {},
   "outputs": [],
   "source": [
    "zz.shape"
   ]
  },
  {
   "cell_type": "code",
   "execution_count": null,
   "id": "a3a33a55-41bb-4104-bc8e-a4d4c4b16ee4",
   "metadata": {},
   "outputs": [],
   "source": [
    "zz.sort()"
   ]
  },
  {
   "cell_type": "code",
   "execution_count": null,
   "id": "81c52368-34ee-4b6c-8e84-fcbf986e3999",
   "metadata": {},
   "outputs": [],
   "source": [
    "zzz = zz[: -len(z)]"
   ]
  },
  {
   "cell_type": "code",
   "execution_count": null,
   "id": "74046707-a432-47ea-8110-1753c1602eb0",
   "metadata": {},
   "outputs": [],
   "source": [
    "zzz.shape"
   ]
  },
  {
   "cell_type": "code",
   "execution_count": null,
   "id": "f884f1ba-cee5-482a-ae9a-2d8764a8ef66",
   "metadata": {},
   "outputs": [],
   "source": [
    "np.median(zzz)"
   ]
  },
  {
   "cell_type": "code",
   "execution_count": null,
   "id": "1a152e97-a57e-46e8-bac8-2a4d4a7b1833",
   "metadata": {},
   "outputs": [],
   "source": []
  }
 ],
 "metadata": {
  "environment": {
   "kernel": "conda-env-deconv-py",
   "name": "common-cpu.m91",
   "type": "gcloud",
   "uri": "gcr.io/deeplearning-platform-release/base-cpu:m91"
  },
  "kernelspec": {
   "display_name": "Python [conda env:deconv]",
   "language": "python",
   "name": "conda-env-deconv-py"
  },
  "language_info": {
   "codemirror_mode": {
    "name": "ipython",
    "version": 3
   },
   "file_extension": ".py",
   "mimetype": "text/x-python",
   "name": "python",
   "nbconvert_exporter": "python",
   "pygments_lexer": "ipython3",
   "version": "3.10.4"
  }
 },
 "nbformat": 4,
 "nbformat_minor": 5
}
