{
 "cells": [
  {
   "cell_type": "markdown",
   "id": "1a2970b6",
   "metadata": {},
   "source": [
    "# tut 1\n",
    "\n",
    "Single Cell RNA-Seq Melanoma (Fig. 3c-e) (Tutorial 1):\n",
    "\n",
    "This example builds a signature matrix from single cell RNA sequencing data from melanoma (Tirosh et al., Science, 2016) and enumerates the proportions of the different cell types in bulk melanoma tumors reconstituted from single cell RNA-Seq data.\n",
    "\n",
    "```\n",
    "docker run \\\n",
    "    -v absolute/path/to/input/dir:/src/data \\\n",
    "    -v absolute/path/to/output/dir:/src/outdir \\\n",
    "    cibersortx/fractions \\\n",
    "    --username email_address_registered_on_CIBERSORTx_website \\\n",
    "    --token token_obtained_from_CIBERSORTx_website \\\n",
    "    --single_cell TRUE \\\n",
    "    --refsample scRNA-Seq_reference_melanoma_Tirosh_SuppFig_3b-d.txt \\\n",
    "    --mixture mixture_melanoma_Tirosh_SuppFig_3b-d.txt\n",
    "\n",
    "```"
   ]
  },
  {
   "cell_type": "markdown",
   "id": "d70f65ca",
   "metadata": {},
   "source": [
    "## import stuff"
   ]
  },
  {
   "cell_type": "code",
   "execution_count": 1,
   "id": "08c8c5fd",
   "metadata": {},
   "outputs": [],
   "source": [
    "import os"
   ]
  },
  {
   "cell_type": "code",
   "execution_count": 2,
   "id": "3ba7b6e7",
   "metadata": {},
   "outputs": [],
   "source": [
    "import pandas as pd"
   ]
  },
  {
   "cell_type": "code",
   "execution_count": 3,
   "id": "efee3a15",
   "metadata": {},
   "outputs": [],
   "source": [
    "import numpy as np\n",
    "\n",
    "np.set_printoptions(precision=6, suppress=True)  # don't use scientific notation"
   ]
  },
  {
   "cell_type": "code",
   "execution_count": 4,
   "id": "cc98ea0a",
   "metadata": {},
   "outputs": [],
   "source": [
    "import plotly.express as px\n",
    "import plotly.graph_objects as go\n",
    "import plotly.io\n",
    "\n",
    "plotly.io.renderers.default = \"jupyterlab+png\"  # makes plots visible on github"
   ]
  },
  {
   "cell_type": "markdown",
   "id": "08cd381e",
   "metadata": {},
   "source": [
    "### find input files"
   ]
  },
  {
   "cell_type": "code",
   "execution_count": 5,
   "id": "b7b5347d",
   "metadata": {},
   "outputs": [
    {
     "name": "stdout",
     "output_type": "stream",
     "text": [
      "/mnt/buckets/liulab/csx_example_files/RNA-Seq_mixture_melanoma_Tirosh_Fig2b-d.txt\n",
      "/mnt/buckets/liulab/csx_example_files/Single_Cell_RNA-Seq_Melanoma_SuppFig_3b-d/mixture_melanoma_Tirosh_SuppFig_3b-d.txt\n",
      "/mnt/buckets/liulab/csx_example_files/Single_Cell_RNA-Seq_Melanoma_SuppFig_3b-d/scRNA-Seq_reference_melanoma_Tirosh_SuppFig_3b-d.txt\n",
      "/mnt/buckets/liulab/csx_example_files/groundtruth_Melanoma_Tirosh_et_al_SuppFig3b-d.txt\n"
     ]
    }
   ],
   "source": [
    "!find /mnt/buckets/liulab/ -type f -iname '*tirosh*' -o -type f -iname '*melanoma*'"
   ]
  },
  {
   "cell_type": "markdown",
   "id": "031c0167",
   "metadata": {},
   "source": [
    "### read data into dataframes"
   ]
  },
  {
   "cell_type": "markdown",
   "id": "0994adca",
   "metadata": {},
   "source": [
    "#### single cell"
   ]
  },
  {
   "cell_type": "code",
   "execution_count": 6,
   "id": "310a7f71",
   "metadata": {},
   "outputs": [
    {
     "data": {
      "text/html": [
       "<div>\n",
       "<style scoped>\n",
       "    .dataframe tbody tr th:only-of-type {\n",
       "        vertical-align: middle;\n",
       "    }\n",
       "\n",
       "    .dataframe tbody tr th {\n",
       "        vertical-align: top;\n",
       "    }\n",
       "\n",
       "    .dataframe thead th {\n",
       "        text-align: right;\n",
       "    }\n",
       "</style>\n",
       "<table border=\"1\" class=\"dataframe\">\n",
       "  <thead>\n",
       "    <tr style=\"text-align: right;\">\n",
       "      <th></th>\n",
       "      <th>Malignant</th>\n",
       "      <th>Malignant.1</th>\n",
       "      <th>Malignant.2</th>\n",
       "      <th>Malignant.3</th>\n",
       "      <th>Malignant.4</th>\n",
       "      <th>Malignant.5</th>\n",
       "      <th>Malignant.6</th>\n",
       "      <th>Malignant.7</th>\n",
       "      <th>Malignant.8</th>\n",
       "      <th>Malignant.9</th>\n",
       "      <th>...</th>\n",
       "      <th>B cells.55</th>\n",
       "      <th>B cells.56</th>\n",
       "      <th>B cells.57</th>\n",
       "      <th>B cells.58</th>\n",
       "      <th>B cells.59</th>\n",
       "      <th>B cells.60</th>\n",
       "      <th>B cells.61</th>\n",
       "      <th>B cells.62</th>\n",
       "      <th>B cells.63</th>\n",
       "      <th>B cells.64</th>\n",
       "    </tr>\n",
       "    <tr>\n",
       "      <th>Gene</th>\n",
       "      <th></th>\n",
       "      <th></th>\n",
       "      <th></th>\n",
       "      <th></th>\n",
       "      <th></th>\n",
       "      <th></th>\n",
       "      <th></th>\n",
       "      <th></th>\n",
       "      <th></th>\n",
       "      <th></th>\n",
       "      <th></th>\n",
       "      <th></th>\n",
       "      <th></th>\n",
       "      <th></th>\n",
       "      <th></th>\n",
       "      <th></th>\n",
       "      <th></th>\n",
       "      <th></th>\n",
       "      <th></th>\n",
       "      <th></th>\n",
       "      <th></th>\n",
       "    </tr>\n",
       "  </thead>\n",
       "  <tbody>\n",
       "    <tr>\n",
       "      <th>C9orf152</th>\n",
       "      <td>0.000000</td>\n",
       "      <td>0.000000</td>\n",
       "      <td>0.000000</td>\n",
       "      <td>0.000000</td>\n",
       "      <td>0.000000</td>\n",
       "      <td>0.000000</td>\n",
       "      <td>0.000000</td>\n",
       "      <td>0.000000</td>\n",
       "      <td>0.000000</td>\n",
       "      <td>0.000000</td>\n",
       "      <td>...</td>\n",
       "      <td>0.000000</td>\n",
       "      <td>0.000000</td>\n",
       "      <td>0.000000</td>\n",
       "      <td>0.000000</td>\n",
       "      <td>0.000000</td>\n",
       "      <td>0.000000</td>\n",
       "      <td>0.000000</td>\n",
       "      <td>0.000000</td>\n",
       "      <td>0.000000</td>\n",
       "      <td>0.000000</td>\n",
       "    </tr>\n",
       "    <tr>\n",
       "      <th>RPS11</th>\n",
       "      <td>135.788203</td>\n",
       "      <td>153.354101</td>\n",
       "      <td>296.923889</td>\n",
       "      <td>283.818688</td>\n",
       "      <td>313.256767</td>\n",
       "      <td>323.528192</td>\n",
       "      <td>292.029073</td>\n",
       "      <td>320.594740</td>\n",
       "      <td>148.106568</td>\n",
       "      <td>168.636169</td>\n",
       "      <td>...</td>\n",
       "      <td>222.851783</td>\n",
       "      <td>620.452365</td>\n",
       "      <td>308.307928</td>\n",
       "      <td>969.846904</td>\n",
       "      <td>214.314251</td>\n",
       "      <td>418.579389</td>\n",
       "      <td>263.184131</td>\n",
       "      <td>327.511485</td>\n",
       "      <td>321.778349</td>\n",
       "      <td>840.663649</td>\n",
       "    </tr>\n",
       "    <tr>\n",
       "      <th>ELMO2</th>\n",
       "      <td>0.000000</td>\n",
       "      <td>13.149704</td>\n",
       "      <td>0.357997</td>\n",
       "      <td>5.159017</td>\n",
       "      <td>0.000000</td>\n",
       "      <td>0.927005</td>\n",
       "      <td>4.695806</td>\n",
       "      <td>0.000000</td>\n",
       "      <td>0.000000</td>\n",
       "      <td>0.000000</td>\n",
       "      <td>...</td>\n",
       "      <td>0.000000</td>\n",
       "      <td>0.000000</td>\n",
       "      <td>0.000000</td>\n",
       "      <td>0.274004</td>\n",
       "      <td>0.000000</td>\n",
       "      <td>7.250034</td>\n",
       "      <td>9.348143</td>\n",
       "      <td>0.886994</td>\n",
       "      <td>0.000000</td>\n",
       "      <td>0.000000</td>\n",
       "    </tr>\n",
       "    <tr>\n",
       "      <th>CREB3L1</th>\n",
       "      <td>0.000000</td>\n",
       "      <td>0.000000</td>\n",
       "      <td>0.000000</td>\n",
       "      <td>0.000000</td>\n",
       "      <td>0.000000</td>\n",
       "      <td>0.000000</td>\n",
       "      <td>0.000000</td>\n",
       "      <td>0.000000</td>\n",
       "      <td>0.000000</td>\n",
       "      <td>0.000000</td>\n",
       "      <td>...</td>\n",
       "      <td>0.000000</td>\n",
       "      <td>0.000000</td>\n",
       "      <td>0.000000</td>\n",
       "      <td>0.000000</td>\n",
       "      <td>0.000000</td>\n",
       "      <td>0.000000</td>\n",
       "      <td>0.000000</td>\n",
       "      <td>0.000000</td>\n",
       "      <td>0.000000</td>\n",
       "      <td>0.000000</td>\n",
       "    </tr>\n",
       "    <tr>\n",
       "      <th>PNMA1</th>\n",
       "      <td>1.780029</td>\n",
       "      <td>0.000000</td>\n",
       "      <td>0.000000</td>\n",
       "      <td>0.000000</td>\n",
       "      <td>0.000000</td>\n",
       "      <td>0.000000</td>\n",
       "      <td>0.000000</td>\n",
       "      <td>0.000000</td>\n",
       "      <td>9.870904</td>\n",
       "      <td>0.000000</td>\n",
       "      <td>...</td>\n",
       "      <td>0.000000</td>\n",
       "      <td>0.000000</td>\n",
       "      <td>0.000000</td>\n",
       "      <td>0.000000</td>\n",
       "      <td>0.000000</td>\n",
       "      <td>0.000000</td>\n",
       "      <td>0.000000</td>\n",
       "      <td>0.000000</td>\n",
       "      <td>0.000000</td>\n",
       "      <td>0.000000</td>\n",
       "    </tr>\n",
       "    <tr>\n",
       "      <th>...</th>\n",
       "      <td>...</td>\n",
       "      <td>...</td>\n",
       "      <td>...</td>\n",
       "      <td>...</td>\n",
       "      <td>...</td>\n",
       "      <td>...</td>\n",
       "      <td>...</td>\n",
       "      <td>...</td>\n",
       "      <td>...</td>\n",
       "      <td>...</td>\n",
       "      <td>...</td>\n",
       "      <td>...</td>\n",
       "      <td>...</td>\n",
       "      <td>...</td>\n",
       "      <td>...</td>\n",
       "      <td>...</td>\n",
       "      <td>...</td>\n",
       "      <td>...</td>\n",
       "      <td>...</td>\n",
       "      <td>...</td>\n",
       "      <td>...</td>\n",
       "    </tr>\n",
       "    <tr>\n",
       "      <th>PIK3IP1</th>\n",
       "      <td>0.000000</td>\n",
       "      <td>0.000000</td>\n",
       "      <td>0.000000</td>\n",
       "      <td>0.000000</td>\n",
       "      <td>0.000000</td>\n",
       "      <td>0.000000</td>\n",
       "      <td>0.000000</td>\n",
       "      <td>0.000000</td>\n",
       "      <td>0.000000</td>\n",
       "      <td>0.000000</td>\n",
       "      <td>...</td>\n",
       "      <td>0.000000</td>\n",
       "      <td>0.345004</td>\n",
       "      <td>0.000000</td>\n",
       "      <td>0.000000</td>\n",
       "      <td>0.000000</td>\n",
       "      <td>0.000000</td>\n",
       "      <td>0.000000</td>\n",
       "      <td>0.000000</td>\n",
       "      <td>0.000000</td>\n",
       "      <td>0.000000</td>\n",
       "    </tr>\n",
       "    <tr>\n",
       "      <th>SNRPD2</th>\n",
       "      <td>56.004346</td>\n",
       "      <td>25.364048</td>\n",
       "      <td>82.975699</td>\n",
       "      <td>51.746373</td>\n",
       "      <td>171.888728</td>\n",
       "      <td>91.655197</td>\n",
       "      <td>71.564901</td>\n",
       "      <td>66.761786</td>\n",
       "      <td>82.349405</td>\n",
       "      <td>137.131639</td>\n",
       "      <td>...</td>\n",
       "      <td>0.000000</td>\n",
       "      <td>0.000000</td>\n",
       "      <td>69.063930</td>\n",
       "      <td>0.000000</td>\n",
       "      <td>0.000000</td>\n",
       "      <td>23.430306</td>\n",
       "      <td>45.850742</td>\n",
       "      <td>65.312089</td>\n",
       "      <td>28.601533</td>\n",
       "      <td>5.083915</td>\n",
       "    </tr>\n",
       "    <tr>\n",
       "      <th>SLC39A6</th>\n",
       "      <td>30.710748</td>\n",
       "      <td>17.722485</td>\n",
       "      <td>17.310509</td>\n",
       "      <td>6.795816</td>\n",
       "      <td>12.853705</td>\n",
       "      <td>7.719830</td>\n",
       "      <td>28.671377</td>\n",
       "      <td>2.438073</td>\n",
       "      <td>6.099906</td>\n",
       "      <td>7.051737</td>\n",
       "      <td>...</td>\n",
       "      <td>0.000000</td>\n",
       "      <td>0.000000</td>\n",
       "      <td>0.000000</td>\n",
       "      <td>0.000000</td>\n",
       "      <td>0.000000</td>\n",
       "      <td>0.000000</td>\n",
       "      <td>2.554878</td>\n",
       "      <td>0.000000</td>\n",
       "      <td>0.000000</td>\n",
       "      <td>0.000000</td>\n",
       "    </tr>\n",
       "    <tr>\n",
       "      <th>CTSC</th>\n",
       "      <td>15.550467</td>\n",
       "      <td>4.543127</td>\n",
       "      <td>7.130252</td>\n",
       "      <td>15.113522</td>\n",
       "      <td>5.018901</td>\n",
       "      <td>1.876072</td>\n",
       "      <td>22.271624</td>\n",
       "      <td>21.019350</td>\n",
       "      <td>6.805007</td>\n",
       "      <td>14.943539</td>\n",
       "      <td>...</td>\n",
       "      <td>1.770987</td>\n",
       "      <td>0.859997</td>\n",
       "      <td>0.403997</td>\n",
       "      <td>7.064024</td>\n",
       "      <td>3.321104</td>\n",
       "      <td>0.477000</td>\n",
       "      <td>1.457004</td>\n",
       "      <td>6.552739</td>\n",
       "      <td>1.189043</td>\n",
       "      <td>2.990031</td>\n",
       "    </tr>\n",
       "    <tr>\n",
       "      <th>AQP7</th>\n",
       "      <td>0.000000</td>\n",
       "      <td>0.000000</td>\n",
       "      <td>0.000000</td>\n",
       "      <td>0.000000</td>\n",
       "      <td>0.000000</td>\n",
       "      <td>0.000000</td>\n",
       "      <td>0.000000</td>\n",
       "      <td>0.000000</td>\n",
       "      <td>0.000000</td>\n",
       "      <td>0.000000</td>\n",
       "      <td>...</td>\n",
       "      <td>0.000000</td>\n",
       "      <td>0.000000</td>\n",
       "      <td>0.000000</td>\n",
       "      <td>0.000000</td>\n",
       "      <td>0.000000</td>\n",
       "      <td>0.000000</td>\n",
       "      <td>0.000000</td>\n",
       "      <td>0.000000</td>\n",
       "      <td>0.000000</td>\n",
       "      <td>0.000000</td>\n",
       "    </tr>\n",
       "  </tbody>\n",
       "</table>\n",
       "<p>23684 rows × 737 columns</p>\n",
       "</div>"
      ],
      "text/plain": [
       "           Malignant  Malignant.1  Malignant.2  Malignant.3  Malignant.4  \\\n",
       "Gene                                                                       \n",
       "C9orf152    0.000000     0.000000     0.000000     0.000000     0.000000   \n",
       "RPS11     135.788203   153.354101   296.923889   283.818688   313.256767   \n",
       "ELMO2       0.000000    13.149704     0.357997     5.159017     0.000000   \n",
       "CREB3L1     0.000000     0.000000     0.000000     0.000000     0.000000   \n",
       "PNMA1       1.780029     0.000000     0.000000     0.000000     0.000000   \n",
       "...              ...          ...          ...          ...          ...   \n",
       "PIK3IP1     0.000000     0.000000     0.000000     0.000000     0.000000   \n",
       "SNRPD2     56.004346    25.364048    82.975699    51.746373   171.888728   \n",
       "SLC39A6    30.710748    17.722485    17.310509     6.795816    12.853705   \n",
       "CTSC       15.550467     4.543127     7.130252    15.113522     5.018901   \n",
       "AQP7        0.000000     0.000000     0.000000     0.000000     0.000000   \n",
       "\n",
       "          Malignant.5  Malignant.6  Malignant.7  Malignant.8  Malignant.9  \\\n",
       "Gene                                                                        \n",
       "C9orf152     0.000000     0.000000     0.000000     0.000000     0.000000   \n",
       "RPS11      323.528192   292.029073   320.594740   148.106568   168.636169   \n",
       "ELMO2        0.927005     4.695806     0.000000     0.000000     0.000000   \n",
       "CREB3L1      0.000000     0.000000     0.000000     0.000000     0.000000   \n",
       "PNMA1        0.000000     0.000000     0.000000     9.870904     0.000000   \n",
       "...               ...          ...          ...          ...          ...   \n",
       "PIK3IP1      0.000000     0.000000     0.000000     0.000000     0.000000   \n",
       "SNRPD2      91.655197    71.564901    66.761786    82.349405   137.131639   \n",
       "SLC39A6      7.719830    28.671377     2.438073     6.099906     7.051737   \n",
       "CTSC         1.876072    22.271624    21.019350     6.805007    14.943539   \n",
       "AQP7         0.000000     0.000000     0.000000     0.000000     0.000000   \n",
       "\n",
       "          ...  B cells.55  B cells.56  B cells.57  B cells.58  B cells.59  \\\n",
       "Gene      ...                                                               \n",
       "C9orf152  ...    0.000000    0.000000    0.000000    0.000000    0.000000   \n",
       "RPS11     ...  222.851783  620.452365  308.307928  969.846904  214.314251   \n",
       "ELMO2     ...    0.000000    0.000000    0.000000    0.274004    0.000000   \n",
       "CREB3L1   ...    0.000000    0.000000    0.000000    0.000000    0.000000   \n",
       "PNMA1     ...    0.000000    0.000000    0.000000    0.000000    0.000000   \n",
       "...       ...         ...         ...         ...         ...         ...   \n",
       "PIK3IP1   ...    0.000000    0.345004    0.000000    0.000000    0.000000   \n",
       "SNRPD2    ...    0.000000    0.000000   69.063930    0.000000    0.000000   \n",
       "SLC39A6   ...    0.000000    0.000000    0.000000    0.000000    0.000000   \n",
       "CTSC      ...    1.770987    0.859997    0.403997    7.064024    3.321104   \n",
       "AQP7      ...    0.000000    0.000000    0.000000    0.000000    0.000000   \n",
       "\n",
       "          B cells.60  B cells.61  B cells.62  B cells.63  B cells.64  \n",
       "Gene                                                                  \n",
       "C9orf152    0.000000    0.000000    0.000000    0.000000    0.000000  \n",
       "RPS11     418.579389  263.184131  327.511485  321.778349  840.663649  \n",
       "ELMO2       7.250034    9.348143    0.886994    0.000000    0.000000  \n",
       "CREB3L1     0.000000    0.000000    0.000000    0.000000    0.000000  \n",
       "PNMA1       0.000000    0.000000    0.000000    0.000000    0.000000  \n",
       "...              ...         ...         ...         ...         ...  \n",
       "PIK3IP1     0.000000    0.000000    0.000000    0.000000    0.000000  \n",
       "SNRPD2     23.430306   45.850742   65.312089   28.601533    5.083915  \n",
       "SLC39A6     0.000000    2.554878    0.000000    0.000000    0.000000  \n",
       "CTSC        0.477000    1.457004    6.552739    1.189043    2.990031  \n",
       "AQP7        0.000000    0.000000    0.000000    0.000000    0.000000  \n",
       "\n",
       "[23684 rows x 737 columns]"
      ]
     },
     "execution_count": 6,
     "metadata": {},
     "output_type": "execute_result"
    }
   ],
   "source": [
    "path = (\n",
    "    \"/mnt/buckets/liulab/csx_example_files/Single_Cell_RNA-Seq_Melanoma_SuppFig_3b-d/\"\n",
    "    \"scRNA-Seq_reference_melanoma_Tirosh_SuppFig_3b-d.txt\"\n",
    ")\n",
    "\n",
    "tirosh_sc = pd.read_csv(path, sep=\"\\t\", index_col=0)\n",
    "\n",
    "tirosh_sc"
   ]
  },
  {
   "cell_type": "markdown",
   "id": "07f42f52",
   "metadata": {},
   "source": [
    "figure out where derek's single cell data was..."
   ]
  },
  {
   "cell_type": "code",
   "execution_count": 7,
   "id": "f1f5d752",
   "metadata": {},
   "outputs": [
    {
     "name": "stdout",
     "output_type": "stream",
     "text": [
      "/mnt/buckets/liulab/derek/scRNAseq/melanoma/metadata_all.txt\n",
      "/mnt/buckets/liulab/derek/scRNAseq/melanoma/tumors_norm_counts.txt\n",
      "/mnt/buckets/liulab/derek/scRNAseq/melanoma/tumors_tpm.txt\n",
      "/mnt/buckets/liulab/ftp/GSE115978/GSE115978_cell.annotations.csv\n",
      "/mnt/buckets/liulab/ftp/GSE115978/GSE115978_counts.csv\n",
      "/mnt/buckets/liulab/ftp/GSE115978/GSE115978_tpm.csv\n"
     ]
    }
   ],
   "source": [
    "!grep -Ril \"CY116CD45neg\" /mnt/buckets/liulab/"
   ]
  },
  {
   "cell_type": "code",
   "execution_count": 8,
   "id": "0cc12039",
   "metadata": {},
   "outputs": [],
   "source": [
    "path = \"/mnt/buckets/liulab/derek/scRNAseq/melanoma/metadata_all.txt\"\n",
    "\n",
    "tirosh_sc_derek_metadata = pd.read_csv(\n",
    "    path,\n",
    "    sep=\"\\t\",\n",
    "    #     index_col=0,\n",
    "    skiprows=[1],\n",
    ")\n",
    "\n",
    "# convert CLINIC to a bool, so i can query on it faster\n",
    "tirosh_sc_derek_metadata[\"CLINIC_bool\"] = (\n",
    "    tirosh_sc_derek_metadata[\"CLINIC\"].map({\"TRUE\": True, \"FALSE\": False}).astype(bool)\n",
    ")\n",
    "tirosh_sc_derek_metadata.drop(\"CLINIC\", axis=\"columns\", inplace=True)\n",
    "tirosh_sc_derek_metadata.rename({\"CLINIC_bool\": \"CLINIC\"}, axis=\"columns\", inplace=True)"
   ]
  },
  {
   "cell_type": "markdown",
   "id": "7e59e95b",
   "metadata": {},
   "source": [
    "#### figuring out this data...\n",
    "looks like 'CLINIC' == TRUE means it's a cell (FALSE means it's a fragment?)"
   ]
  },
  {
   "cell_type": "code",
   "execution_count": 11,
   "id": "7bf5182d",
   "metadata": {},
   "outputs": [
    {
     "data": {
      "text/html": [
       "<div>\n",
       "<style scoped>\n",
       "    .dataframe tbody tr th:only-of-type {\n",
       "        vertical-align: middle;\n",
       "    }\n",
       "\n",
       "    .dataframe tbody tr th {\n",
       "        vertical-align: top;\n",
       "    }\n",
       "\n",
       "    .dataframe thead th {\n",
       "        text-align: right;\n",
       "    }\n",
       "</style>\n",
       "<table border=\"1\" class=\"dataframe\">\n",
       "  <thead>\n",
       "    <tr style=\"text-align: right;\">\n",
       "      <th></th>\n",
       "      <th>NAME</th>\n",
       "      <th>LABEL</th>\n",
       "      <th>no.genes</th>\n",
       "      <th>log.no.reads</th>\n",
       "      <th>CLINIC</th>\n",
       "    </tr>\n",
       "  </thead>\n",
       "  <tbody>\n",
       "    <tr>\n",
       "      <th>30735</th>\n",
       "      <td>B16_ATTACTCCACCACCAG_1B1</td>\n",
       "      <td>B16</td>\n",
       "      <td>1923</td>\n",
       "      <td>8.406485</td>\n",
       "      <td>False</td>\n",
       "    </tr>\n",
       "    <tr>\n",
       "      <th>23022</th>\n",
       "      <td>cy81_Bulk_CD45_neg_C11_S131_comb</td>\n",
       "      <td>Mel81</td>\n",
       "      <td>9314</td>\n",
       "      <td>11.888405</td>\n",
       "      <td>True</td>\n",
       "    </tr>\n",
       "    <tr>\n",
       "      <th>28189</th>\n",
       "      <td>cy102_CD45pos_S244</td>\n",
       "      <td>Mel102</td>\n",
       "      <td>5275</td>\n",
       "      <td>13.674172</td>\n",
       "      <td>True</td>\n",
       "    </tr>\n",
       "    <tr>\n",
       "      <th>13638</th>\n",
       "      <td>IGR37_DSMO_TCCCGATTCATCACCC_1</td>\n",
       "      <td>IGR37_DSMO</td>\n",
       "      <td>3748</td>\n",
       "      <td>9.546170</td>\n",
       "      <td>False</td>\n",
       "    </tr>\n",
       "    <tr>\n",
       "      <th>3535</th>\n",
       "      <td>A2058_Abemaciclib_CCCAATCAGAAACCTA_1</td>\n",
       "      <td>A2058_Abemaciclib</td>\n",
       "      <td>3204</td>\n",
       "      <td>9.289336</td>\n",
       "      <td>False</td>\n",
       "    </tr>\n",
       "    <tr>\n",
       "      <th>22293</th>\n",
       "      <td>UACC257_Abemaciclib_TACTTACGTCTGGTCG_1</td>\n",
       "      <td>UACC257_Abemaciclib</td>\n",
       "      <td>3881</td>\n",
       "      <td>10.044119</td>\n",
       "      <td>False</td>\n",
       "    </tr>\n",
       "    <tr>\n",
       "      <th>18468</th>\n",
       "      <td>UACC257_DSMO_GGATTACAGAGCTTCT_1</td>\n",
       "      <td>UACC257_DSMO</td>\n",
       "      <td>3464</td>\n",
       "      <td>9.853299</td>\n",
       "      <td>False</td>\n",
       "    </tr>\n",
       "    <tr>\n",
       "      <th>33361</th>\n",
       "      <td>CT26_ACGAGCCTCGGTTCGG_1B2</td>\n",
       "      <td>CT26</td>\n",
       "      <td>2167</td>\n",
       "      <td>8.789051</td>\n",
       "      <td>False</td>\n",
       "    </tr>\n",
       "    <tr>\n",
       "      <th>8060</th>\n",
       "      <td>Monoculture_DSMO_GGGCATCGTACGCTGC_1</td>\n",
       "      <td>Monoculture_DSMO</td>\n",
       "      <td>2759</td>\n",
       "      <td>9.366404</td>\n",
       "      <td>False</td>\n",
       "    </tr>\n",
       "    <tr>\n",
       "      <th>15219</th>\n",
       "      <td>IGR37_Abemaciclib_TAAACCGCAAACTGCT_1</td>\n",
       "      <td>IGR37_Abemaciclib</td>\n",
       "      <td>2453</td>\n",
       "      <td>9.424161</td>\n",
       "      <td>False</td>\n",
       "    </tr>\n",
       "  </tbody>\n",
       "</table>\n",
       "</div>"
      ],
      "text/plain": [
       "                                         NAME                LABEL  no.genes  \\\n",
       "30735                B16_ATTACTCCACCACCAG_1B1                  B16      1923   \n",
       "23022        cy81_Bulk_CD45_neg_C11_S131_comb                Mel81      9314   \n",
       "28189                      cy102_CD45pos_S244               Mel102      5275   \n",
       "13638           IGR37_DSMO_TCCCGATTCATCACCC_1           IGR37_DSMO      3748   \n",
       "3535     A2058_Abemaciclib_CCCAATCAGAAACCTA_1    A2058_Abemaciclib      3204   \n",
       "22293  UACC257_Abemaciclib_TACTTACGTCTGGTCG_1  UACC257_Abemaciclib      3881   \n",
       "18468         UACC257_DSMO_GGATTACAGAGCTTCT_1         UACC257_DSMO      3464   \n",
       "33361               CT26_ACGAGCCTCGGTTCGG_1B2                 CT26      2167   \n",
       "8060      Monoculture_DSMO_GGGCATCGTACGCTGC_1     Monoculture_DSMO      2759   \n",
       "15219    IGR37_Abemaciclib_TAAACCGCAAACTGCT_1    IGR37_Abemaciclib      2453   \n",
       "\n",
       "       log.no.reads  CLINIC  \n",
       "30735      8.406485   False  \n",
       "23022     11.888405    True  \n",
       "28189     13.674172    True  \n",
       "13638      9.546170   False  \n",
       "3535       9.289336   False  \n",
       "22293     10.044119   False  \n",
       "18468      9.853299   False  \n",
       "33361      8.789051   False  \n",
       "8060       9.366404   False  \n",
       "15219      9.424161   False  "
      ]
     },
     "execution_count": 11,
     "metadata": {},
     "output_type": "execute_result"
    }
   ],
   "source": [
    "tirosh_sc_derek_metadata.sample(10, random_state=0)"
   ]
  },
  {
   "cell_type": "code",
   "execution_count": 9,
   "id": "6e1db214",
   "metadata": {},
   "outputs": [
    {
     "data": {
      "text/plain": [
       "False    32558\n",
       "True      7186\n",
       "Name: CLINIC, dtype: int64"
      ]
     },
     "execution_count": 9,
     "metadata": {},
     "output_type": "execute_result"
    }
   ],
   "source": [
    "tirosh_sc_derek_metadata[\"CLINIC\"].value_counts()"
   ]
  },
  {
   "cell_type": "code",
   "execution_count": 10,
   "id": "4044009c",
   "metadata": {},
   "outputs": [
    {
     "data": {
      "text/plain": [
       "False    32558\n",
       "True      7186\n",
       "Name: LABEL, dtype: int64"
      ]
     },
     "execution_count": 10,
     "metadata": {},
     "output_type": "execute_result"
    }
   ],
   "source": [
    "tirosh_sc_derek_metadata[\"LABEL\"].str.contains(\"Mel\").value_counts()"
   ]
  },
  {
   "cell_type": "code",
   "execution_count": 12,
   "id": "7e7eaad0",
   "metadata": {},
   "outputs": [
    {
     "data": {
      "text/html": [
       "<div>\n",
       "<style scoped>\n",
       "    .dataframe tbody tr th:only-of-type {\n",
       "        vertical-align: middle;\n",
       "    }\n",
       "\n",
       "    .dataframe tbody tr th {\n",
       "        vertical-align: top;\n",
       "    }\n",
       "\n",
       "    .dataframe thead th {\n",
       "        text-align: right;\n",
       "    }\n",
       "</style>\n",
       "<table border=\"1\" class=\"dataframe\">\n",
       "  <thead>\n",
       "    <tr style=\"text-align: right;\">\n",
       "      <th></th>\n",
       "      <th>NAME</th>\n",
       "      <th>LABEL</th>\n",
       "      <th>no.genes</th>\n",
       "      <th>log.no.reads</th>\n",
       "      <th>CLINIC</th>\n",
       "    </tr>\n",
       "  </thead>\n",
       "  <tbody>\n",
       "    <tr>\n",
       "      <th>22895</th>\n",
       "      <td>cy78_CD45_neg_1_B04_S496_comb</td>\n",
       "      <td>Mel78</td>\n",
       "      <td>8258</td>\n",
       "      <td>12.788062</td>\n",
       "      <td>True</td>\n",
       "    </tr>\n",
       "    <tr>\n",
       "      <th>22896</th>\n",
       "      <td>cy79_p4_CD45_neg_PDL1_neg_E11_S1115_comb</td>\n",
       "      <td>Mel79</td>\n",
       "      <td>2047</td>\n",
       "      <td>8.652947</td>\n",
       "      <td>True</td>\n",
       "    </tr>\n",
       "    <tr>\n",
       "      <th>22897</th>\n",
       "      <td>CY88_5_B10_S694_comb</td>\n",
       "      <td>Mel88</td>\n",
       "      <td>5375</td>\n",
       "      <td>11.843796</td>\n",
       "      <td>True</td>\n",
       "    </tr>\n",
       "    <tr>\n",
       "      <th>22898</th>\n",
       "      <td>cy79_p1_CD45_neg_PDL1_pos_AS_C1_R1_F07_S67_comb</td>\n",
       "      <td>Mel79</td>\n",
       "      <td>5648</td>\n",
       "      <td>11.211766</td>\n",
       "      <td>True</td>\n",
       "    </tr>\n",
       "    <tr>\n",
       "      <th>22899</th>\n",
       "      <td>cy78_CD45_neg_3_H06_S762_comb</td>\n",
       "      <td>Mel78</td>\n",
       "      <td>7409</td>\n",
       "      <td>12.848823</td>\n",
       "      <td>True</td>\n",
       "    </tr>\n",
       "    <tr>\n",
       "      <th>...</th>\n",
       "      <td>...</td>\n",
       "      <td>...</td>\n",
       "      <td>...</td>\n",
       "      <td>...</td>\n",
       "      <td>...</td>\n",
       "    </tr>\n",
       "    <tr>\n",
       "      <th>30076</th>\n",
       "      <td>CY75_1_CD45_CD8_3__S168_comb_BCD8</td>\n",
       "      <td>Mel75</td>\n",
       "      <td>3530</td>\n",
       "      <td>11.829523</td>\n",
       "      <td>True</td>\n",
       "    </tr>\n",
       "    <tr>\n",
       "      <th>30077</th>\n",
       "      <td>CY75_1_CD45_CD8_8__S338_comb_BCD8</td>\n",
       "      <td>Mel75</td>\n",
       "      <td>3872</td>\n",
       "      <td>11.575262</td>\n",
       "      <td>True</td>\n",
       "    </tr>\n",
       "    <tr>\n",
       "      <th>30078</th>\n",
       "      <td>monika_D7_S132_comb_BCD8_3</td>\n",
       "      <td>Mel75</td>\n",
       "      <td>4589</td>\n",
       "      <td>13.719190</td>\n",
       "      <td>True</td>\n",
       "    </tr>\n",
       "    <tr>\n",
       "      <th>30079</th>\n",
       "      <td>CY75_1_CD45_CD8_8__S289_comb_BCD8</td>\n",
       "      <td>Mel75</td>\n",
       "      <td>4614</td>\n",
       "      <td>11.855827</td>\n",
       "      <td>True</td>\n",
       "    </tr>\n",
       "    <tr>\n",
       "      <th>30080</th>\n",
       "      <td>CY75_1_CD45_CD8_8__S351_comb_BCD8</td>\n",
       "      <td>Mel75</td>\n",
       "      <td>3859</td>\n",
       "      <td>12.311509</td>\n",
       "      <td>True</td>\n",
       "    </tr>\n",
       "  </tbody>\n",
       "</table>\n",
       "<p>7186 rows × 5 columns</p>\n",
       "</div>"
      ],
      "text/plain": [
       "                                                  NAME  LABEL  no.genes  \\\n",
       "22895                    cy78_CD45_neg_1_B04_S496_comb  Mel78      8258   \n",
       "22896         cy79_p4_CD45_neg_PDL1_neg_E11_S1115_comb  Mel79      2047   \n",
       "22897                             CY88_5_B10_S694_comb  Mel88      5375   \n",
       "22898  cy79_p1_CD45_neg_PDL1_pos_AS_C1_R1_F07_S67_comb  Mel79      5648   \n",
       "22899                    cy78_CD45_neg_3_H06_S762_comb  Mel78      7409   \n",
       "...                                                ...    ...       ...   \n",
       "30076                CY75_1_CD45_CD8_3__S168_comb_BCD8  Mel75      3530   \n",
       "30077                CY75_1_CD45_CD8_8__S338_comb_BCD8  Mel75      3872   \n",
       "30078                       monika_D7_S132_comb_BCD8_3  Mel75      4589   \n",
       "30079                CY75_1_CD45_CD8_8__S289_comb_BCD8  Mel75      4614   \n",
       "30080                CY75_1_CD45_CD8_8__S351_comb_BCD8  Mel75      3859   \n",
       "\n",
       "       log.no.reads  CLINIC  \n",
       "22895     12.788062    True  \n",
       "22896      8.652947    True  \n",
       "22897     11.843796    True  \n",
       "22898     11.211766    True  \n",
       "22899     12.848823    True  \n",
       "...             ...     ...  \n",
       "30076     11.829523    True  \n",
       "30077     11.575262    True  \n",
       "30078     13.719190    True  \n",
       "30079     11.855827    True  \n",
       "30080     12.311509    True  \n",
       "\n",
       "[7186 rows x 5 columns]"
      ]
     },
     "execution_count": 12,
     "metadata": {},
     "output_type": "execute_result"
    }
   ],
   "source": [
    "tirosh_sc_derek_metadata.query(\"CLINIC == True\")"
   ]
  },
  {
   "cell_type": "code",
   "execution_count": 13,
   "id": "bd1a98e5",
   "metadata": {},
   "outputs": [
    {
     "data": {
      "text/html": [
       "<div>\n",
       "<style scoped>\n",
       "    .dataframe tbody tr th:only-of-type {\n",
       "        vertical-align: middle;\n",
       "    }\n",
       "\n",
       "    .dataframe tbody tr th {\n",
       "        vertical-align: top;\n",
       "    }\n",
       "\n",
       "    .dataframe thead th {\n",
       "        text-align: right;\n",
       "    }\n",
       "</style>\n",
       "<table border=\"1\" class=\"dataframe\">\n",
       "  <thead>\n",
       "    <tr style=\"text-align: right;\">\n",
       "      <th></th>\n",
       "      <th>53</th>\n",
       "      <th>58</th>\n",
       "      <th>59</th>\n",
       "      <th>60</th>\n",
       "      <th>65</th>\n",
       "      <th>67</th>\n",
       "      <th>71</th>\n",
       "      <th>72</th>\n",
       "      <th>74</th>\n",
       "      <th>75</th>\n",
       "      <th>78</th>\n",
       "      <th>79</th>\n",
       "      <th>80</th>\n",
       "      <th>81</th>\n",
       "      <th>82</th>\n",
       "      <th>84</th>\n",
       "      <th>88</th>\n",
       "      <th>89</th>\n",
       "      <th>94</th>\n",
       "    </tr>\n",
       "    <tr>\n",
       "      <th>GeneSymbol</th>\n",
       "      <th></th>\n",
       "      <th></th>\n",
       "      <th></th>\n",
       "      <th></th>\n",
       "      <th></th>\n",
       "      <th></th>\n",
       "      <th></th>\n",
       "      <th></th>\n",
       "      <th></th>\n",
       "      <th></th>\n",
       "      <th></th>\n",
       "      <th></th>\n",
       "      <th></th>\n",
       "      <th></th>\n",
       "      <th></th>\n",
       "      <th></th>\n",
       "      <th></th>\n",
       "      <th></th>\n",
       "      <th></th>\n",
       "    </tr>\n",
       "  </thead>\n",
       "  <tbody>\n",
       "    <tr>\n",
       "      <th>C9orf152</th>\n",
       "      <td>0.289337</td>\n",
       "      <td>9.801102</td>\n",
       "      <td>6.082935</td>\n",
       "      <td>0.000000</td>\n",
       "      <td>0.000000</td>\n",
       "      <td>28.169763</td>\n",
       "      <td>0.000000</td>\n",
       "      <td>0.000000</td>\n",
       "      <td>0.000000</td>\n",
       "      <td>0.483223</td>\n",
       "      <td>2.690996</td>\n",
       "      <td>1.978439</td>\n",
       "      <td>0.308715</td>\n",
       "      <td>0.291315</td>\n",
       "      <td>0.000000</td>\n",
       "      <td>0.358862</td>\n",
       "      <td>0.367347</td>\n",
       "      <td>0.401188</td>\n",
       "      <td>0.288157</td>\n",
       "    </tr>\n",
       "    <tr>\n",
       "      <th>RPS11</th>\n",
       "      <td>47840.775296</td>\n",
       "      <td>51131.456789</td>\n",
       "      <td>40491.903396</td>\n",
       "      <td>42780.017704</td>\n",
       "      <td>51511.313553</td>\n",
       "      <td>44861.720581</td>\n",
       "      <td>66723.389402</td>\n",
       "      <td>69217.689206</td>\n",
       "      <td>38093.350291</td>\n",
       "      <td>12916.004346</td>\n",
       "      <td>43495.724667</td>\n",
       "      <td>23180.732926</td>\n",
       "      <td>35476.850476</td>\n",
       "      <td>34404.065667</td>\n",
       "      <td>25109.440304</td>\n",
       "      <td>36166.236120</td>\n",
       "      <td>45072.841711</td>\n",
       "      <td>40886.412031</td>\n",
       "      <td>45779.352110</td>\n",
       "    </tr>\n",
       "    <tr>\n",
       "      <th>ELMO2</th>\n",
       "      <td>648.150664</td>\n",
       "      <td>466.285097</td>\n",
       "      <td>589.063687</td>\n",
       "      <td>602.165025</td>\n",
       "      <td>414.575624</td>\n",
       "      <td>336.606670</td>\n",
       "      <td>546.312859</td>\n",
       "      <td>344.113719</td>\n",
       "      <td>522.410148</td>\n",
       "      <td>1303.223963</td>\n",
       "      <td>409.339491</td>\n",
       "      <td>579.531637</td>\n",
       "      <td>561.839134</td>\n",
       "      <td>373.884862</td>\n",
       "      <td>759.849151</td>\n",
       "      <td>739.386814</td>\n",
       "      <td>661.007565</td>\n",
       "      <td>391.013130</td>\n",
       "      <td>363.486614</td>\n",
       "    </tr>\n",
       "    <tr>\n",
       "      <th>CREB3L1</th>\n",
       "      <td>50.630855</td>\n",
       "      <td>0.000000</td>\n",
       "      <td>0.000000</td>\n",
       "      <td>0.000000</td>\n",
       "      <td>0.000000</td>\n",
       "      <td>3.376491</td>\n",
       "      <td>0.000000</td>\n",
       "      <td>0.000000</td>\n",
       "      <td>0.558999</td>\n",
       "      <td>7.652052</td>\n",
       "      <td>0.000000</td>\n",
       "      <td>0.506990</td>\n",
       "      <td>41.938175</td>\n",
       "      <td>0.000000</td>\n",
       "      <td>6.000351</td>\n",
       "      <td>1.713570</td>\n",
       "      <td>11.081761</td>\n",
       "      <td>6.207048</td>\n",
       "      <td>22.073150</td>\n",
       "    </tr>\n",
       "    <tr>\n",
       "      <th>PNMA1</th>\n",
       "      <td>463.297460</td>\n",
       "      <td>419.045738</td>\n",
       "      <td>248.376826</td>\n",
       "      <td>328.087061</td>\n",
       "      <td>257.670978</td>\n",
       "      <td>189.640521</td>\n",
       "      <td>347.080395</td>\n",
       "      <td>392.563825</td>\n",
       "      <td>809.961976</td>\n",
       "      <td>757.164439</td>\n",
       "      <td>888.541620</td>\n",
       "      <td>574.500515</td>\n",
       "      <td>289.133662</td>\n",
       "      <td>220.417536</td>\n",
       "      <td>257.028939</td>\n",
       "      <td>434.138882</td>\n",
       "      <td>560.953526</td>\n",
       "      <td>369.350573</td>\n",
       "      <td>246.152971</td>\n",
       "    </tr>\n",
       "    <tr>\n",
       "      <th>...</th>\n",
       "      <td>...</td>\n",
       "      <td>...</td>\n",
       "      <td>...</td>\n",
       "      <td>...</td>\n",
       "      <td>...</td>\n",
       "      <td>...</td>\n",
       "      <td>...</td>\n",
       "      <td>...</td>\n",
       "      <td>...</td>\n",
       "      <td>...</td>\n",
       "      <td>...</td>\n",
       "      <td>...</td>\n",
       "      <td>...</td>\n",
       "      <td>...</td>\n",
       "      <td>...</td>\n",
       "      <td>...</td>\n",
       "      <td>...</td>\n",
       "      <td>...</td>\n",
       "      <td>...</td>\n",
       "    </tr>\n",
       "    <tr>\n",
       "      <th>PIK3IP1</th>\n",
       "      <td>2713.748642</td>\n",
       "      <td>4402.832732</td>\n",
       "      <td>194.331248</td>\n",
       "      <td>3587.371996</td>\n",
       "      <td>8941.159658</td>\n",
       "      <td>3300.708543</td>\n",
       "      <td>2488.001069</td>\n",
       "      <td>11934.354369</td>\n",
       "      <td>3970.364331</td>\n",
       "      <td>3600.616577</td>\n",
       "      <td>466.602158</td>\n",
       "      <td>4418.954755</td>\n",
       "      <td>4097.465832</td>\n",
       "      <td>2436.136866</td>\n",
       "      <td>808.699677</td>\n",
       "      <td>3142.832161</td>\n",
       "      <td>2452.706611</td>\n",
       "      <td>4578.102211</td>\n",
       "      <td>9889.934054</td>\n",
       "    </tr>\n",
       "    <tr>\n",
       "      <th>SNRPD2</th>\n",
       "      <td>8173.991503</td>\n",
       "      <td>7516.121157</td>\n",
       "      <td>6537.172031</td>\n",
       "      <td>4487.384239</td>\n",
       "      <td>5641.659192</td>\n",
       "      <td>5059.084437</td>\n",
       "      <td>7911.192146</td>\n",
       "      <td>5566.143170</td>\n",
       "      <td>7139.645943</td>\n",
       "      <td>2751.262303</td>\n",
       "      <td>7238.229045</td>\n",
       "      <td>3566.115118</td>\n",
       "      <td>7119.707552</td>\n",
       "      <td>5741.684765</td>\n",
       "      <td>3404.033429</td>\n",
       "      <td>4484.113405</td>\n",
       "      <td>4120.083442</td>\n",
       "      <td>4513.201611</td>\n",
       "      <td>4330.713365</td>\n",
       "    </tr>\n",
       "    <tr>\n",
       "      <th>SLC39A6</th>\n",
       "      <td>158.322703</td>\n",
       "      <td>219.809048</td>\n",
       "      <td>625.323786</td>\n",
       "      <td>817.165852</td>\n",
       "      <td>462.766297</td>\n",
       "      <td>360.820284</td>\n",
       "      <td>1406.541577</td>\n",
       "      <td>42.370089</td>\n",
       "      <td>544.624915</td>\n",
       "      <td>419.588179</td>\n",
       "      <td>1376.010654</td>\n",
       "      <td>817.723630</td>\n",
       "      <td>717.143522</td>\n",
       "      <td>509.528484</td>\n",
       "      <td>412.829590</td>\n",
       "      <td>612.605765</td>\n",
       "      <td>841.827789</td>\n",
       "      <td>810.463987</td>\n",
       "      <td>558.184691</td>\n",
       "    </tr>\n",
       "    <tr>\n",
       "      <th>CTSC</th>\n",
       "      <td>4317.942793</td>\n",
       "      <td>3957.807681</td>\n",
       "      <td>725.196785</td>\n",
       "      <td>3804.604704</td>\n",
       "      <td>1381.900617</td>\n",
       "      <td>5119.496318</td>\n",
       "      <td>1204.572114</td>\n",
       "      <td>1004.547908</td>\n",
       "      <td>2402.465430</td>\n",
       "      <td>4161.031538</td>\n",
       "      <td>1394.348437</td>\n",
       "      <td>1355.233992</td>\n",
       "      <td>2774.711130</td>\n",
       "      <td>1580.878261</td>\n",
       "      <td>3874.538653</td>\n",
       "      <td>4851.670095</td>\n",
       "      <td>2728.713435</td>\n",
       "      <td>1991.983612</td>\n",
       "      <td>1818.908918</td>\n",
       "    </tr>\n",
       "    <tr>\n",
       "      <th>AQP7</th>\n",
       "      <td>8.216634</td>\n",
       "      <td>6.253366</td>\n",
       "      <td>0.000000</td>\n",
       "      <td>2.961633</td>\n",
       "      <td>0.000000</td>\n",
       "      <td>0.000000</td>\n",
       "      <td>1.526071</td>\n",
       "      <td>0.000000</td>\n",
       "      <td>0.000000</td>\n",
       "      <td>0.000000</td>\n",
       "      <td>3.425081</td>\n",
       "      <td>1.421426</td>\n",
       "      <td>1.517210</td>\n",
       "      <td>0.862705</td>\n",
       "      <td>1.145622</td>\n",
       "      <td>3.336980</td>\n",
       "      <td>0.559628</td>\n",
       "      <td>11.639905</td>\n",
       "      <td>13.493058</td>\n",
       "    </tr>\n",
       "  </tbody>\n",
       "</table>\n",
       "<p>23684 rows × 19 columns</p>\n",
       "</div>"
      ],
      "text/plain": [
       "                      53            58            59            60  \\\n",
       "GeneSymbol                                                           \n",
       "C9orf152        0.289337      9.801102      6.082935      0.000000   \n",
       "RPS11       47840.775296  51131.456789  40491.903396  42780.017704   \n",
       "ELMO2         648.150664    466.285097    589.063687    602.165025   \n",
       "CREB3L1        50.630855      0.000000      0.000000      0.000000   \n",
       "PNMA1         463.297460    419.045738    248.376826    328.087061   \n",
       "...                  ...           ...           ...           ...   \n",
       "PIK3IP1      2713.748642   4402.832732    194.331248   3587.371996   \n",
       "SNRPD2       8173.991503   7516.121157   6537.172031   4487.384239   \n",
       "SLC39A6       158.322703    219.809048    625.323786    817.165852   \n",
       "CTSC         4317.942793   3957.807681    725.196785   3804.604704   \n",
       "AQP7            8.216634      6.253366      0.000000      2.961633   \n",
       "\n",
       "                      65            67            71            72  \\\n",
       "GeneSymbol                                                           \n",
       "C9orf152        0.000000     28.169763      0.000000      0.000000   \n",
       "RPS11       51511.313553  44861.720581  66723.389402  69217.689206   \n",
       "ELMO2         414.575624    336.606670    546.312859    344.113719   \n",
       "CREB3L1         0.000000      3.376491      0.000000      0.000000   \n",
       "PNMA1         257.670978    189.640521    347.080395    392.563825   \n",
       "...                  ...           ...           ...           ...   \n",
       "PIK3IP1      8941.159658   3300.708543   2488.001069  11934.354369   \n",
       "SNRPD2       5641.659192   5059.084437   7911.192146   5566.143170   \n",
       "SLC39A6       462.766297    360.820284   1406.541577     42.370089   \n",
       "CTSC         1381.900617   5119.496318   1204.572114   1004.547908   \n",
       "AQP7            0.000000      0.000000      1.526071      0.000000   \n",
       "\n",
       "                      74            75            78            79  \\\n",
       "GeneSymbol                                                           \n",
       "C9orf152        0.000000      0.483223      2.690996      1.978439   \n",
       "RPS11       38093.350291  12916.004346  43495.724667  23180.732926   \n",
       "ELMO2         522.410148   1303.223963    409.339491    579.531637   \n",
       "CREB3L1         0.558999      7.652052      0.000000      0.506990   \n",
       "PNMA1         809.961976    757.164439    888.541620    574.500515   \n",
       "...                  ...           ...           ...           ...   \n",
       "PIK3IP1      3970.364331   3600.616577    466.602158   4418.954755   \n",
       "SNRPD2       7139.645943   2751.262303   7238.229045   3566.115118   \n",
       "SLC39A6       544.624915    419.588179   1376.010654    817.723630   \n",
       "CTSC         2402.465430   4161.031538   1394.348437   1355.233992   \n",
       "AQP7            0.000000      0.000000      3.425081      1.421426   \n",
       "\n",
       "                      80            81            82            84  \\\n",
       "GeneSymbol                                                           \n",
       "C9orf152        0.308715      0.291315      0.000000      0.358862   \n",
       "RPS11       35476.850476  34404.065667  25109.440304  36166.236120   \n",
       "ELMO2         561.839134    373.884862    759.849151    739.386814   \n",
       "CREB3L1        41.938175      0.000000      6.000351      1.713570   \n",
       "PNMA1         289.133662    220.417536    257.028939    434.138882   \n",
       "...                  ...           ...           ...           ...   \n",
       "PIK3IP1      4097.465832   2436.136866    808.699677   3142.832161   \n",
       "SNRPD2       7119.707552   5741.684765   3404.033429   4484.113405   \n",
       "SLC39A6       717.143522    509.528484    412.829590    612.605765   \n",
       "CTSC         2774.711130   1580.878261   3874.538653   4851.670095   \n",
       "AQP7            1.517210      0.862705      1.145622      3.336980   \n",
       "\n",
       "                      88            89            94  \n",
       "GeneSymbol                                            \n",
       "C9orf152        0.367347      0.401188      0.288157  \n",
       "RPS11       45072.841711  40886.412031  45779.352110  \n",
       "ELMO2         661.007565    391.013130    363.486614  \n",
       "CREB3L1        11.081761      6.207048     22.073150  \n",
       "PNMA1         560.953526    369.350573    246.152971  \n",
       "...                  ...           ...           ...  \n",
       "PIK3IP1      2452.706611   4578.102211   9889.934054  \n",
       "SNRPD2       4120.083442   4513.201611   4330.713365  \n",
       "SLC39A6       841.827789    810.463987    558.184691  \n",
       "CTSC         2728.713435   1991.983612   1818.908918  \n",
       "AQP7            0.559628     11.639905     13.493058  \n",
       "\n",
       "[23684 rows x 19 columns]"
      ]
     },
     "execution_count": 13,
     "metadata": {},
     "output_type": "execute_result"
    }
   ],
   "source": [
    "path = (\n",
    "    \"/mnt/buckets/liulab/csx_example_files/Single_Cell_RNA-Seq_Melanoma_SuppFig_3b-d/\"\n",
    "    \"mixture_melanoma_Tirosh_SuppFig_3b-d.txt\"\n",
    ")\n",
    "\n",
    "tirosh_mixtures = pd.read_csv(path, sep=\"\\t\", index_col=0)\n",
    "\n",
    "tirosh_mixtures"
   ]
  },
  {
   "cell_type": "markdown",
   "id": "fb80028d",
   "metadata": {},
   "source": [
    "## run csx with docker"
   ]
  },
  {
   "cell_type": "code",
   "execution_count": null,
   "id": "4255b23b",
   "metadata": {},
   "outputs": [],
   "source": [
    "!./scripts/tut1-csx_fractions_melanoma.sh"
   ]
  },
  {
   "cell_type": "markdown",
   "id": "dca7a5cc",
   "metadata": {},
   "source": [
    "## inspect csx results"
   ]
  },
  {
   "cell_type": "markdown",
   "id": "970ca729",
   "metadata": {},
   "source": [
    "### find output files"
   ]
  },
  {
   "cell_type": "code",
   "execution_count": 14,
   "id": "6935da10",
   "metadata": {},
   "outputs": [
    {
     "name": "stdout",
     "output_type": "stream",
     "text": [
      "/mnt/buckets/liulab/csx-runs/20210714_154924/out/CIBERSORTx_Adjusted.txt\n",
      "/mnt/buckets/liulab/csx-runs/20210714_165603/out/CIBERSORTx_Adjusted.txt\n",
      "/mnt/buckets/liulab/csx-runs/20210715_160345.2/out/CIBERSORTx_Adjusted.txt\n",
      "/mnt/buckets/liulab/csx-runs/20210715_160345/out/CIBERSORTx_Adjusted.txt\n"
     ]
    }
   ],
   "source": [
    "!find /mnt/buckets/liulab/csx-runs/ -name CIBERSORTx_Adjusted.txt | sort"
   ]
  },
  {
   "cell_type": "code",
   "execution_count": 15,
   "id": "46c9f39d",
   "metadata": {},
   "outputs": [],
   "source": [
    "csx_run_dir = \"/mnt/buckets/liulab/csx-runs/20210715_160345/\""
   ]
  },
  {
   "cell_type": "markdown",
   "id": "bf7ce981",
   "metadata": {},
   "source": [
    "### look at sig matrix, mixtures"
   ]
  },
  {
   "cell_type": "code",
   "execution_count": 16,
   "id": "12acbc08",
   "metadata": {},
   "outputs": [
    {
     "name": "stdout",
     "output_type": "stream",
     "text": [
      "/mnt/buckets/liulab/csx-runs/20210715_160345/out/CIBERSORTx_sigmatrix_Adjusted.txt\n"
     ]
    }
   ],
   "source": [
    "path = os.path.join(csx_run_dir, \"out\", \"CIBERSORTx_sigmatrix_Adjusted.txt\")\n",
    "print(path)\n",
    "\n",
    "learned_sigmatrix = pd.read_csv(path, sep=\"\\t\", index_col=0)"
   ]
  },
  {
   "cell_type": "code",
   "execution_count": 17,
   "id": "bebd47b7",
   "metadata": {},
   "outputs": [
    {
     "data": {
      "text/html": [
       "<div>\n",
       "<style scoped>\n",
       "    .dataframe tbody tr th:only-of-type {\n",
       "        vertical-align: middle;\n",
       "    }\n",
       "\n",
       "    .dataframe tbody tr th {\n",
       "        vertical-align: top;\n",
       "    }\n",
       "\n",
       "    .dataframe thead th {\n",
       "        text-align: right;\n",
       "    }\n",
       "</style>\n",
       "<table border=\"1\" class=\"dataframe\">\n",
       "  <thead>\n",
       "    <tr style=\"text-align: right;\">\n",
       "      <th></th>\n",
       "      <th>Malignant</th>\n",
       "      <th>Endothelial cells</th>\n",
       "      <th>CAF</th>\n",
       "      <th>T cells CD8</th>\n",
       "      <th>NK cells</th>\n",
       "      <th>Macrophages</th>\n",
       "      <th>T cells CD4</th>\n",
       "      <th>B cells</th>\n",
       "    </tr>\n",
       "    <tr>\n",
       "      <th>GeneSymbol</th>\n",
       "      <th></th>\n",
       "      <th></th>\n",
       "      <th></th>\n",
       "      <th></th>\n",
       "      <th></th>\n",
       "      <th></th>\n",
       "      <th></th>\n",
       "      <th></th>\n",
       "    </tr>\n",
       "  </thead>\n",
       "  <tbody>\n",
       "    <tr>\n",
       "      <th>FST</th>\n",
       "      <td>0.000000</td>\n",
       "      <td>2.003213</td>\n",
       "      <td>185.068477</td>\n",
       "      <td>0.000000</td>\n",
       "      <td>0.000000</td>\n",
       "      <td>1.326289</td>\n",
       "      <td>0.000000</td>\n",
       "      <td>0.000000</td>\n",
       "    </tr>\n",
       "    <tr>\n",
       "      <th>CPXM1</th>\n",
       "      <td>0.000000</td>\n",
       "      <td>47.144327</td>\n",
       "      <td>212.078662</td>\n",
       "      <td>0.000000</td>\n",
       "      <td>16.106573</td>\n",
       "      <td>5.863306</td>\n",
       "      <td>0.000000</td>\n",
       "      <td>0.000000</td>\n",
       "    </tr>\n",
       "    <tr>\n",
       "      <th>MTERFD1</th>\n",
       "      <td>50.046274</td>\n",
       "      <td>5.474915</td>\n",
       "      <td>0.000000</td>\n",
       "      <td>11.643195</td>\n",
       "      <td>136.068081</td>\n",
       "      <td>6.795121</td>\n",
       "      <td>50.339864</td>\n",
       "      <td>8.856449</td>\n",
       "    </tr>\n",
       "    <tr>\n",
       "      <th>TJP1</th>\n",
       "      <td>7.123746</td>\n",
       "      <td>80.132447</td>\n",
       "      <td>46.164069</td>\n",
       "      <td>0.000000</td>\n",
       "      <td>0.000000</td>\n",
       "      <td>1.460436</td>\n",
       "      <td>0.000000</td>\n",
       "      <td>0.000000</td>\n",
       "    </tr>\n",
       "    <tr>\n",
       "      <th>ST5</th>\n",
       "      <td>52.592981</td>\n",
       "      <td>2.098574</td>\n",
       "      <td>0.000000</td>\n",
       "      <td>0.000000</td>\n",
       "      <td>39.198614</td>\n",
       "      <td>19.729463</td>\n",
       "      <td>0.000000</td>\n",
       "      <td>0.000000</td>\n",
       "    </tr>\n",
       "    <tr>\n",
       "      <th>SERINC2</th>\n",
       "      <td>0.000000</td>\n",
       "      <td>62.905213</td>\n",
       "      <td>104.387959</td>\n",
       "      <td>0.000000</td>\n",
       "      <td>0.000000</td>\n",
       "      <td>0.583605</td>\n",
       "      <td>0.000000</td>\n",
       "      <td>0.000000</td>\n",
       "    </tr>\n",
       "    <tr>\n",
       "      <th>FGL2</th>\n",
       "      <td>0.000000</td>\n",
       "      <td>2.464564</td>\n",
       "      <td>0.000000</td>\n",
       "      <td>20.294843</td>\n",
       "      <td>9.291744</td>\n",
       "      <td>342.289123</td>\n",
       "      <td>8.572115</td>\n",
       "      <td>17.827771</td>\n",
       "    </tr>\n",
       "    <tr>\n",
       "      <th>TP53I11</th>\n",
       "      <td>0.000000</td>\n",
       "      <td>97.470424</td>\n",
       "      <td>79.493006</td>\n",
       "      <td>6.412519</td>\n",
       "      <td>0.000000</td>\n",
       "      <td>6.680029</td>\n",
       "      <td>6.353978</td>\n",
       "      <td>21.060047</td>\n",
       "    </tr>\n",
       "    <tr>\n",
       "      <th>CORO1A</th>\n",
       "      <td>0.000000</td>\n",
       "      <td>514.061787</td>\n",
       "      <td>0.000000</td>\n",
       "      <td>1706.889623</td>\n",
       "      <td>2169.205760</td>\n",
       "      <td>0.000000</td>\n",
       "      <td>2544.917748</td>\n",
       "      <td>290.948882</td>\n",
       "    </tr>\n",
       "    <tr>\n",
       "      <th>PDCD1</th>\n",
       "      <td>0.000000</td>\n",
       "      <td>0.000000</td>\n",
       "      <td>0.000000</td>\n",
       "      <td>358.018464</td>\n",
       "      <td>0.000000</td>\n",
       "      <td>0.000000</td>\n",
       "      <td>419.340465</td>\n",
       "      <td>0.000000</td>\n",
       "    </tr>\n",
       "  </tbody>\n",
       "</table>\n",
       "</div>"
      ],
      "text/plain": [
       "            Malignant  Endothelial cells         CAF  T cells CD8  \\\n",
       "GeneSymbol                                                          \n",
       "FST          0.000000           2.003213  185.068477     0.000000   \n",
       "CPXM1        0.000000          47.144327  212.078662     0.000000   \n",
       "MTERFD1     50.046274           5.474915    0.000000    11.643195   \n",
       "TJP1         7.123746          80.132447   46.164069     0.000000   \n",
       "ST5         52.592981           2.098574    0.000000     0.000000   \n",
       "SERINC2      0.000000          62.905213  104.387959     0.000000   \n",
       "FGL2         0.000000           2.464564    0.000000    20.294843   \n",
       "TP53I11      0.000000          97.470424   79.493006     6.412519   \n",
       "CORO1A       0.000000         514.061787    0.000000  1706.889623   \n",
       "PDCD1        0.000000           0.000000    0.000000   358.018464   \n",
       "\n",
       "               NK cells  Macrophages  T cells CD4     B cells  \n",
       "GeneSymbol                                                     \n",
       "FST            0.000000     1.326289     0.000000    0.000000  \n",
       "CPXM1         16.106573     5.863306     0.000000    0.000000  \n",
       "MTERFD1      136.068081     6.795121    50.339864    8.856449  \n",
       "TJP1           0.000000     1.460436     0.000000    0.000000  \n",
       "ST5           39.198614    19.729463     0.000000    0.000000  \n",
       "SERINC2        0.000000     0.583605     0.000000    0.000000  \n",
       "FGL2           9.291744   342.289123     8.572115   17.827771  \n",
       "TP53I11        0.000000     6.680029     6.353978   21.060047  \n",
       "CORO1A      2169.205760     0.000000  2544.917748  290.948882  \n",
       "PDCD1          0.000000     0.000000   419.340465    0.000000  "
      ]
     },
     "execution_count": 17,
     "metadata": {},
     "output_type": "execute_result"
    }
   ],
   "source": [
    "learned_sigmatrix.sample(10)"
   ]
  },
  {
   "cell_type": "code",
   "execution_count": 18,
   "id": "268dc45c",
   "metadata": {},
   "outputs": [
    {
     "name": "stdout",
     "output_type": "stream",
     "text": [
      "/mnt/buckets/liulab/csx-runs/20210715_160345/in/mymixture.txt\n"
     ]
    }
   ],
   "source": [
    "path = os.path.join(csx_run_dir, \"in\", \"mymixture.txt\")\n",
    "print(path)\n",
    "\n",
    "mixtures = pd.read_csv(path, sep=\"\\t\", index_col=0)"
   ]
  },
  {
   "cell_type": "code",
   "execution_count": 19,
   "id": "765a2c9a",
   "metadata": {},
   "outputs": [
    {
     "data": {
      "text/html": [
       "<div>\n",
       "<style scoped>\n",
       "    .dataframe tbody tr th:only-of-type {\n",
       "        vertical-align: middle;\n",
       "    }\n",
       "\n",
       "    .dataframe tbody tr th {\n",
       "        vertical-align: top;\n",
       "    }\n",
       "\n",
       "    .dataframe thead th {\n",
       "        text-align: right;\n",
       "    }\n",
       "</style>\n",
       "<table border=\"1\" class=\"dataframe\">\n",
       "  <thead>\n",
       "    <tr style=\"text-align: right;\">\n",
       "      <th></th>\n",
       "      <th>Malignant</th>\n",
       "      <th>Endothelial cells</th>\n",
       "      <th>CAF</th>\n",
       "      <th>T cells CD8</th>\n",
       "      <th>NK cells</th>\n",
       "      <th>Macrophages</th>\n",
       "      <th>T cells CD4</th>\n",
       "      <th>B cells</th>\n",
       "      <th>53</th>\n",
       "    </tr>\n",
       "    <tr>\n",
       "      <th>GeneSymbol</th>\n",
       "      <th></th>\n",
       "      <th></th>\n",
       "      <th></th>\n",
       "      <th></th>\n",
       "      <th></th>\n",
       "      <th></th>\n",
       "      <th></th>\n",
       "      <th></th>\n",
       "      <th></th>\n",
       "    </tr>\n",
       "  </thead>\n",
       "  <tbody>\n",
       "    <tr>\n",
       "      <th>A2M</th>\n",
       "      <td>177.148396</td>\n",
       "      <td>116.535731</td>\n",
       "      <td>597.837370</td>\n",
       "      <td>0.000000</td>\n",
       "      <td>134.321693</td>\n",
       "      <td>811.058033</td>\n",
       "      <td>0.000000</td>\n",
       "      <td>0.000000</td>\n",
       "      <td>2509.057478</td>\n",
       "    </tr>\n",
       "    <tr>\n",
       "      <th>A4GALT</th>\n",
       "      <td>0.000000</td>\n",
       "      <td>49.132546</td>\n",
       "      <td>14.326610</td>\n",
       "      <td>0.000000</td>\n",
       "      <td>5.426864</td>\n",
       "      <td>0.000000</td>\n",
       "      <td>0.000000</td>\n",
       "      <td>0.912482</td>\n",
       "      <td>97.725277</td>\n",
       "    </tr>\n",
       "    <tr>\n",
       "      <th>AARSD1</th>\n",
       "      <td>56.985390</td>\n",
       "      <td>53.597910</td>\n",
       "      <td>10.911375</td>\n",
       "      <td>0.000000</td>\n",
       "      <td>0.000000</td>\n",
       "      <td>33.308533</td>\n",
       "      <td>33.107883</td>\n",
       "      <td>21.192432</td>\n",
       "      <td>238.314902</td>\n",
       "    </tr>\n",
       "    <tr>\n",
       "      <th>ABCA1</th>\n",
       "      <td>7.425631</td>\n",
       "      <td>67.044475</td>\n",
       "      <td>19.820048</td>\n",
       "      <td>0.000000</td>\n",
       "      <td>0.000000</td>\n",
       "      <td>113.857187</td>\n",
       "      <td>0.195908</td>\n",
       "      <td>8.242122</td>\n",
       "      <td>33.985269</td>\n",
       "    </tr>\n",
       "    <tr>\n",
       "      <th>ABCB5</th>\n",
       "      <td>133.577349</td>\n",
       "      <td>0.000000</td>\n",
       "      <td>0.000000</td>\n",
       "      <td>2.977293</td>\n",
       "      <td>34.036859</td>\n",
       "      <td>2.726093</td>\n",
       "      <td>0.000000</td>\n",
       "      <td>0.000000</td>\n",
       "      <td>82.310487</td>\n",
       "    </tr>\n",
       "    <tr>\n",
       "      <th>...</th>\n",
       "      <td>...</td>\n",
       "      <td>...</td>\n",
       "      <td>...</td>\n",
       "      <td>...</td>\n",
       "      <td>...</td>\n",
       "      <td>...</td>\n",
       "      <td>...</td>\n",
       "      <td>...</td>\n",
       "      <td>...</td>\n",
       "    </tr>\n",
       "    <tr>\n",
       "      <th>ZRSR2</th>\n",
       "      <td>0.519609</td>\n",
       "      <td>0.000000</td>\n",
       "      <td>21.196001</td>\n",
       "      <td>34.894634</td>\n",
       "      <td>0.000000</td>\n",
       "      <td>0.000000</td>\n",
       "      <td>34.167554</td>\n",
       "      <td>13.071341</td>\n",
       "      <td>401.338682</td>\n",
       "    </tr>\n",
       "    <tr>\n",
       "      <th>ZSCAN12</th>\n",
       "      <td>1.293517</td>\n",
       "      <td>23.937032</td>\n",
       "      <td>0.000000</td>\n",
       "      <td>31.913763</td>\n",
       "      <td>0.085353</td>\n",
       "      <td>0.000000</td>\n",
       "      <td>7.642947</td>\n",
       "      <td>21.654681</td>\n",
       "      <td>76.147909</td>\n",
       "    </tr>\n",
       "    <tr>\n",
       "      <th>ZSCAN16</th>\n",
       "      <td>0.000000</td>\n",
       "      <td>17.775482</td>\n",
       "      <td>0.000000</td>\n",
       "      <td>15.599247</td>\n",
       "      <td>97.035793</td>\n",
       "      <td>0.000000</td>\n",
       "      <td>43.473574</td>\n",
       "      <td>29.006506</td>\n",
       "      <td>97.981741</td>\n",
       "    </tr>\n",
       "    <tr>\n",
       "      <th>ZWINT</th>\n",
       "      <td>20.752687</td>\n",
       "      <td>0.000000</td>\n",
       "      <td>27.830771</td>\n",
       "      <td>54.575860</td>\n",
       "      <td>44.165835</td>\n",
       "      <td>11.479189</td>\n",
       "      <td>7.066642</td>\n",
       "      <td>45.198430</td>\n",
       "      <td>368.148809</td>\n",
       "    </tr>\n",
       "    <tr>\n",
       "      <th>ZXDC</th>\n",
       "      <td>2.810755</td>\n",
       "      <td>6.979126</td>\n",
       "      <td>0.000000</td>\n",
       "      <td>22.386921</td>\n",
       "      <td>6.702196</td>\n",
       "      <td>2.910555</td>\n",
       "      <td>18.544954</td>\n",
       "      <td>10.015223</td>\n",
       "      <td>111.062596</td>\n",
       "    </tr>\n",
       "  </tbody>\n",
       "</table>\n",
       "<p>3082 rows × 9 columns</p>\n",
       "</div>"
      ],
      "text/plain": [
       "             Malignant  Endothelial cells         CAF  T cells CD8  \\\n",
       "GeneSymbol                                                           \n",
       "A2M         177.148396         116.535731  597.837370     0.000000   \n",
       "A4GALT        0.000000          49.132546   14.326610     0.000000   \n",
       "AARSD1       56.985390          53.597910   10.911375     0.000000   \n",
       "ABCA1         7.425631          67.044475   19.820048     0.000000   \n",
       "ABCB5       133.577349           0.000000    0.000000     2.977293   \n",
       "...                ...                ...         ...          ...   \n",
       "ZRSR2         0.519609           0.000000   21.196001    34.894634   \n",
       "ZSCAN12       1.293517          23.937032    0.000000    31.913763   \n",
       "ZSCAN16       0.000000          17.775482    0.000000    15.599247   \n",
       "ZWINT        20.752687           0.000000   27.830771    54.575860   \n",
       "ZXDC          2.810755           6.979126    0.000000    22.386921   \n",
       "\n",
       "              NK cells  Macrophages  T cells CD4    B cells           53  \n",
       "GeneSymbol                                                                \n",
       "A2M         134.321693   811.058033     0.000000   0.000000  2509.057478  \n",
       "A4GALT        5.426864     0.000000     0.000000   0.912482    97.725277  \n",
       "AARSD1        0.000000    33.308533    33.107883  21.192432   238.314902  \n",
       "ABCA1         0.000000   113.857187     0.195908   8.242122    33.985269  \n",
       "ABCB5        34.036859     2.726093     0.000000   0.000000    82.310487  \n",
       "...                ...          ...          ...        ...          ...  \n",
       "ZRSR2         0.000000     0.000000    34.167554  13.071341   401.338682  \n",
       "ZSCAN12       0.085353     0.000000     7.642947  21.654681    76.147909  \n",
       "ZSCAN16      97.035793     0.000000    43.473574  29.006506    97.981741  \n",
       "ZWINT        44.165835    11.479189     7.066642  45.198430   368.148809  \n",
       "ZXDC          6.702196     2.910555    18.544954  10.015223   111.062596  \n",
       "\n",
       "[3082 rows x 9 columns]"
      ]
     },
     "execution_count": 19,
     "metadata": {},
     "output_type": "execute_result"
    }
   ],
   "source": [
    "pd.merge(learned_sigmatrix, mixtures[\"53\"], left_index=True, right_index=True)"
   ]
  },
  {
   "cell_type": "markdown",
   "id": "cb3c7259",
   "metadata": {},
   "source": [
    "### attempt inferring fractions myself with sigmatrix, mixture"
   ]
  },
  {
   "cell_type": "code",
   "execution_count": 20,
   "id": "f5e89d99",
   "metadata": {},
   "outputs": [],
   "source": [
    "from sklearn.svm import NuSVR\n",
    "from sklearn.pipeline import make_pipeline\n",
    "from sklearn.preprocessing import StandardScaler"
   ]
  },
  {
   "cell_type": "code",
   "execution_count": 22,
   "id": "30377ff6",
   "metadata": {},
   "outputs": [
    {
     "data": {
      "text/plain": [
       "((3082,), (3082, 8))"
      ]
     },
     "execution_count": 22,
     "metadata": {},
     "output_type": "execute_result"
    }
   ],
   "source": [
    "_combined_data = pd.merge(\n",
    "    learned_sigmatrix, mixtures[\"53\"], left_index=True, right_index=True\n",
    ")\n",
    "y = _combined_data.values[:, -1]\n",
    "X = _combined_data.values[:, :-1]\n",
    "y.shape, X.shape"
   ]
  },
  {
   "cell_type": "code",
   "execution_count": 23,
   "id": "48f36088",
   "metadata": {},
   "outputs": [
    {
     "data": {
      "text/plain": [
       "array([[0.028042, 0.062896, 0.095515, 0.207445, 0.195229, 0.127134,\n",
       "        0.238468, 0.045271]])"
      ]
     },
     "execution_count": 23,
     "metadata": {},
     "output_type": "execute_result"
    }
   ],
   "source": [
    "regr = make_pipeline(StandardScaler(), NuSVR(nu=0.5, kernel=\"linear\"))\n",
    "regr.fit(X, y)\n",
    "_ = regr.named_steps[\"nusvr\"].coef_\n",
    "_ / np.sum(_)"
   ]
  },
  {
   "cell_type": "markdown",
   "id": "a44aa90c",
   "metadata": {},
   "source": [
    "## check fractions inferred by csx"
   ]
  },
  {
   "cell_type": "code",
   "execution_count": 24,
   "id": "e622ed32",
   "metadata": {},
   "outputs": [
    {
     "name": "stdout",
     "output_type": "stream",
     "text": [
      "/mnt/buckets/liulab/csx-runs/20210715_160345/out/CIBERSORTx_Adjusted.txt\n"
     ]
    },
    {
     "data": {
      "text/html": [
       "<div>\n",
       "<style scoped>\n",
       "    .dataframe tbody tr th:only-of-type {\n",
       "        vertical-align: middle;\n",
       "    }\n",
       "\n",
       "    .dataframe tbody tr th {\n",
       "        vertical-align: top;\n",
       "    }\n",
       "\n",
       "    .dataframe thead th {\n",
       "        text-align: right;\n",
       "    }\n",
       "</style>\n",
       "<table border=\"1\" class=\"dataframe\">\n",
       "  <thead>\n",
       "    <tr style=\"text-align: right;\">\n",
       "      <th></th>\n",
       "      <th>Malignant</th>\n",
       "      <th>Endothelial cells</th>\n",
       "      <th>CAF</th>\n",
       "      <th>T cells CD8</th>\n",
       "      <th>NK cells</th>\n",
       "      <th>Macrophages</th>\n",
       "      <th>T cells CD4</th>\n",
       "      <th>B cells</th>\n",
       "      <th>P-value</th>\n",
       "      <th>Correlation</th>\n",
       "      <th>RMSE</th>\n",
       "    </tr>\n",
       "    <tr>\n",
       "      <th>Mixture</th>\n",
       "      <th></th>\n",
       "      <th></th>\n",
       "      <th></th>\n",
       "      <th></th>\n",
       "      <th></th>\n",
       "      <th></th>\n",
       "      <th></th>\n",
       "      <th></th>\n",
       "      <th></th>\n",
       "      <th></th>\n",
       "      <th></th>\n",
       "    </tr>\n",
       "  </thead>\n",
       "  <tbody>\n",
       "    <tr>\n",
       "      <th>53</th>\n",
       "      <td>0.046912</td>\n",
       "      <td>0.048921</td>\n",
       "      <td>0.056016</td>\n",
       "      <td>0.288460</td>\n",
       "      <td>0.046088</td>\n",
       "      <td>0.107681</td>\n",
       "      <td>0.404889</td>\n",
       "      <td>0.001032</td>\n",
       "      <td>9999.0</td>\n",
       "      <td>0.871528</td>\n",
       "      <td>0.649739</td>\n",
       "    </tr>\n",
       "    <tr>\n",
       "      <th>58</th>\n",
       "      <td>0.000719</td>\n",
       "      <td>0.000682</td>\n",
       "      <td>0.000201</td>\n",
       "      <td>0.469386</td>\n",
       "      <td>0.010466</td>\n",
       "      <td>0.045708</td>\n",
       "      <td>0.412112</td>\n",
       "      <td>0.060726</td>\n",
       "      <td>9999.0</td>\n",
       "      <td>0.964670</td>\n",
       "      <td>0.531574</td>\n",
       "    </tr>\n",
       "    <tr>\n",
       "      <th>59</th>\n",
       "      <td>0.655298</td>\n",
       "      <td>0.009818</td>\n",
       "      <td>0.301073</td>\n",
       "      <td>0.000000</td>\n",
       "      <td>0.000472</td>\n",
       "      <td>0.026106</td>\n",
       "      <td>0.007233</td>\n",
       "      <td>0.000000</td>\n",
       "      <td>9999.0</td>\n",
       "      <td>0.652095</td>\n",
       "      <td>0.780055</td>\n",
       "    </tr>\n",
       "    <tr>\n",
       "      <th>60</th>\n",
       "      <td>0.034117</td>\n",
       "      <td>0.004892</td>\n",
       "      <td>0.000000</td>\n",
       "      <td>0.178893</td>\n",
       "      <td>0.060326</td>\n",
       "      <td>0.081418</td>\n",
       "      <td>0.250973</td>\n",
       "      <td>0.389381</td>\n",
       "      <td>9999.0</td>\n",
       "      <td>0.946328</td>\n",
       "      <td>0.455591</td>\n",
       "    </tr>\n",
       "    <tr>\n",
       "      <th>65</th>\n",
       "      <td>0.068950</td>\n",
       "      <td>0.002214</td>\n",
       "      <td>0.000675</td>\n",
       "      <td>0.199426</td>\n",
       "      <td>0.024680</td>\n",
       "      <td>0.055358</td>\n",
       "      <td>0.556732</td>\n",
       "      <td>0.091964</td>\n",
       "      <td>9999.0</td>\n",
       "      <td>0.901685</td>\n",
       "      <td>0.646823</td>\n",
       "    </tr>\n",
       "    <tr>\n",
       "      <th>67</th>\n",
       "      <td>0.000816</td>\n",
       "      <td>0.000000</td>\n",
       "      <td>0.000000</td>\n",
       "      <td>0.137107</td>\n",
       "      <td>0.031391</td>\n",
       "      <td>0.014096</td>\n",
       "      <td>0.582954</td>\n",
       "      <td>0.233635</td>\n",
       "      <td>9999.0</td>\n",
       "      <td>0.901385</td>\n",
       "      <td>0.624561</td>\n",
       "    </tr>\n",
       "    <tr>\n",
       "      <th>71</th>\n",
       "      <td>0.402557</td>\n",
       "      <td>0.009144</td>\n",
       "      <td>0.002694</td>\n",
       "      <td>0.229847</td>\n",
       "      <td>0.032193</td>\n",
       "      <td>0.062506</td>\n",
       "      <td>0.258383</td>\n",
       "      <td>0.002676</td>\n",
       "      <td>9999.0</td>\n",
       "      <td>0.731109</td>\n",
       "      <td>0.767737</td>\n",
       "    </tr>\n",
       "    <tr>\n",
       "      <th>72</th>\n",
       "      <td>0.001155</td>\n",
       "      <td>0.001563</td>\n",
       "      <td>0.000994</td>\n",
       "      <td>0.000000</td>\n",
       "      <td>0.009979</td>\n",
       "      <td>0.032146</td>\n",
       "      <td>0.708719</td>\n",
       "      <td>0.245443</td>\n",
       "      <td>9999.0</td>\n",
       "      <td>0.880880</td>\n",
       "      <td>0.638130</td>\n",
       "    </tr>\n",
       "    <tr>\n",
       "      <th>74</th>\n",
       "      <td>0.003817</td>\n",
       "      <td>0.001437</td>\n",
       "      <td>0.001734</td>\n",
       "      <td>0.454665</td>\n",
       "      <td>0.012862</td>\n",
       "      <td>0.090057</td>\n",
       "      <td>0.348990</td>\n",
       "      <td>0.086437</td>\n",
       "      <td>9999.0</td>\n",
       "      <td>0.942353</td>\n",
       "      <td>0.536504</td>\n",
       "    </tr>\n",
       "    <tr>\n",
       "      <th>75</th>\n",
       "      <td>0.024983</td>\n",
       "      <td>0.002253</td>\n",
       "      <td>0.000000</td>\n",
       "      <td>0.499056</td>\n",
       "      <td>0.016627</td>\n",
       "      <td>0.044156</td>\n",
       "      <td>0.395921</td>\n",
       "      <td>0.017004</td>\n",
       "      <td>9999.0</td>\n",
       "      <td>0.811784</td>\n",
       "      <td>0.659260</td>\n",
       "    </tr>\n",
       "    <tr>\n",
       "      <th>78</th>\n",
       "      <td>0.977178</td>\n",
       "      <td>0.002520</td>\n",
       "      <td>0.009568</td>\n",
       "      <td>0.000000</td>\n",
       "      <td>0.001774</td>\n",
       "      <td>0.001735</td>\n",
       "      <td>0.004453</td>\n",
       "      <td>0.002771</td>\n",
       "      <td>9999.0</td>\n",
       "      <td>0.870770</td>\n",
       "      <td>0.577450</td>\n",
       "    </tr>\n",
       "    <tr>\n",
       "      <th>79</th>\n",
       "      <td>0.489691</td>\n",
       "      <td>0.030939</td>\n",
       "      <td>0.007869</td>\n",
       "      <td>0.164362</td>\n",
       "      <td>0.000000</td>\n",
       "      <td>0.039309</td>\n",
       "      <td>0.190876</td>\n",
       "      <td>0.076955</td>\n",
       "      <td>9999.0</td>\n",
       "      <td>0.805630</td>\n",
       "      <td>0.735325</td>\n",
       "    </tr>\n",
       "    <tr>\n",
       "      <th>80</th>\n",
       "      <td>0.291200</td>\n",
       "      <td>0.079302</td>\n",
       "      <td>0.039898</td>\n",
       "      <td>0.123068</td>\n",
       "      <td>0.005743</td>\n",
       "      <td>0.017454</td>\n",
       "      <td>0.350496</td>\n",
       "      <td>0.092840</td>\n",
       "      <td>9999.0</td>\n",
       "      <td>0.961416</td>\n",
       "      <td>0.703155</td>\n",
       "    </tr>\n",
       "    <tr>\n",
       "      <th>81</th>\n",
       "      <td>0.342988</td>\n",
       "      <td>0.016658</td>\n",
       "      <td>0.126475</td>\n",
       "      <td>0.149601</td>\n",
       "      <td>0.021133</td>\n",
       "      <td>0.023623</td>\n",
       "      <td>0.305342</td>\n",
       "      <td>0.014180</td>\n",
       "      <td>9999.0</td>\n",
       "      <td>0.580737</td>\n",
       "      <td>0.853456</td>\n",
       "    </tr>\n",
       "    <tr>\n",
       "      <th>82</th>\n",
       "      <td>0.309887</td>\n",
       "      <td>0.032301</td>\n",
       "      <td>0.131832</td>\n",
       "      <td>0.111048</td>\n",
       "      <td>0.037128</td>\n",
       "      <td>0.069662</td>\n",
       "      <td>0.279443</td>\n",
       "      <td>0.028698</td>\n",
       "      <td>9999.0</td>\n",
       "      <td>0.605795</td>\n",
       "      <td>0.836815</td>\n",
       "    </tr>\n",
       "    <tr>\n",
       "      <th>84</th>\n",
       "      <td>0.067622</td>\n",
       "      <td>0.007231</td>\n",
       "      <td>0.021931</td>\n",
       "      <td>0.134040</td>\n",
       "      <td>0.085050</td>\n",
       "      <td>0.160665</td>\n",
       "      <td>0.377997</td>\n",
       "      <td>0.145464</td>\n",
       "      <td>9999.0</td>\n",
       "      <td>0.945796</td>\n",
       "      <td>0.497385</td>\n",
       "    </tr>\n",
       "    <tr>\n",
       "      <th>88</th>\n",
       "      <td>0.400383</td>\n",
       "      <td>0.000775</td>\n",
       "      <td>0.013500</td>\n",
       "      <td>0.101394</td>\n",
       "      <td>0.029061</td>\n",
       "      <td>0.155583</td>\n",
       "      <td>0.242642</td>\n",
       "      <td>0.056662</td>\n",
       "      <td>9999.0</td>\n",
       "      <td>0.961858</td>\n",
       "      <td>0.557140</td>\n",
       "    </tr>\n",
       "    <tr>\n",
       "      <th>89</th>\n",
       "      <td>0.185567</td>\n",
       "      <td>0.003400</td>\n",
       "      <td>0.000474</td>\n",
       "      <td>0.184564</td>\n",
       "      <td>0.033374</td>\n",
       "      <td>0.098165</td>\n",
       "      <td>0.269774</td>\n",
       "      <td>0.224682</td>\n",
       "      <td>9999.0</td>\n",
       "      <td>0.941801</td>\n",
       "      <td>0.553151</td>\n",
       "    </tr>\n",
       "    <tr>\n",
       "      <th>94</th>\n",
       "      <td>0.036052</td>\n",
       "      <td>0.093080</td>\n",
       "      <td>0.044242</td>\n",
       "      <td>0.000000</td>\n",
       "      <td>0.017325</td>\n",
       "      <td>0.055388</td>\n",
       "      <td>0.472209</td>\n",
       "      <td>0.281705</td>\n",
       "      <td>9999.0</td>\n",
       "      <td>0.850664</td>\n",
       "      <td>0.652719</td>\n",
       "    </tr>\n",
       "  </tbody>\n",
       "</table>\n",
       "</div>"
      ],
      "text/plain": [
       "         Malignant  Endothelial cells       CAF  T cells CD8  NK cells  \\\n",
       "Mixture                                                                  \n",
       "53        0.046912           0.048921  0.056016     0.288460  0.046088   \n",
       "58        0.000719           0.000682  0.000201     0.469386  0.010466   \n",
       "59        0.655298           0.009818  0.301073     0.000000  0.000472   \n",
       "60        0.034117           0.004892  0.000000     0.178893  0.060326   \n",
       "65        0.068950           0.002214  0.000675     0.199426  0.024680   \n",
       "67        0.000816           0.000000  0.000000     0.137107  0.031391   \n",
       "71        0.402557           0.009144  0.002694     0.229847  0.032193   \n",
       "72        0.001155           0.001563  0.000994     0.000000  0.009979   \n",
       "74        0.003817           0.001437  0.001734     0.454665  0.012862   \n",
       "75        0.024983           0.002253  0.000000     0.499056  0.016627   \n",
       "78        0.977178           0.002520  0.009568     0.000000  0.001774   \n",
       "79        0.489691           0.030939  0.007869     0.164362  0.000000   \n",
       "80        0.291200           0.079302  0.039898     0.123068  0.005743   \n",
       "81        0.342988           0.016658  0.126475     0.149601  0.021133   \n",
       "82        0.309887           0.032301  0.131832     0.111048  0.037128   \n",
       "84        0.067622           0.007231  0.021931     0.134040  0.085050   \n",
       "88        0.400383           0.000775  0.013500     0.101394  0.029061   \n",
       "89        0.185567           0.003400  0.000474     0.184564  0.033374   \n",
       "94        0.036052           0.093080  0.044242     0.000000  0.017325   \n",
       "\n",
       "         Macrophages  T cells CD4   B cells  P-value  Correlation      RMSE  \n",
       "Mixture                                                                      \n",
       "53          0.107681     0.404889  0.001032   9999.0     0.871528  0.649739  \n",
       "58          0.045708     0.412112  0.060726   9999.0     0.964670  0.531574  \n",
       "59          0.026106     0.007233  0.000000   9999.0     0.652095  0.780055  \n",
       "60          0.081418     0.250973  0.389381   9999.0     0.946328  0.455591  \n",
       "65          0.055358     0.556732  0.091964   9999.0     0.901685  0.646823  \n",
       "67          0.014096     0.582954  0.233635   9999.0     0.901385  0.624561  \n",
       "71          0.062506     0.258383  0.002676   9999.0     0.731109  0.767737  \n",
       "72          0.032146     0.708719  0.245443   9999.0     0.880880  0.638130  \n",
       "74          0.090057     0.348990  0.086437   9999.0     0.942353  0.536504  \n",
       "75          0.044156     0.395921  0.017004   9999.0     0.811784  0.659260  \n",
       "78          0.001735     0.004453  0.002771   9999.0     0.870770  0.577450  \n",
       "79          0.039309     0.190876  0.076955   9999.0     0.805630  0.735325  \n",
       "80          0.017454     0.350496  0.092840   9999.0     0.961416  0.703155  \n",
       "81          0.023623     0.305342  0.014180   9999.0     0.580737  0.853456  \n",
       "82          0.069662     0.279443  0.028698   9999.0     0.605795  0.836815  \n",
       "84          0.160665     0.377997  0.145464   9999.0     0.945796  0.497385  \n",
       "88          0.155583     0.242642  0.056662   9999.0     0.961858  0.557140  \n",
       "89          0.098165     0.269774  0.224682   9999.0     0.941801  0.553151  \n",
       "94          0.055388     0.472209  0.281705   9999.0     0.850664  0.652719  "
      ]
     },
     "execution_count": 24,
     "metadata": {},
     "output_type": "execute_result"
    }
   ],
   "source": [
    "path = os.path.join(csx_run_dir, \"out\", \"CIBERSORTx_Adjusted.txt\")\n",
    "print(path)\n",
    "\n",
    "inferred_fractions = pd.read_csv(path, sep=\"\\t\", index_col=0)\n",
    "\n",
    "inferred_fractions"
   ]
  },
  {
   "cell_type": "markdown",
   "id": "4bfa54df",
   "metadata": {},
   "source": [
    "# check groundtruth fractions\n",
    "\n",
    "did they have data for this?"
   ]
  },
  {
   "cell_type": "code",
   "execution_count": 25,
   "id": "c746062e",
   "metadata": {},
   "outputs": [
    {
     "name": "stdout",
     "output_type": "stream",
     "text": [
      "/mnt/buckets/liulab/csx_example_files/groundtruth_Melanoma_Tirosh_et_al_SuppFig3b-d.txt\n"
     ]
    },
    {
     "data": {
      "text/html": [
       "<div>\n",
       "<style scoped>\n",
       "    .dataframe tbody tr th:only-of-type {\n",
       "        vertical-align: middle;\n",
       "    }\n",
       "\n",
       "    .dataframe tbody tr th {\n",
       "        vertical-align: top;\n",
       "    }\n",
       "\n",
       "    .dataframe thead th {\n",
       "        text-align: right;\n",
       "    }\n",
       "</style>\n",
       "<table border=\"1\" class=\"dataframe\">\n",
       "  <thead>\n",
       "    <tr style=\"text-align: right;\">\n",
       "      <th></th>\n",
       "      <th>Malignant</th>\n",
       "      <th>Endothelial cells</th>\n",
       "      <th>CAF</th>\n",
       "      <th>T cells CD8</th>\n",
       "      <th>NK cells</th>\n",
       "      <th>Macrophages</th>\n",
       "      <th>T cells CD4</th>\n",
       "      <th>B cells</th>\n",
       "    </tr>\n",
       "    <tr>\n",
       "      <th>GeneSymbol</th>\n",
       "      <th></th>\n",
       "      <th></th>\n",
       "      <th></th>\n",
       "      <th></th>\n",
       "      <th></th>\n",
       "      <th></th>\n",
       "      <th></th>\n",
       "      <th></th>\n",
       "    </tr>\n",
       "  </thead>\n",
       "  <tbody>\n",
       "    <tr>\n",
       "      <th>53</th>\n",
       "      <td>0.1280</td>\n",
       "      <td>0.0880</td>\n",
       "      <td>0.0320</td>\n",
       "      <td>0.2000</td>\n",
       "      <td>0.0800</td>\n",
       "      <td>0.0960</td>\n",
       "      <td>0.3760</td>\n",
       "      <td>0.0000</td>\n",
       "    </tr>\n",
       "    <tr>\n",
       "      <th>58</th>\n",
       "      <td>0.0000</td>\n",
       "      <td>0.0000</td>\n",
       "      <td>0.0000</td>\n",
       "      <td>0.6508</td>\n",
       "      <td>0.0317</td>\n",
       "      <td>0.0159</td>\n",
       "      <td>0.2857</td>\n",
       "      <td>0.0159</td>\n",
       "    </tr>\n",
       "    <tr>\n",
       "      <th>59</th>\n",
       "      <td>0.8710</td>\n",
       "      <td>0.0000</td>\n",
       "      <td>0.1129</td>\n",
       "      <td>0.0000</td>\n",
       "      <td>0.0000</td>\n",
       "      <td>0.0161</td>\n",
       "      <td>0.0000</td>\n",
       "      <td>0.0000</td>\n",
       "    </tr>\n",
       "    <tr>\n",
       "      <th>60</th>\n",
       "      <td>0.0448</td>\n",
       "      <td>0.0000</td>\n",
       "      <td>0.0000</td>\n",
       "      <td>0.1940</td>\n",
       "      <td>0.0498</td>\n",
       "      <td>0.0199</td>\n",
       "      <td>0.2139</td>\n",
       "      <td>0.4776</td>\n",
       "    </tr>\n",
       "    <tr>\n",
       "      <th>65</th>\n",
       "      <td>0.0755</td>\n",
       "      <td>0.0000</td>\n",
       "      <td>0.0000</td>\n",
       "      <td>0.4717</td>\n",
       "      <td>0.0000</td>\n",
       "      <td>0.0189</td>\n",
       "      <td>0.3396</td>\n",
       "      <td>0.0943</td>\n",
       "    </tr>\n",
       "    <tr>\n",
       "      <th>67</th>\n",
       "      <td>0.0000</td>\n",
       "      <td>0.0000</td>\n",
       "      <td>0.0000</td>\n",
       "      <td>0.3059</td>\n",
       "      <td>0.0118</td>\n",
       "      <td>0.0000</td>\n",
       "      <td>0.4588</td>\n",
       "      <td>0.2235</td>\n",
       "    </tr>\n",
       "    <tr>\n",
       "      <th>71</th>\n",
       "      <td>0.6835</td>\n",
       "      <td>0.0000</td>\n",
       "      <td>0.0000</td>\n",
       "      <td>0.1899</td>\n",
       "      <td>0.0000</td>\n",
       "      <td>0.0253</td>\n",
       "      <td>0.1013</td>\n",
       "      <td>0.0000</td>\n",
       "    </tr>\n",
       "    <tr>\n",
       "      <th>72</th>\n",
       "      <td>0.0000</td>\n",
       "      <td>0.0000</td>\n",
       "      <td>0.0000</td>\n",
       "      <td>0.1634</td>\n",
       "      <td>0.0065</td>\n",
       "      <td>0.0000</td>\n",
       "      <td>0.6013</td>\n",
       "      <td>0.2288</td>\n",
       "    </tr>\n",
       "    <tr>\n",
       "      <th>74</th>\n",
       "      <td>0.0000</td>\n",
       "      <td>0.0000</td>\n",
       "      <td>0.0000</td>\n",
       "      <td>0.6496</td>\n",
       "      <td>0.0073</td>\n",
       "      <td>0.0365</td>\n",
       "      <td>0.2117</td>\n",
       "      <td>0.0949</td>\n",
       "    </tr>\n",
       "    <tr>\n",
       "      <th>75</th>\n",
       "      <td>0.0087</td>\n",
       "      <td>0.0000</td>\n",
       "      <td>0.0000</td>\n",
       "      <td>0.9417</td>\n",
       "      <td>0.0000</td>\n",
       "      <td>0.0029</td>\n",
       "      <td>0.0466</td>\n",
       "      <td>0.0000</td>\n",
       "    </tr>\n",
       "    <tr>\n",
       "      <th>78</th>\n",
       "      <td>0.9756</td>\n",
       "      <td>0.0000</td>\n",
       "      <td>0.0081</td>\n",
       "      <td>0.0000</td>\n",
       "      <td>0.0000</td>\n",
       "      <td>0.0000</td>\n",
       "      <td>0.0081</td>\n",
       "      <td>0.0081</td>\n",
       "    </tr>\n",
       "    <tr>\n",
       "      <th>79</th>\n",
       "      <td>0.5474</td>\n",
       "      <td>0.0023</td>\n",
       "      <td>0.0012</td>\n",
       "      <td>0.2795</td>\n",
       "      <td>0.0012</td>\n",
       "      <td>0.0000</td>\n",
       "      <td>0.0760</td>\n",
       "      <td>0.0924</td>\n",
       "    </tr>\n",
       "    <tr>\n",
       "      <th>80</th>\n",
       "      <td>0.2828</td>\n",
       "      <td>0.0656</td>\n",
       "      <td>0.0520</td>\n",
       "      <td>0.1538</td>\n",
       "      <td>0.0090</td>\n",
       "      <td>0.0000</td>\n",
       "      <td>0.3258</td>\n",
       "      <td>0.1109</td>\n",
       "    </tr>\n",
       "    <tr>\n",
       "      <th>81</th>\n",
       "      <td>0.7308</td>\n",
       "      <td>0.0110</td>\n",
       "      <td>0.0000</td>\n",
       "      <td>0.1044</td>\n",
       "      <td>0.0000</td>\n",
       "      <td>0.0000</td>\n",
       "      <td>0.1374</td>\n",
       "      <td>0.0165</td>\n",
       "    </tr>\n",
       "    <tr>\n",
       "      <th>82</th>\n",
       "      <td>0.4638</td>\n",
       "      <td>0.0000</td>\n",
       "      <td>0.0870</td>\n",
       "      <td>0.1304</td>\n",
       "      <td>0.0290</td>\n",
       "      <td>0.0580</td>\n",
       "      <td>0.2174</td>\n",
       "      <td>0.0145</td>\n",
       "    </tr>\n",
       "    <tr>\n",
       "      <th>84</th>\n",
       "      <td>0.1045</td>\n",
       "      <td>0.0075</td>\n",
       "      <td>0.0075</td>\n",
       "      <td>0.1716</td>\n",
       "      <td>0.0522</td>\n",
       "      <td>0.1866</td>\n",
       "      <td>0.2836</td>\n",
       "      <td>0.1866</td>\n",
       "    </tr>\n",
       "    <tr>\n",
       "      <th>88</th>\n",
       "      <td>0.3966</td>\n",
       "      <td>0.0000</td>\n",
       "      <td>0.0068</td>\n",
       "      <td>0.1559</td>\n",
       "      <td>0.0305</td>\n",
       "      <td>0.1356</td>\n",
       "      <td>0.2203</td>\n",
       "      <td>0.0542</td>\n",
       "    </tr>\n",
       "    <tr>\n",
       "      <th>89</th>\n",
       "      <td>0.2263</td>\n",
       "      <td>0.0023</td>\n",
       "      <td>0.0000</td>\n",
       "      <td>0.3141</td>\n",
       "      <td>0.0023</td>\n",
       "      <td>0.0600</td>\n",
       "      <td>0.1501</td>\n",
       "      <td>0.2448</td>\n",
       "    </tr>\n",
       "    <tr>\n",
       "      <th>94</th>\n",
       "      <td>0.0413</td>\n",
       "      <td>0.0785</td>\n",
       "      <td>0.0661</td>\n",
       "      <td>0.2025</td>\n",
       "      <td>0.0041</td>\n",
       "      <td>0.0083</td>\n",
       "      <td>0.3306</td>\n",
       "      <td>0.2686</td>\n",
       "    </tr>\n",
       "  </tbody>\n",
       "</table>\n",
       "</div>"
      ],
      "text/plain": [
       "            Malignant  Endothelial cells     CAF  T cells CD8  NK cells  \\\n",
       "GeneSymbol                                                                \n",
       "53             0.1280             0.0880  0.0320       0.2000    0.0800   \n",
       "58             0.0000             0.0000  0.0000       0.6508    0.0317   \n",
       "59             0.8710             0.0000  0.1129       0.0000    0.0000   \n",
       "60             0.0448             0.0000  0.0000       0.1940    0.0498   \n",
       "65             0.0755             0.0000  0.0000       0.4717    0.0000   \n",
       "67             0.0000             0.0000  0.0000       0.3059    0.0118   \n",
       "71             0.6835             0.0000  0.0000       0.1899    0.0000   \n",
       "72             0.0000             0.0000  0.0000       0.1634    0.0065   \n",
       "74             0.0000             0.0000  0.0000       0.6496    0.0073   \n",
       "75             0.0087             0.0000  0.0000       0.9417    0.0000   \n",
       "78             0.9756             0.0000  0.0081       0.0000    0.0000   \n",
       "79             0.5474             0.0023  0.0012       0.2795    0.0012   \n",
       "80             0.2828             0.0656  0.0520       0.1538    0.0090   \n",
       "81             0.7308             0.0110  0.0000       0.1044    0.0000   \n",
       "82             0.4638             0.0000  0.0870       0.1304    0.0290   \n",
       "84             0.1045             0.0075  0.0075       0.1716    0.0522   \n",
       "88             0.3966             0.0000  0.0068       0.1559    0.0305   \n",
       "89             0.2263             0.0023  0.0000       0.3141    0.0023   \n",
       "94             0.0413             0.0785  0.0661       0.2025    0.0041   \n",
       "\n",
       "            Macrophages  T cells CD4  B cells  \n",
       "GeneSymbol                                     \n",
       "53               0.0960       0.3760   0.0000  \n",
       "58               0.0159       0.2857   0.0159  \n",
       "59               0.0161       0.0000   0.0000  \n",
       "60               0.0199       0.2139   0.4776  \n",
       "65               0.0189       0.3396   0.0943  \n",
       "67               0.0000       0.4588   0.2235  \n",
       "71               0.0253       0.1013   0.0000  \n",
       "72               0.0000       0.6013   0.2288  \n",
       "74               0.0365       0.2117   0.0949  \n",
       "75               0.0029       0.0466   0.0000  \n",
       "78               0.0000       0.0081   0.0081  \n",
       "79               0.0000       0.0760   0.0924  \n",
       "80               0.0000       0.3258   0.1109  \n",
       "81               0.0000       0.1374   0.0165  \n",
       "82               0.0580       0.2174   0.0145  \n",
       "84               0.1866       0.2836   0.1866  \n",
       "88               0.1356       0.2203   0.0542  \n",
       "89               0.0600       0.1501   0.2448  \n",
       "94               0.0083       0.3306   0.2686  "
      ]
     },
     "execution_count": 25,
     "metadata": {},
     "output_type": "execute_result"
    }
   ],
   "source": [
    "path = \"/mnt/buckets/liulab/csx_example_files/groundtruth_Melanoma_Tirosh_et_al_SuppFig3b-d.txt\"\n",
    "print(path)\n",
    "\n",
    "gt_fractions = pd.read_csv(path, sep=\"\\t\", index_col=0)\n",
    "\n",
    "gt_fractions"
   ]
  },
  {
   "cell_type": "code",
   "execution_count": 26,
   "id": "4ba77646",
   "metadata": {},
   "outputs": [
    {
     "data": {
      "text/html": [
       "<div>\n",
       "<style scoped>\n",
       "    .dataframe tbody tr th:only-of-type {\n",
       "        vertical-align: middle;\n",
       "    }\n",
       "\n",
       "    .dataframe tbody tr th {\n",
       "        vertical-align: top;\n",
       "    }\n",
       "\n",
       "    .dataframe thead th {\n",
       "        text-align: right;\n",
       "    }\n",
       "</style>\n",
       "<table border=\"1\" class=\"dataframe\">\n",
       "  <thead>\n",
       "    <tr style=\"text-align: right;\">\n",
       "      <th></th>\n",
       "      <th>Malignant</th>\n",
       "      <th>Endothelial cells</th>\n",
       "      <th>CAF</th>\n",
       "      <th>T cells CD8</th>\n",
       "      <th>NK cells</th>\n",
       "      <th>Macrophages</th>\n",
       "      <th>T cells CD4</th>\n",
       "      <th>B cells</th>\n",
       "    </tr>\n",
       "    <tr>\n",
       "      <th>Mixture</th>\n",
       "      <th></th>\n",
       "      <th></th>\n",
       "      <th></th>\n",
       "      <th></th>\n",
       "      <th></th>\n",
       "      <th></th>\n",
       "      <th></th>\n",
       "      <th></th>\n",
       "    </tr>\n",
       "  </thead>\n",
       "  <tbody>\n",
       "    <tr>\n",
       "      <th>53</th>\n",
       "      <td>0.046912</td>\n",
       "      <td>0.048921</td>\n",
       "      <td>0.056016</td>\n",
       "      <td>0.288460</td>\n",
       "      <td>0.046088</td>\n",
       "      <td>0.107681</td>\n",
       "      <td>0.404889</td>\n",
       "      <td>0.001032</td>\n",
       "    </tr>\n",
       "    <tr>\n",
       "      <th>58</th>\n",
       "      <td>0.000719</td>\n",
       "      <td>0.000682</td>\n",
       "      <td>0.000201</td>\n",
       "      <td>0.469386</td>\n",
       "      <td>0.010466</td>\n",
       "      <td>0.045708</td>\n",
       "      <td>0.412112</td>\n",
       "      <td>0.060726</td>\n",
       "    </tr>\n",
       "    <tr>\n",
       "      <th>59</th>\n",
       "      <td>0.655298</td>\n",
       "      <td>0.009818</td>\n",
       "      <td>0.301073</td>\n",
       "      <td>0.000000</td>\n",
       "      <td>0.000472</td>\n",
       "      <td>0.026106</td>\n",
       "      <td>0.007233</td>\n",
       "      <td>0.000000</td>\n",
       "    </tr>\n",
       "    <tr>\n",
       "      <th>60</th>\n",
       "      <td>0.034117</td>\n",
       "      <td>0.004892</td>\n",
       "      <td>0.000000</td>\n",
       "      <td>0.178893</td>\n",
       "      <td>0.060326</td>\n",
       "      <td>0.081418</td>\n",
       "      <td>0.250973</td>\n",
       "      <td>0.389381</td>\n",
       "    </tr>\n",
       "    <tr>\n",
       "      <th>65</th>\n",
       "      <td>0.068950</td>\n",
       "      <td>0.002214</td>\n",
       "      <td>0.000675</td>\n",
       "      <td>0.199426</td>\n",
       "      <td>0.024680</td>\n",
       "      <td>0.055358</td>\n",
       "      <td>0.556732</td>\n",
       "      <td>0.091964</td>\n",
       "    </tr>\n",
       "    <tr>\n",
       "      <th>67</th>\n",
       "      <td>0.000816</td>\n",
       "      <td>0.000000</td>\n",
       "      <td>0.000000</td>\n",
       "      <td>0.137107</td>\n",
       "      <td>0.031391</td>\n",
       "      <td>0.014096</td>\n",
       "      <td>0.582954</td>\n",
       "      <td>0.233635</td>\n",
       "    </tr>\n",
       "    <tr>\n",
       "      <th>71</th>\n",
       "      <td>0.402557</td>\n",
       "      <td>0.009144</td>\n",
       "      <td>0.002694</td>\n",
       "      <td>0.229847</td>\n",
       "      <td>0.032193</td>\n",
       "      <td>0.062506</td>\n",
       "      <td>0.258383</td>\n",
       "      <td>0.002676</td>\n",
       "    </tr>\n",
       "    <tr>\n",
       "      <th>72</th>\n",
       "      <td>0.001155</td>\n",
       "      <td>0.001563</td>\n",
       "      <td>0.000994</td>\n",
       "      <td>0.000000</td>\n",
       "      <td>0.009979</td>\n",
       "      <td>0.032146</td>\n",
       "      <td>0.708719</td>\n",
       "      <td>0.245443</td>\n",
       "    </tr>\n",
       "    <tr>\n",
       "      <th>74</th>\n",
       "      <td>0.003817</td>\n",
       "      <td>0.001437</td>\n",
       "      <td>0.001734</td>\n",
       "      <td>0.454665</td>\n",
       "      <td>0.012862</td>\n",
       "      <td>0.090057</td>\n",
       "      <td>0.348990</td>\n",
       "      <td>0.086437</td>\n",
       "    </tr>\n",
       "    <tr>\n",
       "      <th>75</th>\n",
       "      <td>0.024983</td>\n",
       "      <td>0.002253</td>\n",
       "      <td>0.000000</td>\n",
       "      <td>0.499056</td>\n",
       "      <td>0.016627</td>\n",
       "      <td>0.044156</td>\n",
       "      <td>0.395921</td>\n",
       "      <td>0.017004</td>\n",
       "    </tr>\n",
       "    <tr>\n",
       "      <th>78</th>\n",
       "      <td>0.977178</td>\n",
       "      <td>0.002520</td>\n",
       "      <td>0.009568</td>\n",
       "      <td>0.000000</td>\n",
       "      <td>0.001774</td>\n",
       "      <td>0.001735</td>\n",
       "      <td>0.004453</td>\n",
       "      <td>0.002771</td>\n",
       "    </tr>\n",
       "    <tr>\n",
       "      <th>79</th>\n",
       "      <td>0.489691</td>\n",
       "      <td>0.030939</td>\n",
       "      <td>0.007869</td>\n",
       "      <td>0.164362</td>\n",
       "      <td>0.000000</td>\n",
       "      <td>0.039309</td>\n",
       "      <td>0.190876</td>\n",
       "      <td>0.076955</td>\n",
       "    </tr>\n",
       "    <tr>\n",
       "      <th>80</th>\n",
       "      <td>0.291200</td>\n",
       "      <td>0.079302</td>\n",
       "      <td>0.039898</td>\n",
       "      <td>0.123068</td>\n",
       "      <td>0.005743</td>\n",
       "      <td>0.017454</td>\n",
       "      <td>0.350496</td>\n",
       "      <td>0.092840</td>\n",
       "    </tr>\n",
       "    <tr>\n",
       "      <th>81</th>\n",
       "      <td>0.342988</td>\n",
       "      <td>0.016658</td>\n",
       "      <td>0.126475</td>\n",
       "      <td>0.149601</td>\n",
       "      <td>0.021133</td>\n",
       "      <td>0.023623</td>\n",
       "      <td>0.305342</td>\n",
       "      <td>0.014180</td>\n",
       "    </tr>\n",
       "    <tr>\n",
       "      <th>82</th>\n",
       "      <td>0.309887</td>\n",
       "      <td>0.032301</td>\n",
       "      <td>0.131832</td>\n",
       "      <td>0.111048</td>\n",
       "      <td>0.037128</td>\n",
       "      <td>0.069662</td>\n",
       "      <td>0.279443</td>\n",
       "      <td>0.028698</td>\n",
       "    </tr>\n",
       "    <tr>\n",
       "      <th>84</th>\n",
       "      <td>0.067622</td>\n",
       "      <td>0.007231</td>\n",
       "      <td>0.021931</td>\n",
       "      <td>0.134040</td>\n",
       "      <td>0.085050</td>\n",
       "      <td>0.160665</td>\n",
       "      <td>0.377997</td>\n",
       "      <td>0.145464</td>\n",
       "    </tr>\n",
       "    <tr>\n",
       "      <th>88</th>\n",
       "      <td>0.400383</td>\n",
       "      <td>0.000775</td>\n",
       "      <td>0.013500</td>\n",
       "      <td>0.101394</td>\n",
       "      <td>0.029061</td>\n",
       "      <td>0.155583</td>\n",
       "      <td>0.242642</td>\n",
       "      <td>0.056662</td>\n",
       "    </tr>\n",
       "    <tr>\n",
       "      <th>89</th>\n",
       "      <td>0.185567</td>\n",
       "      <td>0.003400</td>\n",
       "      <td>0.000474</td>\n",
       "      <td>0.184564</td>\n",
       "      <td>0.033374</td>\n",
       "      <td>0.098165</td>\n",
       "      <td>0.269774</td>\n",
       "      <td>0.224682</td>\n",
       "    </tr>\n",
       "    <tr>\n",
       "      <th>94</th>\n",
       "      <td>0.036052</td>\n",
       "      <td>0.093080</td>\n",
       "      <td>0.044242</td>\n",
       "      <td>0.000000</td>\n",
       "      <td>0.017325</td>\n",
       "      <td>0.055388</td>\n",
       "      <td>0.472209</td>\n",
       "      <td>0.281705</td>\n",
       "    </tr>\n",
       "  </tbody>\n",
       "</table>\n",
       "</div>"
      ],
      "text/plain": [
       "         Malignant  Endothelial cells       CAF  T cells CD8  NK cells  \\\n",
       "Mixture                                                                  \n",
       "53        0.046912           0.048921  0.056016     0.288460  0.046088   \n",
       "58        0.000719           0.000682  0.000201     0.469386  0.010466   \n",
       "59        0.655298           0.009818  0.301073     0.000000  0.000472   \n",
       "60        0.034117           0.004892  0.000000     0.178893  0.060326   \n",
       "65        0.068950           0.002214  0.000675     0.199426  0.024680   \n",
       "67        0.000816           0.000000  0.000000     0.137107  0.031391   \n",
       "71        0.402557           0.009144  0.002694     0.229847  0.032193   \n",
       "72        0.001155           0.001563  0.000994     0.000000  0.009979   \n",
       "74        0.003817           0.001437  0.001734     0.454665  0.012862   \n",
       "75        0.024983           0.002253  0.000000     0.499056  0.016627   \n",
       "78        0.977178           0.002520  0.009568     0.000000  0.001774   \n",
       "79        0.489691           0.030939  0.007869     0.164362  0.000000   \n",
       "80        0.291200           0.079302  0.039898     0.123068  0.005743   \n",
       "81        0.342988           0.016658  0.126475     0.149601  0.021133   \n",
       "82        0.309887           0.032301  0.131832     0.111048  0.037128   \n",
       "84        0.067622           0.007231  0.021931     0.134040  0.085050   \n",
       "88        0.400383           0.000775  0.013500     0.101394  0.029061   \n",
       "89        0.185567           0.003400  0.000474     0.184564  0.033374   \n",
       "94        0.036052           0.093080  0.044242     0.000000  0.017325   \n",
       "\n",
       "         Macrophages  T cells CD4   B cells  \n",
       "Mixture                                      \n",
       "53          0.107681     0.404889  0.001032  \n",
       "58          0.045708     0.412112  0.060726  \n",
       "59          0.026106     0.007233  0.000000  \n",
       "60          0.081418     0.250973  0.389381  \n",
       "65          0.055358     0.556732  0.091964  \n",
       "67          0.014096     0.582954  0.233635  \n",
       "71          0.062506     0.258383  0.002676  \n",
       "72          0.032146     0.708719  0.245443  \n",
       "74          0.090057     0.348990  0.086437  \n",
       "75          0.044156     0.395921  0.017004  \n",
       "78          0.001735     0.004453  0.002771  \n",
       "79          0.039309     0.190876  0.076955  \n",
       "80          0.017454     0.350496  0.092840  \n",
       "81          0.023623     0.305342  0.014180  \n",
       "82          0.069662     0.279443  0.028698  \n",
       "84          0.160665     0.377997  0.145464  \n",
       "88          0.155583     0.242642  0.056662  \n",
       "89          0.098165     0.269774  0.224682  \n",
       "94          0.055388     0.472209  0.281705  "
      ]
     },
     "execution_count": 26,
     "metadata": {},
     "output_type": "execute_result"
    }
   ],
   "source": [
    "inferred_fractions[gt_fractions.columns]"
   ]
  },
  {
   "cell_type": "code",
   "execution_count": 27,
   "id": "49f16d58",
   "metadata": {},
   "outputs": [
    {
     "data": {
      "text/plain": [
       "Mixture  cell_type        \n",
       "53       Malignant            0.1280\n",
       "         Endothelial cells    0.0880\n",
       "         CAF                  0.0320\n",
       "         T cells CD8          0.2000\n",
       "         NK cells             0.0800\n",
       "                               ...  \n",
       "94       T cells CD8          0.2025\n",
       "         NK cells             0.0041\n",
       "         Macrophages          0.0083\n",
       "         T cells CD4          0.3306\n",
       "         B cells              0.2686\n",
       "Name: proportion, Length: 152, dtype: float64"
      ]
     },
     "execution_count": 27,
     "metadata": {},
     "output_type": "execute_result"
    }
   ],
   "source": [
    "gt_fractions_stacked = gt_fractions.stack()\n",
    "gt_fractions_stacked.rename(\"proportion\", inplace=True)\n",
    "gt_fractions_stacked.index.set_names(\"Mixture\", level=0, inplace=True)\n",
    "gt_fractions_stacked.index.set_names(\"cell_type\", level=1, inplace=True)\n",
    "gt_fractions_stacked"
   ]
  },
  {
   "cell_type": "code",
   "execution_count": 28,
   "id": "4cb392c7",
   "metadata": {},
   "outputs": [
    {
     "data": {
      "text/plain": [
       "Mixture  cell_type        \n",
       "53       Malignant            0.046912\n",
       "         Endothelial cells    0.048921\n",
       "         CAF                  0.056016\n",
       "         T cells CD8          0.288460\n",
       "         NK cells             0.046088\n",
       "                                ...   \n",
       "94       T cells CD8          0.000000\n",
       "         NK cells             0.017325\n",
       "         Macrophages          0.055388\n",
       "         T cells CD4          0.472209\n",
       "         B cells              0.281705\n",
       "Name: proportion, Length: 152, dtype: float64"
      ]
     },
     "execution_count": 28,
     "metadata": {},
     "output_type": "execute_result"
    }
   ],
   "source": [
    "inferred_fractions_stacked = inferred_fractions[gt_fractions.columns].stack()\n",
    "inferred_fractions_stacked.rename(\"proportion\", inplace=True)\n",
    "inferred_fractions_stacked.index.set_names(\"cell_type\", level=1, inplace=True)\n",
    "inferred_fractions_stacked"
   ]
  },
  {
   "cell_type": "code",
   "execution_count": 29,
   "id": "3429b787",
   "metadata": {},
   "outputs": [],
   "source": [
    "inferred_and_truth = pd.merge(\n",
    "    gt_fractions_stacked, inferred_fractions_stacked, left_index=True, right_index=True\n",
    ")"
   ]
  },
  {
   "cell_type": "code",
   "execution_count": 30,
   "id": "1118d369",
   "metadata": {},
   "outputs": [
    {
     "data": {
      "text/html": [
       "<div>\n",
       "<style scoped>\n",
       "    .dataframe tbody tr th:only-of-type {\n",
       "        vertical-align: middle;\n",
       "    }\n",
       "\n",
       "    .dataframe tbody tr th {\n",
       "        vertical-align: top;\n",
       "    }\n",
       "\n",
       "    .dataframe thead th {\n",
       "        text-align: right;\n",
       "    }\n",
       "</style>\n",
       "<table border=\"1\" class=\"dataframe\">\n",
       "  <thead>\n",
       "    <tr style=\"text-align: right;\">\n",
       "      <th></th>\n",
       "      <th></th>\n",
       "      <th>proportion_x</th>\n",
       "      <th>proportion_y</th>\n",
       "    </tr>\n",
       "    <tr>\n",
       "      <th>Mixture</th>\n",
       "      <th>cell_type</th>\n",
       "      <th></th>\n",
       "      <th></th>\n",
       "    </tr>\n",
       "  </thead>\n",
       "  <tbody>\n",
       "    <tr>\n",
       "      <th rowspan=\"5\" valign=\"top\">53</th>\n",
       "      <th>Malignant</th>\n",
       "      <td>0.1280</td>\n",
       "      <td>0.046912</td>\n",
       "    </tr>\n",
       "    <tr>\n",
       "      <th>Endothelial cells</th>\n",
       "      <td>0.0880</td>\n",
       "      <td>0.048921</td>\n",
       "    </tr>\n",
       "    <tr>\n",
       "      <th>CAF</th>\n",
       "      <td>0.0320</td>\n",
       "      <td>0.056016</td>\n",
       "    </tr>\n",
       "    <tr>\n",
       "      <th>T cells CD8</th>\n",
       "      <td>0.2000</td>\n",
       "      <td>0.288460</td>\n",
       "    </tr>\n",
       "    <tr>\n",
       "      <th>NK cells</th>\n",
       "      <td>0.0800</td>\n",
       "      <td>0.046088</td>\n",
       "    </tr>\n",
       "    <tr>\n",
       "      <th>...</th>\n",
       "      <th>...</th>\n",
       "      <td>...</td>\n",
       "      <td>...</td>\n",
       "    </tr>\n",
       "    <tr>\n",
       "      <th rowspan=\"5\" valign=\"top\">94</th>\n",
       "      <th>T cells CD8</th>\n",
       "      <td>0.2025</td>\n",
       "      <td>0.000000</td>\n",
       "    </tr>\n",
       "    <tr>\n",
       "      <th>NK cells</th>\n",
       "      <td>0.0041</td>\n",
       "      <td>0.017325</td>\n",
       "    </tr>\n",
       "    <tr>\n",
       "      <th>Macrophages</th>\n",
       "      <td>0.0083</td>\n",
       "      <td>0.055388</td>\n",
       "    </tr>\n",
       "    <tr>\n",
       "      <th>T cells CD4</th>\n",
       "      <td>0.3306</td>\n",
       "      <td>0.472209</td>\n",
       "    </tr>\n",
       "    <tr>\n",
       "      <th>B cells</th>\n",
       "      <td>0.2686</td>\n",
       "      <td>0.281705</td>\n",
       "    </tr>\n",
       "  </tbody>\n",
       "</table>\n",
       "<p>152 rows × 2 columns</p>\n",
       "</div>"
      ],
      "text/plain": [
       "                           proportion_x  proportion_y\n",
       "Mixture cell_type                                    \n",
       "53      Malignant                0.1280      0.046912\n",
       "        Endothelial cells        0.0880      0.048921\n",
       "        CAF                      0.0320      0.056016\n",
       "        T cells CD8              0.2000      0.288460\n",
       "        NK cells                 0.0800      0.046088\n",
       "...                                 ...           ...\n",
       "94      T cells CD8              0.2025      0.000000\n",
       "        NK cells                 0.0041      0.017325\n",
       "        Macrophages              0.0083      0.055388\n",
       "        T cells CD4              0.3306      0.472209\n",
       "        B cells                  0.2686      0.281705\n",
       "\n",
       "[152 rows x 2 columns]"
      ]
     },
     "execution_count": 30,
     "metadata": {},
     "output_type": "execute_result"
    }
   ],
   "source": [
    "inferred_and_truth"
   ]
  },
  {
   "cell_type": "code",
   "execution_count": 34,
   "id": "7d026182",
   "metadata": {},
   "outputs": [
    {
     "data": {
      "application/vnd.plotly.v1+json": {
       "config": {
        "plotlyServerURL": "https://plot.ly"
       },
       "data": [
        {
         "hovertemplate": "cell_type=Malignant<br>proportion_x=%{x}<br>proportion_y=%{y}<extra></extra>",
         "legendgroup": "Malignant",
         "marker": {
          "color": "#636efa",
          "symbol": "circle"
         },
         "mode": "markers",
         "name": "Malignant",
         "orientation": "v",
         "showlegend": true,
         "type": "scatter",
         "x": [
          0.128,
          0,
          0.871,
          0.0448,
          0.0755,
          0,
          0.6835,
          0,
          0,
          0.0087,
          0.9756,
          0.5474,
          0.2828,
          0.7308,
          0.4638,
          0.1045,
          0.3966,
          0.2263,
          0.0413
         ],
         "xaxis": "x",
         "y": [
          0.0469121204252961,
          0.0007187906144226,
          0.6552979775160381,
          0.0341171564918796,
          0.0689502065494902,
          0.0008159669789846,
          0.4025568657311233,
          0.0011549679492888,
          0.0038174337024705,
          0.0249825485235284,
          0.9771781027339652,
          0.4896911494636775,
          0.2911995544233731,
          0.3429876746389379,
          0.3098874967972353,
          0.0676216465503623,
          0.4003826863557329,
          0.1855668088825222,
          0.0360516471989103
         ],
         "yaxis": "y"
        },
        {
         "hovertemplate": "cell_type=Endothelial cells<br>proportion_x=%{x}<br>proportion_y=%{y}<extra></extra>",
         "legendgroup": "Endothelial cells",
         "marker": {
          "color": "#EF553B",
          "symbol": "circle"
         },
         "mode": "markers",
         "name": "Endothelial cells",
         "orientation": "v",
         "showlegend": true,
         "type": "scatter",
         "x": [
          0.088,
          0,
          0,
          0,
          0,
          0,
          0,
          0,
          0,
          0,
          0,
          0.0023,
          0.0656,
          0.011,
          0,
          0.0075,
          0,
          0.0023,
          0.0785
         ],
         "xaxis": "x",
         "y": [
          0.0489212173290616,
          0.0006824404309393,
          0.0098183689972904,
          0.0048923789389249,
          0.0022144696911858,
          0,
          0.0091440319690243,
          0.001563263804957,
          0.0014374339922584,
          0.0022527970687678,
          0.0025203034120458,
          0.0309385270247076,
          0.0793020993014532,
          0.0166580326304684,
          0.032300795680392,
          0.0072311677807109,
          0.0007752124674636,
          0.0034004724634482,
          0.0930803093325643
         ],
         "yaxis": "y"
        },
        {
         "hovertemplate": "cell_type=CAF<br>proportion_x=%{x}<br>proportion_y=%{y}<extra></extra>",
         "legendgroup": "CAF",
         "marker": {
          "color": "#00cc96",
          "symbol": "circle"
         },
         "mode": "markers",
         "name": "CAF",
         "orientation": "v",
         "showlegend": true,
         "type": "scatter",
         "x": [
          0.032,
          0,
          0.1129,
          0,
          0,
          0,
          0,
          0,
          0,
          0,
          0.0081,
          0.0012,
          0.052,
          0,
          0.087,
          0.0075,
          0.0068,
          0,
          0.0661
         ],
         "xaxis": "x",
         "y": [
          0.0560160617318922,
          0.0002012449795239,
          0.3010730749211535,
          0,
          0.0006753487667379,
          0,
          0.0026944057320136,
          0.0009942361736979,
          0.0017339793222253,
          0,
          0.0095682986060742,
          0.0078688121310217,
          0.0398978890842276,
          0.1264750105099681,
          0.1318324284248732,
          0.0219307937671545,
          0.0134996254939838,
          0.0004739632865439,
          0.0442415890331577
         ],
         "yaxis": "y"
        },
        {
         "hovertemplate": "cell_type=T cells CD8<br>proportion_x=%{x}<br>proportion_y=%{y}<extra></extra>",
         "legendgroup": "T cells CD8",
         "marker": {
          "color": "#ab63fa",
          "symbol": "circle"
         },
         "mode": "markers",
         "name": "T cells CD8",
         "orientation": "v",
         "showlegend": true,
         "type": "scatter",
         "x": [
          0.2,
          0.6508,
          0,
          0.194,
          0.4717,
          0.3059,
          0.1899,
          0.1634,
          0.6496,
          0.9417,
          0,
          0.2795,
          0.1538,
          0.1044,
          0.1304,
          0.1716,
          0.1559,
          0.3141,
          0.2025
         ],
         "xaxis": "x",
         "y": [
          0.2884602175470318,
          0.4693855239346869,
          0,
          0.1788927869335783,
          0.1994256314260777,
          0.1371070258676542,
          0.2298473049491976,
          0,
          0.4546649753674804,
          0.4990558767762205,
          0,
          0.1643621878499529,
          0.123067675035982,
          0.1496011511269698,
          0.1110484463842399,
          0.1340402982996247,
          0.1013941340607133,
          0.1845638636516811,
          0
         ],
         "yaxis": "y"
        },
        {
         "hovertemplate": "cell_type=NK cells<br>proportion_x=%{x}<br>proportion_y=%{y}<extra></extra>",
         "legendgroup": "NK cells",
         "marker": {
          "color": "#FFA15A",
          "symbol": "circle"
         },
         "mode": "markers",
         "name": "NK cells",
         "orientation": "v",
         "showlegend": true,
         "type": "scatter",
         "x": [
          0.08,
          0.0317,
          0,
          0.0498,
          0,
          0.0118,
          0,
          0.0065,
          0.0073,
          0,
          0,
          0.0012,
          0.009,
          0,
          0.029,
          0.0522,
          0.0305,
          0.0023,
          0.0041
         ],
         "xaxis": "x",
         "y": [
          0.0460884611974941,
          0.010466130224179,
          0.0004721050957254,
          0.0603260440962204,
          0.0246802340578727,
          0.0313910938790244,
          0.0321926100777941,
          0.009978743920248,
          0.0128620356194197,
          0.0166271247484743,
          0.0017738961885955,
          0,
          0.0057430587470134,
          0.0211326633493771,
          0.0371279461689377,
          0.085050237879181,
          0.0290610144010264,
          0.0333741025752777,
          0.0173248034376833
         ],
         "yaxis": "y"
        },
        {
         "hovertemplate": "cell_type=Macrophages<br>proportion_x=%{x}<br>proportion_y=%{y}<extra></extra>",
         "legendgroup": "Macrophages",
         "marker": {
          "color": "#19d3f3",
          "symbol": "circle"
         },
         "mode": "markers",
         "name": "Macrophages",
         "orientation": "v",
         "showlegend": true,
         "type": "scatter",
         "x": [
          0.096,
          0.0159,
          0.0161,
          0.0199,
          0.0189,
          0,
          0.0253,
          0,
          0.0365,
          0.0029,
          0,
          0,
          0,
          0,
          0.058,
          0.1866,
          0.1356,
          0.06,
          0.0083
         ],
         "xaxis": "x",
         "y": [
          0.1076810715960907,
          0.0457078555128146,
          0.0261058512074588,
          0.0814180997453162,
          0.0553578494517748,
          0.0140964499304203,
          0.0625063257129853,
          0.0321460054377561,
          0.0900574678300726,
          0.0441564758349173,
          0.0017349679599164,
          0.0393088664578395,
          0.0174538912728506,
          0.0236232170117748,
          0.0696622628543641,
          0.16066458652948,
          0.1555832970389429,
          0.0981646374518345,
          0.055387599402114
         ],
         "yaxis": "y"
        },
        {
         "hovertemplate": "cell_type=T cells CD4<br>proportion_x=%{x}<br>proportion_y=%{y}<extra></extra>",
         "legendgroup": "T cells CD4",
         "marker": {
          "color": "#FF6692",
          "symbol": "circle"
         },
         "mode": "markers",
         "name": "T cells CD4",
         "orientation": "v",
         "showlegend": true,
         "type": "scatter",
         "x": [
          0.376,
          0.2857,
          0,
          0.2139,
          0.3396,
          0.4588,
          0.1013,
          0.6013,
          0.2117,
          0.0466,
          0.0081,
          0.076,
          0.3258,
          0.1374,
          0.2174,
          0.2836,
          0.2203,
          0.1501,
          0.3306
         ],
         "xaxis": "x",
         "y": [
          0.4048890521445576,
          0.4121120474763694,
          0.0072326222623335,
          0.2509728183796309,
          0.5567320750573319,
          0.5829542639314172,
          0.2583829533517348,
          0.7087194231755891,
          0.348989679782698,
          0.3959208395292284,
          0.0044534183429947,
          0.1908758887348323,
          0.3504962251934745,
          0.3053424656340746,
          0.2794430921983466,
          0.3779973722384148,
          0.2426418387024799,
          0.2697739193688664,
          0.4722091118728001
         ],
         "yaxis": "y"
        },
        {
         "hovertemplate": "cell_type=B cells<br>proportion_x=%{x}<br>proportion_y=%{y}<extra></extra>",
         "legendgroup": "B cells",
         "marker": {
          "color": "#B6E880",
          "symbol": "circle"
         },
         "mode": "markers",
         "name": "B cells",
         "orientation": "v",
         "showlegend": true,
         "type": "scatter",
         "x": [
          0,
          0.0159,
          0,
          0.4776,
          0.0943,
          0.2235,
          0,
          0.2288,
          0.0949,
          0,
          0.0081,
          0.0924,
          0.1109,
          0.0165,
          0.0145,
          0.1866,
          0.0542,
          0.2448,
          0.2686
         ],
         "xaxis": "x",
         "y": [
          0.0010317980285755,
          0.0607259668270639,
          0,
          0.3893807154144493,
          0.0919641849995285,
          0.233635199412499,
          0.0026755024761266,
          0.2454433595384628,
          0.0864369943833748,
          0.0170043375188629,
          0.002771012756408,
          0.0769545683379683,
          0.0928396069416253,
          0.0141797850984289,
          0.0286975314916108,
          0.1454638969550715,
          0.0566621914796567,
          0.2246822323198257,
          0.2817049397227699
         ],
         "yaxis": "y"
        }
       ],
       "layout": {
        "autosize": true,
        "legend": {
         "title": {
          "text": "cell_type"
         },
         "tracegroupgap": 0
        },
        "margin": {
         "t": 60
        },
        "template": {
         "data": {
          "bar": [
           {
            "error_x": {
             "color": "#2a3f5f"
            },
            "error_y": {
             "color": "#2a3f5f"
            },
            "marker": {
             "line": {
              "color": "#E5ECF6",
              "width": 0.5
             },
             "pattern": {
              "fillmode": "overlay",
              "size": 10,
              "solidity": 0.2
             }
            },
            "type": "bar"
           }
          ],
          "barpolar": [
           {
            "marker": {
             "line": {
              "color": "#E5ECF6",
              "width": 0.5
             },
             "pattern": {
              "fillmode": "overlay",
              "size": 10,
              "solidity": 0.2
             }
            },
            "type": "barpolar"
           }
          ],
          "carpet": [
           {
            "aaxis": {
             "endlinecolor": "#2a3f5f",
             "gridcolor": "white",
             "linecolor": "white",
             "minorgridcolor": "white",
             "startlinecolor": "#2a3f5f"
            },
            "baxis": {
             "endlinecolor": "#2a3f5f",
             "gridcolor": "white",
             "linecolor": "white",
             "minorgridcolor": "white",
             "startlinecolor": "#2a3f5f"
            },
            "type": "carpet"
           }
          ],
          "choropleth": [
           {
            "colorbar": {
             "outlinewidth": 0,
             "ticks": ""
            },
            "type": "choropleth"
           }
          ],
          "contour": [
           {
            "colorbar": {
             "outlinewidth": 0,
             "ticks": ""
            },
            "colorscale": [
             [
              0,
              "#0d0887"
             ],
             [
              0.1111111111111111,
              "#46039f"
             ],
             [
              0.2222222222222222,
              "#7201a8"
             ],
             [
              0.3333333333333333,
              "#9c179e"
             ],
             [
              0.4444444444444444,
              "#bd3786"
             ],
             [
              0.5555555555555556,
              "#d8576b"
             ],
             [
              0.6666666666666666,
              "#ed7953"
             ],
             [
              0.7777777777777778,
              "#fb9f3a"
             ],
             [
              0.8888888888888888,
              "#fdca26"
             ],
             [
              1,
              "#f0f921"
             ]
            ],
            "type": "contour"
           }
          ],
          "contourcarpet": [
           {
            "colorbar": {
             "outlinewidth": 0,
             "ticks": ""
            },
            "type": "contourcarpet"
           }
          ],
          "heatmap": [
           {
            "colorbar": {
             "outlinewidth": 0,
             "ticks": ""
            },
            "colorscale": [
             [
              0,
              "#0d0887"
             ],
             [
              0.1111111111111111,
              "#46039f"
             ],
             [
              0.2222222222222222,
              "#7201a8"
             ],
             [
              0.3333333333333333,
              "#9c179e"
             ],
             [
              0.4444444444444444,
              "#bd3786"
             ],
             [
              0.5555555555555556,
              "#d8576b"
             ],
             [
              0.6666666666666666,
              "#ed7953"
             ],
             [
              0.7777777777777778,
              "#fb9f3a"
             ],
             [
              0.8888888888888888,
              "#fdca26"
             ],
             [
              1,
              "#f0f921"
             ]
            ],
            "type": "heatmap"
           }
          ],
          "heatmapgl": [
           {
            "colorbar": {
             "outlinewidth": 0,
             "ticks": ""
            },
            "colorscale": [
             [
              0,
              "#0d0887"
             ],
             [
              0.1111111111111111,
              "#46039f"
             ],
             [
              0.2222222222222222,
              "#7201a8"
             ],
             [
              0.3333333333333333,
              "#9c179e"
             ],
             [
              0.4444444444444444,
              "#bd3786"
             ],
             [
              0.5555555555555556,
              "#d8576b"
             ],
             [
              0.6666666666666666,
              "#ed7953"
             ],
             [
              0.7777777777777778,
              "#fb9f3a"
             ],
             [
              0.8888888888888888,
              "#fdca26"
             ],
             [
              1,
              "#f0f921"
             ]
            ],
            "type": "heatmapgl"
           }
          ],
          "histogram": [
           {
            "marker": {
             "pattern": {
              "fillmode": "overlay",
              "size": 10,
              "solidity": 0.2
             }
            },
            "type": "histogram"
           }
          ],
          "histogram2d": [
           {
            "colorbar": {
             "outlinewidth": 0,
             "ticks": ""
            },
            "colorscale": [
             [
              0,
              "#0d0887"
             ],
             [
              0.1111111111111111,
              "#46039f"
             ],
             [
              0.2222222222222222,
              "#7201a8"
             ],
             [
              0.3333333333333333,
              "#9c179e"
             ],
             [
              0.4444444444444444,
              "#bd3786"
             ],
             [
              0.5555555555555556,
              "#d8576b"
             ],
             [
              0.6666666666666666,
              "#ed7953"
             ],
             [
              0.7777777777777778,
              "#fb9f3a"
             ],
             [
              0.8888888888888888,
              "#fdca26"
             ],
             [
              1,
              "#f0f921"
             ]
            ],
            "type": "histogram2d"
           }
          ],
          "histogram2dcontour": [
           {
            "colorbar": {
             "outlinewidth": 0,
             "ticks": ""
            },
            "colorscale": [
             [
              0,
              "#0d0887"
             ],
             [
              0.1111111111111111,
              "#46039f"
             ],
             [
              0.2222222222222222,
              "#7201a8"
             ],
             [
              0.3333333333333333,
              "#9c179e"
             ],
             [
              0.4444444444444444,
              "#bd3786"
             ],
             [
              0.5555555555555556,
              "#d8576b"
             ],
             [
              0.6666666666666666,
              "#ed7953"
             ],
             [
              0.7777777777777778,
              "#fb9f3a"
             ],
             [
              0.8888888888888888,
              "#fdca26"
             ],
             [
              1,
              "#f0f921"
             ]
            ],
            "type": "histogram2dcontour"
           }
          ],
          "mesh3d": [
           {
            "colorbar": {
             "outlinewidth": 0,
             "ticks": ""
            },
            "type": "mesh3d"
           }
          ],
          "parcoords": [
           {
            "line": {
             "colorbar": {
              "outlinewidth": 0,
              "ticks": ""
             }
            },
            "type": "parcoords"
           }
          ],
          "pie": [
           {
            "automargin": true,
            "type": "pie"
           }
          ],
          "scatter": [
           {
            "marker": {
             "colorbar": {
              "outlinewidth": 0,
              "ticks": ""
             }
            },
            "type": "scatter"
           }
          ],
          "scatter3d": [
           {
            "line": {
             "colorbar": {
              "outlinewidth": 0,
              "ticks": ""
             }
            },
            "marker": {
             "colorbar": {
              "outlinewidth": 0,
              "ticks": ""
             }
            },
            "type": "scatter3d"
           }
          ],
          "scattercarpet": [
           {
            "marker": {
             "colorbar": {
              "outlinewidth": 0,
              "ticks": ""
             }
            },
            "type": "scattercarpet"
           }
          ],
          "scattergeo": [
           {
            "marker": {
             "colorbar": {
              "outlinewidth": 0,
              "ticks": ""
             }
            },
            "type": "scattergeo"
           }
          ],
          "scattergl": [
           {
            "marker": {
             "colorbar": {
              "outlinewidth": 0,
              "ticks": ""
             }
            },
            "type": "scattergl"
           }
          ],
          "scattermapbox": [
           {
            "marker": {
             "colorbar": {
              "outlinewidth": 0,
              "ticks": ""
             }
            },
            "type": "scattermapbox"
           }
          ],
          "scatterpolar": [
           {
            "marker": {
             "colorbar": {
              "outlinewidth": 0,
              "ticks": ""
             }
            },
            "type": "scatterpolar"
           }
          ],
          "scatterpolargl": [
           {
            "marker": {
             "colorbar": {
              "outlinewidth": 0,
              "ticks": ""
             }
            },
            "type": "scatterpolargl"
           }
          ],
          "scatterternary": [
           {
            "marker": {
             "colorbar": {
              "outlinewidth": 0,
              "ticks": ""
             }
            },
            "type": "scatterternary"
           }
          ],
          "surface": [
           {
            "colorbar": {
             "outlinewidth": 0,
             "ticks": ""
            },
            "colorscale": [
             [
              0,
              "#0d0887"
             ],
             [
              0.1111111111111111,
              "#46039f"
             ],
             [
              0.2222222222222222,
              "#7201a8"
             ],
             [
              0.3333333333333333,
              "#9c179e"
             ],
             [
              0.4444444444444444,
              "#bd3786"
             ],
             [
              0.5555555555555556,
              "#d8576b"
             ],
             [
              0.6666666666666666,
              "#ed7953"
             ],
             [
              0.7777777777777778,
              "#fb9f3a"
             ],
             [
              0.8888888888888888,
              "#fdca26"
             ],
             [
              1,
              "#f0f921"
             ]
            ],
            "type": "surface"
           }
          ],
          "table": [
           {
            "cells": {
             "fill": {
              "color": "#EBF0F8"
             },
             "line": {
              "color": "white"
             }
            },
            "header": {
             "fill": {
              "color": "#C8D4E3"
             },
             "line": {
              "color": "white"
             }
            },
            "type": "table"
           }
          ]
         },
         "layout": {
          "annotationdefaults": {
           "arrowcolor": "#2a3f5f",
           "arrowhead": 0,
           "arrowwidth": 1
          },
          "autotypenumbers": "strict",
          "coloraxis": {
           "colorbar": {
            "outlinewidth": 0,
            "ticks": ""
           }
          },
          "colorscale": {
           "diverging": [
            [
             0,
             "#8e0152"
            ],
            [
             0.1,
             "#c51b7d"
            ],
            [
             0.2,
             "#de77ae"
            ],
            [
             0.3,
             "#f1b6da"
            ],
            [
             0.4,
             "#fde0ef"
            ],
            [
             0.5,
             "#f7f7f7"
            ],
            [
             0.6,
             "#e6f5d0"
            ],
            [
             0.7,
             "#b8e186"
            ],
            [
             0.8,
             "#7fbc41"
            ],
            [
             0.9,
             "#4d9221"
            ],
            [
             1,
             "#276419"
            ]
           ],
           "sequential": [
            [
             0,
             "#0d0887"
            ],
            [
             0.1111111111111111,
             "#46039f"
            ],
            [
             0.2222222222222222,
             "#7201a8"
            ],
            [
             0.3333333333333333,
             "#9c179e"
            ],
            [
             0.4444444444444444,
             "#bd3786"
            ],
            [
             0.5555555555555556,
             "#d8576b"
            ],
            [
             0.6666666666666666,
             "#ed7953"
            ],
            [
             0.7777777777777778,
             "#fb9f3a"
            ],
            [
             0.8888888888888888,
             "#fdca26"
            ],
            [
             1,
             "#f0f921"
            ]
           ],
           "sequentialminus": [
            [
             0,
             "#0d0887"
            ],
            [
             0.1111111111111111,
             "#46039f"
            ],
            [
             0.2222222222222222,
             "#7201a8"
            ],
            [
             0.3333333333333333,
             "#9c179e"
            ],
            [
             0.4444444444444444,
             "#bd3786"
            ],
            [
             0.5555555555555556,
             "#d8576b"
            ],
            [
             0.6666666666666666,
             "#ed7953"
            ],
            [
             0.7777777777777778,
             "#fb9f3a"
            ],
            [
             0.8888888888888888,
             "#fdca26"
            ],
            [
             1,
             "#f0f921"
            ]
           ]
          },
          "colorway": [
           "#636efa",
           "#EF553B",
           "#00cc96",
           "#ab63fa",
           "#FFA15A",
           "#19d3f3",
           "#FF6692",
           "#B6E880",
           "#FF97FF",
           "#FECB52"
          ],
          "font": {
           "color": "#2a3f5f"
          },
          "geo": {
           "bgcolor": "white",
           "lakecolor": "white",
           "landcolor": "#E5ECF6",
           "showlakes": true,
           "showland": true,
           "subunitcolor": "white"
          },
          "hoverlabel": {
           "align": "left"
          },
          "hovermode": "closest",
          "mapbox": {
           "style": "light"
          },
          "paper_bgcolor": "white",
          "plot_bgcolor": "#E5ECF6",
          "polar": {
           "angularaxis": {
            "gridcolor": "white",
            "linecolor": "white",
            "ticks": ""
           },
           "bgcolor": "#E5ECF6",
           "radialaxis": {
            "gridcolor": "white",
            "linecolor": "white",
            "ticks": ""
           }
          },
          "scene": {
           "xaxis": {
            "backgroundcolor": "#E5ECF6",
            "gridcolor": "white",
            "gridwidth": 2,
            "linecolor": "white",
            "showbackground": true,
            "ticks": "",
            "zerolinecolor": "white"
           },
           "yaxis": {
            "backgroundcolor": "#E5ECF6",
            "gridcolor": "white",
            "gridwidth": 2,
            "linecolor": "white",
            "showbackground": true,
            "ticks": "",
            "zerolinecolor": "white"
           },
           "zaxis": {
            "backgroundcolor": "#E5ECF6",
            "gridcolor": "white",
            "gridwidth": 2,
            "linecolor": "white",
            "showbackground": true,
            "ticks": "",
            "zerolinecolor": "white"
           }
          },
          "shapedefaults": {
           "line": {
            "color": "#2a3f5f"
           }
          },
          "ternary": {
           "aaxis": {
            "gridcolor": "white",
            "linecolor": "white",
            "ticks": ""
           },
           "baxis": {
            "gridcolor": "white",
            "linecolor": "white",
            "ticks": ""
           },
           "bgcolor": "#E5ECF6",
           "caxis": {
            "gridcolor": "white",
            "linecolor": "white",
            "ticks": ""
           }
          },
          "title": {
           "x": 0.05
          },
          "xaxis": {
           "automargin": true,
           "gridcolor": "white",
           "linecolor": "white",
           "ticks": "",
           "title": {
            "standoff": 15
           },
           "zerolinecolor": "white",
           "zerolinewidth": 2
          },
          "yaxis": {
           "automargin": true,
           "gridcolor": "white",
           "linecolor": "white",
           "ticks": "",
           "title": {
            "standoff": 15
           },
           "zerolinecolor": "white",
           "zerolinewidth": 2
          }
         }
        },
        "xaxis": {
         "anchor": "y",
         "autorange": true,
         "domain": [
          0,
          1
         ],
         "range": [
          -0.05864699704627503,
          1.034246997046275
         ],
         "title": {
          "text": "proportion_x"
         },
         "type": "linear"
        },
        "yaxis": {
         "anchor": "x",
         "autorange": true,
         "domain": [
          0,
          1
         ],
         "range": [
          -0.06715204971394548,
          1.0443301524479107
         ],
         "title": {
          "text": "proportion_y"
         },
         "type": "linear"
        }
       }
      },
      "image/png": "[encoded data removed]"
     },
     "metadata": {},
     "output_type": "display_data"
    }
   ],
   "source": [
    "px.scatter(\n",
    "    data_frame=inferred_and_truth.reset_index(),\n",
    "    x=\"proportion_x\",\n",
    "    y=\"proportion_y\",\n",
    "    color=\"cell_type\",\n",
    ")"
   ]
  },
  {
   "cell_type": "code",
   "execution_count": null,
   "id": "951acb9e",
   "metadata": {},
   "outputs": [],
   "source": []
  }
 ],
 "metadata": {
  "environment": {
   "name": "tf2-gpu.2-5.m74",
   "type": "gcloud",
   "uri": "gcr.io/deeplearning-platform-release/tf2-gpu.2-5:m74"
  },
  "kernelspec": {
   "display_name": "Python 3",
   "language": "python",
   "name": "python3"
  },
  "language_info": {
   "codemirror_mode": {
    "name": "ipython",
    "version": 3
   },
   "file_extension": ".py",
   "mimetype": "text/x-python",
   "name": "python",
   "nbconvert_exporter": "python",
   "pygments_lexer": "ipython3",
   "version": "3.7.10"
  }
 },
 "nbformat": 4,
 "nbformat_minor": 5
}
