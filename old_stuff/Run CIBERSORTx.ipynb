{
 "cells": [
  {
   "cell_type": "code",
   "execution_count": 1,
   "id": "4445fc93",
   "metadata": {},
   "outputs": [],
   "source": [
    "import json\n",
    "import os\n",
    "\n",
    "import pandas as pd"
   ]
  },
  {
   "cell_type": "markdown",
   "id": "e7a1e4da",
   "metadata": {},
   "source": [
    "# set up env vars"
   ]
  },
  {
   "cell_type": "code",
   "execution_count": null,
   "id": "e783f7f6",
   "metadata": {},
   "outputs": [],
   "source": [
    "csx_env_vars = dict(\n",
    "    CIBERSORTX_INPUT_DATA_DIR=os.path.abspath(\"/tmp/csx/input\"),\n",
    "    CIBERSORTX_OUTPUT_DATA_DIR=os.path.abspath(\"/tmp/csx/output\"),\n",
    "    CIBERSORTX_MIXTURES=os.path.expanduser(\n",
    "        \"/mnt/buckets/liulab/csx_example_files/Single_Cell_RNA-Seq_Melanoma_SuppFig_3b-d/mixture_melanoma_Tirosh_SuppFig_3b-d.txt\"\n",
    "    ),\n",
    "    CIBERSORTX_SIGMATRIX=os.path.expanduser(\n",
    "        \"/mnt/buckets/liulab/csx_example_files/LM22.txt\"\n",
    "    ),\n",
    ")\n",
    "\n",
    "os.environ.update(csx_env_vars)"
   ]
  },
  {
   "cell_type": "markdown",
   "id": "9ad7730e",
   "metadata": {},
   "source": [
    "# verify input data"
   ]
  },
  {
   "cell_type": "code",
   "execution_count": null,
   "id": "adf56007",
   "metadata": {},
   "outputs": [],
   "source": [
    "pd.read_csv(\n",
    "    os.environ[\"CIBERSORTX_MIXTURES\"],\n",
    "    sep=\"\\t\",\n",
    "    index_col=0,\n",
    ").sort_index()"
   ]
  },
  {
   "cell_type": "code",
   "execution_count": null,
   "id": "72458e7e",
   "metadata": {},
   "outputs": [],
   "source": [
    "pd.read_csv(os.environ[\"CIBERSORTX_SIGMATRIX\"], sep=\"\\t\", index_col=0).sort_index()"
   ]
  },
  {
   "cell_type": "markdown",
   "id": "9ba0ce52",
   "metadata": {},
   "source": [
    "# run CIBERSORTx"
   ]
  },
  {
   "cell_type": "markdown",
   "id": "b2217979",
   "metadata": {},
   "source": [
    "## set up files and folders"
   ]
  },
  {
   "cell_type": "code",
   "execution_count": null,
   "id": "a82c7782",
   "metadata": {},
   "outputs": [],
   "source": [
    "!rm -rf $CIBERSORTX_INPUT_DATA_DIR\n",
    "!rm -rf $CIBERSORTX_OUTPUT_DATA_DIR\n",
    "\n",
    "!mkdir -p $CIBERSORTX_INPUT_DATA_DIR\n",
    "!mkdir -p $CIBERSORTX_OUTPUT_DATA_DIR\n",
    "\n",
    "!rsync \\\n",
    "  $CIBERSORTX_MIXTURES \\\n",
    "  $CIBERSORTX_INPUT_DATA_DIR/mixtures.txt\n",
    "\n",
    "!rsync \\\n",
    "  $CIBERSORTX_SIGMATRIX \\\n",
    "  $CIBERSORTX_INPUT_DATA_DIR/signature_matrix.txt\n",
    "\n",
    "!tree -h $CIBERSORTX_INPUT_DATA_DIR"
   ]
  },
  {
   "cell_type": "code",
   "execution_count": null,
   "id": "61139275",
   "metadata": {},
   "outputs": [],
   "source": [
    "import numpy as np\n",
    "\n",
    "input_staging_path = os.path.join(\n",
    "    os.environ[\"CIBERSORTX_INPUT_DATA_DIR\"], \"mixtures.txt\"\n",
    ")\n",
    "\n",
    "\n",
    "def make_more_samples():\n",
    "    df = pd.read_csv(\n",
    "        input_staging_path,\n",
    "        sep=\"\\t\",\n",
    "        index_col=0,\n",
    "    )\n",
    "    rng = np.random.default_rng(seed=0)\n",
    "    noise = rng.exponential(scale=1.0, size=df.values.shape)\n",
    "    df_with_noise = df + noise\n",
    "    df_with_noise.rename(columns=lambda name: f\"{name}_noisy\", inplace=True)\n",
    "    return pd.concat([df, df_with_noise], axis=1)\n",
    "\n",
    "\n",
    "make_more_samples().to_csv(input_staging_path, sep=\"\\t\")"
   ]
  },
  {
   "cell_type": "code",
   "execution_count": null,
   "id": "97beb103",
   "metadata": {},
   "outputs": [],
   "source": [
    "pd.read_csv(\n",
    "    input_staging_path,\n",
    "    sep=\"\\t\",\n",
    "    index_col=0,\n",
    ").sort_index()"
   ]
  },
  {
   "cell_type": "markdown",
   "id": "bc141a7b",
   "metadata": {},
   "source": [
    "## infer fractions\n"
   ]
  },
  {
   "cell_type": "markdown",
   "id": "a013968d",
   "metadata": {},
   "source": [
    "### run"
   ]
  },
  {
   "cell_type": "code",
   "execution_count": null,
   "id": "386b5c24",
   "metadata": {},
   "outputs": [],
   "source": [
    "!docker run \\\n",
    "  --rm \\\n",
    "  -v $CIBERSORTX_INPUT_DATA_DIR:/src/data \\\n",
    "  -v $CIBERSORTX_OUTPUT_DATA_DIR:/src/outdir \\\n",
    "  --user \"$(id -u):$(id -g)\" \\\n",
    "  cibersortx/fractions:latest \\\n",
    "  --username lyronctk@stanford.edu \\\n",
    "  --token dfeba2c8b9d61daebee5fa87026b8e56 \\\n",
    "  --mixture mixtures.txt \\\n",
    "  --sigmatrix signature_matrix.txt \\\n",
    "  --perm 10 \\\n",
    "  --verbose TRUE\n",
    "  # --rmbatchSmode TRUE \\\n",
    "  # --sourceGEPs signature_matrix.txt\n"
   ]
  },
  {
   "cell_type": "markdown",
   "id": "02665871",
   "metadata": {},
   "source": [
    "### check results"
   ]
  },
  {
   "cell_type": "code",
   "execution_count": 6,
   "id": "7030cd38",
   "metadata": {},
   "outputs": [
    {
     "name": "stdout",
     "output_type": "stream",
     "text": [
      "\u001b[01;34m/mnt/buckets/liulab/csx-runs/20210715_160345/\u001b[00m\n",
      "├── \u001b[01;34min\u001b[00m\n",
      "│   ├── mymixture.txt\n",
      "│   └── myrefsample.txt\n",
      "└── \u001b[01;34mout\u001b[00m\n",
      "    ├── CIBERSORTx_Adjusted.txt\n",
      "    ├── CIBERSORTx_Mixtures_Adjusted.txt\n",
      "    ├── CIBERSORTx_cell_type_sourceGEP.txt\n",
      "    ├── CIBERSORTx_myrefsample_inferred_phenoclasses.CIBERSORTx_myrefsample_inferred_refsample.bm.K999.pdf\n",
      "    ├── CIBERSORTx_myrefsample_inferred_phenoclasses.CIBERSORTx_myrefsample_inferred_refsample.bm.K999.txt\n",
      "    ├── CIBERSORTx_myrefsample_inferred_phenoclasses.txt\n",
      "    ├── CIBERSORTx_myrefsample_inferred_refsample.txt\n",
      "    └── CIBERSORTx_sigmatrix_Adjusted.txt\n",
      "\n",
      "2 directories, 10 files\n"
     ]
    }
   ],
   "source": [
    "!tree -L 2 /mnt/buckets/liulab/csx-runs/20210715_160345/"
   ]
  },
  {
   "cell_type": "code",
   "execution_count": null,
   "id": "1e6a91cc",
   "metadata": {},
   "outputs": [],
   "source": [
    "fractions_inferred = pd.read_csv(\n",
    "    os.path.join(os.environ[\"CIBERSORTX_OUTPUT_DATA_DIR\"], \"CIBERSORTx_Results.txt\"),\n",
    "    sep=\"\\t\",\n",
    "    index_col=0,\n",
    ")[0:19]\n",
    "\n",
    "fractions_inferred[\"B cells total\"] = (\n",
    "    fractions_inferred[\"B cells naive\"] + fractions_inferred[\"B cells memory\"]\n",
    ")\n",
    "\n",
    "fractions_inferred"
   ]
  },
  {
   "cell_type": "code",
   "execution_count": null,
   "id": "3e237234",
   "metadata": {},
   "outputs": [],
   "source": [
    "from pprint import pprint\n",
    "\n",
    "pprint(list(sorted(fractions_inferred.columns)))"
   ]
  },
  {
   "cell_type": "markdown",
   "id": "bff74acb",
   "metadata": {},
   "source": [
    "# compare fractions with groundtruth"
   ]
  },
  {
   "cell_type": "code",
   "execution_count": null,
   "id": "3be5bbfe",
   "metadata": {},
   "outputs": [],
   "source": [
    "fractions_groundtruth = pd.read_csv(\n",
    "    \"/mnt/buckets/liulab/csx_example_files/groundtruth_Melanoma_Tirosh_et_al_SuppFig3b-d.txt\",\n",
    "    sep=\"\\t\",\n",
    "    index_col=0,\n",
    ")\n",
    "\n",
    "fractions_groundtruth"
   ]
  },
  {
   "cell_type": "code",
   "execution_count": null,
   "id": "a812a73e",
   "metadata": {},
   "outputs": [],
   "source": [
    "from pprint import pprint\n",
    "\n",
    "pprint(list(sorted(fractions_groundtruth.columns)))"
   ]
  },
  {
   "cell_type": "code",
   "execution_count": null,
   "id": "01e6d989",
   "metadata": {},
   "outputs": [],
   "source": [
    "import plotly.express as px"
   ]
  },
  {
   "cell_type": "code",
   "execution_count": null,
   "id": "2f8da343",
   "metadata": {},
   "outputs": [],
   "source": [
    "fig = px.scatter(\n",
    "    x=fractions_groundtruth[[\"T cells CD8\", \"B cells\"]].stack().values,\n",
    "    y=fractions_inferred[[\"T cells CD8\", \"B cells total\"]].stack().values,\n",
    "    color=fractions_inferred[[\"T cells CD8\", \"B cells total\"]]\n",
    "    .stack()\n",
    "    .reset_index()[\"level_1\"],\n",
    ")\n",
    "fig.update_layout(\n",
    "    width=600,\n",
    "    height=500,\n",
    ")\n",
    "fig.update_xaxes(range=(0, 1))\n",
    "fig.update_yaxes(\n",
    "    range=(0, 1),\n",
    ")"
   ]
  },
  {
   "cell_type": "markdown",
   "id": "3aa2d591",
   "metadata": {},
   "source": [
    "## infer GEPs"
   ]
  },
  {
   "cell_type": "code",
   "execution_count": null,
   "id": "23a82088",
   "metadata": {},
   "outputs": [],
   "source": [
    "!docker run \\\n",
    "  --rm \\\n",
    "  -v $CIBERSORTX_INPUT_DATA_DIR:/src/data \\\n",
    "  -v $CIBERSORTX_OUTPUT_DATA_DIR:/src/outdir \\\n",
    "  --user \"$(id -u):$(id -g)\" \\\n",
    "  cibersortx/gep:latest \\\n",
    "  --username lyronctk@stanford.edu \\\n",
    "  --token dfeba2c8b9d61daebee5fa87026b8e56 \\\n",
    "  --mixture mixtures.txt \\\n",
    "  --sigmatrix signature_matrix.txt \\\n",
    "  --cibresults CIBERSORTx_Results.txt \\\n",
    "  --threads 4\n"
   ]
  },
  {
   "cell_type": "markdown",
   "id": "a4bc19e3",
   "metadata": {},
   "source": [
    "### check results"
   ]
  },
  {
   "cell_type": "code",
   "execution_count": null,
   "id": "1cfc54bd",
   "metadata": {},
   "outputs": [],
   "source": [
    "!ls -lRt $CIBERSORTX_OUTPUT_DATA_DIR"
   ]
  },
  {
   "cell_type": "code",
   "execution_count": null,
   "id": "9e070552",
   "metadata": {},
   "outputs": [],
   "source": [
    "inferred_geps = pd.read_csv(\n",
    "    os.path.join(\n",
    "        os.environ[\"CIBERSORTX_OUTPUT_DATA_DIR\"], \"CIBERSORTxGEP_GEPs_Filtered.txt\"\n",
    "    ),\n",
    "    sep=\"\\t\",\n",
    "    index_col=0,\n",
    ")"
   ]
  },
  {
   "cell_type": "code",
   "execution_count": null,
   "id": "e6920b68",
   "metadata": {},
   "outputs": [],
   "source": [
    "inferred_geps  # .clip(upper=100000)"
   ]
  },
  {
   "cell_type": "code",
   "execution_count": null,
   "id": "0e01044b",
   "metadata": {},
   "outputs": [],
   "source": [
    "import plotly.graph_objects as go\n",
    "\n",
    "fig = go.Figure(\n",
    "    data=go.Heatmap(\n",
    "        z=np.log(inferred_geps.fillna(0).clip(upper=10000).values + 1),\n",
    "        x=inferred_geps.columns,\n",
    "        y=inferred_geps.index,\n",
    "        hoverongaps=False,\n",
    "    )\n",
    ")\n",
    "fig.show()"
   ]
  },
  {
   "cell_type": "markdown",
   "id": "d83abd35",
   "metadata": {},
   "source": [
    "# CLI instructions"
   ]
  },
  {
   "cell_type": "code",
   "execution_count": null,
   "id": "53805e63",
   "metadata": {},
   "outputs": [],
   "source": [
    "!docker run \\\n",
    "  --rm \\\n",
    "  -v $CIBERSORTX_INPUT_DATA_DIR:/src/data \\\n",
    "  -v $CIBERSORTX_OUTPUT_DATA_DIR:/src/outdir \\\n",
    "  cibersortx/gep:latest  # image names: gep, fractions, hires"
   ]
  },
  {
   "cell_type": "markdown",
   "id": "08ccfacc",
   "metadata": {},
   "source": [
    "* with batch correction, usually S mode?\n",
    "* add permutations for significance testing\n",
    "* QN - FALSE\n",
    "\n",
    "```\n",
    "--rmbatchSmode TRUE \\\n",
    "--perm 100 \\\n",
    "```\n",
    "\n"
   ]
  }
 ],
 "metadata": {
  "environment": {
   "name": "tf2-gpu.2-5.m74",
   "type": "gcloud",
   "uri": "gcr.io/deeplearning-platform-release/tf2-gpu.2-5:m74"
  },
  "kernelspec": {
   "display_name": "Python 3",
   "language": "python",
   "name": "python3"
  },
  "language_info": {
   "codemirror_mode": {
    "name": "ipython",
    "version": 3
   },
   "file_extension": ".py",
   "mimetype": "text/x-python",
   "name": "python",
   "nbconvert_exporter": "python",
   "pygments_lexer": "ipython3",
   "version": "3.7.10"
  }
 },
 "nbformat": 4,
 "nbformat_minor": 5
}
