{
 "cells": [
  {
   "cell_type": "code",
   "execution_count": 1,
   "id": "2a8f01e9-e5a6-450d-a5d3-9c5ba0d4fde5",
   "metadata": {},
   "outputs": [],
   "source": [
    "import os\n",
    "import shutil\n",
    "import tempfile\n",
    "\n",
    "import pandas as pd\n",
    "\n",
    "from helpers.cell_type_naming import nice_to_weirds, weird_to_nice\n",
    "from helpers.running_cibersortx.old_running_csx import DockerJob, Experiment, InputFile"
   ]
  },
  {
   "cell_type": "code",
   "execution_count": 2,
   "id": "8b48f4d6-f6b2-4249-bb2c-ba261f285021",
   "metadata": {},
   "outputs": [],
   "source": [
    "experiments_root = \"gs://liulab/csx_experiments/cell_type_grouping\"\n",
    "experiment = Experiment(experiments_root, \"combine_lymphocytes\")"
   ]
  },
  {
   "cell_type": "code",
   "execution_count": 3,
   "id": "c3788697-6230-4167-bb2c-eb7241ceadc4",
   "metadata": {},
   "outputs": [
    {
     "name": "stdout",
     "output_type": "stream",
     "text": [
      "/mnt/buckets/liulab/csx_experiments/cell_type_grouping/combine_lymphocytes/.. [error opening dir]\n",
      "\n",
      "0 directories, 0 files\n"
     ]
    }
   ],
   "source": [
    "!tree -h {experiment.local_path}/.."
   ]
  },
  {
   "cell_type": "markdown",
   "id": "c92e77cc-5c02-428b-b224-bbe2d2774d56",
   "metadata": {},
   "source": [
    "## set up input files"
   ]
  },
  {
   "cell_type": "markdown",
   "id": "b65435f6-49d6-48dd-a24b-14c56ba52198",
   "metadata": {},
   "source": [
    "### make version of sc refsample with t cells combined"
   ]
  },
  {
   "cell_type": "code",
   "execution_count": 4,
   "id": "cbf3069c-0a8c-47b6-acc6-6afe9b70e938",
   "metadata": {},
   "outputs": [],
   "source": [
    "original_sc_refsample = InputFile(\n",
    "    \"screfsampletirosh.txt\",\n",
    "    \"gs://liulab/csx_example_files/Single_Cell_RNA-Seq_Melanoma_SuppFig_3b-d/scRNA-Seq_reference_melanoma_Tirosh_SuppFig_3b-d.txt\",\n",
    ")\n",
    "\n",
    "modified_sc_refsample = InputFile(\n",
    "    \"screfsamplemodified.txt\", os.path.join(experiments_root, \"screfsamplemodified.txt\")\n",
    ")"
   ]
  },
  {
   "cell_type": "code",
   "execution_count": 5,
   "id": "6ae57c36-c74b-4bf3-8ae5-c3d43598d16e",
   "metadata": {},
   "outputs": [],
   "source": [
    "# not necessary, because i write the entire file when modifying the cell type labels\n",
    "# !gsutil cp {original_sc_refsample.source_uri} {modified_sc_refsample.source_uri}"
   ]
  },
  {
   "cell_type": "code",
   "execution_count": 6,
   "id": "e9654f76-749c-4786-b494-7c6350081de2",
   "metadata": {},
   "outputs": [],
   "source": [
    "# combined_type = \"T\"\n",
    "# cell_types_to_combine = [\"T CD8\", \"T CD4\"]\n",
    "\n",
    "combined_type = \"Lymphocytes\"\n",
    "cell_types_to_combine = [\"T CD8\", \"T CD4\", \"B\", \"NK\"]"
   ]
  },
  {
   "cell_type": "code",
   "execution_count": 7,
   "id": "e886b086-0d82-4cdb-a470-ba0caba2269b",
   "metadata": {},
   "outputs": [
    {
     "name": "stdout",
     "output_type": "stream",
     "text": [
      "\u001b[01;34m/mnt/buckets/liulab/csx_experiments/cell_type_grouping\u001b[00m\n",
      "├── [   0]  \u001b[01;34mcombine_t_cells\u001b[00m\n",
      "│   ├── [3.9K]  CIBERSORTx_Adjusted.txt\n",
      "│   ├── [854K]  CIBERSORTx_Mixtures_Adjusted.txt\n",
      "│   ├── [3.4M]  CIBERSORTx_cell_type_sourceGEP.txt\n",
      "│   ├── [132K]  CIBERSORTx_screfsamplemodified_inferred_phenoclasses.CIBERSORTx_screfsamplemodified_inferred_refsample.bm.K999.pdf\n",
      "│   ├── [388K]  CIBERSORTx_screfsamplemodified_inferred_phenoclasses.CIBERSORTx_screfsamplemodified_inferred_refsample.bm.K999.txt\n",
      "│   ├── [ 553]  CIBERSORTx_screfsamplemodified_inferred_phenoclasses.txt\n",
      "│   ├── [ 16M]  CIBERSORTx_screfsamplemodified_inferred_refsample.txt\n",
      "│   └── [   0]  \u001b[01;34min\u001b[00m\n",
      "│       ├── [6.0M]  mixturestirosh.txt\n",
      "│       └── [ 88M]  screfsamplemodified.txt\n",
      "├── [   0]  \u001b[01;34mnormal\u001b[00m\n",
      "│   ├── [4.3K]  CIBERSORTx_Adjusted.txt\n",
      "│   ├── [988K]  CIBERSORTx_Mixtures_Adjusted.txt\n",
      "│   ├── [3.8M]  CIBERSORTx_cell_type_sourceGEP.txt\n",
      "│   ├── [172K]  CIBERSORTx_screfsampletirosh_inferred_phenoclasses.CIBERSORTx_screfsampletirosh_inferred_refsample.bm.K999.pdf\n",
      "│   ├── [510K]  CIBERSORTx_screfsampletirosh_inferred_phenoclasses.CIBERSORTx_screfsampletirosh_inferred_refsample.bm.K999.txt\n",
      "│   ├── [ 725]  CIBERSORTx_screfsampletirosh_inferred_phenoclasses.txt\n",
      "│   ├── [ 18M]  CIBERSORTx_screfsampletirosh_inferred_refsample.txt\n",
      "│   └── [   0]  \u001b[01;34min\u001b[00m\n",
      "│       ├── [6.0M]  mixturestirosh.txt\n",
      "│       └── [ 88M]  screfsampletirosh.txt\n",
      "└── [ 88M]  screfsamplemodified.txt\n",
      "\n",
      "4 directories, 19 files\n"
     ]
    }
   ],
   "source": [
    "thing = os.path.dirname(modified_sc_refsample.source_local_path)\n",
    "os.makedirs(thing, exist_ok=True)\n",
    "!tree -h {thing}"
   ]
  },
  {
   "cell_type": "code",
   "execution_count": 8,
   "id": "281c95c2-2e76-4110-833b-c49a15e63c47",
   "metadata": {},
   "outputs": [
    {
     "name": "stdout",
     "output_type": "stream",
     "text": [
      "replacing 0 occurences of T.CD8 with Lymphocytes\n",
      "replacing 114 occurences of T cells CD8 with Lymphocytes\n",
      "replacing 0 occurences of T.CD4 with Lymphocytes\n",
      "replacing 209 occurences of T cells CD4 with Lymphocytes\n",
      "replacing 0 occurences of B.cell with Lymphocytes\n",
      "replacing 65 occurences of B cells with Lymphocytes\n",
      "replacing 13 occurences of NK cells with Lymphocytes\n"
     ]
    }
   ],
   "source": [
    "with open(original_sc_refsample.source_local_path, \"r\") as original:\n",
    "    header = original.readline()\n",
    "    for cell_type in cell_types_to_combine:\n",
    "        for weird_name in nice_to_weirds[cell_type]:\n",
    "            print(\n",
    "                \"replacing\",\n",
    "                header.count(weird_name),\n",
    "                \"occurences of\",\n",
    "                weird_name,\n",
    "                \"with\",\n",
    "                combined_type,\n",
    "            )\n",
    "            header = header.replace(weird_name, combined_type)\n",
    "    with open(modified_sc_refsample.source_local_path, \"w\") as modified:\n",
    "        modified.write(header)\n",
    "        shutil.copyfileobj(original, modified)"
   ]
  },
  {
   "cell_type": "markdown",
   "id": "2e1eda6f-a029-444c-b764-ab29b08c9d98",
   "metadata": {},
   "source": [
    "#### check modified sc refsample..."
   ]
  },
  {
   "cell_type": "code",
   "execution_count": 9,
   "id": "46f99e86-ed75-4e73-8121-e9271ee02293",
   "metadata": {},
   "outputs": [],
   "source": [
    "df_original = pd.read_csv(original_sc_refsample.source_uri, sep=\"\\t\", index_col=0)\n",
    "df_modified = pd.read_csv(\n",
    "    modified_sc_refsample.source_local_path, sep=\"\\t\", index_col=0\n",
    ")"
   ]
  },
  {
   "cell_type": "code",
   "execution_count": 10,
   "id": "d3cd2ba6-5552-4618-8ee7-6cf0090204f8",
   "metadata": {},
   "outputs": [],
   "source": [
    "def get_unique_counts(cols):\n",
    "    dictionary = {}\n",
    "    for item in [col.split(\".\")[0] for col in cols]:\n",
    "        dictionary[item] = dictionary.get(item, 0) + 1\n",
    "    return dictionary"
   ]
  },
  {
   "cell_type": "code",
   "execution_count": 11,
   "id": "ddfa6067-5851-4976-9115-532029bbb45c",
   "metadata": {},
   "outputs": [
    {
     "data": {
      "text/plain": [
       "{'Malignant': 242,\n",
       " 'Endothelial cells': 29,\n",
       " 'CAF': 25,\n",
       " 'T cells CD8': 114,\n",
       " 'NK cells': 13,\n",
       " 'Macrophages': 40,\n",
       " 'T cells CD4': 209,\n",
       " 'B cells': 65}"
      ]
     },
     "execution_count": 11,
     "metadata": {},
     "output_type": "execute_result"
    }
   ],
   "source": [
    "get_unique_counts(df_original.columns)"
   ]
  },
  {
   "cell_type": "code",
   "execution_count": 12,
   "id": "95948e65-eaf6-44ec-8d12-74b573005d92",
   "metadata": {},
   "outputs": [
    {
     "data": {
      "text/plain": [
       "{'Malignant': 242,\n",
       " 'Endothelial cells': 29,\n",
       " 'CAF': 25,\n",
       " 'Lymphocytes': 401,\n",
       " 'Macrophages': 40}"
      ]
     },
     "execution_count": 12,
     "metadata": {},
     "output_type": "execute_result"
    }
   ],
   "source": [
    "get_unique_counts(df_modified.columns)"
   ]
  },
  {
   "cell_type": "markdown",
   "id": "87c7dad2-68d2-4471-8229-1c848db225da",
   "metadata": {},
   "source": [
    "## configure args"
   ]
  },
  {
   "cell_type": "code",
   "execution_count": 13,
   "id": "4f54ffc5-b40d-4669-b56a-937d4809b85f",
   "metadata": {},
   "outputs": [],
   "source": [
    "input_file_args = {\n",
    "    \"mixture\": InputFile(\n",
    "        \"mixturestirosh.txt\",\n",
    "        \"gs://liulab/csx_example_files/Single_Cell_RNA-Seq_Melanoma_SuppFig_3b-d/mixture_melanoma_Tirosh_SuppFig_3b-d.txt\",\n",
    "    ),\n",
    "    #     \"refsample\": original_sc_refsample,\n",
    "    \"refsample\": modified_sc_refsample,\n",
    "}"
   ]
  },
  {
   "cell_type": "code",
   "execution_count": 14,
   "id": "5b4c405f-1555-4138-bd1c-292c28c9bbde",
   "metadata": {},
   "outputs": [],
   "source": [
    "other_args = {\n",
    "    \"rmbatchBmode\": \"TRUE\",\n",
    "    \"single_cell\": \"TRUE\",\n",
    "}"
   ]
  },
  {
   "cell_type": "markdown",
   "id": "dfb91434-9d38-4942-a007-d3fd7228bef1",
   "metadata": {},
   "source": [
    "## configure and run cibersortx"
   ]
  },
  {
   "cell_type": "code",
   "execution_count": 15,
   "id": "540e0354-85e3-434a-8258-81660a2c9fd9",
   "metadata": {},
   "outputs": [
    {
     "name": "stdout",
     "output_type": "stream",
     "text": [
      "Copying gs://liulab/csx_example_files/Single_Cell_RNA-Seq_Melanoma_SuppFig_3b-d/mixture_melanoma_Tirosh_SuppFig_3b-d.txt...\n",
      "/ [1 files][  6.0 MiB/  6.0 MiB]                                                \n",
      "Operation completed over 1 objects/6.0 MiB.                                      \n",
      "Copying gs://liulab/csx_experiments/cell_type_grouping/screfsamplemodified.txt...\n",
      "- [1 files][ 87.8 MiB/ 87.8 MiB]                                                \n",
      "Operation completed over 1 objects/87.8 MiB.                                     \n",
      "\u001b[01;34m/tmp/tmp1u67flvu\u001b[00m\n",
      "└── [4.0K]  \u001b[01;34min\u001b[00m\n",
      "    ├── [6.0M]  mixturestirosh.txt\n",
      "    └── [ 88M]  screfsamplemodified.txt\n",
      "\n",
      "1 directory, 2 files\n",
      "docker run \\\n",
      "    --rm \\\n",
      "    -v /tmp/tmp1u67flvu/in:/src/data \\\n",
      "    -v /tmp/tmp1u67flvu:/src/outdir \\\n",
      "    --user \"$(id -u):$(id -g)\" \\\n",
      "    cibersortx/fractions:latest \\\n",
      "    --username lyronctk@stanford.edu \\\n",
      "    --token dfeba2c8b9d61daebee5fa87026b8e56 \\\n",
      "    --replicates 5 \\\n",
      "    --sampling 0.5 \\\n",
      "    --fraction 0.75 \\\n",
      "    --k.max 999 \\\n",
      "    --q.value 0.01 \\\n",
      "    --G.min 300 \\\n",
      "    --G.max 500 \\\n",
      "    --filter FALSE \\\n",
      "    --QN FALSE \\\n",
      "    --mixture mixturestirosh.txt \\\n",
      "    --refsample screfsamplemodified.txt \\\n",
      "    --rmbatchBmode TRUE \\\n",
      "    --single_cell TRUE \\\n",
      "    --verbose TRUE\n",
      ">Running CIBERSORTxFractions...\n",
      ">[Options] username: lyronctk@stanford.edu\n",
      ">[Options] token: dfeba2c8b9d61daebee5fa87026b8e56\n",
      ">[Options] replicates: 5\n",
      ">[Options] sampling: 0.5\n",
      ">[Options] fraction: 0.75\n",
      ">[Options] k.max: 999\n",
      ">[Options] q.value: 0.01\n",
      ">[Options] G.min: 300\n",
      ">[Options] G.max: 500\n",
      ">[Options] filter: FALSE\n",
      ">[Options] QN: FALSE\n",
      ">[Options] mixture: mixturestirosh.txt\n",
      ">[Options] refsample: screfsamplemodified.txt\n",
      ">[Options] rmbatchBmode: TRUE\n",
      ">[Options] single_cell: TRUE\n",
      ">[Options] verbose: TRUE\n",
      ">Making reference sample file.\n",
      ">Making phenotype class file.\n",
      ">==========Signature Matrix Settings============\n",
      ">Pure samples file: /src/outdir//CIBERSORTx_screfsamplemodified_inferred_refsample.txt\n",
      ">Phenotype classes file: /src/outdir//CIBERSORTx_screfsamplemodified_inferred_phenoclasses.txt\n",
      ">Minimum number of DEGs to consider from each phenotype for signature matrix set to: 300\n",
      ">Maximum number of DEGs to consider from each phenotype for signature matrix set to: 500\n",
      ">Q-value for signature matrix construction set to: 0.01\n",
      ">Quantile normalization of input samples is disabled\n",
      ">===============================================\n",
      ">C++14\n",
      ">Loaded 25 columns and 23684 rows\n",
      ">=============Make Signature Matrix=============\n",
      ">Maximum condition number (kappa):999\n",
      ">41508 DEG expressed across 5 samples were identified\n",
      ">Group size: 336, Kappa: 4.74030621920234\n",
      ">Best kappa: 4.74030621920234 \n",
      ">SVD UpperRightDiag: 46272.6\n",
      ">SVD LowerRightDiag: 9761.53\n",
      ">=============CIBERSORTx Settings===============\n",
      ">Mixture file: /src/data/mixturestirosh.txt\n",
      ">Signature matrix file: /src/outdir//CIBERSORTx_screfsamplemodified_inferred_phenoclasses.CIBERSORTx_screfsamplemodified_inferred_refsample.bm.K999.txt\n",
      ">Enable verbose output\n",
      ">Do B-mode batch correction\n",
      ">==================CIBERSORTx===================\n",
      ">Batch correction:.\n",
      "Read 1610 items\n",
      ">Run CIBERSORTx on B-mode batch corrected mixtures.\n",
      ">=============CIBERSORTx Settings===============\n",
      ">Mixture file: /src/outdir//CIBERSORTx_Mixtures_Adjusted.txt\n",
      ">Signature matrix file: /src/outdir//CIBERSORTx_screfsamplemodified_inferred_phenoclasses.CIBERSORTx_screfsamplemodified_inferred_refsample.bm.K999.txt\n",
      ">Enable verbose output\n",
      ">==================CIBERSORTx===================\n",
      "column Malignant Endothelial cells CAF Lymphocytes Macrophages P-value Correlation RMSE %Completed\n",
      "1 0.0166509 0.0098138 0.0406304 0.853234 0.0796704 9999 0.860044 5.26316\n",
      "2 0 0 0 0.993033 0.00696697 9999 0.931806 10.5263\n",
      "3 0.596091 3.68084e-05 0.349289 0.00102291 0.0535601 9999 0.814168 15.7895\n",
      "4 0.0290958 0 0 0.854767 0.116137 9999 0.908438 21.0526\n",
      "5 0.0722748 0.000210668 0 0.902815 0.0246993 9999 0.914262 26.3158\n",
      "6 0 0 0 0.975498 0.0245024 9999 0.931451 31.5789\n",
      "7 0.431836 0 0 0.544887 0.0232774 9999 0.853784 36.8421\n",
      "8 0 0.00109642 0.00218432 0.959085 0.0376346 9999 0.871163 42.1053\n",
      "9 0 0 0 0.956241 0.0437586 9999 0.931545 47.3684\n",
      "10 0.00539981 0 0 0.98933 0.00527019 9999 0.883184 52.6316\n",
      "11 0.986481 2.18252e-05 0.00231848 0.0105102 0.000668634 9999 0.881147 57.8947\n",
      "12 0.532815 0.00806188 0.000791798 0.438075 0.0202563 9999 0.917567 63.1579\n",
      "13 0.297375 0.0584174 0.040049 0.599101 0.00505792 9999 0.986469 68.4211\n",
      "14 0.219455 0.00250706 0.0148809 0.757227 0.00593004 9999 0.687428 73.6842\n",
      "15 0.241519 0.00516706 0.0639246 0.62814 0.0612492 9999 0.66284 78.9474\n",
      "16 0.0696482 0.00162644 0.00840241 0.769676 0.150647 9999 0.96506 84.2105\n",
      "17 0.377937 0 0.0117502 0.465184 0.145128 9999 0.895111 89.4737\n",
      "18 0.177058 5.10411e-05 0 0.723384 0.0995071 9999 0.94377 94.7368\n",
      "19 0.0393636 0.0723742 0.0459543 0.754285 0.0880228 9999 0.870096 100\n",
      "\u001b[01;34m/tmp/tmp1u67flvu\u001b[00m\n",
      "├── [3.2K]  CIBERSORTx_Adjusted.txt\n",
      "├── [516K]  CIBERSORTx_Mixtures_Adjusted.txt\n",
      "├── [2.5M]  CIBERSORTx_cell_type_sourceGEP.txt\n",
      "├── [ 67K]  CIBERSORTx_screfsamplemodified_inferred_phenoclasses.CIBERSORTx_screfsamplemodified_inferred_refsample.bm.K999.pdf\n",
      "├── [171K]  CIBERSORTx_screfsamplemodified_inferred_phenoclasses.CIBERSORTx_screfsamplemodified_inferred_refsample.bm.K999.txt\n",
      "├── [ 306]  CIBERSORTx_screfsamplemodified_inferred_phenoclasses.txt\n",
      "├── [ 12M]  CIBERSORTx_screfsamplemodified_inferred_refsample.txt\n",
      "└── [4.0K]  \u001b[01;34min\u001b[00m\n",
      "    ├── [6.0M]  mixturestirosh.txt\n",
      "    └── [ 88M]  screfsamplemodified.txt\n",
      "\n",
      "1 directory, 9 files\n",
      "Building synchronization state...\n",
      "Starting synchronization...\n",
      "Copying file:///tmp/tmp1u67flvu/CIBERSORTx_Adjusted.txt [Content-Type=text/plain]...\n",
      "Copying file:///tmp/tmp1u67flvu/CIBERSORTx_Mixtures_Adjusted.txt [Content-Type=text/plain]...\n",
      "Copying file:///tmp/tmp1u67flvu/CIBERSORTx_cell_type_sourceGEP.txt [Content-Type=text/plain]...\n",
      "Copying file:///tmp/tmp1u67flvu/CIBERSORTx_screfsamplemodified_inferred_phenoclasses.txt [Content-Type=text/plain]...\n",
      "Copying file:///tmp/tmp1u67flvu/CIBERSORTx_screfsamplemodified_inferred_refsample.txt [Content-Type=text/plain]...\n",
      "Copying file:///tmp/tmp1u67flvu/in/mixturestirosh.txt [Content-Type=text/plain]...\n",
      "Copying file:///tmp/tmp1u67flvu/CIBERSORTx_screfsamplemodified_inferred_phenoclasses.CIBERSORTx_screfsamplemodified_inferred_refsample.bm.K999.txt [Content-Type=text/plain]...\n",
      "Copying file:///tmp/tmp1u67flvu/CIBERSORTx_screfsamplemodified_inferred_phenoclasses.CIBERSORTx_screfsamplemodified_inferred_refsample.bm.K999.pdf [Content-Type=application/pdf]...\n",
      "Copying file:///tmp/tmp1u67flvu/in/screfsamplemodified.txt [Content-Type=text/plain]...\n",
      "\\ [9/9 files][108.6 MiB/108.6 MiB] 100% Done                                    \n",
      "Operation completed over 9 objects/108.6 MiB.                                    \n",
      "\u001b[01;34m/mnt/buckets/liulab/csx_experiments/cell_type_grouping/combine_lymphocytes\u001b[00m\n",
      "├── [3.2K]  CIBERSORTx_Adjusted.txt\n",
      "├── [516K]  CIBERSORTx_Mixtures_Adjusted.txt\n",
      "├── [2.5M]  CIBERSORTx_cell_type_sourceGEP.txt\n",
      "├── [ 67K]  CIBERSORTx_screfsamplemodified_inferred_phenoclasses.CIBERSORTx_screfsamplemodified_inferred_refsample.bm.K999.pdf\n",
      "├── [171K]  CIBERSORTx_screfsamplemodified_inferred_phenoclasses.CIBERSORTx_screfsamplemodified_inferred_refsample.bm.K999.txt\n",
      "├── [ 306]  CIBERSORTx_screfsamplemodified_inferred_phenoclasses.txt\n",
      "├── [ 12M]  CIBERSORTx_screfsamplemodified_inferred_refsample.txt\n",
      "└── [   0]  \u001b[01;34min\u001b[00m\n",
      "    ├── [6.0M]  mixturestirosh.txt\n",
      "    └── [ 88M]  screfsamplemodified.txt\n",
      "\n",
      "1 directory, 9 files\n"
     ]
    }
   ],
   "source": [
    "with tempfile.TemporaryDirectory() as temp_dir:\n",
    "    job = DockerJob(temp_dir, input_file_args, other_args)\n",
    "    for copy_command in job.make_copy_commands():\n",
    "        !{copy_command}\n",
    "    !tree -h {job.path}\n",
    "    docker_command = job.make_docker_command()\n",
    "    print(docker_command)\n",
    "    !{docker_command}\n",
    "    !tree -h {job.path}\n",
    "    !gsutil -m rsync -r -d {job.path} {experiment.gcs_uri}"
   ]
  },
  {
   "cell_type": "code",
   "execution_count": 16,
   "id": "6c940219-dc5e-4988-a7aa-e6a3c8c1046a",
   "metadata": {},
   "outputs": [
    {
     "name": "stdout",
     "output_type": "stream",
     "text": [
      "\u001b[01;34m/mnt/buckets/liulab/csx_experiments/cell_type_grouping/combine_lymphocytes\u001b[00m\n",
      "├── [3.2K]  CIBERSORTx_Adjusted.txt\n",
      "├── [516K]  CIBERSORTx_Mixtures_Adjusted.txt\n",
      "├── [2.5M]  CIBERSORTx_cell_type_sourceGEP.txt\n",
      "├── [ 67K]  CIBERSORTx_screfsamplemodified_inferred_phenoclasses.CIBERSORTx_screfsamplemodified_inferred_refsample.bm.K999.pdf\n",
      "├── [171K]  CIBERSORTx_screfsamplemodified_inferred_phenoclasses.CIBERSORTx_screfsamplemodified_inferred_refsample.bm.K999.txt\n",
      "├── [ 306]  CIBERSORTx_screfsamplemodified_inferred_phenoclasses.txt\n",
      "├── [ 12M]  CIBERSORTx_screfsamplemodified_inferred_refsample.txt\n",
      "└── [   0]  \u001b[01;34min\u001b[00m\n",
      "    ├── [6.0M]  mixturestirosh.txt\n",
      "    └── [ 88M]  screfsamplemodified.txt\n",
      "\n",
      "1 directory, 9 files\n"
     ]
    }
   ],
   "source": [
    "!tree -h {experiment.local_path}"
   ]
  },
  {
   "cell_type": "code",
   "execution_count": 19,
   "id": "ccdb672e-822b-42a3-9894-70767058ae6b",
   "metadata": {},
   "outputs": [
    {
     "name": "stdout",
     "output_type": "stream",
     "text": [
      "gs://liulab/csx_experiments/cell_type_grouping/combine_lymphocytes/:\n",
      "gs://liulab/csx_experiments/cell_type_grouping/combine_lymphocytes/CIBERSORTx_Adjusted.txt\n",
      "gs://liulab/csx_experiments/cell_type_grouping/combine_lymphocytes/CIBERSORTx_Mixtures_Adjusted.txt\n",
      "gs://liulab/csx_experiments/cell_type_grouping/combine_lymphocytes/CIBERSORTx_cell_type_sourceGEP.txt\n",
      "gs://liulab/csx_experiments/cell_type_grouping/combine_lymphocytes/CIBERSORTx_screfsamplemodified_inferred_phenoclasses.CIBERSORTx_screfsamplemodified_inferred_refsample.bm.K999.pdf\n",
      "gs://liulab/csx_experiments/cell_type_grouping/combine_lymphocytes/CIBERSORTx_screfsamplemodified_inferred_phenoclasses.CIBERSORTx_screfsamplemodified_inferred_refsample.bm.K999.txt\n",
      "gs://liulab/csx_experiments/cell_type_grouping/combine_lymphocytes/CIBERSORTx_screfsamplemodified_inferred_phenoclasses.txt\n",
      "gs://liulab/csx_experiments/cell_type_grouping/combine_lymphocytes/CIBERSORTx_screfsamplemodified_inferred_refsample.txt\n",
      "\n",
      "gs://liulab/csx_experiments/cell_type_grouping/combine_lymphocytes/in/:\n",
      "gs://liulab/csx_experiments/cell_type_grouping/combine_lymphocytes/in/mixturestirosh.txt\n",
      "gs://liulab/csx_experiments/cell_type_grouping/combine_lymphocytes/in/screfsamplemodified.txt\n"
     ]
    }
   ],
   "source": [
    "!gsutil ls -R {experiment.gcs_uri}"
   ]
  },
  {
   "cell_type": "code",
   "execution_count": null,
   "id": "fef9ba45-6a57-484c-9dac-9a388df8c25e",
   "metadata": {},
   "outputs": [],
   "source": []
  }
 ],
 "metadata": {
  "environment": {
   "name": "tf2-gpu.2-5.m74",
   "type": "gcloud",
   "uri": "gcr.io/deeplearning-platform-release/tf2-gpu.2-5:m74"
  },
  "kernelspec": {
   "display_name": "Python 3",
   "language": "python",
   "name": "python3"
  },
  "language_info": {
   "codemirror_mode": {
    "name": "ipython",
    "version": 3
   },
   "file_extension": ".py",
   "mimetype": "text/x-python",
   "name": "python",
   "nbconvert_exporter": "python",
   "pygments_lexer": "ipython3",
   "version": "3.7.10"
  }
 },
 "nbformat": 4,
 "nbformat_minor": 5
}
