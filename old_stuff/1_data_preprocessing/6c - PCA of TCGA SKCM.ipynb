{
 "cells": [
  {
   "cell_type": "code",
   "execution_count": 1,
   "id": "ed0c82b7-d842-4157-bfb9-f923cce44f22",
   "metadata": {
    "execution": {
     "iopub.execute_input": "2022-03-20T23:48:15.434727Z",
     "iopub.status.busy": "2022-03-20T23:48:15.434381Z",
     "iopub.status.idle": "2022-03-20T23:48:15.439886Z",
     "shell.execute_reply": "2022-03-20T23:48:15.439157Z",
     "shell.execute_reply.started": "2022-03-20T23:48:15.434667Z"
    },
    "tags": []
   },
   "outputs": [],
   "source": [
    "import numpy as np\n",
    "import pandas as pd"
   ]
  },
  {
   "cell_type": "code",
   "execution_count": 2,
   "id": "c6f703f1-a726-4c1f-8225-532b19b14d15",
   "metadata": {
    "execution": {
     "iopub.execute_input": "2022-03-20T23:48:15.691037Z",
     "iopub.status.busy": "2022-03-20T23:48:15.690834Z",
     "iopub.status.idle": "2022-03-20T23:48:15.695331Z",
     "shell.execute_reply": "2022-03-20T23:48:15.694915Z",
     "shell.execute_reply.started": "2022-03-20T23:48:15.691018Z"
    },
    "tags": []
   },
   "outputs": [],
   "source": [
    "import helpers"
   ]
  },
  {
   "cell_type": "code",
   "execution_count": 3,
   "id": "191fdb6c-5428-428c-b783-21a2c143469f",
   "metadata": {
    "execution": {
     "iopub.execute_input": "2022-03-20T23:48:16.167595Z",
     "iopub.status.busy": "2022-03-20T23:48:16.167308Z",
     "iopub.status.idle": "2022-03-20T23:48:16.579247Z",
     "shell.execute_reply": "2022-03-20T23:48:16.578713Z",
     "shell.execute_reply.started": "2022-03-20T23:48:16.167571Z"
    },
    "tags": []
   },
   "outputs": [],
   "source": [
    "import plotly.express as px\n",
    "import plotly.figure_factory as ff\n",
    "import plotly.graph_objects as go\n",
    "import plotly.io\n",
    "\n",
    "plotly.io.renderers.default = \"jupyterlab+png\""
   ]
  },
  {
   "cell_type": "code",
   "execution_count": 4,
   "id": "bed689c5-9a43-480f-8edc-b56e62355cfd",
   "metadata": {
    "execution": {
     "iopub.execute_input": "2022-03-20T23:48:31.248951Z",
     "iopub.status.busy": "2022-03-20T23:48:31.248642Z",
     "iopub.status.idle": "2022-03-20T23:48:37.727460Z",
     "shell.execute_reply": "2022-03-20T23:48:37.726884Z",
     "shell.execute_reply.started": "2022-03-20T23:48:31.248923Z"
    },
    "tags": []
   },
   "outputs": [
    {
     "data": {
      "text/html": [
       "<div>\n",
       "<style scoped>\n",
       "    .dataframe tbody tr th:only-of-type {\n",
       "        vertical-align: middle;\n",
       "    }\n",
       "\n",
       "    .dataframe tbody tr th {\n",
       "        vertical-align: top;\n",
       "    }\n",
       "\n",
       "    .dataframe thead th {\n",
       "        text-align: right;\n",
       "    }\n",
       "</style>\n",
       "<table border=\"1\" class=\"dataframe\">\n",
       "  <thead>\n",
       "    <tr style=\"text-align: right;\">\n",
       "      <th>sample_id</th>\n",
       "      <th>TCGA-3N-A9WB-06A-11R-A38C-07</th>\n",
       "      <th>TCGA-3N-A9WC-06A-11R-A38C-07</th>\n",
       "      <th>TCGA-3N-A9WD-06A-11R-A38C-07</th>\n",
       "      <th>TCGA-BF-A1PU-01A-11R-A18S-07</th>\n",
       "      <th>TCGA-BF-A1PV-01A-11R-A18U-07</th>\n",
       "      <th>TCGA-BF-A1PX-01A-12R-A18T-07</th>\n",
       "      <th>TCGA-BF-A1PZ-01A-11R-A18S-07</th>\n",
       "      <th>TCGA-BF-A1Q0-01A-21R-A18S-07</th>\n",
       "      <th>TCGA-BF-A3DJ-01A-11R-A20F-07</th>\n",
       "      <th>TCGA-BF-A3DL-01A-11R-A20F-07</th>\n",
       "      <th>...</th>\n",
       "      <th>TCGA-XV-AB01-06A-12R-A40A-07</th>\n",
       "      <th>TCGA-YD-A89C-06A-11R-A37K-07</th>\n",
       "      <th>TCGA-YD-A9TA-06A-11R-A39D-07</th>\n",
       "      <th>TCGA-YD-A9TB-06A-12R-A40A-07</th>\n",
       "      <th>TCGA-YG-AA3N-01A-11R-A38C-07</th>\n",
       "      <th>TCGA-YG-AA3O-06A-11R-A38C-07</th>\n",
       "      <th>TCGA-YG-AA3P-06A-11R-A38C-07</th>\n",
       "      <th>TCGA-Z2-A8RT-06A-11R-A37K-07</th>\n",
       "      <th>TCGA-Z2-AA3S-06A-11R-A39D-07</th>\n",
       "      <th>TCGA-Z2-AA3V-06A-11R-A39D-07</th>\n",
       "    </tr>\n",
       "    <tr>\n",
       "      <th>gene_symbol</th>\n",
       "      <th></th>\n",
       "      <th></th>\n",
       "      <th></th>\n",
       "      <th></th>\n",
       "      <th></th>\n",
       "      <th></th>\n",
       "      <th></th>\n",
       "      <th></th>\n",
       "      <th></th>\n",
       "      <th></th>\n",
       "      <th></th>\n",
       "      <th></th>\n",
       "      <th></th>\n",
       "      <th></th>\n",
       "      <th></th>\n",
       "      <th></th>\n",
       "      <th></th>\n",
       "      <th></th>\n",
       "      <th></th>\n",
       "      <th></th>\n",
       "      <th></th>\n",
       "    </tr>\n",
       "  </thead>\n",
       "  <tbody>\n",
       "    <tr>\n",
       "      <th>A1BG</th>\n",
       "      <td>381.0662</td>\n",
       "      <td>195.1822</td>\n",
       "      <td>360.8794</td>\n",
       "      <td>176.3994</td>\n",
       "      <td>216.8470</td>\n",
       "      <td>285.0608</td>\n",
       "      <td>424.5848</td>\n",
       "      <td>327.8758</td>\n",
       "      <td>232.2936</td>\n",
       "      <td>380.7694</td>\n",
       "      <td>...</td>\n",
       "      <td>428.9256</td>\n",
       "      <td>184.5297</td>\n",
       "      <td>88.4289</td>\n",
       "      <td>264.5184</td>\n",
       "      <td>238.8846</td>\n",
       "      <td>207.9831</td>\n",
       "      <td>33.5642</td>\n",
       "      <td>336.4070</td>\n",
       "      <td>349.4478</td>\n",
       "      <td>717.2209</td>\n",
       "    </tr>\n",
       "    <tr>\n",
       "      <th>A1CF</th>\n",
       "      <td>0.0000</td>\n",
       "      <td>0.0000</td>\n",
       "      <td>0.7092</td>\n",
       "      <td>0.0000</td>\n",
       "      <td>0.0000</td>\n",
       "      <td>0.0000</td>\n",
       "      <td>0.0000</td>\n",
       "      <td>0.0000</td>\n",
       "      <td>0.0000</td>\n",
       "      <td>0.0000</td>\n",
       "      <td>...</td>\n",
       "      <td>0.0000</td>\n",
       "      <td>0.0000</td>\n",
       "      <td>1.3482</td>\n",
       "      <td>0.0000</td>\n",
       "      <td>0.0000</td>\n",
       "      <td>0.0000</td>\n",
       "      <td>0.0000</td>\n",
       "      <td>0.3876</td>\n",
       "      <td>0.0000</td>\n",
       "      <td>0.0000</td>\n",
       "    </tr>\n",
       "    <tr>\n",
       "      <th>A2BP1</th>\n",
       "      <td>0.0000</td>\n",
       "      <td>0.0000</td>\n",
       "      <td>6.3830</td>\n",
       "      <td>1.2987</td>\n",
       "      <td>0.0000</td>\n",
       "      <td>0.0000</td>\n",
       "      <td>0.0000</td>\n",
       "      <td>0.0000</td>\n",
       "      <td>0.0000</td>\n",
       "      <td>0.4901</td>\n",
       "      <td>...</td>\n",
       "      <td>0.0000</td>\n",
       "      <td>0.0000</td>\n",
       "      <td>0.0000</td>\n",
       "      <td>0.0000</td>\n",
       "      <td>0.5522</td>\n",
       "      <td>0.3380</td>\n",
       "      <td>66.0629</td>\n",
       "      <td>0.0000</td>\n",
       "      <td>0.2880</td>\n",
       "      <td>0.6539</td>\n",
       "    </tr>\n",
       "    <tr>\n",
       "      <th>A2LD1</th>\n",
       "      <td>250.1979</td>\n",
       "      <td>160.7548</td>\n",
       "      <td>97.1986</td>\n",
       "      <td>163.2338</td>\n",
       "      <td>60.8727</td>\n",
       "      <td>125.6900</td>\n",
       "      <td>78.8939</td>\n",
       "      <td>67.7049</td>\n",
       "      <td>92.9554</td>\n",
       "      <td>99.8579</td>\n",
       "      <td>...</td>\n",
       "      <td>47.5207</td>\n",
       "      <td>102.4404</td>\n",
       "      <td>36.9476</td>\n",
       "      <td>146.3544</td>\n",
       "      <td>88.2441</td>\n",
       "      <td>86.2831</td>\n",
       "      <td>50.0426</td>\n",
       "      <td>37.3178</td>\n",
       "      <td>152.9786</td>\n",
       "      <td>50.7438</td>\n",
       "    </tr>\n",
       "    <tr>\n",
       "      <th>A2M</th>\n",
       "      <td>2209.5194</td>\n",
       "      <td>169236.6356</td>\n",
       "      <td>18257.8865</td>\n",
       "      <td>6716.4513</td>\n",
       "      <td>1740.5828</td>\n",
       "      <td>32098.0014</td>\n",
       "      <td>3218.6418</td>\n",
       "      <td>6468.7807</td>\n",
       "      <td>377755.5402</td>\n",
       "      <td>7726.0377</td>\n",
       "      <td>...</td>\n",
       "      <td>17450.3581</td>\n",
       "      <td>20639.7659</td>\n",
       "      <td>12397.0606</td>\n",
       "      <td>25477.7594</td>\n",
       "      <td>10300.9056</td>\n",
       "      <td>37319.7533</td>\n",
       "      <td>8217.0591</td>\n",
       "      <td>22129.9496</td>\n",
       "      <td>4040.2938</td>\n",
       "      <td>46111.4664</td>\n",
       "    </tr>\n",
       "    <tr>\n",
       "      <th>...</th>\n",
       "      <td>...</td>\n",
       "      <td>...</td>\n",
       "      <td>...</td>\n",
       "      <td>...</td>\n",
       "      <td>...</td>\n",
       "      <td>...</td>\n",
       "      <td>...</td>\n",
       "      <td>...</td>\n",
       "      <td>...</td>\n",
       "      <td>...</td>\n",
       "      <td>...</td>\n",
       "      <td>...</td>\n",
       "      <td>...</td>\n",
       "      <td>...</td>\n",
       "      <td>...</td>\n",
       "      <td>...</td>\n",
       "      <td>...</td>\n",
       "      <td>...</td>\n",
       "      <td>...</td>\n",
       "      <td>...</td>\n",
       "      <td>...</td>\n",
       "    </tr>\n",
       "    <tr>\n",
       "      <th>ZYX</th>\n",
       "      <td>1236.2682</td>\n",
       "      <td>3594.4996</td>\n",
       "      <td>3270.2128</td>\n",
       "      <td>5132.1429</td>\n",
       "      <td>5128.2128</td>\n",
       "      <td>4675.7039</td>\n",
       "      <td>3177.7557</td>\n",
       "      <td>10974.0171</td>\n",
       "      <td>3042.2195</td>\n",
       "      <td>7198.7258</td>\n",
       "      <td>...</td>\n",
       "      <td>11526.1708</td>\n",
       "      <td>5296.0555</td>\n",
       "      <td>3701.5035</td>\n",
       "      <td>3021.2879</td>\n",
       "      <td>10181.1154</td>\n",
       "      <td>3125.3063</td>\n",
       "      <td>1925.4129</td>\n",
       "      <td>2865.1163</td>\n",
       "      <td>2136.9429</td>\n",
       "      <td>11832.5977</td>\n",
       "    </tr>\n",
       "    <tr>\n",
       "      <th>ZZEF1</th>\n",
       "      <td>622.7787</td>\n",
       "      <td>883.6696</td>\n",
       "      <td>1105.6738</td>\n",
       "      <td>1796.1039</td>\n",
       "      <td>1097.4298</td>\n",
       "      <td>1398.3316</td>\n",
       "      <td>1648.7663</td>\n",
       "      <td>1287.7062</td>\n",
       "      <td>1335.5161</td>\n",
       "      <td>1472.6783</td>\n",
       "      <td>...</td>\n",
       "      <td>1464.1873</td>\n",
       "      <td>852.6225</td>\n",
       "      <td>1245.0696</td>\n",
       "      <td>1078.7653</td>\n",
       "      <td>2362.7830</td>\n",
       "      <td>2671.3984</td>\n",
       "      <td>1480.5541</td>\n",
       "      <td>1849.6124</td>\n",
       "      <td>1640.4349</td>\n",
       "      <td>1413.1110</td>\n",
       "    </tr>\n",
       "    <tr>\n",
       "      <th>ZZZ3</th>\n",
       "      <td>721.3247</td>\n",
       "      <td>1137.8099</td>\n",
       "      <td>769.5035</td>\n",
       "      <td>286.0390</td>\n",
       "      <td>1658.9958</td>\n",
       "      <td>521.0288</td>\n",
       "      <td>651.4399</td>\n",
       "      <td>858.2361</td>\n",
       "      <td>962.2609</td>\n",
       "      <td>300.9066</td>\n",
       "      <td>...</td>\n",
       "      <td>224.5179</td>\n",
       "      <td>743.3897</td>\n",
       "      <td>958.9125</td>\n",
       "      <td>741.8840</td>\n",
       "      <td>1066.8139</td>\n",
       "      <td>940.5999</td>\n",
       "      <td>1003.7294</td>\n",
       "      <td>454.2636</td>\n",
       "      <td>1452.3724</td>\n",
       "      <td>102.0108</td>\n",
       "    </tr>\n",
       "    <tr>\n",
       "      <th>psiTPTE22</th>\n",
       "      <td>2.8271</td>\n",
       "      <td>4.8178</td>\n",
       "      <td>197.1631</td>\n",
       "      <td>2.5974</td>\n",
       "      <td>1.7932</td>\n",
       "      <td>328.4672</td>\n",
       "      <td>0.9167</td>\n",
       "      <td>5.6324</td>\n",
       "      <td>4.8251</td>\n",
       "      <td>7.3511</td>\n",
       "      <td>...</td>\n",
       "      <td>20.6612</td>\n",
       "      <td>0.8669</td>\n",
       "      <td>4.3817</td>\n",
       "      <td>5.3220</td>\n",
       "      <td>19.8785</td>\n",
       "      <td>3.7178</td>\n",
       "      <td>11.1881</td>\n",
       "      <td>5.4264</td>\n",
       "      <td>3.1680</td>\n",
       "      <td>32.0419</td>\n",
       "    </tr>\n",
       "    <tr>\n",
       "      <th>tAKR</th>\n",
       "      <td>0.0000</td>\n",
       "      <td>0.4015</td>\n",
       "      <td>0.0000</td>\n",
       "      <td>0.0000</td>\n",
       "      <td>0.0000</td>\n",
       "      <td>0.0000</td>\n",
       "      <td>0.0000</td>\n",
       "      <td>0.0000</td>\n",
       "      <td>0.3446</td>\n",
       "      <td>0.0000</td>\n",
       "      <td>...</td>\n",
       "      <td>0.0000</td>\n",
       "      <td>0.0000</td>\n",
       "      <td>0.3371</td>\n",
       "      <td>0.0000</td>\n",
       "      <td>0.0000</td>\n",
       "      <td>0.0000</td>\n",
       "      <td>0.0000</td>\n",
       "      <td>0.0000</td>\n",
       "      <td>0.2880</td>\n",
       "      <td>0.0000</td>\n",
       "    </tr>\n",
       "  </tbody>\n",
       "</table>\n",
       "<p>20531 rows × 473 columns</p>\n",
       "</div>"
      ],
      "text/plain": [
       "sample_id    TCGA-3N-A9WB-06A-11R-A38C-07  TCGA-3N-A9WC-06A-11R-A38C-07  \\\n",
       "gene_symbol                                                               \n",
       "A1BG                             381.0662                      195.1822   \n",
       "A1CF                               0.0000                        0.0000   \n",
       "A2BP1                              0.0000                        0.0000   \n",
       "A2LD1                            250.1979                      160.7548   \n",
       "A2M                             2209.5194                   169236.6356   \n",
       "...                                   ...                           ...   \n",
       "ZYX                             1236.2682                     3594.4996   \n",
       "ZZEF1                            622.7787                      883.6696   \n",
       "ZZZ3                             721.3247                     1137.8099   \n",
       "psiTPTE22                          2.8271                        4.8178   \n",
       "tAKR                               0.0000                        0.4015   \n",
       "\n",
       "sample_id    TCGA-3N-A9WD-06A-11R-A38C-07  TCGA-BF-A1PU-01A-11R-A18S-07  \\\n",
       "gene_symbol                                                               \n",
       "A1BG                             360.8794                      176.3994   \n",
       "A1CF                               0.7092                        0.0000   \n",
       "A2BP1                              6.3830                        1.2987   \n",
       "A2LD1                             97.1986                      163.2338   \n",
       "A2M                            18257.8865                     6716.4513   \n",
       "...                                   ...                           ...   \n",
       "ZYX                             3270.2128                     5132.1429   \n",
       "ZZEF1                           1105.6738                     1796.1039   \n",
       "ZZZ3                             769.5035                      286.0390   \n",
       "psiTPTE22                        197.1631                        2.5974   \n",
       "tAKR                               0.0000                        0.0000   \n",
       "\n",
       "sample_id    TCGA-BF-A1PV-01A-11R-A18U-07  TCGA-BF-A1PX-01A-12R-A18T-07  \\\n",
       "gene_symbol                                                               \n",
       "A1BG                             216.8470                      285.0608   \n",
       "A1CF                               0.0000                        0.0000   \n",
       "A2BP1                              0.0000                        0.0000   \n",
       "A2LD1                             60.8727                      125.6900   \n",
       "A2M                             1740.5828                    32098.0014   \n",
       "...                                   ...                           ...   \n",
       "ZYX                             5128.2128                     4675.7039   \n",
       "ZZEF1                           1097.4298                     1398.3316   \n",
       "ZZZ3                            1658.9958                      521.0288   \n",
       "psiTPTE22                          1.7932                      328.4672   \n",
       "tAKR                               0.0000                        0.0000   \n",
       "\n",
       "sample_id    TCGA-BF-A1PZ-01A-11R-A18S-07  TCGA-BF-A1Q0-01A-21R-A18S-07  \\\n",
       "gene_symbol                                                               \n",
       "A1BG                             424.5848                      327.8758   \n",
       "A1CF                               0.0000                        0.0000   \n",
       "A2BP1                              0.0000                        0.0000   \n",
       "A2LD1                             78.8939                       67.7049   \n",
       "A2M                             3218.6418                     6468.7807   \n",
       "...                                   ...                           ...   \n",
       "ZYX                             3177.7557                    10974.0171   \n",
       "ZZEF1                           1648.7663                     1287.7062   \n",
       "ZZZ3                             651.4399                      858.2361   \n",
       "psiTPTE22                          0.9167                        5.6324   \n",
       "tAKR                               0.0000                        0.0000   \n",
       "\n",
       "sample_id    TCGA-BF-A3DJ-01A-11R-A20F-07  TCGA-BF-A3DL-01A-11R-A20F-07  ...  \\\n",
       "gene_symbol                                                              ...   \n",
       "A1BG                             232.2936                      380.7694  ...   \n",
       "A1CF                               0.0000                        0.0000  ...   \n",
       "A2BP1                              0.0000                        0.4901  ...   \n",
       "A2LD1                             92.9554                       99.8579  ...   \n",
       "A2M                           377755.5402                     7726.0377  ...   \n",
       "...                                   ...                           ...  ...   \n",
       "ZYX                             3042.2195                     7198.7258  ...   \n",
       "ZZEF1                           1335.5161                     1472.6783  ...   \n",
       "ZZZ3                             962.2609                      300.9066  ...   \n",
       "psiTPTE22                          4.8251                        7.3511  ...   \n",
       "tAKR                               0.3446                        0.0000  ...   \n",
       "\n",
       "sample_id    TCGA-XV-AB01-06A-12R-A40A-07  TCGA-YD-A89C-06A-11R-A37K-07  \\\n",
       "gene_symbol                                                               \n",
       "A1BG                             428.9256                      184.5297   \n",
       "A1CF                               0.0000                        0.0000   \n",
       "A2BP1                              0.0000                        0.0000   \n",
       "A2LD1                             47.5207                      102.4404   \n",
       "A2M                            17450.3581                    20639.7659   \n",
       "...                                   ...                           ...   \n",
       "ZYX                            11526.1708                     5296.0555   \n",
       "ZZEF1                           1464.1873                      852.6225   \n",
       "ZZZ3                             224.5179                      743.3897   \n",
       "psiTPTE22                         20.6612                        0.8669   \n",
       "tAKR                               0.0000                        0.0000   \n",
       "\n",
       "sample_id    TCGA-YD-A9TA-06A-11R-A39D-07  TCGA-YD-A9TB-06A-12R-A40A-07  \\\n",
       "gene_symbol                                                               \n",
       "A1BG                              88.4289                      264.5184   \n",
       "A1CF                               1.3482                        0.0000   \n",
       "A2BP1                              0.0000                        0.0000   \n",
       "A2LD1                             36.9476                      146.3544   \n",
       "A2M                            12397.0606                    25477.7594   \n",
       "...                                   ...                           ...   \n",
       "ZYX                             3701.5035                     3021.2879   \n",
       "ZZEF1                           1245.0696                     1078.7653   \n",
       "ZZZ3                             958.9125                      741.8840   \n",
       "psiTPTE22                          4.3817                        5.3220   \n",
       "tAKR                               0.3371                        0.0000   \n",
       "\n",
       "sample_id    TCGA-YG-AA3N-01A-11R-A38C-07  TCGA-YG-AA3O-06A-11R-A38C-07  \\\n",
       "gene_symbol                                                               \n",
       "A1BG                             238.8846                      207.9831   \n",
       "A1CF                               0.0000                        0.0000   \n",
       "A2BP1                              0.5522                        0.3380   \n",
       "A2LD1                             88.2441                       86.2831   \n",
       "A2M                            10300.9056                    37319.7533   \n",
       "...                                   ...                           ...   \n",
       "ZYX                            10181.1154                     3125.3063   \n",
       "ZZEF1                           2362.7830                     2671.3984   \n",
       "ZZZ3                            1066.8139                      940.5999   \n",
       "psiTPTE22                         19.8785                        3.7178   \n",
       "tAKR                               0.0000                        0.0000   \n",
       "\n",
       "sample_id    TCGA-YG-AA3P-06A-11R-A38C-07  TCGA-Z2-A8RT-06A-11R-A37K-07  \\\n",
       "gene_symbol                                                               \n",
       "A1BG                              33.5642                      336.4070   \n",
       "A1CF                               0.0000                        0.3876   \n",
       "A2BP1                             66.0629                        0.0000   \n",
       "A2LD1                             50.0426                       37.3178   \n",
       "A2M                             8217.0591                    22129.9496   \n",
       "...                                   ...                           ...   \n",
       "ZYX                             1925.4129                     2865.1163   \n",
       "ZZEF1                           1480.5541                     1849.6124   \n",
       "ZZZ3                            1003.7294                      454.2636   \n",
       "psiTPTE22                         11.1881                        5.4264   \n",
       "tAKR                               0.0000                        0.0000   \n",
       "\n",
       "sample_id    TCGA-Z2-AA3S-06A-11R-A39D-07  TCGA-Z2-AA3V-06A-11R-A39D-07  \n",
       "gene_symbol                                                              \n",
       "A1BG                             349.4478                      717.2209  \n",
       "A1CF                               0.0000                        0.0000  \n",
       "A2BP1                              0.2880                        0.6539  \n",
       "A2LD1                            152.9786                       50.7438  \n",
       "A2M                             4040.2938                    46111.4664  \n",
       "...                                   ...                           ...  \n",
       "ZYX                             2136.9429                    11832.5977  \n",
       "ZZEF1                           1640.4349                     1413.1110  \n",
       "ZZZ3                            1452.3724                      102.0108  \n",
       "psiTPTE22                          3.1680                       32.0419  \n",
       "tAKR                               0.2880                        0.0000  \n",
       "\n",
       "[20531 rows x 473 columns]"
      ]
     },
     "execution_count": 4,
     "metadata": {},
     "output_type": "execute_result"
    }
   ],
   "source": [
    "helpers.datasets.load_tcga_skcm()"
   ]
  },
  {
   "cell_type": "code",
   "execution_count": null,
   "id": "d3babbc1-5e4c-40d2-8287-5f06c4429ae8",
   "metadata": {},
   "outputs": [],
   "source": []
  },
  {
   "cell_type": "code",
   "execution_count": null,
   "id": "f8c9cba9-2df5-4064-a478-3ec77bf7814b",
   "metadata": {
    "tags": []
   },
   "outputs": [],
   "source": [
    "mixtures_tcga_skcm = helpers.datasets.load_tcga_skcm()"
   ]
  },
  {
   "cell_type": "code",
   "execution_count": null,
   "id": "908f20e3-7a00-495d-8f47-29e261e4b9f1",
   "metadata": {
    "tags": []
   },
   "outputs": [],
   "source": [
    "from sklearn.decomposition import PCA"
   ]
  },
  {
   "cell_type": "markdown",
   "id": "c79329f9-2c8c-4691-8558-3af6a3aa5d22",
   "metadata": {
    "execution": {
     "iopub.execute_input": "2022-02-24T22:36:24.694313Z",
     "iopub.status.busy": "2022-02-24T22:36:24.693966Z",
     "iopub.status.idle": "2022-02-24T22:36:24.697659Z",
     "shell.execute_reply": "2022-02-24T22:36:24.696937Z",
     "shell.execute_reply.started": "2022-02-24T22:36:24.694283Z"
    }
   },
   "source": [
    "# PCA of expression by gene\n",
    "\n",
    "## without standardizing"
   ]
  },
  {
   "cell_type": "code",
   "execution_count": null,
   "id": "0f29dd76-861b-418f-9d6a-97d43c1d1ccf",
   "metadata": {
    "tags": []
   },
   "outputs": [],
   "source": [
    "df = mixtures_tcga_skcm.copy().T"
   ]
  },
  {
   "cell_type": "code",
   "execution_count": null,
   "id": "fc190c93-90e8-470b-b405-8f795f2d4341",
   "metadata": {
    "tags": []
   },
   "outputs": [],
   "source": [
    "print(df.iloc[:, :10].mean())\n",
    "print(df.iloc[:, :10].std())"
   ]
  },
  {
   "cell_type": "code",
   "execution_count": null,
   "id": "a0ac1be3-591b-4375-8450-f7d1783bec34",
   "metadata": {
    "tags": []
   },
   "outputs": [],
   "source": [
    "features = list(df.columns)\n",
    "pca = PCA()\n",
    "components = pca.fit_transform(df)"
   ]
  },
  {
   "cell_type": "code",
   "execution_count": null,
   "id": "e33ec98e-3f1f-489d-96a6-ddc69cdb9bcd",
   "metadata": {},
   "outputs": [],
   "source": [
    "labels = {\n",
    "    str(i): f\"PC {i+1}<br>({var:.1f}%)\"\n",
    "    for i, var in enumerate(pca.explained_variance_ratio_ * 100)\n",
    "}"
   ]
  },
  {
   "cell_type": "code",
   "execution_count": null,
   "id": "3150a0ae-a9a5-4fb0-a609-a397bd3daddb",
   "metadata": {
    "tags": []
   },
   "outputs": [],
   "source": [
    "components.shape"
   ]
  },
  {
   "cell_type": "code",
   "execution_count": null,
   "id": "4b7b5f16-3ad1-4df1-860d-2c5b7ab2fa91",
   "metadata": {
    "tags": []
   },
   "outputs": [],
   "source": [
    "pca.explained_variance_[:10]"
   ]
  },
  {
   "cell_type": "code",
   "execution_count": null,
   "id": "c5039979-f631-46b9-b26d-61624250e36a",
   "metadata": {},
   "outputs": [],
   "source": [
    "sum(pca.explained_variance_)"
   ]
  },
  {
   "cell_type": "code",
   "execution_count": null,
   "id": "ea594946-7c84-46b8-b2bb-f6c6b273720b",
   "metadata": {
    "tags": []
   },
   "outputs": [],
   "source": [
    "fig = px.scatter_matrix(\n",
    "    components,\n",
    "    labels=labels,\n",
    "    dimensions=range(6),\n",
    "    hover_name=df.index,\n",
    ")\n",
    "fig.update_traces(diagonal_visible=False)\n",
    "fig.show(width=800, height=800)"
   ]
  },
  {
   "cell_type": "markdown",
   "id": "02d5e2e4-9ccb-4586-bb62-931332ac53d8",
   "metadata": {
    "execution": {
     "iopub.execute_input": "2022-02-24T22:35:06.424437Z",
     "iopub.status.busy": "2022-02-24T22:35:06.423931Z",
     "iopub.status.idle": "2022-02-24T22:35:06.431175Z",
     "shell.execute_reply": "2022-02-24T22:35:06.430342Z",
     "shell.execute_reply.started": "2022-02-24T22:35:06.424385Z"
    }
   },
   "source": [
    "## with standardizing"
   ]
  },
  {
   "cell_type": "code",
   "execution_count": null,
   "id": "14358d19-8889-4b5e-ac0b-3626e2070b27",
   "metadata": {
    "tags": []
   },
   "outputs": [],
   "source": [
    "df = mixtures_tcga_skcm.copy().T"
   ]
  },
  {
   "cell_type": "code",
   "execution_count": null,
   "id": "fba47c9d-2ca6-477c-9b8c-4d583bc75106",
   "metadata": {
    "tags": []
   },
   "outputs": [],
   "source": [
    "from sklearn.preprocessing import StandardScaler\n",
    "\n",
    "scaler = StandardScaler()\n",
    "scaler.fit(df)\n",
    "df.values[:] = scaler.transform(df)"
   ]
  },
  {
   "cell_type": "code",
   "execution_count": null,
   "id": "072ae96d-3648-4af5-a0bd-afad156d14cc",
   "metadata": {},
   "outputs": [],
   "source": [
    "print(df.iloc[:, :10].mean())\n",
    "print(df.iloc[:, :10].std())"
   ]
  },
  {
   "cell_type": "code",
   "execution_count": null,
   "id": "a4b789bf-6e71-47fa-a087-2f827c4e9e4c",
   "metadata": {},
   "outputs": [],
   "source": [
    "features = list(df.columns)\n",
    "pca = PCA()\n",
    "components = pca.fit_transform(df)"
   ]
  },
  {
   "cell_type": "code",
   "execution_count": null,
   "id": "a1b64def-497e-49ad-a559-d28f937c35b5",
   "metadata": {
    "tags": []
   },
   "outputs": [],
   "source": [
    "pca.explained_variance_[:10]"
   ]
  },
  {
   "cell_type": "code",
   "execution_count": null,
   "id": "ae3ef6d0-1be5-45bf-9e07-a79c998c7050",
   "metadata": {},
   "outputs": [],
   "source": [
    "sum(pca.explained_variance_)"
   ]
  },
  {
   "cell_type": "code",
   "execution_count": null,
   "id": "0b0bf2dc-04f5-4db7-84f8-f7fc511e81ad",
   "metadata": {},
   "outputs": [],
   "source": [
    "labels = {\n",
    "    str(i): f\"PC {i+1}<br>({var:.1f}%)\"\n",
    "    for i, var in enumerate(pca.explained_variance_ratio_ * 100)\n",
    "}"
   ]
  },
  {
   "cell_type": "code",
   "execution_count": null,
   "id": "860a6af3-9222-4f8a-8526-320911ee52cf",
   "metadata": {},
   "outputs": [],
   "source": [
    "fig = px.scatter_matrix(\n",
    "    components,\n",
    "    labels=labels,\n",
    "    dimensions=range(6),\n",
    "    hover_name=df.index,\n",
    ")\n",
    "fig.update_traces(diagonal_visible=False)\n",
    "fig.show(width=800, height=800)"
   ]
  },
  {
   "cell_type": "code",
   "execution_count": null,
   "id": "09834df2-5186-4897-8d50-899e2787022b",
   "metadata": {
    "tags": []
   },
   "outputs": [],
   "source": [
    "components.shape"
   ]
  },
  {
   "cell_type": "code",
   "execution_count": null,
   "id": "22702932-b81e-467d-b2f2-99419fd53fac",
   "metadata": {
    "tags": []
   },
   "outputs": [],
   "source": [
    "pca.components_.shape, len(df.columns), len(labels)"
   ]
  },
  {
   "cell_type": "code",
   "execution_count": null,
   "id": "e24ebf9c-5f98-4380-b196-4f6a15620611",
   "metadata": {
    "tags": []
   },
   "outputs": [],
   "source": [
    "u = pd.DataFrame(pca.components_.T, index=df.columns, columns=labels.values())"
   ]
  },
  {
   "cell_type": "code",
   "execution_count": null,
   "id": "fe1c7f8e-7d86-45b0-89fd-23fdca46851c",
   "metadata": {
    "tags": []
   },
   "outputs": [],
   "source": [
    "(u**2).sum()"
   ]
  },
  {
   "cell_type": "code",
   "execution_count": null,
   "id": "fdf3853b-8adf-4242-85cd-b7c56fbc9a5c",
   "metadata": {
    "tags": []
   },
   "outputs": [],
   "source": [
    "u.apply(np.linalg.norm)"
   ]
  },
  {
   "cell_type": "code",
   "execution_count": null,
   "id": "eb8c4471-3dd1-47b9-9505-589f5a55fa4c",
   "metadata": {
    "tags": []
   },
   "outputs": [],
   "source": [
    "u.T @ u"
   ]
  },
  {
   "cell_type": "code",
   "execution_count": null,
   "id": "27e38360-52ad-46ca-9e14-edf0d4969d30",
   "metadata": {
    "tags": []
   },
   "outputs": [],
   "source": [
    "# is this basically the identity matrix?\n",
    "\n",
    "np.allclose(u.T @ u, np.eye(len(u.T)))"
   ]
  },
  {
   "cell_type": "code",
   "execution_count": null,
   "id": "e292dc3b-c424-4270-8967-6a9766e7434f",
   "metadata": {},
   "outputs": [],
   "source": [
    "u"
   ]
  },
  {
   "cell_type": "code",
   "execution_count": null,
   "id": "b66156c6-5e92-4e23-978c-07dfccb13ebe",
   "metadata": {},
   "outputs": [],
   "source": [
    "eigenvectors = pd.DataFrame(\n",
    "    pca.components_.T, index=df.columns, columns=labels.values()\n",
    ")"
   ]
  },
  {
   "cell_type": "code",
   "execution_count": null,
   "id": "e644be30-b73b-45db-8c70-ff428e0c2aef",
   "metadata": {},
   "outputs": [],
   "source": [
    "eigenvectors"
   ]
  },
  {
   "cell_type": "code",
   "execution_count": null,
   "id": "8cf5feba-927f-495a-bff2-575100d12a2d",
   "metadata": {
    "tags": []
   },
   "outputs": [],
   "source": [
    "explained_variance = pd.DataFrame(pca.explained_variance_, index=labels.values())"
   ]
  },
  {
   "cell_type": "code",
   "execution_count": null,
   "id": "1fe86b80-ed90-4bc7-9e55-1f85059e4f93",
   "metadata": {
    "tags": []
   },
   "outputs": [],
   "source": [
    "explained_variance"
   ]
  },
  {
   "cell_type": "code",
   "execution_count": null,
   "id": "9bbf19cf-f1d9-428a-aea9-0e9e299280c2",
   "metadata": {},
   "outputs": [],
   "source": [
    "loadings = eigenvectors * np.sqrt(pca.explained_variance_)"
   ]
  },
  {
   "cell_type": "code",
   "execution_count": null,
   "id": "5ae08d66-6677-40c0-8677-67e296979fac",
   "metadata": {
    "tags": []
   },
   "outputs": [],
   "source": [
    "loadings.apply(np.linalg.norm)"
   ]
  },
  {
   "cell_type": "code",
   "execution_count": null,
   "id": "94c75dce-bf24-4aba-b4da-ec055b8e61d5",
   "metadata": {},
   "outputs": [],
   "source": []
  }
 ],
 "metadata": {
  "environment": {
   "kernel": "conda-env-py39-py",
   "name": "common-cpu.m84",
   "type": "gcloud",
   "uri": "gcr.io/deeplearning-platform-release/base-cpu:m84"
  },
  "kernelspec": {
   "display_name": "deconv",
   "language": "python",
   "name": "deconv"
  },
  "language_info": {
   "codemirror_mode": {
    "name": "ipython",
    "version": 3
   },
   "file_extension": ".py",
   "mimetype": "text/x-python",
   "name": "python",
   "nbconvert_exporter": "python",
   "pygments_lexer": "ipython3",
   "version": "3.10.6"
  }
 },
 "nbformat": 4,
 "nbformat_minor": 5
}
