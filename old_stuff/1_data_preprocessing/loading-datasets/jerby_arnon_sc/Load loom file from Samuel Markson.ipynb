{
 "cells": [
  {
   "cell_type": "code",
   "execution_count": 1,
   "id": "1e325517-e89e-4c06-bab4-51fa31db753f",
   "metadata": {},
   "outputs": [],
   "source": [
    "import loompy"
   ]
  },
  {
   "cell_type": "code",
   "execution_count": 3,
   "id": "a409f42d-72cc-4f63-83cb-63019925a140",
   "metadata": {},
   "outputs": [
    {
     "name": "stdout",
     "output_type": "stream",
     "text": [
      "gs://liulab/data/from_samuel/:\n",
      "gs://liulab/data/from_samuel/Conglomerate_ECMelanoma_22.loom\n"
     ]
    }
   ],
   "source": [
    "!gsutil ls -R gs://liulab/data/from_samuel"
   ]
  },
  {
   "cell_type": "code",
   "execution_count": null,
   "id": "e4115fc8-f707-4409-bab0-156a6e19c0ee",
   "metadata": {},
   "outputs": [],
   "source": []
  }
 ],
 "metadata": {
  "environment": {
   "kernel": "conda-env-deconv-py",
   "name": "common-cpu.m91",
   "type": "gcloud",
   "uri": "gcr.io/deeplearning-platform-release/base-cpu:m91"
  },
  "kernelspec": {
   "display_name": "Python [conda env:deconv]",
   "language": "python",
   "name": "conda-env-deconv-py"
  },
  "language_info": {
   "codemirror_mode": {
    "name": "ipython",
    "version": 3
   },
   "file_extension": ".py",
   "mimetype": "text/x-python",
   "name": "python",
   "nbconvert_exporter": "python",
   "pygments_lexer": "ipython3",
   "version": "3.10.4"
  }
 },
 "nbformat": 4,
 "nbformat_minor": 5
}
