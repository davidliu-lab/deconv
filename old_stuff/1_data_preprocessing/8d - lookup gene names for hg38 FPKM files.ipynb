{
 "cells": [
  {
   "cell_type": "code",
   "execution_count": 1,
   "id": "9a99ed4f-d979-4d75-8db2-34eea93949bd",
   "metadata": {
    "execution": {
     "iopub.execute_input": "2022-04-14T19:25:50.198327Z",
     "iopub.status.busy": "2022-04-14T19:25:50.198041Z",
     "iopub.status.idle": "2022-04-14T19:25:50.204349Z",
     "shell.execute_reply": "2022-04-14T19:25:50.203691Z",
     "shell.execute_reply.started": "2022-04-14T19:25:50.198251Z"
    }
   },
   "outputs": [],
   "source": [
    "import pandas as pd\n",
    "from google.cloud import bigquery"
   ]
  },
  {
   "cell_type": "markdown",
   "id": "90066759-c45d-4720-acc1-f43a9ebfea98",
   "metadata": {},
   "source": [
    "# hg19"
   ]
  },
  {
   "cell_type": "code",
   "execution_count": 2,
   "id": "21d86918-ce9d-47b3-8eb5-0b7b830efaa4",
   "metadata": {
    "execution": {
     "iopub.execute_input": "2022-04-14T19:26:20.829025Z",
     "iopub.status.busy": "2022-04-14T19:26:20.828798Z",
     "iopub.status.idle": "2022-04-14T19:26:24.588986Z",
     "shell.execute_reply": "2022-04-14T19:26:24.588401Z",
     "shell.execute_reply.started": "2022-04-14T19:26:20.829004Z"
    },
    "tags": []
   },
   "outputs": [
    {
     "data": {
      "text/html": [
       "<div>\n",
       "<style scoped>\n",
       "    .dataframe tbody tr th:only-of-type {\n",
       "        vertical-align: middle;\n",
       "    }\n",
       "\n",
       "    .dataframe tbody tr th {\n",
       "        vertical-align: top;\n",
       "    }\n",
       "\n",
       "    .dataframe thead th {\n",
       "        text-align: right;\n",
       "    }\n",
       "</style>\n",
       "<table border=\"1\" class=\"dataframe\">\n",
       "  <thead>\n",
       "    <tr style=\"text-align: right;\">\n",
       "      <th></th>\n",
       "      <th>gene_id</th>\n",
       "      <th>raw_count</th>\n",
       "      <th>scaled_estimate</th>\n",
       "      <th>transcript_id</th>\n",
       "    </tr>\n",
       "  </thead>\n",
       "  <tbody>\n",
       "    <tr>\n",
       "      <th>0</th>\n",
       "      <td>?|100130426</td>\n",
       "      <td>0.00</td>\n",
       "      <td>0.000000e+00</td>\n",
       "      <td>uc011lsn.1</td>\n",
       "    </tr>\n",
       "    <tr>\n",
       "      <th>1</th>\n",
       "      <td>?|100133144</td>\n",
       "      <td>11.07</td>\n",
       "      <td>2.887527e-07</td>\n",
       "      <td>uc010unu.1,uc010uoa.1</td>\n",
       "    </tr>\n",
       "    <tr>\n",
       "      <th>2</th>\n",
       "      <td>?|100134869</td>\n",
       "      <td>15.93</td>\n",
       "      <td>3.024025e-07</td>\n",
       "      <td>uc002bgz.2,uc002bic.2</td>\n",
       "    </tr>\n",
       "    <tr>\n",
       "      <th>3</th>\n",
       "      <td>?|10357</td>\n",
       "      <td>355.48</td>\n",
       "      <td>2.085068e-05</td>\n",
       "      <td>uc010zzl.1</td>\n",
       "    </tr>\n",
       "    <tr>\n",
       "      <th>4</th>\n",
       "      <td>?|10431</td>\n",
       "      <td>3032.00</td>\n",
       "      <td>8.241796e-05</td>\n",
       "      <td>uc001jiu.2,uc010qhg.1</td>\n",
       "    </tr>\n",
       "    <tr>\n",
       "      <th>...</th>\n",
       "      <td>...</td>\n",
       "      <td>...</td>\n",
       "      <td>...</td>\n",
       "      <td>...</td>\n",
       "    </tr>\n",
       "    <tr>\n",
       "      <th>20526</th>\n",
       "      <td>ZYX|7791</td>\n",
       "      <td>3061.00</td>\n",
       "      <td>4.357639e-05</td>\n",
       "      <td>uc003wcw.2,uc003wcx.2,uc011ktd.1,uc011kte.1,uc...</td>\n",
       "    </tr>\n",
       "    <tr>\n",
       "      <th>20527</th>\n",
       "      <td>ZZEF1|23140</td>\n",
       "      <td>1542.00</td>\n",
       "      <td>3.959755e-06</td>\n",
       "      <td>uc002fxe.2,uc002fxg.1,uc002fxh.2,uc002fxi.2,uc...</td>\n",
       "    </tr>\n",
       "    <tr>\n",
       "      <th>20528</th>\n",
       "      <td>ZZZ3|26009</td>\n",
       "      <td>1786.00</td>\n",
       "      <td>1.620152e-05</td>\n",
       "      <td>uc001dhp.2,uc001dhq.2,uc001dhr.2,uc009wbz.1</td>\n",
       "    </tr>\n",
       "    <tr>\n",
       "      <th>20529</th>\n",
       "      <td>psiTPTE22|387590</td>\n",
       "      <td>7.00</td>\n",
       "      <td>1.537329e-07</td>\n",
       "      <td>uc002zlq.3,uc002zlr.2,uc002zls.1,uc002zlt.2,uc...</td>\n",
       "    </tr>\n",
       "    <tr>\n",
       "      <th>20530</th>\n",
       "      <td>tAKR|389932</td>\n",
       "      <td>0.00</td>\n",
       "      <td>0.000000e+00</td>\n",
       "      <td>uc001ihm.3,uc001ihn.3</td>\n",
       "    </tr>\n",
       "  </tbody>\n",
       "</table>\n",
       "<p>20531 rows × 4 columns</p>\n",
       "</div>"
      ],
      "text/plain": [
       "                gene_id  raw_count  scaled_estimate  \\\n",
       "0           ?|100130426       0.00     0.000000e+00   \n",
       "1           ?|100133144      11.07     2.887527e-07   \n",
       "2           ?|100134869      15.93     3.024025e-07   \n",
       "3               ?|10357     355.48     2.085068e-05   \n",
       "4               ?|10431    3032.00     8.241796e-05   \n",
       "...                 ...        ...              ...   \n",
       "20526          ZYX|7791    3061.00     4.357639e-05   \n",
       "20527       ZZEF1|23140    1542.00     3.959755e-06   \n",
       "20528        ZZZ3|26009    1786.00     1.620152e-05   \n",
       "20529  psiTPTE22|387590       7.00     1.537329e-07   \n",
       "20530       tAKR|389932       0.00     0.000000e+00   \n",
       "\n",
       "                                           transcript_id  \n",
       "0                                             uc011lsn.1  \n",
       "1                                  uc010unu.1,uc010uoa.1  \n",
       "2                                  uc002bgz.2,uc002bic.2  \n",
       "3                                             uc010zzl.1  \n",
       "4                                  uc001jiu.2,uc010qhg.1  \n",
       "...                                                  ...  \n",
       "20526  uc003wcw.2,uc003wcx.2,uc011ktd.1,uc011kte.1,uc...  \n",
       "20527  uc002fxe.2,uc002fxg.1,uc002fxh.2,uc002fxi.2,uc...  \n",
       "20528        uc001dhp.2,uc001dhq.2,uc001dhr.2,uc009wbz.1  \n",
       "20529  uc002zlq.3,uc002zlr.2,uc002zls.1,uc002zlt.2,uc...  \n",
       "20530                              uc001ihm.3,uc001ihn.3  \n",
       "\n",
       "[20531 rows x 4 columns]"
      ]
     },
     "execution_count": 2,
     "metadata": {},
     "output_type": "execute_result"
    }
   ],
   "source": [
    "pd.read_csv(\n",
    "    \"gs://gdc-tcga-phs000178-open/0b8b258e-1671-4f86-82e7-59b12ad40d9c/unc.edu.4c243ea9-dfe1-42f0-a887-3c901fb38542.2477720.rsem.genes.results\",\n",
    "    sep=\"\\t\",\n",
    ")"
   ]
  },
  {
   "cell_type": "markdown",
   "id": "da741aa4-fb5c-477a-b430-18dba0f407fe",
   "metadata": {},
   "source": [
    "# hg38"
   ]
  },
  {
   "cell_type": "code",
   "execution_count": 44,
   "id": "1b69c9b4-d6c4-4c57-a77b-7c12b58859b0",
   "metadata": {
    "execution": {
     "iopub.execute_input": "2022-04-14T20:18:13.784071Z",
     "iopub.status.busy": "2022-04-14T20:18:13.783842Z",
     "iopub.status.idle": "2022-04-14T20:18:14.125376Z",
     "shell.execute_reply": "2022-04-14T20:18:14.124714Z",
     "shell.execute_reply.started": "2022-04-14T20:18:13.784049Z"
    },
    "tags": []
   },
   "outputs": [
    {
     "name": "stdout",
     "output_type": "stream",
     "text": [
      "CPU times: user 252 ms, sys: 1.59 ms, total: 254 ms\n",
      "Wall time: 331 ms\n"
     ]
    },
    {
     "data": {
      "text/html": [
       "<div>\n",
       "<style scoped>\n",
       "    .dataframe tbody tr th:only-of-type {\n",
       "        vertical-align: middle;\n",
       "    }\n",
       "\n",
       "    .dataframe tbody tr th {\n",
       "        vertical-align: top;\n",
       "    }\n",
       "\n",
       "    .dataframe thead th {\n",
       "        text-align: right;\n",
       "    }\n",
       "</style>\n",
       "<table border=\"1\" class=\"dataframe\">\n",
       "  <thead>\n",
       "    <tr style=\"text-align: right;\">\n",
       "      <th></th>\n",
       "      <th>gene_id_and_version</th>\n",
       "      <th>FPKM</th>\n",
       "      <th>gene_id</th>\n",
       "      <th>gene_version</th>\n",
       "    </tr>\n",
       "  </thead>\n",
       "  <tbody>\n",
       "    <tr>\n",
       "      <th>0</th>\n",
       "      <td>ENSG00000242268.2</td>\n",
       "      <td>0.000000</td>\n",
       "      <td>ENSG00000242268</td>\n",
       "      <td>2</td>\n",
       "    </tr>\n",
       "    <tr>\n",
       "      <th>1</th>\n",
       "      <td>ENSG00000270112.3</td>\n",
       "      <td>0.000000</td>\n",
       "      <td>ENSG00000270112</td>\n",
       "      <td>3</td>\n",
       "    </tr>\n",
       "    <tr>\n",
       "      <th>2</th>\n",
       "      <td>ENSG00000167578.15</td>\n",
       "      <td>6.891068</td>\n",
       "      <td>ENSG00000167578</td>\n",
       "      <td>15</td>\n",
       "    </tr>\n",
       "    <tr>\n",
       "      <th>3</th>\n",
       "      <td>ENSG00000273842.1</td>\n",
       "      <td>0.000000</td>\n",
       "      <td>ENSG00000273842</td>\n",
       "      <td>1</td>\n",
       "    </tr>\n",
       "    <tr>\n",
       "      <th>4</th>\n",
       "      <td>ENSG00000078237.5</td>\n",
       "      <td>8.628685</td>\n",
       "      <td>ENSG00000078237</td>\n",
       "      <td>5</td>\n",
       "    </tr>\n",
       "    <tr>\n",
       "      <th>...</th>\n",
       "      <td>...</td>\n",
       "      <td>...</td>\n",
       "      <td>...</td>\n",
       "      <td>...</td>\n",
       "    </tr>\n",
       "    <tr>\n",
       "      <th>60478</th>\n",
       "      <td>ENSG00000105063.17</td>\n",
       "      <td>17.687587</td>\n",
       "      <td>ENSG00000105063</td>\n",
       "      <td>17</td>\n",
       "    </tr>\n",
       "    <tr>\n",
       "      <th>60479</th>\n",
       "      <td>ENSG00000231119.2</td>\n",
       "      <td>0.082573</td>\n",
       "      <td>ENSG00000231119</td>\n",
       "      <td>2</td>\n",
       "    </tr>\n",
       "    <tr>\n",
       "      <th>60480</th>\n",
       "      <td>ENSG00000280861.1</td>\n",
       "      <td>0.000000</td>\n",
       "      <td>ENSG00000280861</td>\n",
       "      <td>1</td>\n",
       "    </tr>\n",
       "    <tr>\n",
       "      <th>60481</th>\n",
       "      <td>ENSG00000123685.7</td>\n",
       "      <td>1.328293</td>\n",
       "      <td>ENSG00000123685</td>\n",
       "      <td>7</td>\n",
       "    </tr>\n",
       "    <tr>\n",
       "      <th>60482</th>\n",
       "      <td>ENSG00000181518.3</td>\n",
       "      <td>0.000000</td>\n",
       "      <td>ENSG00000181518</td>\n",
       "      <td>3</td>\n",
       "    </tr>\n",
       "  </tbody>\n",
       "</table>\n",
       "<p>60483 rows × 4 columns</p>\n",
       "</div>"
      ],
      "text/plain": [
       "      gene_id_and_version       FPKM          gene_id gene_version\n",
       "0       ENSG00000242268.2   0.000000  ENSG00000242268            2\n",
       "1       ENSG00000270112.3   0.000000  ENSG00000270112            3\n",
       "2      ENSG00000167578.15   6.891068  ENSG00000167578           15\n",
       "3       ENSG00000273842.1   0.000000  ENSG00000273842            1\n",
       "4       ENSG00000078237.5   8.628685  ENSG00000078237            5\n",
       "...                   ...        ...              ...          ...\n",
       "60478  ENSG00000105063.17  17.687587  ENSG00000105063           17\n",
       "60479   ENSG00000231119.2   0.082573  ENSG00000231119            2\n",
       "60480   ENSG00000280861.1   0.000000  ENSG00000280861            1\n",
       "60481   ENSG00000123685.7   1.328293  ENSG00000123685            7\n",
       "60482   ENSG00000181518.3   0.000000  ENSG00000181518            3\n",
       "\n",
       "[60483 rows x 4 columns]"
      ]
     },
     "execution_count": 44,
     "metadata": {},
     "output_type": "execute_result"
    }
   ],
   "source": [
    "%%time\n",
    "df = pd.read_csv(\n",
    "    \"gs://gdc-tcga-phs000178-open/6f0f09df-cb9e-4ee6-9f0d-e0c7bb2aa001/9cc93369-3cc7-4293-9f42-a997c26243c9.FPKM.txt.gz\",\n",
    "    sep=\"\\t\",\n",
    "    # header=None,\n",
    "    names=[\"gene_id_and_version\", \"FPKM\"],\n",
    "    # index_col=0,\n",
    ")\n",
    "# df = df.set_index(pd.MultiIndex.from_tuples(df.index.str.split(\".\").tolist(), names=[\"gene_id\", \"gene_version\"]))\n",
    "df[[\"gene_id\", \"gene_version\"]] = df[\"gene_id_and_version\"].str.split(\n",
    "    \".\", 1, expand=True\n",
    ")\n",
    "df"
   ]
  },
  {
   "cell_type": "markdown",
   "id": "0b5cb432-3bef-48fa-8b17-0a341588e788",
   "metadata": {},
   "source": [
    "## get gene names of gene IDs from bigquery"
   ]
  },
  {
   "cell_type": "code",
   "execution_count": 25,
   "id": "8f799922-4f5a-44cb-9f57-9a35d8c6bb78",
   "metadata": {
    "execution": {
     "iopub.execute_input": "2022-04-14T20:05:09.138185Z",
     "iopub.status.busy": "2022-04-14T20:05:09.137968Z",
     "iopub.status.idle": "2022-04-14T20:05:09.147841Z",
     "shell.execute_reply": "2022-04-14T20:05:09.147192Z",
     "shell.execute_reply.started": "2022-04-14T20:05:09.138162Z"
    }
   },
   "outputs": [],
   "source": [
    "bq_client = bigquery.Client()"
   ]
  },
  {
   "cell_type": "code",
   "execution_count": 26,
   "id": "5cf2b4ef-1184-4804-940b-6f0cf68db8cd",
   "metadata": {
    "execution": {
     "iopub.execute_input": "2022-04-14T20:05:09.878043Z",
     "iopub.status.busy": "2022-04-14T20:05:09.877546Z",
     "iopub.status.idle": "2022-04-14T20:05:14.476563Z",
     "shell.execute_reply": "2022-04-14T20:05:14.475777Z",
     "shell.execute_reply.started": "2022-04-14T20:05:09.878015Z"
    },
    "tags": []
   },
   "outputs": [
    {
     "name": "stderr",
     "output_type": "stream",
     "text": [
      "Query complete after 1.71s: 100%|██████████| 1/1 [00:01<00:00,  1.71s/query]                                  \n",
      "Downloading: 100%|██████████| 58051/58051 [00:01<00:00, 44630.40rows/s]\n"
     ]
    }
   ],
   "source": [
    "query_string = \"\"\"\n",
    "select\n",
    "    gene_biotype,\n",
    "    gene_name,\n",
    "    gene_id,\n",
    "    gene_version,\n",
    "    CONCAT(gene_id, \".\", gene_version) as gene_id_and_version,\n",
    "    count(*) as count_rows\n",
    "from `isb-cgc.genome_reference.Ensembl_GRCh38_87`\n",
    "--where gene_biotype = \"protein_coding\"\n",
    "group by 1,2,3,4,5\n",
    "order by 1, 2, 3\n",
    "\"\"\"\n",
    "\n",
    "gene_id_names = bq_client.query(query_string).to_dataframe(progress_bar_type=\"tqdm\")"
   ]
  },
  {
   "cell_type": "code",
   "execution_count": 32,
   "id": "5aa3df65-9751-42d6-84e1-df4c66744348",
   "metadata": {
    "execution": {
     "iopub.execute_input": "2022-04-14T20:06:52.860643Z",
     "iopub.status.busy": "2022-04-14T20:06:52.860412Z",
     "iopub.status.idle": "2022-04-14T20:06:52.881459Z",
     "shell.execute_reply": "2022-04-14T20:06:52.880682Z",
     "shell.execute_reply.started": "2022-04-14T20:06:52.860619Z"
    },
    "tags": []
   },
   "outputs": [
    {
     "data": {
      "text/plain": [
       "1    19905\n",
       "2       28\n",
       "Name: gene_name, dtype: int64"
      ]
     },
     "execution_count": 32,
     "metadata": {},
     "output_type": "execute_result"
    }
   ],
   "source": [
    "gene_id_names.query(\"gene_biotype == 'protein_coding'\")[\n",
    "    \"gene_name\"\n",
    "].value_counts().value_counts().sort_values(ascending=False)"
   ]
  },
  {
   "cell_type": "code",
   "execution_count": 45,
   "id": "81e0c6cf-3e29-488f-a537-3f6a6140e420",
   "metadata": {
    "execution": {
     "iopub.execute_input": "2022-04-14T20:18:45.429361Z",
     "iopub.status.busy": "2022-04-14T20:18:45.429092Z",
     "iopub.status.idle": "2022-04-14T20:18:45.456402Z",
     "shell.execute_reply": "2022-04-14T20:18:45.455778Z",
     "shell.execute_reply.started": "2022-04-14T20:18:45.429335Z"
    },
    "tags": []
   },
   "outputs": [
    {
     "data": {
      "text/html": [
       "<div>\n",
       "<style scoped>\n",
       "    .dataframe tbody tr th:only-of-type {\n",
       "        vertical-align: middle;\n",
       "    }\n",
       "\n",
       "    .dataframe tbody tr th {\n",
       "        vertical-align: top;\n",
       "    }\n",
       "\n",
       "    .dataframe thead th {\n",
       "        text-align: right;\n",
       "    }\n",
       "</style>\n",
       "<table border=\"1\" class=\"dataframe\">\n",
       "  <thead>\n",
       "    <tr style=\"text-align: right;\">\n",
       "      <th></th>\n",
       "      <th>gene_biotype</th>\n",
       "      <th>gene_name</th>\n",
       "      <th>gene_id</th>\n",
       "      <th>gene_version</th>\n",
       "      <th>gene_id_and_version</th>\n",
       "      <th>count_rows</th>\n",
       "    </tr>\n",
       "  </thead>\n",
       "  <tbody>\n",
       "    <tr>\n",
       "      <th>30420</th>\n",
       "      <td>protein_coding</td>\n",
       "      <td>ANKRD13A</td>\n",
       "      <td>ENSG00000076513</td>\n",
       "      <td>16</td>\n",
       "      <td>ENSG00000076513.16</td>\n",
       "      <td>135</td>\n",
       "    </tr>\n",
       "    <tr>\n",
       "      <th>15306</th>\n",
       "      <td>miRNA</td>\n",
       "      <td>MIR381</td>\n",
       "      <td>ENSG00000199020</td>\n",
       "      <td>3</td>\n",
       "      <td>ENSG00000199020.3</td>\n",
       "      <td>3</td>\n",
       "    </tr>\n",
       "    <tr>\n",
       "      <th>29999</th>\n",
       "      <td>protein_coding</td>\n",
       "      <td>ADGRF3</td>\n",
       "      <td>ENSG00000173567</td>\n",
       "      <td>14</td>\n",
       "      <td>ENSG00000173567.14</td>\n",
       "      <td>179</td>\n",
       "    </tr>\n",
       "    <tr>\n",
       "      <th>36775</th>\n",
       "      <td>protein_coding</td>\n",
       "      <td>H2BFS</td>\n",
       "      <td>ENSG00000234289</td>\n",
       "      <td>5</td>\n",
       "      <td>ENSG00000234289.5</td>\n",
       "      <td>8</td>\n",
       "    </tr>\n",
       "    <tr>\n",
       "      <th>38513</th>\n",
       "      <td>protein_coding</td>\n",
       "      <td>LAIR2</td>\n",
       "      <td>ENSG00000167618</td>\n",
       "      <td>9</td>\n",
       "      <td>ENSG00000167618.9</td>\n",
       "      <td>45</td>\n",
       "    </tr>\n",
       "    <tr>\n",
       "      <th>10471</th>\n",
       "      <td>lincRNA</td>\n",
       "      <td>RP11-103C3.1</td>\n",
       "      <td>ENSG00000232436</td>\n",
       "      <td>1</td>\n",
       "      <td>ENSG00000232436.1</td>\n",
       "      <td>4</td>\n",
       "    </tr>\n",
       "    <tr>\n",
       "      <th>10209</th>\n",
       "      <td>lincRNA</td>\n",
       "      <td>PCAT18</td>\n",
       "      <td>ENSG00000265369</td>\n",
       "      <td>3</td>\n",
       "      <td>ENSG00000265369.3</td>\n",
       "      <td>4</td>\n",
       "    </tr>\n",
       "    <tr>\n",
       "      <th>11250</th>\n",
       "      <td>lincRNA</td>\n",
       "      <td>RP11-218F4.1</td>\n",
       "      <td>ENSG00000260019</td>\n",
       "      <td>1</td>\n",
       "      <td>ENSG00000260019.1</td>\n",
       "      <td>6</td>\n",
       "    </tr>\n",
       "    <tr>\n",
       "      <th>35447</th>\n",
       "      <td>protein_coding</td>\n",
       "      <td>FANCE</td>\n",
       "      <td>ENSG00000112039</td>\n",
       "      <td>3</td>\n",
       "      <td>ENSG00000112039.3</td>\n",
       "      <td>26</td>\n",
       "    </tr>\n",
       "    <tr>\n",
       "      <th>18535</th>\n",
       "      <td>misc_RNA</td>\n",
       "      <td>Y_RNA</td>\n",
       "      <td>ENSG00000277604</td>\n",
       "      <td>1</td>\n",
       "      <td>ENSG00000277604.1</td>\n",
       "      <td>3</td>\n",
       "    </tr>\n",
       "  </tbody>\n",
       "</table>\n",
       "</div>"
      ],
      "text/plain": [
       "         gene_biotype     gene_name          gene_id  gene_version  \\\n",
       "30420  protein_coding      ANKRD13A  ENSG00000076513            16   \n",
       "15306           miRNA        MIR381  ENSG00000199020             3   \n",
       "29999  protein_coding        ADGRF3  ENSG00000173567            14   \n",
       "36775  protein_coding         H2BFS  ENSG00000234289             5   \n",
       "38513  protein_coding         LAIR2  ENSG00000167618             9   \n",
       "10471         lincRNA  RP11-103C3.1  ENSG00000232436             1   \n",
       "10209         lincRNA        PCAT18  ENSG00000265369             3   \n",
       "11250         lincRNA  RP11-218F4.1  ENSG00000260019             1   \n",
       "35447  protein_coding         FANCE  ENSG00000112039             3   \n",
       "18535        misc_RNA         Y_RNA  ENSG00000277604             1   \n",
       "\n",
       "      gene_id_and_version  count_rows  \n",
       "30420  ENSG00000076513.16         135  \n",
       "15306   ENSG00000199020.3           3  \n",
       "29999  ENSG00000173567.14         179  \n",
       "36775   ENSG00000234289.5           8  \n",
       "38513   ENSG00000167618.9          45  \n",
       "10471   ENSG00000232436.1           4  \n",
       "10209   ENSG00000265369.3           4  \n",
       "11250   ENSG00000260019.1           6  \n",
       "35447   ENSG00000112039.3          26  \n",
       "18535   ENSG00000277604.1           3  "
      ]
     },
     "execution_count": 45,
     "metadata": {},
     "output_type": "execute_result"
    }
   ],
   "source": [
    "gene_id_names.sample(10)"
   ]
  },
  {
   "cell_type": "markdown",
   "id": "b638e41d-4dc9-4192-90e4-822c14c3d66a",
   "metadata": {},
   "source": [
    "## left join gene names onto expression data"
   ]
  },
  {
   "cell_type": "code",
   "execution_count": 49,
   "id": "505a3653-365f-4fb1-91d9-11829eeb107a",
   "metadata": {
    "execution": {
     "iopub.execute_input": "2022-04-14T20:22:23.215560Z",
     "iopub.status.busy": "2022-04-14T20:22:23.215295Z",
     "iopub.status.idle": "2022-04-14T20:22:23.295721Z",
     "shell.execute_reply": "2022-04-14T20:22:23.295045Z",
     "shell.execute_reply.started": "2022-04-14T20:22:23.215535Z"
    },
    "tags": []
   },
   "outputs": [
    {
     "data": {
      "text/html": [
       "<div>\n",
       "<style scoped>\n",
       "    .dataframe tbody tr th:only-of-type {\n",
       "        vertical-align: middle;\n",
       "    }\n",
       "\n",
       "    .dataframe tbody tr th {\n",
       "        vertical-align: top;\n",
       "    }\n",
       "\n",
       "    .dataframe thead th {\n",
       "        text-align: right;\n",
       "    }\n",
       "</style>\n",
       "<table border=\"1\" class=\"dataframe\">\n",
       "  <thead>\n",
       "    <tr style=\"text-align: right;\">\n",
       "      <th></th>\n",
       "      <th>gene_id_and_version_x</th>\n",
       "      <th>FPKM</th>\n",
       "      <th>gene_id</th>\n",
       "      <th>gene_version_x</th>\n",
       "      <th>gene_biotype</th>\n",
       "      <th>gene_name</th>\n",
       "      <th>gene_version_y</th>\n",
       "      <th>gene_id_and_version_y</th>\n",
       "      <th>count_rows</th>\n",
       "    </tr>\n",
       "  </thead>\n",
       "  <tbody>\n",
       "    <tr>\n",
       "      <th>0</th>\n",
       "      <td>ENSG00000242268.2</td>\n",
       "      <td>0.000000</td>\n",
       "      <td>ENSG00000242268</td>\n",
       "      <td>2</td>\n",
       "      <td>lincRNA</td>\n",
       "      <td>RP11-368I23.2</td>\n",
       "      <td>2.0</td>\n",
       "      <td>ENSG00000242268.2</td>\n",
       "      <td>6.0</td>\n",
       "    </tr>\n",
       "    <tr>\n",
       "      <th>1</th>\n",
       "      <td>ENSG00000270112.3</td>\n",
       "      <td>0.000000</td>\n",
       "      <td>ENSG00000270112</td>\n",
       "      <td>3</td>\n",
       "      <td>processed_transcript</td>\n",
       "      <td>RP11-742D12.2</td>\n",
       "      <td>3.0</td>\n",
       "      <td>ENSG00000270112.3</td>\n",
       "      <td>9.0</td>\n",
       "    </tr>\n",
       "    <tr>\n",
       "      <th>2</th>\n",
       "      <td>ENSG00000167578.15</td>\n",
       "      <td>6.891068</td>\n",
       "      <td>ENSG00000167578</td>\n",
       "      <td>15</td>\n",
       "      <td>protein_coding</td>\n",
       "      <td>RAB4B</td>\n",
       "      <td>17.0</td>\n",
       "      <td>ENSG00000167578.17</td>\n",
       "      <td>100.0</td>\n",
       "    </tr>\n",
       "    <tr>\n",
       "      <th>3</th>\n",
       "      <td>ENSG00000273842.1</td>\n",
       "      <td>0.000000</td>\n",
       "      <td>ENSG00000273842</td>\n",
       "      <td>1</td>\n",
       "      <td>NaN</td>\n",
       "      <td>NaN</td>\n",
       "      <td>NaN</td>\n",
       "      <td>NaN</td>\n",
       "      <td>NaN</td>\n",
       "    </tr>\n",
       "    <tr>\n",
       "      <th>4</th>\n",
       "      <td>ENSG00000078237.5</td>\n",
       "      <td>8.628685</td>\n",
       "      <td>ENSG00000078237</td>\n",
       "      <td>5</td>\n",
       "      <td>protein_coding</td>\n",
       "      <td>TIGAR</td>\n",
       "      <td>6.0</td>\n",
       "      <td>ENSG00000078237.6</td>\n",
       "      <td>44.0</td>\n",
       "    </tr>\n",
       "    <tr>\n",
       "      <th>...</th>\n",
       "      <td>...</td>\n",
       "      <td>...</td>\n",
       "      <td>...</td>\n",
       "      <td>...</td>\n",
       "      <td>...</td>\n",
       "      <td>...</td>\n",
       "      <td>...</td>\n",
       "      <td>...</td>\n",
       "      <td>...</td>\n",
       "    </tr>\n",
       "    <tr>\n",
       "      <th>60478</th>\n",
       "      <td>ENSG00000105063.17</td>\n",
       "      <td>17.687587</td>\n",
       "      <td>ENSG00000105063</td>\n",
       "      <td>17</td>\n",
       "      <td>protein_coding</td>\n",
       "      <td>PPP6R1</td>\n",
       "      <td>18.0</td>\n",
       "      <td>ENSG00000105063.18</td>\n",
       "      <td>142.0</td>\n",
       "    </tr>\n",
       "    <tr>\n",
       "      <th>60479</th>\n",
       "      <td>ENSG00000231119.2</td>\n",
       "      <td>0.082573</td>\n",
       "      <td>ENSG00000231119</td>\n",
       "      <td>2</td>\n",
       "      <td>antisense</td>\n",
       "      <td>RP4-569M23.2</td>\n",
       "      <td>2.0</td>\n",
       "      <td>ENSG00000231119.2</td>\n",
       "      <td>4.0</td>\n",
       "    </tr>\n",
       "    <tr>\n",
       "      <th>60480</th>\n",
       "      <td>ENSG00000280861.1</td>\n",
       "      <td>0.000000</td>\n",
       "      <td>ENSG00000280861</td>\n",
       "      <td>1</td>\n",
       "      <td>NaN</td>\n",
       "      <td>NaN</td>\n",
       "      <td>NaN</td>\n",
       "      <td>NaN</td>\n",
       "      <td>NaN</td>\n",
       "    </tr>\n",
       "    <tr>\n",
       "      <th>60481</th>\n",
       "      <td>ENSG00000123685.7</td>\n",
       "      <td>1.328293</td>\n",
       "      <td>ENSG00000123685</td>\n",
       "      <td>7</td>\n",
       "      <td>protein_coding</td>\n",
       "      <td>BATF3</td>\n",
       "      <td>8.0</td>\n",
       "      <td>ENSG00000123685.8</td>\n",
       "      <td>18.0</td>\n",
       "    </tr>\n",
       "    <tr>\n",
       "      <th>60482</th>\n",
       "      <td>ENSG00000181518.3</td>\n",
       "      <td>0.000000</td>\n",
       "      <td>ENSG00000181518</td>\n",
       "      <td>3</td>\n",
       "      <td>protein_coding</td>\n",
       "      <td>OR8D4</td>\n",
       "      <td>3.0</td>\n",
       "      <td>ENSG00000181518.3</td>\n",
       "      <td>8.0</td>\n",
       "    </tr>\n",
       "  </tbody>\n",
       "</table>\n",
       "<p>60483 rows × 9 columns</p>\n",
       "</div>"
      ],
      "text/plain": [
       "      gene_id_and_version_x       FPKM          gene_id gene_version_x  \\\n",
       "0         ENSG00000242268.2   0.000000  ENSG00000242268              2   \n",
       "1         ENSG00000270112.3   0.000000  ENSG00000270112              3   \n",
       "2        ENSG00000167578.15   6.891068  ENSG00000167578             15   \n",
       "3         ENSG00000273842.1   0.000000  ENSG00000273842              1   \n",
       "4         ENSG00000078237.5   8.628685  ENSG00000078237              5   \n",
       "...                     ...        ...              ...            ...   \n",
       "60478    ENSG00000105063.17  17.687587  ENSG00000105063             17   \n",
       "60479     ENSG00000231119.2   0.082573  ENSG00000231119              2   \n",
       "60480     ENSG00000280861.1   0.000000  ENSG00000280861              1   \n",
       "60481     ENSG00000123685.7   1.328293  ENSG00000123685              7   \n",
       "60482     ENSG00000181518.3   0.000000  ENSG00000181518              3   \n",
       "\n",
       "               gene_biotype      gene_name  gene_version_y  \\\n",
       "0                   lincRNA  RP11-368I23.2             2.0   \n",
       "1      processed_transcript  RP11-742D12.2             3.0   \n",
       "2            protein_coding          RAB4B            17.0   \n",
       "3                       NaN            NaN             NaN   \n",
       "4            protein_coding          TIGAR             6.0   \n",
       "...                     ...            ...             ...   \n",
       "60478        protein_coding         PPP6R1            18.0   \n",
       "60479             antisense   RP4-569M23.2             2.0   \n",
       "60480                   NaN            NaN             NaN   \n",
       "60481        protein_coding          BATF3             8.0   \n",
       "60482        protein_coding          OR8D4             3.0   \n",
       "\n",
       "      gene_id_and_version_y  count_rows  \n",
       "0         ENSG00000242268.2         6.0  \n",
       "1         ENSG00000270112.3         9.0  \n",
       "2        ENSG00000167578.17       100.0  \n",
       "3                       NaN         NaN  \n",
       "4         ENSG00000078237.6        44.0  \n",
       "...                     ...         ...  \n",
       "60478    ENSG00000105063.18       142.0  \n",
       "60479     ENSG00000231119.2         4.0  \n",
       "60480                   NaN         NaN  \n",
       "60481     ENSG00000123685.8        18.0  \n",
       "60482     ENSG00000181518.3         8.0  \n",
       "\n",
       "[60483 rows x 9 columns]"
      ]
     },
     "execution_count": 49,
     "metadata": {},
     "output_type": "execute_result"
    }
   ],
   "source": [
    "df_joined_on_gene_id = pd.merge(df, gene_id_names, how=\"left\", on=\"gene_id\")\n",
    "df_joined_on_gene_id"
   ]
  },
  {
   "cell_type": "markdown",
   "id": "4352d717-df3e-4f5f-9b03-3921b694f06e",
   "metadata": {},
   "source": [
    "### observation: some hg38 genes don't exist in TCGA bulks"
   ]
  },
  {
   "cell_type": "code",
   "execution_count": 67,
   "id": "8ebf2c21-4221-4aa9-920b-922608ccc730",
   "metadata": {
    "execution": {
     "iopub.execute_input": "2022-04-14T20:29:58.161848Z",
     "iopub.status.busy": "2022-04-14T20:29:58.161440Z",
     "iopub.status.idle": "2022-04-14T20:29:58.223888Z",
     "shell.execute_reply": "2022-04-14T20:29:58.223251Z",
     "shell.execute_reply.started": "2022-04-14T20:29:58.161822Z"
    },
    "tags": []
   },
   "outputs": [
    {
     "data": {
      "text/html": [
       "<div>\n",
       "<style scoped>\n",
       "    .dataframe tbody tr th:only-of-type {\n",
       "        vertical-align: middle;\n",
       "    }\n",
       "\n",
       "    .dataframe tbody tr th {\n",
       "        vertical-align: top;\n",
       "    }\n",
       "\n",
       "    .dataframe thead th {\n",
       "        text-align: right;\n",
       "    }\n",
       "</style>\n",
       "<table border=\"1\" class=\"dataframe\">\n",
       "  <thead>\n",
       "    <tr style=\"text-align: right;\">\n",
       "      <th></th>\n",
       "      <th>gene_id_and_version_x</th>\n",
       "      <th>FPKM</th>\n",
       "      <th>gene_id</th>\n",
       "      <th>gene_version_x</th>\n",
       "      <th>gene_biotype</th>\n",
       "      <th>gene_name</th>\n",
       "      <th>gene_version_y</th>\n",
       "      <th>gene_id_and_version_y</th>\n",
       "      <th>count_rows</th>\n",
       "    </tr>\n",
       "  </thead>\n",
       "  <tbody>\n",
       "    <tr>\n",
       "      <th>32</th>\n",
       "      <td>NaN</td>\n",
       "      <td>NaN</td>\n",
       "      <td>ENSG00000283199</td>\n",
       "      <td>NaN</td>\n",
       "      <td>protein_coding</td>\n",
       "      <td>ABC13-47488600E17.1</td>\n",
       "      <td>1</td>\n",
       "      <td>ENSG00000283199.1</td>\n",
       "      <td>22</td>\n",
       "    </tr>\n",
       "    <tr>\n",
       "      <th>33</th>\n",
       "      <td>NaN</td>\n",
       "      <td>NaN</td>\n",
       "      <td>ENSG00000283566</td>\n",
       "      <td>NaN</td>\n",
       "      <td>protein_coding</td>\n",
       "      <td>ABC13-47656900H15.1</td>\n",
       "      <td>1</td>\n",
       "      <td>ENSG00000283566.1</td>\n",
       "      <td>14</td>\n",
       "    </tr>\n",
       "    <tr>\n",
       "      <th>131</th>\n",
       "      <td>NaN</td>\n",
       "      <td>NaN</td>\n",
       "      <td>ENSG00000276345</td>\n",
       "      <td>NaN</td>\n",
       "      <td>protein_coding</td>\n",
       "      <td>AC004556.1</td>\n",
       "      <td>1</td>\n",
       "      <td>ENSG00000276345.1</td>\n",
       "      <td>16</td>\n",
       "    </tr>\n",
       "    <tr>\n",
       "      <th>138</th>\n",
       "      <td>NaN</td>\n",
       "      <td>NaN</td>\n",
       "      <td>ENSG00000283229</td>\n",
       "      <td>NaN</td>\n",
       "      <td>protein_coding</td>\n",
       "      <td>AC005338.1</td>\n",
       "      <td>1</td>\n",
       "      <td>ENSG00000283229.1</td>\n",
       "      <td>62</td>\n",
       "    </tr>\n",
       "    <tr>\n",
       "      <th>155</th>\n",
       "      <td>NaN</td>\n",
       "      <td>NaN</td>\n",
       "      <td>ENSG00000276017</td>\n",
       "      <td>NaN</td>\n",
       "      <td>protein_coding</td>\n",
       "      <td>AC007325.1</td>\n",
       "      <td>1</td>\n",
       "      <td>ENSG00000276017.1</td>\n",
       "      <td>7</td>\n",
       "    </tr>\n",
       "    <tr>\n",
       "      <th>...</th>\n",
       "      <td>...</td>\n",
       "      <td>...</td>\n",
       "      <td>...</td>\n",
       "      <td>...</td>\n",
       "      <td>...</td>\n",
       "      <td>...</td>\n",
       "      <td>...</td>\n",
       "      <td>...</td>\n",
       "      <td>...</td>\n",
       "    </tr>\n",
       "    <tr>\n",
       "      <th>18905</th>\n",
       "      <td>NaN</td>\n",
       "      <td>NaN</td>\n",
       "      <td>ENSG00000283652</td>\n",
       "      <td>NaN</td>\n",
       "      <td>protein_coding</td>\n",
       "      <td>WDFY4</td>\n",
       "      <td>1</td>\n",
       "      <td>ENSG00000283652.1</td>\n",
       "      <td>126</td>\n",
       "    </tr>\n",
       "    <tr>\n",
       "      <th>19097</th>\n",
       "      <td>NaN</td>\n",
       "      <td>NaN</td>\n",
       "      <td>ENSG00000283463</td>\n",
       "      <td>NaN</td>\n",
       "      <td>protein_coding</td>\n",
       "      <td>XX-FW81066F1.2</td>\n",
       "      <td>1</td>\n",
       "      <td>ENSG00000283463.1</td>\n",
       "      <td>9</td>\n",
       "    </tr>\n",
       "    <tr>\n",
       "      <th>19157</th>\n",
       "      <td>NaN</td>\n",
       "      <td>NaN</td>\n",
       "      <td>ENSG00000283147</td>\n",
       "      <td>NaN</td>\n",
       "      <td>protein_coding</td>\n",
       "      <td>Z83313.1</td>\n",
       "      <td>1</td>\n",
       "      <td>ENSG00000283147.1</td>\n",
       "      <td>14</td>\n",
       "    </tr>\n",
       "    <tr>\n",
       "      <th>19599</th>\n",
       "      <td>NaN</td>\n",
       "      <td>NaN</td>\n",
       "      <td>ENSG00000283620</td>\n",
       "      <td>NaN</td>\n",
       "      <td>protein_coding</td>\n",
       "      <td>ZNF48</td>\n",
       "      <td>1</td>\n",
       "      <td>ENSG00000283620.1</td>\n",
       "      <td>6</td>\n",
       "    </tr>\n",
       "    <tr>\n",
       "      <th>19621</th>\n",
       "      <td>NaN</td>\n",
       "      <td>NaN</td>\n",
       "      <td>ENSG00000283496</td>\n",
       "      <td>NaN</td>\n",
       "      <td>protein_coding</td>\n",
       "      <td>ZNF511-PRAP1</td>\n",
       "      <td>1</td>\n",
       "      <td>ENSG00000283496.1</td>\n",
       "      <td>20</td>\n",
       "    </tr>\n",
       "  </tbody>\n",
       "</table>\n",
       "<p>138 rows × 9 columns</p>\n",
       "</div>"
      ],
      "text/plain": [
       "      gene_id_and_version_x  FPKM          gene_id gene_version_x  \\\n",
       "32                      NaN   NaN  ENSG00000283199            NaN   \n",
       "33                      NaN   NaN  ENSG00000283566            NaN   \n",
       "131                     NaN   NaN  ENSG00000276345            NaN   \n",
       "138                     NaN   NaN  ENSG00000283229            NaN   \n",
       "155                     NaN   NaN  ENSG00000276017            NaN   \n",
       "...                     ...   ...              ...            ...   \n",
       "18905                   NaN   NaN  ENSG00000283652            NaN   \n",
       "19097                   NaN   NaN  ENSG00000283463            NaN   \n",
       "19157                   NaN   NaN  ENSG00000283147            NaN   \n",
       "19599                   NaN   NaN  ENSG00000283620            NaN   \n",
       "19621                   NaN   NaN  ENSG00000283496            NaN   \n",
       "\n",
       "         gene_biotype            gene_name  gene_version_y  \\\n",
       "32     protein_coding  ABC13-47488600E17.1               1   \n",
       "33     protein_coding  ABC13-47656900H15.1               1   \n",
       "131    protein_coding           AC004556.1               1   \n",
       "138    protein_coding           AC005338.1               1   \n",
       "155    protein_coding           AC007325.1               1   \n",
       "...               ...                  ...             ...   \n",
       "18905  protein_coding                WDFY4               1   \n",
       "19097  protein_coding       XX-FW81066F1.2               1   \n",
       "19157  protein_coding             Z83313.1               1   \n",
       "19599  protein_coding                ZNF48               1   \n",
       "19621  protein_coding         ZNF511-PRAP1               1   \n",
       "\n",
       "      gene_id_and_version_y  count_rows  \n",
       "32        ENSG00000283199.1          22  \n",
       "33        ENSG00000283566.1          14  \n",
       "131       ENSG00000276345.1          16  \n",
       "138       ENSG00000283229.1          62  \n",
       "155       ENSG00000276017.1           7  \n",
       "...                     ...         ...  \n",
       "18905     ENSG00000283652.1         126  \n",
       "19097     ENSG00000283463.1           9  \n",
       "19157     ENSG00000283147.1          14  \n",
       "19599     ENSG00000283620.1           6  \n",
       "19621     ENSG00000283496.1          20  \n",
       "\n",
       "[138 rows x 9 columns]"
      ]
     },
     "execution_count": 67,
     "metadata": {},
     "output_type": "execute_result"
    }
   ],
   "source": [
    "pd.merge(\n",
    "    df,\n",
    "    gene_id_names.query(\"gene_biotype == 'protein_coding'\"),\n",
    "    how=\"right\",\n",
    "    on=\"gene_id\",\n",
    ").query(\"FPKM.isnull()\")"
   ]
  },
  {
   "cell_type": "markdown",
   "id": "a092a5ca-cb48-4ade-96e2-57f3e11809df",
   "metadata": {},
   "source": [
    "### observation: almost all expression is by protein coding genes"
   ]
  },
  {
   "cell_type": "code",
   "execution_count": 62,
   "id": "30b5ac86-e117-42a1-b698-6002b74743ff",
   "metadata": {
    "execution": {
     "iopub.execute_input": "2022-04-14T20:25:32.698830Z",
     "iopub.status.busy": "2022-04-14T20:25:32.698609Z",
     "iopub.status.idle": "2022-04-14T20:25:32.711675Z",
     "shell.execute_reply": "2022-04-14T20:25:32.711011Z",
     "shell.execute_reply.started": "2022-04-14T20:25:32.698808Z"
    },
    "tags": []
   },
   "outputs": [
    {
     "data": {
      "text/plain": [
       "gene_biotype\n",
       "protein_coding                        315928.791371\n",
       "Mt_rRNA                                 6038.606560\n",
       "processed_pseudogene                    2550.487006\n",
       "lincRNA                                 2159.091236\n",
       "antisense                               2150.193623\n",
       "unprocessed_pseudogene                  1242.755312\n",
       "Mt_tRNA                                  882.967661\n",
       "processed_transcript                     588.328967\n",
       "transcribed_unprocessed_pseudogene       369.132146\n",
       "sense_intronic                           281.151543\n",
       "NaN                                      256.509733\n",
       "TEC                                      211.456915\n",
       "miRNA                                    175.192560\n",
       "transcribed_processed_pseudogene         153.097184\n",
       "snoRNA                                   135.029388\n",
       "sense_overlapping                        120.725499\n",
       "misc_RNA                                 110.497900\n",
       "IG_C_gene                                 85.890834\n",
       "snRNA                                     82.296337\n",
       "unitary_pseudogene                        37.603414\n",
       "transcribed_unitary_pseudogene            29.250351\n",
       "IG_V_gene                                 25.350338\n",
       "3prime_overlapping_ncRNA                  13.273181\n",
       "rRNA                                      10.121320\n",
       "pseudogene                                 5.038547\n",
       "bidirectional_promoter_lncRNA              4.472210\n",
       "scaRNA                                     3.810371\n",
       "IG_C_pseudogene                            1.416138\n",
       "TR_C_gene                                  0.965763\n",
       "TR_V_gene                                  0.965170\n",
       "IG_J_gene                                  0.740130\n",
       "polymorphic_pseudogene                     0.706612\n",
       "vaultRNA                                   0.441066\n",
       "IG_V_pseudogene                            0.163320\n",
       "scRNA                                      0.020811\n",
       "macro_lncRNA                               0.012933\n",
       "IG_D_gene                                  0.000000\n",
       "TR_V_pseudogene                            0.000000\n",
       "IG_J_pseudogene                            0.000000\n",
       "ribozyme                                   0.000000\n",
       "TR_D_gene                                  0.000000\n",
       "TR_J_gene                                  0.000000\n",
       "TR_J_pseudogene                            0.000000\n",
       "sRNA                                       0.000000\n",
       "Name: FPKM, dtype: float64"
      ]
     },
     "execution_count": 62,
     "metadata": {},
     "output_type": "execute_result"
    }
   ],
   "source": [
    "df_joined_on_gene_id.groupby(\"gene_biotype\", dropna=False)[\"FPKM\"].sum().sort_values(\n",
    "    ascending=False\n",
    ")"
   ]
  },
  {
   "cell_type": "code",
   "execution_count": 60,
   "id": "fd3eb567-a625-499d-925a-d147662f5f35",
   "metadata": {
    "execution": {
     "iopub.execute_input": "2022-04-14T20:24:22.023801Z",
     "iopub.status.busy": "2022-04-14T20:24:22.023573Z",
     "iopub.status.idle": "2022-04-14T20:24:22.250436Z",
     "shell.execute_reply": "2022-04-14T20:24:22.249794Z",
     "shell.execute_reply.started": "2022-04-14T20:24:22.023777Z"
    },
    "tags": []
   },
   "outputs": [
    {
     "data": {
      "application/vnd.plotly.v1+json": {
       "config": {
        "plotlyServerURL": "https://plot.ly"
       },
       "data": [
        {
         "alignmentgroup": "True",
         "hovertemplate": "variable=FPKM<br>gene_biotype=%{x}<br>value=%{y}<extra></extra>",
         "legendgroup": "FPKM",
         "marker": {
          "color": "#636efa",
          "pattern": {
           "shape": ""
          }
         },
         "name": "FPKM",
         "offsetgroup": "FPKM",
         "orientation": "v",
         "showlegend": true,
         "textposition": "auto",
         "type": "bar",
         "x": [
          "3prime_overlapping_ncRNA",
          "IG_C_gene",
          "IG_C_pseudogene",
          "IG_D_gene",
          "IG_J_gene",
          "IG_J_pseudogene",
          "IG_V_gene",
          "IG_V_pseudogene",
          "Mt_rRNA",
          "Mt_tRNA",
          "TEC",
          "TR_C_gene",
          "TR_D_gene",
          "TR_J_gene",
          "TR_J_pseudogene",
          "TR_V_gene",
          "TR_V_pseudogene",
          "antisense",
          "bidirectional_promoter_lncRNA",
          "lincRNA",
          "macro_lncRNA",
          "miRNA",
          "misc_RNA",
          "polymorphic_pseudogene",
          "processed_pseudogene",
          "processed_transcript",
          "protein_coding",
          "pseudogene",
          "rRNA",
          "ribozyme",
          "sRNA",
          "scRNA",
          "scaRNA",
          "sense_intronic",
          "sense_overlapping",
          "snRNA",
          "snoRNA",
          "transcribed_processed_pseudogene",
          "transcribed_unitary_pseudogene",
          "transcribed_unprocessed_pseudogene",
          "unitary_pseudogene",
          "unprocessed_pseudogene",
          "vaultRNA"
         ],
         "xaxis": "x",
         "y": [
          13.2731811619719,
          85.8908337472706,
          1.4161375416881001,
          0,
          0.740130475149,
          0,
          25.3503379458173,
          0.1633199639501,
          6038.606560122,
          882.967660530394,
          211.4569151937807,
          0.9657625994453,
          0,
          0,
          0,
          0.9651695133393,
          0,
          2150.193623091665,
          4.472210315041,
          2159.091236341774,
          0.0129328844888,
          175.192560144575,
          110.4979001521054,
          0.70661188220947,
          2550.4870060767375,
          588.3289674081158,
          315928.7913706737,
          5.0385465027131,
          10.121320468548,
          0,
          0,
          0.0208111975506,
          3.8103713331914,
          281.1515425709867,
          120.72549941415367,
          82.2963373907104,
          135.0293880778979,
          153.09718352532872,
          29.25035059997339,
          369.1321458404203,
          37.60341443108003,
          1242.7553115760286,
          0.441066293914
         ],
         "yaxis": "y"
        }
       ],
       "layout": {
        "autosize": true,
        "barmode": "relative",
        "legend": {
         "title": {
          "text": "variable"
         },
         "tracegroupgap": 0
        },
        "margin": {
         "t": 60
        },
        "template": {
         "data": {
          "bar": [
           {
            "error_x": {
             "color": "#2a3f5f"
            },
            "error_y": {
             "color": "#2a3f5f"
            },
            "marker": {
             "line": {
              "color": "#E5ECF6",
              "width": 0.5
             },
             "pattern": {
              "fillmode": "overlay",
              "size": 10,
              "solidity": 0.2
             }
            },
            "type": "bar"
           }
          ],
          "barpolar": [
           {
            "marker": {
             "line": {
              "color": "#E5ECF6",
              "width": 0.5
             },
             "pattern": {
              "fillmode": "overlay",
              "size": 10,
              "solidity": 0.2
             }
            },
            "type": "barpolar"
           }
          ],
          "carpet": [
           {
            "aaxis": {
             "endlinecolor": "#2a3f5f",
             "gridcolor": "white",
             "linecolor": "white",
             "minorgridcolor": "white",
             "startlinecolor": "#2a3f5f"
            },
            "baxis": {
             "endlinecolor": "#2a3f5f",
             "gridcolor": "white",
             "linecolor": "white",
             "minorgridcolor": "white",
             "startlinecolor": "#2a3f5f"
            },
            "type": "carpet"
           }
          ],
          "choropleth": [
           {
            "colorbar": {
             "outlinewidth": 0,
             "ticks": ""
            },
            "type": "choropleth"
           }
          ],
          "contour": [
           {
            "colorbar": {
             "outlinewidth": 0,
             "ticks": ""
            },
            "colorscale": [
             [
              0,
              "#0d0887"
             ],
             [
              0.1111111111111111,
              "#46039f"
             ],
             [
              0.2222222222222222,
              "#7201a8"
             ],
             [
              0.3333333333333333,
              "#9c179e"
             ],
             [
              0.4444444444444444,
              "#bd3786"
             ],
             [
              0.5555555555555556,
              "#d8576b"
             ],
             [
              0.6666666666666666,
              "#ed7953"
             ],
             [
              0.7777777777777778,
              "#fb9f3a"
             ],
             [
              0.8888888888888888,
              "#fdca26"
             ],
             [
              1,
              "#f0f921"
             ]
            ],
            "type": "contour"
           }
          ],
          "contourcarpet": [
           {
            "colorbar": {
             "outlinewidth": 0,
             "ticks": ""
            },
            "type": "contourcarpet"
           }
          ],
          "heatmap": [
           {
            "colorbar": {
             "outlinewidth": 0,
             "ticks": ""
            },
            "colorscale": [
             [
              0,
              "#0d0887"
             ],
             [
              0.1111111111111111,
              "#46039f"
             ],
             [
              0.2222222222222222,
              "#7201a8"
             ],
             [
              0.3333333333333333,
              "#9c179e"
             ],
             [
              0.4444444444444444,
              "#bd3786"
             ],
             [
              0.5555555555555556,
              "#d8576b"
             ],
             [
              0.6666666666666666,
              "#ed7953"
             ],
             [
              0.7777777777777778,
              "#fb9f3a"
             ],
             [
              0.8888888888888888,
              "#fdca26"
             ],
             [
              1,
              "#f0f921"
             ]
            ],
            "type": "heatmap"
           }
          ],
          "heatmapgl": [
           {
            "colorbar": {
             "outlinewidth": 0,
             "ticks": ""
            },
            "colorscale": [
             [
              0,
              "#0d0887"
             ],
             [
              0.1111111111111111,
              "#46039f"
             ],
             [
              0.2222222222222222,
              "#7201a8"
             ],
             [
              0.3333333333333333,
              "#9c179e"
             ],
             [
              0.4444444444444444,
              "#bd3786"
             ],
             [
              0.5555555555555556,
              "#d8576b"
             ],
             [
              0.6666666666666666,
              "#ed7953"
             ],
             [
              0.7777777777777778,
              "#fb9f3a"
             ],
             [
              0.8888888888888888,
              "#fdca26"
             ],
             [
              1,
              "#f0f921"
             ]
            ],
            "type": "heatmapgl"
           }
          ],
          "histogram": [
           {
            "marker": {
             "pattern": {
              "fillmode": "overlay",
              "size": 10,
              "solidity": 0.2
             }
            },
            "type": "histogram"
           }
          ],
          "histogram2d": [
           {
            "colorbar": {
             "outlinewidth": 0,
             "ticks": ""
            },
            "colorscale": [
             [
              0,
              "#0d0887"
             ],
             [
              0.1111111111111111,
              "#46039f"
             ],
             [
              0.2222222222222222,
              "#7201a8"
             ],
             [
              0.3333333333333333,
              "#9c179e"
             ],
             [
              0.4444444444444444,
              "#bd3786"
             ],
             [
              0.5555555555555556,
              "#d8576b"
             ],
             [
              0.6666666666666666,
              "#ed7953"
             ],
             [
              0.7777777777777778,
              "#fb9f3a"
             ],
             [
              0.8888888888888888,
              "#fdca26"
             ],
             [
              1,
              "#f0f921"
             ]
            ],
            "type": "histogram2d"
           }
          ],
          "histogram2dcontour": [
           {
            "colorbar": {
             "outlinewidth": 0,
             "ticks": ""
            },
            "colorscale": [
             [
              0,
              "#0d0887"
             ],
             [
              0.1111111111111111,
              "#46039f"
             ],
             [
              0.2222222222222222,
              "#7201a8"
             ],
             [
              0.3333333333333333,
              "#9c179e"
             ],
             [
              0.4444444444444444,
              "#bd3786"
             ],
             [
              0.5555555555555556,
              "#d8576b"
             ],
             [
              0.6666666666666666,
              "#ed7953"
             ],
             [
              0.7777777777777778,
              "#fb9f3a"
             ],
             [
              0.8888888888888888,
              "#fdca26"
             ],
             [
              1,
              "#f0f921"
             ]
            ],
            "type": "histogram2dcontour"
           }
          ],
          "mesh3d": [
           {
            "colorbar": {
             "outlinewidth": 0,
             "ticks": ""
            },
            "type": "mesh3d"
           }
          ],
          "parcoords": [
           {
            "line": {
             "colorbar": {
              "outlinewidth": 0,
              "ticks": ""
             }
            },
            "type": "parcoords"
           }
          ],
          "pie": [
           {
            "automargin": true,
            "type": "pie"
           }
          ],
          "scatter": [
           {
            "marker": {
             "colorbar": {
              "outlinewidth": 0,
              "ticks": ""
             }
            },
            "type": "scatter"
           }
          ],
          "scatter3d": [
           {
            "line": {
             "colorbar": {
              "outlinewidth": 0,
              "ticks": ""
             }
            },
            "marker": {
             "colorbar": {
              "outlinewidth": 0,
              "ticks": ""
             }
            },
            "type": "scatter3d"
           }
          ],
          "scattercarpet": [
           {
            "marker": {
             "colorbar": {
              "outlinewidth": 0,
              "ticks": ""
             }
            },
            "type": "scattercarpet"
           }
          ],
          "scattergeo": [
           {
            "marker": {
             "colorbar": {
              "outlinewidth": 0,
              "ticks": ""
             }
            },
            "type": "scattergeo"
           }
          ],
          "scattergl": [
           {
            "marker": {
             "colorbar": {
              "outlinewidth": 0,
              "ticks": ""
             }
            },
            "type": "scattergl"
           }
          ],
          "scattermapbox": [
           {
            "marker": {
             "colorbar": {
              "outlinewidth": 0,
              "ticks": ""
             }
            },
            "type": "scattermapbox"
           }
          ],
          "scatterpolar": [
           {
            "marker": {
             "colorbar": {
              "outlinewidth": 0,
              "ticks": ""
             }
            },
            "type": "scatterpolar"
           }
          ],
          "scatterpolargl": [
           {
            "marker": {
             "colorbar": {
              "outlinewidth": 0,
              "ticks": ""
             }
            },
            "type": "scatterpolargl"
           }
          ],
          "scatterternary": [
           {
            "marker": {
             "colorbar": {
              "outlinewidth": 0,
              "ticks": ""
             }
            },
            "type": "scatterternary"
           }
          ],
          "surface": [
           {
            "colorbar": {
             "outlinewidth": 0,
             "ticks": ""
            },
            "colorscale": [
             [
              0,
              "#0d0887"
             ],
             [
              0.1111111111111111,
              "#46039f"
             ],
             [
              0.2222222222222222,
              "#7201a8"
             ],
             [
              0.3333333333333333,
              "#9c179e"
             ],
             [
              0.4444444444444444,
              "#bd3786"
             ],
             [
              0.5555555555555556,
              "#d8576b"
             ],
             [
              0.6666666666666666,
              "#ed7953"
             ],
             [
              0.7777777777777778,
              "#fb9f3a"
             ],
             [
              0.8888888888888888,
              "#fdca26"
             ],
             [
              1,
              "#f0f921"
             ]
            ],
            "type": "surface"
           }
          ],
          "table": [
           {
            "cells": {
             "fill": {
              "color": "#EBF0F8"
             },
             "line": {
              "color": "white"
             }
            },
            "header": {
             "fill": {
              "color": "#C8D4E3"
             },
             "line": {
              "color": "white"
             }
            },
            "type": "table"
           }
          ]
         },
         "layout": {
          "annotationdefaults": {
           "arrowcolor": "#2a3f5f",
           "arrowhead": 0,
           "arrowwidth": 1
          },
          "autotypenumbers": "strict",
          "coloraxis": {
           "colorbar": {
            "outlinewidth": 0,
            "ticks": ""
           }
          },
          "colorscale": {
           "diverging": [
            [
             0,
             "#8e0152"
            ],
            [
             0.1,
             "#c51b7d"
            ],
            [
             0.2,
             "#de77ae"
            ],
            [
             0.3,
             "#f1b6da"
            ],
            [
             0.4,
             "#fde0ef"
            ],
            [
             0.5,
             "#f7f7f7"
            ],
            [
             0.6,
             "#e6f5d0"
            ],
            [
             0.7,
             "#b8e186"
            ],
            [
             0.8,
             "#7fbc41"
            ],
            [
             0.9,
             "#4d9221"
            ],
            [
             1,
             "#276419"
            ]
           ],
           "sequential": [
            [
             0,
             "#0d0887"
            ],
            [
             0.1111111111111111,
             "#46039f"
            ],
            [
             0.2222222222222222,
             "#7201a8"
            ],
            [
             0.3333333333333333,
             "#9c179e"
            ],
            [
             0.4444444444444444,
             "#bd3786"
            ],
            [
             0.5555555555555556,
             "#d8576b"
            ],
            [
             0.6666666666666666,
             "#ed7953"
            ],
            [
             0.7777777777777778,
             "#fb9f3a"
            ],
            [
             0.8888888888888888,
             "#fdca26"
            ],
            [
             1,
             "#f0f921"
            ]
           ],
           "sequentialminus": [
            [
             0,
             "#0d0887"
            ],
            [
             0.1111111111111111,
             "#46039f"
            ],
            [
             0.2222222222222222,
             "#7201a8"
            ],
            [
             0.3333333333333333,
             "#9c179e"
            ],
            [
             0.4444444444444444,
             "#bd3786"
            ],
            [
             0.5555555555555556,
             "#d8576b"
            ],
            [
             0.6666666666666666,
             "#ed7953"
            ],
            [
             0.7777777777777778,
             "#fb9f3a"
            ],
            [
             0.8888888888888888,
             "#fdca26"
            ],
            [
             1,
             "#f0f921"
            ]
           ]
          },
          "colorway": [
           "#636efa",
           "#EF553B",
           "#00cc96",
           "#ab63fa",
           "#FFA15A",
           "#19d3f3",
           "#FF6692",
           "#B6E880",
           "#FF97FF",
           "#FECB52"
          ],
          "font": {
           "color": "#2a3f5f"
          },
          "geo": {
           "bgcolor": "white",
           "lakecolor": "white",
           "landcolor": "#E5ECF6",
           "showlakes": true,
           "showland": true,
           "subunitcolor": "white"
          },
          "hoverlabel": {
           "align": "left"
          },
          "hovermode": "closest",
          "mapbox": {
           "style": "light"
          },
          "paper_bgcolor": "white",
          "plot_bgcolor": "#E5ECF6",
          "polar": {
           "angularaxis": {
            "gridcolor": "white",
            "linecolor": "white",
            "ticks": ""
           },
           "bgcolor": "#E5ECF6",
           "radialaxis": {
            "gridcolor": "white",
            "linecolor": "white",
            "ticks": ""
           }
          },
          "scene": {
           "xaxis": {
            "backgroundcolor": "#E5ECF6",
            "gridcolor": "white",
            "gridwidth": 2,
            "linecolor": "white",
            "showbackground": true,
            "ticks": "",
            "zerolinecolor": "white"
           },
           "yaxis": {
            "backgroundcolor": "#E5ECF6",
            "gridcolor": "white",
            "gridwidth": 2,
            "linecolor": "white",
            "showbackground": true,
            "ticks": "",
            "zerolinecolor": "white"
           },
           "zaxis": {
            "backgroundcolor": "#E5ECF6",
            "gridcolor": "white",
            "gridwidth": 2,
            "linecolor": "white",
            "showbackground": true,
            "ticks": "",
            "zerolinecolor": "white"
           }
          },
          "shapedefaults": {
           "line": {
            "color": "#2a3f5f"
           }
          },
          "ternary": {
           "aaxis": {
            "gridcolor": "white",
            "linecolor": "white",
            "ticks": ""
           },
           "baxis": {
            "gridcolor": "white",
            "linecolor": "white",
            "ticks": ""
           },
           "bgcolor": "#E5ECF6",
           "caxis": {
            "gridcolor": "white",
            "linecolor": "white",
            "ticks": ""
           }
          },
          "title": {
           "x": 0.05
          },
          "xaxis": {
           "automargin": true,
           "gridcolor": "white",
           "linecolor": "white",
           "ticks": "",
           "title": {
            "standoff": 15
           },
           "zerolinecolor": "white",
           "zerolinewidth": 2
          },
          "yaxis": {
           "automargin": true,
           "gridcolor": "white",
           "linecolor": "white",
           "ticks": "",
           "title": {
            "standoff": 15
           },
           "zerolinecolor": "white",
           "zerolinewidth": 2
          }
         }
        },
        "xaxis": {
         "anchor": "y",
         "autorange": true,
         "domain": [
          0,
          1
         ],
         "range": [
          -0.5,
          42.5
         ],
         "title": {
          "text": "gene_biotype"
         },
         "type": "category"
        },
        "yaxis": {
         "anchor": "x",
         "autorange": true,
         "domain": [
          0,
          1
         ],
         "range": [
          0,
          332556.622495446
         ],
         "title": {
          "text": "value"
         },
         "type": "linear"
        }
       }
      },
      "image/png": "[encoded data removed]",
      "text/html": [
       "<div>                            <div id=\"0a7d3792-8538-4d8d-a33a-b0e072ce9d9e\" class=\"plotly-graph-div\" style=\"height:525px; width:100%;\"></div>            <script type=\"text/javascript\">                require([\"plotly\"], function(Plotly) {                    window.PLOTLYENV=window.PLOTLYENV || {};                                    if (document.getElementById(\"0a7d3792-8538-4d8d-a33a-b0e072ce9d9e\")) {                    Plotly.newPlot(                        \"0a7d3792-8538-4d8d-a33a-b0e072ce9d9e\",                        [{\"alignmentgroup\":\"True\",\"hovertemplate\":\"variable=FPKM<br>gene_biotype=%{x}<br>value=%{y}<extra></extra>\",\"legendgroup\":\"FPKM\",\"marker\":{\"color\":\"#636efa\",\"pattern\":{\"shape\":\"\"}},\"name\":\"FPKM\",\"offsetgroup\":\"FPKM\",\"orientation\":\"v\",\"showlegend\":true,\"textposition\":\"auto\",\"x\":[\"3prime_overlapping_ncRNA\",\"IG_C_gene\",\"IG_C_pseudogene\",\"IG_D_gene\",\"IG_J_gene\",\"IG_J_pseudogene\",\"IG_V_gene\",\"IG_V_pseudogene\",\"Mt_rRNA\",\"Mt_tRNA\",\"TEC\",\"TR_C_gene\",\"TR_D_gene\",\"TR_J_gene\",\"TR_J_pseudogene\",\"TR_V_gene\",\"TR_V_pseudogene\",\"antisense\",\"bidirectional_promoter_lncRNA\",\"lincRNA\",\"macro_lncRNA\",\"miRNA\",\"misc_RNA\",\"polymorphic_pseudogene\",\"processed_pseudogene\",\"processed_transcript\",\"protein_coding\",\"pseudogene\",\"rRNA\",\"ribozyme\",\"sRNA\",\"scRNA\",\"scaRNA\",\"sense_intronic\",\"sense_overlapping\",\"snRNA\",\"snoRNA\",\"transcribed_processed_pseudogene\",\"transcribed_unitary_pseudogene\",\"transcribed_unprocessed_pseudogene\",\"unitary_pseudogene\",\"unprocessed_pseudogene\",\"vaultRNA\"],\"xaxis\":\"x\",\"y\":[13.2731811619719,85.8908337472706,1.4161375416881001,0.0,0.740130475149,0.0,25.3503379458173,0.1633199639501,6038.606560122,882.967660530394,211.4569151937807,0.9657625994453,0.0,0.0,0.0,0.9651695133393,0.0,2150.193623091665,4.472210315041,2159.091236341774,0.0129328844888,175.192560144575,110.4979001521054,0.70661188220947,2550.4870060767375,588.3289674081158,315928.7913706737,5.0385465027131,10.121320468548,0.0,0.0,0.0208111975506,3.8103713331914,281.1515425709867,120.72549941415367,82.2963373907104,135.0293880778979,153.09718352532872,29.25035059997339,369.1321458404203,37.60341443108003,1242.7553115760286,0.441066293914],\"yaxis\":\"y\",\"type\":\"bar\"}],                        {\"template\":{\"data\":{\"bar\":[{\"error_x\":{\"color\":\"#2a3f5f\"},\"error_y\":{\"color\":\"#2a3f5f\"},\"marker\":{\"line\":{\"color\":\"#E5ECF6\",\"width\":0.5},\"pattern\":{\"fillmode\":\"overlay\",\"size\":10,\"solidity\":0.2}},\"type\":\"bar\"}],\"barpolar\":[{\"marker\":{\"line\":{\"color\":\"#E5ECF6\",\"width\":0.5},\"pattern\":{\"fillmode\":\"overlay\",\"size\":10,\"solidity\":0.2}},\"type\":\"barpolar\"}],\"carpet\":[{\"aaxis\":{\"endlinecolor\":\"#2a3f5f\",\"gridcolor\":\"white\",\"linecolor\":\"white\",\"minorgridcolor\":\"white\",\"startlinecolor\":\"#2a3f5f\"},\"baxis\":{\"endlinecolor\":\"#2a3f5f\",\"gridcolor\":\"white\",\"linecolor\":\"white\",\"minorgridcolor\":\"white\",\"startlinecolor\":\"#2a3f5f\"},\"type\":\"carpet\"}],\"choropleth\":[{\"colorbar\":{\"outlinewidth\":0,\"ticks\":\"\"},\"type\":\"choropleth\"}],\"contour\":[{\"colorbar\":{\"outlinewidth\":0,\"ticks\":\"\"},\"colorscale\":[[0.0,\"#0d0887\"],[0.1111111111111111,\"#46039f\"],[0.2222222222222222,\"#7201a8\"],[0.3333333333333333,\"#9c179e\"],[0.4444444444444444,\"#bd3786\"],[0.5555555555555556,\"#d8576b\"],[0.6666666666666666,\"#ed7953\"],[0.7777777777777778,\"#fb9f3a\"],[0.8888888888888888,\"#fdca26\"],[1.0,\"#f0f921\"]],\"type\":\"contour\"}],\"contourcarpet\":[{\"colorbar\":{\"outlinewidth\":0,\"ticks\":\"\"},\"type\":\"contourcarpet\"}],\"heatmap\":[{\"colorbar\":{\"outlinewidth\":0,\"ticks\":\"\"},\"colorscale\":[[0.0,\"#0d0887\"],[0.1111111111111111,\"#46039f\"],[0.2222222222222222,\"#7201a8\"],[0.3333333333333333,\"#9c179e\"],[0.4444444444444444,\"#bd3786\"],[0.5555555555555556,\"#d8576b\"],[0.6666666666666666,\"#ed7953\"],[0.7777777777777778,\"#fb9f3a\"],[0.8888888888888888,\"#fdca26\"],[1.0,\"#f0f921\"]],\"type\":\"heatmap\"}],\"heatmapgl\":[{\"colorbar\":{\"outlinewidth\":0,\"ticks\":\"\"},\"colorscale\":[[0.0,\"#0d0887\"],[0.1111111111111111,\"#46039f\"],[0.2222222222222222,\"#7201a8\"],[0.3333333333333333,\"#9c179e\"],[0.4444444444444444,\"#bd3786\"],[0.5555555555555556,\"#d8576b\"],[0.6666666666666666,\"#ed7953\"],[0.7777777777777778,\"#fb9f3a\"],[0.8888888888888888,\"#fdca26\"],[1.0,\"#f0f921\"]],\"type\":\"heatmapgl\"}],\"histogram\":[{\"marker\":{\"pattern\":{\"fillmode\":\"overlay\",\"size\":10,\"solidity\":0.2}},\"type\":\"histogram\"}],\"histogram2d\":[{\"colorbar\":{\"outlinewidth\":0,\"ticks\":\"\"},\"colorscale\":[[0.0,\"#0d0887\"],[0.1111111111111111,\"#46039f\"],[0.2222222222222222,\"#7201a8\"],[0.3333333333333333,\"#9c179e\"],[0.4444444444444444,\"#bd3786\"],[0.5555555555555556,\"#d8576b\"],[0.6666666666666666,\"#ed7953\"],[0.7777777777777778,\"#fb9f3a\"],[0.8888888888888888,\"#fdca26\"],[1.0,\"#f0f921\"]],\"type\":\"histogram2d\"}],\"histogram2dcontour\":[{\"colorbar\":{\"outlinewidth\":0,\"ticks\":\"\"},\"colorscale\":[[0.0,\"#0d0887\"],[0.1111111111111111,\"#46039f\"],[0.2222222222222222,\"#7201a8\"],[0.3333333333333333,\"#9c179e\"],[0.4444444444444444,\"#bd3786\"],[0.5555555555555556,\"#d8576b\"],[0.6666666666666666,\"#ed7953\"],[0.7777777777777778,\"#fb9f3a\"],[0.8888888888888888,\"#fdca26\"],[1.0,\"#f0f921\"]],\"type\":\"histogram2dcontour\"}],\"mesh3d\":[{\"colorbar\":{\"outlinewidth\":0,\"ticks\":\"\"},\"type\":\"mesh3d\"}],\"parcoords\":[{\"line\":{\"colorbar\":{\"outlinewidth\":0,\"ticks\":\"\"}},\"type\":\"parcoords\"}],\"pie\":[{\"automargin\":true,\"type\":\"pie\"}],\"scatter\":[{\"marker\":{\"colorbar\":{\"outlinewidth\":0,\"ticks\":\"\"}},\"type\":\"scatter\"}],\"scatter3d\":[{\"line\":{\"colorbar\":{\"outlinewidth\":0,\"ticks\":\"\"}},\"marker\":{\"colorbar\":{\"outlinewidth\":0,\"ticks\":\"\"}},\"type\":\"scatter3d\"}],\"scattercarpet\":[{\"marker\":{\"colorbar\":{\"outlinewidth\":0,\"ticks\":\"\"}},\"type\":\"scattercarpet\"}],\"scattergeo\":[{\"marker\":{\"colorbar\":{\"outlinewidth\":0,\"ticks\":\"\"}},\"type\":\"scattergeo\"}],\"scattergl\":[{\"marker\":{\"colorbar\":{\"outlinewidth\":0,\"ticks\":\"\"}},\"type\":\"scattergl\"}],\"scattermapbox\":[{\"marker\":{\"colorbar\":{\"outlinewidth\":0,\"ticks\":\"\"}},\"type\":\"scattermapbox\"}],\"scatterpolar\":[{\"marker\":{\"colorbar\":{\"outlinewidth\":0,\"ticks\":\"\"}},\"type\":\"scatterpolar\"}],\"scatterpolargl\":[{\"marker\":{\"colorbar\":{\"outlinewidth\":0,\"ticks\":\"\"}},\"type\":\"scatterpolargl\"}],\"scatterternary\":[{\"marker\":{\"colorbar\":{\"outlinewidth\":0,\"ticks\":\"\"}},\"type\":\"scatterternary\"}],\"surface\":[{\"colorbar\":{\"outlinewidth\":0,\"ticks\":\"\"},\"colorscale\":[[0.0,\"#0d0887\"],[0.1111111111111111,\"#46039f\"],[0.2222222222222222,\"#7201a8\"],[0.3333333333333333,\"#9c179e\"],[0.4444444444444444,\"#bd3786\"],[0.5555555555555556,\"#d8576b\"],[0.6666666666666666,\"#ed7953\"],[0.7777777777777778,\"#fb9f3a\"],[0.8888888888888888,\"#fdca26\"],[1.0,\"#f0f921\"]],\"type\":\"surface\"}],\"table\":[{\"cells\":{\"fill\":{\"color\":\"#EBF0F8\"},\"line\":{\"color\":\"white\"}},\"header\":{\"fill\":{\"color\":\"#C8D4E3\"},\"line\":{\"color\":\"white\"}},\"type\":\"table\"}]},\"layout\":{\"annotationdefaults\":{\"arrowcolor\":\"#2a3f5f\",\"arrowhead\":0,\"arrowwidth\":1},\"autotypenumbers\":\"strict\",\"coloraxis\":{\"colorbar\":{\"outlinewidth\":0,\"ticks\":\"\"}},\"colorscale\":{\"diverging\":[[0,\"#8e0152\"],[0.1,\"#c51b7d\"],[0.2,\"#de77ae\"],[0.3,\"#f1b6da\"],[0.4,\"#fde0ef\"],[0.5,\"#f7f7f7\"],[0.6,\"#e6f5d0\"],[0.7,\"#b8e186\"],[0.8,\"#7fbc41\"],[0.9,\"#4d9221\"],[1,\"#276419\"]],\"sequential\":[[0.0,\"#0d0887\"],[0.1111111111111111,\"#46039f\"],[0.2222222222222222,\"#7201a8\"],[0.3333333333333333,\"#9c179e\"],[0.4444444444444444,\"#bd3786\"],[0.5555555555555556,\"#d8576b\"],[0.6666666666666666,\"#ed7953\"],[0.7777777777777778,\"#fb9f3a\"],[0.8888888888888888,\"#fdca26\"],[1.0,\"#f0f921\"]],\"sequentialminus\":[[0.0,\"#0d0887\"],[0.1111111111111111,\"#46039f\"],[0.2222222222222222,\"#7201a8\"],[0.3333333333333333,\"#9c179e\"],[0.4444444444444444,\"#bd3786\"],[0.5555555555555556,\"#d8576b\"],[0.6666666666666666,\"#ed7953\"],[0.7777777777777778,\"#fb9f3a\"],[0.8888888888888888,\"#fdca26\"],[1.0,\"#f0f921\"]]},\"colorway\":[\"#636efa\",\"#EF553B\",\"#00cc96\",\"#ab63fa\",\"#FFA15A\",\"#19d3f3\",\"#FF6692\",\"#B6E880\",\"#FF97FF\",\"#FECB52\"],\"font\":{\"color\":\"#2a3f5f\"},\"geo\":{\"bgcolor\":\"white\",\"lakecolor\":\"white\",\"landcolor\":\"#E5ECF6\",\"showlakes\":true,\"showland\":true,\"subunitcolor\":\"white\"},\"hoverlabel\":{\"align\":\"left\"},\"hovermode\":\"closest\",\"mapbox\":{\"style\":\"light\"},\"paper_bgcolor\":\"white\",\"plot_bgcolor\":\"#E5ECF6\",\"polar\":{\"angularaxis\":{\"gridcolor\":\"white\",\"linecolor\":\"white\",\"ticks\":\"\"},\"bgcolor\":\"#E5ECF6\",\"radialaxis\":{\"gridcolor\":\"white\",\"linecolor\":\"white\",\"ticks\":\"\"}},\"scene\":{\"xaxis\":{\"backgroundcolor\":\"#E5ECF6\",\"gridcolor\":\"white\",\"gridwidth\":2,\"linecolor\":\"white\",\"showbackground\":true,\"ticks\":\"\",\"zerolinecolor\":\"white\"},\"yaxis\":{\"backgroundcolor\":\"#E5ECF6\",\"gridcolor\":\"white\",\"gridwidth\":2,\"linecolor\":\"white\",\"showbackground\":true,\"ticks\":\"\",\"zerolinecolor\":\"white\"},\"zaxis\":{\"backgroundcolor\":\"#E5ECF6\",\"gridcolor\":\"white\",\"gridwidth\":2,\"linecolor\":\"white\",\"showbackground\":true,\"ticks\":\"\",\"zerolinecolor\":\"white\"}},\"shapedefaults\":{\"line\":{\"color\":\"#2a3f5f\"}},\"ternary\":{\"aaxis\":{\"gridcolor\":\"white\",\"linecolor\":\"white\",\"ticks\":\"\"},\"baxis\":{\"gridcolor\":\"white\",\"linecolor\":\"white\",\"ticks\":\"\"},\"bgcolor\":\"#E5ECF6\",\"caxis\":{\"gridcolor\":\"white\",\"linecolor\":\"white\",\"ticks\":\"\"}},\"title\":{\"x\":0.05},\"xaxis\":{\"automargin\":true,\"gridcolor\":\"white\",\"linecolor\":\"white\",\"ticks\":\"\",\"title\":{\"standoff\":15},\"zerolinecolor\":\"white\",\"zerolinewidth\":2},\"yaxis\":{\"automargin\":true,\"gridcolor\":\"white\",\"linecolor\":\"white\",\"ticks\":\"\",\"title\":{\"standoff\":15},\"zerolinecolor\":\"white\",\"zerolinewidth\":2}}},\"xaxis\":{\"anchor\":\"y\",\"domain\":[0.0,1.0],\"title\":{\"text\":\"gene_biotype\"}},\"yaxis\":{\"anchor\":\"x\",\"domain\":[0.0,1.0],\"title\":{\"text\":\"value\"}},\"legend\":{\"title\":{\"text\":\"variable\"},\"tracegroupgap\":0},\"margin\":{\"t\":60},\"barmode\":\"relative\"},                        {\"responsive\": true}                    ).then(function(){\n",
       "                            \n",
       "var gd = document.getElementById('0a7d3792-8538-4d8d-a33a-b0e072ce9d9e');\n",
       "var x = new MutationObserver(function (mutations, observer) {{\n",
       "        var display = window.getComputedStyle(gd).display;\n",
       "        if (!display || display === 'none') {{\n",
       "            console.log([gd, 'removed!']);\n",
       "            Plotly.purge(gd);\n",
       "            observer.disconnect();\n",
       "        }}\n",
       "}});\n",
       "\n",
       "// Listen for the removal of the full notebook cells\n",
       "var notebookContainer = gd.closest('#notebook-container');\n",
       "if (notebookContainer) {{\n",
       "    x.observe(notebookContainer, {childList: true});\n",
       "}}\n",
       "\n",
       "// Listen for the clearing of the current output cell\n",
       "var outputEl = gd.closest('.output');\n",
       "if (outputEl) {{\n",
       "    x.observe(outputEl, {childList: true});\n",
       "}}\n",
       "\n",
       "                        })                };                });            </script>        </div>"
      ]
     },
     "metadata": {},
     "output_type": "display_data"
    }
   ],
   "source": [
    "df_joined_on_gene_id.groupby(\"gene_biotype\")[\"FPKM\"].sum().plot(\n",
    "    kind=\"bar\", backend=\"plotly\"\n",
    ")"
   ]
  },
  {
   "cell_type": "markdown",
   "id": "9cf2a0fb-68e7-4c1c-a9a6-159bf8ddfd04",
   "metadata": {},
   "source": [
    "## appendix: also tried joining on gene id AND version, but this was signif worse"
   ]
  },
  {
   "cell_type": "code",
   "execution_count": 50,
   "id": "e613b48c-f570-48b2-90be-7a8cf2ee5ee2",
   "metadata": {
    "execution": {
     "iopub.execute_input": "2022-04-14T20:22:34.800395Z",
     "iopub.status.busy": "2022-04-14T20:22:34.800164Z",
     "iopub.status.idle": "2022-04-14T20:22:34.875205Z",
     "shell.execute_reply": "2022-04-14T20:22:34.874517Z",
     "shell.execute_reply.started": "2022-04-14T20:22:34.800373Z"
    },
    "tags": []
   },
   "outputs": [
    {
     "data": {
      "text/html": [
       "<div>\n",
       "<style scoped>\n",
       "    .dataframe tbody tr th:only-of-type {\n",
       "        vertical-align: middle;\n",
       "    }\n",
       "\n",
       "    .dataframe tbody tr th {\n",
       "        vertical-align: top;\n",
       "    }\n",
       "\n",
       "    .dataframe thead th {\n",
       "        text-align: right;\n",
       "    }\n",
       "</style>\n",
       "<table border=\"1\" class=\"dataframe\">\n",
       "  <thead>\n",
       "    <tr style=\"text-align: right;\">\n",
       "      <th></th>\n",
       "      <th>gene_id_and_version</th>\n",
       "      <th>FPKM</th>\n",
       "      <th>gene_id_x</th>\n",
       "      <th>gene_version_x</th>\n",
       "      <th>gene_biotype</th>\n",
       "      <th>gene_name</th>\n",
       "      <th>gene_id_y</th>\n",
       "      <th>gene_version_y</th>\n",
       "      <th>count_rows</th>\n",
       "    </tr>\n",
       "  </thead>\n",
       "  <tbody>\n",
       "    <tr>\n",
       "      <th>0</th>\n",
       "      <td>ENSG00000242268.2</td>\n",
       "      <td>0.000000</td>\n",
       "      <td>ENSG00000242268</td>\n",
       "      <td>2</td>\n",
       "      <td>lincRNA</td>\n",
       "      <td>RP11-368I23.2</td>\n",
       "      <td>ENSG00000242268</td>\n",
       "      <td>2.0</td>\n",
       "      <td>6.0</td>\n",
       "    </tr>\n",
       "    <tr>\n",
       "      <th>1</th>\n",
       "      <td>ENSG00000270112.3</td>\n",
       "      <td>0.000000</td>\n",
       "      <td>ENSG00000270112</td>\n",
       "      <td>3</td>\n",
       "      <td>processed_transcript</td>\n",
       "      <td>RP11-742D12.2</td>\n",
       "      <td>ENSG00000270112</td>\n",
       "      <td>3.0</td>\n",
       "      <td>9.0</td>\n",
       "    </tr>\n",
       "    <tr>\n",
       "      <th>2</th>\n",
       "      <td>ENSG00000167578.15</td>\n",
       "      <td>6.891068</td>\n",
       "      <td>ENSG00000167578</td>\n",
       "      <td>15</td>\n",
       "      <td>NaN</td>\n",
       "      <td>NaN</td>\n",
       "      <td>NaN</td>\n",
       "      <td>NaN</td>\n",
       "      <td>NaN</td>\n",
       "    </tr>\n",
       "    <tr>\n",
       "      <th>3</th>\n",
       "      <td>ENSG00000273842.1</td>\n",
       "      <td>0.000000</td>\n",
       "      <td>ENSG00000273842</td>\n",
       "      <td>1</td>\n",
       "      <td>NaN</td>\n",
       "      <td>NaN</td>\n",
       "      <td>NaN</td>\n",
       "      <td>NaN</td>\n",
       "      <td>NaN</td>\n",
       "    </tr>\n",
       "    <tr>\n",
       "      <th>4</th>\n",
       "      <td>ENSG00000078237.5</td>\n",
       "      <td>8.628685</td>\n",
       "      <td>ENSG00000078237</td>\n",
       "      <td>5</td>\n",
       "      <td>NaN</td>\n",
       "      <td>NaN</td>\n",
       "      <td>NaN</td>\n",
       "      <td>NaN</td>\n",
       "      <td>NaN</td>\n",
       "    </tr>\n",
       "    <tr>\n",
       "      <th>...</th>\n",
       "      <td>...</td>\n",
       "      <td>...</td>\n",
       "      <td>...</td>\n",
       "      <td>...</td>\n",
       "      <td>...</td>\n",
       "      <td>...</td>\n",
       "      <td>...</td>\n",
       "      <td>...</td>\n",
       "      <td>...</td>\n",
       "    </tr>\n",
       "    <tr>\n",
       "      <th>60478</th>\n",
       "      <td>ENSG00000105063.17</td>\n",
       "      <td>17.687587</td>\n",
       "      <td>ENSG00000105063</td>\n",
       "      <td>17</td>\n",
       "      <td>NaN</td>\n",
       "      <td>NaN</td>\n",
       "      <td>NaN</td>\n",
       "      <td>NaN</td>\n",
       "      <td>NaN</td>\n",
       "    </tr>\n",
       "    <tr>\n",
       "      <th>60479</th>\n",
       "      <td>ENSG00000231119.2</td>\n",
       "      <td>0.082573</td>\n",
       "      <td>ENSG00000231119</td>\n",
       "      <td>2</td>\n",
       "      <td>antisense</td>\n",
       "      <td>RP4-569M23.2</td>\n",
       "      <td>ENSG00000231119</td>\n",
       "      <td>2.0</td>\n",
       "      <td>4.0</td>\n",
       "    </tr>\n",
       "    <tr>\n",
       "      <th>60480</th>\n",
       "      <td>ENSG00000280861.1</td>\n",
       "      <td>0.000000</td>\n",
       "      <td>ENSG00000280861</td>\n",
       "      <td>1</td>\n",
       "      <td>NaN</td>\n",
       "      <td>NaN</td>\n",
       "      <td>NaN</td>\n",
       "      <td>NaN</td>\n",
       "      <td>NaN</td>\n",
       "    </tr>\n",
       "    <tr>\n",
       "      <th>60481</th>\n",
       "      <td>ENSG00000123685.7</td>\n",
       "      <td>1.328293</td>\n",
       "      <td>ENSG00000123685</td>\n",
       "      <td>7</td>\n",
       "      <td>NaN</td>\n",
       "      <td>NaN</td>\n",
       "      <td>NaN</td>\n",
       "      <td>NaN</td>\n",
       "      <td>NaN</td>\n",
       "    </tr>\n",
       "    <tr>\n",
       "      <th>60482</th>\n",
       "      <td>ENSG00000181518.3</td>\n",
       "      <td>0.000000</td>\n",
       "      <td>ENSG00000181518</td>\n",
       "      <td>3</td>\n",
       "      <td>protein_coding</td>\n",
       "      <td>OR8D4</td>\n",
       "      <td>ENSG00000181518</td>\n",
       "      <td>3.0</td>\n",
       "      <td>8.0</td>\n",
       "    </tr>\n",
       "  </tbody>\n",
       "</table>\n",
       "<p>60483 rows × 9 columns</p>\n",
       "</div>"
      ],
      "text/plain": [
       "      gene_id_and_version       FPKM        gene_id_x gene_version_x  \\\n",
       "0       ENSG00000242268.2   0.000000  ENSG00000242268              2   \n",
       "1       ENSG00000270112.3   0.000000  ENSG00000270112              3   \n",
       "2      ENSG00000167578.15   6.891068  ENSG00000167578             15   \n",
       "3       ENSG00000273842.1   0.000000  ENSG00000273842              1   \n",
       "4       ENSG00000078237.5   8.628685  ENSG00000078237              5   \n",
       "...                   ...        ...              ...            ...   \n",
       "60478  ENSG00000105063.17  17.687587  ENSG00000105063             17   \n",
       "60479   ENSG00000231119.2   0.082573  ENSG00000231119              2   \n",
       "60480   ENSG00000280861.1   0.000000  ENSG00000280861              1   \n",
       "60481   ENSG00000123685.7   1.328293  ENSG00000123685              7   \n",
       "60482   ENSG00000181518.3   0.000000  ENSG00000181518              3   \n",
       "\n",
       "               gene_biotype      gene_name        gene_id_y  gene_version_y  \\\n",
       "0                   lincRNA  RP11-368I23.2  ENSG00000242268             2.0   \n",
       "1      processed_transcript  RP11-742D12.2  ENSG00000270112             3.0   \n",
       "2                       NaN            NaN              NaN             NaN   \n",
       "3                       NaN            NaN              NaN             NaN   \n",
       "4                       NaN            NaN              NaN             NaN   \n",
       "...                     ...            ...              ...             ...   \n",
       "60478                   NaN            NaN              NaN             NaN   \n",
       "60479             antisense   RP4-569M23.2  ENSG00000231119             2.0   \n",
       "60480                   NaN            NaN              NaN             NaN   \n",
       "60481                   NaN            NaN              NaN             NaN   \n",
       "60482        protein_coding          OR8D4  ENSG00000181518             3.0   \n",
       "\n",
       "       count_rows  \n",
       "0             6.0  \n",
       "1             9.0  \n",
       "2             NaN  \n",
       "3             NaN  \n",
       "4             NaN  \n",
       "...           ...  \n",
       "60478         NaN  \n",
       "60479         4.0  \n",
       "60480         NaN  \n",
       "60481         NaN  \n",
       "60482         8.0  \n",
       "\n",
       "[60483 rows x 9 columns]"
      ]
     },
     "execution_count": 50,
     "metadata": {},
     "output_type": "execute_result"
    }
   ],
   "source": [
    "df_joined_on_gene_id_and_version = pd.merge(\n",
    "    df, gene_id_names, how=\"left\", on=\"gene_id_and_version\"\n",
    ")\n",
    "df_joined_on_gene_id_and_version"
   ]
  },
  {
   "cell_type": "code",
   "execution_count": null,
   "id": "d659be73-b73d-459b-8354-e9640fa5cfac",
   "metadata": {},
   "outputs": [],
   "source": []
  }
 ],
 "metadata": {
  "environment": {
   "kernel": "conda-env-deconv-py",
   "name": "common-cpu.m84",
   "type": "gcloud",
   "uri": "gcr.io/deeplearning-platform-release/base-cpu:m84"
  },
  "kernelspec": {
   "display_name": "Python [conda env:deconv]",
   "language": "python",
   "name": "conda-env-deconv-py"
  },
  "language_info": {
   "codemirror_mode": {
    "name": "ipython",
    "version": 3
   },
   "file_extension": ".py",
   "mimetype": "text/x-python",
   "name": "python",
   "nbconvert_exporter": "python",
   "pygments_lexer": "ipython3",
   "version": "3.10.4"
  }
 },
 "nbformat": 4,
 "nbformat_minor": 5
}
