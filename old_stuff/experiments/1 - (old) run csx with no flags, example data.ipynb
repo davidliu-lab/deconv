{
 "cells": [
  {
   "cell_type": "code",
   "execution_count": 1,
   "id": "791da12c-33c5-43ee-82e0-3dbeae2e1fcd",
   "metadata": {},
   "outputs": [],
   "source": [
    "import os\n",
    "import urllib\n",
    "\n",
    "import pandas as pd\n",
    "\n",
    "from helpers.cell_type_naming import nice_to_weirds, weird_to_nice"
   ]
  },
  {
   "cell_type": "code",
   "execution_count": 2,
   "id": "0b4c70c1-bd8c-4d73-b833-c941a81b3cf3",
   "metadata": {},
   "outputs": [
    {
     "data": {
      "text/plain": [
       "'gs://liulab/csx_experiments/varying_simple_parameters/defaults'"
      ]
     },
     "execution_count": 2,
     "metadata": {},
     "output_type": "execute_result"
    }
   ],
   "source": [
    "experiment_name = \"defaults\"\n",
    "experiment_uri = os.path.join(\n",
    "    \"gs://liulab/csx_experiments/varying_simple_parameters\", experiment_name\n",
    ")\n",
    "\n",
    "experiment_uri"
   ]
  },
  {
   "cell_type": "code",
   "execution_count": 3,
   "id": "8205ea5b-72b0-454d-a400-77c0eb655d4f",
   "metadata": {},
   "outputs": [],
   "source": [
    "!gsutil --quiet rm -r $experiment_uri"
   ]
  },
  {
   "cell_type": "code",
   "execution_count": 4,
   "id": "10073627-fd92-467c-9e24-ca508e5ea8a9",
   "metadata": {
    "tags": []
   },
   "outputs": [
    {
     "name": "stdout",
     "output_type": "stream",
     "text": [
      "Copying gs://liulab/csx_example_files/Single_Cell_RNA-Seq_Melanoma_SuppFig_3b-d/mixture_melanoma_Tirosh_SuppFig_3b-d.txt [Content-Type=text/plain]...\n",
      "/ [1 files][  6.0 MiB/  6.0 MiB]                                                \n",
      "Operation completed over 1 objects/6.0 MiB.                                      \n",
      "Copying gs://liulab/csx_example_files/Single_Cell_RNA-Seq_Melanoma_SuppFig_3b-d/scRNA-Seq_reference_melanoma_Tirosh_SuppFig_3b-d.txt [Content-Type=text/plain]...\n",
      "/ [1 files][ 87.8 MiB/ 87.8 MiB]                                                \n",
      "Operation completed over 1 objects/87.8 MiB.                                     \n"
     ]
    }
   ],
   "source": [
    "mixture_source = \"gs://liulab/csx_example_files/Single_Cell_RNA-Seq_Melanoma_SuppFig_3b-d/mixture_melanoma_Tirosh_SuppFig_3b-d.txt\"\n",
    "# mixture_filename = os.path.basename(mixture_source)\n",
    "mixture_filename = \"mymixture.txt\"\n",
    "mixture_target = os.path.join(experiment_uri, \"in\", mixture_filename)\n",
    "\n",
    "!gsutil cp $mixture_source $mixture_target\n",
    "\n",
    "sc_refsample_source = \"gs://liulab/csx_example_files/Single_Cell_RNA-Seq_Melanoma_SuppFig_3b-d/scRNA-Seq_reference_melanoma_Tirosh_SuppFig_3b-d.txt\"\n",
    "# sc_refsample_filename = os.path.basename(sc_refsample_source)\n",
    "sc_refsample_filename = \"myscrefsample.txt\"\n",
    "sc_refsample_target = os.path.join(experiment_uri, \"in\", sc_refsample_filename)\n",
    "\n",
    "!gsutil cp $sc_refsample_source $sc_refsample_target"
   ]
  },
  {
   "cell_type": "code",
   "execution_count": 5,
   "id": "70747999-7b3d-4e36-b61f-d4845097d302",
   "metadata": {},
   "outputs": [],
   "source": [
    "experiment_path = \"/mnt/buckets/liulab\" + urllib.parse.urlparse(experiment_uri).path"
   ]
  },
  {
   "cell_type": "code",
   "execution_count": 6,
   "id": "0fae3980-4cb0-464d-9499-57fe2449d379",
   "metadata": {},
   "outputs": [
    {
     "name": "stdout",
     "output_type": "stream",
     "text": [
      "\u001b[01;34m/mnt/buckets/liulab/csx_experiments/varying_simple_parameters/defaults\u001b[00m\n",
      "└── [   0]  \u001b[01;34min\u001b[00m\n",
      "    ├── [6.0M]  mymixture.txt\n",
      "    └── [ 88M]  myscrefsample.txt\n",
      "\n",
      "1 directory, 2 files\n"
     ]
    }
   ],
   "source": [
    "!tree -h $experiment_path"
   ]
  },
  {
   "cell_type": "code",
   "execution_count": null,
   "id": "95212619-605a-429a-9b29-7bac3258a28b",
   "metadata": {},
   "outputs": [],
   "source": [
    "\"\"\"\n",
    ">[Options] single_cell: TRUE\n",
    ">[Options] refsample: files/william_grisaitis@dfci.harvard.edu/myrefsample.txt\n",
    ">[Options] replicates: 5\n",
    ">[Options] sampling: 0.5\n",
    ">[Options] fraction: 0.75\n",
    ">[Options] k.max: 999\n",
    ">[Options] q.value: 0.01\n",
    ">[Options] G.min: 300\n",
    ">[Options] G.max: 500\n",
    ">[Options] filter: FALSE\n",
    ">[Options] verbose: TRUE\n",
    ">[Options] QN: FALSE\n",
    ">[Options] outdir: files/william_grisaitis@dfci.harvard.edu/results/\n",
    "\"\"\""
   ]
  },
  {
   "cell_type": "code",
   "execution_count": 7,
   "id": "84e3b479-5ac5-40dd-a19c-c245c2c3d5fb",
   "metadata": {},
   "outputs": [
    {
     "name": "stdout",
     "output_type": "stream",
     "text": [
      "docker run \\\n",
      "     --rm \\\n",
      "     -v /mnt/buckets/liulab/csx_experiments/varying_simple_parameters/defaults/in:/src/data \\\n",
      "     -v /mnt/buckets/liulab/csx_experiments/varying_simple_parameters/defaults:/src/outdir \\\n",
      "     --user \"$(id -u):$(id -g)\" \\\n",
      "     cibersortx/fractions:latest \\\n",
      "     --username lyronctk@stanford.edu \\\n",
      "     --token dfeba2c8b9d61daebee5fa87026b8e56 \\\n",
      "     --single_cell TRUE \\\n",
      "     --refsample myscrefsample.txt \\\n",
      "     --mixture mymixture.txt \\\n",
      "     --verbose TRUE\n",
      "\n"
     ]
    }
   ],
   "source": [
    "command = f\"\"\"docker run \\\n",
    "    --rm \\\n",
    "    -v {experiment_path}/in:/src/data \\\n",
    "    -v {experiment_path}:/src/outdir \\\n",
    "    --user \"$(id -u):$(id -g)\" \\\n",
    "    cibersortx/fractions:latest \\\n",
    "    --username lyronctk@stanford.edu \\\n",
    "    --token dfeba2c8b9d61daebee5fa87026b8e56 \\\n",
    "    --single_cell TRUE \\\n",
    "    --refsample {sc_refsample_filename} \\\n",
    "    --mixture {mixture_filename} \\\n",
    "    --verbose TRUE\n",
    "\"\"\".replace(\n",
    "    \"    \", \" \\\\\\n    \"\n",
    ")\n",
    "print(command)"
   ]
  },
  {
   "cell_type": "code",
   "execution_count": 8,
   "id": "d6d54920-23d6-4957-a291-b1365b58610c",
   "metadata": {},
   "outputs": [
    {
     "name": "stdout",
     "output_type": "stream",
     "text": [
      ">Running CIBERSORTxFractions...\n",
      ">[Options] username: lyronctk@stanford.edu\n",
      ">[Options] token: dfeba2c8b9d61daebee5fa87026b8e56\n",
      ">[Options] single_cell: TRUE\n",
      ">[Options] refsample: myscrefsample.txt\n",
      ">[Options] mixture: mymixture.txt\n",
      ">[Options] verbose: TRUE\n",
      ">Making reference sample file.\n",
      ">Making phenotype class file.\n",
      ">single_cell is set to TRUE, so quantile normalization is set to FALSE, and the default parameters for building the signature matrix have been set to the following values:\n",
      "\t- G.min <- 300\n",
      "\t- G.max <- 500\n",
      "\t- q.value <- 0.01\n",
      ">==========Signature Matrix Settings============\n",
      ">Pure samples file: /src/outdir//CIBERSORTx_myscrefsample_inferred_refsample.txt\n",
      ">Phenotype classes file: /src/outdir//CIBERSORTx_myscrefsample_inferred_phenoclasses.txt\n",
      ">Minimum number of DEGs to consider from each phenotype for signature matrix set to: 300\n",
      ">Maximum number of DEGs to consider from each phenotype for signature matrix set to: 500\n",
      ">Q-value for signature matrix construction set to: 0.01\n",
      ">Quantile normalization of input samples is disabled\n",
      ">===============================================\n",
      ">C++14\n",
      ">Loaded 40 columns and 23684 rows\n",
      ">=============Make Signature Matrix=============\n",
      ">Maximum condition number (kappa):999\n",
      ">71262 DEG expressed across 8 samples were identified\n",
      ">Group size: 495, Kappa: 14.9934287263485\n",
      ">Best kappa: 14.9934287263485 \n",
      ">SVD UpperRightDiag: 54923.8\n",
      ">SVD LowerRightDiag: 3663.19\n",
      ">=============CIBERSORTx Settings===============\n",
      ">Mixture file: /src/data/mymixture.txt\n",
      ">Signature matrix file: /src/outdir//CIBERSORTx_myscrefsample_inferred_phenoclasses.CIBERSORTx_myscrefsample_inferred_refsample.bm.K999.txt\n",
      ">Enable verbose output\n",
      ">==================CIBERSORTx===================\n",
      "column Malignant Endothelial cells CAF T cells CD8 NK cells Macrophages T cells CD4 B cells P-value Correlation RMSE %Completed\n",
      "1 0.0461783 0.0272605 0.0584201 0.286861 0.164019 0.0849836 0.332278 5.26316\n",
      "2 0 0 0.0021113 0.697889 0.061412 0.014088 0.214017 10.5263\n",
      "3 0.617075 9.77919e-07 0.358669 0 0.00023969 0.0234618 0.000553285 15.7895\n",
      "4 0.0218429 0.000173209 0 0.228676 0.0845636 0.0496538 0.179896 21.0526\n",
      "5 0.0595397 0 0.00041103 0.309446 0.0286708 0.0279707 0.485839 26.3158\n",
      "6 0 0 7.91763e-06 0.283662 0.0247657 0.000914602 0.502893 31.5789\n",
      "7 0.438077 0.000466501 0.00183993 0.372297 0.0251727 0.033532 0.128481 36.8421\n",
      "8 0 0 0.000346498 0 0.013375 0.00472187 0.73009 42.1053\n",
      "9 0 0.00054464 0.00217678 0.682536 0.0309198 0.0452684 0.162956 47.3684\n",
      "10 0.00632915 1.82517e-05 0 0.742547 0.0707413 0.0148651 0.163794 52.6316\n",
      "11 0.998242 0 0.000588518 0 0 0 0.000133138 57.8947\n",
      "12 0.535874 0.0121332 0.00266918 0.25205 0 0.0308213 0.114126 63.1579\n",
      "13 0.304305 0.0705476 0.0492932 0.173667 0.0133539 0.00445688 0.298506 68.4211\n",
      "14 0.387165 0.00508937 0.0352396 0.256899 0.0259966 0.0134389 0.265311 73.6842\n",
      "15 0.382551 0.00757999 0.0780352 0.141734 0.0429688 0.0584888 0.266745 78.9474\n",
      "16 0.0660983 0.00141159 0.00970999 0.190298 0.07586 0.146086 0.362447 84.2105\n",
      "17 0.425625 0 0.00893112 0.137107 0.0377888 0.136607 0.179133 89.4737\n",
      "18 0.195343 0.000423468 0.00164339 0.317522 0.0181666 0.0726834 0.150632 94.7368\n",
      "19 0.0379492 0.0937277 0.0532309 0 0.0156862 0.030717 0.426452 100\n"
     ]
    }
   ],
   "source": [
    "!{command}"
   ]
  },
  {
   "cell_type": "code",
   "execution_count": 9,
   "id": "5fb611a4-912b-4091-8cc0-05cee3003b41",
   "metadata": {},
   "outputs": [
    {
     "name": "stdout",
     "output_type": "stream",
     "text": [
      "\u001b[01;34m/mnt/buckets/liulab/csx_experiments/varying_simple_parameters/defaults\u001b[00m\n",
      "├── [4.3K]  CIBERSORTx_Results.txt\n",
      "├── [3.8M]  CIBERSORTx_cell_type_sourceGEP.txt\n",
      "├── [172K]  CIBERSORTx_myscrefsample_inferred_phenoclasses.CIBERSORTx_myscrefsample_inferred_refsample.bm.K999.pdf\n",
      "├── [510K]  CIBERSORTx_myscrefsample_inferred_phenoclasses.CIBERSORTx_myscrefsample_inferred_refsample.bm.K999.txt\n",
      "├── [ 725]  CIBERSORTx_myscrefsample_inferred_phenoclasses.txt\n",
      "├── [ 18M]  CIBERSORTx_myscrefsample_inferred_refsample.txt\n",
      "└── [   0]  \u001b[01;34min\u001b[00m\n",
      "    ├── [6.0M]  mymixture.txt\n",
      "    └── [ 88M]  myscrefsample.txt\n",
      "\n",
      "1 directory, 8 files\n"
     ]
    }
   ],
   "source": [
    "!tree -h $experiment_path"
   ]
  },
  {
   "cell_type": "code",
   "execution_count": 10,
   "id": "70f188e2-0591-40db-a2c5-fbaae814f2ec",
   "metadata": {},
   "outputs": [
    {
     "data": {
      "text/html": [
       "<div>\n",
       "<style scoped>\n",
       "    .dataframe tbody tr th:only-of-type {\n",
       "        vertical-align: middle;\n",
       "    }\n",
       "\n",
       "    .dataframe tbody tr th {\n",
       "        vertical-align: top;\n",
       "    }\n",
       "\n",
       "    .dataframe thead th {\n",
       "        text-align: right;\n",
       "    }\n",
       "</style>\n",
       "<table border=\"1\" class=\"dataframe\">\n",
       "  <thead>\n",
       "    <tr style=\"text-align: right;\">\n",
       "      <th></th>\n",
       "      <th>Malignant</th>\n",
       "      <th>Endothelial</th>\n",
       "      <th>CAF</th>\n",
       "      <th>T CD8</th>\n",
       "      <th>NK</th>\n",
       "      <th>Macrophage</th>\n",
       "      <th>T CD4</th>\n",
       "      <th>B</th>\n",
       "    </tr>\n",
       "    <tr>\n",
       "      <th>mixture_id</th>\n",
       "      <th></th>\n",
       "      <th></th>\n",
       "      <th></th>\n",
       "      <th></th>\n",
       "      <th></th>\n",
       "      <th></th>\n",
       "      <th></th>\n",
       "      <th></th>\n",
       "    </tr>\n",
       "  </thead>\n",
       "  <tbody>\n",
       "    <tr>\n",
       "      <th>78</th>\n",
       "      <td>0.998242</td>\n",
       "      <td>0.000000</td>\n",
       "      <td>0.000589</td>\n",
       "      <td>0.000000</td>\n",
       "      <td>0.000000</td>\n",
       "      <td>0.000000</td>\n",
       "      <td>0.000133</td>\n",
       "      <td>0.001037</td>\n",
       "    </tr>\n",
       "    <tr>\n",
       "      <th>84</th>\n",
       "      <td>0.066098</td>\n",
       "      <td>0.001412</td>\n",
       "      <td>0.009710</td>\n",
       "      <td>0.190298</td>\n",
       "      <td>0.075860</td>\n",
       "      <td>0.146086</td>\n",
       "      <td>0.362447</td>\n",
       "      <td>0.148089</td>\n",
       "    </tr>\n",
       "    <tr>\n",
       "      <th>72</th>\n",
       "      <td>0.000000</td>\n",
       "      <td>0.000000</td>\n",
       "      <td>0.000346</td>\n",
       "      <td>0.000000</td>\n",
       "      <td>0.013375</td>\n",
       "      <td>0.004722</td>\n",
       "      <td>0.730090</td>\n",
       "      <td>0.251467</td>\n",
       "    </tr>\n",
       "    <tr>\n",
       "      <th>79</th>\n",
       "      <td>0.535874</td>\n",
       "      <td>0.012133</td>\n",
       "      <td>0.002669</td>\n",
       "      <td>0.252050</td>\n",
       "      <td>0.000000</td>\n",
       "      <td>0.030821</td>\n",
       "      <td>0.114126</td>\n",
       "      <td>0.052326</td>\n",
       "    </tr>\n",
       "    <tr>\n",
       "      <th>53</th>\n",
       "      <td>0.046178</td>\n",
       "      <td>0.027261</td>\n",
       "      <td>0.058420</td>\n",
       "      <td>0.286861</td>\n",
       "      <td>0.164019</td>\n",
       "      <td>0.084984</td>\n",
       "      <td>0.332278</td>\n",
       "      <td>0.000000</td>\n",
       "    </tr>\n",
       "  </tbody>\n",
       "</table>\n",
       "</div>"
      ],
      "text/plain": [
       "            Malignant  Endothelial       CAF     T CD8        NK  Macrophage  \\\n",
       "mixture_id                                                                     \n",
       "78           0.998242     0.000000  0.000589  0.000000  0.000000    0.000000   \n",
       "84           0.066098     0.001412  0.009710  0.190298  0.075860    0.146086   \n",
       "72           0.000000     0.000000  0.000346  0.000000  0.013375    0.004722   \n",
       "79           0.535874     0.012133  0.002669  0.252050  0.000000    0.030821   \n",
       "53           0.046178     0.027261  0.058420  0.286861  0.164019    0.084984   \n",
       "\n",
       "               T CD4         B  \n",
       "mixture_id                      \n",
       "78          0.000133  0.001037  \n",
       "84          0.362447  0.148089  \n",
       "72          0.730090  0.251467  \n",
       "79          0.114126  0.052326  \n",
       "53          0.332278  0.000000  "
      ]
     },
     "execution_count": 10,
     "metadata": {},
     "output_type": "execute_result"
    }
   ],
   "source": [
    "fractions_csx = (\n",
    "    pd.read_csv(\n",
    "        os.path.join(experiment_uri, \"CIBERSORTx_Results.txt\"), sep=\"\\t\", index_col=0\n",
    "    )\n",
    "    .rename_axis(index=\"mixture_id\")\n",
    "    .rename(columns=weird_to_nice)\n",
    "    .iloc[:, :-3]\n",
    ")\n",
    "\n",
    "fractions_csx.sample(5)"
   ]
  },
  {
   "cell_type": "code",
   "execution_count": 11,
   "id": "5c50ee82-eb89-44dc-970a-df8509e315b8",
   "metadata": {},
   "outputs": [
    {
     "data": {
      "text/html": [
       "<div>\n",
       "<style scoped>\n",
       "    .dataframe tbody tr th:only-of-type {\n",
       "        vertical-align: middle;\n",
       "    }\n",
       "\n",
       "    .dataframe tbody tr th {\n",
       "        vertical-align: top;\n",
       "    }\n",
       "\n",
       "    .dataframe thead th {\n",
       "        text-align: right;\n",
       "    }\n",
       "</style>\n",
       "<table border=\"1\" class=\"dataframe\">\n",
       "  <thead>\n",
       "    <tr style=\"text-align: right;\">\n",
       "      <th></th>\n",
       "      <th>Malignant</th>\n",
       "      <th>Endothelial</th>\n",
       "      <th>CAF</th>\n",
       "      <th>T CD8</th>\n",
       "      <th>NK</th>\n",
       "      <th>Macrophage</th>\n",
       "      <th>T CD4</th>\n",
       "      <th>B</th>\n",
       "    </tr>\n",
       "    <tr>\n",
       "      <th>gene</th>\n",
       "      <th></th>\n",
       "      <th></th>\n",
       "      <th></th>\n",
       "      <th></th>\n",
       "      <th></th>\n",
       "      <th></th>\n",
       "      <th></th>\n",
       "      <th></th>\n",
       "    </tr>\n",
       "  </thead>\n",
       "  <tbody>\n",
       "    <tr>\n",
       "      <th>C3orf38</th>\n",
       "      <td>18.308982</td>\n",
       "      <td>1.000000</td>\n",
       "      <td>12.625428</td>\n",
       "      <td>1.000000</td>\n",
       "      <td>115.558058</td>\n",
       "      <td>1.000000</td>\n",
       "      <td>1.000000</td>\n",
       "      <td>113.088122</td>\n",
       "    </tr>\n",
       "    <tr>\n",
       "      <th>CCL4L2</th>\n",
       "      <td>1.000000</td>\n",
       "      <td>1.000000</td>\n",
       "      <td>1.000000</td>\n",
       "      <td>820.855825</td>\n",
       "      <td>402.595044</td>\n",
       "      <td>65.297465</td>\n",
       "      <td>221.273159</td>\n",
       "      <td>1.000000</td>\n",
       "    </tr>\n",
       "    <tr>\n",
       "      <th>OLFML1</th>\n",
       "      <td>1.000000</td>\n",
       "      <td>102.926957</td>\n",
       "      <td>37.931100</td>\n",
       "      <td>1.000000</td>\n",
       "      <td>1.000000</td>\n",
       "      <td>1.000000</td>\n",
       "      <td>1.000000</td>\n",
       "      <td>1.000000</td>\n",
       "    </tr>\n",
       "    <tr>\n",
       "      <th>P2RY13</th>\n",
       "      <td>1.000000</td>\n",
       "      <td>1.000000</td>\n",
       "      <td>1.000000</td>\n",
       "      <td>1.000000</td>\n",
       "      <td>1.000000</td>\n",
       "      <td>31.427093</td>\n",
       "      <td>1.000000</td>\n",
       "      <td>1.000000</td>\n",
       "    </tr>\n",
       "    <tr>\n",
       "      <th>PDCD1</th>\n",
       "      <td>1.000000</td>\n",
       "      <td>1.000000</td>\n",
       "      <td>1.000000</td>\n",
       "      <td>395.843560</td>\n",
       "      <td>1.000000</td>\n",
       "      <td>1.000000</td>\n",
       "      <td>501.691024</td>\n",
       "      <td>1.000000</td>\n",
       "    </tr>\n",
       "  </tbody>\n",
       "</table>\n",
       "</div>"
      ],
      "text/plain": [
       "         Malignant  Endothelial        CAF       T CD8          NK  \\\n",
       "gene                                                                 \n",
       "C3orf38  18.308982     1.000000  12.625428    1.000000  115.558058   \n",
       "CCL4L2    1.000000     1.000000   1.000000  820.855825  402.595044   \n",
       "OLFML1    1.000000   102.926957  37.931100    1.000000    1.000000   \n",
       "P2RY13    1.000000     1.000000   1.000000    1.000000    1.000000   \n",
       "PDCD1     1.000000     1.000000   1.000000  395.843560    1.000000   \n",
       "\n",
       "         Macrophage       T CD4           B  \n",
       "gene                                         \n",
       "C3orf38    1.000000    1.000000  113.088122  \n",
       "CCL4L2    65.297465  221.273159    1.000000  \n",
       "OLFML1     1.000000    1.000000    1.000000  \n",
       "P2RY13    31.427093    1.000000    1.000000  \n",
       "PDCD1      1.000000  501.691024    1.000000  "
      ]
     },
     "execution_count": 11,
     "metadata": {},
     "output_type": "execute_result"
    }
   ],
   "source": [
    "signature_matrix = (\n",
    "    pd.read_csv(\n",
    "        os.path.join(\n",
    "            experiment_uri,\n",
    "            \"CIBERSORTx_myscrefsample_inferred_phenoclasses.CIBERSORTx_myscrefsample_inferred_refsample.bm.K999.txt\",\n",
    "        ),\n",
    "        sep=\"\\t\",\n",
    "        index_col=0,\n",
    "    )\n",
    "    .rename_axis(index=\"gene\")\n",
    "    .rename(columns=weird_to_nice)\n",
    ")\n",
    "\n",
    "signature_matrix.sample(5)"
   ]
  },
  {
   "cell_type": "code",
   "execution_count": 12,
   "id": "43664192-cce7-43e9-a932-aed082b9a6f9",
   "metadata": {},
   "outputs": [
    {
     "data": {
      "text/html": [
       "<div>\n",
       "<style scoped>\n",
       "    .dataframe tbody tr th:only-of-type {\n",
       "        vertical-align: middle;\n",
       "    }\n",
       "\n",
       "    .dataframe tbody tr th {\n",
       "        vertical-align: top;\n",
       "    }\n",
       "\n",
       "    .dataframe thead th {\n",
       "        text-align: right;\n",
       "    }\n",
       "</style>\n",
       "<table border=\"1\" class=\"dataframe\">\n",
       "  <thead>\n",
       "    <tr style=\"text-align: right;\">\n",
       "      <th></th>\n",
       "      <th>Malignant</th>\n",
       "      <th>Endothelial</th>\n",
       "      <th>CAF</th>\n",
       "      <th>T CD8</th>\n",
       "      <th>NK</th>\n",
       "      <th>Macrophage</th>\n",
       "      <th>T CD4</th>\n",
       "      <th>B</th>\n",
       "    </tr>\n",
       "    <tr>\n",
       "      <th>mixture_id</th>\n",
       "      <th></th>\n",
       "      <th></th>\n",
       "      <th></th>\n",
       "      <th></th>\n",
       "      <th></th>\n",
       "      <th></th>\n",
       "      <th></th>\n",
       "      <th></th>\n",
       "    </tr>\n",
       "  </thead>\n",
       "  <tbody>\n",
       "    <tr>\n",
       "      <th>53</th>\n",
       "      <td>0.1280</td>\n",
       "      <td>0.0880</td>\n",
       "      <td>0.0320</td>\n",
       "      <td>0.2000</td>\n",
       "      <td>0.0800</td>\n",
       "      <td>0.0960</td>\n",
       "      <td>0.3760</td>\n",
       "      <td>0.0000</td>\n",
       "    </tr>\n",
       "    <tr>\n",
       "      <th>58</th>\n",
       "      <td>0.0000</td>\n",
       "      <td>0.0000</td>\n",
       "      <td>0.0000</td>\n",
       "      <td>0.6508</td>\n",
       "      <td>0.0317</td>\n",
       "      <td>0.0159</td>\n",
       "      <td>0.2857</td>\n",
       "      <td>0.0159</td>\n",
       "    </tr>\n",
       "    <tr>\n",
       "      <th>59</th>\n",
       "      <td>0.8710</td>\n",
       "      <td>0.0000</td>\n",
       "      <td>0.1129</td>\n",
       "      <td>0.0000</td>\n",
       "      <td>0.0000</td>\n",
       "      <td>0.0161</td>\n",
       "      <td>0.0000</td>\n",
       "      <td>0.0000</td>\n",
       "    </tr>\n",
       "    <tr>\n",
       "      <th>60</th>\n",
       "      <td>0.0448</td>\n",
       "      <td>0.0000</td>\n",
       "      <td>0.0000</td>\n",
       "      <td>0.1940</td>\n",
       "      <td>0.0498</td>\n",
       "      <td>0.0199</td>\n",
       "      <td>0.2139</td>\n",
       "      <td>0.4776</td>\n",
       "    </tr>\n",
       "    <tr>\n",
       "      <th>65</th>\n",
       "      <td>0.0755</td>\n",
       "      <td>0.0000</td>\n",
       "      <td>0.0000</td>\n",
       "      <td>0.4717</td>\n",
       "      <td>0.0000</td>\n",
       "      <td>0.0189</td>\n",
       "      <td>0.3396</td>\n",
       "      <td>0.0943</td>\n",
       "    </tr>\n",
       "    <tr>\n",
       "      <th>67</th>\n",
       "      <td>0.0000</td>\n",
       "      <td>0.0000</td>\n",
       "      <td>0.0000</td>\n",
       "      <td>0.3059</td>\n",
       "      <td>0.0118</td>\n",
       "      <td>0.0000</td>\n",
       "      <td>0.4588</td>\n",
       "      <td>0.2235</td>\n",
       "    </tr>\n",
       "    <tr>\n",
       "      <th>71</th>\n",
       "      <td>0.6835</td>\n",
       "      <td>0.0000</td>\n",
       "      <td>0.0000</td>\n",
       "      <td>0.1899</td>\n",
       "      <td>0.0000</td>\n",
       "      <td>0.0253</td>\n",
       "      <td>0.1013</td>\n",
       "      <td>0.0000</td>\n",
       "    </tr>\n",
       "    <tr>\n",
       "      <th>72</th>\n",
       "      <td>0.0000</td>\n",
       "      <td>0.0000</td>\n",
       "      <td>0.0000</td>\n",
       "      <td>0.1634</td>\n",
       "      <td>0.0065</td>\n",
       "      <td>0.0000</td>\n",
       "      <td>0.6013</td>\n",
       "      <td>0.2288</td>\n",
       "    </tr>\n",
       "    <tr>\n",
       "      <th>74</th>\n",
       "      <td>0.0000</td>\n",
       "      <td>0.0000</td>\n",
       "      <td>0.0000</td>\n",
       "      <td>0.6496</td>\n",
       "      <td>0.0073</td>\n",
       "      <td>0.0365</td>\n",
       "      <td>0.2117</td>\n",
       "      <td>0.0949</td>\n",
       "    </tr>\n",
       "    <tr>\n",
       "      <th>75</th>\n",
       "      <td>0.0087</td>\n",
       "      <td>0.0000</td>\n",
       "      <td>0.0000</td>\n",
       "      <td>0.9417</td>\n",
       "      <td>0.0000</td>\n",
       "      <td>0.0029</td>\n",
       "      <td>0.0466</td>\n",
       "      <td>0.0000</td>\n",
       "    </tr>\n",
       "    <tr>\n",
       "      <th>78</th>\n",
       "      <td>0.9756</td>\n",
       "      <td>0.0000</td>\n",
       "      <td>0.0081</td>\n",
       "      <td>0.0000</td>\n",
       "      <td>0.0000</td>\n",
       "      <td>0.0000</td>\n",
       "      <td>0.0081</td>\n",
       "      <td>0.0081</td>\n",
       "    </tr>\n",
       "    <tr>\n",
       "      <th>79</th>\n",
       "      <td>0.5474</td>\n",
       "      <td>0.0023</td>\n",
       "      <td>0.0012</td>\n",
       "      <td>0.2795</td>\n",
       "      <td>0.0012</td>\n",
       "      <td>0.0000</td>\n",
       "      <td>0.0760</td>\n",
       "      <td>0.0924</td>\n",
       "    </tr>\n",
       "    <tr>\n",
       "      <th>80</th>\n",
       "      <td>0.2828</td>\n",
       "      <td>0.0656</td>\n",
       "      <td>0.0520</td>\n",
       "      <td>0.1538</td>\n",
       "      <td>0.0090</td>\n",
       "      <td>0.0000</td>\n",
       "      <td>0.3258</td>\n",
       "      <td>0.1109</td>\n",
       "    </tr>\n",
       "    <tr>\n",
       "      <th>81</th>\n",
       "      <td>0.7308</td>\n",
       "      <td>0.0110</td>\n",
       "      <td>0.0000</td>\n",
       "      <td>0.1044</td>\n",
       "      <td>0.0000</td>\n",
       "      <td>0.0000</td>\n",
       "      <td>0.1374</td>\n",
       "      <td>0.0165</td>\n",
       "    </tr>\n",
       "    <tr>\n",
       "      <th>82</th>\n",
       "      <td>0.4638</td>\n",
       "      <td>0.0000</td>\n",
       "      <td>0.0870</td>\n",
       "      <td>0.1304</td>\n",
       "      <td>0.0290</td>\n",
       "      <td>0.0580</td>\n",
       "      <td>0.2174</td>\n",
       "      <td>0.0145</td>\n",
       "    </tr>\n",
       "    <tr>\n",
       "      <th>84</th>\n",
       "      <td>0.1045</td>\n",
       "      <td>0.0075</td>\n",
       "      <td>0.0075</td>\n",
       "      <td>0.1716</td>\n",
       "      <td>0.0522</td>\n",
       "      <td>0.1866</td>\n",
       "      <td>0.2836</td>\n",
       "      <td>0.1866</td>\n",
       "    </tr>\n",
       "    <tr>\n",
       "      <th>88</th>\n",
       "      <td>0.3966</td>\n",
       "      <td>0.0000</td>\n",
       "      <td>0.0068</td>\n",
       "      <td>0.1559</td>\n",
       "      <td>0.0305</td>\n",
       "      <td>0.1356</td>\n",
       "      <td>0.2203</td>\n",
       "      <td>0.0542</td>\n",
       "    </tr>\n",
       "    <tr>\n",
       "      <th>89</th>\n",
       "      <td>0.2263</td>\n",
       "      <td>0.0023</td>\n",
       "      <td>0.0000</td>\n",
       "      <td>0.3141</td>\n",
       "      <td>0.0023</td>\n",
       "      <td>0.0600</td>\n",
       "      <td>0.1501</td>\n",
       "      <td>0.2448</td>\n",
       "    </tr>\n",
       "    <tr>\n",
       "      <th>94</th>\n",
       "      <td>0.0413</td>\n",
       "      <td>0.0785</td>\n",
       "      <td>0.0661</td>\n",
       "      <td>0.2025</td>\n",
       "      <td>0.0041</td>\n",
       "      <td>0.0083</td>\n",
       "      <td>0.3306</td>\n",
       "      <td>0.2686</td>\n",
       "    </tr>\n",
       "  </tbody>\n",
       "</table>\n",
       "</div>"
      ],
      "text/plain": [
       "            Malignant  Endothelial     CAF   T CD8      NK  Macrophage  \\\n",
       "mixture_id                                                               \n",
       "53             0.1280       0.0880  0.0320  0.2000  0.0800      0.0960   \n",
       "58             0.0000       0.0000  0.0000  0.6508  0.0317      0.0159   \n",
       "59             0.8710       0.0000  0.1129  0.0000  0.0000      0.0161   \n",
       "60             0.0448       0.0000  0.0000  0.1940  0.0498      0.0199   \n",
       "65             0.0755       0.0000  0.0000  0.4717  0.0000      0.0189   \n",
       "67             0.0000       0.0000  0.0000  0.3059  0.0118      0.0000   \n",
       "71             0.6835       0.0000  0.0000  0.1899  0.0000      0.0253   \n",
       "72             0.0000       0.0000  0.0000  0.1634  0.0065      0.0000   \n",
       "74             0.0000       0.0000  0.0000  0.6496  0.0073      0.0365   \n",
       "75             0.0087       0.0000  0.0000  0.9417  0.0000      0.0029   \n",
       "78             0.9756       0.0000  0.0081  0.0000  0.0000      0.0000   \n",
       "79             0.5474       0.0023  0.0012  0.2795  0.0012      0.0000   \n",
       "80             0.2828       0.0656  0.0520  0.1538  0.0090      0.0000   \n",
       "81             0.7308       0.0110  0.0000  0.1044  0.0000      0.0000   \n",
       "82             0.4638       0.0000  0.0870  0.1304  0.0290      0.0580   \n",
       "84             0.1045       0.0075  0.0075  0.1716  0.0522      0.1866   \n",
       "88             0.3966       0.0000  0.0068  0.1559  0.0305      0.1356   \n",
       "89             0.2263       0.0023  0.0000  0.3141  0.0023      0.0600   \n",
       "94             0.0413       0.0785  0.0661  0.2025  0.0041      0.0083   \n",
       "\n",
       "             T CD4       B  \n",
       "mixture_id                  \n",
       "53          0.3760  0.0000  \n",
       "58          0.2857  0.0159  \n",
       "59          0.0000  0.0000  \n",
       "60          0.2139  0.4776  \n",
       "65          0.3396  0.0943  \n",
       "67          0.4588  0.2235  \n",
       "71          0.1013  0.0000  \n",
       "72          0.6013  0.2288  \n",
       "74          0.2117  0.0949  \n",
       "75          0.0466  0.0000  \n",
       "78          0.0081  0.0081  \n",
       "79          0.0760  0.0924  \n",
       "80          0.3258  0.1109  \n",
       "81          0.1374  0.0165  \n",
       "82          0.2174  0.0145  \n",
       "84          0.2836  0.1866  \n",
       "88          0.2203  0.0542  \n",
       "89          0.1501  0.2448  \n",
       "94          0.3306  0.2686  "
      ]
     },
     "execution_count": 12,
     "metadata": {},
     "output_type": "execute_result"
    }
   ],
   "source": [
    "fractions_truth = (\n",
    "    pd.read_csv(\n",
    "        \"gs://liulab/csx_example_files/groundtruth_Melanoma_Tirosh_et_al_SuppFig3b-d.txt\",\n",
    "        sep=\"\\t\",\n",
    "        index_col=0,\n",
    "    )\n",
    "    .rename_axis(index=\"mixture_id\")\n",
    "    .rename(columns=weird_to_nice)\n",
    ")\n",
    "\n",
    "fractions_truth"
   ]
  },
  {
   "cell_type": "code",
   "execution_count": 13,
   "id": "0780eff3-68af-4ea0-9071-dd19f4abc2a3",
   "metadata": {},
   "outputs": [],
   "source": [
    "import plotly.io\n",
    "\n",
    "plotly.io.renderers.default = \"jupyterlab+png\"\n",
    "\n",
    "import plotly.express as px\n",
    "import plotly.graph_objects as go"
   ]
  },
  {
   "cell_type": "code",
   "execution_count": 14,
   "id": "759887b4-16c4-462e-add0-cd433ed84852",
   "metadata": {},
   "outputs": [
    {
     "data": {
      "application/vnd.plotly.v1+json": {
       "config": {
        "plotlyServerURL": "https://plot.ly"
       },
       "data": [
        {
         "alignmentgroup": "True",
         "hovertemplate": "variable=Malignant<br>x=%{x}<br>value=%{y}<extra></extra>",
         "legendgroup": "Malignant",
         "marker": {
          "color": "#636efa",
          "pattern": {
           "shape": ""
          }
         },
         "name": "Malignant",
         "offsetgroup": "Malignant",
         "orientation": "v",
         "showlegend": true,
         "textposition": "auto",
         "type": "bar",
         "x": [
          "53",
          "58",
          "59",
          "60",
          "65",
          "67",
          "71",
          "72",
          "74",
          "75",
          "78",
          "79",
          "80",
          "81",
          "82",
          "84",
          "88",
          "89",
          "94"
         ],
         "xaxis": "x",
         "y": [
          0.128,
          0,
          0.871,
          0.0448,
          0.0755,
          0,
          0.6835,
          0,
          0,
          0.0087,
          0.9756,
          0.5474,
          0.2828,
          0.7308,
          0.4638,
          0.1045,
          0.3966,
          0.2263,
          0.0413
         ],
         "yaxis": "y"
        },
        {
         "alignmentgroup": "True",
         "hovertemplate": "variable=Endothelial<br>x=%{x}<br>value=%{y}<extra></extra>",
         "legendgroup": "Endothelial",
         "marker": {
          "color": "#EF553B",
          "pattern": {
           "shape": ""
          }
         },
         "name": "Endothelial",
         "offsetgroup": "Endothelial",
         "orientation": "v",
         "showlegend": true,
         "textposition": "auto",
         "type": "bar",
         "x": [
          "53",
          "58",
          "59",
          "60",
          "65",
          "67",
          "71",
          "72",
          "74",
          "75",
          "78",
          "79",
          "80",
          "81",
          "82",
          "84",
          "88",
          "89",
          "94"
         ],
         "xaxis": "x",
         "y": [
          0.088,
          0,
          0,
          0,
          0,
          0,
          0,
          0,
          0,
          0,
          0,
          0.0023,
          0.0656,
          0.011,
          0,
          0.0075,
          0,
          0.0023,
          0.0785
         ],
         "yaxis": "y"
        },
        {
         "alignmentgroup": "True",
         "hovertemplate": "variable=CAF<br>x=%{x}<br>value=%{y}<extra></extra>",
         "legendgroup": "CAF",
         "marker": {
          "color": "#00cc96",
          "pattern": {
           "shape": ""
          }
         },
         "name": "CAF",
         "offsetgroup": "CAF",
         "orientation": "v",
         "showlegend": true,
         "textposition": "auto",
         "type": "bar",
         "x": [
          "53",
          "58",
          "59",
          "60",
          "65",
          "67",
          "71",
          "72",
          "74",
          "75",
          "78",
          "79",
          "80",
          "81",
          "82",
          "84",
          "88",
          "89",
          "94"
         ],
         "xaxis": "x",
         "y": [
          0.032,
          0,
          0.1129,
          0,
          0,
          0,
          0,
          0,
          0,
          0,
          0.0081,
          0.0012,
          0.052,
          0,
          0.087,
          0.0075,
          0.0068,
          0,
          0.0661
         ],
         "yaxis": "y"
        },
        {
         "alignmentgroup": "True",
         "hovertemplate": "variable=T CD8<br>x=%{x}<br>value=%{y}<extra></extra>",
         "legendgroup": "T CD8",
         "marker": {
          "color": "#ab63fa",
          "pattern": {
           "shape": ""
          }
         },
         "name": "T CD8",
         "offsetgroup": "T CD8",
         "orientation": "v",
         "showlegend": true,
         "textposition": "auto",
         "type": "bar",
         "x": [
          "53",
          "58",
          "59",
          "60",
          "65",
          "67",
          "71",
          "72",
          "74",
          "75",
          "78",
          "79",
          "80",
          "81",
          "82",
          "84",
          "88",
          "89",
          "94"
         ],
         "xaxis": "x",
         "y": [
          0.2,
          0.6508,
          0,
          0.194,
          0.4717,
          0.3059,
          0.1899,
          0.1634,
          0.6496,
          0.9417,
          0,
          0.2795,
          0.1538,
          0.1044,
          0.1304,
          0.1716,
          0.1559,
          0.3141,
          0.2025
         ],
         "yaxis": "y"
        },
        {
         "alignmentgroup": "True",
         "hovertemplate": "variable=NK<br>x=%{x}<br>value=%{y}<extra></extra>",
         "legendgroup": "NK",
         "marker": {
          "color": "#FFA15A",
          "pattern": {
           "shape": ""
          }
         },
         "name": "NK",
         "offsetgroup": "NK",
         "orientation": "v",
         "showlegend": true,
         "textposition": "auto",
         "type": "bar",
         "x": [
          "53",
          "58",
          "59",
          "60",
          "65",
          "67",
          "71",
          "72",
          "74",
          "75",
          "78",
          "79",
          "80",
          "81",
          "82",
          "84",
          "88",
          "89",
          "94"
         ],
         "xaxis": "x",
         "y": [
          0.08,
          0.0317,
          0,
          0.0498,
          0,
          0.0118,
          0,
          0.0065,
          0.0073,
          0,
          0,
          0.0012,
          0.009,
          0,
          0.029,
          0.0522,
          0.0305,
          0.0023,
          0.0041
         ],
         "yaxis": "y"
        },
        {
         "alignmentgroup": "True",
         "hovertemplate": "variable=Macrophage<br>x=%{x}<br>value=%{y}<extra></extra>",
         "legendgroup": "Macrophage",
         "marker": {
          "color": "#19d3f3",
          "pattern": {
           "shape": ""
          }
         },
         "name": "Macrophage",
         "offsetgroup": "Macrophage",
         "orientation": "v",
         "showlegend": true,
         "textposition": "auto",
         "type": "bar",
         "x": [
          "53",
          "58",
          "59",
          "60",
          "65",
          "67",
          "71",
          "72",
          "74",
          "75",
          "78",
          "79",
          "80",
          "81",
          "82",
          "84",
          "88",
          "89",
          "94"
         ],
         "xaxis": "x",
         "y": [
          0.096,
          0.0159,
          0.0161,
          0.0199,
          0.0189,
          0,
          0.0253,
          0,
          0.0365,
          0.0029,
          0,
          0,
          0,
          0,
          0.058,
          0.1866,
          0.1356,
          0.06,
          0.0083
         ],
         "yaxis": "y"
        },
        {
         "alignmentgroup": "True",
         "hovertemplate": "variable=T CD4<br>x=%{x}<br>value=%{y}<extra></extra>",
         "legendgroup": "T CD4",
         "marker": {
          "color": "#FF6692",
          "pattern": {
           "shape": ""
          }
         },
         "name": "T CD4",
         "offsetgroup": "T CD4",
         "orientation": "v",
         "showlegend": true,
         "textposition": "auto",
         "type": "bar",
         "x": [
          "53",
          "58",
          "59",
          "60",
          "65",
          "67",
          "71",
          "72",
          "74",
          "75",
          "78",
          "79",
          "80",
          "81",
          "82",
          "84",
          "88",
          "89",
          "94"
         ],
         "xaxis": "x",
         "y": [
          0.376,
          0.2857,
          0,
          0.2139,
          0.3396,
          0.4588,
          0.1013,
          0.6013,
          0.2117,
          0.0466,
          0.0081,
          0.076,
          0.3258,
          0.1374,
          0.2174,
          0.2836,
          0.2203,
          0.1501,
          0.3306
         ],
         "yaxis": "y"
        },
        {
         "alignmentgroup": "True",
         "hovertemplate": "variable=B<br>x=%{x}<br>value=%{y}<extra></extra>",
         "legendgroup": "B",
         "marker": {
          "color": "#B6E880",
          "pattern": {
           "shape": ""
          }
         },
         "name": "B",
         "offsetgroup": "B",
         "orientation": "v",
         "showlegend": true,
         "textposition": "auto",
         "type": "bar",
         "x": [
          "53",
          "58",
          "59",
          "60",
          "65",
          "67",
          "71",
          "72",
          "74",
          "75",
          "78",
          "79",
          "80",
          "81",
          "82",
          "84",
          "88",
          "89",
          "94"
         ],
         "xaxis": "x",
         "y": [
          0,
          0.0159,
          0,
          0.4776,
          0.0943,
          0.2235,
          0,
          0.2288,
          0.0949,
          0,
          0.0081,
          0.0924,
          0.1109,
          0.0165,
          0.0145,
          0.1866,
          0.0542,
          0.2448,
          0.2686
         ],
         "yaxis": "y"
        }
       ],
       "layout": {
        "autosize": true,
        "barmode": "relative",
        "legend": {
         "title": {
          "text": "variable"
         },
         "tracegroupgap": 0
        },
        "template": {
         "data": {
          "bar": [
           {
            "error_x": {
             "color": "#2a3f5f"
            },
            "error_y": {
             "color": "#2a3f5f"
            },
            "marker": {
             "line": {
              "color": "#E5ECF6",
              "width": 0.5
             },
             "pattern": {
              "fillmode": "overlay",
              "size": 10,
              "solidity": 0.2
             }
            },
            "type": "bar"
           }
          ],
          "barpolar": [
           {
            "marker": {
             "line": {
              "color": "#E5ECF6",
              "width": 0.5
             },
             "pattern": {
              "fillmode": "overlay",
              "size": 10,
              "solidity": 0.2
             }
            },
            "type": "barpolar"
           }
          ],
          "carpet": [
           {
            "aaxis": {
             "endlinecolor": "#2a3f5f",
             "gridcolor": "white",
             "linecolor": "white",
             "minorgridcolor": "white",
             "startlinecolor": "#2a3f5f"
            },
            "baxis": {
             "endlinecolor": "#2a3f5f",
             "gridcolor": "white",
             "linecolor": "white",
             "minorgridcolor": "white",
             "startlinecolor": "#2a3f5f"
            },
            "type": "carpet"
           }
          ],
          "choropleth": [
           {
            "colorbar": {
             "outlinewidth": 0,
             "ticks": ""
            },
            "type": "choropleth"
           }
          ],
          "contour": [
           {
            "colorbar": {
             "outlinewidth": 0,
             "ticks": ""
            },
            "colorscale": [
             [
              0,
              "#0d0887"
             ],
             [
              0.1111111111111111,
              "#46039f"
             ],
             [
              0.2222222222222222,
              "#7201a8"
             ],
             [
              0.3333333333333333,
              "#9c179e"
             ],
             [
              0.4444444444444444,
              "#bd3786"
             ],
             [
              0.5555555555555556,
              "#d8576b"
             ],
             [
              0.6666666666666666,
              "#ed7953"
             ],
             [
              0.7777777777777778,
              "#fb9f3a"
             ],
             [
              0.8888888888888888,
              "#fdca26"
             ],
             [
              1,
              "#f0f921"
             ]
            ],
            "type": "contour"
           }
          ],
          "contourcarpet": [
           {
            "colorbar": {
             "outlinewidth": 0,
             "ticks": ""
            },
            "type": "contourcarpet"
           }
          ],
          "heatmap": [
           {
            "colorbar": {
             "outlinewidth": 0,
             "ticks": ""
            },
            "colorscale": [
             [
              0,
              "#0d0887"
             ],
             [
              0.1111111111111111,
              "#46039f"
             ],
             [
              0.2222222222222222,
              "#7201a8"
             ],
             [
              0.3333333333333333,
              "#9c179e"
             ],
             [
              0.4444444444444444,
              "#bd3786"
             ],
             [
              0.5555555555555556,
              "#d8576b"
             ],
             [
              0.6666666666666666,
              "#ed7953"
             ],
             [
              0.7777777777777778,
              "#fb9f3a"
             ],
             [
              0.8888888888888888,
              "#fdca26"
             ],
             [
              1,
              "#f0f921"
             ]
            ],
            "type": "heatmap"
           }
          ],
          "heatmapgl": [
           {
            "colorbar": {
             "outlinewidth": 0,
             "ticks": ""
            },
            "colorscale": [
             [
              0,
              "#0d0887"
             ],
             [
              0.1111111111111111,
              "#46039f"
             ],
             [
              0.2222222222222222,
              "#7201a8"
             ],
             [
              0.3333333333333333,
              "#9c179e"
             ],
             [
              0.4444444444444444,
              "#bd3786"
             ],
             [
              0.5555555555555556,
              "#d8576b"
             ],
             [
              0.6666666666666666,
              "#ed7953"
             ],
             [
              0.7777777777777778,
              "#fb9f3a"
             ],
             [
              0.8888888888888888,
              "#fdca26"
             ],
             [
              1,
              "#f0f921"
             ]
            ],
            "type": "heatmapgl"
           }
          ],
          "histogram": [
           {
            "marker": {
             "pattern": {
              "fillmode": "overlay",
              "size": 10,
              "solidity": 0.2
             }
            },
            "type": "histogram"
           }
          ],
          "histogram2d": [
           {
            "colorbar": {
             "outlinewidth": 0,
             "ticks": ""
            },
            "colorscale": [
             [
              0,
              "#0d0887"
             ],
             [
              0.1111111111111111,
              "#46039f"
             ],
             [
              0.2222222222222222,
              "#7201a8"
             ],
             [
              0.3333333333333333,
              "#9c179e"
             ],
             [
              0.4444444444444444,
              "#bd3786"
             ],
             [
              0.5555555555555556,
              "#d8576b"
             ],
             [
              0.6666666666666666,
              "#ed7953"
             ],
             [
              0.7777777777777778,
              "#fb9f3a"
             ],
             [
              0.8888888888888888,
              "#fdca26"
             ],
             [
              1,
              "#f0f921"
             ]
            ],
            "type": "histogram2d"
           }
          ],
          "histogram2dcontour": [
           {
            "colorbar": {
             "outlinewidth": 0,
             "ticks": ""
            },
            "colorscale": [
             [
              0,
              "#0d0887"
             ],
             [
              0.1111111111111111,
              "#46039f"
             ],
             [
              0.2222222222222222,
              "#7201a8"
             ],
             [
              0.3333333333333333,
              "#9c179e"
             ],
             [
              0.4444444444444444,
              "#bd3786"
             ],
             [
              0.5555555555555556,
              "#d8576b"
             ],
             [
              0.6666666666666666,
              "#ed7953"
             ],
             [
              0.7777777777777778,
              "#fb9f3a"
             ],
             [
              0.8888888888888888,
              "#fdca26"
             ],
             [
              1,
              "#f0f921"
             ]
            ],
            "type": "histogram2dcontour"
           }
          ],
          "mesh3d": [
           {
            "colorbar": {
             "outlinewidth": 0,
             "ticks": ""
            },
            "type": "mesh3d"
           }
          ],
          "parcoords": [
           {
            "line": {
             "colorbar": {
              "outlinewidth": 0,
              "ticks": ""
             }
            },
            "type": "parcoords"
           }
          ],
          "pie": [
           {
            "automargin": true,
            "type": "pie"
           }
          ],
          "scatter": [
           {
            "marker": {
             "colorbar": {
              "outlinewidth": 0,
              "ticks": ""
             }
            },
            "type": "scatter"
           }
          ],
          "scatter3d": [
           {
            "line": {
             "colorbar": {
              "outlinewidth": 0,
              "ticks": ""
             }
            },
            "marker": {
             "colorbar": {
              "outlinewidth": 0,
              "ticks": ""
             }
            },
            "type": "scatter3d"
           }
          ],
          "scattercarpet": [
           {
            "marker": {
             "colorbar": {
              "outlinewidth": 0,
              "ticks": ""
             }
            },
            "type": "scattercarpet"
           }
          ],
          "scattergeo": [
           {
            "marker": {
             "colorbar": {
              "outlinewidth": 0,
              "ticks": ""
             }
            },
            "type": "scattergeo"
           }
          ],
          "scattergl": [
           {
            "marker": {
             "colorbar": {
              "outlinewidth": 0,
              "ticks": ""
             }
            },
            "type": "scattergl"
           }
          ],
          "scattermapbox": [
           {
            "marker": {
             "colorbar": {
              "outlinewidth": 0,
              "ticks": ""
             }
            },
            "type": "scattermapbox"
           }
          ],
          "scatterpolar": [
           {
            "marker": {
             "colorbar": {
              "outlinewidth": 0,
              "ticks": ""
             }
            },
            "type": "scatterpolar"
           }
          ],
          "scatterpolargl": [
           {
            "marker": {
             "colorbar": {
              "outlinewidth": 0,
              "ticks": ""
             }
            },
            "type": "scatterpolargl"
           }
          ],
          "scatterternary": [
           {
            "marker": {
             "colorbar": {
              "outlinewidth": 0,
              "ticks": ""
             }
            },
            "type": "scatterternary"
           }
          ],
          "surface": [
           {
            "colorbar": {
             "outlinewidth": 0,
             "ticks": ""
            },
            "colorscale": [
             [
              0,
              "#0d0887"
             ],
             [
              0.1111111111111111,
              "#46039f"
             ],
             [
              0.2222222222222222,
              "#7201a8"
             ],
             [
              0.3333333333333333,
              "#9c179e"
             ],
             [
              0.4444444444444444,
              "#bd3786"
             ],
             [
              0.5555555555555556,
              "#d8576b"
             ],
             [
              0.6666666666666666,
              "#ed7953"
             ],
             [
              0.7777777777777778,
              "#fb9f3a"
             ],
             [
              0.8888888888888888,
              "#fdca26"
             ],
             [
              1,
              "#f0f921"
             ]
            ],
            "type": "surface"
           }
          ],
          "table": [
           {
            "cells": {
             "fill": {
              "color": "#EBF0F8"
             },
             "line": {
              "color": "white"
             }
            },
            "header": {
             "fill": {
              "color": "#C8D4E3"
             },
             "line": {
              "color": "white"
             }
            },
            "type": "table"
           }
          ]
         },
         "layout": {
          "annotationdefaults": {
           "arrowcolor": "#2a3f5f",
           "arrowhead": 0,
           "arrowwidth": 1
          },
          "autotypenumbers": "strict",
          "coloraxis": {
           "colorbar": {
            "outlinewidth": 0,
            "ticks": ""
           }
          },
          "colorscale": {
           "diverging": [
            [
             0,
             "#8e0152"
            ],
            [
             0.1,
             "#c51b7d"
            ],
            [
             0.2,
             "#de77ae"
            ],
            [
             0.3,
             "#f1b6da"
            ],
            [
             0.4,
             "#fde0ef"
            ],
            [
             0.5,
             "#f7f7f7"
            ],
            [
             0.6,
             "#e6f5d0"
            ],
            [
             0.7,
             "#b8e186"
            ],
            [
             0.8,
             "#7fbc41"
            ],
            [
             0.9,
             "#4d9221"
            ],
            [
             1,
             "#276419"
            ]
           ],
           "sequential": [
            [
             0,
             "#0d0887"
            ],
            [
             0.1111111111111111,
             "#46039f"
            ],
            [
             0.2222222222222222,
             "#7201a8"
            ],
            [
             0.3333333333333333,
             "#9c179e"
            ],
            [
             0.4444444444444444,
             "#bd3786"
            ],
            [
             0.5555555555555556,
             "#d8576b"
            ],
            [
             0.6666666666666666,
             "#ed7953"
            ],
            [
             0.7777777777777778,
             "#fb9f3a"
            ],
            [
             0.8888888888888888,
             "#fdca26"
            ],
            [
             1,
             "#f0f921"
            ]
           ],
           "sequentialminus": [
            [
             0,
             "#0d0887"
            ],
            [
             0.1111111111111111,
             "#46039f"
            ],
            [
             0.2222222222222222,
             "#7201a8"
            ],
            [
             0.3333333333333333,
             "#9c179e"
            ],
            [
             0.4444444444444444,
             "#bd3786"
            ],
            [
             0.5555555555555556,
             "#d8576b"
            ],
            [
             0.6666666666666666,
             "#ed7953"
            ],
            [
             0.7777777777777778,
             "#fb9f3a"
            ],
            [
             0.8888888888888888,
             "#fdca26"
            ],
            [
             1,
             "#f0f921"
            ]
           ]
          },
          "colorway": [
           "#636efa",
           "#EF553B",
           "#00cc96",
           "#ab63fa",
           "#FFA15A",
           "#19d3f3",
           "#FF6692",
           "#B6E880",
           "#FF97FF",
           "#FECB52"
          ],
          "font": {
           "color": "#2a3f5f"
          },
          "geo": {
           "bgcolor": "white",
           "lakecolor": "white",
           "landcolor": "#E5ECF6",
           "showlakes": true,
           "showland": true,
           "subunitcolor": "white"
          },
          "hoverlabel": {
           "align": "left"
          },
          "hovermode": "closest",
          "mapbox": {
           "style": "light"
          },
          "paper_bgcolor": "white",
          "plot_bgcolor": "#E5ECF6",
          "polar": {
           "angularaxis": {
            "gridcolor": "white",
            "linecolor": "white",
            "ticks": ""
           },
           "bgcolor": "#E5ECF6",
           "radialaxis": {
            "gridcolor": "white",
            "linecolor": "white",
            "ticks": ""
           }
          },
          "scene": {
           "xaxis": {
            "backgroundcolor": "#E5ECF6",
            "gridcolor": "white",
            "gridwidth": 2,
            "linecolor": "white",
            "showbackground": true,
            "ticks": "",
            "zerolinecolor": "white"
           },
           "yaxis": {
            "backgroundcolor": "#E5ECF6",
            "gridcolor": "white",
            "gridwidth": 2,
            "linecolor": "white",
            "showbackground": true,
            "ticks": "",
            "zerolinecolor": "white"
           },
           "zaxis": {
            "backgroundcolor": "#E5ECF6",
            "gridcolor": "white",
            "gridwidth": 2,
            "linecolor": "white",
            "showbackground": true,
            "ticks": "",
            "zerolinecolor": "white"
           }
          },
          "shapedefaults": {
           "line": {
            "color": "#2a3f5f"
           }
          },
          "ternary": {
           "aaxis": {
            "gridcolor": "white",
            "linecolor": "white",
            "ticks": ""
           },
           "baxis": {
            "gridcolor": "white",
            "linecolor": "white",
            "ticks": ""
           },
           "bgcolor": "#E5ECF6",
           "caxis": {
            "gridcolor": "white",
            "linecolor": "white",
            "ticks": ""
           }
          },
          "title": {
           "x": 0.05
          },
          "xaxis": {
           "automargin": true,
           "gridcolor": "white",
           "linecolor": "white",
           "ticks": "",
           "title": {
            "standoff": 15
           },
           "zerolinecolor": "white",
           "zerolinewidth": 2
          },
          "yaxis": {
           "automargin": true,
           "gridcolor": "white",
           "linecolor": "white",
           "ticks": "",
           "title": {
            "standoff": 15
           },
           "zerolinecolor": "white",
           "zerolinewidth": 2
          }
         }
        },
        "title": {
         "text": "True fractions of each mixture"
        },
        "xaxis": {
         "anchor": "y",
         "autorange": true,
         "domain": [
          0,
          1
         ],
         "range": [
          -0.5,
          18.5
         ],
         "title": {
          "text": "x"
         },
         "type": "category"
        },
        "yaxis": {
         "anchor": "x",
         "autorange": true,
         "domain": [
          0,
          1
         ],
         "range": [
          0,
          1.0527368421052634
         ],
         "title": {
          "text": "value"
         },
         "type": "linear"
        }
       }
      },
      "image/png": "[encoded data removed]"
     },
     "metadata": {},
     "output_type": "display_data"
    }
   ],
   "source": [
    "fig = px.bar(\n",
    "    fractions_truth,  # .astype(index={\"mixture_id\": str}),\n",
    "    x=fractions_truth.index.astype(str),\n",
    "    y=fractions_truth.columns,\n",
    "    title=\"True fractions of each mixture\",\n",
    ")\n",
    "\n",
    "fig.show()"
   ]
  },
  {
   "cell_type": "code",
   "execution_count": 15,
   "id": "d4cee51b-ea18-4f8b-903a-8ec3c2f2a43b",
   "metadata": {},
   "outputs": [
    {
     "data": {
      "application/vnd.plotly.v1+json": {
       "config": {
        "plotlyServerURL": "https://plot.ly"
       },
       "data": [
        {
         "alignmentgroup": "True",
         "hovertemplate": "variable=Malignant<br>x=%{x}<br>value=%{y}<extra></extra>",
         "legendgroup": "Malignant",
         "marker": {
          "color": "#636efa",
          "pattern": {
           "shape": ""
          }
         },
         "name": "Malignant",
         "offsetgroup": "Malignant",
         "orientation": "v",
         "showlegend": true,
         "textposition": "auto",
         "type": "bar",
         "x": [
          "53",
          "58",
          "59",
          "60",
          "65",
          "67",
          "71",
          "72",
          "74",
          "75",
          "78",
          "79",
          "80",
          "81",
          "82",
          "84",
          "88",
          "89",
          "94"
         ],
         "xaxis": "x",
         "y": [
          0.0461782809884221,
          0,
          0.6170753415124932,
          0.021842931260099,
          0.0595397142489584,
          0,
          0.4380769068786739,
          0,
          0,
          0.0063291491533011,
          0.998241642523132,
          0.5358741922080951,
          0.3043054836663754,
          0.3871647795322114,
          0.3825510025344949,
          0.0660983169218553,
          0.4256245847333392,
          0.1953428634714916,
          0.0379491973694248
         ],
         "yaxis": "y"
        },
        {
         "alignmentgroup": "True",
         "hovertemplate": "variable=Endothelial<br>x=%{x}<br>value=%{y}<extra></extra>",
         "legendgroup": "Endothelial",
         "marker": {
          "color": "#EF553B",
          "pattern": {
           "shape": ""
          }
         },
         "name": "Endothelial",
         "offsetgroup": "Endothelial",
         "orientation": "v",
         "showlegend": true,
         "textposition": "auto",
         "type": "bar",
         "x": [
          "53",
          "58",
          "59",
          "60",
          "65",
          "67",
          "71",
          "72",
          "74",
          "75",
          "78",
          "79",
          "80",
          "81",
          "82",
          "84",
          "88",
          "89",
          "94"
         ],
         "xaxis": "x",
         "y": [
          0.0272605314834578,
          0,
          9.779190873e-07,
          0.0001732088679614,
          0,
          0,
          0.0004665006774352,
          0,
          0.0005446395873075,
          1.82516707311e-05,
          0,
          0.0121331949187672,
          0.0705476268048175,
          0.0050893714732997,
          0.0075799941514726,
          0.0014115854878226,
          0,
          0.0004234676319182,
          0.0937276921494546
         ],
         "yaxis": "y"
        },
        {
         "alignmentgroup": "True",
         "hovertemplate": "variable=CAF<br>x=%{x}<br>value=%{y}<extra></extra>",
         "legendgroup": "CAF",
         "marker": {
          "color": "#00cc96",
          "pattern": {
           "shape": ""
          }
         },
         "name": "CAF",
         "offsetgroup": "CAF",
         "orientation": "v",
         "showlegend": true,
         "textposition": "auto",
         "type": "bar",
         "x": [
          "53",
          "58",
          "59",
          "60",
          "65",
          "67",
          "71",
          "72",
          "74",
          "75",
          "78",
          "79",
          "80",
          "81",
          "82",
          "84",
          "88",
          "89",
          "94"
         ],
         "xaxis": "x",
         "y": [
          0.0584200864364308,
          0.002111298688461,
          0.3586688580046635,
          0,
          0.000411030191127,
          7.9176343999e-06,
          0.0018399267129607,
          0.0003464983734688,
          0.0021767839786774,
          0,
          0.0005885184664482,
          0.002669181376763,
          0.0492931707675794,
          0.0352395692894522,
          0.0780352025128817,
          0.0097099911279001,
          0.0089311235943639,
          0.0016433890403723,
          0.0532309381874019
         ],
         "yaxis": "y"
        },
        {
         "alignmentgroup": "True",
         "hovertemplate": "variable=T CD8<br>x=%{x}<br>value=%{y}<extra></extra>",
         "legendgroup": "T CD8",
         "marker": {
          "color": "#ab63fa",
          "pattern": {
           "shape": ""
          }
         },
         "name": "T CD8",
         "offsetgroup": "T CD8",
         "orientation": "v",
         "showlegend": true,
         "textposition": "auto",
         "type": "bar",
         "x": [
          "53",
          "58",
          "59",
          "60",
          "65",
          "67",
          "71",
          "72",
          "74",
          "75",
          "78",
          "79",
          "80",
          "81",
          "82",
          "84",
          "88",
          "89",
          "94"
         ],
         "xaxis": "x",
         "y": [
          0.2868610763556542,
          0.6978894883419458,
          0,
          0.2286763233365423,
          0.3094458588061131,
          0.2836622750589018,
          0.3722972081600842,
          0,
          0.682536444406941,
          0.7425469343637315,
          0,
          0.2520501814640805,
          0.1736674195123753,
          0.2568989814350214,
          0.1417340547628428,
          0.1902981900553844,
          0.137107401724533,
          0.3175221536982008,
          0
         ],
         "yaxis": "y"
        },
        {
         "alignmentgroup": "True",
         "hovertemplate": "variable=NK<br>x=%{x}<br>value=%{y}<extra></extra>",
         "legendgroup": "NK",
         "marker": {
          "color": "#FFA15A",
          "pattern": {
           "shape": ""
          }
         },
         "name": "NK",
         "offsetgroup": "NK",
         "orientation": "v",
         "showlegend": true,
         "textposition": "auto",
         "type": "bar",
         "x": [
          "53",
          "58",
          "59",
          "60",
          "65",
          "67",
          "71",
          "72",
          "74",
          "75",
          "78",
          "79",
          "80",
          "81",
          "82",
          "84",
          "88",
          "89",
          "94"
         ],
         "xaxis": "x",
         "y": [
          0.1640186883267194,
          0.0614120180306722,
          0.0002396904572219,
          0.0845635684819191,
          0.0286708241145532,
          0.0247657073038576,
          0.0251726920204469,
          0.0133749845737646,
          0.0309197588828267,
          0.0707413078564878,
          0,
          0,
          0.0133538763322713,
          0.0259965557558556,
          0.0429688348916862,
          0.0758599528851128,
          0.0377888233698856,
          0.0181666333730314,
          0.0156861919626647
         ],
         "yaxis": "y"
        },
        {
         "alignmentgroup": "True",
         "hovertemplate": "variable=Macrophage<br>x=%{x}<br>value=%{y}<extra></extra>",
         "legendgroup": "Macrophage",
         "marker": {
          "color": "#19d3f3",
          "pattern": {
           "shape": ""
          }
         },
         "name": "Macrophage",
         "offsetgroup": "Macrophage",
         "orientation": "v",
         "showlegend": true,
         "textposition": "auto",
         "type": "bar",
         "x": [
          "53",
          "58",
          "59",
          "60",
          "65",
          "67",
          "71",
          "72",
          "74",
          "75",
          "78",
          "79",
          "80",
          "81",
          "82",
          "84",
          "88",
          "89",
          "94"
         ],
         "xaxis": "x",
         "y": [
          0.0849835870961349,
          0.0140880449923476,
          0.0234618473870675,
          0.0496537739626523,
          0.0279706529322714,
          0.0009146016873162,
          0.0335319501791576,
          0.0047218684112011,
          0.0452683534447101,
          0.0148650936490163,
          0,
          0.0308212951365463,
          0.0044568759204691,
          0.0134388539806819,
          0.0584887912268819,
          0.1460856591566869,
          0.1366071880680985,
          0.0726834440990267,
          0.0307169518730154
         ],
         "yaxis": "y"
        },
        {
         "alignmentgroup": "True",
         "hovertemplate": "variable=T CD4<br>x=%{x}<br>value=%{y}<extra></extra>",
         "legendgroup": "T CD4",
         "marker": {
          "color": "#FF6692",
          "pattern": {
           "shape": ""
          }
         },
         "name": "T CD4",
         "offsetgroup": "T CD4",
         "orientation": "v",
         "showlegend": true,
         "textposition": "auto",
         "type": "bar",
         "x": [
          "53",
          "58",
          "59",
          "60",
          "65",
          "67",
          "71",
          "72",
          "74",
          "75",
          "78",
          "79",
          "80",
          "81",
          "82",
          "84",
          "88",
          "89",
          "94"
         ],
         "xaxis": "x",
         "y": [
          0.3322777493131804,
          0.2140167904089148,
          0.0005532847194665,
          0.1798960084490534,
          0.4858394696110381,
          0.5028934561864835,
          0.1284807305012314,
          0.7300900831698559,
          0.1629558466720696,
          0.1637941836460065,
          0.0001331382422279,
          0.1141256987362645,
          0.2985059849303269,
          0.2653111416035969,
          0.2667448564254194,
          0.3624468413654116,
          0.1791328978724469,
          0.1506321101239495,
          0.4264515951445804
         ],
         "yaxis": "y"
        },
        {
         "alignmentgroup": "True",
         "hovertemplate": "variable=B<br>x=%{x}<br>value=%{y}<extra></extra>",
         "legendgroup": "B",
         "marker": {
          "color": "#B6E880",
          "pattern": {
           "shape": ""
          }
         },
         "name": "B",
         "offsetgroup": "B",
         "orientation": "v",
         "showlegend": true,
         "textposition": "auto",
         "type": "bar",
         "x": [
          "53",
          "58",
          "59",
          "60",
          "65",
          "67",
          "71",
          "72",
          "74",
          "75",
          "78",
          "79",
          "80",
          "81",
          "82",
          "84",
          "88",
          "89",
          "94"
         ],
         "xaxis": "x",
         "y": [
          0,
          0.0104823595376585,
          0,
          0.4351941856417723,
          0.0881224500959384,
          0.1877560421290408,
          0.0001340848700098,
          0.2514665654717094,
          0.0755981730274674,
          0.0017050796607254,
          0.0010367007681918,
          0.052326256159483,
          0.0858695620657847,
          0.0108607469298804,
          0.0218972634943202,
          0.1480894629998258,
          0.0748079806373326,
          0.2435859385620093,
          0.3422374333134579
         ],
         "yaxis": "y"
        }
       ],
       "layout": {
        "autosize": true,
        "barmode": "relative",
        "legend": {
         "title": {
          "text": "variable"
         },
         "tracegroupgap": 0
        },
        "template": {
         "data": {
          "bar": [
           {
            "error_x": {
             "color": "#2a3f5f"
            },
            "error_y": {
             "color": "#2a3f5f"
            },
            "marker": {
             "line": {
              "color": "#E5ECF6",
              "width": 0.5
             },
             "pattern": {
              "fillmode": "overlay",
              "size": 10,
              "solidity": 0.2
             }
            },
            "type": "bar"
           }
          ],
          "barpolar": [
           {
            "marker": {
             "line": {
              "color": "#E5ECF6",
              "width": 0.5
             },
             "pattern": {
              "fillmode": "overlay",
              "size": 10,
              "solidity": 0.2
             }
            },
            "type": "barpolar"
           }
          ],
          "carpet": [
           {
            "aaxis": {
             "endlinecolor": "#2a3f5f",
             "gridcolor": "white",
             "linecolor": "white",
             "minorgridcolor": "white",
             "startlinecolor": "#2a3f5f"
            },
            "baxis": {
             "endlinecolor": "#2a3f5f",
             "gridcolor": "white",
             "linecolor": "white",
             "minorgridcolor": "white",
             "startlinecolor": "#2a3f5f"
            },
            "type": "carpet"
           }
          ],
          "choropleth": [
           {
            "colorbar": {
             "outlinewidth": 0,
             "ticks": ""
            },
            "type": "choropleth"
           }
          ],
          "contour": [
           {
            "colorbar": {
             "outlinewidth": 0,
             "ticks": ""
            },
            "colorscale": [
             [
              0,
              "#0d0887"
             ],
             [
              0.1111111111111111,
              "#46039f"
             ],
             [
              0.2222222222222222,
              "#7201a8"
             ],
             [
              0.3333333333333333,
              "#9c179e"
             ],
             [
              0.4444444444444444,
              "#bd3786"
             ],
             [
              0.5555555555555556,
              "#d8576b"
             ],
             [
              0.6666666666666666,
              "#ed7953"
             ],
             [
              0.7777777777777778,
              "#fb9f3a"
             ],
             [
              0.8888888888888888,
              "#fdca26"
             ],
             [
              1,
              "#f0f921"
             ]
            ],
            "type": "contour"
           }
          ],
          "contourcarpet": [
           {
            "colorbar": {
             "outlinewidth": 0,
             "ticks": ""
            },
            "type": "contourcarpet"
           }
          ],
          "heatmap": [
           {
            "colorbar": {
             "outlinewidth": 0,
             "ticks": ""
            },
            "colorscale": [
             [
              0,
              "#0d0887"
             ],
             [
              0.1111111111111111,
              "#46039f"
             ],
             [
              0.2222222222222222,
              "#7201a8"
             ],
             [
              0.3333333333333333,
              "#9c179e"
             ],
             [
              0.4444444444444444,
              "#bd3786"
             ],
             [
              0.5555555555555556,
              "#d8576b"
             ],
             [
              0.6666666666666666,
              "#ed7953"
             ],
             [
              0.7777777777777778,
              "#fb9f3a"
             ],
             [
              0.8888888888888888,
              "#fdca26"
             ],
             [
              1,
              "#f0f921"
             ]
            ],
            "type": "heatmap"
           }
          ],
          "heatmapgl": [
           {
            "colorbar": {
             "outlinewidth": 0,
             "ticks": ""
            },
            "colorscale": [
             [
              0,
              "#0d0887"
             ],
             [
              0.1111111111111111,
              "#46039f"
             ],
             [
              0.2222222222222222,
              "#7201a8"
             ],
             [
              0.3333333333333333,
              "#9c179e"
             ],
             [
              0.4444444444444444,
              "#bd3786"
             ],
             [
              0.5555555555555556,
              "#d8576b"
             ],
             [
              0.6666666666666666,
              "#ed7953"
             ],
             [
              0.7777777777777778,
              "#fb9f3a"
             ],
             [
              0.8888888888888888,
              "#fdca26"
             ],
             [
              1,
              "#f0f921"
             ]
            ],
            "type": "heatmapgl"
           }
          ],
          "histogram": [
           {
            "marker": {
             "pattern": {
              "fillmode": "overlay",
              "size": 10,
              "solidity": 0.2
             }
            },
            "type": "histogram"
           }
          ],
          "histogram2d": [
           {
            "colorbar": {
             "outlinewidth": 0,
             "ticks": ""
            },
            "colorscale": [
             [
              0,
              "#0d0887"
             ],
             [
              0.1111111111111111,
              "#46039f"
             ],
             [
              0.2222222222222222,
              "#7201a8"
             ],
             [
              0.3333333333333333,
              "#9c179e"
             ],
             [
              0.4444444444444444,
              "#bd3786"
             ],
             [
              0.5555555555555556,
              "#d8576b"
             ],
             [
              0.6666666666666666,
              "#ed7953"
             ],
             [
              0.7777777777777778,
              "#fb9f3a"
             ],
             [
              0.8888888888888888,
              "#fdca26"
             ],
             [
              1,
              "#f0f921"
             ]
            ],
            "type": "histogram2d"
           }
          ],
          "histogram2dcontour": [
           {
            "colorbar": {
             "outlinewidth": 0,
             "ticks": ""
            },
            "colorscale": [
             [
              0,
              "#0d0887"
             ],
             [
              0.1111111111111111,
              "#46039f"
             ],
             [
              0.2222222222222222,
              "#7201a8"
             ],
             [
              0.3333333333333333,
              "#9c179e"
             ],
             [
              0.4444444444444444,
              "#bd3786"
             ],
             [
              0.5555555555555556,
              "#d8576b"
             ],
             [
              0.6666666666666666,
              "#ed7953"
             ],
             [
              0.7777777777777778,
              "#fb9f3a"
             ],
             [
              0.8888888888888888,
              "#fdca26"
             ],
             [
              1,
              "#f0f921"
             ]
            ],
            "type": "histogram2dcontour"
           }
          ],
          "mesh3d": [
           {
            "colorbar": {
             "outlinewidth": 0,
             "ticks": ""
            },
            "type": "mesh3d"
           }
          ],
          "parcoords": [
           {
            "line": {
             "colorbar": {
              "outlinewidth": 0,
              "ticks": ""
             }
            },
            "type": "parcoords"
           }
          ],
          "pie": [
           {
            "automargin": true,
            "type": "pie"
           }
          ],
          "scatter": [
           {
            "marker": {
             "colorbar": {
              "outlinewidth": 0,
              "ticks": ""
             }
            },
            "type": "scatter"
           }
          ],
          "scatter3d": [
           {
            "line": {
             "colorbar": {
              "outlinewidth": 0,
              "ticks": ""
             }
            },
            "marker": {
             "colorbar": {
              "outlinewidth": 0,
              "ticks": ""
             }
            },
            "type": "scatter3d"
           }
          ],
          "scattercarpet": [
           {
            "marker": {
             "colorbar": {
              "outlinewidth": 0,
              "ticks": ""
             }
            },
            "type": "scattercarpet"
           }
          ],
          "scattergeo": [
           {
            "marker": {
             "colorbar": {
              "outlinewidth": 0,
              "ticks": ""
             }
            },
            "type": "scattergeo"
           }
          ],
          "scattergl": [
           {
            "marker": {
             "colorbar": {
              "outlinewidth": 0,
              "ticks": ""
             }
            },
            "type": "scattergl"
           }
          ],
          "scattermapbox": [
           {
            "marker": {
             "colorbar": {
              "outlinewidth": 0,
              "ticks": ""
             }
            },
            "type": "scattermapbox"
           }
          ],
          "scatterpolar": [
           {
            "marker": {
             "colorbar": {
              "outlinewidth": 0,
              "ticks": ""
             }
            },
            "type": "scatterpolar"
           }
          ],
          "scatterpolargl": [
           {
            "marker": {
             "colorbar": {
              "outlinewidth": 0,
              "ticks": ""
             }
            },
            "type": "scatterpolargl"
           }
          ],
          "scatterternary": [
           {
            "marker": {
             "colorbar": {
              "outlinewidth": 0,
              "ticks": ""
             }
            },
            "type": "scatterternary"
           }
          ],
          "surface": [
           {
            "colorbar": {
             "outlinewidth": 0,
             "ticks": ""
            },
            "colorscale": [
             [
              0,
              "#0d0887"
             ],
             [
              0.1111111111111111,
              "#46039f"
             ],
             [
              0.2222222222222222,
              "#7201a8"
             ],
             [
              0.3333333333333333,
              "#9c179e"
             ],
             [
              0.4444444444444444,
              "#bd3786"
             ],
             [
              0.5555555555555556,
              "#d8576b"
             ],
             [
              0.6666666666666666,
              "#ed7953"
             ],
             [
              0.7777777777777778,
              "#fb9f3a"
             ],
             [
              0.8888888888888888,
              "#fdca26"
             ],
             [
              1,
              "#f0f921"
             ]
            ],
            "type": "surface"
           }
          ],
          "table": [
           {
            "cells": {
             "fill": {
              "color": "#EBF0F8"
             },
             "line": {
              "color": "white"
             }
            },
            "header": {
             "fill": {
              "color": "#C8D4E3"
             },
             "line": {
              "color": "white"
             }
            },
            "type": "table"
           }
          ]
         },
         "layout": {
          "annotationdefaults": {
           "arrowcolor": "#2a3f5f",
           "arrowhead": 0,
           "arrowwidth": 1
          },
          "autotypenumbers": "strict",
          "coloraxis": {
           "colorbar": {
            "outlinewidth": 0,
            "ticks": ""
           }
          },
          "colorscale": {
           "diverging": [
            [
             0,
             "#8e0152"
            ],
            [
             0.1,
             "#c51b7d"
            ],
            [
             0.2,
             "#de77ae"
            ],
            [
             0.3,
             "#f1b6da"
            ],
            [
             0.4,
             "#fde0ef"
            ],
            [
             0.5,
             "#f7f7f7"
            ],
            [
             0.6,
             "#e6f5d0"
            ],
            [
             0.7,
             "#b8e186"
            ],
            [
             0.8,
             "#7fbc41"
            ],
            [
             0.9,
             "#4d9221"
            ],
            [
             1,
             "#276419"
            ]
           ],
           "sequential": [
            [
             0,
             "#0d0887"
            ],
            [
             0.1111111111111111,
             "#46039f"
            ],
            [
             0.2222222222222222,
             "#7201a8"
            ],
            [
             0.3333333333333333,
             "#9c179e"
            ],
            [
             0.4444444444444444,
             "#bd3786"
            ],
            [
             0.5555555555555556,
             "#d8576b"
            ],
            [
             0.6666666666666666,
             "#ed7953"
            ],
            [
             0.7777777777777778,
             "#fb9f3a"
            ],
            [
             0.8888888888888888,
             "#fdca26"
            ],
            [
             1,
             "#f0f921"
            ]
           ],
           "sequentialminus": [
            [
             0,
             "#0d0887"
            ],
            [
             0.1111111111111111,
             "#46039f"
            ],
            [
             0.2222222222222222,
             "#7201a8"
            ],
            [
             0.3333333333333333,
             "#9c179e"
            ],
            [
             0.4444444444444444,
             "#bd3786"
            ],
            [
             0.5555555555555556,
             "#d8576b"
            ],
            [
             0.6666666666666666,
             "#ed7953"
            ],
            [
             0.7777777777777778,
             "#fb9f3a"
            ],
            [
             0.8888888888888888,
             "#fdca26"
            ],
            [
             1,
             "#f0f921"
            ]
           ]
          },
          "colorway": [
           "#636efa",
           "#EF553B",
           "#00cc96",
           "#ab63fa",
           "#FFA15A",
           "#19d3f3",
           "#FF6692",
           "#B6E880",
           "#FF97FF",
           "#FECB52"
          ],
          "font": {
           "color": "#2a3f5f"
          },
          "geo": {
           "bgcolor": "white",
           "lakecolor": "white",
           "landcolor": "#E5ECF6",
           "showlakes": true,
           "showland": true,
           "subunitcolor": "white"
          },
          "hoverlabel": {
           "align": "left"
          },
          "hovermode": "closest",
          "mapbox": {
           "style": "light"
          },
          "paper_bgcolor": "white",
          "plot_bgcolor": "#E5ECF6",
          "polar": {
           "angularaxis": {
            "gridcolor": "white",
            "linecolor": "white",
            "ticks": ""
           },
           "bgcolor": "#E5ECF6",
           "radialaxis": {
            "gridcolor": "white",
            "linecolor": "white",
            "ticks": ""
           }
          },
          "scene": {
           "xaxis": {
            "backgroundcolor": "#E5ECF6",
            "gridcolor": "white",
            "gridwidth": 2,
            "linecolor": "white",
            "showbackground": true,
            "ticks": "",
            "zerolinecolor": "white"
           },
           "yaxis": {
            "backgroundcolor": "#E5ECF6",
            "gridcolor": "white",
            "gridwidth": 2,
            "linecolor": "white",
            "showbackground": true,
            "ticks": "",
            "zerolinecolor": "white"
           },
           "zaxis": {
            "backgroundcolor": "#E5ECF6",
            "gridcolor": "white",
            "gridwidth": 2,
            "linecolor": "white",
            "showbackground": true,
            "ticks": "",
            "zerolinecolor": "white"
           }
          },
          "shapedefaults": {
           "line": {
            "color": "#2a3f5f"
           }
          },
          "ternary": {
           "aaxis": {
            "gridcolor": "white",
            "linecolor": "white",
            "ticks": ""
           },
           "baxis": {
            "gridcolor": "white",
            "linecolor": "white",
            "ticks": ""
           },
           "bgcolor": "#E5ECF6",
           "caxis": {
            "gridcolor": "white",
            "linecolor": "white",
            "ticks": ""
           }
          },
          "title": {
           "x": 0.05
          },
          "xaxis": {
           "automargin": true,
           "gridcolor": "white",
           "linecolor": "white",
           "ticks": "",
           "title": {
            "standoff": 15
           },
           "zerolinecolor": "white",
           "zerolinewidth": 2
          },
          "yaxis": {
           "automargin": true,
           "gridcolor": "white",
           "linecolor": "white",
           "ticks": "",
           "title": {
            "standoff": 15
           },
           "zerolinecolor": "white",
           "zerolinewidth": 2
          }
         }
        },
        "title": {
         "text": "Predicted fractions of each mixture"
        },
        "xaxis": {
         "anchor": "y",
         "autorange": true,
         "domain": [
          0,
          1
         ],
         "range": [
          -0.5,
          18.5
         ],
         "title": {
          "text": "x"
         },
         "type": "category"
        },
        "yaxis": {
         "anchor": "x",
         "autorange": true,
         "domain": [
          0,
          1
         ],
         "range": [
          0,
          1.0526315789473684
         ],
         "title": {
          "text": "value"
         },
         "type": "linear"
        }
       }
      },
      "image/png": "[encoded data removed]"
     },
     "metadata": {},
     "output_type": "display_data"
    }
   ],
   "source": [
    "fig = px.bar(\n",
    "    fractions_csx,  # .astype(index={\"mixture_id\": str}),\n",
    "    x=fractions_csx.index.astype(str),\n",
    "    y=fractions_csx.columns,\n",
    "    title=\"Predicted fractions of each mixture\",\n",
    ")\n",
    "\n",
    "fig.show()"
   ]
  },
  {
   "cell_type": "code",
   "execution_count": null,
   "id": "c3af1719-a5cd-4c8c-a60c-a341ee8c1fd9",
   "metadata": {},
   "outputs": [],
   "source": []
  }
 ],
 "metadata": {
  "environment": {
   "name": "tf2-gpu.2-5.m74",
   "type": "gcloud",
   "uri": "gcr.io/deeplearning-platform-release/tf2-gpu.2-5:m74"
  },
  "kernelspec": {
   "display_name": "Python 3",
   "language": "python",
   "name": "python3"
  },
  "language_info": {
   "codemirror_mode": {
    "name": "ipython",
    "version": 3
   },
   "file_extension": ".py",
   "mimetype": "text/x-python",
   "name": "python",
   "nbconvert_exporter": "python",
   "pygments_lexer": "ipython3",
   "version": "3.7.10"
  }
 },
 "nbformat": 4,
 "nbformat_minor": 5
}
